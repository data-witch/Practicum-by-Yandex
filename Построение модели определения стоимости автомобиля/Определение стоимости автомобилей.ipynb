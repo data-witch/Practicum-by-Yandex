{
 "cells": [
  {
   "cell_type": "markdown",
   "metadata": {},
   "source": [
    "# Определение стоимости автомобилей"
   ]
  },
  {
   "cell_type": "markdown",
   "metadata": {},
   "source": [
    "**Описание проекта:**  \n",
    "\n",
    "Сервис по продаже автомобилей с пробегом «Не бит, не крашен» разрабатывает приложение для привлечения новых клиентов. В нём можно быстро узнать рыночную стоимость своего автомобиля. В распоряжении исторические данные: технические характеристики, комплектации и цены автомобилей. Необходимо построить модель для определения стоимости. \n",
    "\n",
    "**Заказчику важны:**\n",
    "\n",
    "- качество предсказания;\n",
    "- скорость предсказания;\n",
    "- время обучения.\n",
    "\n",
    "Для оценки качества моделей будем применять метрику RMSE.\n",
    "\n",
    "**Описание данных**  \n",
    "\n",
    "Данные находятся в файле /datasets/autos.csv.\n",
    "\n",
    "**Признаки**  \n",
    "\n",
    "DateCrawled — дата скачивания анкеты из базы  \n",
    "VehicleType — тип автомобильного кузова  \n",
    "RegistrationYear — год регистрации автомобиля  \n",
    "Gearbox — тип коробки передач  \n",
    "Power — мощность (л. с.)  \n",
    "Model — модель автомобиля  \n",
    "Kilometer — пробег (км)  \n",
    "RegistrationMonth — месяц регистрации автомобиля  \n",
    "FuelType — тип топлива  \n",
    "Brand — марка автомобиля  \n",
    "Repaired — была машина в ремонте или нет  \n",
    "DateCreated — дата создания анкеты  \n",
    "NumberOfPictures — количество фотографий автомобиля   \n",
    "PostalCode — почтовый индекс владельца анкеты (пользователя)  \n",
    "LastSeen — дата последней активности пользователя  \n",
    "\n",
    "**Целевой признак**  \n",
    "\n",
    "Price — цена (евро)\n"
   ]
  },
  {
   "cell_type": "markdown",
   "metadata": {},
   "source": [
    "## Подготовка данных"
   ]
  },
  {
   "cell_type": "markdown",
   "metadata": {},
   "source": [
    "Импортируем все необходимые библиотеки и структуры. Загрузим и изучим данные."
   ]
  },
  {
   "cell_type": "code",
   "execution_count": 1,
   "metadata": {},
   "outputs": [
    {
     "name": "stdout",
     "output_type": "stream",
     "text": [
      "Requirement already satisfied: fast_ml in /opt/conda/lib/python3.9/site-packages (3.68)\r\n"
     ]
    }
   ],
   "source": [
    "!pip install -U fast_ml"
   ]
  },
  {
   "cell_type": "code",
   "execution_count": 2,
   "metadata": {},
   "outputs": [
    {
     "name": "stdout",
     "output_type": "stream",
     "text": [
      "Requirement already satisfied: lightgbm in /opt/conda/lib/python3.9/site-packages (3.3.1)\n",
      "Requirement already satisfied: scikit-learn!=0.22.0 in /opt/conda/lib/python3.9/site-packages (from lightgbm) (0.24.1)\n",
      "Requirement already satisfied: numpy in /opt/conda/lib/python3.9/site-packages (from lightgbm) (1.21.1)\n",
      "Requirement already satisfied: scipy in /opt/conda/lib/python3.9/site-packages (from lightgbm) (1.9.1)\n",
      "Requirement already satisfied: wheel in /opt/conda/lib/python3.9/site-packages (from lightgbm) (0.36.2)\n",
      "Requirement already satisfied: joblib>=0.11 in /opt/conda/lib/python3.9/site-packages (from scikit-learn!=0.22.0->lightgbm) (1.1.0)\n",
      "Requirement already satisfied: threadpoolctl>=2.0.0 in /opt/conda/lib/python3.9/site-packages (from scikit-learn!=0.22.0->lightgbm) (3.1.0)\n"
     ]
    }
   ],
   "source": [
    "!pip install lightgbm"
   ]
  },
  {
   "cell_type": "code",
   "execution_count": 3,
   "metadata": {},
   "outputs": [],
   "source": [
    "import pandas as pd\n",
    "import numpy as np\n",
    "from datetime import datetime, date, time\n",
    "import seaborn as sns\n",
    "import matplotlib.pyplot as plt\n",
    "from fast_ml.model_development import train_valid_test_split\n",
    "from sklearn.linear_model import LinearRegression\n",
    "from catboost import CatBoostRegressor\n",
    "from catboost import Pool, cv\n",
    "from sklearn.ensemble import RandomForestRegressor\n",
    "from sklearn.metrics import make_scorer, mean_squared_error\n",
    "from sklearn.model_selection import GridSearchCV, cross_val_score\n",
    "from lightgbm import LGBMRegressor\n",
    "from sklearn.dummy import DummyRegressor\n",
    "from sklearn.preprocessing import OrdinalEncoder"
   ]
  },
  {
   "cell_type": "code",
   "execution_count": 4,
   "metadata": {},
   "outputs": [],
   "source": [
    "autos = pd.read_csv('/datasets/autos.csv')"
   ]
  },
  {
   "cell_type": "code",
   "execution_count": 5,
   "metadata": {
    "scrolled": false
   },
   "outputs": [
    {
     "name": "stdout",
     "output_type": "stream",
     "text": [
      "Общая информация о данных\n",
      "\n",
      "<class 'pandas.core.frame.DataFrame'>\n",
      "RangeIndex: 354369 entries, 0 to 354368\n",
      "Data columns (total 16 columns):\n",
      " #   Column             Non-Null Count   Dtype \n",
      "---  ------             --------------   ----- \n",
      " 0   DateCrawled        354369 non-null  object\n",
      " 1   Price              354369 non-null  int64 \n",
      " 2   VehicleType        316879 non-null  object\n",
      " 3   RegistrationYear   354369 non-null  int64 \n",
      " 4   Gearbox            334536 non-null  object\n",
      " 5   Power              354369 non-null  int64 \n",
      " 6   Model              334664 non-null  object\n",
      " 7   Kilometer          354369 non-null  int64 \n",
      " 8   RegistrationMonth  354369 non-null  int64 \n",
      " 9   FuelType           321474 non-null  object\n",
      " 10  Brand              354369 non-null  object\n",
      " 11  Repaired           283215 non-null  object\n",
      " 12  DateCreated        354369 non-null  object\n",
      " 13  NumberOfPictures   354369 non-null  int64 \n",
      " 14  PostalCode         354369 non-null  int64 \n",
      " 15  LastSeen           354369 non-null  object\n",
      "dtypes: int64(7), object(9)\n",
      "memory usage: 43.3+ MB\n",
      "\n",
      "Числовое описание данных\n",
      "               Price  RegistrationYear          Power      Kilometer  \\\n",
      "count  354369.000000     354369.000000  354369.000000  354369.000000   \n",
      "mean     4416.656776       2004.234448     110.094337  128211.172535   \n",
      "std      4514.158514         90.227958     189.850405   37905.341530   \n",
      "min         0.000000       1000.000000       0.000000    5000.000000   \n",
      "25%      1050.000000       1999.000000      69.000000  125000.000000   \n",
      "50%      2700.000000       2003.000000     105.000000  150000.000000   \n",
      "75%      6400.000000       2008.000000     143.000000  150000.000000   \n",
      "max     20000.000000       9999.000000   20000.000000  150000.000000   \n",
      "\n",
      "       RegistrationMonth  NumberOfPictures     PostalCode  \n",
      "count      354369.000000          354369.0  354369.000000  \n",
      "mean            5.714645               0.0   50508.689087  \n",
      "std             3.726421               0.0   25783.096248  \n",
      "min             0.000000               0.0    1067.000000  \n",
      "25%             3.000000               0.0   30165.000000  \n",
      "50%             6.000000               0.0   49413.000000  \n",
      "75%             9.000000               0.0   71083.000000  \n",
      "max            12.000000               0.0   99998.000000  \n",
      "\n",
      "Наличие пропусков\n",
      "DateCrawled              0\n",
      "Price                    0\n",
      "VehicleType          37490\n",
      "RegistrationYear         0\n",
      "Gearbox              19833\n",
      "Power                    0\n",
      "Model                19705\n",
      "Kilometer                0\n",
      "RegistrationMonth        0\n",
      "FuelType             32895\n",
      "Brand                    0\n",
      "Repaired             71154\n",
      "DateCreated              0\n",
      "NumberOfPictures         0\n",
      "PostalCode               0\n",
      "LastSeen                 0\n",
      "dtype: int64\n",
      "\n",
      "Наличие дубликатов\n",
      "4\n",
      "\n",
      "Представление данных\n"
     ]
    },
    {
     "data": {
      "text/html": [
       "<div>\n",
       "<style scoped>\n",
       "    .dataframe tbody tr th:only-of-type {\n",
       "        vertical-align: middle;\n",
       "    }\n",
       "\n",
       "    .dataframe tbody tr th {\n",
       "        vertical-align: top;\n",
       "    }\n",
       "\n",
       "    .dataframe thead th {\n",
       "        text-align: right;\n",
       "    }\n",
       "</style>\n",
       "<table border=\"1\" class=\"dataframe\">\n",
       "  <thead>\n",
       "    <tr style=\"text-align: right;\">\n",
       "      <th></th>\n",
       "      <th>DateCrawled</th>\n",
       "      <th>Price</th>\n",
       "      <th>VehicleType</th>\n",
       "      <th>RegistrationYear</th>\n",
       "      <th>Gearbox</th>\n",
       "      <th>Power</th>\n",
       "      <th>Model</th>\n",
       "      <th>Kilometer</th>\n",
       "      <th>RegistrationMonth</th>\n",
       "      <th>FuelType</th>\n",
       "      <th>Brand</th>\n",
       "      <th>Repaired</th>\n",
       "      <th>DateCreated</th>\n",
       "      <th>NumberOfPictures</th>\n",
       "      <th>PostalCode</th>\n",
       "      <th>LastSeen</th>\n",
       "    </tr>\n",
       "  </thead>\n",
       "  <tbody>\n",
       "    <tr>\n",
       "      <th>0</th>\n",
       "      <td>2016-03-24 11:52:17</td>\n",
       "      <td>480</td>\n",
       "      <td>NaN</td>\n",
       "      <td>1993</td>\n",
       "      <td>manual</td>\n",
       "      <td>0</td>\n",
       "      <td>golf</td>\n",
       "      <td>150000</td>\n",
       "      <td>0</td>\n",
       "      <td>petrol</td>\n",
       "      <td>volkswagen</td>\n",
       "      <td>NaN</td>\n",
       "      <td>2016-03-24 00:00:00</td>\n",
       "      <td>0</td>\n",
       "      <td>70435</td>\n",
       "      <td>2016-04-07 03:16:57</td>\n",
       "    </tr>\n",
       "    <tr>\n",
       "      <th>1</th>\n",
       "      <td>2016-03-24 10:58:45</td>\n",
       "      <td>18300</td>\n",
       "      <td>coupe</td>\n",
       "      <td>2011</td>\n",
       "      <td>manual</td>\n",
       "      <td>190</td>\n",
       "      <td>NaN</td>\n",
       "      <td>125000</td>\n",
       "      <td>5</td>\n",
       "      <td>gasoline</td>\n",
       "      <td>audi</td>\n",
       "      <td>yes</td>\n",
       "      <td>2016-03-24 00:00:00</td>\n",
       "      <td>0</td>\n",
       "      <td>66954</td>\n",
       "      <td>2016-04-07 01:46:50</td>\n",
       "    </tr>\n",
       "    <tr>\n",
       "      <th>2</th>\n",
       "      <td>2016-03-14 12:52:21</td>\n",
       "      <td>9800</td>\n",
       "      <td>suv</td>\n",
       "      <td>2004</td>\n",
       "      <td>auto</td>\n",
       "      <td>163</td>\n",
       "      <td>grand</td>\n",
       "      <td>125000</td>\n",
       "      <td>8</td>\n",
       "      <td>gasoline</td>\n",
       "      <td>jeep</td>\n",
       "      <td>NaN</td>\n",
       "      <td>2016-03-14 00:00:00</td>\n",
       "      <td>0</td>\n",
       "      <td>90480</td>\n",
       "      <td>2016-04-05 12:47:46</td>\n",
       "    </tr>\n",
       "    <tr>\n",
       "      <th>3</th>\n",
       "      <td>2016-03-17 16:54:04</td>\n",
       "      <td>1500</td>\n",
       "      <td>small</td>\n",
       "      <td>2001</td>\n",
       "      <td>manual</td>\n",
       "      <td>75</td>\n",
       "      <td>golf</td>\n",
       "      <td>150000</td>\n",
       "      <td>6</td>\n",
       "      <td>petrol</td>\n",
       "      <td>volkswagen</td>\n",
       "      <td>no</td>\n",
       "      <td>2016-03-17 00:00:00</td>\n",
       "      <td>0</td>\n",
       "      <td>91074</td>\n",
       "      <td>2016-03-17 17:40:17</td>\n",
       "    </tr>\n",
       "    <tr>\n",
       "      <th>4</th>\n",
       "      <td>2016-03-31 17:25:20</td>\n",
       "      <td>3600</td>\n",
       "      <td>small</td>\n",
       "      <td>2008</td>\n",
       "      <td>manual</td>\n",
       "      <td>69</td>\n",
       "      <td>fabia</td>\n",
       "      <td>90000</td>\n",
       "      <td>7</td>\n",
       "      <td>gasoline</td>\n",
       "      <td>skoda</td>\n",
       "      <td>no</td>\n",
       "      <td>2016-03-31 00:00:00</td>\n",
       "      <td>0</td>\n",
       "      <td>60437</td>\n",
       "      <td>2016-04-06 10:17:21</td>\n",
       "    </tr>\n",
       "    <tr>\n",
       "      <th>...</th>\n",
       "      <td>...</td>\n",
       "      <td>...</td>\n",
       "      <td>...</td>\n",
       "      <td>...</td>\n",
       "      <td>...</td>\n",
       "      <td>...</td>\n",
       "      <td>...</td>\n",
       "      <td>...</td>\n",
       "      <td>...</td>\n",
       "      <td>...</td>\n",
       "      <td>...</td>\n",
       "      <td>...</td>\n",
       "      <td>...</td>\n",
       "      <td>...</td>\n",
       "      <td>...</td>\n",
       "      <td>...</td>\n",
       "    </tr>\n",
       "    <tr>\n",
       "      <th>354364</th>\n",
       "      <td>2016-03-21 09:50:58</td>\n",
       "      <td>0</td>\n",
       "      <td>NaN</td>\n",
       "      <td>2005</td>\n",
       "      <td>manual</td>\n",
       "      <td>0</td>\n",
       "      <td>colt</td>\n",
       "      <td>150000</td>\n",
       "      <td>7</td>\n",
       "      <td>petrol</td>\n",
       "      <td>mitsubishi</td>\n",
       "      <td>yes</td>\n",
       "      <td>2016-03-21 00:00:00</td>\n",
       "      <td>0</td>\n",
       "      <td>2694</td>\n",
       "      <td>2016-03-21 10:42:49</td>\n",
       "    </tr>\n",
       "    <tr>\n",
       "      <th>354365</th>\n",
       "      <td>2016-03-14 17:48:27</td>\n",
       "      <td>2200</td>\n",
       "      <td>NaN</td>\n",
       "      <td>2005</td>\n",
       "      <td>NaN</td>\n",
       "      <td>0</td>\n",
       "      <td>NaN</td>\n",
       "      <td>20000</td>\n",
       "      <td>1</td>\n",
       "      <td>NaN</td>\n",
       "      <td>sonstige_autos</td>\n",
       "      <td>NaN</td>\n",
       "      <td>2016-03-14 00:00:00</td>\n",
       "      <td>0</td>\n",
       "      <td>39576</td>\n",
       "      <td>2016-04-06 00:46:52</td>\n",
       "    </tr>\n",
       "    <tr>\n",
       "      <th>354366</th>\n",
       "      <td>2016-03-05 19:56:21</td>\n",
       "      <td>1199</td>\n",
       "      <td>convertible</td>\n",
       "      <td>2000</td>\n",
       "      <td>auto</td>\n",
       "      <td>101</td>\n",
       "      <td>fortwo</td>\n",
       "      <td>125000</td>\n",
       "      <td>3</td>\n",
       "      <td>petrol</td>\n",
       "      <td>smart</td>\n",
       "      <td>no</td>\n",
       "      <td>2016-03-05 00:00:00</td>\n",
       "      <td>0</td>\n",
       "      <td>26135</td>\n",
       "      <td>2016-03-11 18:17:12</td>\n",
       "    </tr>\n",
       "    <tr>\n",
       "      <th>354367</th>\n",
       "      <td>2016-03-19 18:57:12</td>\n",
       "      <td>9200</td>\n",
       "      <td>bus</td>\n",
       "      <td>1996</td>\n",
       "      <td>manual</td>\n",
       "      <td>102</td>\n",
       "      <td>transporter</td>\n",
       "      <td>150000</td>\n",
       "      <td>3</td>\n",
       "      <td>gasoline</td>\n",
       "      <td>volkswagen</td>\n",
       "      <td>no</td>\n",
       "      <td>2016-03-19 00:00:00</td>\n",
       "      <td>0</td>\n",
       "      <td>87439</td>\n",
       "      <td>2016-04-07 07:15:26</td>\n",
       "    </tr>\n",
       "    <tr>\n",
       "      <th>354368</th>\n",
       "      <td>2016-03-20 19:41:08</td>\n",
       "      <td>3400</td>\n",
       "      <td>wagon</td>\n",
       "      <td>2002</td>\n",
       "      <td>manual</td>\n",
       "      <td>100</td>\n",
       "      <td>golf</td>\n",
       "      <td>150000</td>\n",
       "      <td>6</td>\n",
       "      <td>gasoline</td>\n",
       "      <td>volkswagen</td>\n",
       "      <td>NaN</td>\n",
       "      <td>2016-03-20 00:00:00</td>\n",
       "      <td>0</td>\n",
       "      <td>40764</td>\n",
       "      <td>2016-03-24 12:45:21</td>\n",
       "    </tr>\n",
       "  </tbody>\n",
       "</table>\n",
       "<p>354369 rows × 16 columns</p>\n",
       "</div>"
      ],
      "text/plain": [
       "                DateCrawled  Price  VehicleType  RegistrationYear Gearbox  \\\n",
       "0       2016-03-24 11:52:17    480          NaN              1993  manual   \n",
       "1       2016-03-24 10:58:45  18300        coupe              2011  manual   \n",
       "2       2016-03-14 12:52:21   9800          suv              2004    auto   \n",
       "3       2016-03-17 16:54:04   1500        small              2001  manual   \n",
       "4       2016-03-31 17:25:20   3600        small              2008  manual   \n",
       "...                     ...    ...          ...               ...     ...   \n",
       "354364  2016-03-21 09:50:58      0          NaN              2005  manual   \n",
       "354365  2016-03-14 17:48:27   2200          NaN              2005     NaN   \n",
       "354366  2016-03-05 19:56:21   1199  convertible              2000    auto   \n",
       "354367  2016-03-19 18:57:12   9200          bus              1996  manual   \n",
       "354368  2016-03-20 19:41:08   3400        wagon              2002  manual   \n",
       "\n",
       "        Power        Model  Kilometer  RegistrationMonth  FuelType  \\\n",
       "0           0         golf     150000                  0    petrol   \n",
       "1         190          NaN     125000                  5  gasoline   \n",
       "2         163        grand     125000                  8  gasoline   \n",
       "3          75         golf     150000                  6    petrol   \n",
       "4          69        fabia      90000                  7  gasoline   \n",
       "...       ...          ...        ...                ...       ...   \n",
       "354364      0         colt     150000                  7    petrol   \n",
       "354365      0          NaN      20000                  1       NaN   \n",
       "354366    101       fortwo     125000                  3    petrol   \n",
       "354367    102  transporter     150000                  3  gasoline   \n",
       "354368    100         golf     150000                  6  gasoline   \n",
       "\n",
       "                 Brand Repaired          DateCreated  NumberOfPictures  \\\n",
       "0           volkswagen      NaN  2016-03-24 00:00:00                 0   \n",
       "1                 audi      yes  2016-03-24 00:00:00                 0   \n",
       "2                 jeep      NaN  2016-03-14 00:00:00                 0   \n",
       "3           volkswagen       no  2016-03-17 00:00:00                 0   \n",
       "4                skoda       no  2016-03-31 00:00:00                 0   \n",
       "...                ...      ...                  ...               ...   \n",
       "354364      mitsubishi      yes  2016-03-21 00:00:00                 0   \n",
       "354365  sonstige_autos      NaN  2016-03-14 00:00:00                 0   \n",
       "354366           smart       no  2016-03-05 00:00:00                 0   \n",
       "354367      volkswagen       no  2016-03-19 00:00:00                 0   \n",
       "354368      volkswagen      NaN  2016-03-20 00:00:00                 0   \n",
       "\n",
       "        PostalCode             LastSeen  \n",
       "0            70435  2016-04-07 03:16:57  \n",
       "1            66954  2016-04-07 01:46:50  \n",
       "2            90480  2016-04-05 12:47:46  \n",
       "3            91074  2016-03-17 17:40:17  \n",
       "4            60437  2016-04-06 10:17:21  \n",
       "...            ...                  ...  \n",
       "354364        2694  2016-03-21 10:42:49  \n",
       "354365       39576  2016-04-06 00:46:52  \n",
       "354366       26135  2016-03-11 18:17:12  \n",
       "354367       87439  2016-04-07 07:15:26  \n",
       "354368       40764  2016-03-24 12:45:21  \n",
       "\n",
       "[354369 rows x 16 columns]"
      ]
     },
     "metadata": {},
     "output_type": "display_data"
    }
   ],
   "source": [
    "print('Общая информация о данных')\n",
    "print()\n",
    "autos.info()\n",
    "print()\n",
    "print('Числовое описание данных')\n",
    "print(autos.describe())\n",
    "print()\n",
    "print('Наличие пропусков')\n",
    "print(autos.isnull().sum())\n",
    "print()\n",
    "print('Наличие дубликатов')\n",
    "print(autos.duplicated().sum())\n",
    "print()\n",
    "print('Представление данных')\n",
    "display(autos)"
   ]
  },
  {
   "cell_type": "markdown",
   "metadata": {},
   "source": [
    "Выполним предобработку данных."
   ]
  },
  {
   "cell_type": "code",
   "execution_count": 6,
   "metadata": {},
   "outputs": [],
   "source": [
    "autos.columns = autos.columns.str.lower()"
   ]
  },
  {
   "cell_type": "code",
   "execution_count": 7,
   "metadata": {},
   "outputs": [
    {
     "data": {
      "text/plain": [
       "Index(['datecrawled', 'price', 'vehicletype', 'registrationyear', 'gearbox',\n",
       "       'power', 'model', 'kilometer', 'registrationmonth', 'fueltype', 'brand',\n",
       "       'repaired', 'datecreated', 'numberofpictures', 'postalcode',\n",
       "       'lastseen'],\n",
       "      dtype='object')"
      ]
     },
     "execution_count": 7,
     "metadata": {},
     "output_type": "execute_result"
    }
   ],
   "source": [
    "autos.columns"
   ]
  },
  {
   "cell_type": "markdown",
   "metadata": {},
   "source": [
    "Перейдем к дубликатам, посмотрим на них и решим стоит ли их удалять."
   ]
  },
  {
   "cell_type": "code",
   "execution_count": 8,
   "metadata": {},
   "outputs": [
    {
     "data": {
      "text/html": [
       "<div>\n",
       "<style scoped>\n",
       "    .dataframe tbody tr th:only-of-type {\n",
       "        vertical-align: middle;\n",
       "    }\n",
       "\n",
       "    .dataframe tbody tr th {\n",
       "        vertical-align: top;\n",
       "    }\n",
       "\n",
       "    .dataframe thead th {\n",
       "        text-align: right;\n",
       "    }\n",
       "</style>\n",
       "<table border=\"1\" class=\"dataframe\">\n",
       "  <thead>\n",
       "    <tr style=\"text-align: right;\">\n",
       "      <th></th>\n",
       "      <th>price</th>\n",
       "      <th>vehicletype</th>\n",
       "      <th>registrationyear</th>\n",
       "      <th>power</th>\n",
       "      <th>model</th>\n",
       "      <th>kilometer</th>\n",
       "      <th>fueltype</th>\n",
       "      <th>brand</th>\n",
       "      <th>postalcode</th>\n",
       "    </tr>\n",
       "  </thead>\n",
       "  <tbody>\n",
       "    <tr>\n",
       "      <th>1017</th>\n",
       "      <td>500</td>\n",
       "      <td>small</td>\n",
       "      <td>1996</td>\n",
       "      <td>45</td>\n",
       "      <td>corsa</td>\n",
       "      <td>70000</td>\n",
       "      <td>petrol</td>\n",
       "      <td>opel</td>\n",
       "      <td>8496</td>\n",
       "    </tr>\n",
       "    <tr>\n",
       "      <th>1051</th>\n",
       "      <td>11890</td>\n",
       "      <td>bus</td>\n",
       "      <td>2011</td>\n",
       "      <td>116</td>\n",
       "      <td>c_max</td>\n",
       "      <td>150000</td>\n",
       "      <td>gasoline</td>\n",
       "      <td>ford</td>\n",
       "      <td>97737</td>\n",
       "    </tr>\n",
       "    <tr>\n",
       "      <th>2169</th>\n",
       "      <td>0</td>\n",
       "      <td>coupe</td>\n",
       "      <td>2002</td>\n",
       "      <td>129</td>\n",
       "      <td>c_klasse</td>\n",
       "      <td>150000</td>\n",
       "      <td>petrol</td>\n",
       "      <td>mercedes_benz</td>\n",
       "      <td>33813</td>\n",
       "    </tr>\n",
       "    <tr>\n",
       "      <th>3551</th>\n",
       "      <td>1670</td>\n",
       "      <td>sedan</td>\n",
       "      <td>1999</td>\n",
       "      <td>75</td>\n",
       "      <td>golf</td>\n",
       "      <td>150000</td>\n",
       "      <td>petrol</td>\n",
       "      <td>volkswagen</td>\n",
       "      <td>52388</td>\n",
       "    </tr>\n",
       "    <tr>\n",
       "      <th>3786</th>\n",
       "      <td>2999</td>\n",
       "      <td>sedan</td>\n",
       "      <td>2002</td>\n",
       "      <td>101</td>\n",
       "      <td>golf</td>\n",
       "      <td>150000</td>\n",
       "      <td>gasoline</td>\n",
       "      <td>volkswagen</td>\n",
       "      <td>32756</td>\n",
       "    </tr>\n",
       "  </tbody>\n",
       "</table>\n",
       "</div>"
      ],
      "text/plain": [
       "      price vehicletype  registrationyear  power     model  kilometer  \\\n",
       "1017    500       small              1996     45     corsa      70000   \n",
       "1051  11890         bus              2011    116     c_max     150000   \n",
       "2169      0       coupe              2002    129  c_klasse     150000   \n",
       "3551   1670       sedan              1999     75      golf     150000   \n",
       "3786   2999       sedan              2002    101      golf     150000   \n",
       "\n",
       "      fueltype          brand  postalcode  \n",
       "1017    petrol           opel        8496  \n",
       "1051  gasoline           ford       97737  \n",
       "2169    petrol  mercedes_benz       33813  \n",
       "3551    petrol     volkswagen       52388  \n",
       "3786  gasoline     volkswagen       32756  "
      ]
     },
     "execution_count": 8,
     "metadata": {},
     "output_type": "execute_result"
    }
   ],
   "source": [
    "duplicated_autos = autos.drop(['datecrawled', 'datecreated', 'lastseen', \n",
    "                               'registrationmonth', 'gearbox', 'repaired', 'numberofpictures'], axis=1)\n",
    "duplicated_autos[duplicated_autos.duplicated()].head()"
   ]
  },
  {
   "cell_type": "markdown",
   "metadata": {},
   "source": [
    "Не понятно почему duplicated() выдает наличие 4 дубликатов, визуально данные в этих строках трудно назвать дубликатами. Оставим как есть."
   ]
  },
  {
   "cell_type": "markdown",
   "metadata": {},
   "source": [
    "Приведем даты к формату datetime. Позже выяснилось, что даты совсем не пригодились в проекте, кроме того как посмотреть период публикации объявлений."
   ]
  },
  {
   "cell_type": "code",
   "execution_count": 9,
   "metadata": {},
   "outputs": [],
   "source": [
    "autos['datecrawled'] = pd.to_datetime(autos['datecrawled'], format='%Y-%m-%dT%H:%M:%S')\n",
    "autos['lastseen'] = pd.to_datetime(autos['lastseen'], format='%Y-%m-%dT%H:%M:%S')\n",
    "autos['datecreated'] = pd.to_datetime(autos['datecreated'], format='%Y-%m-%dT%H:%M:%S')"
   ]
  },
  {
   "cell_type": "markdown",
   "metadata": {},
   "source": [
    "Перейдем к пропущенным значениям"
   ]
  },
  {
   "cell_type": "code",
   "execution_count": 10,
   "metadata": {},
   "outputs": [
    {
     "data": {
      "text/plain": [
       "array([nan, 'yes', 'no'], dtype=object)"
      ]
     },
     "execution_count": 10,
     "metadata": {},
     "output_type": "execute_result"
    }
   ],
   "source": [
    "autos['repaired'].unique()"
   ]
  },
  {
   "cell_type": "code",
   "execution_count": 11,
   "metadata": {},
   "outputs": [],
   "source": [
    "autos['repaired'] = autos['repaired'].fillna('unknown')"
   ]
  },
  {
   "cell_type": "markdown",
   "metadata": {},
   "source": [
    "Заполнили пропуски в 'repaired' значением 'unknown', поскольку достоверное нельзя сказать был автомобиль в ремонте или нет."
   ]
  },
  {
   "cell_type": "code",
   "execution_count": 12,
   "metadata": {},
   "outputs": [
    {
     "data": {
      "text/plain": [
       "array(['golf', nan, 'grand', 'fabia', '3er', '2_reihe', 'other', 'c_max',\n",
       "       '3_reihe', 'passat', 'navara', 'ka', 'polo', 'twingo', 'a_klasse',\n",
       "       'scirocco', '5er', 'meriva', 'arosa', 'c4', 'civic', 'transporter',\n",
       "       'punto', 'e_klasse', 'clio', 'kadett', 'kangoo', 'corsa', 'one',\n",
       "       'fortwo', '1er', 'b_klasse', 'signum', 'astra', 'a8', 'jetta',\n",
       "       'fiesta', 'c_klasse', 'micra', 'vito', 'sprinter', '156', 'escort',\n",
       "       'forester', 'xc_reihe', 'scenic', 'a4', 'a1', 'insignia', 'combo',\n",
       "       'focus', 'tt', 'a6', 'jazz', 'omega', 'slk', '7er', '80', '147',\n",
       "       '100', 'z_reihe', 'sportage', 'sorento', 'v40', 'ibiza', 'mustang',\n",
       "       'eos', 'touran', 'getz', 'a3', 'almera', 'megane', 'lupo', 'r19',\n",
       "       'zafira', 'caddy', 'mondeo', 'cordoba', 'colt', 'impreza',\n",
       "       'vectra', 'berlingo', 'tiguan', 'i_reihe', 'espace', 'sharan',\n",
       "       '6_reihe', 'panda', 'up', 'seicento', 'ceed', '5_reihe', 'yeti',\n",
       "       'octavia', 'mii', 'rx_reihe', '6er', 'modus', 'fox', 'matiz',\n",
       "       'beetle', 'c1', 'rio', 'touareg', 'logan', 'spider', 'cuore',\n",
       "       's_max', 'a2', 'galaxy', 'c3', 'viano', 's_klasse', '1_reihe',\n",
       "       'avensis', 'roomster', 'sl', 'kaefer', 'santa', 'cooper', 'leon',\n",
       "       '4_reihe', 'a5', '500', 'laguna', 'ptcruiser', 'clk', 'primera',\n",
       "       'x_reihe', 'exeo', '159', 'transit', 'juke', 'qashqai', 'carisma',\n",
       "       'accord', 'corolla', 'lanos', 'phaeton', 'verso', 'swift', 'rav',\n",
       "       'picanto', 'boxster', 'kalos', 'superb', 'stilo', 'alhambra',\n",
       "       'mx_reihe', 'roadster', 'ypsilon', 'cayenne', 'galant', 'justy',\n",
       "       '90', 'sirion', 'crossfire', 'agila', 'duster', 'cr_reihe', 'v50',\n",
       "       'c_reihe', 'v_klasse', 'm_klasse', 'yaris', 'c5', 'aygo', 'cc',\n",
       "       'carnival', 'fusion', '911', 'bora', 'forfour', 'm_reihe', 'cl',\n",
       "       'tigra', '300c', 'spark', 'v70', 'kuga', 'x_type', 'ducato',\n",
       "       's_type', 'x_trail', 'toledo', 'altea', 'voyager', 'calibra',\n",
       "       'bravo', 'antara', 'tucson', 'citigo', 'jimny', 'wrangler',\n",
       "       'lybra', 'q7', 'lancer', 'captiva', 'c2', 'discovery',\n",
       "       'freelander', 'sandero', 'note', '900', 'cherokee', 'clubman',\n",
       "       'samara', 'defender', '601', 'cx_reihe', 'legacy', 'pajero',\n",
       "       'auris', 'niva', 's60', 'nubira', 'vivaro', 'g_klasse', 'lodgy',\n",
       "       '850', 'range_rover', 'q3', 'serie_2', 'glk', 'charade', 'croma',\n",
       "       'outlander', 'doblo', 'musa', 'move', '9000', 'v60', '145', 'aveo',\n",
       "       '200', 'b_max', 'range_rover_sport', 'terios', 'rangerover', 'q5',\n",
       "       'range_rover_evoque', 'materia', 'delta', 'gl', 'kalina', 'amarok',\n",
       "       'elefantino', 'i3', 'kappa', 'serie_3', 'serie_1'], dtype=object)"
      ]
     },
     "execution_count": 12,
     "metadata": {},
     "output_type": "execute_result"
    }
   ],
   "source": [
    "autos['model'].unique()"
   ]
  },
  {
   "cell_type": "code",
   "execution_count": 13,
   "metadata": {},
   "outputs": [],
   "source": [
    "autos['model'] = autos['model'].fillna('other') "
   ]
  },
  {
   "cell_type": "markdown",
   "metadata": {},
   "source": [
    "Заполнили пропуски в 'model' значением 'other', поскольку такое значение уже есть в списке."
   ]
  },
  {
   "cell_type": "code",
   "execution_count": 14,
   "metadata": {},
   "outputs": [
    {
     "data": {
      "text/plain": [
       "array(['manual', 'auto', nan], dtype=object)"
      ]
     },
     "execution_count": 14,
     "metadata": {},
     "output_type": "execute_result"
    }
   ],
   "source": [
    "autos['gearbox'].unique()"
   ]
  },
  {
   "cell_type": "code",
   "execution_count": 15,
   "metadata": {},
   "outputs": [],
   "source": [
    "autos['gearbox'] = autos['gearbox'].fillna('unknown')"
   ]
  },
  {
   "cell_type": "markdown",
   "metadata": {},
   "source": [
    "Заполнили пропуски в 'gearbox' значением 'unknown'."
   ]
  },
  {
   "cell_type": "code",
   "execution_count": 16,
   "metadata": {},
   "outputs": [
    {
     "data": {
      "text/plain": [
       "array([nan, 'coupe', 'suv', 'small', 'sedan', 'convertible', 'bus',\n",
       "       'wagon', 'other'], dtype=object)"
      ]
     },
     "execution_count": 16,
     "metadata": {},
     "output_type": "execute_result"
    }
   ],
   "source": [
    "autos['vehicletype'].unique()"
   ]
  },
  {
   "cell_type": "code",
   "execution_count": 17,
   "metadata": {},
   "outputs": [],
   "source": [
    "autos['vehicletype'] = autos['vehicletype'].fillna(autos['vehicletype'].mode().values[0])"
   ]
  },
  {
   "cell_type": "markdown",
   "metadata": {},
   "source": [
    "Заполнили пропуски 'vehicletype' модой."
   ]
  },
  {
   "cell_type": "code",
   "execution_count": 18,
   "metadata": {},
   "outputs": [
    {
     "data": {
      "text/plain": [
       "array(['petrol', 'gasoline', nan, 'lpg', 'other', 'hybrid', 'cng',\n",
       "       'electric'], dtype=object)"
      ]
     },
     "execution_count": 18,
     "metadata": {},
     "output_type": "execute_result"
    }
   ],
   "source": [
    "autos['fueltype'].unique()"
   ]
  },
  {
   "cell_type": "code",
   "execution_count": 19,
   "metadata": {},
   "outputs": [],
   "source": [
    "autos['fueltype'] = autos['fueltype'].fillna(autos['fueltype'].mode().values[0])"
   ]
  },
  {
   "cell_type": "markdown",
   "metadata": {},
   "source": [
    "Заполнили пропуски 'fueltype' модой."
   ]
  },
  {
   "cell_type": "code",
   "execution_count": 20,
   "metadata": {},
   "outputs": [
    {
     "data": {
      "text/html": [
       "<div>\n",
       "<style scoped>\n",
       "    .dataframe tbody tr th:only-of-type {\n",
       "        vertical-align: middle;\n",
       "    }\n",
       "\n",
       "    .dataframe tbody tr th {\n",
       "        vertical-align: top;\n",
       "    }\n",
       "\n",
       "    .dataframe thead th {\n",
       "        text-align: right;\n",
       "    }\n",
       "</style>\n",
       "<table border=\"1\" class=\"dataframe\">\n",
       "  <thead>\n",
       "    <tr style=\"text-align: right;\">\n",
       "      <th></th>\n",
       "      <th>price</th>\n",
       "      <th>registrationyear</th>\n",
       "      <th>power</th>\n",
       "      <th>kilometer</th>\n",
       "      <th>registrationmonth</th>\n",
       "      <th>numberofpictures</th>\n",
       "      <th>postalcode</th>\n",
       "    </tr>\n",
       "  </thead>\n",
       "  <tbody>\n",
       "    <tr>\n",
       "      <th>price</th>\n",
       "      <td>1.000000</td>\n",
       "      <td>0.026916</td>\n",
       "      <td>0.158872</td>\n",
       "      <td>-0.333199</td>\n",
       "      <td>0.110581</td>\n",
       "      <td>NaN</td>\n",
       "      <td>0.076055</td>\n",
       "    </tr>\n",
       "    <tr>\n",
       "      <th>registrationyear</th>\n",
       "      <td>0.026916</td>\n",
       "      <td>1.000000</td>\n",
       "      <td>-0.000828</td>\n",
       "      <td>-0.053447</td>\n",
       "      <td>-0.011619</td>\n",
       "      <td>NaN</td>\n",
       "      <td>-0.003459</td>\n",
       "    </tr>\n",
       "    <tr>\n",
       "      <th>power</th>\n",
       "      <td>0.158872</td>\n",
       "      <td>-0.000828</td>\n",
       "      <td>1.000000</td>\n",
       "      <td>0.024002</td>\n",
       "      <td>0.043380</td>\n",
       "      <td>NaN</td>\n",
       "      <td>0.021665</td>\n",
       "    </tr>\n",
       "    <tr>\n",
       "      <th>kilometer</th>\n",
       "      <td>-0.333199</td>\n",
       "      <td>-0.053447</td>\n",
       "      <td>0.024002</td>\n",
       "      <td>1.000000</td>\n",
       "      <td>0.009571</td>\n",
       "      <td>NaN</td>\n",
       "      <td>-0.007698</td>\n",
       "    </tr>\n",
       "    <tr>\n",
       "      <th>registrationmonth</th>\n",
       "      <td>0.110581</td>\n",
       "      <td>-0.011619</td>\n",
       "      <td>0.043380</td>\n",
       "      <td>0.009571</td>\n",
       "      <td>1.000000</td>\n",
       "      <td>NaN</td>\n",
       "      <td>0.013995</td>\n",
       "    </tr>\n",
       "    <tr>\n",
       "      <th>numberofpictures</th>\n",
       "      <td>NaN</td>\n",
       "      <td>NaN</td>\n",
       "      <td>NaN</td>\n",
       "      <td>NaN</td>\n",
       "      <td>NaN</td>\n",
       "      <td>NaN</td>\n",
       "      <td>NaN</td>\n",
       "    </tr>\n",
       "    <tr>\n",
       "      <th>postalcode</th>\n",
       "      <td>0.076055</td>\n",
       "      <td>-0.003459</td>\n",
       "      <td>0.021665</td>\n",
       "      <td>-0.007698</td>\n",
       "      <td>0.013995</td>\n",
       "      <td>NaN</td>\n",
       "      <td>1.000000</td>\n",
       "    </tr>\n",
       "  </tbody>\n",
       "</table>\n",
       "</div>"
      ],
      "text/plain": [
       "                      price  registrationyear     power  kilometer  \\\n",
       "price              1.000000          0.026916  0.158872  -0.333199   \n",
       "registrationyear   0.026916          1.000000 -0.000828  -0.053447   \n",
       "power              0.158872         -0.000828  1.000000   0.024002   \n",
       "kilometer         -0.333199         -0.053447  0.024002   1.000000   \n",
       "registrationmonth  0.110581         -0.011619  0.043380   0.009571   \n",
       "numberofpictures        NaN               NaN       NaN        NaN   \n",
       "postalcode         0.076055         -0.003459  0.021665  -0.007698   \n",
       "\n",
       "                   registrationmonth  numberofpictures  postalcode  \n",
       "price                       0.110581               NaN    0.076055  \n",
       "registrationyear           -0.011619               NaN   -0.003459  \n",
       "power                       0.043380               NaN    0.021665  \n",
       "kilometer                   0.009571               NaN   -0.007698  \n",
       "registrationmonth           1.000000               NaN    0.013995  \n",
       "numberofpictures                 NaN               NaN         NaN  \n",
       "postalcode                  0.013995               NaN    1.000000  "
      ]
     },
     "execution_count": 20,
     "metadata": {},
     "output_type": "execute_result"
    }
   ],
   "source": [
    "autos.corr()"
   ]
  },
  {
   "cell_type": "code",
   "execution_count": 21,
   "metadata": {},
   "outputs": [
    {
     "data": {
      "text/plain": [
       "Text(0.5, 1.0, 'Треугольная тепловая карта корреляции')"
      ]
     },
     "execution_count": 21,
     "metadata": {},
     "output_type": "execute_result"
    },
    {
     "data": {
      "image/png": "[encoded data removed]",
      "text/plain": [
       "<Figure size 432x288 with 2 Axes>"
      ]
     },
     "metadata": {
      "needs_background": "light"
     },
     "output_type": "display_data"
    }
   ],
   "source": [
    "heatmap = sns.heatmap(autos.corr(), vmin=-1, vmax=1, annot=True, cmap='BrBG') \n",
    "heatmap.set_title('Треугольная тепловая карта корреляции', fontdict={'fontsize':20}, pad=18)"
   ]
  },
  {
   "cell_type": "markdown",
   "metadata": {},
   "source": [
    "Посмотрим на распределение данных."
   ]
  },
  {
   "cell_type": "code",
   "execution_count": 22,
   "metadata": {},
   "outputs": [
    {
     "data": {
      "text/plain": [
       "<AxesSubplot:>"
      ]
     },
     "execution_count": 22,
     "metadata": {},
     "output_type": "execute_result"
    },
    {
     "data": {
      "image/png": "[encoded data removed]",
      "text/plain": [
       "<Figure size 432x288 with 1 Axes>"
      ]
     },
     "metadata": {
      "needs_background": "light"
     },
     "output_type": "display_data"
    }
   ],
   "source": [
    "autos['repaired'].value_counts().plot(kind='barh')"
   ]
  },
  {
   "cell_type": "code",
   "execution_count": 23,
   "metadata": {},
   "outputs": [
    {
     "data": {
      "text/plain": [
       "<AxesSubplot:>"
      ]
     },
     "execution_count": 23,
     "metadata": {},
     "output_type": "execute_result"
    },
    {
     "data": {
      "image/png": "[encoded data removed]",
      "text/plain": [
       "<Figure size 1296x1152 with 1 Axes>"
      ]
     },
     "metadata": {
      "needs_background": "light"
     },
     "output_type": "display_data"
    }
   ],
   "source": [
    "autos['brand'].value_counts().plot(kind='barh',figsize=(18,16))"
   ]
  },
  {
   "cell_type": "code",
   "execution_count": 24,
   "metadata": {},
   "outputs": [
    {
     "data": {
      "text/plain": [
       "<AxesSubplot:>"
      ]
     },
     "execution_count": 24,
     "metadata": {},
     "output_type": "execute_result"
    },
    {
     "data": {
      "image/png": "[encoded data removed]",
      "text/plain": [
       "<Figure size 432x288 with 1 Axes>"
      ]
     },
     "metadata": {
      "needs_background": "light"
     },
     "output_type": "display_data"
    }
   ],
   "source": [
    "autos['vehicletype'].value_counts().plot(kind='barh')"
   ]
  },
  {
   "cell_type": "code",
   "execution_count": 25,
   "metadata": {},
   "outputs": [
    {
     "data": {
      "text/plain": [
       "<AxesSubplot:>"
      ]
     },
     "execution_count": 25,
     "metadata": {},
     "output_type": "execute_result"
    },
    {
     "data": {
      "image/png": "[encoded data removed]",
      "text/plain": [
       "<Figure size 432x288 with 1 Axes>"
      ]
     },
     "metadata": {
      "needs_background": "light"
     },
     "output_type": "display_data"
    }
   ],
   "source": [
    "autos['gearbox'].value_counts().plot(kind='barh')"
   ]
  },
  {
   "cell_type": "code",
   "execution_count": 26,
   "metadata": {},
   "outputs": [
    {
     "data": {
      "text/plain": [
       "<AxesSubplot:>"
      ]
     },
     "execution_count": 26,
     "metadata": {},
     "output_type": "execute_result"
    },
    {
     "data": {
      "image/png": "[encoded data removed]",
      "text/plain": [
       "<Figure size 432x288 with 1 Axes>"
      ]
     },
     "metadata": {
      "needs_background": "light"
     },
     "output_type": "display_data"
    }
   ],
   "source": [
    "autos['fueltype'].value_counts().plot(kind='barh')"
   ]
  },
  {
   "cell_type": "code",
   "execution_count": 27,
   "metadata": {},
   "outputs": [
    {
     "data": {
      "text/plain": [
       "array([150000, 125000,  90000,  40000,  30000,  70000,   5000, 100000,\n",
       "        60000,  20000,  80000,  50000,  10000])"
      ]
     },
     "execution_count": 27,
     "metadata": {},
     "output_type": "execute_result"
    }
   ],
   "source": [
    "autos['kilometer'].unique()"
   ]
  },
  {
   "cell_type": "code",
   "execution_count": 28,
   "metadata": {},
   "outputs": [
    {
     "data": {
      "text/plain": [
       "Index(['datecrawled', 'price', 'vehicletype', 'registrationyear', 'gearbox',\n",
       "       'power', 'model', 'kilometer', 'registrationmonth', 'fueltype', 'brand',\n",
       "       'repaired', 'datecreated', 'numberofpictures', 'postalcode',\n",
       "       'lastseen'],\n",
       "      dtype='object')"
      ]
     },
     "execution_count": 28,
     "metadata": {},
     "output_type": "execute_result"
    }
   ],
   "source": [
    "autos.columns"
   ]
  },
  {
   "cell_type": "code",
   "execution_count": 29,
   "metadata": {},
   "outputs": [
    {
     "data": {
      "text/plain": [
       "<AxesSubplot:xlabel='price'>"
      ]
     },
     "execution_count": 29,
     "metadata": {},
     "output_type": "execute_result"
    },
    {
     "data": {
      "image/png": "[encoded data removed]",
      "text/plain": [
       "<Figure size 432x288 with 1 Axes>"
      ]
     },
     "metadata": {
      "needs_background": "light"
     },
     "output_type": "display_data"
    }
   ],
   "source": [
    "sns.boxplot(x=autos['price'])"
   ]
  },
  {
   "cell_type": "markdown",
   "metadata": {},
   "source": [
    "В столбце 'price' есть нулевые значения, а также значения до 100. Думаю, что замена нулей на медиану, не решает вопрос с аномалиями. Возможно это значения указаны в неверных единицах измерения. Например, 3,0 это 3000 и т.д. Оставим все как есть."
   ]
  },
  {
   "cell_type": "code",
   "execution_count": 30,
   "metadata": {},
   "outputs": [],
   "source": [
    "autos = autos.query('price > 100')"
   ]
  },
  {
   "cell_type": "code",
   "execution_count": 31,
   "metadata": {},
   "outputs": [
    {
     "data": {
      "text/plain": [
       "array(['petrol', 'gasoline', 'lpg', 'other', 'hybrid', 'cng', 'electric'],\n",
       "      dtype=object)"
      ]
     },
     "execution_count": 31,
     "metadata": {},
     "output_type": "execute_result"
    }
   ],
   "source": [
    "autos['fueltype'].unique()"
   ]
  },
  {
   "cell_type": "code",
   "execution_count": 32,
   "metadata": {},
   "outputs": [
    {
     "data": {
      "text/plain": [
       "<AxesSubplot:>"
      ]
     },
     "execution_count": 32,
     "metadata": {},
     "output_type": "execute_result"
    },
    {
     "data": {
      "image/png": "[encoded data removed]",
      "text/plain": [
       "<Figure size 432x288 with 1 Axes>"
      ]
     },
     "metadata": {
      "needs_background": "light"
     },
     "output_type": "display_data"
    }
   ],
   "source": [
    "autos['fueltype'].value_counts().plot(kind='barh')"
   ]
  },
  {
   "cell_type": "code",
   "execution_count": 33,
   "metadata": {},
   "outputs": [
    {
     "data": {
      "text/plain": [
       "<AxesSubplot:xlabel='registrationyear'>"
      ]
     },
     "execution_count": 33,
     "metadata": {},
     "output_type": "execute_result"
    },
    {
     "data": {
      "image/png": "[encoded data removed]",
      "text/plain": [
       "<Figure size 432x288 with 1 Axes>"
      ]
     },
     "metadata": {
      "needs_background": "light"
     },
     "output_type": "display_data"
    }
   ],
   "source": [
    "sns.boxplot(x=autos['registrationyear'])"
   ]
  },
  {
   "cell_type": "markdown",
   "metadata": {},
   "source": [
    "В 'registrationyear' есть аномальные значения, например 1111 год регистрации автомобиля или 3500. Заполним аномальные значения приближенными к реальности, т.е. от 1960 до 2016 года. "
   ]
  },
  {
   "cell_type": "code",
   "execution_count": 34,
   "metadata": {},
   "outputs": [
    {
     "data": {
      "text/plain": [
       "array([1993, 2011, 2004, 2001, 2008, 1995, 2014, 1998, 2005, 1910, 2016,\n",
       "       2007, 2009, 2002, 2018, 1997, 1990, 2017, 1981, 2003, 1994, 1991,\n",
       "       1984, 2006, 1999, 2012, 2010, 2000, 1992, 2013, 1996, 1985, 1989,\n",
       "       2015, 1982, 1976, 1983, 1973, 1969, 1971, 1987, 1986, 1988, 1980,\n",
       "       1970, 1965, 1945, 1925, 1974, 1979, 1955, 1978, 1972, 1968, 1977,\n",
       "       1961, 1966, 1975, 1963, 1964, 1960, 1958, 1967, 1956, 3200, 1000,\n",
       "       1941, 9999, 8888, 1500, 2200, 4100, 1962, 1929, 1957, 1940, 3000,\n",
       "       2066, 1949, 2019, 1937, 1951, 1800, 1959, 1953, 1954, 1234, 5300,\n",
       "       9000, 2900, 6000, 5900, 5911, 1400, 5000, 1950, 4000, 1948, 1952,\n",
       "       8500, 1932, 3700, 3800, 4800, 1942, 7000, 1935, 1933, 1936, 1923,\n",
       "       2290, 1930, 1001, 9450, 1944, 2500, 1943, 1938, 1934, 1928, 5555,\n",
       "       5600, 1600, 1111, 1039, 1300, 2800, 1931, 4500, 1602, 7800, 1947,\n",
       "       1927, 7100, 8200, 1946])"
      ]
     },
     "execution_count": 34,
     "metadata": {},
     "output_type": "execute_result"
    }
   ],
   "source": [
    "autos['registrationyear'].unique()"
   ]
  },
  {
   "cell_type": "code",
   "execution_count": 35,
   "metadata": {},
   "outputs": [],
   "source": [
    "def real_registration_year(year):\n",
    "    if year > 2016:\n",
    "        return 2016\n",
    "    elif year < 1960:\n",
    "        return 1960\n",
    "    else:\n",
    "        return year\n",
    "autos['registrationyear'] = autos['registrationyear'].apply(real_registration_year)"
   ]
  },
  {
   "cell_type": "code",
   "execution_count": 36,
   "metadata": {},
   "outputs": [
    {
     "data": {
      "text/plain": [
       "<AxesSubplot:xlabel='registrationyear'>"
      ]
     },
     "execution_count": 36,
     "metadata": {},
     "output_type": "execute_result"
    },
    {
     "data": {
      "image/png": "[encoded data removed]",
      "text/plain": [
       "<Figure size 432x288 with 1 Axes>"
      ]
     },
     "metadata": {
      "needs_background": "light"
     },
     "output_type": "display_data"
    }
   ],
   "source": [
    "sns.boxplot(x=autos['registrationyear'])"
   ]
  },
  {
   "cell_type": "code",
   "execution_count": 37,
   "metadata": {},
   "outputs": [
    {
     "data": {
      "text/plain": [
       "array([ 0,  5,  8,  6,  7, 10, 12, 11,  2,  3,  1,  4,  9])"
      ]
     },
     "execution_count": 37,
     "metadata": {},
     "output_type": "execute_result"
    }
   ],
   "source": [
    "autos['registrationmonth'].unique()"
   ]
  },
  {
   "cell_type": "code",
   "execution_count": 38,
   "metadata": {},
   "outputs": [
    {
     "data": {
      "text/plain": [
       "array([150000, 125000,  90000,  30000,  70000,   5000, 100000,  60000,\n",
       "        20000,  80000,  50000,  40000,  10000])"
      ]
     },
     "execution_count": 38,
     "metadata": {},
     "output_type": "execute_result"
    }
   ],
   "source": [
    "autos['kilometer'].unique()"
   ]
  },
  {
   "cell_type": "code",
   "execution_count": 39,
   "metadata": {},
   "outputs": [
    {
     "data": {
      "text/html": [
       "<div>\n",
       "<style scoped>\n",
       "    .dataframe tbody tr th:only-of-type {\n",
       "        vertical-align: middle;\n",
       "    }\n",
       "\n",
       "    .dataframe tbody tr th {\n",
       "        vertical-align: top;\n",
       "    }\n",
       "\n",
       "    .dataframe thead th {\n",
       "        text-align: right;\n",
       "    }\n",
       "</style>\n",
       "<table border=\"1\" class=\"dataframe\">\n",
       "  <thead>\n",
       "    <tr style=\"text-align: right;\">\n",
       "      <th></th>\n",
       "      <th>datecrawled</th>\n",
       "      <th>price</th>\n",
       "      <th>vehicletype</th>\n",
       "      <th>registrationyear</th>\n",
       "      <th>gearbox</th>\n",
       "      <th>power</th>\n",
       "      <th>model</th>\n",
       "      <th>kilometer</th>\n",
       "      <th>registrationmonth</th>\n",
       "      <th>fueltype</th>\n",
       "      <th>brand</th>\n",
       "      <th>repaired</th>\n",
       "      <th>datecreated</th>\n",
       "      <th>numberofpictures</th>\n",
       "      <th>postalcode</th>\n",
       "      <th>lastseen</th>\n",
       "    </tr>\n",
       "  </thead>\n",
       "  <tbody>\n",
       "    <tr>\n",
       "      <th>33952</th>\n",
       "      <td>2016-03-09 11:37:03</td>\n",
       "      <td>3740</td>\n",
       "      <td>small</td>\n",
       "      <td>2006</td>\n",
       "      <td>manual</td>\n",
       "      <td>6920</td>\n",
       "      <td>aygo</td>\n",
       "      <td>90000</td>\n",
       "      <td>10</td>\n",
       "      <td>petrol</td>\n",
       "      <td>toyota</td>\n",
       "      <td>no</td>\n",
       "      <td>2016-03-09</td>\n",
       "      <td>0</td>\n",
       "      <td>94116</td>\n",
       "      <td>2016-03-17 05:16:32</td>\n",
       "    </tr>\n",
       "  </tbody>\n",
       "</table>\n",
       "</div>"
      ],
      "text/plain": [
       "              datecrawled  price vehicletype  registrationyear gearbox  power  \\\n",
       "33952 2016-03-09 11:37:03   3740       small              2006  manual   6920   \n",
       "\n",
       "      model  kilometer  registrationmonth fueltype   brand repaired  \\\n",
       "33952  aygo      90000                 10   petrol  toyota       no   \n",
       "\n",
       "      datecreated  numberofpictures  postalcode            lastseen  \n",
       "33952  2016-03-09                 0       94116 2016-03-17 05:16:32  "
      ]
     },
     "execution_count": 39,
     "metadata": {},
     "output_type": "execute_result"
    }
   ],
   "source": [
    "autos.query('power == 6920')"
   ]
  },
  {
   "cell_type": "code",
   "execution_count": 40,
   "metadata": {},
   "outputs": [
    {
     "data": {
      "text/plain": [
       "array([    0,   190,   163,    75,    69,   102,   109,   125,   101,\n",
       "         105,   140,   115,   131,    60,   136,   160,   231,    90,\n",
       "          50,   118,   193,    99,   113,   218,   122,   129,    70,\n",
       "         306,    95,    61,   177,    80,   170,    55,   143,    64,\n",
       "         232,   150,   156,    82,   155,    54,   185,    87,   180,\n",
       "          86,    84,   224,   235,   200,   178,   265,    77,   110,\n",
       "         144,   120,   286,   116,   184,   126,   204,    88,   194,\n",
       "         305,   197,   179,   250,    45,   313,    41,   165,    98,\n",
       "         130,   114,   211,    56,   201,   213,    58,   107,    83,\n",
       "         174,   100,   220,    85,    73,   192,    68,    66,   299,\n",
       "          74,    52,   147,    65,   310,    71,    97,   239,   203,\n",
       "           5,   300,   103,   258,   320,    63,    81,   148,    44,\n",
       "         145,   280,   260,   104,   188,   333,   186,   117,   141,\n",
       "          59,   132,   234,   158,    39,    92,    51,   135,   230,\n",
       "         209,    43,   146,    67,   106,   166,   276,   344,    72,\n",
       "         249,   237,   245,   111,   326,   279,    23,   138,   175,\n",
       "          96,   226,    26,    37,   301,   334,   128,   133,   124,\n",
       "          33,   219,   241,   167,    94,   182,   196,   238,  1398,\n",
       "         228,   112,    48,   272,   139,    40,    79,   256,   360,\n",
       "         243,   252,   396,   340,   108,   121,   345,   187,   289,\n",
       "         222,   198,   284,   450,   233,   387,   347,   172,    57,\n",
       "         137,   212,   476,   314,    30,     7,    47,   173,   290,\n",
       "         207,   205,   171,    78,    91,    89,   349,   325,    76,\n",
       "         151,   350,   953,    93,   142,   343,   199,   119,   164,\n",
       "          16,   264,   152,   367,   240,   208,   210,    46,    53,\n",
       "         435,  1001,   225,   127,   176,   161,   603,   307,   354,\n",
       "          35,   206,   771,   355,   273,   223,   255,   123,   154,\n",
       "         149,  7515,  1400,   268,   620,   169,   400,   275,    34,\n",
       "           2,   242,  1779,   285,   162,   328,  1753,   329,   134,\n",
       "         420,   247,   168,   215,    18,   330,   283,   500,    62,\n",
       "          10,   183,   254,    15,   321,   322,   315,   952,   600,\n",
       "         181,   426,   599,   379,    22,   157,    42,   195,     4,\n",
       "         309,   507,   381,   271,   440,   189,   401,  2729,    21,\n",
       "         236,  1240,  1704,   521,     1,  1900,   270,    24,   159,\n",
       "         292,   808,   515,  1200,   303,    29,    38,  1993,    14,\n",
       "         216,   610,   504,    49,   267,   331,   363,   261,   385,\n",
       "        1011,   253,   696, 10520,   376,   227,   311,    27,   217,\n",
       "          20,  1999,    11,  1056,    25,   394,    12,   298,   296,\n",
       "        1659,   294,   551,  6920,   246,    17,  1800,  1625,   390,\n",
       "         221,  1367,   259,   606,   327,  2017,  1597,   266,   374,\n",
       "         392,     9,   405,    13,   262,   601,   430,   295,     8,\n",
       "         411,   900,   541,  7512,   382, 10218,  7544,   287,    19,\n",
       "         214,   751,   297,  1090,   457,   282,   602,   388,     6,\n",
       "        1000,  5411,   335,  1360,   202,   805,  1062,   750,  1024,\n",
       "       11530,   364,  1796,   269,   460,  1002,   288,  1780, 12012,\n",
       "       17932,   316,  2005,  1399,   191,   278,  1300,   380,   257,\n",
       "         449,  1256,   153,  1653,   520,   560,   281, 12510,     3,\n",
       "        1500,   386,  1202,  2016,  1436,  1405,   671,   274,  1288,\n",
       "        1055, 10912,  6226,  1115,   277,  1105,   341,  1223,  2340,\n",
       "        8404,  1968,   338,   445,  1920,   370,   517,  4400, 10710,\n",
       "       10522,  9010,   431,  1164, 11509,    32,   371,  1501,   428,\n",
       "       11635,   304,   348,  1703,  1995,   579, 10000,   580,   408,\n",
       "          31,  1005,   358,  1403,   489,  5575, 19211,   585,   365,\n",
       "         353,   490,   352,  1801,   346,   550,  3199,   800,  7508,\n",
       "        1312,   357,  1937,   950,  4700,  1600,  3454, 19208,   251,\n",
       "         850,   337,   700,  2331,  2789,   487,    36,   519,  2461,\n",
       "        6006,  3500,  5815,  6018,  1781,  1503,   612,  1596,   229,\n",
       "        1506,  5809, 15020,  5867,  2172,  1598, 17410,  1363,   584,\n",
       "        1054,   851,  1339,   318,   510,   525,    28,  1151,   685,\n",
       "        6011,   317,   703,  1771, 15001,   514,   362,   332,   324,\n",
       "        6045,   425,   308,  6010,   475,   903,   640,  2000,   248,\n",
       "         651,  2799,   368, 17011,   505,  1103,  1521,   351, 16051,\n",
       "         398,  9000,  1998, 10311,   409,  1230, 17019, 12684,  8259,\n",
       "        1895,   901,  1317,   871,   909,  1595,   776, 17700, 11011,\n",
       "        1199,   459,  1162,  1120, 15033,  1896,   339,   361,  6512,\n",
       "         454,   650, 13616,   604,   999,   607, 16312,  1082,   336,\n",
       "       20000,   416,   678,  6012,  1401,  1021,  1870,   375, 13636,\n",
       "        1250,   323,  1158,  2009,   902,  6062,  1275,   572,   244,\n",
       "         399,  1016,   743,  1221,  2402, 16011,  1362,   544,   645,\n",
       "         907,   702, 12512,  1986,  1003,  1432,  9013,  9011,   442,\n",
       "        1017,  1394, 15017, 10910,  1992,   540,  2018, 11025,  1433,\n",
       "        1701,  2792,  1502,  1239,  1390, 14009,  1160,  1351, 11111,\n",
       "        1783,  9007,   923,  1149,   754,  1988,   402,  2004,  5420,\n",
       "        1793,  1324,   356,  7511,  1299,   293, 19312,  1079,  1689,\n",
       "         998,  1100,  9012,  1933,   508, 16311,   682,  1252,  1922,\n",
       "        7529,   732,  2389,  1707,  1416,  1700,  8500,  1012, 10110,\n",
       "         421,  4507,  1631,  7518,   377,  1004,  1799,  2007,  2598,\n",
       "        1548,  1241])"
      ]
     },
     "execution_count": 40,
     "metadata": {},
     "output_type": "execute_result"
    }
   ],
   "source": [
    "autos['power'].unique()"
   ]
  },
  {
   "cell_type": "code",
   "execution_count": 41,
   "metadata": {},
   "outputs": [],
   "source": [
    "def real_power(power):\n",
    "    if power > 2000:\n",
    "        return 2000\n",
    "    elif power < 40:\n",
    "        return 40\n",
    "    else:\n",
    "        return power\n",
    "autos['power'] = autos['power'].apply(real_power)"
   ]
  },
  {
   "cell_type": "code",
   "execution_count": 42,
   "metadata": {},
   "outputs": [],
   "source": [
    "autos = autos.drop(['numberofpictures', 'postalcode', 'datecrawled', 'datecreated', 'lastseen', 'registrationmonth'], axis=1)"
   ]
  },
  {
   "cell_type": "code",
   "execution_count": 43,
   "metadata": {},
   "outputs": [
    {
     "name": "stdout",
     "output_type": "stream",
     "text": [
      "<class 'pandas.core.frame.DataFrame'>\n",
      "Int64Index: 340024 entries, 0 to 354368\n",
      "Data columns (total 10 columns):\n",
      " #   Column            Non-Null Count   Dtype \n",
      "---  ------            --------------   ----- \n",
      " 0   price             340024 non-null  int64 \n",
      " 1   vehicletype       340024 non-null  object\n",
      " 2   registrationyear  340024 non-null  int64 \n",
      " 3   gearbox           340024 non-null  object\n",
      " 4   power             340024 non-null  int64 \n",
      " 5   model             340024 non-null  object\n",
      " 6   kilometer         340024 non-null  int64 \n",
      " 7   fueltype          340024 non-null  object\n",
      " 8   brand             340024 non-null  object\n",
      " 9   repaired          340024 non-null  object\n",
      "dtypes: int64(4), object(6)\n",
      "memory usage: 28.5+ MB\n"
     ]
    }
   ],
   "source": [
    "autos.info()"
   ]
  },
  {
   "cell_type": "markdown",
   "metadata": {},
   "source": [
    "**Вывод по 1 шагу**\n",
    "\n",
    "На первом шаге произведена загрузка данных и их подготовка для обучения моделей. \n",
    "\n",
    "1. Перед нами DataFrame в из 16 столбцов с данными и 354369 строк, содержащий информацию о технических особенностях и ценах автомобилей, размещенных в сервисе «Не бит, не крашен».\n",
    "2. Заполнены пропуски в столбцах 'vehicletype', 'gearbox', 'model', 'fueltype', 'repaired'.\n",
    "3. Проведена работа с аномальными значениями в 'price','registrationyear' и 'power'.\n",
    "4. Удалены ненужные столбцы для обучения моделей, а именно - 'numberofpictures', 'postalcode', 'datecrawled', 'datecreated', 'lastseen' и 'registrationmonth'.\n",
    "\n",
    "Для того, чтобы в реальной жизни не случались такие ситуации с огромным количеством пропусков и аномальных значений, необходимо анализировать информацию, обсуждать ее с командой проекта и улучшать сервис (например, ввести ограничения по вводу года выпуска или обязательное заполнение полей).\n",
    "\n",
    "DataFrame готов, можно перейти к обучению моделей."
   ]
  },
  {
   "cell_type": "markdown",
   "metadata": {},
   "source": [
    "## Обучение моделей"
   ]
  },
  {
   "cell_type": "markdown",
   "metadata": {},
   "source": [
    "Подготовим выборки для обучения LinearRegression. Проведем масштабирование признаков с помощью get_dummies."
   ]
  },
  {
   "cell_type": "code",
   "execution_count": 44,
   "metadata": {},
   "outputs": [],
   "source": [
    "autos_ohe = autos.copy()\n",
    "autos_ohe = pd.get_dummies(autos_ohe)"
   ]
  },
  {
   "cell_type": "markdown",
   "metadata": {},
   "source": [
    "Разделим датасет на features_train, features_valid, target_train, target_valid. Сделаем проверку методом shape."
   ]
  },
  {
   "cell_type": "code",
   "execution_count": 45,
   "metadata": {},
   "outputs": [],
   "source": [
    "features_train_ohe, target_train_ohe, features_valid_ohe, target_valid_ohe, features_test_ohe, target_test_ohe = train_valid_test_split(\n",
    "    autos_ohe, target='price', train_size=0.60, valid_size=0.2, test_size=0.2)"
   ]
  },
  {
   "cell_type": "code",
   "execution_count": 46,
   "metadata": {},
   "outputs": [
    {
     "name": "stdout",
     "output_type": "stream",
     "text": [
      "(204014, 314) (204014,)\n",
      "(68005, 314) (68005,)\n",
      "(68005, 314) (68005,)\n"
     ]
    }
   ],
   "source": [
    "print(features_train_ohe.shape, target_train_ohe.shape)\n",
    "print(features_valid_ohe.shape, target_valid_ohe.shape)\n",
    "print(features_test_ohe.shape, target_test_ohe.shape)"
   ]
  },
  {
   "cell_type": "markdown",
   "metadata": {},
   "source": [
    "Подготовим выборки для обучения моделей основанных на деревьях решений. \n",
    "Проведем порядковое кодирование с помощью OrdinalEncoder()."
   ]
  },
  {
   "cell_type": "code",
   "execution_count": 47,
   "metadata": {},
   "outputs": [],
   "source": [
    "encoder = OrdinalEncoder()"
   ]
  },
  {
   "cell_type": "code",
   "execution_count": 48,
   "metadata": {},
   "outputs": [],
   "source": [
    "category = ['vehicletype', 'gearbox', 'model', 'fueltype', 'brand', 'repaired']"
   ]
  },
  {
   "cell_type": "code",
   "execution_count": 49,
   "metadata": {},
   "outputs": [],
   "source": [
    "data_ordinal = autos.copy()\n",
    "encoder.fit(autos[category])\n",
    "data_ordinal[category] = encoder.transform(autos[category])"
   ]
  },
  {
   "cell_type": "code",
   "execution_count": 50,
   "metadata": {},
   "outputs": [],
   "source": [
    "target = data_ordinal['price']\n",
    "features = data_ordinal.drop('price', axis=1)"
   ]
  },
  {
   "cell_type": "code",
   "execution_count": 51,
   "metadata": {},
   "outputs": [],
   "source": [
    "features_train, target_train, features_valid, target_valid, features_test, target_test = train_valid_test_split(\n",
    "    data_ordinal, target='price', train_size=0.60, valid_size=0.2, test_size=0.2)"
   ]
  },
  {
   "cell_type": "code",
   "execution_count": 52,
   "metadata": {},
   "outputs": [
    {
     "name": "stdout",
     "output_type": "stream",
     "text": [
      "(204014, 9) (204014,)\n",
      "(68005, 9) (68005,)\n",
      "(68005, 9) (68005,)\n"
     ]
    }
   ],
   "source": [
    "print(features_train.shape, target_train.shape)\n",
    "print(features_valid.shape, target_valid.shape)\n",
    "print(features_test.shape, target_test.shape)"
   ]
  },
  {
   "cell_type": "markdown",
   "metadata": {},
   "source": [
    "Обучим следующие модели:\n",
    "\n",
    "LinearRegression  \n",
    "RandomForestRegressor  \n",
    "LightGBM  \n",
    "CatBoostRegressor  \n",
    "\n",
    "Для каждой модели попробуем разные гиперпараметры."
   ]
  },
  {
   "cell_type": "code",
   "execution_count": 53,
   "metadata": {},
   "outputs": [],
   "source": [
    "def RMSE(target, predict):\n",
    "    RMSE = (mean_squared_error(target, predict))**0.5\n",
    "    return RMSE\n",
    "\n",
    "score = make_scorer(RMSE, greater_is_better=False)"
   ]
  },
  {
   "cell_type": "markdown",
   "metadata": {},
   "source": [
    "Напишем функцию для LinearRegression, которая будет принимать на вход features_train, target_train, features_valid, target_valid, а возвращать значение MSE, RMSE и предсказания на валидационной выборке."
   ]
  },
  {
   "cell_type": "code",
   "execution_count": 54,
   "metadata": {},
   "outputs": [],
   "source": [
    "model = LinearRegression()\n",
    "\n",
    "def lr_model_rmse(features_train, target_train, features_valid, target_valid):\n",
    "    model.fit(features_train, target_train)\n",
    "    predicted_valid = model.predict(features_valid)\n",
    "    mse = mean_squared_error(target_valid, predicted_valid)\n",
    "    model.score(features_valid, target_valid)\n",
    "    print(\"MSE =\", round(mse,2))\n",
    "    print(\"RMSE =\", round(mse ** 0.5, 2))\n",
    "    return predicted_valid"
   ]
  },
  {
   "cell_type": "code",
   "execution_count": 55,
   "metadata": {},
   "outputs": [
    {
     "name": "stdout",
     "output_type": "stream",
     "text": [
      "MSE = 8039744.66\n",
      "RMSE = 2835.44\n",
      "CPU times: user 28.7 s, sys: 34.6 s, total: 1min 3s\n",
      "Wall time: 1min 3s\n"
     ]
    }
   ],
   "source": [
    "%%time\n",
    "linear_model = lr_model_rmse(features_train_ohe, target_train_ohe, features_valid_ohe, target_valid_ohe)"
   ]
  },
  {
   "cell_type": "markdown",
   "metadata": {},
   "source": [
    "Перейдем к обучению RandomForestRegressor"
   ]
  },
  {
   "cell_type": "code",
   "execution_count": 56,
   "metadata": {},
   "outputs": [
    {
     "name": "stdout",
     "output_type": "stream",
     "text": [
      "RMSE наилучшей модели на валидационной выборке: 2617.19\n",
      "CPU times: user 2min 23s, sys: 0 ns, total: 2min 23s\n",
      "Wall time: 2min 24s\n"
     ]
    }
   ],
   "source": [
    "%%time\n",
    "\n",
    "forest_model = RandomForestRegressor(random_state=12345) \n",
    "forest_parametrs = { 'n_estimators': range(5, 20),\n",
    "                     'max_depth': range(1, 5)}\n",
    "grid = GridSearchCV(forest_model, forest_parametrs, cv=3)\n",
    "grid.fit(features_train, target_train) \n",
    "predictions_valid = grid.predict(features_valid)\n",
    "result = mean_squared_error(target_valid, predictions_valid)**0.5 \n",
    "print(\"RMSE наилучшей модели на валидационной выборке:\", round(result,2))"
   ]
  },
  {
   "cell_type": "code",
   "execution_count": 57,
   "metadata": {},
   "outputs": [
    {
     "data": {
      "text/plain": [
       "{'max_depth': 4, 'n_estimators': 5}"
      ]
     },
     "execution_count": 57,
     "metadata": {},
     "output_type": "execute_result"
    }
   ],
   "source": [
    "grid.best_params_"
   ]
  },
  {
   "cell_type": "markdown",
   "metadata": {},
   "source": [
    "Перейдем к CatBoost.\n",
    "При обучении модели CatBoost можно визуализировать, установив plot=true."
   ]
  },
  {
   "cell_type": "code",
   "execution_count": 58,
   "metadata": {},
   "outputs": [],
   "source": [
    "cat = CatBoostRegressor()"
   ]
  },
  {
   "cell_type": "code",
   "execution_count": 59,
   "metadata": {},
   "outputs": [
    {
     "data": {
      "application/vnd.jupyter.widget-view+json": {
       "model_id": "63fa4457a31e45b69f23c9da26af22c4",
       "version_major": 2,
       "version_minor": 0
      },
      "text/plain": [
       "MetricVisualizer(layout=Layout(align_self='stretch', height='500px'))"
      ]
     },
     "metadata": {},
     "output_type": "display_data"
    },
    {
     "name": "stdout",
     "output_type": "stream",
     "text": [
      "CPU times: user 32.9 s, sys: 0 ns, total: 32.9 s\n",
      "Wall time: 35.4 s\n"
     ]
    },
    {
     "data": {
      "text/plain": [
       "<catboost.core.CatBoostRegressor at 0x7f6caa7e2ee0>"
      ]
     },
     "execution_count": 59,
     "metadata": {},
     "output_type": "execute_result"
    }
   ],
   "source": [
    "%%time\n",
    "cat.fit(features_train, target_train, verbose=False, plot=True)"
   ]
  },
  {
   "cell_type": "markdown",
   "metadata": {},
   "source": [
    "Также выполним кроссвалидацию и визуализируем процесс."
   ]
  },
  {
   "cell_type": "code",
   "execution_count": 60,
   "metadata": {},
   "outputs": [
    {
     "data": {
      "application/vnd.jupyter.widget-view+json": {
       "model_id": "23a9876892834882a7979dabf3fae7e8",
       "version_major": 2,
       "version_minor": 0
      },
      "text/plain": [
       "MetricVisualizer(layout=Layout(align_self='stretch', height='500px'))"
      ]
     },
     "metadata": {},
     "output_type": "display_data"
    },
    {
     "name": "stdout",
     "output_type": "stream",
     "text": [
      "Training on fold [0/2]\n",
      "\n",
      "bestTest = 2442.385092\n",
      "bestIteration = 149\n",
      "\n",
      "Training on fold [1/2]\n",
      "\n",
      "bestTest = 2459.653326\n",
      "bestIteration = 149\n",
      "\n"
     ]
    }
   ],
   "source": [
    "params = {\"iterations\": 150,\n",
    "          \"depth\": 2,\n",
    "          \"loss_function\": \"RMSE\",\n",
    "          \"verbose\": False}\n",
    "cv_dataset = Pool(data=features_train,\n",
    "                  label=target_train)\n",
    "scores = cv(cv_dataset,\n",
    "            params,\n",
    "            fold_count=2, \n",
    "            plot=\"True\")"
   ]
  },
  {
   "cell_type": "code",
   "execution_count": 61,
   "metadata": {},
   "outputs": [
    {
     "name": "stdout",
     "output_type": "stream",
     "text": [
      "RMSE CatBoostRegressor: 1650.17\n",
      "CPU times: user 77.7 ms, sys: 0 ns, total: 77.7 ms\n",
      "Wall time: 77 ms\n"
     ]
    }
   ],
   "source": [
    "%%time\n",
    "predict_cat = cat.predict(features_valid)\n",
    "rmse_cat = mean_squared_error(target_valid, predict_cat)**0.5\n",
    "print('RMSE CatBoostRegressor:', round(rmse_cat,2))"
   ]
  },
  {
   "cell_type": "markdown",
   "metadata": {},
   "source": [
    "Перейдем к LightGBM."
   ]
  },
  {
   "cell_type": "code",
   "execution_count": 62,
   "metadata": {},
   "outputs": [
    {
     "name": "stdout",
     "output_type": "stream",
     "text": [
      "RMSE LGBMRegressor: 1752.49\n",
      "CPU times: user 5min 52s, sys: 95.1 ms, total: 5min 52s\n",
      "Wall time: 5min 56s\n"
     ]
    }
   ],
   "source": [
    "%%time\n",
    "model = LGBMRegressor(random_state=42)\n",
    "model.fit(features_train, target_train)\n",
    "predict_lgb = model.predict(features_valid)\n",
    "rmse_lgb = mean_squared_error(target_valid, predict_lgb)**0.5\n",
    "print('RMSE LGBMRegressor:', round(rmse_lgb, 2))"
   ]
  },
  {
   "cell_type": "markdown",
   "metadata": {},
   "source": [
    "Проведено обучение моделей: LinearRegression, RandomForestRegressor, LightGBM и CatBoostRegressor. \n",
    "Наилучшее время обучения у \n",
    "LightGBM, а наименьшее RMSE у CatBoostRegressor."
   ]
  },
  {
   "cell_type": "markdown",
   "metadata": {},
   "source": [
    "## Анализ моделей"
   ]
  },
  {
   "cell_type": "markdown",
   "metadata": {},
   "source": [
    "Проанализируем время обучения моделей, время предсказания и качество моделей.\n",
    "Выберем лучшую модель, опираясь на качество, полученное на валидационной выборке."
   ]
  },
  {
   "cell_type": "code",
   "execution_count": 63,
   "metadata": {},
   "outputs": [
    {
     "name": "stdout",
     "output_type": "stream",
     "text": [
      "CPU times: user 2.04 ms, sys: 129 µs, total: 2.16 ms\n",
      "Wall time: 3.08 ms\n"
     ]
    },
    {
     "data": {
      "text/plain": [
       "DummyRegressor()"
      ]
     },
     "execution_count": 63,
     "metadata": {},
     "output_type": "execute_result"
    }
   ],
   "source": [
    "%%time\n",
    "const_model = DummyRegressor(strategy=\"mean\")\n",
    "const_model.fit(features_train, target_train)"
   ]
  },
  {
   "cell_type": "code",
   "execution_count": 64,
   "metadata": {},
   "outputs": [
    {
     "name": "stdout",
     "output_type": "stream",
     "text": [
      "RMSE константной модели на валидационной выборке: 4504.034991674916\n",
      "CPU times: user 2.54 ms, sys: 161 µs, total: 2.7 ms\n",
      "Wall time: 2.05 ms\n"
     ]
    }
   ],
   "source": [
    "%%time\n",
    "predicted_const_model = const_model.predict(features_valid)\n",
    "RMSE_const_model = mean_squared_error(target_valid, predicted_const_model)**0.5 \n",
    "print('RMSE константной модели на валидационной выборке:', RMSE_const_model)"
   ]
  },
  {
   "cell_type": "code",
   "execution_count": 65,
   "metadata": {},
   "outputs": [
    {
     "name": "stdout",
     "output_type": "stream",
     "text": [
      "CPU times: user 18.2 s, sys: 18.6 s, total: 36.8 s\n",
      "Wall time: 37.1 s\n"
     ]
    },
    {
     "data": {
      "text/plain": [
       "LinearRegression()"
      ]
     },
     "execution_count": 65,
     "metadata": {},
     "output_type": "execute_result"
    }
   ],
   "source": [
    "%%time\n",
    "linear_model_valid = LinearRegression()\n",
    "linear_model_valid.fit(features_train_ohe, target_train_ohe)"
   ]
  },
  {
   "cell_type": "code",
   "execution_count": 66,
   "metadata": {},
   "outputs": [
    {
     "name": "stdout",
     "output_type": "stream",
     "text": [
      "RMSE LinearRegression на валидационной выборке: 2835.44\n",
      "CPU times: user 237 ms, sys: 155 ms, total: 392 ms\n",
      "Wall time: 407 ms\n"
     ]
    }
   ],
   "source": [
    "%%time\n",
    "predicted_linear_model_valid = linear_model_valid.predict(features_valid_ohe)\n",
    "RMSE_linear_model_valid = mean_squared_error(target_valid_ohe, predicted_linear_model_valid)**0.5 \n",
    "print('RMSE LinearRegression на валидационной выборке:', round(RMSE_linear_model_valid,2))"
   ]
  },
  {
   "cell_type": "code",
   "execution_count": 67,
   "metadata": {},
   "outputs": [
    {
     "name": "stdout",
     "output_type": "stream",
     "text": [
      "CPU times: user 2.69 s, sys: 39.5 ms, total: 2.73 s\n",
      "Wall time: 2.74 s\n"
     ]
    },
    {
     "data": {
      "text/plain": [
       "RandomForestRegressor(max_depth=4, n_estimators=19, random_state=42)"
      ]
     },
     "execution_count": 67,
     "metadata": {},
     "output_type": "execute_result"
    }
   ],
   "source": [
    "%%time\n",
    "forest_model = RandomForestRegressor(max_depth=4, n_estimators=19, random_state=42)\n",
    "forest_model.fit(features_train, target_train)"
   ]
  },
  {
   "cell_type": "code",
   "execution_count": 68,
   "metadata": {},
   "outputs": [
    {
     "name": "stdout",
     "output_type": "stream",
     "text": [
      "RMSE RandomForestRegressor на валидационной выборке: 2595.35\n",
      "CPU times: user 55.2 ms, sys: 294 µs, total: 55.5 ms\n",
      "Wall time: 64.9 ms\n"
     ]
    }
   ],
   "source": [
    "%%time\n",
    "predicted_forest_model = forest_model.predict(features_valid)\n",
    "RMSE_forest_model = mean_squared_error(target_valid, predicted_forest_model)**0.5 \n",
    "print('RMSE RandomForestRegressor на валидационной выборке:', round(RMSE_forest_model,2))"
   ]
  },
  {
   "cell_type": "code",
   "execution_count": 69,
   "metadata": {},
   "outputs": [
    {
     "name": "stdout",
     "output_type": "stream",
     "text": [
      "CPU times: user 33.2 s, sys: 170 ms, total: 33.4 s\n",
      "Wall time: 34.4 s\n"
     ]
    },
    {
     "data": {
      "text/plain": [
       "<catboost.core.CatBoostRegressor at 0x7f6caaa6aa30>"
      ]
     },
     "execution_count": 69,
     "metadata": {},
     "output_type": "execute_result"
    }
   ],
   "source": [
    "%%time\n",
    "cat_model = CatBoostRegressor()\n",
    "cat_model.fit(features_train, target_train, verbose=False)"
   ]
  },
  {
   "cell_type": "code",
   "execution_count": 70,
   "metadata": {},
   "outputs": [
    {
     "name": "stdout",
     "output_type": "stream",
     "text": [
      "RMSE CatBoostRegressor на валидационной выборке: 1650.17\n",
      "CPU times: user 104 ms, sys: 7.34 ms, total: 111 ms\n",
      "Wall time: 110 ms\n"
     ]
    }
   ],
   "source": [
    "%%time\n",
    "predict_cat = cat_model.predict(features_valid)\n",
    "RMSE_cat = mean_squared_error(target_valid, predict_cat)**0.5\n",
    "print('RMSE CatBoostRegressor на валидационной выборке:', round(RMSE_cat,2))"
   ]
  },
  {
   "cell_type": "code",
   "execution_count": 71,
   "metadata": {},
   "outputs": [
    {
     "name": "stdout",
     "output_type": "stream",
     "text": [
      "CPU times: user 5min 52s, sys: 4.02 s, total: 5min 56s\n",
      "Wall time: 5min 58s\n"
     ]
    },
    {
     "data": {
      "text/plain": [
       "LGBMRegressor(random_state=42)"
      ]
     },
     "execution_count": 71,
     "metadata": {},
     "output_type": "execute_result"
    }
   ],
   "source": [
    "%%time\n",
    "lgb_model = LGBMRegressor(random_state=42)\n",
    "lgb_model.fit(features_train, target_train)"
   ]
  },
  {
   "cell_type": "code",
   "execution_count": 72,
   "metadata": {},
   "outputs": [
    {
     "name": "stdout",
     "output_type": "stream",
     "text": [
      "RMSE LGBMRegressor на валидационной выборке: 1752.49\n",
      "CPU times: user 586 ms, sys: 1.13 ms, total: 587 ms\n",
      "Wall time: 593 ms\n"
     ]
    }
   ],
   "source": [
    "%%time\n",
    "predict_lgb_model = lgb_model.predict(features_valid)\n",
    "mse = mean_squared_error(target_valid, predict_lgb_model)\n",
    "RMSE_lgb_model = mean_squared_error(target_valid, predict_lgb_model)**0.5 \n",
    "print('RMSE LGBMRegressor на валидационной выборке:', round(RMSE_lgb_model,2))"
   ]
  },
  {
   "cell_type": "markdown",
   "metadata": {},
   "source": [
    "Создадим итоговую таблицу для наглядности полученных результатов."
   ]
  },
  {
   "cell_type": "code",
   "execution_count": 73,
   "metadata": {},
   "outputs": [
    {
     "name": "stdout",
     "output_type": "stream",
     "text": [
      "RMSE моделей\n"
     ]
    },
    {
     "data": {
      "text/html": [
       "<div>\n",
       "<style scoped>\n",
       "    .dataframe tbody tr th:only-of-type {\n",
       "        vertical-align: middle;\n",
       "    }\n",
       "\n",
       "    .dataframe tbody tr th {\n",
       "        vertical-align: top;\n",
       "    }\n",
       "\n",
       "    .dataframe thead th {\n",
       "        text-align: right;\n",
       "    }\n",
       "</style>\n",
       "<table border=\"1\" class=\"dataframe\">\n",
       "  <thead>\n",
       "    <tr style=\"text-align: right;\">\n",
       "      <th></th>\n",
       "      <th>Название модели</th>\n",
       "      <th>Время обучения модели, s.</th>\n",
       "      <th>Время предсказания модели, ms.</th>\n",
       "      <th>RMSE</th>\n",
       "    </tr>\n",
       "  </thead>\n",
       "  <tbody>\n",
       "    <tr>\n",
       "      <th>0</th>\n",
       "      <td>DummyRegressor</td>\n",
       "      <td>0.00</td>\n",
       "      <td>1.77</td>\n",
       "      <td>4504.03</td>\n",
       "    </tr>\n",
       "    <tr>\n",
       "      <th>1</th>\n",
       "      <td>LinearRegression</td>\n",
       "      <td>22.50</td>\n",
       "      <td>297.00</td>\n",
       "      <td>2835.44</td>\n",
       "    </tr>\n",
       "    <tr>\n",
       "      <th>2</th>\n",
       "      <td>RandomForestRegressor</td>\n",
       "      <td>2.01</td>\n",
       "      <td>41.20</td>\n",
       "      <td>2595.35</td>\n",
       "    </tr>\n",
       "    <tr>\n",
       "      <th>3</th>\n",
       "      <td>CatBoostRegressor</td>\n",
       "      <td>25.20</td>\n",
       "      <td>61.40</td>\n",
       "      <td>1650.17</td>\n",
       "    </tr>\n",
       "    <tr>\n",
       "      <th>4</th>\n",
       "      <td>LightGBM</td>\n",
       "      <td>40.50</td>\n",
       "      <td>498.00</td>\n",
       "      <td>1752.49</td>\n",
       "    </tr>\n",
       "  </tbody>\n",
       "</table>\n",
       "</div>"
      ],
      "text/plain": [
       "         Название модели  Время обучения модели, s.  \\\n",
       "0         DummyRegressor                       0.00   \n",
       "1       LinearRegression                      22.50   \n",
       "2  RandomForestRegressor                       2.01   \n",
       "3      CatBoostRegressor                      25.20   \n",
       "4               LightGBM                      40.50   \n",
       "\n",
       "   Время предсказания модели, ms.     RMSE  \n",
       "0                            1.77  4504.03  \n",
       "1                          297.00  2835.44  \n",
       "2                           41.20  2595.35  \n",
       "3                           61.40  1650.17  \n",
       "4                          498.00  1752.49  "
      ]
     },
     "metadata": {},
     "output_type": "display_data"
    }
   ],
   "source": [
    "columns = ['Название модели', 'Время обучения модели, s.', 'Время предсказания модели, ms.','RMSE']\n",
    "const_model = ['DummyRegressor', 0 , 1.77, round(RMSE_const_model,2)]\n",
    "linear_model = ['LinearRegression', 22.5, 297, round(RMSE_linear_model_valid,2)]\n",
    "forest_model = ['RandomForestRegressor', 2.01, 41.2, round(RMSE_forest_model,2)]\n",
    "cat_model = ['CatBoostRegressor', 25.2, 61.4, round(RMSE_cat,2)]\n",
    "lgb_model = ['LightGBM', 40.5, 498, round(RMSE_lgb_model,2)]\n",
    "\n",
    "table = pd.DataFrame([const_model, linear_model, forest_model, cat_model, lgb_model], columns = columns)\n",
    "print('RMSE моделей')\n",
    "display(table)"
   ]
  },
  {
   "cell_type": "markdown",
   "metadata": {},
   "source": [
    "# Тестирование лучшей модели"
   ]
  },
  {
   "cell_type": "code",
   "execution_count": 74,
   "metadata": {},
   "outputs": [
    {
     "name": "stdout",
     "output_type": "stream",
     "text": [
      "RMSE CatBoostRegressor на тестовой выборке: 1647.81\n",
      "CPU times: user 34 s, sys: 229 ms, total: 34.2 s\n",
      "Wall time: 35.4 s\n"
     ]
    }
   ],
   "source": [
    "%%time\n",
    "cat_model_test = CatBoostRegressor()\n",
    "cat_model_test.fit(features_train, target_train, verbose=False)\n",
    "predict_cat_test = cat_model_test.predict(features_test)\n",
    "RMSE_cat_test = mean_squared_error(target_test, predict_cat_test)**0.5\n",
    "print('RMSE CatBoostRegressor на тестовой выборке:', round(RMSE_cat_test,2))"
   ]
  },
  {
   "cell_type": "markdown",
   "metadata": {},
   "source": [
    "**Общий вывод**\n",
    "\n",
    "На первом шаге произведена загрузка данных и их подготовка для обучения моделей. Заполнены пропуски, проведена работа с аномальными значениями. Удалены ненужные столбцы для обучения моделей.\n",
    "\n",
    "На втором шаге проведено обучение моделей: LinearRegression, RandomForestRegressor, LightGBM и CatBoostRegressor.\n",
    "\n",
    "На третьем шаге проведена проверка модели на адекватность, оценка RMSE на тестовой выборке и определено время обучения.\n",
    "Наименьший показатель RMSE у CatBoostRegressor (1654,15), время обучения 25.2 s, а время предсказания 61.4 ms. \n",
    "На втором месте - LightGBM, RMSE составил 1750.94, время обучения 40.5 s, время предсказания 498 ms.\n",
    "\n",
    "С учетом полученных результатов и требованием заказчика, \n",
    "рекомендовано использовать **CatBoostRegressor**."
   ]
  }
 ],
 "metadata": {
  "ExecuteTimeLog": [
   {
    "duration": 376,
    "start_time": "2022-10-24T04:01:01.063Z"
   },
   {
    "duration": 83,
    "start_time": "2022-10-24T04:01:37.860Z"
   },
   {
    "duration": 1029,
    "start_time": "2022-10-24T04:01:44.242Z"
   },
   {
    "duration": 778,
    "start_time": "2022-10-24T04:01:52.174Z"
   },
   {
    "duration": 814,
    "start_time": "2022-10-24T04:15:19.257Z"
   },
   {
    "duration": 735,
    "start_time": "2022-10-24T04:17:01.639Z"
   },
   {
    "duration": 689,
    "start_time": "2022-10-24T04:17:15.960Z"
   },
   {
    "duration": 66,
    "start_time": "2022-10-24T04:19:44.410Z"
   },
   {
    "duration": 2,
    "start_time": "2022-10-24T04:19:51.369Z"
   },
   {
    "duration": 9,
    "start_time": "2022-10-24T04:19:53.095Z"
   },
   {
    "duration": 63,
    "start_time": "2022-10-24T04:20:07.002Z"
   },
   {
    "duration": 869,
    "start_time": "2022-10-24T04:20:22.284Z"
   },
   {
    "duration": 517,
    "start_time": "2022-10-24T04:20:26.028Z"
   },
   {
    "duration": 456,
    "start_time": "2022-10-24T04:21:39.933Z"
   },
   {
    "duration": 468,
    "start_time": "2022-10-24T04:25:58.738Z"
   },
   {
    "duration": 562,
    "start_time": "2022-10-24T04:26:10.433Z"
   },
   {
    "duration": 400,
    "start_time": "2022-10-24T04:26:26.330Z"
   },
   {
    "duration": 562,
    "start_time": "2022-10-24T04:26:33.421Z"
   },
   {
    "duration": 659,
    "start_time": "2022-10-24T04:26:38.733Z"
   },
   {
    "duration": 569,
    "start_time": "2022-10-24T04:26:46.872Z"
   },
   {
    "duration": 588,
    "start_time": "2022-10-24T04:26:53.830Z"
   },
   {
    "duration": 566,
    "start_time": "2022-10-24T04:27:01.957Z"
   },
   {
    "duration": 545,
    "start_time": "2022-10-24T04:27:12.273Z"
   },
   {
    "duration": 406,
    "start_time": "2022-10-24T04:27:43.130Z"
   },
   {
    "duration": 413,
    "start_time": "2022-10-24T04:28:13.990Z"
   },
   {
    "duration": 3,
    "start_time": "2022-10-24T04:30:48.553Z"
   },
   {
    "duration": 4,
    "start_time": "2022-10-24T04:33:25.452Z"
   },
   {
    "duration": 43,
    "start_time": "2022-10-24T07:08:30.831Z"
   },
   {
    "duration": 1082,
    "start_time": "2022-10-24T07:09:36.855Z"
   },
   {
    "duration": 775,
    "start_time": "2022-10-24T07:09:37.939Z"
   },
   {
    "duration": 843,
    "start_time": "2022-10-24T07:09:38.716Z"
   },
   {
    "duration": 3,
    "start_time": "2022-10-24T07:09:39.561Z"
   },
   {
    "duration": 10,
    "start_time": "2022-10-24T07:09:39.566Z"
   },
   {
    "duration": 166,
    "start_time": "2022-10-24T07:09:39.577Z"
   },
   {
    "duration": 0,
    "start_time": "2022-10-24T07:09:39.745Z"
   },
   {
    "duration": 0,
    "start_time": "2022-10-24T07:09:39.746Z"
   },
   {
    "duration": 592,
    "start_time": "2022-10-24T07:11:15.062Z"
   },
   {
    "duration": 1063,
    "start_time": "2022-10-24T07:11:52.370Z"
   },
   {
    "duration": 753,
    "start_time": "2022-10-24T07:11:53.435Z"
   },
   {
    "duration": 751,
    "start_time": "2022-10-24T07:11:54.189Z"
   },
   {
    "duration": 3,
    "start_time": "2022-10-24T07:11:54.941Z"
   },
   {
    "duration": 8,
    "start_time": "2022-10-24T07:11:54.946Z"
   },
   {
    "duration": 593,
    "start_time": "2022-10-24T07:11:54.955Z"
   },
   {
    "duration": 3,
    "start_time": "2022-10-24T07:11:55.549Z"
   },
   {
    "duration": 436,
    "start_time": "2022-10-24T07:11:55.553Z"
   },
   {
    "duration": 133,
    "start_time": "2022-10-24T07:13:24.153Z"
   },
   {
    "duration": 440,
    "start_time": "2022-10-24T07:31:31.095Z"
   },
   {
    "duration": 452,
    "start_time": "2022-10-24T07:31:39.866Z"
   },
   {
    "duration": 120,
    "start_time": "2022-10-24T07:34:12.922Z"
   },
   {
    "duration": 115,
    "start_time": "2022-10-24T08:23:28.908Z"
   },
   {
    "duration": 16,
    "start_time": "2022-10-24T09:18:00.715Z"
   },
   {
    "duration": 3,
    "start_time": "2022-10-24T09:18:55.116Z"
   },
   {
    "duration": 51,
    "start_time": "2022-10-24T09:20:33.855Z"
   },
   {
    "duration": 94,
    "start_time": "2022-10-24T09:20:39.343Z"
   },
   {
    "duration": 189,
    "start_time": "2022-10-24T09:22:07.348Z"
   },
   {
    "duration": 88,
    "start_time": "2022-10-24T09:22:21.839Z"
   },
   {
    "duration": 1478,
    "start_time": "2022-10-24T09:22:37.580Z"
   },
   {
    "duration": 14,
    "start_time": "2022-10-24T09:25:40.388Z"
   },
   {
    "duration": 24,
    "start_time": "2022-10-24T09:25:51.764Z"
   },
   {
    "duration": 24,
    "start_time": "2022-10-24T09:26:22.564Z"
   },
   {
    "duration": 22,
    "start_time": "2022-10-24T09:26:29.549Z"
   },
   {
    "duration": 10,
    "start_time": "2022-10-24T09:31:52.354Z"
   },
   {
    "duration": 321,
    "start_time": "2022-10-24T09:32:36.584Z"
   },
   {
    "duration": 314,
    "start_time": "2022-10-24T09:32:50.875Z"
   },
   {
    "duration": 300,
    "start_time": "2022-10-24T09:32:56.722Z"
   },
   {
    "duration": 1154,
    "start_time": "2022-10-24T09:33:05.185Z"
   },
   {
    "duration": 791,
    "start_time": "2022-10-24T09:33:06.342Z"
   },
   {
    "duration": 812,
    "start_time": "2022-10-24T09:33:07.135Z"
   },
   {
    "duration": 464,
    "start_time": "2022-10-24T09:33:07.950Z"
   },
   {
    "duration": 130,
    "start_time": "2022-10-24T09:33:08.417Z"
   },
   {
    "duration": 872,
    "start_time": "2022-10-24T09:33:08.549Z"
   },
   {
    "duration": 0,
    "start_time": "2022-10-24T09:33:09.423Z"
   },
   {
    "duration": 0,
    "start_time": "2022-10-24T09:33:09.425Z"
   },
   {
    "duration": 0,
    "start_time": "2022-10-24T09:33:09.426Z"
   },
   {
    "duration": 0,
    "start_time": "2022-10-24T09:33:09.427Z"
   },
   {
    "duration": 0,
    "start_time": "2022-10-24T09:33:09.428Z"
   },
   {
    "duration": 0,
    "start_time": "2022-10-24T09:33:09.429Z"
   },
   {
    "duration": 0,
    "start_time": "2022-10-24T09:33:09.430Z"
   },
   {
    "duration": 0,
    "start_time": "2022-10-24T09:33:09.431Z"
   },
   {
    "duration": 0,
    "start_time": "2022-10-24T09:33:09.432Z"
   },
   {
    "duration": 0,
    "start_time": "2022-10-24T09:33:09.433Z"
   },
   {
    "duration": 4,
    "start_time": "2022-10-24T09:34:01.769Z"
   },
   {
    "duration": 283,
    "start_time": "2022-10-24T09:34:02.922Z"
   },
   {
    "duration": 9,
    "start_time": "2022-10-24T09:34:07.949Z"
   },
   {
    "duration": 4092,
    "start_time": "2022-10-24T09:34:47.692Z"
   },
   {
    "duration": 4228,
    "start_time": "2022-10-24T09:34:53.567Z"
   },
   {
    "duration": 2063,
    "start_time": "2022-10-24T09:35:11.445Z"
   },
   {
    "duration": 29,
    "start_time": "2022-10-24T09:35:25.859Z"
   },
   {
    "duration": 13,
    "start_time": "2022-10-24T09:36:44.237Z"
   },
   {
    "duration": 829,
    "start_time": "2022-10-24T09:37:32.964Z"
   },
   {
    "duration": 915,
    "start_time": "2022-10-24T09:37:50.150Z"
   },
   {
    "duration": 806,
    "start_time": "2022-10-24T09:39:19.051Z"
   },
   {
    "duration": 779,
    "start_time": "2022-10-24T09:39:31.669Z"
   },
   {
    "duration": 8,
    "start_time": "2022-10-24T09:39:51.244Z"
   },
   {
    "duration": 16,
    "start_time": "2022-10-24T09:41:48.883Z"
   },
   {
    "duration": 4783,
    "start_time": "2022-10-24T09:43:14.178Z"
   },
   {
    "duration": 144,
    "start_time": "2022-10-24T09:43:31.241Z"
   },
   {
    "duration": 246,
    "start_time": "2022-10-24T09:44:13.963Z"
   },
   {
    "duration": 246,
    "start_time": "2022-10-24T09:46:01.725Z"
   },
   {
    "duration": 13,
    "start_time": "2022-10-24T09:47:54.406Z"
   },
   {
    "duration": 22,
    "start_time": "2022-10-24T09:48:55.210Z"
   },
   {
    "duration": 22,
    "start_time": "2022-10-24T09:50:22.867Z"
   },
   {
    "duration": 28,
    "start_time": "2022-10-24T09:50:31.917Z"
   },
   {
    "duration": 29,
    "start_time": "2022-10-24T09:50:52.845Z"
   },
   {
    "duration": 5,
    "start_time": "2022-10-24T09:52:06.462Z"
   },
   {
    "duration": 5,
    "start_time": "2022-10-24T09:52:12.473Z"
   },
   {
    "duration": 27,
    "start_time": "2022-10-24T09:54:28.018Z"
   },
   {
    "duration": 5,
    "start_time": "2022-10-24T09:54:47.059Z"
   },
   {
    "duration": 5,
    "start_time": "2022-10-24T09:55:02.143Z"
   },
   {
    "duration": 5,
    "start_time": "2022-10-24T09:55:16.257Z"
   },
   {
    "duration": 9,
    "start_time": "2022-10-24T09:59:10.071Z"
   },
   {
    "duration": 8,
    "start_time": "2022-10-24T09:59:45.215Z"
   },
   {
    "duration": 3,
    "start_time": "2022-10-24T10:00:01.072Z"
   },
   {
    "duration": 31,
    "start_time": "2022-10-24T10:00:02.020Z"
   },
   {
    "duration": 9,
    "start_time": "2022-10-24T10:00:02.485Z"
   },
   {
    "duration": 9,
    "start_time": "2022-10-24T10:00:15.936Z"
   },
   {
    "duration": 8,
    "start_time": "2022-10-24T10:00:59.136Z"
   },
   {
    "duration": 44,
    "start_time": "2022-10-24T14:03:07.425Z"
   },
   {
    "duration": 2,
    "start_time": "2022-10-24T14:03:11.367Z"
   },
   {
    "duration": 5,
    "start_time": "2022-10-24T14:03:13.127Z"
   },
   {
    "duration": 1358,
    "start_time": "2022-10-24T14:03:19.233Z"
   },
   {
    "duration": 1072,
    "start_time": "2022-10-24T14:03:20.593Z"
   },
   {
    "duration": 755,
    "start_time": "2022-10-24T14:03:21.666Z"
   },
   {
    "duration": 404,
    "start_time": "2022-10-24T14:03:22.423Z"
   },
   {
    "duration": 119,
    "start_time": "2022-10-24T14:03:22.829Z"
   },
   {
    "duration": 6,
    "start_time": "2022-10-24T14:03:22.950Z"
   },
   {
    "duration": 5,
    "start_time": "2022-10-24T14:03:22.957Z"
   },
   {
    "duration": 230,
    "start_time": "2022-10-24T14:03:22.963Z"
   },
   {
    "duration": 94,
    "start_time": "2022-10-24T14:03:23.195Z"
   },
   {
    "duration": 0,
    "start_time": "2022-10-24T14:03:23.291Z"
   },
   {
    "duration": 0,
    "start_time": "2022-10-24T14:03:23.292Z"
   },
   {
    "duration": 0,
    "start_time": "2022-10-24T14:03:23.293Z"
   },
   {
    "duration": 0,
    "start_time": "2022-10-24T14:03:23.295Z"
   },
   {
    "duration": 0,
    "start_time": "2022-10-24T14:03:23.295Z"
   },
   {
    "duration": 0,
    "start_time": "2022-10-24T14:03:23.297Z"
   },
   {
    "duration": 0,
    "start_time": "2022-10-24T14:03:23.298Z"
   },
   {
    "duration": 0,
    "start_time": "2022-10-24T14:03:23.299Z"
   },
   {
    "duration": 0,
    "start_time": "2022-10-24T14:03:23.300Z"
   },
   {
    "duration": 0,
    "start_time": "2022-10-24T14:03:23.301Z"
   },
   {
    "duration": 0,
    "start_time": "2022-10-24T14:03:23.303Z"
   },
   {
    "duration": 0,
    "start_time": "2022-10-24T14:03:23.322Z"
   },
   {
    "duration": 8,
    "start_time": "2022-10-24T14:04:15.883Z"
   },
   {
    "duration": 759,
    "start_time": "2022-10-24T14:09:36.608Z"
   },
   {
    "duration": 38,
    "start_time": "2022-10-24T14:09:48.036Z"
   },
   {
    "duration": 31,
    "start_time": "2022-10-24T14:09:53.887Z"
   },
   {
    "duration": 59,
    "start_time": "2022-10-24T14:11:35.226Z"
   },
   {
    "duration": 33,
    "start_time": "2022-10-24T14:12:54.278Z"
   },
   {
    "duration": 1541,
    "start_time": "2022-10-25T02:39:04.716Z"
   },
   {
    "duration": 1579,
    "start_time": "2022-10-25T02:39:06.259Z"
   },
   {
    "duration": 946,
    "start_time": "2022-10-25T02:39:07.841Z"
   },
   {
    "duration": 619,
    "start_time": "2022-10-25T02:39:08.790Z"
   },
   {
    "duration": 132,
    "start_time": "2022-10-25T02:39:09.411Z"
   },
   {
    "duration": 38,
    "start_time": "2022-10-25T02:39:09.545Z"
   },
   {
    "duration": 12,
    "start_time": "2022-10-25T02:39:09.585Z"
   },
   {
    "duration": 286,
    "start_time": "2022-10-25T02:39:09.598Z"
   },
   {
    "duration": 89,
    "start_time": "2022-10-25T02:39:09.886Z"
   },
   {
    "duration": 47,
    "start_time": "2022-10-25T02:39:09.980Z"
   },
   {
    "duration": 167,
    "start_time": "2022-10-25T02:39:10.029Z"
   },
   {
    "duration": 0,
    "start_time": "2022-10-25T02:39:10.198Z"
   },
   {
    "duration": 0,
    "start_time": "2022-10-25T02:39:10.200Z"
   },
   {
    "duration": 0,
    "start_time": "2022-10-25T02:39:10.201Z"
   },
   {
    "duration": 0,
    "start_time": "2022-10-25T02:39:10.203Z"
   },
   {
    "duration": 0,
    "start_time": "2022-10-25T02:39:10.204Z"
   },
   {
    "duration": 0,
    "start_time": "2022-10-25T02:39:10.205Z"
   },
   {
    "duration": 0,
    "start_time": "2022-10-25T02:39:10.207Z"
   },
   {
    "duration": 0,
    "start_time": "2022-10-25T02:39:10.208Z"
   },
   {
    "duration": 0,
    "start_time": "2022-10-25T02:39:10.209Z"
   },
   {
    "duration": 0,
    "start_time": "2022-10-25T02:39:10.210Z"
   },
   {
    "duration": 0,
    "start_time": "2022-10-25T02:39:10.211Z"
   },
   {
    "duration": 10,
    "start_time": "2022-10-25T02:40:42.531Z"
   },
   {
    "duration": 12,
    "start_time": "2022-10-25T02:42:38.881Z"
   },
   {
    "duration": 11,
    "start_time": "2022-10-25T02:42:44.805Z"
   },
   {
    "duration": 3,
    "start_time": "2022-10-25T02:43:03.941Z"
   },
   {
    "duration": 9,
    "start_time": "2022-10-25T02:43:07.049Z"
   },
   {
    "duration": 10,
    "start_time": "2022-10-25T02:43:22.726Z"
   },
   {
    "duration": 40,
    "start_time": "2022-10-25T02:47:11.097Z"
   },
   {
    "duration": 58,
    "start_time": "2022-10-25T02:47:16.255Z"
   },
   {
    "duration": 51,
    "start_time": "2022-10-25T02:47:29.832Z"
   },
   {
    "duration": 3,
    "start_time": "2022-10-25T02:49:29.588Z"
   },
   {
    "duration": 886,
    "start_time": "2022-10-25T02:49:30.201Z"
   },
   {
    "duration": 853,
    "start_time": "2022-10-25T02:49:31.089Z"
   },
   {
    "duration": 483,
    "start_time": "2022-10-25T02:49:31.954Z"
   },
   {
    "duration": 124,
    "start_time": "2022-10-25T02:49:32.700Z"
   },
   {
    "duration": 3,
    "start_time": "2022-10-25T02:49:33.688Z"
   },
   {
    "duration": 3,
    "start_time": "2022-10-25T02:49:47.425Z"
   },
   {
    "duration": 273,
    "start_time": "2022-10-25T02:49:51.798Z"
   },
   {
    "duration": 39,
    "start_time": "2022-10-25T02:50:12.981Z"
   },
   {
    "duration": 201,
    "start_time": "2022-10-25T02:50:22.611Z"
   },
   {
    "duration": 211,
    "start_time": "2022-10-25T02:52:11.414Z"
   },
   {
    "duration": 4,
    "start_time": "2022-10-25T02:52:20.372Z"
   },
   {
    "duration": 896,
    "start_time": "2022-10-25T02:52:20.379Z"
   },
   {
    "duration": 946,
    "start_time": "2022-10-25T02:52:21.277Z"
   },
   {
    "duration": 517,
    "start_time": "2022-10-25T02:52:22.225Z"
   },
   {
    "duration": 133,
    "start_time": "2022-10-25T02:52:22.744Z"
   },
   {
    "duration": 46,
    "start_time": "2022-10-25T02:52:22.879Z"
   },
   {
    "duration": 69,
    "start_time": "2022-10-25T02:52:22.927Z"
   },
   {
    "duration": 333,
    "start_time": "2022-10-25T02:52:22.998Z"
   },
   {
    "duration": 48,
    "start_time": "2022-10-25T02:52:23.333Z"
   },
   {
    "duration": 208,
    "start_time": "2022-10-25T02:52:23.384Z"
   },
   {
    "duration": 734,
    "start_time": "2022-10-25T02:52:23.594Z"
   },
   {
    "duration": 61,
    "start_time": "2022-10-25T02:52:24.330Z"
   },
   {
    "duration": 0,
    "start_time": "2022-10-25T02:52:24.393Z"
   },
   {
    "duration": 0,
    "start_time": "2022-10-25T02:52:24.394Z"
   },
   {
    "duration": 0,
    "start_time": "2022-10-25T02:52:24.395Z"
   },
   {
    "duration": 0,
    "start_time": "2022-10-25T02:52:24.397Z"
   },
   {
    "duration": 21,
    "start_time": "2022-10-25T02:52:45.392Z"
   },
   {
    "duration": 63,
    "start_time": "2022-10-25T02:53:25.362Z"
   },
   {
    "duration": 66,
    "start_time": "2022-10-25T02:53:30.198Z"
   },
   {
    "duration": 52,
    "start_time": "2022-10-25T02:53:35.691Z"
   },
   {
    "duration": 53,
    "start_time": "2022-10-25T02:53:46.528Z"
   },
   {
    "duration": 69,
    "start_time": "2022-10-25T02:54:06.652Z"
   },
   {
    "duration": 205,
    "start_time": "2022-10-25T02:54:42.672Z"
   },
   {
    "duration": 14,
    "start_time": "2022-10-25T02:54:58.608Z"
   },
   {
    "duration": 16,
    "start_time": "2022-10-25T02:55:06.676Z"
   },
   {
    "duration": 5,
    "start_time": "2022-10-25T02:55:25.620Z"
   },
   {
    "duration": 1852,
    "start_time": "2022-10-25T02:57:08.974Z"
   },
   {
    "duration": 2328,
    "start_time": "2022-10-25T02:59:11.245Z"
   },
   {
    "duration": 4,
    "start_time": "2022-10-25T02:59:28.977Z"
   },
   {
    "duration": 2084,
    "start_time": "2022-10-25T02:59:42.008Z"
   },
   {
    "duration": 12,
    "start_time": "2022-10-25T03:01:40.172Z"
   },
   {
    "duration": 2616,
    "start_time": "2022-10-25T03:02:49.546Z"
   },
   {
    "duration": 4,
    "start_time": "2022-10-25T03:03:15.137Z"
   },
   {
    "duration": 3310,
    "start_time": "2022-10-25T03:03:16.377Z"
   },
   {
    "duration": 94,
    "start_time": "2022-10-25T03:03:59.379Z"
   },
   {
    "duration": 3514,
    "start_time": "2022-10-25T03:04:17.923Z"
   },
   {
    "duration": 921,
    "start_time": "2022-10-25T03:05:36.881Z"
   },
   {
    "duration": 215,
    "start_time": "2022-10-25T03:06:11.565Z"
   },
   {
    "duration": 1281,
    "start_time": "2022-10-25T03:10:01.476Z"
   },
   {
    "duration": 842,
    "start_time": "2022-10-25T03:10:02.760Z"
   },
   {
    "duration": 840,
    "start_time": "2022-10-25T03:10:03.604Z"
   },
   {
    "duration": 492,
    "start_time": "2022-10-25T03:10:04.447Z"
   },
   {
    "duration": 120,
    "start_time": "2022-10-25T03:10:04.941Z"
   },
   {
    "duration": 24,
    "start_time": "2022-10-25T03:10:05.068Z"
   },
   {
    "duration": 11,
    "start_time": "2022-10-25T03:10:05.094Z"
   },
   {
    "duration": 314,
    "start_time": "2022-10-25T03:10:05.107Z"
   },
   {
    "duration": 47,
    "start_time": "2022-10-25T03:10:05.422Z"
   },
   {
    "duration": 50,
    "start_time": "2022-10-25T03:10:05.471Z"
   },
   {
    "duration": 197,
    "start_time": "2022-10-25T03:10:05.523Z"
   },
   {
    "duration": 747,
    "start_time": "2022-10-25T03:10:05.722Z"
   },
   {
    "duration": 9,
    "start_time": "2022-10-25T03:10:06.470Z"
   },
   {
    "duration": 99,
    "start_time": "2022-10-25T03:10:06.482Z"
   },
   {
    "duration": 156,
    "start_time": "2022-10-25T03:10:06.582Z"
   },
   {
    "duration": 161,
    "start_time": "2022-10-25T03:10:06.740Z"
   },
   {
    "duration": 5,
    "start_time": "2022-10-25T03:10:06.904Z"
   },
   {
    "duration": 130,
    "start_time": "2022-10-25T03:10:06.911Z"
   },
   {
    "duration": 0,
    "start_time": "2022-10-25T03:10:07.043Z"
   },
   {
    "duration": 0,
    "start_time": "2022-10-25T03:10:07.045Z"
   },
   {
    "duration": 0,
    "start_time": "2022-10-25T03:10:07.058Z"
   },
   {
    "duration": 0,
    "start_time": "2022-10-25T03:10:07.059Z"
   },
   {
    "duration": 380,
    "start_time": "2022-10-25T03:10:57.065Z"
   },
   {
    "duration": 396,
    "start_time": "2022-10-25T03:11:13.728Z"
   },
   {
    "duration": 570,
    "start_time": "2022-10-25T03:11:24.760Z"
   },
   {
    "duration": 489,
    "start_time": "2022-10-25T03:11:32.451Z"
   },
   {
    "duration": 1529,
    "start_time": "2022-10-25T03:13:20.154Z"
   },
   {
    "duration": 1217,
    "start_time": "2022-10-25T03:13:21.685Z"
   },
   {
    "duration": 1334,
    "start_time": "2022-10-25T03:13:22.904Z"
   },
   {
    "duration": 666,
    "start_time": "2022-10-25T03:13:24.240Z"
   },
   {
    "duration": 216,
    "start_time": "2022-10-25T03:13:24.910Z"
   },
   {
    "duration": 17,
    "start_time": "2022-10-25T03:13:25.128Z"
   },
   {
    "duration": 50,
    "start_time": "2022-10-25T03:13:25.148Z"
   },
   {
    "duration": 469,
    "start_time": "2022-10-25T03:13:25.200Z"
   },
   {
    "duration": 58,
    "start_time": "2022-10-25T03:13:25.671Z"
   },
   {
    "duration": 50,
    "start_time": "2022-10-25T03:13:25.731Z"
   },
   {
    "duration": 275,
    "start_time": "2022-10-25T03:13:25.786Z"
   },
   {
    "duration": 853,
    "start_time": "2022-10-25T03:13:26.063Z"
   },
   {
    "duration": 6,
    "start_time": "2022-10-25T03:13:26.918Z"
   },
   {
    "duration": 144,
    "start_time": "2022-10-25T03:13:26.927Z"
   },
   {
    "duration": 203,
    "start_time": "2022-10-25T03:13:27.080Z"
   },
   {
    "duration": 689,
    "start_time": "2022-10-25T03:13:27.284Z"
   },
   {
    "duration": 57791,
    "start_time": "2022-10-25T03:13:27.975Z"
   },
   {
    "duration": 173,
    "start_time": "2022-10-25T03:14:25.768Z"
   },
   {
    "duration": 13,
    "start_time": "2022-10-25T03:14:25.944Z"
   },
   {
    "duration": 146,
    "start_time": "2022-10-25T03:14:25.959Z"
   },
   {
    "duration": 0,
    "start_time": "2022-10-25T03:14:26.108Z"
   },
   {
    "duration": 0,
    "start_time": "2022-10-25T03:14:26.109Z"
   },
   {
    "duration": 0,
    "start_time": "2022-10-25T03:14:26.110Z"
   },
   {
    "duration": 0,
    "start_time": "2022-10-25T03:14:26.112Z"
   },
   {
    "duration": 184,
    "start_time": "2022-10-25T03:14:39.995Z"
   },
   {
    "duration": 2343,
    "start_time": "2022-10-25T03:15:08.670Z"
   },
   {
    "duration": 2153,
    "start_time": "2022-10-25T03:15:32.133Z"
   },
   {
    "duration": 238,
    "start_time": "2022-10-25T03:16:13.347Z"
   },
   {
    "duration": 165,
    "start_time": "2022-10-25T03:16:19.878Z"
   },
   {
    "duration": 179,
    "start_time": "2022-10-25T03:17:04.395Z"
   },
   {
    "duration": 138,
    "start_time": "2022-10-25T03:17:48.828Z"
   },
   {
    "duration": 841,
    "start_time": "2022-10-25T03:18:08.937Z"
   },
   {
    "duration": 13,
    "start_time": "2022-10-25T03:18:51.497Z"
   },
   {
    "duration": 48,
    "start_time": "2022-10-25T03:20:04.254Z"
   },
   {
    "duration": 43,
    "start_time": "2022-10-25T03:21:27.877Z"
   },
   {
    "duration": 13,
    "start_time": "2022-10-25T03:22:05.887Z"
   },
   {
    "duration": 8,
    "start_time": "2022-10-25T04:00:33.733Z"
   },
   {
    "duration": 65,
    "start_time": "2022-10-25T04:02:09.310Z"
   },
   {
    "duration": 36,
    "start_time": "2022-10-25T04:02:22.679Z"
   },
   {
    "duration": 5,
    "start_time": "2022-10-25T04:02:34.479Z"
   },
   {
    "duration": 11,
    "start_time": "2022-10-25T04:02:56.482Z"
   },
   {
    "duration": 12,
    "start_time": "2022-10-25T04:03:03.996Z"
   },
   {
    "duration": 18,
    "start_time": "2022-10-25T04:03:10.778Z"
   },
   {
    "duration": 18,
    "start_time": "2022-10-25T04:03:37.970Z"
   },
   {
    "duration": 3,
    "start_time": "2022-10-25T04:03:47.034Z"
   },
   {
    "duration": 995,
    "start_time": "2022-10-25T04:03:47.040Z"
   },
   {
    "duration": 938,
    "start_time": "2022-10-25T04:03:48.037Z"
   },
   {
    "duration": 487,
    "start_time": "2022-10-25T04:03:48.978Z"
   },
   {
    "duration": 163,
    "start_time": "2022-10-25T04:03:49.473Z"
   },
   {
    "duration": 20,
    "start_time": "2022-10-25T04:03:49.639Z"
   },
   {
    "duration": 15,
    "start_time": "2022-10-25T04:03:49.664Z"
   },
   {
    "duration": 306,
    "start_time": "2022-10-25T04:03:49.682Z"
   },
   {
    "duration": 50,
    "start_time": "2022-10-25T04:03:49.990Z"
   },
   {
    "duration": 54,
    "start_time": "2022-10-25T04:03:50.056Z"
   },
   {
    "duration": 59,
    "start_time": "2022-10-25T04:03:50.113Z"
   },
   {
    "duration": 188,
    "start_time": "2022-10-25T04:03:50.180Z"
   },
   {
    "duration": 702,
    "start_time": "2022-10-25T04:03:50.374Z"
   },
   {
    "duration": 7,
    "start_time": "2022-10-25T04:03:51.079Z"
   },
   {
    "duration": 102,
    "start_time": "2022-10-25T04:03:51.088Z"
   },
   {
    "duration": 147,
    "start_time": "2022-10-25T04:03:51.192Z"
   },
   {
    "duration": 594,
    "start_time": "2022-10-25T04:03:51.341Z"
   },
   {
    "duration": 231,
    "start_time": "2022-10-25T04:03:51.937Z"
   },
   {
    "duration": 196,
    "start_time": "2022-10-25T04:03:52.170Z"
   },
   {
    "duration": 202,
    "start_time": "2022-10-25T04:03:52.369Z"
   },
   {
    "duration": 8,
    "start_time": "2022-10-25T04:03:52.577Z"
   },
   {
    "duration": 52,
    "start_time": "2022-10-25T04:03:52.586Z"
   },
   {
    "duration": 6,
    "start_time": "2022-10-25T04:03:52.640Z"
   },
   {
    "duration": 12,
    "start_time": "2022-10-25T04:03:52.649Z"
   },
   {
    "duration": 0,
    "start_time": "2022-10-25T04:03:52.663Z"
   },
   {
    "duration": 0,
    "start_time": "2022-10-25T04:03:52.664Z"
   },
   {
    "duration": 0,
    "start_time": "2022-10-25T04:03:52.665Z"
   },
   {
    "duration": 0,
    "start_time": "2022-10-25T04:03:52.666Z"
   },
   {
    "duration": 0,
    "start_time": "2022-10-25T04:03:52.666Z"
   },
   {
    "duration": 0,
    "start_time": "2022-10-25T04:03:52.667Z"
   },
   {
    "duration": 0,
    "start_time": "2022-10-25T04:03:52.668Z"
   },
   {
    "duration": 16,
    "start_time": "2022-10-25T04:04:34.835Z"
   },
   {
    "duration": 4,
    "start_time": "2022-10-25T04:04:39.608Z"
   },
   {
    "duration": 981,
    "start_time": "2022-10-25T04:04:39.617Z"
   },
   {
    "duration": 966,
    "start_time": "2022-10-25T04:04:40.599Z"
   },
   {
    "duration": 653,
    "start_time": "2022-10-25T04:04:41.571Z"
   },
   {
    "duration": 160,
    "start_time": "2022-10-25T04:04:42.226Z"
   },
   {
    "duration": 43,
    "start_time": "2022-10-25T04:04:42.393Z"
   },
   {
    "duration": 8,
    "start_time": "2022-10-25T04:04:42.438Z"
   },
   {
    "duration": 348,
    "start_time": "2022-10-25T04:04:42.448Z"
   },
   {
    "duration": 51,
    "start_time": "2022-10-25T04:04:42.799Z"
   },
   {
    "duration": 75,
    "start_time": "2022-10-25T04:04:42.858Z"
   },
   {
    "duration": 39,
    "start_time": "2022-10-25T04:04:42.936Z"
   },
   {
    "duration": 228,
    "start_time": "2022-10-25T04:04:42.978Z"
   },
   {
    "duration": 841,
    "start_time": "2022-10-25T04:04:43.209Z"
   },
   {
    "duration": 9,
    "start_time": "2022-10-25T04:04:44.056Z"
   },
   {
    "duration": 135,
    "start_time": "2022-10-25T04:04:44.067Z"
   },
   {
    "duration": 203,
    "start_time": "2022-10-25T04:04:44.205Z"
   },
   {
    "duration": 623,
    "start_time": "2022-10-25T04:04:44.411Z"
   },
   {
    "duration": 250,
    "start_time": "2022-10-25T04:04:45.036Z"
   },
   {
    "duration": 158,
    "start_time": "2022-10-25T04:04:45.291Z"
   },
   {
    "duration": 224,
    "start_time": "2022-10-25T04:04:45.453Z"
   },
   {
    "duration": 9,
    "start_time": "2022-10-25T04:04:45.685Z"
   },
   {
    "duration": 31,
    "start_time": "2022-10-25T04:04:45.696Z"
   },
   {
    "duration": 5,
    "start_time": "2022-10-25T04:04:45.729Z"
   },
   {
    "duration": 22,
    "start_time": "2022-10-25T04:04:45.736Z"
   },
   {
    "duration": 0,
    "start_time": "2022-10-25T04:04:45.773Z"
   },
   {
    "duration": 0,
    "start_time": "2022-10-25T04:04:45.776Z"
   },
   {
    "duration": 0,
    "start_time": "2022-10-25T04:04:45.778Z"
   },
   {
    "duration": 0,
    "start_time": "2022-10-25T04:04:45.779Z"
   },
   {
    "duration": 0,
    "start_time": "2022-10-25T04:04:45.780Z"
   },
   {
    "duration": 0,
    "start_time": "2022-10-25T04:04:45.780Z"
   },
   {
    "duration": 0,
    "start_time": "2022-10-25T04:04:45.781Z"
   },
   {
    "duration": 204,
    "start_time": "2022-10-25T04:05:01.580Z"
   },
   {
    "duration": 149,
    "start_time": "2022-10-25T04:05:26.872Z"
   },
   {
    "duration": 2729,
    "start_time": "2022-10-25T04:05:35.561Z"
   },
   {
    "duration": 180,
    "start_time": "2022-10-25T04:05:44.251Z"
   },
   {
    "duration": 157,
    "start_time": "2022-10-25T04:06:29.386Z"
   },
   {
    "duration": 7,
    "start_time": "2022-10-25T04:06:57.713Z"
   },
   {
    "duration": 8,
    "start_time": "2022-10-25T04:07:42.923Z"
   },
   {
    "duration": 10,
    "start_time": "2022-10-25T04:08:11.484Z"
   },
   {
    "duration": 4,
    "start_time": "2022-10-25T04:09:03.694Z"
   },
   {
    "duration": 1039,
    "start_time": "2022-10-25T04:09:03.700Z"
   },
   {
    "duration": 1060,
    "start_time": "2022-10-25T04:09:04.741Z"
   },
   {
    "duration": 496,
    "start_time": "2022-10-25T04:09:05.803Z"
   },
   {
    "duration": 140,
    "start_time": "2022-10-25T04:09:06.301Z"
   },
   {
    "duration": 4,
    "start_time": "2022-10-25T04:09:06.443Z"
   },
   {
    "duration": 36,
    "start_time": "2022-10-25T04:09:06.456Z"
   },
   {
    "duration": 332,
    "start_time": "2022-10-25T04:09:06.494Z"
   },
   {
    "duration": 45,
    "start_time": "2022-10-25T04:09:06.829Z"
   },
   {
    "duration": 52,
    "start_time": "2022-10-25T04:09:06.879Z"
   },
   {
    "duration": 23,
    "start_time": "2022-10-25T04:09:06.933Z"
   },
   {
    "duration": 202,
    "start_time": "2022-10-25T04:09:06.958Z"
   },
   {
    "duration": 719,
    "start_time": "2022-10-25T04:09:07.164Z"
   },
   {
    "duration": 4,
    "start_time": "2022-10-25T04:09:07.887Z"
   },
   {
    "duration": 145,
    "start_time": "2022-10-25T04:09:07.893Z"
   },
   {
    "duration": 184,
    "start_time": "2022-10-25T04:09:08.040Z"
   },
   {
    "duration": 513,
    "start_time": "2022-10-25T04:09:08.226Z"
   },
   {
    "duration": 194,
    "start_time": "2022-10-25T04:09:08.741Z"
   },
   {
    "duration": 169,
    "start_time": "2022-10-25T04:09:08.937Z"
   },
   {
    "duration": 198,
    "start_time": "2022-10-25T04:09:09.108Z"
   },
   {
    "duration": 7,
    "start_time": "2022-10-25T04:09:09.308Z"
   },
   {
    "duration": 40,
    "start_time": "2022-10-25T04:09:09.316Z"
   },
   {
    "duration": 3,
    "start_time": "2022-10-25T04:09:09.358Z"
   },
   {
    "duration": 177,
    "start_time": "2022-10-25T04:09:09.368Z"
   },
   {
    "duration": 180,
    "start_time": "2022-10-25T04:09:09.548Z"
   },
   {
    "duration": 167,
    "start_time": "2022-10-25T04:09:09.731Z"
   },
   {
    "duration": 10,
    "start_time": "2022-10-25T04:09:09.900Z"
   },
   {
    "duration": 35,
    "start_time": "2022-10-25T04:09:09.911Z"
   },
   {
    "duration": 15,
    "start_time": "2022-10-25T04:09:09.948Z"
   },
   {
    "duration": 626,
    "start_time": "2022-10-25T04:09:09.966Z"
   },
   {
    "duration": 3,
    "start_time": "2022-10-25T04:09:13.284Z"
   },
   {
    "duration": 832,
    "start_time": "2022-10-25T04:09:13.939Z"
   },
   {
    "duration": 837,
    "start_time": "2022-10-25T04:09:14.773Z"
   },
   {
    "duration": 485,
    "start_time": "2022-10-25T04:09:15.618Z"
   },
   {
    "duration": 134,
    "start_time": "2022-10-25T04:09:16.105Z"
   },
   {
    "duration": 5,
    "start_time": "2022-10-25T04:09:16.493Z"
   },
   {
    "duration": 4,
    "start_time": "2022-10-25T04:09:17.383Z"
   },
   {
    "duration": 246,
    "start_time": "2022-10-25T04:09:17.991Z"
   },
   {
    "duration": 34,
    "start_time": "2022-10-25T04:09:33.432Z"
   },
   {
    "duration": 7,
    "start_time": "2022-10-25T04:09:50.649Z"
   },
   {
    "duration": 11,
    "start_time": "2022-10-25T04:10:07.252Z"
   },
   {
    "duration": 11,
    "start_time": "2022-10-25T04:10:18.173Z"
   },
   {
    "duration": 6,
    "start_time": "2022-10-25T04:10:27.336Z"
   },
   {
    "duration": 10,
    "start_time": "2022-10-25T04:10:37.577Z"
   },
   {
    "duration": 6,
    "start_time": "2022-10-25T04:10:48.888Z"
   },
   {
    "duration": 72,
    "start_time": "2022-10-25T04:12:38.921Z"
   },
   {
    "duration": 62,
    "start_time": "2022-10-25T04:12:51.534Z"
   },
   {
    "duration": 64,
    "start_time": "2022-10-25T04:12:58.801Z"
   },
   {
    "duration": 63,
    "start_time": "2022-10-25T04:13:04.603Z"
   },
   {
    "duration": 43,
    "start_time": "2022-10-25T04:13:27.731Z"
   },
   {
    "duration": 51,
    "start_time": "2022-10-25T04:13:41.471Z"
   },
   {
    "duration": 10,
    "start_time": "2022-10-25T04:14:17.692Z"
   },
   {
    "duration": 12,
    "start_time": "2022-10-25T04:14:23.639Z"
   },
   {
    "duration": 37,
    "start_time": "2022-10-25T04:14:47.832Z"
   },
   {
    "duration": 36,
    "start_time": "2022-10-25T04:15:06.844Z"
   },
   {
    "duration": 992,
    "start_time": "2022-10-25T04:15:36.579Z"
   },
   {
    "duration": 11,
    "start_time": "2022-10-25T04:15:55.981Z"
   },
   {
    "duration": 177,
    "start_time": "2022-10-25T04:22:24.633Z"
   },
   {
    "duration": 9,
    "start_time": "2022-10-25T04:22:33.992Z"
   },
   {
    "duration": 5,
    "start_time": "2022-10-25T04:22:43.937Z"
   },
   {
    "duration": 6,
    "start_time": "2022-10-25T04:22:48.602Z"
   },
   {
    "duration": 124,
    "start_time": "2022-10-25T04:23:15.074Z"
   },
   {
    "duration": 7,
    "start_time": "2022-10-25T04:23:24.302Z"
   },
   {
    "duration": 174,
    "start_time": "2022-10-25T04:23:51.433Z"
   },
   {
    "duration": 154,
    "start_time": "2022-10-25T04:24:34.992Z"
   },
   {
    "duration": 152,
    "start_time": "2022-10-25T04:24:37.042Z"
   },
   {
    "duration": 8,
    "start_time": "2022-10-25T04:25:30.652Z"
   },
   {
    "duration": 5,
    "start_time": "2022-10-25T04:26:22.691Z"
   },
   {
    "duration": 6,
    "start_time": "2022-10-25T04:26:50.148Z"
   },
   {
    "duration": 12,
    "start_time": "2022-10-25T04:27:38.617Z"
   },
   {
    "duration": 7,
    "start_time": "2022-10-25T11:12:57.226Z"
   },
   {
    "duration": 172,
    "start_time": "2022-10-25T11:13:39.834Z"
   },
   {
    "duration": 137,
    "start_time": "2022-10-25T11:14:05.396Z"
   },
   {
    "duration": 148,
    "start_time": "2022-10-25T11:14:33.848Z"
   },
   {
    "duration": 5,
    "start_time": "2022-10-25T11:33:08.005Z"
   },
   {
    "duration": 9,
    "start_time": "2022-10-25T11:35:07.528Z"
   },
   {
    "duration": 9,
    "start_time": "2022-10-25T11:35:25.005Z"
   },
   {
    "duration": 15,
    "start_time": "2022-10-25T11:35:36.803Z"
   },
   {
    "duration": 62676,
    "start_time": "2022-10-25T11:35:55.094Z"
   },
   {
    "duration": 1395,
    "start_time": "2022-10-25T12:54:18.814Z"
   },
   {
    "duration": 1529,
    "start_time": "2022-10-25T12:54:20.926Z"
   },
   {
    "duration": 1074,
    "start_time": "2022-10-25T12:54:24.832Z"
   },
   {
    "duration": 618,
    "start_time": "2022-10-25T12:54:26.804Z"
   },
   {
    "duration": 189,
    "start_time": "2022-10-25T12:54:31.677Z"
   },
   {
    "duration": 24,
    "start_time": "2022-10-25T12:55:03.881Z"
   },
   {
    "duration": 48,
    "start_time": "2022-10-25T12:55:20.089Z"
   },
   {
    "duration": 179,
    "start_time": "2022-10-25T12:55:27.697Z"
   },
   {
    "duration": 171,
    "start_time": "2022-10-25T12:55:42.726Z"
   },
   {
    "duration": 164,
    "start_time": "2022-10-25T12:56:13.876Z"
   },
   {
    "duration": 137,
    "start_time": "2022-10-25T12:56:28.795Z"
   },
   {
    "duration": 13,
    "start_time": "2022-10-25T12:56:40.719Z"
   },
   {
    "duration": 140,
    "start_time": "2022-10-25T12:57:33.902Z"
   },
   {
    "duration": 15,
    "start_time": "2022-10-25T12:57:41.322Z"
   },
   {
    "duration": 68,
    "start_time": "2022-10-25T12:58:45.715Z"
   },
   {
    "duration": 254,
    "start_time": "2022-10-25T12:58:56.411Z"
   },
   {
    "duration": 1397,
    "start_time": "2022-10-25T12:59:27.802Z"
   },
   {
    "duration": 936,
    "start_time": "2022-10-25T12:59:29.201Z"
   },
   {
    "duration": 939,
    "start_time": "2022-10-25T12:59:30.139Z"
   },
   {
    "duration": 543,
    "start_time": "2022-10-25T12:59:31.087Z"
   },
   {
    "duration": 180,
    "start_time": "2022-10-25T12:59:31.632Z"
   },
   {
    "duration": 133,
    "start_time": "2022-10-25T12:59:40.602Z"
   },
   {
    "duration": 215,
    "start_time": "2022-10-25T13:00:22.130Z"
   },
   {
    "duration": 1360,
    "start_time": "2022-10-25T13:02:30.899Z"
   },
   {
    "duration": 933,
    "start_time": "2022-10-25T13:02:32.264Z"
   },
   {
    "duration": 952,
    "start_time": "2022-10-25T13:02:33.204Z"
   },
   {
    "duration": 566,
    "start_time": "2022-10-25T13:02:34.160Z"
   },
   {
    "duration": 150,
    "start_time": "2022-10-25T13:02:34.729Z"
   },
   {
    "duration": 22,
    "start_time": "2022-10-25T13:02:34.881Z"
   },
   {
    "duration": 30,
    "start_time": "2022-10-25T13:02:34.906Z"
   },
   {
    "duration": 9,
    "start_time": "2022-10-25T13:02:34.938Z"
   },
   {
    "duration": 370,
    "start_time": "2022-10-25T13:02:34.948Z"
   },
   {
    "duration": 7,
    "start_time": "2022-10-25T13:02:35.320Z"
   },
   {
    "duration": 80,
    "start_time": "2022-10-25T13:02:35.329Z"
   },
   {
    "duration": 37,
    "start_time": "2022-10-25T13:02:35.410Z"
   },
   {
    "duration": 8,
    "start_time": "2022-10-25T13:02:35.449Z"
   },
   {
    "duration": 116,
    "start_time": "2022-10-25T13:02:35.460Z"
   },
   {
    "duration": 75,
    "start_time": "2022-10-25T13:02:35.577Z"
   },
   {
    "duration": 0,
    "start_time": "2022-10-25T13:02:35.658Z"
   },
   {
    "duration": 0,
    "start_time": "2022-10-25T13:02:35.659Z"
   },
   {
    "duration": 0,
    "start_time": "2022-10-25T13:02:35.660Z"
   },
   {
    "duration": 0,
    "start_time": "2022-10-25T13:02:35.661Z"
   },
   {
    "duration": 0,
    "start_time": "2022-10-25T13:02:35.662Z"
   },
   {
    "duration": 0,
    "start_time": "2022-10-25T13:02:35.663Z"
   },
   {
    "duration": 0,
    "start_time": "2022-10-25T13:02:35.668Z"
   },
   {
    "duration": 0,
    "start_time": "2022-10-25T13:02:35.669Z"
   },
   {
    "duration": 0,
    "start_time": "2022-10-25T13:02:35.672Z"
   },
   {
    "duration": 0,
    "start_time": "2022-10-25T13:02:35.673Z"
   },
   {
    "duration": 0,
    "start_time": "2022-10-25T13:02:35.673Z"
   },
   {
    "duration": 0,
    "start_time": "2022-10-25T13:02:35.683Z"
   },
   {
    "duration": 0,
    "start_time": "2022-10-25T13:02:35.684Z"
   },
   {
    "duration": 0,
    "start_time": "2022-10-25T13:02:35.685Z"
   },
   {
    "duration": 0,
    "start_time": "2022-10-25T13:02:35.686Z"
   },
   {
    "duration": 0,
    "start_time": "2022-10-25T13:02:35.687Z"
   },
   {
    "duration": 0,
    "start_time": "2022-10-25T13:02:35.688Z"
   },
   {
    "duration": 0,
    "start_time": "2022-10-25T13:02:35.689Z"
   },
   {
    "duration": 0,
    "start_time": "2022-10-25T13:02:35.690Z"
   },
   {
    "duration": 0,
    "start_time": "2022-10-25T13:02:35.690Z"
   },
   {
    "duration": 0,
    "start_time": "2022-10-25T13:02:35.694Z"
   },
   {
    "duration": 0,
    "start_time": "2022-10-25T13:02:35.695Z"
   },
   {
    "duration": 0,
    "start_time": "2022-10-25T13:02:35.696Z"
   },
   {
    "duration": 0,
    "start_time": "2022-10-25T13:02:35.698Z"
   },
   {
    "duration": 1454,
    "start_time": "2022-10-25T16:33:00.631Z"
   },
   {
    "duration": 1170,
    "start_time": "2022-10-25T16:33:12.122Z"
   },
   {
    "duration": 1178,
    "start_time": "2022-10-26T06:33:18.491Z"
   },
   {
    "duration": 902,
    "start_time": "2022-10-26T06:33:19.671Z"
   },
   {
    "duration": 886,
    "start_time": "2022-10-26T06:33:20.575Z"
   },
   {
    "duration": 560,
    "start_time": "2022-10-26T06:33:21.465Z"
   },
   {
    "duration": 111,
    "start_time": "2022-10-26T06:33:22.027Z"
   },
   {
    "duration": 25,
    "start_time": "2022-10-26T06:33:22.140Z"
   },
   {
    "duration": 3,
    "start_time": "2022-10-26T06:33:22.167Z"
   },
   {
    "duration": 9,
    "start_time": "2022-10-26T06:33:22.171Z"
   },
   {
    "duration": 292,
    "start_time": "2022-10-26T06:33:22.181Z"
   },
   {
    "duration": 7,
    "start_time": "2022-10-26T06:33:22.476Z"
   },
   {
    "duration": 70,
    "start_time": "2022-10-26T06:33:22.485Z"
   },
   {
    "duration": 43,
    "start_time": "2022-10-26T06:33:22.557Z"
   },
   {
    "duration": 10,
    "start_time": "2022-10-26T06:33:22.602Z"
   },
   {
    "duration": 50,
    "start_time": "2022-10-26T06:33:22.614Z"
   },
   {
    "duration": 181,
    "start_time": "2022-10-26T06:33:22.666Z"
   },
   {
    "duration": 797,
    "start_time": "2022-10-26T06:33:22.849Z"
   },
   {
    "duration": 5,
    "start_time": "2022-10-26T06:33:23.654Z"
   },
   {
    "duration": 93,
    "start_time": "2022-10-26T06:33:23.661Z"
   },
   {
    "duration": 148,
    "start_time": "2022-10-26T06:33:23.756Z"
   },
   {
    "duration": 459,
    "start_time": "2022-10-26T06:33:23.905Z"
   },
   {
    "duration": 173,
    "start_time": "2022-10-26T06:33:24.366Z"
   },
   {
    "duration": 163,
    "start_time": "2022-10-26T06:33:24.541Z"
   },
   {
    "duration": 167,
    "start_time": "2022-10-26T06:33:24.706Z"
   },
   {
    "duration": 7,
    "start_time": "2022-10-26T06:33:24.875Z"
   },
   {
    "duration": 80,
    "start_time": "2022-10-26T06:33:24.884Z"
   },
   {
    "duration": 5,
    "start_time": "2022-10-26T06:33:24.966Z"
   },
   {
    "duration": 202,
    "start_time": "2022-10-26T06:33:24.972Z"
   },
   {
    "duration": 252,
    "start_time": "2022-10-26T06:33:25.178Z"
   },
   {
    "duration": 179,
    "start_time": "2022-10-26T06:33:25.432Z"
   },
   {
    "duration": 6,
    "start_time": "2022-10-26T06:33:25.613Z"
   },
   {
    "duration": 152,
    "start_time": "2022-10-26T06:33:25.623Z"
   },
   {
    "duration": 7,
    "start_time": "2022-10-26T06:33:25.777Z"
   },
   {
    "duration": 140,
    "start_time": "2022-10-26T06:33:25.787Z"
   },
   {
    "duration": 140,
    "start_time": "2022-10-26T06:33:25.931Z"
   },
   {
    "duration": 20,
    "start_time": "2022-10-26T06:33:26.073Z"
   },
   {
    "duration": 30,
    "start_time": "2022-10-26T06:33:26.095Z"
   },
   {
    "duration": 13,
    "start_time": "2022-10-26T06:33:26.127Z"
   },
   {
    "duration": 1210,
    "start_time": "2022-10-26T06:33:26.142Z"
   },
   {
    "duration": 380,
    "start_time": "2022-10-26T06:33:27.354Z"
   },
   {
    "duration": 0,
    "start_time": "2022-10-26T06:33:27.736Z"
   },
   {
    "duration": 5,
    "start_time": "2022-10-26T06:38:56.902Z"
   },
   {
    "duration": 31,
    "start_time": "2022-10-26T06:38:58.303Z"
   },
   {
    "duration": 4,
    "start_time": "2022-10-26T06:39:15.568Z"
   },
   {
    "duration": 249,
    "start_time": "2022-10-26T06:39:17.480Z"
   },
   {
    "duration": 4,
    "start_time": "2022-10-26T06:39:33.388Z"
   },
   {
    "duration": 522,
    "start_time": "2022-10-26T06:39:39.096Z"
   },
   {
    "duration": 4,
    "start_time": "2022-10-26T06:40:05.447Z"
   },
   {
    "duration": 582,
    "start_time": "2022-10-26T06:40:05.965Z"
   },
   {
    "duration": 6,
    "start_time": "2022-10-26T06:41:39.281Z"
   },
   {
    "duration": 591,
    "start_time": "2022-10-26T06:42:04.926Z"
   },
   {
    "duration": 5,
    "start_time": "2022-10-26T06:42:05.520Z"
   },
   {
    "duration": 14,
    "start_time": "2022-10-26T06:43:20.059Z"
   },
   {
    "duration": 35,
    "start_time": "2022-10-26T06:43:41.480Z"
   },
   {
    "duration": 4,
    "start_time": "2022-10-26T06:43:46.632Z"
   },
   {
    "duration": 5,
    "start_time": "2022-10-26T06:44:18.726Z"
   },
   {
    "duration": 4692,
    "start_time": "2022-10-26T06:45:00.428Z"
   },
   {
    "duration": 4,
    "start_time": "2022-10-26T06:52:25.870Z"
   },
   {
    "duration": 572,
    "start_time": "2022-10-26T06:52:50.057Z"
   },
   {
    "duration": 6,
    "start_time": "2022-10-26T06:53:07.636Z"
   },
   {
    "duration": 5,
    "start_time": "2022-10-26T06:54:10.435Z"
   },
   {
    "duration": 5,
    "start_time": "2022-10-26T06:54:15.747Z"
   },
   {
    "duration": 5051,
    "start_time": "2022-10-26T06:54:59.669Z"
   },
   {
    "duration": 92,
    "start_time": "2022-10-26T06:55:38.536Z"
   },
   {
    "duration": 24,
    "start_time": "2022-10-26T06:56:54.649Z"
   },
   {
    "duration": 1126,
    "start_time": "2022-10-26T06:57:56.470Z"
   },
   {
    "duration": 86,
    "start_time": "2022-10-26T06:57:59.135Z"
   },
   {
    "duration": 27,
    "start_time": "2022-10-26T06:58:39.288Z"
   },
   {
    "duration": 1057,
    "start_time": "2022-10-26T06:58:40.378Z"
   },
   {
    "duration": 1131,
    "start_time": "2022-10-26T06:58:49.312Z"
   },
   {
    "duration": 97,
    "start_time": "2022-10-26T06:58:51.470Z"
   },
   {
    "duration": 3,
    "start_time": "2022-10-26T06:58:54.398Z"
   },
   {
    "duration": 684,
    "start_time": "2022-10-26T06:58:55.424Z"
   },
   {
    "duration": 5,
    "start_time": "2022-10-26T06:58:56.234Z"
   },
   {
    "duration": 4,
    "start_time": "2022-10-26T06:58:59.546Z"
   },
   {
    "duration": 4626,
    "start_time": "2022-10-26T06:59:01.650Z"
   },
   {
    "duration": 15,
    "start_time": "2022-10-26T06:59:27.684Z"
   },
   {
    "duration": 1279,
    "start_time": "2022-10-26T06:59:28.236Z"
   },
   {
    "duration": 1639,
    "start_time": "2022-10-26T06:59:37.883Z"
   },
   {
    "duration": 1046,
    "start_time": "2022-10-26T06:59:39.525Z"
   },
   {
    "duration": 1201,
    "start_time": "2022-10-26T06:59:40.584Z"
   },
   {
    "duration": 749,
    "start_time": "2022-10-26T06:59:41.788Z"
   },
   {
    "duration": 185,
    "start_time": "2022-10-26T06:59:42.540Z"
   },
   {
    "duration": 32,
    "start_time": "2022-10-26T06:59:42.726Z"
   },
   {
    "duration": 44,
    "start_time": "2022-10-26T06:59:42.768Z"
   },
   {
    "duration": 6,
    "start_time": "2022-10-26T06:59:42.814Z"
   },
   {
    "duration": 383,
    "start_time": "2022-10-26T06:59:42.822Z"
   },
   {
    "duration": 7,
    "start_time": "2022-10-26T06:59:43.210Z"
   },
   {
    "duration": 64,
    "start_time": "2022-10-26T06:59:43.219Z"
   },
   {
    "duration": 67,
    "start_time": "2022-10-26T06:59:43.285Z"
   },
   {
    "duration": 15,
    "start_time": "2022-10-26T06:59:43.354Z"
   },
   {
    "duration": 56,
    "start_time": "2022-10-26T06:59:43.383Z"
   },
   {
    "duration": 253,
    "start_time": "2022-10-26T06:59:43.441Z"
   },
   {
    "duration": 924,
    "start_time": "2022-10-26T06:59:43.697Z"
   },
   {
    "duration": 4,
    "start_time": "2022-10-26T06:59:44.623Z"
   },
   {
    "duration": 197,
    "start_time": "2022-10-26T06:59:44.629Z"
   },
   {
    "duration": 169,
    "start_time": "2022-10-26T06:59:44.828Z"
   },
   {
    "duration": 529,
    "start_time": "2022-10-26T06:59:44.999Z"
   },
   {
    "duration": 211,
    "start_time": "2022-10-26T06:59:45.530Z"
   },
   {
    "duration": 266,
    "start_time": "2022-10-26T06:59:45.743Z"
   },
   {
    "duration": 209,
    "start_time": "2022-10-26T06:59:46.011Z"
   },
   {
    "duration": 6,
    "start_time": "2022-10-26T06:59:46.221Z"
   },
   {
    "duration": 76,
    "start_time": "2022-10-26T06:59:46.229Z"
   },
   {
    "duration": 4,
    "start_time": "2022-10-26T06:59:46.307Z"
   },
   {
    "duration": 231,
    "start_time": "2022-10-26T06:59:46.313Z"
   },
   {
    "duration": 187,
    "start_time": "2022-10-26T06:59:46.555Z"
   },
   {
    "duration": 194,
    "start_time": "2022-10-26T06:59:46.744Z"
   },
   {
    "duration": 24,
    "start_time": "2022-10-26T06:59:46.940Z"
   },
   {
    "duration": 143,
    "start_time": "2022-10-26T06:59:46.966Z"
   },
   {
    "duration": 8,
    "start_time": "2022-10-26T06:59:47.110Z"
   },
   {
    "duration": 173,
    "start_time": "2022-10-26T06:59:47.120Z"
   },
   {
    "duration": 136,
    "start_time": "2022-10-26T06:59:47.295Z"
   },
   {
    "duration": 27,
    "start_time": "2022-10-26T06:59:47.434Z"
   },
   {
    "duration": 30,
    "start_time": "2022-10-26T06:59:47.462Z"
   },
   {
    "duration": 10,
    "start_time": "2022-10-26T06:59:47.495Z"
   },
   {
    "duration": 29,
    "start_time": "2022-10-26T06:59:47.506Z"
   },
   {
    "duration": 1292,
    "start_time": "2022-10-26T06:59:47.537Z"
   },
   {
    "duration": 101,
    "start_time": "2022-10-26T06:59:48.831Z"
   },
   {
    "duration": 3,
    "start_time": "2022-10-26T06:59:48.934Z"
   },
   {
    "duration": 708,
    "start_time": "2022-10-26T06:59:48.938Z"
   },
   {
    "duration": 8,
    "start_time": "2022-10-26T06:59:49.648Z"
   },
   {
    "duration": 24,
    "start_time": "2022-10-26T06:59:49.672Z"
   },
   {
    "duration": 0,
    "start_time": "2022-10-26T07:01:34.202Z"
   },
   {
    "duration": 0,
    "start_time": "2022-10-26T07:01:34.203Z"
   },
   {
    "duration": 0,
    "start_time": "2022-10-26T07:01:34.204Z"
   },
   {
    "duration": 161,
    "start_time": "2022-10-26T07:01:36.284Z"
   },
   {
    "duration": 1565,
    "start_time": "2022-10-26T07:02:33.537Z"
   },
   {
    "duration": 950,
    "start_time": "2022-10-26T07:02:35.104Z"
   },
   {
    "duration": 912,
    "start_time": "2022-10-26T07:02:36.057Z"
   },
   {
    "duration": 553,
    "start_time": "2022-10-26T07:02:36.971Z"
   },
   {
    "duration": 136,
    "start_time": "2022-10-26T07:02:37.526Z"
   },
   {
    "duration": 19,
    "start_time": "2022-10-26T07:02:37.663Z"
   },
   {
    "duration": 8,
    "start_time": "2022-10-26T07:02:37.684Z"
   },
   {
    "duration": 6,
    "start_time": "2022-10-26T07:02:37.694Z"
   },
   {
    "duration": 356,
    "start_time": "2022-10-26T07:02:37.702Z"
   },
   {
    "duration": 10,
    "start_time": "2022-10-26T07:02:38.063Z"
   },
   {
    "duration": 64,
    "start_time": "2022-10-26T07:02:38.074Z"
   },
   {
    "duration": 44,
    "start_time": "2022-10-26T07:02:38.140Z"
   },
   {
    "duration": 10,
    "start_time": "2022-10-26T07:02:38.186Z"
   },
   {
    "duration": 21,
    "start_time": "2022-10-26T07:02:38.199Z"
   },
   {
    "duration": 199,
    "start_time": "2022-10-26T07:02:38.222Z"
   },
   {
    "duration": 868,
    "start_time": "2022-10-26T07:02:38.423Z"
   },
   {
    "duration": 4,
    "start_time": "2022-10-26T07:02:39.293Z"
   },
   {
    "duration": 100,
    "start_time": "2022-10-26T07:02:39.299Z"
   },
   {
    "duration": 164,
    "start_time": "2022-10-26T07:02:39.401Z"
   },
   {
    "duration": 468,
    "start_time": "2022-10-26T07:02:39.567Z"
   },
   {
    "duration": 189,
    "start_time": "2022-10-26T07:02:40.037Z"
   },
   {
    "duration": 251,
    "start_time": "2022-10-26T07:02:40.228Z"
   },
   {
    "duration": 189,
    "start_time": "2022-10-26T07:02:40.481Z"
   },
   {
    "duration": 6,
    "start_time": "2022-10-26T07:02:40.673Z"
   },
   {
    "duration": 69,
    "start_time": "2022-10-26T07:02:40.681Z"
   },
   {
    "duration": 15,
    "start_time": "2022-10-26T07:02:40.752Z"
   },
   {
    "duration": 209,
    "start_time": "2022-10-26T07:02:40.771Z"
   },
   {
    "duration": 180,
    "start_time": "2022-10-26T07:02:40.982Z"
   },
   {
    "duration": 162,
    "start_time": "2022-10-26T07:02:41.165Z"
   },
   {
    "duration": 5,
    "start_time": "2022-10-26T07:02:41.328Z"
   },
   {
    "duration": 176,
    "start_time": "2022-10-26T07:02:41.335Z"
   },
   {
    "duration": 9,
    "start_time": "2022-10-26T07:02:41.513Z"
   },
   {
    "duration": 199,
    "start_time": "2022-10-26T07:02:41.524Z"
   },
   {
    "duration": 160,
    "start_time": "2022-10-26T07:02:41.725Z"
   },
   {
    "duration": 8,
    "start_time": "2022-10-26T07:02:41.887Z"
   },
   {
    "duration": 24,
    "start_time": "2022-10-26T07:02:41.897Z"
   },
   {
    "duration": 14,
    "start_time": "2022-10-26T07:02:41.923Z"
   },
   {
    "duration": 43,
    "start_time": "2022-10-26T07:02:41.939Z"
   },
   {
    "duration": 1241,
    "start_time": "2022-10-26T07:02:41.987Z"
   },
   {
    "duration": 29,
    "start_time": "2022-10-26T07:02:43.230Z"
   },
   {
    "duration": 76,
    "start_time": "2022-10-26T07:02:43.267Z"
   },
   {
    "duration": 21,
    "start_time": "2022-10-26T07:02:43.344Z"
   },
   {
    "duration": 678,
    "start_time": "2022-10-26T07:02:43.368Z"
   },
   {
    "duration": 13,
    "start_time": "2022-10-26T07:02:44.048Z"
   },
   {
    "duration": 38,
    "start_time": "2022-10-26T07:02:44.065Z"
   },
   {
    "duration": 55394,
    "start_time": "2022-10-26T07:02:44.105Z"
   },
   {
    "duration": 166,
    "start_time": "2022-10-26T07:03:39.502Z"
   },
   {
    "duration": 46,
    "start_time": "2022-10-26T07:03:39.670Z"
   },
   {
    "duration": 0,
    "start_time": "2022-10-26T07:03:39.718Z"
   },
   {
    "duration": 0,
    "start_time": "2022-10-26T07:03:39.720Z"
   },
   {
    "duration": 0,
    "start_time": "2022-10-26T07:03:39.721Z"
   },
   {
    "duration": 0,
    "start_time": "2022-10-26T07:03:39.722Z"
   },
   {
    "duration": 0,
    "start_time": "2022-10-26T07:03:39.723Z"
   },
   {
    "duration": 0,
    "start_time": "2022-10-26T07:03:39.724Z"
   },
   {
    "duration": 0,
    "start_time": "2022-10-26T07:03:39.725Z"
   },
   {
    "duration": 0,
    "start_time": "2022-10-26T07:03:39.726Z"
   },
   {
    "duration": 7,
    "start_time": "2022-10-26T07:04:59.075Z"
   },
   {
    "duration": 19,
    "start_time": "2022-10-26T07:05:10.210Z"
   },
   {
    "duration": 1707,
    "start_time": "2022-10-26T07:05:17.783Z"
   },
   {
    "duration": 1021,
    "start_time": "2022-10-26T07:05:19.493Z"
   },
   {
    "duration": 1068,
    "start_time": "2022-10-26T07:05:20.517Z"
   },
   {
    "duration": 696,
    "start_time": "2022-10-26T07:05:21.587Z"
   },
   {
    "duration": 143,
    "start_time": "2022-10-26T07:05:22.287Z"
   },
   {
    "duration": 15,
    "start_time": "2022-10-26T07:05:22.433Z"
   },
   {
    "duration": 35,
    "start_time": "2022-10-26T07:05:22.456Z"
   },
   {
    "duration": 25,
    "start_time": "2022-10-26T07:05:22.493Z"
   },
   {
    "duration": 363,
    "start_time": "2022-10-26T07:05:22.520Z"
   },
   {
    "duration": 6,
    "start_time": "2022-10-26T07:05:22.885Z"
   },
   {
    "duration": 199,
    "start_time": "2022-10-26T07:05:22.893Z"
   },
   {
    "duration": 56,
    "start_time": "2022-10-26T07:05:23.094Z"
   },
   {
    "duration": 21,
    "start_time": "2022-10-26T07:05:23.152Z"
   },
   {
    "duration": 43,
    "start_time": "2022-10-26T07:05:23.178Z"
   },
   {
    "duration": 194,
    "start_time": "2022-10-26T07:05:23.223Z"
   },
   {
    "duration": 869,
    "start_time": "2022-10-26T07:05:23.419Z"
   },
   {
    "duration": 5,
    "start_time": "2022-10-26T07:05:24.290Z"
   },
   {
    "duration": 108,
    "start_time": "2022-10-26T07:05:24.297Z"
   },
   {
    "duration": 175,
    "start_time": "2022-10-26T07:05:24.407Z"
   },
   {
    "duration": 524,
    "start_time": "2022-10-26T07:05:24.585Z"
   },
   {
    "duration": 188,
    "start_time": "2022-10-26T07:05:25.111Z"
   },
   {
    "duration": 273,
    "start_time": "2022-10-26T07:05:25.301Z"
   },
   {
    "duration": 191,
    "start_time": "2022-10-26T07:05:25.576Z"
   },
   {
    "duration": 10,
    "start_time": "2022-10-26T07:05:25.775Z"
   },
   {
    "duration": 84,
    "start_time": "2022-10-26T07:05:25.788Z"
   },
   {
    "duration": 5,
    "start_time": "2022-10-26T07:05:25.885Z"
   },
   {
    "duration": 210,
    "start_time": "2022-10-26T07:05:25.892Z"
   },
   {
    "duration": 173,
    "start_time": "2022-10-26T07:05:26.104Z"
   },
   {
    "duration": 180,
    "start_time": "2022-10-26T07:05:26.282Z"
   },
   {
    "duration": 6,
    "start_time": "2022-10-26T07:05:26.465Z"
   },
   {
    "duration": 167,
    "start_time": "2022-10-26T07:05:26.473Z"
   },
   {
    "duration": 46,
    "start_time": "2022-10-26T07:05:26.642Z"
   },
   {
    "duration": 153,
    "start_time": "2022-10-26T07:05:26.691Z"
   },
   {
    "duration": 137,
    "start_time": "2022-10-26T07:05:26.846Z"
   },
   {
    "duration": 9,
    "start_time": "2022-10-26T07:05:26.988Z"
   },
   {
    "duration": 35,
    "start_time": "2022-10-26T07:05:26.999Z"
   },
   {
    "duration": 9,
    "start_time": "2022-10-26T07:05:27.036Z"
   },
   {
    "duration": 35,
    "start_time": "2022-10-26T07:05:27.047Z"
   },
   {
    "duration": 1332,
    "start_time": "2022-10-26T07:05:27.087Z"
   },
   {
    "duration": 37,
    "start_time": "2022-10-26T07:05:28.421Z"
   },
   {
    "duration": 102,
    "start_time": "2022-10-26T07:05:28.470Z"
   },
   {
    "duration": 30,
    "start_time": "2022-10-26T07:05:28.577Z"
   },
   {
    "duration": 732,
    "start_time": "2022-10-26T07:05:28.609Z"
   },
   {
    "duration": 4,
    "start_time": "2022-10-26T07:05:29.343Z"
   },
   {
    "duration": 69,
    "start_time": "2022-10-26T07:05:29.349Z"
   },
   {
    "duration": 113059,
    "start_time": "2022-10-26T07:05:29.420Z"
   },
   {
    "duration": 384,
    "start_time": "2022-10-26T07:07:22.481Z"
   },
   {
    "duration": 54,
    "start_time": "2022-10-26T07:07:22.868Z"
   },
   {
    "duration": 0,
    "start_time": "2022-10-26T07:07:22.923Z"
   },
   {
    "duration": 3,
    "start_time": "2022-10-26T07:07:45.137Z"
   },
   {
    "duration": 50,
    "start_time": "2022-10-26T07:09:03.277Z"
   },
   {
    "duration": 63,
    "start_time": "2022-10-26T07:09:09.181Z"
   },
   {
    "duration": 714,
    "start_time": "2022-10-26T07:11:10.488Z"
   },
   {
    "duration": 6,
    "start_time": "2022-10-26T07:11:12.105Z"
   },
   {
    "duration": 6,
    "start_time": "2022-10-26T07:11:35.784Z"
   },
   {
    "duration": 4,
    "start_time": "2022-10-26T07:11:46.148Z"
   },
   {
    "duration": 103537,
    "start_time": "2022-10-26T07:11:46.935Z"
   },
   {
    "duration": 16,
    "start_time": "2022-10-26T07:13:30.555Z"
   },
   {
    "duration": 120,
    "start_time": "2022-10-26T07:13:30.586Z"
   },
   {
    "duration": 1493,
    "start_time": "2022-10-26T07:16:19.881Z"
   },
   {
    "duration": 966,
    "start_time": "2022-10-26T07:16:21.376Z"
   },
   {
    "duration": 880,
    "start_time": "2022-10-26T07:16:22.344Z"
   },
   {
    "duration": 515,
    "start_time": "2022-10-26T07:16:23.227Z"
   },
   {
    "duration": 128,
    "start_time": "2022-10-26T07:16:23.744Z"
   },
   {
    "duration": 15,
    "start_time": "2022-10-26T07:16:23.876Z"
   },
   {
    "duration": 4,
    "start_time": "2022-10-26T07:16:23.892Z"
   },
   {
    "duration": 9,
    "start_time": "2022-10-26T07:16:23.897Z"
   },
   {
    "duration": 323,
    "start_time": "2022-10-26T07:16:23.908Z"
   },
   {
    "duration": 6,
    "start_time": "2022-10-26T07:16:24.234Z"
   },
   {
    "duration": 61,
    "start_time": "2022-10-26T07:16:24.242Z"
   },
   {
    "duration": 64,
    "start_time": "2022-10-26T07:16:24.304Z"
   },
   {
    "duration": 10,
    "start_time": "2022-10-26T07:16:24.376Z"
   },
   {
    "duration": 21,
    "start_time": "2022-10-26T07:16:24.389Z"
   },
   {
    "duration": 198,
    "start_time": "2022-10-26T07:16:24.412Z"
   },
   {
    "duration": 840,
    "start_time": "2022-10-26T07:16:24.611Z"
   },
   {
    "duration": 14,
    "start_time": "2022-10-26T07:16:25.457Z"
   },
   {
    "duration": 104,
    "start_time": "2022-10-26T07:16:25.474Z"
   },
   {
    "duration": 149,
    "start_time": "2022-10-26T07:16:25.580Z"
   },
   {
    "duration": 552,
    "start_time": "2022-10-26T07:16:25.731Z"
   },
   {
    "duration": 172,
    "start_time": "2022-10-26T07:16:26.285Z"
   },
   {
    "duration": 149,
    "start_time": "2022-10-26T07:16:26.463Z"
   },
   {
    "duration": 172,
    "start_time": "2022-10-26T07:16:26.614Z"
   },
   {
    "duration": 5,
    "start_time": "2022-10-26T07:16:26.788Z"
   },
   {
    "duration": 77,
    "start_time": "2022-10-26T07:16:26.795Z"
   },
   {
    "duration": 5,
    "start_time": "2022-10-26T07:16:26.874Z"
   },
   {
    "duration": 250,
    "start_time": "2022-10-26T07:16:26.881Z"
   },
   {
    "duration": 171,
    "start_time": "2022-10-26T07:16:27.134Z"
   },
   {
    "duration": 174,
    "start_time": "2022-10-26T07:16:27.307Z"
   },
   {
    "duration": 5,
    "start_time": "2022-10-26T07:16:27.483Z"
   },
   {
    "duration": 146,
    "start_time": "2022-10-26T07:16:27.490Z"
   },
   {
    "duration": 26,
    "start_time": "2022-10-26T07:16:27.637Z"
   },
   {
    "duration": 144,
    "start_time": "2022-10-26T07:16:27.664Z"
   },
   {
    "duration": 131,
    "start_time": "2022-10-26T07:16:27.810Z"
   },
   {
    "duration": 26,
    "start_time": "2022-10-26T07:16:27.943Z"
   },
   {
    "duration": 16,
    "start_time": "2022-10-26T07:16:27.972Z"
   },
   {
    "duration": 8,
    "start_time": "2022-10-26T07:16:27.989Z"
   },
   {
    "duration": 29,
    "start_time": "2022-10-26T07:16:27.999Z"
   },
   {
    "duration": 1200,
    "start_time": "2022-10-26T07:16:28.030Z"
   },
   {
    "duration": 42,
    "start_time": "2022-10-26T07:16:29.232Z"
   },
   {
    "duration": 93,
    "start_time": "2022-10-26T07:16:29.276Z"
   },
   {
    "duration": 5,
    "start_time": "2022-10-26T07:16:29.370Z"
   },
   {
    "duration": 903,
    "start_time": "2022-10-26T07:16:29.376Z"
   },
   {
    "duration": 6,
    "start_time": "2022-10-26T07:16:30.281Z"
   },
   {
    "duration": 32,
    "start_time": "2022-10-26T07:16:30.289Z"
   },
   {
    "duration": 51740,
    "start_time": "2022-10-26T07:16:30.323Z"
   },
   {
    "duration": 459,
    "start_time": "2022-10-26T07:17:22.065Z"
   },
   {
    "duration": 2,
    "start_time": "2022-10-26T07:17:22.526Z"
   },
   {
    "duration": 1658,
    "start_time": "2022-10-26T07:31:57.849Z"
   },
   {
    "duration": 930,
    "start_time": "2022-10-26T07:31:59.510Z"
   },
   {
    "duration": 1012,
    "start_time": "2022-10-26T07:32:00.442Z"
   },
   {
    "duration": 651,
    "start_time": "2022-10-26T07:32:01.457Z"
   },
   {
    "duration": 133,
    "start_time": "2022-10-26T07:32:02.110Z"
   },
   {
    "duration": 73,
    "start_time": "2022-10-26T07:32:02.245Z"
   },
   {
    "duration": 4,
    "start_time": "2022-10-26T07:32:02.320Z"
   },
   {
    "duration": 15,
    "start_time": "2022-10-26T07:32:02.326Z"
   },
   {
    "duration": 394,
    "start_time": "2022-10-26T07:32:02.343Z"
   },
   {
    "duration": 6,
    "start_time": "2022-10-26T07:32:02.740Z"
   },
   {
    "duration": 53,
    "start_time": "2022-10-26T07:32:02.761Z"
   },
   {
    "duration": 58,
    "start_time": "2022-10-26T07:32:02.815Z"
   },
   {
    "duration": 9,
    "start_time": "2022-10-26T07:32:02.875Z"
   },
   {
    "duration": 35,
    "start_time": "2022-10-26T07:32:02.886Z"
   },
   {
    "duration": 251,
    "start_time": "2022-10-26T07:32:02.924Z"
   },
   {
    "duration": 843,
    "start_time": "2022-10-26T07:32:03.177Z"
   },
   {
    "duration": 4,
    "start_time": "2022-10-26T07:32:04.022Z"
   },
   {
    "duration": 119,
    "start_time": "2022-10-26T07:32:04.028Z"
   },
   {
    "duration": 154,
    "start_time": "2022-10-26T07:32:04.159Z"
   },
   {
    "duration": 602,
    "start_time": "2022-10-26T07:32:04.316Z"
   },
   {
    "duration": 177,
    "start_time": "2022-10-26T07:32:04.921Z"
   },
   {
    "duration": 175,
    "start_time": "2022-10-26T07:32:05.100Z"
   },
   {
    "duration": 197,
    "start_time": "2022-10-26T07:32:05.277Z"
   },
   {
    "duration": 9,
    "start_time": "2022-10-26T07:32:05.476Z"
   },
   {
    "duration": 81,
    "start_time": "2022-10-26T07:32:05.486Z"
   },
   {
    "duration": 6,
    "start_time": "2022-10-26T07:32:05.569Z"
   },
   {
    "duration": 214,
    "start_time": "2022-10-26T07:32:05.576Z"
   },
   {
    "duration": 192,
    "start_time": "2022-10-26T07:32:05.794Z"
   },
   {
    "duration": 207,
    "start_time": "2022-10-26T07:32:05.988Z"
   },
   {
    "duration": 4,
    "start_time": "2022-10-26T07:32:06.197Z"
   },
   {
    "duration": 138,
    "start_time": "2022-10-26T07:32:06.203Z"
   },
   {
    "duration": 24,
    "start_time": "2022-10-26T07:32:06.343Z"
   },
   {
    "duration": 140,
    "start_time": "2022-10-26T07:32:06.372Z"
   },
   {
    "duration": 115,
    "start_time": "2022-10-26T07:32:06.514Z"
   },
   {
    "duration": 27,
    "start_time": "2022-10-26T07:32:06.631Z"
   },
   {
    "duration": 21,
    "start_time": "2022-10-26T07:32:06.660Z"
   },
   {
    "duration": 19,
    "start_time": "2022-10-26T07:32:06.684Z"
   },
   {
    "duration": 27,
    "start_time": "2022-10-26T07:32:06.705Z"
   },
   {
    "duration": 1091,
    "start_time": "2022-10-26T07:32:06.733Z"
   },
   {
    "duration": 4,
    "start_time": "2022-10-26T07:32:07.826Z"
   },
   {
    "duration": 771,
    "start_time": "2022-10-26T07:32:07.832Z"
   },
   {
    "duration": 5,
    "start_time": "2022-10-26T07:32:08.605Z"
   },
   {
    "duration": 22,
    "start_time": "2022-10-26T07:32:08.612Z"
   },
   {
    "duration": 4,
    "start_time": "2022-10-26T07:32:08.636Z"
   },
   {
    "duration": 309,
    "start_time": "2022-10-26T07:32:08.642Z"
   },
   {
    "duration": 294,
    "start_time": "2022-10-26T07:33:02.277Z"
   },
   {
    "duration": 1700,
    "start_time": "2022-10-26T07:33:26.845Z"
   },
   {
    "duration": 962,
    "start_time": "2022-10-26T07:33:28.547Z"
   },
   {
    "duration": 906,
    "start_time": "2022-10-26T07:33:29.511Z"
   },
   {
    "duration": 569,
    "start_time": "2022-10-26T07:33:30.420Z"
   },
   {
    "duration": 123,
    "start_time": "2022-10-26T07:33:30.991Z"
   },
   {
    "duration": 13,
    "start_time": "2022-10-26T07:33:31.115Z"
   },
   {
    "duration": 26,
    "start_time": "2022-10-26T07:33:31.130Z"
   },
   {
    "duration": 48,
    "start_time": "2022-10-26T07:33:31.157Z"
   },
   {
    "duration": 411,
    "start_time": "2022-10-26T07:33:31.207Z"
   },
   {
    "duration": 7,
    "start_time": "2022-10-26T07:33:31.623Z"
   },
   {
    "duration": 95,
    "start_time": "2022-10-26T07:33:31.632Z"
   },
   {
    "duration": 45,
    "start_time": "2022-10-26T07:33:31.728Z"
   },
   {
    "duration": 12,
    "start_time": "2022-10-26T07:33:31.775Z"
   },
   {
    "duration": 55,
    "start_time": "2022-10-26T07:33:31.789Z"
   },
   {
    "duration": 189,
    "start_time": "2022-10-26T07:33:31.846Z"
   },
   {
    "duration": 820,
    "start_time": "2022-10-26T07:33:32.037Z"
   },
   {
    "duration": 5,
    "start_time": "2022-10-26T07:33:32.858Z"
   },
   {
    "duration": 91,
    "start_time": "2022-10-26T07:33:32.864Z"
   },
   {
    "duration": 155,
    "start_time": "2022-10-26T07:33:32.957Z"
   },
   {
    "duration": 556,
    "start_time": "2022-10-26T07:33:33.114Z"
   },
   {
    "duration": 163,
    "start_time": "2022-10-26T07:33:33.672Z"
   },
   {
    "duration": 154,
    "start_time": "2022-10-26T07:33:33.836Z"
   },
   {
    "duration": 166,
    "start_time": "2022-10-26T07:33:33.992Z"
   },
   {
    "duration": 8,
    "start_time": "2022-10-26T07:33:34.160Z"
   },
   {
    "duration": 84,
    "start_time": "2022-10-26T07:33:34.170Z"
   },
   {
    "duration": 6,
    "start_time": "2022-10-26T07:33:34.256Z"
   },
   {
    "duration": 202,
    "start_time": "2022-10-26T07:33:34.263Z"
   },
   {
    "duration": 167,
    "start_time": "2022-10-26T07:33:34.470Z"
   },
   {
    "duration": 190,
    "start_time": "2022-10-26T07:33:34.639Z"
   },
   {
    "duration": 5,
    "start_time": "2022-10-26T07:33:34.831Z"
   },
   {
    "duration": 135,
    "start_time": "2022-10-26T07:33:34.838Z"
   },
   {
    "duration": 7,
    "start_time": "2022-10-26T07:33:34.975Z"
   },
   {
    "duration": 131,
    "start_time": "2022-10-26T07:33:34.984Z"
   },
   {
    "duration": 122,
    "start_time": "2022-10-26T07:33:35.117Z"
   },
   {
    "duration": 7,
    "start_time": "2022-10-26T07:33:35.254Z"
   },
   {
    "duration": 14,
    "start_time": "2022-10-26T07:33:35.262Z"
   },
   {
    "duration": 15,
    "start_time": "2022-10-26T07:33:35.278Z"
   },
   {
    "duration": 26,
    "start_time": "2022-10-26T07:33:35.296Z"
   },
   {
    "duration": 1113,
    "start_time": "2022-10-26T07:33:35.325Z"
   },
   {
    "duration": 4,
    "start_time": "2022-10-26T07:33:36.440Z"
   },
   {
    "duration": 605,
    "start_time": "2022-10-26T07:33:36.446Z"
   },
   {
    "duration": 3,
    "start_time": "2022-10-26T07:33:37.054Z"
   },
   {
    "duration": 25,
    "start_time": "2022-10-26T07:33:37.059Z"
   },
   {
    "duration": 4,
    "start_time": "2022-10-26T07:33:37.086Z"
   },
   {
    "duration": 35665,
    "start_time": "2022-10-26T07:33:37.091Z"
   },
   {
    "duration": 1581,
    "start_time": "2022-10-26T07:41:52.566Z"
   },
   {
    "duration": 1015,
    "start_time": "2022-10-26T07:41:54.149Z"
   },
   {
    "duration": 981,
    "start_time": "2022-10-26T07:41:55.169Z"
   },
   {
    "duration": 533,
    "start_time": "2022-10-26T07:41:56.154Z"
   },
   {
    "duration": 132,
    "start_time": "2022-10-26T07:41:56.690Z"
   },
   {
    "duration": 31,
    "start_time": "2022-10-26T07:41:56.824Z"
   },
   {
    "duration": 5,
    "start_time": "2022-10-26T07:41:56.859Z"
   },
   {
    "duration": 25,
    "start_time": "2022-10-26T07:41:56.868Z"
   },
   {
    "duration": 318,
    "start_time": "2022-10-26T07:41:56.895Z"
   },
   {
    "duration": 8,
    "start_time": "2022-10-26T07:41:57.215Z"
   },
   {
    "duration": 62,
    "start_time": "2022-10-26T07:41:57.224Z"
   },
   {
    "duration": 44,
    "start_time": "2022-10-26T07:41:57.288Z"
   },
   {
    "duration": 9,
    "start_time": "2022-10-26T07:41:57.334Z"
   },
   {
    "duration": 31,
    "start_time": "2022-10-26T07:41:57.354Z"
   },
   {
    "duration": 174,
    "start_time": "2022-10-26T07:41:57.387Z"
   },
   {
    "duration": 803,
    "start_time": "2022-10-26T07:41:57.563Z"
   },
   {
    "duration": 6,
    "start_time": "2022-10-26T07:41:58.368Z"
   },
   {
    "duration": 100,
    "start_time": "2022-10-26T07:41:58.376Z"
   },
   {
    "duration": 159,
    "start_time": "2022-10-26T07:41:58.478Z"
   },
   {
    "duration": 589,
    "start_time": "2022-10-26T07:41:58.639Z"
   },
   {
    "duration": 181,
    "start_time": "2022-10-26T07:41:59.231Z"
   },
   {
    "duration": 165,
    "start_time": "2022-10-26T07:41:59.414Z"
   },
   {
    "duration": 176,
    "start_time": "2022-10-26T07:41:59.581Z"
   },
   {
    "duration": 10,
    "start_time": "2022-10-26T07:41:59.760Z"
   },
   {
    "duration": 158,
    "start_time": "2022-10-26T07:41:59.772Z"
   },
   {
    "duration": 5,
    "start_time": "2022-10-26T07:41:59.931Z"
   },
   {
    "duration": 219,
    "start_time": "2022-10-26T07:41:59.938Z"
   },
   {
    "duration": 184,
    "start_time": "2022-10-26T07:42:00.159Z"
   },
   {
    "duration": 186,
    "start_time": "2022-10-26T07:42:00.345Z"
   },
   {
    "duration": 7,
    "start_time": "2022-10-26T07:42:00.533Z"
   },
   {
    "duration": 177,
    "start_time": "2022-10-26T07:42:00.563Z"
   },
   {
    "duration": 23,
    "start_time": "2022-10-26T07:42:00.742Z"
   },
   {
    "duration": 161,
    "start_time": "2022-10-26T07:42:00.767Z"
   },
   {
    "duration": 129,
    "start_time": "2022-10-26T07:42:00.930Z"
   },
   {
    "duration": 10,
    "start_time": "2022-10-26T07:42:01.061Z"
   },
   {
    "duration": 29,
    "start_time": "2022-10-26T07:42:01.073Z"
   },
   {
    "duration": 30,
    "start_time": "2022-10-26T07:42:01.104Z"
   },
   {
    "duration": 69,
    "start_time": "2022-10-26T07:42:01.136Z"
   },
   {
    "duration": 1355,
    "start_time": "2022-10-26T07:42:01.207Z"
   },
   {
    "duration": 6,
    "start_time": "2022-10-26T07:42:02.565Z"
   },
   {
    "duration": 651,
    "start_time": "2022-10-26T07:42:02.577Z"
   },
   {
    "duration": 5,
    "start_time": "2022-10-26T07:42:03.230Z"
   },
   {
    "duration": 39,
    "start_time": "2022-10-26T07:42:03.237Z"
   },
   {
    "duration": 5,
    "start_time": "2022-10-26T07:42:03.279Z"
   },
   {
    "duration": 82773,
    "start_time": "2022-10-26T07:42:03.287Z"
   },
   {
    "duration": 828578,
    "start_time": "2022-10-26T07:43:26.062Z"
   },
   {
    "duration": 229,
    "start_time": "2022-10-26T07:57:14.642Z"
   },
   {
    "duration": 545,
    "start_time": "2022-10-26T07:57:14.873Z"
   },
   {
    "duration": 3,
    "start_time": "2022-10-26T08:44:14.306Z"
   },
   {
    "duration": 39912,
    "start_time": "2022-10-26T08:44:15.986Z"
   },
   {
    "duration": 16,
    "start_time": "2022-10-26T08:45:50.244Z"
   },
   {
    "duration": 231,
    "start_time": "2022-10-26T08:47:39.947Z"
   },
   {
    "duration": 39650,
    "start_time": "2022-10-26T08:58:20.899Z"
   },
   {
    "duration": 628,
    "start_time": "2022-10-26T09:00:58.565Z"
   },
   {
    "duration": 2655,
    "start_time": "2022-10-26T09:01:05.389Z"
   },
   {
    "duration": 41150,
    "start_time": "2022-10-26T09:01:38.188Z"
   },
   {
    "duration": 8121,
    "start_time": "2022-10-26T09:04:29.946Z"
   },
   {
    "duration": 3,
    "start_time": "2022-10-26T10:18:01.051Z"
   },
   {
    "duration": 4,
    "start_time": "2022-10-27T05:13:14.070Z"
   },
   {
    "duration": 836,
    "start_time": "2022-10-27T05:13:14.076Z"
   },
   {
    "duration": 761,
    "start_time": "2022-10-27T05:13:14.913Z"
   },
   {
    "duration": 424,
    "start_time": "2022-10-27T05:13:15.676Z"
   },
   {
    "duration": 103,
    "start_time": "2022-10-27T05:13:16.102Z"
   },
   {
    "duration": 12,
    "start_time": "2022-10-27T05:13:16.207Z"
   },
   {
    "duration": 32,
    "start_time": "2022-10-27T05:13:16.221Z"
   },
   {
    "duration": 27,
    "start_time": "2022-10-27T05:13:16.255Z"
   },
   {
    "duration": 245,
    "start_time": "2022-10-27T05:13:16.284Z"
   },
   {
    "duration": 6,
    "start_time": "2022-10-27T05:13:16.531Z"
   },
   {
    "duration": 46,
    "start_time": "2022-10-27T05:13:16.538Z"
   },
   {
    "duration": 42,
    "start_time": "2022-10-27T05:13:16.586Z"
   },
   {
    "duration": 8,
    "start_time": "2022-10-27T05:13:16.630Z"
   },
   {
    "duration": 35,
    "start_time": "2022-10-27T05:13:16.641Z"
   },
   {
    "duration": 144,
    "start_time": "2022-10-27T05:13:16.678Z"
   },
   {
    "duration": 811,
    "start_time": "2022-10-27T05:13:16.824Z"
   },
   {
    "duration": 5,
    "start_time": "2022-10-27T05:13:17.637Z"
   },
   {
    "duration": 96,
    "start_time": "2022-10-27T05:13:17.653Z"
   },
   {
    "duration": 136,
    "start_time": "2022-10-27T05:13:17.751Z"
   },
   {
    "duration": 441,
    "start_time": "2022-10-27T05:13:17.888Z"
   },
   {
    "duration": 167,
    "start_time": "2022-10-27T05:13:18.331Z"
   },
   {
    "duration": 136,
    "start_time": "2022-10-27T05:13:18.500Z"
   },
   {
    "duration": 161,
    "start_time": "2022-10-27T05:13:18.638Z"
   },
   {
    "duration": 6,
    "start_time": "2022-10-27T05:13:18.801Z"
   },
   {
    "duration": 66,
    "start_time": "2022-10-27T05:13:18.808Z"
   },
   {
    "duration": 4,
    "start_time": "2022-10-27T05:13:18.876Z"
   },
   {
    "duration": 191,
    "start_time": "2022-10-27T05:13:18.882Z"
   },
   {
    "duration": 158,
    "start_time": "2022-10-27T05:13:19.074Z"
   },
   {
    "duration": 157,
    "start_time": "2022-10-27T05:13:19.234Z"
   },
   {
    "duration": 4,
    "start_time": "2022-10-27T05:13:19.393Z"
   },
   {
    "duration": 125,
    "start_time": "2022-10-27T05:13:19.399Z"
   },
   {
    "duration": 6,
    "start_time": "2022-10-27T05:13:19.526Z"
   },
   {
    "duration": 129,
    "start_time": "2022-10-27T05:13:19.533Z"
   },
   {
    "duration": 118,
    "start_time": "2022-10-27T05:13:19.664Z"
   },
   {
    "duration": 6,
    "start_time": "2022-10-27T05:13:19.784Z"
   },
   {
    "duration": 8,
    "start_time": "2022-10-27T05:13:19.791Z"
   },
   {
    "duration": 5,
    "start_time": "2022-10-27T05:13:19.801Z"
   },
   {
    "duration": 46,
    "start_time": "2022-10-27T05:13:19.808Z"
   },
   {
    "duration": 995,
    "start_time": "2022-10-27T05:13:19.856Z"
   },
   {
    "duration": 4,
    "start_time": "2022-10-27T05:13:20.852Z"
   },
   {
    "duration": 705,
    "start_time": "2022-10-27T05:13:20.860Z"
   },
   {
    "duration": 5,
    "start_time": "2022-10-27T05:13:21.567Z"
   },
   {
    "duration": 15,
    "start_time": "2022-10-27T05:13:21.573Z"
   },
   {
    "duration": 4,
    "start_time": "2022-10-27T05:13:21.589Z"
   },
   {
    "duration": 1452,
    "start_time": "2022-10-27T05:15:24.784Z"
   },
   {
    "duration": 1140,
    "start_time": "2022-10-27T05:17:07.356Z"
   },
   {
    "duration": 867,
    "start_time": "2022-10-27T05:17:11.136Z"
   },
   {
    "duration": 475,
    "start_time": "2022-10-27T05:17:27.521Z"
   },
   {
    "duration": 104,
    "start_time": "2022-10-27T05:17:36.212Z"
   },
   {
    "duration": 14,
    "start_time": "2022-10-27T05:17:40.937Z"
   },
   {
    "duration": 1472,
    "start_time": "2022-10-27T05:18:02.974Z"
   },
   {
    "duration": 847,
    "start_time": "2022-10-27T05:18:04.448Z"
   },
   {
    "duration": 842,
    "start_time": "2022-10-27T05:18:05.297Z"
   },
   {
    "duration": 492,
    "start_time": "2022-10-27T05:18:06.141Z"
   },
   {
    "duration": 113,
    "start_time": "2022-10-27T05:18:06.635Z"
   },
   {
    "duration": 3,
    "start_time": "2022-10-27T05:18:13.505Z"
   },
   {
    "duration": 4,
    "start_time": "2022-10-27T05:18:24.091Z"
   },
   {
    "duration": 308,
    "start_time": "2022-10-27T05:18:29.366Z"
   },
   {
    "duration": 7,
    "start_time": "2022-10-27T05:18:31.358Z"
   },
   {
    "duration": 3,
    "start_time": "2022-10-27T05:18:41.181Z"
   },
   {
    "duration": 3,
    "start_time": "2022-10-27T05:18:44.367Z"
   },
   {
    "duration": 3,
    "start_time": "2022-10-27T05:18:56.286Z"
   },
   {
    "duration": 3,
    "start_time": "2022-10-27T05:18:56.758Z"
   },
   {
    "duration": 19,
    "start_time": "2022-10-27T05:18:59.024Z"
   },
   {
    "duration": 147,
    "start_time": "2022-10-27T05:19:06.149Z"
   },
   {
    "duration": 245,
    "start_time": "2022-10-27T05:23:16.233Z"
   },
   {
    "duration": 136,
    "start_time": "2022-10-27T05:23:26.762Z"
   },
   {
    "duration": 25,
    "start_time": "2022-10-27T05:25:28.024Z"
   },
   {
    "duration": 303,
    "start_time": "2022-10-27T05:32:04.558Z"
   },
   {
    "duration": 71,
    "start_time": "2022-10-27T05:32:11.821Z"
   },
   {
    "duration": 1673,
    "start_time": "2022-10-27T05:32:30.129Z"
   },
   {
    "duration": 871,
    "start_time": "2022-10-27T05:32:34.365Z"
   },
   {
    "duration": 546,
    "start_time": "2022-10-27T05:33:10.954Z"
   },
   {
    "duration": 110,
    "start_time": "2022-10-27T05:34:38.211Z"
   },
   {
    "duration": 3,
    "start_time": "2022-10-27T05:35:08.948Z"
   },
   {
    "duration": 311,
    "start_time": "2022-10-27T05:36:54.028Z"
   },
   {
    "duration": 20,
    "start_time": "2022-10-27T05:38:23.209Z"
   },
   {
    "duration": 20,
    "start_time": "2022-10-27T05:39:30.907Z"
   },
   {
    "duration": 19,
    "start_time": "2022-10-27T05:41:27.536Z"
   },
   {
    "duration": 19,
    "start_time": "2022-10-27T05:41:44.540Z"
   },
   {
    "duration": 20,
    "start_time": "2022-10-27T05:42:27.876Z"
   },
   {
    "duration": 21,
    "start_time": "2022-10-27T05:43:14.968Z"
   },
   {
    "duration": 632,
    "start_time": "2022-10-27T05:44:20.185Z"
   },
   {
    "duration": 71,
    "start_time": "2022-10-27T05:45:17.207Z"
   },
   {
    "duration": 139,
    "start_time": "2022-10-27T05:47:42.286Z"
   },
   {
    "duration": 1488,
    "start_time": "2022-10-27T05:48:08.030Z"
   },
   {
    "duration": 870,
    "start_time": "2022-10-27T05:48:09.520Z"
   },
   {
    "duration": 839,
    "start_time": "2022-10-27T05:48:10.392Z"
   },
   {
    "duration": 3,
    "start_time": "2022-10-27T05:48:11.938Z"
   },
   {
    "duration": 473,
    "start_time": "2022-10-27T05:48:13.590Z"
   },
   {
    "duration": 260,
    "start_time": "2022-10-27T05:48:16.198Z"
   },
   {
    "duration": 21,
    "start_time": "2022-10-27T05:48:17.845Z"
   },
   {
    "duration": 21,
    "start_time": "2022-10-27T05:48:18.512Z"
   },
   {
    "duration": 21,
    "start_time": "2022-10-27T05:48:19.397Z"
   },
   {
    "duration": 18,
    "start_time": "2022-10-27T05:48:19.670Z"
   },
   {
    "duration": 21,
    "start_time": "2022-10-27T05:48:20.601Z"
   },
   {
    "duration": 18,
    "start_time": "2022-10-27T05:48:21.177Z"
   },
   {
    "duration": 20,
    "start_time": "2022-10-27T05:48:22.159Z"
   },
   {
    "duration": 35,
    "start_time": "2022-10-27T05:48:22.569Z"
   },
   {
    "duration": 20,
    "start_time": "2022-10-27T05:48:24.105Z"
   },
   {
    "duration": 35,
    "start_time": "2022-10-27T05:48:25.065Z"
   },
   {
    "duration": 81,
    "start_time": "2022-10-27T05:48:26.611Z"
   },
   {
    "duration": 138,
    "start_time": "2022-10-27T05:48:29.227Z"
   },
   {
    "duration": 599,
    "start_time": "2022-10-27T05:48:42.520Z"
   },
   {
    "duration": 5,
    "start_time": "2022-10-27T05:48:58.109Z"
   },
   {
    "duration": 69,
    "start_time": "2022-10-27T05:49:27.718Z"
   },
   {
    "duration": 132,
    "start_time": "2022-10-27T05:49:38.568Z"
   },
   {
    "duration": 124,
    "start_time": "2022-10-27T05:50:07.443Z"
   },
   {
    "duration": 503,
    "start_time": "2022-10-27T05:50:13.963Z"
   },
   {
    "duration": 169,
    "start_time": "2022-10-27T05:50:43.645Z"
   },
   {
    "duration": 133,
    "start_time": "2022-10-27T05:50:48.940Z"
   },
   {
    "duration": 158,
    "start_time": "2022-10-27T05:50:56.928Z"
   },
   {
    "duration": 7,
    "start_time": "2022-10-27T05:55:05.628Z"
   },
   {
    "duration": 747,
    "start_time": "2022-10-27T05:55:41.819Z"
   },
   {
    "duration": 11,
    "start_time": "2022-10-27T05:56:06.099Z"
   },
   {
    "duration": 5,
    "start_time": "2022-10-27T05:56:09.749Z"
   },
   {
    "duration": 1460,
    "start_time": "2022-10-27T05:56:43.895Z"
   },
   {
    "duration": 889,
    "start_time": "2022-10-27T05:56:46.335Z"
   },
   {
    "duration": 900,
    "start_time": "2022-10-27T05:56:47.226Z"
   },
   {
    "duration": 3,
    "start_time": "2022-10-27T05:56:48.128Z"
   },
   {
    "duration": 22,
    "start_time": "2022-10-27T05:56:48.133Z"
   },
   {
    "duration": 536,
    "start_time": "2022-10-27T05:56:48.157Z"
   },
   {
    "duration": 321,
    "start_time": "2022-10-27T05:56:48.695Z"
   },
   {
    "duration": 19,
    "start_time": "2022-10-27T05:56:49.018Z"
   },
   {
    "duration": 30,
    "start_time": "2022-10-27T05:56:49.039Z"
   },
   {
    "duration": 23,
    "start_time": "2022-10-27T05:56:49.231Z"
   },
   {
    "duration": 18,
    "start_time": "2022-10-27T05:56:49.383Z"
   },
   {
    "duration": 19,
    "start_time": "2022-10-27T05:56:49.705Z"
   },
   {
    "duration": 19,
    "start_time": "2022-10-27T05:56:50.009Z"
   },
   {
    "duration": 21,
    "start_time": "2022-10-27T05:56:50.587Z"
   },
   {
    "duration": 33,
    "start_time": "2022-10-27T05:56:50.906Z"
   },
   {
    "duration": 21,
    "start_time": "2022-10-27T05:56:51.567Z"
   },
   {
    "duration": 35,
    "start_time": "2022-10-27T05:56:51.721Z"
   },
   {
    "duration": 81,
    "start_time": "2022-10-27T05:56:52.023Z"
   },
   {
    "duration": 622,
    "start_time": "2022-10-27T05:56:53.095Z"
   },
   {
    "duration": 125,
    "start_time": "2022-10-27T05:56:54.711Z"
   },
   {
    "duration": 532,
    "start_time": "2022-10-27T05:56:55.454Z"
   },
   {
    "duration": 159,
    "start_time": "2022-10-27T05:56:56.112Z"
   },
   {
    "duration": 126,
    "start_time": "2022-10-27T05:56:56.702Z"
   },
   {
    "duration": 145,
    "start_time": "2022-10-27T05:56:57.177Z"
   },
   {
    "duration": 8,
    "start_time": "2022-10-27T05:56:57.958Z"
   },
   {
    "duration": 5,
    "start_time": "2022-10-27T05:56:59.064Z"
   },
   {
    "duration": 1489,
    "start_time": "2022-10-27T06:01:55.544Z"
   },
   {
    "duration": 1176,
    "start_time": "2022-10-27T06:01:57.668Z"
   },
   {
    "duration": 843,
    "start_time": "2022-10-27T06:01:58.845Z"
   },
   {
    "duration": 4,
    "start_time": "2022-10-27T06:01:59.690Z"
   },
   {
    "duration": 7,
    "start_time": "2022-10-27T06:01:59.696Z"
   },
   {
    "duration": 530,
    "start_time": "2022-10-27T06:01:59.705Z"
   },
   {
    "duration": 3,
    "start_time": "2022-10-27T06:02:22.941Z"
   },
   {
    "duration": 5,
    "start_time": "2022-10-27T06:02:23.092Z"
   },
   {
    "duration": 526,
    "start_time": "2022-10-27T06:02:23.380Z"
   },
   {
    "duration": 313,
    "start_time": "2022-10-27T06:02:23.908Z"
   },
   {
    "duration": 19,
    "start_time": "2022-10-27T06:02:24.223Z"
   },
   {
    "duration": 24,
    "start_time": "2022-10-27T06:02:24.253Z"
   },
   {
    "duration": 21,
    "start_time": "2022-10-27T06:02:24.470Z"
   },
   {
    "duration": 20,
    "start_time": "2022-10-27T06:02:24.582Z"
   },
   {
    "duration": 20,
    "start_time": "2022-10-27T06:02:24.884Z"
   },
   {
    "duration": 20,
    "start_time": "2022-10-27T06:02:24.996Z"
   },
   {
    "duration": 21,
    "start_time": "2022-10-27T06:02:25.308Z"
   },
   {
    "duration": 33,
    "start_time": "2022-10-27T06:02:25.452Z"
   },
   {
    "duration": 21,
    "start_time": "2022-10-27T06:02:25.724Z"
   },
   {
    "duration": 35,
    "start_time": "2022-10-27T06:02:25.868Z"
   },
   {
    "duration": 79,
    "start_time": "2022-10-27T06:02:26.174Z"
   },
   {
    "duration": 606,
    "start_time": "2022-10-27T06:02:26.328Z"
   },
   {
    "duration": 139,
    "start_time": "2022-10-27T06:02:26.936Z"
   },
   {
    "duration": 521,
    "start_time": "2022-10-27T06:02:27.077Z"
   },
   {
    "duration": 171,
    "start_time": "2022-10-27T06:02:27.600Z"
   },
   {
    "duration": 141,
    "start_time": "2022-10-27T06:02:27.772Z"
   },
   {
    "duration": 158,
    "start_time": "2022-10-27T06:02:27.915Z"
   },
   {
    "duration": 6,
    "start_time": "2022-10-27T06:02:28.075Z"
   },
   {
    "duration": 15,
    "start_time": "2022-10-27T06:02:28.083Z"
   },
   {
    "duration": 159,
    "start_time": "2022-10-27T06:02:28.556Z"
   },
   {
    "duration": 143,
    "start_time": "2022-10-27T06:02:28.892Z"
   },
   {
    "duration": 161,
    "start_time": "2022-10-27T06:03:31.313Z"
   },
   {
    "duration": 148,
    "start_time": "2022-10-27T06:03:36.209Z"
   },
   {
    "duration": 156,
    "start_time": "2022-10-27T06:03:40.111Z"
   },
   {
    "duration": 6,
    "start_time": "2022-10-27T06:03:50.489Z"
   },
   {
    "duration": 5,
    "start_time": "2022-10-27T06:04:03.565Z"
   },
   {
    "duration": 5,
    "start_time": "2022-10-27T06:04:09.194Z"
   },
   {
    "duration": 156,
    "start_time": "2022-10-27T06:04:17.318Z"
   },
   {
    "duration": 109,
    "start_time": "2022-10-27T06:04:18.670Z"
   },
   {
    "duration": 6,
    "start_time": "2022-10-27T06:04:30.398Z"
   },
   {
    "duration": 7,
    "start_time": "2022-10-27T06:06:45.453Z"
   },
   {
    "duration": 111,
    "start_time": "2022-10-27T06:06:46.139Z"
   },
   {
    "duration": 77,
    "start_time": "2022-10-27T06:06:50.970Z"
   },
   {
    "duration": 105,
    "start_time": "2022-10-27T06:06:55.637Z"
   },
   {
    "duration": 113,
    "start_time": "2022-10-27T06:07:04.470Z"
   },
   {
    "duration": 117,
    "start_time": "2022-10-27T06:07:05.052Z"
   },
   {
    "duration": 6,
    "start_time": "2022-10-27T06:07:13.086Z"
   },
   {
    "duration": 863,
    "start_time": "2022-10-27T06:07:18.009Z"
   },
   {
    "duration": 6,
    "start_time": "2022-10-27T06:07:26.369Z"
   },
   {
    "duration": 36,
    "start_time": "2022-10-27T06:07:29.352Z"
   },
   {
    "duration": 9,
    "start_time": "2022-10-27T06:07:39.832Z"
   },
   {
    "duration": 1518,
    "start_time": "2022-10-27T06:07:55.417Z"
   },
   {
    "duration": 841,
    "start_time": "2022-10-27T06:07:56.937Z"
   },
   {
    "duration": 834,
    "start_time": "2022-10-27T06:07:57.780Z"
   },
   {
    "duration": 4,
    "start_time": "2022-10-27T06:07:58.616Z"
   },
   {
    "duration": 23,
    "start_time": "2022-10-27T06:07:58.621Z"
   },
   {
    "duration": 507,
    "start_time": "2022-10-27T06:07:58.646Z"
   },
   {
    "duration": 308,
    "start_time": "2022-10-27T06:07:59.155Z"
   },
   {
    "duration": 20,
    "start_time": "2022-10-27T06:07:59.464Z"
   },
   {
    "duration": 35,
    "start_time": "2022-10-27T06:07:59.486Z"
   },
   {
    "duration": 24,
    "start_time": "2022-10-27T06:07:59.525Z"
   },
   {
    "duration": 33,
    "start_time": "2022-10-27T06:07:59.553Z"
   },
   {
    "duration": 19,
    "start_time": "2022-10-27T06:07:59.587Z"
   },
   {
    "duration": 26,
    "start_time": "2022-10-27T06:07:59.608Z"
   },
   {
    "duration": 20,
    "start_time": "2022-10-27T06:07:59.635Z"
   },
   {
    "duration": 35,
    "start_time": "2022-10-27T06:07:59.657Z"
   },
   {
    "duration": 29,
    "start_time": "2022-10-27T06:07:59.693Z"
   },
   {
    "duration": 42,
    "start_time": "2022-10-27T06:07:59.724Z"
   },
   {
    "duration": 97,
    "start_time": "2022-10-27T06:07:59.768Z"
   },
   {
    "duration": 636,
    "start_time": "2022-10-27T06:07:59.867Z"
   },
   {
    "duration": 140,
    "start_time": "2022-10-27T06:08:00.504Z"
   },
   {
    "duration": 522,
    "start_time": "2022-10-27T06:08:00.654Z"
   },
   {
    "duration": 179,
    "start_time": "2022-10-27T06:08:01.178Z"
   },
   {
    "duration": 167,
    "start_time": "2022-10-27T06:08:01.359Z"
   },
   {
    "duration": 178,
    "start_time": "2022-10-27T06:08:01.528Z"
   },
   {
    "duration": 8,
    "start_time": "2022-10-27T06:08:01.708Z"
   },
   {
    "duration": 50,
    "start_time": "2022-10-27T06:08:01.717Z"
   },
   {
    "duration": 180,
    "start_time": "2022-10-27T06:08:01.769Z"
   },
   {
    "duration": 4,
    "start_time": "2022-10-27T06:08:01.955Z"
   },
   {
    "duration": 159,
    "start_time": "2022-10-27T06:08:01.960Z"
   },
   {
    "duration": 113,
    "start_time": "2022-10-27T06:08:02.120Z"
   },
   {
    "duration": 7,
    "start_time": "2022-10-27T06:08:02.234Z"
   },
   {
    "duration": 118,
    "start_time": "2022-10-27T06:08:02.254Z"
   },
   {
    "duration": 117,
    "start_time": "2022-10-27T06:08:02.374Z"
   },
   {
    "duration": 6,
    "start_time": "2022-10-27T06:08:02.492Z"
   },
   {
    "duration": 26,
    "start_time": "2022-10-27T06:08:02.500Z"
   },
   {
    "duration": 69,
    "start_time": "2022-10-27T06:08:02.528Z"
   },
   {
    "duration": 141,
    "start_time": "2022-10-27T06:08:02.598Z"
   },
   {
    "duration": 0,
    "start_time": "2022-10-27T06:08:02.741Z"
   },
   {
    "duration": 0,
    "start_time": "2022-10-27T06:08:02.741Z"
   },
   {
    "duration": 0,
    "start_time": "2022-10-27T06:08:02.743Z"
   },
   {
    "duration": 0,
    "start_time": "2022-10-27T06:08:02.744Z"
   },
   {
    "duration": 0,
    "start_time": "2022-10-27T06:08:02.753Z"
   },
   {
    "duration": 0,
    "start_time": "2022-10-27T06:08:02.754Z"
   },
   {
    "duration": 0,
    "start_time": "2022-10-27T06:08:02.755Z"
   },
   {
    "duration": 0,
    "start_time": "2022-10-27T06:08:02.756Z"
   },
   {
    "duration": 0,
    "start_time": "2022-10-27T06:08:02.757Z"
   },
   {
    "duration": 0,
    "start_time": "2022-10-27T06:08:02.758Z"
   },
   {
    "duration": 0,
    "start_time": "2022-10-27T06:08:02.759Z"
   },
   {
    "duration": 0,
    "start_time": "2022-10-27T06:08:02.760Z"
   },
   {
    "duration": 0,
    "start_time": "2022-10-27T06:08:02.761Z"
   },
   {
    "duration": 0,
    "start_time": "2022-10-27T06:08:02.762Z"
   },
   {
    "duration": 0,
    "start_time": "2022-10-27T06:08:02.763Z"
   },
   {
    "duration": 5,
    "start_time": "2022-10-27T06:08:38.213Z"
   },
   {
    "duration": 1499,
    "start_time": "2022-10-27T06:08:51.637Z"
   },
   {
    "duration": 835,
    "start_time": "2022-10-27T06:08:53.138Z"
   },
   {
    "duration": 842,
    "start_time": "2022-10-27T06:08:53.975Z"
   },
   {
    "duration": 3,
    "start_time": "2022-10-27T06:08:55.869Z"
   },
   {
    "duration": 5,
    "start_time": "2022-10-27T06:08:57.033Z"
   },
   {
    "duration": 3,
    "start_time": "2022-10-27T06:09:03.373Z"
   },
   {
    "duration": 5,
    "start_time": "2022-10-27T06:09:03.540Z"
   },
   {
    "duration": 486,
    "start_time": "2022-10-27T06:09:04.065Z"
   },
   {
    "duration": 304,
    "start_time": "2022-10-27T06:09:04.588Z"
   },
   {
    "duration": 20,
    "start_time": "2022-10-27T06:09:04.894Z"
   },
   {
    "duration": 20,
    "start_time": "2022-10-27T06:09:05.048Z"
   },
   {
    "duration": 25,
    "start_time": "2022-10-27T06:09:05.359Z"
   },
   {
    "duration": 19,
    "start_time": "2022-10-27T06:09:05.510Z"
   },
   {
    "duration": 19,
    "start_time": "2022-10-27T06:09:05.820Z"
   },
   {
    "duration": 20,
    "start_time": "2022-10-27T06:09:05.988Z"
   },
   {
    "duration": 20,
    "start_time": "2022-10-27T06:09:06.324Z"
   },
   {
    "duration": 32,
    "start_time": "2022-10-27T06:09:06.501Z"
   },
   {
    "duration": 19,
    "start_time": "2022-10-27T06:09:07.044Z"
   },
   {
    "duration": 32,
    "start_time": "2022-10-27T06:09:07.224Z"
   },
   {
    "duration": 76,
    "start_time": "2022-10-27T06:09:07.532Z"
   },
   {
    "duration": 590,
    "start_time": "2022-10-27T06:09:07.725Z"
   },
   {
    "duration": 141,
    "start_time": "2022-10-27T06:09:08.317Z"
   },
   {
    "duration": 545,
    "start_time": "2022-10-27T06:09:08.460Z"
   },
   {
    "duration": 170,
    "start_time": "2022-10-27T06:09:09.006Z"
   },
   {
    "duration": 137,
    "start_time": "2022-10-27T06:09:09.178Z"
   },
   {
    "duration": 159,
    "start_time": "2022-10-27T06:09:09.317Z"
   },
   {
    "duration": 6,
    "start_time": "2022-10-27T06:09:09.478Z"
   },
   {
    "duration": 15,
    "start_time": "2022-10-27T06:09:09.485Z"
   },
   {
    "duration": 159,
    "start_time": "2022-10-27T06:09:09.502Z"
   },
   {
    "duration": 5,
    "start_time": "2022-10-27T06:09:09.663Z"
   },
   {
    "duration": 162,
    "start_time": "2022-10-27T06:09:09.836Z"
   },
   {
    "duration": 126,
    "start_time": "2022-10-27T06:09:10.001Z"
   },
   {
    "duration": 8,
    "start_time": "2022-10-27T06:09:10.516Z"
   },
   {
    "duration": 117,
    "start_time": "2022-10-27T06:09:10.712Z"
   },
   {
    "duration": 117,
    "start_time": "2022-10-27T06:09:10.892Z"
   },
   {
    "duration": 7,
    "start_time": "2022-10-27T06:09:11.180Z"
   },
   {
    "duration": 7,
    "start_time": "2022-10-27T06:09:11.376Z"
   },
   {
    "duration": 43,
    "start_time": "2022-10-27T06:09:13.382Z"
   },
   {
    "duration": 3,
    "start_time": "2022-10-27T06:09:15.264Z"
   },
   {
    "duration": 114,
    "start_time": "2022-10-27T06:09:30.272Z"
   },
   {
    "duration": 3,
    "start_time": "2022-10-27T06:09:30.830Z"
   },
   {
    "duration": 10,
    "start_time": "2022-10-27T06:09:59.755Z"
   },
   {
    "duration": 10,
    "start_time": "2022-10-27T06:10:08.498Z"
   },
   {
    "duration": 12,
    "start_time": "2022-10-27T06:10:33.142Z"
   },
   {
    "duration": 3,
    "start_time": "2022-10-27T06:10:39.341Z"
   },
   {
    "duration": 11,
    "start_time": "2022-10-27T06:10:46.407Z"
   },
   {
    "duration": 1470,
    "start_time": "2022-10-27T06:11:05.663Z"
   },
   {
    "duration": 863,
    "start_time": "2022-10-27T06:11:07.136Z"
   },
   {
    "duration": 837,
    "start_time": "2022-10-27T06:11:08.001Z"
   },
   {
    "duration": 4,
    "start_time": "2022-10-27T06:11:09.715Z"
   },
   {
    "duration": 5,
    "start_time": "2022-10-27T06:11:10.307Z"
   },
   {
    "duration": 541,
    "start_time": "2022-10-27T06:11:11.289Z"
   },
   {
    "duration": 300,
    "start_time": "2022-10-27T06:11:13.158Z"
   },
   {
    "duration": 19,
    "start_time": "2022-10-27T06:11:15.179Z"
   },
   {
    "duration": 21,
    "start_time": "2022-10-27T06:11:15.803Z"
   },
   {
    "duration": 22,
    "start_time": "2022-10-27T06:11:17.579Z"
   },
   {
    "duration": 19,
    "start_time": "2022-10-27T06:11:18.503Z"
   },
   {
    "duration": 20,
    "start_time": "2022-10-27T06:11:19.914Z"
   },
   {
    "duration": 20,
    "start_time": "2022-10-27T06:11:20.617Z"
   },
   {
    "duration": 21,
    "start_time": "2022-10-27T06:11:21.933Z"
   },
   {
    "duration": 34,
    "start_time": "2022-10-27T06:11:22.555Z"
   },
   {
    "duration": 21,
    "start_time": "2022-10-27T06:11:24.042Z"
   },
   {
    "duration": 32,
    "start_time": "2022-10-27T06:11:24.802Z"
   },
   {
    "duration": 77,
    "start_time": "2022-10-27T06:11:25.860Z"
   },
   {
    "duration": 637,
    "start_time": "2022-10-27T06:11:26.859Z"
   },
   {
    "duration": 129,
    "start_time": "2022-10-27T06:11:28.846Z"
   },
   {
    "duration": 503,
    "start_time": "2022-10-27T06:11:29.606Z"
   },
   {
    "duration": 161,
    "start_time": "2022-10-27T06:11:30.564Z"
   },
   {
    "duration": 23,
    "start_time": "2022-10-27T06:12:06.945Z"
   },
   {
    "duration": 426,
    "start_time": "2022-10-27T06:12:13.675Z"
   },
   {
    "duration": 159,
    "start_time": "2022-10-27T06:12:14.833Z"
   },
   {
    "duration": 130,
    "start_time": "2022-10-27T06:12:15.820Z"
   },
   {
    "duration": 152,
    "start_time": "2022-10-27T06:12:16.829Z"
   },
   {
    "duration": 6,
    "start_time": "2022-10-27T06:12:17.724Z"
   },
   {
    "duration": 5,
    "start_time": "2022-10-27T06:12:18.652Z"
   },
   {
    "duration": 144,
    "start_time": "2022-10-27T06:12:19.520Z"
   },
   {
    "duration": 5,
    "start_time": "2022-10-27T06:12:20.380Z"
   },
   {
    "duration": 146,
    "start_time": "2022-10-27T06:12:24.700Z"
   },
   {
    "duration": 109,
    "start_time": "2022-10-27T06:12:27.030Z"
   },
   {
    "duration": 7,
    "start_time": "2022-10-27T06:12:28.613Z"
   },
   {
    "duration": 114,
    "start_time": "2022-10-27T06:12:29.335Z"
   },
   {
    "duration": 113,
    "start_time": "2022-10-27T06:12:30.332Z"
   },
   {
    "duration": 7,
    "start_time": "2022-10-27T06:12:31.395Z"
   },
   {
    "duration": 7,
    "start_time": "2022-10-27T06:12:32.249Z"
   },
   {
    "duration": 78,
    "start_time": "2022-10-27T06:12:33.252Z"
   },
   {
    "duration": 35,
    "start_time": "2022-10-27T06:12:36.134Z"
   },
   {
    "duration": 75,
    "start_time": "2022-10-27T06:12:38.539Z"
   },
   {
    "duration": 1038,
    "start_time": "2022-10-27T06:22:11.470Z"
   },
   {
    "duration": 3,
    "start_time": "2022-10-27T06:22:19.441Z"
   },
   {
    "duration": 707,
    "start_time": "2022-10-27T06:22:21.569Z"
   },
   {
    "duration": 517,
    "start_time": "2022-10-27T06:22:50.117Z"
   },
   {
    "duration": 4,
    "start_time": "2022-10-27T06:23:19.770Z"
   },
   {
    "duration": 515,
    "start_time": "2022-10-27T06:23:20.317Z"
   },
   {
    "duration": 5,
    "start_time": "2022-10-27T06:23:21.224Z"
   },
   {
    "duration": 11,
    "start_time": "2022-10-27T06:23:24.513Z"
   },
   {
    "duration": 4,
    "start_time": "2022-10-27T06:23:34.576Z"
   },
   {
    "duration": 30032,
    "start_time": "2022-10-27T06:23:38.931Z"
   },
   {
    "duration": 1610,
    "start_time": "2022-10-27T06:27:33.904Z"
   },
   {
    "duration": 949,
    "start_time": "2022-10-27T06:27:35.516Z"
   },
   {
    "duration": 890,
    "start_time": "2022-10-27T06:27:36.467Z"
   },
   {
    "duration": 4,
    "start_time": "2022-10-27T06:27:37.360Z"
   },
   {
    "duration": 18,
    "start_time": "2022-10-27T06:27:37.366Z"
   },
   {
    "duration": 535,
    "start_time": "2022-10-27T06:27:37.386Z"
   },
   {
    "duration": 283,
    "start_time": "2022-10-27T06:27:37.922Z"
   },
   {
    "duration": 21,
    "start_time": "2022-10-27T06:27:38.207Z"
   },
   {
    "duration": 39,
    "start_time": "2022-10-27T06:27:38.229Z"
   },
   {
    "duration": 33,
    "start_time": "2022-10-27T06:27:38.271Z"
   },
   {
    "duration": 25,
    "start_time": "2022-10-27T06:27:38.306Z"
   },
   {
    "duration": 26,
    "start_time": "2022-10-27T06:27:38.333Z"
   },
   {
    "duration": 26,
    "start_time": "2022-10-27T06:27:38.362Z"
   },
   {
    "duration": 33,
    "start_time": "2022-10-27T06:27:38.390Z"
   },
   {
    "duration": 51,
    "start_time": "2022-10-27T06:27:38.425Z"
   },
   {
    "duration": 23,
    "start_time": "2022-10-27T06:27:38.478Z"
   },
   {
    "duration": 54,
    "start_time": "2022-10-27T06:27:38.503Z"
   },
   {
    "duration": 85,
    "start_time": "2022-10-27T06:27:38.559Z"
   },
   {
    "duration": 667,
    "start_time": "2022-10-27T06:27:38.653Z"
   },
   {
    "duration": 158,
    "start_time": "2022-10-27T06:27:39.322Z"
   },
   {
    "duration": 534,
    "start_time": "2022-10-27T06:27:39.483Z"
   },
   {
    "duration": 172,
    "start_time": "2022-10-27T06:27:40.019Z"
   },
   {
    "duration": 137,
    "start_time": "2022-10-27T06:27:40.192Z"
   },
   {
    "duration": 173,
    "start_time": "2022-10-27T06:27:40.330Z"
   },
   {
    "duration": 6,
    "start_time": "2022-10-27T06:27:40.505Z"
   },
   {
    "duration": 4,
    "start_time": "2022-10-27T06:27:40.513Z"
   },
   {
    "duration": 177,
    "start_time": "2022-10-27T06:27:40.519Z"
   },
   {
    "duration": 5,
    "start_time": "2022-10-27T06:27:40.697Z"
   },
   {
    "duration": 162,
    "start_time": "2022-10-27T06:27:40.703Z"
   },
   {
    "duration": 127,
    "start_time": "2022-10-27T06:27:40.867Z"
   },
   {
    "duration": 6,
    "start_time": "2022-10-27T06:27:41.173Z"
   },
   {
    "duration": 155,
    "start_time": "2022-10-27T06:27:41.496Z"
   },
   {
    "duration": 123,
    "start_time": "2022-10-27T06:27:41.702Z"
   },
   {
    "duration": 6,
    "start_time": "2022-10-27T06:27:41.884Z"
   },
   {
    "duration": 6,
    "start_time": "2022-10-27T06:27:42.192Z"
   },
   {
    "duration": 77,
    "start_time": "2022-10-27T06:27:42.466Z"
   },
   {
    "duration": 34,
    "start_time": "2022-10-27T06:27:42.665Z"
   },
   {
    "duration": 75,
    "start_time": "2022-10-27T06:27:42.829Z"
   },
   {
    "duration": 902,
    "start_time": "2022-10-27T06:27:44.012Z"
   },
   {
    "duration": 3,
    "start_time": "2022-10-27T06:27:44.916Z"
   },
   {
    "duration": 599,
    "start_time": "2022-10-27T06:27:45.888Z"
   },
   {
    "duration": 4,
    "start_time": "2022-10-27T06:27:46.977Z"
   },
   {
    "duration": 118,
    "start_time": "2022-10-27T06:27:48.504Z"
   },
   {
    "duration": 6,
    "start_time": "2022-10-27T06:28:27.230Z"
   },
   {
    "duration": 3,
    "start_time": "2022-10-27T06:28:33.669Z"
   },
   {
    "duration": 55,
    "start_time": "2022-10-27T06:28:37.989Z"
   },
   {
    "duration": 5,
    "start_time": "2022-10-27T07:22:47.935Z"
   },
   {
    "duration": 26000,
    "start_time": "2022-10-27T07:22:51.355Z"
   },
   {
    "duration": 69,
    "start_time": "2022-10-27T07:23:17.398Z"
   },
   {
    "duration": 5,
    "start_time": "2022-10-27T07:23:23.879Z"
   },
   {
    "duration": 1469,
    "start_time": "2022-10-27T07:23:54.077Z"
   },
   {
    "duration": 878,
    "start_time": "2022-10-27T07:23:55.549Z"
   },
   {
    "duration": 918,
    "start_time": "2022-10-27T07:23:56.429Z"
   },
   {
    "duration": 7,
    "start_time": "2022-10-27T07:23:57.348Z"
   },
   {
    "duration": 20,
    "start_time": "2022-10-27T07:23:57.357Z"
   },
   {
    "duration": 512,
    "start_time": "2022-10-27T07:23:57.379Z"
   },
   {
    "duration": 315,
    "start_time": "2022-10-27T07:23:57.893Z"
   },
   {
    "duration": 20,
    "start_time": "2022-10-27T07:23:58.210Z"
   },
   {
    "duration": 32,
    "start_time": "2022-10-27T07:23:58.232Z"
   },
   {
    "duration": 22,
    "start_time": "2022-10-27T07:23:58.266Z"
   },
   {
    "duration": 22,
    "start_time": "2022-10-27T07:23:58.290Z"
   },
   {
    "duration": 41,
    "start_time": "2022-10-27T07:23:58.314Z"
   },
   {
    "duration": 19,
    "start_time": "2022-10-27T07:23:58.357Z"
   },
   {
    "duration": 21,
    "start_time": "2022-10-27T07:23:58.379Z"
   },
   {
    "duration": 56,
    "start_time": "2022-10-27T07:23:58.401Z"
   },
   {
    "duration": 20,
    "start_time": "2022-10-27T07:23:58.459Z"
   },
   {
    "duration": 35,
    "start_time": "2022-10-27T07:23:58.481Z"
   },
   {
    "duration": 95,
    "start_time": "2022-10-27T07:23:58.518Z"
   },
   {
    "duration": 605,
    "start_time": "2022-10-27T07:23:58.614Z"
   },
   {
    "duration": 145,
    "start_time": "2022-10-27T07:23:59.220Z"
   },
   {
    "duration": 514,
    "start_time": "2022-10-27T07:23:59.366Z"
   },
   {
    "duration": 173,
    "start_time": "2022-10-27T07:23:59.881Z"
   },
   {
    "duration": 143,
    "start_time": "2022-10-27T07:24:00.056Z"
   },
   {
    "duration": 162,
    "start_time": "2022-10-27T07:24:00.201Z"
   },
   {
    "duration": 7,
    "start_time": "2022-10-27T07:24:00.364Z"
   },
   {
    "duration": 43,
    "start_time": "2022-10-27T07:24:00.372Z"
   },
   {
    "duration": 177,
    "start_time": "2022-10-27T07:24:00.416Z"
   },
   {
    "duration": 5,
    "start_time": "2022-10-27T07:24:00.595Z"
   },
   {
    "duration": 167,
    "start_time": "2022-10-27T07:24:00.601Z"
   },
   {
    "duration": 124,
    "start_time": "2022-10-27T07:24:00.770Z"
   },
   {
    "duration": 6,
    "start_time": "2022-10-27T07:24:00.896Z"
   },
   {
    "duration": 146,
    "start_time": "2022-10-27T07:24:00.904Z"
   },
   {
    "duration": 123,
    "start_time": "2022-10-27T07:24:01.052Z"
   },
   {
    "duration": 6,
    "start_time": "2022-10-27T07:24:01.178Z"
   },
   {
    "duration": 37,
    "start_time": "2022-10-27T07:24:01.185Z"
   },
   {
    "duration": 89,
    "start_time": "2022-10-27T07:24:01.223Z"
   },
   {
    "duration": 29,
    "start_time": "2022-10-27T07:24:01.314Z"
   },
   {
    "duration": 86,
    "start_time": "2022-10-27T07:24:01.353Z"
   },
   {
    "duration": 1189,
    "start_time": "2022-10-27T07:24:01.442Z"
   },
   {
    "duration": 4,
    "start_time": "2022-10-27T07:24:02.632Z"
   },
   {
    "duration": 626,
    "start_time": "2022-10-27T07:24:02.640Z"
   },
   {
    "duration": 3,
    "start_time": "2022-10-27T07:24:03.268Z"
   },
   {
    "duration": 10,
    "start_time": "2022-10-27T07:24:03.272Z"
   },
   {
    "duration": 13,
    "start_time": "2022-10-27T07:24:03.284Z"
   },
   {
    "duration": 26672,
    "start_time": "2022-10-27T07:24:03.299Z"
   },
   {
    "duration": 1484,
    "start_time": "2022-10-27T07:26:35.738Z"
   },
   {
    "duration": 846,
    "start_time": "2022-10-27T07:26:37.224Z"
   },
   {
    "duration": 864,
    "start_time": "2022-10-27T07:26:38.072Z"
   },
   {
    "duration": 3,
    "start_time": "2022-10-27T07:26:38.938Z"
   },
   {
    "duration": 22,
    "start_time": "2022-10-27T07:26:38.953Z"
   },
   {
    "duration": 534,
    "start_time": "2022-10-27T07:26:38.976Z"
   },
   {
    "duration": 322,
    "start_time": "2022-10-27T07:26:39.512Z"
   },
   {
    "duration": 22,
    "start_time": "2022-10-27T07:26:39.836Z"
   },
   {
    "duration": 26,
    "start_time": "2022-10-27T07:26:39.859Z"
   },
   {
    "duration": 22,
    "start_time": "2022-10-27T07:26:39.888Z"
   },
   {
    "duration": 43,
    "start_time": "2022-10-27T07:26:39.912Z"
   },
   {
    "duration": 19,
    "start_time": "2022-10-27T07:26:39.957Z"
   },
   {
    "duration": 22,
    "start_time": "2022-10-27T07:26:39.978Z"
   },
   {
    "duration": 23,
    "start_time": "2022-10-27T07:26:40.002Z"
   },
   {
    "duration": 65,
    "start_time": "2022-10-27T07:26:40.027Z"
   },
   {
    "duration": 54,
    "start_time": "2022-10-27T07:26:40.094Z"
   },
   {
    "duration": 42,
    "start_time": "2022-10-27T07:26:40.150Z"
   },
   {
    "duration": 98,
    "start_time": "2022-10-27T07:26:40.194Z"
   },
   {
    "duration": 632,
    "start_time": "2022-10-27T07:26:40.294Z"
   },
   {
    "duration": 139,
    "start_time": "2022-10-27T07:26:40.928Z"
   },
   {
    "duration": 579,
    "start_time": "2022-10-27T07:26:41.069Z"
   },
   {
    "duration": 185,
    "start_time": "2022-10-27T07:26:41.651Z"
   },
   {
    "duration": 143,
    "start_time": "2022-10-27T07:26:41.838Z"
   },
   {
    "duration": 158,
    "start_time": "2022-10-27T07:26:41.982Z"
   },
   {
    "duration": 17,
    "start_time": "2022-10-27T07:26:42.142Z"
   },
   {
    "duration": 5,
    "start_time": "2022-10-27T07:26:42.160Z"
   },
   {
    "duration": 168,
    "start_time": "2022-10-27T07:26:42.167Z"
   },
   {
    "duration": 4,
    "start_time": "2022-10-27T07:26:42.337Z"
   },
   {
    "duration": 158,
    "start_time": "2022-10-27T07:26:42.353Z"
   },
   {
    "duration": 121,
    "start_time": "2022-10-27T07:26:42.513Z"
   },
   {
    "duration": 7,
    "start_time": "2022-10-27T07:26:42.681Z"
   },
   {
    "duration": 118,
    "start_time": "2022-10-27T07:26:42.857Z"
   },
   {
    "duration": 117,
    "start_time": "2022-10-27T07:26:43.025Z"
   },
   {
    "duration": 7,
    "start_time": "2022-10-27T07:26:43.213Z"
   },
   {
    "duration": 6,
    "start_time": "2022-10-27T07:26:43.372Z"
   },
   {
    "duration": 80,
    "start_time": "2022-10-27T07:26:43.565Z"
   },
   {
    "duration": 32,
    "start_time": "2022-10-27T07:26:43.804Z"
   },
   {
    "duration": 74,
    "start_time": "2022-10-27T07:26:43.987Z"
   },
   {
    "duration": 1044,
    "start_time": "2022-10-27T07:26:46.810Z"
   },
   {
    "duration": 3,
    "start_time": "2022-10-27T07:26:49.111Z"
   },
   {
    "duration": 610,
    "start_time": "2022-10-27T07:26:51.166Z"
   },
   {
    "duration": 4,
    "start_time": "2022-10-27T07:26:53.724Z"
   },
   {
    "duration": 3,
    "start_time": "2022-10-27T07:27:05.202Z"
   },
   {
    "duration": 4,
    "start_time": "2022-10-27T07:27:06.104Z"
   },
   {
    "duration": 25595,
    "start_time": "2022-10-27T07:27:08.159Z"
   },
   {
    "duration": 1537,
    "start_time": "2022-10-27T07:50:09.585Z"
   },
   {
    "duration": 983,
    "start_time": "2022-10-27T07:50:11.124Z"
   },
   {
    "duration": 1084,
    "start_time": "2022-10-27T07:50:12.109Z"
   },
   {
    "duration": 3,
    "start_time": "2022-10-27T07:50:13.195Z"
   },
   {
    "duration": 76,
    "start_time": "2022-10-27T07:50:13.200Z"
   },
   {
    "duration": 606,
    "start_time": "2022-10-27T07:50:13.278Z"
   },
   {
    "duration": 289,
    "start_time": "2022-10-27T07:50:13.886Z"
   },
   {
    "duration": 23,
    "start_time": "2022-10-27T07:50:14.177Z"
   },
   {
    "duration": 94,
    "start_time": "2022-10-27T07:50:14.202Z"
   },
   {
    "duration": 67,
    "start_time": "2022-10-27T07:50:14.299Z"
   },
   {
    "duration": 59,
    "start_time": "2022-10-27T07:50:14.368Z"
   },
   {
    "duration": 95,
    "start_time": "2022-10-27T07:50:14.429Z"
   },
   {
    "duration": 124,
    "start_time": "2022-10-27T07:50:14.526Z"
   },
   {
    "duration": 53,
    "start_time": "2022-10-27T07:50:14.652Z"
   },
   {
    "duration": 92,
    "start_time": "2022-10-27T07:50:14.707Z"
   },
   {
    "duration": 51,
    "start_time": "2022-10-27T07:50:14.801Z"
   },
   {
    "duration": 72,
    "start_time": "2022-10-27T07:50:14.855Z"
   },
   {
    "duration": 124,
    "start_time": "2022-10-27T07:50:14.929Z"
   },
   {
    "duration": 695,
    "start_time": "2022-10-27T07:50:15.055Z"
   },
   {
    "duration": 161,
    "start_time": "2022-10-27T07:50:15.754Z"
   },
   {
    "duration": 593,
    "start_time": "2022-10-27T07:50:15.917Z"
   },
   {
    "duration": 198,
    "start_time": "2022-10-27T07:50:16.512Z"
   },
   {
    "duration": 162,
    "start_time": "2022-10-27T07:50:16.713Z"
   },
   {
    "duration": 199,
    "start_time": "2022-10-27T07:50:16.877Z"
   },
   {
    "duration": 8,
    "start_time": "2022-10-27T07:50:17.078Z"
   },
   {
    "duration": 25,
    "start_time": "2022-10-27T07:50:17.088Z"
   },
   {
    "duration": 178,
    "start_time": "2022-10-27T07:50:17.115Z"
   },
   {
    "duration": 5,
    "start_time": "2022-10-27T07:50:17.295Z"
   },
   {
    "duration": 188,
    "start_time": "2022-10-27T07:50:17.691Z"
   },
   {
    "duration": 118,
    "start_time": "2022-10-27T07:50:17.960Z"
   },
   {
    "duration": 8,
    "start_time": "2022-10-27T07:50:18.544Z"
   },
   {
    "duration": 118,
    "start_time": "2022-10-27T07:50:18.941Z"
   },
   {
    "duration": 121,
    "start_time": "2022-10-27T07:50:19.144Z"
   },
   {
    "duration": 7,
    "start_time": "2022-10-27T07:50:19.524Z"
   },
   {
    "duration": 8,
    "start_time": "2022-10-27T07:50:19.701Z"
   },
   {
    "duration": 134,
    "start_time": "2022-10-27T07:50:20.205Z"
   },
   {
    "duration": 35,
    "start_time": "2022-10-27T07:50:20.387Z"
   },
   {
    "duration": 138,
    "start_time": "2022-10-27T07:50:20.857Z"
   },
   {
    "duration": 1140,
    "start_time": "2022-10-27T07:50:22.188Z"
   },
   {
    "duration": 4,
    "start_time": "2022-10-27T07:50:24.256Z"
   },
   {
    "duration": 616,
    "start_time": "2022-10-27T07:50:25.580Z"
   },
   {
    "duration": 4,
    "start_time": "2022-10-27T07:50:27.048Z"
   },
   {
    "duration": 4,
    "start_time": "2022-10-27T07:50:49.570Z"
   },
   {
    "duration": 4,
    "start_time": "2022-10-27T07:50:52.134Z"
   },
   {
    "duration": 34295,
    "start_time": "2022-10-27T07:51:02.781Z"
   },
   {
    "duration": 5,
    "start_time": "2022-10-27T07:52:20.174Z"
   },
   {
    "duration": 33740,
    "start_time": "2022-10-27T07:52:23.716Z"
   },
   {
    "duration": 5,
    "start_time": "2022-10-27T07:53:01.142Z"
   },
   {
    "duration": 28963,
    "start_time": "2022-10-27T07:53:04.201Z"
   },
   {
    "duration": 14,
    "start_time": "2022-10-27T07:54:56.105Z"
   },
   {
    "duration": 16367,
    "start_time": "2022-10-27T07:55:09.501Z"
   },
   {
    "duration": 337,
    "start_time": "2022-10-27T07:55:25.870Z"
   },
   {
    "duration": 5,
    "start_time": "2022-10-27T07:55:36.903Z"
   },
   {
    "duration": 36174,
    "start_time": "2022-10-27T07:55:40.190Z"
   },
   {
    "duration": 5,
    "start_time": "2022-10-27T07:56:46.967Z"
   },
   {
    "duration": 4,
    "start_time": "2022-10-27T07:56:57.534Z"
   },
   {
    "duration": 139290,
    "start_time": "2022-10-27T07:56:58.464Z"
   },
   {
    "duration": 6,
    "start_time": "2022-10-27T07:59:51.759Z"
   },
   {
    "duration": 178155,
    "start_time": "2022-10-27T07:59:53.298Z"
   },
   {
    "duration": 6,
    "start_time": "2022-10-27T08:05:54.645Z"
   },
   {
    "duration": 148030,
    "start_time": "2022-10-27T08:05:56.825Z"
   },
   {
    "duration": 4,
    "start_time": "2022-10-27T08:10:09.569Z"
   },
   {
    "duration": 28375,
    "start_time": "2022-10-27T08:10:11.589Z"
   },
   {
    "duration": 2686,
    "start_time": "2022-10-27T08:13:08.920Z"
   },
   {
    "duration": 29,
    "start_time": "2022-10-27T08:13:11.609Z"
   },
   {
    "duration": 53,
    "start_time": "2022-10-27T08:15:14.848Z"
   },
   {
    "duration": 4,
    "start_time": "2022-10-27T08:15:24.420Z"
   },
   {
    "duration": 155,
    "start_time": "2022-10-27T08:15:27.074Z"
   },
   {
    "duration": 4,
    "start_time": "2022-10-27T08:16:06.610Z"
   },
   {
    "duration": 750,
    "start_time": "2022-10-27T08:16:10.496Z"
   },
   {
    "duration": 652,
    "start_time": "2022-10-27T08:17:35.898Z"
   },
   {
    "duration": 4,
    "start_time": "2022-10-27T08:17:49.400Z"
   },
   {
    "duration": 13,
    "start_time": "2022-10-27T08:18:15.648Z"
   },
   {
    "duration": 2180,
    "start_time": "2022-10-27T08:32:23.733Z"
   },
   {
    "duration": 2314,
    "start_time": "2022-10-27T08:32:25.916Z"
   },
   {
    "duration": 5,
    "start_time": "2022-10-27T08:32:28.233Z"
   },
   {
    "duration": 773,
    "start_time": "2022-10-27T08:32:28.239Z"
   },
   {
    "duration": 753,
    "start_time": "2022-10-27T08:32:29.014Z"
   },
   {
    "duration": 4,
    "start_time": "2022-10-27T08:32:29.768Z"
   },
   {
    "duration": 25,
    "start_time": "2022-10-27T08:32:29.774Z"
   },
   {
    "duration": 445,
    "start_time": "2022-10-27T08:32:29.800Z"
   },
   {
    "duration": 225,
    "start_time": "2022-10-27T08:32:30.253Z"
   },
   {
    "duration": 19,
    "start_time": "2022-10-27T08:32:30.481Z"
   },
   {
    "duration": 54,
    "start_time": "2022-10-27T08:32:30.503Z"
   },
   {
    "duration": 64,
    "start_time": "2022-10-27T08:32:30.559Z"
   },
   {
    "duration": 59,
    "start_time": "2022-10-27T08:32:30.625Z"
   },
   {
    "duration": 50,
    "start_time": "2022-10-27T08:32:30.686Z"
   },
   {
    "duration": 47,
    "start_time": "2022-10-27T08:32:30.738Z"
   },
   {
    "duration": 55,
    "start_time": "2022-10-27T08:32:30.787Z"
   },
   {
    "duration": 60,
    "start_time": "2022-10-27T08:32:30.843Z"
   },
   {
    "duration": 31,
    "start_time": "2022-10-27T08:32:30.906Z"
   },
   {
    "duration": 64,
    "start_time": "2022-10-27T08:32:30.939Z"
   },
   {
    "duration": 80,
    "start_time": "2022-10-27T08:32:31.107Z"
   },
   {
    "duration": 718,
    "start_time": "2022-10-27T08:32:31.377Z"
   },
   {
    "duration": 140,
    "start_time": "2022-10-27T08:32:32.097Z"
   },
   {
    "duration": 472,
    "start_time": "2022-10-27T08:32:32.238Z"
   },
   {
    "duration": 168,
    "start_time": "2022-10-27T08:32:32.712Z"
   },
   {
    "duration": 135,
    "start_time": "2022-10-27T08:32:32.882Z"
   },
   {
    "duration": 173,
    "start_time": "2022-10-27T08:32:33.021Z"
   },
   {
    "duration": 6,
    "start_time": "2022-10-27T08:32:33.196Z"
   },
   {
    "duration": 8,
    "start_time": "2022-10-27T08:32:33.203Z"
   },
   {
    "duration": 160,
    "start_time": "2022-10-27T08:32:33.213Z"
   },
   {
    "duration": 4,
    "start_time": "2022-10-27T08:32:33.376Z"
   },
   {
    "duration": 145,
    "start_time": "2022-10-27T08:32:33.702Z"
   },
   {
    "duration": 111,
    "start_time": "2022-10-27T08:32:33.878Z"
   },
   {
    "duration": 8,
    "start_time": "2022-10-27T08:32:34.238Z"
   },
   {
    "duration": 124,
    "start_time": "2022-10-27T08:32:34.634Z"
   },
   {
    "duration": 115,
    "start_time": "2022-10-27T08:32:34.932Z"
   },
   {
    "duration": 6,
    "start_time": "2022-10-27T08:32:35.742Z"
   },
   {
    "duration": 6,
    "start_time": "2022-10-27T08:32:36.235Z"
   },
   {
    "duration": 80,
    "start_time": "2022-10-27T08:32:36.534Z"
   },
   {
    "duration": 28,
    "start_time": "2022-10-27T08:32:37.254Z"
   },
   {
    "duration": 73,
    "start_time": "2022-10-27T08:32:37.806Z"
   },
   {
    "duration": 960,
    "start_time": "2022-10-27T08:32:40.218Z"
   },
   {
    "duration": 705,
    "start_time": "2022-10-27T08:32:41.807Z"
   },
   {
    "duration": 2,
    "start_time": "2022-10-27T08:32:51.033Z"
   },
   {
    "duration": 5,
    "start_time": "2022-10-27T08:33:08.991Z"
   },
   {
    "duration": 4,
    "start_time": "2022-10-27T08:33:13.610Z"
   },
   {
    "duration": 4,
    "start_time": "2022-10-27T08:33:17.831Z"
   },
   {
    "duration": 21224,
    "start_time": "2022-10-27T08:33:25.937Z"
   },
   {
    "duration": 3,
    "start_time": "2022-10-27T08:34:01.426Z"
   },
   {
    "duration": 584843,
    "start_time": "2022-10-27T08:35:29.665Z"
   },
   {
    "duration": 5,
    "start_time": "2022-10-27T08:45:14.510Z"
   },
   {
    "duration": 50,
    "start_time": "2022-10-27T08:48:09.202Z"
   },
   {
    "duration": 44,
    "start_time": "2022-10-27T08:48:18.454Z"
   },
   {
    "duration": 27164,
    "start_time": "2022-10-27T08:48:27.489Z"
   },
   {
    "duration": 3,
    "start_time": "2022-10-27T08:50:08.826Z"
   },
   {
    "duration": 32814,
    "start_time": "2022-10-27T08:50:09.590Z"
   },
   {
    "duration": 129,
    "start_time": "2022-10-27T08:50:54.302Z"
   },
   {
    "duration": 7539,
    "start_time": "2022-10-27T08:51:00.990Z"
   },
   {
    "duration": 2259,
    "start_time": "2022-10-27T08:52:08.601Z"
   },
   {
    "duration": 5,
    "start_time": "2022-10-27T08:53:05.866Z"
   },
   {
    "duration": 516775,
    "start_time": "2022-10-27T09:02:28.182Z"
   },
   {
    "duration": 496,
    "start_time": "2022-10-27T09:11:04.959Z"
   },
   {
    "duration": 10,
    "start_time": "2022-10-27T09:11:05.458Z"
   },
   {
    "duration": 79,
    "start_time": "2022-10-27T09:11:05.470Z"
   },
   {
    "duration": 602618,
    "start_time": "2022-10-27T09:14:37.377Z"
   },
   {
    "duration": 5,
    "start_time": "2022-10-27T09:24:39.997Z"
   },
   {
    "duration": 34,
    "start_time": "2022-10-27T09:24:40.004Z"
   },
   {
    "duration": 14,
    "start_time": "2022-10-27T09:24:40.040Z"
   },
   {
    "duration": 2309,
    "start_time": "2022-10-27T09:29:41.707Z"
   },
   {
    "duration": 2420,
    "start_time": "2022-10-27T09:29:44.018Z"
   },
   {
    "duration": 2223,
    "start_time": "2022-10-27T09:29:46.441Z"
   },
   {
    "duration": 1767,
    "start_time": "2022-10-27T09:29:48.666Z"
   },
   {
    "duration": 906,
    "start_time": "2022-10-27T09:29:50.435Z"
   },
   {
    "duration": 952,
    "start_time": "2022-10-27T09:29:51.343Z"
   },
   {
    "duration": 4,
    "start_time": "2022-10-27T09:29:52.296Z"
   },
   {
    "duration": 39,
    "start_time": "2022-10-27T09:29:52.301Z"
   },
   {
    "duration": 558,
    "start_time": "2022-10-27T09:29:52.342Z"
   },
   {
    "duration": 338,
    "start_time": "2022-10-27T09:29:52.904Z"
   },
   {
    "duration": 20,
    "start_time": "2022-10-27T09:29:53.244Z"
   },
   {
    "duration": 56,
    "start_time": "2022-10-27T09:29:53.266Z"
   },
   {
    "duration": 37,
    "start_time": "2022-10-27T09:29:53.324Z"
   },
   {
    "duration": 33,
    "start_time": "2022-10-27T09:29:53.364Z"
   },
   {
    "duration": 50,
    "start_time": "2022-10-27T09:29:53.399Z"
   },
   {
    "duration": 27,
    "start_time": "2022-10-27T09:29:53.451Z"
   },
   {
    "duration": 60,
    "start_time": "2022-10-27T09:29:53.481Z"
   },
   {
    "duration": 54,
    "start_time": "2022-10-27T09:29:53.542Z"
   },
   {
    "duration": 36,
    "start_time": "2022-10-27T09:29:53.598Z"
   },
   {
    "duration": 45,
    "start_time": "2022-10-27T09:29:53.636Z"
   },
   {
    "duration": 117,
    "start_time": "2022-10-27T09:29:53.683Z"
   },
   {
    "duration": 640,
    "start_time": "2022-10-27T09:29:53.802Z"
   },
   {
    "duration": 148,
    "start_time": "2022-10-27T09:29:54.444Z"
   },
   {
    "duration": 448,
    "start_time": "2022-10-27T09:29:54.594Z"
   },
   {
    "duration": 191,
    "start_time": "2022-10-27T09:29:55.044Z"
   },
   {
    "duration": 147,
    "start_time": "2022-10-27T09:29:55.237Z"
   },
   {
    "duration": 187,
    "start_time": "2022-10-27T09:29:55.385Z"
   },
   {
    "duration": 7,
    "start_time": "2022-10-27T09:29:55.576Z"
   },
   {
    "duration": 21,
    "start_time": "2022-10-27T09:29:55.584Z"
   },
   {
    "duration": 161,
    "start_time": "2022-10-27T09:29:55.607Z"
   },
   {
    "duration": 4,
    "start_time": "2022-10-27T09:29:55.770Z"
   },
   {
    "duration": 283,
    "start_time": "2022-10-27T09:29:55.776Z"
   },
   {
    "duration": 132,
    "start_time": "2022-10-27T09:29:56.061Z"
   },
   {
    "duration": 7,
    "start_time": "2022-10-27T09:29:56.196Z"
   },
   {
    "duration": 132,
    "start_time": "2022-10-27T09:29:56.205Z"
   },
   {
    "duration": 136,
    "start_time": "2022-10-27T09:29:56.339Z"
   },
   {
    "duration": 7,
    "start_time": "2022-10-27T09:29:56.478Z"
   },
   {
    "duration": 32,
    "start_time": "2022-10-27T09:29:56.486Z"
   },
   {
    "duration": 95,
    "start_time": "2022-10-27T09:29:56.520Z"
   },
   {
    "duration": 46,
    "start_time": "2022-10-27T09:29:56.618Z"
   },
   {
    "duration": 89,
    "start_time": "2022-10-27T09:29:56.666Z"
   },
   {
    "duration": 993,
    "start_time": "2022-10-27T09:29:56.757Z"
   },
   {
    "duration": 774,
    "start_time": "2022-10-27T09:29:57.752Z"
   },
   {
    "duration": 3,
    "start_time": "2022-10-27T09:29:58.528Z"
   },
   {
    "duration": 16,
    "start_time": "2022-10-27T09:29:58.533Z"
   },
   {
    "duration": 29,
    "start_time": "2022-10-27T09:29:58.551Z"
   },
   {
    "duration": 41,
    "start_time": "2022-10-27T09:29:58.581Z"
   },
   {
    "duration": 34,
    "start_time": "2022-10-27T09:29:58.624Z"
   },
   {
    "duration": 27599,
    "start_time": "2022-10-27T09:29:58.660Z"
   },
   {
    "duration": 2365,
    "start_time": "2022-10-27T09:34:47.773Z"
   },
   {
    "duration": 2682,
    "start_time": "2022-10-27T09:34:50.141Z"
   },
   {
    "duration": 2208,
    "start_time": "2022-10-27T09:34:52.826Z"
   },
   {
    "duration": 1830,
    "start_time": "2022-10-27T09:34:55.037Z"
   },
   {
    "duration": 886,
    "start_time": "2022-10-27T09:34:56.869Z"
   },
   {
    "duration": 828,
    "start_time": "2022-10-27T09:34:57.757Z"
   },
   {
    "duration": 3,
    "start_time": "2022-10-27T09:34:58.587Z"
   },
   {
    "duration": 15,
    "start_time": "2022-10-27T09:34:58.591Z"
   },
   {
    "duration": 493,
    "start_time": "2022-10-27T09:34:58.607Z"
   },
   {
    "duration": 307,
    "start_time": "2022-10-27T09:34:59.103Z"
   },
   {
    "duration": 20,
    "start_time": "2022-10-27T09:34:59.412Z"
   },
   {
    "duration": 33,
    "start_time": "2022-10-27T09:34:59.434Z"
   },
   {
    "duration": 23,
    "start_time": "2022-10-27T09:34:59.469Z"
   },
   {
    "duration": 42,
    "start_time": "2022-10-27T09:34:59.494Z"
   },
   {
    "duration": 31,
    "start_time": "2022-10-27T09:34:59.538Z"
   },
   {
    "duration": 37,
    "start_time": "2022-10-27T09:34:59.570Z"
   },
   {
    "duration": 59,
    "start_time": "2022-10-27T09:34:59.610Z"
   },
   {
    "duration": 42,
    "start_time": "2022-10-27T09:34:59.671Z"
   },
   {
    "duration": 43,
    "start_time": "2022-10-27T09:34:59.716Z"
   },
   {
    "duration": 46,
    "start_time": "2022-10-27T09:34:59.761Z"
   },
   {
    "duration": 94,
    "start_time": "2022-10-27T09:34:59.810Z"
   },
   {
    "duration": 623,
    "start_time": "2022-10-27T09:34:59.906Z"
   },
   {
    "duration": 142,
    "start_time": "2022-10-27T09:35:00.531Z"
   },
   {
    "duration": 448,
    "start_time": "2022-10-27T09:35:00.675Z"
   },
   {
    "duration": 173,
    "start_time": "2022-10-27T09:35:01.125Z"
   },
   {
    "duration": 156,
    "start_time": "2022-10-27T09:35:01.300Z"
   },
   {
    "duration": 221,
    "start_time": "2022-10-27T09:35:01.459Z"
   },
   {
    "duration": 7,
    "start_time": "2022-10-27T09:35:01.685Z"
   },
   {
    "duration": 100,
    "start_time": "2022-10-27T09:35:01.694Z"
   },
   {
    "duration": 254,
    "start_time": "2022-10-27T09:35:01.796Z"
   },
   {
    "duration": 4,
    "start_time": "2022-10-27T09:35:02.054Z"
   },
   {
    "duration": 276,
    "start_time": "2022-10-27T09:35:02.060Z"
   },
   {
    "duration": 126,
    "start_time": "2022-10-27T09:35:02.338Z"
   },
   {
    "duration": 8,
    "start_time": "2022-10-27T09:35:02.466Z"
   },
   {
    "duration": 129,
    "start_time": "2022-10-27T09:35:02.475Z"
   },
   {
    "duration": 136,
    "start_time": "2022-10-27T09:35:02.606Z"
   },
   {
    "duration": 13,
    "start_time": "2022-10-27T09:35:02.744Z"
   },
   {
    "duration": 26,
    "start_time": "2022-10-27T09:35:02.758Z"
   },
   {
    "duration": 93,
    "start_time": "2022-10-27T09:35:02.785Z"
   },
   {
    "duration": 32,
    "start_time": "2022-10-27T09:35:02.879Z"
   },
   {
    "duration": 85,
    "start_time": "2022-10-27T09:35:02.913Z"
   },
   {
    "duration": 1058,
    "start_time": "2022-10-27T09:35:03.000Z"
   },
   {
    "duration": 762,
    "start_time": "2022-10-27T09:35:04.060Z"
   },
   {
    "duration": 2,
    "start_time": "2022-10-27T09:35:04.824Z"
   },
   {
    "duration": 9,
    "start_time": "2022-10-27T09:35:04.827Z"
   },
   {
    "duration": 16,
    "start_time": "2022-10-27T09:35:04.837Z"
   },
   {
    "duration": 10,
    "start_time": "2022-10-27T09:35:04.855Z"
   },
   {
    "duration": 22,
    "start_time": "2022-10-27T09:35:04.867Z"
   },
   {
    "duration": 23370,
    "start_time": "2022-10-27T09:35:04.891Z"
   },
   {
    "duration": 92,
    "start_time": "2022-10-27T09:35:28.263Z"
   },
   {
    "duration": 97,
    "start_time": "2022-10-27T09:35:28.357Z"
   },
   {
    "duration": 4,
    "start_time": "2022-10-27T09:35:28.457Z"
   },
   {
    "duration": 2262,
    "start_time": "2022-10-27T09:38:24.865Z"
   },
   {
    "duration": 2338,
    "start_time": "2022-10-27T09:38:27.129Z"
   },
   {
    "duration": 2277,
    "start_time": "2022-10-27T09:38:29.469Z"
   },
   {
    "duration": 1813,
    "start_time": "2022-10-27T09:38:31.749Z"
   },
   {
    "duration": 870,
    "start_time": "2022-10-27T09:38:33.564Z"
   },
   {
    "duration": 877,
    "start_time": "2022-10-27T09:38:34.436Z"
   },
   {
    "duration": 3,
    "start_time": "2022-10-27T09:38:35.315Z"
   },
   {
    "duration": 15,
    "start_time": "2022-10-27T09:38:35.320Z"
   },
   {
    "duration": 553,
    "start_time": "2022-10-27T09:38:35.337Z"
   },
   {
    "duration": 322,
    "start_time": "2022-10-27T09:38:35.893Z"
   },
   {
    "duration": 20,
    "start_time": "2022-10-27T09:38:36.217Z"
   },
   {
    "duration": 38,
    "start_time": "2022-10-27T09:38:36.239Z"
   },
   {
    "duration": 30,
    "start_time": "2022-10-27T09:38:36.279Z"
   },
   {
    "duration": 31,
    "start_time": "2022-10-27T09:38:36.310Z"
   },
   {
    "duration": 52,
    "start_time": "2022-10-27T09:38:36.343Z"
   },
   {
    "duration": 72,
    "start_time": "2022-10-27T09:38:36.397Z"
   },
   {
    "duration": 35,
    "start_time": "2022-10-27T09:38:36.471Z"
   },
   {
    "duration": 44,
    "start_time": "2022-10-27T09:38:36.508Z"
   },
   {
    "duration": 48,
    "start_time": "2022-10-27T09:38:36.554Z"
   },
   {
    "duration": 56,
    "start_time": "2022-10-27T09:38:36.603Z"
   },
   {
    "duration": 107,
    "start_time": "2022-10-27T09:38:36.661Z"
   },
   {
    "duration": 681,
    "start_time": "2022-10-27T09:38:36.770Z"
   },
   {
    "duration": 143,
    "start_time": "2022-10-27T09:38:37.453Z"
   },
   {
    "duration": 480,
    "start_time": "2022-10-27T09:38:37.597Z"
   },
   {
    "duration": 179,
    "start_time": "2022-10-27T09:38:38.079Z"
   },
   {
    "duration": 148,
    "start_time": "2022-10-27T09:38:38.260Z"
   },
   {
    "duration": 158,
    "start_time": "2022-10-27T09:38:38.410Z"
   },
   {
    "duration": 5,
    "start_time": "2022-10-27T09:38:38.572Z"
   },
   {
    "duration": 17,
    "start_time": "2022-10-27T09:38:38.579Z"
   },
   {
    "duration": 195,
    "start_time": "2022-10-27T09:38:38.598Z"
   },
   {
    "duration": 5,
    "start_time": "2022-10-27T09:38:38.795Z"
   },
   {
    "duration": 295,
    "start_time": "2022-10-27T09:38:38.802Z"
   },
   {
    "duration": 127,
    "start_time": "2022-10-27T09:38:39.099Z"
   },
   {
    "duration": 7,
    "start_time": "2022-10-27T09:38:39.229Z"
   },
   {
    "duration": 135,
    "start_time": "2022-10-27T09:38:39.238Z"
   },
   {
    "duration": 126,
    "start_time": "2022-10-27T09:38:39.374Z"
   },
   {
    "duration": 6,
    "start_time": "2022-10-27T09:38:39.502Z"
   },
   {
    "duration": 14,
    "start_time": "2022-10-27T09:38:39.509Z"
   },
   {
    "duration": 94,
    "start_time": "2022-10-27T09:38:39.524Z"
   },
   {
    "duration": 43,
    "start_time": "2022-10-27T09:38:39.620Z"
   },
   {
    "duration": 75,
    "start_time": "2022-10-27T09:38:39.665Z"
   },
   {
    "duration": 1156,
    "start_time": "2022-10-27T09:38:39.753Z"
   },
   {
    "duration": 800,
    "start_time": "2022-10-27T09:38:40.912Z"
   },
   {
    "duration": 3,
    "start_time": "2022-10-27T09:38:41.714Z"
   },
   {
    "duration": 13,
    "start_time": "2022-10-27T09:38:41.719Z"
   },
   {
    "duration": 4,
    "start_time": "2022-10-27T09:38:41.946Z"
   },
   {
    "duration": 5,
    "start_time": "2022-10-27T09:38:43.801Z"
   },
   {
    "duration": 4,
    "start_time": "2022-10-27T09:38:44.386Z"
   },
   {
    "duration": 21963,
    "start_time": "2022-10-27T09:38:46.298Z"
   },
   {
    "duration": 5,
    "start_time": "2022-10-27T09:39:14.647Z"
   },
   {
    "duration": 2347,
    "start_time": "2022-10-27T09:47:16.516Z"
   },
   {
    "duration": 2365,
    "start_time": "2022-10-27T09:47:18.865Z"
   },
   {
    "duration": 40,
    "start_time": "2022-10-27T09:47:27.985Z"
   },
   {
    "duration": 89,
    "start_time": "2022-10-27T09:47:28.027Z"
   },
   {
    "duration": 145,
    "start_time": "2022-10-27T09:47:28.751Z"
   },
   {
    "duration": 17,
    "start_time": "2022-10-27T09:47:29.838Z"
   },
   {
    "duration": 5,
    "start_time": "2022-10-27T09:47:29.856Z"
   },
   {
    "duration": 165,
    "start_time": "2022-10-27T09:47:29.862Z"
   },
   {
    "duration": 4,
    "start_time": "2022-10-27T09:47:30.029Z"
   },
   {
    "duration": 331,
    "start_time": "2022-10-27T09:47:30.035Z"
   },
   {
    "duration": 123,
    "start_time": "2022-10-27T09:47:30.367Z"
   },
   {
    "duration": 6,
    "start_time": "2022-10-27T09:47:30.491Z"
   },
   {
    "duration": 152,
    "start_time": "2022-10-27T09:47:30.499Z"
   },
   {
    "duration": 130,
    "start_time": "2022-10-27T09:47:30.653Z"
   },
   {
    "duration": 6,
    "start_time": "2022-10-27T09:47:30.784Z"
   },
   {
    "duration": 26,
    "start_time": "2022-10-27T09:47:30.791Z"
   },
   {
    "duration": 105,
    "start_time": "2022-10-27T09:47:30.820Z"
   },
   {
    "duration": 44,
    "start_time": "2022-10-27T09:47:30.928Z"
   },
   {
    "duration": 91,
    "start_time": "2022-10-27T09:47:30.974Z"
   },
   {
    "duration": 1213,
    "start_time": "2022-10-27T09:47:31.067Z"
   },
   {
    "duration": 774,
    "start_time": "2022-10-27T09:47:32.283Z"
   },
   {
    "duration": 3,
    "start_time": "2022-10-27T09:47:33.059Z"
   },
   {
    "duration": 10,
    "start_time": "2022-10-27T09:47:33.063Z"
   },
   {
    "duration": 11,
    "start_time": "2022-10-27T09:47:33.074Z"
   },
   {
    "duration": 5,
    "start_time": "2022-10-27T09:47:33.087Z"
   },
   {
    "duration": 14,
    "start_time": "2022-10-27T09:47:33.094Z"
   },
   {
    "duration": 2254,
    "start_time": "2022-10-27T09:47:59.661Z"
   },
   {
    "duration": 2214,
    "start_time": "2022-10-27T09:48:01.918Z"
   },
   {
    "duration": 2091,
    "start_time": "2022-10-27T09:48:04.134Z"
   },
   {
    "duration": 1822,
    "start_time": "2022-10-27T09:48:06.228Z"
   },
   {
    "duration": 827,
    "start_time": "2022-10-27T09:48:08.053Z"
   },
   {
    "duration": 844,
    "start_time": "2022-10-27T09:48:08.882Z"
   },
   {
    "duration": 3,
    "start_time": "2022-10-27T09:48:09.728Z"
   },
   {
    "duration": 16,
    "start_time": "2022-10-27T09:48:09.732Z"
   },
   {
    "duration": 503,
    "start_time": "2022-10-27T09:48:09.749Z"
   },
   {
    "duration": 294,
    "start_time": "2022-10-27T09:48:10.255Z"
   },
   {
    "duration": 20,
    "start_time": "2022-10-27T09:48:10.551Z"
   },
   {
    "duration": 23,
    "start_time": "2022-10-27T09:48:10.572Z"
   },
   {
    "duration": 21,
    "start_time": "2022-10-27T09:48:10.597Z"
   },
   {
    "duration": 41,
    "start_time": "2022-10-27T09:48:10.619Z"
   },
   {
    "duration": 22,
    "start_time": "2022-10-27T09:48:10.662Z"
   },
   {
    "duration": 20,
    "start_time": "2022-10-27T09:48:10.686Z"
   },
   {
    "duration": 20,
    "start_time": "2022-10-27T09:48:10.708Z"
   },
   {
    "duration": 53,
    "start_time": "2022-10-27T09:48:10.729Z"
   },
   {
    "duration": 20,
    "start_time": "2022-10-27T09:48:10.784Z"
   },
   {
    "duration": 56,
    "start_time": "2022-10-27T09:48:10.806Z"
   },
   {
    "duration": 76,
    "start_time": "2022-10-27T09:48:10.864Z"
   },
   {
    "duration": 688,
    "start_time": "2022-10-27T09:48:10.941Z"
   },
   {
    "duration": 177,
    "start_time": "2022-10-27T09:48:11.631Z"
   },
   {
    "duration": 434,
    "start_time": "2022-10-27T09:48:11.810Z"
   },
   {
    "duration": 168,
    "start_time": "2022-10-27T09:48:12.246Z"
   },
   {
    "duration": 141,
    "start_time": "2022-10-27T09:48:12.415Z"
   },
   {
    "duration": 166,
    "start_time": "2022-10-27T09:48:12.558Z"
   },
   {
    "duration": 9,
    "start_time": "2022-10-27T09:48:12.729Z"
   },
   {
    "duration": 35,
    "start_time": "2022-10-27T09:48:12.740Z"
   },
   {
    "duration": 177,
    "start_time": "2022-10-27T09:48:12.777Z"
   },
   {
    "duration": 4,
    "start_time": "2022-10-27T09:48:12.956Z"
   },
   {
    "duration": 285,
    "start_time": "2022-10-27T09:48:12.961Z"
   },
   {
    "duration": 125,
    "start_time": "2022-10-27T09:48:13.248Z"
   },
   {
    "duration": 6,
    "start_time": "2022-10-27T09:48:13.375Z"
   },
   {
    "duration": 126,
    "start_time": "2022-10-27T09:48:13.383Z"
   },
   {
    "duration": 125,
    "start_time": "2022-10-27T09:48:13.511Z"
   },
   {
    "duration": 6,
    "start_time": "2022-10-27T09:48:13.638Z"
   },
   {
    "duration": 17,
    "start_time": "2022-10-27T09:48:13.655Z"
   },
   {
    "duration": 93,
    "start_time": "2022-10-27T09:48:13.674Z"
   },
   {
    "duration": 27,
    "start_time": "2022-10-27T09:48:13.769Z"
   },
   {
    "duration": 82,
    "start_time": "2022-10-27T09:48:13.798Z"
   },
   {
    "duration": 974,
    "start_time": "2022-10-27T09:48:13.882Z"
   },
   {
    "duration": 750,
    "start_time": "2022-10-27T09:48:14.859Z"
   },
   {
    "duration": 3,
    "start_time": "2022-10-27T09:48:15.610Z"
   },
   {
    "duration": 9,
    "start_time": "2022-10-27T09:48:15.615Z"
   },
   {
    "duration": 9,
    "start_time": "2022-10-27T09:48:15.625Z"
   },
   {
    "duration": 6,
    "start_time": "2022-10-27T09:48:15.635Z"
   },
   {
    "duration": 6,
    "start_time": "2022-10-27T09:48:15.653Z"
   },
   {
    "duration": 21193,
    "start_time": "2022-10-27T09:48:15.661Z"
   },
   {
    "duration": 575440,
    "start_time": "2022-10-27T09:48:36.858Z"
   },
   {
    "duration": 132,
    "start_time": "2022-10-27T09:58:37.289Z"
   },
   {
    "duration": 11,
    "start_time": "2022-10-27T09:58:44.610Z"
   },
   {
    "duration": 4,
    "start_time": "2022-10-27T09:58:49.894Z"
   },
   {
    "duration": 12,
    "start_time": "2022-10-27T09:58:56.913Z"
   },
   {
    "duration": 11,
    "start_time": "2022-10-27T09:59:54.137Z"
   },
   {
    "duration": 11,
    "start_time": "2022-10-27T10:01:11.296Z"
   },
   {
    "duration": 11,
    "start_time": "2022-10-27T10:02:46.314Z"
   },
   {
    "duration": 2163,
    "start_time": "2022-10-27T10:13:26.607Z"
   },
   {
    "duration": 2459,
    "start_time": "2022-10-27T10:13:28.773Z"
   },
   {
    "duration": 2386,
    "start_time": "2022-10-27T10:13:31.235Z"
   },
   {
    "duration": 1944,
    "start_time": "2022-10-27T10:13:33.624Z"
   },
   {
    "duration": 925,
    "start_time": "2022-10-27T10:13:35.570Z"
   },
   {
    "duration": 857,
    "start_time": "2022-10-27T10:13:36.497Z"
   },
   {
    "duration": 4,
    "start_time": "2022-10-27T10:13:37.356Z"
   },
   {
    "duration": 17,
    "start_time": "2022-10-27T10:13:37.362Z"
   },
   {
    "duration": 509,
    "start_time": "2022-10-27T10:13:37.381Z"
   },
   {
    "duration": 301,
    "start_time": "2022-10-27T10:13:37.893Z"
   },
   {
    "duration": 22,
    "start_time": "2022-10-27T10:13:38.196Z"
   },
   {
    "duration": 34,
    "start_time": "2022-10-27T10:13:38.220Z"
   },
   {
    "duration": 24,
    "start_time": "2022-10-27T10:13:38.256Z"
   },
   {
    "duration": 29,
    "start_time": "2022-10-27T10:13:38.282Z"
   },
   {
    "duration": 41,
    "start_time": "2022-10-27T10:13:38.313Z"
   },
   {
    "duration": 37,
    "start_time": "2022-10-27T10:13:38.356Z"
   },
   {
    "duration": 21,
    "start_time": "2022-10-27T10:13:38.395Z"
   },
   {
    "duration": 48,
    "start_time": "2022-10-27T10:13:38.418Z"
   },
   {
    "duration": 34,
    "start_time": "2022-10-27T10:13:38.468Z"
   },
   {
    "duration": 40,
    "start_time": "2022-10-27T10:13:38.504Z"
   },
   {
    "duration": 82,
    "start_time": "2022-10-27T10:13:38.546Z"
   },
   {
    "duration": 651,
    "start_time": "2022-10-27T10:13:38.629Z"
   },
   {
    "duration": 150,
    "start_time": "2022-10-27T10:13:39.282Z"
   },
   {
    "duration": 462,
    "start_time": "2022-10-27T10:13:39.434Z"
   },
   {
    "duration": 178,
    "start_time": "2022-10-27T10:13:39.898Z"
   },
   {
    "duration": 138,
    "start_time": "2022-10-27T10:13:40.078Z"
   },
   {
    "duration": 170,
    "start_time": "2022-10-27T10:13:40.218Z"
   },
   {
    "duration": 9,
    "start_time": "2022-10-27T10:13:40.393Z"
   },
   {
    "duration": 29,
    "start_time": "2022-10-27T10:13:40.404Z"
   },
   {
    "duration": 183,
    "start_time": "2022-10-27T10:13:40.435Z"
   },
   {
    "duration": 5,
    "start_time": "2022-10-27T10:13:40.620Z"
   },
   {
    "duration": 306,
    "start_time": "2022-10-27T10:13:40.626Z"
   },
   {
    "duration": 136,
    "start_time": "2022-10-27T10:13:40.934Z"
   },
   {
    "duration": 6,
    "start_time": "2022-10-27T10:13:41.072Z"
   },
   {
    "duration": 130,
    "start_time": "2022-10-27T10:13:41.080Z"
   },
   {
    "duration": 129,
    "start_time": "2022-10-27T10:13:41.212Z"
   },
   {
    "duration": 13,
    "start_time": "2022-10-27T10:13:41.343Z"
   },
   {
    "duration": 26,
    "start_time": "2022-10-27T10:13:41.358Z"
   },
   {
    "duration": 118,
    "start_time": "2022-10-27T10:13:41.385Z"
   },
   {
    "duration": 36,
    "start_time": "2022-10-27T10:13:41.505Z"
   },
   {
    "duration": 122,
    "start_time": "2022-10-27T10:13:41.544Z"
   },
   {
    "duration": 1060,
    "start_time": "2022-10-27T10:13:41.669Z"
   },
   {
    "duration": 750,
    "start_time": "2022-10-27T10:13:42.731Z"
   },
   {
    "duration": 3,
    "start_time": "2022-10-27T10:13:43.482Z"
   },
   {
    "duration": 7,
    "start_time": "2022-10-27T10:13:43.487Z"
   },
   {
    "duration": 9,
    "start_time": "2022-10-27T10:13:43.495Z"
   },
   {
    "duration": 9,
    "start_time": "2022-10-27T10:13:43.506Z"
   },
   {
    "duration": 6,
    "start_time": "2022-10-27T10:13:43.517Z"
   },
   {
    "duration": 21839,
    "start_time": "2022-10-27T10:13:43.525Z"
   },
   {
    "duration": 1128488,
    "start_time": "2022-10-27T10:14:05.462Z"
   },
   {
    "duration": 4,
    "start_time": "2022-10-27T10:32:53.954Z"
   },
   {
    "duration": 4,
    "start_time": "2022-10-27T10:33:55.563Z"
   },
   {
    "duration": 31735,
    "start_time": "2022-10-27T10:33:56.364Z"
   },
   {
    "duration": 154,
    "start_time": "2022-10-27T10:34:28.101Z"
   },
   {
    "duration": 139,
    "start_time": "2022-10-27T10:35:43.165Z"
   },
   {
    "duration": 135,
    "start_time": "2022-10-27T10:36:01.934Z"
   },
   {
    "duration": 7239,
    "start_time": "2022-10-27T10:36:08.742Z"
   },
   {
    "duration": 12689,
    "start_time": "2022-10-27T10:37:19.065Z"
   },
   {
    "duration": 7,
    "start_time": "2022-10-27T10:37:36.871Z"
   },
   {
    "duration": 20353,
    "start_time": "2022-10-27T10:37:42.303Z"
   },
   {
    "duration": 182,
    "start_time": "2022-10-27T10:38:25.729Z"
   },
   {
    "duration": 22851,
    "start_time": "2022-10-27T10:38:34.787Z"
   },
   {
    "duration": 31860,
    "start_time": "2022-10-27T10:39:40.954Z"
   },
   {
    "duration": 33526,
    "start_time": "2022-10-27T10:41:08.242Z"
   },
   {
    "duration": 28391,
    "start_time": "2022-10-27T10:41:54.479Z"
   },
   {
    "duration": 63,
    "start_time": "2022-10-27T10:42:39.309Z"
   },
   {
    "duration": 49,
    "start_time": "2022-10-27T10:42:54.842Z"
   },
   {
    "duration": 47,
    "start_time": "2022-10-27T10:42:59.634Z"
   },
   {
    "duration": 47,
    "start_time": "2022-10-27T10:43:04.556Z"
   },
   {
    "duration": 55,
    "start_time": "2022-10-27T10:43:07.537Z"
   },
   {
    "duration": 97,
    "start_time": "2022-10-27T10:43:10.011Z"
   },
   {
    "duration": 13,
    "start_time": "2022-10-27T10:43:13.243Z"
   },
   {
    "duration": 9,
    "start_time": "2022-10-27T10:43:56.840Z"
   },
   {
    "duration": 54,
    "start_time": "2022-10-27T10:44:09.883Z"
   },
   {
    "duration": 8,
    "start_time": "2022-10-27T10:44:13.666Z"
   },
   {
    "duration": 11,
    "start_time": "2022-10-27T10:44:33.561Z"
   },
   {
    "duration": 11,
    "start_time": "2022-10-27T10:45:07.836Z"
   },
   {
    "duration": 11,
    "start_time": "2022-10-27T10:45:49.535Z"
   },
   {
    "duration": 11,
    "start_time": "2022-10-27T10:46:46.445Z"
   },
   {
    "duration": 4,
    "start_time": "2022-10-27T11:02:25.008Z"
   },
   {
    "duration": 2249,
    "start_time": "2022-10-27T11:06:53.114Z"
   },
   {
    "duration": 2426,
    "start_time": "2022-10-27T11:06:55.365Z"
   },
   {
    "duration": 2167,
    "start_time": "2022-10-27T11:06:57.793Z"
   },
   {
    "duration": 1641,
    "start_time": "2022-10-27T11:06:59.963Z"
   },
   {
    "duration": 952,
    "start_time": "2022-10-27T11:07:01.606Z"
   },
   {
    "duration": 825,
    "start_time": "2022-10-27T11:07:02.560Z"
   },
   {
    "duration": 3,
    "start_time": "2022-10-27T11:07:03.387Z"
   },
   {
    "duration": 16,
    "start_time": "2022-10-27T11:07:03.392Z"
   },
   {
    "duration": 485,
    "start_time": "2022-10-27T11:07:03.410Z"
   },
   {
    "duration": 316,
    "start_time": "2022-10-27T11:07:03.898Z"
   },
   {
    "duration": 20,
    "start_time": "2022-10-27T11:07:04.216Z"
   },
   {
    "duration": 32,
    "start_time": "2022-10-27T11:07:04.237Z"
   },
   {
    "duration": 23,
    "start_time": "2022-10-27T11:07:04.270Z"
   },
   {
    "duration": 26,
    "start_time": "2022-10-27T11:07:04.294Z"
   },
   {
    "duration": 33,
    "start_time": "2022-10-27T11:07:04.322Z"
   },
   {
    "duration": 24,
    "start_time": "2022-10-27T11:07:04.356Z"
   },
   {
    "duration": 21,
    "start_time": "2022-10-27T11:07:04.382Z"
   },
   {
    "duration": 50,
    "start_time": "2022-10-27T11:07:04.404Z"
   },
   {
    "duration": 20,
    "start_time": "2022-10-27T11:07:04.456Z"
   },
   {
    "duration": 40,
    "start_time": "2022-10-27T11:07:04.478Z"
   },
   {
    "duration": 91,
    "start_time": "2022-10-27T11:07:04.520Z"
   },
   {
    "duration": 630,
    "start_time": "2022-10-27T11:07:04.613Z"
   },
   {
    "duration": 154,
    "start_time": "2022-10-27T11:07:05.245Z"
   },
   {
    "duration": 569,
    "start_time": "2022-10-27T11:07:05.401Z"
   },
   {
    "duration": 171,
    "start_time": "2022-10-27T11:07:05.972Z"
   },
   {
    "duration": 145,
    "start_time": "2022-10-27T11:07:06.145Z"
   },
   {
    "duration": 166,
    "start_time": "2022-10-27T11:07:06.292Z"
   },
   {
    "duration": 6,
    "start_time": "2022-10-27T11:07:06.462Z"
   },
   {
    "duration": 7,
    "start_time": "2022-10-27T11:07:06.470Z"
   },
   {
    "duration": 168,
    "start_time": "2022-10-27T11:07:06.478Z"
   },
   {
    "duration": 167,
    "start_time": "2022-10-27T11:07:06.647Z"
   },
   {
    "duration": 121,
    "start_time": "2022-10-27T11:07:06.816Z"
   },
   {
    "duration": 17,
    "start_time": "2022-10-27T11:07:06.939Z"
   },
   {
    "duration": 129,
    "start_time": "2022-10-27T11:07:06.958Z"
   },
   {
    "duration": 122,
    "start_time": "2022-10-27T11:07:07.089Z"
   },
   {
    "duration": 6,
    "start_time": "2022-10-27T11:07:07.212Z"
   },
   {
    "duration": 6,
    "start_time": "2022-10-27T11:07:07.220Z"
   },
   {
    "duration": 119,
    "start_time": "2022-10-27T11:07:07.228Z"
   },
   {
    "duration": 34,
    "start_time": "2022-10-27T11:07:07.348Z"
   },
   {
    "duration": 85,
    "start_time": "2022-10-27T11:07:07.384Z"
   },
   {
    "duration": 1008,
    "start_time": "2022-10-27T11:07:07.471Z"
   },
   {
    "duration": 771,
    "start_time": "2022-10-27T11:07:08.481Z"
   },
   {
    "duration": 8,
    "start_time": "2022-10-27T11:07:09.253Z"
   },
   {
    "duration": 19,
    "start_time": "2022-10-27T11:07:09.263Z"
   },
   {
    "duration": 7,
    "start_time": "2022-10-27T11:07:09.284Z"
   },
   {
    "duration": 22161,
    "start_time": "2022-10-27T11:07:09.293Z"
   },
   {
    "duration": 1104747,
    "start_time": "2022-10-27T11:07:31.457Z"
   },
   {
    "duration": 4,
    "start_time": "2022-10-27T11:25:56.205Z"
   },
   {
    "duration": 12,
    "start_time": "2022-10-27T11:25:56.211Z"
   },
   {
    "duration": 33616,
    "start_time": "2022-10-27T11:25:56.225Z"
   },
   {
    "duration": 7861,
    "start_time": "2022-10-27T11:26:29.843Z"
   },
   {
    "duration": 162,
    "start_time": "2022-10-27T11:26:37.706Z"
   },
   {
    "duration": 29591,
    "start_time": "2022-10-27T11:26:37.870Z"
   },
   {
    "duration": 5,
    "start_time": "2022-10-27T11:27:07.463Z"
   },
   {
    "duration": 25386,
    "start_time": "2022-10-27T11:27:07.470Z"
   },
   {
    "duration": 23495,
    "start_time": "2022-10-27T11:27:32.858Z"
   },
   {
    "duration": 32657,
    "start_time": "2022-10-27T11:27:56.355Z"
   },
   {
    "duration": 13856,
    "start_time": "2022-10-27T11:28:29.014Z"
   },
   {
    "duration": 13,
    "start_time": "2022-10-27T11:28:42.872Z"
   },
   {
    "duration": 85,
    "start_time": "2022-10-27T11:57:18.275Z"
   },
   {
    "duration": 140,
    "start_time": "2022-10-27T11:57:29.791Z"
   },
   {
    "duration": 6,
    "start_time": "2022-10-27T11:57:44.711Z"
   },
   {
    "duration": 15,
    "start_time": "2022-10-27T11:58:01.158Z"
   },
   {
    "duration": 7,
    "start_time": "2022-10-27T11:58:01.692Z"
   },
   {
    "duration": 127,
    "start_time": "2022-10-27T11:59:00.454Z"
   },
   {
    "duration": 18,
    "start_time": "2022-10-27T11:59:08.872Z"
   },
   {
    "duration": 12,
    "start_time": "2022-10-27T11:59:16.099Z"
   },
   {
    "duration": 13,
    "start_time": "2022-10-27T11:59:17.870Z"
   },
   {
    "duration": 18,
    "start_time": "2022-10-27T12:01:50.350Z"
   },
   {
    "duration": 22,
    "start_time": "2022-10-27T12:02:14.242Z"
   },
   {
    "duration": 26,
    "start_time": "2022-10-27T12:02:45.668Z"
   },
   {
    "duration": 20,
    "start_time": "2022-10-27T12:02:54.754Z"
   },
   {
    "duration": 28,
    "start_time": "2022-10-27T12:02:59.768Z"
   },
   {
    "duration": 24,
    "start_time": "2022-10-27T12:03:05.392Z"
   },
   {
    "duration": 22,
    "start_time": "2022-10-27T12:03:19.679Z"
   },
   {
    "duration": 24,
    "start_time": "2022-10-27T12:03:48.981Z"
   },
   {
    "duration": 27,
    "start_time": "2022-10-27T12:05:03.906Z"
   },
   {
    "duration": 13,
    "start_time": "2022-10-27T12:06:06.117Z"
   },
   {
    "duration": 108,
    "start_time": "2022-10-27T12:06:12.167Z"
   },
   {
    "duration": 12,
    "start_time": "2022-10-27T12:06:29.365Z"
   },
   {
    "duration": 2276,
    "start_time": "2022-10-27T12:11:41.465Z"
   },
   {
    "duration": 2404,
    "start_time": "2022-10-27T12:11:43.743Z"
   },
   {
    "duration": 2098,
    "start_time": "2022-10-27T12:11:46.149Z"
   },
   {
    "duration": 1528,
    "start_time": "2022-10-27T12:11:48.249Z"
   },
   {
    "duration": 835,
    "start_time": "2022-10-27T12:11:49.779Z"
   },
   {
    "duration": 831,
    "start_time": "2022-10-27T12:11:50.616Z"
   },
   {
    "duration": 4,
    "start_time": "2022-10-27T12:11:51.453Z"
   },
   {
    "duration": 37,
    "start_time": "2022-10-27T12:11:51.459Z"
   },
   {
    "duration": 539,
    "start_time": "2022-10-27T12:11:51.498Z"
   },
   {
    "duration": 321,
    "start_time": "2022-10-27T12:11:52.040Z"
   },
   {
    "duration": 21,
    "start_time": "2022-10-27T12:11:52.363Z"
   },
   {
    "duration": 36,
    "start_time": "2022-10-27T12:11:52.385Z"
   },
   {
    "duration": 35,
    "start_time": "2022-10-27T12:11:52.423Z"
   },
   {
    "duration": 20,
    "start_time": "2022-10-27T12:11:52.460Z"
   },
   {
    "duration": 28,
    "start_time": "2022-10-27T12:11:52.482Z"
   },
   {
    "duration": 32,
    "start_time": "2022-10-27T12:11:52.512Z"
   },
   {
    "duration": 20,
    "start_time": "2022-10-27T12:11:52.546Z"
   },
   {
    "duration": 39,
    "start_time": "2022-10-27T12:11:52.568Z"
   },
   {
    "duration": 36,
    "start_time": "2022-10-27T12:11:52.609Z"
   },
   {
    "duration": 44,
    "start_time": "2022-10-27T12:11:52.647Z"
   },
   {
    "duration": 86,
    "start_time": "2022-10-27T12:11:52.692Z"
   },
   {
    "duration": 635,
    "start_time": "2022-10-27T12:11:52.779Z"
   },
   {
    "duration": 140,
    "start_time": "2022-10-27T12:11:53.416Z"
   },
   {
    "duration": 520,
    "start_time": "2022-10-27T12:11:53.558Z"
   },
   {
    "duration": 168,
    "start_time": "2022-10-27T12:11:54.079Z"
   },
   {
    "duration": 147,
    "start_time": "2022-10-27T12:11:54.249Z"
   },
   {
    "duration": 167,
    "start_time": "2022-10-27T12:11:54.398Z"
   },
   {
    "duration": 7,
    "start_time": "2022-10-27T12:11:54.570Z"
   },
   {
    "duration": 6,
    "start_time": "2022-10-27T12:11:54.578Z"
   },
   {
    "duration": 173,
    "start_time": "2022-10-27T12:11:54.586Z"
   },
   {
    "duration": 163,
    "start_time": "2022-10-27T12:11:54.761Z"
   },
   {
    "duration": 115,
    "start_time": "2022-10-27T12:11:54.926Z"
   },
   {
    "duration": 15,
    "start_time": "2022-10-27T12:11:55.043Z"
   },
   {
    "duration": 124,
    "start_time": "2022-10-27T12:11:55.060Z"
   },
   {
    "duration": 124,
    "start_time": "2022-10-27T12:11:55.186Z"
   },
   {
    "duration": 8,
    "start_time": "2022-10-27T12:11:55.312Z"
   },
   {
    "duration": 7,
    "start_time": "2022-10-27T12:11:55.322Z"
   },
   {
    "duration": 124,
    "start_time": "2022-10-27T12:11:55.331Z"
   },
   {
    "duration": 27,
    "start_time": "2022-10-27T12:11:55.458Z"
   },
   {
    "duration": 96,
    "start_time": "2022-10-27T12:11:55.487Z"
   },
   {
    "duration": 975,
    "start_time": "2022-10-27T12:11:55.585Z"
   },
   {
    "duration": 744,
    "start_time": "2022-10-27T12:11:56.562Z"
   },
   {
    "duration": 4,
    "start_time": "2022-10-27T12:11:57.307Z"
   },
   {
    "duration": 6,
    "start_time": "2022-10-27T12:11:57.312Z"
   },
   {
    "duration": 12,
    "start_time": "2022-10-27T12:11:57.319Z"
   },
   {
    "duration": 22330,
    "start_time": "2022-10-27T12:11:57.332Z"
   },
   {
    "duration": 1146652,
    "start_time": "2022-10-27T12:12:19.664Z"
   },
   {
    "duration": 4,
    "start_time": "2022-10-27T12:31:26.318Z"
   },
   {
    "duration": 18,
    "start_time": "2022-10-27T12:31:26.324Z"
   },
   {
    "duration": 33183,
    "start_time": "2022-10-27T12:31:26.344Z"
   },
   {
    "duration": 7826,
    "start_time": "2022-10-27T12:31:59.529Z"
   },
   {
    "duration": 140,
    "start_time": "2022-10-27T12:32:07.356Z"
   },
   {
    "duration": 9270,
    "start_time": "2022-10-27T12:32:07.498Z"
   },
   {
    "duration": 7,
    "start_time": "2022-10-27T12:32:16.770Z"
   },
   {
    "duration": 21578,
    "start_time": "2022-10-27T12:32:16.778Z"
   },
   {
    "duration": 23436,
    "start_time": "2022-10-27T12:32:38.358Z"
   },
   {
    "duration": 32783,
    "start_time": "2022-10-27T12:33:01.796Z"
   },
   {
    "duration": 10694,
    "start_time": "2022-10-27T12:33:34.581Z"
   },
   {
    "duration": 79,
    "start_time": "2022-10-27T12:33:45.277Z"
   },
   {
    "duration": 13,
    "start_time": "2022-10-27T12:33:49.653Z"
   },
   {
    "duration": 12,
    "start_time": "2022-10-27T12:34:08.161Z"
   },
   {
    "duration": 19475,
    "start_time": "2022-10-27T12:36:38.003Z"
   },
   {
    "duration": 138,
    "start_time": "2022-10-27T12:38:46.444Z"
   },
   {
    "duration": 2179,
    "start_time": "2022-10-27T12:39:07.614Z"
   },
   {
    "duration": 2494,
    "start_time": "2022-10-27T12:39:09.796Z"
   },
   {
    "duration": 2092,
    "start_time": "2022-10-27T12:39:12.292Z"
   },
   {
    "duration": 1455,
    "start_time": "2022-10-27T12:39:14.386Z"
   },
   {
    "duration": 878,
    "start_time": "2022-10-27T12:39:15.843Z"
   },
   {
    "duration": 953,
    "start_time": "2022-10-27T12:39:16.723Z"
   },
   {
    "duration": 4,
    "start_time": "2022-10-27T12:39:17.677Z"
   },
   {
    "duration": 24,
    "start_time": "2022-10-27T12:39:17.683Z"
   },
   {
    "duration": 533,
    "start_time": "2022-10-27T12:39:17.709Z"
   },
   {
    "duration": 305,
    "start_time": "2022-10-27T12:39:18.244Z"
   },
   {
    "duration": 22,
    "start_time": "2022-10-27T12:39:18.551Z"
   },
   {
    "duration": 35,
    "start_time": "2022-10-27T12:39:18.575Z"
   },
   {
    "duration": 25,
    "start_time": "2022-10-27T12:39:18.612Z"
   },
   {
    "duration": 29,
    "start_time": "2022-10-27T12:39:18.638Z"
   },
   {
    "duration": 30,
    "start_time": "2022-10-27T12:39:18.669Z"
   },
   {
    "duration": 39,
    "start_time": "2022-10-27T12:39:18.701Z"
   },
   {
    "duration": 32,
    "start_time": "2022-10-27T12:39:18.742Z"
   },
   {
    "duration": 48,
    "start_time": "2022-10-27T12:39:18.776Z"
   },
   {
    "duration": 30,
    "start_time": "2022-10-27T12:39:18.826Z"
   },
   {
    "duration": 40,
    "start_time": "2022-10-27T12:39:18.858Z"
   },
   {
    "duration": 87,
    "start_time": "2022-10-27T12:39:18.900Z"
   },
   {
    "duration": 637,
    "start_time": "2022-10-27T12:39:18.989Z"
   },
   {
    "duration": 140,
    "start_time": "2022-10-27T12:39:19.629Z"
   },
   {
    "duration": 524,
    "start_time": "2022-10-27T12:39:19.771Z"
   },
   {
    "duration": 165,
    "start_time": "2022-10-27T12:39:20.297Z"
   },
   {
    "duration": 136,
    "start_time": "2022-10-27T12:39:20.464Z"
   },
   {
    "duration": 162,
    "start_time": "2022-10-27T12:39:20.602Z"
   },
   {
    "duration": 6,
    "start_time": "2022-10-27T12:39:20.767Z"
   },
   {
    "duration": 13,
    "start_time": "2022-10-27T12:39:20.774Z"
   },
   {
    "duration": 162,
    "start_time": "2022-10-27T12:39:20.788Z"
   },
   {
    "duration": 153,
    "start_time": "2022-10-27T12:39:20.954Z"
   },
   {
    "duration": 123,
    "start_time": "2022-10-27T12:39:21.109Z"
   },
   {
    "duration": 7,
    "start_time": "2022-10-27T12:39:21.233Z"
   },
   {
    "duration": 132,
    "start_time": "2022-10-27T12:39:21.255Z"
   },
   {
    "duration": 146,
    "start_time": "2022-10-27T12:39:21.389Z"
   },
   {
    "duration": 7,
    "start_time": "2022-10-27T12:39:21.537Z"
   },
   {
    "duration": 11,
    "start_time": "2022-10-27T12:39:21.555Z"
   },
   {
    "duration": 123,
    "start_time": "2022-10-27T12:39:21.568Z"
   },
   {
    "duration": 27,
    "start_time": "2022-10-27T12:39:21.693Z"
   },
   {
    "duration": 107,
    "start_time": "2022-10-27T12:39:21.722Z"
   },
   {
    "duration": 1022,
    "start_time": "2022-10-27T12:39:21.832Z"
   },
   {
    "duration": 750,
    "start_time": "2022-10-27T12:39:22.856Z"
   },
   {
    "duration": 5,
    "start_time": "2022-10-27T12:39:23.608Z"
   },
   {
    "duration": 9,
    "start_time": "2022-10-27T12:39:23.615Z"
   },
   {
    "duration": 16,
    "start_time": "2022-10-27T12:39:23.626Z"
   },
   {
    "duration": 22019,
    "start_time": "2022-10-27T12:39:23.643Z"
   },
   {
    "duration": 1116839,
    "start_time": "2022-10-27T12:39:45.664Z"
   },
   {
    "duration": 4,
    "start_time": "2022-10-27T12:58:22.505Z"
   },
   {
    "duration": 19,
    "start_time": "2022-10-27T12:58:22.510Z"
   },
   {
    "duration": 33242,
    "start_time": "2022-10-27T12:58:22.531Z"
   },
   {
    "duration": 7706,
    "start_time": "2022-10-27T12:58:55.775Z"
   },
   {
    "duration": 151,
    "start_time": "2022-10-27T12:59:03.482Z"
   },
   {
    "duration": 8922,
    "start_time": "2022-10-27T12:59:03.635Z"
   },
   {
    "duration": 7,
    "start_time": "2022-10-27T12:59:12.559Z"
   },
   {
    "duration": 24290,
    "start_time": "2022-10-27T12:59:12.568Z"
   },
   {
    "duration": 23424,
    "start_time": "2022-10-27T12:59:36.953Z"
   },
   {
    "duration": 31968,
    "start_time": "2022-10-27T13:00:00.379Z"
   },
   {
    "duration": 8717,
    "start_time": "2022-10-27T13:00:32.349Z"
   },
   {
    "duration": 12,
    "start_time": "2022-10-27T13:00:41.068Z"
   },
   {
    "duration": 3,
    "start_time": "2022-10-27T13:52:56.013Z"
   },
   {
    "duration": 3,
    "start_time": "2022-10-27T13:52:58.742Z"
   },
   {
    "duration": 3,
    "start_time": "2022-10-27T13:53:02.233Z"
   },
   {
    "duration": 64,
    "start_time": "2022-10-27T16:05:48.779Z"
   },
   {
    "duration": 47,
    "start_time": "2022-10-27T16:09:40.006Z"
   },
   {
    "duration": 49,
    "start_time": "2022-10-27T16:12:41.921Z"
   },
   {
    "duration": 2,
    "start_time": "2022-10-27T16:12:49.550Z"
   },
   {
    "duration": 2,
    "start_time": "2022-10-27T16:12:50.006Z"
   },
   {
    "duration": 2,
    "start_time": "2022-10-27T16:12:50.326Z"
   },
   {
    "duration": 1425,
    "start_time": "2022-10-27T16:12:50.880Z"
   },
   {
    "duration": 0,
    "start_time": "2022-10-27T16:12:52.306Z"
   },
   {
    "duration": 0,
    "start_time": "2022-10-27T16:12:52.308Z"
   },
   {
    "duration": 8,
    "start_time": "2022-10-27T16:12:54.190Z"
   },
   {
    "duration": 9,
    "start_time": "2022-10-27T16:12:54.406Z"
   },
   {
    "duration": 11910,
    "start_time": "2022-10-27T16:13:14.363Z"
   },
   {
    "duration": 2584,
    "start_time": "2022-10-27T16:13:26.594Z"
   },
   {
    "duration": 2369,
    "start_time": "2022-10-27T16:13:29.180Z"
   },
   {
    "duration": 330,
    "start_time": "2022-10-27T16:13:32.407Z"
   },
   {
    "duration": 1065,
    "start_time": "2022-10-27T16:13:33.647Z"
   },
   {
    "duration": 726,
    "start_time": "2022-10-27T16:13:35.911Z"
   },
   {
    "duration": 3,
    "start_time": "2022-10-27T16:13:39.783Z"
   },
   {
    "duration": 4,
    "start_time": "2022-10-27T16:13:42.782Z"
   },
   {
    "duration": 239,
    "start_time": "2022-10-27T16:13:46.694Z"
   },
   {
    "duration": 269,
    "start_time": "2022-10-27T16:14:04.463Z"
   },
   {
    "duration": 3,
    "start_time": "2022-10-27T16:14:31.233Z"
   },
   {
    "duration": 420,
    "start_time": "2022-10-27T16:14:34.439Z"
   },
   {
    "duration": 229,
    "start_time": "2022-10-27T16:14:40.728Z"
   },
   {
    "duration": 429,
    "start_time": "2022-10-27T16:15:44.289Z"
   },
   {
    "duration": 241,
    "start_time": "2022-10-27T16:16:03.984Z"
   },
   {
    "duration": 217,
    "start_time": "2022-10-27T16:16:33.174Z"
   },
   {
    "duration": 243,
    "start_time": "2022-10-27T16:16:48.101Z"
   },
   {
    "duration": 224,
    "start_time": "2022-10-27T16:16:50.621Z"
   },
   {
    "duration": 181,
    "start_time": "2022-10-27T16:17:28.778Z"
   },
   {
    "duration": 180,
    "start_time": "2022-10-27T16:17:47.306Z"
   },
   {
    "duration": 214,
    "start_time": "2022-10-27T16:19:42.118Z"
   },
   {
    "duration": 19,
    "start_time": "2022-10-27T16:19:43.034Z"
   },
   {
    "duration": 21,
    "start_time": "2022-10-27T16:19:43.694Z"
   },
   {
    "duration": 22,
    "start_time": "2022-10-27T16:19:46.076Z"
   },
   {
    "duration": 18,
    "start_time": "2022-10-27T16:19:46.738Z"
   },
   {
    "duration": 19,
    "start_time": "2022-10-27T16:19:48.590Z"
   },
   {
    "duration": 20,
    "start_time": "2022-10-27T16:19:49.066Z"
   },
   {
    "duration": 20,
    "start_time": "2022-10-27T16:19:50.595Z"
   },
   {
    "duration": 33,
    "start_time": "2022-10-27T16:19:50.814Z"
   },
   {
    "duration": 21,
    "start_time": "2022-10-27T16:19:53.155Z"
   },
   {
    "duration": 35,
    "start_time": "2022-10-27T16:19:53.338Z"
   },
   {
    "duration": 77,
    "start_time": "2022-10-27T16:19:55.248Z"
   },
   {
    "duration": 663,
    "start_time": "2022-10-27T16:19:55.429Z"
   },
   {
    "duration": 123,
    "start_time": "2022-10-27T16:19:56.571Z"
   },
   {
    "duration": 477,
    "start_time": "2022-10-27T16:19:57.403Z"
   },
   {
    "duration": 145,
    "start_time": "2022-10-27T16:19:58.015Z"
   },
   {
    "duration": 122,
    "start_time": "2022-10-27T16:19:58.511Z"
   },
   {
    "duration": 138,
    "start_time": "2022-10-27T16:19:59.247Z"
   },
   {
    "duration": 6,
    "start_time": "2022-10-27T16:19:59.833Z"
   },
   {
    "duration": 5,
    "start_time": "2022-10-27T16:20:01.179Z"
   },
   {
    "duration": 146,
    "start_time": "2022-10-27T16:20:01.779Z"
   },
   {
    "duration": 31,
    "start_time": "2022-10-27T16:21:12.038Z"
   },
   {
    "duration": 13,
    "start_time": "2022-10-27T16:21:48.353Z"
   },
   {
    "duration": 94,
    "start_time": "2022-10-27T16:21:58.444Z"
   },
   {
    "duration": 65,
    "start_time": "2022-10-27T16:22:34.994Z"
   },
   {
    "duration": 41,
    "start_time": "2022-10-27T16:22:59.641Z"
   },
   {
    "duration": 44,
    "start_time": "2022-10-27T16:23:05.010Z"
   },
   {
    "duration": 43,
    "start_time": "2022-10-27T16:23:18.403Z"
   },
   {
    "duration": 9,
    "start_time": "2022-10-27T16:24:39.088Z"
   },
   {
    "duration": 52,
    "start_time": "2022-10-27T16:24:51.121Z"
   },
   {
    "duration": 2334,
    "start_time": "2022-10-27T16:25:08.891Z"
   },
   {
    "duration": 2331,
    "start_time": "2022-10-27T16:25:11.227Z"
   },
   {
    "duration": 2201,
    "start_time": "2022-10-27T16:25:13.560Z"
   },
   {
    "duration": 5,
    "start_time": "2022-10-27T16:25:15.764Z"
   },
   {
    "duration": 775,
    "start_time": "2022-10-27T16:25:15.770Z"
   },
   {
    "duration": 683,
    "start_time": "2022-10-27T16:25:16.547Z"
   },
   {
    "duration": 3,
    "start_time": "2022-10-27T16:25:17.232Z"
   },
   {
    "duration": 24,
    "start_time": "2022-10-27T16:25:17.237Z"
   },
   {
    "duration": 172,
    "start_time": "2022-10-27T16:25:17.263Z"
   },
   {
    "duration": 230,
    "start_time": "2022-10-27T16:25:17.438Z"
   },
   {
    "duration": 19,
    "start_time": "2022-10-27T16:25:17.670Z"
   },
   {
    "duration": 28,
    "start_time": "2022-10-27T16:25:17.691Z"
   },
   {
    "duration": 21,
    "start_time": "2022-10-27T16:25:17.721Z"
   },
   {
    "duration": 25,
    "start_time": "2022-10-27T16:25:17.743Z"
   },
   {
    "duration": 24,
    "start_time": "2022-10-27T16:25:17.770Z"
   },
   {
    "duration": 27,
    "start_time": "2022-10-27T16:25:17.796Z"
   },
   {
    "duration": 28,
    "start_time": "2022-10-27T16:25:17.824Z"
   },
   {
    "duration": 40,
    "start_time": "2022-10-27T16:25:17.854Z"
   },
   {
    "duration": 38,
    "start_time": "2022-10-27T16:25:17.896Z"
   },
   {
    "duration": 74,
    "start_time": "2022-10-27T16:25:17.935Z"
   },
   {
    "duration": 109,
    "start_time": "2022-10-27T16:25:18.011Z"
   },
   {
    "duration": 647,
    "start_time": "2022-10-27T16:25:18.122Z"
   },
   {
    "duration": 121,
    "start_time": "2022-10-27T16:25:18.770Z"
   },
   {
    "duration": 431,
    "start_time": "2022-10-27T16:25:18.893Z"
   },
   {
    "duration": 160,
    "start_time": "2022-10-27T16:25:19.327Z"
   },
   {
    "duration": 126,
    "start_time": "2022-10-27T16:25:19.488Z"
   },
   {
    "duration": 143,
    "start_time": "2022-10-27T16:25:19.615Z"
   },
   {
    "duration": 6,
    "start_time": "2022-10-27T16:25:19.759Z"
   },
   {
    "duration": 15,
    "start_time": "2022-10-27T16:25:19.766Z"
   },
   {
    "duration": 232,
    "start_time": "2022-10-27T16:25:19.782Z"
   },
   {
    "duration": 15,
    "start_time": "2022-10-27T16:25:22.870Z"
   },
   {
    "duration": 57,
    "start_time": "2022-10-27T16:25:24.449Z"
   },
   {
    "duration": 94,
    "start_time": "2022-10-27T16:25:38.554Z"
   },
   {
    "duration": 4,
    "start_time": "2022-10-27T16:26:13.945Z"
   },
   {
    "duration": 19,
    "start_time": "2022-10-27T16:26:19.101Z"
   },
   {
    "duration": 13,
    "start_time": "2022-10-27T16:26:40.607Z"
   },
   {
    "duration": 13,
    "start_time": "2022-10-27T16:26:51.777Z"
   },
   {
    "duration": 10,
    "start_time": "2022-10-27T16:28:51.214Z"
   },
   {
    "duration": 9,
    "start_time": "2022-10-27T16:29:00.067Z"
   },
   {
    "duration": 13,
    "start_time": "2022-10-27T16:30:37.789Z"
   },
   {
    "duration": 10,
    "start_time": "2022-10-27T16:30:52.580Z"
   },
   {
    "duration": 12,
    "start_time": "2022-10-27T16:31:01.617Z"
   },
   {
    "duration": 9,
    "start_time": "2022-10-27T16:31:12.248Z"
   },
   {
    "duration": 28,
    "start_time": "2022-10-27T16:32:07.490Z"
   },
   {
    "duration": 28,
    "start_time": "2022-10-27T16:32:11.764Z"
   },
   {
    "duration": 25,
    "start_time": "2022-10-27T16:32:26.283Z"
   },
   {
    "duration": 4,
    "start_time": "2022-10-27T16:32:37.910Z"
   },
   {
    "duration": 716,
    "start_time": "2022-10-27T16:32:38.372Z"
   },
   {
    "duration": 682,
    "start_time": "2022-10-27T16:32:39.090Z"
   },
   {
    "duration": 3,
    "start_time": "2022-10-27T16:32:39.773Z"
   },
   {
    "duration": 8,
    "start_time": "2022-10-27T16:32:39.778Z"
   },
   {
    "duration": 157,
    "start_time": "2022-10-27T16:32:40.521Z"
   },
   {
    "duration": 214,
    "start_time": "2022-10-27T16:32:41.927Z"
   },
   {
    "duration": 21,
    "start_time": "2022-10-27T16:32:42.496Z"
   },
   {
    "duration": 21,
    "start_time": "2022-10-27T16:32:42.655Z"
   },
   {
    "duration": 24,
    "start_time": "2022-10-27T16:32:43.252Z"
   },
   {
    "duration": 19,
    "start_time": "2022-10-27T16:32:43.459Z"
   },
   {
    "duration": 19,
    "start_time": "2022-10-27T16:32:44.201Z"
   },
   {
    "duration": 24,
    "start_time": "2022-10-27T16:32:44.380Z"
   },
   {
    "duration": 20,
    "start_time": "2022-10-27T16:32:45.263Z"
   },
   {
    "duration": 33,
    "start_time": "2022-10-27T16:32:45.443Z"
   },
   {
    "duration": 20,
    "start_time": "2022-10-27T16:32:46.145Z"
   },
   {
    "duration": 37,
    "start_time": "2022-10-27T16:32:46.337Z"
   },
   {
    "duration": 72,
    "start_time": "2022-10-27T16:32:47.041Z"
   },
   {
    "duration": 561,
    "start_time": "2022-10-27T16:32:47.273Z"
   },
   {
    "duration": 125,
    "start_time": "2022-10-27T16:32:47.836Z"
   },
   {
    "duration": 409,
    "start_time": "2022-10-27T16:32:48.005Z"
   },
   {
    "duration": 160,
    "start_time": "2022-10-27T16:32:48.416Z"
   },
   {
    "duration": 159,
    "start_time": "2022-10-27T16:32:48.578Z"
   },
   {
    "duration": 170,
    "start_time": "2022-10-27T16:32:48.740Z"
   },
   {
    "duration": 8,
    "start_time": "2022-10-27T16:32:48.961Z"
   },
   {
    "duration": 4,
    "start_time": "2022-10-27T16:32:49.145Z"
   },
   {
    "duration": 151,
    "start_time": "2022-10-27T16:32:49.346Z"
   },
   {
    "duration": 31,
    "start_time": "2022-10-27T16:32:50.881Z"
   },
   {
    "duration": 26,
    "start_time": "2022-10-27T16:32:58.556Z"
   },
   {
    "duration": 36,
    "start_time": "2022-10-27T16:33:15.251Z"
   },
   {
    "duration": 10,
    "start_time": "2022-10-27T16:33:19.673Z"
   },
   {
    "duration": 26,
    "start_time": "2022-10-27T16:33:24.555Z"
   },
   {
    "duration": 80,
    "start_time": "2022-10-27T16:33:31.217Z"
   },
   {
    "duration": 31,
    "start_time": "2022-10-27T16:35:45.456Z"
   },
   {
    "duration": 71,
    "start_time": "2022-10-27T16:35:55.955Z"
   },
   {
    "duration": 26,
    "start_time": "2022-10-27T16:36:41.016Z"
   },
   {
    "duration": 72,
    "start_time": "2022-10-27T16:36:58.535Z"
   },
   {
    "duration": 26,
    "start_time": "2022-10-27T16:37:32.548Z"
   },
   {
    "duration": 142,
    "start_time": "2022-10-27T16:37:47.617Z"
   },
   {
    "duration": 97,
    "start_time": "2022-10-27T16:37:47.817Z"
   },
   {
    "duration": 6,
    "start_time": "2022-10-27T16:37:49.309Z"
   },
   {
    "duration": 102,
    "start_time": "2022-10-27T16:37:50.373Z"
   },
   {
    "duration": 121,
    "start_time": "2022-10-27T16:37:50.717Z"
   },
   {
    "duration": 5,
    "start_time": "2022-10-27T16:37:52.557Z"
   },
   {
    "duration": 5,
    "start_time": "2022-10-27T16:37:53.285Z"
   },
   {
    "duration": 72,
    "start_time": "2022-10-27T16:37:53.621Z"
   },
   {
    "duration": 17,
    "start_time": "2022-10-27T16:38:03.067Z"
   },
   {
    "duration": 7,
    "start_time": "2022-10-27T16:40:26.390Z"
   },
   {
    "duration": 710,
    "start_time": "2022-10-27T16:42:02.245Z"
   },
   {
    "duration": 33,
    "start_time": "2022-10-27T16:43:17.304Z"
   },
   {
    "duration": 25,
    "start_time": "2022-10-27T16:43:25.093Z"
   },
   {
    "duration": 23,
    "start_time": "2022-10-27T16:43:47.926Z"
   },
   {
    "duration": 13,
    "start_time": "2022-10-27T16:44:10.347Z"
   },
   {
    "duration": 12,
    "start_time": "2022-10-27T16:44:49.187Z"
   },
   {
    "duration": 2177,
    "start_time": "2022-10-28T02:29:27.363Z"
   },
   {
    "duration": 2344,
    "start_time": "2022-10-28T02:29:32.851Z"
   },
   {
    "duration": 2040,
    "start_time": "2022-10-28T02:29:39.795Z"
   },
   {
    "duration": 1387,
    "start_time": "2022-10-28T02:29:41.839Z"
   },
   {
    "duration": 747,
    "start_time": "2022-10-28T02:29:43.227Z"
   },
   {
    "duration": 716,
    "start_time": "2022-10-28T02:29:44.177Z"
   },
   {
    "duration": 3,
    "start_time": "2022-10-28T02:29:50.657Z"
   },
   {
    "duration": 4,
    "start_time": "2022-10-28T02:29:51.401Z"
   },
   {
    "duration": 184,
    "start_time": "2022-10-28T02:29:54.976Z"
   },
   {
    "duration": 281,
    "start_time": "2022-10-28T02:30:13.381Z"
   },
   {
    "duration": 19,
    "start_time": "2022-10-28T02:30:15.705Z"
   },
   {
    "duration": 30,
    "start_time": "2022-10-28T02:30:16.257Z"
   },
   {
    "duration": 21,
    "start_time": "2022-10-28T02:30:19.005Z"
   },
   {
    "duration": 18,
    "start_time": "2022-10-28T02:30:26.326Z"
   },
   {
    "duration": 18,
    "start_time": "2022-10-28T02:30:30.547Z"
   },
   {
    "duration": 19,
    "start_time": "2022-10-28T02:30:40.268Z"
   },
   {
    "duration": 19,
    "start_time": "2022-10-28T02:30:42.947Z"
   },
   {
    "duration": 33,
    "start_time": "2022-10-28T02:30:44.489Z"
   },
   {
    "duration": 20,
    "start_time": "2022-10-28T02:30:47.307Z"
   },
   {
    "duration": 77,
    "start_time": "2022-10-28T02:30:51.923Z"
   },
   {
    "duration": 558,
    "start_time": "2022-10-28T02:30:53.755Z"
   },
   {
    "duration": 132,
    "start_time": "2022-10-28T02:30:56.435Z"
   },
   {
    "duration": 458,
    "start_time": "2022-10-28T02:30:57.230Z"
   },
   {
    "duration": 139,
    "start_time": "2022-10-28T02:30:58.014Z"
   },
   {
    "duration": 114,
    "start_time": "2022-10-28T02:30:58.822Z"
   },
   {
    "duration": 132,
    "start_time": "2022-10-28T02:30:59.683Z"
   },
   {
    "duration": 6,
    "start_time": "2022-10-28T02:31:01.956Z"
   },
   {
    "duration": 4,
    "start_time": "2022-10-28T02:31:03.826Z"
   },
   {
    "duration": 139,
    "start_time": "2022-10-28T02:31:05.898Z"
   },
   {
    "duration": 40,
    "start_time": "2022-10-28T02:31:10.124Z"
   },
   {
    "duration": 145,
    "start_time": "2022-10-28T02:32:01.115Z"
   },
   {
    "duration": 99,
    "start_time": "2022-10-28T02:32:03.764Z"
   },
   {
    "duration": 7,
    "start_time": "2022-10-28T02:32:06.853Z"
   },
   {
    "duration": 97,
    "start_time": "2022-10-28T02:32:09.051Z"
   },
   {
    "duration": 105,
    "start_time": "2022-10-28T02:32:16.395Z"
   },
   {
    "duration": 6,
    "start_time": "2022-10-28T02:32:18.787Z"
   },
   {
    "duration": 6,
    "start_time": "2022-10-28T02:32:21.002Z"
   },
   {
    "duration": 15,
    "start_time": "2022-10-28T02:32:23.258Z"
   },
   {
    "duration": 84,
    "start_time": "2022-10-28T02:33:35.543Z"
   },
   {
    "duration": 7,
    "start_time": "2022-10-28T02:33:46.803Z"
   },
   {
    "duration": 71,
    "start_time": "2022-10-28T02:35:13.118Z"
   },
   {
    "duration": 18,
    "start_time": "2022-10-28T02:35:20.789Z"
   },
   {
    "duration": 73,
    "start_time": "2022-10-28T02:35:26.445Z"
   },
   {
    "duration": 125,
    "start_time": "2022-10-28T02:37:21.580Z"
   },
   {
    "duration": 100,
    "start_time": "2022-10-28T02:37:28.098Z"
   },
   {
    "duration": 506,
    "start_time": "2022-10-28T02:37:39.831Z"
   },
   {
    "duration": 4,
    "start_time": "2022-10-28T02:37:41.899Z"
   },
   {
    "duration": 270,
    "start_time": "2022-10-28T02:43:42.941Z"
   },
   {
    "duration": 4,
    "start_time": "2022-10-28T02:44:17.597Z"
   },
   {
    "duration": 843,
    "start_time": "2022-10-28T02:46:48.143Z"
   },
   {
    "duration": 111,
    "start_time": "2022-10-28T02:47:02.508Z"
   },
   {
    "duration": 3,
    "start_time": "2022-10-28T02:52:17.087Z"
   },
   {
    "duration": 310,
    "start_time": "2022-10-28T02:52:31.778Z"
   },
   {
    "duration": 3,
    "start_time": "2022-10-28T02:53:09.590Z"
   },
   {
    "duration": 507,
    "start_time": "2022-10-28T02:53:25.293Z"
   },
   {
    "duration": 3,
    "start_time": "2022-10-28T02:53:41.118Z"
   },
   {
    "duration": 419,
    "start_time": "2022-10-28T02:53:41.878Z"
   },
   {
    "duration": 660,
    "start_time": "2022-10-28T02:54:13.762Z"
   },
   {
    "duration": 2,
    "start_time": "2022-10-28T02:58:25.690Z"
   },
   {
    "duration": 675,
    "start_time": "2022-10-28T02:58:25.986Z"
   },
   {
    "duration": 4,
    "start_time": "2022-10-28T02:58:27.149Z"
   },
   {
    "duration": 9,
    "start_time": "2022-10-28T03:00:14.641Z"
   },
   {
    "duration": 2,
    "start_time": "2022-10-28T03:00:25.115Z"
   },
   {
    "duration": 707,
    "start_time": "2022-10-28T03:00:26.399Z"
   },
   {
    "duration": 10,
    "start_time": "2022-10-28T03:00:27.109Z"
   },
   {
    "duration": 710,
    "start_time": "2022-10-28T03:06:48.232Z"
   },
   {
    "duration": 9,
    "start_time": "2022-10-28T03:06:49.481Z"
   },
   {
    "duration": 9,
    "start_time": "2022-10-28T03:07:32.594Z"
   },
   {
    "duration": 3,
    "start_time": "2022-10-28T03:07:37.921Z"
   },
   {
    "duration": 299,
    "start_time": "2022-10-28T03:07:43.463Z"
   },
   {
    "duration": 8,
    "start_time": "2022-10-28T03:07:44.321Z"
   },
   {
    "duration": 11,
    "start_time": "2022-10-28T03:07:56.462Z"
   },
   {
    "duration": 10,
    "start_time": "2022-10-28T03:08:15.241Z"
   },
   {
    "duration": 3,
    "start_time": "2022-10-28T03:08:28.330Z"
   },
   {
    "duration": 709,
    "start_time": "2022-10-28T03:08:38.275Z"
   },
   {
    "duration": 3,
    "start_time": "2022-10-28T03:08:42.626Z"
   },
   {
    "duration": 679,
    "start_time": "2022-10-28T03:08:43.490Z"
   },
   {
    "duration": 3,
    "start_time": "2022-10-28T03:08:44.941Z"
   },
   {
    "duration": 15,
    "start_time": "2022-10-28T03:08:51.366Z"
   },
   {
    "duration": 3,
    "start_time": "2022-10-28T03:09:17.290Z"
   },
   {
    "duration": 672,
    "start_time": "2022-10-28T03:09:17.862Z"
   },
   {
    "duration": 4,
    "start_time": "2022-10-28T03:09:18.549Z"
   },
   {
    "duration": 473,
    "start_time": "2022-10-28T03:10:17.428Z"
   },
   {
    "duration": 442,
    "start_time": "2022-10-28T03:10:27.667Z"
   },
   {
    "duration": 4,
    "start_time": "2022-10-28T03:10:34.322Z"
   },
   {
    "duration": 23,
    "start_time": "2022-10-28T03:10:35.618Z"
   },
   {
    "duration": 4,
    "start_time": "2022-10-28T03:13:11.081Z"
   },
   {
    "duration": 377,
    "start_time": "2022-10-28T03:14:50.278Z"
   },
   {
    "duration": 4,
    "start_time": "2022-10-28T03:15:15.166Z"
   },
   {
    "duration": 29,
    "start_time": "2022-10-28T03:16:20.064Z"
   },
   {
    "duration": 29,
    "start_time": "2022-10-28T03:16:50.935Z"
   },
   {
    "duration": 28,
    "start_time": "2022-10-28T03:16:57.009Z"
   },
   {
    "duration": 9,
    "start_time": "2022-10-28T03:17:05.504Z"
   },
   {
    "duration": 2,
    "start_time": "2022-10-28T03:17:15.709Z"
   },
   {
    "duration": 27,
    "start_time": "2022-10-28T03:17:32.917Z"
   },
   {
    "duration": 3,
    "start_time": "2022-10-28T03:18:07.290Z"
   },
   {
    "duration": 8,
    "start_time": "2022-10-28T03:18:17.473Z"
   },
   {
    "duration": 28,
    "start_time": "2022-10-28T03:18:19.423Z"
   },
   {
    "duration": 29,
    "start_time": "2022-10-28T03:21:27.621Z"
   },
   {
    "duration": 69,
    "start_time": "2022-10-28T03:22:04.561Z"
   },
   {
    "duration": 62,
    "start_time": "2022-10-28T03:22:13.120Z"
   },
   {
    "duration": 144,
    "start_time": "2022-10-28T03:22:47.022Z"
   },
   {
    "duration": 17,
    "start_time": "2022-10-28T03:23:02.791Z"
   },
   {
    "duration": 32,
    "start_time": "2022-10-28T03:23:20.805Z"
   },
   {
    "duration": 62,
    "start_time": "2022-10-28T03:23:31.519Z"
   },
   {
    "duration": 2,
    "start_time": "2022-10-28T03:23:39.682Z"
   },
   {
    "duration": 592,
    "start_time": "2022-10-28T03:23:40.498Z"
   },
   {
    "duration": 8,
    "start_time": "2022-10-28T03:23:42.918Z"
   },
   {
    "duration": 10,
    "start_time": "2022-10-28T03:23:44.753Z"
   },
   {
    "duration": 46,
    "start_time": "2022-10-28T03:23:59.982Z"
   },
   {
    "duration": 4,
    "start_time": "2022-10-28T03:24:08.398Z"
   },
   {
    "duration": 54,
    "start_time": "2022-10-28T03:25:08.267Z"
   },
   {
    "duration": 2,
    "start_time": "2022-10-28T03:31:03.200Z"
   },
   {
    "duration": 27630,
    "start_time": "2022-10-28T03:31:04.240Z"
   },
   {
    "duration": 4382,
    "start_time": "2022-10-28T03:31:31.872Z"
   },
   {
    "duration": 70,
    "start_time": "2022-10-28T03:31:36.256Z"
   },
   {
    "duration": 4,
    "start_time": "2022-10-28T03:32:59.601Z"
   },
   {
    "duration": 13861,
    "start_time": "2022-10-28T03:33:02.151Z"
   },
   {
    "duration": 4,
    "start_time": "2022-10-28T03:33:22.421Z"
   },
   {
    "duration": 14427,
    "start_time": "2022-10-28T03:33:23.393Z"
   },
   {
    "duration": 11,
    "start_time": "2022-10-28T03:34:56.793Z"
   },
   {
    "duration": 6,
    "start_time": "2022-10-28T03:37:05.590Z"
   },
   {
    "duration": 5,
    "start_time": "2022-10-28T03:37:09.983Z"
   },
   {
    "duration": 33,
    "start_time": "2022-10-28T03:37:20.805Z"
   },
   {
    "duration": 10,
    "start_time": "2022-10-28T03:37:27.349Z"
   },
   {
    "duration": 10,
    "start_time": "2022-10-28T03:37:35.289Z"
   },
   {
    "duration": 9,
    "start_time": "2022-10-28T03:37:41.805Z"
   },
   {
    "duration": 1955,
    "start_time": "2022-10-28T03:37:58.993Z"
   },
   {
    "duration": 46,
    "start_time": "2022-10-28T03:38:08.089Z"
   },
   {
    "duration": 26612,
    "start_time": "2022-10-28T03:38:15.774Z"
   },
   {
    "duration": 67,
    "start_time": "2022-10-28T03:38:42.387Z"
   },
   {
    "duration": 44,
    "start_time": "2022-10-28T03:38:47.138Z"
   },
   {
    "duration": 6019,
    "start_time": "2022-10-28T03:39:21.401Z"
   },
   {
    "duration": 691,
    "start_time": "2022-10-28T03:39:27.421Z"
   },
   {
    "duration": 11,
    "start_time": "2022-10-28T03:39:32.279Z"
   },
   {
    "duration": 66,
    "start_time": "2022-10-28T03:47:16.985Z"
   },
   {
    "duration": 2195,
    "start_time": "2022-10-28T03:47:43.400Z"
   },
   {
    "duration": 2296,
    "start_time": "2022-10-28T03:47:45.597Z"
   },
   {
    "duration": 2077,
    "start_time": "2022-10-28T03:47:47.895Z"
   },
   {
    "duration": 1364,
    "start_time": "2022-10-28T03:47:49.974Z"
   },
   {
    "duration": 756,
    "start_time": "2022-10-28T03:47:51.339Z"
   },
   {
    "duration": 700,
    "start_time": "2022-10-28T03:47:52.096Z"
   },
   {
    "duration": 13,
    "start_time": "2022-10-28T03:47:52.797Z"
   },
   {
    "duration": 9,
    "start_time": "2022-10-28T03:47:52.811Z"
   },
   {
    "duration": 176,
    "start_time": "2022-10-28T03:47:52.821Z"
   },
   {
    "duration": 294,
    "start_time": "2022-10-28T03:47:53.000Z"
   },
   {
    "duration": 20,
    "start_time": "2022-10-28T03:47:53.296Z"
   },
   {
    "duration": 24,
    "start_time": "2022-10-28T03:47:53.317Z"
   },
   {
    "duration": 21,
    "start_time": "2022-10-28T03:47:53.343Z"
   },
   {
    "duration": 18,
    "start_time": "2022-10-28T03:47:53.365Z"
   },
   {
    "duration": 36,
    "start_time": "2022-10-28T03:47:53.385Z"
   },
   {
    "duration": 20,
    "start_time": "2022-10-28T03:47:53.423Z"
   },
   {
    "duration": 20,
    "start_time": "2022-10-28T03:47:53.444Z"
   },
   {
    "duration": 51,
    "start_time": "2022-10-28T03:47:53.466Z"
   },
   {
    "duration": 20,
    "start_time": "2022-10-28T03:47:53.519Z"
   },
   {
    "duration": 37,
    "start_time": "2022-10-28T03:47:53.540Z"
   },
   {
    "duration": 94,
    "start_time": "2022-10-28T03:47:53.579Z"
   },
   {
    "duration": 549,
    "start_time": "2022-10-28T03:47:53.674Z"
   },
   {
    "duration": 128,
    "start_time": "2022-10-28T03:47:54.225Z"
   },
   {
    "duration": 485,
    "start_time": "2022-10-28T03:47:54.355Z"
   },
   {
    "duration": 153,
    "start_time": "2022-10-28T03:47:54.841Z"
   },
   {
    "duration": 122,
    "start_time": "2022-10-28T03:47:54.995Z"
   },
   {
    "duration": 148,
    "start_time": "2022-10-28T03:47:55.118Z"
   },
   {
    "duration": 6,
    "start_time": "2022-10-28T03:47:55.269Z"
   },
   {
    "duration": 6,
    "start_time": "2022-10-28T03:47:55.276Z"
   },
   {
    "duration": 157,
    "start_time": "2022-10-28T03:47:55.283Z"
   },
   {
    "duration": 37,
    "start_time": "2022-10-28T03:47:55.442Z"
   },
   {
    "duration": 29,
    "start_time": "2022-10-28T03:47:55.480Z"
   },
   {
    "duration": 134,
    "start_time": "2022-10-28T03:47:55.511Z"
   },
   {
    "duration": 117,
    "start_time": "2022-10-28T03:47:55.647Z"
   },
   {
    "duration": 6,
    "start_time": "2022-10-28T03:47:55.765Z"
   },
   {
    "duration": 117,
    "start_time": "2022-10-28T03:47:55.772Z"
   },
   {
    "duration": 107,
    "start_time": "2022-10-28T03:47:55.891Z"
   },
   {
    "duration": 11,
    "start_time": "2022-10-28T03:47:56.000Z"
   },
   {
    "duration": 6,
    "start_time": "2022-10-28T03:47:56.013Z"
   },
   {
    "duration": 15,
    "start_time": "2022-10-28T03:47:56.020Z"
   },
   {
    "duration": 6,
    "start_time": "2022-10-28T03:47:56.037Z"
   },
   {
    "duration": 118,
    "start_time": "2022-10-28T03:47:56.045Z"
   },
   {
    "duration": 19,
    "start_time": "2022-10-28T03:47:56.165Z"
   },
   {
    "duration": 83,
    "start_time": "2022-10-28T03:47:56.186Z"
   },
   {
    "duration": 502,
    "start_time": "2022-10-28T03:47:56.271Z"
   },
   {
    "duration": 445,
    "start_time": "2022-10-28T03:47:56.774Z"
   },
   {
    "duration": 4,
    "start_time": "2022-10-28T03:47:57.221Z"
   },
   {
    "duration": 8,
    "start_time": "2022-10-28T03:47:57.226Z"
   },
   {
    "duration": 601,
    "start_time": "2022-10-28T03:47:57.235Z"
   },
   {
    "duration": 8,
    "start_time": "2022-10-28T03:47:57.837Z"
   },
   {
    "duration": 46,
    "start_time": "2022-10-28T03:47:57.847Z"
   },
   {
    "duration": 3,
    "start_time": "2022-10-28T03:47:57.895Z"
   },
   {
    "duration": 4,
    "start_time": "2022-10-28T03:47:57.909Z"
   },
   {
    "duration": 7,
    "start_time": "2022-10-28T03:47:57.914Z"
   },
   {
    "duration": 13489,
    "start_time": "2022-10-28T03:47:57.922Z"
   },
   {
    "duration": 108766,
    "start_time": "2022-10-28T03:48:11.415Z"
   },
   {
    "duration": 3,
    "start_time": "2022-10-28T03:50:00.183Z"
   },
   {
    "duration": 9,
    "start_time": "2022-10-28T03:50:00.188Z"
   },
   {
    "duration": 27615,
    "start_time": "2022-10-28T03:50:00.198Z"
   },
   {
    "duration": 4428,
    "start_time": "2022-10-28T03:50:27.815Z"
   },
   {
    "duration": 69,
    "start_time": "2022-10-28T03:50:32.244Z"
   },
   {
    "duration": 4704,
    "start_time": "2022-10-28T03:50:32.314Z"
   },
   {
    "duration": 7,
    "start_time": "2022-10-28T03:50:37.110Z"
   },
   {
    "duration": 5,
    "start_time": "2022-10-28T03:50:37.118Z"
   },
   {
    "duration": 85,
    "start_time": "2022-10-28T03:50:37.125Z"
   },
   {
    "duration": 11,
    "start_time": "2022-10-28T03:50:37.212Z"
   },
   {
    "duration": 2151,
    "start_time": "2022-10-28T03:50:37.225Z"
   },
   {
    "duration": 53,
    "start_time": "2022-10-28T03:50:39.378Z"
   },
   {
    "duration": 26721,
    "start_time": "2022-10-28T03:50:39.433Z"
   },
   {
    "duration": 72,
    "start_time": "2022-10-28T03:51:06.156Z"
   },
   {
    "duration": 4285,
    "start_time": "2022-10-28T03:51:06.230Z"
   },
   {
    "duration": 603,
    "start_time": "2022-10-28T03:51:10.516Z"
   },
   {
    "duration": 10,
    "start_time": "2022-10-28T03:51:11.210Z"
   },
   {
    "duration": 166,
    "start_time": "2022-10-28T03:51:11.222Z"
   },
   {
    "duration": 72,
    "start_time": "2022-10-28T03:56:42.476Z"
   },
   {
    "duration": 4890,
    "start_time": "2022-10-28T04:01:18.922Z"
   },
   {
    "duration": 7853,
    "start_time": "2022-10-28T04:01:30.962Z"
   },
   {
    "duration": 13243,
    "start_time": "2022-10-28T04:02:44.374Z"
   },
   {
    "duration": 1963,
    "start_time": "2022-10-28T04:03:00.689Z"
   },
   {
    "duration": 11,
    "start_time": "2022-10-28T04:03:09.801Z"
   },
   {
    "duration": 7100,
    "start_time": "2022-10-28T04:03:30.814Z"
   },
   {
    "duration": 12,
    "start_time": "2022-10-28T04:03:37.916Z"
   },
   {
    "duration": 46,
    "start_time": "2022-10-28T04:04:25.455Z"
   },
   {
    "duration": 12,
    "start_time": "2022-10-28T04:11:54.433Z"
   },
   {
    "duration": 2179,
    "start_time": "2022-10-28T04:18:41.358Z"
   },
   {
    "duration": 2263,
    "start_time": "2022-10-28T04:18:43.540Z"
   },
   {
    "duration": 2051,
    "start_time": "2022-10-28T04:18:45.805Z"
   },
   {
    "duration": 1351,
    "start_time": "2022-10-28T04:18:47.858Z"
   },
   {
    "duration": 757,
    "start_time": "2022-10-28T04:18:49.210Z"
   },
   {
    "duration": 711,
    "start_time": "2022-10-28T04:18:49.969Z"
   },
   {
    "duration": 3,
    "start_time": "2022-10-28T04:18:50.682Z"
   },
   {
    "duration": 10,
    "start_time": "2022-10-28T04:18:50.686Z"
   },
   {
    "duration": 186,
    "start_time": "2022-10-28T04:18:50.698Z"
   },
   {
    "duration": 293,
    "start_time": "2022-10-28T04:18:50.887Z"
   },
   {
    "duration": 18,
    "start_time": "2022-10-28T04:18:51.182Z"
   },
   {
    "duration": 20,
    "start_time": "2022-10-28T04:18:51.209Z"
   },
   {
    "duration": 21,
    "start_time": "2022-10-28T04:18:51.231Z"
   },
   {
    "duration": 19,
    "start_time": "2022-10-28T04:18:51.254Z"
   },
   {
    "duration": 36,
    "start_time": "2022-10-28T04:18:51.275Z"
   },
   {
    "duration": 20,
    "start_time": "2022-10-28T04:18:51.312Z"
   },
   {
    "duration": 21,
    "start_time": "2022-10-28T04:18:51.333Z"
   },
   {
    "duration": 33,
    "start_time": "2022-10-28T04:18:51.355Z"
   },
   {
    "duration": 37,
    "start_time": "2022-10-28T04:18:51.390Z"
   },
   {
    "duration": 35,
    "start_time": "2022-10-28T04:18:51.428Z"
   },
   {
    "duration": 88,
    "start_time": "2022-10-28T04:18:51.464Z"
   },
   {
    "duration": 587,
    "start_time": "2022-10-28T04:18:51.554Z"
   },
   {
    "duration": 125,
    "start_time": "2022-10-28T04:18:52.143Z"
   },
   {
    "duration": 460,
    "start_time": "2022-10-28T04:18:52.270Z"
   },
   {
    "duration": 145,
    "start_time": "2022-10-28T04:18:52.732Z"
   },
   {
    "duration": 131,
    "start_time": "2022-10-28T04:18:52.879Z"
   },
   {
    "duration": 145,
    "start_time": "2022-10-28T04:18:53.012Z"
   },
   {
    "duration": 6,
    "start_time": "2022-10-28T04:18:53.161Z"
   },
   {
    "duration": 7,
    "start_time": "2022-10-28T04:18:53.168Z"
   },
   {
    "duration": 153,
    "start_time": "2022-10-28T04:18:53.177Z"
   },
   {
    "duration": 38,
    "start_time": "2022-10-28T04:18:53.332Z"
   },
   {
    "duration": 21,
    "start_time": "2022-10-28T04:18:53.372Z"
   },
   {
    "duration": 139,
    "start_time": "2022-10-28T04:18:53.409Z"
   },
   {
    "duration": 106,
    "start_time": "2022-10-28T04:18:53.550Z"
   },
   {
    "duration": 6,
    "start_time": "2022-10-28T04:18:53.658Z"
   },
   {
    "duration": 105,
    "start_time": "2022-10-28T04:18:53.665Z"
   },
   {
    "duration": 113,
    "start_time": "2022-10-28T04:18:53.772Z"
   },
   {
    "duration": 6,
    "start_time": "2022-10-28T04:18:53.886Z"
   },
   {
    "duration": 18,
    "start_time": "2022-10-28T04:18:53.893Z"
   },
   {
    "duration": 17,
    "start_time": "2022-10-28T04:18:53.912Z"
   },
   {
    "duration": 7,
    "start_time": "2022-10-28T04:18:53.930Z"
   },
   {
    "duration": 103,
    "start_time": "2022-10-28T04:18:53.938Z"
   },
   {
    "duration": 17,
    "start_time": "2022-10-28T04:18:54.042Z"
   },
   {
    "duration": 76,
    "start_time": "2022-10-28T04:18:54.061Z"
   },
   {
    "duration": 517,
    "start_time": "2022-10-28T04:18:54.139Z"
   },
   {
    "duration": 454,
    "start_time": "2022-10-28T04:18:54.657Z"
   },
   {
    "duration": 5,
    "start_time": "2022-10-28T04:18:55.112Z"
   },
   {
    "duration": 4,
    "start_time": "2022-10-28T04:18:55.118Z"
   },
   {
    "duration": 614,
    "start_time": "2022-10-28T04:18:55.124Z"
   },
   {
    "duration": 8,
    "start_time": "2022-10-28T04:18:55.740Z"
   },
   {
    "duration": 50,
    "start_time": "2022-10-28T04:18:55.749Z"
   },
   {
    "duration": 10,
    "start_time": "2022-10-28T04:18:55.800Z"
   },
   {
    "duration": 10,
    "start_time": "2022-10-28T04:18:55.812Z"
   },
   {
    "duration": 19,
    "start_time": "2022-10-28T04:18:55.823Z"
   },
   {
    "duration": 13681,
    "start_time": "2022-10-28T04:18:55.844Z"
   },
   {
    "duration": 109349,
    "start_time": "2022-10-28T04:19:09.610Z"
   },
   {
    "duration": 4,
    "start_time": "2022-10-28T04:20:58.960Z"
   },
   {
    "duration": 9,
    "start_time": "2022-10-28T04:20:58.965Z"
   },
   {
    "duration": 27531,
    "start_time": "2022-10-28T04:20:58.975Z"
   },
   {
    "duration": 4339,
    "start_time": "2022-10-28T04:21:26.508Z"
   },
   {
    "duration": 70,
    "start_time": "2022-10-28T04:21:30.848Z"
   },
   {
    "duration": 6898,
    "start_time": "2022-10-28T04:21:30.920Z"
   },
   {
    "duration": 5,
    "start_time": "2022-10-28T04:21:37.820Z"
   },
   {
    "duration": 6,
    "start_time": "2022-10-28T04:21:37.910Z"
   },
   {
    "duration": 13192,
    "start_time": "2022-10-28T04:21:37.918Z"
   },
   {
    "duration": 490,
    "start_time": "2022-10-28T04:21:51.112Z"
   },
   {
    "duration": 2009,
    "start_time": "2022-10-28T04:21:51.604Z"
   },
   {
    "duration": 46,
    "start_time": "2022-10-28T04:21:53.614Z"
   },
   {
    "duration": 26546,
    "start_time": "2022-10-28T04:21:53.662Z"
   },
   {
    "duration": 68,
    "start_time": "2022-10-28T04:22:20.210Z"
   },
   {
    "duration": 4237,
    "start_time": "2022-10-28T04:22:20.280Z"
   },
   {
    "duration": 695,
    "start_time": "2022-10-28T04:22:24.519Z"
   },
   {
    "duration": 12,
    "start_time": "2022-10-28T04:22:25.217Z"
   },
   {
    "duration": 0,
    "start_time": "2022-10-28T04:22:25.231Z"
   },
   {
    "duration": 141,
    "start_time": "2022-10-28T04:22:59.373Z"
   },
   {
    "duration": 12898,
    "start_time": "2022-10-28T04:25:06.318Z"
   },
   {
    "duration": 156,
    "start_time": "2022-10-28T04:25:26.558Z"
   },
   {
    "duration": 11,
    "start_time": "2022-10-28T04:25:49.486Z"
   },
   {
    "duration": 126,
    "start_time": "2022-10-28T04:26:10.101Z"
   },
   {
    "duration": 11,
    "start_time": "2022-10-28T04:26:15.127Z"
   },
   {
    "duration": 14990,
    "start_time": "2022-10-28T04:27:03.129Z"
   },
   {
    "duration": 200,
    "start_time": "2022-10-28T04:27:18.212Z"
   },
   {
    "duration": 2043,
    "start_time": "2022-10-28T04:27:25.139Z"
   },
   {
    "duration": 55,
    "start_time": "2022-10-28T04:27:27.184Z"
   },
   {
    "duration": 26915,
    "start_time": "2022-10-28T04:27:29.911Z"
   },
   {
    "duration": 71,
    "start_time": "2022-10-28T04:27:59.787Z"
   },
   {
    "duration": 4169,
    "start_time": "2022-10-28T04:28:02.442Z"
   },
   {
    "duration": 2173,
    "start_time": "2022-10-28T04:28:27.982Z"
   },
   {
    "duration": 2219,
    "start_time": "2022-10-28T04:28:30.158Z"
   },
   {
    "duration": 2070,
    "start_time": "2022-10-28T04:28:32.379Z"
   },
   {
    "duration": 1366,
    "start_time": "2022-10-28T04:28:34.452Z"
   },
   {
    "duration": 770,
    "start_time": "2022-10-28T04:28:35.819Z"
   },
   {
    "duration": 714,
    "start_time": "2022-10-28T04:28:36.591Z"
   },
   {
    "duration": 4,
    "start_time": "2022-10-28T04:28:37.309Z"
   },
   {
    "duration": 23,
    "start_time": "2022-10-28T04:28:37.315Z"
   },
   {
    "duration": 184,
    "start_time": "2022-10-28T04:28:37.340Z"
   },
   {
    "duration": 287,
    "start_time": "2022-10-28T04:28:37.527Z"
   },
   {
    "duration": 18,
    "start_time": "2022-10-28T04:28:37.816Z"
   },
   {
    "duration": 26,
    "start_time": "2022-10-28T04:28:37.835Z"
   },
   {
    "duration": 20,
    "start_time": "2022-10-28T04:28:37.863Z"
   },
   {
    "duration": 34,
    "start_time": "2022-10-28T04:28:37.884Z"
   },
   {
    "duration": 26,
    "start_time": "2022-10-28T04:28:37.920Z"
   },
   {
    "duration": 29,
    "start_time": "2022-10-28T04:28:37.948Z"
   },
   {
    "duration": 17,
    "start_time": "2022-10-28T04:28:37.979Z"
   },
   {
    "duration": 42,
    "start_time": "2022-10-28T04:28:37.998Z"
   },
   {
    "duration": 20,
    "start_time": "2022-10-28T04:28:38.042Z"
   },
   {
    "duration": 53,
    "start_time": "2022-10-28T04:28:38.064Z"
   },
   {
    "duration": 78,
    "start_time": "2022-10-28T04:28:38.118Z"
   },
   {
    "duration": 595,
    "start_time": "2022-10-28T04:28:38.197Z"
   },
   {
    "duration": 124,
    "start_time": "2022-10-28T04:28:38.793Z"
   },
   {
    "duration": 466,
    "start_time": "2022-10-28T04:28:38.918Z"
   },
   {
    "duration": 149,
    "start_time": "2022-10-28T04:28:39.386Z"
   },
   {
    "duration": 126,
    "start_time": "2022-10-28T04:28:39.537Z"
   },
   {
    "duration": 147,
    "start_time": "2022-10-28T04:28:39.664Z"
   },
   {
    "duration": 6,
    "start_time": "2022-10-28T04:28:39.814Z"
   },
   {
    "duration": 3,
    "start_time": "2022-10-28T04:28:39.821Z"
   },
   {
    "duration": 156,
    "start_time": "2022-10-28T04:28:39.825Z"
   },
   {
    "duration": 47,
    "start_time": "2022-10-28T04:28:39.982Z"
   },
   {
    "duration": 21,
    "start_time": "2022-10-28T04:28:40.031Z"
   },
   {
    "duration": 146,
    "start_time": "2022-10-28T04:28:40.053Z"
   },
   {
    "duration": 110,
    "start_time": "2022-10-28T04:28:40.200Z"
   },
   {
    "duration": 6,
    "start_time": "2022-10-28T04:28:40.311Z"
   },
   {
    "duration": 107,
    "start_time": "2022-10-28T04:28:40.318Z"
   },
   {
    "duration": 114,
    "start_time": "2022-10-28T04:28:40.426Z"
   },
   {
    "duration": 5,
    "start_time": "2022-10-28T04:28:40.541Z"
   },
   {
    "duration": 6,
    "start_time": "2022-10-28T04:28:40.548Z"
   },
   {
    "duration": 14,
    "start_time": "2022-10-28T04:28:40.555Z"
   },
   {
    "duration": 7,
    "start_time": "2022-10-28T04:28:40.570Z"
   },
   {
    "duration": 120,
    "start_time": "2022-10-28T04:28:40.578Z"
   },
   {
    "duration": 19,
    "start_time": "2022-10-28T04:28:40.699Z"
   },
   {
    "duration": 71,
    "start_time": "2022-10-28T04:28:40.720Z"
   },
   {
    "duration": 536,
    "start_time": "2022-10-28T04:28:40.792Z"
   },
   {
    "duration": 498,
    "start_time": "2022-10-28T04:28:41.329Z"
   },
   {
    "duration": 4,
    "start_time": "2022-10-28T04:28:41.828Z"
   },
   {
    "duration": 4,
    "start_time": "2022-10-28T04:28:41.833Z"
   },
   {
    "duration": 637,
    "start_time": "2022-10-28T04:28:41.839Z"
   },
   {
    "duration": 9,
    "start_time": "2022-10-28T04:28:42.478Z"
   },
   {
    "duration": 55,
    "start_time": "2022-10-28T04:28:42.488Z"
   },
   {
    "duration": 4,
    "start_time": "2022-10-28T04:28:42.544Z"
   },
   {
    "duration": 4,
    "start_time": "2022-10-28T04:28:42.550Z"
   },
   {
    "duration": 4,
    "start_time": "2022-10-28T04:28:42.555Z"
   },
   {
    "duration": 14648,
    "start_time": "2022-10-28T04:28:42.561Z"
   },
   {
    "duration": 121648,
    "start_time": "2022-10-28T04:28:57.213Z"
   },
   {
    "duration": 4,
    "start_time": "2022-10-28T04:30:58.862Z"
   },
   {
    "duration": 7,
    "start_time": "2022-10-28T04:30:58.867Z"
   },
   {
    "duration": 29582,
    "start_time": "2022-10-28T04:30:58.876Z"
   },
   {
    "duration": 4637,
    "start_time": "2022-10-28T04:31:28.460Z"
   },
   {
    "duration": 116,
    "start_time": "2022-10-28T04:31:33.099Z"
   },
   {
    "duration": 5010,
    "start_time": "2022-10-28T04:31:33.216Z"
   },
   {
    "duration": 87,
    "start_time": "2022-10-28T04:31:38.227Z"
   },
   {
    "duration": 29,
    "start_time": "2022-10-28T04:31:38.315Z"
   },
   {
    "duration": 14364,
    "start_time": "2022-10-28T04:31:38.346Z"
   },
   {
    "duration": 204,
    "start_time": "2022-10-28T04:31:52.712Z"
   },
   {
    "duration": 2342,
    "start_time": "2022-10-28T04:31:52.918Z"
   },
   {
    "duration": 58,
    "start_time": "2022-10-28T04:31:55.263Z"
   },
   {
    "duration": 29100,
    "start_time": "2022-10-28T04:31:55.323Z"
   },
   {
    "duration": 89,
    "start_time": "2022-10-28T04:32:24.425Z"
   },
   {
    "duration": 5094,
    "start_time": "2022-10-28T04:32:24.516Z"
   },
   {
    "duration": 606,
    "start_time": "2022-10-28T04:32:29.612Z"
   },
   {
    "duration": 11,
    "start_time": "2022-10-28T04:32:30.310Z"
   },
   {
    "duration": 14196,
    "start_time": "2022-10-28T04:32:30.322Z"
   },
   {
    "duration": 2217,
    "start_time": "2022-10-28T04:33:37.213Z"
   },
   {
    "duration": 2233,
    "start_time": "2022-10-28T04:33:39.433Z"
   },
   {
    "duration": 2075,
    "start_time": "2022-10-28T04:33:41.667Z"
   },
   {
    "duration": 1505,
    "start_time": "2022-10-28T04:33:43.745Z"
   },
   {
    "duration": 797,
    "start_time": "2022-10-28T04:33:45.251Z"
   },
   {
    "duration": 767,
    "start_time": "2022-10-28T04:33:46.049Z"
   },
   {
    "duration": 3,
    "start_time": "2022-10-28T04:33:46.818Z"
   },
   {
    "duration": 8,
    "start_time": "2022-10-28T04:33:46.822Z"
   },
   {
    "duration": 213,
    "start_time": "2022-10-28T04:33:46.831Z"
   },
   {
    "duration": 305,
    "start_time": "2022-10-28T04:33:47.046Z"
   },
   {
    "duration": 20,
    "start_time": "2022-10-28T04:33:47.353Z"
   },
   {
    "duration": 30,
    "start_time": "2022-10-28T04:33:47.374Z"
   },
   {
    "duration": 21,
    "start_time": "2022-10-28T04:33:47.409Z"
   },
   {
    "duration": 17,
    "start_time": "2022-10-28T04:33:47.432Z"
   },
   {
    "duration": 18,
    "start_time": "2022-10-28T04:33:47.450Z"
   },
   {
    "duration": 41,
    "start_time": "2022-10-28T04:33:47.469Z"
   },
   {
    "duration": 20,
    "start_time": "2022-10-28T04:33:47.511Z"
   },
   {
    "duration": 35,
    "start_time": "2022-10-28T04:33:47.532Z"
   },
   {
    "duration": 19,
    "start_time": "2022-10-28T04:33:47.569Z"
   },
   {
    "duration": 52,
    "start_time": "2022-10-28T04:33:47.590Z"
   },
   {
    "duration": 86,
    "start_time": "2022-10-28T04:33:47.643Z"
   },
   {
    "duration": 605,
    "start_time": "2022-10-28T04:33:47.731Z"
   },
   {
    "duration": 133,
    "start_time": "2022-10-28T04:33:48.338Z"
   },
   {
    "duration": 476,
    "start_time": "2022-10-28T04:33:48.473Z"
   },
   {
    "duration": 159,
    "start_time": "2022-10-28T04:33:48.951Z"
   },
   {
    "duration": 129,
    "start_time": "2022-10-28T04:33:49.112Z"
   },
   {
    "duration": 151,
    "start_time": "2022-10-28T04:33:49.243Z"
   },
   {
    "duration": 7,
    "start_time": "2022-10-28T04:33:49.408Z"
   },
   {
    "duration": 6,
    "start_time": "2022-10-28T04:33:49.417Z"
   },
   {
    "duration": 154,
    "start_time": "2022-10-28T04:33:49.425Z"
   },
   {
    "duration": 51,
    "start_time": "2022-10-28T04:33:49.580Z"
   },
   {
    "duration": 21,
    "start_time": "2022-10-28T04:33:49.633Z"
   },
   {
    "duration": 142,
    "start_time": "2022-10-28T04:33:49.655Z"
   },
   {
    "duration": 112,
    "start_time": "2022-10-28T04:33:49.798Z"
   },
   {
    "duration": 6,
    "start_time": "2022-10-28T04:33:49.911Z"
   },
   {
    "duration": 121,
    "start_time": "2022-10-28T04:33:49.918Z"
   },
   {
    "duration": 108,
    "start_time": "2022-10-28T04:33:50.040Z"
   },
   {
    "duration": 5,
    "start_time": "2022-10-28T04:33:50.150Z"
   },
   {
    "duration": 6,
    "start_time": "2022-10-28T04:33:50.156Z"
   },
   {
    "duration": 15,
    "start_time": "2022-10-28T04:33:50.163Z"
   },
   {
    "duration": 33,
    "start_time": "2022-10-28T04:33:50.179Z"
   },
   {
    "duration": 96,
    "start_time": "2022-10-28T04:33:50.214Z"
   },
   {
    "duration": 26,
    "start_time": "2022-10-28T04:33:50.311Z"
   },
   {
    "duration": 86,
    "start_time": "2022-10-28T04:33:50.338Z"
   },
   {
    "duration": 529,
    "start_time": "2022-10-28T04:33:50.426Z"
   },
   {
    "duration": 483,
    "start_time": "2022-10-28T04:33:50.957Z"
   },
   {
    "duration": 4,
    "start_time": "2022-10-28T04:33:51.442Z"
   },
   {
    "duration": 5,
    "start_time": "2022-10-28T04:33:51.448Z"
   },
   {
    "duration": 649,
    "start_time": "2022-10-28T04:33:51.455Z"
   },
   {
    "duration": 8,
    "start_time": "2022-10-28T04:33:52.106Z"
   },
   {
    "duration": 53,
    "start_time": "2022-10-28T04:33:52.115Z"
   },
   {
    "duration": 5,
    "start_time": "2022-10-28T04:33:52.169Z"
   },
   {
    "duration": 12,
    "start_time": "2022-10-28T04:33:52.175Z"
   },
   {
    "duration": 4,
    "start_time": "2022-10-28T04:33:52.188Z"
   },
   {
    "duration": 15617,
    "start_time": "2022-10-28T04:33:52.193Z"
   },
   {
    "duration": 123293,
    "start_time": "2022-10-28T04:34:07.812Z"
   },
   {
    "duration": 3,
    "start_time": "2022-10-28T04:36:11.107Z"
   },
   {
    "duration": 6,
    "start_time": "2022-10-28T04:36:11.112Z"
   },
   {
    "duration": 30291,
    "start_time": "2022-10-28T04:36:11.119Z"
   },
   {
    "duration": 4650,
    "start_time": "2022-10-28T04:36:41.411Z"
   },
   {
    "duration": 75,
    "start_time": "2022-10-28T04:36:46.063Z"
   },
   {
    "duration": 5474,
    "start_time": "2022-10-28T04:36:46.140Z"
   },
   {
    "duration": 7,
    "start_time": "2022-10-28T04:36:51.617Z"
   },
   {
    "duration": 8,
    "start_time": "2022-10-28T04:36:51.626Z"
   },
   {
    "duration": 14375,
    "start_time": "2022-10-28T04:36:51.636Z"
   },
   {
    "duration": 203,
    "start_time": "2022-10-28T04:37:06.012Z"
   },
   {
    "duration": 1143,
    "start_time": "2022-10-28T04:37:06.217Z"
   },
   {
    "duration": 26,
    "start_time": "2022-10-28T04:37:07.362Z"
   },
   {
    "duration": 29469,
    "start_time": "2022-10-28T04:37:07.389Z"
   },
   {
    "duration": 71,
    "start_time": "2022-10-28T04:37:36.859Z"
   },
   {
    "duration": 4886,
    "start_time": "2022-10-28T04:37:36.932Z"
   },
   {
    "duration": 616,
    "start_time": "2022-10-28T04:37:41.910Z"
   },
   {
    "duration": 11,
    "start_time": "2022-10-28T04:37:42.609Z"
   },
   {
    "duration": 5503,
    "start_time": "2022-10-28T04:37:42.622Z"
   },
   {
    "duration": 45,
    "start_time": "2022-10-28T04:39:58.893Z"
   },
   {
    "duration": 11,
    "start_time": "2022-10-28T04:44:30.184Z"
   },
   {
    "duration": 2033,
    "start_time": "2022-10-28T04:49:17.267Z"
   },
   {
    "duration": 47,
    "start_time": "2022-10-28T04:49:21.966Z"
   },
   {
    "duration": 28989,
    "start_time": "2022-10-28T04:50:17.257Z"
   },
   {
    "duration": 128,
    "start_time": "2022-10-28T04:52:33.450Z"
   },
   {
    "duration": 29646,
    "start_time": "2022-10-28T04:52:38.108Z"
   },
   {
    "duration": 5566,
    "start_time": "2022-10-28T04:53:07.756Z"
   },
   {
    "duration": 195,
    "start_time": "2022-10-28T04:53:13.324Z"
   },
   {
    "duration": 10,
    "start_time": "2022-10-28T04:53:36.446Z"
   },
   {
    "duration": 4,
    "start_time": "2022-10-28T04:54:02.425Z"
   },
   {
    "duration": 12,
    "start_time": "2022-10-28T04:54:14.283Z"
   },
   {
    "duration": 2307,
    "start_time": "2022-10-28T04:55:00.151Z"
   },
   {
    "duration": 2378,
    "start_time": "2022-10-28T04:55:02.460Z"
   },
   {
    "duration": 2164,
    "start_time": "2022-10-28T04:55:04.840Z"
   },
   {
    "duration": 1465,
    "start_time": "2022-10-28T04:55:07.006Z"
   },
   {
    "duration": 782,
    "start_time": "2022-10-28T04:55:08.472Z"
   },
   {
    "duration": 731,
    "start_time": "2022-10-28T04:55:09.256Z"
   },
   {
    "duration": 3,
    "start_time": "2022-10-28T04:55:09.989Z"
   },
   {
    "duration": 7,
    "start_time": "2022-10-28T04:55:09.993Z"
   },
   {
    "duration": 184,
    "start_time": "2022-10-28T04:55:10.010Z"
   },
   {
    "duration": 283,
    "start_time": "2022-10-28T04:55:10.196Z"
   },
   {
    "duration": 19,
    "start_time": "2022-10-28T04:55:10.480Z"
   },
   {
    "duration": 28,
    "start_time": "2022-10-28T04:55:10.500Z"
   },
   {
    "duration": 22,
    "start_time": "2022-10-28T04:55:10.529Z"
   },
   {
    "duration": 19,
    "start_time": "2022-10-28T04:55:10.552Z"
   },
   {
    "duration": 38,
    "start_time": "2022-10-28T04:55:10.572Z"
   },
   {
    "duration": 20,
    "start_time": "2022-10-28T04:55:10.612Z"
   },
   {
    "duration": 20,
    "start_time": "2022-10-28T04:55:10.633Z"
   },
   {
    "duration": 37,
    "start_time": "2022-10-28T04:55:10.655Z"
   },
   {
    "duration": 35,
    "start_time": "2022-10-28T04:55:10.693Z"
   },
   {
    "duration": 36,
    "start_time": "2022-10-28T04:55:10.730Z"
   },
   {
    "duration": 92,
    "start_time": "2022-10-28T04:55:10.768Z"
   },
   {
    "duration": 568,
    "start_time": "2022-10-28T04:55:10.862Z"
   },
   {
    "duration": 144,
    "start_time": "2022-10-28T04:55:11.431Z"
   },
   {
    "duration": 522,
    "start_time": "2022-10-28T04:55:11.577Z"
   },
   {
    "duration": 156,
    "start_time": "2022-10-28T04:55:12.100Z"
   },
   {
    "duration": 121,
    "start_time": "2022-10-28T04:55:12.258Z"
   },
   {
    "duration": 163,
    "start_time": "2022-10-28T04:55:12.381Z"
   },
   {
    "duration": 9,
    "start_time": "2022-10-28T04:55:12.550Z"
   },
   {
    "duration": 4,
    "start_time": "2022-10-28T04:55:12.561Z"
   },
   {
    "duration": 178,
    "start_time": "2022-10-28T04:55:12.566Z"
   },
   {
    "duration": 51,
    "start_time": "2022-10-28T04:55:12.745Z"
   },
   {
    "duration": 28,
    "start_time": "2022-10-28T04:55:12.797Z"
   },
   {
    "duration": 173,
    "start_time": "2022-10-28T04:55:12.828Z"
   },
   {
    "duration": 115,
    "start_time": "2022-10-28T04:55:13.003Z"
   },
   {
    "duration": 9,
    "start_time": "2022-10-28T04:55:13.120Z"
   },
   {
    "duration": 156,
    "start_time": "2022-10-28T04:55:13.131Z"
   },
   {
    "duration": 134,
    "start_time": "2022-10-28T04:55:13.289Z"
   },
   {
    "duration": 6,
    "start_time": "2022-10-28T04:55:13.424Z"
   },
   {
    "duration": 6,
    "start_time": "2022-10-28T04:55:13.432Z"
   },
   {
    "duration": 19,
    "start_time": "2022-10-28T04:55:13.439Z"
   },
   {
    "duration": 7,
    "start_time": "2022-10-28T04:55:13.459Z"
   },
   {
    "duration": 115,
    "start_time": "2022-10-28T04:55:13.468Z"
   },
   {
    "duration": 28,
    "start_time": "2022-10-28T04:55:13.585Z"
   },
   {
    "duration": 74,
    "start_time": "2022-10-28T04:55:13.614Z"
   },
   {
    "duration": 547,
    "start_time": "2022-10-28T04:55:13.690Z"
   },
   {
    "duration": 561,
    "start_time": "2022-10-28T04:55:14.238Z"
   },
   {
    "duration": 3,
    "start_time": "2022-10-28T04:55:14.801Z"
   },
   {
    "duration": 9,
    "start_time": "2022-10-28T04:55:14.809Z"
   },
   {
    "duration": 677,
    "start_time": "2022-10-28T04:55:14.819Z"
   },
   {
    "duration": 11,
    "start_time": "2022-10-28T04:55:15.498Z"
   },
   {
    "duration": 53,
    "start_time": "2022-10-28T04:55:15.511Z"
   },
   {
    "duration": 4,
    "start_time": "2022-10-28T04:55:15.565Z"
   },
   {
    "duration": 7,
    "start_time": "2022-10-28T04:55:15.571Z"
   },
   {
    "duration": 5,
    "start_time": "2022-10-28T04:55:15.580Z"
   },
   {
    "duration": 15024,
    "start_time": "2022-10-28T04:55:15.586Z"
   },
   {
    "duration": 123508,
    "start_time": "2022-10-28T04:55:30.614Z"
   },
   {
    "duration": 4,
    "start_time": "2022-10-28T04:57:34.124Z"
   },
   {
    "duration": 4,
    "start_time": "2022-10-28T04:57:34.129Z"
   },
   {
    "duration": 29137,
    "start_time": "2022-10-28T04:57:34.135Z"
   },
   {
    "duration": 4665,
    "start_time": "2022-10-28T04:58:03.273Z"
   },
   {
    "duration": 78,
    "start_time": "2022-10-28T04:58:07.940Z"
   },
   {
    "duration": 5798,
    "start_time": "2022-10-28T04:58:08.020Z"
   },
   {
    "duration": 88,
    "start_time": "2022-10-28T04:58:13.825Z"
   },
   {
    "duration": 6,
    "start_time": "2022-10-28T04:58:13.914Z"
   },
   {
    "duration": 14795,
    "start_time": "2022-10-28T04:58:13.921Z"
   },
   {
    "duration": 291,
    "start_time": "2022-10-28T04:58:28.719Z"
   },
   {
    "duration": 2144,
    "start_time": "2022-10-28T04:58:29.012Z"
   },
   {
    "duration": 56,
    "start_time": "2022-10-28T04:58:31.157Z"
   },
   {
    "duration": 28439,
    "start_time": "2022-10-28T04:58:31.215Z"
   },
   {
    "duration": 71,
    "start_time": "2022-10-28T04:58:59.656Z"
   },
   {
    "duration": 4481,
    "start_time": "2022-10-28T04:58:59.729Z"
   },
   {
    "duration": 697,
    "start_time": "2022-10-28T04:59:04.212Z"
   },
   {
    "duration": 12,
    "start_time": "2022-10-28T04:59:04.911Z"
   },
   {
    "duration": 28295,
    "start_time": "2022-10-28T04:59:04.925Z"
   },
   {
    "duration": 133,
    "start_time": "2022-10-28T05:03:18.475Z"
   },
   {
    "duration": 15,
    "start_time": "2022-10-28T05:04:17.773Z"
   },
   {
    "duration": 14,
    "start_time": "2022-10-28T05:04:38.140Z"
   },
   {
    "duration": 10,
    "start_time": "2022-10-28T05:04:51.612Z"
   },
   {
    "duration": 2194,
    "start_time": "2022-10-28T05:11:20.954Z"
   },
   {
    "duration": 2305,
    "start_time": "2022-10-28T05:11:23.149Z"
   },
   {
    "duration": 2127,
    "start_time": "2022-10-28T05:11:25.456Z"
   },
   {
    "duration": 1471,
    "start_time": "2022-10-28T05:11:27.585Z"
   },
   {
    "duration": 762,
    "start_time": "2022-10-28T05:11:29.057Z"
   },
   {
    "duration": 739,
    "start_time": "2022-10-28T05:11:29.821Z"
   },
   {
    "duration": 3,
    "start_time": "2022-10-28T05:11:30.562Z"
   },
   {
    "duration": 34,
    "start_time": "2022-10-28T05:11:30.567Z"
   },
   {
    "duration": 206,
    "start_time": "2022-10-28T05:11:30.603Z"
   },
   {
    "duration": 296,
    "start_time": "2022-10-28T05:11:30.813Z"
   },
   {
    "duration": 21,
    "start_time": "2022-10-28T05:11:31.110Z"
   },
   {
    "duration": 49,
    "start_time": "2022-10-28T05:11:31.132Z"
   },
   {
    "duration": 21,
    "start_time": "2022-10-28T05:11:31.183Z"
   },
   {
    "duration": 59,
    "start_time": "2022-10-28T05:11:31.206Z"
   },
   {
    "duration": 28,
    "start_time": "2022-10-28T05:11:31.267Z"
   },
   {
    "duration": 48,
    "start_time": "2022-10-28T05:11:31.297Z"
   },
   {
    "duration": 41,
    "start_time": "2022-10-28T05:11:31.346Z"
   },
   {
    "duration": 56,
    "start_time": "2022-10-28T05:11:31.388Z"
   },
   {
    "duration": 20,
    "start_time": "2022-10-28T05:11:31.446Z"
   },
   {
    "duration": 34,
    "start_time": "2022-10-28T05:11:31.467Z"
   },
   {
    "duration": 85,
    "start_time": "2022-10-28T05:11:31.508Z"
   },
   {
    "duration": 588,
    "start_time": "2022-10-28T05:11:31.594Z"
   },
   {
    "duration": 142,
    "start_time": "2022-10-28T05:11:32.184Z"
   },
   {
    "duration": 618,
    "start_time": "2022-10-28T05:11:32.328Z"
   },
   {
    "duration": 152,
    "start_time": "2022-10-28T05:11:32.947Z"
   },
   {
    "duration": 130,
    "start_time": "2022-10-28T05:11:33.101Z"
   },
   {
    "duration": 149,
    "start_time": "2022-10-28T05:11:33.233Z"
   },
   {
    "duration": 6,
    "start_time": "2022-10-28T05:11:33.385Z"
   },
   {
    "duration": 17,
    "start_time": "2022-10-28T05:11:33.392Z"
   },
   {
    "duration": 150,
    "start_time": "2022-10-28T05:11:33.410Z"
   },
   {
    "duration": 51,
    "start_time": "2022-10-28T05:11:33.562Z"
   },
   {
    "duration": 21,
    "start_time": "2022-10-28T05:11:33.615Z"
   },
   {
    "duration": 149,
    "start_time": "2022-10-28T05:11:33.638Z"
   },
   {
    "duration": 109,
    "start_time": "2022-10-28T05:11:33.788Z"
   },
   {
    "duration": 11,
    "start_time": "2022-10-28T05:11:33.899Z"
   },
   {
    "duration": 111,
    "start_time": "2022-10-28T05:11:33.911Z"
   },
   {
    "duration": 112,
    "start_time": "2022-10-28T05:11:34.024Z"
   },
   {
    "duration": 5,
    "start_time": "2022-10-28T05:11:34.138Z"
   },
   {
    "duration": 6,
    "start_time": "2022-10-28T05:11:34.144Z"
   },
   {
    "duration": 15,
    "start_time": "2022-10-28T05:11:34.152Z"
   },
   {
    "duration": 7,
    "start_time": "2022-10-28T05:11:34.168Z"
   },
   {
    "duration": 115,
    "start_time": "2022-10-28T05:11:34.176Z"
   },
   {
    "duration": 29,
    "start_time": "2022-10-28T05:11:34.293Z"
   },
   {
    "duration": 93,
    "start_time": "2022-10-28T05:11:34.324Z"
   },
   {
    "duration": 557,
    "start_time": "2022-10-28T05:11:34.420Z"
   },
   {
    "duration": 505,
    "start_time": "2022-10-28T05:11:34.979Z"
   },
   {
    "duration": 4,
    "start_time": "2022-10-28T05:11:35.485Z"
   },
   {
    "duration": 5,
    "start_time": "2022-10-28T05:11:35.491Z"
   },
   {
    "duration": 657,
    "start_time": "2022-10-28T05:11:35.497Z"
   },
   {
    "duration": 9,
    "start_time": "2022-10-28T05:11:36.155Z"
   },
   {
    "duration": 63,
    "start_time": "2022-10-28T05:11:36.166Z"
   },
   {
    "duration": 4,
    "start_time": "2022-10-28T05:11:36.232Z"
   },
   {
    "duration": 14,
    "start_time": "2022-10-28T05:11:36.238Z"
   },
   {
    "duration": 7,
    "start_time": "2022-10-28T05:11:36.253Z"
   },
   {
    "duration": 16348,
    "start_time": "2022-10-28T05:11:36.262Z"
   },
   {
    "duration": 124293,
    "start_time": "2022-10-28T05:11:52.612Z"
   },
   {
    "duration": 3,
    "start_time": "2022-10-28T05:13:56.908Z"
   },
   {
    "duration": 9,
    "start_time": "2022-10-28T05:13:56.913Z"
   },
   {
    "duration": 29165,
    "start_time": "2022-10-28T05:13:56.924Z"
   },
   {
    "duration": 4790,
    "start_time": "2022-10-28T05:14:26.091Z"
   },
   {
    "duration": 72,
    "start_time": "2022-10-28T05:14:30.883Z"
   },
   {
    "duration": 5761,
    "start_time": "2022-10-28T05:14:30.956Z"
   },
   {
    "duration": 6,
    "start_time": "2022-10-28T05:14:36.719Z"
   },
   {
    "duration": 7,
    "start_time": "2022-10-28T05:14:36.727Z"
   },
   {
    "duration": 17309,
    "start_time": "2022-10-28T05:14:36.809Z"
   },
   {
    "duration": 206,
    "start_time": "2022-10-28T05:14:54.210Z"
   },
   {
    "duration": 2234,
    "start_time": "2022-10-28T05:14:54.418Z"
   },
   {
    "duration": 56,
    "start_time": "2022-10-28T05:14:56.654Z"
   },
   {
    "duration": 28210,
    "start_time": "2022-10-28T05:14:56.712Z"
   },
   {
    "duration": 72,
    "start_time": "2022-10-28T05:15:24.923Z"
   },
   {
    "duration": 5122,
    "start_time": "2022-10-28T05:15:24.996Z"
   },
   {
    "duration": 796,
    "start_time": "2022-10-28T05:15:30.119Z"
   },
   {
    "duration": 14,
    "start_time": "2022-10-28T05:15:30.918Z"
   },
   {
    "duration": 28781,
    "start_time": "2022-10-28T05:15:30.934Z"
   },
   {
    "duration": 12,
    "start_time": "2022-10-28T05:17:33.604Z"
   },
   {
    "duration": 11,
    "start_time": "2022-10-28T05:19:10.714Z"
   },
   {
    "duration": 12,
    "start_time": "2022-10-28T05:19:39.754Z"
   },
   {
    "duration": 58,
    "start_time": "2022-10-28T15:22:21.147Z"
   },
   {
    "duration": 14570,
    "start_time": "2022-10-28T15:22:28.144Z"
   },
   {
    "duration": 2465,
    "start_time": "2022-10-28T15:22:42.717Z"
   },
   {
    "duration": 1971,
    "start_time": "2022-10-28T15:22:45.184Z"
   },
   {
    "duration": 1668,
    "start_time": "2022-10-28T15:22:47.157Z"
   },
   {
    "duration": 2924,
    "start_time": "2022-10-28T15:22:48.827Z"
   },
   {
    "duration": 736,
    "start_time": "2022-10-28T15:22:51.753Z"
   },
   {
    "duration": 4,
    "start_time": "2022-10-28T15:22:52.490Z"
   },
   {
    "duration": 9,
    "start_time": "2022-10-28T15:22:52.496Z"
   },
   {
    "duration": 221,
    "start_time": "2022-10-28T15:22:52.507Z"
   },
   {
    "duration": 255,
    "start_time": "2022-10-28T15:22:52.729Z"
   },
   {
    "duration": 17,
    "start_time": "2022-10-28T15:22:52.986Z"
   },
   {
    "duration": 26,
    "start_time": "2022-10-28T15:22:53.005Z"
   },
   {
    "duration": 19,
    "start_time": "2022-10-28T15:22:53.032Z"
   },
   {
    "duration": 26,
    "start_time": "2022-10-28T15:22:53.054Z"
   },
   {
    "duration": 45,
    "start_time": "2022-10-28T15:22:53.082Z"
   },
   {
    "duration": 26,
    "start_time": "2022-10-28T15:22:53.129Z"
   },
   {
    "duration": 19,
    "start_time": "2022-10-28T15:22:53.156Z"
   },
   {
    "duration": 46,
    "start_time": "2022-10-28T15:22:53.176Z"
   },
   {
    "duration": 30,
    "start_time": "2022-10-28T15:22:53.223Z"
   },
   {
    "duration": 46,
    "start_time": "2022-10-28T15:22:53.255Z"
   },
   {
    "duration": 87,
    "start_time": "2022-10-28T15:22:53.303Z"
   },
   {
    "duration": 589,
    "start_time": "2022-10-28T15:22:53.392Z"
   },
   {
    "duration": 120,
    "start_time": "2022-10-28T15:22:53.984Z"
   },
   {
    "duration": 490,
    "start_time": "2022-10-28T15:22:54.106Z"
   },
   {
    "duration": 148,
    "start_time": "2022-10-28T15:22:54.598Z"
   },
   {
    "duration": 122,
    "start_time": "2022-10-28T15:22:54.748Z"
   },
   {
    "duration": 136,
    "start_time": "2022-10-28T15:22:54.871Z"
   },
   {
    "duration": 16,
    "start_time": "2022-10-28T15:22:55.008Z"
   },
   {
    "duration": 4,
    "start_time": "2022-10-28T15:22:55.025Z"
   },
   {
    "duration": 155,
    "start_time": "2022-10-28T15:22:55.031Z"
   },
   {
    "duration": 51,
    "start_time": "2022-10-28T15:22:55.188Z"
   },
   {
    "duration": 20,
    "start_time": "2022-10-28T15:22:55.240Z"
   },
   {
    "duration": 135,
    "start_time": "2022-10-28T15:22:55.261Z"
   },
   {
    "duration": 116,
    "start_time": "2022-10-28T15:22:55.398Z"
   },
   {
    "duration": 6,
    "start_time": "2022-10-28T15:22:55.522Z"
   },
   {
    "duration": 106,
    "start_time": "2022-10-28T15:22:55.529Z"
   },
   {
    "duration": 101,
    "start_time": "2022-10-28T15:22:55.637Z"
   },
   {
    "duration": 6,
    "start_time": "2022-10-28T15:22:55.740Z"
   },
   {
    "duration": 6,
    "start_time": "2022-10-28T15:22:55.748Z"
   },
   {
    "duration": 20,
    "start_time": "2022-10-28T15:22:55.756Z"
   },
   {
    "duration": 41,
    "start_time": "2022-10-28T15:22:55.781Z"
   },
   {
    "duration": 119,
    "start_time": "2022-10-28T15:22:55.823Z"
   },
   {
    "duration": 21,
    "start_time": "2022-10-28T15:22:55.944Z"
   },
   {
    "duration": 100,
    "start_time": "2022-10-28T15:22:55.966Z"
   },
   {
    "duration": 787,
    "start_time": "2022-10-28T15:22:56.068Z"
   },
   {
    "duration": 669,
    "start_time": "2022-10-28T15:22:56.857Z"
   },
   {
    "duration": 3,
    "start_time": "2022-10-28T15:22:57.528Z"
   },
   {
    "duration": 6,
    "start_time": "2022-10-28T15:22:57.533Z"
   },
   {
    "duration": 5,
    "start_time": "2022-10-28T15:22:57.541Z"
   },
   {
    "duration": 988,
    "start_time": "2022-10-28T15:22:57.548Z"
   },
   {
    "duration": 2,
    "start_time": "2022-10-28T15:22:58.538Z"
   },
   {
    "duration": 19,
    "start_time": "2022-10-28T15:22:58.542Z"
   },
   {
    "duration": 82,
    "start_time": "2022-10-28T15:22:58.562Z"
   },
   {
    "duration": 4,
    "start_time": "2022-10-28T15:22:58.646Z"
   },
   {
    "duration": 6,
    "start_time": "2022-10-28T15:22:58.652Z"
   },
   {
    "duration": 5,
    "start_time": "2022-10-28T15:22:58.660Z"
   },
   {
    "duration": 20657,
    "start_time": "2022-10-28T15:22:58.667Z"
   },
   {
    "duration": 105685,
    "start_time": "2022-10-28T15:23:19.326Z"
   },
   {
    "duration": 10,
    "start_time": "2022-10-28T15:25:05.013Z"
   },
   {
    "duration": 23,
    "start_time": "2022-10-28T15:25:05.024Z"
   },
   {
    "duration": 26799,
    "start_time": "2022-10-28T15:25:05.048Z"
   },
   {
    "duration": 5073,
    "start_time": "2022-10-28T15:25:31.848Z"
   },
   {
    "duration": 70,
    "start_time": "2022-10-28T15:25:36.922Z"
   },
   {
    "duration": 468951,
    "start_time": "2022-10-28T15:25:36.994Z"
   },
   {
    "duration": 7,
    "start_time": "2022-10-28T15:33:25.946Z"
   },
   {
    "duration": 71,
    "start_time": "2022-10-28T15:33:25.954Z"
   },
   {
    "duration": 22596,
    "start_time": "2022-10-28T15:33:26.027Z"
   },
   {
    "duration": 301,
    "start_time": "2022-10-28T15:33:48.625Z"
   },
   {
    "duration": 2013,
    "start_time": "2022-10-28T15:33:48.927Z"
   },
   {
    "duration": 45,
    "start_time": "2022-10-28T15:33:50.941Z"
   },
   {
    "duration": 25244,
    "start_time": "2022-10-28T15:33:50.989Z"
   },
   {
    "duration": 65,
    "start_time": "2022-10-28T15:34:16.234Z"
   },
   {
    "duration": 40529,
    "start_time": "2022-10-28T15:34:16.301Z"
   },
   {
    "duration": 501,
    "start_time": "2022-10-28T15:34:56.832Z"
   },
   {
    "duration": 11,
    "start_time": "2022-10-28T15:34:57.335Z"
   },
   {
    "duration": 25439,
    "start_time": "2022-10-28T15:34:57.348Z"
   },
   {
    "duration": 18,
    "start_time": "2022-10-28T15:36:48.420Z"
   },
   {
    "duration": 5060,
    "start_time": "2023-03-06T03:39:53.262Z"
   },
   {
    "duration": 3843,
    "start_time": "2023-03-06T03:39:58.325Z"
   },
   {
    "duration": 2903,
    "start_time": "2023-03-06T03:40:02.174Z"
   },
   {
    "duration": 2098,
    "start_time": "2023-03-06T03:40:05.081Z"
   },
   {
    "duration": 3282,
    "start_time": "2023-03-06T03:40:07.182Z"
   },
   {
    "duration": 941,
    "start_time": "2023-03-06T03:40:10.466Z"
   },
   {
    "duration": 4,
    "start_time": "2023-03-06T03:40:11.409Z"
   },
   {
    "duration": 11,
    "start_time": "2023-03-06T03:40:11.415Z"
   },
   {
    "duration": 172,
    "start_time": "2023-03-06T03:40:11.440Z"
   },
   {
    "duration": 0,
    "start_time": "2023-03-06T03:40:11.616Z"
   },
   {
    "duration": 0,
    "start_time": "2023-03-06T03:40:11.617Z"
   },
   {
    "duration": 0,
    "start_time": "2023-03-06T03:40:11.618Z"
   },
   {
    "duration": 0,
    "start_time": "2023-03-06T03:40:11.620Z"
   },
   {
    "duration": 0,
    "start_time": "2023-03-06T03:40:11.621Z"
   },
   {
    "duration": 0,
    "start_time": "2023-03-06T03:40:11.622Z"
   },
   {
    "duration": 0,
    "start_time": "2023-03-06T03:40:11.640Z"
   },
   {
    "duration": 0,
    "start_time": "2023-03-06T03:40:11.641Z"
   },
   {
    "duration": 0,
    "start_time": "2023-03-06T03:40:11.642Z"
   },
   {
    "duration": 0,
    "start_time": "2023-03-06T03:40:11.643Z"
   },
   {
    "duration": 0,
    "start_time": "2023-03-06T03:40:11.644Z"
   },
   {
    "duration": 0,
    "start_time": "2023-03-06T03:40:11.644Z"
   },
   {
    "duration": 0,
    "start_time": "2023-03-06T03:40:11.645Z"
   },
   {
    "duration": 0,
    "start_time": "2023-03-06T03:40:11.646Z"
   },
   {
    "duration": 0,
    "start_time": "2023-03-06T03:40:11.646Z"
   },
   {
    "duration": 0,
    "start_time": "2023-03-06T03:40:11.647Z"
   },
   {
    "duration": 0,
    "start_time": "2023-03-06T03:40:11.648Z"
   },
   {
    "duration": 0,
    "start_time": "2023-03-06T03:40:11.652Z"
   },
   {
    "duration": 0,
    "start_time": "2023-03-06T03:40:11.654Z"
   },
   {
    "duration": 0,
    "start_time": "2023-03-06T03:40:11.656Z"
   },
   {
    "duration": 0,
    "start_time": "2023-03-06T03:40:11.658Z"
   },
   {
    "duration": 0,
    "start_time": "2023-03-06T03:40:11.659Z"
   },
   {
    "duration": 0,
    "start_time": "2023-03-06T03:40:11.661Z"
   },
   {
    "duration": 0,
    "start_time": "2023-03-06T03:40:11.663Z"
   },
   {
    "duration": 0,
    "start_time": "2023-03-06T03:40:11.664Z"
   },
   {
    "duration": 0,
    "start_time": "2023-03-06T03:40:11.665Z"
   },
   {
    "duration": 0,
    "start_time": "2023-03-06T03:40:11.666Z"
   },
   {
    "duration": 0,
    "start_time": "2023-03-06T03:40:11.667Z"
   },
   {
    "duration": 0,
    "start_time": "2023-03-06T03:40:11.669Z"
   },
   {
    "duration": 0,
    "start_time": "2023-03-06T03:40:11.671Z"
   },
   {
    "duration": 0,
    "start_time": "2023-03-06T03:40:11.672Z"
   },
   {
    "duration": 0,
    "start_time": "2023-03-06T03:40:11.673Z"
   },
   {
    "duration": 0,
    "start_time": "2023-03-06T03:40:11.674Z"
   },
   {
    "duration": 0,
    "start_time": "2023-03-06T03:40:11.676Z"
   },
   {
    "duration": 0,
    "start_time": "2023-03-06T03:40:11.677Z"
   },
   {
    "duration": 0,
    "start_time": "2023-03-06T03:40:11.678Z"
   },
   {
    "duration": 0,
    "start_time": "2023-03-06T03:40:11.680Z"
   },
   {
    "duration": 0,
    "start_time": "2023-03-06T03:40:11.681Z"
   },
   {
    "duration": 0,
    "start_time": "2023-03-06T03:40:11.683Z"
   },
   {
    "duration": 0,
    "start_time": "2023-03-06T03:40:11.684Z"
   },
   {
    "duration": 0,
    "start_time": "2023-03-06T03:40:11.741Z"
   },
   {
    "duration": 0,
    "start_time": "2023-03-06T03:40:11.742Z"
   },
   {
    "duration": 0,
    "start_time": "2023-03-06T03:40:11.743Z"
   },
   {
    "duration": 0,
    "start_time": "2023-03-06T03:40:11.744Z"
   },
   {
    "duration": 0,
    "start_time": "2023-03-06T03:40:11.763Z"
   },
   {
    "duration": 0,
    "start_time": "2023-03-06T03:40:11.764Z"
   },
   {
    "duration": 0,
    "start_time": "2023-03-06T03:40:11.765Z"
   },
   {
    "duration": 0,
    "start_time": "2023-03-06T03:40:11.766Z"
   },
   {
    "duration": 0,
    "start_time": "2023-03-06T03:40:11.767Z"
   },
   {
    "duration": 0,
    "start_time": "2023-03-06T03:40:11.772Z"
   },
   {
    "duration": 0,
    "start_time": "2023-03-06T03:40:11.774Z"
   },
   {
    "duration": 0,
    "start_time": "2023-03-06T03:40:11.775Z"
   },
   {
    "duration": 0,
    "start_time": "2023-03-06T03:40:11.776Z"
   },
   {
    "duration": 0,
    "start_time": "2023-03-06T03:40:11.780Z"
   },
   {
    "duration": 0,
    "start_time": "2023-03-06T03:40:11.782Z"
   },
   {
    "duration": 0,
    "start_time": "2023-03-06T03:40:11.783Z"
   },
   {
    "duration": 0,
    "start_time": "2023-03-06T03:40:11.784Z"
   },
   {
    "duration": 0,
    "start_time": "2023-03-06T03:40:11.785Z"
   },
   {
    "duration": 0,
    "start_time": "2023-03-06T03:40:11.786Z"
   },
   {
    "duration": 0,
    "start_time": "2023-03-06T03:40:11.787Z"
   },
   {
    "duration": 0,
    "start_time": "2023-03-06T03:40:11.788Z"
   },
   {
    "duration": 0,
    "start_time": "2023-03-06T03:40:11.790Z"
   },
   {
    "duration": 0,
    "start_time": "2023-03-06T03:40:11.791Z"
   },
   {
    "duration": 0,
    "start_time": "2023-03-06T03:40:11.792Z"
   },
   {
    "duration": 0,
    "start_time": "2023-03-06T03:40:11.793Z"
   },
   {
    "duration": 0,
    "start_time": "2023-03-06T03:40:11.794Z"
   },
   {
    "duration": 2505,
    "start_time": "2023-03-06T03:41:49.598Z"
   },
   {
    "duration": 2767,
    "start_time": "2023-03-06T03:41:52.106Z"
   },
   {
    "duration": 2585,
    "start_time": "2023-03-06T03:41:54.876Z"
   },
   {
    "duration": 1696,
    "start_time": "2023-03-06T03:41:57.464Z"
   },
   {
    "duration": 971,
    "start_time": "2023-03-06T03:41:59.162Z"
   },
   {
    "duration": 979,
    "start_time": "2023-03-06T03:42:00.135Z"
   },
   {
    "duration": 4,
    "start_time": "2023-03-06T03:42:01.115Z"
   },
   {
    "duration": 226,
    "start_time": "2023-03-06T03:42:01.121Z"
   },
   {
    "duration": 359,
    "start_time": "2023-03-06T03:42:01.352Z"
   },
   {
    "duration": 382,
    "start_time": "2023-03-06T03:42:01.715Z"
   },
   {
    "duration": 950,
    "start_time": "2023-03-06T03:42:02.100Z"
   },
   {
    "duration": 0,
    "start_time": "2023-03-06T03:42:03.055Z"
   },
   {
    "duration": 0,
    "start_time": "2023-03-06T03:42:03.057Z"
   },
   {
    "duration": 0,
    "start_time": "2023-03-06T03:42:03.058Z"
   },
   {
    "duration": 0,
    "start_time": "2023-03-06T03:42:03.060Z"
   },
   {
    "duration": 0,
    "start_time": "2023-03-06T03:42:03.062Z"
   },
   {
    "duration": 0,
    "start_time": "2023-03-06T03:42:03.064Z"
   },
   {
    "duration": 0,
    "start_time": "2023-03-06T03:42:03.065Z"
   },
   {
    "duration": 0,
    "start_time": "2023-03-06T03:42:03.066Z"
   },
   {
    "duration": 0,
    "start_time": "2023-03-06T03:42:03.068Z"
   },
   {
    "duration": 0,
    "start_time": "2023-03-06T03:42:03.070Z"
   },
   {
    "duration": 0,
    "start_time": "2023-03-06T03:42:03.072Z"
   },
   {
    "duration": 0,
    "start_time": "2023-03-06T03:42:03.074Z"
   },
   {
    "duration": 0,
    "start_time": "2023-03-06T03:42:03.075Z"
   },
   {
    "duration": 0,
    "start_time": "2023-03-06T03:42:03.077Z"
   },
   {
    "duration": 0,
    "start_time": "2023-03-06T03:42:03.078Z"
   },
   {
    "duration": 0,
    "start_time": "2023-03-06T03:42:03.079Z"
   },
   {
    "duration": 0,
    "start_time": "2023-03-06T03:42:03.080Z"
   },
   {
    "duration": 0,
    "start_time": "2023-03-06T03:42:03.083Z"
   },
   {
    "duration": 0,
    "start_time": "2023-03-06T03:42:03.084Z"
   },
   {
    "duration": 0,
    "start_time": "2023-03-06T03:42:03.086Z"
   },
   {
    "duration": 0,
    "start_time": "2023-03-06T03:42:03.087Z"
   },
   {
    "duration": 0,
    "start_time": "2023-03-06T03:42:03.088Z"
   },
   {
    "duration": 0,
    "start_time": "2023-03-06T03:42:03.090Z"
   },
   {
    "duration": 0,
    "start_time": "2023-03-06T03:42:03.092Z"
   },
   {
    "duration": 0,
    "start_time": "2023-03-06T03:42:03.093Z"
   },
   {
    "duration": 0,
    "start_time": "2023-03-06T03:42:03.146Z"
   },
   {
    "duration": 0,
    "start_time": "2023-03-06T03:42:03.147Z"
   },
   {
    "duration": 0,
    "start_time": "2023-03-06T03:42:03.148Z"
   },
   {
    "duration": 0,
    "start_time": "2023-03-06T03:42:03.149Z"
   },
   {
    "duration": 0,
    "start_time": "2023-03-06T03:42:03.150Z"
   },
   {
    "duration": 0,
    "start_time": "2023-03-06T03:42:03.151Z"
   },
   {
    "duration": 0,
    "start_time": "2023-03-06T03:42:03.152Z"
   },
   {
    "duration": 0,
    "start_time": "2023-03-06T03:42:03.153Z"
   },
   {
    "duration": 0,
    "start_time": "2023-03-06T03:42:03.154Z"
   },
   {
    "duration": 0,
    "start_time": "2023-03-06T03:42:03.155Z"
   },
   {
    "duration": 0,
    "start_time": "2023-03-06T03:42:03.156Z"
   },
   {
    "duration": 0,
    "start_time": "2023-03-06T03:42:03.159Z"
   },
   {
    "duration": 0,
    "start_time": "2023-03-06T03:42:03.160Z"
   },
   {
    "duration": 0,
    "start_time": "2023-03-06T03:42:03.161Z"
   },
   {
    "duration": 0,
    "start_time": "2023-03-06T03:42:03.162Z"
   },
   {
    "duration": 0,
    "start_time": "2023-03-06T03:42:03.163Z"
   },
   {
    "duration": 0,
    "start_time": "2023-03-06T03:42:03.165Z"
   },
   {
    "duration": 0,
    "start_time": "2023-03-06T03:42:03.167Z"
   },
   {
    "duration": 0,
    "start_time": "2023-03-06T03:42:03.169Z"
   },
   {
    "duration": 0,
    "start_time": "2023-03-06T03:42:03.172Z"
   },
   {
    "duration": 0,
    "start_time": "2023-03-06T03:42:03.173Z"
   },
   {
    "duration": 0,
    "start_time": "2023-03-06T03:42:03.175Z"
   },
   {
    "duration": 0,
    "start_time": "2023-03-06T03:42:03.177Z"
   },
   {
    "duration": 0,
    "start_time": "2023-03-06T03:42:03.178Z"
   },
   {
    "duration": 0,
    "start_time": "2023-03-06T03:42:03.180Z"
   },
   {
    "duration": 0,
    "start_time": "2023-03-06T03:42:03.181Z"
   },
   {
    "duration": 0,
    "start_time": "2023-03-06T03:42:03.183Z"
   },
   {
    "duration": 0,
    "start_time": "2023-03-06T03:42:03.184Z"
   },
   {
    "duration": 0,
    "start_time": "2023-03-06T03:42:03.242Z"
   },
   {
    "duration": 0,
    "start_time": "2023-03-06T03:42:03.243Z"
   },
   {
    "duration": 0,
    "start_time": "2023-03-06T03:42:03.244Z"
   },
   {
    "duration": 0,
    "start_time": "2023-03-06T03:42:03.244Z"
   },
   {
    "duration": 0,
    "start_time": "2023-03-06T03:42:03.245Z"
   },
   {
    "duration": 0,
    "start_time": "2023-03-06T03:42:03.246Z"
   },
   {
    "duration": 0,
    "start_time": "2023-03-06T03:42:03.247Z"
   },
   {
    "duration": 0,
    "start_time": "2023-03-06T03:42:03.247Z"
   },
   {
    "duration": 0,
    "start_time": "2023-03-06T03:42:03.248Z"
   },
   {
    "duration": 0,
    "start_time": "2023-03-06T03:42:03.249Z"
   },
   {
    "duration": 1,
    "start_time": "2023-03-06T03:42:03.249Z"
   },
   {
    "duration": 2590,
    "start_time": "2023-03-06T03:43:07.510Z"
   },
   {
    "duration": 2887,
    "start_time": "2023-03-06T03:43:10.103Z"
   },
   {
    "duration": 2511,
    "start_time": "2023-03-06T03:43:12.992Z"
   },
   {
    "duration": 1677,
    "start_time": "2023-03-06T03:43:15.506Z"
   },
   {
    "duration": 1181,
    "start_time": "2023-03-06T03:43:17.186Z"
   },
   {
    "duration": 1027,
    "start_time": "2023-03-06T03:43:18.369Z"
   },
   {
    "duration": 4,
    "start_time": "2023-03-06T03:43:19.397Z"
   },
   {
    "duration": 9,
    "start_time": "2023-03-06T03:43:19.402Z"
   },
   {
    "duration": 267,
    "start_time": "2023-03-06T03:43:19.413Z"
   },
   {
    "duration": 331,
    "start_time": "2023-03-06T03:43:19.683Z"
   },
   {
    "duration": 20,
    "start_time": "2023-03-06T03:43:20.016Z"
   },
   {
    "duration": 29,
    "start_time": "2023-03-06T03:43:20.045Z"
   },
   {
    "duration": 22,
    "start_time": "2023-03-06T03:43:20.076Z"
   },
   {
    "duration": 24,
    "start_time": "2023-03-06T03:43:20.101Z"
   },
   {
    "duration": 29,
    "start_time": "2023-03-06T03:43:20.143Z"
   },
   {
    "duration": 20,
    "start_time": "2023-03-06T03:43:20.174Z"
   },
   {
    "duration": 20,
    "start_time": "2023-03-06T03:43:20.196Z"
   },
   {
    "duration": 64,
    "start_time": "2023-03-06T03:43:20.218Z"
   },
   {
    "duration": 21,
    "start_time": "2023-03-06T03:43:20.283Z"
   },
   {
    "duration": 78,
    "start_time": "2023-03-06T03:43:20.306Z"
   },
   {
    "duration": 81,
    "start_time": "2023-03-06T03:43:20.386Z"
   },
   {
    "duration": 651,
    "start_time": "2023-03-06T03:43:20.469Z"
   },
   {
    "duration": 981,
    "start_time": "2023-03-06T03:43:21.122Z"
   },
   {
    "duration": 0,
    "start_time": "2023-03-06T03:43:22.107Z"
   },
   {
    "duration": 0,
    "start_time": "2023-03-06T03:43:22.109Z"
   },
   {
    "duration": 0,
    "start_time": "2023-03-06T03:43:22.111Z"
   },
   {
    "duration": 0,
    "start_time": "2023-03-06T03:43:22.112Z"
   },
   {
    "duration": 0,
    "start_time": "2023-03-06T03:43:22.113Z"
   },
   {
    "duration": 0,
    "start_time": "2023-03-06T03:43:22.115Z"
   },
   {
    "duration": 0,
    "start_time": "2023-03-06T03:43:22.116Z"
   },
   {
    "duration": 0,
    "start_time": "2023-03-06T03:43:22.119Z"
   },
   {
    "duration": 0,
    "start_time": "2023-03-06T03:43:22.121Z"
   },
   {
    "duration": 0,
    "start_time": "2023-03-06T03:43:22.123Z"
   },
   {
    "duration": 0,
    "start_time": "2023-03-06T03:43:22.124Z"
   },
   {
    "duration": 0,
    "start_time": "2023-03-06T03:43:22.126Z"
   },
   {
    "duration": 0,
    "start_time": "2023-03-06T03:43:22.127Z"
   },
   {
    "duration": 0,
    "start_time": "2023-03-06T03:43:22.129Z"
   },
   {
    "duration": 0,
    "start_time": "2023-03-06T03:43:22.130Z"
   },
   {
    "duration": 0,
    "start_time": "2023-03-06T03:43:22.132Z"
   },
   {
    "duration": 0,
    "start_time": "2023-03-06T03:43:22.133Z"
   },
   {
    "duration": 0,
    "start_time": "2023-03-06T03:43:22.134Z"
   },
   {
    "duration": 0,
    "start_time": "2023-03-06T03:43:22.136Z"
   },
   {
    "duration": 0,
    "start_time": "2023-03-06T03:43:22.138Z"
   },
   {
    "duration": 0,
    "start_time": "2023-03-06T03:43:22.140Z"
   },
   {
    "duration": 0,
    "start_time": "2023-03-06T03:43:22.145Z"
   },
   {
    "duration": 0,
    "start_time": "2023-03-06T03:43:22.146Z"
   },
   {
    "duration": 0,
    "start_time": "2023-03-06T03:43:22.147Z"
   },
   {
    "duration": 0,
    "start_time": "2023-03-06T03:43:22.148Z"
   },
   {
    "duration": 0,
    "start_time": "2023-03-06T03:43:22.152Z"
   },
   {
    "duration": 0,
    "start_time": "2023-03-06T03:43:22.153Z"
   },
   {
    "duration": 0,
    "start_time": "2023-03-06T03:43:22.154Z"
   },
   {
    "duration": 0,
    "start_time": "2023-03-06T03:43:22.154Z"
   },
   {
    "duration": 0,
    "start_time": "2023-03-06T03:43:22.155Z"
   },
   {
    "duration": 0,
    "start_time": "2023-03-06T03:43:22.155Z"
   },
   {
    "duration": 0,
    "start_time": "2023-03-06T03:43:22.156Z"
   },
   {
    "duration": 0,
    "start_time": "2023-03-06T03:43:22.157Z"
   },
   {
    "duration": 0,
    "start_time": "2023-03-06T03:43:22.158Z"
   },
   {
    "duration": 0,
    "start_time": "2023-03-06T03:43:22.165Z"
   },
   {
    "duration": 0,
    "start_time": "2023-03-06T03:43:22.166Z"
   },
   {
    "duration": 0,
    "start_time": "2023-03-06T03:43:22.167Z"
   },
   {
    "duration": 0,
    "start_time": "2023-03-06T03:43:22.168Z"
   },
   {
    "duration": 0,
    "start_time": "2023-03-06T03:43:22.169Z"
   },
   {
    "duration": 0,
    "start_time": "2023-03-06T03:43:22.175Z"
   },
   {
    "duration": 0,
    "start_time": "2023-03-06T03:43:22.176Z"
   },
   {
    "duration": 1,
    "start_time": "2023-03-06T03:43:22.177Z"
   },
   {
    "duration": 0,
    "start_time": "2023-03-06T03:43:22.179Z"
   },
   {
    "duration": 0,
    "start_time": "2023-03-06T03:43:22.180Z"
   },
   {
    "duration": 0,
    "start_time": "2023-03-06T03:43:22.181Z"
   },
   {
    "duration": 0,
    "start_time": "2023-03-06T03:43:22.183Z"
   },
   {
    "duration": 0,
    "start_time": "2023-03-06T03:43:22.184Z"
   },
   {
    "duration": 0,
    "start_time": "2023-03-06T03:43:22.186Z"
   },
   {
    "duration": 0,
    "start_time": "2023-03-06T03:43:22.188Z"
   },
   {
    "duration": 0,
    "start_time": "2023-03-06T03:43:22.189Z"
   },
   {
    "duration": 0,
    "start_time": "2023-03-06T03:43:22.191Z"
   },
   {
    "duration": 0,
    "start_time": "2023-03-06T03:43:22.192Z"
   },
   {
    "duration": 2509,
    "start_time": "2023-03-06T03:44:41.960Z"
   },
   {
    "duration": 2697,
    "start_time": "2023-03-06T03:44:44.471Z"
   },
   {
    "duration": 2522,
    "start_time": "2023-03-06T03:44:47.170Z"
   },
   {
    "duration": 1563,
    "start_time": "2023-03-06T03:44:49.695Z"
   },
   {
    "duration": 959,
    "start_time": "2023-03-06T03:44:51.265Z"
   },
   {
    "duration": 915,
    "start_time": "2023-03-06T03:44:52.226Z"
   },
   {
    "duration": 5,
    "start_time": "2023-03-06T03:44:53.145Z"
   },
   {
    "duration": 18,
    "start_time": "2023-03-06T03:44:53.152Z"
   },
   {
    "duration": 240,
    "start_time": "2023-03-06T03:44:53.172Z"
   },
   {
    "duration": 309,
    "start_time": "2023-03-06T03:44:53.415Z"
   },
   {
    "duration": 31,
    "start_time": "2023-03-06T03:44:53.726Z"
   },
   {
    "duration": 41,
    "start_time": "2023-03-06T03:44:53.759Z"
   },
   {
    "duration": 47,
    "start_time": "2023-03-06T03:44:53.802Z"
   },
   {
    "duration": 25,
    "start_time": "2023-03-06T03:44:53.852Z"
   },
   {
    "duration": 50,
    "start_time": "2023-03-06T03:44:53.879Z"
   },
   {
    "duration": 37,
    "start_time": "2023-03-06T03:44:53.931Z"
   },
   {
    "duration": 43,
    "start_time": "2023-03-06T03:44:53.970Z"
   },
   {
    "duration": 69,
    "start_time": "2023-03-06T03:44:54.015Z"
   },
   {
    "duration": 21,
    "start_time": "2023-03-06T03:44:54.086Z"
   },
   {
    "duration": 57,
    "start_time": "2023-03-06T03:44:54.108Z"
   },
   {
    "duration": 84,
    "start_time": "2023-03-06T03:44:54.167Z"
   },
   {
    "duration": 655,
    "start_time": "2023-03-06T03:44:54.258Z"
   },
   {
    "duration": 158,
    "start_time": "2023-03-06T03:44:54.915Z"
   },
   {
    "duration": 636,
    "start_time": "2023-03-06T03:44:55.074Z"
   },
   {
    "duration": 234,
    "start_time": "2023-03-06T03:44:55.712Z"
   },
   {
    "duration": 170,
    "start_time": "2023-03-06T03:44:55.949Z"
   },
   {
    "duration": 186,
    "start_time": "2023-03-06T03:44:56.121Z"
   },
   {
    "duration": 6,
    "start_time": "2023-03-06T03:44:56.313Z"
   },
   {
    "duration": 34,
    "start_time": "2023-03-06T03:44:56.326Z"
   },
   {
    "duration": 171,
    "start_time": "2023-03-06T03:44:56.362Z"
   },
   {
    "duration": 54,
    "start_time": "2023-03-06T03:44:56.535Z"
   },
   {
    "duration": 22,
    "start_time": "2023-03-06T03:44:56.592Z"
   },
   {
    "duration": 196,
    "start_time": "2023-03-06T03:44:56.617Z"
   },
   {
    "duration": 129,
    "start_time": "2023-03-06T03:44:56.815Z"
   },
   {
    "duration": 13,
    "start_time": "2023-03-06T03:44:56.951Z"
   },
   {
    "duration": 146,
    "start_time": "2023-03-06T03:44:56.967Z"
   },
   {
    "duration": 145,
    "start_time": "2023-03-06T03:44:57.115Z"
   },
   {
    "duration": 8,
    "start_time": "2023-03-06T03:44:57.263Z"
   },
   {
    "duration": 11,
    "start_time": "2023-03-06T03:44:57.273Z"
   },
   {
    "duration": 61,
    "start_time": "2023-03-06T03:44:57.289Z"
   },
   {
    "duration": 18,
    "start_time": "2023-03-06T03:44:57.353Z"
   },
   {
    "duration": 176,
    "start_time": "2023-03-06T03:44:57.373Z"
   },
   {
    "duration": 41,
    "start_time": "2023-03-06T03:44:57.555Z"
   },
   {
    "duration": 127,
    "start_time": "2023-03-06T03:44:57.598Z"
   },
   {
    "duration": 930,
    "start_time": "2023-03-06T03:44:57.728Z"
   },
   {
    "duration": 694,
    "start_time": "2023-03-06T03:44:58.660Z"
   },
   {
    "duration": 8,
    "start_time": "2023-03-06T03:44:59.357Z"
   },
   {
    "duration": 3,
    "start_time": "2023-03-06T03:44:59.367Z"
   },
   {
    "duration": 4,
    "start_time": "2023-03-06T03:44:59.372Z"
   },
   {
    "duration": 1241,
    "start_time": "2023-03-06T03:44:59.378Z"
   },
   {
    "duration": 25,
    "start_time": "2023-03-06T03:45:00.621Z"
   },
   {
    "duration": 117,
    "start_time": "2023-03-06T03:45:00.649Z"
   },
   {
    "duration": 5,
    "start_time": "2023-03-06T03:45:00.768Z"
   },
   {
    "duration": 43,
    "start_time": "2023-03-06T03:45:00.775Z"
   },
   {
    "duration": 39,
    "start_time": "2023-03-06T03:45:00.819Z"
   },
   {
    "duration": 86892,
    "start_time": "2023-03-06T03:45:00.860Z"
   },
   {
    "duration": 141936,
    "start_time": "2023-03-06T03:46:27.755Z"
   },
   {
    "duration": 4,
    "start_time": "2023-03-06T03:48:49.693Z"
   },
   {
    "duration": 5,
    "start_time": "2023-03-06T03:48:49.699Z"
   },
   {
    "duration": 31677,
    "start_time": "2023-03-06T03:48:49.705Z"
   },
   {
    "duration": 5091,
    "start_time": "2023-03-06T03:49:21.384Z"
   },
   {
    "duration": 108,
    "start_time": "2023-03-06T03:49:26.477Z"
   },
   {
    "duration": 3191,
    "start_time": "2023-03-06T03:55:00.959Z"
   },
   {
    "duration": 2949,
    "start_time": "2023-03-06T03:55:04.153Z"
   },
   {
    "duration": 1785,
    "start_time": "2023-03-06T03:55:07.105Z"
   },
   {
    "duration": 972,
    "start_time": "2023-03-06T03:55:08.892Z"
   },
   {
    "duration": 926,
    "start_time": "2023-03-06T03:55:09.867Z"
   },
   {
    "duration": 5,
    "start_time": "2023-03-06T03:55:10.795Z"
   },
   {
    "duration": 28,
    "start_time": "2023-03-06T03:55:10.801Z"
   },
   {
    "duration": 286,
    "start_time": "2023-03-06T03:55:10.830Z"
   },
   {
    "duration": 319,
    "start_time": "2023-03-06T03:55:11.118Z"
   },
   {
    "duration": 31,
    "start_time": "2023-03-06T03:55:11.438Z"
   },
   {
    "duration": 22,
    "start_time": "2023-03-06T03:55:11.472Z"
   },
   {
    "duration": 61,
    "start_time": "2023-03-06T03:55:11.496Z"
   },
   {
    "duration": 32,
    "start_time": "2023-03-06T03:55:11.562Z"
   },
   {
    "duration": 31,
    "start_time": "2023-03-06T03:55:11.598Z"
   },
   {
    "duration": 38,
    "start_time": "2023-03-06T03:55:11.631Z"
   },
   {
    "duration": 20,
    "start_time": "2023-03-06T03:55:11.671Z"
   },
   {
    "duration": 40,
    "start_time": "2023-03-06T03:55:11.693Z"
   },
   {
    "duration": 46,
    "start_time": "2023-03-06T03:55:11.735Z"
   },
   {
    "duration": 46,
    "start_time": "2023-03-06T03:55:11.784Z"
   },
   {
    "duration": 98,
    "start_time": "2023-03-06T03:55:11.832Z"
   },
   {
    "duration": 785,
    "start_time": "2023-03-06T03:55:11.940Z"
   },
   {
    "duration": 168,
    "start_time": "2023-03-06T03:55:12.727Z"
   },
   {
    "duration": 524,
    "start_time": "2023-03-06T03:55:12.897Z"
   },
   {
    "duration": 198,
    "start_time": "2023-03-06T03:55:13.423Z"
   },
   {
    "duration": 172,
    "start_time": "2023-03-06T03:55:13.624Z"
   },
   {
    "duration": 191,
    "start_time": "2023-03-06T03:55:13.798Z"
   },
   {
    "duration": 7,
    "start_time": "2023-03-06T03:55:13.991Z"
   },
   {
    "duration": 5,
    "start_time": "2023-03-06T03:55:14.000Z"
   },
   {
    "duration": 197,
    "start_time": "2023-03-06T03:55:14.007Z"
   },
   {
    "duration": 61,
    "start_time": "2023-03-06T03:55:14.206Z"
   },
   {
    "duration": 22,
    "start_time": "2023-03-06T03:55:14.269Z"
   },
   {
    "duration": 179,
    "start_time": "2023-03-06T03:55:14.293Z"
   },
   {
    "duration": 133,
    "start_time": "2023-03-06T03:55:14.474Z"
   },
   {
    "duration": 7,
    "start_time": "2023-03-06T03:55:14.609Z"
   },
   {
    "duration": 177,
    "start_time": "2023-03-06T03:55:14.618Z"
   },
   {
    "duration": 129,
    "start_time": "2023-03-06T03:55:14.796Z"
   },
   {
    "duration": 20,
    "start_time": "2023-03-06T03:55:14.927Z"
   },
   {
    "duration": 12,
    "start_time": "2023-03-06T03:55:14.949Z"
   },
   {
    "duration": 17,
    "start_time": "2023-03-06T03:55:14.964Z"
   },
   {
    "duration": 7,
    "start_time": "2023-03-06T03:55:14.983Z"
   },
   {
    "duration": 171,
    "start_time": "2023-03-06T03:55:14.996Z"
   },
   {
    "duration": 31,
    "start_time": "2023-03-06T03:55:15.170Z"
   },
   {
    "duration": 161,
    "start_time": "2023-03-06T03:55:15.203Z"
   },
   {
    "duration": 1021,
    "start_time": "2023-03-06T03:55:15.366Z"
   },
   {
    "duration": 762,
    "start_time": "2023-03-06T03:55:16.390Z"
   },
   {
    "duration": 9,
    "start_time": "2023-03-06T03:55:17.154Z"
   },
   {
    "duration": 5,
    "start_time": "2023-03-06T03:55:17.166Z"
   },
   {
    "duration": 4,
    "start_time": "2023-03-06T03:55:17.173Z"
   },
   {
    "duration": 1351,
    "start_time": "2023-03-06T03:55:17.179Z"
   },
   {
    "duration": 37,
    "start_time": "2023-03-06T03:55:18.532Z"
   },
   {
    "duration": 106,
    "start_time": "2023-03-06T03:55:18.571Z"
   },
   {
    "duration": 5,
    "start_time": "2023-03-06T03:55:18.681Z"
   },
   {
    "duration": 5,
    "start_time": "2023-03-06T03:55:18.688Z"
   },
   {
    "duration": 9,
    "start_time": "2023-03-06T03:55:18.694Z"
   },
   {
    "duration": 63449,
    "start_time": "2023-03-06T03:55:18.705Z"
   },
   {
    "duration": 144727,
    "start_time": "2023-03-06T03:56:22.181Z"
   },
   {
    "duration": 4,
    "start_time": "2023-03-06T03:58:46.911Z"
   },
   {
    "duration": 7,
    "start_time": "2023-03-06T03:58:46.918Z"
   },
   {
    "duration": 35395,
    "start_time": "2023-03-06T03:58:46.928Z"
   },
   {
    "duration": 5272,
    "start_time": "2023-03-06T03:59:22.326Z"
   },
   {
    "duration": 82,
    "start_time": "2023-03-06T03:59:27.599Z"
   },
   {
    "duration": 356874,
    "start_time": "2023-03-06T03:59:27.682Z"
   },
   {
    "duration": 10,
    "start_time": "2023-03-06T04:05:24.558Z"
   },
   {
    "duration": 7,
    "start_time": "2023-03-06T04:05:24.570Z"
   },
   {
    "duration": 37075,
    "start_time": "2023-03-06T04:05:24.580Z"
   },
   {
    "duration": 414,
    "start_time": "2023-03-06T04:06:01.657Z"
   },
   {
    "duration": 2818,
    "start_time": "2023-03-06T04:06:02.072Z"
   },
   {
    "duration": 69,
    "start_time": "2023-03-06T04:06:04.892Z"
   },
   {
    "duration": 34402,
    "start_time": "2023-03-06T04:06:04.963Z"
   },
   {
    "duration": 116,
    "start_time": "2023-03-06T04:06:39.367Z"
   },
   {
    "duration": 358974,
    "start_time": "2023-03-06T04:06:39.486Z"
   },
   {
    "duration": 597,
    "start_time": "2023-03-06T04:12:38.462Z"
   },
   {
    "duration": 18,
    "start_time": "2023-03-06T04:12:39.061Z"
   },
   {
    "duration": 35423,
    "start_time": "2023-03-06T04:12:39.081Z"
   }
  ],
  "kernelspec": {
   "display_name": "Python 3 (ipykernel)",
   "language": "python",
   "name": "python3"
  },
  "language_info": {
   "codemirror_mode": {
    "name": "ipython",
    "version": 3
   },
   "file_extension": ".py",
   "mimetype": "text/x-python",
   "name": "python",
   "nbconvert_exporter": "python",
   "pygments_lexer": "ipython3",
   "version": "3.9.5"
  },
  "toc": {
   "base_numbering": 1,
   "nav_menu": {
    "height": "111.997px",
    "width": "167.986px"
   },
   "number_sections": true,
   "sideBar": true,
   "skip_h1_title": true,
   "title_cell": "Table of Contents",
   "title_sidebar": "Contents",
   "toc_cell": false,
   "toc_position": {},
   "toc_section_display": true,
   "toc_window_display": false
  }
 },
 "nbformat": 4,
 "nbformat_minor": 2
}
