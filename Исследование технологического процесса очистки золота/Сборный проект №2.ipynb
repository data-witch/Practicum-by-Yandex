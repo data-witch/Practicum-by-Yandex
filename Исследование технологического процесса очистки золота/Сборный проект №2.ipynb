{
 "cells": [
  {
   "cell_type": "markdown",
   "metadata": {},
   "source": [
    "# Восстановление золота из руды"
   ]
  },
  {
   "cell_type": "markdown",
   "metadata": {},
   "source": [
    "Необходимо подготовить прототип модели машинного обучения для «Цифры». Компания разрабатывает решения для эффективной работы промышленных предприятий.\n",
    "\n",
    "Модель должна предсказать коэффициент восстановления золота из золотосодержащей руды. Используйте данные с параметрами добычи и очистки. \n",
    "\n",
    "Модель поможет оптимизировать производство, чтобы не запускать предприятие с убыточными характеристиками.\n",
    "\n",
    "Необходимо:\n",
    "\n",
    "1. Подготовить данные;\n",
    "2. Провести исследовательский анализ данных;\n",
    "3. Построить и обучить модель.\n",
    "\n",
    "Для выполнения проекта понадобятся библиотеки *pandas*, *matplotlib* и *sklearn.*\n",
    "\n",
    "**Описание проекта**\n",
    "\n",
    "Данные находятся в трёх файлах:\n",
    "gold_recovery_train_new.csv — обучающая выборка;\n",
    "gold_recovery_test_new.csv — тестовая выборка;\n",
    "gold_recovery_full_new.csv — исходные данные.\n",
    "\n",
    "Данные индексируются датой и временем получения информации (признак date). Соседние по времени параметры часто похожи.\n",
    "Некоторые параметры недоступны, потому что замеряются и/или рассчитываются значительно позже. Из-за этого в тестовой выборке отсутствуют некоторые признаки, которые могут быть в обучающей. Также в тестовом наборе нет целевых признаков.\n",
    "Исходный датасет содержит обучающую и тестовую выборки со всеми признаками.\n",
    "В распоряжении сырые данные: их просто выгрузили из хранилища. Прежде чем приступить к построению модели, необходимо проверить их на корректность.\n",
    "\n",
    "\n",
    "**Инструкция по выполнению проекта**\n",
    "\n",
    "1. Подготовить данные\n",
    "- Открыть файлы и изучить их\n",
    "- Проверить, что эффективность обогащения рассчитана правильно. Вычислить её на обучающей выборке для признака rougher.output.recovery. Найти MAE между расчётами и значением признака. Сделать выводы.\n",
    "- Проанализировать признаки, недоступные в тестовой выборке. Что это за параметры? К какому типу относятся?\n",
    "- Провести предобработку данных.\n",
    "\n",
    "2. Проанализировать данные\n",
    "- Посмотреть, как меняется концентрация металлов (Au, Ag, Pb) на различных этапах очистки. Сделать выводы.\n",
    "- Сравнить распределения размеров гранул сырья на обучающей и тестовой выборках. Если распределения сильно отличаются друг от друга, оценка модели будет неправильной.\n",
    "- Исследовать суммарную концентрацию всех веществ на разных стадиях: в сырье, в черновом и финальном концентратах.\n",
    "\n",
    "3. Построить модель\n",
    "- Написать функцию для вычисления итоговой sMAPE.\n",
    "- Обучить разные модели и оценить их качество кросс-валидацией. Выберать лучшую модель и проверить её на тестовой выборке. Сделать выводы.\n",
    "\n",
    "**Цель проекта:**\n",
    "\n",
    "Подготовить прототип модели машинного обучения, которая будет предсказать коэффициент восстановления золота из золотосодержащей руды. Модель поможет оптимизировать производство, чтобы не запускать предприятие с убыточными характеристиками."
   ]
  },
  {
   "cell_type": "markdown",
   "metadata": {},
   "source": [
    "## Подготовка данных"
   ]
  },
  {
   "cell_type": "markdown",
   "metadata": {},
   "source": [
    "Загрузим, изучим и подготовим данные для выполнения проекта. \n",
    "Импортируем все необходимые библиотеки и структуры данных в начале проекта."
   ]
  },
  {
   "cell_type": "code",
   "execution_count": 1,
   "metadata": {},
   "outputs": [
    {
     "name": "stdout",
     "output_type": "stream",
     "text": [
      "Requirement already satisfied: optuna in /opt/conda/lib/python3.9/site-packages (3.0.2)\n",
      "Requirement already satisfied: cmaes>=0.8.2 in /opt/conda/lib/python3.9/site-packages (from optuna) (0.8.2)\n",
      "Requirement already satisfied: alembic>=1.5.0 in /opt/conda/lib/python3.9/site-packages (from optuna) (1.6.5)\n",
      "Requirement already satisfied: scipy<1.9.0,>=1.7.0 in /opt/conda/lib/python3.9/site-packages (from optuna) (1.8.1)\n",
      "Requirement already satisfied: sqlalchemy>=1.3.0 in /opt/conda/lib/python3.9/site-packages (from optuna) (1.4.20)\n",
      "Requirement already satisfied: tqdm in /opt/conda/lib/python3.9/site-packages (from optuna) (4.61.2)\n",
      "Requirement already satisfied: PyYAML in /opt/conda/lib/python3.9/site-packages (from optuna) (6.0)\n",
      "Requirement already satisfied: packaging>=20.0 in /opt/conda/lib/python3.9/site-packages (from optuna) (21.3)\n",
      "Requirement already satisfied: colorlog in /opt/conda/lib/python3.9/site-packages (from optuna) (6.7.0)\n",
      "Requirement already satisfied: cliff in /opt/conda/lib/python3.9/site-packages (from optuna) (4.0.0)\n",
      "Requirement already satisfied: numpy in /opt/conda/lib/python3.9/site-packages (from optuna) (1.21.1)\n",
      "Requirement already satisfied: python-dateutil in /opt/conda/lib/python3.9/site-packages (from alembic>=1.5.0->optuna) (2.8.1)\n",
      "Requirement already satisfied: python-editor>=0.3 in /opt/conda/lib/python3.9/site-packages (from alembic>=1.5.0->optuna) (1.0.4)\n",
      "Requirement already satisfied: Mako in /opt/conda/lib/python3.9/site-packages (from alembic>=1.5.0->optuna) (1.1.4)\n",
      "Requirement already satisfied: pyparsing!=3.0.5,>=2.0.2 in /opt/conda/lib/python3.9/site-packages (from packaging>=20.0->optuna) (2.4.7)\n",
      "Requirement already satisfied: greenlet!=0.4.17 in /opt/conda/lib/python3.9/site-packages (from sqlalchemy>=1.3.0->optuna) (1.1.0)\n",
      "Requirement already satisfied: importlib-metadata>=4.4 in /opt/conda/lib/python3.9/site-packages (from cliff->optuna) (4.6.1)\n",
      "Requirement already satisfied: cmd2>=1.0.0 in /opt/conda/lib/python3.9/site-packages (from cliff->optuna) (2.4.2)\n",
      "Requirement already satisfied: stevedore>=2.0.1 in /opt/conda/lib/python3.9/site-packages (from cliff->optuna) (4.0.0)\n",
      "Requirement already satisfied: PrettyTable>=0.7.2 in /opt/conda/lib/python3.9/site-packages (from cliff->optuna) (3.4.1)\n",
      "Requirement already satisfied: autopage>=0.4.0 in /opt/conda/lib/python3.9/site-packages (from cliff->optuna) (0.5.1)\n",
      "Requirement already satisfied: pyperclip>=1.6 in /opt/conda/lib/python3.9/site-packages (from cmd2>=1.0.0->cliff->optuna) (1.8.2)\n",
      "Requirement already satisfied: wcwidth>=0.1.7 in /opt/conda/lib/python3.9/site-packages (from cmd2>=1.0.0->cliff->optuna) (0.2.5)\n",
      "Requirement already satisfied: attrs>=16.3.0 in /opt/conda/lib/python3.9/site-packages (from cmd2>=1.0.0->cliff->optuna) (21.2.0)\n",
      "Requirement already satisfied: zipp>=0.5 in /opt/conda/lib/python3.9/site-packages (from importlib-metadata>=4.4->cliff->optuna) (3.5.0)\n",
      "Requirement already satisfied: pbr!=2.1.0,>=2.0.0 in /opt/conda/lib/python3.9/site-packages (from stevedore>=2.0.1->cliff->optuna) (5.10.0)\n",
      "Requirement already satisfied: MarkupSafe>=0.9.2 in /opt/conda/lib/python3.9/site-packages (from Mako->alembic>=1.5.0->optuna) (2.1.1)\n",
      "Requirement already satisfied: six>=1.5 in /opt/conda/lib/python3.9/site-packages (from python-dateutil->alembic>=1.5.0->optuna) (1.16.0)\n",
      "Note: you may need to restart the kernel to use updated packages.\n"
     ]
    }
   ],
   "source": [
    "pip install optuna"
   ]
  },
  {
   "cell_type": "code",
   "execution_count": 2,
   "metadata": {},
   "outputs": [],
   "source": [
    "import pandas as pd\n",
    "import numpy as np\n",
    "import seaborn as sns\n",
    "import matplotlib.pyplot as plt\n",
    "from sklearn.linear_model import LinearRegression\n",
    "from sklearn.tree import DecisionTreeRegressor\n",
    "from sklearn.ensemble import RandomForestRegressor\n",
    "from sklearn.metrics import mean_absolute_error, make_scorer\n",
    "from sklearn.model_selection import GridSearchCV, cross_val_score\n",
    "import optuna"
   ]
  },
  {
   "cell_type": "code",
   "execution_count": 3,
   "metadata": {},
   "outputs": [],
   "source": [
    "data_train = pd.read_csv('/datasets/gold_recovery_train_new.csv')\n",
    "data_test = pd.read_csv('/datasets/gold_recovery_test_new.csv')\n",
    "data_full = pd.read_csv('/datasets/gold_recovery_full_new.csv')"
   ]
  },
  {
   "cell_type": "code",
   "execution_count": 4,
   "metadata": {},
   "outputs": [],
   "source": [
    "def view(df):\n",
    "    print('Сводная информация')\n",
    "    print()\n",
    "    df.info()\n",
    "    print()\n",
    "    print('Числовое описание данных')\n",
    "    print(df.describe())\n",
    "    print()\n",
    "    print('Наличие пропусков')\n",
    "    print(df.isnull().sum())\n",
    "    print()\n",
    "    print('Наличие дубликатов')\n",
    "    print(df.duplicated().sum())\n",
    "    print()\n",
    "    print('Данные ')\n",
    "    print(display(df))\n",
    "    return"
   ]
  },
  {
   "cell_type": "code",
   "execution_count": 5,
   "metadata": {},
   "outputs": [
    {
     "name": "stdout",
     "output_type": "stream",
     "text": [
      "Сводная информация\n",
      "\n",
      "<class 'pandas.core.frame.DataFrame'>\n",
      "RangeIndex: 14149 entries, 0 to 14148\n",
      "Data columns (total 87 columns):\n",
      " #   Column                                              Non-Null Count  Dtype  \n",
      "---  ------                                              --------------  -----  \n",
      " 0   date                                                14149 non-null  object \n",
      " 1   final.output.concentrate_ag                         14148 non-null  float64\n",
      " 2   final.output.concentrate_pb                         14148 non-null  float64\n",
      " 3   final.output.concentrate_sol                        13938 non-null  float64\n",
      " 4   final.output.concentrate_au                         14149 non-null  float64\n",
      " 5   final.output.recovery                               14149 non-null  float64\n",
      " 6   final.output.tail_ag                                14149 non-null  float64\n",
      " 7   final.output.tail_pb                                14049 non-null  float64\n",
      " 8   final.output.tail_sol                               14144 non-null  float64\n",
      " 9   final.output.tail_au                                14149 non-null  float64\n",
      " 10  primary_cleaner.input.sulfate                       14129 non-null  float64\n",
      " 11  primary_cleaner.input.depressant                    14117 non-null  float64\n",
      " 12  primary_cleaner.input.feed_size                     14149 non-null  float64\n",
      " 13  primary_cleaner.input.xanthate                      14049 non-null  float64\n",
      " 14  primary_cleaner.output.concentrate_ag               14149 non-null  float64\n",
      " 15  primary_cleaner.output.concentrate_pb               14063 non-null  float64\n",
      " 16  primary_cleaner.output.concentrate_sol              13863 non-null  float64\n",
      " 17  primary_cleaner.output.concentrate_au               14149 non-null  float64\n",
      " 18  primary_cleaner.output.tail_ag                      14148 non-null  float64\n",
      " 19  primary_cleaner.output.tail_pb                      14134 non-null  float64\n",
      " 20  primary_cleaner.output.tail_sol                     14103 non-null  float64\n",
      " 21  primary_cleaner.output.tail_au                      14149 non-null  float64\n",
      " 22  primary_cleaner.state.floatbank8_a_air              14145 non-null  float64\n",
      " 23  primary_cleaner.state.floatbank8_a_level            14148 non-null  float64\n",
      " 24  primary_cleaner.state.floatbank8_b_air              14145 non-null  float64\n",
      " 25  primary_cleaner.state.floatbank8_b_level            14148 non-null  float64\n",
      " 26  primary_cleaner.state.floatbank8_c_air              14147 non-null  float64\n",
      " 27  primary_cleaner.state.floatbank8_c_level            14148 non-null  float64\n",
      " 28  primary_cleaner.state.floatbank8_d_air              14146 non-null  float64\n",
      " 29  primary_cleaner.state.floatbank8_d_level            14148 non-null  float64\n",
      " 30  rougher.calculation.sulfate_to_au_concentrate       14148 non-null  float64\n",
      " 31  rougher.calculation.floatbank10_sulfate_to_au_feed  14148 non-null  float64\n",
      " 32  rougher.calculation.floatbank11_sulfate_to_au_feed  14148 non-null  float64\n",
      " 33  rougher.calculation.au_pb_ratio                     14149 non-null  float64\n",
      " 34  rougher.input.feed_ag                               14149 non-null  float64\n",
      " 35  rougher.input.feed_pb                               14049 non-null  float64\n",
      " 36  rougher.input.feed_rate                             14141 non-null  float64\n",
      " 37  rougher.input.feed_size                             14005 non-null  float64\n",
      " 38  rougher.input.feed_sol                              14071 non-null  float64\n",
      " 39  rougher.input.feed_au                               14149 non-null  float64\n",
      " 40  rougher.input.floatbank10_sulfate                   14120 non-null  float64\n",
      " 41  rougher.input.floatbank10_xanthate                  14141 non-null  float64\n",
      " 42  rougher.input.floatbank11_sulfate                   14113 non-null  float64\n",
      " 43  rougher.input.floatbank11_xanthate                  13721 non-null  float64\n",
      " 44  rougher.output.concentrate_ag                       14149 non-null  float64\n",
      " 45  rougher.output.concentrate_pb                       14149 non-null  float64\n",
      " 46  rougher.output.concentrate_sol                      14127 non-null  float64\n",
      " 47  rougher.output.concentrate_au                       14149 non-null  float64\n",
      " 48  rougher.output.recovery                             14149 non-null  float64\n",
      " 49  rougher.output.tail_ag                              14148 non-null  float64\n",
      " 50  rougher.output.tail_pb                              14149 non-null  float64\n",
      " 51  rougher.output.tail_sol                             14149 non-null  float64\n",
      " 52  rougher.output.tail_au                              14149 non-null  float64\n",
      " 53  rougher.state.floatbank10_a_air                     14148 non-null  float64\n",
      " 54  rougher.state.floatbank10_a_level                   14148 non-null  float64\n",
      " 55  rougher.state.floatbank10_b_air                     14148 non-null  float64\n",
      " 56  rougher.state.floatbank10_b_level                   14148 non-null  float64\n",
      " 57  rougher.state.floatbank10_c_air                     14148 non-null  float64\n",
      " 58  rougher.state.floatbank10_c_level                   14148 non-null  float64\n",
      " 59  rougher.state.floatbank10_d_air                     14149 non-null  float64\n",
      " 60  rougher.state.floatbank10_d_level                   14149 non-null  float64\n",
      " 61  rougher.state.floatbank10_e_air                     13713 non-null  float64\n",
      " 62  rougher.state.floatbank10_e_level                   14149 non-null  float64\n",
      " 63  rougher.state.floatbank10_f_air                     14149 non-null  float64\n",
      " 64  rougher.state.floatbank10_f_level                   14149 non-null  float64\n",
      " 65  secondary_cleaner.output.tail_ag                    14147 non-null  float64\n",
      " 66  secondary_cleaner.output.tail_pb                    14139 non-null  float64\n",
      " 67  secondary_cleaner.output.tail_sol                   12544 non-null  float64\n",
      " 68  secondary_cleaner.output.tail_au                    14149 non-null  float64\n",
      " 69  secondary_cleaner.state.floatbank2_a_air            13932 non-null  float64\n",
      " 70  secondary_cleaner.state.floatbank2_a_level          14148 non-null  float64\n",
      " 71  secondary_cleaner.state.floatbank2_b_air            14128 non-null  float64\n",
      " 72  secondary_cleaner.state.floatbank2_b_level          14148 non-null  float64\n",
      " 73  secondary_cleaner.state.floatbank3_a_air            14145 non-null  float64\n",
      " 74  secondary_cleaner.state.floatbank3_a_level          14148 non-null  float64\n",
      " 75  secondary_cleaner.state.floatbank3_b_air            14148 non-null  float64\n",
      " 76  secondary_cleaner.state.floatbank3_b_level          14148 non-null  float64\n",
      " 77  secondary_cleaner.state.floatbank4_a_air            14143 non-null  float64\n",
      " 78  secondary_cleaner.state.floatbank4_a_level          14148 non-null  float64\n",
      " 79  secondary_cleaner.state.floatbank4_b_air            14148 non-null  float64\n",
      " 80  secondary_cleaner.state.floatbank4_b_level          14148 non-null  float64\n",
      " 81  secondary_cleaner.state.floatbank5_a_air            14148 non-null  float64\n",
      " 82  secondary_cleaner.state.floatbank5_a_level          14148 non-null  float64\n",
      " 83  secondary_cleaner.state.floatbank5_b_air            14148 non-null  float64\n",
      " 84  secondary_cleaner.state.floatbank5_b_level          14148 non-null  float64\n",
      " 85  secondary_cleaner.state.floatbank6_a_air            14147 non-null  float64\n",
      " 86  secondary_cleaner.state.floatbank6_a_level          14148 non-null  float64\n",
      "dtypes: float64(86), object(1)\n",
      "memory usage: 9.4+ MB\n",
      "\n",
      "Числовое описание данных\n",
      "       final.output.concentrate_ag  final.output.concentrate_pb  \\\n",
      "count                 14148.000000                 14148.000000   \n",
      "mean                      5.142034                    10.132960   \n",
      "std                       1.369586                     1.654930   \n",
      "min                       0.000000                     0.000000   \n",
      "25%                       4.211620                     9.297355   \n",
      "50%                       4.994652                    10.297144   \n",
      "75%                       5.859540                    11.170603   \n",
      "max                      16.001945                    17.031899   \n",
      "\n",
      "       final.output.concentrate_sol  final.output.concentrate_au  \\\n",
      "count                  13938.000000                 14149.000000   \n",
      "mean                       9.202849                    44.003792   \n",
      "std                        2.790516                     4.905261   \n",
      "min                        0.000000                     0.000000   \n",
      "25%                        7.484645                    43.276111   \n",
      "50%                        8.845462                    44.872436   \n",
      "75%                       10.487508                    46.166425   \n",
      "max                       18.124851                    52.756638   \n",
      "\n",
      "       final.output.recovery  final.output.tail_ag  final.output.tail_pb  \\\n",
      "count           14149.000000          14149.000000          14049.000000   \n",
      "mean               66.518832              9.607035              2.597298   \n",
      "std                10.295402              2.319069              0.971843   \n",
      "min                 0.000000              0.000000              0.000000   \n",
      "25%                62.545817              7.997429              1.905973   \n",
      "50%                67.432775              9.480270              2.592022   \n",
      "75%                72.346428             11.003707              3.241723   \n",
      "max               100.000000             19.552149              5.639565   \n",
      "\n",
      "       final.output.tail_sol  final.output.tail_au  \\\n",
      "count           14144.000000          14149.000000   \n",
      "mean               10.512122              2.918421   \n",
      "std                 3.003617              0.903712   \n",
      "min                 0.000000              0.000000   \n",
      "25%                 8.811324              2.368607   \n",
      "50%                10.514621              2.851025   \n",
      "75%                11.933009              3.434764   \n",
      "max                22.317730              8.197408   \n",
      "\n",
      "       primary_cleaner.input.sulfate  ...  \\\n",
      "count                   14129.000000  ...   \n",
      "mean                      133.320659  ...   \n",
      "std                        39.431659  ...   \n",
      "min                         0.003112  ...   \n",
      "25%                       107.006651  ...   \n",
      "50%                       133.018328  ...   \n",
      "75%                       159.825396  ...   \n",
      "max                       250.127834  ...   \n",
      "\n",
      "       secondary_cleaner.state.floatbank4_a_air  \\\n",
      "count                              14143.000000   \n",
      "mean                                  19.985454   \n",
      "std                                    5.657723   \n",
      "min                                    0.000000   \n",
      "25%                                   14.990775   \n",
      "50%                                   20.001789   \n",
      "75%                                   24.990826   \n",
      "max                                   30.115735   \n",
      "\n",
      "       secondary_cleaner.state.floatbank4_a_level  \\\n",
      "count                                14148.000000   \n",
      "mean                                  -478.696836   \n",
      "std                                     50.736021   \n",
      "min                                   -799.709069   \n",
      "25%                                   -500.628656   \n",
      "50%                                   -499.681450   \n",
      "75%                                   -477.472413   \n",
      "max                                   -245.239184   \n",
      "\n",
      "       secondary_cleaner.state.floatbank4_b_air  \\\n",
      "count                              14148.000000   \n",
      "mean                                  15.487065   \n",
      "std                                    5.255655   \n",
      "min                                    0.000000   \n",
      "25%                                   11.894558   \n",
      "50%                                   14.975536   \n",
      "75%                                   20.059375   \n",
      "max                                   24.007913   \n",
      "\n",
      "       secondary_cleaner.state.floatbank4_b_level  \\\n",
      "count                                14148.000000   \n",
      "mean                                  -460.229416   \n",
      "std                                     58.843586   \n",
      "min                                   -799.889113   \n",
      "25%                                   -500.149000   \n",
      "50%                                   -499.388738   \n",
      "75%                                   -400.039008   \n",
      "max                                   -145.071088   \n",
      "\n",
      "       secondary_cleaner.state.floatbank5_a_air  \\\n",
      "count                              14148.000000   \n",
      "mean                                  16.775136   \n",
      "std                                    5.831906   \n",
      "min                                   -0.372054   \n",
      "25%                                   11.083980   \n",
      "50%                                   17.932223   \n",
      "75%                                   21.346550   \n",
      "max                                   43.709931   \n",
      "\n",
      "       secondary_cleaner.state.floatbank5_a_level  \\\n",
      "count                                14148.000000   \n",
      "mean                                  -483.956022   \n",
      "std                                     37.892788   \n",
      "min                                   -797.142475   \n",
      "25%                                   -500.363177   \n",
      "50%                                   -499.702452   \n",
      "75%                                   -487.712108   \n",
      "max                                   -275.073125   \n",
      "\n",
      "       secondary_cleaner.state.floatbank5_b_air  \\\n",
      "count                              14148.000000   \n",
      "mean                                  13.064590   \n",
      "std                                    5.765617   \n",
      "min                                    0.646208   \n",
      "25%                                    8.994405   \n",
      "50%                                   11.997547   \n",
      "75%                                   17.982903   \n",
      "max                                   27.926001   \n",
      "\n",
      "       secondary_cleaner.state.floatbank5_b_level  \\\n",
      "count                                14148.000000   \n",
      "mean                                  -483.966564   \n",
      "std                                     39.207913   \n",
      "min                                   -800.006180   \n",
      "25%                                   -500.105994   \n",
      "50%                                   -499.914556   \n",
      "75%                                   -453.186936   \n",
      "max                                   -157.396071   \n",
      "\n",
      "       secondary_cleaner.state.floatbank6_a_air  \\\n",
      "count                              14147.000000   \n",
      "mean                                  19.577539   \n",
      "std                                    5.764417   \n",
      "min                                    0.195324   \n",
      "25%                                   14.989304   \n",
      "50%                                   19.984175   \n",
      "75%                                   24.991623   \n",
      "max                                   32.188906   \n",
      "\n",
      "       secondary_cleaner.state.floatbank6_a_level  \n",
      "count                                14148.000000  \n",
      "mean                                  -506.798480  \n",
      "std                                     37.079249  \n",
      "min                                   -809.398668  \n",
      "25%                                   -500.745104  \n",
      "50%                                   -500.061431  \n",
      "75%                                   -499.536466  \n",
      "max                                   -104.427459  \n",
      "\n",
      "[8 rows x 86 columns]\n",
      "\n",
      "Наличие пропусков\n",
      "date                                            0\n",
      "final.output.concentrate_ag                     1\n",
      "final.output.concentrate_pb                     1\n",
      "final.output.concentrate_sol                  211\n",
      "final.output.concentrate_au                     0\n",
      "                                             ... \n",
      "secondary_cleaner.state.floatbank5_a_level      1\n",
      "secondary_cleaner.state.floatbank5_b_air        1\n",
      "secondary_cleaner.state.floatbank5_b_level      1\n",
      "secondary_cleaner.state.floatbank6_a_air        2\n",
      "secondary_cleaner.state.floatbank6_a_level      1\n",
      "Length: 87, dtype: int64\n",
      "\n",
      "Наличие дубликатов\n",
      "0\n",
      "\n",
      "Данные \n"
     ]
    },
    {
     "data": {
      "text/html": [
       "<div>\n",
       "<style scoped>\n",
       "    .dataframe tbody tr th:only-of-type {\n",
       "        vertical-align: middle;\n",
       "    }\n",
       "\n",
       "    .dataframe tbody tr th {\n",
       "        vertical-align: top;\n",
       "    }\n",
       "\n",
       "    .dataframe thead th {\n",
       "        text-align: right;\n",
       "    }\n",
       "</style>\n",
       "<table border=\"1\" class=\"dataframe\">\n",
       "  <thead>\n",
       "    <tr style=\"text-align: right;\">\n",
       "      <th></th>\n",
       "      <th>date</th>\n",
       "      <th>final.output.concentrate_ag</th>\n",
       "      <th>final.output.concentrate_pb</th>\n",
       "      <th>final.output.concentrate_sol</th>\n",
       "      <th>final.output.concentrate_au</th>\n",
       "      <th>final.output.recovery</th>\n",
       "      <th>final.output.tail_ag</th>\n",
       "      <th>final.output.tail_pb</th>\n",
       "      <th>final.output.tail_sol</th>\n",
       "      <th>final.output.tail_au</th>\n",
       "      <th>...</th>\n",
       "      <th>secondary_cleaner.state.floatbank4_a_air</th>\n",
       "      <th>secondary_cleaner.state.floatbank4_a_level</th>\n",
       "      <th>secondary_cleaner.state.floatbank4_b_air</th>\n",
       "      <th>secondary_cleaner.state.floatbank4_b_level</th>\n",
       "      <th>secondary_cleaner.state.floatbank5_a_air</th>\n",
       "      <th>secondary_cleaner.state.floatbank5_a_level</th>\n",
       "      <th>secondary_cleaner.state.floatbank5_b_air</th>\n",
       "      <th>secondary_cleaner.state.floatbank5_b_level</th>\n",
       "      <th>secondary_cleaner.state.floatbank6_a_air</th>\n",
       "      <th>secondary_cleaner.state.floatbank6_a_level</th>\n",
       "    </tr>\n",
       "  </thead>\n",
       "  <tbody>\n",
       "    <tr>\n",
       "      <th>0</th>\n",
       "      <td>2016-01-15 00:00:00</td>\n",
       "      <td>6.055403</td>\n",
       "      <td>9.889648</td>\n",
       "      <td>5.507324</td>\n",
       "      <td>42.192020</td>\n",
       "      <td>70.541216</td>\n",
       "      <td>10.411962</td>\n",
       "      <td>0.895447</td>\n",
       "      <td>16.904297</td>\n",
       "      <td>2.143149</td>\n",
       "      <td>...</td>\n",
       "      <td>14.016835</td>\n",
       "      <td>-502.488007</td>\n",
       "      <td>12.099931</td>\n",
       "      <td>-504.715942</td>\n",
       "      <td>9.925633</td>\n",
       "      <td>-498.310211</td>\n",
       "      <td>8.079666</td>\n",
       "      <td>-500.470978</td>\n",
       "      <td>14.151341</td>\n",
       "      <td>-605.841980</td>\n",
       "    </tr>\n",
       "    <tr>\n",
       "      <th>1</th>\n",
       "      <td>2016-01-15 01:00:00</td>\n",
       "      <td>6.029369</td>\n",
       "      <td>9.968944</td>\n",
       "      <td>5.257781</td>\n",
       "      <td>42.701629</td>\n",
       "      <td>69.266198</td>\n",
       "      <td>10.462676</td>\n",
       "      <td>0.927452</td>\n",
       "      <td>16.634514</td>\n",
       "      <td>2.224930</td>\n",
       "      <td>...</td>\n",
       "      <td>13.992281</td>\n",
       "      <td>-505.503262</td>\n",
       "      <td>11.950531</td>\n",
       "      <td>-501.331529</td>\n",
       "      <td>10.039245</td>\n",
       "      <td>-500.169983</td>\n",
       "      <td>7.984757</td>\n",
       "      <td>-500.582168</td>\n",
       "      <td>13.998353</td>\n",
       "      <td>-599.787184</td>\n",
       "    </tr>\n",
       "    <tr>\n",
       "      <th>2</th>\n",
       "      <td>2016-01-15 02:00:00</td>\n",
       "      <td>6.055926</td>\n",
       "      <td>10.213995</td>\n",
       "      <td>5.383759</td>\n",
       "      <td>42.657501</td>\n",
       "      <td>68.116445</td>\n",
       "      <td>10.507046</td>\n",
       "      <td>0.953716</td>\n",
       "      <td>16.208849</td>\n",
       "      <td>2.257889</td>\n",
       "      <td>...</td>\n",
       "      <td>14.015015</td>\n",
       "      <td>-502.520901</td>\n",
       "      <td>11.912783</td>\n",
       "      <td>-501.133383</td>\n",
       "      <td>10.070913</td>\n",
       "      <td>-500.129135</td>\n",
       "      <td>8.013877</td>\n",
       "      <td>-500.517572</td>\n",
       "      <td>14.028663</td>\n",
       "      <td>-601.427363</td>\n",
       "    </tr>\n",
       "    <tr>\n",
       "      <th>3</th>\n",
       "      <td>2016-01-15 03:00:00</td>\n",
       "      <td>6.047977</td>\n",
       "      <td>9.977019</td>\n",
       "      <td>4.858634</td>\n",
       "      <td>42.689819</td>\n",
       "      <td>68.347543</td>\n",
       "      <td>10.422762</td>\n",
       "      <td>0.883763</td>\n",
       "      <td>16.532835</td>\n",
       "      <td>2.146849</td>\n",
       "      <td>...</td>\n",
       "      <td>14.036510</td>\n",
       "      <td>-500.857308</td>\n",
       "      <td>11.999550</td>\n",
       "      <td>-501.193686</td>\n",
       "      <td>9.970366</td>\n",
       "      <td>-499.201640</td>\n",
       "      <td>7.977324</td>\n",
       "      <td>-500.255908</td>\n",
       "      <td>14.005551</td>\n",
       "      <td>-599.996129</td>\n",
       "    </tr>\n",
       "    <tr>\n",
       "      <th>4</th>\n",
       "      <td>2016-01-15 04:00:00</td>\n",
       "      <td>6.148599</td>\n",
       "      <td>10.142511</td>\n",
       "      <td>4.939416</td>\n",
       "      <td>42.774141</td>\n",
       "      <td>66.927016</td>\n",
       "      <td>10.360302</td>\n",
       "      <td>0.792826</td>\n",
       "      <td>16.525686</td>\n",
       "      <td>2.055292</td>\n",
       "      <td>...</td>\n",
       "      <td>14.027298</td>\n",
       "      <td>-499.838632</td>\n",
       "      <td>11.953070</td>\n",
       "      <td>-501.053894</td>\n",
       "      <td>9.925709</td>\n",
       "      <td>-501.686727</td>\n",
       "      <td>7.894242</td>\n",
       "      <td>-500.356035</td>\n",
       "      <td>13.996647</td>\n",
       "      <td>-601.496691</td>\n",
       "    </tr>\n",
       "    <tr>\n",
       "      <th>...</th>\n",
       "      <td>...</td>\n",
       "      <td>...</td>\n",
       "      <td>...</td>\n",
       "      <td>...</td>\n",
       "      <td>...</td>\n",
       "      <td>...</td>\n",
       "      <td>...</td>\n",
       "      <td>...</td>\n",
       "      <td>...</td>\n",
       "      <td>...</td>\n",
       "      <td>...</td>\n",
       "      <td>...</td>\n",
       "      <td>...</td>\n",
       "      <td>...</td>\n",
       "      <td>...</td>\n",
       "      <td>...</td>\n",
       "      <td>...</td>\n",
       "      <td>...</td>\n",
       "      <td>...</td>\n",
       "      <td>...</td>\n",
       "      <td>...</td>\n",
       "    </tr>\n",
       "    <tr>\n",
       "      <th>14144</th>\n",
       "      <td>2018-08-18 06:59:59</td>\n",
       "      <td>3.224920</td>\n",
       "      <td>11.356233</td>\n",
       "      <td>6.803482</td>\n",
       "      <td>46.713954</td>\n",
       "      <td>73.755150</td>\n",
       "      <td>8.769645</td>\n",
       "      <td>3.141541</td>\n",
       "      <td>10.403181</td>\n",
       "      <td>1.529220</td>\n",
       "      <td>...</td>\n",
       "      <td>23.031497</td>\n",
       "      <td>-501.167942</td>\n",
       "      <td>20.007571</td>\n",
       "      <td>-499.740028</td>\n",
       "      <td>18.006038</td>\n",
       "      <td>-499.834374</td>\n",
       "      <td>13.001114</td>\n",
       "      <td>-500.155694</td>\n",
       "      <td>20.007840</td>\n",
       "      <td>-501.296428</td>\n",
       "    </tr>\n",
       "    <tr>\n",
       "      <th>14145</th>\n",
       "      <td>2018-08-18 07:59:59</td>\n",
       "      <td>3.195978</td>\n",
       "      <td>11.349355</td>\n",
       "      <td>6.862249</td>\n",
       "      <td>46.866780</td>\n",
       "      <td>69.049291</td>\n",
       "      <td>8.897321</td>\n",
       "      <td>3.130493</td>\n",
       "      <td>10.549470</td>\n",
       "      <td>1.612542</td>\n",
       "      <td>...</td>\n",
       "      <td>22.960095</td>\n",
       "      <td>-501.612783</td>\n",
       "      <td>20.035660</td>\n",
       "      <td>-500.251357</td>\n",
       "      <td>17.998535</td>\n",
       "      <td>-500.395178</td>\n",
       "      <td>12.954048</td>\n",
       "      <td>-499.895163</td>\n",
       "      <td>19.968498</td>\n",
       "      <td>-501.041608</td>\n",
       "    </tr>\n",
       "    <tr>\n",
       "      <th>14146</th>\n",
       "      <td>2018-08-18 08:59:59</td>\n",
       "      <td>3.109998</td>\n",
       "      <td>11.434366</td>\n",
       "      <td>6.886013</td>\n",
       "      <td>46.795691</td>\n",
       "      <td>67.002189</td>\n",
       "      <td>8.529606</td>\n",
       "      <td>2.911418</td>\n",
       "      <td>11.115147</td>\n",
       "      <td>1.596616</td>\n",
       "      <td>...</td>\n",
       "      <td>23.015718</td>\n",
       "      <td>-501.711599</td>\n",
       "      <td>19.951231</td>\n",
       "      <td>-499.857027</td>\n",
       "      <td>18.019543</td>\n",
       "      <td>-500.451156</td>\n",
       "      <td>13.023431</td>\n",
       "      <td>-499.914391</td>\n",
       "      <td>19.990885</td>\n",
       "      <td>-501.518452</td>\n",
       "    </tr>\n",
       "    <tr>\n",
       "      <th>14147</th>\n",
       "      <td>2018-08-18 09:59:59</td>\n",
       "      <td>3.367241</td>\n",
       "      <td>11.625587</td>\n",
       "      <td>6.799433</td>\n",
       "      <td>46.408188</td>\n",
       "      <td>65.523246</td>\n",
       "      <td>8.777171</td>\n",
       "      <td>2.819214</td>\n",
       "      <td>10.463847</td>\n",
       "      <td>1.602879</td>\n",
       "      <td>...</td>\n",
       "      <td>23.024963</td>\n",
       "      <td>-501.153409</td>\n",
       "      <td>20.054122</td>\n",
       "      <td>-500.314711</td>\n",
       "      <td>17.979515</td>\n",
       "      <td>-499.272871</td>\n",
       "      <td>12.992404</td>\n",
       "      <td>-499.976268</td>\n",
       "      <td>20.013986</td>\n",
       "      <td>-500.625471</td>\n",
       "    </tr>\n",
       "    <tr>\n",
       "      <th>14148</th>\n",
       "      <td>2018-08-18 10:59:59</td>\n",
       "      <td>3.598375</td>\n",
       "      <td>11.737832</td>\n",
       "      <td>6.717509</td>\n",
       "      <td>46.299438</td>\n",
       "      <td>70.281454</td>\n",
       "      <td>8.406690</td>\n",
       "      <td>2.517518</td>\n",
       "      <td>10.652193</td>\n",
       "      <td>1.389434</td>\n",
       "      <td>...</td>\n",
       "      <td>23.018622</td>\n",
       "      <td>-500.492702</td>\n",
       "      <td>20.020205</td>\n",
       "      <td>-500.220296</td>\n",
       "      <td>17.963512</td>\n",
       "      <td>-499.939490</td>\n",
       "      <td>12.990306</td>\n",
       "      <td>-500.080993</td>\n",
       "      <td>19.990336</td>\n",
       "      <td>-499.191575</td>\n",
       "    </tr>\n",
       "  </tbody>\n",
       "</table>\n",
       "<p>14149 rows × 87 columns</p>\n",
       "</div>"
      ],
      "text/plain": [
       "                      date  final.output.concentrate_ag  \\\n",
       "0      2016-01-15 00:00:00                     6.055403   \n",
       "1      2016-01-15 01:00:00                     6.029369   \n",
       "2      2016-01-15 02:00:00                     6.055926   \n",
       "3      2016-01-15 03:00:00                     6.047977   \n",
       "4      2016-01-15 04:00:00                     6.148599   \n",
       "...                    ...                          ...   \n",
       "14144  2018-08-18 06:59:59                     3.224920   \n",
       "14145  2018-08-18 07:59:59                     3.195978   \n",
       "14146  2018-08-18 08:59:59                     3.109998   \n",
       "14147  2018-08-18 09:59:59                     3.367241   \n",
       "14148  2018-08-18 10:59:59                     3.598375   \n",
       "\n",
       "       final.output.concentrate_pb  final.output.concentrate_sol  \\\n",
       "0                         9.889648                      5.507324   \n",
       "1                         9.968944                      5.257781   \n",
       "2                        10.213995                      5.383759   \n",
       "3                         9.977019                      4.858634   \n",
       "4                        10.142511                      4.939416   \n",
       "...                            ...                           ...   \n",
       "14144                    11.356233                      6.803482   \n",
       "14145                    11.349355                      6.862249   \n",
       "14146                    11.434366                      6.886013   \n",
       "14147                    11.625587                      6.799433   \n",
       "14148                    11.737832                      6.717509   \n",
       "\n",
       "       final.output.concentrate_au  final.output.recovery  \\\n",
       "0                        42.192020              70.541216   \n",
       "1                        42.701629              69.266198   \n",
       "2                        42.657501              68.116445   \n",
       "3                        42.689819              68.347543   \n",
       "4                        42.774141              66.927016   \n",
       "...                            ...                    ...   \n",
       "14144                    46.713954              73.755150   \n",
       "14145                    46.866780              69.049291   \n",
       "14146                    46.795691              67.002189   \n",
       "14147                    46.408188              65.523246   \n",
       "14148                    46.299438              70.281454   \n",
       "\n",
       "       final.output.tail_ag  final.output.tail_pb  final.output.tail_sol  \\\n",
       "0                 10.411962              0.895447              16.904297   \n",
       "1                 10.462676              0.927452              16.634514   \n",
       "2                 10.507046              0.953716              16.208849   \n",
       "3                 10.422762              0.883763              16.532835   \n",
       "4                 10.360302              0.792826              16.525686   \n",
       "...                     ...                   ...                    ...   \n",
       "14144              8.769645              3.141541              10.403181   \n",
       "14145              8.897321              3.130493              10.549470   \n",
       "14146              8.529606              2.911418              11.115147   \n",
       "14147              8.777171              2.819214              10.463847   \n",
       "14148              8.406690              2.517518              10.652193   \n",
       "\n",
       "       final.output.tail_au  ...  secondary_cleaner.state.floatbank4_a_air  \\\n",
       "0                  2.143149  ...                                 14.016835   \n",
       "1                  2.224930  ...                                 13.992281   \n",
       "2                  2.257889  ...                                 14.015015   \n",
       "3                  2.146849  ...                                 14.036510   \n",
       "4                  2.055292  ...                                 14.027298   \n",
       "...                     ...  ...                                       ...   \n",
       "14144              1.529220  ...                                 23.031497   \n",
       "14145              1.612542  ...                                 22.960095   \n",
       "14146              1.596616  ...                                 23.015718   \n",
       "14147              1.602879  ...                                 23.024963   \n",
       "14148              1.389434  ...                                 23.018622   \n",
       "\n",
       "       secondary_cleaner.state.floatbank4_a_level  \\\n",
       "0                                     -502.488007   \n",
       "1                                     -505.503262   \n",
       "2                                     -502.520901   \n",
       "3                                     -500.857308   \n",
       "4                                     -499.838632   \n",
       "...                                           ...   \n",
       "14144                                 -501.167942   \n",
       "14145                                 -501.612783   \n",
       "14146                                 -501.711599   \n",
       "14147                                 -501.153409   \n",
       "14148                                 -500.492702   \n",
       "\n",
       "       secondary_cleaner.state.floatbank4_b_air  \\\n",
       "0                                     12.099931   \n",
       "1                                     11.950531   \n",
       "2                                     11.912783   \n",
       "3                                     11.999550   \n",
       "4                                     11.953070   \n",
       "...                                         ...   \n",
       "14144                                 20.007571   \n",
       "14145                                 20.035660   \n",
       "14146                                 19.951231   \n",
       "14147                                 20.054122   \n",
       "14148                                 20.020205   \n",
       "\n",
       "       secondary_cleaner.state.floatbank4_b_level  \\\n",
       "0                                     -504.715942   \n",
       "1                                     -501.331529   \n",
       "2                                     -501.133383   \n",
       "3                                     -501.193686   \n",
       "4                                     -501.053894   \n",
       "...                                           ...   \n",
       "14144                                 -499.740028   \n",
       "14145                                 -500.251357   \n",
       "14146                                 -499.857027   \n",
       "14147                                 -500.314711   \n",
       "14148                                 -500.220296   \n",
       "\n",
       "       secondary_cleaner.state.floatbank5_a_air  \\\n",
       "0                                      9.925633   \n",
       "1                                     10.039245   \n",
       "2                                     10.070913   \n",
       "3                                      9.970366   \n",
       "4                                      9.925709   \n",
       "...                                         ...   \n",
       "14144                                 18.006038   \n",
       "14145                                 17.998535   \n",
       "14146                                 18.019543   \n",
       "14147                                 17.979515   \n",
       "14148                                 17.963512   \n",
       "\n",
       "       secondary_cleaner.state.floatbank5_a_level  \\\n",
       "0                                     -498.310211   \n",
       "1                                     -500.169983   \n",
       "2                                     -500.129135   \n",
       "3                                     -499.201640   \n",
       "4                                     -501.686727   \n",
       "...                                           ...   \n",
       "14144                                 -499.834374   \n",
       "14145                                 -500.395178   \n",
       "14146                                 -500.451156   \n",
       "14147                                 -499.272871   \n",
       "14148                                 -499.939490   \n",
       "\n",
       "       secondary_cleaner.state.floatbank5_b_air  \\\n",
       "0                                      8.079666   \n",
       "1                                      7.984757   \n",
       "2                                      8.013877   \n",
       "3                                      7.977324   \n",
       "4                                      7.894242   \n",
       "...                                         ...   \n",
       "14144                                 13.001114   \n",
       "14145                                 12.954048   \n",
       "14146                                 13.023431   \n",
       "14147                                 12.992404   \n",
       "14148                                 12.990306   \n",
       "\n",
       "       secondary_cleaner.state.floatbank5_b_level  \\\n",
       "0                                     -500.470978   \n",
       "1                                     -500.582168   \n",
       "2                                     -500.517572   \n",
       "3                                     -500.255908   \n",
       "4                                     -500.356035   \n",
       "...                                           ...   \n",
       "14144                                 -500.155694   \n",
       "14145                                 -499.895163   \n",
       "14146                                 -499.914391   \n",
       "14147                                 -499.976268   \n",
       "14148                                 -500.080993   \n",
       "\n",
       "       secondary_cleaner.state.floatbank6_a_air  \\\n",
       "0                                     14.151341   \n",
       "1                                     13.998353   \n",
       "2                                     14.028663   \n",
       "3                                     14.005551   \n",
       "4                                     13.996647   \n",
       "...                                         ...   \n",
       "14144                                 20.007840   \n",
       "14145                                 19.968498   \n",
       "14146                                 19.990885   \n",
       "14147                                 20.013986   \n",
       "14148                                 19.990336   \n",
       "\n",
       "       secondary_cleaner.state.floatbank6_a_level  \n",
       "0                                     -605.841980  \n",
       "1                                     -599.787184  \n",
       "2                                     -601.427363  \n",
       "3                                     -599.996129  \n",
       "4                                     -601.496691  \n",
       "...                                           ...  \n",
       "14144                                 -501.296428  \n",
       "14145                                 -501.041608  \n",
       "14146                                 -501.518452  \n",
       "14147                                 -500.625471  \n",
       "14148                                 -499.191575  \n",
       "\n",
       "[14149 rows x 87 columns]"
      ]
     },
     "metadata": {},
     "output_type": "display_data"
    },
    {
     "name": "stdout",
     "output_type": "stream",
     "text": [
      "None\n"
     ]
    }
   ],
   "source": [
    "view(data_train)"
   ]
  },
  {
   "cell_type": "code",
   "execution_count": 6,
   "metadata": {},
   "outputs": [
    {
     "name": "stdout",
     "output_type": "stream",
     "text": [
      "Сводная информация\n",
      "\n",
      "<class 'pandas.core.frame.DataFrame'>\n",
      "RangeIndex: 5290 entries, 0 to 5289\n",
      "Data columns (total 53 columns):\n",
      " #   Column                                      Non-Null Count  Dtype  \n",
      "---  ------                                      --------------  -----  \n",
      " 0   date                                        5290 non-null   object \n",
      " 1   primary_cleaner.input.sulfate               5286 non-null   float64\n",
      " 2   primary_cleaner.input.depressant            5285 non-null   float64\n",
      " 3   primary_cleaner.input.feed_size             5290 non-null   float64\n",
      " 4   primary_cleaner.input.xanthate              5286 non-null   float64\n",
      " 5   primary_cleaner.state.floatbank8_a_air      5290 non-null   float64\n",
      " 6   primary_cleaner.state.floatbank8_a_level    5290 non-null   float64\n",
      " 7   primary_cleaner.state.floatbank8_b_air      5290 non-null   float64\n",
      " 8   primary_cleaner.state.floatbank8_b_level    5290 non-null   float64\n",
      " 9   primary_cleaner.state.floatbank8_c_air      5290 non-null   float64\n",
      " 10  primary_cleaner.state.floatbank8_c_level    5290 non-null   float64\n",
      " 11  primary_cleaner.state.floatbank8_d_air      5290 non-null   float64\n",
      " 12  primary_cleaner.state.floatbank8_d_level    5290 non-null   float64\n",
      " 13  rougher.input.feed_ag                       5290 non-null   float64\n",
      " 14  rougher.input.feed_pb                       5290 non-null   float64\n",
      " 15  rougher.input.feed_rate                     5287 non-null   float64\n",
      " 16  rougher.input.feed_size                     5289 non-null   float64\n",
      " 17  rougher.input.feed_sol                      5269 non-null   float64\n",
      " 18  rougher.input.feed_au                       5290 non-null   float64\n",
      " 19  rougher.input.floatbank10_sulfate           5285 non-null   float64\n",
      " 20  rougher.input.floatbank10_xanthate          5290 non-null   float64\n",
      " 21  rougher.input.floatbank11_sulfate           5282 non-null   float64\n",
      " 22  rougher.input.floatbank11_xanthate          5265 non-null   float64\n",
      " 23  rougher.state.floatbank10_a_air             5290 non-null   float64\n",
      " 24  rougher.state.floatbank10_a_level           5290 non-null   float64\n",
      " 25  rougher.state.floatbank10_b_air             5290 non-null   float64\n",
      " 26  rougher.state.floatbank10_b_level           5290 non-null   float64\n",
      " 27  rougher.state.floatbank10_c_air             5290 non-null   float64\n",
      " 28  rougher.state.floatbank10_c_level           5290 non-null   float64\n",
      " 29  rougher.state.floatbank10_d_air             5290 non-null   float64\n",
      " 30  rougher.state.floatbank10_d_level           5290 non-null   float64\n",
      " 31  rougher.state.floatbank10_e_air             5290 non-null   float64\n",
      " 32  rougher.state.floatbank10_e_level           5290 non-null   float64\n",
      " 33  rougher.state.floatbank10_f_air             5290 non-null   float64\n",
      " 34  rougher.state.floatbank10_f_level           5290 non-null   float64\n",
      " 35  secondary_cleaner.state.floatbank2_a_air    5287 non-null   float64\n",
      " 36  secondary_cleaner.state.floatbank2_a_level  5290 non-null   float64\n",
      " 37  secondary_cleaner.state.floatbank2_b_air    5288 non-null   float64\n",
      " 38  secondary_cleaner.state.floatbank2_b_level  5290 non-null   float64\n",
      " 39  secondary_cleaner.state.floatbank3_a_air    5281 non-null   float64\n",
      " 40  secondary_cleaner.state.floatbank3_a_level  5290 non-null   float64\n",
      " 41  secondary_cleaner.state.floatbank3_b_air    5290 non-null   float64\n",
      " 42  secondary_cleaner.state.floatbank3_b_level  5290 non-null   float64\n",
      " 43  secondary_cleaner.state.floatbank4_a_air    5290 non-null   float64\n",
      " 44  secondary_cleaner.state.floatbank4_a_level  5290 non-null   float64\n",
      " 45  secondary_cleaner.state.floatbank4_b_air    5290 non-null   float64\n",
      " 46  secondary_cleaner.state.floatbank4_b_level  5290 non-null   float64\n",
      " 47  secondary_cleaner.state.floatbank5_a_air    5290 non-null   float64\n",
      " 48  secondary_cleaner.state.floatbank5_a_level  5290 non-null   float64\n",
      " 49  secondary_cleaner.state.floatbank5_b_air    5290 non-null   float64\n",
      " 50  secondary_cleaner.state.floatbank5_b_level  5290 non-null   float64\n",
      " 51  secondary_cleaner.state.floatbank6_a_air    5290 non-null   float64\n",
      " 52  secondary_cleaner.state.floatbank6_a_level  5290 non-null   float64\n",
      "dtypes: float64(52), object(1)\n",
      "memory usage: 2.1+ MB\n",
      "\n",
      "Числовое описание данных\n",
      "       primary_cleaner.input.sulfate  primary_cleaner.input.depressant  \\\n",
      "count                    5286.000000                       5285.000000   \n",
      "mean                      174.839652                          8.683596   \n",
      "std                        43.027080                          3.072050   \n",
      "min                         2.566156                          0.003839   \n",
      "25%                       147.121401                          6.489555   \n",
      "50%                       177.828489                          8.052207   \n",
      "75%                       208.125438                         10.027764   \n",
      "max                       265.983123                         40.000000   \n",
      "\n",
      "       primary_cleaner.input.feed_size  primary_cleaner.input.xanthate  \\\n",
      "count                      5290.000000                     5286.000000   \n",
      "mean                          7.266339                        1.383803   \n",
      "std                           0.610219                        0.643474   \n",
      "min                           5.650000                        0.004984   \n",
      "25%                           6.890000                        0.907623   \n",
      "50%                           7.250000                        1.197610   \n",
      "75%                           7.600000                        1.797819   \n",
      "max                          15.500000                        4.102454   \n",
      "\n",
      "       primary_cleaner.state.floatbank8_a_air  \\\n",
      "count                            5.290000e+03   \n",
      "mean                             1.539494e+03   \n",
      "std                              1.167979e+02   \n",
      "min                              5.445860e-32   \n",
      "25%                              1.498936e+03   \n",
      "50%                              1.585129e+03   \n",
      "75%                              1.602077e+03   \n",
      "max                              2.103104e+03   \n",
      "\n",
      "       primary_cleaner.state.floatbank8_a_level  \\\n",
      "count                               5290.000000   \n",
      "mean                                -497.665883   \n",
      "std                                   19.952431   \n",
      "min                                 -795.316337   \n",
      "25%                                 -500.357298   \n",
      "50%                                 -499.969164   \n",
      "75%                                 -499.568951   \n",
      "max                                  -57.195404   \n",
      "\n",
      "       primary_cleaner.state.floatbank8_b_air  \\\n",
      "count                            5.290000e+03   \n",
      "mean                             1.545174e+03   \n",
      "std                              1.222246e+02   \n",
      "min                              6.647490e-32   \n",
      "25%                              1.498971e+03   \n",
      "50%                              1.595622e+03   \n",
      "75%                              1.602324e+03   \n",
      "max                              1.813084e+03   \n",
      "\n",
      "       primary_cleaner.state.floatbank8_b_level  \\\n",
      "count                               5290.000000   \n",
      "mean                                -500.273098   \n",
      "std                                   32.968307   \n",
      "min                                 -799.997015   \n",
      "25%                                 -500.703002   \n",
      "50%                                 -500.028514   \n",
      "75%                                 -499.293257   \n",
      "max                                 -142.527229   \n",
      "\n",
      "       primary_cleaner.state.floatbank8_c_air  \\\n",
      "count                            5.290000e+03   \n",
      "mean                             1.527272e+03   \n",
      "std                              1.225380e+02   \n",
      "min                              4.033736e-32   \n",
      "25%                              1.473230e+03   \n",
      "50%                              1.549595e+03   \n",
      "75%                              1.601144e+03   \n",
      "max                              1.715054e+03   \n",
      "\n",
      "       primary_cleaner.state.floatbank8_c_level  ...  \\\n",
      "count                               5290.000000  ...   \n",
      "mean                                -498.330680  ...   \n",
      "std                                   21.964876  ...   \n",
      "min                                 -799.960571  ...   \n",
      "25%                                 -501.018117  ...   \n",
      "50%                                 -500.017711  ...   \n",
      "75%                                 -498.994130  ...   \n",
      "max                                 -150.937035  ...   \n",
      "\n",
      "       secondary_cleaner.state.floatbank4_a_air  \\\n",
      "count                              5.290000e+03   \n",
      "mean                               1.632007e+01   \n",
      "std                                3.493583e+00   \n",
      "min                                1.079872e-16   \n",
      "25%                                1.403618e+01   \n",
      "50%                                1.700847e+01   \n",
      "75%                                1.803862e+01   \n",
      "max                                3.005180e+01   \n",
      "\n",
      "       secondary_cleaner.state.floatbank4_a_level  \\\n",
      "count                                 5290.000000   \n",
      "mean                                  -505.144570   \n",
      "std                                     31.427337   \n",
      "min                                   -799.798523   \n",
      "25%                                   -500.868258   \n",
      "50%                                   -500.115727   \n",
      "75%                                   -499.404224   \n",
      "max                                   -401.565212   \n",
      "\n",
      "       secondary_cleaner.state.floatbank4_b_air  \\\n",
      "count                              5.290000e+03   \n",
      "mean                               1.373544e+01   \n",
      "std                                3.430484e+00   \n",
      "min                                2.489718e-17   \n",
      "25%                                1.202862e+01   \n",
      "50%                                1.496486e+01   \n",
      "75%                                1.596213e+01   \n",
      "max                                3.126971e+01   \n",
      "\n",
      "       secondary_cleaner.state.floatbank4_b_level  \\\n",
      "count                                 5290.000000   \n",
      "mean                                  -463.349858   \n",
      "std                                     86.189107   \n",
      "min                                   -800.836914   \n",
      "25%                                   -500.323028   \n",
      "50%                                   -499.576513   \n",
      "75%                                   -400.933805   \n",
      "max                                     -6.506986   \n",
      "\n",
      "       secondary_cleaner.state.floatbank5_a_air  \\\n",
      "count                               5290.000000   \n",
      "mean                                  12.804186   \n",
      "std                                    3.026591   \n",
      "min                                    0.069227   \n",
      "25%                                   10.914838   \n",
      "50%                                   12.954182   \n",
      "75%                                   15.097528   \n",
      "max                                   25.258848   \n",
      "\n",
      "       secondary_cleaner.state.floatbank5_a_level  \\\n",
      "count                                 5290.000000   \n",
      "mean                                  -501.329122   \n",
      "std                                     17.951495   \n",
      "min                                   -797.323986   \n",
      "25%                                   -500.726841   \n",
      "50%                                   -499.990332   \n",
      "75%                                   -499.283191   \n",
      "max                                   -244.483566   \n",
      "\n",
      "       secondary_cleaner.state.floatbank5_b_air  \\\n",
      "count                               5290.000000   \n",
      "mean                                   9.881145   \n",
      "std                                    2.868205   \n",
      "min                                    0.528083   \n",
      "25%                                    8.036719   \n",
      "50%                                   10.004301   \n",
      "75%                                   11.997467   \n",
      "max                                   14.086866   \n",
      "\n",
      "       secondary_cleaner.state.floatbank5_b_level  \\\n",
      "count                                 5290.000000   \n",
      "mean                                  -495.663398   \n",
      "std                                     34.535007   \n",
      "min                                   -800.220337   \n",
      "25%                                   -500.194668   \n",
      "50%                                   -499.990535   \n",
      "75%                                   -499.719913   \n",
      "max                                   -137.740004   \n",
      "\n",
      "       secondary_cleaner.state.floatbank6_a_air  \\\n",
      "count                               5290.000000   \n",
      "mean                                  17.304935   \n",
      "std                                    4.536544   \n",
      "min                                   -0.079426   \n",
      "25%                                   13.997317   \n",
      "50%                                   16.014935   \n",
      "75%                                   21.020013   \n",
      "max                                   26.705889   \n",
      "\n",
      "       secondary_cleaner.state.floatbank6_a_level  \n",
      "count                                 5290.000000  \n",
      "mean                                  -501.793193  \n",
      "std                                     39.044215  \n",
      "min                                   -809.741464  \n",
      "25%                                   -500.690984  \n",
      "50%                                   -500.007126  \n",
      "75%                                   -499.373018  \n",
      "max                                   -123.307487  \n",
      "\n",
      "[8 rows x 52 columns]\n",
      "\n",
      "Наличие пропусков\n",
      "date                                           0\n",
      "primary_cleaner.input.sulfate                  4\n",
      "primary_cleaner.input.depressant               5\n",
      "primary_cleaner.input.feed_size                0\n",
      "primary_cleaner.input.xanthate                 4\n",
      "primary_cleaner.state.floatbank8_a_air         0\n",
      "primary_cleaner.state.floatbank8_a_level       0\n",
      "primary_cleaner.state.floatbank8_b_air         0\n",
      "primary_cleaner.state.floatbank8_b_level       0\n",
      "primary_cleaner.state.floatbank8_c_air         0\n",
      "primary_cleaner.state.floatbank8_c_level       0\n",
      "primary_cleaner.state.floatbank8_d_air         0\n",
      "primary_cleaner.state.floatbank8_d_level       0\n",
      "rougher.input.feed_ag                          0\n",
      "rougher.input.feed_pb                          0\n",
      "rougher.input.feed_rate                        3\n",
      "rougher.input.feed_size                        1\n",
      "rougher.input.feed_sol                        21\n",
      "rougher.input.feed_au                          0\n",
      "rougher.input.floatbank10_sulfate              5\n",
      "rougher.input.floatbank10_xanthate             0\n",
      "rougher.input.floatbank11_sulfate              8\n",
      "rougher.input.floatbank11_xanthate            25\n",
      "rougher.state.floatbank10_a_air                0\n",
      "rougher.state.floatbank10_a_level              0\n",
      "rougher.state.floatbank10_b_air                0\n",
      "rougher.state.floatbank10_b_level              0\n",
      "rougher.state.floatbank10_c_air                0\n",
      "rougher.state.floatbank10_c_level              0\n",
      "rougher.state.floatbank10_d_air                0\n",
      "rougher.state.floatbank10_d_level              0\n",
      "rougher.state.floatbank10_e_air                0\n",
      "rougher.state.floatbank10_e_level              0\n",
      "rougher.state.floatbank10_f_air                0\n",
      "rougher.state.floatbank10_f_level              0\n",
      "secondary_cleaner.state.floatbank2_a_air       3\n",
      "secondary_cleaner.state.floatbank2_a_level     0\n",
      "secondary_cleaner.state.floatbank2_b_air       2\n",
      "secondary_cleaner.state.floatbank2_b_level     0\n",
      "secondary_cleaner.state.floatbank3_a_air       9\n",
      "secondary_cleaner.state.floatbank3_a_level     0\n",
      "secondary_cleaner.state.floatbank3_b_air       0\n",
      "secondary_cleaner.state.floatbank3_b_level     0\n",
      "secondary_cleaner.state.floatbank4_a_air       0\n",
      "secondary_cleaner.state.floatbank4_a_level     0\n",
      "secondary_cleaner.state.floatbank4_b_air       0\n",
      "secondary_cleaner.state.floatbank4_b_level     0\n",
      "secondary_cleaner.state.floatbank5_a_air       0\n",
      "secondary_cleaner.state.floatbank5_a_level     0\n",
      "secondary_cleaner.state.floatbank5_b_air       0\n",
      "secondary_cleaner.state.floatbank5_b_level     0\n",
      "secondary_cleaner.state.floatbank6_a_air       0\n",
      "secondary_cleaner.state.floatbank6_a_level     0\n",
      "dtype: int64\n",
      "\n",
      "Наличие дубликатов\n",
      "0\n",
      "\n",
      "Данные \n"
     ]
    },
    {
     "data": {
      "text/html": [
       "<div>\n",
       "<style scoped>\n",
       "    .dataframe tbody tr th:only-of-type {\n",
       "        vertical-align: middle;\n",
       "    }\n",
       "\n",
       "    .dataframe tbody tr th {\n",
       "        vertical-align: top;\n",
       "    }\n",
       "\n",
       "    .dataframe thead th {\n",
       "        text-align: right;\n",
       "    }\n",
       "</style>\n",
       "<table border=\"1\" class=\"dataframe\">\n",
       "  <thead>\n",
       "    <tr style=\"text-align: right;\">\n",
       "      <th></th>\n",
       "      <th>date</th>\n",
       "      <th>primary_cleaner.input.sulfate</th>\n",
       "      <th>primary_cleaner.input.depressant</th>\n",
       "      <th>primary_cleaner.input.feed_size</th>\n",
       "      <th>primary_cleaner.input.xanthate</th>\n",
       "      <th>primary_cleaner.state.floatbank8_a_air</th>\n",
       "      <th>primary_cleaner.state.floatbank8_a_level</th>\n",
       "      <th>primary_cleaner.state.floatbank8_b_air</th>\n",
       "      <th>primary_cleaner.state.floatbank8_b_level</th>\n",
       "      <th>primary_cleaner.state.floatbank8_c_air</th>\n",
       "      <th>...</th>\n",
       "      <th>secondary_cleaner.state.floatbank4_a_air</th>\n",
       "      <th>secondary_cleaner.state.floatbank4_a_level</th>\n",
       "      <th>secondary_cleaner.state.floatbank4_b_air</th>\n",
       "      <th>secondary_cleaner.state.floatbank4_b_level</th>\n",
       "      <th>secondary_cleaner.state.floatbank5_a_air</th>\n",
       "      <th>secondary_cleaner.state.floatbank5_a_level</th>\n",
       "      <th>secondary_cleaner.state.floatbank5_b_air</th>\n",
       "      <th>secondary_cleaner.state.floatbank5_b_level</th>\n",
       "      <th>secondary_cleaner.state.floatbank6_a_air</th>\n",
       "      <th>secondary_cleaner.state.floatbank6_a_level</th>\n",
       "    </tr>\n",
       "  </thead>\n",
       "  <tbody>\n",
       "    <tr>\n",
       "      <th>0</th>\n",
       "      <td>2016-09-01 00:59:59</td>\n",
       "      <td>210.800909</td>\n",
       "      <td>14.993118</td>\n",
       "      <td>8.080000</td>\n",
       "      <td>1.005021</td>\n",
       "      <td>1398.981301</td>\n",
       "      <td>-500.225577</td>\n",
       "      <td>1399.144926</td>\n",
       "      <td>-499.919735</td>\n",
       "      <td>1400.102998</td>\n",
       "      <td>...</td>\n",
       "      <td>12.023554</td>\n",
       "      <td>-497.795834</td>\n",
       "      <td>8.016656</td>\n",
       "      <td>-501.289139</td>\n",
       "      <td>7.946562</td>\n",
       "      <td>-432.317850</td>\n",
       "      <td>4.872511</td>\n",
       "      <td>-500.037437</td>\n",
       "      <td>26.705889</td>\n",
       "      <td>-499.709414</td>\n",
       "    </tr>\n",
       "    <tr>\n",
       "      <th>1</th>\n",
       "      <td>2016-09-01 01:59:59</td>\n",
       "      <td>215.392455</td>\n",
       "      <td>14.987471</td>\n",
       "      <td>8.080000</td>\n",
       "      <td>0.990469</td>\n",
       "      <td>1398.777912</td>\n",
       "      <td>-500.057435</td>\n",
       "      <td>1398.055362</td>\n",
       "      <td>-499.778182</td>\n",
       "      <td>1396.151033</td>\n",
       "      <td>...</td>\n",
       "      <td>12.058140</td>\n",
       "      <td>-498.695773</td>\n",
       "      <td>8.130979</td>\n",
       "      <td>-499.634209</td>\n",
       "      <td>7.958270</td>\n",
       "      <td>-525.839648</td>\n",
       "      <td>4.878850</td>\n",
       "      <td>-500.162375</td>\n",
       "      <td>25.019940</td>\n",
       "      <td>-499.819438</td>\n",
       "    </tr>\n",
       "    <tr>\n",
       "      <th>2</th>\n",
       "      <td>2016-09-01 02:59:59</td>\n",
       "      <td>215.259946</td>\n",
       "      <td>12.884934</td>\n",
       "      <td>7.786667</td>\n",
       "      <td>0.996043</td>\n",
       "      <td>1398.493666</td>\n",
       "      <td>-500.868360</td>\n",
       "      <td>1398.860436</td>\n",
       "      <td>-499.764529</td>\n",
       "      <td>1398.075709</td>\n",
       "      <td>...</td>\n",
       "      <td>11.962366</td>\n",
       "      <td>-498.767484</td>\n",
       "      <td>8.096893</td>\n",
       "      <td>-500.827423</td>\n",
       "      <td>8.071056</td>\n",
       "      <td>-500.801673</td>\n",
       "      <td>4.905125</td>\n",
       "      <td>-499.828510</td>\n",
       "      <td>24.994862</td>\n",
       "      <td>-500.622559</td>\n",
       "    </tr>\n",
       "    <tr>\n",
       "      <th>3</th>\n",
       "      <td>2016-09-01 03:59:59</td>\n",
       "      <td>215.336236</td>\n",
       "      <td>12.006805</td>\n",
       "      <td>7.640000</td>\n",
       "      <td>0.863514</td>\n",
       "      <td>1399.618111</td>\n",
       "      <td>-498.863574</td>\n",
       "      <td>1397.440120</td>\n",
       "      <td>-499.211024</td>\n",
       "      <td>1400.129303</td>\n",
       "      <td>...</td>\n",
       "      <td>12.033091</td>\n",
       "      <td>-498.350935</td>\n",
       "      <td>8.074946</td>\n",
       "      <td>-499.474407</td>\n",
       "      <td>7.897085</td>\n",
       "      <td>-500.868509</td>\n",
       "      <td>4.931400</td>\n",
       "      <td>-499.963623</td>\n",
       "      <td>24.948919</td>\n",
       "      <td>-498.709987</td>\n",
       "    </tr>\n",
       "    <tr>\n",
       "      <th>4</th>\n",
       "      <td>2016-09-01 04:59:59</td>\n",
       "      <td>199.099327</td>\n",
       "      <td>10.682530</td>\n",
       "      <td>7.530000</td>\n",
       "      <td>0.805575</td>\n",
       "      <td>1401.268123</td>\n",
       "      <td>-500.808305</td>\n",
       "      <td>1398.128818</td>\n",
       "      <td>-499.504543</td>\n",
       "      <td>1402.172226</td>\n",
       "      <td>...</td>\n",
       "      <td>12.025367</td>\n",
       "      <td>-500.786497</td>\n",
       "      <td>8.054678</td>\n",
       "      <td>-500.397500</td>\n",
       "      <td>8.107890</td>\n",
       "      <td>-509.526725</td>\n",
       "      <td>4.957674</td>\n",
       "      <td>-500.360026</td>\n",
       "      <td>25.003331</td>\n",
       "      <td>-500.856333</td>\n",
       "    </tr>\n",
       "    <tr>\n",
       "      <th>...</th>\n",
       "      <td>...</td>\n",
       "      <td>...</td>\n",
       "      <td>...</td>\n",
       "      <td>...</td>\n",
       "      <td>...</td>\n",
       "      <td>...</td>\n",
       "      <td>...</td>\n",
       "      <td>...</td>\n",
       "      <td>...</td>\n",
       "      <td>...</td>\n",
       "      <td>...</td>\n",
       "      <td>...</td>\n",
       "      <td>...</td>\n",
       "      <td>...</td>\n",
       "      <td>...</td>\n",
       "      <td>...</td>\n",
       "      <td>...</td>\n",
       "      <td>...</td>\n",
       "      <td>...</td>\n",
       "      <td>...</td>\n",
       "      <td>...</td>\n",
       "    </tr>\n",
       "    <tr>\n",
       "      <th>5285</th>\n",
       "      <td>2017-12-31 19:59:59</td>\n",
       "      <td>173.957757</td>\n",
       "      <td>15.963399</td>\n",
       "      <td>8.070000</td>\n",
       "      <td>0.896701</td>\n",
       "      <td>1401.930554</td>\n",
       "      <td>-499.728848</td>\n",
       "      <td>1401.441445</td>\n",
       "      <td>-499.193423</td>\n",
       "      <td>1399.810313</td>\n",
       "      <td>...</td>\n",
       "      <td>13.995957</td>\n",
       "      <td>-500.157454</td>\n",
       "      <td>12.069155</td>\n",
       "      <td>-499.673279</td>\n",
       "      <td>7.977259</td>\n",
       "      <td>-499.516126</td>\n",
       "      <td>5.933319</td>\n",
       "      <td>-499.965973</td>\n",
       "      <td>8.987171</td>\n",
       "      <td>-499.755909</td>\n",
       "    </tr>\n",
       "    <tr>\n",
       "      <th>5286</th>\n",
       "      <td>2017-12-31 20:59:59</td>\n",
       "      <td>172.910270</td>\n",
       "      <td>16.002605</td>\n",
       "      <td>8.070000</td>\n",
       "      <td>0.896519</td>\n",
       "      <td>1447.075722</td>\n",
       "      <td>-494.716823</td>\n",
       "      <td>1448.851892</td>\n",
       "      <td>-465.963026</td>\n",
       "      <td>1443.890424</td>\n",
       "      <td>...</td>\n",
       "      <td>16.749781</td>\n",
       "      <td>-496.031539</td>\n",
       "      <td>13.365371</td>\n",
       "      <td>-499.122723</td>\n",
       "      <td>9.288553</td>\n",
       "      <td>-496.892967</td>\n",
       "      <td>7.372897</td>\n",
       "      <td>-499.942956</td>\n",
       "      <td>8.986832</td>\n",
       "      <td>-499.903761</td>\n",
       "    </tr>\n",
       "    <tr>\n",
       "      <th>5287</th>\n",
       "      <td>2017-12-31 21:59:59</td>\n",
       "      <td>171.135718</td>\n",
       "      <td>15.993669</td>\n",
       "      <td>8.070000</td>\n",
       "      <td>1.165996</td>\n",
       "      <td>1498.836182</td>\n",
       "      <td>-501.770403</td>\n",
       "      <td>1499.572353</td>\n",
       "      <td>-495.516347</td>\n",
       "      <td>1502.749213</td>\n",
       "      <td>...</td>\n",
       "      <td>19.994130</td>\n",
       "      <td>-499.791312</td>\n",
       "      <td>15.101425</td>\n",
       "      <td>-499.936252</td>\n",
       "      <td>10.989181</td>\n",
       "      <td>-498.347898</td>\n",
       "      <td>9.020944</td>\n",
       "      <td>-500.040448</td>\n",
       "      <td>8.982038</td>\n",
       "      <td>-497.789882</td>\n",
       "    </tr>\n",
       "    <tr>\n",
       "      <th>5288</th>\n",
       "      <td>2017-12-31 22:59:59</td>\n",
       "      <td>179.697158</td>\n",
       "      <td>15.438979</td>\n",
       "      <td>8.070000</td>\n",
       "      <td>1.501068</td>\n",
       "      <td>1498.466243</td>\n",
       "      <td>-500.483984</td>\n",
       "      <td>1497.986986</td>\n",
       "      <td>-519.200340</td>\n",
       "      <td>1496.569047</td>\n",
       "      <td>...</td>\n",
       "      <td>19.958760</td>\n",
       "      <td>-499.958750</td>\n",
       "      <td>15.026853</td>\n",
       "      <td>-499.723143</td>\n",
       "      <td>11.011607</td>\n",
       "      <td>-499.985046</td>\n",
       "      <td>9.009783</td>\n",
       "      <td>-499.937902</td>\n",
       "      <td>9.012660</td>\n",
       "      <td>-500.154284</td>\n",
       "    </tr>\n",
       "    <tr>\n",
       "      <th>5289</th>\n",
       "      <td>2017-12-31 23:59:59</td>\n",
       "      <td>181.556856</td>\n",
       "      <td>14.995850</td>\n",
       "      <td>8.070000</td>\n",
       "      <td>1.623454</td>\n",
       "      <td>1498.096303</td>\n",
       "      <td>-499.796922</td>\n",
       "      <td>1501.743791</td>\n",
       "      <td>-505.146931</td>\n",
       "      <td>1499.535978</td>\n",
       "      <td>...</td>\n",
       "      <td>20.034715</td>\n",
       "      <td>-500.728588</td>\n",
       "      <td>14.914199</td>\n",
       "      <td>-499.948518</td>\n",
       "      <td>10.986607</td>\n",
       "      <td>-500.658027</td>\n",
       "      <td>8.989497</td>\n",
       "      <td>-500.337588</td>\n",
       "      <td>8.988632</td>\n",
       "      <td>-500.764937</td>\n",
       "    </tr>\n",
       "  </tbody>\n",
       "</table>\n",
       "<p>5290 rows × 53 columns</p>\n",
       "</div>"
      ],
      "text/plain": [
       "                     date  primary_cleaner.input.sulfate  \\\n",
       "0     2016-09-01 00:59:59                     210.800909   \n",
       "1     2016-09-01 01:59:59                     215.392455   \n",
       "2     2016-09-01 02:59:59                     215.259946   \n",
       "3     2016-09-01 03:59:59                     215.336236   \n",
       "4     2016-09-01 04:59:59                     199.099327   \n",
       "...                   ...                            ...   \n",
       "5285  2017-12-31 19:59:59                     173.957757   \n",
       "5286  2017-12-31 20:59:59                     172.910270   \n",
       "5287  2017-12-31 21:59:59                     171.135718   \n",
       "5288  2017-12-31 22:59:59                     179.697158   \n",
       "5289  2017-12-31 23:59:59                     181.556856   \n",
       "\n",
       "      primary_cleaner.input.depressant  primary_cleaner.input.feed_size  \\\n",
       "0                            14.993118                         8.080000   \n",
       "1                            14.987471                         8.080000   \n",
       "2                            12.884934                         7.786667   \n",
       "3                            12.006805                         7.640000   \n",
       "4                            10.682530                         7.530000   \n",
       "...                                ...                              ...   \n",
       "5285                         15.963399                         8.070000   \n",
       "5286                         16.002605                         8.070000   \n",
       "5287                         15.993669                         8.070000   \n",
       "5288                         15.438979                         8.070000   \n",
       "5289                         14.995850                         8.070000   \n",
       "\n",
       "      primary_cleaner.input.xanthate  primary_cleaner.state.floatbank8_a_air  \\\n",
       "0                           1.005021                             1398.981301   \n",
       "1                           0.990469                             1398.777912   \n",
       "2                           0.996043                             1398.493666   \n",
       "3                           0.863514                             1399.618111   \n",
       "4                           0.805575                             1401.268123   \n",
       "...                              ...                                     ...   \n",
       "5285                        0.896701                             1401.930554   \n",
       "5286                        0.896519                             1447.075722   \n",
       "5287                        1.165996                             1498.836182   \n",
       "5288                        1.501068                             1498.466243   \n",
       "5289                        1.623454                             1498.096303   \n",
       "\n",
       "      primary_cleaner.state.floatbank8_a_level  \\\n",
       "0                                  -500.225577   \n",
       "1                                  -500.057435   \n",
       "2                                  -500.868360   \n",
       "3                                  -498.863574   \n",
       "4                                  -500.808305   \n",
       "...                                        ...   \n",
       "5285                               -499.728848   \n",
       "5286                               -494.716823   \n",
       "5287                               -501.770403   \n",
       "5288                               -500.483984   \n",
       "5289                               -499.796922   \n",
       "\n",
       "      primary_cleaner.state.floatbank8_b_air  \\\n",
       "0                                1399.144926   \n",
       "1                                1398.055362   \n",
       "2                                1398.860436   \n",
       "3                                1397.440120   \n",
       "4                                1398.128818   \n",
       "...                                      ...   \n",
       "5285                             1401.441445   \n",
       "5286                             1448.851892   \n",
       "5287                             1499.572353   \n",
       "5288                             1497.986986   \n",
       "5289                             1501.743791   \n",
       "\n",
       "      primary_cleaner.state.floatbank8_b_level  \\\n",
       "0                                  -499.919735   \n",
       "1                                  -499.778182   \n",
       "2                                  -499.764529   \n",
       "3                                  -499.211024   \n",
       "4                                  -499.504543   \n",
       "...                                        ...   \n",
       "5285                               -499.193423   \n",
       "5286                               -465.963026   \n",
       "5287                               -495.516347   \n",
       "5288                               -519.200340   \n",
       "5289                               -505.146931   \n",
       "\n",
       "      primary_cleaner.state.floatbank8_c_air  ...  \\\n",
       "0                                1400.102998  ...   \n",
       "1                                1396.151033  ...   \n",
       "2                                1398.075709  ...   \n",
       "3                                1400.129303  ...   \n",
       "4                                1402.172226  ...   \n",
       "...                                      ...  ...   \n",
       "5285                             1399.810313  ...   \n",
       "5286                             1443.890424  ...   \n",
       "5287                             1502.749213  ...   \n",
       "5288                             1496.569047  ...   \n",
       "5289                             1499.535978  ...   \n",
       "\n",
       "      secondary_cleaner.state.floatbank4_a_air  \\\n",
       "0                                    12.023554   \n",
       "1                                    12.058140   \n",
       "2                                    11.962366   \n",
       "3                                    12.033091   \n",
       "4                                    12.025367   \n",
       "...                                        ...   \n",
       "5285                                 13.995957   \n",
       "5286                                 16.749781   \n",
       "5287                                 19.994130   \n",
       "5288                                 19.958760   \n",
       "5289                                 20.034715   \n",
       "\n",
       "      secondary_cleaner.state.floatbank4_a_level  \\\n",
       "0                                    -497.795834   \n",
       "1                                    -498.695773   \n",
       "2                                    -498.767484   \n",
       "3                                    -498.350935   \n",
       "4                                    -500.786497   \n",
       "...                                          ...   \n",
       "5285                                 -500.157454   \n",
       "5286                                 -496.031539   \n",
       "5287                                 -499.791312   \n",
       "5288                                 -499.958750   \n",
       "5289                                 -500.728588   \n",
       "\n",
       "      secondary_cleaner.state.floatbank4_b_air  \\\n",
       "0                                     8.016656   \n",
       "1                                     8.130979   \n",
       "2                                     8.096893   \n",
       "3                                     8.074946   \n",
       "4                                     8.054678   \n",
       "...                                        ...   \n",
       "5285                                 12.069155   \n",
       "5286                                 13.365371   \n",
       "5287                                 15.101425   \n",
       "5288                                 15.026853   \n",
       "5289                                 14.914199   \n",
       "\n",
       "      secondary_cleaner.state.floatbank4_b_level  \\\n",
       "0                                    -501.289139   \n",
       "1                                    -499.634209   \n",
       "2                                    -500.827423   \n",
       "3                                    -499.474407   \n",
       "4                                    -500.397500   \n",
       "...                                          ...   \n",
       "5285                                 -499.673279   \n",
       "5286                                 -499.122723   \n",
       "5287                                 -499.936252   \n",
       "5288                                 -499.723143   \n",
       "5289                                 -499.948518   \n",
       "\n",
       "      secondary_cleaner.state.floatbank5_a_air  \\\n",
       "0                                     7.946562   \n",
       "1                                     7.958270   \n",
       "2                                     8.071056   \n",
       "3                                     7.897085   \n",
       "4                                     8.107890   \n",
       "...                                        ...   \n",
       "5285                                  7.977259   \n",
       "5286                                  9.288553   \n",
       "5287                                 10.989181   \n",
       "5288                                 11.011607   \n",
       "5289                                 10.986607   \n",
       "\n",
       "      secondary_cleaner.state.floatbank5_a_level  \\\n",
       "0                                    -432.317850   \n",
       "1                                    -525.839648   \n",
       "2                                    -500.801673   \n",
       "3                                    -500.868509   \n",
       "4                                    -509.526725   \n",
       "...                                          ...   \n",
       "5285                                 -499.516126   \n",
       "5286                                 -496.892967   \n",
       "5287                                 -498.347898   \n",
       "5288                                 -499.985046   \n",
       "5289                                 -500.658027   \n",
       "\n",
       "      secondary_cleaner.state.floatbank5_b_air  \\\n",
       "0                                     4.872511   \n",
       "1                                     4.878850   \n",
       "2                                     4.905125   \n",
       "3                                     4.931400   \n",
       "4                                     4.957674   \n",
       "...                                        ...   \n",
       "5285                                  5.933319   \n",
       "5286                                  7.372897   \n",
       "5287                                  9.020944   \n",
       "5288                                  9.009783   \n",
       "5289                                  8.989497   \n",
       "\n",
       "      secondary_cleaner.state.floatbank5_b_level  \\\n",
       "0                                    -500.037437   \n",
       "1                                    -500.162375   \n",
       "2                                    -499.828510   \n",
       "3                                    -499.963623   \n",
       "4                                    -500.360026   \n",
       "...                                          ...   \n",
       "5285                                 -499.965973   \n",
       "5286                                 -499.942956   \n",
       "5287                                 -500.040448   \n",
       "5288                                 -499.937902   \n",
       "5289                                 -500.337588   \n",
       "\n",
       "      secondary_cleaner.state.floatbank6_a_air  \\\n",
       "0                                    26.705889   \n",
       "1                                    25.019940   \n",
       "2                                    24.994862   \n",
       "3                                    24.948919   \n",
       "4                                    25.003331   \n",
       "...                                        ...   \n",
       "5285                                  8.987171   \n",
       "5286                                  8.986832   \n",
       "5287                                  8.982038   \n",
       "5288                                  9.012660   \n",
       "5289                                  8.988632   \n",
       "\n",
       "      secondary_cleaner.state.floatbank6_a_level  \n",
       "0                                    -499.709414  \n",
       "1                                    -499.819438  \n",
       "2                                    -500.622559  \n",
       "3                                    -498.709987  \n",
       "4                                    -500.856333  \n",
       "...                                          ...  \n",
       "5285                                 -499.755909  \n",
       "5286                                 -499.903761  \n",
       "5287                                 -497.789882  \n",
       "5288                                 -500.154284  \n",
       "5289                                 -500.764937  \n",
       "\n",
       "[5290 rows x 53 columns]"
      ]
     },
     "metadata": {},
     "output_type": "display_data"
    },
    {
     "name": "stdout",
     "output_type": "stream",
     "text": [
      "None\n"
     ]
    }
   ],
   "source": [
    "view(data_test)"
   ]
  },
  {
   "cell_type": "code",
   "execution_count": 7,
   "metadata": {},
   "outputs": [
    {
     "name": "stdout",
     "output_type": "stream",
     "text": [
      "Сводная информация\n",
      "\n",
      "<class 'pandas.core.frame.DataFrame'>\n",
      "RangeIndex: 19439 entries, 0 to 19438\n",
      "Data columns (total 87 columns):\n",
      " #   Column                                              Non-Null Count  Dtype  \n",
      "---  ------                                              --------------  -----  \n",
      " 0   date                                                19439 non-null  object \n",
      " 1   final.output.concentrate_ag                         19438 non-null  float64\n",
      " 2   final.output.concentrate_pb                         19438 non-null  float64\n",
      " 3   final.output.concentrate_sol                        19228 non-null  float64\n",
      " 4   final.output.concentrate_au                         19439 non-null  float64\n",
      " 5   final.output.recovery                               19439 non-null  float64\n",
      " 6   final.output.tail_ag                                19438 non-null  float64\n",
      " 7   final.output.tail_pb                                19338 non-null  float64\n",
      " 8   final.output.tail_sol                               19433 non-null  float64\n",
      " 9   final.output.tail_au                                19439 non-null  float64\n",
      " 10  primary_cleaner.input.sulfate                       19415 non-null  float64\n",
      " 11  primary_cleaner.input.depressant                    19402 non-null  float64\n",
      " 12  primary_cleaner.input.feed_size                     19439 non-null  float64\n",
      " 13  primary_cleaner.input.xanthate                      19335 non-null  float64\n",
      " 14  primary_cleaner.output.concentrate_ag               19439 non-null  float64\n",
      " 15  primary_cleaner.output.concentrate_pb               19323 non-null  float64\n",
      " 16  primary_cleaner.output.concentrate_sol              19069 non-null  float64\n",
      " 17  primary_cleaner.output.concentrate_au               19439 non-null  float64\n",
      " 18  primary_cleaner.output.tail_ag                      19435 non-null  float64\n",
      " 19  primary_cleaner.output.tail_pb                      19418 non-null  float64\n",
      " 20  primary_cleaner.output.tail_sol                     19377 non-null  float64\n",
      " 21  primary_cleaner.output.tail_au                      19439 non-null  float64\n",
      " 22  primary_cleaner.state.floatbank8_a_air              19435 non-null  float64\n",
      " 23  primary_cleaner.state.floatbank8_a_level            19438 non-null  float64\n",
      " 24  primary_cleaner.state.floatbank8_b_air              19435 non-null  float64\n",
      " 25  primary_cleaner.state.floatbank8_b_level            19438 non-null  float64\n",
      " 26  primary_cleaner.state.floatbank8_c_air              19437 non-null  float64\n",
      " 27  primary_cleaner.state.floatbank8_c_level            19438 non-null  float64\n",
      " 28  primary_cleaner.state.floatbank8_d_air              19436 non-null  float64\n",
      " 29  primary_cleaner.state.floatbank8_d_level            19438 non-null  float64\n",
      " 30  rougher.calculation.sulfate_to_au_concentrate       19437 non-null  float64\n",
      " 31  rougher.calculation.floatbank10_sulfate_to_au_feed  19437 non-null  float64\n",
      " 32  rougher.calculation.floatbank11_sulfate_to_au_feed  19437 non-null  float64\n",
      " 33  rougher.calculation.au_pb_ratio                     19439 non-null  float64\n",
      " 34  rougher.input.feed_ag                               19439 non-null  float64\n",
      " 35  rougher.input.feed_pb                               19339 non-null  float64\n",
      " 36  rougher.input.feed_rate                             19428 non-null  float64\n",
      " 37  rougher.input.feed_size                             19294 non-null  float64\n",
      " 38  rougher.input.feed_sol                              19340 non-null  float64\n",
      " 39  rougher.input.feed_au                               19439 non-null  float64\n",
      " 40  rougher.input.floatbank10_sulfate                   19405 non-null  float64\n",
      " 41  rougher.input.floatbank10_xanthate                  19431 non-null  float64\n",
      " 42  rougher.input.floatbank11_sulfate                   19395 non-null  float64\n",
      " 43  rougher.input.floatbank11_xanthate                  18986 non-null  float64\n",
      " 44  rougher.output.concentrate_ag                       19439 non-null  float64\n",
      " 45  rougher.output.concentrate_pb                       19439 non-null  float64\n",
      " 46  rougher.output.concentrate_sol                      19416 non-null  float64\n",
      " 47  rougher.output.concentrate_au                       19439 non-null  float64\n",
      " 48  rougher.output.recovery                             19439 non-null  float64\n",
      " 49  rougher.output.tail_ag                              19438 non-null  float64\n",
      " 50  rougher.output.tail_pb                              19439 non-null  float64\n",
      " 51  rougher.output.tail_sol                             19439 non-null  float64\n",
      " 52  rougher.output.tail_au                              19439 non-null  float64\n",
      " 53  rougher.state.floatbank10_a_air                     19438 non-null  float64\n",
      " 54  rougher.state.floatbank10_a_level                   19438 non-null  float64\n",
      " 55  rougher.state.floatbank10_b_air                     19438 non-null  float64\n",
      " 56  rougher.state.floatbank10_b_level                   19438 non-null  float64\n",
      " 57  rougher.state.floatbank10_c_air                     19438 non-null  float64\n",
      " 58  rougher.state.floatbank10_c_level                   19438 non-null  float64\n",
      " 59  rougher.state.floatbank10_d_air                     19439 non-null  float64\n",
      " 60  rougher.state.floatbank10_d_level                   19439 non-null  float64\n",
      " 61  rougher.state.floatbank10_e_air                     19003 non-null  float64\n",
      " 62  rougher.state.floatbank10_e_level                   19439 non-null  float64\n",
      " 63  rougher.state.floatbank10_f_air                     19439 non-null  float64\n",
      " 64  rougher.state.floatbank10_f_level                   19439 non-null  float64\n",
      " 65  secondary_cleaner.output.tail_ag                    19437 non-null  float64\n",
      " 66  secondary_cleaner.output.tail_pb                    19427 non-null  float64\n",
      " 67  secondary_cleaner.output.tail_sol                   17691 non-null  float64\n",
      " 68  secondary_cleaner.output.tail_au                    19439 non-null  float64\n",
      " 69  secondary_cleaner.state.floatbank2_a_air            19219 non-null  float64\n",
      " 70  secondary_cleaner.state.floatbank2_a_level          19438 non-null  float64\n",
      " 71  secondary_cleaner.state.floatbank2_b_air            19416 non-null  float64\n",
      " 72  secondary_cleaner.state.floatbank2_b_level          19438 non-null  float64\n",
      " 73  secondary_cleaner.state.floatbank3_a_air            19426 non-null  float64\n",
      " 74  secondary_cleaner.state.floatbank3_a_level          19438 non-null  float64\n",
      " 75  secondary_cleaner.state.floatbank3_b_air            19438 non-null  float64\n",
      " 76  secondary_cleaner.state.floatbank3_b_level          19438 non-null  float64\n",
      " 77  secondary_cleaner.state.floatbank4_a_air            19433 non-null  float64\n",
      " 78  secondary_cleaner.state.floatbank4_a_level          19438 non-null  float64\n",
      " 79  secondary_cleaner.state.floatbank4_b_air            19438 non-null  float64\n",
      " 80  secondary_cleaner.state.floatbank4_b_level          19438 non-null  float64\n",
      " 81  secondary_cleaner.state.floatbank5_a_air            19438 non-null  float64\n",
      " 82  secondary_cleaner.state.floatbank5_a_level          19438 non-null  float64\n",
      " 83  secondary_cleaner.state.floatbank5_b_air            19438 non-null  float64\n",
      " 84  secondary_cleaner.state.floatbank5_b_level          19438 non-null  float64\n",
      " 85  secondary_cleaner.state.floatbank6_a_air            19437 non-null  float64\n",
      " 86  secondary_cleaner.state.floatbank6_a_level          19438 non-null  float64\n",
      "dtypes: float64(86), object(1)\n",
      "memory usage: 12.9+ MB\n",
      "\n",
      "Числовое описание данных\n",
      "       final.output.concentrate_ag  final.output.concentrate_pb  \\\n",
      "count                 19438.000000                 19438.000000   \n",
      "mean                      5.168470                     9.978895   \n",
      "std                       1.372348                     1.669240   \n",
      "min                       0.000000                     0.000000   \n",
      "25%                       4.251240                     9.137262   \n",
      "50%                       5.066094                    10.102433   \n",
      "75%                       5.895527                    11.035769   \n",
      "max                      16.001945                    17.031899   \n",
      "\n",
      "       final.output.concentrate_sol  final.output.concentrate_au  \\\n",
      "count                  19228.000000                 19439.000000   \n",
      "mean                       9.501224                    44.076513   \n",
      "std                        2.787537                     5.129784   \n",
      "min                        0.000000                     0.000000   \n",
      "25%                        7.722820                    43.402215   \n",
      "50%                        9.218961                    45.011244   \n",
      "75%                       10.947813                    46.275313   \n",
      "max                       19.615720                    52.756638   \n",
      "\n",
      "       final.output.recovery  final.output.tail_ag  final.output.tail_pb  \\\n",
      "count           19439.000000          19438.000000          19338.000000   \n",
      "mean               67.050208              9.688589              2.705795   \n",
      "std                10.125840              2.328642              0.949077   \n",
      "min                 0.000000              0.000000              0.000000   \n",
      "25%                63.299712              8.062878              2.040119   \n",
      "50%                68.172738              9.743623              2.748730   \n",
      "75%                72.686642             11.134294              3.333216   \n",
      "max               100.000000             19.552149              5.804178   \n",
      "\n",
      "       final.output.tail_sol  final.output.tail_au  \\\n",
      "count           19433.000000          19439.000000   \n",
      "mean               10.583728              3.042467   \n",
      "std                 2.868782              0.922808   \n",
      "min                 0.000000              0.000000   \n",
      "25%                 8.938947              2.461138   \n",
      "50%                10.622456              2.984909   \n",
      "75%                12.104271              3.571351   \n",
      "max                22.317730              8.245022   \n",
      "\n",
      "       primary_cleaner.input.sulfate  ...  \\\n",
      "count                   19415.000000  ...   \n",
      "mean                      144.624774  ...   \n",
      "std                        44.464071  ...   \n",
      "min                         0.003112  ...   \n",
      "25%                       114.107029  ...   \n",
      "50%                       143.232103  ...   \n",
      "75%                       175.075656  ...   \n",
      "max                       265.983123  ...   \n",
      "\n",
      "       secondary_cleaner.state.floatbank4_a_air  \\\n",
      "count                              19433.000000   \n",
      "mean                                  18.987674   \n",
      "std                                    5.411058   \n",
      "min                                    0.000000   \n",
      "25%                                   14.975734   \n",
      "50%                                   18.017481   \n",
      "75%                                   23.012470   \n",
      "max                                   30.115735   \n",
      "\n",
      "       secondary_cleaner.state.floatbank4_a_level  \\\n",
      "count                                19438.000000   \n",
      "mean                                  -485.894516   \n",
      "std                                     47.758570   \n",
      "min                                   -799.798523   \n",
      "25%                                   -500.704892   \n",
      "50%                                   -499.837793   \n",
      "75%                                   -498.249730   \n",
      "max                                   -245.239184   \n",
      "\n",
      "       secondary_cleaner.state.floatbank4_b_air  \\\n",
      "count                              19438.000000   \n",
      "mean                                  15.010366   \n",
      "std                                    4.890228   \n",
      "min                                    0.000000   \n",
      "25%                                   11.940294   \n",
      "50%                                   14.971014   \n",
      "75%                                   19.034162   \n",
      "max                                   31.269706   \n",
      "\n",
      "       secondary_cleaner.state.floatbank4_b_level  \\\n",
      "count                                19438.000000   \n",
      "mean                                  -461.078636   \n",
      "std                                     67.405524   \n",
      "min                                   -800.836914   \n",
      "25%                                   -500.187742   \n",
      "50%                                   -499.459786   \n",
      "75%                                   -400.118106   \n",
      "max                                     -6.506986   \n",
      "\n",
      "       secondary_cleaner.state.floatbank5_a_air  \\\n",
      "count                              19438.000000   \n",
      "mean                                  15.694452   \n",
      "std                                    5.510974   \n",
      "min                                   -0.372054   \n",
      "25%                                   10.988606   \n",
      "50%                                   15.000036   \n",
      "75%                                   18.026190   \n",
      "max                                   43.709931   \n",
      "\n",
      "       secondary_cleaner.state.floatbank5_a_level  \\\n",
      "count                                19438.000000   \n",
      "mean                                  -488.684065   \n",
      "std                                     34.533396   \n",
      "min                                   -797.323986   \n",
      "25%                                   -500.458467   \n",
      "50%                                   -499.802605   \n",
      "75%                                   -498.384187   \n",
      "max                                   -244.483566   \n",
      "\n",
      "       secondary_cleaner.state.floatbank5_b_air  \\\n",
      "count                              19438.000000   \n",
      "mean                                  12.198224   \n",
      "std                                    5.333024   \n",
      "min                                    0.528083   \n",
      "25%                                    8.971105   \n",
      "50%                                   11.019433   \n",
      "75%                                   14.019088   \n",
      "max                                   27.926001   \n",
      "\n",
      "       secondary_cleaner.state.floatbank5_b_level  \\\n",
      "count                                19438.000000   \n",
      "mean                                  -487.149827   \n",
      "std                                     38.347312   \n",
      "min                                   -800.220337   \n",
      "25%                                   -500.129462   \n",
      "50%                                   -499.935317   \n",
      "75%                                   -499.436708   \n",
      "max                                   -137.740004   \n",
      "\n",
      "       secondary_cleaner.state.floatbank6_a_air  \\\n",
      "count                              19437.000000   \n",
      "mean                                  18.959024   \n",
      "std                                    5.550498   \n",
      "min                                   -0.079426   \n",
      "25%                                   14.983037   \n",
      "50%                                   19.960541   \n",
      "75%                                   24.003170   \n",
      "max                                   32.188906   \n",
      "\n",
      "       secondary_cleaner.state.floatbank6_a_level  \n",
      "count                                19438.000000  \n",
      "mean                                  -505.436305  \n",
      "std                                     37.689057  \n",
      "min                                   -809.741464  \n",
      "25%                                   -500.728067  \n",
      "50%                                   -500.048400  \n",
      "75%                                   -499.495378  \n",
      "max                                   -104.427459  \n",
      "\n",
      "[8 rows x 86 columns]\n",
      "\n",
      "Наличие пропусков\n",
      "date                                            0\n",
      "final.output.concentrate_ag                     1\n",
      "final.output.concentrate_pb                     1\n",
      "final.output.concentrate_sol                  211\n",
      "final.output.concentrate_au                     0\n",
      "                                             ... \n",
      "secondary_cleaner.state.floatbank5_a_level      1\n",
      "secondary_cleaner.state.floatbank5_b_air        1\n",
      "secondary_cleaner.state.floatbank5_b_level      1\n",
      "secondary_cleaner.state.floatbank6_a_air        2\n",
      "secondary_cleaner.state.floatbank6_a_level      1\n",
      "Length: 87, dtype: int64\n",
      "\n",
      "Наличие дубликатов\n",
      "0\n",
      "\n",
      "Данные \n"
     ]
    },
    {
     "data": {
      "text/html": [
       "<div>\n",
       "<style scoped>\n",
       "    .dataframe tbody tr th:only-of-type {\n",
       "        vertical-align: middle;\n",
       "    }\n",
       "\n",
       "    .dataframe tbody tr th {\n",
       "        vertical-align: top;\n",
       "    }\n",
       "\n",
       "    .dataframe thead th {\n",
       "        text-align: right;\n",
       "    }\n",
       "</style>\n",
       "<table border=\"1\" class=\"dataframe\">\n",
       "  <thead>\n",
       "    <tr style=\"text-align: right;\">\n",
       "      <th></th>\n",
       "      <th>date</th>\n",
       "      <th>final.output.concentrate_ag</th>\n",
       "      <th>final.output.concentrate_pb</th>\n",
       "      <th>final.output.concentrate_sol</th>\n",
       "      <th>final.output.concentrate_au</th>\n",
       "      <th>final.output.recovery</th>\n",
       "      <th>final.output.tail_ag</th>\n",
       "      <th>final.output.tail_pb</th>\n",
       "      <th>final.output.tail_sol</th>\n",
       "      <th>final.output.tail_au</th>\n",
       "      <th>...</th>\n",
       "      <th>secondary_cleaner.state.floatbank4_a_air</th>\n",
       "      <th>secondary_cleaner.state.floatbank4_a_level</th>\n",
       "      <th>secondary_cleaner.state.floatbank4_b_air</th>\n",
       "      <th>secondary_cleaner.state.floatbank4_b_level</th>\n",
       "      <th>secondary_cleaner.state.floatbank5_a_air</th>\n",
       "      <th>secondary_cleaner.state.floatbank5_a_level</th>\n",
       "      <th>secondary_cleaner.state.floatbank5_b_air</th>\n",
       "      <th>secondary_cleaner.state.floatbank5_b_level</th>\n",
       "      <th>secondary_cleaner.state.floatbank6_a_air</th>\n",
       "      <th>secondary_cleaner.state.floatbank6_a_level</th>\n",
       "    </tr>\n",
       "  </thead>\n",
       "  <tbody>\n",
       "    <tr>\n",
       "      <th>0</th>\n",
       "      <td>2016-01-15 00:00:00</td>\n",
       "      <td>6.055403</td>\n",
       "      <td>9.889648</td>\n",
       "      <td>5.507324</td>\n",
       "      <td>42.192020</td>\n",
       "      <td>70.541216</td>\n",
       "      <td>10.411962</td>\n",
       "      <td>0.895447</td>\n",
       "      <td>16.904297</td>\n",
       "      <td>2.143149</td>\n",
       "      <td>...</td>\n",
       "      <td>14.016835</td>\n",
       "      <td>-502.488007</td>\n",
       "      <td>12.099931</td>\n",
       "      <td>-504.715942</td>\n",
       "      <td>9.925633</td>\n",
       "      <td>-498.310211</td>\n",
       "      <td>8.079666</td>\n",
       "      <td>-500.470978</td>\n",
       "      <td>14.151341</td>\n",
       "      <td>-605.841980</td>\n",
       "    </tr>\n",
       "    <tr>\n",
       "      <th>1</th>\n",
       "      <td>2016-01-15 01:00:00</td>\n",
       "      <td>6.029369</td>\n",
       "      <td>9.968944</td>\n",
       "      <td>5.257781</td>\n",
       "      <td>42.701629</td>\n",
       "      <td>69.266198</td>\n",
       "      <td>10.462676</td>\n",
       "      <td>0.927452</td>\n",
       "      <td>16.634514</td>\n",
       "      <td>2.224930</td>\n",
       "      <td>...</td>\n",
       "      <td>13.992281</td>\n",
       "      <td>-505.503262</td>\n",
       "      <td>11.950531</td>\n",
       "      <td>-501.331529</td>\n",
       "      <td>10.039245</td>\n",
       "      <td>-500.169983</td>\n",
       "      <td>7.984757</td>\n",
       "      <td>-500.582168</td>\n",
       "      <td>13.998353</td>\n",
       "      <td>-599.787184</td>\n",
       "    </tr>\n",
       "    <tr>\n",
       "      <th>2</th>\n",
       "      <td>2016-01-15 02:00:00</td>\n",
       "      <td>6.055926</td>\n",
       "      <td>10.213995</td>\n",
       "      <td>5.383759</td>\n",
       "      <td>42.657501</td>\n",
       "      <td>68.116445</td>\n",
       "      <td>10.507046</td>\n",
       "      <td>0.953716</td>\n",
       "      <td>16.208849</td>\n",
       "      <td>2.257889</td>\n",
       "      <td>...</td>\n",
       "      <td>14.015015</td>\n",
       "      <td>-502.520901</td>\n",
       "      <td>11.912783</td>\n",
       "      <td>-501.133383</td>\n",
       "      <td>10.070913</td>\n",
       "      <td>-500.129135</td>\n",
       "      <td>8.013877</td>\n",
       "      <td>-500.517572</td>\n",
       "      <td>14.028663</td>\n",
       "      <td>-601.427363</td>\n",
       "    </tr>\n",
       "    <tr>\n",
       "      <th>3</th>\n",
       "      <td>2016-01-15 03:00:00</td>\n",
       "      <td>6.047977</td>\n",
       "      <td>9.977019</td>\n",
       "      <td>4.858634</td>\n",
       "      <td>42.689819</td>\n",
       "      <td>68.347543</td>\n",
       "      <td>10.422762</td>\n",
       "      <td>0.883763</td>\n",
       "      <td>16.532835</td>\n",
       "      <td>2.146849</td>\n",
       "      <td>...</td>\n",
       "      <td>14.036510</td>\n",
       "      <td>-500.857308</td>\n",
       "      <td>11.999550</td>\n",
       "      <td>-501.193686</td>\n",
       "      <td>9.970366</td>\n",
       "      <td>-499.201640</td>\n",
       "      <td>7.977324</td>\n",
       "      <td>-500.255908</td>\n",
       "      <td>14.005551</td>\n",
       "      <td>-599.996129</td>\n",
       "    </tr>\n",
       "    <tr>\n",
       "      <th>4</th>\n",
       "      <td>2016-01-15 04:00:00</td>\n",
       "      <td>6.148599</td>\n",
       "      <td>10.142511</td>\n",
       "      <td>4.939416</td>\n",
       "      <td>42.774141</td>\n",
       "      <td>66.927016</td>\n",
       "      <td>10.360302</td>\n",
       "      <td>0.792826</td>\n",
       "      <td>16.525686</td>\n",
       "      <td>2.055292</td>\n",
       "      <td>...</td>\n",
       "      <td>14.027298</td>\n",
       "      <td>-499.838632</td>\n",
       "      <td>11.953070</td>\n",
       "      <td>-501.053894</td>\n",
       "      <td>9.925709</td>\n",
       "      <td>-501.686727</td>\n",
       "      <td>7.894242</td>\n",
       "      <td>-500.356035</td>\n",
       "      <td>13.996647</td>\n",
       "      <td>-601.496691</td>\n",
       "    </tr>\n",
       "    <tr>\n",
       "      <th>...</th>\n",
       "      <td>...</td>\n",
       "      <td>...</td>\n",
       "      <td>...</td>\n",
       "      <td>...</td>\n",
       "      <td>...</td>\n",
       "      <td>...</td>\n",
       "      <td>...</td>\n",
       "      <td>...</td>\n",
       "      <td>...</td>\n",
       "      <td>...</td>\n",
       "      <td>...</td>\n",
       "      <td>...</td>\n",
       "      <td>...</td>\n",
       "      <td>...</td>\n",
       "      <td>...</td>\n",
       "      <td>...</td>\n",
       "      <td>...</td>\n",
       "      <td>...</td>\n",
       "      <td>...</td>\n",
       "      <td>...</td>\n",
       "      <td>...</td>\n",
       "    </tr>\n",
       "    <tr>\n",
       "      <th>19434</th>\n",
       "      <td>2018-08-18 06:59:59</td>\n",
       "      <td>3.224920</td>\n",
       "      <td>11.356233</td>\n",
       "      <td>6.803482</td>\n",
       "      <td>46.713954</td>\n",
       "      <td>73.755150</td>\n",
       "      <td>8.769645</td>\n",
       "      <td>3.141541</td>\n",
       "      <td>10.403181</td>\n",
       "      <td>1.529220</td>\n",
       "      <td>...</td>\n",
       "      <td>23.031497</td>\n",
       "      <td>-501.167942</td>\n",
       "      <td>20.007571</td>\n",
       "      <td>-499.740028</td>\n",
       "      <td>18.006038</td>\n",
       "      <td>-499.834374</td>\n",
       "      <td>13.001114</td>\n",
       "      <td>-500.155694</td>\n",
       "      <td>20.007840</td>\n",
       "      <td>-501.296428</td>\n",
       "    </tr>\n",
       "    <tr>\n",
       "      <th>19435</th>\n",
       "      <td>2018-08-18 07:59:59</td>\n",
       "      <td>3.195978</td>\n",
       "      <td>11.349355</td>\n",
       "      <td>6.862249</td>\n",
       "      <td>46.866780</td>\n",
       "      <td>69.049291</td>\n",
       "      <td>8.897321</td>\n",
       "      <td>3.130493</td>\n",
       "      <td>10.549470</td>\n",
       "      <td>1.612542</td>\n",
       "      <td>...</td>\n",
       "      <td>22.960095</td>\n",
       "      <td>-501.612783</td>\n",
       "      <td>20.035660</td>\n",
       "      <td>-500.251357</td>\n",
       "      <td>17.998535</td>\n",
       "      <td>-500.395178</td>\n",
       "      <td>12.954048</td>\n",
       "      <td>-499.895163</td>\n",
       "      <td>19.968498</td>\n",
       "      <td>-501.041608</td>\n",
       "    </tr>\n",
       "    <tr>\n",
       "      <th>19436</th>\n",
       "      <td>2018-08-18 08:59:59</td>\n",
       "      <td>3.109998</td>\n",
       "      <td>11.434366</td>\n",
       "      <td>6.886013</td>\n",
       "      <td>46.795691</td>\n",
       "      <td>67.002189</td>\n",
       "      <td>8.529606</td>\n",
       "      <td>2.911418</td>\n",
       "      <td>11.115147</td>\n",
       "      <td>1.596616</td>\n",
       "      <td>...</td>\n",
       "      <td>23.015718</td>\n",
       "      <td>-501.711599</td>\n",
       "      <td>19.951231</td>\n",
       "      <td>-499.857027</td>\n",
       "      <td>18.019543</td>\n",
       "      <td>-500.451156</td>\n",
       "      <td>13.023431</td>\n",
       "      <td>-499.914391</td>\n",
       "      <td>19.990885</td>\n",
       "      <td>-501.518452</td>\n",
       "    </tr>\n",
       "    <tr>\n",
       "      <th>19437</th>\n",
       "      <td>2018-08-18 09:59:59</td>\n",
       "      <td>3.367241</td>\n",
       "      <td>11.625587</td>\n",
       "      <td>6.799433</td>\n",
       "      <td>46.408188</td>\n",
       "      <td>65.523246</td>\n",
       "      <td>8.777171</td>\n",
       "      <td>2.819214</td>\n",
       "      <td>10.463847</td>\n",
       "      <td>1.602879</td>\n",
       "      <td>...</td>\n",
       "      <td>23.024963</td>\n",
       "      <td>-501.153409</td>\n",
       "      <td>20.054122</td>\n",
       "      <td>-500.314711</td>\n",
       "      <td>17.979515</td>\n",
       "      <td>-499.272871</td>\n",
       "      <td>12.992404</td>\n",
       "      <td>-499.976268</td>\n",
       "      <td>20.013986</td>\n",
       "      <td>-500.625471</td>\n",
       "    </tr>\n",
       "    <tr>\n",
       "      <th>19438</th>\n",
       "      <td>2018-08-18 10:59:59</td>\n",
       "      <td>3.598375</td>\n",
       "      <td>11.737832</td>\n",
       "      <td>6.717509</td>\n",
       "      <td>46.299438</td>\n",
       "      <td>70.281454</td>\n",
       "      <td>8.406690</td>\n",
       "      <td>2.517518</td>\n",
       "      <td>10.652193</td>\n",
       "      <td>1.389434</td>\n",
       "      <td>...</td>\n",
       "      <td>23.018622</td>\n",
       "      <td>-500.492702</td>\n",
       "      <td>20.020205</td>\n",
       "      <td>-500.220296</td>\n",
       "      <td>17.963512</td>\n",
       "      <td>-499.939490</td>\n",
       "      <td>12.990306</td>\n",
       "      <td>-500.080993</td>\n",
       "      <td>19.990336</td>\n",
       "      <td>-499.191575</td>\n",
       "    </tr>\n",
       "  </tbody>\n",
       "</table>\n",
       "<p>19439 rows × 87 columns</p>\n",
       "</div>"
      ],
      "text/plain": [
       "                      date  final.output.concentrate_ag  \\\n",
       "0      2016-01-15 00:00:00                     6.055403   \n",
       "1      2016-01-15 01:00:00                     6.029369   \n",
       "2      2016-01-15 02:00:00                     6.055926   \n",
       "3      2016-01-15 03:00:00                     6.047977   \n",
       "4      2016-01-15 04:00:00                     6.148599   \n",
       "...                    ...                          ...   \n",
       "19434  2018-08-18 06:59:59                     3.224920   \n",
       "19435  2018-08-18 07:59:59                     3.195978   \n",
       "19436  2018-08-18 08:59:59                     3.109998   \n",
       "19437  2018-08-18 09:59:59                     3.367241   \n",
       "19438  2018-08-18 10:59:59                     3.598375   \n",
       "\n",
       "       final.output.concentrate_pb  final.output.concentrate_sol  \\\n",
       "0                         9.889648                      5.507324   \n",
       "1                         9.968944                      5.257781   \n",
       "2                        10.213995                      5.383759   \n",
       "3                         9.977019                      4.858634   \n",
       "4                        10.142511                      4.939416   \n",
       "...                            ...                           ...   \n",
       "19434                    11.356233                      6.803482   \n",
       "19435                    11.349355                      6.862249   \n",
       "19436                    11.434366                      6.886013   \n",
       "19437                    11.625587                      6.799433   \n",
       "19438                    11.737832                      6.717509   \n",
       "\n",
       "       final.output.concentrate_au  final.output.recovery  \\\n",
       "0                        42.192020              70.541216   \n",
       "1                        42.701629              69.266198   \n",
       "2                        42.657501              68.116445   \n",
       "3                        42.689819              68.347543   \n",
       "4                        42.774141              66.927016   \n",
       "...                            ...                    ...   \n",
       "19434                    46.713954              73.755150   \n",
       "19435                    46.866780              69.049291   \n",
       "19436                    46.795691              67.002189   \n",
       "19437                    46.408188              65.523246   \n",
       "19438                    46.299438              70.281454   \n",
       "\n",
       "       final.output.tail_ag  final.output.tail_pb  final.output.tail_sol  \\\n",
       "0                 10.411962              0.895447              16.904297   \n",
       "1                 10.462676              0.927452              16.634514   \n",
       "2                 10.507046              0.953716              16.208849   \n",
       "3                 10.422762              0.883763              16.532835   \n",
       "4                 10.360302              0.792826              16.525686   \n",
       "...                     ...                   ...                    ...   \n",
       "19434              8.769645              3.141541              10.403181   \n",
       "19435              8.897321              3.130493              10.549470   \n",
       "19436              8.529606              2.911418              11.115147   \n",
       "19437              8.777171              2.819214              10.463847   \n",
       "19438              8.406690              2.517518              10.652193   \n",
       "\n",
       "       final.output.tail_au  ...  secondary_cleaner.state.floatbank4_a_air  \\\n",
       "0                  2.143149  ...                                 14.016835   \n",
       "1                  2.224930  ...                                 13.992281   \n",
       "2                  2.257889  ...                                 14.015015   \n",
       "3                  2.146849  ...                                 14.036510   \n",
       "4                  2.055292  ...                                 14.027298   \n",
       "...                     ...  ...                                       ...   \n",
       "19434              1.529220  ...                                 23.031497   \n",
       "19435              1.612542  ...                                 22.960095   \n",
       "19436              1.596616  ...                                 23.015718   \n",
       "19437              1.602879  ...                                 23.024963   \n",
       "19438              1.389434  ...                                 23.018622   \n",
       "\n",
       "       secondary_cleaner.state.floatbank4_a_level  \\\n",
       "0                                     -502.488007   \n",
       "1                                     -505.503262   \n",
       "2                                     -502.520901   \n",
       "3                                     -500.857308   \n",
       "4                                     -499.838632   \n",
       "...                                           ...   \n",
       "19434                                 -501.167942   \n",
       "19435                                 -501.612783   \n",
       "19436                                 -501.711599   \n",
       "19437                                 -501.153409   \n",
       "19438                                 -500.492702   \n",
       "\n",
       "       secondary_cleaner.state.floatbank4_b_air  \\\n",
       "0                                     12.099931   \n",
       "1                                     11.950531   \n",
       "2                                     11.912783   \n",
       "3                                     11.999550   \n",
       "4                                     11.953070   \n",
       "...                                         ...   \n",
       "19434                                 20.007571   \n",
       "19435                                 20.035660   \n",
       "19436                                 19.951231   \n",
       "19437                                 20.054122   \n",
       "19438                                 20.020205   \n",
       "\n",
       "       secondary_cleaner.state.floatbank4_b_level  \\\n",
       "0                                     -504.715942   \n",
       "1                                     -501.331529   \n",
       "2                                     -501.133383   \n",
       "3                                     -501.193686   \n",
       "4                                     -501.053894   \n",
       "...                                           ...   \n",
       "19434                                 -499.740028   \n",
       "19435                                 -500.251357   \n",
       "19436                                 -499.857027   \n",
       "19437                                 -500.314711   \n",
       "19438                                 -500.220296   \n",
       "\n",
       "       secondary_cleaner.state.floatbank5_a_air  \\\n",
       "0                                      9.925633   \n",
       "1                                     10.039245   \n",
       "2                                     10.070913   \n",
       "3                                      9.970366   \n",
       "4                                      9.925709   \n",
       "...                                         ...   \n",
       "19434                                 18.006038   \n",
       "19435                                 17.998535   \n",
       "19436                                 18.019543   \n",
       "19437                                 17.979515   \n",
       "19438                                 17.963512   \n",
       "\n",
       "       secondary_cleaner.state.floatbank5_a_level  \\\n",
       "0                                     -498.310211   \n",
       "1                                     -500.169983   \n",
       "2                                     -500.129135   \n",
       "3                                     -499.201640   \n",
       "4                                     -501.686727   \n",
       "...                                           ...   \n",
       "19434                                 -499.834374   \n",
       "19435                                 -500.395178   \n",
       "19436                                 -500.451156   \n",
       "19437                                 -499.272871   \n",
       "19438                                 -499.939490   \n",
       "\n",
       "       secondary_cleaner.state.floatbank5_b_air  \\\n",
       "0                                      8.079666   \n",
       "1                                      7.984757   \n",
       "2                                      8.013877   \n",
       "3                                      7.977324   \n",
       "4                                      7.894242   \n",
       "...                                         ...   \n",
       "19434                                 13.001114   \n",
       "19435                                 12.954048   \n",
       "19436                                 13.023431   \n",
       "19437                                 12.992404   \n",
       "19438                                 12.990306   \n",
       "\n",
       "       secondary_cleaner.state.floatbank5_b_level  \\\n",
       "0                                     -500.470978   \n",
       "1                                     -500.582168   \n",
       "2                                     -500.517572   \n",
       "3                                     -500.255908   \n",
       "4                                     -500.356035   \n",
       "...                                           ...   \n",
       "19434                                 -500.155694   \n",
       "19435                                 -499.895163   \n",
       "19436                                 -499.914391   \n",
       "19437                                 -499.976268   \n",
       "19438                                 -500.080993   \n",
       "\n",
       "       secondary_cleaner.state.floatbank6_a_air  \\\n",
       "0                                     14.151341   \n",
       "1                                     13.998353   \n",
       "2                                     14.028663   \n",
       "3                                     14.005551   \n",
       "4                                     13.996647   \n",
       "...                                         ...   \n",
       "19434                                 20.007840   \n",
       "19435                                 19.968498   \n",
       "19436                                 19.990885   \n",
       "19437                                 20.013986   \n",
       "19438                                 19.990336   \n",
       "\n",
       "       secondary_cleaner.state.floatbank6_a_level  \n",
       "0                                     -605.841980  \n",
       "1                                     -599.787184  \n",
       "2                                     -601.427363  \n",
       "3                                     -599.996129  \n",
       "4                                     -601.496691  \n",
       "...                                           ...  \n",
       "19434                                 -501.296428  \n",
       "19435                                 -501.041608  \n",
       "19436                                 -501.518452  \n",
       "19437                                 -500.625471  \n",
       "19438                                 -499.191575  \n",
       "\n",
       "[19439 rows x 87 columns]"
      ]
     },
     "metadata": {},
     "output_type": "display_data"
    },
    {
     "name": "stdout",
     "output_type": "stream",
     "text": [
      "None\n"
     ]
    }
   ],
   "source": [
    "view(data_full)"
   ]
  },
  {
   "cell_type": "markdown",
   "metadata": {},
   "source": [
    "Проверим, что эффективность обогащения рассчитана правильно. Вычислим её на обучающей выборке для признака rougher.output.recovery. Найдем MAE между расчётами и значением признака."
   ]
  },
  {
   "cell_type": "code",
   "execution_count": 8,
   "metadata": {},
   "outputs": [],
   "source": [
    "data_train['recovery'] = (100*(data_train['rougher.output.concentrate_au']*(data_train['rougher.input.feed_au']-data_train['rougher.output.tail_au'])))/(data_train['rougher.input.feed_au']*(data_train['rougher.output.concentrate_au'] - data_train['rougher.output.tail_au']))"
   ]
  },
  {
   "cell_type": "code",
   "execution_count": 9,
   "metadata": {},
   "outputs": [
    {
     "data": {
      "text/html": [
       "<div>\n",
       "<style scoped>\n",
       "    .dataframe tbody tr th:only-of-type {\n",
       "        vertical-align: middle;\n",
       "    }\n",
       "\n",
       "    .dataframe tbody tr th {\n",
       "        vertical-align: top;\n",
       "    }\n",
       "\n",
       "    .dataframe thead th {\n",
       "        text-align: right;\n",
       "    }\n",
       "</style>\n",
       "<table border=\"1\" class=\"dataframe\">\n",
       "  <thead>\n",
       "    <tr style=\"text-align: right;\">\n",
       "      <th></th>\n",
       "      <th>recovery</th>\n",
       "      <th>rougher.output.recovery</th>\n",
       "    </tr>\n",
       "  </thead>\n",
       "  <tbody>\n",
       "    <tr>\n",
       "      <th>0</th>\n",
       "      <td>87.107763</td>\n",
       "      <td>87.107763</td>\n",
       "    </tr>\n",
       "    <tr>\n",
       "      <th>1</th>\n",
       "      <td>86.843261</td>\n",
       "      <td>86.843261</td>\n",
       "    </tr>\n",
       "    <tr>\n",
       "      <th>2</th>\n",
       "      <td>86.842308</td>\n",
       "      <td>86.842308</td>\n",
       "    </tr>\n",
       "    <tr>\n",
       "      <th>3</th>\n",
       "      <td>87.226430</td>\n",
       "      <td>87.226430</td>\n",
       "    </tr>\n",
       "    <tr>\n",
       "      <th>4</th>\n",
       "      <td>86.688794</td>\n",
       "      <td>86.688794</td>\n",
       "    </tr>\n",
       "  </tbody>\n",
       "</table>\n",
       "</div>"
      ],
      "text/plain": [
       "    recovery  rougher.output.recovery\n",
       "0  87.107763                87.107763\n",
       "1  86.843261                86.843261\n",
       "2  86.842308                86.842308\n",
       "3  87.226430                87.226430\n",
       "4  86.688794                86.688794"
      ]
     },
     "execution_count": 9,
     "metadata": {},
     "output_type": "execute_result"
    }
   ],
   "source": [
    "data_train[['recovery', 'rougher.output.recovery']].head()"
   ]
  },
  {
   "cell_type": "code",
   "execution_count": 10,
   "metadata": {},
   "outputs": [
    {
     "name": "stdout",
     "output_type": "stream",
     "text": [
      "МАЕ между расчетами и значением признака составляет: 1.1131451184435918e-14\n"
     ]
    }
   ],
   "source": [
    "rougher_mae = mean_absolute_error(data_train['rougher.output.recovery'], data_train['recovery'])\n",
    "print('МАЕ между расчетами и значением признака составляет:', rougher_mae)"
   ]
  },
  {
   "cell_type": "markdown",
   "metadata": {},
   "source": [
    "Значение среднего абсолютного отклонения (МАЕ) низкое, т.е. значения признака рассчитаны верно. "
   ]
  },
  {
   "cell_type": "markdown",
   "metadata": {},
   "source": [
    "Проанализируем признаки, недоступные в тестовой выборке. Для этого напишем цикл, который покажет каких признаков нет в тестовой выборке."
   ]
  },
  {
   "cell_type": "code",
   "execution_count": 11,
   "metadata": {
    "scrolled": true
   },
   "outputs": [
    {
     "name": "stdout",
     "output_type": "stream",
     "text": [
      "Признаки, которые отсутствуют в тестовой выборке:\n",
      "\n",
      "final.output.concentrate_ag\n",
      "final.output.concentrate_pb\n",
      "final.output.concentrate_sol\n",
      "final.output.concentrate_au\n",
      "final.output.recovery\n",
      "final.output.tail_ag\n",
      "final.output.tail_pb\n",
      "final.output.tail_sol\n",
      "final.output.tail_au\n",
      "primary_cleaner.output.concentrate_ag\n",
      "primary_cleaner.output.concentrate_pb\n",
      "primary_cleaner.output.concentrate_sol\n",
      "primary_cleaner.output.concentrate_au\n",
      "primary_cleaner.output.tail_ag\n",
      "primary_cleaner.output.tail_pb\n",
      "primary_cleaner.output.tail_sol\n",
      "primary_cleaner.output.tail_au\n",
      "rougher.calculation.sulfate_to_au_concentrate\n",
      "rougher.calculation.floatbank10_sulfate_to_au_feed\n",
      "rougher.calculation.floatbank11_sulfate_to_au_feed\n",
      "rougher.calculation.au_pb_ratio\n",
      "rougher.output.concentrate_ag\n",
      "rougher.output.concentrate_pb\n",
      "rougher.output.concentrate_sol\n",
      "rougher.output.concentrate_au\n",
      "rougher.output.recovery\n",
      "rougher.output.tail_ag\n",
      "rougher.output.tail_pb\n",
      "rougher.output.tail_sol\n",
      "rougher.output.tail_au\n",
      "secondary_cleaner.output.tail_ag\n",
      "secondary_cleaner.output.tail_pb\n",
      "secondary_cleaner.output.tail_sol\n",
      "secondary_cleaner.output.tail_au\n",
      "recovery\n"
     ]
    }
   ],
   "source": [
    "print('Признаки, которые отсутствуют в тестовой выборке:')\n",
    "print()\n",
    "signs = []\n",
    "for column in data_train.columns:\n",
    "    if column not in data_test.columns:\n",
    "        signs.append(column)\n",
    "        print (column)"
   ]
  },
  {
   "cell_type": "markdown",
   "metadata": {},
   "source": [
    "В тестовой выборке отсутствуют целевые признаки (final.output.recovery и rougher.output.recovery) и некоторые параметры, потому что замеряются и/или рассчитываются значительно позже (об этом знаем из описания проекта).\n",
    "\n",
    "Тип данных - float64."
   ]
  },
  {
   "cell_type": "markdown",
   "metadata": {},
   "source": [
    "Проведем предобработку данных. \n",
    "Изменим тип данных в data на datatime."
   ]
  },
  {
   "cell_type": "code",
   "execution_count": 12,
   "metadata": {},
   "outputs": [],
   "source": [
    "data_train['date'] = pd.to_datetime(data_train['date'], format='%Y-%m-%d %H:%M:%S')\n",
    "data_test['date'] = pd.to_datetime(data_test['date'], format='%Y-%m-%d %H:%M:%S')\n",
    "data_full['date'] = pd.to_datetime(data_full['date'], format='%Y-%m-%d %H:%M:%S')"
   ]
  },
  {
   "cell_type": "code",
   "execution_count": 13,
   "metadata": {},
   "outputs": [],
   "source": [
    "pd.set_option('display.max_rows', 100)"
   ]
  },
  {
   "cell_type": "code",
   "execution_count": 14,
   "metadata": {
    "scrolled": true
   },
   "outputs": [
    {
     "data": {
      "text/plain": [
       "date                                                     0\n",
       "rougher.input.feed_ag                                    0\n",
       "rougher.input.feed_au                                    0\n",
       "rougher.output.concentrate_ag                            0\n",
       "rougher.output.concentrate_pb                            0\n",
       "rougher.output.concentrate_au                            0\n",
       "rougher.output.recovery                                  0\n",
       "rougher.output.tail_pb                                   0\n",
       "rougher.output.tail_sol                                  0\n",
       "rougher.output.tail_au                                   0\n",
       "rougher.state.floatbank10_d_air                          0\n",
       "rougher.state.floatbank10_d_level                        0\n",
       "rougher.state.floatbank10_e_level                        0\n",
       "rougher.state.floatbank10_f_air                          0\n",
       "rougher.state.floatbank10_f_level                        0\n",
       "secondary_cleaner.output.tail_au                         0\n",
       "rougher.calculation.au_pb_ratio                          0\n",
       "primary_cleaner.output.tail_au                           0\n",
       "recovery                                                 0\n",
       "primary_cleaner.input.feed_size                          0\n",
       "primary_cleaner.output.concentrate_au                    0\n",
       "final.output.concentrate_au                              0\n",
       "final.output.recovery                                    0\n",
       "final.output.tail_ag                                     0\n",
       "primary_cleaner.output.concentrate_ag                    0\n",
       "final.output.tail_au                                     0\n",
       "rougher.state.floatbank10_a_air                          1\n",
       "secondary_cleaner.state.floatbank3_b_level               1\n",
       "secondary_cleaner.state.floatbank3_b_air                 1\n",
       "secondary_cleaner.state.floatbank3_a_level               1\n",
       "rougher.output.tail_ag                                   1\n",
       "primary_cleaner.output.tail_ag                           1\n",
       "rougher.state.floatbank10_b_level                        1\n",
       "rougher.state.floatbank10_b_air                          1\n",
       "rougher.state.floatbank10_c_air                          1\n",
       "rougher.state.floatbank10_c_level                        1\n",
       "secondary_cleaner.state.floatbank2_b_level               1\n",
       "secondary_cleaner.state.floatbank2_a_level               1\n",
       "final.output.concentrate_pb                              1\n",
       "rougher.state.floatbank10_a_level                        1\n",
       "secondary_cleaner.state.floatbank4_a_level               1\n",
       "secondary_cleaner.state.floatbank6_a_level               1\n",
       "secondary_cleaner.state.floatbank4_b_air                 1\n",
       "primary_cleaner.state.floatbank8_a_level                 1\n",
       "primary_cleaner.state.floatbank8_b_level                 1\n",
       "primary_cleaner.state.floatbank8_c_level                 1\n",
       "primary_cleaner.state.floatbank8_d_level                 1\n",
       "rougher.calculation.sulfate_to_au_concentrate            1\n",
       "rougher.calculation.floatbank11_sulfate_to_au_feed       1\n",
       "secondary_cleaner.state.floatbank5_b_level               1\n",
       "rougher.calculation.floatbank10_sulfate_to_au_feed       1\n",
       "final.output.concentrate_ag                              1\n",
       "secondary_cleaner.state.floatbank5_a_level               1\n",
       "secondary_cleaner.state.floatbank5_b_air                 1\n",
       "secondary_cleaner.state.floatbank5_a_air                 1\n",
       "secondary_cleaner.state.floatbank4_b_level               1\n",
       "secondary_cleaner.output.tail_ag                         2\n",
       "secondary_cleaner.state.floatbank6_a_air                 2\n",
       "primary_cleaner.state.floatbank8_c_air                   2\n",
       "primary_cleaner.state.floatbank8_d_air                   3\n",
       "primary_cleaner.state.floatbank8_b_air                   4\n",
       "primary_cleaner.state.floatbank8_a_air                   4\n",
       "secondary_cleaner.state.floatbank3_a_air                 4\n",
       "final.output.tail_sol                                    5\n",
       "secondary_cleaner.state.floatbank4_a_air                 6\n",
       "rougher.input.feed_rate                                  8\n",
       "rougher.input.floatbank10_xanthate                       8\n",
       "secondary_cleaner.output.tail_pb                        10\n",
       "primary_cleaner.output.tail_pb                          15\n",
       "primary_cleaner.input.sulfate                           20\n",
       "secondary_cleaner.state.floatbank2_b_air                21\n",
       "rougher.output.concentrate_sol                          22\n",
       "rougher.input.floatbank10_sulfate                       29\n",
       "primary_cleaner.input.depressant                        32\n",
       "rougher.input.floatbank11_sulfate                       36\n",
       "primary_cleaner.output.tail_sol                         46\n",
       "rougher.input.feed_sol                                  78\n",
       "primary_cleaner.output.concentrate_pb                   86\n",
       "final.output.tail_pb                                   100\n",
       "primary_cleaner.input.xanthate                         100\n",
       "rougher.input.feed_pb                                  100\n",
       "rougher.input.feed_size                                144\n",
       "final.output.concentrate_sol                           211\n",
       "secondary_cleaner.state.floatbank2_a_air               217\n",
       "primary_cleaner.output.concentrate_sol                 286\n",
       "rougher.input.floatbank11_xanthate                     428\n",
       "rougher.state.floatbank10_e_air                        436\n",
       "secondary_cleaner.output.tail_sol                     1605\n",
       "dtype: int64"
      ]
     },
     "execution_count": 14,
     "metadata": {},
     "output_type": "execute_result"
    }
   ],
   "source": [
    "data_train.isnull().sum().sort_values(ascending=True)"
   ]
  },
  {
   "cell_type": "code",
   "execution_count": 15,
   "metadata": {},
   "outputs": [],
   "source": [
    "data_test = data_test.merge(data_full[['date','rougher.output.recovery', 'final.output.recovery']], on='date')"
   ]
  },
  {
   "cell_type": "code",
   "execution_count": 16,
   "metadata": {},
   "outputs": [],
   "source": [
    "data_train = data_train.fillna(method='ffill')\n",
    "data_test = data_test.fillna(method='ffill')\n",
    "data_full = data_full.fillna(method='ffill')"
   ]
  },
  {
   "cell_type": "code",
   "execution_count": 17,
   "metadata": {
    "scrolled": true
   },
   "outputs": [
    {
     "data": {
      "text/plain": [
       "date                                                  0\n",
       "rougher.state.floatbank10_e_level                     0\n",
       "rougher.state.floatbank10_e_air                       0\n",
       "rougher.state.floatbank10_d_level                     0\n",
       "rougher.state.floatbank10_d_air                       0\n",
       "rougher.state.floatbank10_c_level                     0\n",
       "rougher.state.floatbank10_c_air                       0\n",
       "rougher.state.floatbank10_b_level                     0\n",
       "rougher.state.floatbank10_b_air                       0\n",
       "rougher.state.floatbank10_f_air                       0\n",
       "rougher.state.floatbank10_a_level                     0\n",
       "rougher.output.tail_au                                0\n",
       "rougher.output.tail_sol                               0\n",
       "rougher.output.tail_pb                                0\n",
       "rougher.output.tail_ag                                0\n",
       "rougher.output.recovery                               0\n",
       "rougher.output.concentrate_au                         0\n",
       "rougher.output.concentrate_sol                        0\n",
       "rougher.output.concentrate_pb                         0\n",
       "rougher.state.floatbank10_a_air                       0\n",
       "rougher.output.concentrate_ag                         0\n",
       "rougher.state.floatbank10_f_level                     0\n",
       "secondary_cleaner.output.tail_pb                      0\n",
       "secondary_cleaner.state.floatbank5_b_level            0\n",
       "secondary_cleaner.state.floatbank5_b_air              0\n",
       "secondary_cleaner.state.floatbank5_a_level            0\n",
       "secondary_cleaner.state.floatbank5_a_air              0\n",
       "secondary_cleaner.state.floatbank4_b_level            0\n",
       "secondary_cleaner.state.floatbank4_b_air              0\n",
       "secondary_cleaner.state.floatbank4_a_level            0\n",
       "secondary_cleaner.state.floatbank4_a_air              0\n",
       "secondary_cleaner.output.tail_ag                      0\n",
       "secondary_cleaner.state.floatbank3_b_level            0\n",
       "secondary_cleaner.state.floatbank3_a_level            0\n",
       "secondary_cleaner.state.floatbank3_a_air              0\n",
       "secondary_cleaner.state.floatbank2_b_level            0\n",
       "secondary_cleaner.state.floatbank2_b_air              0\n",
       "secondary_cleaner.state.floatbank2_a_level            0\n",
       "secondary_cleaner.state.floatbank2_a_air              0\n",
       "secondary_cleaner.output.tail_au                      0\n",
       "secondary_cleaner.output.tail_sol                     0\n",
       "secondary_cleaner.state.floatbank3_b_air              0\n",
       "secondary_cleaner.state.floatbank6_a_air              0\n",
       "rougher.input.floatbank11_xanthate                    0\n",
       "rougher.input.floatbank10_xanthate                    0\n",
       "primary_cleaner.output.tail_ag                        0\n",
       "primary_cleaner.output.concentrate_au                 0\n",
       "primary_cleaner.output.concentrate_sol                0\n",
       "primary_cleaner.output.concentrate_pb                 0\n",
       "primary_cleaner.output.concentrate_ag                 0\n",
       "primary_cleaner.input.xanthate                        0\n",
       "primary_cleaner.input.feed_size                       0\n",
       "primary_cleaner.input.depressant                      0\n",
       "primary_cleaner.output.tail_pb                        0\n",
       "primary_cleaner.input.sulfate                         0\n",
       "final.output.tail_sol                                 0\n",
       "final.output.tail_pb                                  0\n",
       "final.output.tail_ag                                  0\n",
       "final.output.recovery                                 0\n",
       "final.output.concentrate_au                           0\n",
       "final.output.concentrate_sol                          0\n",
       "final.output.concentrate_pb                           0\n",
       "final.output.concentrate_ag                           0\n",
       "final.output.tail_au                                  0\n",
       "rougher.input.floatbank11_sulfate                     0\n",
       "primary_cleaner.output.tail_sol                       0\n",
       "primary_cleaner.state.floatbank8_a_air                0\n",
       "rougher.input.floatbank10_sulfate                     0\n",
       "rougher.input.feed_au                                 0\n",
       "rougher.input.feed_sol                                0\n",
       "rougher.input.feed_size                               0\n",
       "rougher.input.feed_rate                               0\n",
       "rougher.input.feed_pb                                 0\n",
       "rougher.input.feed_ag                                 0\n",
       "rougher.calculation.au_pb_ratio                       0\n",
       "primary_cleaner.output.tail_au                        0\n",
       "rougher.calculation.floatbank11_sulfate_to_au_feed    0\n",
       "rougher.calculation.sulfate_to_au_concentrate         0\n",
       "primary_cleaner.state.floatbank8_d_level              0\n",
       "primary_cleaner.state.floatbank8_d_air                0\n",
       "primary_cleaner.state.floatbank8_c_level              0\n",
       "primary_cleaner.state.floatbank8_c_air                0\n",
       "primary_cleaner.state.floatbank8_b_level              0\n",
       "primary_cleaner.state.floatbank8_b_air                0\n",
       "primary_cleaner.state.floatbank8_a_level              0\n",
       "rougher.calculation.floatbank10_sulfate_to_au_feed    0\n",
       "secondary_cleaner.state.floatbank6_a_level            0\n",
       "dtype: int64"
      ]
     },
     "execution_count": 17,
     "metadata": {},
     "output_type": "execute_result"
    }
   ],
   "source": [
    "data_full.isnull().sum().sort_values(ascending=True)"
   ]
  },
  {
   "cell_type": "markdown",
   "metadata": {},
   "source": [
    "# Вывод по шагу 1\n",
    "1. Открыли и изучили 3 датафрейма data_train, data_test и data_full.\n",
    "2. Все датафреймы имеют пропуски, поскольку данные могут записываться или рассчитываться позже.\n",
    "3. В датафейме data_test отсутствуют некоторые признаки, в том числе целевые - final.output.recovery и rougher.output.recovery\n",
    "4. Дубликатов нет.\n",
    "5. Провели предобработку данных:\n",
    "    - Изменили во всех датафреймах тип данных в 'date' на datatime\n",
    "    - Удалили пропуски в целевых признаках из обучающей выборке"
   ]
  },
  {
   "cell_type": "markdown",
   "metadata": {},
   "source": [
    "## Анализ данных"
   ]
  },
  {
   "cell_type": "markdown",
   "metadata": {},
   "source": [
    "Посмотрим, как меняется концентрация металлов (Au, Ag, Pb) на различных этапах очистки.\n",
    "\n",
    "Для начала определимся с какими признаками будем работать.\n",
    "\n",
    "1. Параметры сырья до флотации\n",
    "    - rougher.input.feed_au\n",
    "    - rougher.input.feed_ag\n",
    "    - rougher.input.feed_pb\n",
    "\n",
    "\n",
    "2. Параметры продукта после флотации\n",
    "    - rougher.output.concentrate_au\n",
    "    - rougher.output.concentrate_ag\n",
    "    - rougher.output.concentrate_pb\n",
    "    \n",
    "    \n",
    "3. Параметры продукта после первичной очистки\n",
    "    - primary_cleaner.output.concentrate_au\n",
    "    - primary_cleaner.output.concentrate_ag\n",
    "    - primary_cleaner.output.concentrate_pb\n",
    "    \n",
    "\n",
    "4. Финальные характеристики продукта\n",
    "    - final.output.concentrate_au\n",
    "    - final.output.concentrate_ag\n",
    "    - final.output.concentrate_pb"
   ]
  },
  {
   "cell_type": "markdown",
   "metadata": {},
   "source": [
    "Объеденим необходимые признаки по группам для дальнейшего удобства работы с ними"
   ]
  },
  {
   "cell_type": "code",
   "execution_count": 18,
   "metadata": {},
   "outputs": [],
   "source": [
    "concentrate_au = ['rougher.input.feed_au', 'rougher.output.concentrate_au', \n",
    "                  'primary_cleaner.output.concentrate_au', 'final.output.concentrate_au']\n",
    "concentrate_ag = ['rougher.input.feed_ag', 'rougher.output.concentrate_ag', \n",
    "                  'primary_cleaner.output.concentrate_ag', 'final.output.concentrate_ag']\n",
    "concentrate_pb = ['rougher.input.feed_pb', 'rougher.output.concentrate_pb', \n",
    "                  'primary_cleaner.output.concentrate_pb', 'final.output.concentrate_pb']\n",
    "concentrate_sol = ['rougher.input.feed_sol', 'rougher.output.concentrate_sol', \n",
    "                  'primary_cleaner.output.concentrate_sol', 'final.output.concentrate_sol']"
   ]
  },
  {
   "cell_type": "markdown",
   "metadata": {},
   "source": [
    "Создадим функцию, которая будет строить боксплот с признаками по различным этапам обработки"
   ]
  },
  {
   "cell_type": "code",
   "execution_count": 19,
   "metadata": {},
   "outputs": [],
   "source": [
    "def box(concentrate,metal):\n",
    "    sns.boxplot(data=data_train[concentrate], orient=\"h\")\n",
    "    print('Концентрация '+ metal+ ' на этапах обработки')\n",
    "    return"
   ]
  },
  {
   "cell_type": "code",
   "execution_count": 20,
   "metadata": {},
   "outputs": [
    {
     "name": "stdout",
     "output_type": "stream",
     "text": [
      "Концентрация золота на этапах обработки\n"
     ]
    },
    {
     "data": {
      "image/png": "[encoded data removed]",
      "text/plain": [
       "<Figure size 432x288 with 1 Axes>"
      ]
     },
     "metadata": {
      "needs_background": "light"
     },
     "output_type": "display_data"
    }
   ],
   "source": [
    "box(concentrate_au, 'золота')"
   ]
  },
  {
   "cell_type": "code",
   "execution_count": 21,
   "metadata": {},
   "outputs": [
    {
     "name": "stdout",
     "output_type": "stream",
     "text": [
      "Концентрация серебра на этапах обработки\n"
     ]
    },
    {
     "data": {
      "image/png": "[encoded data removed]",
      "text/plain": [
       "<Figure size 432x288 with 1 Axes>"
      ]
     },
     "metadata": {
      "needs_background": "light"
     },
     "output_type": "display_data"
    }
   ],
   "source": [
    "box(concentrate_ag, 'серебра')"
   ]
  },
  {
   "cell_type": "code",
   "execution_count": 22,
   "metadata": {},
   "outputs": [
    {
     "name": "stdout",
     "output_type": "stream",
     "text": [
      "Концентрация свинца на этапах обработки\n"
     ]
    },
    {
     "data": {
      "image/png": "[encoded data removed]",
      "text/plain": [
       "<Figure size 432x288 with 1 Axes>"
      ]
     },
     "metadata": {
      "needs_background": "light"
     },
     "output_type": "display_data"
    }
   ],
   "source": [
    "box(concentrate_pb, 'свинца')"
   ]
  },
  {
   "cell_type": "markdown",
   "metadata": {},
   "source": [
    "Из графиков видно, что с каждым последующим этапом обработки концентрация золота увеличивается, а концентрация серебра и свинца снижается. Для наглядности построим еще plot."
   ]
  },
  {
   "cell_type": "code",
   "execution_count": 23,
   "metadata": {},
   "outputs": [
    {
     "name": "stdout",
     "output_type": "stream",
     "text": [
      "Параметры сырья до флотации\n"
     ]
    },
    {
     "data": {
      "image/png": "[encoded data removed]",
      "text/plain": [
       "<Figure size 432x288 with 1 Axes>"
      ]
     },
     "metadata": {
      "needs_background": "light"
     },
     "output_type": "display_data"
    }
   ],
   "source": [
    "def plotter():\n",
    "    plt.plot(data_train['rougher.input.feed_au'])\n",
    "    plt.plot(data_train['rougher.input.feed_ag'])\n",
    "    plt.plot(data_train['rougher.input.feed_pb'])\n",
    "    print('Параметры сырья до флотации')\n",
    "    plt.show()\n",
    "plotter()"
   ]
  },
  {
   "cell_type": "code",
   "execution_count": 24,
   "metadata": {},
   "outputs": [
    {
     "name": "stdout",
     "output_type": "stream",
     "text": [
      "Параметры продукта после флотации\n"
     ]
    },
    {
     "data": {
      "image/png": "[encoded data removed]",
      "text/plain": [
       "<Figure size 432x288 with 1 Axes>"
      ]
     },
     "metadata": {
      "needs_background": "light"
     },
     "output_type": "display_data"
    }
   ],
   "source": [
    "def plotter():\n",
    "    plt.plot(data_train['rougher.output.concentrate_au'])\n",
    "    plt.plot(data_train['rougher.output.concentrate_ag'])\n",
    "    plt.plot(data_train['rougher.output.concentrate_pb'])\n",
    "    print('Параметры продукта после флотации')\n",
    "    plt.show()\n",
    "plotter()"
   ]
  },
  {
   "cell_type": "code",
   "execution_count": 25,
   "metadata": {},
   "outputs": [
    {
     "name": "stdout",
     "output_type": "stream",
     "text": [
      "Параметры продукта после первичной очистки\n"
     ]
    },
    {
     "data": {
      "image/png": "[encoded data removed]",
      "text/plain": [
       "<Figure size 432x288 with 1 Axes>"
      ]
     },
     "metadata": {
      "needs_background": "light"
     },
     "output_type": "display_data"
    }
   ],
   "source": [
    "def plotter():\n",
    "    plt.plot(data_train['primary_cleaner.output.concentrate_au'])\n",
    "    plt.plot(data_train['primary_cleaner.output.concentrate_ag'])\n",
    "    plt.plot(data_train['primary_cleaner.output.concentrate_pb'])\n",
    "    print('Параметры продукта после первичной очистки')\n",
    "    plt.show()\n",
    "plotter()"
   ]
  },
  {
   "cell_type": "code",
   "execution_count": 26,
   "metadata": {},
   "outputs": [
    {
     "name": "stdout",
     "output_type": "stream",
     "text": [
      "Финальные характеристики продукта\n"
     ]
    },
    {
     "data": {
      "image/png": "[encoded data removed]",
      "text/plain": [
       "<Figure size 432x288 with 1 Axes>"
      ]
     },
     "metadata": {
      "needs_background": "light"
     },
     "output_type": "display_data"
    }
   ],
   "source": [
    "def plotter():\n",
    "    plt.plot(data_train['final.output.concentrate_au'])\n",
    "    plt.plot(data_train['final.output.concentrate_ag'])\n",
    "    plt.plot(data_train['final.output.concentrate_pb'])\n",
    "    print('Финальные характеристики продукта')\n",
    "    plt.show()\n",
    "    \n",
    "plotter()"
   ]
  },
  {
   "cell_type": "code",
   "execution_count": 27,
   "metadata": {},
   "outputs": [
    {
     "name": "stdout",
     "output_type": "stream",
     "text": [
      "Средняя концентрация металлов до флотации:\n",
      "Золото 7.87\n",
      "Серебро 8.58\n",
      "Свинец 3.51\n"
     ]
    }
   ],
   "source": [
    "print('Средняя концентрация металлов до флотации:')\n",
    "print('Золото', round(data_train['rougher.input.feed_au'].mean(), 2))\n",
    "print('Серебро', round(data_train['rougher.input.feed_ag'].mean(),2))\n",
    "print('Свинец', round(data_train['rougher.input.feed_pb'].mean(),2))"
   ]
  },
  {
   "cell_type": "code",
   "execution_count": 28,
   "metadata": {},
   "outputs": [
    {
     "name": "stdout",
     "output_type": "stream",
     "text": [
      "Средняя концентрация металлов после флотации:\n",
      "Золото 19.44\n",
      "Серебро 11.78\n",
      "Свинец 7.66\n"
     ]
    }
   ],
   "source": [
    "print('Средняя концентрация металлов после флотации:')\n",
    "print('Золото', round(data_train['rougher.output.concentrate_au'].mean(), 2))\n",
    "print('Серебро', round(data_train['rougher.output.concentrate_ag'].mean(),2))\n",
    "print('Свинец', round(data_train['rougher.output.concentrate_pb'].mean(),2))"
   ]
  },
  {
   "cell_type": "code",
   "execution_count": 29,
   "metadata": {},
   "outputs": [
    {
     "name": "stdout",
     "output_type": "stream",
     "text": [
      "Средняя концентрация металлов после первичной очистки:\n",
      "Золото 32.39\n",
      "Серебро 8.2\n",
      "Свинец 9.57\n"
     ]
    }
   ],
   "source": [
    "print('Средняя концентрация металлов после первичной очистки:')\n",
    "print('Золото', round(data_train['primary_cleaner.output.concentrate_au'].mean(), 2))\n",
    "print('Серебро', round(data_train['primary_cleaner.output.concentrate_ag'].mean(),2))\n",
    "print('Свинец', round(data_train['primary_cleaner.output.concentrate_pb'].mean(),2))"
   ]
  },
  {
   "cell_type": "code",
   "execution_count": 30,
   "metadata": {},
   "outputs": [
    {
     "name": "stdout",
     "output_type": "stream",
     "text": [
      "Средняя концентрация металлов после вторичной очистки:\n",
      "Золото 44.0\n",
      "Серебро 5.14\n",
      "Свинец 10.13\n"
     ]
    }
   ],
   "source": [
    "print('Средняя концентрация металлов после вторичной очистки:')\n",
    "print('Золото', round(data_train['final.output.concentrate_au'].mean(), 2))\n",
    "print('Серебро', round(data_train['final.output.concentrate_ag'].mean(),2))\n",
    "print('Свинец', round(data_train['final.output.concentrate_pb'].mean(),2))"
   ]
  },
  {
   "cell_type": "markdown",
   "metadata": {},
   "source": [
    "Действительно, с каждым последующим этапом обработки концентрация золота увеличивается, а концентрация серебра и свинца снижается. Интересно, что среднее содержание свинца увеличивается с каждым последующем этапом."
   ]
  },
  {
   "cell_type": "markdown",
   "metadata": {},
   "source": [
    "Сравним распределение размеров гранул сырья на обучающей и тестовой выборках. Если распределения сильно отличаются друг от друга, оценка модели будет неправильной."
   ]
  },
  {
   "cell_type": "code",
   "execution_count": 31,
   "metadata": {},
   "outputs": [],
   "source": [
    "train_rougher = data_train['rougher.input.feed_size']\n",
    "test_rougher = data_test['rougher.input.feed_size']\n",
    "train_primary = data_train['primary_cleaner.input.feed_size']\n",
    "test_primary = data_test['primary_cleaner.input.feed_size']"
   ]
  },
  {
   "cell_type": "code",
   "execution_count": 32,
   "metadata": {},
   "outputs": [],
   "source": [
    "def plot(train, test):\n",
    "    alpha = 0.70\n",
    "    bins = 50\n",
    "    _, ax = plt.subplots(1, figsize=(15, 7))\n",
    "    train.hist(bins=bins, color='lightgray', ax=ax, alpha=alpha) \n",
    "    test.hist(bins=bins, color='orange', ax=ax, alpha=alpha) \n",
    "    plt.ylim(0,6000)\n",
    "    plt.xlim(0,175)\n",
    "    plt.suptitle('Размер гранул до флотации')\n",
    "    plt.show()\n",
    "    print('Средний размер гранул обучающая выборка', train.mean())\n",
    "    print('Средний размер гранул тестовая выборка', test.mean())\n",
    "    print('Средний размер гранул обучающая выборка', train.median())\n",
    "    print('Средний размер гранул обучающая выборка', test.median())"
   ]
  },
  {
   "cell_type": "code",
   "execution_count": 33,
   "metadata": {
    "scrolled": true
   },
   "outputs": [
    {
     "data": {
      "image/png": "[encoded data removed]",
      "text/plain": [
       "<Figure size 1080x504 with 1 Axes>"
      ]
     },
     "metadata": {
      "needs_background": "light"
     },
     "output_type": "display_data"
    },
    {
     "name": "stdout",
     "output_type": "stream",
     "text": [
      "Средний размер гранул обучающая выборка 60.23985599255732\n",
      "Средний размер гранул тестовая выборка 55.952754028895136\n",
      "Средний размер гранул обучающая выборка 55.269783890501536\n",
      "Средний размер гранул обучающая выборка 50.8468431600362\n"
     ]
    }
   ],
   "source": [
    "plot(train_rougher, test_rougher)"
   ]
  },
  {
   "cell_type": "code",
   "execution_count": 34,
   "metadata": {},
   "outputs": [],
   "source": [
    "def plot_2(train_2, test_2):\n",
    "    alpha = 0.70\n",
    "    bins = 50\n",
    "    _, ax = plt.subplots(1, figsize=(15, 7))\n",
    "    train_2.hist(bins=bins, color='lightgray', ax=ax, alpha=alpha) \n",
    "    test_2.hist(bins=bins, color='orange', ax=ax, alpha=alpha) \n",
    "    plt.ylim(0,2500)\n",
    "    plt.xlim(5,11)\n",
    "    plt.suptitle('Размер гранул после первичной очистки')\n",
    "    plt.show()\n",
    "    print('Средний размер гранул обучающая выборка', train_2.mean())\n",
    "    print('Средний размер гранул тестовая выборка', test_2.mean())\n",
    "    print('Средний размер гранул обучающая выборка', train_2.median())\n",
    "    print('Средний размер гранул обучающая выборка', test_2.median())"
   ]
  },
  {
   "cell_type": "code",
   "execution_count": 35,
   "metadata": {
    "scrolled": true
   },
   "outputs": [
    {
     "data": {
      "image/png": "[encoded data removed]",
      "text/plain": [
       "<Figure size 1080x504 with 1 Axes>"
      ]
     },
     "metadata": {
      "needs_background": "light"
     },
     "output_type": "display_data"
    },
    {
     "name": "stdout",
     "output_type": "stream",
     "text": [
      "Средний размер гранул обучающая выборка 7.322309906901314\n",
      "Средний размер гранул тестовая выборка 7.266339191270906\n",
      "Средний размер гранул обучающая выборка 7.289999961853027\n",
      "Средний размер гранул обучающая выборка 7.25\n"
     ]
    }
   ],
   "source": [
    "plot_2(train_primary, test_primary)"
   ]
  },
  {
   "cell_type": "markdown",
   "metadata": {},
   "source": [
    "На графиках видно, что размер гранул и распределение различаются на обучающей и тестовой выборке, при этом средние размеры гранул близки по значениям."
   ]
  },
  {
   "cell_type": "markdown",
   "metadata": {},
   "source": [
    "Исследуем суммарную концентрацию всех веществ на разных стадиях: в сырье, в черновом и финальном концентратах. Нам потребуются данные признаков:\n",
    "\n",
    "- rougher.input.feed_ \n",
    "- rougher.output.concentrate_ \n",
    "- primary_cleaner.output.concentrate_\n",
    "- final.output.concentrate_"
   ]
  },
  {
   "cell_type": "code",
   "execution_count": 36,
   "metadata": {},
   "outputs": [],
   "source": [
    "sum_concentrate_rougher_input = ['rougher.input.feed_au','rougher.input.feed_ag','rougher.input.feed_pb',\n",
    "                                 'rougher.input.feed_sol']\n",
    "sum_concentrate_rougher_output = ['rougher.output.concentrate_au','rougher.output.concentrate_ag',\n",
    "                                  'rougher.output.concentrate_pb','rougher.output.concentrate_sol']\n",
    "sum_concentrate_primary = ['primary_cleaner.output.concentrate_au','primary_cleaner.output.concentrate_ag',\n",
    "                           'primary_cleaner.output.concentrate_pb','primary_cleaner.output.concentrate_sol']\n",
    "sum_concentrate_final = ['final.output.concentrate_au','final.output.concentrate_ag', \n",
    "                         'final.output.concentrate_sol','final.output.concentrate_pb']"
   ]
  },
  {
   "cell_type": "code",
   "execution_count": 37,
   "metadata": {},
   "outputs": [],
   "source": [
    "def box_2(sum_concentrate, stage):\n",
    "    sns.boxplot(data=data_train[sum_concentrate].sum(), orient=\"h\")\n",
    "    print('Концентрация '+stage)\n",
    "    return"
   ]
  },
  {
   "cell_type": "code",
   "execution_count": 38,
   "metadata": {},
   "outputs": [
    {
     "name": "stdout",
     "output_type": "stream",
     "text": [
      "Концентрация сырья на этапе флотации\n"
     ]
    },
    {
     "data": {
      "image/png": "[encoded data removed]",
      "text/plain": [
       "<Figure size 432x288 with 1 Axes>"
      ]
     },
     "metadata": {
      "needs_background": "light"
     },
     "output_type": "display_data"
    }
   ],
   "source": [
    "box_2(sum_concentrate_rougher_input, 'сырья на этапе флотации')"
   ]
  },
  {
   "cell_type": "code",
   "execution_count": 39,
   "metadata": {},
   "outputs": [
    {
     "name": "stdout",
     "output_type": "stream",
     "text": [
      "Концентрация продукта на этапе флотации\n"
     ]
    },
    {
     "data": {
      "image/png": "[encoded data removed]",
      "text/plain": [
       "<Figure size 432x288 with 1 Axes>"
      ]
     },
     "metadata": {
      "needs_background": "light"
     },
     "output_type": "display_data"
    }
   ],
   "source": [
    "box_2(sum_concentrate_rougher_output, 'продукта на этапе флотации')"
   ]
  },
  {
   "cell_type": "code",
   "execution_count": 40,
   "metadata": {},
   "outputs": [
    {
     "name": "stdout",
     "output_type": "stream",
     "text": [
      "Концентрация после первичной очистки\n"
     ]
    },
    {
     "data": {
      "image/png": "[encoded data removed]",
      "text/plain": [
       "<Figure size 432x288 with 1 Axes>"
      ]
     },
     "metadata": {
      "needs_background": "light"
     },
     "output_type": "display_data"
    }
   ],
   "source": [
    "box_2(sum_concentrate_primary,'после первичной очистки' )"
   ]
  },
  {
   "cell_type": "code",
   "execution_count": 41,
   "metadata": {},
   "outputs": [
    {
     "name": "stdout",
     "output_type": "stream",
     "text": [
      "Концентрация на финальном этапе\n"
     ]
    },
    {
     "data": {
      "image/png": "[encoded data removed]",
      "text/plain": [
       "<Figure size 432x288 with 1 Axes>"
      ]
     },
     "metadata": {
      "needs_background": "light"
     },
     "output_type": "display_data"
    }
   ],
   "source": [
    "box_2(sum_concentrate_final, 'на финальном этапе')"
   ]
  },
  {
   "cell_type": "markdown",
   "metadata": {},
   "source": [
    "На боксплота видно, что суммарно концентрация всех веществ уменьшается в финале. После первичной очистки и на финальном этапе присутствуют выбросы. Из-за того, что выбросы могут искажать визуальные данные, посмотрим на суммарную конценртацию на одной гистограмме. Для этого создадим датафрейм с суммарными концентрациями веществ."
   ]
  },
  {
   "cell_type": "code",
   "execution_count": 42,
   "metadata": {},
   "outputs": [
    {
     "data": {
      "text/html": [
       "<div>\n",
       "<style scoped>\n",
       "    .dataframe tbody tr th:only-of-type {\n",
       "        vertical-align: middle;\n",
       "    }\n",
       "\n",
       "    .dataframe tbody tr th {\n",
       "        vertical-align: top;\n",
       "    }\n",
       "\n",
       "    .dataframe thead th {\n",
       "        text-align: right;\n",
       "    }\n",
       "</style>\n",
       "<table border=\"1\" class=\"dataframe\">\n",
       "  <thead>\n",
       "    <tr style=\"text-align: right;\">\n",
       "      <th></th>\n",
       "      <th>rougher.input.feed_au</th>\n",
       "      <th>rougher.output.concentrate_au</th>\n",
       "      <th>primary_cleaner.output.concentrate_au</th>\n",
       "      <th>final.output.concentrate_au</th>\n",
       "      <th>rougher.input.feed_ag</th>\n",
       "      <th>rougher.output.concentrate_ag</th>\n",
       "      <th>primary_cleaner.output.concentrate_ag</th>\n",
       "      <th>final.output.concentrate_ag</th>\n",
       "      <th>rougher.input.feed_pb</th>\n",
       "      <th>rougher.output.concentrate_pb</th>\n",
       "      <th>primary_cleaner.output.concentrate_pb</th>\n",
       "      <th>final.output.concentrate_pb</th>\n",
       "      <th>rougher.input.feed_sol</th>\n",
       "      <th>rougher.output.concentrate_sol</th>\n",
       "      <th>primary_cleaner.output.concentrate_sol</th>\n",
       "      <th>final.output.concentrate_sol</th>\n",
       "    </tr>\n",
       "  </thead>\n",
       "  <tbody>\n",
       "    <tr>\n",
       "      <th>0</th>\n",
       "      <td>6.486150</td>\n",
       "      <td>19.793808</td>\n",
       "      <td>34.174427</td>\n",
       "      <td>42.192020</td>\n",
       "      <td>6.100378</td>\n",
       "      <td>11.500771</td>\n",
       "      <td>8.547551</td>\n",
       "      <td>6.055403</td>\n",
       "      <td>2.284912</td>\n",
       "      <td>7.101074</td>\n",
       "      <td>10.389648</td>\n",
       "      <td>9.889648</td>\n",
       "      <td>36.808594</td>\n",
       "      <td>28.029297</td>\n",
       "      <td>19.529297</td>\n",
       "      <td>5.507324</td>\n",
       "    </tr>\n",
       "    <tr>\n",
       "      <th>1</th>\n",
       "      <td>6.478583</td>\n",
       "      <td>20.050975</td>\n",
       "      <td>34.118526</td>\n",
       "      <td>42.701629</td>\n",
       "      <td>6.161113</td>\n",
       "      <td>11.615865</td>\n",
       "      <td>8.558743</td>\n",
       "      <td>6.029369</td>\n",
       "      <td>2.266033</td>\n",
       "      <td>7.278807</td>\n",
       "      <td>10.497069</td>\n",
       "      <td>9.968944</td>\n",
       "      <td>35.753385</td>\n",
       "      <td>28.067063</td>\n",
       "      <td>19.369147</td>\n",
       "      <td>5.257781</td>\n",
       "    </tr>\n",
       "    <tr>\n",
       "      <th>2</th>\n",
       "      <td>6.362222</td>\n",
       "      <td>19.737170</td>\n",
       "      <td>33.969464</td>\n",
       "      <td>42.657501</td>\n",
       "      <td>6.116455</td>\n",
       "      <td>11.695753</td>\n",
       "      <td>8.603505</td>\n",
       "      <td>6.055926</td>\n",
       "      <td>2.159622</td>\n",
       "      <td>7.216833</td>\n",
       "      <td>10.354494</td>\n",
       "      <td>10.213995</td>\n",
       "      <td>35.971630</td>\n",
       "      <td>27.454037</td>\n",
       "      <td>19.167579</td>\n",
       "      <td>5.383759</td>\n",
       "    </tr>\n",
       "    <tr>\n",
       "      <th>3</th>\n",
       "      <td>6.118189</td>\n",
       "      <td>19.320810</td>\n",
       "      <td>28.260743</td>\n",
       "      <td>42.689819</td>\n",
       "      <td>6.043309</td>\n",
       "      <td>11.915047</td>\n",
       "      <td>7.221879</td>\n",
       "      <td>6.047977</td>\n",
       "      <td>2.037807</td>\n",
       "      <td>7.175616</td>\n",
       "      <td>8.496563</td>\n",
       "      <td>9.977019</td>\n",
       "      <td>36.862241</td>\n",
       "      <td>27.341277</td>\n",
       "      <td>15.978538</td>\n",
       "      <td>4.858634</td>\n",
       "    </tr>\n",
       "    <tr>\n",
       "      <th>4</th>\n",
       "      <td>5.663707</td>\n",
       "      <td>19.216101</td>\n",
       "      <td>33.044932</td>\n",
       "      <td>42.774141</td>\n",
       "      <td>6.060915</td>\n",
       "      <td>12.411054</td>\n",
       "      <td>9.089428</td>\n",
       "      <td>6.148599</td>\n",
       "      <td>1.786875</td>\n",
       "      <td>7.240205</td>\n",
       "      <td>9.986786</td>\n",
       "      <td>10.142511</td>\n",
       "      <td>34.347666</td>\n",
       "      <td>27.041023</td>\n",
       "      <td>19.199864</td>\n",
       "      <td>4.939416</td>\n",
       "    </tr>\n",
       "    <tr>\n",
       "      <th>...</th>\n",
       "      <td>...</td>\n",
       "      <td>...</td>\n",
       "      <td>...</td>\n",
       "      <td>...</td>\n",
       "      <td>...</td>\n",
       "      <td>...</td>\n",
       "      <td>...</td>\n",
       "      <td>...</td>\n",
       "      <td>...</td>\n",
       "      <td>...</td>\n",
       "      <td>...</td>\n",
       "      <td>...</td>\n",
       "      <td>...</td>\n",
       "      <td>...</td>\n",
       "      <td>...</td>\n",
       "      <td>...</td>\n",
       "    </tr>\n",
       "    <tr>\n",
       "      <th>14144</th>\n",
       "      <td>5.335862</td>\n",
       "      <td>18.603550</td>\n",
       "      <td>32.940215</td>\n",
       "      <td>46.713954</td>\n",
       "      <td>6.091855</td>\n",
       "      <td>11.124896</td>\n",
       "      <td>6.559174</td>\n",
       "      <td>3.224920</td>\n",
       "      <td>4.617558</td>\n",
       "      <td>10.984003</td>\n",
       "      <td>12.445966</td>\n",
       "      <td>11.356233</td>\n",
       "      <td>37.369774</td>\n",
       "      <td>30.068876</td>\n",
       "      <td>7.056338</td>\n",
       "      <td>6.803482</td>\n",
       "    </tr>\n",
       "    <tr>\n",
       "      <th>14145</th>\n",
       "      <td>4.838619</td>\n",
       "      <td>18.441436</td>\n",
       "      <td>32.925325</td>\n",
       "      <td>46.866780</td>\n",
       "      <td>6.121323</td>\n",
       "      <td>11.425983</td>\n",
       "      <td>6.612376</td>\n",
       "      <td>3.195978</td>\n",
       "      <td>4.144989</td>\n",
       "      <td>10.888213</td>\n",
       "      <td>12.623947</td>\n",
       "      <td>11.349355</td>\n",
       "      <td>38.591551</td>\n",
       "      <td>29.783972</td>\n",
       "      <td>7.542264</td>\n",
       "      <td>6.862249</td>\n",
       "    </tr>\n",
       "    <tr>\n",
       "      <th>14146</th>\n",
       "      <td>4.525061</td>\n",
       "      <td>15.111231</td>\n",
       "      <td>31.856742</td>\n",
       "      <td>46.795691</td>\n",
       "      <td>5.970515</td>\n",
       "      <td>8.523497</td>\n",
       "      <td>7.128896</td>\n",
       "      <td>3.109998</td>\n",
       "      <td>4.020002</td>\n",
       "      <td>8.955135</td>\n",
       "      <td>12.633558</td>\n",
       "      <td>11.434366</td>\n",
       "      <td>40.074026</td>\n",
       "      <td>22.786467</td>\n",
       "      <td>7.941900</td>\n",
       "      <td>6.886013</td>\n",
       "    </tr>\n",
       "    <tr>\n",
       "      <th>14147</th>\n",
       "      <td>4.362781</td>\n",
       "      <td>17.834772</td>\n",
       "      <td>30.770892</td>\n",
       "      <td>46.408188</td>\n",
       "      <td>6.048130</td>\n",
       "      <td>11.658799</td>\n",
       "      <td>7.490444</td>\n",
       "      <td>3.367241</td>\n",
       "      <td>3.902537</td>\n",
       "      <td>10.655377</td>\n",
       "      <td>12.012378</td>\n",
       "      <td>11.625587</td>\n",
       "      <td>39.713906</td>\n",
       "      <td>29.052742</td>\n",
       "      <td>6.942972</td>\n",
       "      <td>6.799433</td>\n",
       "    </tr>\n",
       "    <tr>\n",
       "      <th>14148</th>\n",
       "      <td>4.365491</td>\n",
       "      <td>17.804134</td>\n",
       "      <td>30.356618</td>\n",
       "      <td>46.299438</td>\n",
       "      <td>6.158718</td>\n",
       "      <td>11.959486</td>\n",
       "      <td>7.537584</td>\n",
       "      <td>3.598375</td>\n",
       "      <td>3.875727</td>\n",
       "      <td>10.702148</td>\n",
       "      <td>11.650285</td>\n",
       "      <td>11.737832</td>\n",
       "      <td>39.135119</td>\n",
       "      <td>29.078235</td>\n",
       "      <td>6.203553</td>\n",
       "      <td>6.717509</td>\n",
       "    </tr>\n",
       "  </tbody>\n",
       "</table>\n",
       "<p>14149 rows × 16 columns</p>\n",
       "</div>"
      ],
      "text/plain": [
       "       rougher.input.feed_au  rougher.output.concentrate_au  \\\n",
       "0                   6.486150                      19.793808   \n",
       "1                   6.478583                      20.050975   \n",
       "2                   6.362222                      19.737170   \n",
       "3                   6.118189                      19.320810   \n",
       "4                   5.663707                      19.216101   \n",
       "...                      ...                            ...   \n",
       "14144               5.335862                      18.603550   \n",
       "14145               4.838619                      18.441436   \n",
       "14146               4.525061                      15.111231   \n",
       "14147               4.362781                      17.834772   \n",
       "14148               4.365491                      17.804134   \n",
       "\n",
       "       primary_cleaner.output.concentrate_au  final.output.concentrate_au  \\\n",
       "0                                  34.174427                    42.192020   \n",
       "1                                  34.118526                    42.701629   \n",
       "2                                  33.969464                    42.657501   \n",
       "3                                  28.260743                    42.689819   \n",
       "4                                  33.044932                    42.774141   \n",
       "...                                      ...                          ...   \n",
       "14144                              32.940215                    46.713954   \n",
       "14145                              32.925325                    46.866780   \n",
       "14146                              31.856742                    46.795691   \n",
       "14147                              30.770892                    46.408188   \n",
       "14148                              30.356618                    46.299438   \n",
       "\n",
       "       rougher.input.feed_ag  rougher.output.concentrate_ag  \\\n",
       "0                   6.100378                      11.500771   \n",
       "1                   6.161113                      11.615865   \n",
       "2                   6.116455                      11.695753   \n",
       "3                   6.043309                      11.915047   \n",
       "4                   6.060915                      12.411054   \n",
       "...                      ...                            ...   \n",
       "14144               6.091855                      11.124896   \n",
       "14145               6.121323                      11.425983   \n",
       "14146               5.970515                       8.523497   \n",
       "14147               6.048130                      11.658799   \n",
       "14148               6.158718                      11.959486   \n",
       "\n",
       "       primary_cleaner.output.concentrate_ag  final.output.concentrate_ag  \\\n",
       "0                                   8.547551                     6.055403   \n",
       "1                                   8.558743                     6.029369   \n",
       "2                                   8.603505                     6.055926   \n",
       "3                                   7.221879                     6.047977   \n",
       "4                                   9.089428                     6.148599   \n",
       "...                                      ...                          ...   \n",
       "14144                               6.559174                     3.224920   \n",
       "14145                               6.612376                     3.195978   \n",
       "14146                               7.128896                     3.109998   \n",
       "14147                               7.490444                     3.367241   \n",
       "14148                               7.537584                     3.598375   \n",
       "\n",
       "       rougher.input.feed_pb  rougher.output.concentrate_pb  \\\n",
       "0                   2.284912                       7.101074   \n",
       "1                   2.266033                       7.278807   \n",
       "2                   2.159622                       7.216833   \n",
       "3                   2.037807                       7.175616   \n",
       "4                   1.786875                       7.240205   \n",
       "...                      ...                            ...   \n",
       "14144               4.617558                      10.984003   \n",
       "14145               4.144989                      10.888213   \n",
       "14146               4.020002                       8.955135   \n",
       "14147               3.902537                      10.655377   \n",
       "14148               3.875727                      10.702148   \n",
       "\n",
       "       primary_cleaner.output.concentrate_pb  final.output.concentrate_pb  \\\n",
       "0                                  10.389648                     9.889648   \n",
       "1                                  10.497069                     9.968944   \n",
       "2                                  10.354494                    10.213995   \n",
       "3                                   8.496563                     9.977019   \n",
       "4                                   9.986786                    10.142511   \n",
       "...                                      ...                          ...   \n",
       "14144                              12.445966                    11.356233   \n",
       "14145                              12.623947                    11.349355   \n",
       "14146                              12.633558                    11.434366   \n",
       "14147                              12.012378                    11.625587   \n",
       "14148                              11.650285                    11.737832   \n",
       "\n",
       "       rougher.input.feed_sol  rougher.output.concentrate_sol  \\\n",
       "0                   36.808594                       28.029297   \n",
       "1                   35.753385                       28.067063   \n",
       "2                   35.971630                       27.454037   \n",
       "3                   36.862241                       27.341277   \n",
       "4                   34.347666                       27.041023   \n",
       "...                       ...                             ...   \n",
       "14144               37.369774                       30.068876   \n",
       "14145               38.591551                       29.783972   \n",
       "14146               40.074026                       22.786467   \n",
       "14147               39.713906                       29.052742   \n",
       "14148               39.135119                       29.078235   \n",
       "\n",
       "       primary_cleaner.output.concentrate_sol  final.output.concentrate_sol  \n",
       "0                                   19.529297                      5.507324  \n",
       "1                                   19.369147                      5.257781  \n",
       "2                                   19.167579                      5.383759  \n",
       "3                                   15.978538                      4.858634  \n",
       "4                                   19.199864                      4.939416  \n",
       "...                                       ...                           ...  \n",
       "14144                                7.056338                      6.803482  \n",
       "14145                                7.542264                      6.862249  \n",
       "14146                                7.941900                      6.886013  \n",
       "14147                                6.942972                      6.799433  \n",
       "14148                                6.203553                      6.717509  \n",
       "\n",
       "[14149 rows x 16 columns]"
      ]
     },
     "execution_count": 42,
     "metadata": {},
     "output_type": "execute_result"
    }
   ],
   "source": [
    "total_concentrate = data_train.loc[:,(concentrate_au+concentrate_ag+concentrate_pb+concentrate_sol)]\n",
    "total_concentrate"
   ]
  },
  {
   "cell_type": "code",
   "execution_count": 43,
   "metadata": {},
   "outputs": [],
   "source": [
    "def total(stage):\n",
    "    total_concentrate['total_'+stage] = (total_concentrate[stage+'_au']+total_concentrate[stage+'_ag']\n",
    "                                         +total_concentrate[stage+'_pb']+total_concentrate[stage+'_sol'])"
   ]
  },
  {
   "cell_type": "code",
   "execution_count": 44,
   "metadata": {},
   "outputs": [],
   "source": [
    "stages = ['rougher.input.feed', 'rougher.output.concentrate', 'primary_cleaner.output.concentrate','final.output.concentrate']\n",
    "for stage in stages:\n",
    "    total(stage)"
   ]
  },
  {
   "cell_type": "code",
   "execution_count": 45,
   "metadata": {},
   "outputs": [
    {
     "data": {
      "text/html": [
       "<div>\n",
       "<style scoped>\n",
       "    .dataframe tbody tr th:only-of-type {\n",
       "        vertical-align: middle;\n",
       "    }\n",
       "\n",
       "    .dataframe tbody tr th {\n",
       "        vertical-align: top;\n",
       "    }\n",
       "\n",
       "    .dataframe thead th {\n",
       "        text-align: right;\n",
       "    }\n",
       "</style>\n",
       "<table border=\"1\" class=\"dataframe\">\n",
       "  <thead>\n",
       "    <tr style=\"text-align: right;\">\n",
       "      <th></th>\n",
       "      <th>rougher.input.feed_au</th>\n",
       "      <th>rougher.output.concentrate_au</th>\n",
       "      <th>primary_cleaner.output.concentrate_au</th>\n",
       "      <th>final.output.concentrate_au</th>\n",
       "      <th>rougher.input.feed_ag</th>\n",
       "      <th>rougher.output.concentrate_ag</th>\n",
       "      <th>primary_cleaner.output.concentrate_ag</th>\n",
       "      <th>final.output.concentrate_ag</th>\n",
       "      <th>rougher.input.feed_pb</th>\n",
       "      <th>rougher.output.concentrate_pb</th>\n",
       "      <th>primary_cleaner.output.concentrate_pb</th>\n",
       "      <th>final.output.concentrate_pb</th>\n",
       "      <th>rougher.input.feed_sol</th>\n",
       "      <th>rougher.output.concentrate_sol</th>\n",
       "      <th>primary_cleaner.output.concentrate_sol</th>\n",
       "      <th>final.output.concentrate_sol</th>\n",
       "      <th>total_rougher.input.feed</th>\n",
       "      <th>total_rougher.output.concentrate</th>\n",
       "      <th>total_primary_cleaner.output.concentrate</th>\n",
       "      <th>total_final.output.concentrate</th>\n",
       "    </tr>\n",
       "  </thead>\n",
       "  <tbody>\n",
       "    <tr>\n",
       "      <th>0</th>\n",
       "      <td>6.486150</td>\n",
       "      <td>19.793808</td>\n",
       "      <td>34.174427</td>\n",
       "      <td>42.192020</td>\n",
       "      <td>6.100378</td>\n",
       "      <td>11.500771</td>\n",
       "      <td>8.547551</td>\n",
       "      <td>6.055403</td>\n",
       "      <td>2.284912</td>\n",
       "      <td>7.101074</td>\n",
       "      <td>10.389648</td>\n",
       "      <td>9.889648</td>\n",
       "      <td>36.808594</td>\n",
       "      <td>28.029297</td>\n",
       "      <td>19.529297</td>\n",
       "      <td>5.507324</td>\n",
       "      <td>51.680034</td>\n",
       "      <td>66.424950</td>\n",
       "      <td>72.640924</td>\n",
       "      <td>63.644396</td>\n",
       "    </tr>\n",
       "    <tr>\n",
       "      <th>1</th>\n",
       "      <td>6.478583</td>\n",
       "      <td>20.050975</td>\n",
       "      <td>34.118526</td>\n",
       "      <td>42.701629</td>\n",
       "      <td>6.161113</td>\n",
       "      <td>11.615865</td>\n",
       "      <td>8.558743</td>\n",
       "      <td>6.029369</td>\n",
       "      <td>2.266033</td>\n",
       "      <td>7.278807</td>\n",
       "      <td>10.497069</td>\n",
       "      <td>9.968944</td>\n",
       "      <td>35.753385</td>\n",
       "      <td>28.067063</td>\n",
       "      <td>19.369147</td>\n",
       "      <td>5.257781</td>\n",
       "      <td>50.659114</td>\n",
       "      <td>67.012710</td>\n",
       "      <td>72.543485</td>\n",
       "      <td>63.957723</td>\n",
       "    </tr>\n",
       "    <tr>\n",
       "      <th>2</th>\n",
       "      <td>6.362222</td>\n",
       "      <td>19.737170</td>\n",
       "      <td>33.969464</td>\n",
       "      <td>42.657501</td>\n",
       "      <td>6.116455</td>\n",
       "      <td>11.695753</td>\n",
       "      <td>8.603505</td>\n",
       "      <td>6.055926</td>\n",
       "      <td>2.159622</td>\n",
       "      <td>7.216833</td>\n",
       "      <td>10.354494</td>\n",
       "      <td>10.213995</td>\n",
       "      <td>35.971630</td>\n",
       "      <td>27.454037</td>\n",
       "      <td>19.167579</td>\n",
       "      <td>5.383759</td>\n",
       "      <td>50.609929</td>\n",
       "      <td>66.103793</td>\n",
       "      <td>72.095042</td>\n",
       "      <td>64.311180</td>\n",
       "    </tr>\n",
       "    <tr>\n",
       "      <th>3</th>\n",
       "      <td>6.118189</td>\n",
       "      <td>19.320810</td>\n",
       "      <td>28.260743</td>\n",
       "      <td>42.689819</td>\n",
       "      <td>6.043309</td>\n",
       "      <td>11.915047</td>\n",
       "      <td>7.221879</td>\n",
       "      <td>6.047977</td>\n",
       "      <td>2.037807</td>\n",
       "      <td>7.175616</td>\n",
       "      <td>8.496563</td>\n",
       "      <td>9.977019</td>\n",
       "      <td>36.862241</td>\n",
       "      <td>27.341277</td>\n",
       "      <td>15.978538</td>\n",
       "      <td>4.858634</td>\n",
       "      <td>51.061546</td>\n",
       "      <td>65.752751</td>\n",
       "      <td>59.957723</td>\n",
       "      <td>63.573449</td>\n",
       "    </tr>\n",
       "    <tr>\n",
       "      <th>4</th>\n",
       "      <td>5.663707</td>\n",
       "      <td>19.216101</td>\n",
       "      <td>33.044932</td>\n",
       "      <td>42.774141</td>\n",
       "      <td>6.060915</td>\n",
       "      <td>12.411054</td>\n",
       "      <td>9.089428</td>\n",
       "      <td>6.148599</td>\n",
       "      <td>1.786875</td>\n",
       "      <td>7.240205</td>\n",
       "      <td>9.986786</td>\n",
       "      <td>10.142511</td>\n",
       "      <td>34.347666</td>\n",
       "      <td>27.041023</td>\n",
       "      <td>19.199864</td>\n",
       "      <td>4.939416</td>\n",
       "      <td>47.859163</td>\n",
       "      <td>65.908382</td>\n",
       "      <td>71.321010</td>\n",
       "      <td>64.004667</td>\n",
       "    </tr>\n",
       "  </tbody>\n",
       "</table>\n",
       "</div>"
      ],
      "text/plain": [
       "   rougher.input.feed_au  rougher.output.concentrate_au  \\\n",
       "0               6.486150                      19.793808   \n",
       "1               6.478583                      20.050975   \n",
       "2               6.362222                      19.737170   \n",
       "3               6.118189                      19.320810   \n",
       "4               5.663707                      19.216101   \n",
       "\n",
       "   primary_cleaner.output.concentrate_au  final.output.concentrate_au  \\\n",
       "0                              34.174427                    42.192020   \n",
       "1                              34.118526                    42.701629   \n",
       "2                              33.969464                    42.657501   \n",
       "3                              28.260743                    42.689819   \n",
       "4                              33.044932                    42.774141   \n",
       "\n",
       "   rougher.input.feed_ag  rougher.output.concentrate_ag  \\\n",
       "0               6.100378                      11.500771   \n",
       "1               6.161113                      11.615865   \n",
       "2               6.116455                      11.695753   \n",
       "3               6.043309                      11.915047   \n",
       "4               6.060915                      12.411054   \n",
       "\n",
       "   primary_cleaner.output.concentrate_ag  final.output.concentrate_ag  \\\n",
       "0                               8.547551                     6.055403   \n",
       "1                               8.558743                     6.029369   \n",
       "2                               8.603505                     6.055926   \n",
       "3                               7.221879                     6.047977   \n",
       "4                               9.089428                     6.148599   \n",
       "\n",
       "   rougher.input.feed_pb  rougher.output.concentrate_pb  \\\n",
       "0               2.284912                       7.101074   \n",
       "1               2.266033                       7.278807   \n",
       "2               2.159622                       7.216833   \n",
       "3               2.037807                       7.175616   \n",
       "4               1.786875                       7.240205   \n",
       "\n",
       "   primary_cleaner.output.concentrate_pb  final.output.concentrate_pb  \\\n",
       "0                              10.389648                     9.889648   \n",
       "1                              10.497069                     9.968944   \n",
       "2                              10.354494                    10.213995   \n",
       "3                               8.496563                     9.977019   \n",
       "4                               9.986786                    10.142511   \n",
       "\n",
       "   rougher.input.feed_sol  rougher.output.concentrate_sol  \\\n",
       "0               36.808594                       28.029297   \n",
       "1               35.753385                       28.067063   \n",
       "2               35.971630                       27.454037   \n",
       "3               36.862241                       27.341277   \n",
       "4               34.347666                       27.041023   \n",
       "\n",
       "   primary_cleaner.output.concentrate_sol  final.output.concentrate_sol  \\\n",
       "0                               19.529297                      5.507324   \n",
       "1                               19.369147                      5.257781   \n",
       "2                               19.167579                      5.383759   \n",
       "3                               15.978538                      4.858634   \n",
       "4                               19.199864                      4.939416   \n",
       "\n",
       "   total_rougher.input.feed  total_rougher.output.concentrate  \\\n",
       "0                 51.680034                         66.424950   \n",
       "1                 50.659114                         67.012710   \n",
       "2                 50.609929                         66.103793   \n",
       "3                 51.061546                         65.752751   \n",
       "4                 47.859163                         65.908382   \n",
       "\n",
       "   total_primary_cleaner.output.concentrate  total_final.output.concentrate  \n",
       "0                                 72.640924                       63.644396  \n",
       "1                                 72.543485                       63.957723  \n",
       "2                                 72.095042                       64.311180  \n",
       "3                                 59.957723                       63.573449  \n",
       "4                                 71.321010                       64.004667  "
      ]
     },
     "execution_count": 45,
     "metadata": {},
     "output_type": "execute_result"
    }
   ],
   "source": [
    "total_concentrate.head()"
   ]
  },
  {
   "cell_type": "code",
   "execution_count": 46,
   "metadata": {},
   "outputs": [
    {
     "data": {
      "image/png": "[encoded data removed]",
      "text/plain": [
       "<Figure size 1080x504 with 1 Axes>"
      ]
     },
     "metadata": {
      "needs_background": "light"
     },
     "output_type": "display_data"
    }
   ],
   "source": [
    "alpha = 0.75\n",
    "bins = 20\n",
    "_, ax = plt.subplots(1, figsize=(15, 7))\n",
    "total_concentrate['total_rougher.input.feed'].hist(bins=bins, color='lightgray', ax=ax, alpha=alpha, label='сырьё')\n",
    "total_concentrate['total_rougher.output.concentrate'].hist(bins=bins, color='blue', ax=ax, alpha=alpha)\n",
    "total_concentrate['total_primary_cleaner.output.concentrate'].hist(bins=bins, color='green', ax=ax, alpha=alpha, label='сырьё')\n",
    "total_concentrate['total_final.output.concentrate'].hist(bins=bins, color='yellow', ax=ax, alpha=alpha, label='сырьё')\n",
    "plt.suptitle('Суммарная концентрация веществ на всех этапах')\n",
    "plt.show()"
   ]
  },
  {
   "cell_type": "markdown",
   "metadata": {},
   "source": [
    "На всех этапах присутствуют нулевые значения, удалим их, поскольку это выбросы."
   ]
  },
  {
   "cell_type": "code",
   "execution_count": 47,
   "metadata": {},
   "outputs": [],
   "source": [
    "data_train=data_train.drop(data_train[data_train[\"rougher.input.feed_au\"]<1].index, axis=0)\n",
    "data_train=data_train.drop(index=data_train[data_train[\"rougher.input.feed_ag\"]<1].index, axis=0)\n",
    "data_train=data_train.drop(index=data_train[data_train[\"rougher.input.feed_pb\"]<1].index, axis=0)\n",
    "data_train=data_train.drop(index=data_train[data_train[\"rougher.output.concentrate_au\"]<1].index, axis=0)\n",
    "data_train=data_train.drop(index=data_train[data_train[\"rougher.output.concentrate_ag\"]<1].index, axis=0)\n",
    "data_train=data_train.drop(index=data_train[data_train[\"rougher.output.concentrate_pb\"]<1].index, axis=1)\n",
    "data_train=data_train.drop(index=data_train[data_train[\"primary_cleaner.output.concentrate_au\"]<1].index, axis=0)\n",
    "data_train=data_train.drop(index=data_train[data_train[\"primary_cleaner.output.concentrate_ag\"]<1].index, axis=0)\n",
    "data_train=data_train.drop(index=data_train[data_train[\"primary_cleaner.output.concentrate_pb\"]<1].index, axis=0)\n",
    "data_train=data_train.drop(index=data_train[data_train[\"final.output.concentrate_au\"]<1].index, axis=0)\n",
    "data_train=data_train.drop(index=data_train[data_train[\"final.output.concentrate_ag\"]<1].index, axis=0)\n",
    "data_train=data_train.drop(index=data_train[data_train[\"final.output.concentrate_pb\"]<1].index, axis=0)"
   ]
  },
  {
   "cell_type": "code",
   "execution_count": 48,
   "metadata": {},
   "outputs": [
    {
     "data": {
      "text/plain": [
       "0"
      ]
     },
     "execution_count": 48,
     "metadata": {},
     "output_type": "execute_result"
    }
   ],
   "source": [
    "(data_train[\"primary_cleaner.output.concentrate_au\"]==0).sum()"
   ]
  },
  {
   "cell_type": "code",
   "execution_count": 49,
   "metadata": {},
   "outputs": [],
   "source": [
    "total_concentrate = data_train.loc[:, (concentrate_au+concentrate_ag+concentrate_pb+concentrate_sol)]\n",
    "\n",
    "def total(stage):\n",
    "    total_concentrate['total_'+stage] = (total_concentrate[stage+'_au']+total_concentrate[stage+'_ag']+total_concentrate[stage+'_pb']+total_concentrate[stage+'_sol'])\n",
    "\n",
    "stages = ['rougher.input.feed', 'rougher.output.concentrate', 'primary_cleaner.output.concentrate','final.output.concentrate']\n",
    "for stage in stages:\n",
    "    total(stage)"
   ]
  },
  {
   "cell_type": "code",
   "execution_count": 50,
   "metadata": {
    "scrolled": true
   },
   "outputs": [
    {
     "data": {
      "image/png": "[encoded data removed]",
      "text/plain": [
       "<Figure size 1080x504 with 1 Axes>"
      ]
     },
     "metadata": {
      "needs_background": "light"
     },
     "output_type": "display_data"
    }
   ],
   "source": [
    "alpha = 0.75\n",
    "bins = 20\n",
    "_, ax = plt.subplots(1, figsize=(15, 7))\n",
    "total_concentrate['total_rougher.input.feed'].hist(bins=bins, color='lightgray', ax=ax, alpha=alpha, label='сырьё')\n",
    "total_concentrate['total_rougher.output.concentrate'].hist(bins=bins, color='blue', ax=ax, alpha=alpha)\n",
    "total_concentrate['total_primary_cleaner.output.concentrate'].hist(bins=bins, color='green', ax=ax, alpha=alpha, label='сырьё')\n",
    "total_concentrate['total_final.output.concentrate'].hist(bins=bins, color='yellow', ax=ax, alpha=alpha, label='сырьё')\n",
    "plt.suptitle('Суммарная концентрация веществ на всех этапах без выбросов')\n",
    "plt.show()"
   ]
  },
  {
   "cell_type": "markdown",
   "metadata": {},
   "source": [
    "# Вывод по шагу 2\n",
    " \n",
    "Размер гранул и распределение различается на обучающей и тестовой выборке.   \n",
    "Данные о концентрации веществ содержат околонулевые значения, которые были удалены.  \n",
    "Суммарно концентрация золота увеличивается, а концентрация серебра и свинца уменьшаятся с каждым этапом."
   ]
  },
  {
   "cell_type": "markdown",
   "metadata": {},
   "source": [
    "## Модель"
   ]
  },
  {
   "cell_type": "markdown",
   "metadata": {},
   "source": [
    "Напишем функцию для вычисления итоговой sMAPE и зададим метрику score."
   ]
  },
  {
   "cell_type": "code",
   "execution_count": 51,
   "metadata": {},
   "outputs": [],
   "source": [
    "def sMAPE(target, predict):\n",
    "    error = np.mean(abs(target - predict)/((abs(target)+abs(predict))/2))*100\n",
    "    return error"
   ]
  },
  {
   "cell_type": "code",
   "execution_count": 52,
   "metadata": {},
   "outputs": [],
   "source": [
    "def final_sMAPE(sMAPE_rougher,sMAPE_final):\n",
    "    return (0.25*sMAPE_rougher + 0.75*sMAPE_final)"
   ]
  },
  {
   "cell_type": "code",
   "execution_count": 53,
   "metadata": {},
   "outputs": [],
   "source": [
    "score = make_scorer(sMAPE, greater_is_better=False)"
   ]
  },
  {
   "cell_type": "code",
   "execution_count": 54,
   "metadata": {},
   "outputs": [],
   "source": [
    "rougher_features = ['rougher.input.feed_ag', \n",
    "                    'rougher.input.feed_pb',\n",
    "                    'rougher.input.feed_rate',\n",
    "                    'rougher.input.feed_size',\n",
    "                    'rougher.input.feed_sol',\n",
    "                    'rougher.input.feed_au',\n",
    "                    'rougher.input.floatbank10_sulfate',\n",
    "                    'rougher.input.floatbank10_xanthate',\n",
    "                    'rougher.input.floatbank11_sulfate',\n",
    "                    'rougher.input.floatbank11_xanthate',\n",
    "                    'rougher.state.floatbank10_a_air',\n",
    "                    'rougher.state.floatbank10_a_level',\n",
    "                    'rougher.state.floatbank10_b_air',\n",
    "                    'rougher.state.floatbank10_b_level',\n",
    "                    'rougher.state.floatbank10_c_air',\n",
    "                    'rougher.state.floatbank10_c_level',\n",
    "                    'rougher.state.floatbank10_d_air',\n",
    "                    'rougher.state.floatbank10_d_level',\n",
    "                    'rougher.state.floatbank10_e_air',\n",
    "                    'rougher.state.floatbank10_e_level',\n",
    "                    'rougher.state.floatbank10_f_air',\n",
    "                    'rougher.state.floatbank10_f_level'] "
   ]
  },
  {
   "cell_type": "code",
   "execution_count": 55,
   "metadata": {},
   "outputs": [],
   "source": [
    "cols = [ c for c in data_train if c in data_test ]\n",
    "clean_train = data_train[cols]"
   ]
  },
  {
   "cell_type": "code",
   "execution_count": 56,
   "metadata": {},
   "outputs": [
    {
     "name": "stdout",
     "output_type": "stream",
     "text": [
      "<class 'pandas.core.frame.DataFrame'>\n",
      "Int64Index: 13436 entries, 0 to 14148\n",
      "Data columns (total 55 columns):\n",
      " #   Column                                      Non-Null Count  Dtype         \n",
      "---  ------                                      --------------  -----         \n",
      " 0   date                                        13436 non-null  datetime64[ns]\n",
      " 1   final.output.recovery                       13436 non-null  float64       \n",
      " 2   primary_cleaner.input.sulfate               13436 non-null  float64       \n",
      " 3   primary_cleaner.input.depressant            13436 non-null  float64       \n",
      " 4   primary_cleaner.input.feed_size             13436 non-null  float64       \n",
      " 5   primary_cleaner.input.xanthate              13436 non-null  float64       \n",
      " 6   primary_cleaner.state.floatbank8_a_air      13436 non-null  float64       \n",
      " 7   primary_cleaner.state.floatbank8_a_level    13436 non-null  float64       \n",
      " 8   primary_cleaner.state.floatbank8_b_air      13436 non-null  float64       \n",
      " 9   primary_cleaner.state.floatbank8_b_level    13436 non-null  float64       \n",
      " 10  primary_cleaner.state.floatbank8_c_air      13436 non-null  float64       \n",
      " 11  primary_cleaner.state.floatbank8_c_level    13436 non-null  float64       \n",
      " 12  primary_cleaner.state.floatbank8_d_air      13436 non-null  float64       \n",
      " 13  primary_cleaner.state.floatbank8_d_level    13436 non-null  float64       \n",
      " 14  rougher.input.feed_ag                       13436 non-null  float64       \n",
      " 15  rougher.input.feed_pb                       13436 non-null  float64       \n",
      " 16  rougher.input.feed_rate                     13436 non-null  float64       \n",
      " 17  rougher.input.feed_size                     13436 non-null  float64       \n",
      " 18  rougher.input.feed_sol                      13436 non-null  float64       \n",
      " 19  rougher.input.feed_au                       13436 non-null  float64       \n",
      " 20  rougher.input.floatbank10_sulfate           13436 non-null  float64       \n",
      " 21  rougher.input.floatbank10_xanthate          13436 non-null  float64       \n",
      " 22  rougher.input.floatbank11_sulfate           13436 non-null  float64       \n",
      " 23  rougher.input.floatbank11_xanthate          13436 non-null  float64       \n",
      " 24  rougher.output.recovery                     13436 non-null  float64       \n",
      " 25  rougher.state.floatbank10_a_air             13436 non-null  float64       \n",
      " 26  rougher.state.floatbank10_a_level           13436 non-null  float64       \n",
      " 27  rougher.state.floatbank10_b_air             13436 non-null  float64       \n",
      " 28  rougher.state.floatbank10_b_level           13436 non-null  float64       \n",
      " 29  rougher.state.floatbank10_c_air             13436 non-null  float64       \n",
      " 30  rougher.state.floatbank10_c_level           13436 non-null  float64       \n",
      " 31  rougher.state.floatbank10_d_air             13436 non-null  float64       \n",
      " 32  rougher.state.floatbank10_d_level           13436 non-null  float64       \n",
      " 33  rougher.state.floatbank10_e_air             13436 non-null  float64       \n",
      " 34  rougher.state.floatbank10_e_level           13436 non-null  float64       \n",
      " 35  rougher.state.floatbank10_f_air             13436 non-null  float64       \n",
      " 36  rougher.state.floatbank10_f_level           13436 non-null  float64       \n",
      " 37  secondary_cleaner.state.floatbank2_a_air    13436 non-null  float64       \n",
      " 38  secondary_cleaner.state.floatbank2_a_level  13436 non-null  float64       \n",
      " 39  secondary_cleaner.state.floatbank2_b_air    13436 non-null  float64       \n",
      " 40  secondary_cleaner.state.floatbank2_b_level  13436 non-null  float64       \n",
      " 41  secondary_cleaner.state.floatbank3_a_air    13436 non-null  float64       \n",
      " 42  secondary_cleaner.state.floatbank3_a_level  13436 non-null  float64       \n",
      " 43  secondary_cleaner.state.floatbank3_b_air    13436 non-null  float64       \n",
      " 44  secondary_cleaner.state.floatbank3_b_level  13436 non-null  float64       \n",
      " 45  secondary_cleaner.state.floatbank4_a_air    13436 non-null  float64       \n",
      " 46  secondary_cleaner.state.floatbank4_a_level  13436 non-null  float64       \n",
      " 47  secondary_cleaner.state.floatbank4_b_air    13436 non-null  float64       \n",
      " 48  secondary_cleaner.state.floatbank4_b_level  13436 non-null  float64       \n",
      " 49  secondary_cleaner.state.floatbank5_a_air    13436 non-null  float64       \n",
      " 50  secondary_cleaner.state.floatbank5_a_level  13436 non-null  float64       \n",
      " 51  secondary_cleaner.state.floatbank5_b_air    13436 non-null  float64       \n",
      " 52  secondary_cleaner.state.floatbank5_b_level  13436 non-null  float64       \n",
      " 53  secondary_cleaner.state.floatbank6_a_air    13436 non-null  float64       \n",
      " 54  secondary_cleaner.state.floatbank6_a_level  13436 non-null  float64       \n",
      "dtypes: datetime64[ns](1), float64(54)\n",
      "memory usage: 6.2 MB\n"
     ]
    }
   ],
   "source": [
    "clean_train.info()"
   ]
  },
  {
   "cell_type": "code",
   "execution_count": 57,
   "metadata": {},
   "outputs": [],
   "source": [
    "features_train = clean_train.drop(['date','rougher.output.recovery', 'final.output.recovery'], axis=1)\n",
    "target_train_rougher = clean_train['rougher.output.recovery']\n",
    "target_train_final = clean_train['final.output.recovery']"
   ]
  },
  {
   "cell_type": "code",
   "execution_count": 58,
   "metadata": {},
   "outputs": [],
   "source": [
    "features_test = data_test.drop(['date','rougher.output.recovery', 'final.output.recovery'], axis=1)\n",
    "target_test_rougher = data_test.loc[:,'rougher.output.recovery']\n",
    "target_test_final = data_test.loc[:,'final.output.recovery']"
   ]
  },
  {
   "cell_type": "code",
   "execution_count": 59,
   "metadata": {
    "scrolled": true
   },
   "outputs": [
    {
     "name": "stdout",
     "output_type": "stream",
     "text": [
      "<class 'pandas.core.frame.DataFrame'>\n",
      "Int64Index: 13436 entries, 0 to 14148\n",
      "Data columns (total 52 columns):\n",
      " #   Column                                      Non-Null Count  Dtype  \n",
      "---  ------                                      --------------  -----  \n",
      " 0   primary_cleaner.input.sulfate               13436 non-null  float64\n",
      " 1   primary_cleaner.input.depressant            13436 non-null  float64\n",
      " 2   primary_cleaner.input.feed_size             13436 non-null  float64\n",
      " 3   primary_cleaner.input.xanthate              13436 non-null  float64\n",
      " 4   primary_cleaner.state.floatbank8_a_air      13436 non-null  float64\n",
      " 5   primary_cleaner.state.floatbank8_a_level    13436 non-null  float64\n",
      " 6   primary_cleaner.state.floatbank8_b_air      13436 non-null  float64\n",
      " 7   primary_cleaner.state.floatbank8_b_level    13436 non-null  float64\n",
      " 8   primary_cleaner.state.floatbank8_c_air      13436 non-null  float64\n",
      " 9   primary_cleaner.state.floatbank8_c_level    13436 non-null  float64\n",
      " 10  primary_cleaner.state.floatbank8_d_air      13436 non-null  float64\n",
      " 11  primary_cleaner.state.floatbank8_d_level    13436 non-null  float64\n",
      " 12  rougher.input.feed_ag                       13436 non-null  float64\n",
      " 13  rougher.input.feed_pb                       13436 non-null  float64\n",
      " 14  rougher.input.feed_rate                     13436 non-null  float64\n",
      " 15  rougher.input.feed_size                     13436 non-null  float64\n",
      " 16  rougher.input.feed_sol                      13436 non-null  float64\n",
      " 17  rougher.input.feed_au                       13436 non-null  float64\n",
      " 18  rougher.input.floatbank10_sulfate           13436 non-null  float64\n",
      " 19  rougher.input.floatbank10_xanthate          13436 non-null  float64\n",
      " 20  rougher.input.floatbank11_sulfate           13436 non-null  float64\n",
      " 21  rougher.input.floatbank11_xanthate          13436 non-null  float64\n",
      " 22  rougher.state.floatbank10_a_air             13436 non-null  float64\n",
      " 23  rougher.state.floatbank10_a_level           13436 non-null  float64\n",
      " 24  rougher.state.floatbank10_b_air             13436 non-null  float64\n",
      " 25  rougher.state.floatbank10_b_level           13436 non-null  float64\n",
      " 26  rougher.state.floatbank10_c_air             13436 non-null  float64\n",
      " 27  rougher.state.floatbank10_c_level           13436 non-null  float64\n",
      " 28  rougher.state.floatbank10_d_air             13436 non-null  float64\n",
      " 29  rougher.state.floatbank10_d_level           13436 non-null  float64\n",
      " 30  rougher.state.floatbank10_e_air             13436 non-null  float64\n",
      " 31  rougher.state.floatbank10_e_level           13436 non-null  float64\n",
      " 32  rougher.state.floatbank10_f_air             13436 non-null  float64\n",
      " 33  rougher.state.floatbank10_f_level           13436 non-null  float64\n",
      " 34  secondary_cleaner.state.floatbank2_a_air    13436 non-null  float64\n",
      " 35  secondary_cleaner.state.floatbank2_a_level  13436 non-null  float64\n",
      " 36  secondary_cleaner.state.floatbank2_b_air    13436 non-null  float64\n",
      " 37  secondary_cleaner.state.floatbank2_b_level  13436 non-null  float64\n",
      " 38  secondary_cleaner.state.floatbank3_a_air    13436 non-null  float64\n",
      " 39  secondary_cleaner.state.floatbank3_a_level  13436 non-null  float64\n",
      " 40  secondary_cleaner.state.floatbank3_b_air    13436 non-null  float64\n",
      " 41  secondary_cleaner.state.floatbank3_b_level  13436 non-null  float64\n",
      " 42  secondary_cleaner.state.floatbank4_a_air    13436 non-null  float64\n",
      " 43  secondary_cleaner.state.floatbank4_a_level  13436 non-null  float64\n",
      " 44  secondary_cleaner.state.floatbank4_b_air    13436 non-null  float64\n",
      " 45  secondary_cleaner.state.floatbank4_b_level  13436 non-null  float64\n",
      " 46  secondary_cleaner.state.floatbank5_a_air    13436 non-null  float64\n",
      " 47  secondary_cleaner.state.floatbank5_a_level  13436 non-null  float64\n",
      " 48  secondary_cleaner.state.floatbank5_b_air    13436 non-null  float64\n",
      " 49  secondary_cleaner.state.floatbank5_b_level  13436 non-null  float64\n",
      " 50  secondary_cleaner.state.floatbank6_a_air    13436 non-null  float64\n",
      " 51  secondary_cleaner.state.floatbank6_a_level  13436 non-null  float64\n",
      "dtypes: float64(52)\n",
      "memory usage: 5.9 MB\n"
     ]
    }
   ],
   "source": [
    "features_train.info()"
   ]
  },
  {
   "cell_type": "code",
   "execution_count": 60,
   "metadata": {},
   "outputs": [
    {
     "name": "stdout",
     "output_type": "stream",
     "text": [
      "(13436, 52)\n",
      "(13436,)\n",
      "(13436,)\n",
      "(5290, 52)\n",
      "(5290,)\n",
      "(5290,)\n"
     ]
    }
   ],
   "source": [
    "print(features_train.shape)\n",
    "print(target_train_rougher.shape)\n",
    "print(target_train_final.shape)\n",
    "print(features_test.shape)\n",
    "print(target_test_rougher.shape)\n",
    "print(target_test_final.shape)"
   ]
  },
  {
   "cell_type": "markdown",
   "metadata": {},
   "source": [
    "Подберем парметры с помощью optuna."
   ]
  },
  {
   "cell_type": "code",
   "execution_count": 61,
   "metadata": {},
   "outputs": [],
   "source": [
    "def objective(trial):\n",
    "    n_estimators = trial.suggest_int('n_estimators', 100, 1000, 100)\n",
    "    max_depths = trial.suggest_int('max_depth', 3, 10, step=2)\n",
    "    clf = RandomForestRegressor(n_estimators=n_estimators,\n",
    "                                 max_depth=max_depths,\n",
    "                                 n_jobs=-1)\n",
    "    score_optuna = cross_val_score(clf, features_train, target_train_final, scoring=score).mean()\n",
    "    return score_optuna"
   ]
  },
  {
   "cell_type": "code",
   "execution_count": 63,
   "metadata": {},
   "outputs": [
    {
     "name": "stderr",
     "output_type": "stream",
     "text": [
      "\u001b[32m[I 2022-09-28 17:26:58,506]\u001b[0m A new study created in memory with name: no-name-5fddee1c-932e-4298-9dbc-87cd6849138d\u001b[0m\n",
      "/opt/conda/lib/python3.9/site-packages/optuna/distributions.py:683: UserWarning: The distribution is specified by [3, 10] and step=2, but the range is not divisible by `step`. It will be replaced by [3, 9].\n",
      "  warnings.warn(\n",
      "\u001b[32m[I 2022-09-28 17:46:10,183]\u001b[0m Trial 0 finished with value: -9.120523200572908 and parameters: {'n_estimators': 800, 'max_depth': 9}. Best is trial 0 with value: -9.120523200572908.\u001b[0m\n",
      "/opt/conda/lib/python3.9/site-packages/optuna/distributions.py:683: UserWarning: The distribution is specified by [3, 10] and step=2, but the range is not divisible by `step`. It will be replaced by [3, 9].\n",
      "  warnings.warn(\n",
      "\u001b[32m[I 2022-09-28 17:48:09,017]\u001b[0m Trial 1 finished with value: -9.107518393965988 and parameters: {'n_estimators': 100, 'max_depth': 7}. Best is trial 1 with value: -9.107518393965988.\u001b[0m\n",
      "/opt/conda/lib/python3.9/site-packages/optuna/distributions.py:683: UserWarning: The distribution is specified by [3, 10] and step=2, but the range is not divisible by `step`. It will be replaced by [3, 9].\n",
      "  warnings.warn(\n",
      "\u001b[32m[I 2022-09-28 17:50:04,824]\u001b[0m Trial 2 finished with value: -9.10455405817656 and parameters: {'n_estimators': 100, 'max_depth': 7}. Best is trial 2 with value: -9.10455405817656.\u001b[0m\n",
      "/opt/conda/lib/python3.9/site-packages/optuna/distributions.py:683: UserWarning: The distribution is specified by [3, 10] and step=2, but the range is not divisible by `step`. It will be replaced by [3, 9].\n",
      "  warnings.warn(\n",
      "\u001b[32m[I 2022-09-28 18:03:41,881]\u001b[0m Trial 3 finished with value: -9.021637697533926 and parameters: {'n_estimators': 700, 'max_depth': 7}. Best is trial 3 with value: -9.021637697533926.\u001b[0m\n",
      "/opt/conda/lib/python3.9/site-packages/optuna/distributions.py:683: UserWarning: The distribution is specified by [3, 10] and step=2, but the range is not divisible by `step`. It will be replaced by [3, 9].\n",
      "  warnings.warn(\n",
      "\u001b[32m[I 2022-09-28 18:18:43,660]\u001b[0m Trial 4 finished with value: -8.936607169018904 and parameters: {'n_estimators': 1000, 'max_depth': 5}. Best is trial 4 with value: -8.936607169018904.\u001b[0m\n",
      "/opt/conda/lib/python3.9/site-packages/optuna/distributions.py:683: UserWarning: The distribution is specified by [3, 10] and step=2, but the range is not divisible by `step`. It will be replaced by [3, 9].\n",
      "  warnings.warn(\n",
      "\u001b[32m[I 2022-09-28 18:30:34,606]\u001b[0m Trial 5 finished with value: -8.970274595512143 and parameters: {'n_estimators': 800, 'max_depth': 5}. Best is trial 4 with value: -8.936607169018904.\u001b[0m\n",
      "/opt/conda/lib/python3.9/site-packages/optuna/distributions.py:683: UserWarning: The distribution is specified by [3, 10] and step=2, but the range is not divisible by `step`. It will be replaced by [3, 9].\n",
      "  warnings.warn(\n",
      "\u001b[32m[I 2022-09-28 18:33:24,127]\u001b[0m Trial 6 finished with value: -8.863061571365437 and parameters: {'n_estimators': 300, 'max_depth': 3}. Best is trial 6 with value: -8.863061571365437.\u001b[0m\n",
      "/opt/conda/lib/python3.9/site-packages/optuna/distributions.py:683: UserWarning: The distribution is specified by [3, 10] and step=2, but the range is not divisible by `step`. It will be replaced by [3, 9].\n",
      "  warnings.warn(\n",
      "\u001b[32m[I 2022-09-28 18:42:36,751]\u001b[0m Trial 7 finished with value: -8.84123262340567 and parameters: {'n_estimators': 1000, 'max_depth': 3}. Best is trial 7 with value: -8.84123262340567.\u001b[0m\n",
      "/opt/conda/lib/python3.9/site-packages/optuna/distributions.py:683: UserWarning: The distribution is specified by [3, 10] and step=2, but the range is not divisible by `step`. It will be replaced by [3, 9].\n",
      "  warnings.warn(\n",
      "\u001b[32m[I 2022-09-28 18:48:11,936]\u001b[0m Trial 8 finished with value: -8.834942861686923 and parameters: {'n_estimators': 600, 'max_depth': 3}. Best is trial 8 with value: -8.834942861686923.\u001b[0m\n",
      "/opt/conda/lib/python3.9/site-packages/optuna/distributions.py:683: UserWarning: The distribution is specified by [3, 10] and step=2, but the range is not divisible by `step`. It will be replaced by [3, 9].\n",
      "  warnings.warn(\n",
      "\u001b[32m[I 2022-09-28 19:01:28,445]\u001b[0m Trial 9 finished with value: -8.96045594484417 and parameters: {'n_estimators': 900, 'max_depth': 5}. Best is trial 8 with value: -8.834942861686923.\u001b[0m\n",
      "/opt/conda/lib/python3.9/site-packages/optuna/distributions.py:683: UserWarning: The distribution is specified by [3, 10] and step=2, but the range is not divisible by `step`. It will be replaced by [3, 9].\n",
      "  warnings.warn(\n",
      "\u001b[32m[I 2022-09-28 19:06:12,357]\u001b[0m Trial 10 finished with value: -8.869867357786966 and parameters: {'n_estimators': 500, 'max_depth': 3}. Best is trial 8 with value: -8.834942861686923.\u001b[0m\n",
      "/opt/conda/lib/python3.9/site-packages/optuna/distributions.py:683: UserWarning: The distribution is specified by [3, 10] and step=2, but the range is not divisible by `step`. It will be replaced by [3, 9].\n",
      "  warnings.warn(\n",
      "\u001b[32m[I 2022-09-28 19:10:52,866]\u001b[0m Trial 11 finished with value: -8.83089183895272 and parameters: {'n_estimators': 500, 'max_depth': 3}. Best is trial 11 with value: -8.83089183895272.\u001b[0m\n",
      "/opt/conda/lib/python3.9/site-packages/optuna/distributions.py:683: UserWarning: The distribution is specified by [3, 10] and step=2, but the range is not divisible by `step`. It will be replaced by [3, 9].\n",
      "  warnings.warn(\n",
      "\u001b[32m[I 2022-09-28 19:15:35,866]\u001b[0m Trial 12 finished with value: -8.83156656296897 and parameters: {'n_estimators': 500, 'max_depth': 3}. Best is trial 11 with value: -8.83089183895272.\u001b[0m\n",
      "/opt/conda/lib/python3.9/site-packages/optuna/distributions.py:683: UserWarning: The distribution is specified by [3, 10] and step=2, but the range is not divisible by `step`. It will be replaced by [3, 9].\n",
      "  warnings.warn(\n",
      "\u001b[32m[I 2022-09-28 19:19:21,603]\u001b[0m Trial 13 finished with value: -8.840415502798242 and parameters: {'n_estimators': 400, 'max_depth': 3}. Best is trial 11 with value: -8.83089183895272.\u001b[0m\n",
      "/opt/conda/lib/python3.9/site-packages/optuna/distributions.py:683: UserWarning: The distribution is specified by [3, 10] and step=2, but the range is not divisible by `step`. It will be replaced by [3, 9].\n",
      "  warnings.warn(\n",
      "\u001b[32m[I 2022-09-28 19:23:54,994]\u001b[0m Trial 14 finished with value: -8.916537041412537 and parameters: {'n_estimators': 300, 'max_depth': 5}. Best is trial 11 with value: -8.83089183895272.\u001b[0m\n",
      "/opt/conda/lib/python3.9/site-packages/optuna/distributions.py:683: UserWarning: The distribution is specified by [3, 10] and step=2, but the range is not divisible by `step`. It will be replaced by [3, 9].\n",
      "  warnings.warn(\n",
      "\u001b[32m[I 2022-09-28 19:36:15,160]\u001b[0m Trial 15 finished with value: -9.121357010625626 and parameters: {'n_estimators': 500, 'max_depth': 9}. Best is trial 11 with value: -8.83089183895272.\u001b[0m\n",
      "/opt/conda/lib/python3.9/site-packages/optuna/distributions.py:683: UserWarning: The distribution is specified by [3, 10] and step=2, but the range is not divisible by `step`. It will be replaced by [3, 9].\n",
      "  warnings.warn(\n",
      "\u001b[32m[I 2022-09-28 19:42:13,908]\u001b[0m Trial 16 finished with value: -8.827307609888456 and parameters: {'n_estimators': 600, 'max_depth': 3}. Best is trial 16 with value: -8.827307609888456.\u001b[0m\n",
      "/opt/conda/lib/python3.9/site-packages/optuna/distributions.py:683: UserWarning: The distribution is specified by [3, 10] and step=2, but the range is not divisible by `step`. It will be replaced by [3, 9].\n",
      "  warnings.warn(\n",
      "\u001b[32m[I 2022-09-28 19:52:32,681]\u001b[0m Trial 17 finished with value: -8.940651622740667 and parameters: {'n_estimators': 700, 'max_depth': 5}. Best is trial 16 with value: -8.827307609888456.\u001b[0m\n",
      "/opt/conda/lib/python3.9/site-packages/optuna/distributions.py:683: UserWarning: The distribution is specified by [3, 10] and step=2, but the range is not divisible by `step`. It will be replaced by [3, 9].\n",
      "  warnings.warn(\n",
      "\u001b[32m[I 2022-09-28 19:55:19,992]\u001b[0m Trial 18 finished with value: -8.840383791936707 and parameters: {'n_estimators': 300, 'max_depth': 3}. Best is trial 16 with value: -8.827307609888456.\u001b[0m\n",
      "/opt/conda/lib/python3.9/site-packages/optuna/distributions.py:683: UserWarning: The distribution is specified by [3, 10] and step=2, but the range is not divisible by `step`. It will be replaced by [3, 9].\n",
      "  warnings.warn(\n",
      "\u001b[32m[I 2022-09-28 20:04:03,382]\u001b[0m Trial 19 finished with value: -8.973838108976878 and parameters: {'n_estimators': 600, 'max_depth': 5}. Best is trial 16 with value: -8.827307609888456.\u001b[0m\n",
      "/opt/conda/lib/python3.9/site-packages/optuna/distributions.py:683: UserWarning: The distribution is specified by [3, 10] and step=2, but the range is not divisible by `step`. It will be replaced by [3, 9].\n",
      "  warnings.warn(\n",
      "\u001b[32m[I 2022-09-28 20:07:43,843]\u001b[0m Trial 20 finished with value: -8.85561187375885 and parameters: {'n_estimators': 400, 'max_depth': 3}. Best is trial 16 with value: -8.827307609888456.\u001b[0m\n",
      "/opt/conda/lib/python3.9/site-packages/optuna/distributions.py:683: UserWarning: The distribution is specified by [3, 10] and step=2, but the range is not divisible by `step`. It will be replaced by [3, 9].\n",
      "  warnings.warn(\n",
      "\u001b[32m[I 2022-09-28 20:11:27,983]\u001b[0m Trial 21 finished with value: -8.827981479357817 and parameters: {'n_estimators': 400, 'max_depth': 3}. Best is trial 16 with value: -8.827307609888456.\u001b[0m\n",
      "/opt/conda/lib/python3.9/site-packages/optuna/distributions.py:683: UserWarning: The distribution is specified by [3, 10] and step=2, but the range is not divisible by `step`. It will be replaced by [3, 9].\n",
      "  warnings.warn(\n",
      "\u001b[32m[I 2022-09-28 20:15:12,503]\u001b[0m Trial 22 finished with value: -8.852750589012821 and parameters: {'n_estimators': 400, 'max_depth': 3}. Best is trial 16 with value: -8.827307609888456.\u001b[0m\n",
      "/opt/conda/lib/python3.9/site-packages/optuna/distributions.py:683: UserWarning: The distribution is specified by [3, 10] and step=2, but the range is not divisible by `step`. It will be replaced by [3, 9].\n",
      "  warnings.warn(\n",
      "\u001b[32m[I 2022-09-28 20:17:08,277]\u001b[0m Trial 23 finished with value: -8.870743950903147 and parameters: {'n_estimators': 200, 'max_depth': 3}. Best is trial 16 with value: -8.827307609888456.\u001b[0m\n",
      "/opt/conda/lib/python3.9/site-packages/optuna/distributions.py:683: UserWarning: The distribution is specified by [3, 10] and step=2, but the range is not divisible by `step`. It will be replaced by [3, 9].\n",
      "  warnings.warn(\n",
      "\u001b[32m[I 2022-09-28 20:25:58,502]\u001b[0m Trial 24 finished with value: -8.944244909520686 and parameters: {'n_estimators': 600, 'max_depth': 5}. Best is trial 16 with value: -8.827307609888456.\u001b[0m\n",
      "/opt/conda/lib/python3.9/site-packages/optuna/distributions.py:683: UserWarning: The distribution is specified by [3, 10] and step=2, but the range is not divisible by `step`. It will be replaced by [3, 9].\n",
      "  warnings.warn(\n",
      "\u001b[32m[I 2022-09-28 20:32:27,900]\u001b[0m Trial 25 finished with value: -8.860661823911823 and parameters: {'n_estimators': 700, 'max_depth': 3}. Best is trial 16 with value: -8.827307609888456.\u001b[0m\n",
      "/opt/conda/lib/python3.9/site-packages/optuna/distributions.py:683: UserWarning: The distribution is specified by [3, 10] and step=2, but the range is not divisible by `step`. It will be replaced by [3, 9].\n",
      "  warnings.warn(\n",
      "\u001b[32m[I 2022-09-28 20:38:13,017]\u001b[0m Trial 26 finished with value: -8.972375874704834 and parameters: {'n_estimators': 400, 'max_depth': 5}. Best is trial 16 with value: -8.827307609888456.\u001b[0m\n",
      "/opt/conda/lib/python3.9/site-packages/optuna/distributions.py:683: UserWarning: The distribution is specified by [3, 10] and step=2, but the range is not divisible by `step`. It will be replaced by [3, 9].\n",
      "  warnings.warn(\n",
      "\u001b[32m[I 2022-09-28 20:42:47,691]\u001b[0m Trial 27 finished with value: -8.821155231711273 and parameters: {'n_estimators': 500, 'max_depth': 3}. Best is trial 27 with value: -8.821155231711273.\u001b[0m\n",
      "/opt/conda/lib/python3.9/site-packages/optuna/distributions.py:683: UserWarning: The distribution is specified by [3, 10] and step=2, but the range is not divisible by `step`. It will be replaced by [3, 9].\n",
      "  warnings.warn(\n",
      "\u001b[32m[I 2022-09-28 20:54:18,972]\u001b[0m Trial 28 finished with value: -9.01202710099155 and parameters: {'n_estimators': 600, 'max_depth': 7}. Best is trial 27 with value: -8.821155231711273.\u001b[0m\n",
      "/opt/conda/lib/python3.9/site-packages/optuna/distributions.py:683: UserWarning: The distribution is specified by [3, 10] and step=2, but the range is not divisible by `step`. It will be replaced by [3, 9].\n",
      "  warnings.warn(\n",
      "\u001b[32m[I 2022-09-28 21:13:10,267]\u001b[0m Trial 29 finished with value: -9.140924657644376 and parameters: {'n_estimators': 800, 'max_depth': 9}. Best is trial 27 with value: -8.821155231711273.\u001b[0m\n",
      "/opt/conda/lib/python3.9/site-packages/optuna/distributions.py:683: UserWarning: The distribution is specified by [3, 10] and step=2, but the range is not divisible by `step`. It will be replaced by [3, 9].\n",
      "  warnings.warn(\n",
      "\u001b[32m[I 2022-09-28 21:14:59,112]\u001b[0m Trial 30 finished with value: -8.812742748400572 and parameters: {'n_estimators': 200, 'max_depth': 3}. Best is trial 30 with value: -8.812742748400572.\u001b[0m\n",
      "/opt/conda/lib/python3.9/site-packages/optuna/distributions.py:683: UserWarning: The distribution is specified by [3, 10] and step=2, but the range is not divisible by `step`. It will be replaced by [3, 9].\n",
      "  warnings.warn(\n",
      "\u001b[32m[I 2022-09-28 21:16:47,955]\u001b[0m Trial 31 finished with value: -8.832484860913985 and parameters: {'n_estimators': 200, 'max_depth': 3}. Best is trial 30 with value: -8.812742748400572.\u001b[0m\n",
      "/opt/conda/lib/python3.9/site-packages/optuna/distributions.py:683: UserWarning: The distribution is specified by [3, 10] and step=2, but the range is not divisible by `step`. It will be replaced by [3, 9].\n",
      "  warnings.warn(\n",
      "\u001b[32m[I 2022-09-28 21:18:36,560]\u001b[0m Trial 32 finished with value: -8.832610739651345 and parameters: {'n_estimators': 200, 'max_depth': 3}. Best is trial 30 with value: -8.812742748400572.\u001b[0m\n",
      "/opt/conda/lib/python3.9/site-packages/optuna/distributions.py:683: UserWarning: The distribution is specified by [3, 10] and step=2, but the range is not divisible by `step`. It will be replaced by [3, 9].\n",
      "  warnings.warn(\n",
      "\u001b[32m[I 2022-09-28 21:21:19,600]\u001b[0m Trial 33 finished with value: -8.82683233331458 and parameters: {'n_estimators': 300, 'max_depth': 3}. Best is trial 30 with value: -8.812742748400572.\u001b[0m\n",
      "/opt/conda/lib/python3.9/site-packages/optuna/distributions.py:683: UserWarning: The distribution is specified by [3, 10] and step=2, but the range is not divisible by `step`. It will be replaced by [3, 9].\n",
      "  warnings.warn(\n",
      "\u001b[32m[I 2022-09-28 21:23:14,330]\u001b[0m Trial 34 finished with value: -8.986644128779234 and parameters: {'n_estimators': 100, 'max_depth': 7}. Best is trial 30 with value: -8.812742748400572.\u001b[0m\n",
      "/opt/conda/lib/python3.9/site-packages/optuna/distributions.py:683: UserWarning: The distribution is specified by [3, 10] and step=2, but the range is not divisible by `step`. It will be replaced by [3, 9].\n",
      "  warnings.warn(\n",
      "\u001b[32m[I 2022-09-28 21:24:09,138]\u001b[0m Trial 35 finished with value: -8.827306914250697 and parameters: {'n_estimators': 100, 'max_depth': 3}. Best is trial 30 with value: -8.812742748400572.\u001b[0m\n",
      "/opt/conda/lib/python3.9/site-packages/optuna/distributions.py:683: UserWarning: The distribution is specified by [3, 10] and step=2, but the range is not divisible by `step`. It will be replaced by [3, 9].\n",
      "  warnings.warn(\n",
      "\u001b[32m[I 2022-09-28 21:25:34,637]\u001b[0m Trial 36 finished with value: -8.992765708820276 and parameters: {'n_estimators': 100, 'max_depth': 5}. Best is trial 30 with value: -8.812742748400572.\u001b[0m\n",
      "/opt/conda/lib/python3.9/site-packages/optuna/distributions.py:683: UserWarning: The distribution is specified by [3, 10] and step=2, but the range is not divisible by `step`. It will be replaced by [3, 9].\n",
      "  warnings.warn(\n",
      "\u001b[32m[I 2022-09-28 21:27:23,210]\u001b[0m Trial 37 finished with value: -8.832414628007028 and parameters: {'n_estimators': 200, 'max_depth': 3}. Best is trial 30 with value: -8.812742748400572.\u001b[0m\n",
      "/opt/conda/lib/python3.9/site-packages/optuna/distributions.py:683: UserWarning: The distribution is specified by [3, 10] and step=2, but the range is not divisible by `step`. It will be replaced by [3, 9].\n",
      "  warnings.warn(\n",
      "\u001b[32m[I 2022-09-28 21:28:48,638]\u001b[0m Trial 38 finished with value: -8.888680767026866 and parameters: {'n_estimators': 100, 'max_depth': 5}. Best is trial 30 with value: -8.812742748400572.\u001b[0m\n",
      "/opt/conda/lib/python3.9/site-packages/optuna/distributions.py:683: UserWarning: The distribution is specified by [3, 10] and step=2, but the range is not divisible by `step`. It will be replaced by [3, 9].\n",
      "  warnings.warn(\n",
      "\u001b[32m[I 2022-09-28 21:30:37,636]\u001b[0m Trial 39 finished with value: -8.878960097239963 and parameters: {'n_estimators': 200, 'max_depth': 3}. Best is trial 30 with value: -8.812742748400572.\u001b[0m\n",
      "/opt/conda/lib/python3.9/site-packages/optuna/distributions.py:683: UserWarning: The distribution is specified by [3, 10] and step=2, but the range is not divisible by `step`. It will be replaced by [3, 9].\n",
      "  warnings.warn(\n",
      "\u001b[32m[I 2022-09-28 21:34:53,539]\u001b[0m Trial 40 finished with value: -8.942308611740176 and parameters: {'n_estimators': 300, 'max_depth': 5}. Best is trial 30 with value: -8.812742748400572.\u001b[0m\n",
      "/opt/conda/lib/python3.9/site-packages/optuna/distributions.py:683: UserWarning: The distribution is specified by [3, 10] and step=2, but the range is not divisible by `step`. It will be replaced by [3, 9].\n",
      "  warnings.warn(\n",
      "\u001b[32m[I 2022-09-28 21:35:48,021]\u001b[0m Trial 41 finished with value: -8.805292310754346 and parameters: {'n_estimators': 100, 'max_depth': 3}. Best is trial 41 with value: -8.805292310754346.\u001b[0m\n",
      "/opt/conda/lib/python3.9/site-packages/optuna/distributions.py:683: UserWarning: The distribution is specified by [3, 10] and step=2, but the range is not divisible by `step`. It will be replaced by [3, 9].\n",
      "  warnings.warn(\n",
      "\u001b[32m[I 2022-09-28 21:36:42,316]\u001b[0m Trial 42 finished with value: -8.94359792013217 and parameters: {'n_estimators': 100, 'max_depth': 3}. Best is trial 41 with value: -8.805292310754346.\u001b[0m\n",
      "/opt/conda/lib/python3.9/site-packages/optuna/distributions.py:683: UserWarning: The distribution is specified by [3, 10] and step=2, but the range is not divisible by `step`. It will be replaced by [3, 9].\n",
      "  warnings.warn(\n",
      "\u001b[32m[I 2022-09-28 21:38:30,739]\u001b[0m Trial 43 finished with value: -8.828543573231354 and parameters: {'n_estimators': 200, 'max_depth': 3}. Best is trial 41 with value: -8.805292310754346.\u001b[0m\n",
      "/opt/conda/lib/python3.9/site-packages/optuna/distributions.py:683: UserWarning: The distribution is specified by [3, 10] and step=2, but the range is not divisible by `step`. It will be replaced by [3, 9].\n",
      "  warnings.warn(\n",
      "\u001b[32m[I 2022-09-28 21:39:25,101]\u001b[0m Trial 44 finished with value: -8.843801567589022 and parameters: {'n_estimators': 100, 'max_depth': 3}. Best is trial 41 with value: -8.805292310754346.\u001b[0m\n",
      "/opt/conda/lib/python3.9/site-packages/optuna/distributions.py:683: UserWarning: The distribution is specified by [3, 10] and step=2, but the range is not divisible by `step`. It will be replaced by [3, 9].\n",
      "  warnings.warn(\n",
      "\u001b[32m[I 2022-09-28 21:42:07,989]\u001b[0m Trial 45 finished with value: -8.842762509543128 and parameters: {'n_estimators': 300, 'max_depth': 3}. Best is trial 41 with value: -8.805292310754346.\u001b[0m\n",
      "/opt/conda/lib/python3.9/site-packages/optuna/distributions.py:683: UserWarning: The distribution is specified by [3, 10] and step=2, but the range is not divisible by `step`. It will be replaced by [3, 9].\n",
      "  warnings.warn(\n",
      "\u001b[32m[I 2022-09-28 21:43:02,344]\u001b[0m Trial 46 finished with value: -8.879232767260243 and parameters: {'n_estimators': 100, 'max_depth': 3}. Best is trial 41 with value: -8.805292310754346.\u001b[0m\n",
      "/opt/conda/lib/python3.9/site-packages/optuna/distributions.py:683: UserWarning: The distribution is specified by [3, 10] and step=2, but the range is not divisible by `step`. It will be replaced by [3, 9].\n",
      "  warnings.warn(\n",
      "\u001b[32m[I 2022-09-28 21:45:46,028]\u001b[0m Trial 47 finished with value: -8.85212929264483 and parameters: {'n_estimators': 300, 'max_depth': 3}. Best is trial 41 with value: -8.805292310754346.\u001b[0m\n",
      "/opt/conda/lib/python3.9/site-packages/optuna/distributions.py:683: UserWarning: The distribution is specified by [3, 10] and step=2, but the range is not divisible by `step`. It will be replaced by [3, 9].\n",
      "  warnings.warn(\n",
      "\u001b[32m[I 2022-09-28 21:47:35,312]\u001b[0m Trial 48 finished with value: -8.805249165533066 and parameters: {'n_estimators': 200, 'max_depth': 3}. Best is trial 48 with value: -8.805249165533066.\u001b[0m\n",
      "/opt/conda/lib/python3.9/site-packages/optuna/distributions.py:683: UserWarning: The distribution is specified by [3, 10] and step=2, but the range is not divisible by `step`. It will be replaced by [3, 9].\n",
      "  warnings.warn(\n",
      "\u001b[32m[I 2022-09-28 21:51:23,174]\u001b[0m Trial 49 finished with value: -8.99927379148929 and parameters: {'n_estimators': 200, 'max_depth': 7}. Best is trial 48 with value: -8.805249165533066.\u001b[0m\n",
      "/opt/conda/lib/python3.9/site-packages/optuna/distributions.py:683: UserWarning: The distribution is specified by [3, 10] and step=2, but the range is not divisible by `step`. It will be replaced by [3, 9].\n",
      "  warnings.warn(\n",
      "\u001b[32m[I 2022-09-28 21:55:37,356]\u001b[0m Trial 50 finished with value: -8.977725568198222 and parameters: {'n_estimators': 300, 'max_depth': 5}. Best is trial 48 with value: -8.805249165533066.\u001b[0m\n",
      "/opt/conda/lib/python3.9/site-packages/optuna/distributions.py:683: UserWarning: The distribution is specified by [3, 10] and step=2, but the range is not divisible by `step`. It will be replaced by [3, 9].\n",
      "  warnings.warn(\n",
      "\u001b[32m[I 2022-09-28 21:56:32,061]\u001b[0m Trial 51 finished with value: -8.850171642837973 and parameters: {'n_estimators': 100, 'max_depth': 3}. Best is trial 48 with value: -8.805249165533066.\u001b[0m\n",
      "/opt/conda/lib/python3.9/site-packages/optuna/distributions.py:683: UserWarning: The distribution is specified by [3, 10] and step=2, but the range is not divisible by `step`. It will be replaced by [3, 9].\n",
      "  warnings.warn(\n",
      "\u001b[32m[I 2022-09-28 21:58:20,089]\u001b[0m Trial 52 finished with value: -8.865665048332778 and parameters: {'n_estimators': 200, 'max_depth': 3}. Best is trial 48 with value: -8.805249165533066.\u001b[0m\n",
      "/opt/conda/lib/python3.9/site-packages/optuna/distributions.py:683: UserWarning: The distribution is specified by [3, 10] and step=2, but the range is not divisible by `step`. It will be replaced by [3, 9].\n",
      "  warnings.warn(\n",
      "\u001b[32m[I 2022-09-28 21:59:13,845]\u001b[0m Trial 53 finished with value: -8.822025677749748 and parameters: {'n_estimators': 100, 'max_depth': 3}. Best is trial 48 with value: -8.805249165533066.\u001b[0m\n",
      "/opt/conda/lib/python3.9/site-packages/optuna/distributions.py:683: UserWarning: The distribution is specified by [3, 10] and step=2, but the range is not divisible by `step`. It will be replaced by [3, 9].\n",
      "  warnings.warn(\n",
      "\u001b[32m[I 2022-09-28 22:07:21,754]\u001b[0m Trial 54 finished with value: -8.827266573615765 and parameters: {'n_estimators': 900, 'max_depth': 3}. Best is trial 48 with value: -8.805249165533066.\u001b[0m\n",
      "/opt/conda/lib/python3.9/site-packages/optuna/distributions.py:683: UserWarning: The distribution is specified by [3, 10] and step=2, but the range is not divisible by `step`. It will be replaced by [3, 9].\n",
      "  warnings.warn(\n",
      "\u001b[32m[I 2022-09-28 22:09:09,370]\u001b[0m Trial 55 finished with value: -8.813128241893892 and parameters: {'n_estimators': 200, 'max_depth': 3}. Best is trial 48 with value: -8.805249165533066.\u001b[0m\n",
      "/opt/conda/lib/python3.9/site-packages/optuna/distributions.py:683: UserWarning: The distribution is specified by [3, 10] and step=2, but the range is not divisible by `step`. It will be replaced by [3, 9].\n",
      "  warnings.warn(\n",
      "\u001b[32m[I 2022-09-28 22:10:57,638]\u001b[0m Trial 56 finished with value: -8.83795530764668 and parameters: {'n_estimators': 200, 'max_depth': 3}. Best is trial 48 with value: -8.805249165533066.\u001b[0m\n",
      "/opt/conda/lib/python3.9/site-packages/optuna/distributions.py:683: UserWarning: The distribution is specified by [3, 10] and step=2, but the range is not divisible by `step`. It will be replaced by [3, 9].\n",
      "  warnings.warn(\n",
      "\u001b[32m[I 2022-09-28 22:11:52,922]\u001b[0m Trial 57 finished with value: -8.851146641784293 and parameters: {'n_estimators': 100, 'max_depth': 3}. Best is trial 48 with value: -8.805249165533066.\u001b[0m\n",
      "/opt/conda/lib/python3.9/site-packages/optuna/distributions.py:683: UserWarning: The distribution is specified by [3, 10] and step=2, but the range is not divisible by `step`. It will be replaced by [3, 9].\n",
      "  warnings.warn(\n",
      "\u001b[32m[I 2022-09-28 22:13:41,903]\u001b[0m Trial 58 finished with value: -8.865633086110934 and parameters: {'n_estimators': 200, 'max_depth': 3}. Best is trial 48 with value: -8.805249165533066.\u001b[0m\n",
      "/opt/conda/lib/python3.9/site-packages/optuna/distributions.py:683: UserWarning: The distribution is specified by [3, 10] and step=2, but the range is not divisible by `step`. It will be replaced by [3, 9].\n",
      "  warnings.warn(\n",
      "\u001b[32m[I 2022-09-28 22:15:07,186]\u001b[0m Trial 59 finished with value: -9.031906596299901 and parameters: {'n_estimators': 100, 'max_depth': 5}. Best is trial 48 with value: -8.805249165533066.\u001b[0m\n",
      "/opt/conda/lib/python3.9/site-packages/optuna/distributions.py:683: UserWarning: The distribution is specified by [3, 10] and step=2, but the range is not divisible by `step`. It will be replaced by [3, 9].\n",
      "  warnings.warn(\n",
      "\u001b[32m[I 2022-09-28 22:18:44,080]\u001b[0m Trial 60 finished with value: -8.85112597814757 and parameters: {'n_estimators': 400, 'max_depth': 3}. Best is trial 48 with value: -8.805249165533066.\u001b[0m\n",
      "/opt/conda/lib/python3.9/site-packages/optuna/distributions.py:683: UserWarning: The distribution is specified by [3, 10] and step=2, but the range is not divisible by `step`. It will be replaced by [3, 9].\n",
      "  warnings.warn(\n",
      "\u001b[32m[I 2022-09-28 22:21:26,131]\u001b[0m Trial 61 finished with value: -8.838103315970042 and parameters: {'n_estimators': 300, 'max_depth': 3}. Best is trial 48 with value: -8.805249165533066.\u001b[0m\n",
      "/opt/conda/lib/python3.9/site-packages/optuna/distributions.py:683: UserWarning: The distribution is specified by [3, 10] and step=2, but the range is not divisible by `step`. It will be replaced by [3, 9].\n",
      "  warnings.warn(\n",
      "\u001b[32m[I 2022-09-28 22:23:14,313]\u001b[0m Trial 62 finished with value: -8.81280435721501 and parameters: {'n_estimators': 200, 'max_depth': 3}. Best is trial 48 with value: -8.805249165533066.\u001b[0m\n",
      "/opt/conda/lib/python3.9/site-packages/optuna/distributions.py:683: UserWarning: The distribution is specified by [3, 10] and step=2, but the range is not divisible by `step`. It will be replaced by [3, 9].\n",
      "  warnings.warn(\n",
      "\u001b[32m[I 2022-09-28 22:25:02,713]\u001b[0m Trial 63 finished with value: -8.830219681490805 and parameters: {'n_estimators': 200, 'max_depth': 3}. Best is trial 48 with value: -8.805249165533066.\u001b[0m\n",
      "/opt/conda/lib/python3.9/site-packages/optuna/distributions.py:683: UserWarning: The distribution is specified by [3, 10] and step=2, but the range is not divisible by `step`. It will be replaced by [3, 9].\n",
      "  warnings.warn(\n",
      "\u001b[32m[I 2022-09-28 22:26:50,737]\u001b[0m Trial 64 finished with value: -8.83184995968585 and parameters: {'n_estimators': 200, 'max_depth': 3}. Best is trial 48 with value: -8.805249165533066.\u001b[0m\n",
      "/opt/conda/lib/python3.9/site-packages/optuna/distributions.py:683: UserWarning: The distribution is specified by [3, 10] and step=2, but the range is not divisible by `step`. It will be replaced by [3, 9].\n",
      "  warnings.warn(\n",
      "\u001b[32m[I 2022-09-28 22:34:55,952]\u001b[0m Trial 65 finished with value: -8.841673230176273 and parameters: {'n_estimators': 900, 'max_depth': 3}. Best is trial 48 with value: -8.805249165533066.\u001b[0m\n",
      "/opt/conda/lib/python3.9/site-packages/optuna/distributions.py:683: UserWarning: The distribution is specified by [3, 10] and step=2, but the range is not divisible by `step`. It will be replaced by [3, 9].\n",
      "  warnings.warn(\n",
      "\u001b[32m[I 2022-09-28 22:35:49,884]\u001b[0m Trial 66 finished with value: -8.838183948125351 and parameters: {'n_estimators': 100, 'max_depth': 3}. Best is trial 48 with value: -8.805249165533066.\u001b[0m\n",
      "/opt/conda/lib/python3.9/site-packages/optuna/distributions.py:683: UserWarning: The distribution is specified by [3, 10] and step=2, but the range is not divisible by `step`. It will be replaced by [3, 9].\n",
      "  warnings.warn(\n",
      "\u001b[32m[I 2022-09-28 22:37:37,063]\u001b[0m Trial 67 finished with value: -8.839729046766609 and parameters: {'n_estimators': 200, 'max_depth': 3}. Best is trial 48 with value: -8.805249165533066.\u001b[0m\n",
      "/opt/conda/lib/python3.9/site-packages/optuna/distributions.py:683: UserWarning: The distribution is specified by [3, 10] and step=2, but the range is not divisible by `step`. It will be replaced by [3, 9].\n",
      "  warnings.warn(\n",
      "\u001b[32m[I 2022-09-28 22:49:11,077]\u001b[0m Trial 68 finished with value: -9.085094519566818 and parameters: {'n_estimators': 500, 'max_depth': 9}. Best is trial 48 with value: -8.805249165533066.\u001b[0m\n",
      "/opt/conda/lib/python3.9/site-packages/optuna/distributions.py:683: UserWarning: The distribution is specified by [3, 10] and step=2, but the range is not divisible by `step`. It will be replaced by [3, 9].\n",
      "  warnings.warn(\n",
      "\u001b[32m[I 2022-09-28 22:51:52,092]\u001b[0m Trial 69 finished with value: -8.829982432904592 and parameters: {'n_estimators': 300, 'max_depth': 3}. Best is trial 48 with value: -8.805249165533066.\u001b[0m\n",
      "/opt/conda/lib/python3.9/site-packages/optuna/distributions.py:683: UserWarning: The distribution is specified by [3, 10] and step=2, but the range is not divisible by `step`. It will be replaced by [3, 9].\n",
      "  warnings.warn(\n",
      "\u001b[32m[I 2022-09-28 22:58:06,356]\u001b[0m Trial 70 finished with value: -8.848889297474958 and parameters: {'n_estimators': 700, 'max_depth': 3}. Best is trial 48 with value: -8.805249165533066.\u001b[0m\n",
      "/opt/conda/lib/python3.9/site-packages/optuna/distributions.py:683: UserWarning: The distribution is specified by [3, 10] and step=2, but the range is not divisible by `step`. It will be replaced by [3, 9].\n",
      "  warnings.warn(\n",
      "\u001b[32m[I 2022-09-28 23:00:47,399]\u001b[0m Trial 71 finished with value: -8.834961229300466 and parameters: {'n_estimators': 300, 'max_depth': 3}. Best is trial 48 with value: -8.805249165533066.\u001b[0m\n",
      "/opt/conda/lib/python3.9/site-packages/optuna/distributions.py:683: UserWarning: The distribution is specified by [3, 10] and step=2, but the range is not divisible by `step`. It will be replaced by [3, 9].\n",
      "  warnings.warn(\n",
      "\u001b[32m[I 2022-09-28 23:02:36,512]\u001b[0m Trial 72 finished with value: -8.845111520841185 and parameters: {'n_estimators': 200, 'max_depth': 3}. Best is trial 48 with value: -8.805249165533066.\u001b[0m\n",
      "/opt/conda/lib/python3.9/site-packages/optuna/distributions.py:683: UserWarning: The distribution is specified by [3, 10] and step=2, but the range is not divisible by `step`. It will be replaced by [3, 9].\n",
      "  warnings.warn(\n",
      "\u001b[32m[I 2022-09-28 23:03:31,169]\u001b[0m Trial 73 finished with value: -8.825248869833832 and parameters: {'n_estimators': 100, 'max_depth': 3}. Best is trial 48 with value: -8.805249165533066.\u001b[0m\n",
      "/opt/conda/lib/python3.9/site-packages/optuna/distributions.py:683: UserWarning: The distribution is specified by [3, 10] and step=2, but the range is not divisible by `step`. It will be replaced by [3, 9].\n",
      "  warnings.warn(\n",
      "\u001b[32m[I 2022-09-28 23:04:25,761]\u001b[0m Trial 74 finished with value: -8.852789053750644 and parameters: {'n_estimators': 100, 'max_depth': 3}. Best is trial 48 with value: -8.805249165533066.\u001b[0m\n",
      "/opt/conda/lib/python3.9/site-packages/optuna/distributions.py:683: UserWarning: The distribution is specified by [3, 10] and step=2, but the range is not divisible by `step`. It will be replaced by [3, 9].\n",
      "  warnings.warn(\n",
      "\u001b[32m[I 2022-09-28 23:05:19,429]\u001b[0m Trial 75 finished with value: -8.847686906520709 and parameters: {'n_estimators': 100, 'max_depth': 3}. Best is trial 48 with value: -8.805249165533066.\u001b[0m\n",
      "/opt/conda/lib/python3.9/site-packages/optuna/distributions.py:683: UserWarning: The distribution is specified by [3, 10] and step=2, but the range is not divisible by `step`. It will be replaced by [3, 9].\n",
      "  warnings.warn(\n",
      "\u001b[32m[I 2022-09-28 23:06:13,392]\u001b[0m Trial 76 finished with value: -8.861566581144256 and parameters: {'n_estimators': 100, 'max_depth': 3}. Best is trial 48 with value: -8.805249165533066.\u001b[0m\n",
      "/opt/conda/lib/python3.9/site-packages/optuna/distributions.py:683: UserWarning: The distribution is specified by [3, 10] and step=2, but the range is not divisible by `step`. It will be replaced by [3, 9].\n",
      "  warnings.warn(\n",
      "\u001b[32m[I 2022-09-28 23:08:00,567]\u001b[0m Trial 77 finished with value: -8.841043150032172 and parameters: {'n_estimators': 200, 'max_depth': 3}. Best is trial 48 with value: -8.805249165533066.\u001b[0m\n",
      "/opt/conda/lib/python3.9/site-packages/optuna/distributions.py:683: UserWarning: The distribution is specified by [3, 10] and step=2, but the range is not divisible by `step`. It will be replaced by [3, 9].\n",
      "  warnings.warn(\n",
      "\u001b[32m[I 2022-09-28 23:10:48,813]\u001b[0m Trial 78 finished with value: -8.96502246253905 and parameters: {'n_estimators': 200, 'max_depth': 5}. Best is trial 48 with value: -8.805249165533066.\u001b[0m\n",
      "/opt/conda/lib/python3.9/site-packages/optuna/distributions.py:683: UserWarning: The distribution is specified by [3, 10] and step=2, but the range is not divisible by `step`. It will be replaced by [3, 9].\n",
      "  warnings.warn(\n",
      "\u001b[32m[I 2022-09-28 23:11:42,825]\u001b[0m Trial 79 finished with value: -8.86152896726108 and parameters: {'n_estimators': 100, 'max_depth': 3}. Best is trial 48 with value: -8.805249165533066.\u001b[0m\n",
      "/opt/conda/lib/python3.9/site-packages/optuna/distributions.py:683: UserWarning: The distribution is specified by [3, 10] and step=2, but the range is not divisible by `step`. It will be replaced by [3, 9].\n",
      "  warnings.warn(\n",
      "\u001b[32m[I 2022-09-28 23:12:36,361]\u001b[0m Trial 80 finished with value: -8.853985062962852 and parameters: {'n_estimators': 100, 'max_depth': 3}. Best is trial 48 with value: -8.805249165533066.\u001b[0m\n",
      "/opt/conda/lib/python3.9/site-packages/optuna/distributions.py:683: UserWarning: The distribution is specified by [3, 10] and step=2, but the range is not divisible by `step`. It will be replaced by [3, 9].\n",
      "  warnings.warn(\n",
      "\u001b[32m[I 2022-09-28 23:15:18,654]\u001b[0m Trial 81 finished with value: -8.8374901721713 and parameters: {'n_estimators': 300, 'max_depth': 3}. Best is trial 48 with value: -8.805249165533066.\u001b[0m\n",
      "/opt/conda/lib/python3.9/site-packages/optuna/distributions.py:683: UserWarning: The distribution is specified by [3, 10] and step=2, but the range is not divisible by `step`. It will be replaced by [3, 9].\n",
      "  warnings.warn(\n",
      "\u001b[32m[I 2022-09-28 23:17:07,388]\u001b[0m Trial 82 finished with value: -8.850017348730413 and parameters: {'n_estimators': 200, 'max_depth': 3}. Best is trial 48 with value: -8.805249165533066.\u001b[0m\n",
      "/opt/conda/lib/python3.9/site-packages/optuna/distributions.py:683: UserWarning: The distribution is specified by [3, 10] and step=2, but the range is not divisible by `step`. It will be replaced by [3, 9].\n",
      "  warnings.warn(\n",
      "\u001b[32m[I 2022-09-28 23:18:56,455]\u001b[0m Trial 83 finished with value: -8.842588864529437 and parameters: {'n_estimators': 200, 'max_depth': 3}. Best is trial 48 with value: -8.805249165533066.\u001b[0m\n",
      "/opt/conda/lib/python3.9/site-packages/optuna/distributions.py:683: UserWarning: The distribution is specified by [3, 10] and step=2, but the range is not divisible by `step`. It will be replaced by [3, 9].\n",
      "  warnings.warn(\n",
      "\u001b[32m[I 2022-09-28 23:19:51,894]\u001b[0m Trial 84 finished with value: -8.86904157394147 and parameters: {'n_estimators': 100, 'max_depth': 3}. Best is trial 48 with value: -8.805249165533066.\u001b[0m\n",
      "/opt/conda/lib/python3.9/site-packages/optuna/distributions.py:683: UserWarning: The distribution is specified by [3, 10] and step=2, but the range is not divisible by `step`. It will be replaced by [3, 9].\n",
      "  warnings.warn(\n",
      "\u001b[32m[I 2022-09-28 23:24:21,986]\u001b[0m Trial 85 finished with value: -8.830640602758605 and parameters: {'n_estimators': 500, 'max_depth': 3}. Best is trial 48 with value: -8.805249165533066.\u001b[0m\n",
      "/opt/conda/lib/python3.9/site-packages/optuna/distributions.py:683: UserWarning: The distribution is specified by [3, 10] and step=2, but the range is not divisible by `step`. It will be replaced by [3, 9].\n",
      "  warnings.warn(\n",
      "\u001b[32m[I 2022-09-28 23:27:57,458]\u001b[0m Trial 86 finished with value: -8.83747529240304 and parameters: {'n_estimators': 400, 'max_depth': 3}. Best is trial 48 with value: -8.805249165533066.\u001b[0m\n",
      "/opt/conda/lib/python3.9/site-packages/optuna/distributions.py:683: UserWarning: The distribution is specified by [3, 10] and step=2, but the range is not divisible by `step`. It will be replaced by [3, 9].\n",
      "  warnings.warn(\n",
      "\u001b[32m[I 2022-09-28 23:30:38,592]\u001b[0m Trial 87 finished with value: -8.828296154560803 and parameters: {'n_estimators': 300, 'max_depth': 3}. Best is trial 48 with value: -8.805249165533066.\u001b[0m\n",
      "/opt/conda/lib/python3.9/site-packages/optuna/distributions.py:683: UserWarning: The distribution is specified by [3, 10] and step=2, but the range is not divisible by `step`. It will be replaced by [3, 9].\n",
      "  warnings.warn(\n",
      "\u001b[32m[I 2022-09-28 23:32:26,212]\u001b[0m Trial 88 finished with value: -8.832617417721902 and parameters: {'n_estimators': 200, 'max_depth': 3}. Best is trial 48 with value: -8.805249165533066.\u001b[0m\n",
      "/opt/conda/lib/python3.9/site-packages/optuna/distributions.py:683: UserWarning: The distribution is specified by [3, 10] and step=2, but the range is not divisible by `step`. It will be replaced by [3, 9].\n",
      "  warnings.warn(\n",
      "\u001b[32m[I 2022-09-28 23:33:19,933]\u001b[0m Trial 89 finished with value: -8.856822494471476 and parameters: {'n_estimators': 100, 'max_depth': 3}. Best is trial 48 with value: -8.805249165533066.\u001b[0m\n",
      "/opt/conda/lib/python3.9/site-packages/optuna/distributions.py:683: UserWarning: The distribution is specified by [3, 10] and step=2, but the range is not divisible by `step`. It will be replaced by [3, 9].\n",
      "  warnings.warn(\n",
      "\u001b[32m[I 2022-09-28 23:35:07,580]\u001b[0m Trial 90 finished with value: -8.871054480467077 and parameters: {'n_estimators': 200, 'max_depth': 3}. Best is trial 48 with value: -8.805249165533066.\u001b[0m\n",
      "/opt/conda/lib/python3.9/site-packages/optuna/distributions.py:683: UserWarning: The distribution is specified by [3, 10] and step=2, but the range is not divisible by `step`. It will be replaced by [3, 9].\n",
      "  warnings.warn(\n",
      "\u001b[32m[I 2022-09-28 23:43:14,502]\u001b[0m Trial 91 finished with value: -8.834933418341846 and parameters: {'n_estimators': 900, 'max_depth': 3}. Best is trial 48 with value: -8.805249165533066.\u001b[0m\n",
      "/opt/conda/lib/python3.9/site-packages/optuna/distributions.py:683: UserWarning: The distribution is specified by [3, 10] and step=2, but the range is not divisible by `step`. It will be replaced by [3, 9].\n",
      "  warnings.warn(\n",
      "\u001b[32m[I 2022-09-28 23:52:11,547]\u001b[0m Trial 92 finished with value: -8.844903353259792 and parameters: {'n_estimators': 1000, 'max_depth': 3}. Best is trial 48 with value: -8.805249165533066.\u001b[0m\n",
      "/opt/conda/lib/python3.9/site-packages/optuna/distributions.py:683: UserWarning: The distribution is specified by [3, 10] and step=2, but the range is not divisible by `step`. It will be replaced by [3, 9].\n",
      "  warnings.warn(\n",
      "\u001b[32m[I 2022-09-28 23:58:28,697]\u001b[0m Trial 93 finished with value: -8.835970526531195 and parameters: {'n_estimators': 700, 'max_depth': 3}. Best is trial 48 with value: -8.805249165533066.\u001b[0m\n",
      "/opt/conda/lib/python3.9/site-packages/optuna/distributions.py:683: UserWarning: The distribution is specified by [3, 10] and step=2, but the range is not divisible by `step`. It will be replaced by [3, 9].\n",
      "  warnings.warn(\n",
      "\u001b[32m[I 2022-09-29 00:05:47,901]\u001b[0m Trial 94 finished with value: -8.844545627568603 and parameters: {'n_estimators': 800, 'max_depth': 3}. Best is trial 48 with value: -8.805249165533066.\u001b[0m\n",
      "/opt/conda/lib/python3.9/site-packages/optuna/distributions.py:683: UserWarning: The distribution is specified by [3, 10] and step=2, but the range is not divisible by `step`. It will be replaced by [3, 9].\n",
      "  warnings.warn(\n",
      "\u001b[32m[I 2022-09-29 00:13:20,085]\u001b[0m Trial 95 finished with value: -9.008991554810743 and parameters: {'n_estimators': 400, 'max_depth': 7}. Best is trial 48 with value: -8.805249165533066.\u001b[0m\n",
      "/opt/conda/lib/python3.9/site-packages/optuna/distributions.py:683: UserWarning: The distribution is specified by [3, 10] and step=2, but the range is not divisible by `step`. It will be replaced by [3, 9].\n",
      "  warnings.warn(\n",
      "\u001b[32m[I 2022-09-29 00:18:46,837]\u001b[0m Trial 96 finished with value: -8.82975550887743 and parameters: {'n_estimators': 600, 'max_depth': 3}. Best is trial 48 with value: -8.805249165533066.\u001b[0m\n",
      "/opt/conda/lib/python3.9/site-packages/optuna/distributions.py:683: UserWarning: The distribution is specified by [3, 10] and step=2, but the range is not divisible by `step`. It will be replaced by [3, 9].\n",
      "  warnings.warn(\n",
      "\u001b[32m[I 2022-09-29 00:21:30,767]\u001b[0m Trial 97 finished with value: -8.834847225254004 and parameters: {'n_estimators': 300, 'max_depth': 3}. Best is trial 48 with value: -8.805249165533066.\u001b[0m\n",
      "/opt/conda/lib/python3.9/site-packages/optuna/distributions.py:683: UserWarning: The distribution is specified by [3, 10] and step=2, but the range is not divisible by `step`. It will be replaced by [3, 9].\n",
      "  warnings.warn(\n",
      "\u001b[32m[I 2022-09-29 00:22:25,435]\u001b[0m Trial 98 finished with value: -8.808764223113013 and parameters: {'n_estimators': 100, 'max_depth': 3}. Best is trial 48 with value: -8.805249165533066.\u001b[0m\n",
      "/opt/conda/lib/python3.9/site-packages/optuna/distributions.py:683: UserWarning: The distribution is specified by [3, 10] and step=2, but the range is not divisible by `step`. It will be replaced by [3, 9].\n",
      "  warnings.warn(\n",
      "\u001b[32m[I 2022-09-29 00:23:50,615]\u001b[0m Trial 99 finished with value: -8.903179349742205 and parameters: {'n_estimators': 100, 'max_depth': 5}. Best is trial 48 with value: -8.805249165533066.\u001b[0m\n"
     ]
    }
   ],
   "source": [
    "study = optuna.create_study(direction='maximize')\n",
    "study.optimize(objective, n_trials=100)"
   ]
  },
  {
   "cell_type": "code",
   "execution_count": 64,
   "metadata": {},
   "outputs": [
    {
     "name": "stdout",
     "output_type": "stream",
     "text": [
      "{'n_estimators': 200, 'max_depth': 3}\n"
     ]
    }
   ],
   "source": [
    "print(study.best_params)"
   ]
  },
  {
   "cell_type": "code",
   "execution_count": 65,
   "metadata": {},
   "outputs": [
    {
     "name": "stdout",
     "output_type": "stream",
     "text": [
      "n_estimators: 200\n",
      "max_depth: 3\n"
     ]
    }
   ],
   "source": [
    "for key, value in study.best_trial.params.items():\n",
    "    print(f'{key}: {value}')"
   ]
  },
  {
   "cell_type": "markdown",
   "metadata": {},
   "source": [
    "Посмотрим среднюю оценку качества модели на DecisionTreeRegressor с помощью cross_val_score"
   ]
  },
  {
   "cell_type": "code",
   "execution_count": 66,
   "metadata": {},
   "outputs": [
    {
     "name": "stdout",
     "output_type": "stream",
     "text": [
      "Средняя оценка качества модели DecisionTreeRegressor для rougher: -8.500670123433324\n",
      "Средняя оценка качества модели DecisionTreeRegressor для final: -15.18641970207884\n"
     ]
    }
   ],
   "source": [
    "model_dtr = DecisionTreeRegressor(random_state=12345)\n",
    "\n",
    "scores_rougher = cross_val_score(model_dtr, features_train, target_train_rougher, scoring=score, cv=5)\n",
    "final_score_rougher = pd.Series(scores_rougher).mean()\n",
    "\n",
    "scores_final = cross_val_score(model_dtr, features_train, target_train_final, scoring=score, cv=5)\n",
    "final_score_final = pd.Series(scores_final).mean()\n",
    "\n",
    "\n",
    "print('Средняя оценка качества модели DecisionTreeRegressor для rougher:', final_score_rougher)\n",
    "print('Средняя оценка качества модели DecisionTreeRegressor для final:', final_score_final)"
   ]
  },
  {
   "cell_type": "code",
   "execution_count": 67,
   "metadata": {},
   "outputs": [
    {
     "name": "stdout",
     "output_type": "stream",
     "text": [
      "Финальный sMAPE DecisionTreeRegressor -13.514982307417462\n"
     ]
    }
   ],
   "source": [
    "print('Финальный sMAPE DecisionTreeRegressor', final_sMAPE(final_score_rougher,final_score_final))"
   ]
  },
  {
   "cell_type": "markdown",
   "metadata": {},
   "source": [
    "Посмотрим среднюю оценку качества модели на LinearRegression с помощью cross_val_score"
   ]
  },
  {
   "cell_type": "code",
   "execution_count": 68,
   "metadata": {},
   "outputs": [
    {
     "name": "stdout",
     "output_type": "stream",
     "text": [
      "Средняя оценка качества модели LinearRegression для rougher: -7.155059220934669\n",
      "Средняя оценка качества модели LinearRegression для final: -10.949978643522183\n"
     ]
    }
   ],
   "source": [
    "model_lr = LinearRegression()\n",
    "\n",
    "scores_lr_rougher = cross_val_score(model_lr, features_train, target_train_rougher, scoring=score, cv=5)\n",
    "final_score_lr_rougher = pd.Series(scores_lr_rougher).mean()\n",
    "\n",
    "scores_lr_final = cross_val_score(model_lr, features_train, target_train_final, scoring=score, cv=5)\n",
    "final_score_lr_final = pd.Series(scores_lr_final).mean()\n",
    "\n",
    "print('Средняя оценка качества модели LinearRegression для rougher:', final_score_lr_rougher)\n",
    "print('Средняя оценка качества модели LinearRegression для final:', final_score_lr_final)"
   ]
  },
  {
   "cell_type": "code",
   "execution_count": 69,
   "metadata": {},
   "outputs": [
    {
     "name": "stdout",
     "output_type": "stream",
     "text": [
      "Финальный sMAPE LinearRegression -10.001248787875303\n"
     ]
    }
   ],
   "source": [
    "print('Финальный sMAPE LinearRegression', final_sMAPE(final_score_lr_rougher,final_score_lr_final))"
   ]
  },
  {
   "cell_type": "markdown",
   "metadata": {},
   "source": [
    "Перейдем к модели RandomForestRegressor. Для подбора параметров к этой модели будем использовать GridSearchCV."
   ]
  },
  {
   "cell_type": "code",
   "execution_count": 70,
   "metadata": {},
   "outputs": [],
   "source": [
    "model = RandomForestRegressor(random_state=1234)\n",
    "param_rfr={'max_depth': range(1,5),'n_estimators': range(1,50)}"
   ]
  },
  {
   "cell_type": "code",
   "execution_count": 71,
   "metadata": {},
   "outputs": [],
   "source": [
    "grid_rougher = GridSearchCV(model, param_grid = param_rfr, scoring=score, n_jobs=-1, cv=3)\n",
    "grid_final = GridSearchCV(model, param_grid = param_rfr, scoring=score, n_jobs=-1, cv=3)"
   ]
  },
  {
   "cell_type": "code",
   "execution_count": 72,
   "metadata": {},
   "outputs": [
    {
     "data": {
      "text/plain": [
       "GridSearchCV(cv=3, estimator=RandomForestRegressor(random_state=1234),\n",
       "             n_jobs=-1,\n",
       "             param_grid={'max_depth': range(1, 5),\n",
       "                         'n_estimators': range(1, 50)},\n",
       "             scoring=make_scorer(sMAPE, greater_is_better=False))"
      ]
     },
     "execution_count": 72,
     "metadata": {},
     "output_type": "execute_result"
    }
   ],
   "source": [
    "grid_rougher.fit(features_train, target_train_rougher)\n",
    "grid_final.fit(features_train, target_train_final)"
   ]
  },
  {
   "cell_type": "code",
   "execution_count": 73,
   "metadata": {},
   "outputs": [],
   "source": [
    "best_params_rougher = grid_rougher.best_params_\n",
    "best_params_final = grid_final.best_params_"
   ]
  },
  {
   "cell_type": "code",
   "execution_count": 74,
   "metadata": {},
   "outputs": [
    {
     "name": "stdout",
     "output_type": "stream",
     "text": [
      "{'max_depth': 3, 'n_estimators': 13}\n",
      "{'max_depth': 1, 'n_estimators': 13}\n"
     ]
    }
   ],
   "source": [
    "print(best_params_rougher)\n",
    "print(best_params_final)"
   ]
  },
  {
   "cell_type": "code",
   "execution_count": 75,
   "metadata": {},
   "outputs": [],
   "source": [
    "best_score_rougher = grid_rougher.best_score_\n",
    "best_score_final = grid_final.best_score_"
   ]
  },
  {
   "cell_type": "code",
   "execution_count": 76,
   "metadata": {},
   "outputs": [
    {
     "name": "stdout",
     "output_type": "stream",
     "text": [
      "Финальный sMAPE RandomForestRegressor -9.256942729640116\n"
     ]
    }
   ],
   "source": [
    "print('Финальный sMAPE RandomForestRegressor', final_sMAPE(best_score_rougher,best_score_final))"
   ]
  },
  {
   "cell_type": "markdown",
   "metadata": {},
   "source": [
    "Проверим финальный sMAPE на тестовой выборке"
   ]
  },
  {
   "cell_type": "code",
   "execution_count": 77,
   "metadata": {},
   "outputs": [
    {
     "name": "stdout",
     "output_type": "stream",
     "text": [
      "sMAPE DecisionTreeRegressor для rougher на тестовой выборке: 9.900755375663586\n",
      "sMAPE DecisionTreeRegressor для final на тестовой выборке: 13.280495571978982\n",
      "Финальный sMAPE DecisionTreeRegressor на тестовой выборке 12.435560522900133\n"
     ]
    }
   ],
   "source": [
    "model_dtr = DecisionTreeRegressor(random_state=12345)\n",
    "model_dtr.fit(features_train, target_train_rougher)\n",
    "predicted = model_dtr.predict(features_test)\n",
    "smape_rought = sMAPE(target_test_rougher, predicted)\n",
    "\n",
    "model_dtr = DecisionTreeRegressor(random_state=12345)\n",
    "model_dtr.fit(features_train, target_train_final)\n",
    "predicted = model_dtr.predict(features_test)\n",
    "smape_final = sMAPE(target_test_final, predicted)\n",
    "\n",
    "print('sMAPE DecisionTreeRegressor для rougher на тестовой выборке:', smape_rought)\n",
    "print('sMAPE DecisionTreeRegressor для final на тестовой выборке:', smape_final)\n",
    "print('Финальный sMAPE DecisionTreeRegressor на тестовой выборке', final_sMAPE(smape_rought,smape_final))"
   ]
  },
  {
   "cell_type": "code",
   "execution_count": 78,
   "metadata": {},
   "outputs": [
    {
     "name": "stdout",
     "output_type": "stream",
     "text": [
      "sMAPE LinearRegression для rougher на тестовой выборке: 8.587874103097631\n",
      "sMAPE LinearRegression для final на тестовой выборке: 9.590471818234047\n",
      "Финальный sMAPE DecisionTreeRegressor на тестовой выборке 9.339822389449942\n"
     ]
    }
   ],
   "source": [
    "model_lr = LinearRegression()\n",
    "model_lr.fit(features_train, target_train_rougher)\n",
    "predicted = model_lr.predict(features_test)\n",
    "smape_rought_lr = sMAPE(target_test_rougher, predicted)\n",
    "\n",
    "model_lr = LinearRegression()\n",
    "model_lr.fit(features_train, target_train_final)\n",
    "predicted = model_lr.predict(features_test)\n",
    "smape_final_lr = sMAPE(target_test_final, predicted)\n",
    "\n",
    "print('sMAPE LinearRegression для rougher на тестовой выборке:', smape_rought_lr)\n",
    "print('sMAPE LinearRegression для final на тестовой выборке:', smape_final_lr)\n",
    "print('Финальный sMAPE DecisionTreeRegressor на тестовой выборке', final_sMAPE(smape_rought_lr, smape_final_lr))"
   ]
  },
  {
   "cell_type": "code",
   "execution_count": 79,
   "metadata": {},
   "outputs": [
    {
     "name": "stdout",
     "output_type": "stream",
     "text": [
      "sMAPE RandomForestRegressor для rougher на тестовой выборке: 8.267839314462558\n",
      "sMAPE RandomForestRegressor для final на тестовой выборке: 9.571410047935283\n",
      "Финальный sMAPE RandomForestRegressor на тестовой выборке 9.245517364567101\n"
     ]
    }
   ],
   "source": [
    "model_rf = RandomForestRegressor(max_depth=3, n_estimators=13, random_state=12345)\n",
    "model_rf.fit(features_train, target_train_rougher)\n",
    "predicted = model_rf.predict(features_test)\n",
    "smape_rought_rf = sMAPE(target_test_rougher, predicted)\n",
    "\n",
    "model_rf = RandomForestRegressor(max_depth=1, n_estimators=13, random_state=12345)\n",
    "model_rf.fit(features_train, target_train_final)\n",
    "predicted = model_rf.predict(features_test)\n",
    "smape_final_rf = sMAPE(target_test_final, predicted)\n",
    "\n",
    "print('sMAPE RandomForestRegressor для rougher на тестовой выборке:', smape_rought_rf)\n",
    "print('sMAPE RandomForestRegressor для final на тестовой выборке:', smape_final_rf)\n",
    "print('Финальный sMAPE RandomForestRegressor на тестовой выборке', final_sMAPE(smape_rought_rf, smape_final_rf))"
   ]
  },
  {
   "cell_type": "code",
   "execution_count": 83,
   "metadata": {},
   "outputs": [
    {
     "name": "stdout",
     "output_type": "stream",
     "text": [
      "sMAPE RandomForestRegressor для rougher на тестовой выборке: 8.267839314462558\n",
      "sMAPE RandomForestRegressor для final на тестовой выборке: 9.589826584823271\n",
      "Финальный sMAPE RandomForestRegressor на тестовой выборке 9.259329767233092\n"
     ]
    }
   ],
   "source": [
    "model_rf = RandomForestRegressor(max_depth=3, n_estimators=200, random_state=12345)\n",
    "model_rf.fit(features_train, target_train_final)\n",
    "predicted = model_rf.predict(features_test)\n",
    "smape_final_rf = sMAPE(target_test_final, predicted)\n",
    "\n",
    "print('sMAPE RandomForestRegressor для final на тестовой выборке:', smape_final_rf)"
   ]
  },
  {
   "cell_type": "markdown",
   "metadata": {},
   "source": [
    "Сравним полученную модель с константной для оценки адекватности модели. Используем для этого DummyRegressor."
   ]
  },
  {
   "cell_type": "code",
   "execution_count": 80,
   "metadata": {},
   "outputs": [],
   "source": [
    "from sklearn.dummy import DummyRegressor"
   ]
  },
  {
   "cell_type": "code",
   "execution_count": 81,
   "metadata": {},
   "outputs": [
    {
     "name": "stdout",
     "output_type": "stream",
     "text": [
      "sMAPE DummyRegressor для rougher на тестовой выборке: 9.034877548711755\n",
      "sMAPE DummyRegressor для final на тестовой выборке: 10.072893443245594\n",
      "Финальный sMAPE DummyRegressor на тестовой выборке 9.813389469612133\n"
     ]
    }
   ],
   "source": [
    "dummy_regressor = DummyRegressor(strategy=\"mean\")\n",
    "dummy_regressor.fit(features_train, target_train_rougher)\n",
    "predicted = dummy_regressor.predict(features_test)\n",
    "smape_rought_dr = sMAPE(target_test_rougher, predicted)\n",
    "\n",
    "dummy_regressor = DummyRegressor(strategy=\"mean\")\n",
    "dummy_regressor.fit(features_train, target_train_final)\n",
    "predicted = dummy_regressor.predict(features_test)\n",
    "smape_final_dr = sMAPE(target_test_final, predicted)\n",
    "\n",
    "print('sMAPE DummyRegressor для rougher на тестовой выборке:', smape_rought_dr)\n",
    "print('sMAPE DummyRegressor для final на тестовой выборке:', smape_final_dr)\n",
    "print('Финальный sMAPE DummyRegressor на тестовой выборке', final_sMAPE(smape_rought_dr, smape_final_dr))"
   ]
  },
  {
   "cell_type": "markdown",
   "metadata": {},
   "source": [
    "# Вывод по шагу 3\n",
    "\n",
    "Проведена подготовка и анализ данных. Проверены расчеты эффективности обогащения на обучающей выборке для признака rougher.output.recovery. Найден MAE между расчётами и значением признака, который подтверждает, что значения признака рассчитаны верно. В тестовой выборке отсутствуют целевые признаки и некоторые параметры, поскольку они замеряются и/или рассчитываются значительно позже. Проведена предобработка данных (заполнены пропуски, изменены типы данных).\n",
    "\n",
    "Проверена концентрация металлов (Au, Ag, Pb) на различных этапах очистки. Размер гранул и распределение различается на обучающей и тестовой выборке. Данные о концентрации веществ содержат околонулевые значения, которые были удалены. Суммарно концентрация золота увеличивается, а концентрация серебра и свинца уменьшаятся с каждым этапом.\n",
    "\n",
    "Написана функция для вычисления итоговой sMAPE, которая одинаково учитывает масштаб и целевого признака, и предсказания.\n",
    "Данные обучены на моделях LinearRegression, DecisionTreeRegressor и RandomForestRegressor. Применены методы кросс-валидации для оценки качества моделей и GridSearchCV для поиска оптимальных гиперпараметров. Произведён отбор признаков для обучения - только те признаки, которые доступны до технологического процесса.\n",
    "\n",
    "Лучшая модель RandomForestRegressor (итоговое sMAPE - -9.25) , проверена на тестовой выборке(итоговое sMAPE - 9.24).\n",
    "Проведена оценка адекватности модели на DummyRegressor (итоговое sMAPE - 9.81)."
   ]
  }
 ],
 "metadata": {
  "ExecuteTimeLog": [
   {
    "duration": 350,
    "start_time": "2022-09-19T16:01:49.960Z"
   },
   {
    "duration": 114,
    "start_time": "2022-09-19T16:02:43.033Z"
   },
   {
    "duration": 97,
    "start_time": "2022-09-19T16:03:16.472Z"
   },
   {
    "duration": 3043,
    "start_time": "2022-09-19T16:05:24.264Z"
   },
   {
    "duration": 26,
    "start_time": "2022-09-19T16:05:37.562Z"
   },
   {
    "duration": 14083,
    "start_time": "2022-09-19T16:07:40.841Z"
   },
   {
    "duration": 1568,
    "start_time": "2022-09-19T16:07:58.525Z"
   },
   {
    "duration": 358,
    "start_time": "2022-09-19T16:19:03.363Z"
   },
   {
    "duration": 3026,
    "start_time": "2022-09-19T16:19:04.805Z"
   },
   {
    "duration": 3,
    "start_time": "2022-09-19T16:24:27.659Z"
   },
   {
    "duration": 365,
    "start_time": "2022-09-19T16:24:39.323Z"
   },
   {
    "duration": 4,
    "start_time": "2022-09-19T16:24:45.450Z"
   },
   {
    "duration": 370,
    "start_time": "2022-09-19T16:24:47.045Z"
   },
   {
    "duration": 161,
    "start_time": "2022-09-19T16:25:47.516Z"
   },
   {
    "duration": 336,
    "start_time": "2022-09-19T16:26:19.120Z"
   },
   {
    "duration": 3,
    "start_time": "2022-09-20T14:37:29.513Z"
   },
   {
    "duration": 3,
    "start_time": "2022-09-20T14:37:59.580Z"
   },
   {
    "duration": 11,
    "start_time": "2022-09-20T14:38:07.637Z"
   },
   {
    "duration": 8,
    "start_time": "2022-09-20T14:38:45.948Z"
   },
   {
    "duration": 11,
    "start_time": "2022-09-20T14:39:19.880Z"
   },
   {
    "duration": 7,
    "start_time": "2022-09-20T14:39:28.692Z"
   },
   {
    "duration": 6,
    "start_time": "2022-09-21T04:01:21.733Z"
   },
   {
    "duration": 192,
    "start_time": "2022-09-21T04:02:11.879Z"
   },
   {
    "duration": 6,
    "start_time": "2022-09-21T04:15:32.122Z"
   },
   {
    "duration": 7,
    "start_time": "2022-09-21T04:17:06.756Z"
   },
   {
    "duration": 6,
    "start_time": "2022-09-21T04:17:15.178Z"
   },
   {
    "duration": 3,
    "start_time": "2022-09-21T04:28:12.118Z"
   },
   {
    "duration": 655,
    "start_time": "2022-09-21T04:28:12.622Z"
   },
   {
    "duration": 4,
    "start_time": "2022-09-21T04:28:13.279Z"
   },
   {
    "duration": 327,
    "start_time": "2022-09-21T04:28:13.971Z"
   },
   {
    "duration": 146,
    "start_time": "2022-09-21T04:28:14.548Z"
   },
   {
    "duration": 319,
    "start_time": "2022-09-21T04:28:15.141Z"
   },
   {
    "duration": 7,
    "start_time": "2022-09-21T04:28:20.758Z"
   },
   {
    "duration": 9,
    "start_time": "2022-09-21T04:33:51.107Z"
   },
   {
    "duration": 13,
    "start_time": "2022-09-21T04:34:07.691Z"
   },
   {
    "duration": 6,
    "start_time": "2022-09-21T04:34:29.124Z"
   },
   {
    "duration": 16,
    "start_time": "2022-09-21T04:34:31.995Z"
   },
   {
    "duration": 16,
    "start_time": "2022-09-21T04:34:58.429Z"
   },
   {
    "duration": 16,
    "start_time": "2022-09-21T04:35:01.260Z"
   },
   {
    "duration": 12,
    "start_time": "2022-09-21T04:35:06.812Z"
   },
   {
    "duration": 56,
    "start_time": "2022-09-21T04:35:12.212Z"
   },
   {
    "duration": 20,
    "start_time": "2022-09-21T04:35:31.612Z"
   },
   {
    "duration": 53,
    "start_time": "2022-09-21T05:02:22.616Z"
   },
   {
    "duration": 52,
    "start_time": "2022-09-21T05:02:29.152Z"
   },
   {
    "duration": 72,
    "start_time": "2022-09-21T05:02:57.761Z"
   },
   {
    "duration": 57,
    "start_time": "2022-09-21T05:03:47.137Z"
   },
   {
    "duration": 6,
    "start_time": "2022-09-21T05:04:32.033Z"
   },
   {
    "duration": 19,
    "start_time": "2022-09-21T05:04:47.225Z"
   },
   {
    "duration": 1289,
    "start_time": "2022-09-21T05:05:29.631Z"
   },
   {
    "duration": 12,
    "start_time": "2022-09-21T05:06:15.963Z"
   },
   {
    "duration": 749,
    "start_time": "2022-09-21T05:21:06.038Z"
   },
   {
    "duration": 37,
    "start_time": "2022-09-21T05:22:13.063Z"
   },
   {
    "duration": 4,
    "start_time": "2022-09-21T05:22:51.771Z"
   },
   {
    "duration": 5,
    "start_time": "2022-09-21T05:23:00.004Z"
   },
   {
    "duration": 4,
    "start_time": "2022-09-21T05:24:07.551Z"
   },
   {
    "duration": 15,
    "start_time": "2022-09-21T05:26:45.809Z"
   },
   {
    "duration": 13,
    "start_time": "2022-09-21T05:26:50.658Z"
   },
   {
    "duration": 4,
    "start_time": "2022-09-21T05:27:05.727Z"
   },
   {
    "duration": 3,
    "start_time": "2022-09-22T04:27:02.782Z"
   },
   {
    "duration": 653,
    "start_time": "2022-09-22T04:27:03.594Z"
   },
   {
    "duration": 4,
    "start_time": "2022-09-22T04:27:04.397Z"
   },
   {
    "duration": 332,
    "start_time": "2022-09-22T04:27:05.026Z"
   },
   {
    "duration": 146,
    "start_time": "2022-09-22T04:27:06.868Z"
   },
   {
    "duration": 335,
    "start_time": "2022-09-22T04:27:07.435Z"
   },
   {
    "duration": 5,
    "start_time": "2022-09-22T04:27:08.803Z"
   },
   {
    "duration": 15,
    "start_time": "2022-09-22T04:27:09.474Z"
   },
   {
    "duration": 4,
    "start_time": "2022-09-22T04:27:10.178Z"
   },
   {
    "duration": 5,
    "start_time": "2022-09-22T04:27:12.293Z"
   },
   {
    "duration": 8,
    "start_time": "2022-09-22T04:28:19.231Z"
   },
   {
    "duration": 3,
    "start_time": "2022-09-22T04:28:54.192Z"
   },
   {
    "duration": 13,
    "start_time": "2022-09-22T04:28:57.589Z"
   },
   {
    "duration": 1079,
    "start_time": "2022-09-22T04:29:09.752Z"
   },
   {
    "duration": 11,
    "start_time": "2022-09-22T04:29:18.297Z"
   },
   {
    "duration": 2,
    "start_time": "2022-09-22T04:50:04.832Z"
   },
   {
    "duration": 9,
    "start_time": "2022-09-22T04:50:22.743Z"
   },
   {
    "duration": 8,
    "start_time": "2022-09-22T04:50:53.419Z"
   },
   {
    "duration": 8,
    "start_time": "2022-09-22T04:51:27.433Z"
   },
   {
    "duration": 51,
    "start_time": "2022-09-22T04:51:47.875Z"
   },
   {
    "duration": 11,
    "start_time": "2022-09-22T04:51:52.028Z"
   },
   {
    "duration": 12,
    "start_time": "2022-09-22T04:52:00.584Z"
   },
   {
    "duration": 4,
    "start_time": "2022-09-22T04:53:04.290Z"
   },
   {
    "duration": 137,
    "start_time": "2022-09-22T04:55:59.230Z"
   },
   {
    "duration": 130,
    "start_time": "2022-09-22T04:56:18.260Z"
   },
   {
    "duration": 137,
    "start_time": "2022-09-22T04:56:39.364Z"
   },
   {
    "duration": 132,
    "start_time": "2022-09-22T04:56:48.135Z"
   },
   {
    "duration": 11,
    "start_time": "2022-09-22T04:57:37.997Z"
   },
   {
    "duration": 538,
    "start_time": "2022-09-22T04:59:10.709Z"
   },
   {
    "duration": 464,
    "start_time": "2022-09-22T05:00:38.288Z"
   },
   {
    "duration": 462,
    "start_time": "2022-09-22T05:00:49.063Z"
   },
   {
    "duration": 3,
    "start_time": "2022-09-22T05:02:19.145Z"
   },
   {
    "duration": 544,
    "start_time": "2022-09-22T05:02:31.981Z"
   },
   {
    "duration": 466,
    "start_time": "2022-09-22T05:02:51.284Z"
   },
   {
    "duration": 476,
    "start_time": "2022-09-22T05:03:04.472Z"
   },
   {
    "duration": 214,
    "start_time": "2022-09-22T05:11:08.211Z"
   },
   {
    "duration": 134,
    "start_time": "2022-09-22T05:11:48.384Z"
   },
   {
    "duration": 254,
    "start_time": "2022-09-22T05:11:57.095Z"
   },
   {
    "duration": 135,
    "start_time": "2022-09-22T05:12:12.496Z"
   },
   {
    "duration": 8,
    "start_time": "2022-09-22T05:13:56.997Z"
   },
   {
    "duration": 3,
    "start_time": "2022-09-22T05:14:08.718Z"
   },
   {
    "duration": 84,
    "start_time": "2022-09-22T05:14:45.197Z"
   },
   {
    "duration": 8,
    "start_time": "2022-09-22T05:14:52.054Z"
   },
   {
    "duration": 8,
    "start_time": "2022-09-22T05:15:03.271Z"
   },
   {
    "duration": 1043,
    "start_time": "2022-09-22T05:15:13.114Z"
   },
   {
    "duration": 137,
    "start_time": "2022-09-22T05:15:46.906Z"
   },
   {
    "duration": 3,
    "start_time": "2022-09-22T05:17:02.814Z"
   },
   {
    "duration": 125,
    "start_time": "2022-09-22T05:17:04.471Z"
   },
   {
    "duration": 8,
    "start_time": "2022-09-22T05:19:48.361Z"
   },
   {
    "duration": 3,
    "start_time": "2022-09-22T05:19:50.545Z"
   },
   {
    "duration": 3,
    "start_time": "2022-09-22T05:20:01.209Z"
   },
   {
    "duration": 139,
    "start_time": "2022-09-22T05:20:01.795Z"
   },
   {
    "duration": 3,
    "start_time": "2022-09-22T05:20:24.873Z"
   },
   {
    "duration": 3,
    "start_time": "2022-09-22T05:20:37.322Z"
   },
   {
    "duration": 129,
    "start_time": "2022-09-22T05:20:39.683Z"
   },
   {
    "duration": 2,
    "start_time": "2022-09-22T05:21:03.630Z"
   },
   {
    "duration": 129,
    "start_time": "2022-09-22T05:21:05.094Z"
   },
   {
    "duration": 2,
    "start_time": "2022-09-22T05:21:10.230Z"
   },
   {
    "duration": 127,
    "start_time": "2022-09-22T05:21:10.802Z"
   },
   {
    "duration": 125,
    "start_time": "2022-09-22T05:22:00.392Z"
   },
   {
    "duration": 136,
    "start_time": "2022-09-22T05:22:15.527Z"
   },
   {
    "duration": 3,
    "start_time": "2022-09-22T05:23:44.793Z"
   },
   {
    "duration": 129,
    "start_time": "2022-09-22T05:23:45.274Z"
   },
   {
    "duration": 128,
    "start_time": "2022-09-22T05:23:46.205Z"
   },
   {
    "duration": 133,
    "start_time": "2022-09-22T05:23:47.142Z"
   },
   {
    "duration": 3,
    "start_time": "2022-09-22T05:23:49.948Z"
   },
   {
    "duration": 599,
    "start_time": "2022-09-22T05:23:51.071Z"
   },
   {
    "duration": 464,
    "start_time": "2022-09-22T05:23:52.044Z"
   },
   {
    "duration": 466,
    "start_time": "2022-09-22T05:23:52.912Z"
   },
   {
    "duration": 269,
    "start_time": "2022-09-22T05:23:55.337Z"
   },
   {
    "duration": 130,
    "start_time": "2022-09-22T05:24:38.576Z"
   },
   {
    "duration": 126,
    "start_time": "2022-09-22T05:25:12.389Z"
   },
   {
    "duration": 124,
    "start_time": "2022-09-22T05:25:53.612Z"
   },
   {
    "duration": 111,
    "start_time": "2022-09-22T05:26:12.791Z"
   },
   {
    "duration": 127,
    "start_time": "2022-09-22T05:26:24.538Z"
   },
   {
    "duration": 137,
    "start_time": "2022-09-22T05:26:32.634Z"
   },
   {
    "duration": 3,
    "start_time": "2022-09-22T05:29:01.144Z"
   },
   {
    "duration": 135,
    "start_time": "2022-09-22T05:29:04.000Z"
   },
   {
    "duration": 127,
    "start_time": "2022-09-22T05:29:04.625Z"
   },
   {
    "duration": 133,
    "start_time": "2022-09-22T05:29:05.377Z"
   },
   {
    "duration": 144,
    "start_time": "2022-09-22T05:31:23.026Z"
   },
   {
    "duration": 134,
    "start_time": "2022-09-22T05:38:07.793Z"
   },
   {
    "duration": 135,
    "start_time": "2022-09-22T05:38:39.236Z"
   },
   {
    "duration": 133,
    "start_time": "2022-09-22T05:39:07.212Z"
   },
   {
    "duration": 3,
    "start_time": "2022-09-22T07:31:52.065Z"
   },
   {
    "duration": 160,
    "start_time": "2022-09-22T07:35:13.725Z"
   },
   {
    "duration": 222,
    "start_time": "2022-09-22T07:35:23.939Z"
   },
   {
    "duration": 153,
    "start_time": "2022-09-22T07:35:46.579Z"
   },
   {
    "duration": 257,
    "start_time": "2022-09-22T07:36:00.516Z"
   },
   {
    "duration": 130,
    "start_time": "2022-09-22T07:36:03.452Z"
   },
   {
    "duration": 131,
    "start_time": "2022-09-22T07:37:14.652Z"
   },
   {
    "duration": 112,
    "start_time": "2022-09-22T07:37:20.225Z"
   },
   {
    "duration": 107,
    "start_time": "2022-09-22T07:37:29.965Z"
   },
   {
    "duration": 112,
    "start_time": "2022-09-22T07:37:38.224Z"
   },
   {
    "duration": 136,
    "start_time": "2022-09-22T07:38:18.805Z"
   },
   {
    "duration": 126,
    "start_time": "2022-09-22T07:38:56.126Z"
   },
   {
    "duration": 116,
    "start_time": "2022-09-22T07:39:00.062Z"
   },
   {
    "duration": 110,
    "start_time": "2022-09-22T07:39:24.450Z"
   },
   {
    "duration": 124,
    "start_time": "2022-09-22T07:41:07.115Z"
   },
   {
    "duration": 104,
    "start_time": "2022-09-22T07:41:22.303Z"
   },
   {
    "duration": 114,
    "start_time": "2022-09-22T07:42:12.825Z"
   },
   {
    "duration": 194,
    "start_time": "2022-09-22T07:42:20.677Z"
   },
   {
    "duration": 191,
    "start_time": "2022-09-22T07:42:42.820Z"
   },
   {
    "duration": 111,
    "start_time": "2022-09-22T07:42:52.369Z"
   },
   {
    "duration": 121,
    "start_time": "2022-09-22T07:50:48.219Z"
   },
   {
    "duration": 241,
    "start_time": "2022-09-22T07:51:15.099Z"
   },
   {
    "duration": 116,
    "start_time": "2022-09-22T07:51:23.855Z"
   },
   {
    "duration": 115,
    "start_time": "2022-09-22T07:52:11.548Z"
   },
   {
    "duration": 122,
    "start_time": "2022-09-22T07:52:39.488Z"
   },
   {
    "duration": 116,
    "start_time": "2022-09-22T07:54:18.086Z"
   },
   {
    "duration": 76,
    "start_time": "2022-09-22T07:54:57.198Z"
   },
   {
    "duration": 76,
    "start_time": "2022-09-22T07:55:33.727Z"
   },
   {
    "duration": 73,
    "start_time": "2022-09-22T07:55:37.907Z"
   },
   {
    "duration": 74,
    "start_time": "2022-09-22T07:55:42.602Z"
   },
   {
    "duration": 118,
    "start_time": "2022-09-22T07:56:18.183Z"
   },
   {
    "duration": 129,
    "start_time": "2022-09-22T07:56:39.517Z"
   },
   {
    "duration": 1166,
    "start_time": "2022-09-22T07:57:17.199Z"
   },
   {
    "duration": 116,
    "start_time": "2022-09-22T07:57:35.775Z"
   },
   {
    "duration": 111,
    "start_time": "2022-09-22T07:58:15.089Z"
   },
   {
    "duration": 116,
    "start_time": "2022-09-22T07:58:44.081Z"
   },
   {
    "duration": 5,
    "start_time": "2022-09-22T08:21:41.779Z"
   },
   {
    "duration": 6,
    "start_time": "2022-09-22T08:23:10.773Z"
   },
   {
    "duration": 5,
    "start_time": "2022-09-22T08:23:32.416Z"
   },
   {
    "duration": 55,
    "start_time": "2022-09-22T08:23:55.738Z"
   },
   {
    "duration": 6,
    "start_time": "2022-09-22T08:24:02.592Z"
   },
   {
    "duration": 6,
    "start_time": "2022-09-22T08:24:21.755Z"
   },
   {
    "duration": 6,
    "start_time": "2022-09-22T08:26:23.123Z"
   },
   {
    "duration": 7,
    "start_time": "2022-09-22T08:26:59.010Z"
   },
   {
    "duration": 6,
    "start_time": "2022-09-22T08:28:34.020Z"
   },
   {
    "duration": 6,
    "start_time": "2022-09-22T08:29:19.071Z"
   },
   {
    "duration": 4,
    "start_time": "2022-09-22T08:30:09.733Z"
   },
   {
    "duration": 393,
    "start_time": "2022-09-22T08:31:37.802Z"
   },
   {
    "duration": 10,
    "start_time": "2022-09-22T08:32:05.139Z"
   },
   {
    "duration": 9,
    "start_time": "2022-09-22T08:32:10.772Z"
   },
   {
    "duration": 9,
    "start_time": "2022-09-22T08:32:17.274Z"
   },
   {
    "duration": 8,
    "start_time": "2022-09-22T08:34:14.314Z"
   },
   {
    "duration": 467,
    "start_time": "2022-09-22T08:34:32.314Z"
   },
   {
    "duration": 1300,
    "start_time": "2022-09-22T08:41:24.534Z"
   },
   {
    "duration": 669,
    "start_time": "2022-09-22T08:41:25.835Z"
   },
   {
    "duration": 3,
    "start_time": "2022-09-22T08:41:26.506Z"
   },
   {
    "duration": 370,
    "start_time": "2022-09-22T08:41:26.510Z"
   },
   {
    "duration": 165,
    "start_time": "2022-09-22T08:41:26.882Z"
   },
   {
    "duration": 346,
    "start_time": "2022-09-22T08:41:27.049Z"
   },
   {
    "duration": 6,
    "start_time": "2022-09-22T08:41:27.397Z"
   },
   {
    "duration": 28,
    "start_time": "2022-09-22T08:41:27.404Z"
   },
   {
    "duration": 4,
    "start_time": "2022-09-22T08:41:27.433Z"
   },
   {
    "duration": 8,
    "start_time": "2022-09-22T08:41:27.439Z"
   },
   {
    "duration": 20,
    "start_time": "2022-09-22T08:41:27.449Z"
   },
   {
    "duration": 17,
    "start_time": "2022-09-22T08:41:27.471Z"
   },
   {
    "duration": 3,
    "start_time": "2022-09-22T08:41:27.489Z"
   },
   {
    "duration": 12,
    "start_time": "2022-09-22T08:41:27.494Z"
   },
   {
    "duration": 150,
    "start_time": "2022-09-22T08:41:27.507Z"
   },
   {
    "duration": 130,
    "start_time": "2022-09-22T08:41:27.659Z"
   },
   {
    "duration": 148,
    "start_time": "2022-09-22T08:41:27.790Z"
   },
   {
    "duration": 224,
    "start_time": "2022-09-22T08:41:27.940Z"
   },
   {
    "duration": 145,
    "start_time": "2022-09-22T08:41:28.166Z"
   },
   {
    "duration": 141,
    "start_time": "2022-09-22T08:41:28.312Z"
   },
   {
    "duration": 137,
    "start_time": "2022-09-22T08:41:28.455Z"
   },
   {
    "duration": 6,
    "start_time": "2022-09-22T08:41:28.593Z"
   },
   {
    "duration": 111,
    "start_time": "2022-09-22T08:41:28.600Z"
   },
   {
    "duration": 1,
    "start_time": "2022-09-22T08:41:28.712Z"
   },
   {
    "duration": 0,
    "start_time": "2022-09-22T08:41:28.714Z"
   },
   {
    "duration": 0,
    "start_time": "2022-09-22T08:41:28.715Z"
   },
   {
    "duration": 0,
    "start_time": "2022-09-22T08:41:28.722Z"
   },
   {
    "duration": 0,
    "start_time": "2022-09-22T08:41:28.723Z"
   },
   {
    "duration": 0,
    "start_time": "2022-09-22T08:41:28.724Z"
   },
   {
    "duration": 0,
    "start_time": "2022-09-22T08:41:28.725Z"
   },
   {
    "duration": 0,
    "start_time": "2022-09-22T08:41:28.726Z"
   },
   {
    "duration": 0,
    "start_time": "2022-09-22T08:41:28.727Z"
   },
   {
    "duration": 0,
    "start_time": "2022-09-22T08:41:28.728Z"
   },
   {
    "duration": 6,
    "start_time": "2022-09-22T08:54:10.136Z"
   },
   {
    "duration": 6,
    "start_time": "2022-09-22T08:54:11.525Z"
   },
   {
    "duration": 6,
    "start_time": "2022-09-22T08:54:12.075Z"
   },
   {
    "duration": 11,
    "start_time": "2022-09-22T08:54:17.395Z"
   },
   {
    "duration": 441,
    "start_time": "2022-09-22T08:54:46.259Z"
   },
   {
    "duration": 8,
    "start_time": "2022-09-22T08:55:18.035Z"
   },
   {
    "duration": 454,
    "start_time": "2022-09-22T08:56:03.756Z"
   },
   {
    "duration": 669,
    "start_time": "2022-09-22T08:56:35.495Z"
   },
   {
    "duration": 582,
    "start_time": "2022-09-22T08:56:57.934Z"
   },
   {
    "duration": 74,
    "start_time": "2022-09-22T08:57:14.309Z"
   },
   {
    "duration": 664,
    "start_time": "2022-09-22T08:57:51.975Z"
   },
   {
    "duration": 10,
    "start_time": "2022-09-22T09:01:27.054Z"
   },
   {
    "duration": 11,
    "start_time": "2022-09-22T09:29:44.427Z"
   },
   {
    "duration": 10,
    "start_time": "2022-09-22T09:30:20.810Z"
   },
   {
    "duration": 10,
    "start_time": "2022-09-22T09:30:29.610Z"
   },
   {
    "duration": 9,
    "start_time": "2022-09-22T09:30:46.560Z"
   },
   {
    "duration": 408,
    "start_time": "2022-09-22T09:31:07.115Z"
   },
   {
    "duration": 305,
    "start_time": "2022-09-22T09:31:21.037Z"
   },
   {
    "duration": 285,
    "start_time": "2022-09-22T09:31:56.661Z"
   },
   {
    "duration": 104,
    "start_time": "2022-09-22T09:32:15.724Z"
   },
   {
    "duration": 9,
    "start_time": "2022-09-22T09:33:04.492Z"
   },
   {
    "duration": 9,
    "start_time": "2022-09-22T09:33:10.300Z"
   },
   {
    "duration": 9,
    "start_time": "2022-09-22T09:33:17.982Z"
   },
   {
    "duration": 4,
    "start_time": "2022-09-22T09:34:30.574Z"
   },
   {
    "duration": 3,
    "start_time": "2022-09-22T09:34:43.693Z"
   },
   {
    "duration": 234,
    "start_time": "2022-09-22T09:34:58.214Z"
   },
   {
    "duration": 9,
    "start_time": "2022-09-22T09:37:44.579Z"
   },
   {
    "duration": 191,
    "start_time": "2022-09-22T09:37:51.316Z"
   },
   {
    "duration": 328,
    "start_time": "2022-09-22T09:38:01.694Z"
   },
   {
    "duration": 186,
    "start_time": "2022-09-22T09:38:59.169Z"
   },
   {
    "duration": 185,
    "start_time": "2022-09-22T09:39:15.924Z"
   },
   {
    "duration": 205,
    "start_time": "2022-09-22T09:46:35.632Z"
   },
   {
    "duration": 161,
    "start_time": "2022-09-22T09:46:47.616Z"
   },
   {
    "duration": 182,
    "start_time": "2022-09-22T09:48:25.713Z"
   },
   {
    "duration": 195,
    "start_time": "2022-09-22T09:48:55.573Z"
   },
   {
    "duration": 348,
    "start_time": "2022-09-22T09:49:10.086Z"
   },
   {
    "duration": 175,
    "start_time": "2022-09-22T09:49:16.393Z"
   },
   {
    "duration": 173,
    "start_time": "2022-09-22T09:50:00.139Z"
   },
   {
    "duration": 172,
    "start_time": "2022-09-22T09:50:07.891Z"
   },
   {
    "duration": 186,
    "start_time": "2022-09-22T09:50:31.061Z"
   },
   {
    "duration": 183,
    "start_time": "2022-09-22T09:50:47.939Z"
   },
   {
    "duration": 154,
    "start_time": "2022-09-22T09:51:39.135Z"
   },
   {
    "duration": 186,
    "start_time": "2022-09-22T09:52:05.783Z"
   },
   {
    "duration": 186,
    "start_time": "2022-09-22T09:52:16.790Z"
   },
   {
    "duration": 187,
    "start_time": "2022-09-22T09:52:25.767Z"
   },
   {
    "duration": 189,
    "start_time": "2022-09-22T09:52:30.560Z"
   },
   {
    "duration": 172,
    "start_time": "2022-09-22T09:52:38.138Z"
   },
   {
    "duration": 185,
    "start_time": "2022-09-22T09:52:53.223Z"
   },
   {
    "duration": 194,
    "start_time": "2022-09-22T09:53:01.254Z"
   },
   {
    "duration": 217,
    "start_time": "2022-09-22T09:53:18.807Z"
   },
   {
    "duration": 258,
    "start_time": "2022-09-22T09:53:48.496Z"
   },
   {
    "duration": 74,
    "start_time": "2022-09-22T09:54:03.495Z"
   },
   {
    "duration": 117,
    "start_time": "2022-09-22T09:54:06.069Z"
   },
   {
    "duration": 64,
    "start_time": "2022-09-22T09:57:31.715Z"
   },
   {
    "duration": 54,
    "start_time": "2022-09-22T09:57:36.895Z"
   },
   {
    "duration": 55,
    "start_time": "2022-09-22T09:57:48.903Z"
   },
   {
    "duration": 10,
    "start_time": "2022-09-22T09:58:27.601Z"
   },
   {
    "duration": 8,
    "start_time": "2022-09-22T09:58:35.959Z"
   },
   {
    "duration": 185,
    "start_time": "2022-09-22T09:58:51.569Z"
   },
   {
    "duration": 4,
    "start_time": "2022-09-22T09:59:11.448Z"
   },
   {
    "duration": 198,
    "start_time": "2022-09-22T09:59:12.888Z"
   },
   {
    "duration": 5,
    "start_time": "2022-09-22T09:59:29.098Z"
   },
   {
    "duration": 188,
    "start_time": "2022-09-22T09:59:29.581Z"
   },
   {
    "duration": 3,
    "start_time": "2022-09-22T10:00:14.877Z"
   },
   {
    "duration": 3,
    "start_time": "2022-09-22T10:00:37.869Z"
   },
   {
    "duration": 2,
    "start_time": "2022-09-22T10:00:49.089Z"
   },
   {
    "duration": 4,
    "start_time": "2022-09-22T10:00:49.541Z"
   },
   {
    "duration": 187,
    "start_time": "2022-09-22T10:00:49.857Z"
   },
   {
    "duration": 3,
    "start_time": "2022-09-22T10:01:45.602Z"
   },
   {
    "duration": 5,
    "start_time": "2022-09-22T10:01:46.346Z"
   },
   {
    "duration": 188,
    "start_time": "2022-09-22T10:01:47.742Z"
   },
   {
    "duration": 184,
    "start_time": "2022-09-22T10:02:11.770Z"
   },
   {
    "duration": 5,
    "start_time": "2022-09-22T10:03:07.731Z"
   },
   {
    "duration": 165,
    "start_time": "2022-09-22T10:03:10.479Z"
   },
   {
    "duration": 5,
    "start_time": "2022-09-22T10:03:19.062Z"
   },
   {
    "duration": 5,
    "start_time": "2022-09-22T10:03:28.508Z"
   },
   {
    "duration": 187,
    "start_time": "2022-09-22T10:03:29.324Z"
   },
   {
    "duration": 5,
    "start_time": "2022-09-22T10:04:06.805Z"
   },
   {
    "duration": 184,
    "start_time": "2022-09-22T10:04:07.515Z"
   },
   {
    "duration": 5,
    "start_time": "2022-09-22T10:04:42.588Z"
   },
   {
    "duration": 191,
    "start_time": "2022-09-22T10:04:44.604Z"
   },
   {
    "duration": 4,
    "start_time": "2022-09-22T10:04:50.030Z"
   },
   {
    "duration": 195,
    "start_time": "2022-09-22T10:04:50.654Z"
   },
   {
    "duration": 4,
    "start_time": "2022-09-22T10:04:57.464Z"
   },
   {
    "duration": 177,
    "start_time": "2022-09-22T10:04:58.209Z"
   },
   {
    "duration": 5,
    "start_time": "2022-09-22T10:05:09.300Z"
   },
   {
    "duration": 168,
    "start_time": "2022-09-22T10:05:09.881Z"
   },
   {
    "duration": 4,
    "start_time": "2022-09-22T10:05:33.777Z"
   },
   {
    "duration": 172,
    "start_time": "2022-09-22T10:05:34.228Z"
   },
   {
    "duration": 111,
    "start_time": "2022-09-22T10:06:45.682Z"
   },
   {
    "duration": 148,
    "start_time": "2022-09-22T10:06:58.694Z"
   },
   {
    "duration": 168,
    "start_time": "2022-09-22T10:06:59.434Z"
   },
   {
    "duration": 72,
    "start_time": "2022-09-22T10:07:19.058Z"
   },
   {
    "duration": 73,
    "start_time": "2022-09-22T10:07:31.927Z"
   },
   {
    "duration": 85,
    "start_time": "2022-09-22T10:07:52.161Z"
   },
   {
    "duration": 98,
    "start_time": "2022-09-22T10:08:19.049Z"
   },
   {
    "duration": 4,
    "start_time": "2022-09-22T10:08:36.864Z"
   },
   {
    "duration": 411,
    "start_time": "2022-09-22T10:08:39.592Z"
   },
   {
    "duration": 4,
    "start_time": "2022-09-22T10:08:51.868Z"
   },
   {
    "duration": 173,
    "start_time": "2022-09-22T10:08:52.507Z"
   },
   {
    "duration": 4,
    "start_time": "2022-09-22T10:12:39.191Z"
   },
   {
    "duration": 181,
    "start_time": "2022-09-22T10:12:39.651Z"
   },
   {
    "duration": 4,
    "start_time": "2022-09-22T10:12:42.946Z"
   },
   {
    "duration": 193,
    "start_time": "2022-09-22T10:12:43.746Z"
   },
   {
    "duration": 185,
    "start_time": "2022-09-22T10:12:51.611Z"
   },
   {
    "duration": 166,
    "start_time": "2022-09-22T10:12:56.876Z"
   },
   {
    "duration": 3,
    "start_time": "2022-09-23T02:26:39.872Z"
   },
   {
    "duration": 671,
    "start_time": "2022-09-23T02:26:40.040Z"
   },
   {
    "duration": 10,
    "start_time": "2022-09-23T02:26:40.712Z"
   },
   {
    "duration": 340,
    "start_time": "2022-09-23T02:26:40.724Z"
   },
   {
    "duration": 162,
    "start_time": "2022-09-23T02:26:41.066Z"
   },
   {
    "duration": 333,
    "start_time": "2022-09-23T02:26:41.229Z"
   },
   {
    "duration": 5,
    "start_time": "2022-09-23T02:26:41.564Z"
   },
   {
    "duration": 1258,
    "start_time": "2022-09-23T02:26:47.066Z"
   },
   {
    "duration": 683,
    "start_time": "2022-09-23T02:26:48.326Z"
   },
   {
    "duration": 9,
    "start_time": "2022-09-23T02:26:49.013Z"
   },
   {
    "duration": 348,
    "start_time": "2022-09-23T02:26:49.023Z"
   },
   {
    "duration": 164,
    "start_time": "2022-09-23T02:26:49.372Z"
   },
   {
    "duration": 345,
    "start_time": "2022-09-23T02:26:49.537Z"
   },
   {
    "duration": 6,
    "start_time": "2022-09-23T02:26:49.883Z"
   },
   {
    "duration": 15,
    "start_time": "2022-09-23T02:26:49.891Z"
   },
   {
    "duration": 17,
    "start_time": "2022-09-23T02:26:49.909Z"
   },
   {
    "duration": 10,
    "start_time": "2022-09-23T02:26:49.927Z"
   },
   {
    "duration": 16,
    "start_time": "2022-09-23T02:26:49.938Z"
   },
   {
    "duration": 10,
    "start_time": "2022-09-23T02:26:49.956Z"
   },
   {
    "duration": 3,
    "start_time": "2022-09-23T02:26:49.967Z"
   },
   {
    "duration": 5,
    "start_time": "2022-09-23T02:26:49.971Z"
   },
   {
    "duration": 161,
    "start_time": "2022-09-23T02:26:49.977Z"
   },
   {
    "duration": 135,
    "start_time": "2022-09-23T02:26:50.139Z"
   },
   {
    "duration": 147,
    "start_time": "2022-09-23T02:26:50.275Z"
   },
   {
    "duration": 211,
    "start_time": "2022-09-23T02:26:50.423Z"
   },
   {
    "duration": 146,
    "start_time": "2022-09-23T02:26:50.635Z"
   },
   {
    "duration": 148,
    "start_time": "2022-09-23T02:26:50.783Z"
   },
   {
    "duration": 150,
    "start_time": "2022-09-23T02:26:50.932Z"
   },
   {
    "duration": 5,
    "start_time": "2022-09-23T02:26:51.084Z"
   },
   {
    "duration": 7,
    "start_time": "2022-09-23T02:26:51.090Z"
   },
   {
    "duration": 6,
    "start_time": "2022-09-23T02:26:51.098Z"
   },
   {
    "duration": 6,
    "start_time": "2022-09-23T02:26:51.122Z"
   },
   {
    "duration": 5,
    "start_time": "2022-09-23T02:26:51.129Z"
   },
   {
    "duration": 4,
    "start_time": "2022-09-23T02:26:51.137Z"
   },
   {
    "duration": 201,
    "start_time": "2022-09-23T02:26:51.142Z"
   },
   {
    "duration": 4,
    "start_time": "2022-09-23T02:26:51.345Z"
   },
   {
    "duration": 238,
    "start_time": "2022-09-23T02:26:51.350Z"
   },
   {
    "duration": 4,
    "start_time": "2022-09-23T02:50:47.929Z"
   },
   {
    "duration": 2,
    "start_time": "2022-09-23T03:04:53.688Z"
   },
   {
    "duration": 2,
    "start_time": "2022-09-23T03:05:44.644Z"
   },
   {
    "duration": 305,
    "start_time": "2022-09-23T03:05:55.888Z"
   },
   {
    "duration": 3,
    "start_time": "2022-09-23T03:12:46.473Z"
   },
   {
    "duration": 3,
    "start_time": "2022-09-23T03:14:03.614Z"
   },
   {
    "duration": 3,
    "start_time": "2022-09-23T03:14:22.919Z"
   },
   {
    "duration": 3,
    "start_time": "2022-09-23T03:14:35.526Z"
   },
   {
    "duration": 4,
    "start_time": "2022-09-23T03:14:38.881Z"
   },
   {
    "duration": 3,
    "start_time": "2022-09-23T03:14:39.530Z"
   },
   {
    "duration": 189,
    "start_time": "2022-09-23T03:14:45.926Z"
   },
   {
    "duration": 3,
    "start_time": "2022-09-23T03:15:33.998Z"
   },
   {
    "duration": 266,
    "start_time": "2022-09-23T03:15:34.479Z"
   },
   {
    "duration": 126,
    "start_time": "2022-09-23T03:15:57.756Z"
   },
   {
    "duration": 128,
    "start_time": "2022-09-23T03:16:11.367Z"
   },
   {
    "duration": 127,
    "start_time": "2022-09-23T03:17:18.448Z"
   },
   {
    "duration": 3,
    "start_time": "2022-09-23T03:28:58.328Z"
   },
   {
    "duration": 74,
    "start_time": "2022-09-23T03:28:59.176Z"
   },
   {
    "duration": 87,
    "start_time": "2022-09-23T03:29:02.981Z"
   },
   {
    "duration": 79,
    "start_time": "2022-09-23T03:29:03.717Z"
   },
   {
    "duration": 95,
    "start_time": "2022-09-23T03:31:07.199Z"
   },
   {
    "duration": 9,
    "start_time": "2022-09-23T03:31:18.675Z"
   },
   {
    "duration": 2,
    "start_time": "2022-09-23T03:31:27.339Z"
   },
   {
    "duration": 3,
    "start_time": "2022-09-23T03:31:29.390Z"
   },
   {
    "duration": 141,
    "start_time": "2022-09-23T03:32:04.159Z"
   },
   {
    "duration": 3,
    "start_time": "2022-09-23T03:32:09.087Z"
   },
   {
    "duration": 136,
    "start_time": "2022-09-23T03:32:10.271Z"
   },
   {
    "duration": 92,
    "start_time": "2022-09-23T03:32:36.744Z"
   },
   {
    "duration": 3,
    "start_time": "2022-09-23T03:33:25.016Z"
   },
   {
    "duration": 118,
    "start_time": "2022-09-23T03:33:26.058Z"
   },
   {
    "duration": 198,
    "start_time": "2022-09-23T03:33:57.945Z"
   },
   {
    "duration": 115,
    "start_time": "2022-09-23T03:34:08.911Z"
   },
   {
    "duration": 3,
    "start_time": "2022-09-23T03:35:26.321Z"
   },
   {
    "duration": 129,
    "start_time": "2022-09-23T03:35:27.908Z"
   },
   {
    "duration": 3,
    "start_time": "2022-09-23T03:37:24.667Z"
   },
   {
    "duration": 8,
    "start_time": "2022-09-23T03:37:47.551Z"
   },
   {
    "duration": 9545,
    "start_time": "2022-09-23T03:37:55.819Z"
   },
   {
    "duration": 171,
    "start_time": "2022-09-23T03:38:14.012Z"
   },
   {
    "duration": 4,
    "start_time": "2022-09-23T03:38:22.808Z"
   },
   {
    "duration": 3,
    "start_time": "2022-09-23T03:38:31.252Z"
   },
   {
    "duration": 3,
    "start_time": "2022-09-23T03:38:50.136Z"
   },
   {
    "duration": 280,
    "start_time": "2022-09-23T03:38:52.712Z"
   },
   {
    "duration": 4,
    "start_time": "2022-09-23T03:39:05.387Z"
   },
   {
    "duration": 171,
    "start_time": "2022-09-23T03:39:05.853Z"
   },
   {
    "duration": 3,
    "start_time": "2022-09-23T03:39:17.281Z"
   },
   {
    "duration": 169,
    "start_time": "2022-09-23T03:39:17.828Z"
   },
   {
    "duration": 3,
    "start_time": "2022-09-23T03:39:47.845Z"
   },
   {
    "duration": 320,
    "start_time": "2022-09-23T03:39:49.546Z"
   },
   {
    "duration": 3,
    "start_time": "2022-09-23T03:39:59.997Z"
   },
   {
    "duration": 206,
    "start_time": "2022-09-23T03:40:00.965Z"
   },
   {
    "duration": 3,
    "start_time": "2022-09-23T03:41:48.298Z"
   },
   {
    "duration": 851,
    "start_time": "2022-09-23T03:41:49.330Z"
   },
   {
    "duration": 218,
    "start_time": "2022-09-23T03:42:04.415Z"
   },
   {
    "duration": 4,
    "start_time": "2022-09-23T03:42:21.418Z"
   },
   {
    "duration": 176,
    "start_time": "2022-09-23T03:42:23.260Z"
   },
   {
    "duration": 3,
    "start_time": "2022-09-23T03:42:46.055Z"
   },
   {
    "duration": 73,
    "start_time": "2022-09-23T03:42:46.419Z"
   },
   {
    "duration": 85,
    "start_time": "2022-09-23T03:42:46.862Z"
   },
   {
    "duration": 82,
    "start_time": "2022-09-23T03:42:47.435Z"
   },
   {
    "duration": 3,
    "start_time": "2022-09-23T03:43:24.124Z"
   },
   {
    "duration": 173,
    "start_time": "2022-09-23T03:43:24.911Z"
   },
   {
    "duration": 4,
    "start_time": "2022-09-23T03:44:39.100Z"
   },
   {
    "duration": 157,
    "start_time": "2022-09-23T03:44:39.357Z"
   },
   {
    "duration": 4,
    "start_time": "2022-09-23T03:44:56.077Z"
   },
   {
    "duration": 153,
    "start_time": "2022-09-23T03:44:56.236Z"
   },
   {
    "duration": 4,
    "start_time": "2022-09-23T03:45:02.023Z"
   },
   {
    "duration": 183,
    "start_time": "2022-09-23T03:45:02.221Z"
   },
   {
    "duration": 4,
    "start_time": "2022-09-23T03:46:25.119Z"
   },
   {
    "duration": 17,
    "start_time": "2022-09-23T03:46:31.159Z"
   },
   {
    "duration": 3,
    "start_time": "2022-09-23T03:47:07.625Z"
   },
   {
    "duration": 6,
    "start_time": "2022-09-23T03:47:08.703Z"
   },
   {
    "duration": 19,
    "start_time": "2022-09-23T03:47:17.790Z"
   },
   {
    "duration": 9,
    "start_time": "2022-09-23T03:48:34.380Z"
   },
   {
    "duration": 8,
    "start_time": "2022-09-23T03:48:46.394Z"
   },
   {
    "duration": 5,
    "start_time": "2022-09-23T03:49:17.835Z"
   },
   {
    "duration": 9,
    "start_time": "2022-09-23T03:49:34.553Z"
   },
   {
    "duration": 9,
    "start_time": "2022-09-23T03:49:43.922Z"
   },
   {
    "duration": 18,
    "start_time": "2022-09-23T03:49:52.868Z"
   },
   {
    "duration": 2,
    "start_time": "2022-09-23T03:51:30.706Z"
   },
   {
    "duration": 765,
    "start_time": "2022-09-23T03:52:09.430Z"
   },
   {
    "duration": 16,
    "start_time": "2022-09-23T03:52:29.163Z"
   },
   {
    "duration": 3,
    "start_time": "2022-09-23T03:52:29.702Z"
   },
   {
    "duration": 9,
    "start_time": "2022-09-23T03:52:47.666Z"
   },
   {
    "duration": 19,
    "start_time": "2022-09-23T03:52:49.243Z"
   },
   {
    "duration": 3,
    "start_time": "2022-09-23T03:53:22.088Z"
   },
   {
    "duration": 9,
    "start_time": "2022-09-23T03:53:45.467Z"
   },
   {
    "duration": 9,
    "start_time": "2022-09-23T03:53:55.160Z"
   },
   {
    "duration": 16,
    "start_time": "2022-09-23T03:54:05.529Z"
   },
   {
    "duration": 4,
    "start_time": "2022-09-23T03:54:06.363Z"
   },
   {
    "duration": 7,
    "start_time": "2022-09-23T03:54:07.372Z"
   },
   {
    "duration": 19,
    "start_time": "2022-09-23T03:54:09.740Z"
   },
   {
    "duration": 5,
    "start_time": "2022-09-23T03:54:36.240Z"
   },
   {
    "duration": 955,
    "start_time": "2022-09-23T03:56:24.521Z"
   },
   {
    "duration": 4,
    "start_time": "2022-09-23T03:56:34.045Z"
   },
   {
    "duration": 861,
    "start_time": "2022-09-23T03:56:34.645Z"
   },
   {
    "duration": 4,
    "start_time": "2022-09-23T03:57:06.570Z"
   },
   {
    "duration": 6,
    "start_time": "2022-09-23T03:57:09.077Z"
   },
   {
    "duration": 3,
    "start_time": "2022-09-23T03:57:10.902Z"
   },
   {
    "duration": 20,
    "start_time": "2022-09-23T03:57:17.514Z"
   },
   {
    "duration": 2,
    "start_time": "2022-09-23T03:57:17.999Z"
   },
   {
    "duration": 8,
    "start_time": "2022-09-23T03:57:18.565Z"
   },
   {
    "duration": 4,
    "start_time": "2022-09-23T03:57:19.329Z"
   },
   {
    "duration": 1172,
    "start_time": "2022-09-23T03:57:20.102Z"
   },
   {
    "duration": 1037,
    "start_time": "2022-09-23T03:57:51.725Z"
   },
   {
    "duration": 1051,
    "start_time": "2022-09-23T03:58:04.211Z"
   },
   {
    "duration": 4,
    "start_time": "2022-09-23T03:58:05.264Z"
   },
   {
    "duration": 1332,
    "start_time": "2022-09-23T04:00:07.128Z"
   },
   {
    "duration": 176,
    "start_time": "2022-09-23T04:00:15.192Z"
   },
   {
    "duration": 1124,
    "start_time": "2022-09-23T04:00:55.349Z"
   },
   {
    "duration": 249,
    "start_time": "2022-09-23T04:01:11.818Z"
   },
   {
    "duration": 243,
    "start_time": "2022-09-23T04:01:52.430Z"
   },
   {
    "duration": 235,
    "start_time": "2022-09-23T04:02:33.090Z"
   },
   {
    "duration": 3,
    "start_time": "2022-09-23T04:02:33.655Z"
   },
   {
    "duration": 225,
    "start_time": "2022-09-23T04:03:15.346Z"
   },
   {
    "duration": 335,
    "start_time": "2022-09-23T04:03:19.655Z"
   },
   {
    "duration": 203,
    "start_time": "2022-09-23T04:03:51.119Z"
   },
   {
    "duration": 266,
    "start_time": "2022-09-23T04:03:55.493Z"
   },
   {
    "duration": 239,
    "start_time": "2022-09-23T04:04:21.255Z"
   },
   {
    "duration": 2,
    "start_time": "2022-09-23T04:10:47.617Z"
   },
   {
    "duration": 32,
    "start_time": "2022-09-23T04:11:04.016Z"
   },
   {
    "duration": 6,
    "start_time": "2022-09-23T04:11:33.841Z"
   },
   {
    "duration": 4,
    "start_time": "2022-09-23T04:11:46.665Z"
   },
   {
    "duration": 5,
    "start_time": "2022-09-23T04:11:54.609Z"
   },
   {
    "duration": 3,
    "start_time": "2022-09-23T04:12:08.593Z"
   },
   {
    "duration": 4,
    "start_time": "2022-09-23T04:12:09.734Z"
   },
   {
    "duration": 3,
    "start_time": "2022-09-23T04:14:04.423Z"
   },
   {
    "duration": 4,
    "start_time": "2022-09-23T04:14:05.625Z"
   },
   {
    "duration": 5,
    "start_time": "2022-09-23T04:14:16.835Z"
   },
   {
    "duration": 5,
    "start_time": "2022-09-23T04:16:20.774Z"
   },
   {
    "duration": 62,
    "start_time": "2022-09-23T04:16:32.800Z"
   },
   {
    "duration": 59,
    "start_time": "2022-09-23T04:16:41.597Z"
   },
   {
    "duration": 54,
    "start_time": "2022-09-23T04:16:45.778Z"
   },
   {
    "duration": 46,
    "start_time": "2022-09-23T04:16:59.407Z"
   },
   {
    "duration": 44,
    "start_time": "2022-09-23T04:17:06.149Z"
   },
   {
    "duration": 43,
    "start_time": "2022-09-23T04:17:20.378Z"
   },
   {
    "duration": 53,
    "start_time": "2022-09-23T04:17:24.214Z"
   },
   {
    "duration": 747,
    "start_time": "2022-09-23T04:17:40.844Z"
   },
   {
    "duration": 5,
    "start_time": "2022-09-23T04:17:59.819Z"
   },
   {
    "duration": 247,
    "start_time": "2022-09-23T04:18:15.243Z"
   },
   {
    "duration": 1258,
    "start_time": "2022-09-23T04:18:39.956Z"
   },
   {
    "duration": 685,
    "start_time": "2022-09-23T04:18:41.216Z"
   },
   {
    "duration": 4,
    "start_time": "2022-09-23T04:18:41.902Z"
   },
   {
    "duration": 353,
    "start_time": "2022-09-23T04:18:41.908Z"
   },
   {
    "duration": 163,
    "start_time": "2022-09-23T04:18:42.263Z"
   },
   {
    "duration": 345,
    "start_time": "2022-09-23T04:18:42.427Z"
   },
   {
    "duration": 6,
    "start_time": "2022-09-23T04:18:42.774Z"
   },
   {
    "duration": 22,
    "start_time": "2022-09-23T04:18:42.781Z"
   },
   {
    "duration": 17,
    "start_time": "2022-09-23T04:18:42.805Z"
   },
   {
    "duration": 32,
    "start_time": "2022-09-23T04:18:42.824Z"
   },
   {
    "duration": 34,
    "start_time": "2022-09-23T04:18:42.857Z"
   },
   {
    "duration": 33,
    "start_time": "2022-09-23T04:18:42.893Z"
   },
   {
    "duration": 33,
    "start_time": "2022-09-23T04:18:42.927Z"
   },
   {
    "duration": 21,
    "start_time": "2022-09-23T04:18:42.961Z"
   },
   {
    "duration": 168,
    "start_time": "2022-09-23T04:18:42.983Z"
   },
   {
    "duration": 141,
    "start_time": "2022-09-23T04:18:43.153Z"
   },
   {
    "duration": 154,
    "start_time": "2022-09-23T04:18:43.296Z"
   },
   {
    "duration": 226,
    "start_time": "2022-09-23T04:18:43.452Z"
   },
   {
    "duration": 145,
    "start_time": "2022-09-23T04:18:43.680Z"
   },
   {
    "duration": 137,
    "start_time": "2022-09-23T04:18:43.826Z"
   },
   {
    "duration": 147,
    "start_time": "2022-09-23T04:18:43.965Z"
   },
   {
    "duration": 11,
    "start_time": "2022-09-23T04:18:44.114Z"
   },
   {
    "duration": 16,
    "start_time": "2022-09-23T04:18:44.126Z"
   },
   {
    "duration": 21,
    "start_time": "2022-09-23T04:18:44.144Z"
   },
   {
    "duration": 23,
    "start_time": "2022-09-23T04:18:44.167Z"
   },
   {
    "duration": 17,
    "start_time": "2022-09-23T04:18:44.191Z"
   },
   {
    "duration": 21,
    "start_time": "2022-09-23T04:18:44.210Z"
   },
   {
    "duration": 204,
    "start_time": "2022-09-23T04:18:44.234Z"
   },
   {
    "duration": 4,
    "start_time": "2022-09-23T04:18:44.440Z"
   },
   {
    "duration": 202,
    "start_time": "2022-09-23T04:18:44.445Z"
   },
   {
    "duration": 3,
    "start_time": "2022-09-23T04:18:44.648Z"
   },
   {
    "duration": 13,
    "start_time": "2022-09-23T04:18:44.652Z"
   },
   {
    "duration": 90,
    "start_time": "2022-09-23T04:18:44.666Z"
   },
   {
    "duration": 90,
    "start_time": "2022-09-23T04:18:44.758Z"
   },
   {
    "duration": 87,
    "start_time": "2022-09-23T04:18:44.849Z"
   },
   {
    "duration": 4,
    "start_time": "2022-09-23T04:18:44.937Z"
   },
   {
    "duration": 28,
    "start_time": "2022-09-23T04:18:44.942Z"
   },
   {
    "duration": 17,
    "start_time": "2022-09-23T04:18:44.972Z"
   },
   {
    "duration": 33,
    "start_time": "2022-09-23T04:18:44.991Z"
   },
   {
    "duration": 16,
    "start_time": "2022-09-23T04:18:45.026Z"
   },
   {
    "duration": 326,
    "start_time": "2022-09-23T04:18:45.044Z"
   },
   {
    "duration": 103,
    "start_time": "2022-09-23T04:18:45.372Z"
   },
   {
    "duration": 0,
    "start_time": "2022-09-23T04:18:45.477Z"
   },
   {
    "duration": 0,
    "start_time": "2022-09-23T04:18:45.478Z"
   },
   {
    "duration": 0,
    "start_time": "2022-09-23T04:18:45.479Z"
   },
   {
    "duration": 0,
    "start_time": "2022-09-23T04:18:45.480Z"
   },
   {
    "duration": 6,
    "start_time": "2022-09-23T04:20:06.820Z"
   },
   {
    "duration": 54,
    "start_time": "2022-09-23T04:20:07.729Z"
   },
   {
    "duration": 5,
    "start_time": "2022-09-23T04:20:10.748Z"
   },
   {
    "duration": 213,
    "start_time": "2022-09-23T04:20:11.869Z"
   },
   {
    "duration": 33,
    "start_time": "2022-09-23T04:20:32.786Z"
   },
   {
    "duration": 4,
    "start_time": "2022-09-23T04:20:33.829Z"
   },
   {
    "duration": 230,
    "start_time": "2022-09-23T04:20:35.025Z"
   },
   {
    "duration": 6,
    "start_time": "2022-09-23T04:21:09.205Z"
   },
   {
    "duration": 34,
    "start_time": "2022-09-23T04:21:09.621Z"
   },
   {
    "duration": 5,
    "start_time": "2022-09-23T04:21:10.040Z"
   },
   {
    "duration": 4,
    "start_time": "2022-09-23T04:21:51.458Z"
   },
   {
    "duration": 6,
    "start_time": "2022-09-23T04:22:05.068Z"
   },
   {
    "duration": 5,
    "start_time": "2022-09-23T04:22:20.630Z"
   },
   {
    "duration": 5,
    "start_time": "2022-09-23T04:22:51.307Z"
   },
   {
    "duration": 31,
    "start_time": "2022-09-23T04:22:52.148Z"
   },
   {
    "duration": 4,
    "start_time": "2022-09-23T04:22:53.936Z"
   },
   {
    "duration": 6,
    "start_time": "2022-09-23T04:28:45.659Z"
   },
   {
    "duration": 5,
    "start_time": "2022-09-23T04:29:07.081Z"
   },
   {
    "duration": 5,
    "start_time": "2022-09-23T04:29:38.956Z"
   },
   {
    "duration": 32,
    "start_time": "2022-09-23T04:29:42.712Z"
   },
   {
    "duration": 1253,
    "start_time": "2022-09-23T04:30:24.659Z"
   },
   {
    "duration": 667,
    "start_time": "2022-09-23T04:30:25.914Z"
   },
   {
    "duration": 4,
    "start_time": "2022-09-23T04:30:26.807Z"
   },
   {
    "duration": 350,
    "start_time": "2022-09-23T04:30:27.972Z"
   },
   {
    "duration": 158,
    "start_time": "2022-09-23T04:30:28.324Z"
   },
   {
    "duration": 347,
    "start_time": "2022-09-23T04:30:28.485Z"
   },
   {
    "duration": 7,
    "start_time": "2022-09-23T04:30:28.834Z"
   },
   {
    "duration": 13,
    "start_time": "2022-09-23T04:30:28.929Z"
   },
   {
    "duration": 5,
    "start_time": "2022-09-23T04:30:29.081Z"
   },
   {
    "duration": 6,
    "start_time": "2022-09-23T04:30:29.581Z"
   },
   {
    "duration": 12,
    "start_time": "2022-09-23T04:30:30.092Z"
   },
   {
    "duration": 11,
    "start_time": "2022-09-23T04:30:30.410Z"
   },
   {
    "duration": 3,
    "start_time": "2022-09-23T04:30:31.818Z"
   },
   {
    "duration": 2,
    "start_time": "2022-09-23T04:30:32.391Z"
   },
   {
    "duration": 135,
    "start_time": "2022-09-23T04:30:32.627Z"
   },
   {
    "duration": 130,
    "start_time": "2022-09-23T04:30:32.844Z"
   },
   {
    "duration": 136,
    "start_time": "2022-09-23T04:30:33.053Z"
   },
   {
    "duration": 203,
    "start_time": "2022-09-23T04:30:33.591Z"
   },
   {
    "duration": 132,
    "start_time": "2022-09-23T04:30:33.884Z"
   },
   {
    "duration": 126,
    "start_time": "2022-09-23T04:30:34.306Z"
   },
   {
    "duration": 130,
    "start_time": "2022-09-23T04:30:34.594Z"
   },
   {
    "duration": 5,
    "start_time": "2022-09-23T04:30:35.013Z"
   },
   {
    "duration": 5,
    "start_time": "2022-09-23T04:30:35.225Z"
   },
   {
    "duration": 6,
    "start_time": "2022-09-23T04:30:35.734Z"
   },
   {
    "duration": 6,
    "start_time": "2022-09-23T04:30:36.229Z"
   },
   {
    "duration": 3,
    "start_time": "2022-09-23T04:30:38.021Z"
   },
   {
    "duration": 4,
    "start_time": "2022-09-23T04:30:38.625Z"
   },
   {
    "duration": 197,
    "start_time": "2022-09-23T04:30:39.283Z"
   },
   {
    "duration": 5,
    "start_time": "2022-09-23T04:30:39.811Z"
   },
   {
    "duration": 170,
    "start_time": "2022-09-23T04:30:40.363Z"
   },
   {
    "duration": 3,
    "start_time": "2022-09-23T04:30:44.062Z"
   },
   {
    "duration": 3,
    "start_time": "2022-09-23T04:30:45.419Z"
   },
   {
    "duration": 74,
    "start_time": "2022-09-23T04:30:46.088Z"
   },
   {
    "duration": 88,
    "start_time": "2022-09-23T04:30:46.559Z"
   },
   {
    "duration": 77,
    "start_time": "2022-09-23T04:30:47.271Z"
   },
   {
    "duration": 4,
    "start_time": "2022-09-23T04:30:47.953Z"
   },
   {
    "duration": 17,
    "start_time": "2022-09-23T04:30:48.557Z"
   },
   {
    "duration": 3,
    "start_time": "2022-09-23T04:30:49.367Z"
   },
   {
    "duration": 8,
    "start_time": "2022-09-23T04:30:51.002Z"
   },
   {
    "duration": 4,
    "start_time": "2022-09-23T04:30:51.758Z"
   },
   {
    "duration": 304,
    "start_time": "2022-09-23T04:30:52.895Z"
   },
   {
    "duration": 4,
    "start_time": "2022-09-23T04:31:06.181Z"
   },
   {
    "duration": 4,
    "start_time": "2022-09-23T04:31:12.944Z"
   },
   {
    "duration": 4,
    "start_time": "2022-09-23T04:31:28.973Z"
   },
   {
    "duration": 5,
    "start_time": "2022-09-23T04:34:25.619Z"
   },
   {
    "duration": 36,
    "start_time": "2022-09-23T04:34:26.431Z"
   },
   {
    "duration": 4,
    "start_time": "2022-09-23T04:34:28.930Z"
   },
   {
    "duration": 4,
    "start_time": "2022-09-23T04:34:44.520Z"
   },
   {
    "duration": 68,
    "start_time": "2022-09-23T04:35:21.088Z"
   },
   {
    "duration": 57,
    "start_time": "2022-09-23T04:35:39.908Z"
   },
   {
    "duration": 36,
    "start_time": "2022-09-23T04:35:40.793Z"
   },
   {
    "duration": 6,
    "start_time": "2022-09-23T04:35:50.588Z"
   },
   {
    "duration": 24,
    "start_time": "2022-09-23T04:35:52.456Z"
   },
   {
    "duration": 6,
    "start_time": "2022-09-23T04:35:53.067Z"
   },
   {
    "duration": 53,
    "start_time": "2022-09-23T04:36:02.122Z"
   },
   {
    "duration": 7,
    "start_time": "2022-09-23T04:36:08.797Z"
   },
   {
    "duration": 99,
    "start_time": "2022-09-23T04:37:07.337Z"
   },
   {
    "duration": 45,
    "start_time": "2022-09-23T04:37:39.237Z"
   },
   {
    "duration": 23,
    "start_time": "2022-09-23T04:37:41.669Z"
   },
   {
    "duration": 4,
    "start_time": "2022-09-23T04:37:43.333Z"
   },
   {
    "duration": 4,
    "start_time": "2022-09-23T04:37:49.783Z"
   },
   {
    "duration": 220,
    "start_time": "2022-09-23T04:37:50.865Z"
   },
   {
    "duration": 55,
    "start_time": "2022-09-23T04:38:15.294Z"
   },
   {
    "duration": 172,
    "start_time": "2022-09-23T04:38:24.485Z"
   },
   {
    "duration": 781,
    "start_time": "2022-09-23T04:38:35.132Z"
   },
   {
    "duration": 226,
    "start_time": "2022-09-23T04:39:04.383Z"
   },
   {
    "duration": 1107,
    "start_time": "2022-09-23T04:40:58.618Z"
   },
   {
    "duration": 228,
    "start_time": "2022-09-23T04:41:55.018Z"
   },
   {
    "duration": 9,
    "start_time": "2022-09-23T04:42:48.293Z"
   },
   {
    "duration": 317,
    "start_time": "2022-09-23T04:42:51.157Z"
   },
   {
    "duration": 9,
    "start_time": "2022-09-23T04:43:00.184Z"
   },
   {
    "duration": 215,
    "start_time": "2022-09-23T04:43:56.691Z"
   },
   {
    "duration": 7,
    "start_time": "2022-09-23T04:51:10.109Z"
   },
   {
    "duration": 6,
    "start_time": "2022-09-23T04:51:15.308Z"
   },
   {
    "duration": 6,
    "start_time": "2022-09-23T04:51:22.004Z"
   },
   {
    "duration": 7,
    "start_time": "2022-09-23T04:51:31.124Z"
   },
   {
    "duration": 694,
    "start_time": "2022-09-23T04:51:40.960Z"
   },
   {
    "duration": 5,
    "start_time": "2022-09-23T04:51:47.557Z"
   },
   {
    "duration": 6,
    "start_time": "2022-09-23T04:51:52.226Z"
   },
   {
    "duration": 3,
    "start_time": "2022-09-23T04:59:56.568Z"
   },
   {
    "duration": 79,
    "start_time": "2022-09-23T04:59:57.030Z"
   },
   {
    "duration": 83,
    "start_time": "2022-09-23T05:00:55.165Z"
   },
   {
    "duration": 82,
    "start_time": "2022-09-23T05:00:55.839Z"
   },
   {
    "duration": 8,
    "start_time": "2022-09-23T05:03:41.179Z"
   },
   {
    "duration": 75,
    "start_time": "2022-09-23T05:03:45.392Z"
   },
   {
    "duration": 16,
    "start_time": "2022-09-23T05:06:47.202Z"
   },
   {
    "duration": 3,
    "start_time": "2022-09-23T05:06:48.113Z"
   },
   {
    "duration": 7,
    "start_time": "2022-09-23T05:06:48.938Z"
   },
   {
    "duration": 5,
    "start_time": "2022-09-23T05:06:49.881Z"
   },
   {
    "duration": 15,
    "start_time": "2022-09-23T05:07:06.267Z"
   },
   {
    "duration": 219,
    "start_time": "2022-09-23T05:07:07.687Z"
   },
   {
    "duration": 47,
    "start_time": "2022-09-23T05:07:13.187Z"
   },
   {
    "duration": 6,
    "start_time": "2022-09-23T05:07:14.148Z"
   },
   {
    "duration": 9,
    "start_time": "2022-09-23T05:07:14.855Z"
   },
   {
    "duration": 216,
    "start_time": "2022-09-23T05:07:19.443Z"
   },
   {
    "duration": 132,
    "start_time": "2022-09-23T05:22:31.285Z"
   },
   {
    "duration": 4,
    "start_time": "2022-09-23T07:31:51.854Z"
   },
   {
    "duration": 9,
    "start_time": "2022-09-23T07:33:39.894Z"
   },
   {
    "duration": 3,
    "start_time": "2022-09-23T07:33:43.859Z"
   },
   {
    "duration": 7,
    "start_time": "2022-09-23T07:33:44.407Z"
   },
   {
    "duration": 751,
    "start_time": "2022-09-23T07:34:18.750Z"
   },
   {
    "duration": 3,
    "start_time": "2022-09-23T08:06:50.043Z"
   },
   {
    "duration": 16,
    "start_time": "2022-09-23T08:09:06.009Z"
   },
   {
    "duration": 8,
    "start_time": "2022-09-23T08:10:23.555Z"
   },
   {
    "duration": 866,
    "start_time": "2022-09-23T08:15:28.837Z"
   },
   {
    "duration": 13,
    "start_time": "2022-09-23T08:15:56.924Z"
   },
   {
    "duration": 13,
    "start_time": "2022-09-23T08:16:06.190Z"
   },
   {
    "duration": 10,
    "start_time": "2022-09-23T08:16:31.238Z"
   },
   {
    "duration": 4,
    "start_time": "2022-09-23T08:16:42.611Z"
   },
   {
    "duration": 1334,
    "start_time": "2022-09-23T08:17:00.073Z"
   },
   {
    "duration": 694,
    "start_time": "2022-09-23T08:17:01.409Z"
   },
   {
    "duration": 4,
    "start_time": "2022-09-23T08:17:02.105Z"
   },
   {
    "duration": 376,
    "start_time": "2022-09-23T08:17:02.111Z"
   },
   {
    "duration": 172,
    "start_time": "2022-09-23T08:17:02.489Z"
   },
   {
    "duration": 360,
    "start_time": "2022-09-23T08:17:02.663Z"
   },
   {
    "duration": 7,
    "start_time": "2022-09-23T08:17:03.025Z"
   },
   {
    "duration": 38,
    "start_time": "2022-09-23T08:17:03.034Z"
   },
   {
    "duration": 12,
    "start_time": "2022-09-23T08:17:03.074Z"
   },
   {
    "duration": 11,
    "start_time": "2022-09-23T08:17:03.089Z"
   },
   {
    "duration": 28,
    "start_time": "2022-09-23T08:17:03.102Z"
   },
   {
    "duration": 16,
    "start_time": "2022-09-23T08:17:03.132Z"
   },
   {
    "duration": 24,
    "start_time": "2022-09-23T08:17:03.149Z"
   },
   {
    "duration": 10,
    "start_time": "2022-09-23T08:17:03.175Z"
   },
   {
    "duration": 19,
    "start_time": "2022-09-23T08:17:03.187Z"
   },
   {
    "duration": 163,
    "start_time": "2022-09-23T08:17:03.207Z"
   },
   {
    "duration": 135,
    "start_time": "2022-09-23T08:17:03.372Z"
   },
   {
    "duration": 148,
    "start_time": "2022-09-23T08:17:03.509Z"
   },
   {
    "duration": 227,
    "start_time": "2022-09-23T08:17:03.658Z"
   },
   {
    "duration": 161,
    "start_time": "2022-09-23T08:17:03.887Z"
   },
   {
    "duration": 145,
    "start_time": "2022-09-23T08:17:04.050Z"
   },
   {
    "duration": 157,
    "start_time": "2022-09-23T08:17:04.197Z"
   },
   {
    "duration": 6,
    "start_time": "2022-09-23T08:17:04.356Z"
   },
   {
    "duration": 7,
    "start_time": "2022-09-23T08:17:04.363Z"
   },
   {
    "duration": 6,
    "start_time": "2022-09-23T08:17:04.372Z"
   },
   {
    "duration": 6,
    "start_time": "2022-09-23T08:17:04.380Z"
   },
   {
    "duration": 10,
    "start_time": "2022-09-23T08:17:04.388Z"
   },
   {
    "duration": 5,
    "start_time": "2022-09-23T08:17:04.421Z"
   },
   {
    "duration": 209,
    "start_time": "2022-09-23T08:17:04.427Z"
   },
   {
    "duration": 4,
    "start_time": "2022-09-23T08:17:04.638Z"
   },
   {
    "duration": 189,
    "start_time": "2022-09-23T08:17:04.644Z"
   },
   {
    "duration": 3,
    "start_time": "2022-09-23T08:17:04.834Z"
   },
   {
    "duration": 10,
    "start_time": "2022-09-23T08:17:04.838Z"
   },
   {
    "duration": 86,
    "start_time": "2022-09-23T08:17:04.849Z"
   },
   {
    "duration": 95,
    "start_time": "2022-09-23T08:17:04.936Z"
   },
   {
    "duration": 102,
    "start_time": "2022-09-23T08:17:05.032Z"
   },
   {
    "duration": 18,
    "start_time": "2022-09-23T08:17:05.136Z"
   },
   {
    "duration": 3,
    "start_time": "2022-09-23T08:17:05.156Z"
   },
   {
    "duration": 8,
    "start_time": "2022-09-23T08:17:05.161Z"
   },
   {
    "duration": 18,
    "start_time": "2022-09-23T08:17:05.170Z"
   },
   {
    "duration": 333,
    "start_time": "2022-09-23T08:17:05.190Z"
   },
   {
    "duration": 46,
    "start_time": "2022-09-23T08:17:05.525Z"
   },
   {
    "duration": 4,
    "start_time": "2022-09-23T08:17:05.572Z"
   },
   {
    "duration": 10,
    "start_time": "2022-09-23T08:17:05.578Z"
   },
   {
    "duration": 248,
    "start_time": "2022-09-23T08:17:05.589Z"
   },
   {
    "duration": 3,
    "start_time": "2022-09-23T08:17:05.839Z"
   },
   {
    "duration": 9,
    "start_time": "2022-09-23T08:17:05.843Z"
   },
   {
    "duration": 11,
    "start_time": "2022-09-23T08:17:05.853Z"
   },
   {
    "duration": 7,
    "start_time": "2022-09-23T08:17:05.866Z"
   },
   {
    "duration": 10,
    "start_time": "2022-09-23T08:17:05.875Z"
   },
   {
    "duration": 7,
    "start_time": "2022-09-23T08:17:05.886Z"
   },
   {
    "duration": 9,
    "start_time": "2022-09-23T08:17:46.249Z"
   },
   {
    "duration": 4,
    "start_time": "2022-09-23T08:17:46.684Z"
   },
   {
    "duration": 24,
    "start_time": "2022-09-23T08:18:33.805Z"
   },
   {
    "duration": 125,
    "start_time": "2022-09-23T08:19:51.938Z"
   },
   {
    "duration": 22,
    "start_time": "2022-09-23T08:21:39.151Z"
   },
   {
    "duration": 22,
    "start_time": "2022-09-23T08:21:58.465Z"
   },
   {
    "duration": 22,
    "start_time": "2022-09-23T08:38:50.701Z"
   },
   {
    "duration": 44,
    "start_time": "2022-09-23T08:44:14.060Z"
   },
   {
    "duration": 41,
    "start_time": "2022-09-23T08:46:20.527Z"
   },
   {
    "duration": 24,
    "start_time": "2022-09-23T08:46:36.507Z"
   },
   {
    "duration": 24,
    "start_time": "2022-09-23T08:46:46.139Z"
   },
   {
    "duration": 9,
    "start_time": "2022-09-23T08:47:04.731Z"
   },
   {
    "duration": 8,
    "start_time": "2022-09-23T08:48:15.988Z"
   },
   {
    "duration": 11,
    "start_time": "2022-09-23T08:48:49.613Z"
   },
   {
    "duration": 5,
    "start_time": "2022-09-23T08:49:05.637Z"
   },
   {
    "duration": 3,
    "start_time": "2022-09-23T08:49:10.340Z"
   },
   {
    "duration": 9,
    "start_time": "2022-09-23T08:49:10.924Z"
   },
   {
    "duration": 9,
    "start_time": "2022-09-23T08:49:13.928Z"
   },
   {
    "duration": 8,
    "start_time": "2022-09-23T08:49:25.401Z"
   },
   {
    "duration": 3,
    "start_time": "2022-09-23T08:49:27.015Z"
   },
   {
    "duration": 9,
    "start_time": "2022-09-23T08:49:27.876Z"
   },
   {
    "duration": 3,
    "start_time": "2022-09-23T08:50:18.754Z"
   },
   {
    "duration": 9,
    "start_time": "2022-09-23T08:50:21.061Z"
   },
   {
    "duration": 8,
    "start_time": "2022-09-23T08:51:22.721Z"
   },
   {
    "duration": 1359,
    "start_time": "2022-09-23T08:51:33.336Z"
   },
   {
    "duration": 3481,
    "start_time": "2022-09-23T08:51:34.696Z"
   },
   {
    "duration": 5,
    "start_time": "2022-09-23T08:51:38.178Z"
   },
   {
    "duration": 359,
    "start_time": "2022-09-23T08:51:38.185Z"
   },
   {
    "duration": 161,
    "start_time": "2022-09-23T08:51:38.545Z"
   },
   {
    "duration": 354,
    "start_time": "2022-09-23T08:51:38.707Z"
   },
   {
    "duration": 6,
    "start_time": "2022-09-23T08:51:39.063Z"
   },
   {
    "duration": 31,
    "start_time": "2022-09-23T08:51:39.071Z"
   },
   {
    "duration": 4,
    "start_time": "2022-09-23T08:51:39.104Z"
   },
   {
    "duration": 30,
    "start_time": "2022-09-23T08:51:39.110Z"
   },
   {
    "duration": 21,
    "start_time": "2022-09-23T08:51:39.141Z"
   },
   {
    "duration": 31,
    "start_time": "2022-09-23T08:51:39.163Z"
   },
   {
    "duration": 9,
    "start_time": "2022-09-23T08:51:39.196Z"
   },
   {
    "duration": 31,
    "start_time": "2022-09-23T08:51:39.206Z"
   },
   {
    "duration": 27,
    "start_time": "2022-09-23T08:51:39.238Z"
   },
   {
    "duration": 150,
    "start_time": "2022-09-23T08:51:39.267Z"
   },
   {
    "duration": 133,
    "start_time": "2022-09-23T08:51:39.421Z"
   },
   {
    "duration": 211,
    "start_time": "2022-09-23T08:51:39.555Z"
   },
   {
    "duration": 148,
    "start_time": "2022-09-23T08:51:39.767Z"
   },
   {
    "duration": 142,
    "start_time": "2022-09-23T08:51:39.917Z"
   },
   {
    "duration": 143,
    "start_time": "2022-09-23T08:51:40.061Z"
   },
   {
    "duration": 142,
    "start_time": "2022-09-23T08:51:40.205Z"
   },
   {
    "duration": 5,
    "start_time": "2022-09-23T08:51:40.349Z"
   },
   {
    "duration": 6,
    "start_time": "2022-09-23T08:51:40.355Z"
   },
   {
    "duration": 6,
    "start_time": "2022-09-23T08:51:40.362Z"
   },
   {
    "duration": 6,
    "start_time": "2022-09-23T08:51:40.369Z"
   },
   {
    "duration": 4,
    "start_time": "2022-09-23T08:51:40.376Z"
   },
   {
    "duration": 5,
    "start_time": "2022-09-23T08:51:40.383Z"
   },
   {
    "duration": 226,
    "start_time": "2022-09-23T08:51:40.390Z"
   },
   {
    "duration": 6,
    "start_time": "2022-09-23T08:51:40.618Z"
   },
   {
    "duration": 180,
    "start_time": "2022-09-23T08:51:40.625Z"
   },
   {
    "duration": 3,
    "start_time": "2022-09-23T08:51:40.807Z"
   },
   {
    "duration": 12,
    "start_time": "2022-09-23T08:51:40.811Z"
   },
   {
    "duration": 75,
    "start_time": "2022-09-23T08:51:40.824Z"
   },
   {
    "duration": 98,
    "start_time": "2022-09-23T08:51:40.900Z"
   },
   {
    "duration": 87,
    "start_time": "2022-09-23T08:51:41.000Z"
   },
   {
    "duration": 16,
    "start_time": "2022-09-23T08:51:41.089Z"
   },
   {
    "duration": 16,
    "start_time": "2022-09-23T08:51:41.107Z"
   },
   {
    "duration": 11,
    "start_time": "2022-09-23T08:51:41.124Z"
   },
   {
    "duration": 15,
    "start_time": "2022-09-23T08:51:41.137Z"
   },
   {
    "duration": 314,
    "start_time": "2022-09-23T08:51:41.153Z"
   },
   {
    "duration": 60,
    "start_time": "2022-09-23T08:51:41.468Z"
   },
   {
    "duration": 5,
    "start_time": "2022-09-23T08:51:41.530Z"
   },
   {
    "duration": 15,
    "start_time": "2022-09-23T08:51:41.536Z"
   },
   {
    "duration": 225,
    "start_time": "2022-09-23T08:51:41.552Z"
   },
   {
    "duration": 3,
    "start_time": "2022-09-23T08:51:41.779Z"
   },
   {
    "duration": 12,
    "start_time": "2022-09-23T08:51:41.783Z"
   },
   {
    "duration": 104,
    "start_time": "2022-09-23T08:51:41.796Z"
   },
   {
    "duration": 0,
    "start_time": "2022-09-23T08:51:41.902Z"
   },
   {
    "duration": 0,
    "start_time": "2022-09-23T08:51:41.903Z"
   },
   {
    "duration": 0,
    "start_time": "2022-09-23T08:51:41.904Z"
   },
   {
    "duration": 0,
    "start_time": "2022-09-23T08:51:41.905Z"
   },
   {
    "duration": 0,
    "start_time": "2022-09-23T08:51:41.906Z"
   },
   {
    "duration": 9,
    "start_time": "2022-09-23T08:51:49.910Z"
   },
   {
    "duration": 6,
    "start_time": "2022-09-23T08:51:55.850Z"
   },
   {
    "duration": 5,
    "start_time": "2022-09-23T08:51:56.299Z"
   },
   {
    "duration": 1340,
    "start_time": "2022-09-23T08:52:39.141Z"
   },
   {
    "duration": 3066,
    "start_time": "2022-09-23T08:52:40.482Z"
   },
   {
    "duration": 6,
    "start_time": "2022-09-23T08:52:43.549Z"
   },
   {
    "duration": 369,
    "start_time": "2022-09-23T08:52:43.557Z"
   },
   {
    "duration": 164,
    "start_time": "2022-09-23T08:52:43.928Z"
   },
   {
    "duration": 347,
    "start_time": "2022-09-23T08:52:44.093Z"
   },
   {
    "duration": 7,
    "start_time": "2022-09-23T08:52:44.442Z"
   },
   {
    "duration": 29,
    "start_time": "2022-09-23T08:52:44.450Z"
   },
   {
    "duration": 9,
    "start_time": "2022-09-23T08:52:44.481Z"
   },
   {
    "duration": 29,
    "start_time": "2022-09-23T08:52:44.493Z"
   },
   {
    "duration": 31,
    "start_time": "2022-09-23T08:52:44.523Z"
   },
   {
    "duration": 42,
    "start_time": "2022-09-23T08:52:44.555Z"
   },
   {
    "duration": 31,
    "start_time": "2022-09-23T08:52:44.598Z"
   },
   {
    "duration": 13,
    "start_time": "2022-09-23T08:52:44.630Z"
   },
   {
    "duration": 22,
    "start_time": "2022-09-23T08:52:44.644Z"
   },
   {
    "duration": 171,
    "start_time": "2022-09-23T08:52:44.667Z"
   },
   {
    "duration": 134,
    "start_time": "2022-09-23T08:52:44.840Z"
   },
   {
    "duration": 211,
    "start_time": "2022-09-23T08:52:44.976Z"
   },
   {
    "duration": 152,
    "start_time": "2022-09-23T08:52:45.188Z"
   },
   {
    "duration": 144,
    "start_time": "2022-09-23T08:52:45.342Z"
   },
   {
    "duration": 148,
    "start_time": "2022-09-23T08:52:45.488Z"
   },
   {
    "duration": 157,
    "start_time": "2022-09-23T08:52:45.638Z"
   },
   {
    "duration": 5,
    "start_time": "2022-09-23T08:52:45.797Z"
   },
   {
    "duration": 19,
    "start_time": "2022-09-23T08:52:45.804Z"
   },
   {
    "duration": 6,
    "start_time": "2022-09-23T08:52:45.824Z"
   },
   {
    "duration": 7,
    "start_time": "2022-09-23T08:52:45.831Z"
   },
   {
    "duration": 7,
    "start_time": "2022-09-23T08:52:45.839Z"
   },
   {
    "duration": 6,
    "start_time": "2022-09-23T08:52:45.848Z"
   },
   {
    "duration": 217,
    "start_time": "2022-09-23T08:52:45.855Z"
   },
   {
    "duration": 4,
    "start_time": "2022-09-23T08:52:46.073Z"
   },
   {
    "duration": 189,
    "start_time": "2022-09-23T08:52:46.079Z"
   },
   {
    "duration": 3,
    "start_time": "2022-09-23T08:52:46.270Z"
   },
   {
    "duration": 9,
    "start_time": "2022-09-23T08:52:46.274Z"
   },
   {
    "duration": 82,
    "start_time": "2022-09-23T08:52:46.285Z"
   },
   {
    "duration": 97,
    "start_time": "2022-09-23T08:52:46.368Z"
   },
   {
    "duration": 91,
    "start_time": "2022-09-23T08:52:46.466Z"
   },
   {
    "duration": 16,
    "start_time": "2022-09-23T08:52:46.558Z"
   },
   {
    "duration": 4,
    "start_time": "2022-09-23T08:52:46.576Z"
   },
   {
    "duration": 9,
    "start_time": "2022-09-23T08:52:46.582Z"
   },
   {
    "duration": 30,
    "start_time": "2022-09-23T08:52:46.593Z"
   },
   {
    "duration": 306,
    "start_time": "2022-09-23T08:52:46.624Z"
   },
   {
    "duration": 45,
    "start_time": "2022-09-23T08:52:46.932Z"
   },
   {
    "duration": 4,
    "start_time": "2022-09-23T08:52:46.979Z"
   },
   {
    "duration": 10,
    "start_time": "2022-09-23T08:52:46.985Z"
   },
   {
    "duration": 236,
    "start_time": "2022-09-23T08:52:46.996Z"
   },
   {
    "duration": 3,
    "start_time": "2022-09-23T08:52:47.233Z"
   },
   {
    "duration": 7,
    "start_time": "2022-09-23T08:52:47.238Z"
   },
   {
    "duration": 10,
    "start_time": "2022-09-23T08:52:47.246Z"
   },
   {
    "duration": 9,
    "start_time": "2022-09-23T08:52:47.257Z"
   },
   {
    "duration": 27,
    "start_time": "2022-09-23T08:52:47.267Z"
   },
   {
    "duration": 127,
    "start_time": "2022-09-23T08:52:47.295Z"
   },
   {
    "duration": 80,
    "start_time": "2022-09-23T08:53:47.140Z"
   },
   {
    "duration": 25,
    "start_time": "2022-09-23T08:54:57.725Z"
   },
   {
    "duration": 20,
    "start_time": "2022-09-23T09:04:18.271Z"
   },
   {
    "duration": 8,
    "start_time": "2022-09-23T09:04:30.478Z"
   },
   {
    "duration": 7,
    "start_time": "2022-09-23T09:04:40.435Z"
   },
   {
    "duration": 8,
    "start_time": "2022-09-23T09:04:53.174Z"
   },
   {
    "duration": 7,
    "start_time": "2022-09-23T09:04:58.760Z"
   },
   {
    "duration": 7,
    "start_time": "2022-09-23T09:05:04.787Z"
   },
   {
    "duration": 13,
    "start_time": "2022-09-23T09:05:25.132Z"
   },
   {
    "duration": 7,
    "start_time": "2022-09-23T09:06:08.940Z"
   },
   {
    "duration": 20,
    "start_time": "2022-09-23T09:06:53.310Z"
   },
   {
    "duration": 8,
    "start_time": "2022-09-23T09:07:03.149Z"
   },
   {
    "duration": 7,
    "start_time": "2022-09-23T09:07:22.789Z"
   },
   {
    "duration": 8,
    "start_time": "2022-09-23T09:07:49.186Z"
   },
   {
    "duration": 8,
    "start_time": "2022-09-23T09:07:54.357Z"
   },
   {
    "duration": 11,
    "start_time": "2022-09-23T09:09:28.563Z"
   },
   {
    "duration": 10,
    "start_time": "2022-09-23T09:09:39.059Z"
   },
   {
    "duration": 25,
    "start_time": "2022-09-23T09:09:48.252Z"
   },
   {
    "duration": 21,
    "start_time": "2022-09-23T09:10:40.764Z"
   },
   {
    "duration": 13,
    "start_time": "2022-09-23T09:10:43.792Z"
   },
   {
    "duration": 10,
    "start_time": "2022-09-23T09:10:43.975Z"
   },
   {
    "duration": 2,
    "start_time": "2022-09-23T09:10:44.888Z"
   },
   {
    "duration": 3,
    "start_time": "2022-09-23T09:10:45.177Z"
   },
   {
    "duration": 133,
    "start_time": "2022-09-23T09:10:45.515Z"
   },
   {
    "duration": 139,
    "start_time": "2022-09-23T09:10:45.666Z"
   },
   {
    "duration": 133,
    "start_time": "2022-09-23T09:10:45.830Z"
   },
   {
    "duration": 134,
    "start_time": "2022-09-23T09:10:46.134Z"
   },
   {
    "duration": 129,
    "start_time": "2022-09-23T09:10:46.915Z"
   },
   {
    "duration": 129,
    "start_time": "2022-09-23T09:10:47.263Z"
   },
   {
    "duration": 129,
    "start_time": "2022-09-23T09:10:47.831Z"
   },
   {
    "duration": 6,
    "start_time": "2022-09-23T09:10:48.120Z"
   },
   {
    "duration": 5,
    "start_time": "2022-09-23T09:10:48.360Z"
   },
   {
    "duration": 5,
    "start_time": "2022-09-23T09:10:48.836Z"
   },
   {
    "duration": 5,
    "start_time": "2022-09-23T09:10:49.112Z"
   },
   {
    "duration": 4,
    "start_time": "2022-09-23T09:10:49.911Z"
   },
   {
    "duration": 4,
    "start_time": "2022-09-23T09:10:50.496Z"
   },
   {
    "duration": 281,
    "start_time": "2022-09-23T09:10:50.703Z"
   },
   {
    "duration": 4,
    "start_time": "2022-09-23T09:10:50.986Z"
   },
   {
    "duration": 171,
    "start_time": "2022-09-23T09:10:51.628Z"
   },
   {
    "duration": 3,
    "start_time": "2022-09-23T09:10:53.209Z"
   },
   {
    "duration": 3,
    "start_time": "2022-09-23T09:10:53.671Z"
   },
   {
    "duration": 73,
    "start_time": "2022-09-23T09:10:53.847Z"
   },
   {
    "duration": 85,
    "start_time": "2022-09-23T09:10:54.030Z"
   },
   {
    "duration": 80,
    "start_time": "2022-09-23T09:10:54.335Z"
   },
   {
    "duration": 16,
    "start_time": "2022-09-23T09:10:55.049Z"
   },
   {
    "duration": 2,
    "start_time": "2022-09-23T09:10:55.235Z"
   },
   {
    "duration": 7,
    "start_time": "2022-09-23T09:10:55.415Z"
   },
   {
    "duration": 15,
    "start_time": "2022-09-23T09:10:55.791Z"
   },
   {
    "duration": 210,
    "start_time": "2022-09-23T09:10:55.999Z"
   },
   {
    "duration": 44,
    "start_time": "2022-09-23T09:10:56.375Z"
   },
   {
    "duration": 5,
    "start_time": "2022-09-23T09:10:56.568Z"
   },
   {
    "duration": 9,
    "start_time": "2022-09-23T09:10:56.759Z"
   },
   {
    "duration": 216,
    "start_time": "2022-09-23T09:10:56.979Z"
   },
   {
    "duration": 3,
    "start_time": "2022-09-23T09:10:57.935Z"
   },
   {
    "duration": 21,
    "start_time": "2022-09-23T09:10:58.655Z"
   },
   {
    "duration": 20,
    "start_time": "2022-09-23T09:11:26.288Z"
   },
   {
    "duration": 24,
    "start_time": "2022-09-23T09:12:02.141Z"
   },
   {
    "duration": 3,
    "start_time": "2022-09-23T09:12:25.833Z"
   },
   {
    "duration": 3,
    "start_time": "2022-09-23T09:12:27.157Z"
   },
   {
    "duration": 6,
    "start_time": "2022-09-23T09:12:28.018Z"
   },
   {
    "duration": 14,
    "start_time": "2022-09-23T09:12:29.305Z"
   },
   {
    "duration": 9,
    "start_time": "2022-09-23T09:13:04.449Z"
   },
   {
    "duration": 5,
    "start_time": "2022-09-23T09:13:11.581Z"
   },
   {
    "duration": 24,
    "start_time": "2022-09-23T09:13:15.405Z"
   },
   {
    "duration": 9,
    "start_time": "2022-09-23T09:13:20.749Z"
   },
   {
    "duration": 29,
    "start_time": "2022-09-23T09:14:14.150Z"
   },
   {
    "duration": 1084,
    "start_time": "2022-09-23T09:14:31.687Z"
   },
   {
    "duration": 1357,
    "start_time": "2022-09-23T09:14:53.314Z"
   },
   {
    "duration": 675,
    "start_time": "2022-09-23T09:14:54.673Z"
   },
   {
    "duration": 5,
    "start_time": "2022-09-23T09:14:55.350Z"
   },
   {
    "duration": 377,
    "start_time": "2022-09-23T09:14:55.358Z"
   },
   {
    "duration": 159,
    "start_time": "2022-09-23T09:14:55.737Z"
   },
   {
    "duration": 343,
    "start_time": "2022-09-23T09:14:55.898Z"
   },
   {
    "duration": 5,
    "start_time": "2022-09-23T09:14:56.243Z"
   },
   {
    "duration": 19,
    "start_time": "2022-09-23T09:14:56.249Z"
   },
   {
    "duration": 4,
    "start_time": "2022-09-23T09:14:56.269Z"
   },
   {
    "duration": 16,
    "start_time": "2022-09-23T09:14:56.275Z"
   },
   {
    "duration": 12,
    "start_time": "2022-09-23T09:14:56.292Z"
   },
   {
    "duration": 22,
    "start_time": "2022-09-23T09:14:56.306Z"
   },
   {
    "duration": 19,
    "start_time": "2022-09-23T09:14:56.330Z"
   },
   {
    "duration": 13,
    "start_time": "2022-09-23T09:14:56.350Z"
   },
   {
    "duration": 11,
    "start_time": "2022-09-23T09:14:56.365Z"
   },
   {
    "duration": 9,
    "start_time": "2022-09-23T09:14:56.377Z"
   },
   {
    "duration": 11,
    "start_time": "2022-09-23T09:14:56.388Z"
   },
   {
    "duration": 159,
    "start_time": "2022-09-23T09:14:56.400Z"
   },
   {
    "duration": 134,
    "start_time": "2022-09-23T09:14:56.561Z"
   },
   {
    "duration": 207,
    "start_time": "2022-09-23T09:14:56.696Z"
   },
   {
    "duration": 144,
    "start_time": "2022-09-23T09:14:56.904Z"
   },
   {
    "duration": 145,
    "start_time": "2022-09-23T09:14:57.050Z"
   },
   {
    "duration": 147,
    "start_time": "2022-09-23T09:14:57.197Z"
   },
   {
    "duration": 149,
    "start_time": "2022-09-23T09:14:57.345Z"
   },
   {
    "duration": 6,
    "start_time": "2022-09-23T09:14:57.495Z"
   },
   {
    "duration": 20,
    "start_time": "2022-09-23T09:14:57.502Z"
   },
   {
    "duration": 6,
    "start_time": "2022-09-23T09:14:57.523Z"
   },
   {
    "duration": 23,
    "start_time": "2022-09-23T09:14:57.532Z"
   },
   {
    "duration": 5,
    "start_time": "2022-09-23T09:14:57.556Z"
   },
   {
    "duration": 11,
    "start_time": "2022-09-23T09:14:57.562Z"
   },
   {
    "duration": 214,
    "start_time": "2022-09-23T09:14:57.574Z"
   },
   {
    "duration": 5,
    "start_time": "2022-09-23T09:14:57.790Z"
   },
   {
    "duration": 191,
    "start_time": "2022-09-23T09:14:57.796Z"
   },
   {
    "duration": 3,
    "start_time": "2022-09-23T09:14:57.989Z"
   },
   {
    "duration": 11,
    "start_time": "2022-09-23T09:14:57.993Z"
   },
   {
    "duration": 85,
    "start_time": "2022-09-23T09:14:58.005Z"
   },
   {
    "duration": 93,
    "start_time": "2022-09-23T09:14:58.092Z"
   },
   {
    "duration": 87,
    "start_time": "2022-09-23T09:14:58.187Z"
   },
   {
    "duration": 16,
    "start_time": "2022-09-23T09:14:58.276Z"
   },
   {
    "duration": 4,
    "start_time": "2022-09-23T09:14:58.293Z"
   },
   {
    "duration": 24,
    "start_time": "2022-09-23T09:14:58.298Z"
   },
   {
    "duration": 15,
    "start_time": "2022-09-23T09:14:58.323Z"
   },
   {
    "duration": 318,
    "start_time": "2022-09-23T09:14:58.339Z"
   },
   {
    "duration": 49,
    "start_time": "2022-09-23T09:14:58.658Z"
   },
   {
    "duration": 15,
    "start_time": "2022-09-23T09:14:58.709Z"
   },
   {
    "duration": 9,
    "start_time": "2022-09-23T09:14:58.725Z"
   },
   {
    "duration": 241,
    "start_time": "2022-09-23T09:14:58.735Z"
   },
   {
    "duration": 3,
    "start_time": "2022-09-23T09:14:58.978Z"
   },
   {
    "duration": 13,
    "start_time": "2022-09-23T09:14:58.982Z"
   },
   {
    "duration": 26,
    "start_time": "2022-09-23T09:14:58.996Z"
   },
   {
    "duration": 11,
    "start_time": "2022-09-23T09:14:59.024Z"
   },
   {
    "duration": 46,
    "start_time": "2022-09-23T09:16:26.992Z"
   },
   {
    "duration": 41,
    "start_time": "2022-09-23T09:16:32.020Z"
   },
   {
    "duration": 105,
    "start_time": "2022-09-23T09:18:54.507Z"
   },
   {
    "duration": 13,
    "start_time": "2022-09-23T09:19:12.826Z"
   },
   {
    "duration": 5,
    "start_time": "2022-09-23T09:19:19.634Z"
   },
   {
    "duration": 21,
    "start_time": "2022-09-23T09:25:00.585Z"
   },
   {
    "duration": 10,
    "start_time": "2022-09-23T09:25:21.540Z"
   },
   {
    "duration": 9,
    "start_time": "2022-09-23T09:25:46.715Z"
   },
   {
    "duration": 11,
    "start_time": "2022-09-23T09:26:13.785Z"
   },
   {
    "duration": 10,
    "start_time": "2022-09-23T09:26:14.155Z"
   },
   {
    "duration": 20,
    "start_time": "2022-09-23T09:26:14.611Z"
   },
   {
    "duration": 40,
    "start_time": "2022-09-23T09:26:20.122Z"
   },
   {
    "duration": 6,
    "start_time": "2022-09-23T09:26:23.035Z"
   },
   {
    "duration": 5,
    "start_time": "2022-09-23T09:26:23.423Z"
   },
   {
    "duration": 40,
    "start_time": "2022-09-23T09:26:25.284Z"
   },
   {
    "duration": 3,
    "start_time": "2022-09-23T09:26:28.267Z"
   },
   {
    "duration": 6,
    "start_time": "2022-09-23T09:26:28.979Z"
   },
   {
    "duration": 5,
    "start_time": "2022-09-23T09:26:29.394Z"
   },
   {
    "duration": 1780,
    "start_time": "2022-09-23T09:27:58.154Z"
   },
   {
    "duration": 4,
    "start_time": "2022-09-23T09:28:12.930Z"
   },
   {
    "duration": 3,
    "start_time": "2022-09-23T09:28:30.846Z"
   },
   {
    "duration": 3,
    "start_time": "2022-09-23T09:28:32.665Z"
   },
   {
    "duration": 6,
    "start_time": "2022-09-23T09:28:34.689Z"
   },
   {
    "duration": 9,
    "start_time": "2022-09-23T09:30:17.082Z"
   },
   {
    "duration": 7,
    "start_time": "2022-09-23T09:30:26.803Z"
   },
   {
    "duration": 9,
    "start_time": "2022-09-23T09:30:35.938Z"
   },
   {
    "duration": 6,
    "start_time": "2022-09-23T09:33:47.537Z"
   },
   {
    "duration": 25,
    "start_time": "2022-09-23T09:33:52.671Z"
   },
   {
    "duration": 41,
    "start_time": "2022-09-23T10:04:00.779Z"
   },
   {
    "duration": 40,
    "start_time": "2022-09-23T10:04:20.009Z"
   },
   {
    "duration": 28,
    "start_time": "2022-09-23T10:04:32.786Z"
   },
   {
    "duration": 29,
    "start_time": "2022-09-23T10:04:56.032Z"
   },
   {
    "duration": 27,
    "start_time": "2022-09-23T10:05:03.444Z"
   },
   {
    "duration": 439,
    "start_time": "2022-09-23T10:07:44.783Z"
   },
   {
    "duration": 263,
    "start_time": "2022-09-23T10:08:32.667Z"
   },
   {
    "duration": 164,
    "start_time": "2022-09-23T10:17:18.763Z"
   },
   {
    "duration": 21,
    "start_time": "2022-09-23T10:23:57.924Z"
   },
   {
    "duration": 17,
    "start_time": "2022-09-23T10:24:02.575Z"
   },
   {
    "duration": 1335,
    "start_time": "2022-09-23T14:13:41.698Z"
   },
   {
    "duration": 651,
    "start_time": "2022-09-23T14:13:43.035Z"
   },
   {
    "duration": 5,
    "start_time": "2022-09-23T14:13:43.688Z"
   },
   {
    "duration": 355,
    "start_time": "2022-09-23T14:13:43.694Z"
   },
   {
    "duration": 161,
    "start_time": "2022-09-23T14:13:44.051Z"
   },
   {
    "duration": 336,
    "start_time": "2022-09-23T14:13:44.222Z"
   },
   {
    "duration": 6,
    "start_time": "2022-09-23T14:13:44.560Z"
   },
   {
    "duration": 13,
    "start_time": "2022-09-23T14:13:44.567Z"
   },
   {
    "duration": 5,
    "start_time": "2022-09-23T14:13:44.581Z"
   },
   {
    "duration": 9,
    "start_time": "2022-09-23T14:13:44.587Z"
   },
   {
    "duration": 12,
    "start_time": "2022-09-23T14:13:44.621Z"
   },
   {
    "duration": 11,
    "start_time": "2022-09-23T14:13:44.635Z"
   },
   {
    "duration": 10,
    "start_time": "2022-09-23T14:13:44.647Z"
   },
   {
    "duration": 8,
    "start_time": "2022-09-23T14:13:44.659Z"
   },
   {
    "duration": 20,
    "start_time": "2022-09-23T14:13:44.669Z"
   },
   {
    "duration": 33,
    "start_time": "2022-09-23T14:13:44.690Z"
   },
   {
    "duration": 3,
    "start_time": "2022-09-23T14:13:44.724Z"
   },
   {
    "duration": 11,
    "start_time": "2022-09-23T14:13:44.729Z"
   },
   {
    "duration": 147,
    "start_time": "2022-09-23T14:13:44.742Z"
   },
   {
    "duration": 144,
    "start_time": "2022-09-23T14:13:44.891Z"
   },
   {
    "duration": 205,
    "start_time": "2022-09-23T14:13:45.037Z"
   },
   {
    "duration": 157,
    "start_time": "2022-09-23T14:13:45.244Z"
   },
   {
    "duration": 147,
    "start_time": "2022-09-23T14:13:45.402Z"
   },
   {
    "duration": 148,
    "start_time": "2022-09-23T14:13:45.551Z"
   },
   {
    "duration": 158,
    "start_time": "2022-09-23T14:13:45.701Z"
   },
   {
    "duration": 6,
    "start_time": "2022-09-23T14:13:45.860Z"
   },
   {
    "duration": 46,
    "start_time": "2022-09-23T14:13:45.867Z"
   },
   {
    "duration": 20,
    "start_time": "2022-09-23T14:13:45.914Z"
   },
   {
    "duration": 22,
    "start_time": "2022-09-23T14:13:45.935Z"
   },
   {
    "duration": 27,
    "start_time": "2022-09-23T14:13:45.959Z"
   },
   {
    "duration": 19,
    "start_time": "2022-09-23T14:13:45.987Z"
   },
   {
    "duration": 231,
    "start_time": "2022-09-23T14:13:46.008Z"
   },
   {
    "duration": 4,
    "start_time": "2022-09-23T14:13:46.240Z"
   },
   {
    "duration": 194,
    "start_time": "2022-09-23T14:13:46.246Z"
   },
   {
    "duration": 3,
    "start_time": "2022-09-23T14:13:46.442Z"
   },
   {
    "duration": 14,
    "start_time": "2022-09-23T14:13:46.446Z"
   },
   {
    "duration": 79,
    "start_time": "2022-09-23T14:13:46.461Z"
   },
   {
    "duration": 89,
    "start_time": "2022-09-23T14:13:46.542Z"
   },
   {
    "duration": 95,
    "start_time": "2022-09-23T14:13:46.633Z"
   },
   {
    "duration": 17,
    "start_time": "2022-09-23T14:13:46.729Z"
   },
   {
    "duration": 3,
    "start_time": "2022-09-23T14:13:46.750Z"
   },
   {
    "duration": 8,
    "start_time": "2022-09-23T14:13:46.754Z"
   },
   {
    "duration": 14,
    "start_time": "2022-09-23T14:13:46.764Z"
   },
   {
    "duration": 333,
    "start_time": "2022-09-23T14:13:46.779Z"
   },
   {
    "duration": 49,
    "start_time": "2022-09-23T14:13:47.114Z"
   },
   {
    "duration": 4,
    "start_time": "2022-09-23T14:13:47.165Z"
   },
   {
    "duration": 11,
    "start_time": "2022-09-23T14:13:47.170Z"
   },
   {
    "duration": 229,
    "start_time": "2022-09-23T14:13:47.183Z"
   },
   {
    "duration": 8,
    "start_time": "2022-09-23T14:13:47.414Z"
   },
   {
    "duration": 5,
    "start_time": "2022-09-23T14:13:47.424Z"
   },
   {
    "duration": 15,
    "start_time": "2022-09-23T14:13:47.430Z"
   },
   {
    "duration": 8,
    "start_time": "2022-09-23T14:13:47.446Z"
   },
   {
    "duration": 31,
    "start_time": "2022-09-23T14:13:47.456Z"
   },
   {
    "duration": 416,
    "start_time": "2022-09-23T14:13:47.488Z"
   },
   {
    "duration": 0,
    "start_time": "2022-09-23T14:13:47.906Z"
   },
   {
    "duration": 0,
    "start_time": "2022-09-23T14:13:47.907Z"
   },
   {
    "duration": 0,
    "start_time": "2022-09-23T14:13:47.909Z"
   },
   {
    "duration": 56,
    "start_time": "2022-09-23T14:30:09.167Z"
   },
   {
    "duration": 47,
    "start_time": "2022-09-23T14:31:49.743Z"
   },
   {
    "duration": 46,
    "start_time": "2022-09-23T14:34:43.826Z"
   },
   {
    "duration": 2,
    "start_time": "2022-09-23T14:35:03.706Z"
   },
   {
    "duration": 8,
    "start_time": "2022-09-23T14:35:21.946Z"
   },
   {
    "duration": 3,
    "start_time": "2022-09-23T14:35:28.420Z"
   },
   {
    "duration": 4,
    "start_time": "2022-09-23T14:35:29.002Z"
   },
   {
    "duration": 6,
    "start_time": "2022-09-23T14:35:29.494Z"
   },
   {
    "duration": 5,
    "start_time": "2022-09-23T14:35:30.482Z"
   },
   {
    "duration": 20,
    "start_time": "2022-09-23T14:35:31.543Z"
   },
   {
    "duration": 2,
    "start_time": "2022-09-23T14:35:32.386Z"
   },
   {
    "duration": 51,
    "start_time": "2022-09-23T14:36:16.517Z"
   },
   {
    "duration": 48,
    "start_time": "2022-09-23T14:36:25.664Z"
   },
   {
    "duration": 15,
    "start_time": "2022-09-23T14:36:45.672Z"
   },
   {
    "duration": 6,
    "start_time": "2022-09-23T14:37:05.994Z"
   },
   {
    "duration": 4,
    "start_time": "2022-09-23T14:37:06.440Z"
   },
   {
    "duration": 20,
    "start_time": "2022-09-23T14:37:06.916Z"
   },
   {
    "duration": 3,
    "start_time": "2022-09-23T14:37:07.488Z"
   },
   {
    "duration": 7,
    "start_time": "2022-09-23T14:37:08.237Z"
   },
   {
    "duration": 1350,
    "start_time": "2022-09-23T14:37:20.392Z"
   },
   {
    "duration": 656,
    "start_time": "2022-09-23T14:37:21.743Z"
   },
   {
    "duration": 5,
    "start_time": "2022-09-23T14:37:22.401Z"
   },
   {
    "duration": 366,
    "start_time": "2022-09-23T14:37:22.407Z"
   },
   {
    "duration": 166,
    "start_time": "2022-09-23T14:37:22.775Z"
   },
   {
    "duration": 346,
    "start_time": "2022-09-23T14:37:22.942Z"
   },
   {
    "duration": 5,
    "start_time": "2022-09-23T14:37:23.290Z"
   },
   {
    "duration": 26,
    "start_time": "2022-09-23T14:37:23.297Z"
   },
   {
    "duration": 10,
    "start_time": "2022-09-23T14:37:23.325Z"
   },
   {
    "duration": 24,
    "start_time": "2022-09-23T14:37:23.338Z"
   },
   {
    "duration": 34,
    "start_time": "2022-09-23T14:37:23.364Z"
   },
   {
    "duration": 42,
    "start_time": "2022-09-23T14:37:23.399Z"
   },
   {
    "duration": 25,
    "start_time": "2022-09-23T14:37:23.443Z"
   },
   {
    "duration": 35,
    "start_time": "2022-09-23T14:37:23.470Z"
   },
   {
    "duration": 33,
    "start_time": "2022-09-23T14:37:23.506Z"
   },
   {
    "duration": 20,
    "start_time": "2022-09-23T14:37:23.541Z"
   },
   {
    "duration": 12,
    "start_time": "2022-09-23T14:37:23.562Z"
   },
   {
    "duration": 6,
    "start_time": "2022-09-23T14:37:23.576Z"
   },
   {
    "duration": 138,
    "start_time": "2022-09-23T14:37:23.583Z"
   },
   {
    "duration": 134,
    "start_time": "2022-09-23T14:37:23.722Z"
   },
   {
    "duration": 210,
    "start_time": "2022-09-23T14:37:23.858Z"
   },
   {
    "duration": 157,
    "start_time": "2022-09-23T14:37:24.070Z"
   },
   {
    "duration": 149,
    "start_time": "2022-09-23T14:37:24.228Z"
   },
   {
    "duration": 146,
    "start_time": "2022-09-23T14:37:24.378Z"
   },
   {
    "duration": 142,
    "start_time": "2022-09-23T14:37:24.525Z"
   },
   {
    "duration": 6,
    "start_time": "2022-09-23T14:37:24.668Z"
   },
   {
    "duration": 6,
    "start_time": "2022-09-23T14:37:24.675Z"
   },
   {
    "duration": 5,
    "start_time": "2022-09-23T14:37:24.684Z"
   },
   {
    "duration": 6,
    "start_time": "2022-09-23T14:37:24.690Z"
   },
   {
    "duration": 26,
    "start_time": "2022-09-23T14:37:24.697Z"
   },
   {
    "duration": 5,
    "start_time": "2022-09-23T14:37:24.724Z"
   },
   {
    "duration": 207,
    "start_time": "2022-09-23T14:37:24.730Z"
   },
   {
    "duration": 4,
    "start_time": "2022-09-23T14:37:24.939Z"
   },
   {
    "duration": 192,
    "start_time": "2022-09-23T14:37:24.944Z"
   },
   {
    "duration": 3,
    "start_time": "2022-09-23T14:37:25.138Z"
   },
   {
    "duration": 10,
    "start_time": "2022-09-23T14:37:25.142Z"
   },
   {
    "duration": 81,
    "start_time": "2022-09-23T14:37:25.153Z"
   },
   {
    "duration": 96,
    "start_time": "2022-09-23T14:37:25.236Z"
   },
   {
    "duration": 75,
    "start_time": "2022-09-23T14:37:25.333Z"
   },
   {
    "duration": 16,
    "start_time": "2022-09-23T14:37:25.422Z"
   },
   {
    "duration": 6,
    "start_time": "2022-09-23T14:37:25.440Z"
   },
   {
    "duration": 9,
    "start_time": "2022-09-23T14:37:25.447Z"
   },
   {
    "duration": 14,
    "start_time": "2022-09-23T14:37:25.457Z"
   },
   {
    "duration": 352,
    "start_time": "2022-09-23T14:37:25.472Z"
   },
   {
    "duration": 46,
    "start_time": "2022-09-23T14:37:25.825Z"
   },
   {
    "duration": 5,
    "start_time": "2022-09-23T14:37:25.872Z"
   },
   {
    "duration": 14,
    "start_time": "2022-09-23T14:37:25.878Z"
   },
   {
    "duration": 227,
    "start_time": "2022-09-23T14:37:25.893Z"
   },
   {
    "duration": 3,
    "start_time": "2022-09-23T14:37:26.122Z"
   },
   {
    "duration": 22,
    "start_time": "2022-09-23T14:37:26.126Z"
   },
   {
    "duration": 11,
    "start_time": "2022-09-23T14:37:26.150Z"
   },
   {
    "duration": 8,
    "start_time": "2022-09-23T14:37:26.163Z"
   },
   {
    "duration": 5,
    "start_time": "2022-09-23T14:37:26.172Z"
   },
   {
    "duration": 11,
    "start_time": "2022-09-23T14:37:26.178Z"
   },
   {
    "duration": 10,
    "start_time": "2022-09-23T14:37:26.190Z"
   },
   {
    "duration": 100,
    "start_time": "2022-09-23T14:37:26.202Z"
   },
   {
    "duration": 0,
    "start_time": "2022-09-23T14:37:26.303Z"
   },
   {
    "duration": 0,
    "start_time": "2022-09-23T14:37:26.304Z"
   },
   {
    "duration": 0,
    "start_time": "2022-09-23T14:37:26.305Z"
   },
   {
    "duration": 0,
    "start_time": "2022-09-23T14:37:26.307Z"
   },
   {
    "duration": 14,
    "start_time": "2022-09-23T14:38:06.742Z"
   },
   {
    "duration": 10,
    "start_time": "2022-09-23T14:46:03.826Z"
   },
   {
    "duration": 4,
    "start_time": "2022-09-23T14:47:11.632Z"
   },
   {
    "duration": 8,
    "start_time": "2022-09-23T14:47:24.083Z"
   },
   {
    "duration": 4,
    "start_time": "2022-09-23T14:47:24.561Z"
   },
   {
    "duration": 4,
    "start_time": "2022-09-23T14:48:20.312Z"
   },
   {
    "duration": 5,
    "start_time": "2022-09-23T14:48:44.202Z"
   },
   {
    "duration": 3,
    "start_time": "2022-09-23T14:48:47.328Z"
   },
   {
    "duration": 5,
    "start_time": "2022-09-23T14:48:47.852Z"
   },
   {
    "duration": 3,
    "start_time": "2022-09-23T14:48:53.735Z"
   },
   {
    "duration": 13,
    "start_time": "2022-09-23T14:48:54.849Z"
   },
   {
    "duration": 1348,
    "start_time": "2022-09-23T15:17:29.021Z"
   },
   {
    "duration": 657,
    "start_time": "2022-09-23T15:17:30.370Z"
   },
   {
    "duration": 5,
    "start_time": "2022-09-23T15:17:31.028Z"
   },
   {
    "duration": 387,
    "start_time": "2022-09-23T15:17:31.035Z"
   },
   {
    "duration": 159,
    "start_time": "2022-09-23T15:17:31.423Z"
   },
   {
    "duration": 339,
    "start_time": "2022-09-23T15:17:31.584Z"
   },
   {
    "duration": 5,
    "start_time": "2022-09-23T15:17:31.925Z"
   },
   {
    "duration": 20,
    "start_time": "2022-09-23T15:17:31.932Z"
   },
   {
    "duration": 4,
    "start_time": "2022-09-23T15:17:31.954Z"
   },
   {
    "duration": 14,
    "start_time": "2022-09-23T15:17:31.960Z"
   },
   {
    "duration": 23,
    "start_time": "2022-09-23T15:17:31.975Z"
   },
   {
    "duration": 22,
    "start_time": "2022-09-23T15:17:32.000Z"
   },
   {
    "duration": 16,
    "start_time": "2022-09-23T15:17:32.023Z"
   },
   {
    "duration": 7,
    "start_time": "2022-09-23T15:17:32.041Z"
   },
   {
    "duration": 21,
    "start_time": "2022-09-23T15:17:32.050Z"
   },
   {
    "duration": 9,
    "start_time": "2022-09-23T15:17:32.073Z"
   },
   {
    "duration": 18,
    "start_time": "2022-09-23T15:17:32.083Z"
   },
   {
    "duration": 21,
    "start_time": "2022-09-23T15:17:32.102Z"
   },
   {
    "duration": 144,
    "start_time": "2022-09-23T15:17:32.124Z"
   },
   {
    "duration": 137,
    "start_time": "2022-09-23T15:17:32.270Z"
   },
   {
    "duration": 213,
    "start_time": "2022-09-23T15:17:32.409Z"
   },
   {
    "duration": 142,
    "start_time": "2022-09-23T15:17:32.624Z"
   },
   {
    "duration": 157,
    "start_time": "2022-09-23T15:17:32.768Z"
   },
   {
    "duration": 146,
    "start_time": "2022-09-23T15:17:32.927Z"
   },
   {
    "duration": 142,
    "start_time": "2022-09-23T15:17:33.075Z"
   },
   {
    "duration": 6,
    "start_time": "2022-09-23T15:17:33.222Z"
   },
   {
    "duration": 16,
    "start_time": "2022-09-23T15:17:33.230Z"
   },
   {
    "duration": 5,
    "start_time": "2022-09-23T15:17:33.250Z"
   },
   {
    "duration": 10,
    "start_time": "2022-09-23T15:17:33.256Z"
   },
   {
    "duration": 4,
    "start_time": "2022-09-23T15:17:33.267Z"
   },
   {
    "duration": 5,
    "start_time": "2022-09-23T15:17:33.272Z"
   },
   {
    "duration": 218,
    "start_time": "2022-09-23T15:17:33.279Z"
   },
   {
    "duration": 4,
    "start_time": "2022-09-23T15:17:33.498Z"
   },
   {
    "duration": 184,
    "start_time": "2022-09-23T15:17:33.503Z"
   },
   {
    "duration": 3,
    "start_time": "2022-09-23T15:17:33.688Z"
   },
   {
    "duration": 7,
    "start_time": "2022-09-23T15:17:33.692Z"
   },
   {
    "duration": 79,
    "start_time": "2022-09-23T15:17:33.701Z"
   },
   {
    "duration": 98,
    "start_time": "2022-09-23T15:17:33.782Z"
   },
   {
    "duration": 90,
    "start_time": "2022-09-23T15:17:33.881Z"
   },
   {
    "duration": 16,
    "start_time": "2022-09-23T15:17:33.972Z"
   },
   {
    "duration": 9,
    "start_time": "2022-09-23T15:17:33.990Z"
   },
   {
    "duration": 9,
    "start_time": "2022-09-23T15:17:34.000Z"
   },
   {
    "duration": 23,
    "start_time": "2022-09-23T15:17:34.011Z"
   },
   {
    "duration": 321,
    "start_time": "2022-09-23T15:17:34.035Z"
   },
   {
    "duration": 49,
    "start_time": "2022-09-23T15:17:34.357Z"
   },
   {
    "duration": 14,
    "start_time": "2022-09-23T15:17:34.408Z"
   },
   {
    "duration": 9,
    "start_time": "2022-09-23T15:17:34.424Z"
   },
   {
    "duration": 229,
    "start_time": "2022-09-23T15:17:34.434Z"
   },
   {
    "duration": 3,
    "start_time": "2022-09-23T15:17:34.665Z"
   },
   {
    "duration": 7,
    "start_time": "2022-09-23T15:17:34.669Z"
   },
   {
    "duration": 8,
    "start_time": "2022-09-23T15:17:34.677Z"
   },
   {
    "duration": 7,
    "start_time": "2022-09-23T15:17:34.686Z"
   },
   {
    "duration": 10,
    "start_time": "2022-09-23T15:17:34.694Z"
   },
   {
    "duration": 11,
    "start_time": "2022-09-23T15:17:34.705Z"
   },
   {
    "duration": 10,
    "start_time": "2022-09-23T15:17:34.717Z"
   },
   {
    "duration": 4,
    "start_time": "2022-09-23T15:17:34.728Z"
   },
   {
    "duration": 5,
    "start_time": "2022-09-23T15:17:34.733Z"
   },
   {
    "duration": 6,
    "start_time": "2022-09-23T15:17:34.739Z"
   },
   {
    "duration": 6,
    "start_time": "2022-09-23T15:17:34.747Z"
   },
   {
    "duration": 107,
    "start_time": "2022-09-23T15:17:34.755Z"
   },
   {
    "duration": 0,
    "start_time": "2022-09-23T15:17:34.864Z"
   },
   {
    "duration": 0,
    "start_time": "2022-09-23T15:17:34.865Z"
   },
   {
    "duration": 0,
    "start_time": "2022-09-23T15:17:34.866Z"
   },
   {
    "duration": 0,
    "start_time": "2022-09-23T15:17:34.867Z"
   },
   {
    "duration": 9,
    "start_time": "2022-09-23T15:18:16.300Z"
   },
   {
    "duration": 4,
    "start_time": "2022-09-23T15:18:16.787Z"
   },
   {
    "duration": 2,
    "start_time": "2022-09-23T15:18:17.358Z"
   },
   {
    "duration": 2,
    "start_time": "2022-09-23T15:18:17.538Z"
   },
   {
    "duration": 2,
    "start_time": "2022-09-23T15:18:17.907Z"
   },
   {
    "duration": 3,
    "start_time": "2022-09-23T15:18:18.463Z"
   },
   {
    "duration": 3,
    "start_time": "2022-09-23T15:18:18.950Z"
   },
   {
    "duration": 13,
    "start_time": "2022-09-23T15:18:20.197Z"
   },
   {
    "duration": 49,
    "start_time": "2022-09-24T13:05:26.559Z"
   },
   {
    "duration": 1534,
    "start_time": "2022-09-24T13:05:36.281Z"
   },
   {
    "duration": 3078,
    "start_time": "2022-09-24T13:05:37.818Z"
   },
   {
    "duration": 4,
    "start_time": "2022-09-24T13:05:40.898Z"
   },
   {
    "duration": 333,
    "start_time": "2022-09-24T13:05:40.904Z"
   },
   {
    "duration": 149,
    "start_time": "2022-09-24T13:05:41.239Z"
   },
   {
    "duration": 369,
    "start_time": "2022-09-24T13:05:41.389Z"
   },
   {
    "duration": 6,
    "start_time": "2022-09-24T13:05:41.759Z"
   },
   {
    "duration": 12,
    "start_time": "2022-09-24T13:05:41.766Z"
   },
   {
    "duration": 4,
    "start_time": "2022-09-24T13:05:41.780Z"
   },
   {
    "duration": 29,
    "start_time": "2022-09-24T13:05:41.786Z"
   },
   {
    "duration": 21,
    "start_time": "2022-09-24T13:05:41.817Z"
   },
   {
    "duration": 11,
    "start_time": "2022-09-24T13:05:41.840Z"
   },
   {
    "duration": 10,
    "start_time": "2022-09-24T13:05:41.852Z"
   },
   {
    "duration": 8,
    "start_time": "2022-09-24T13:05:41.865Z"
   },
   {
    "duration": 38,
    "start_time": "2022-09-24T13:05:41.874Z"
   },
   {
    "duration": 9,
    "start_time": "2022-09-24T13:05:41.913Z"
   },
   {
    "duration": 3,
    "start_time": "2022-09-24T13:05:41.923Z"
   },
   {
    "duration": 5,
    "start_time": "2022-09-24T13:05:41.927Z"
   },
   {
    "duration": 159,
    "start_time": "2022-09-24T13:05:41.934Z"
   },
   {
    "duration": 136,
    "start_time": "2022-09-24T13:05:42.095Z"
   },
   {
    "duration": 195,
    "start_time": "2022-09-24T13:05:42.233Z"
   },
   {
    "duration": 148,
    "start_time": "2022-09-24T13:05:42.429Z"
   },
   {
    "duration": 142,
    "start_time": "2022-09-24T13:05:42.579Z"
   },
   {
    "duration": 144,
    "start_time": "2022-09-24T13:05:42.723Z"
   },
   {
    "duration": 150,
    "start_time": "2022-09-24T13:05:42.869Z"
   },
   {
    "duration": 5,
    "start_time": "2022-09-24T13:05:43.020Z"
   },
   {
    "duration": 7,
    "start_time": "2022-09-24T13:05:43.027Z"
   },
   {
    "duration": 5,
    "start_time": "2022-09-24T13:05:43.035Z"
   },
   {
    "duration": 9,
    "start_time": "2022-09-24T13:05:43.041Z"
   },
   {
    "duration": 3,
    "start_time": "2022-09-24T13:05:43.051Z"
   },
   {
    "duration": 7,
    "start_time": "2022-09-24T13:05:43.056Z"
   },
   {
    "duration": 233,
    "start_time": "2022-09-24T13:05:43.064Z"
   },
   {
    "duration": 4,
    "start_time": "2022-09-24T13:05:43.298Z"
   },
   {
    "duration": 174,
    "start_time": "2022-09-24T13:05:43.308Z"
   },
   {
    "duration": 3,
    "start_time": "2022-09-24T13:05:43.483Z"
   },
   {
    "duration": 10,
    "start_time": "2022-09-24T13:05:43.488Z"
   },
   {
    "duration": 74,
    "start_time": "2022-09-24T13:05:43.508Z"
   },
   {
    "duration": 96,
    "start_time": "2022-09-24T13:05:43.584Z"
   },
   {
    "duration": 88,
    "start_time": "2022-09-24T13:05:43.681Z"
   },
   {
    "duration": 14,
    "start_time": "2022-09-24T13:05:43.771Z"
   },
   {
    "duration": 3,
    "start_time": "2022-09-24T13:05:43.789Z"
   },
   {
    "duration": 6,
    "start_time": "2022-09-24T13:05:43.808Z"
   },
   {
    "duration": 13,
    "start_time": "2022-09-24T13:05:43.816Z"
   },
   {
    "duration": 295,
    "start_time": "2022-09-24T13:05:43.830Z"
   },
   {
    "duration": 43,
    "start_time": "2022-09-24T13:05:44.126Z"
   },
   {
    "duration": 4,
    "start_time": "2022-09-24T13:05:44.170Z"
   },
   {
    "duration": 8,
    "start_time": "2022-09-24T13:05:44.176Z"
   },
   {
    "duration": 233,
    "start_time": "2022-09-24T13:05:44.185Z"
   },
   {
    "duration": 4,
    "start_time": "2022-09-24T13:05:44.420Z"
   },
   {
    "duration": 12,
    "start_time": "2022-09-24T13:05:44.425Z"
   },
   {
    "duration": 8,
    "start_time": "2022-09-24T13:05:44.439Z"
   },
   {
    "duration": 9,
    "start_time": "2022-09-24T13:05:44.449Z"
   },
   {
    "duration": 24,
    "start_time": "2022-09-24T13:05:44.460Z"
   },
   {
    "duration": 9,
    "start_time": "2022-09-24T13:05:44.485Z"
   },
   {
    "duration": 11,
    "start_time": "2022-09-24T13:05:44.496Z"
   },
   {
    "duration": 6,
    "start_time": "2022-09-24T13:05:44.509Z"
   },
   {
    "duration": 6,
    "start_time": "2022-09-24T13:05:44.517Z"
   },
   {
    "duration": 6,
    "start_time": "2022-09-24T13:05:44.524Z"
   },
   {
    "duration": 18,
    "start_time": "2022-09-24T13:05:44.532Z"
   },
   {
    "duration": 1353,
    "start_time": "2022-09-24T13:11:39.253Z"
   },
   {
    "duration": 679,
    "start_time": "2022-09-24T13:11:40.609Z"
   },
   {
    "duration": 5,
    "start_time": "2022-09-24T13:11:41.290Z"
   },
   {
    "duration": 366,
    "start_time": "2022-09-24T13:11:41.297Z"
   },
   {
    "duration": 163,
    "start_time": "2022-09-24T13:11:41.665Z"
   },
   {
    "duration": 358,
    "start_time": "2022-09-24T13:11:41.830Z"
   },
   {
    "duration": 6,
    "start_time": "2022-09-24T13:11:42.190Z"
   },
   {
    "duration": 28,
    "start_time": "2022-09-24T13:11:42.197Z"
   },
   {
    "duration": 5,
    "start_time": "2022-09-24T13:11:42.227Z"
   },
   {
    "duration": 7,
    "start_time": "2022-09-24T13:11:42.235Z"
   },
   {
    "duration": 13,
    "start_time": "2022-09-24T13:11:42.243Z"
   },
   {
    "duration": 10,
    "start_time": "2022-09-24T13:11:42.258Z"
   },
   {
    "duration": 40,
    "start_time": "2022-09-24T13:11:42.270Z"
   },
   {
    "duration": 12,
    "start_time": "2022-09-24T13:11:42.312Z"
   },
   {
    "duration": 20,
    "start_time": "2022-09-24T13:11:42.326Z"
   },
   {
    "duration": 12,
    "start_time": "2022-09-24T13:11:42.348Z"
   },
   {
    "duration": 2,
    "start_time": "2022-09-24T13:11:42.361Z"
   },
   {
    "duration": 6,
    "start_time": "2022-09-24T13:11:42.365Z"
   },
   {
    "duration": 175,
    "start_time": "2022-09-24T13:11:42.372Z"
   },
   {
    "duration": 138,
    "start_time": "2022-09-24T13:11:42.548Z"
   },
   {
    "duration": 203,
    "start_time": "2022-09-24T13:11:42.687Z"
   },
   {
    "duration": 152,
    "start_time": "2022-09-24T13:11:42.892Z"
   },
   {
    "duration": 152,
    "start_time": "2022-09-24T13:11:43.046Z"
   },
   {
    "duration": 145,
    "start_time": "2022-09-24T13:11:43.208Z"
   },
   {
    "duration": 144,
    "start_time": "2022-09-24T13:11:43.354Z"
   },
   {
    "duration": 5,
    "start_time": "2022-09-24T13:11:43.509Z"
   },
   {
    "duration": 8,
    "start_time": "2022-09-24T13:11:43.515Z"
   },
   {
    "duration": 5,
    "start_time": "2022-09-24T13:11:43.527Z"
   },
   {
    "duration": 5,
    "start_time": "2022-09-24T13:11:43.533Z"
   },
   {
    "duration": 4,
    "start_time": "2022-09-24T13:11:43.539Z"
   },
   {
    "duration": 5,
    "start_time": "2022-09-24T13:11:43.544Z"
   },
   {
    "duration": 241,
    "start_time": "2022-09-24T13:11:43.551Z"
   },
   {
    "duration": 4,
    "start_time": "2022-09-24T13:11:43.794Z"
   },
   {
    "duration": 187,
    "start_time": "2022-09-24T13:11:43.809Z"
   },
   {
    "duration": 3,
    "start_time": "2022-09-24T13:11:43.997Z"
   },
   {
    "duration": 2,
    "start_time": "2022-09-24T13:11:44.009Z"
   },
   {
    "duration": 75,
    "start_time": "2022-09-24T13:11:44.012Z"
   },
   {
    "duration": 100,
    "start_time": "2022-09-24T13:11:44.088Z"
   },
   {
    "duration": 89,
    "start_time": "2022-09-24T13:11:44.189Z"
   },
   {
    "duration": 14,
    "start_time": "2022-09-24T13:11:44.280Z"
   },
   {
    "duration": 14,
    "start_time": "2022-09-24T13:11:44.296Z"
   },
   {
    "duration": 8,
    "start_time": "2022-09-24T13:11:44.311Z"
   },
   {
    "duration": 13,
    "start_time": "2022-09-24T13:11:44.320Z"
   },
   {
    "duration": 342,
    "start_time": "2022-09-24T13:11:44.334Z"
   },
   {
    "duration": 50,
    "start_time": "2022-09-24T13:11:44.677Z"
   },
   {
    "duration": 5,
    "start_time": "2022-09-24T13:11:44.728Z"
   },
   {
    "duration": 10,
    "start_time": "2022-09-24T13:11:44.734Z"
   },
   {
    "duration": 226,
    "start_time": "2022-09-24T13:11:44.745Z"
   },
   {
    "duration": 3,
    "start_time": "2022-09-24T13:11:44.972Z"
   },
   {
    "duration": 5,
    "start_time": "2022-09-24T13:11:44.977Z"
   },
   {
    "duration": 8,
    "start_time": "2022-09-24T13:11:44.984Z"
   },
   {
    "duration": 16,
    "start_time": "2022-09-24T13:11:44.993Z"
   },
   {
    "duration": 7,
    "start_time": "2022-09-24T13:11:45.011Z"
   },
   {
    "duration": 20,
    "start_time": "2022-09-24T13:11:45.019Z"
   },
   {
    "duration": 8,
    "start_time": "2022-09-24T13:11:45.041Z"
   },
   {
    "duration": 6,
    "start_time": "2022-09-24T13:11:45.051Z"
   },
   {
    "duration": 10,
    "start_time": "2022-09-24T13:11:45.059Z"
   },
   {
    "duration": 5,
    "start_time": "2022-09-24T13:11:45.071Z"
   },
   {
    "duration": 5,
    "start_time": "2022-09-24T13:11:45.078Z"
   },
   {
    "duration": 6,
    "start_time": "2022-09-24T13:11:45.084Z"
   },
   {
    "duration": 1447,
    "start_time": "2022-09-24T13:15:43.189Z"
   },
   {
    "duration": 645,
    "start_time": "2022-09-24T13:15:44.638Z"
   },
   {
    "duration": 5,
    "start_time": "2022-09-24T13:15:45.285Z"
   },
   {
    "duration": 359,
    "start_time": "2022-09-24T13:15:45.292Z"
   },
   {
    "duration": 148,
    "start_time": "2022-09-24T13:15:45.653Z"
   },
   {
    "duration": 334,
    "start_time": "2022-09-24T13:15:45.802Z"
   },
   {
    "duration": 6,
    "start_time": "2022-09-24T13:15:46.137Z"
   },
   {
    "duration": 12,
    "start_time": "2022-09-24T13:15:46.144Z"
   },
   {
    "duration": 4,
    "start_time": "2022-09-24T13:15:46.157Z"
   },
   {
    "duration": 8,
    "start_time": "2022-09-24T13:15:46.163Z"
   },
   {
    "duration": 39,
    "start_time": "2022-09-24T13:15:46.173Z"
   },
   {
    "duration": 12,
    "start_time": "2022-09-24T13:15:46.214Z"
   },
   {
    "duration": 12,
    "start_time": "2022-09-24T13:15:46.228Z"
   },
   {
    "duration": 8,
    "start_time": "2022-09-24T13:15:46.242Z"
   },
   {
    "duration": 18,
    "start_time": "2022-09-24T13:15:46.252Z"
   },
   {
    "duration": 9,
    "start_time": "2022-09-24T13:15:46.271Z"
   },
   {
    "duration": 28,
    "start_time": "2022-09-24T13:15:46.282Z"
   },
   {
    "duration": 8,
    "start_time": "2022-09-24T13:15:46.311Z"
   },
   {
    "duration": 147,
    "start_time": "2022-09-24T13:15:46.320Z"
   },
   {
    "duration": 155,
    "start_time": "2022-09-24T13:15:46.469Z"
   },
   {
    "duration": 199,
    "start_time": "2022-09-24T13:15:46.626Z"
   },
   {
    "duration": 151,
    "start_time": "2022-09-24T13:15:46.827Z"
   },
   {
    "duration": 152,
    "start_time": "2022-09-24T13:15:46.980Z"
   },
   {
    "duration": 150,
    "start_time": "2022-09-24T13:15:47.134Z"
   },
   {
    "duration": 151,
    "start_time": "2022-09-24T13:15:47.286Z"
   },
   {
    "duration": 6,
    "start_time": "2022-09-24T13:15:47.439Z"
   },
   {
    "duration": 10,
    "start_time": "2022-09-24T13:15:47.446Z"
   },
   {
    "duration": 5,
    "start_time": "2022-09-24T13:15:47.460Z"
   },
   {
    "duration": 6,
    "start_time": "2022-09-24T13:15:47.467Z"
   },
   {
    "duration": 39,
    "start_time": "2022-09-24T13:15:47.474Z"
   },
   {
    "duration": 6,
    "start_time": "2022-09-24T13:15:47.515Z"
   },
   {
    "duration": 214,
    "start_time": "2022-09-24T13:15:47.522Z"
   },
   {
    "duration": 5,
    "start_time": "2022-09-24T13:15:47.738Z"
   },
   {
    "duration": 186,
    "start_time": "2022-09-24T13:15:47.744Z"
   },
   {
    "duration": 3,
    "start_time": "2022-09-24T13:15:47.931Z"
   },
   {
    "duration": 7,
    "start_time": "2022-09-24T13:15:47.935Z"
   },
   {
    "duration": 87,
    "start_time": "2022-09-24T13:15:47.943Z"
   },
   {
    "duration": 93,
    "start_time": "2022-09-24T13:15:48.031Z"
   },
   {
    "duration": 87,
    "start_time": "2022-09-24T13:15:48.126Z"
   },
   {
    "duration": 14,
    "start_time": "2022-09-24T13:15:48.215Z"
   },
   {
    "duration": 6,
    "start_time": "2022-09-24T13:15:48.231Z"
   },
   {
    "duration": 9,
    "start_time": "2022-09-24T13:15:48.239Z"
   },
   {
    "duration": 17,
    "start_time": "2022-09-24T13:15:48.249Z"
   },
   {
    "duration": 305,
    "start_time": "2022-09-24T13:15:48.268Z"
   },
   {
    "duration": 50,
    "start_time": "2022-09-24T13:15:48.574Z"
   },
   {
    "duration": 4,
    "start_time": "2022-09-24T13:15:48.625Z"
   },
   {
    "duration": 10,
    "start_time": "2022-09-24T13:15:48.630Z"
   },
   {
    "duration": 221,
    "start_time": "2022-09-24T13:15:48.642Z"
   },
   {
    "duration": 3,
    "start_time": "2022-09-24T13:15:48.864Z"
   },
   {
    "duration": 5,
    "start_time": "2022-09-24T13:15:48.869Z"
   },
   {
    "duration": 10,
    "start_time": "2022-09-24T13:15:48.875Z"
   },
   {
    "duration": 7,
    "start_time": "2022-09-24T13:15:48.886Z"
   },
   {
    "duration": 16,
    "start_time": "2022-09-24T13:15:48.894Z"
   },
   {
    "duration": 4,
    "start_time": "2022-09-24T13:15:48.912Z"
   },
   {
    "duration": 5,
    "start_time": "2022-09-24T13:15:48.918Z"
   },
   {
    "duration": 4,
    "start_time": "2022-09-24T13:15:48.925Z"
   },
   {
    "duration": 4,
    "start_time": "2022-09-24T13:15:48.930Z"
   },
   {
    "duration": 118,
    "start_time": "2022-09-24T13:15:48.935Z"
   },
   {
    "duration": 0,
    "start_time": "2022-09-24T13:15:49.054Z"
   },
   {
    "duration": 0,
    "start_time": "2022-09-24T13:15:49.055Z"
   },
   {
    "duration": 0,
    "start_time": "2022-09-24T13:15:49.056Z"
   },
   {
    "duration": 0,
    "start_time": "2022-09-24T13:15:49.057Z"
   },
   {
    "duration": 0,
    "start_time": "2022-09-24T13:15:49.058Z"
   },
   {
    "duration": 0,
    "start_time": "2022-09-24T13:15:49.059Z"
   },
   {
    "duration": 0,
    "start_time": "2022-09-24T13:15:49.060Z"
   },
   {
    "duration": 0,
    "start_time": "2022-09-24T13:15:49.061Z"
   },
   {
    "duration": 0,
    "start_time": "2022-09-24T13:15:49.062Z"
   },
   {
    "duration": 0,
    "start_time": "2022-09-24T13:15:49.063Z"
   },
   {
    "duration": 0,
    "start_time": "2022-09-24T13:15:49.064Z"
   },
   {
    "duration": 0,
    "start_time": "2022-09-24T13:15:49.065Z"
   },
   {
    "duration": 0,
    "start_time": "2022-09-24T13:15:49.066Z"
   },
   {
    "duration": 0,
    "start_time": "2022-09-24T13:15:49.067Z"
   },
   {
    "duration": 0,
    "start_time": "2022-09-24T13:15:49.067Z"
   },
   {
    "duration": 9,
    "start_time": "2022-09-24T13:16:23.839Z"
   },
   {
    "duration": 4453,
    "start_time": "2022-09-24T13:16:30.652Z"
   },
   {
    "duration": 6238,
    "start_time": "2022-09-24T13:18:08.928Z"
   },
   {
    "duration": 3,
    "start_time": "2022-09-24T13:20:47.262Z"
   },
   {
    "duration": 3,
    "start_time": "2022-09-24T13:20:49.770Z"
   },
   {
    "duration": 9,
    "start_time": "2022-09-24T13:20:52.306Z"
   },
   {
    "duration": 9,
    "start_time": "2022-09-24T13:21:26.860Z"
   },
   {
    "duration": 1467,
    "start_time": "2022-09-24T13:46:36.189Z"
   },
   {
    "duration": 646,
    "start_time": "2022-09-24T13:46:37.658Z"
   },
   {
    "duration": 5,
    "start_time": "2022-09-24T13:46:38.306Z"
   },
   {
    "duration": 371,
    "start_time": "2022-09-24T13:46:38.313Z"
   },
   {
    "duration": 162,
    "start_time": "2022-09-24T13:46:38.685Z"
   },
   {
    "duration": 340,
    "start_time": "2022-09-24T13:46:38.848Z"
   },
   {
    "duration": 6,
    "start_time": "2022-09-24T13:46:39.189Z"
   },
   {
    "duration": 23,
    "start_time": "2022-09-24T13:46:39.196Z"
   },
   {
    "duration": 4,
    "start_time": "2022-09-24T13:46:39.220Z"
   },
   {
    "duration": 7,
    "start_time": "2022-09-24T13:46:39.227Z"
   },
   {
    "duration": 13,
    "start_time": "2022-09-24T13:46:39.235Z"
   },
   {
    "duration": 11,
    "start_time": "2022-09-24T13:46:39.249Z"
   },
   {
    "duration": 47,
    "start_time": "2022-09-24T13:46:39.262Z"
   },
   {
    "duration": 11,
    "start_time": "2022-09-24T13:46:39.311Z"
   },
   {
    "duration": 21,
    "start_time": "2022-09-24T13:46:39.324Z"
   },
   {
    "duration": 13,
    "start_time": "2022-09-24T13:46:39.347Z"
   },
   {
    "duration": 3,
    "start_time": "2022-09-24T13:46:39.362Z"
   },
   {
    "duration": 10,
    "start_time": "2022-09-24T13:46:39.366Z"
   },
   {
    "duration": 166,
    "start_time": "2022-09-24T13:46:39.377Z"
   },
   {
    "duration": 139,
    "start_time": "2022-09-24T13:46:39.544Z"
   },
   {
    "duration": 206,
    "start_time": "2022-09-24T13:46:39.684Z"
   },
   {
    "duration": 156,
    "start_time": "2022-09-24T13:46:39.892Z"
   },
   {
    "duration": 153,
    "start_time": "2022-09-24T13:46:40.049Z"
   },
   {
    "duration": 152,
    "start_time": "2022-09-24T13:46:40.209Z"
   },
   {
    "duration": 155,
    "start_time": "2022-09-24T13:46:40.363Z"
   },
   {
    "duration": 7,
    "start_time": "2022-09-24T13:46:40.519Z"
   },
   {
    "duration": 10,
    "start_time": "2022-09-24T13:46:40.527Z"
   },
   {
    "duration": 5,
    "start_time": "2022-09-24T13:46:40.541Z"
   },
   {
    "duration": 11,
    "start_time": "2022-09-24T13:46:40.547Z"
   },
   {
    "duration": 4,
    "start_time": "2022-09-24T13:46:40.559Z"
   },
   {
    "duration": 5,
    "start_time": "2022-09-24T13:46:40.564Z"
   },
   {
    "duration": 235,
    "start_time": "2022-09-24T13:46:40.570Z"
   },
   {
    "duration": 5,
    "start_time": "2022-09-24T13:46:40.809Z"
   },
   {
    "duration": 183,
    "start_time": "2022-09-24T13:46:40.816Z"
   },
   {
    "duration": 10,
    "start_time": "2022-09-24T13:46:41.000Z"
   },
   {
    "duration": 9,
    "start_time": "2022-09-24T13:46:41.011Z"
   },
   {
    "duration": 77,
    "start_time": "2022-09-24T13:46:41.022Z"
   },
   {
    "duration": 90,
    "start_time": "2022-09-24T13:46:41.100Z"
   },
   {
    "duration": 93,
    "start_time": "2022-09-24T13:46:41.192Z"
   },
   {
    "duration": 28,
    "start_time": "2022-09-24T13:46:41.287Z"
   },
   {
    "duration": 3,
    "start_time": "2022-09-24T13:46:41.316Z"
   },
   {
    "duration": 10,
    "start_time": "2022-09-24T13:46:41.320Z"
   },
   {
    "duration": 15,
    "start_time": "2022-09-24T13:46:41.332Z"
   },
   {
    "duration": 326,
    "start_time": "2022-09-24T13:46:41.349Z"
   },
   {
    "duration": 56,
    "start_time": "2022-09-24T13:46:41.677Z"
   },
   {
    "duration": 6,
    "start_time": "2022-09-24T13:46:41.734Z"
   },
   {
    "duration": 11,
    "start_time": "2022-09-24T13:46:41.742Z"
   },
   {
    "duration": 241,
    "start_time": "2022-09-24T13:46:41.755Z"
   },
   {
    "duration": 2,
    "start_time": "2022-09-24T13:46:41.998Z"
   },
   {
    "duration": 9,
    "start_time": "2022-09-24T13:46:42.001Z"
   },
   {
    "duration": 5,
    "start_time": "2022-09-24T13:46:42.012Z"
   },
   {
    "duration": 7,
    "start_time": "2022-09-24T13:46:42.018Z"
   },
   {
    "duration": 9,
    "start_time": "2022-09-24T13:46:42.026Z"
   },
   {
    "duration": 10,
    "start_time": "2022-09-24T13:46:42.037Z"
   },
   {
    "duration": 7,
    "start_time": "2022-09-24T13:46:42.049Z"
   },
   {
    "duration": 8,
    "start_time": "2022-09-24T13:46:42.057Z"
   },
   {
    "duration": 8,
    "start_time": "2022-09-24T13:46:42.066Z"
   },
   {
    "duration": 4,
    "start_time": "2022-09-24T13:46:42.075Z"
   },
   {
    "duration": 428,
    "start_time": "2022-09-24T13:46:42.080Z"
   },
   {
    "duration": 4,
    "start_time": "2022-09-24T13:46:42.510Z"
   },
   {
    "duration": 4683,
    "start_time": "2022-09-24T13:46:42.516Z"
   },
   {
    "duration": 6332,
    "start_time": "2022-09-24T13:46:47.200Z"
   },
   {
    "duration": 3,
    "start_time": "2022-09-24T13:46:53.533Z"
   },
   {
    "duration": 41,
    "start_time": "2022-09-24T13:46:53.537Z"
   },
   {
    "duration": 0,
    "start_time": "2022-09-24T13:46:53.580Z"
   },
   {
    "duration": 0,
    "start_time": "2022-09-24T13:46:53.581Z"
   },
   {
    "duration": 0,
    "start_time": "2022-09-24T13:46:53.582Z"
   },
   {
    "duration": 0,
    "start_time": "2022-09-24T13:46:53.583Z"
   },
   {
    "duration": 0,
    "start_time": "2022-09-24T13:46:53.584Z"
   },
   {
    "duration": 0,
    "start_time": "2022-09-24T13:46:53.585Z"
   },
   {
    "duration": 0,
    "start_time": "2022-09-24T13:46:53.586Z"
   },
   {
    "duration": 3,
    "start_time": "2022-09-24T13:49:24.864Z"
   },
   {
    "duration": 1365,
    "start_time": "2022-09-24T16:24:53.552Z"
   },
   {
    "duration": 695,
    "start_time": "2022-09-24T16:24:54.919Z"
   },
   {
    "duration": 4,
    "start_time": "2022-09-24T16:24:55.616Z"
   },
   {
    "duration": 355,
    "start_time": "2022-09-24T16:24:55.623Z"
   },
   {
    "duration": 167,
    "start_time": "2022-09-24T16:24:55.979Z"
   },
   {
    "duration": 406,
    "start_time": "2022-09-24T16:24:56.148Z"
   },
   {
    "duration": 7,
    "start_time": "2022-09-24T16:24:56.556Z"
   },
   {
    "duration": 16,
    "start_time": "2022-09-24T16:24:56.564Z"
   },
   {
    "duration": 4,
    "start_time": "2022-09-24T16:24:56.582Z"
   },
   {
    "duration": 9,
    "start_time": "2022-09-24T16:24:56.608Z"
   },
   {
    "duration": 17,
    "start_time": "2022-09-24T16:24:56.618Z"
   },
   {
    "duration": 12,
    "start_time": "2022-09-24T16:24:56.637Z"
   },
   {
    "duration": 10,
    "start_time": "2022-09-24T16:24:56.651Z"
   },
   {
    "duration": 8,
    "start_time": "2022-09-24T16:24:56.662Z"
   },
   {
    "duration": 48,
    "start_time": "2022-09-24T16:24:56.671Z"
   },
   {
    "duration": 9,
    "start_time": "2022-09-24T16:24:56.721Z"
   },
   {
    "duration": 3,
    "start_time": "2022-09-24T16:24:56.732Z"
   },
   {
    "duration": 6,
    "start_time": "2022-09-24T16:24:56.736Z"
   },
   {
    "duration": 152,
    "start_time": "2022-09-24T16:24:56.744Z"
   },
   {
    "duration": 145,
    "start_time": "2022-09-24T16:24:56.897Z"
   },
   {
    "duration": 215,
    "start_time": "2022-09-24T16:24:57.045Z"
   },
   {
    "duration": 171,
    "start_time": "2022-09-24T16:24:57.262Z"
   },
   {
    "duration": 157,
    "start_time": "2022-09-24T16:24:57.434Z"
   },
   {
    "duration": 172,
    "start_time": "2022-09-24T16:24:57.592Z"
   },
   {
    "duration": 145,
    "start_time": "2022-09-24T16:24:57.766Z"
   },
   {
    "duration": 8,
    "start_time": "2022-09-24T16:24:57.913Z"
   },
   {
    "duration": 13,
    "start_time": "2022-09-24T16:24:57.922Z"
   },
   {
    "duration": 6,
    "start_time": "2022-09-24T16:24:57.940Z"
   },
   {
    "duration": 7,
    "start_time": "2022-09-24T16:24:57.947Z"
   },
   {
    "duration": 4,
    "start_time": "2022-09-24T16:24:57.956Z"
   },
   {
    "duration": 10,
    "start_time": "2022-09-24T16:24:57.962Z"
   },
   {
    "duration": 244,
    "start_time": "2022-09-24T16:24:57.974Z"
   },
   {
    "duration": 4,
    "start_time": "2022-09-24T16:24:58.220Z"
   },
   {
    "duration": 189,
    "start_time": "2022-09-24T16:24:58.226Z"
   },
   {
    "duration": 3,
    "start_time": "2022-09-24T16:24:58.417Z"
   },
   {
    "duration": 7,
    "start_time": "2022-09-24T16:24:58.421Z"
   },
   {
    "duration": 88,
    "start_time": "2022-09-24T16:24:58.429Z"
   },
   {
    "duration": 96,
    "start_time": "2022-09-24T16:24:58.519Z"
   },
   {
    "duration": 95,
    "start_time": "2022-09-24T16:24:58.617Z"
   },
   {
    "duration": 16,
    "start_time": "2022-09-24T16:24:58.714Z"
   },
   {
    "duration": 4,
    "start_time": "2022-09-24T16:24:58.732Z"
   },
   {
    "duration": 8,
    "start_time": "2022-09-24T16:24:58.738Z"
   },
   {
    "duration": 13,
    "start_time": "2022-09-24T16:24:58.748Z"
   },
   {
    "duration": 339,
    "start_time": "2022-09-24T16:24:58.763Z"
   },
   {
    "duration": 44,
    "start_time": "2022-09-24T16:24:59.108Z"
   },
   {
    "duration": 4,
    "start_time": "2022-09-24T16:24:59.154Z"
   },
   {
    "duration": 9,
    "start_time": "2022-09-24T16:24:59.160Z"
   },
   {
    "duration": 238,
    "start_time": "2022-09-24T16:24:59.171Z"
   },
   {
    "duration": 2,
    "start_time": "2022-09-24T16:24:59.411Z"
   },
   {
    "duration": 4,
    "start_time": "2022-09-24T16:24:59.415Z"
   },
   {
    "duration": 5,
    "start_time": "2022-09-24T16:24:59.421Z"
   },
   {
    "duration": 5,
    "start_time": "2022-09-24T16:24:59.427Z"
   },
   {
    "duration": 8,
    "start_time": "2022-09-24T16:24:59.434Z"
   },
   {
    "duration": 6,
    "start_time": "2022-09-24T16:24:59.444Z"
   },
   {
    "duration": 4,
    "start_time": "2022-09-24T16:24:59.451Z"
   },
   {
    "duration": 5,
    "start_time": "2022-09-24T16:24:59.457Z"
   },
   {
    "duration": 6,
    "start_time": "2022-09-24T16:24:59.464Z"
   },
   {
    "duration": 4,
    "start_time": "2022-09-24T16:24:59.471Z"
   },
   {
    "duration": 239,
    "start_time": "2022-09-24T16:24:59.477Z"
   },
   {
    "duration": 91,
    "start_time": "2022-09-24T16:24:59.718Z"
   },
   {
    "duration": 4613,
    "start_time": "2022-09-24T16:24:59.811Z"
   },
   {
    "duration": 6271,
    "start_time": "2022-09-24T16:25:04.426Z"
   },
   {
    "duration": 3,
    "start_time": "2022-09-24T16:25:10.699Z"
   },
   {
    "duration": 3,
    "start_time": "2022-09-24T16:25:10.708Z"
   },
   {
    "duration": 1121078,
    "start_time": "2022-09-24T16:25:10.713Z"
   },
   {
    "duration": 2,
    "start_time": "2022-09-24T16:43:51.793Z"
   },
   {
    "duration": 13,
    "start_time": "2022-09-24T16:43:51.797Z"
   },
   {
    "duration": 5,
    "start_time": "2022-09-24T16:43:51.811Z"
   },
   {
    "duration": 7,
    "start_time": "2022-09-24T16:43:51.818Z"
   },
   {
    "duration": 120,
    "start_time": "2022-09-24T16:43:51.826Z"
   },
   {
    "duration": 0,
    "start_time": "2022-09-24T16:43:51.948Z"
   },
   {
    "duration": 4,
    "start_time": "2022-09-25T03:54:00.418Z"
   },
   {
    "duration": 8,
    "start_time": "2022-09-25T03:54:11.178Z"
   },
   {
    "duration": 6,
    "start_time": "2022-09-25T03:54:19.654Z"
   },
   {
    "duration": 4,
    "start_time": "2022-09-25T03:54:20.786Z"
   },
   {
    "duration": 9,
    "start_time": "2022-09-25T03:54:26.242Z"
   },
   {
    "duration": 16,
    "start_time": "2022-09-25T03:54:50.863Z"
   },
   {
    "duration": 9,
    "start_time": "2022-09-25T03:54:58.953Z"
   },
   {
    "duration": 4426,
    "start_time": "2022-09-25T04:37:38.928Z"
   },
   {
    "duration": 4355,
    "start_time": "2022-09-25T04:39:18.143Z"
   },
   {
    "duration": 4385,
    "start_time": "2022-09-25T04:39:59.780Z"
   },
   {
    "duration": 4372,
    "start_time": "2022-09-25T04:40:17.348Z"
   },
   {
    "duration": 1579,
    "start_time": "2022-09-25T04:42:35.140Z"
   },
   {
    "duration": 1703,
    "start_time": "2022-09-25T04:42:56.014Z"
   },
   {
    "duration": 4401,
    "start_time": "2022-09-25T04:43:23.406Z"
   },
   {
    "duration": 1903,
    "start_time": "2022-09-25T04:43:27.809Z"
   },
   {
    "duration": 10263,
    "start_time": "2022-09-25T04:45:07.484Z"
   },
   {
    "duration": 10456,
    "start_time": "2022-09-25T04:46:13.996Z"
   },
   {
    "duration": 3315,
    "start_time": "2022-09-25T04:48:00.598Z"
   },
   {
    "duration": 4,
    "start_time": "2022-09-25T04:49:46.059Z"
   },
   {
    "duration": 60,
    "start_time": "2022-09-25T04:50:31.500Z"
   },
   {
    "duration": 3,
    "start_time": "2022-09-25T04:50:38.667Z"
   },
   {
    "duration": 3,
    "start_time": "2022-09-25T04:51:14.915Z"
   },
   {
    "duration": 2,
    "start_time": "2022-09-25T04:55:10.538Z"
   },
   {
    "duration": 3,
    "start_time": "2022-09-25T04:55:11.487Z"
   },
   {
    "duration": 3,
    "start_time": "2022-09-25T04:56:21.199Z"
   },
   {
    "duration": 1236,
    "start_time": "2022-09-25T04:58:15.580Z"
   },
   {
    "duration": 40,
    "start_time": "2022-09-25T04:58:32.149Z"
   },
   {
    "duration": 3473,
    "start_time": "2022-09-25T05:00:21.393Z"
   },
   {
    "duration": 3494,
    "start_time": "2022-09-25T05:01:29.336Z"
   },
   {
    "duration": 3,
    "start_time": "2022-09-25T05:02:19.116Z"
   },
   {
    "duration": 3497,
    "start_time": "2022-09-25T05:02:27.057Z"
   },
   {
    "duration": 3492,
    "start_time": "2022-09-25T05:02:40.625Z"
   },
   {
    "duration": 3,
    "start_time": "2022-09-25T05:02:48.950Z"
   },
   {
    "duration": 2123,
    "start_time": "2022-09-25T05:08:49.989Z"
   },
   {
    "duration": 3,
    "start_time": "2022-09-25T05:08:53.708Z"
   },
   {
    "duration": 1388,
    "start_time": "2022-09-25T05:11:43.845Z"
   },
   {
    "duration": 649,
    "start_time": "2022-09-25T05:11:45.236Z"
   },
   {
    "duration": 4,
    "start_time": "2022-09-25T05:11:45.887Z"
   },
   {
    "duration": 356,
    "start_time": "2022-09-25T05:11:45.893Z"
   },
   {
    "duration": 148,
    "start_time": "2022-09-25T05:11:46.251Z"
   },
   {
    "duration": 354,
    "start_time": "2022-09-25T05:11:46.401Z"
   },
   {
    "duration": 6,
    "start_time": "2022-09-25T05:11:46.757Z"
   },
   {
    "duration": 12,
    "start_time": "2022-09-25T05:11:46.764Z"
   },
   {
    "duration": 4,
    "start_time": "2022-09-25T05:11:46.777Z"
   },
   {
    "duration": 6,
    "start_time": "2022-09-25T05:11:46.808Z"
   },
   {
    "duration": 11,
    "start_time": "2022-09-25T05:11:46.816Z"
   },
   {
    "duration": 9,
    "start_time": "2022-09-25T05:11:46.829Z"
   },
   {
    "duration": 10,
    "start_time": "2022-09-25T05:11:46.839Z"
   },
   {
    "duration": 7,
    "start_time": "2022-09-25T05:11:46.851Z"
   },
   {
    "duration": 16,
    "start_time": "2022-09-25T05:11:46.859Z"
   },
   {
    "duration": 38,
    "start_time": "2022-09-25T05:11:46.877Z"
   },
   {
    "duration": 2,
    "start_time": "2022-09-25T05:11:46.916Z"
   },
   {
    "duration": 6,
    "start_time": "2022-09-25T05:11:46.920Z"
   },
   {
    "duration": 151,
    "start_time": "2022-09-25T05:11:46.927Z"
   },
   {
    "duration": 142,
    "start_time": "2022-09-25T05:11:47.079Z"
   },
   {
    "duration": 206,
    "start_time": "2022-09-25T05:11:47.223Z"
   },
   {
    "duration": 153,
    "start_time": "2022-09-25T05:11:47.431Z"
   },
   {
    "duration": 146,
    "start_time": "2022-09-25T05:11:47.585Z"
   },
   {
    "duration": 147,
    "start_time": "2022-09-25T05:11:47.733Z"
   },
   {
    "duration": 148,
    "start_time": "2022-09-25T05:11:47.882Z"
   },
   {
    "duration": 5,
    "start_time": "2022-09-25T05:11:48.031Z"
   },
   {
    "duration": 7,
    "start_time": "2022-09-25T05:11:48.037Z"
   },
   {
    "duration": 5,
    "start_time": "2022-09-25T05:11:48.047Z"
   },
   {
    "duration": 4,
    "start_time": "2022-09-25T05:11:48.053Z"
   },
   {
    "duration": 3,
    "start_time": "2022-09-25T05:11:48.059Z"
   },
   {
    "duration": 5,
    "start_time": "2022-09-25T05:11:48.063Z"
   },
   {
    "duration": 231,
    "start_time": "2022-09-25T05:11:48.069Z"
   },
   {
    "duration": 9,
    "start_time": "2022-09-25T05:11:48.302Z"
   },
   {
    "duration": 175,
    "start_time": "2022-09-25T05:11:48.312Z"
   },
   {
    "duration": 3,
    "start_time": "2022-09-25T05:11:48.488Z"
   },
   {
    "duration": 16,
    "start_time": "2022-09-25T05:11:48.493Z"
   },
   {
    "duration": 75,
    "start_time": "2022-09-25T05:11:48.510Z"
   },
   {
    "duration": 92,
    "start_time": "2022-09-25T05:11:48.587Z"
   },
   {
    "duration": 89,
    "start_time": "2022-09-25T05:11:48.681Z"
   },
   {
    "duration": 15,
    "start_time": "2022-09-25T05:11:48.772Z"
   },
   {
    "duration": 8,
    "start_time": "2022-09-25T05:11:48.788Z"
   },
   {
    "duration": 16,
    "start_time": "2022-09-25T05:11:48.797Z"
   },
   {
    "duration": 17,
    "start_time": "2022-09-25T05:11:48.814Z"
   },
   {
    "duration": 304,
    "start_time": "2022-09-25T05:11:48.832Z"
   },
   {
    "duration": 43,
    "start_time": "2022-09-25T05:11:49.138Z"
   },
   {
    "duration": 4,
    "start_time": "2022-09-25T05:11:49.183Z"
   },
   {
    "duration": 23,
    "start_time": "2022-09-25T05:11:49.189Z"
   },
   {
    "duration": 224,
    "start_time": "2022-09-25T05:11:49.213Z"
   },
   {
    "duration": 2,
    "start_time": "2022-09-25T05:11:49.438Z"
   },
   {
    "duration": 6,
    "start_time": "2022-09-25T05:11:49.442Z"
   },
   {
    "duration": 4,
    "start_time": "2022-09-25T05:11:49.449Z"
   },
   {
    "duration": 6,
    "start_time": "2022-09-25T05:11:49.454Z"
   },
   {
    "duration": 9,
    "start_time": "2022-09-25T05:11:49.461Z"
   },
   {
    "duration": 9,
    "start_time": "2022-09-25T05:11:49.471Z"
   },
   {
    "duration": 9,
    "start_time": "2022-09-25T05:11:49.481Z"
   },
   {
    "duration": 5,
    "start_time": "2022-09-25T05:11:49.491Z"
   },
   {
    "duration": 11,
    "start_time": "2022-09-25T05:11:49.498Z"
   },
   {
    "duration": 2,
    "start_time": "2022-09-25T05:11:49.510Z"
   },
   {
    "duration": 6,
    "start_time": "2022-09-25T05:11:49.513Z"
   },
   {
    "duration": 10540,
    "start_time": "2022-09-25T05:11:49.521Z"
   },
   {
    "duration": 3,
    "start_time": "2022-09-25T05:12:00.062Z"
   },
   {
    "duration": 3245,
    "start_time": "2022-09-25T05:12:00.067Z"
   },
   {
    "duration": 6,
    "start_time": "2022-09-25T05:12:03.314Z"
   },
   {
    "duration": 93,
    "start_time": "2022-09-25T05:12:03.322Z"
   },
   {
    "duration": 11,
    "start_time": "2022-09-25T05:12:03.417Z"
   },
   {
    "duration": 1366,
    "start_time": "2022-09-26T02:31:46.258Z"
   },
   {
    "duration": 654,
    "start_time": "2022-09-26T02:31:47.626Z"
   },
   {
    "duration": 6,
    "start_time": "2022-09-26T02:31:48.281Z"
   },
   {
    "duration": 367,
    "start_time": "2022-09-26T02:31:48.289Z"
   },
   {
    "duration": 166,
    "start_time": "2022-09-26T02:31:48.657Z"
   },
   {
    "duration": 347,
    "start_time": "2022-09-26T02:31:48.825Z"
   },
   {
    "duration": 5,
    "start_time": "2022-09-26T02:31:49.174Z"
   },
   {
    "duration": 13,
    "start_time": "2022-09-26T02:31:49.180Z"
   },
   {
    "duration": 17,
    "start_time": "2022-09-26T02:31:49.194Z"
   },
   {
    "duration": 9,
    "start_time": "2022-09-26T02:31:49.215Z"
   },
   {
    "duration": 20,
    "start_time": "2022-09-26T02:31:49.226Z"
   },
   {
    "duration": 9,
    "start_time": "2022-09-26T02:31:49.247Z"
   },
   {
    "duration": 10,
    "start_time": "2022-09-26T02:31:49.258Z"
   },
   {
    "duration": 46,
    "start_time": "2022-09-26T02:31:49.270Z"
   },
   {
    "duration": 20,
    "start_time": "2022-09-26T02:31:49.317Z"
   },
   {
    "duration": 8,
    "start_time": "2022-09-26T02:31:49.338Z"
   },
   {
    "duration": 3,
    "start_time": "2022-09-26T02:31:49.347Z"
   },
   {
    "duration": 5,
    "start_time": "2022-09-26T02:31:49.351Z"
   },
   {
    "duration": 175,
    "start_time": "2022-09-26T02:31:49.357Z"
   },
   {
    "duration": 145,
    "start_time": "2022-09-26T02:31:49.533Z"
   },
   {
    "duration": 212,
    "start_time": "2022-09-26T02:31:49.680Z"
   },
   {
    "duration": 158,
    "start_time": "2022-09-26T02:31:49.894Z"
   },
   {
    "duration": 157,
    "start_time": "2022-09-26T02:31:50.053Z"
   },
   {
    "duration": 152,
    "start_time": "2022-09-26T02:31:50.211Z"
   },
   {
    "duration": 160,
    "start_time": "2022-09-26T02:31:50.364Z"
   },
   {
    "duration": 6,
    "start_time": "2022-09-26T02:31:50.526Z"
   },
   {
    "duration": 7,
    "start_time": "2022-09-26T02:31:50.533Z"
   },
   {
    "duration": 4,
    "start_time": "2022-09-26T02:31:50.544Z"
   },
   {
    "duration": 5,
    "start_time": "2022-09-26T02:31:50.550Z"
   },
   {
    "duration": 5,
    "start_time": "2022-09-26T02:31:50.557Z"
   },
   {
    "duration": 7,
    "start_time": "2022-09-26T02:31:50.563Z"
   },
   {
    "duration": 257,
    "start_time": "2022-09-26T02:31:50.571Z"
   },
   {
    "duration": 5,
    "start_time": "2022-09-26T02:31:50.831Z"
   },
   {
    "duration": 203,
    "start_time": "2022-09-26T02:31:50.837Z"
   },
   {
    "duration": 3,
    "start_time": "2022-09-26T02:31:51.042Z"
   },
   {
    "duration": 7,
    "start_time": "2022-09-26T02:31:51.046Z"
   },
   {
    "duration": 85,
    "start_time": "2022-09-26T02:31:51.054Z"
   },
   {
    "duration": 94,
    "start_time": "2022-09-26T02:31:51.140Z"
   },
   {
    "duration": 98,
    "start_time": "2022-09-26T02:31:51.235Z"
   },
   {
    "duration": 15,
    "start_time": "2022-09-26T02:31:51.334Z"
   },
   {
    "duration": 4,
    "start_time": "2022-09-26T02:31:51.351Z"
   },
   {
    "duration": 8,
    "start_time": "2022-09-26T02:31:51.356Z"
   },
   {
    "duration": 13,
    "start_time": "2022-09-26T02:31:51.366Z"
   },
   {
    "duration": 358,
    "start_time": "2022-09-26T02:31:51.381Z"
   },
   {
    "duration": 47,
    "start_time": "2022-09-26T02:31:51.740Z"
   },
   {
    "duration": 5,
    "start_time": "2022-09-26T02:31:51.789Z"
   },
   {
    "duration": 9,
    "start_time": "2022-09-26T02:31:51.809Z"
   },
   {
    "duration": 242,
    "start_time": "2022-09-26T02:31:51.820Z"
   },
   {
    "duration": 3,
    "start_time": "2022-09-26T02:31:52.063Z"
   },
   {
    "duration": 5,
    "start_time": "2022-09-26T02:31:52.067Z"
   },
   {
    "duration": 4,
    "start_time": "2022-09-26T02:31:52.073Z"
   },
   {
    "duration": 4,
    "start_time": "2022-09-26T02:31:52.078Z"
   },
   {
    "duration": 5,
    "start_time": "2022-09-26T02:31:52.084Z"
   },
   {
    "duration": 18,
    "start_time": "2022-09-26T02:31:52.090Z"
   },
   {
    "duration": 10,
    "start_time": "2022-09-26T02:31:52.111Z"
   },
   {
    "duration": 6,
    "start_time": "2022-09-26T02:31:52.123Z"
   },
   {
    "duration": 5,
    "start_time": "2022-09-26T02:31:52.131Z"
   },
   {
    "duration": 7,
    "start_time": "2022-09-26T02:31:52.137Z"
   },
   {
    "duration": 5,
    "start_time": "2022-09-26T02:31:52.145Z"
   },
   {
    "duration": 10718,
    "start_time": "2022-09-26T02:31:52.151Z"
   },
   {
    "duration": 2,
    "start_time": "2022-09-26T02:32:02.871Z"
   },
   {
    "duration": 6643,
    "start_time": "2022-09-26T02:32:02.875Z"
   },
   {
    "duration": 105,
    "start_time": "2022-09-26T02:32:09.523Z"
   },
   {
    "duration": 4,
    "start_time": "2022-09-26T02:32:09.629Z"
   },
   {
    "duration": 5,
    "start_time": "2022-09-26T02:32:09.709Z"
   },
   {
    "duration": 3495,
    "start_time": "2022-09-26T12:47:22.915Z"
   },
   {
    "duration": 2820,
    "start_time": "2022-09-26T12:47:26.412Z"
   },
   {
    "duration": 5,
    "start_time": "2022-09-26T12:47:29.234Z"
   },
   {
    "duration": 373,
    "start_time": "2022-09-26T12:47:29.241Z"
   },
   {
    "duration": 179,
    "start_time": "2022-09-26T12:47:29.616Z"
   },
   {
    "duration": 370,
    "start_time": "2022-09-26T12:47:29.797Z"
   },
   {
    "duration": 6,
    "start_time": "2022-09-26T12:47:30.169Z"
   },
   {
    "duration": 32,
    "start_time": "2022-09-26T12:47:30.176Z"
   },
   {
    "duration": 22,
    "start_time": "2022-09-26T12:47:30.210Z"
   },
   {
    "duration": 12,
    "start_time": "2022-09-26T12:47:30.235Z"
   },
   {
    "duration": 19,
    "start_time": "2022-09-26T12:47:30.249Z"
   },
   {
    "duration": 25,
    "start_time": "2022-09-26T12:47:30.270Z"
   },
   {
    "duration": 34,
    "start_time": "2022-09-26T12:47:30.297Z"
   },
   {
    "duration": 32,
    "start_time": "2022-09-26T12:47:30.333Z"
   },
   {
    "duration": 41,
    "start_time": "2022-09-26T12:47:30.367Z"
   },
   {
    "duration": 22,
    "start_time": "2022-09-26T12:47:30.410Z"
   },
   {
    "duration": 28,
    "start_time": "2022-09-26T12:47:30.434Z"
   },
   {
    "duration": 46,
    "start_time": "2022-09-26T12:47:30.464Z"
   },
   {
    "duration": 171,
    "start_time": "2022-09-26T12:47:30.512Z"
   },
   {
    "duration": 152,
    "start_time": "2022-09-26T12:47:30.685Z"
   },
   {
    "duration": 232,
    "start_time": "2022-09-26T12:47:30.839Z"
   },
   {
    "duration": 161,
    "start_time": "2022-09-26T12:47:31.073Z"
   },
   {
    "duration": 145,
    "start_time": "2022-09-26T12:47:31.236Z"
   },
   {
    "duration": 169,
    "start_time": "2022-09-26T12:47:31.383Z"
   },
   {
    "duration": 150,
    "start_time": "2022-09-26T12:47:31.554Z"
   },
   {
    "duration": 7,
    "start_time": "2022-09-26T12:47:31.706Z"
   },
   {
    "duration": 17,
    "start_time": "2022-09-26T12:47:31.714Z"
   },
   {
    "duration": 6,
    "start_time": "2022-09-26T12:47:31.735Z"
   },
   {
    "duration": 10,
    "start_time": "2022-09-26T12:47:31.743Z"
   },
   {
    "duration": 17,
    "start_time": "2022-09-26T12:47:31.754Z"
   },
   {
    "duration": 10,
    "start_time": "2022-09-26T12:47:31.772Z"
   },
   {
    "duration": 254,
    "start_time": "2022-09-26T12:47:31.784Z"
   },
   {
    "duration": 4,
    "start_time": "2022-09-26T12:47:32.040Z"
   },
   {
    "duration": 187,
    "start_time": "2022-09-26T12:47:32.045Z"
   },
   {
    "duration": 3,
    "start_time": "2022-09-26T12:47:32.234Z"
   },
   {
    "duration": 12,
    "start_time": "2022-09-26T12:47:32.238Z"
   },
   {
    "duration": 86,
    "start_time": "2022-09-26T12:47:32.252Z"
   },
   {
    "duration": 103,
    "start_time": "2022-09-26T12:47:32.340Z"
   },
   {
    "duration": 92,
    "start_time": "2022-09-26T12:47:32.444Z"
   },
   {
    "duration": 17,
    "start_time": "2022-09-26T12:47:32.538Z"
   },
   {
    "duration": 9,
    "start_time": "2022-09-26T12:47:32.557Z"
   },
   {
    "duration": 9,
    "start_time": "2022-09-26T12:47:32.567Z"
   },
   {
    "duration": 39,
    "start_time": "2022-09-26T12:47:32.577Z"
   },
   {
    "duration": 330,
    "start_time": "2022-09-26T12:47:32.617Z"
   },
   {
    "duration": 59,
    "start_time": "2022-09-26T12:47:32.949Z"
   },
   {
    "duration": 5,
    "start_time": "2022-09-26T12:47:33.009Z"
   },
   {
    "duration": 13,
    "start_time": "2022-09-26T12:47:33.016Z"
   },
   {
    "duration": 244,
    "start_time": "2022-09-26T12:47:33.031Z"
   },
   {
    "duration": 2,
    "start_time": "2022-09-26T12:47:33.277Z"
   },
   {
    "duration": 26,
    "start_time": "2022-09-26T12:47:33.280Z"
   },
   {
    "duration": 30,
    "start_time": "2022-09-26T12:47:33.307Z"
   },
   {
    "duration": 16,
    "start_time": "2022-09-26T12:47:33.339Z"
   },
   {
    "duration": 24,
    "start_time": "2022-09-26T12:47:33.357Z"
   },
   {
    "duration": 32,
    "start_time": "2022-09-26T12:47:33.383Z"
   },
   {
    "duration": 15,
    "start_time": "2022-09-26T12:47:33.416Z"
   },
   {
    "duration": 46,
    "start_time": "2022-09-26T12:47:33.432Z"
   },
   {
    "duration": 4,
    "start_time": "2022-09-26T14:58:30.165Z"
   },
   {
    "duration": 3,
    "start_time": "2022-09-26T15:02:46.145Z"
   },
   {
    "duration": 635,
    "start_time": "2022-09-26T15:03:01.250Z"
   },
   {
    "duration": 3,
    "start_time": "2022-09-26T15:03:10.758Z"
   },
   {
    "duration": 352,
    "start_time": "2022-09-26T15:03:15.494Z"
   },
   {
    "duration": 149,
    "start_time": "2022-09-26T15:05:02.796Z"
   },
   {
    "duration": 326,
    "start_time": "2022-09-26T15:05:03.324Z"
   },
   {
    "duration": 13,
    "start_time": "2022-09-26T15:05:24.285Z"
   },
   {
    "duration": 4,
    "start_time": "2022-09-27T09:27:49.382Z"
   },
   {
    "duration": 334,
    "start_time": "2022-09-27T09:27:51.525Z"
   },
   {
    "duration": 4,
    "start_time": "2022-09-27T09:28:05.036Z"
   },
   {
    "duration": 331,
    "start_time": "2022-09-27T09:28:06.811Z"
   },
   {
    "duration": 7,
    "start_time": "2022-09-27T09:28:14.412Z"
   },
   {
    "duration": 3,
    "start_time": "2022-09-27T09:28:16.747Z"
   },
   {
    "duration": 622,
    "start_time": "2022-09-27T09:28:18.576Z"
   },
   {
    "duration": 5,
    "start_time": "2022-09-27T09:28:19.484Z"
   },
   {
    "duration": 344,
    "start_time": "2022-09-27T09:28:21.356Z"
   },
   {
    "duration": 149,
    "start_time": "2022-09-27T09:28:21.895Z"
   },
   {
    "duration": 336,
    "start_time": "2022-09-27T09:28:22.828Z"
   },
   {
    "duration": 13,
    "start_time": "2022-09-27T09:29:00.816Z"
   },
   {
    "duration": 1270,
    "start_time": "2022-09-27T09:29:37.605Z"
   },
   {
    "duration": 9,
    "start_time": "2022-09-27T09:29:52.820Z"
   },
   {
    "duration": 14,
    "start_time": "2022-09-27T09:30:34.861Z"
   },
   {
    "duration": 6,
    "start_time": "2022-09-27T09:31:15.541Z"
   },
   {
    "duration": 7,
    "start_time": "2022-09-27T09:31:21.060Z"
   },
   {
    "duration": 3,
    "start_time": "2022-09-27T09:32:24.694Z"
   },
   {
    "duration": 12,
    "start_time": "2022-09-27T09:32:27.616Z"
   },
   {
    "duration": 91,
    "start_time": "2022-09-27T09:35:01.130Z"
   },
   {
    "duration": 3,
    "start_time": "2022-09-27T09:35:01.672Z"
   },
   {
    "duration": 9,
    "start_time": "2022-09-27T09:35:02.477Z"
   },
   {
    "duration": 10,
    "start_time": "2022-09-27T09:36:18.789Z"
   },
   {
    "duration": 5,
    "start_time": "2022-09-27T09:36:27.303Z"
   },
   {
    "duration": 629,
    "start_time": "2022-09-27T09:36:28.093Z"
   },
   {
    "duration": 4,
    "start_time": "2022-09-27T09:36:28.724Z"
   },
   {
    "duration": 353,
    "start_time": "2022-09-27T09:36:28.757Z"
   },
   {
    "duration": 187,
    "start_time": "2022-09-27T09:36:29.112Z"
   },
   {
    "duration": 326,
    "start_time": "2022-09-27T09:36:29.776Z"
   },
   {
    "duration": 6,
    "start_time": "2022-09-27T09:36:30.109Z"
   },
   {
    "duration": 14,
    "start_time": "2022-09-27T09:36:30.187Z"
   },
   {
    "duration": 5,
    "start_time": "2022-09-27T09:36:30.417Z"
   },
   {
    "duration": 8,
    "start_time": "2022-09-27T09:36:36.837Z"
   },
   {
    "duration": 14,
    "start_time": "2022-09-27T09:36:39.018Z"
   },
   {
    "duration": 2,
    "start_time": "2022-09-27T09:36:39.526Z"
   },
   {
    "duration": 12,
    "start_time": "2022-09-27T09:36:40.357Z"
   },
   {
    "duration": 11,
    "start_time": "2022-09-27T09:36:43.098Z"
   },
   {
    "duration": 15,
    "start_time": "2022-09-27T09:36:44.506Z"
   },
   {
    "duration": 9,
    "start_time": "2022-09-27T09:36:51.437Z"
   },
   {
    "duration": 3,
    "start_time": "2022-09-27T09:37:07.730Z"
   },
   {
    "duration": 3,
    "start_time": "2022-09-27T09:37:09.719Z"
   },
   {
    "duration": 151,
    "start_time": "2022-09-27T09:37:10.776Z"
   },
   {
    "duration": 137,
    "start_time": "2022-09-27T09:37:11.362Z"
   },
   {
    "duration": 137,
    "start_time": "2022-09-27T09:37:12.456Z"
   },
   {
    "duration": 140,
    "start_time": "2022-09-27T09:37:15.763Z"
   },
   {
    "duration": 155,
    "start_time": "2022-09-27T09:37:16.690Z"
   },
   {
    "duration": 134,
    "start_time": "2022-09-27T09:37:17.725Z"
   },
   {
    "duration": 155,
    "start_time": "2022-09-27T09:37:18.603Z"
   },
   {
    "duration": 6,
    "start_time": "2022-09-27T09:37:19.506Z"
   },
   {
    "duration": 5,
    "start_time": "2022-09-27T09:37:20.823Z"
   },
   {
    "duration": 5,
    "start_time": "2022-09-27T09:37:21.379Z"
   },
   {
    "duration": 5,
    "start_time": "2022-09-27T09:37:22.090Z"
   },
   {
    "duration": 3,
    "start_time": "2022-09-27T09:37:27.237Z"
   },
   {
    "duration": 4,
    "start_time": "2022-09-27T09:37:29.552Z"
   },
   {
    "duration": 204,
    "start_time": "2022-09-27T09:37:30.822Z"
   },
   {
    "duration": 5,
    "start_time": "2022-09-27T09:37:31.922Z"
   },
   {
    "duration": 4,
    "start_time": "2022-09-27T09:38:12.432Z"
   },
   {
    "duration": 291,
    "start_time": "2022-09-27T09:38:13.110Z"
   },
   {
    "duration": 5,
    "start_time": "2022-09-27T09:38:22.371Z"
   },
   {
    "duration": 350,
    "start_time": "2022-09-27T09:38:22.994Z"
   },
   {
    "duration": 5,
    "start_time": "2022-09-27T09:38:40.004Z"
   },
   {
    "duration": 340,
    "start_time": "2022-09-27T09:38:40.715Z"
   },
   {
    "duration": 5,
    "start_time": "2022-09-27T09:40:12.652Z"
   },
   {
    "duration": 253,
    "start_time": "2022-09-27T09:40:13.136Z"
   },
   {
    "duration": 5,
    "start_time": "2022-09-27T09:40:25.266Z"
   },
   {
    "duration": 232,
    "start_time": "2022-09-27T09:40:25.921Z"
   },
   {
    "duration": 5,
    "start_time": "2022-09-27T09:40:26.570Z"
   },
   {
    "duration": 5,
    "start_time": "2022-09-27T09:44:38.956Z"
   },
   {
    "duration": 352,
    "start_time": "2022-09-27T09:44:39.536Z"
   },
   {
    "duration": 4,
    "start_time": "2022-09-27T09:45:12.952Z"
   },
   {
    "duration": 239,
    "start_time": "2022-09-27T09:45:14.600Z"
   },
   {
    "duration": 4,
    "start_time": "2022-09-27T09:45:25.852Z"
   },
   {
    "duration": 235,
    "start_time": "2022-09-27T09:45:26.449Z"
   },
   {
    "duration": 4,
    "start_time": "2022-09-27T09:45:43.936Z"
   },
   {
    "duration": 3,
    "start_time": "2022-09-27T09:45:49.013Z"
   },
   {
    "duration": 4,
    "start_time": "2022-09-27T09:45:52.750Z"
   },
   {
    "duration": 229,
    "start_time": "2022-09-27T09:45:55.357Z"
   },
   {
    "duration": 4,
    "start_time": "2022-09-27T09:48:09.931Z"
   },
   {
    "duration": 232,
    "start_time": "2022-09-27T09:48:10.695Z"
   },
   {
    "duration": 5,
    "start_time": "2022-09-27T09:48:21.530Z"
   },
   {
    "duration": 347,
    "start_time": "2022-09-27T09:48:22.090Z"
   },
   {
    "duration": 4,
    "start_time": "2022-09-27T09:48:33.110Z"
   },
   {
    "duration": 254,
    "start_time": "2022-09-27T09:48:33.499Z"
   },
   {
    "duration": 5,
    "start_time": "2022-09-27T09:48:48.797Z"
   },
   {
    "duration": 225,
    "start_time": "2022-09-27T09:48:49.260Z"
   },
   {
    "duration": 5,
    "start_time": "2022-09-27T09:48:59.090Z"
   },
   {
    "duration": 224,
    "start_time": "2022-09-27T09:48:59.667Z"
   },
   {
    "duration": 5,
    "start_time": "2022-09-27T09:49:11.902Z"
   },
   {
    "duration": 248,
    "start_time": "2022-09-27T09:49:12.478Z"
   },
   {
    "duration": 5,
    "start_time": "2022-09-27T09:49:20.535Z"
   },
   {
    "duration": 225,
    "start_time": "2022-09-27T09:49:21.380Z"
   },
   {
    "duration": 4,
    "start_time": "2022-09-27T09:49:27.151Z"
   },
   {
    "duration": 322,
    "start_time": "2022-09-27T09:49:27.934Z"
   },
   {
    "duration": 7,
    "start_time": "2022-09-27T09:49:37.984Z"
   },
   {
    "duration": 237,
    "start_time": "2022-09-27T09:49:39.372Z"
   },
   {
    "duration": 5,
    "start_time": "2022-09-27T09:49:47.835Z"
   },
   {
    "duration": 230,
    "start_time": "2022-09-27T09:49:48.479Z"
   },
   {
    "duration": 5,
    "start_time": "2022-09-27T09:50:10.516Z"
   },
   {
    "duration": 242,
    "start_time": "2022-09-27T09:50:11.027Z"
   },
   {
    "duration": 5,
    "start_time": "2022-09-27T09:54:15.868Z"
   },
   {
    "duration": 253,
    "start_time": "2022-09-27T09:54:16.380Z"
   },
   {
    "duration": 5,
    "start_time": "2022-09-27T09:54:26.878Z"
   },
   {
    "duration": 316,
    "start_time": "2022-09-27T09:54:27.356Z"
   },
   {
    "duration": 4,
    "start_time": "2022-09-27T09:54:38.969Z"
   },
   {
    "duration": 240,
    "start_time": "2022-09-27T09:54:39.452Z"
   },
   {
    "duration": 4,
    "start_time": "2022-09-27T09:54:43.492Z"
   },
   {
    "duration": 250,
    "start_time": "2022-09-27T09:54:44.008Z"
   },
   {
    "duration": 6,
    "start_time": "2022-09-27T09:54:44.510Z"
   },
   {
    "duration": 4,
    "start_time": "2022-09-27T09:58:30.708Z"
   },
   {
    "duration": 3,
    "start_time": "2022-09-27T09:59:34.700Z"
   },
   {
    "duration": 75,
    "start_time": "2022-09-27T09:59:35.504Z"
   },
   {
    "duration": 79,
    "start_time": "2022-09-27T09:59:51.877Z"
   },
   {
    "duration": 80,
    "start_time": "2022-09-27T10:00:16.025Z"
   },
   {
    "duration": 3,
    "start_time": "2022-09-27T10:01:25.058Z"
   },
   {
    "duration": 93,
    "start_time": "2022-09-27T10:01:25.603Z"
   },
   {
    "duration": 89,
    "start_time": "2022-09-27T10:01:26.158Z"
   },
   {
    "duration": 116,
    "start_time": "2022-09-27T10:01:26.885Z"
   },
   {
    "duration": 163,
    "start_time": "2022-09-27T10:01:28.025Z"
   },
   {
    "duration": 4,
    "start_time": "2022-09-27T10:02:32.595Z"
   },
   {
    "duration": 74,
    "start_time": "2022-09-27T10:02:33.100Z"
   },
   {
    "duration": 81,
    "start_time": "2022-09-27T10:02:33.530Z"
   },
   {
    "duration": 87,
    "start_time": "2022-09-27T10:02:34.187Z"
   },
   {
    "duration": 89,
    "start_time": "2022-09-27T10:02:34.631Z"
   },
   {
    "duration": 18,
    "start_time": "2022-09-27T10:02:38.114Z"
   },
   {
    "duration": 3,
    "start_time": "2022-09-27T10:02:54.767Z"
   },
   {
    "duration": 7,
    "start_time": "2022-09-27T10:03:45.371Z"
   },
   {
    "duration": 14,
    "start_time": "2022-09-27T10:03:46.756Z"
   },
   {
    "duration": 10,
    "start_time": "2022-09-27T10:04:23.270Z"
   },
   {
    "duration": 9,
    "start_time": "2022-09-27T10:05:09.318Z"
   },
   {
    "duration": 8,
    "start_time": "2022-09-27T10:05:13.581Z"
   },
   {
    "duration": 5,
    "start_time": "2022-09-27T10:05:26.201Z"
   },
   {
    "duration": 9,
    "start_time": "2022-09-27T10:06:10.359Z"
   },
   {
    "duration": 11,
    "start_time": "2022-09-27T10:06:54.591Z"
   },
   {
    "duration": 11,
    "start_time": "2022-09-27T10:06:59.086Z"
   },
   {
    "duration": 11,
    "start_time": "2022-09-27T10:12:38.571Z"
   },
   {
    "duration": 9,
    "start_time": "2022-09-27T10:13:17.531Z"
   },
   {
    "duration": 9,
    "start_time": "2022-09-27T10:13:30.617Z"
   },
   {
    "duration": 11,
    "start_time": "2022-09-27T10:14:58.613Z"
   },
   {
    "duration": 12,
    "start_time": "2022-09-27T10:15:15.922Z"
   },
   {
    "duration": 25,
    "start_time": "2022-09-27T10:15:22.384Z"
   },
   {
    "duration": 3,
    "start_time": "2022-09-27T10:17:16.955Z"
   },
   {
    "duration": 3,
    "start_time": "2022-09-27T10:17:18.214Z"
   },
   {
    "duration": 133,
    "start_time": "2022-09-27T10:17:18.390Z"
   },
   {
    "duration": 138,
    "start_time": "2022-09-27T10:17:18.557Z"
   },
   {
    "duration": 156,
    "start_time": "2022-09-27T10:17:18.878Z"
   },
   {
    "duration": 184,
    "start_time": "2022-09-27T10:17:20.146Z"
   },
   {
    "duration": 143,
    "start_time": "2022-09-27T10:17:21.190Z"
   },
   {
    "duration": 139,
    "start_time": "2022-09-27T10:17:21.427Z"
   },
   {
    "duration": 136,
    "start_time": "2022-09-27T10:17:21.619Z"
   },
   {
    "duration": 6,
    "start_time": "2022-09-27T10:17:21.834Z"
   },
   {
    "duration": 5,
    "start_time": "2022-09-27T10:17:22.062Z"
   },
   {
    "duration": 5,
    "start_time": "2022-09-27T10:17:22.567Z"
   },
   {
    "duration": 5,
    "start_time": "2022-09-27T10:17:22.770Z"
   },
   {
    "duration": 3,
    "start_time": "2022-09-27T10:17:24.058Z"
   },
   {
    "duration": 6,
    "start_time": "2022-09-27T10:17:24.242Z"
   },
   {
    "duration": 378,
    "start_time": "2022-09-27T10:17:24.427Z"
   },
   {
    "duration": 5,
    "start_time": "2022-09-27T10:17:25.062Z"
   },
   {
    "duration": 240,
    "start_time": "2022-09-27T10:17:25.533Z"
   },
   {
    "duration": 4,
    "start_time": "2022-09-27T10:17:32.587Z"
   },
   {
    "duration": 3,
    "start_time": "2022-09-27T10:17:34.601Z"
   },
   {
    "duration": 101,
    "start_time": "2022-09-27T10:17:35.351Z"
   },
   {
    "duration": 83,
    "start_time": "2022-09-27T10:17:35.950Z"
   },
   {
    "duration": 87,
    "start_time": "2022-09-27T10:17:36.306Z"
   },
   {
    "duration": 92,
    "start_time": "2022-09-27T10:17:36.480Z"
   },
   {
    "duration": 6,
    "start_time": "2022-09-27T10:17:36.822Z"
   },
   {
    "duration": 28,
    "start_time": "2022-09-27T10:17:53.079Z"
   },
   {
    "duration": 18,
    "start_time": "2022-09-27T10:17:56.016Z"
   },
   {
    "duration": 5,
    "start_time": "2022-09-27T10:18:18.518Z"
   },
   {
    "duration": 3,
    "start_time": "2022-09-27T10:18:22.171Z"
   },
   {
    "duration": 8,
    "start_time": "2022-09-27T10:18:55.092Z"
   },
   {
    "duration": 23,
    "start_time": "2022-09-27T10:18:55.485Z"
   },
   {
    "duration": 235,
    "start_time": "2022-09-27T10:18:57.960Z"
   },
   {
    "duration": 64,
    "start_time": "2022-09-27T10:19:04.481Z"
   },
   {
    "duration": 5,
    "start_time": "2022-09-27T10:19:05.844Z"
   },
   {
    "duration": 9,
    "start_time": "2022-09-27T10:19:14.243Z"
   },
   {
    "duration": 228,
    "start_time": "2022-09-27T10:19:14.784Z"
   },
   {
    "duration": 12,
    "start_time": "2022-09-27T10:19:38.113Z"
   },
   {
    "duration": 9,
    "start_time": "2022-09-27T10:20:10.327Z"
   },
   {
    "duration": 322,
    "start_time": "2022-09-27T10:20:11.769Z"
   },
   {
    "duration": 3,
    "start_time": "2022-09-27T10:27:05.986Z"
   },
   {
    "duration": 3,
    "start_time": "2022-09-27T10:27:06.383Z"
   },
   {
    "duration": 2,
    "start_time": "2022-09-27T10:27:06.746Z"
   },
   {
    "duration": 4,
    "start_time": "2022-09-27T10:27:07.101Z"
   },
   {
    "duration": 6,
    "start_time": "2022-09-27T10:27:07.310Z"
   },
   {
    "duration": 6,
    "start_time": "2022-09-27T10:27:07.905Z"
   },
   {
    "duration": 16,
    "start_time": "2022-09-27T10:27:08.603Z"
   },
   {
    "duration": 10600,
    "start_time": "2022-09-27T10:27:15.327Z"
   },
   {
    "duration": 3949332,
    "start_time": "2022-09-27T12:11:13.748Z"
   },
   {
    "duration": 3,
    "start_time": "2022-09-27T13:17:03.081Z"
   },
   {
    "duration": 6,
    "start_time": "2022-09-27T13:17:03.085Z"
   },
   {
    "duration": 0,
    "start_time": "2022-09-27T13:18:12.356Z"
   },
   {
    "duration": 0,
    "start_time": "2022-09-27T13:18:12.357Z"
   },
   {
    "duration": 0,
    "start_time": "2022-09-27T13:18:12.359Z"
   },
   {
    "duration": 0,
    "start_time": "2022-09-27T13:18:12.360Z"
   },
   {
    "duration": 1330,
    "start_time": "2022-09-27T13:22:23.064Z"
   },
   {
    "duration": 689,
    "start_time": "2022-09-27T13:22:24.396Z"
   },
   {
    "duration": 4,
    "start_time": "2022-09-27T13:22:25.087Z"
   },
   {
    "duration": 379,
    "start_time": "2022-09-27T13:22:25.092Z"
   },
   {
    "duration": 155,
    "start_time": "2022-09-27T13:22:25.473Z"
   },
   {
    "duration": 337,
    "start_time": "2022-09-27T13:22:25.629Z"
   },
   {
    "duration": 5,
    "start_time": "2022-09-27T13:22:25.967Z"
   },
   {
    "duration": 15,
    "start_time": "2022-09-27T13:22:25.973Z"
   },
   {
    "duration": 4,
    "start_time": "2022-09-27T13:22:25.990Z"
   },
   {
    "duration": 8,
    "start_time": "2022-09-27T13:22:26.011Z"
   },
   {
    "duration": 28,
    "start_time": "2022-09-27T13:22:26.021Z"
   },
   {
    "duration": 11,
    "start_time": "2022-09-27T13:22:26.051Z"
   },
   {
    "duration": 15,
    "start_time": "2022-09-27T13:22:26.063Z"
   },
   {
    "duration": 9,
    "start_time": "2022-09-27T13:22:26.079Z"
   },
   {
    "duration": 17,
    "start_time": "2022-09-27T13:22:26.089Z"
   },
   {
    "duration": 9,
    "start_time": "2022-09-27T13:22:26.108Z"
   },
   {
    "duration": 3,
    "start_time": "2022-09-27T13:22:26.119Z"
   },
   {
    "duration": 8,
    "start_time": "2022-09-27T13:22:26.124Z"
   },
   {
    "duration": 178,
    "start_time": "2022-09-27T13:22:26.133Z"
   },
   {
    "duration": 149,
    "start_time": "2022-09-27T13:22:26.313Z"
   },
   {
    "duration": 154,
    "start_time": "2022-09-27T13:22:26.464Z"
   },
   {
    "duration": 219,
    "start_time": "2022-09-27T13:22:26.620Z"
   },
   {
    "duration": 153,
    "start_time": "2022-09-27T13:22:26.841Z"
   },
   {
    "duration": 146,
    "start_time": "2022-09-27T13:22:26.995Z"
   },
   {
    "duration": 142,
    "start_time": "2022-09-27T13:22:27.143Z"
   },
   {
    "duration": 6,
    "start_time": "2022-09-27T13:22:27.286Z"
   },
   {
    "duration": 24,
    "start_time": "2022-09-27T13:22:27.293Z"
   },
   {
    "duration": 5,
    "start_time": "2022-09-27T13:22:27.321Z"
   },
   {
    "duration": 5,
    "start_time": "2022-09-27T13:22:27.328Z"
   },
   {
    "duration": 5,
    "start_time": "2022-09-27T13:22:27.334Z"
   },
   {
    "duration": 4,
    "start_time": "2022-09-27T13:22:27.340Z"
   },
   {
    "duration": 287,
    "start_time": "2022-09-27T13:22:27.346Z"
   },
   {
    "duration": 5,
    "start_time": "2022-09-27T13:22:27.635Z"
   },
   {
    "duration": 247,
    "start_time": "2022-09-27T13:22:27.641Z"
   },
   {
    "duration": 3,
    "start_time": "2022-09-27T13:22:27.889Z"
   },
   {
    "duration": 15,
    "start_time": "2022-09-27T13:22:27.894Z"
   },
   {
    "duration": 77,
    "start_time": "2022-09-27T13:22:27.910Z"
   },
   {
    "duration": 92,
    "start_time": "2022-09-27T13:22:27.988Z"
   },
   {
    "duration": 95,
    "start_time": "2022-09-27T13:22:28.082Z"
   },
   {
    "duration": 171,
    "start_time": "2022-09-27T13:22:28.179Z"
   },
   {
    "duration": 18,
    "start_time": "2022-09-27T13:22:28.352Z"
   },
   {
    "duration": 3,
    "start_time": "2022-09-27T13:22:28.372Z"
   },
   {
    "duration": 8,
    "start_time": "2022-09-27T13:22:28.377Z"
   },
   {
    "duration": 36,
    "start_time": "2022-09-27T13:22:28.387Z"
   },
   {
    "duration": 229,
    "start_time": "2022-09-27T13:22:28.425Z"
   },
   {
    "duration": 53,
    "start_time": "2022-09-27T13:22:28.656Z"
   },
   {
    "duration": 5,
    "start_time": "2022-09-27T13:22:28.711Z"
   },
   {
    "duration": 9,
    "start_time": "2022-09-27T13:22:28.717Z"
   },
   {
    "duration": 232,
    "start_time": "2022-09-27T13:22:28.727Z"
   },
   {
    "duration": 4,
    "start_time": "2022-09-27T13:22:28.960Z"
   },
   {
    "duration": 8,
    "start_time": "2022-09-27T13:22:28.965Z"
   },
   {
    "duration": 7,
    "start_time": "2022-09-27T13:22:28.974Z"
   },
   {
    "duration": 30,
    "start_time": "2022-09-27T13:22:28.982Z"
   },
   {
    "duration": 11,
    "start_time": "2022-09-27T13:22:29.013Z"
   },
   {
    "duration": 8,
    "start_time": "2022-09-27T13:22:29.026Z"
   },
   {
    "duration": 18,
    "start_time": "2022-09-27T13:22:29.036Z"
   },
   {
    "duration": 10822,
    "start_time": "2022-09-27T13:22:29.055Z"
   },
   {
    "duration": 3,
    "start_time": "2022-09-27T13:22:39.878Z"
   },
   {
    "duration": 3430,
    "start_time": "2022-09-27T13:22:39.883Z"
   },
   {
    "duration": 3,
    "start_time": "2022-09-27T13:22:43.317Z"
   },
   {
    "duration": 94,
    "start_time": "2022-09-27T13:22:43.322Z"
   },
   {
    "duration": 5,
    "start_time": "2022-09-27T13:22:43.418Z"
   },
   {
    "duration": 1409,
    "start_time": "2022-09-27T13:26:34.687Z"
   },
   {
    "duration": 695,
    "start_time": "2022-09-27T13:26:45.735Z"
   },
   {
    "duration": 4,
    "start_time": "2022-09-27T13:26:47.207Z"
   },
   {
    "duration": 344,
    "start_time": "2022-09-27T13:26:50.159Z"
   },
   {
    "duration": 141,
    "start_time": "2022-09-27T13:26:50.758Z"
   },
   {
    "duration": 340,
    "start_time": "2022-09-27T13:26:51.608Z"
   },
   {
    "duration": 6,
    "start_time": "2022-09-27T13:26:54.106Z"
   },
   {
    "duration": 12,
    "start_time": "2022-09-27T13:26:56.254Z"
   },
   {
    "duration": 4,
    "start_time": "2022-09-27T13:26:58.439Z"
   },
   {
    "duration": 7,
    "start_time": "2022-09-27T13:27:01.511Z"
   },
   {
    "duration": 13,
    "start_time": "2022-09-27T13:27:06.631Z"
   },
   {
    "duration": 3,
    "start_time": "2022-09-27T13:27:07.295Z"
   },
   {
    "duration": 9,
    "start_time": "2022-09-27T13:27:08.083Z"
   },
   {
    "duration": 9,
    "start_time": "2022-09-27T13:27:10.246Z"
   },
   {
    "duration": 16,
    "start_time": "2022-09-27T13:27:13.135Z"
   },
   {
    "duration": 9,
    "start_time": "2022-09-27T13:27:15.935Z"
   },
   {
    "duration": 4,
    "start_time": "2022-09-27T13:27:21.192Z"
   },
   {
    "duration": 3,
    "start_time": "2022-09-27T13:27:22.924Z"
   },
   {
    "duration": 143,
    "start_time": "2022-09-27T13:27:23.858Z"
   },
   {
    "duration": 161,
    "start_time": "2022-09-27T13:27:24.519Z"
   },
   {
    "duration": 137,
    "start_time": "2022-09-27T13:27:25.464Z"
   },
   {
    "duration": 199,
    "start_time": "2022-09-27T13:28:02.576Z"
   },
   {
    "duration": 149,
    "start_time": "2022-09-27T13:28:04.273Z"
   },
   {
    "duration": 141,
    "start_time": "2022-09-27T13:28:05.339Z"
   },
   {
    "duration": 137,
    "start_time": "2022-09-27T13:28:06.336Z"
   },
   {
    "duration": 139,
    "start_time": "2022-09-27T13:28:07.152Z"
   },
   {
    "duration": 5,
    "start_time": "2022-09-27T13:28:07.935Z"
   },
   {
    "duration": 5,
    "start_time": "2022-09-27T13:28:08.968Z"
   },
   {
    "duration": 5,
    "start_time": "2022-09-27T13:28:09.815Z"
   },
   {
    "duration": 5,
    "start_time": "2022-09-27T13:28:10.743Z"
   },
   {
    "duration": 4,
    "start_time": "2022-09-27T13:28:13.439Z"
   },
   {
    "duration": 4,
    "start_time": "2022-09-27T13:28:14.336Z"
   },
   {
    "duration": 268,
    "start_time": "2022-09-27T13:28:15.179Z"
   },
   {
    "duration": 4,
    "start_time": "2022-09-27T13:28:16.744Z"
   },
   {
    "duration": 246,
    "start_time": "2022-09-27T13:28:18.078Z"
   },
   {
    "duration": 3,
    "start_time": "2022-09-27T13:28:36.221Z"
   },
   {
    "duration": 3,
    "start_time": "2022-09-27T13:28:38.619Z"
   },
   {
    "duration": 75,
    "start_time": "2022-09-27T13:28:39.112Z"
   },
   {
    "duration": 82,
    "start_time": "2022-09-27T13:28:39.399Z"
   },
   {
    "duration": 163,
    "start_time": "2022-09-27T13:28:39.606Z"
   },
   {
    "duration": 82,
    "start_time": "2022-09-27T13:28:39.853Z"
   },
   {
    "duration": 19,
    "start_time": "2022-09-27T13:28:40.304Z"
   },
   {
    "duration": 3,
    "start_time": "2022-09-27T13:28:41.117Z"
   },
   {
    "duration": 7,
    "start_time": "2022-09-27T13:28:43.673Z"
   },
   {
    "duration": 22,
    "start_time": "2022-09-27T13:28:44.456Z"
   },
   {
    "duration": 229,
    "start_time": "2022-09-27T13:28:45.277Z"
   },
   {
    "duration": 46,
    "start_time": "2022-09-27T13:28:47.101Z"
   },
   {
    "duration": 5,
    "start_time": "2022-09-27T13:28:47.904Z"
   },
   {
    "duration": 8,
    "start_time": "2022-09-27T13:28:48.641Z"
   },
   {
    "duration": 210,
    "start_time": "2022-09-27T13:28:49.596Z"
   },
   {
    "duration": 3,
    "start_time": "2022-09-27T13:29:05.398Z"
   },
   {
    "duration": 2,
    "start_time": "2022-09-27T13:29:05.905Z"
   },
   {
    "duration": 2,
    "start_time": "2022-09-27T13:29:07.001Z"
   },
   {
    "duration": 4,
    "start_time": "2022-09-27T13:29:08.500Z"
   },
   {
    "duration": 5,
    "start_time": "2022-09-27T13:29:09.805Z"
   },
   {
    "duration": 5,
    "start_time": "2022-09-27T13:29:10.333Z"
   },
   {
    "duration": 16,
    "start_time": "2022-09-27T13:29:11.008Z"
   },
   {
    "duration": 13,
    "start_time": "2022-09-27T13:29:11.727Z"
   },
   {
    "duration": 47,
    "start_time": "2022-09-27T13:34:19.957Z"
   },
   {
    "duration": 13034,
    "start_time": "2022-09-27T13:34:30.664Z"
   },
   {
    "duration": 405,
    "start_time": "2022-09-27T13:34:43.700Z"
   },
   {
    "duration": 3,
    "start_time": "2022-09-27T13:35:01.510Z"
   },
   {
    "duration": 3,
    "start_time": "2022-09-27T13:35:49.970Z"
   },
   {
    "duration": 21,
    "start_time": "2022-09-27T13:35:51.774Z"
   },
   {
    "duration": 3,
    "start_time": "2022-09-27T13:37:16.917Z"
   },
   {
    "duration": 2208,
    "start_time": "2022-09-27T13:53:41.146Z"
   },
   {
    "duration": 1631,
    "start_time": "2022-09-27T13:53:44.333Z"
   },
   {
    "duration": 659,
    "start_time": "2022-09-27T13:53:48.456Z"
   },
   {
    "duration": 3,
    "start_time": "2022-09-27T13:53:49.117Z"
   },
   {
    "duration": 345,
    "start_time": "2022-09-27T13:53:49.132Z"
   },
   {
    "duration": 155,
    "start_time": "2022-09-27T13:53:49.479Z"
   },
   {
    "duration": 340,
    "start_time": "2022-09-27T13:53:49.636Z"
   },
   {
    "duration": 6,
    "start_time": "2022-09-27T13:54:10.355Z"
   },
   {
    "duration": 15,
    "start_time": "2022-09-27T13:54:11.592Z"
   },
   {
    "duration": 5,
    "start_time": "2022-09-27T13:54:11.767Z"
   },
   {
    "duration": 6,
    "start_time": "2022-09-27T13:54:12.377Z"
   },
   {
    "duration": 14,
    "start_time": "2022-09-27T13:54:12.951Z"
   },
   {
    "duration": 2,
    "start_time": "2022-09-27T13:54:13.115Z"
   },
   {
    "duration": 9,
    "start_time": "2022-09-27T13:54:13.264Z"
   },
   {
    "duration": 10,
    "start_time": "2022-09-27T13:54:13.711Z"
   },
   {
    "duration": 15,
    "start_time": "2022-09-27T13:54:14.029Z"
   },
   {
    "duration": 10,
    "start_time": "2022-09-27T13:54:14.331Z"
   },
   {
    "duration": 3,
    "start_time": "2022-09-27T13:54:15.668Z"
   },
   {
    "duration": 3,
    "start_time": "2022-09-27T13:54:15.985Z"
   },
   {
    "duration": 158,
    "start_time": "2022-09-27T13:54:16.168Z"
   },
   {
    "duration": 143,
    "start_time": "2022-09-27T13:54:16.327Z"
   },
   {
    "duration": 153,
    "start_time": "2022-09-27T13:54:16.501Z"
   },
   {
    "duration": 143,
    "start_time": "2022-09-27T13:54:16.823Z"
   },
   {
    "duration": 141,
    "start_time": "2022-09-27T13:54:17.016Z"
   },
   {
    "duration": 144,
    "start_time": "2022-09-27T13:54:17.237Z"
   },
   {
    "duration": 148,
    "start_time": "2022-09-27T13:54:17.387Z"
   },
   {
    "duration": 6,
    "start_time": "2022-09-27T13:54:17.592Z"
   },
   {
    "duration": 5,
    "start_time": "2022-09-27T13:54:17.781Z"
   },
   {
    "duration": 6,
    "start_time": "2022-09-27T13:54:18.017Z"
   },
   {
    "duration": 5,
    "start_time": "2022-09-27T13:54:18.211Z"
   },
   {
    "duration": 4,
    "start_time": "2022-09-27T13:54:19.451Z"
   },
   {
    "duration": 5,
    "start_time": "2022-09-27T13:54:19.661Z"
   },
   {
    "duration": 250,
    "start_time": "2022-09-27T13:54:20.079Z"
   },
   {
    "duration": 5,
    "start_time": "2022-09-27T13:54:20.563Z"
   },
   {
    "duration": 328,
    "start_time": "2022-09-27T13:54:21.094Z"
   },
   {
    "duration": 4,
    "start_time": "2022-09-27T13:54:25.908Z"
   },
   {
    "duration": 4,
    "start_time": "2022-09-27T13:54:27.743Z"
   },
   {
    "duration": 76,
    "start_time": "2022-09-27T13:54:27.911Z"
   },
   {
    "duration": 80,
    "start_time": "2022-09-27T13:54:28.112Z"
   },
   {
    "duration": 85,
    "start_time": "2022-09-27T13:54:28.247Z"
   },
   {
    "duration": 80,
    "start_time": "2022-09-27T13:54:28.416Z"
   },
   {
    "duration": 20,
    "start_time": "2022-09-27T13:54:28.766Z"
   },
   {
    "duration": 3,
    "start_time": "2022-09-27T13:54:28.929Z"
   },
   {
    "duration": 8,
    "start_time": "2022-09-27T13:54:30.463Z"
   },
   {
    "duration": 16,
    "start_time": "2022-09-27T13:54:30.799Z"
   },
   {
    "duration": 247,
    "start_time": "2022-09-27T13:54:31.147Z"
   },
   {
    "duration": 40,
    "start_time": "2022-09-27T13:54:31.889Z"
   },
   {
    "duration": 4,
    "start_time": "2022-09-27T13:54:32.131Z"
   },
   {
    "duration": 8,
    "start_time": "2022-09-27T13:54:32.457Z"
   },
   {
    "duration": 223,
    "start_time": "2022-09-27T13:54:32.719Z"
   },
   {
    "duration": 4,
    "start_time": "2022-09-27T13:54:35.835Z"
   },
   {
    "duration": 2,
    "start_time": "2022-09-27T13:54:36.084Z"
   },
   {
    "duration": 2,
    "start_time": "2022-09-27T13:54:36.899Z"
   },
   {
    "duration": 127,
    "start_time": "2022-09-27T13:56:40.049Z"
   },
   {
    "duration": 4,
    "start_time": "2022-09-27T13:56:45.001Z"
   },
   {
    "duration": 24,
    "start_time": "2022-09-27T13:56:45.717Z"
   },
   {
    "duration": 12,
    "start_time": "2022-09-27T13:56:54.342Z"
   },
   {
    "duration": 4,
    "start_time": "2022-09-27T13:58:38.647Z"
   },
   {
    "duration": 5,
    "start_time": "2022-09-27T13:58:41.003Z"
   },
   {
    "duration": 4,
    "start_time": "2022-09-27T13:58:48.082Z"
   },
   {
    "duration": 13,
    "start_time": "2022-09-27T13:58:48.677Z"
   },
   {
    "duration": 11,
    "start_time": "2022-09-27T14:00:31.461Z"
   },
   {
    "duration": 6,
    "start_time": "2022-09-27T14:01:14.238Z"
   },
   {
    "duration": 4,
    "start_time": "2022-09-27T14:01:14.873Z"
   },
   {
    "duration": 12,
    "start_time": "2022-09-27T14:01:15.529Z"
   },
   {
    "duration": 11,
    "start_time": "2022-09-27T14:01:16.888Z"
   },
   {
    "duration": 2221,
    "start_time": "2022-09-27T14:02:55.616Z"
   },
   {
    "duration": 1570,
    "start_time": "2022-09-27T14:02:57.840Z"
   },
   {
    "duration": 671,
    "start_time": "2022-09-27T14:02:59.412Z"
   },
   {
    "duration": 3,
    "start_time": "2022-09-27T14:03:00.085Z"
   },
   {
    "duration": 395,
    "start_time": "2022-09-27T14:03:00.089Z"
   },
   {
    "duration": 151,
    "start_time": "2022-09-27T14:03:00.486Z"
   },
   {
    "duration": 338,
    "start_time": "2022-09-27T14:03:00.639Z"
   },
   {
    "duration": 5,
    "start_time": "2022-09-27T14:03:00.979Z"
   },
   {
    "duration": 56,
    "start_time": "2022-09-27T14:03:00.985Z"
   },
   {
    "duration": 17,
    "start_time": "2022-09-27T14:03:01.043Z"
   },
   {
    "duration": 20,
    "start_time": "2022-09-27T14:03:01.062Z"
   },
   {
    "duration": 30,
    "start_time": "2022-09-27T14:03:01.084Z"
   },
   {
    "duration": 17,
    "start_time": "2022-09-27T14:03:01.115Z"
   },
   {
    "duration": 17,
    "start_time": "2022-09-27T14:03:01.134Z"
   },
   {
    "duration": 9,
    "start_time": "2022-09-27T14:03:01.152Z"
   },
   {
    "duration": 15,
    "start_time": "2022-09-27T14:03:01.163Z"
   },
   {
    "duration": 9,
    "start_time": "2022-09-27T14:03:01.179Z"
   },
   {
    "duration": 3,
    "start_time": "2022-09-27T14:03:01.189Z"
   },
   {
    "duration": 15,
    "start_time": "2022-09-27T14:03:01.194Z"
   },
   {
    "duration": 146,
    "start_time": "2022-09-27T14:03:01.210Z"
   },
   {
    "duration": 141,
    "start_time": "2022-09-27T14:03:01.358Z"
   },
   {
    "duration": 154,
    "start_time": "2022-09-27T14:03:01.501Z"
   },
   {
    "duration": 174,
    "start_time": "2022-09-27T14:03:01.657Z"
   },
   {
    "duration": 152,
    "start_time": "2022-09-27T14:03:01.833Z"
   },
   {
    "duration": 164,
    "start_time": "2022-09-27T14:03:01.987Z"
   },
   {
    "duration": 142,
    "start_time": "2022-09-27T14:03:02.152Z"
   },
   {
    "duration": 15,
    "start_time": "2022-09-27T14:03:02.295Z"
   },
   {
    "duration": 4,
    "start_time": "2022-09-27T14:03:02.314Z"
   },
   {
    "duration": 6,
    "start_time": "2022-09-27T14:03:02.320Z"
   },
   {
    "duration": 8,
    "start_time": "2022-09-27T14:03:02.328Z"
   },
   {
    "duration": 16,
    "start_time": "2022-09-27T14:03:02.337Z"
   },
   {
    "duration": 9,
    "start_time": "2022-09-27T14:03:02.355Z"
   },
   {
    "duration": 326,
    "start_time": "2022-09-27T14:03:02.365Z"
   },
   {
    "duration": 6,
    "start_time": "2022-09-27T14:03:02.692Z"
   },
   {
    "duration": 229,
    "start_time": "2022-09-27T14:03:02.708Z"
   },
   {
    "duration": 3,
    "start_time": "2022-09-27T14:03:02.938Z"
   },
   {
    "duration": 10,
    "start_time": "2022-09-27T14:03:02.943Z"
   },
   {
    "duration": 92,
    "start_time": "2022-09-27T14:03:02.954Z"
   },
   {
    "duration": 84,
    "start_time": "2022-09-27T14:03:03.048Z"
   },
   {
    "duration": 90,
    "start_time": "2022-09-27T14:03:03.134Z"
   },
   {
    "duration": 113,
    "start_time": "2022-09-27T14:03:03.226Z"
   },
   {
    "duration": 18,
    "start_time": "2022-09-27T14:03:03.340Z"
   },
   {
    "duration": 5,
    "start_time": "2022-09-27T14:03:03.359Z"
   },
   {
    "duration": 7,
    "start_time": "2022-09-27T14:03:03.366Z"
   },
   {
    "duration": 14,
    "start_time": "2022-09-27T14:03:03.375Z"
   },
   {
    "duration": 227,
    "start_time": "2022-09-27T14:03:03.409Z"
   },
   {
    "duration": 44,
    "start_time": "2022-09-27T14:03:03.638Z"
   },
   {
    "duration": 4,
    "start_time": "2022-09-27T14:03:03.684Z"
   },
   {
    "duration": 22,
    "start_time": "2022-09-27T14:03:03.690Z"
   },
   {
    "duration": 220,
    "start_time": "2022-09-27T14:03:03.713Z"
   },
   {
    "duration": 3,
    "start_time": "2022-09-27T14:03:03.934Z"
   },
   {
    "duration": 12,
    "start_time": "2022-09-27T14:03:03.938Z"
   },
   {
    "duration": 5,
    "start_time": "2022-09-27T14:03:03.952Z"
   },
   {
    "duration": 10,
    "start_time": "2022-09-27T14:03:03.958Z"
   },
   {
    "duration": 110,
    "start_time": "2022-09-27T14:03:03.969Z"
   },
   {
    "duration": 8,
    "start_time": "2022-09-27T14:03:04.080Z"
   },
   {
    "duration": 6,
    "start_time": "2022-09-27T14:03:04.089Z"
   },
   {
    "duration": 22,
    "start_time": "2022-09-27T14:03:04.096Z"
   },
   {
    "duration": 10,
    "start_time": "2022-09-27T14:03:04.119Z"
   },
   {
    "duration": 3,
    "start_time": "2022-09-27T14:03:04.130Z"
   },
   {
    "duration": 2894,
    "start_time": "2022-09-27T14:03:04.134Z"
   },
   {
    "duration": 144,
    "start_time": "2022-09-27T14:03:07.029Z"
   },
   {
    "duration": 0,
    "start_time": "2022-09-27T14:03:07.174Z"
   },
   {
    "duration": 0,
    "start_time": "2022-09-27T14:03:07.175Z"
   },
   {
    "duration": 0,
    "start_time": "2022-09-27T14:03:07.177Z"
   },
   {
    "duration": 0,
    "start_time": "2022-09-27T14:03:07.178Z"
   },
   {
    "duration": 0,
    "start_time": "2022-09-27T14:03:07.179Z"
   },
   {
    "duration": 0,
    "start_time": "2022-09-27T14:03:07.180Z"
   },
   {
    "duration": 0,
    "start_time": "2022-09-27T14:03:07.181Z"
   },
   {
    "duration": 0,
    "start_time": "2022-09-27T14:03:07.182Z"
   },
   {
    "duration": 0,
    "start_time": "2022-09-27T14:03:07.184Z"
   },
   {
    "duration": 0,
    "start_time": "2022-09-27T14:03:07.184Z"
   },
   {
    "duration": 0,
    "start_time": "2022-09-27T14:03:07.186Z"
   },
   {
    "duration": 0,
    "start_time": "2022-09-27T14:03:07.187Z"
   },
   {
    "duration": 0,
    "start_time": "2022-09-27T14:03:07.209Z"
   },
   {
    "duration": 0,
    "start_time": "2022-09-27T14:03:07.210Z"
   },
   {
    "duration": 2,
    "start_time": "2022-09-27T14:03:26.252Z"
   },
   {
    "duration": 57,
    "start_time": "2022-09-27T14:03:29.268Z"
   },
   {
    "duration": 4,
    "start_time": "2022-09-27T14:03:32.617Z"
   },
   {
    "duration": 42,
    "start_time": "2022-09-27T14:03:34.079Z"
   },
   {
    "duration": 3,
    "start_time": "2022-09-27T14:03:34.881Z"
   },
   {
    "duration": 3,
    "start_time": "2022-09-27T14:03:36.678Z"
   },
   {
    "duration": 3,
    "start_time": "2022-09-27T14:03:37.525Z"
   },
   {
    "duration": 660,
    "start_time": "2022-09-27T14:03:39.807Z"
   },
   {
    "duration": 9,
    "start_time": "2022-09-27T14:03:43.534Z"
   },
   {
    "duration": 3,
    "start_time": "2022-09-27T14:09:20.694Z"
   },
   {
    "duration": 3,
    "start_time": "2022-09-27T14:09:21.443Z"
   },
   {
    "duration": 1026,
    "start_time": "2022-09-27T14:09:23.683Z"
   },
   {
    "duration": 3,
    "start_time": "2022-09-27T14:10:05.492Z"
   },
   {
    "duration": 2,
    "start_time": "2022-09-27T14:10:08.008Z"
   },
   {
    "duration": 2,
    "start_time": "2022-09-27T14:10:08.570Z"
   },
   {
    "duration": 951,
    "start_time": "2022-09-27T14:10:10.089Z"
   },
   {
    "duration": 3,
    "start_time": "2022-09-27T14:11:01.867Z"
   },
   {
    "duration": 3,
    "start_time": "2022-09-27T14:11:02.485Z"
   },
   {
    "duration": 12800,
    "start_time": "2022-09-27T14:11:03.848Z"
   },
   {
    "duration": 2238,
    "start_time": "2022-09-27T14:12:33.050Z"
   },
   {
    "duration": 4,
    "start_time": "2022-09-27T14:12:35.290Z"
   },
   {
    "duration": 683,
    "start_time": "2022-09-27T14:12:35.295Z"
   },
   {
    "duration": 4,
    "start_time": "2022-09-27T14:12:35.980Z"
   },
   {
    "duration": 354,
    "start_time": "2022-09-27T14:12:35.985Z"
   },
   {
    "duration": 159,
    "start_time": "2022-09-27T14:12:36.341Z"
   },
   {
    "duration": 341,
    "start_time": "2022-09-27T14:12:36.509Z"
   },
   {
    "duration": 5,
    "start_time": "2022-09-27T14:12:36.852Z"
   },
   {
    "duration": 22,
    "start_time": "2022-09-27T14:12:36.858Z"
   },
   {
    "duration": 5,
    "start_time": "2022-09-27T14:12:36.884Z"
   },
   {
    "duration": 22,
    "start_time": "2022-09-27T14:12:36.891Z"
   },
   {
    "duration": 13,
    "start_time": "2022-09-27T14:12:36.914Z"
   },
   {
    "duration": 6,
    "start_time": "2022-09-27T14:12:36.929Z"
   },
   {
    "duration": 12,
    "start_time": "2022-09-27T14:12:36.936Z"
   },
   {
    "duration": 8,
    "start_time": "2022-09-27T14:12:36.949Z"
   },
   {
    "duration": 15,
    "start_time": "2022-09-27T14:12:36.958Z"
   },
   {
    "duration": 36,
    "start_time": "2022-09-27T14:12:36.974Z"
   },
   {
    "duration": 3,
    "start_time": "2022-09-27T14:12:37.011Z"
   },
   {
    "duration": 4,
    "start_time": "2022-09-27T14:12:37.015Z"
   },
   {
    "duration": 148,
    "start_time": "2022-09-27T14:12:37.020Z"
   },
   {
    "duration": 147,
    "start_time": "2022-09-27T14:12:37.170Z"
   },
   {
    "duration": 147,
    "start_time": "2022-09-27T14:12:37.319Z"
   },
   {
    "duration": 161,
    "start_time": "2022-09-27T14:12:37.468Z"
   },
   {
    "duration": 145,
    "start_time": "2022-09-27T14:12:37.631Z"
   },
   {
    "duration": 154,
    "start_time": "2022-09-27T14:12:37.778Z"
   },
   {
    "duration": 151,
    "start_time": "2022-09-27T14:12:37.934Z"
   },
   {
    "duration": 5,
    "start_time": "2022-09-27T14:12:38.087Z"
   },
   {
    "duration": 5,
    "start_time": "2022-09-27T14:12:38.110Z"
   },
   {
    "duration": 5,
    "start_time": "2022-09-27T14:12:38.117Z"
   },
   {
    "duration": 7,
    "start_time": "2022-09-27T14:12:38.123Z"
   },
   {
    "duration": 5,
    "start_time": "2022-09-27T14:12:38.131Z"
   },
   {
    "duration": 5,
    "start_time": "2022-09-27T14:12:38.137Z"
   },
   {
    "duration": 373,
    "start_time": "2022-09-27T14:12:38.144Z"
   },
   {
    "duration": 4,
    "start_time": "2022-09-27T14:12:38.518Z"
   },
   {
    "duration": 242,
    "start_time": "2022-09-27T14:12:38.524Z"
   },
   {
    "duration": 3,
    "start_time": "2022-09-27T14:12:38.768Z"
   },
   {
    "duration": 4,
    "start_time": "2022-09-27T14:12:38.772Z"
   },
   {
    "duration": 90,
    "start_time": "2022-09-27T14:12:38.777Z"
   },
   {
    "duration": 94,
    "start_time": "2022-09-27T14:12:38.868Z"
   },
   {
    "duration": 91,
    "start_time": "2022-09-27T14:12:38.963Z"
   },
   {
    "duration": 91,
    "start_time": "2022-09-27T14:12:39.055Z"
   },
   {
    "duration": 18,
    "start_time": "2022-09-27T14:12:39.148Z"
   },
   {
    "duration": 4,
    "start_time": "2022-09-27T14:12:39.167Z"
   },
   {
    "duration": 9,
    "start_time": "2022-09-27T14:12:39.172Z"
   },
   {
    "duration": 28,
    "start_time": "2022-09-27T14:12:39.182Z"
   },
   {
    "duration": 240,
    "start_time": "2022-09-27T14:12:39.212Z"
   },
   {
    "duration": 44,
    "start_time": "2022-09-27T14:12:39.453Z"
   },
   {
    "duration": 11,
    "start_time": "2022-09-27T14:12:39.499Z"
   },
   {
    "duration": 11,
    "start_time": "2022-09-27T14:12:39.511Z"
   },
   {
    "duration": 227,
    "start_time": "2022-09-27T14:12:39.523Z"
   },
   {
    "duration": 3,
    "start_time": "2022-09-27T14:12:39.751Z"
   },
   {
    "duration": 11,
    "start_time": "2022-09-27T14:12:39.755Z"
   },
   {
    "duration": 11,
    "start_time": "2022-09-27T14:12:39.767Z"
   },
   {
    "duration": 31,
    "start_time": "2022-09-27T14:12:39.779Z"
   },
   {
    "duration": 208,
    "start_time": "2022-09-27T14:12:39.811Z"
   },
   {
    "duration": 7,
    "start_time": "2022-09-27T14:12:40.020Z"
   },
   {
    "duration": 24,
    "start_time": "2022-09-27T14:12:40.028Z"
   },
   {
    "duration": 45,
    "start_time": "2022-09-27T14:12:40.054Z"
   },
   {
    "duration": 17,
    "start_time": "2022-09-27T14:12:40.101Z"
   },
   {
    "duration": 20,
    "start_time": "2022-09-27T14:12:40.119Z"
   },
   {
    "duration": 32,
    "start_time": "2022-09-27T14:12:40.141Z"
   },
   {
    "duration": 21,
    "start_time": "2022-09-27T14:12:40.175Z"
   },
   {
    "duration": 53,
    "start_time": "2022-09-27T14:12:40.197Z"
   },
   {
    "duration": 3,
    "start_time": "2022-09-27T14:12:40.251Z"
   },
   {
    "duration": 50,
    "start_time": "2022-09-27T14:12:40.256Z"
   },
   {
    "duration": 3,
    "start_time": "2022-09-27T14:12:40.308Z"
   },
   {
    "duration": 9,
    "start_time": "2022-09-27T14:12:40.313Z"
   },
   {
    "duration": 8,
    "start_time": "2022-09-27T14:12:40.324Z"
   },
   {
    "duration": 14199,
    "start_time": "2022-09-27T14:12:40.334Z"
   },
   {
    "duration": 0,
    "start_time": "2022-09-27T14:12:54.535Z"
   },
   {
    "duration": 0,
    "start_time": "2022-09-27T14:12:54.536Z"
   },
   {
    "duration": 0,
    "start_time": "2022-09-27T14:12:54.538Z"
   },
   {
    "duration": 0,
    "start_time": "2022-09-27T14:12:54.539Z"
   },
   {
    "duration": 0,
    "start_time": "2022-09-27T14:12:54.541Z"
   },
   {
    "duration": 0,
    "start_time": "2022-09-27T14:12:54.542Z"
   },
   {
    "duration": 0,
    "start_time": "2022-09-27T14:12:54.544Z"
   },
   {
    "duration": 5,
    "start_time": "2022-09-27T14:13:25.529Z"
   },
   {
    "duration": 7,
    "start_time": "2022-09-27T14:14:29.243Z"
   },
   {
    "duration": 5,
    "start_time": "2022-09-27T14:14:29.855Z"
   },
   {
    "duration": 14,
    "start_time": "2022-09-27T14:14:31.068Z"
   },
   {
    "duration": 13,
    "start_time": "2022-09-27T14:14:31.762Z"
   },
   {
    "duration": 2,
    "start_time": "2022-09-27T14:14:53.180Z"
   },
   {
    "duration": 2,
    "start_time": "2022-09-27T14:14:53.378Z"
   },
   {
    "duration": 3,
    "start_time": "2022-09-27T14:14:53.690Z"
   },
   {
    "duration": 46,
    "start_time": "2022-09-27T14:14:54.110Z"
   },
   {
    "duration": 2,
    "start_time": "2022-09-27T14:15:18.970Z"
   },
   {
    "duration": 10,
    "start_time": "2022-09-27T14:15:19.743Z"
   },
   {
    "duration": 55,
    "start_time": "2022-09-27T14:34:59.330Z"
   },
   {
    "duration": 7,
    "start_time": "2022-09-27T14:39:32.037Z"
   },
   {
    "duration": 2235,
    "start_time": "2022-09-27T14:39:36.405Z"
   },
   {
    "duration": 1581,
    "start_time": "2022-09-27T14:39:38.642Z"
   },
   {
    "duration": 647,
    "start_time": "2022-09-27T14:39:40.225Z"
   },
   {
    "duration": 4,
    "start_time": "2022-09-27T14:39:40.874Z"
   },
   {
    "duration": 350,
    "start_time": "2022-09-27T14:39:40.879Z"
   },
   {
    "duration": 150,
    "start_time": "2022-09-27T14:39:41.230Z"
   },
   {
    "duration": 381,
    "start_time": "2022-09-27T14:39:41.382Z"
   },
   {
    "duration": 6,
    "start_time": "2022-09-27T14:39:41.765Z"
   },
   {
    "duration": 16,
    "start_time": "2022-09-27T14:39:41.773Z"
   },
   {
    "duration": 19,
    "start_time": "2022-09-27T14:39:41.792Z"
   },
   {
    "duration": 16,
    "start_time": "2022-09-27T14:39:41.812Z"
   },
   {
    "duration": 13,
    "start_time": "2022-09-27T14:39:41.829Z"
   },
   {
    "duration": 7,
    "start_time": "2022-09-27T14:39:41.843Z"
   },
   {
    "duration": 10,
    "start_time": "2022-09-27T14:39:41.852Z"
   },
   {
    "duration": 8,
    "start_time": "2022-09-27T14:39:41.863Z"
   },
   {
    "duration": 37,
    "start_time": "2022-09-27T14:39:41.872Z"
   },
   {
    "duration": 9,
    "start_time": "2022-09-27T14:39:41.910Z"
   },
   {
    "duration": 3,
    "start_time": "2022-09-27T14:39:41.920Z"
   },
   {
    "duration": 8,
    "start_time": "2022-09-27T14:39:41.924Z"
   },
   {
    "duration": 156,
    "start_time": "2022-09-27T14:39:41.933Z"
   },
   {
    "duration": 140,
    "start_time": "2022-09-27T14:39:42.091Z"
   },
   {
    "duration": 144,
    "start_time": "2022-09-27T14:39:42.233Z"
   },
   {
    "duration": 162,
    "start_time": "2022-09-27T14:39:42.379Z"
   },
   {
    "duration": 147,
    "start_time": "2022-09-27T14:39:42.542Z"
   },
   {
    "duration": 177,
    "start_time": "2022-09-27T14:39:42.690Z"
   },
   {
    "duration": 184,
    "start_time": "2022-09-27T14:39:42.869Z"
   },
   {
    "duration": 6,
    "start_time": "2022-09-27T14:39:43.055Z"
   },
   {
    "duration": 12,
    "start_time": "2022-09-27T14:39:43.065Z"
   },
   {
    "duration": 5,
    "start_time": "2022-09-27T14:39:43.079Z"
   },
   {
    "duration": 23,
    "start_time": "2022-09-27T14:39:43.086Z"
   },
   {
    "duration": 3,
    "start_time": "2022-09-27T14:39:43.111Z"
   },
   {
    "duration": 6,
    "start_time": "2022-09-27T14:39:43.115Z"
   },
   {
    "duration": 338,
    "start_time": "2022-09-27T14:39:43.122Z"
   },
   {
    "duration": 4,
    "start_time": "2022-09-27T14:39:43.462Z"
   },
   {
    "duration": 245,
    "start_time": "2022-09-27T14:39:43.467Z"
   },
   {
    "duration": 3,
    "start_time": "2022-09-27T14:39:43.713Z"
   },
   {
    "duration": 5,
    "start_time": "2022-09-27T14:39:43.718Z"
   },
   {
    "duration": 86,
    "start_time": "2022-09-27T14:39:43.724Z"
   },
   {
    "duration": 81,
    "start_time": "2022-09-27T14:39:43.812Z"
   },
   {
    "duration": 85,
    "start_time": "2022-09-27T14:39:43.908Z"
   },
   {
    "duration": 90,
    "start_time": "2022-09-27T14:39:43.995Z"
   },
   {
    "duration": 33,
    "start_time": "2022-09-27T14:39:44.087Z"
   },
   {
    "duration": 6,
    "start_time": "2022-09-27T14:39:44.122Z"
   },
   {
    "duration": 8,
    "start_time": "2022-09-27T14:39:44.130Z"
   },
   {
    "duration": 15,
    "start_time": "2022-09-27T14:39:44.139Z"
   },
   {
    "duration": 242,
    "start_time": "2022-09-27T14:39:44.155Z"
   },
   {
    "duration": 61,
    "start_time": "2022-09-27T14:39:44.398Z"
   },
   {
    "duration": 7,
    "start_time": "2022-09-27T14:39:44.461Z"
   },
   {
    "duration": 21,
    "start_time": "2022-09-27T14:39:44.470Z"
   },
   {
    "duration": 277,
    "start_time": "2022-09-27T14:39:44.492Z"
   },
   {
    "duration": 3,
    "start_time": "2022-09-27T14:39:44.771Z"
   },
   {
    "duration": 9,
    "start_time": "2022-09-27T14:39:44.776Z"
   },
   {
    "duration": 4,
    "start_time": "2022-09-27T14:39:44.787Z"
   },
   {
    "duration": 17,
    "start_time": "2022-09-27T14:39:44.793Z"
   },
   {
    "duration": 108,
    "start_time": "2022-09-27T14:39:44.811Z"
   },
   {
    "duration": 7,
    "start_time": "2022-09-27T14:39:44.921Z"
   },
   {
    "duration": 11,
    "start_time": "2022-09-27T14:39:44.930Z"
   },
   {
    "duration": 102,
    "start_time": "2022-09-27T14:39:44.943Z"
   },
   {
    "duration": 0,
    "start_time": "2022-09-27T14:39:45.047Z"
   },
   {
    "duration": 0,
    "start_time": "2022-09-27T14:39:45.048Z"
   },
   {
    "duration": 0,
    "start_time": "2022-09-27T14:39:45.050Z"
   },
   {
    "duration": 0,
    "start_time": "2022-09-27T14:39:45.051Z"
   },
   {
    "duration": 0,
    "start_time": "2022-09-27T14:39:45.052Z"
   },
   {
    "duration": 0,
    "start_time": "2022-09-27T14:39:45.053Z"
   },
   {
    "duration": 0,
    "start_time": "2022-09-27T14:39:45.055Z"
   },
   {
    "duration": 0,
    "start_time": "2022-09-27T14:39:45.056Z"
   },
   {
    "duration": 0,
    "start_time": "2022-09-27T14:39:45.057Z"
   },
   {
    "duration": 0,
    "start_time": "2022-09-27T14:39:45.059Z"
   },
   {
    "duration": 0,
    "start_time": "2022-09-27T14:39:45.060Z"
   },
   {
    "duration": 0,
    "start_time": "2022-09-27T14:39:45.061Z"
   },
   {
    "duration": 0,
    "start_time": "2022-09-27T14:39:45.062Z"
   },
   {
    "duration": 0,
    "start_time": "2022-09-27T14:39:45.064Z"
   },
   {
    "duration": 0,
    "start_time": "2022-09-27T14:39:45.065Z"
   },
   {
    "duration": 0,
    "start_time": "2022-09-27T14:39:45.066Z"
   },
   {
    "duration": 0,
    "start_time": "2022-09-27T14:39:45.068Z"
   },
   {
    "duration": 0,
    "start_time": "2022-09-27T14:39:45.069Z"
   },
   {
    "duration": 10,
    "start_time": "2022-09-27T14:44:06.261Z"
   },
   {
    "duration": 5,
    "start_time": "2022-09-27T14:44:07.829Z"
   },
   {
    "duration": 3,
    "start_time": "2022-09-27T14:44:28.986Z"
   },
   {
    "duration": 10,
    "start_time": "2022-09-27T14:44:34.261Z"
   },
   {
    "duration": 14,
    "start_time": "2022-09-27T14:44:47.255Z"
   },
   {
    "duration": 34,
    "start_time": "2022-09-27T14:44:54.134Z"
   },
   {
    "duration": 12,
    "start_time": "2022-09-27T14:45:13.283Z"
   },
   {
    "duration": 17,
    "start_time": "2022-09-27T14:45:58.681Z"
   },
   {
    "duration": 3,
    "start_time": "2022-09-27T14:46:09.218Z"
   },
   {
    "duration": 2,
    "start_time": "2022-09-27T14:46:09.378Z"
   },
   {
    "duration": 2,
    "start_time": "2022-09-27T14:46:10.071Z"
   },
   {
    "duration": 13,
    "start_time": "2022-09-27T14:46:10.955Z"
   },
   {
    "duration": 1892,
    "start_time": "2022-09-27T14:46:30.203Z"
   },
   {
    "duration": 4,
    "start_time": "2022-09-27T14:46:42.670Z"
   },
   {
    "duration": 10,
    "start_time": "2022-09-27T14:46:44.143Z"
   },
   {
    "duration": 1021,
    "start_time": "2022-09-27T14:47:12.225Z"
   },
   {
    "duration": 3,
    "start_time": "2022-09-27T14:47:13.696Z"
   },
   {
    "duration": 10,
    "start_time": "2022-09-27T14:47:31.064Z"
   },
   {
    "duration": 3,
    "start_time": "2022-09-27T14:47:35.434Z"
   },
   {
    "duration": 4,
    "start_time": "2022-09-27T14:47:36.004Z"
   },
   {
    "duration": 2307,
    "start_time": "2022-09-27T15:19:03.535Z"
   },
   {
    "duration": 1579,
    "start_time": "2022-09-27T15:19:05.844Z"
   },
   {
    "duration": 641,
    "start_time": "2022-09-27T15:19:07.425Z"
   },
   {
    "duration": 3,
    "start_time": "2022-09-27T15:19:08.068Z"
   },
   {
    "duration": 357,
    "start_time": "2022-09-27T15:19:08.072Z"
   },
   {
    "duration": 158,
    "start_time": "2022-09-27T15:19:08.431Z"
   },
   {
    "duration": 339,
    "start_time": "2022-09-27T15:19:08.590Z"
   },
   {
    "duration": 6,
    "start_time": "2022-09-27T15:19:08.930Z"
   },
   {
    "duration": 15,
    "start_time": "2022-09-27T15:19:08.938Z"
   },
   {
    "duration": 3,
    "start_time": "2022-09-27T15:19:08.955Z"
   },
   {
    "duration": 8,
    "start_time": "2022-09-27T15:19:08.960Z"
   },
   {
    "duration": 40,
    "start_time": "2022-09-27T15:19:08.969Z"
   },
   {
    "duration": 2,
    "start_time": "2022-09-27T15:19:09.011Z"
   },
   {
    "duration": 15,
    "start_time": "2022-09-27T15:19:09.014Z"
   },
   {
    "duration": 8,
    "start_time": "2022-09-27T15:19:09.030Z"
   },
   {
    "duration": 17,
    "start_time": "2022-09-27T15:19:09.039Z"
   },
   {
    "duration": 9,
    "start_time": "2022-09-27T15:19:09.057Z"
   },
   {
    "duration": 2,
    "start_time": "2022-09-27T15:19:09.068Z"
   },
   {
    "duration": 6,
    "start_time": "2022-09-27T15:19:09.072Z"
   },
   {
    "duration": 162,
    "start_time": "2022-09-27T15:19:09.080Z"
   },
   {
    "duration": 143,
    "start_time": "2022-09-27T15:19:09.244Z"
   },
   {
    "duration": 147,
    "start_time": "2022-09-27T15:19:09.389Z"
   },
   {
    "duration": 153,
    "start_time": "2022-09-27T15:19:09.537Z"
   },
   {
    "duration": 146,
    "start_time": "2022-09-27T15:19:09.691Z"
   },
   {
    "duration": 153,
    "start_time": "2022-09-27T15:19:09.839Z"
   },
   {
    "duration": 157,
    "start_time": "2022-09-27T15:19:09.994Z"
   },
   {
    "duration": 7,
    "start_time": "2022-09-27T15:19:10.152Z"
   },
   {
    "duration": 5,
    "start_time": "2022-09-27T15:19:10.163Z"
   },
   {
    "duration": 6,
    "start_time": "2022-09-27T15:19:10.170Z"
   },
   {
    "duration": 5,
    "start_time": "2022-09-27T15:19:10.177Z"
   },
   {
    "duration": 25,
    "start_time": "2022-09-27T15:19:10.184Z"
   },
   {
    "duration": 6,
    "start_time": "2022-09-27T15:19:10.210Z"
   },
   {
    "duration": 344,
    "start_time": "2022-09-27T15:19:10.218Z"
   },
   {
    "duration": 4,
    "start_time": "2022-09-27T15:19:10.564Z"
   },
   {
    "duration": 248,
    "start_time": "2022-09-27T15:19:10.569Z"
   },
   {
    "duration": 3,
    "start_time": "2022-09-27T15:19:10.818Z"
   },
   {
    "duration": 12,
    "start_time": "2022-09-27T15:19:10.823Z"
   },
   {
    "duration": 85,
    "start_time": "2022-09-27T15:19:10.836Z"
   },
   {
    "duration": 90,
    "start_time": "2022-09-27T15:19:10.923Z"
   },
   {
    "duration": 100,
    "start_time": "2022-09-27T15:19:11.014Z"
   },
   {
    "duration": 96,
    "start_time": "2022-09-27T15:19:11.116Z"
   },
   {
    "duration": 21,
    "start_time": "2022-09-27T15:19:11.214Z"
   },
   {
    "duration": 3,
    "start_time": "2022-09-27T15:19:11.237Z"
   },
   {
    "duration": 13,
    "start_time": "2022-09-27T15:19:11.241Z"
   },
   {
    "duration": 16,
    "start_time": "2022-09-27T15:19:11.256Z"
   },
   {
    "duration": 269,
    "start_time": "2022-09-27T15:19:11.274Z"
   },
   {
    "duration": 49,
    "start_time": "2022-09-27T15:19:11.545Z"
   },
   {
    "duration": 16,
    "start_time": "2022-09-27T15:19:11.596Z"
   },
   {
    "duration": 10,
    "start_time": "2022-09-27T15:19:11.613Z"
   },
   {
    "duration": 239,
    "start_time": "2022-09-27T15:19:11.625Z"
   },
   {
    "duration": 3,
    "start_time": "2022-09-27T15:19:11.865Z"
   },
   {
    "duration": 6,
    "start_time": "2022-09-27T15:19:11.869Z"
   },
   {
    "duration": 6,
    "start_time": "2022-09-27T15:19:11.876Z"
   },
   {
    "duration": 11,
    "start_time": "2022-09-27T15:19:11.884Z"
   },
   {
    "duration": 21,
    "start_time": "2022-09-27T15:19:11.896Z"
   },
   {
    "duration": 6,
    "start_time": "2022-09-27T15:19:11.919Z"
   },
   {
    "duration": 27,
    "start_time": "2022-09-27T15:19:11.927Z"
   },
   {
    "duration": 2,
    "start_time": "2022-09-27T15:19:11.956Z"
   },
   {
    "duration": 115,
    "start_time": "2022-09-27T15:19:11.960Z"
   },
   {
    "duration": 2,
    "start_time": "2022-09-27T15:19:12.077Z"
   },
   {
    "duration": 15,
    "start_time": "2022-09-27T15:19:12.081Z"
   },
   {
    "duration": 4,
    "start_time": "2022-09-27T15:19:12.097Z"
   },
   {
    "duration": 1660,
    "start_time": "2022-09-27T15:19:12.103Z"
   },
   {
    "duration": 3,
    "start_time": "2022-09-27T15:19:13.764Z"
   },
   {
    "duration": 658,
    "start_time": "2022-09-27T15:19:13.769Z"
   },
   {
    "duration": 3,
    "start_time": "2022-09-27T15:19:14.429Z"
   },
   {
    "duration": 17,
    "start_time": "2022-09-27T15:19:14.434Z"
   },
   {
    "duration": 20,
    "start_time": "2022-09-27T15:19:14.454Z"
   },
   {
    "duration": 2216,
    "start_time": "2022-09-27T15:23:43.383Z"
   },
   {
    "duration": 1603,
    "start_time": "2022-09-27T15:23:45.602Z"
   },
   {
    "duration": 629,
    "start_time": "2022-09-27T15:23:47.207Z"
   },
   {
    "duration": 4,
    "start_time": "2022-09-27T15:23:47.838Z"
   },
   {
    "duration": 345,
    "start_time": "2022-09-27T15:23:47.844Z"
   },
   {
    "duration": 154,
    "start_time": "2022-09-27T15:23:48.191Z"
   },
   {
    "duration": 346,
    "start_time": "2022-09-27T15:23:48.347Z"
   },
   {
    "duration": 15,
    "start_time": "2022-09-27T15:23:48.695Z"
   },
   {
    "duration": 11,
    "start_time": "2022-09-27T15:23:48.711Z"
   },
   {
    "duration": 5,
    "start_time": "2022-09-27T15:23:48.724Z"
   },
   {
    "duration": 21,
    "start_time": "2022-09-27T15:23:48.730Z"
   },
   {
    "duration": 13,
    "start_time": "2022-09-27T15:23:48.753Z"
   },
   {
    "duration": 8,
    "start_time": "2022-09-27T15:23:48.767Z"
   },
   {
    "duration": 17,
    "start_time": "2022-09-27T15:23:48.776Z"
   },
   {
    "duration": 20,
    "start_time": "2022-09-27T15:23:48.794Z"
   },
   {
    "duration": 15,
    "start_time": "2022-09-27T15:23:48.815Z"
   },
   {
    "duration": 9,
    "start_time": "2022-09-27T15:23:48.831Z"
   },
   {
    "duration": 2,
    "start_time": "2022-09-27T15:23:48.842Z"
   },
   {
    "duration": 13,
    "start_time": "2022-09-27T15:23:48.846Z"
   },
   {
    "duration": 163,
    "start_time": "2022-09-27T15:23:48.860Z"
   },
   {
    "duration": 143,
    "start_time": "2022-09-27T15:23:49.025Z"
   },
   {
    "duration": 158,
    "start_time": "2022-09-27T15:23:49.170Z"
   },
   {
    "duration": 184,
    "start_time": "2022-09-27T15:23:49.330Z"
   },
   {
    "duration": 148,
    "start_time": "2022-09-27T15:23:49.516Z"
   },
   {
    "duration": 147,
    "start_time": "2022-09-27T15:23:49.666Z"
   },
   {
    "duration": 147,
    "start_time": "2022-09-27T15:23:49.815Z"
   },
   {
    "duration": 6,
    "start_time": "2022-09-27T15:23:49.964Z"
   },
   {
    "duration": 4,
    "start_time": "2022-09-27T15:23:49.974Z"
   },
   {
    "duration": 7,
    "start_time": "2022-09-27T15:23:49.979Z"
   },
   {
    "duration": 25,
    "start_time": "2022-09-27T15:23:49.987Z"
   },
   {
    "duration": 3,
    "start_time": "2022-09-27T15:23:50.014Z"
   },
   {
    "duration": 5,
    "start_time": "2022-09-27T15:23:50.018Z"
   },
   {
    "duration": 347,
    "start_time": "2022-09-27T15:23:50.024Z"
   },
   {
    "duration": 4,
    "start_time": "2022-09-27T15:23:50.373Z"
   },
   {
    "duration": 245,
    "start_time": "2022-09-27T15:23:50.379Z"
   },
   {
    "duration": 3,
    "start_time": "2022-09-27T15:23:50.625Z"
   },
   {
    "duration": 5,
    "start_time": "2022-09-27T15:23:50.629Z"
   },
   {
    "duration": 87,
    "start_time": "2022-09-27T15:23:50.635Z"
   },
   {
    "duration": 94,
    "start_time": "2022-09-27T15:23:50.723Z"
   },
   {
    "duration": 101,
    "start_time": "2022-09-27T15:23:50.818Z"
   },
   {
    "duration": 93,
    "start_time": "2022-09-27T15:23:50.922Z"
   },
   {
    "duration": 22,
    "start_time": "2022-09-27T15:23:51.017Z"
   },
   {
    "duration": 5,
    "start_time": "2022-09-27T15:23:51.041Z"
   },
   {
    "duration": 10,
    "start_time": "2022-09-27T15:23:51.047Z"
   },
   {
    "duration": 16,
    "start_time": "2022-09-27T15:23:51.059Z"
   },
   {
    "duration": 264,
    "start_time": "2022-09-27T15:23:51.077Z"
   },
   {
    "duration": 46,
    "start_time": "2022-09-27T15:23:51.342Z"
   },
   {
    "duration": 5,
    "start_time": "2022-09-27T15:23:51.389Z"
   },
   {
    "duration": 8,
    "start_time": "2022-09-27T15:23:51.409Z"
   },
   {
    "duration": 226,
    "start_time": "2022-09-27T15:23:51.419Z"
   },
   {
    "duration": 3,
    "start_time": "2022-09-27T15:23:51.646Z"
   },
   {
    "duration": 5,
    "start_time": "2022-09-27T15:23:51.650Z"
   },
   {
    "duration": 5,
    "start_time": "2022-09-27T15:23:51.656Z"
   },
   {
    "duration": 4,
    "start_time": "2022-09-27T15:23:51.663Z"
   },
   {
    "duration": 11,
    "start_time": "2022-09-27T15:23:51.668Z"
   },
   {
    "duration": 7,
    "start_time": "2022-09-27T15:23:51.680Z"
   },
   {
    "duration": 22,
    "start_time": "2022-09-27T15:23:51.688Z"
   },
   {
    "duration": 2,
    "start_time": "2022-09-27T15:23:51.711Z"
   },
   {
    "duration": 102,
    "start_time": "2022-09-27T15:23:51.715Z"
   },
   {
    "duration": 2,
    "start_time": "2022-09-27T15:23:51.818Z"
   },
   {
    "duration": 6,
    "start_time": "2022-09-27T15:23:51.822Z"
   },
   {
    "duration": 5,
    "start_time": "2022-09-27T15:23:51.829Z"
   },
   {
    "duration": 1705,
    "start_time": "2022-09-27T15:23:51.836Z"
   },
   {
    "duration": 4,
    "start_time": "2022-09-27T15:23:53.542Z"
   },
   {
    "duration": 576,
    "start_time": "2022-09-27T15:23:53.547Z"
   },
   {
    "duration": 3,
    "start_time": "2022-09-27T15:23:54.124Z"
   },
   {
    "duration": 14,
    "start_time": "2022-09-27T15:23:54.129Z"
   },
   {
    "duration": 7,
    "start_time": "2022-09-27T15:23:54.144Z"
   },
   {
    "duration": 2223,
    "start_time": "2022-09-27T15:35:05.085Z"
   },
   {
    "duration": 1629,
    "start_time": "2022-09-27T15:35:07.310Z"
   },
   {
    "duration": 670,
    "start_time": "2022-09-27T15:35:08.941Z"
   },
   {
    "duration": 4,
    "start_time": "2022-09-27T15:35:09.613Z"
   },
   {
    "duration": 361,
    "start_time": "2022-09-27T15:35:09.618Z"
   },
   {
    "duration": 153,
    "start_time": "2022-09-27T15:35:09.980Z"
   },
   {
    "duration": 345,
    "start_time": "2022-09-27T15:35:10.134Z"
   },
   {
    "duration": 6,
    "start_time": "2022-09-27T15:35:10.480Z"
   },
   {
    "duration": 22,
    "start_time": "2022-09-27T15:35:10.488Z"
   },
   {
    "duration": 4,
    "start_time": "2022-09-27T15:35:10.512Z"
   },
   {
    "duration": 13,
    "start_time": "2022-09-27T15:35:10.518Z"
   },
   {
    "duration": 13,
    "start_time": "2022-09-27T15:35:10.532Z"
   },
   {
    "duration": 5,
    "start_time": "2022-09-27T15:35:10.546Z"
   },
   {
    "duration": 18,
    "start_time": "2022-09-27T15:35:10.553Z"
   },
   {
    "duration": 12,
    "start_time": "2022-09-27T15:35:10.573Z"
   },
   {
    "duration": 38,
    "start_time": "2022-09-27T15:35:10.587Z"
   },
   {
    "duration": 10,
    "start_time": "2022-09-27T15:35:10.627Z"
   },
   {
    "duration": 3,
    "start_time": "2022-09-27T15:35:10.639Z"
   },
   {
    "duration": 6,
    "start_time": "2022-09-27T15:35:10.643Z"
   },
   {
    "duration": 166,
    "start_time": "2022-09-27T15:35:10.650Z"
   },
   {
    "duration": 140,
    "start_time": "2022-09-27T15:35:10.817Z"
   },
   {
    "duration": 154,
    "start_time": "2022-09-27T15:35:10.959Z"
   },
   {
    "duration": 149,
    "start_time": "2022-09-27T15:35:11.114Z"
   },
   {
    "duration": 158,
    "start_time": "2022-09-27T15:35:11.265Z"
   },
   {
    "duration": 151,
    "start_time": "2022-09-27T15:35:11.424Z"
   },
   {
    "duration": 184,
    "start_time": "2022-09-27T15:35:11.577Z"
   },
   {
    "duration": 7,
    "start_time": "2022-09-27T15:35:11.763Z"
   },
   {
    "duration": 7,
    "start_time": "2022-09-27T15:35:11.773Z"
   },
   {
    "duration": 31,
    "start_time": "2022-09-27T15:35:11.781Z"
   },
   {
    "duration": 8,
    "start_time": "2022-09-27T15:35:11.814Z"
   },
   {
    "duration": 8,
    "start_time": "2022-09-27T15:35:11.823Z"
   },
   {
    "duration": 7,
    "start_time": "2022-09-27T15:35:11.832Z"
   },
   {
    "duration": 368,
    "start_time": "2022-09-27T15:35:11.841Z"
   },
   {
    "duration": 5,
    "start_time": "2022-09-27T15:35:12.210Z"
   },
   {
    "duration": 293,
    "start_time": "2022-09-27T15:35:12.217Z"
   },
   {
    "duration": 3,
    "start_time": "2022-09-27T15:35:12.512Z"
   },
   {
    "duration": 6,
    "start_time": "2022-09-27T15:35:12.516Z"
   },
   {
    "duration": 89,
    "start_time": "2022-09-27T15:35:12.524Z"
   },
   {
    "duration": 81,
    "start_time": "2022-09-27T15:35:12.615Z"
   },
   {
    "duration": 87,
    "start_time": "2022-09-27T15:35:12.708Z"
   },
   {
    "duration": 78,
    "start_time": "2022-09-27T15:35:12.809Z"
   },
   {
    "duration": 34,
    "start_time": "2022-09-27T15:35:12.889Z"
   },
   {
    "duration": 5,
    "start_time": "2022-09-27T15:35:12.924Z"
   },
   {
    "duration": 11,
    "start_time": "2022-09-27T15:35:12.930Z"
   },
   {
    "duration": 15,
    "start_time": "2022-09-27T15:35:12.943Z"
   },
   {
    "duration": 253,
    "start_time": "2022-09-27T15:35:12.959Z"
   },
   {
    "duration": 47,
    "start_time": "2022-09-27T15:35:13.213Z"
   },
   {
    "duration": 5,
    "start_time": "2022-09-27T15:35:13.262Z"
   },
   {
    "duration": 15,
    "start_time": "2022-09-27T15:35:13.268Z"
   },
   {
    "duration": 233,
    "start_time": "2022-09-27T15:35:13.285Z"
   },
   {
    "duration": 3,
    "start_time": "2022-09-27T15:35:13.520Z"
   },
   {
    "duration": 5,
    "start_time": "2022-09-27T15:35:13.524Z"
   },
   {
    "duration": 11,
    "start_time": "2022-09-27T15:35:13.530Z"
   },
   {
    "duration": 5,
    "start_time": "2022-09-27T15:35:13.543Z"
   },
   {
    "duration": 10,
    "start_time": "2022-09-27T15:35:13.550Z"
   },
   {
    "duration": 7,
    "start_time": "2022-09-27T15:35:13.562Z"
   },
   {
    "duration": 12,
    "start_time": "2022-09-27T15:35:13.570Z"
   },
   {
    "duration": 2,
    "start_time": "2022-09-27T15:35:13.583Z"
   },
   {
    "duration": 124,
    "start_time": "2022-09-27T15:35:13.587Z"
   },
   {
    "duration": 2,
    "start_time": "2022-09-27T15:35:13.713Z"
   },
   {
    "duration": 10,
    "start_time": "2022-09-27T15:35:13.716Z"
   },
   {
    "duration": 7,
    "start_time": "2022-09-27T15:35:13.728Z"
   },
   {
    "duration": 1734,
    "start_time": "2022-09-27T15:35:13.737Z"
   },
   {
    "duration": 3,
    "start_time": "2022-09-27T15:35:15.473Z"
   },
   {
    "duration": 550,
    "start_time": "2022-09-27T15:35:15.477Z"
   },
   {
    "duration": 3,
    "start_time": "2022-09-27T15:35:16.029Z"
   },
   {
    "duration": 7,
    "start_time": "2022-09-27T15:35:16.034Z"
   },
   {
    "duration": 7,
    "start_time": "2022-09-27T15:35:16.042Z"
   },
   {
    "duration": 2242,
    "start_time": "2022-09-27T15:56:15.760Z"
   },
   {
    "duration": 1606,
    "start_time": "2022-09-27T15:56:18.004Z"
   },
   {
    "duration": 656,
    "start_time": "2022-09-27T15:56:19.612Z"
   },
   {
    "duration": 4,
    "start_time": "2022-09-27T15:56:20.270Z"
   },
   {
    "duration": 360,
    "start_time": "2022-09-27T15:56:20.275Z"
   },
   {
    "duration": 151,
    "start_time": "2022-09-27T15:56:20.637Z"
   },
   {
    "duration": 345,
    "start_time": "2022-09-27T15:56:20.790Z"
   },
   {
    "duration": 6,
    "start_time": "2022-09-27T15:56:21.136Z"
   },
   {
    "duration": 15,
    "start_time": "2022-09-27T15:56:21.143Z"
   },
   {
    "duration": 4,
    "start_time": "2022-09-27T15:56:21.160Z"
   },
   {
    "duration": 9,
    "start_time": "2022-09-27T15:56:21.166Z"
   },
   {
    "duration": 36,
    "start_time": "2022-09-27T15:56:21.177Z"
   },
   {
    "duration": 4,
    "start_time": "2022-09-27T15:56:21.214Z"
   },
   {
    "duration": 10,
    "start_time": "2022-09-27T15:56:21.219Z"
   },
   {
    "duration": 8,
    "start_time": "2022-09-27T15:56:21.230Z"
   },
   {
    "duration": 14,
    "start_time": "2022-09-27T15:56:21.239Z"
   },
   {
    "duration": 9,
    "start_time": "2022-09-27T15:56:21.254Z"
   },
   {
    "duration": 4,
    "start_time": "2022-09-27T15:56:21.265Z"
   },
   {
    "duration": 8,
    "start_time": "2022-09-27T15:56:21.270Z"
   },
   {
    "duration": 147,
    "start_time": "2022-09-27T15:56:21.309Z"
   },
   {
    "duration": 158,
    "start_time": "2022-09-27T15:56:21.458Z"
   },
   {
    "duration": 147,
    "start_time": "2022-09-27T15:56:21.618Z"
   },
   {
    "duration": 158,
    "start_time": "2022-09-27T15:56:21.766Z"
   },
   {
    "duration": 151,
    "start_time": "2022-09-27T15:56:21.926Z"
   },
   {
    "duration": 153,
    "start_time": "2022-09-27T15:56:22.078Z"
   },
   {
    "duration": 138,
    "start_time": "2022-09-27T15:56:22.233Z"
   },
   {
    "duration": 5,
    "start_time": "2022-09-27T15:56:22.372Z"
   },
   {
    "duration": 5,
    "start_time": "2022-09-27T15:56:22.381Z"
   },
   {
    "duration": 25,
    "start_time": "2022-09-27T15:56:22.387Z"
   },
   {
    "duration": 7,
    "start_time": "2022-09-27T15:56:22.413Z"
   },
   {
    "duration": 3,
    "start_time": "2022-09-27T15:56:22.422Z"
   },
   {
    "duration": 5,
    "start_time": "2022-09-27T15:56:22.426Z"
   },
   {
    "duration": 359,
    "start_time": "2022-09-27T15:56:22.432Z"
   },
   {
    "duration": 5,
    "start_time": "2022-09-27T15:56:22.792Z"
   },
   {
    "duration": 247,
    "start_time": "2022-09-27T15:56:22.798Z"
   },
   {
    "duration": 3,
    "start_time": "2022-09-27T15:56:23.046Z"
   },
   {
    "duration": 5,
    "start_time": "2022-09-27T15:56:23.051Z"
   },
   {
    "duration": 88,
    "start_time": "2022-09-27T15:56:23.057Z"
   },
   {
    "duration": 92,
    "start_time": "2022-09-27T15:56:23.146Z"
   },
   {
    "duration": 103,
    "start_time": "2022-09-27T15:56:23.240Z"
   },
   {
    "duration": 88,
    "start_time": "2022-09-27T15:56:23.345Z"
   },
   {
    "duration": 19,
    "start_time": "2022-09-27T15:56:23.434Z"
   },
   {
    "duration": 4,
    "start_time": "2022-09-27T15:56:23.454Z"
   },
   {
    "duration": 7,
    "start_time": "2022-09-27T15:56:23.460Z"
   },
   {
    "duration": 16,
    "start_time": "2022-09-27T15:56:23.468Z"
   },
   {
    "duration": 243,
    "start_time": "2022-09-27T15:56:23.485Z"
   },
   {
    "duration": 46,
    "start_time": "2022-09-27T15:56:23.730Z"
   },
   {
    "duration": 5,
    "start_time": "2022-09-27T15:56:23.778Z"
   },
   {
    "duration": 29,
    "start_time": "2022-09-27T15:56:23.785Z"
   },
   {
    "duration": 219,
    "start_time": "2022-09-27T15:56:23.815Z"
   },
   {
    "duration": 4,
    "start_time": "2022-09-27T15:56:24.036Z"
   },
   {
    "duration": 4,
    "start_time": "2022-09-27T15:56:24.041Z"
   },
   {
    "duration": 5,
    "start_time": "2022-09-27T15:56:24.047Z"
   },
   {
    "duration": 6,
    "start_time": "2022-09-27T15:56:24.053Z"
   },
   {
    "duration": 7,
    "start_time": "2022-09-27T15:56:24.060Z"
   },
   {
    "duration": 7,
    "start_time": "2022-09-27T15:56:24.068Z"
   },
   {
    "duration": 7,
    "start_time": "2022-09-27T15:56:24.076Z"
   },
   {
    "duration": 25,
    "start_time": "2022-09-27T15:56:24.084Z"
   },
   {
    "duration": 125,
    "start_time": "2022-09-27T15:56:24.110Z"
   },
   {
    "duration": 0,
    "start_time": "2022-09-27T15:56:24.236Z"
   },
   {
    "duration": 0,
    "start_time": "2022-09-27T15:56:24.237Z"
   },
   {
    "duration": 0,
    "start_time": "2022-09-27T15:56:24.238Z"
   },
   {
    "duration": 0,
    "start_time": "2022-09-27T15:56:24.239Z"
   },
   {
    "duration": 0,
    "start_time": "2022-09-27T15:56:24.240Z"
   },
   {
    "duration": 0,
    "start_time": "2022-09-27T15:56:24.241Z"
   },
   {
    "duration": 0,
    "start_time": "2022-09-27T15:56:24.242Z"
   },
   {
    "duration": 0,
    "start_time": "2022-09-27T15:56:24.346Z"
   },
   {
    "duration": 0,
    "start_time": "2022-09-27T15:56:24.347Z"
   },
   {
    "duration": 0,
    "start_time": "2022-09-27T15:56:24.348Z"
   },
   {
    "duration": 0,
    "start_time": "2022-09-27T15:56:24.349Z"
   },
   {
    "duration": 0,
    "start_time": "2022-09-27T15:56:24.349Z"
   },
   {
    "duration": 0,
    "start_time": "2022-09-27T15:56:24.350Z"
   },
   {
    "duration": 0,
    "start_time": "2022-09-27T15:56:24.351Z"
   },
   {
    "duration": 0,
    "start_time": "2022-09-27T15:56:24.352Z"
   },
   {
    "duration": 0,
    "start_time": "2022-09-27T15:56:24.352Z"
   },
   {
    "duration": 0,
    "start_time": "2022-09-27T15:56:24.354Z"
   },
   {
    "duration": 4,
    "start_time": "2022-09-27T15:56:47.198Z"
   },
   {
    "duration": 9,
    "start_time": "2022-09-27T15:57:02.725Z"
   },
   {
    "duration": 6,
    "start_time": "2022-09-27T15:57:58.506Z"
   },
   {
    "duration": 29,
    "start_time": "2022-09-27T15:58:03.667Z"
   },
   {
    "duration": 15,
    "start_time": "2022-09-27T15:58:12.378Z"
   },
   {
    "duration": 8,
    "start_time": "2022-09-27T15:59:14.591Z"
   },
   {
    "duration": 36,
    "start_time": "2022-09-27T15:59:15.546Z"
   },
   {
    "duration": 12,
    "start_time": "2022-09-27T15:59:26.655Z"
   },
   {
    "duration": 6,
    "start_time": "2022-09-27T15:59:47.555Z"
   },
   {
    "duration": 6,
    "start_time": "2022-09-27T16:00:13.143Z"
   },
   {
    "duration": 9,
    "start_time": "2022-09-27T16:00:15.351Z"
   },
   {
    "duration": 9,
    "start_time": "2022-09-27T16:00:19.808Z"
   },
   {
    "duration": 8,
    "start_time": "2022-09-27T16:00:35.412Z"
   },
   {
    "duration": 6,
    "start_time": "2022-09-27T16:00:35.943Z"
   },
   {
    "duration": 14,
    "start_time": "2022-09-27T16:00:42.015Z"
   },
   {
    "duration": 49,
    "start_time": "2022-09-27T16:00:49.268Z"
   },
   {
    "duration": 46,
    "start_time": "2022-09-27T16:01:00.134Z"
   },
   {
    "duration": 6,
    "start_time": "2022-09-27T16:01:26.180Z"
   },
   {
    "duration": 5,
    "start_time": "2022-09-27T16:01:26.985Z"
   },
   {
    "duration": 18,
    "start_time": "2022-09-27T16:01:28.583Z"
   },
   {
    "duration": 3,
    "start_time": "2022-09-27T16:01:32.048Z"
   },
   {
    "duration": 2,
    "start_time": "2022-09-27T16:01:32.771Z"
   },
   {
    "duration": 3,
    "start_time": "2022-09-27T16:01:33.631Z"
   },
   {
    "duration": 47,
    "start_time": "2022-09-27T16:01:35.696Z"
   },
   {
    "duration": 6,
    "start_time": "2022-09-27T16:02:01.925Z"
   },
   {
    "duration": 5,
    "start_time": "2022-09-27T16:02:07.520Z"
   },
   {
    "duration": 5,
    "start_time": "2022-09-27T16:02:15.410Z"
   },
   {
    "duration": 6,
    "start_time": "2022-09-27T16:02:18.287Z"
   },
   {
    "duration": 14,
    "start_time": "2022-09-27T16:02:18.913Z"
   },
   {
    "duration": 3,
    "start_time": "2022-09-27T16:02:21.936Z"
   },
   {
    "duration": 3,
    "start_time": "2022-09-27T16:02:22.557Z"
   },
   {
    "duration": 2,
    "start_time": "2022-09-27T16:02:23.634Z"
   },
   {
    "duration": 71,
    "start_time": "2022-09-27T16:02:24.951Z"
   },
   {
    "duration": 4,
    "start_time": "2022-09-27T16:02:35.873Z"
   },
   {
    "duration": 5,
    "start_time": "2022-09-27T16:02:58.770Z"
   },
   {
    "duration": 6,
    "start_time": "2022-09-27T16:03:05.675Z"
   },
   {
    "duration": 29,
    "start_time": "2022-09-27T16:03:36.679Z"
   },
   {
    "duration": 6,
    "start_time": "2022-09-27T16:03:44.234Z"
   },
   {
    "duration": 5,
    "start_time": "2022-09-27T16:03:49.342Z"
   },
   {
    "duration": 5,
    "start_time": "2022-09-27T16:04:12.942Z"
   },
   {
    "duration": 7,
    "start_time": "2022-09-27T16:04:16.832Z"
   },
   {
    "duration": 5,
    "start_time": "2022-09-27T16:04:17.558Z"
   },
   {
    "duration": 4,
    "start_time": "2022-09-27T16:04:18.439Z"
   },
   {
    "duration": 13,
    "start_time": "2022-09-27T16:04:22.419Z"
   },
   {
    "duration": 53,
    "start_time": "2022-09-27T16:04:28.371Z"
   },
   {
    "duration": 9,
    "start_time": "2022-09-27T16:09:28.407Z"
   },
   {
    "duration": 5,
    "start_time": "2022-09-27T16:09:29.255Z"
   },
   {
    "duration": 17,
    "start_time": "2022-09-27T16:09:29.830Z"
   },
   {
    "duration": 9,
    "start_time": "2022-09-27T16:09:47.651Z"
   },
   {
    "duration": 7,
    "start_time": "2022-09-27T16:09:48.240Z"
   },
   {
    "duration": 3,
    "start_time": "2022-09-27T16:10:13.384Z"
   },
   {
    "duration": 3,
    "start_time": "2022-09-27T16:10:27.637Z"
   },
   {
    "duration": 13,
    "start_time": "2022-09-27T16:10:28.279Z"
   },
   {
    "duration": 3,
    "start_time": "2022-09-27T16:10:30.834Z"
   },
   {
    "duration": 2,
    "start_time": "2022-09-27T16:10:31.011Z"
   },
   {
    "duration": 3,
    "start_time": "2022-09-27T16:10:31.256Z"
   },
   {
    "duration": 45,
    "start_time": "2022-09-27T16:10:31.839Z"
   },
   {
    "duration": 25,
    "start_time": "2022-09-27T16:11:22.900Z"
   },
   {
    "duration": 11,
    "start_time": "2022-09-27T16:11:50.073Z"
   },
   {
    "duration": 4,
    "start_time": "2022-09-27T16:11:50.768Z"
   },
   {
    "duration": 27,
    "start_time": "2022-09-27T16:11:56.724Z"
   },
   {
    "duration": 25,
    "start_time": "2022-09-27T16:12:13.188Z"
   },
   {
    "duration": 16,
    "start_time": "2022-09-27T16:12:37.309Z"
   },
   {
    "duration": 11,
    "start_time": "2022-09-27T16:13:05.169Z"
   },
   {
    "duration": 29,
    "start_time": "2022-09-27T16:13:05.897Z"
   },
   {
    "duration": 6,
    "start_time": "2022-09-27T16:13:11.150Z"
   },
   {
    "duration": 24,
    "start_time": "2022-09-27T16:13:25.825Z"
   },
   {
    "duration": 12,
    "start_time": "2022-09-27T16:13:41.258Z"
   },
   {
    "duration": 10,
    "start_time": "2022-09-27T16:14:15.050Z"
   },
   {
    "duration": 7,
    "start_time": "2022-09-27T16:15:38.563Z"
   },
   {
    "duration": 46,
    "start_time": "2022-09-27T16:15:45.167Z"
   },
   {
    "duration": 2300,
    "start_time": "2022-09-28T02:16:15.426Z"
   },
   {
    "duration": 1625,
    "start_time": "2022-09-28T02:16:17.728Z"
   },
   {
    "duration": 633,
    "start_time": "2022-09-28T02:16:19.355Z"
   },
   {
    "duration": 4,
    "start_time": "2022-09-28T02:16:19.989Z"
   },
   {
    "duration": 346,
    "start_time": "2022-09-28T02:16:19.995Z"
   },
   {
    "duration": 149,
    "start_time": "2022-09-28T02:16:20.343Z"
   },
   {
    "duration": 345,
    "start_time": "2022-09-28T02:16:20.494Z"
   },
   {
    "duration": 7,
    "start_time": "2022-09-28T02:16:20.841Z"
   },
   {
    "duration": 11,
    "start_time": "2022-09-28T02:16:20.850Z"
   },
   {
    "duration": 4,
    "start_time": "2022-09-28T02:16:20.864Z"
   },
   {
    "duration": 7,
    "start_time": "2022-09-28T02:16:20.869Z"
   },
   {
    "duration": 39,
    "start_time": "2022-09-28T02:16:20.877Z"
   },
   {
    "duration": 4,
    "start_time": "2022-09-28T02:16:20.918Z"
   },
   {
    "duration": 9,
    "start_time": "2022-09-28T02:16:20.923Z"
   },
   {
    "duration": 7,
    "start_time": "2022-09-28T02:16:20.934Z"
   },
   {
    "duration": 15,
    "start_time": "2022-09-28T02:16:20.943Z"
   },
   {
    "duration": 8,
    "start_time": "2022-09-28T02:16:20.960Z"
   },
   {
    "duration": 8,
    "start_time": "2022-09-28T02:16:20.969Z"
   },
   {
    "duration": 33,
    "start_time": "2022-09-28T02:16:20.978Z"
   },
   {
    "duration": 145,
    "start_time": "2022-09-28T02:16:21.012Z"
   },
   {
    "duration": 134,
    "start_time": "2022-09-28T02:16:21.159Z"
   },
   {
    "duration": 149,
    "start_time": "2022-09-28T02:16:21.294Z"
   },
   {
    "duration": 151,
    "start_time": "2022-09-28T02:16:21.444Z"
   },
   {
    "duration": 154,
    "start_time": "2022-09-28T02:16:21.596Z"
   },
   {
    "duration": 146,
    "start_time": "2022-09-28T02:16:21.751Z"
   },
   {
    "duration": 145,
    "start_time": "2022-09-28T02:16:21.899Z"
   },
   {
    "duration": 5,
    "start_time": "2022-09-28T02:16:22.045Z"
   },
   {
    "duration": 5,
    "start_time": "2022-09-28T02:16:22.054Z"
   },
   {
    "duration": 8,
    "start_time": "2022-09-28T02:16:22.060Z"
   },
   {
    "duration": 5,
    "start_time": "2022-09-28T02:16:22.069Z"
   },
   {
    "duration": 5,
    "start_time": "2022-09-28T02:16:22.075Z"
   },
   {
    "duration": 30,
    "start_time": "2022-09-28T02:16:22.081Z"
   },
   {
    "duration": 336,
    "start_time": "2022-09-28T02:16:22.113Z"
   },
   {
    "duration": 5,
    "start_time": "2022-09-28T02:16:22.450Z"
   },
   {
    "duration": 240,
    "start_time": "2022-09-28T02:16:22.457Z"
   },
   {
    "duration": 11,
    "start_time": "2022-09-28T02:16:22.698Z"
   },
   {
    "duration": 4,
    "start_time": "2022-09-28T02:16:22.710Z"
   },
   {
    "duration": 74,
    "start_time": "2022-09-28T02:16:22.716Z"
   },
   {
    "duration": 96,
    "start_time": "2022-09-28T02:16:22.791Z"
   },
   {
    "duration": 100,
    "start_time": "2022-09-28T02:16:22.888Z"
   },
   {
    "duration": 89,
    "start_time": "2022-09-28T02:16:22.990Z"
   },
   {
    "duration": 30,
    "start_time": "2022-09-28T02:16:23.081Z"
   },
   {
    "duration": 3,
    "start_time": "2022-09-28T02:16:23.112Z"
   },
   {
    "duration": 9,
    "start_time": "2022-09-28T02:16:23.116Z"
   },
   {
    "duration": 14,
    "start_time": "2022-09-28T02:16:23.127Z"
   },
   {
    "duration": 243,
    "start_time": "2022-09-28T02:16:23.142Z"
   },
   {
    "duration": 50,
    "start_time": "2022-09-28T02:16:23.387Z"
   },
   {
    "duration": 5,
    "start_time": "2022-09-28T02:16:23.438Z"
   },
   {
    "duration": 8,
    "start_time": "2022-09-28T02:16:23.444Z"
   },
   {
    "duration": 238,
    "start_time": "2022-09-28T02:16:23.454Z"
   },
   {
    "duration": 4,
    "start_time": "2022-09-28T02:16:23.694Z"
   },
   {
    "duration": 12,
    "start_time": "2022-09-28T02:16:23.699Z"
   },
   {
    "duration": 7,
    "start_time": "2022-09-28T02:16:23.712Z"
   },
   {
    "duration": 7,
    "start_time": "2022-09-28T02:16:23.720Z"
   },
   {
    "duration": 12,
    "start_time": "2022-09-28T02:16:23.728Z"
   },
   {
    "duration": 5,
    "start_time": "2022-09-28T02:16:23.741Z"
   },
   {
    "duration": 145,
    "start_time": "2022-09-28T02:16:23.747Z"
   },
   {
    "duration": 0,
    "start_time": "2022-09-28T02:16:23.894Z"
   },
   {
    "duration": 0,
    "start_time": "2022-09-28T02:16:23.895Z"
   },
   {
    "duration": 0,
    "start_time": "2022-09-28T02:16:23.896Z"
   },
   {
    "duration": 0,
    "start_time": "2022-09-28T02:16:23.897Z"
   },
   {
    "duration": 0,
    "start_time": "2022-09-28T02:16:23.897Z"
   },
   {
    "duration": 0,
    "start_time": "2022-09-28T02:16:23.909Z"
   },
   {
    "duration": 0,
    "start_time": "2022-09-28T02:16:23.909Z"
   },
   {
    "duration": 0,
    "start_time": "2022-09-28T02:16:23.910Z"
   },
   {
    "duration": 0,
    "start_time": "2022-09-28T02:16:23.994Z"
   },
   {
    "duration": 0,
    "start_time": "2022-09-28T02:16:23.995Z"
   },
   {
    "duration": 0,
    "start_time": "2022-09-28T02:16:23.996Z"
   },
   {
    "duration": 0,
    "start_time": "2022-09-28T02:16:23.997Z"
   },
   {
    "duration": 0,
    "start_time": "2022-09-28T02:16:24.009Z"
   },
   {
    "duration": 0,
    "start_time": "2022-09-28T02:16:24.010Z"
   },
   {
    "duration": 0,
    "start_time": "2022-09-28T02:16:24.011Z"
   },
   {
    "duration": 0,
    "start_time": "2022-09-28T02:16:24.012Z"
   },
   {
    "duration": 0,
    "start_time": "2022-09-28T02:16:24.012Z"
   },
   {
    "duration": 0,
    "start_time": "2022-09-28T02:16:24.013Z"
   },
   {
    "duration": 0,
    "start_time": "2022-09-28T02:16:24.014Z"
   },
   {
    "duration": 0,
    "start_time": "2022-09-28T02:16:24.015Z"
   },
   {
    "duration": 9,
    "start_time": "2022-09-28T02:17:10.318Z"
   },
   {
    "duration": 13,
    "start_time": "2022-09-28T02:17:24.167Z"
   },
   {
    "duration": 9,
    "start_time": "2022-09-28T02:17:41.798Z"
   },
   {
    "duration": 13,
    "start_time": "2022-09-28T02:17:45.980Z"
   },
   {
    "duration": 2133,
    "start_time": "2022-09-28T02:19:40.510Z"
   },
   {
    "duration": 3,
    "start_time": "2022-09-28T02:19:42.646Z"
   },
   {
    "duration": 656,
    "start_time": "2022-09-28T02:19:42.651Z"
   },
   {
    "duration": 4,
    "start_time": "2022-09-28T02:19:43.309Z"
   },
   {
    "duration": 342,
    "start_time": "2022-09-28T02:19:43.314Z"
   },
   {
    "duration": 153,
    "start_time": "2022-09-28T02:19:43.657Z"
   },
   {
    "duration": 329,
    "start_time": "2022-09-28T02:19:43.812Z"
   },
   {
    "duration": 5,
    "start_time": "2022-09-28T02:19:44.142Z"
   },
   {
    "duration": 12,
    "start_time": "2022-09-28T02:19:44.148Z"
   },
   {
    "duration": 4,
    "start_time": "2022-09-28T02:19:44.162Z"
   },
   {
    "duration": 6,
    "start_time": "2022-09-28T02:19:44.168Z"
   },
   {
    "duration": 40,
    "start_time": "2022-09-28T02:19:44.176Z"
   },
   {
    "duration": 14,
    "start_time": "2022-09-28T02:19:44.217Z"
   },
   {
    "duration": 10,
    "start_time": "2022-09-28T02:19:44.232Z"
   },
   {
    "duration": 8,
    "start_time": "2022-09-28T02:19:44.243Z"
   },
   {
    "duration": 14,
    "start_time": "2022-09-28T02:19:44.253Z"
   },
   {
    "duration": 8,
    "start_time": "2022-09-28T02:19:44.268Z"
   },
   {
    "duration": 3,
    "start_time": "2022-09-28T02:19:44.278Z"
   },
   {
    "duration": 3,
    "start_time": "2022-09-28T02:19:44.282Z"
   },
   {
    "duration": 169,
    "start_time": "2022-09-28T02:19:44.287Z"
   },
   {
    "duration": 140,
    "start_time": "2022-09-28T02:19:44.458Z"
   },
   {
    "duration": 155,
    "start_time": "2022-09-28T02:19:44.599Z"
   },
   {
    "duration": 155,
    "start_time": "2022-09-28T02:19:44.756Z"
   },
   {
    "duration": 145,
    "start_time": "2022-09-28T02:19:44.912Z"
   },
   {
    "duration": 153,
    "start_time": "2022-09-28T02:19:45.058Z"
   },
   {
    "duration": 142,
    "start_time": "2022-09-28T02:19:45.212Z"
   },
   {
    "duration": 6,
    "start_time": "2022-09-28T02:19:45.355Z"
   },
   {
    "duration": 5,
    "start_time": "2022-09-28T02:19:45.364Z"
   },
   {
    "duration": 8,
    "start_time": "2022-09-28T02:19:45.370Z"
   },
   {
    "duration": 6,
    "start_time": "2022-09-28T02:19:45.379Z"
   },
   {
    "duration": 24,
    "start_time": "2022-09-28T02:19:45.386Z"
   },
   {
    "duration": 5,
    "start_time": "2022-09-28T02:19:45.412Z"
   },
   {
    "duration": 265,
    "start_time": "2022-09-28T02:19:45.418Z"
   },
   {
    "duration": 4,
    "start_time": "2022-09-28T02:19:45.684Z"
   },
   {
    "duration": 337,
    "start_time": "2022-09-28T02:19:45.690Z"
   },
   {
    "duration": 3,
    "start_time": "2022-09-28T02:19:46.029Z"
   },
   {
    "duration": 4,
    "start_time": "2022-09-28T02:19:46.034Z"
   },
   {
    "duration": 91,
    "start_time": "2022-09-28T02:19:46.040Z"
   },
   {
    "duration": 94,
    "start_time": "2022-09-28T02:19:46.133Z"
   },
   {
    "duration": 108,
    "start_time": "2022-09-28T02:19:46.229Z"
   },
   {
    "duration": 85,
    "start_time": "2022-09-28T02:19:46.338Z"
   },
   {
    "duration": 19,
    "start_time": "2022-09-28T02:19:46.425Z"
   },
   {
    "duration": 4,
    "start_time": "2022-09-28T02:19:46.445Z"
   },
   {
    "duration": 8,
    "start_time": "2022-09-28T02:19:46.451Z"
   },
   {
    "duration": 19,
    "start_time": "2022-09-28T02:19:46.460Z"
   },
   {
    "duration": 265,
    "start_time": "2022-09-28T02:19:46.481Z"
   },
   {
    "duration": 39,
    "start_time": "2022-09-28T02:19:46.748Z"
   },
   {
    "duration": 4,
    "start_time": "2022-09-28T02:19:46.789Z"
   },
   {
    "duration": 19,
    "start_time": "2022-09-28T02:19:46.795Z"
   },
   {
    "duration": 220,
    "start_time": "2022-09-28T02:19:46.816Z"
   },
   {
    "duration": 2,
    "start_time": "2022-09-28T02:19:47.038Z"
   },
   {
    "duration": 4,
    "start_time": "2022-09-28T02:19:47.042Z"
   },
   {
    "duration": 4,
    "start_time": "2022-09-28T02:19:47.047Z"
   },
   {
    "duration": 5,
    "start_time": "2022-09-28T02:19:47.052Z"
   },
   {
    "duration": 10,
    "start_time": "2022-09-28T02:19:47.058Z"
   },
   {
    "duration": 13,
    "start_time": "2022-09-28T02:19:47.069Z"
   },
   {
    "duration": 26,
    "start_time": "2022-09-28T02:19:47.083Z"
   },
   {
    "duration": 14,
    "start_time": "2022-09-28T02:19:47.110Z"
   },
   {
    "duration": 3,
    "start_time": "2022-09-28T02:19:47.126Z"
   },
   {
    "duration": 13,
    "start_time": "2022-09-28T02:19:47.130Z"
   },
   {
    "duration": 2,
    "start_time": "2022-09-28T02:19:47.145Z"
   },
   {
    "duration": 6,
    "start_time": "2022-09-28T02:19:47.149Z"
   },
   {
    "duration": 4,
    "start_time": "2022-09-28T02:19:47.156Z"
   },
   {
    "duration": 78,
    "start_time": "2022-09-28T02:19:47.162Z"
   },
   {
    "duration": 3,
    "start_time": "2022-09-28T02:19:47.242Z"
   },
   {
    "duration": 13,
    "start_time": "2022-09-28T02:19:47.247Z"
   },
   {
    "duration": 0,
    "start_time": "2022-09-28T02:19:47.261Z"
   },
   {
    "duration": 0,
    "start_time": "2022-09-28T02:19:47.263Z"
   },
   {
    "duration": 0,
    "start_time": "2022-09-28T02:19:47.265Z"
   },
   {
    "duration": 0,
    "start_time": "2022-09-28T02:19:47.266Z"
   },
   {
    "duration": 0,
    "start_time": "2022-09-28T02:19:47.267Z"
   },
   {
    "duration": 0,
    "start_time": "2022-09-28T02:19:47.268Z"
   },
   {
    "duration": 0,
    "start_time": "2022-09-28T02:19:47.269Z"
   },
   {
    "duration": 0,
    "start_time": "2022-09-28T02:19:47.270Z"
   },
   {
    "duration": 0,
    "start_time": "2022-09-28T02:19:47.271Z"
   },
   {
    "duration": 0,
    "start_time": "2022-09-28T02:19:47.272Z"
   },
   {
    "duration": 0,
    "start_time": "2022-09-28T02:19:47.273Z"
   },
   {
    "duration": 13,
    "start_time": "2022-09-28T02:20:12.105Z"
   },
   {
    "duration": 6,
    "start_time": "2022-09-28T02:20:33.308Z"
   },
   {
    "duration": 12,
    "start_time": "2022-09-28T02:20:38.825Z"
   },
   {
    "duration": 3,
    "start_time": "2022-09-28T02:20:56.560Z"
   },
   {
    "duration": 12,
    "start_time": "2022-09-28T02:20:59.930Z"
   },
   {
    "duration": 42,
    "start_time": "2022-09-28T02:21:10.451Z"
   },
   {
    "duration": 4,
    "start_time": "2022-09-28T02:22:25.744Z"
   },
   {
    "duration": 3,
    "start_time": "2022-09-28T02:22:52.131Z"
   },
   {
    "duration": 4,
    "start_time": "2022-09-28T02:23:34.711Z"
   },
   {
    "duration": 4,
    "start_time": "2022-09-28T02:23:38.541Z"
   },
   {
    "duration": 43,
    "start_time": "2022-09-28T02:23:45.724Z"
   },
   {
    "duration": 10,
    "start_time": "2022-09-28T02:23:50.362Z"
   },
   {
    "duration": 50,
    "start_time": "2022-09-28T02:24:04.418Z"
   },
   {
    "duration": 12,
    "start_time": "2022-09-28T02:24:57.149Z"
   },
   {
    "duration": 2113,
    "start_time": "2022-09-28T02:27:43.976Z"
   },
   {
    "duration": 1598,
    "start_time": "2022-09-28T02:27:46.091Z"
   },
   {
    "duration": 657,
    "start_time": "2022-09-28T02:27:47.690Z"
   },
   {
    "duration": 4,
    "start_time": "2022-09-28T02:27:48.348Z"
   },
   {
    "duration": 346,
    "start_time": "2022-09-28T02:27:48.353Z"
   },
   {
    "duration": 139,
    "start_time": "2022-09-28T02:27:48.708Z"
   },
   {
    "duration": 343,
    "start_time": "2022-09-28T02:27:48.848Z"
   },
   {
    "duration": 5,
    "start_time": "2022-09-28T02:27:49.193Z"
   },
   {
    "duration": 19,
    "start_time": "2022-09-28T02:27:49.199Z"
   },
   {
    "duration": 4,
    "start_time": "2022-09-28T02:27:49.220Z"
   },
   {
    "duration": 9,
    "start_time": "2022-09-28T02:27:49.225Z"
   },
   {
    "duration": 13,
    "start_time": "2022-09-28T02:27:49.236Z"
   },
   {
    "duration": 9,
    "start_time": "2022-09-28T02:27:49.251Z"
   },
   {
    "duration": 11,
    "start_time": "2022-09-28T02:27:49.261Z"
   },
   {
    "duration": 8,
    "start_time": "2022-09-28T02:27:49.273Z"
   },
   {
    "duration": 18,
    "start_time": "2022-09-28T02:27:49.309Z"
   },
   {
    "duration": 9,
    "start_time": "2022-09-28T02:27:49.328Z"
   },
   {
    "duration": 3,
    "start_time": "2022-09-28T02:27:49.338Z"
   },
   {
    "duration": 6,
    "start_time": "2022-09-28T02:27:49.342Z"
   },
   {
    "duration": 161,
    "start_time": "2022-09-28T02:27:49.349Z"
   },
   {
    "duration": 135,
    "start_time": "2022-09-28T02:27:49.512Z"
   },
   {
    "duration": 144,
    "start_time": "2022-09-28T02:27:49.648Z"
   },
   {
    "duration": 154,
    "start_time": "2022-09-28T02:27:49.793Z"
   },
   {
    "duration": 150,
    "start_time": "2022-09-28T02:27:49.949Z"
   },
   {
    "duration": 151,
    "start_time": "2022-09-28T02:27:50.100Z"
   },
   {
    "duration": 161,
    "start_time": "2022-09-28T02:27:50.252Z"
   },
   {
    "duration": 5,
    "start_time": "2022-09-28T02:27:50.414Z"
   },
   {
    "duration": 6,
    "start_time": "2022-09-28T02:27:50.423Z"
   },
   {
    "duration": 6,
    "start_time": "2022-09-28T02:27:50.430Z"
   },
   {
    "duration": 5,
    "start_time": "2022-09-28T02:27:50.437Z"
   },
   {
    "duration": 9,
    "start_time": "2022-09-28T02:27:50.443Z"
   },
   {
    "duration": 9,
    "start_time": "2022-09-28T02:27:50.454Z"
   },
   {
    "duration": 349,
    "start_time": "2022-09-28T02:27:50.464Z"
   },
   {
    "duration": 4,
    "start_time": "2022-09-28T02:27:50.815Z"
   },
   {
    "duration": 235,
    "start_time": "2022-09-28T02:27:50.820Z"
   },
   {
    "duration": 3,
    "start_time": "2022-09-28T02:27:51.057Z"
   },
   {
    "duration": 6,
    "start_time": "2022-09-28T02:27:51.061Z"
   },
   {
    "duration": 88,
    "start_time": "2022-09-28T02:27:51.068Z"
   },
   {
    "duration": 94,
    "start_time": "2022-09-28T02:27:51.158Z"
   },
   {
    "duration": 93,
    "start_time": "2022-09-28T02:27:51.254Z"
   },
   {
    "duration": 89,
    "start_time": "2022-09-28T02:27:51.349Z"
   },
   {
    "duration": 19,
    "start_time": "2022-09-28T02:27:51.439Z"
   },
   {
    "duration": 3,
    "start_time": "2022-09-28T02:27:51.460Z"
   },
   {
    "duration": 8,
    "start_time": "2022-09-28T02:27:51.465Z"
   },
   {
    "duration": 37,
    "start_time": "2022-09-28T02:27:51.475Z"
   },
   {
    "duration": 232,
    "start_time": "2022-09-28T02:27:51.514Z"
   },
   {
    "duration": 44,
    "start_time": "2022-09-28T02:27:51.749Z"
   },
   {
    "duration": 15,
    "start_time": "2022-09-28T02:27:51.795Z"
   },
   {
    "duration": 9,
    "start_time": "2022-09-28T02:27:51.812Z"
   },
   {
    "duration": 229,
    "start_time": "2022-09-28T02:27:51.823Z"
   },
   {
    "duration": 3,
    "start_time": "2022-09-28T02:27:52.054Z"
   },
   {
    "duration": 5,
    "start_time": "2022-09-28T02:27:52.059Z"
   },
   {
    "duration": 4,
    "start_time": "2022-09-28T02:27:52.065Z"
   },
   {
    "duration": 6,
    "start_time": "2022-09-28T02:27:52.070Z"
   },
   {
    "duration": 8,
    "start_time": "2022-09-28T02:27:52.077Z"
   },
   {
    "duration": 115,
    "start_time": "2022-09-28T02:27:52.087Z"
   },
   {
    "duration": 8,
    "start_time": "2022-09-28T02:27:52.204Z"
   },
   {
    "duration": 5,
    "start_time": "2022-09-28T02:27:52.214Z"
   },
   {
    "duration": 15,
    "start_time": "2022-09-28T02:27:52.220Z"
   },
   {
    "duration": 4,
    "start_time": "2022-09-28T02:27:52.237Z"
   },
   {
    "duration": 7,
    "start_time": "2022-09-28T02:27:52.243Z"
   },
   {
    "duration": 7,
    "start_time": "2022-09-28T02:27:52.251Z"
   },
   {
    "duration": 4,
    "start_time": "2022-09-28T02:27:52.260Z"
   },
   {
    "duration": 78,
    "start_time": "2022-09-28T02:27:52.265Z"
   },
   {
    "duration": 3,
    "start_time": "2022-09-28T02:27:52.345Z"
   },
   {
    "duration": 60,
    "start_time": "2022-09-28T02:27:52.350Z"
   },
   {
    "duration": 3,
    "start_time": "2022-09-28T02:27:52.412Z"
   },
   {
    "duration": 11,
    "start_time": "2022-09-28T02:27:52.416Z"
   },
   {
    "duration": 10,
    "start_time": "2022-09-28T02:27:52.428Z"
   },
   {
    "duration": 13022,
    "start_time": "2022-09-28T02:27:52.440Z"
   },
   {
    "duration": 0,
    "start_time": "2022-09-28T02:28:05.463Z"
   },
   {
    "duration": 0,
    "start_time": "2022-09-28T02:28:05.464Z"
   },
   {
    "duration": 0,
    "start_time": "2022-09-28T02:28:05.465Z"
   },
   {
    "duration": 0,
    "start_time": "2022-09-28T02:28:05.465Z"
   },
   {
    "duration": 0,
    "start_time": "2022-09-28T02:28:05.466Z"
   },
   {
    "duration": 0,
    "start_time": "2022-09-28T02:28:05.467Z"
   },
   {
    "duration": 0,
    "start_time": "2022-09-28T02:28:05.468Z"
   },
   {
    "duration": 6,
    "start_time": "2022-09-28T02:29:49.556Z"
   },
   {
    "duration": 4,
    "start_time": "2022-09-28T02:29:50.044Z"
   },
   {
    "duration": 12,
    "start_time": "2022-09-28T02:29:52.771Z"
   },
   {
    "duration": 4,
    "start_time": "2022-09-28T02:30:02.021Z"
   },
   {
    "duration": 8435,
    "start_time": "2022-09-28T02:30:08.168Z"
   },
   {
    "duration": 4,
    "start_time": "2022-09-28T02:31:42.217Z"
   },
   {
    "duration": 1951,
    "start_time": "2022-09-28T02:31:48.658Z"
   },
   {
    "duration": 2103,
    "start_time": "2022-09-28T02:32:00.709Z"
   },
   {
    "duration": 1554,
    "start_time": "2022-09-28T02:32:02.814Z"
   },
   {
    "duration": 665,
    "start_time": "2022-09-28T02:32:04.369Z"
   },
   {
    "duration": 4,
    "start_time": "2022-09-28T02:32:05.036Z"
   },
   {
    "duration": 347,
    "start_time": "2022-09-28T02:32:05.041Z"
   },
   {
    "duration": 161,
    "start_time": "2022-09-28T02:32:05.390Z"
   },
   {
    "duration": 336,
    "start_time": "2022-09-28T02:32:05.553Z"
   },
   {
    "duration": 6,
    "start_time": "2022-09-28T02:32:05.890Z"
   },
   {
    "duration": 17,
    "start_time": "2022-09-28T02:32:05.897Z"
   },
   {
    "duration": 4,
    "start_time": "2022-09-28T02:32:05.916Z"
   },
   {
    "duration": 8,
    "start_time": "2022-09-28T02:32:05.921Z"
   },
   {
    "duration": 12,
    "start_time": "2022-09-28T02:32:05.930Z"
   },
   {
    "duration": 6,
    "start_time": "2022-09-28T02:32:05.944Z"
   },
   {
    "duration": 10,
    "start_time": "2022-09-28T02:32:05.953Z"
   },
   {
    "duration": 9,
    "start_time": "2022-09-28T02:32:05.964Z"
   },
   {
    "duration": 48,
    "start_time": "2022-09-28T02:32:05.974Z"
   },
   {
    "duration": 10,
    "start_time": "2022-09-28T02:32:06.024Z"
   },
   {
    "duration": 3,
    "start_time": "2022-09-28T02:32:06.035Z"
   },
   {
    "duration": 6,
    "start_time": "2022-09-28T02:32:06.039Z"
   },
   {
    "duration": 165,
    "start_time": "2022-09-28T02:32:06.046Z"
   },
   {
    "duration": 152,
    "start_time": "2022-09-28T02:32:06.213Z"
   },
   {
    "duration": 154,
    "start_time": "2022-09-28T02:32:06.366Z"
   },
   {
    "duration": 161,
    "start_time": "2022-09-28T02:32:06.521Z"
   },
   {
    "duration": 159,
    "start_time": "2022-09-28T02:32:06.684Z"
   },
   {
    "duration": 144,
    "start_time": "2022-09-28T02:32:06.845Z"
   },
   {
    "duration": 148,
    "start_time": "2022-09-28T02:32:06.990Z"
   },
   {
    "duration": 6,
    "start_time": "2022-09-28T02:32:07.139Z"
   },
   {
    "duration": 6,
    "start_time": "2022-09-28T02:32:07.146Z"
   },
   {
    "duration": 8,
    "start_time": "2022-09-28T02:32:07.153Z"
   },
   {
    "duration": 5,
    "start_time": "2022-09-28T02:32:07.162Z"
   },
   {
    "duration": 6,
    "start_time": "2022-09-28T02:32:07.168Z"
   },
   {
    "duration": 34,
    "start_time": "2022-09-28T02:32:07.175Z"
   },
   {
    "duration": 257,
    "start_time": "2022-09-28T02:32:07.211Z"
   },
   {
    "duration": 4,
    "start_time": "2022-09-28T02:32:07.470Z"
   },
   {
    "duration": 335,
    "start_time": "2022-09-28T02:32:07.476Z"
   },
   {
    "duration": 3,
    "start_time": "2022-09-28T02:32:07.812Z"
   },
   {
    "duration": 36,
    "start_time": "2022-09-28T02:32:07.816Z"
   },
   {
    "duration": 97,
    "start_time": "2022-09-28T02:32:07.853Z"
   },
   {
    "duration": 87,
    "start_time": "2022-09-28T02:32:07.951Z"
   },
   {
    "duration": 94,
    "start_time": "2022-09-28T02:32:08.040Z"
   },
   {
    "duration": 86,
    "start_time": "2022-09-28T02:32:08.138Z"
   },
   {
    "duration": 19,
    "start_time": "2022-09-28T02:32:08.225Z"
   },
   {
    "duration": 16,
    "start_time": "2022-09-28T02:32:08.245Z"
   },
   {
    "duration": 31,
    "start_time": "2022-09-28T02:32:08.262Z"
   },
   {
    "duration": 16,
    "start_time": "2022-09-28T02:32:08.294Z"
   },
   {
    "duration": 248,
    "start_time": "2022-09-28T02:32:08.312Z"
   },
   {
    "duration": 55,
    "start_time": "2022-09-28T02:32:08.562Z"
   },
   {
    "duration": 5,
    "start_time": "2022-09-28T02:32:08.618Z"
   },
   {
    "duration": 12,
    "start_time": "2022-09-28T02:32:08.624Z"
   },
   {
    "duration": 228,
    "start_time": "2022-09-28T02:32:08.637Z"
   },
   {
    "duration": 3,
    "start_time": "2022-09-28T02:32:08.867Z"
   },
   {
    "duration": 18,
    "start_time": "2022-09-28T02:32:08.871Z"
   },
   {
    "duration": 15,
    "start_time": "2022-09-28T02:32:08.890Z"
   },
   {
    "duration": 9,
    "start_time": "2022-09-28T02:32:08.906Z"
   },
   {
    "duration": 26,
    "start_time": "2022-09-28T02:32:08.916Z"
   },
   {
    "duration": 20,
    "start_time": "2022-09-28T02:32:08.943Z"
   },
   {
    "duration": 12,
    "start_time": "2022-09-28T02:32:08.965Z"
   },
   {
    "duration": 30,
    "start_time": "2022-09-28T02:32:08.978Z"
   },
   {
    "duration": 37,
    "start_time": "2022-09-28T02:32:09.010Z"
   },
   {
    "duration": 12,
    "start_time": "2022-09-28T02:32:09.049Z"
   },
   {
    "duration": 25,
    "start_time": "2022-09-28T02:32:09.062Z"
   },
   {
    "duration": 27,
    "start_time": "2022-09-28T02:32:09.088Z"
   },
   {
    "duration": 11,
    "start_time": "2022-09-28T02:32:09.116Z"
   },
   {
    "duration": 8576,
    "start_time": "2022-09-28T02:32:09.129Z"
   },
   {
    "duration": 3,
    "start_time": "2022-09-28T02:32:17.708Z"
   },
   {
    "duration": 2498,
    "start_time": "2022-09-28T02:32:17.712Z"
   },
   {
    "duration": 3,
    "start_time": "2022-09-28T02:32:20.212Z"
   },
   {
    "duration": 4,
    "start_time": "2022-09-28T02:32:20.216Z"
   },
   {
    "duration": 7,
    "start_time": "2022-09-28T02:32:20.222Z"
   },
   {
    "duration": 2161,
    "start_time": "2022-09-28T02:35:44.298Z"
   },
   {
    "duration": 1522,
    "start_time": "2022-09-28T02:35:46.461Z"
   },
   {
    "duration": 643,
    "start_time": "2022-09-28T02:35:47.984Z"
   },
   {
    "duration": 3,
    "start_time": "2022-09-28T02:35:48.629Z"
   },
   {
    "duration": 345,
    "start_time": "2022-09-28T02:35:48.634Z"
   },
   {
    "duration": 153,
    "start_time": "2022-09-28T02:35:48.981Z"
   },
   {
    "duration": 341,
    "start_time": "2022-09-28T02:35:49.136Z"
   },
   {
    "duration": 6,
    "start_time": "2022-09-28T02:35:49.478Z"
   },
   {
    "duration": 25,
    "start_time": "2022-09-28T02:35:49.485Z"
   },
   {
    "duration": 4,
    "start_time": "2022-09-28T02:35:49.512Z"
   },
   {
    "duration": 8,
    "start_time": "2022-09-28T02:35:49.517Z"
   },
   {
    "duration": 11,
    "start_time": "2022-09-28T02:35:49.527Z"
   },
   {
    "duration": 13,
    "start_time": "2022-09-28T02:35:49.540Z"
   },
   {
    "duration": 20,
    "start_time": "2022-09-28T02:35:49.555Z"
   },
   {
    "duration": 10,
    "start_time": "2022-09-28T02:35:49.576Z"
   },
   {
    "duration": 22,
    "start_time": "2022-09-28T02:35:49.588Z"
   },
   {
    "duration": 10,
    "start_time": "2022-09-28T02:35:49.612Z"
   },
   {
    "duration": 3,
    "start_time": "2022-09-28T02:35:49.624Z"
   },
   {
    "duration": 5,
    "start_time": "2022-09-28T02:35:49.628Z"
   },
   {
    "duration": 155,
    "start_time": "2022-09-28T02:35:49.634Z"
   },
   {
    "duration": 144,
    "start_time": "2022-09-28T02:35:49.791Z"
   },
   {
    "duration": 153,
    "start_time": "2022-09-28T02:35:49.937Z"
   },
   {
    "duration": 159,
    "start_time": "2022-09-28T02:35:50.092Z"
   },
   {
    "duration": 141,
    "start_time": "2022-09-28T02:35:50.252Z"
   },
   {
    "duration": 152,
    "start_time": "2022-09-28T02:35:50.395Z"
   },
   {
    "duration": 141,
    "start_time": "2022-09-28T02:35:50.549Z"
   },
   {
    "duration": 5,
    "start_time": "2022-09-28T02:35:50.692Z"
   },
   {
    "duration": 5,
    "start_time": "2022-09-28T02:35:50.711Z"
   },
   {
    "duration": 9,
    "start_time": "2022-09-28T02:35:50.717Z"
   },
   {
    "duration": 24,
    "start_time": "2022-09-28T02:35:50.728Z"
   },
   {
    "duration": 19,
    "start_time": "2022-09-28T02:35:50.753Z"
   },
   {
    "duration": 11,
    "start_time": "2022-09-28T02:35:50.773Z"
   },
   {
    "duration": 334,
    "start_time": "2022-09-28T02:35:50.785Z"
   },
   {
    "duration": 5,
    "start_time": "2022-09-28T02:35:51.120Z"
   },
   {
    "duration": 255,
    "start_time": "2022-09-28T02:35:51.126Z"
   },
   {
    "duration": 4,
    "start_time": "2022-09-28T02:35:51.382Z"
   },
   {
    "duration": 13,
    "start_time": "2022-09-28T02:35:51.387Z"
   },
   {
    "duration": 94,
    "start_time": "2022-09-28T02:35:51.401Z"
   },
   {
    "duration": 80,
    "start_time": "2022-09-28T02:35:51.496Z"
   },
   {
    "duration": 97,
    "start_time": "2022-09-28T02:35:51.577Z"
   },
   {
    "duration": 83,
    "start_time": "2022-09-28T02:35:51.676Z"
   },
   {
    "duration": 17,
    "start_time": "2022-09-28T02:35:51.760Z"
   },
   {
    "duration": 8,
    "start_time": "2022-09-28T02:35:51.779Z"
   },
   {
    "duration": 21,
    "start_time": "2022-09-28T02:35:51.788Z"
   },
   {
    "duration": 15,
    "start_time": "2022-09-28T02:35:51.810Z"
   },
   {
    "duration": 239,
    "start_time": "2022-09-28T02:35:51.827Z"
   },
   {
    "duration": 53,
    "start_time": "2022-09-28T02:35:52.068Z"
   },
   {
    "duration": 5,
    "start_time": "2022-09-28T02:35:52.122Z"
   },
   {
    "duration": 12,
    "start_time": "2022-09-28T02:35:52.128Z"
   },
   {
    "duration": 238,
    "start_time": "2022-09-28T02:35:52.141Z"
   },
   {
    "duration": 3,
    "start_time": "2022-09-28T02:35:52.380Z"
   },
   {
    "duration": 5,
    "start_time": "2022-09-28T02:35:52.384Z"
   },
   {
    "duration": 6,
    "start_time": "2022-09-28T02:35:52.390Z"
   },
   {
    "duration": 12,
    "start_time": "2022-09-28T02:35:52.398Z"
   },
   {
    "duration": 8,
    "start_time": "2022-09-28T02:35:52.411Z"
   },
   {
    "duration": 107,
    "start_time": "2022-09-28T02:35:52.421Z"
   },
   {
    "duration": 5,
    "start_time": "2022-09-28T02:35:52.529Z"
   },
   {
    "duration": 8,
    "start_time": "2022-09-28T02:35:52.535Z"
   },
   {
    "duration": 19,
    "start_time": "2022-09-28T02:35:52.544Z"
   },
   {
    "duration": 3,
    "start_time": "2022-09-28T02:35:52.565Z"
   },
   {
    "duration": 3,
    "start_time": "2022-09-28T02:35:52.570Z"
   },
   {
    "duration": 6,
    "start_time": "2022-09-28T02:35:52.575Z"
   },
   {
    "duration": 4,
    "start_time": "2022-09-28T02:35:52.582Z"
   },
   {
    "duration": 8563,
    "start_time": "2022-09-28T02:35:52.588Z"
   },
   {
    "duration": 3,
    "start_time": "2022-09-28T02:36:01.152Z"
   },
   {
    "duration": 2667,
    "start_time": "2022-09-28T02:36:01.156Z"
   },
   {
    "duration": 87,
    "start_time": "2022-09-28T02:36:03.824Z"
   },
   {
    "duration": 6,
    "start_time": "2022-09-28T02:36:03.912Z"
   },
   {
    "duration": 7,
    "start_time": "2022-09-28T02:36:03.919Z"
   },
   {
    "duration": 2129,
    "start_time": "2022-09-28T03:06:20.301Z"
   },
   {
    "duration": 1559,
    "start_time": "2022-09-28T03:06:22.433Z"
   },
   {
    "duration": 667,
    "start_time": "2022-09-28T03:06:23.993Z"
   },
   {
    "duration": 3,
    "start_time": "2022-09-28T03:06:24.663Z"
   },
   {
    "duration": 354,
    "start_time": "2022-09-28T03:06:24.668Z"
   },
   {
    "duration": 148,
    "start_time": "2022-09-28T03:06:25.024Z"
   },
   {
    "duration": 339,
    "start_time": "2022-09-28T03:06:25.173Z"
   },
   {
    "duration": 6,
    "start_time": "2022-09-28T03:06:25.513Z"
   },
   {
    "duration": 15,
    "start_time": "2022-09-28T03:06:25.520Z"
   },
   {
    "duration": 4,
    "start_time": "2022-09-28T03:06:25.537Z"
   },
   {
    "duration": 11,
    "start_time": "2022-09-28T03:06:25.543Z"
   },
   {
    "duration": 13,
    "start_time": "2022-09-28T03:06:25.556Z"
   },
   {
    "duration": 4,
    "start_time": "2022-09-28T03:06:25.570Z"
   },
   {
    "duration": 35,
    "start_time": "2022-09-28T03:06:25.576Z"
   },
   {
    "duration": 8,
    "start_time": "2022-09-28T03:06:25.613Z"
   },
   {
    "duration": 22,
    "start_time": "2022-09-28T03:06:25.622Z"
   },
   {
    "duration": 8,
    "start_time": "2022-09-28T03:06:25.646Z"
   },
   {
    "duration": 3,
    "start_time": "2022-09-28T03:06:25.655Z"
   },
   {
    "duration": 3,
    "start_time": "2022-09-28T03:06:25.660Z"
   },
   {
    "duration": 160,
    "start_time": "2022-09-28T03:06:25.665Z"
   },
   {
    "duration": 138,
    "start_time": "2022-09-28T03:06:25.826Z"
   },
   {
    "duration": 145,
    "start_time": "2022-09-28T03:06:25.966Z"
   },
   {
    "duration": 158,
    "start_time": "2022-09-28T03:06:26.113Z"
   },
   {
    "duration": 151,
    "start_time": "2022-09-28T03:06:26.273Z"
   },
   {
    "duration": 163,
    "start_time": "2022-09-28T03:06:26.425Z"
   },
   {
    "duration": 144,
    "start_time": "2022-09-28T03:06:26.589Z"
   },
   {
    "duration": 4,
    "start_time": "2022-09-28T03:06:26.735Z"
   },
   {
    "duration": 7,
    "start_time": "2022-09-28T03:06:26.743Z"
   },
   {
    "duration": 5,
    "start_time": "2022-09-28T03:06:26.752Z"
   },
   {
    "duration": 6,
    "start_time": "2022-09-28T03:06:26.758Z"
   },
   {
    "duration": 4,
    "start_time": "2022-09-28T03:06:26.765Z"
   },
   {
    "duration": 5,
    "start_time": "2022-09-28T03:06:26.770Z"
   },
   {
    "duration": 366,
    "start_time": "2022-09-28T03:06:26.776Z"
   },
   {
    "duration": 5,
    "start_time": "2022-09-28T03:06:27.143Z"
   },
   {
    "duration": 241,
    "start_time": "2022-09-28T03:06:27.149Z"
   },
   {
    "duration": 3,
    "start_time": "2022-09-28T03:06:27.391Z"
   },
   {
    "duration": 5,
    "start_time": "2022-09-28T03:06:27.395Z"
   },
   {
    "duration": 79,
    "start_time": "2022-09-28T03:06:27.401Z"
   },
   {
    "duration": 93,
    "start_time": "2022-09-28T03:06:27.482Z"
   },
   {
    "duration": 88,
    "start_time": "2022-09-28T03:06:27.576Z"
   },
   {
    "duration": 86,
    "start_time": "2022-09-28T03:06:27.665Z"
   },
   {
    "duration": 18,
    "start_time": "2022-09-28T03:06:27.752Z"
   },
   {
    "duration": 5,
    "start_time": "2022-09-28T03:06:27.772Z"
   },
   {
    "duration": 8,
    "start_time": "2022-09-28T03:06:27.779Z"
   },
   {
    "duration": 29,
    "start_time": "2022-09-28T03:06:27.788Z"
   },
   {
    "duration": 238,
    "start_time": "2022-09-28T03:06:27.819Z"
   },
   {
    "duration": 51,
    "start_time": "2022-09-28T03:06:28.059Z"
   },
   {
    "duration": 5,
    "start_time": "2022-09-28T03:06:28.111Z"
   },
   {
    "duration": 22,
    "start_time": "2022-09-28T03:06:28.117Z"
   },
   {
    "duration": 227,
    "start_time": "2022-09-28T03:06:28.141Z"
   },
   {
    "duration": 3,
    "start_time": "2022-09-28T03:06:28.369Z"
   },
   {
    "duration": 6,
    "start_time": "2022-09-28T03:06:28.374Z"
   },
   {
    "duration": 21,
    "start_time": "2022-09-28T03:06:28.381Z"
   },
   {
    "duration": 14,
    "start_time": "2022-09-28T03:06:28.403Z"
   },
   {
    "duration": 36,
    "start_time": "2022-09-28T03:06:28.418Z"
   },
   {
    "duration": 103,
    "start_time": "2022-09-28T03:06:28.455Z"
   },
   {
    "duration": 6,
    "start_time": "2022-09-28T03:06:28.559Z"
   },
   {
    "duration": 10,
    "start_time": "2022-09-28T03:06:28.566Z"
   },
   {
    "duration": 25,
    "start_time": "2022-09-28T03:06:28.577Z"
   },
   {
    "duration": 7,
    "start_time": "2022-09-28T03:06:28.604Z"
   },
   {
    "duration": 16,
    "start_time": "2022-09-28T03:06:28.612Z"
   },
   {
    "duration": 26,
    "start_time": "2022-09-28T03:06:28.629Z"
   },
   {
    "duration": 27,
    "start_time": "2022-09-28T03:06:28.657Z"
   },
   {
    "duration": 8400,
    "start_time": "2022-09-28T03:06:28.686Z"
   },
   {
    "duration": 3,
    "start_time": "2022-09-28T03:06:37.087Z"
   },
   {
    "duration": 2018,
    "start_time": "2022-09-28T03:06:37.091Z"
   },
   {
    "duration": 3,
    "start_time": "2022-09-28T03:06:39.111Z"
   },
   {
    "duration": 5,
    "start_time": "2022-09-28T03:06:39.115Z"
   },
   {
    "duration": 9,
    "start_time": "2022-09-28T03:06:39.121Z"
   },
   {
    "duration": 333979,
    "start_time": "2022-09-28T03:06:39.131Z"
   },
   {
    "duration": 2,
    "start_time": "2022-09-28T03:12:13.112Z"
   },
   {
    "duration": 5,
    "start_time": "2022-09-28T03:12:13.116Z"
   },
   {
    "duration": 5,
    "start_time": "2022-09-28T03:12:13.122Z"
   },
   {
    "duration": 4,
    "start_time": "2022-09-28T03:12:13.128Z"
   },
   {
    "duration": 1147,
    "start_time": "2022-09-28T03:12:13.134Z"
   },
   {
    "duration": 0,
    "start_time": "2022-09-28T03:12:14.283Z"
   },
   {
    "duration": 0,
    "start_time": "2022-09-28T03:12:14.284Z"
   },
   {
    "duration": 0,
    "start_time": "2022-09-28T03:12:14.285Z"
   },
   {
    "duration": 0,
    "start_time": "2022-09-28T03:12:14.286Z"
   },
   {
    "duration": 2215,
    "start_time": "2022-09-28T03:15:52.189Z"
   },
   {
    "duration": 2165,
    "start_time": "2022-09-28T03:16:02.127Z"
   },
   {
    "duration": 431,
    "start_time": "2022-09-28T03:16:13.579Z"
   },
   {
    "duration": 2342,
    "start_time": "2022-09-28T03:16:20.719Z"
   },
   {
    "duration": 2362,
    "start_time": "2022-09-28T03:16:37.040Z"
   },
   {
    "duration": 2373,
    "start_time": "2022-09-28T03:16:49.171Z"
   },
   {
    "duration": 4745,
    "start_time": "2022-09-28T03:17:13.638Z"
   },
   {
    "duration": 2,
    "start_time": "2022-09-28T03:17:29.132Z"
   },
   {
    "duration": 11,
    "start_time": "2022-09-28T03:17:30.231Z"
   },
   {
    "duration": 11,
    "start_time": "2022-09-28T03:17:38.563Z"
   },
   {
    "duration": 7,
    "start_time": "2022-09-28T03:17:46.913Z"
   },
   {
    "duration": 4,
    "start_time": "2022-09-28T03:23:25.948Z"
   },
   {
    "duration": 2091,
    "start_time": "2022-09-28T03:37:06.118Z"
   },
   {
    "duration": 1578,
    "start_time": "2022-09-28T03:37:08.212Z"
   },
   {
    "duration": 640,
    "start_time": "2022-09-28T03:37:09.791Z"
   },
   {
    "duration": 3,
    "start_time": "2022-09-28T03:37:10.433Z"
   },
   {
    "duration": 349,
    "start_time": "2022-09-28T03:37:10.438Z"
   },
   {
    "duration": 150,
    "start_time": "2022-09-28T03:37:10.788Z"
   },
   {
    "duration": 340,
    "start_time": "2022-09-28T03:37:10.940Z"
   },
   {
    "duration": 6,
    "start_time": "2022-09-28T03:37:11.281Z"
   },
   {
    "duration": 30,
    "start_time": "2022-09-28T03:37:11.288Z"
   },
   {
    "duration": 4,
    "start_time": "2022-09-28T03:37:11.320Z"
   },
   {
    "duration": 6,
    "start_time": "2022-09-28T03:37:11.326Z"
   },
   {
    "duration": 12,
    "start_time": "2022-09-28T03:37:11.333Z"
   },
   {
    "duration": 5,
    "start_time": "2022-09-28T03:37:11.347Z"
   },
   {
    "duration": 14,
    "start_time": "2022-09-28T03:37:11.354Z"
   },
   {
    "duration": 10,
    "start_time": "2022-09-28T03:37:11.369Z"
   },
   {
    "duration": 38,
    "start_time": "2022-09-28T03:37:11.380Z"
   },
   {
    "duration": 8,
    "start_time": "2022-09-28T03:37:11.420Z"
   },
   {
    "duration": 3,
    "start_time": "2022-09-28T03:37:11.430Z"
   },
   {
    "duration": 5,
    "start_time": "2022-09-28T03:37:11.434Z"
   },
   {
    "duration": 158,
    "start_time": "2022-09-28T03:37:11.440Z"
   },
   {
    "duration": 131,
    "start_time": "2022-09-28T03:37:11.608Z"
   },
   {
    "duration": 140,
    "start_time": "2022-09-28T03:37:11.740Z"
   },
   {
    "duration": 152,
    "start_time": "2022-09-28T03:37:11.881Z"
   },
   {
    "duration": 146,
    "start_time": "2022-09-28T03:37:12.035Z"
   },
   {
    "duration": 147,
    "start_time": "2022-09-28T03:37:12.183Z"
   },
   {
    "duration": 142,
    "start_time": "2022-09-28T03:37:12.331Z"
   },
   {
    "duration": 5,
    "start_time": "2022-09-28T03:37:12.475Z"
   },
   {
    "duration": 13,
    "start_time": "2022-09-28T03:37:12.484Z"
   },
   {
    "duration": 27,
    "start_time": "2022-09-28T03:37:12.498Z"
   },
   {
    "duration": 8,
    "start_time": "2022-09-28T03:37:12.527Z"
   },
   {
    "duration": 19,
    "start_time": "2022-09-28T03:37:12.536Z"
   },
   {
    "duration": 7,
    "start_time": "2022-09-28T03:37:12.556Z"
   },
   {
    "duration": 329,
    "start_time": "2022-09-28T03:37:12.564Z"
   },
   {
    "duration": 5,
    "start_time": "2022-09-28T03:37:12.895Z"
   },
   {
    "duration": 243,
    "start_time": "2022-09-28T03:37:12.901Z"
   },
   {
    "duration": 3,
    "start_time": "2022-09-28T03:37:13.146Z"
   },
   {
    "duration": 11,
    "start_time": "2022-09-28T03:37:13.150Z"
   },
   {
    "duration": 83,
    "start_time": "2022-09-28T03:37:13.162Z"
   },
   {
    "duration": 85,
    "start_time": "2022-09-28T03:37:13.247Z"
   },
   {
    "duration": 94,
    "start_time": "2022-09-28T03:37:13.333Z"
   },
   {
    "duration": 91,
    "start_time": "2022-09-28T03:37:13.428Z"
   },
   {
    "duration": 18,
    "start_time": "2022-09-28T03:37:13.520Z"
   },
   {
    "duration": 8,
    "start_time": "2022-09-28T03:37:13.539Z"
   },
   {
    "duration": 22,
    "start_time": "2022-09-28T03:37:13.549Z"
   },
   {
    "duration": 23,
    "start_time": "2022-09-28T03:37:13.573Z"
   },
   {
    "duration": 227,
    "start_time": "2022-09-28T03:37:13.598Z"
   },
   {
    "duration": 45,
    "start_time": "2022-09-28T03:37:13.826Z"
   },
   {
    "duration": 4,
    "start_time": "2022-09-28T03:37:13.873Z"
   },
   {
    "duration": 24,
    "start_time": "2022-09-28T03:37:13.879Z"
   },
   {
    "duration": 230,
    "start_time": "2022-09-28T03:37:13.904Z"
   },
   {
    "duration": 3,
    "start_time": "2022-09-28T03:37:14.136Z"
   },
   {
    "duration": 8,
    "start_time": "2022-09-28T03:37:14.140Z"
   },
   {
    "duration": 6,
    "start_time": "2022-09-28T03:37:14.149Z"
   },
   {
    "duration": 5,
    "start_time": "2022-09-28T03:37:14.157Z"
   },
   {
    "duration": 8,
    "start_time": "2022-09-28T03:37:14.163Z"
   },
   {
    "duration": 107,
    "start_time": "2022-09-28T03:37:14.172Z"
   },
   {
    "duration": 4,
    "start_time": "2022-09-28T03:37:14.281Z"
   },
   {
    "duration": 10,
    "start_time": "2022-09-28T03:37:14.287Z"
   },
   {
    "duration": 17,
    "start_time": "2022-09-28T03:37:14.299Z"
   },
   {
    "duration": 4,
    "start_time": "2022-09-28T03:37:14.318Z"
   },
   {
    "duration": 7,
    "start_time": "2022-09-28T03:37:14.324Z"
   },
   {
    "duration": 8,
    "start_time": "2022-09-28T03:37:14.333Z"
   },
   {
    "duration": 6,
    "start_time": "2022-09-28T03:37:14.342Z"
   },
   {
    "duration": 8481,
    "start_time": "2022-09-28T03:37:14.349Z"
   },
   {
    "duration": 3,
    "start_time": "2022-09-28T03:37:22.832Z"
   },
   {
    "duration": 2776,
    "start_time": "2022-09-28T03:37:22.837Z"
   },
   {
    "duration": 3,
    "start_time": "2022-09-28T03:37:25.615Z"
   },
   {
    "duration": 96,
    "start_time": "2022-09-28T03:37:25.619Z"
   },
   {
    "duration": 6,
    "start_time": "2022-09-28T03:37:25.717Z"
   },
   {
    "duration": 2115,
    "start_time": "2022-09-28T03:40:11.300Z"
   },
   {
    "duration": 1574,
    "start_time": "2022-09-28T03:40:13.417Z"
   },
   {
    "duration": 631,
    "start_time": "2022-09-28T03:40:14.993Z"
   },
   {
    "duration": 4,
    "start_time": "2022-09-28T03:40:15.626Z"
   },
   {
    "duration": 346,
    "start_time": "2022-09-28T03:40:15.631Z"
   },
   {
    "duration": 151,
    "start_time": "2022-09-28T03:40:15.978Z"
   },
   {
    "duration": 342,
    "start_time": "2022-09-28T03:40:16.130Z"
   },
   {
    "duration": 6,
    "start_time": "2022-09-28T03:40:16.474Z"
   },
   {
    "duration": 29,
    "start_time": "2022-09-28T03:40:16.481Z"
   },
   {
    "duration": 4,
    "start_time": "2022-09-28T03:40:16.512Z"
   },
   {
    "duration": 10,
    "start_time": "2022-09-28T03:40:16.517Z"
   },
   {
    "duration": 14,
    "start_time": "2022-09-28T03:40:16.528Z"
   },
   {
    "duration": 16,
    "start_time": "2022-09-28T03:40:16.543Z"
   },
   {
    "duration": 16,
    "start_time": "2022-09-28T03:40:16.566Z"
   },
   {
    "duration": 8,
    "start_time": "2022-09-28T03:40:16.583Z"
   },
   {
    "duration": 28,
    "start_time": "2022-09-28T03:40:16.593Z"
   },
   {
    "duration": 9,
    "start_time": "2022-09-28T03:40:16.622Z"
   },
   {
    "duration": 3,
    "start_time": "2022-09-28T03:40:16.632Z"
   },
   {
    "duration": 16,
    "start_time": "2022-09-28T03:40:16.636Z"
   },
   {
    "duration": 141,
    "start_time": "2022-09-28T03:40:16.653Z"
   },
   {
    "duration": 129,
    "start_time": "2022-09-28T03:40:16.796Z"
   },
   {
    "duration": 140,
    "start_time": "2022-09-28T03:40:16.927Z"
   },
   {
    "duration": 158,
    "start_time": "2022-09-28T03:40:17.068Z"
   },
   {
    "duration": 153,
    "start_time": "2022-09-28T03:40:17.228Z"
   },
   {
    "duration": 152,
    "start_time": "2022-09-28T03:40:17.383Z"
   },
   {
    "duration": 139,
    "start_time": "2022-09-28T03:40:17.536Z"
   },
   {
    "duration": 5,
    "start_time": "2022-09-28T03:40:17.676Z"
   },
   {
    "duration": 5,
    "start_time": "2022-09-28T03:40:17.684Z"
   },
   {
    "duration": 21,
    "start_time": "2022-09-28T03:40:17.691Z"
   },
   {
    "duration": 11,
    "start_time": "2022-09-28T03:40:17.713Z"
   },
   {
    "duration": 3,
    "start_time": "2022-09-28T03:40:17.725Z"
   },
   {
    "duration": 4,
    "start_time": "2022-09-28T03:40:17.729Z"
   },
   {
    "duration": 334,
    "start_time": "2022-09-28T03:40:17.734Z"
   },
   {
    "duration": 4,
    "start_time": "2022-09-28T03:40:18.069Z"
   },
   {
    "duration": 242,
    "start_time": "2022-09-28T03:40:18.075Z"
   },
   {
    "duration": 3,
    "start_time": "2022-09-28T03:40:18.318Z"
   },
   {
    "duration": 9,
    "start_time": "2022-09-28T03:40:18.322Z"
   },
   {
    "duration": 85,
    "start_time": "2022-09-28T03:40:18.333Z"
   },
   {
    "duration": 90,
    "start_time": "2022-09-28T03:40:18.420Z"
   },
   {
    "duration": 83,
    "start_time": "2022-09-28T03:40:18.511Z"
   },
   {
    "duration": 77,
    "start_time": "2022-09-28T03:40:18.608Z"
   },
   {
    "duration": 31,
    "start_time": "2022-09-28T03:40:18.686Z"
   },
   {
    "duration": 4,
    "start_time": "2022-09-28T03:40:18.719Z"
   },
   {
    "duration": 12,
    "start_time": "2022-09-28T03:40:18.724Z"
   },
   {
    "duration": 24,
    "start_time": "2022-09-28T03:40:18.737Z"
   },
   {
    "duration": 223,
    "start_time": "2022-09-28T03:40:18.763Z"
   },
   {
    "duration": 51,
    "start_time": "2022-09-28T03:40:18.987Z"
   },
   {
    "duration": 5,
    "start_time": "2022-09-28T03:40:19.039Z"
   },
   {
    "duration": 9,
    "start_time": "2022-09-28T03:40:19.045Z"
   },
   {
    "duration": 224,
    "start_time": "2022-09-28T03:40:19.055Z"
   },
   {
    "duration": 2,
    "start_time": "2022-09-28T03:40:19.281Z"
   },
   {
    "duration": 5,
    "start_time": "2022-09-28T03:40:19.284Z"
   },
   {
    "duration": 4,
    "start_time": "2022-09-28T03:40:19.291Z"
   },
   {
    "duration": 2,
    "start_time": "2022-09-28T03:40:19.309Z"
   },
   {
    "duration": 12,
    "start_time": "2022-09-28T03:40:19.312Z"
   },
   {
    "duration": 99,
    "start_time": "2022-09-28T03:40:19.325Z"
   },
   {
    "duration": 5,
    "start_time": "2022-09-28T03:40:19.426Z"
   },
   {
    "duration": 6,
    "start_time": "2022-09-28T03:40:19.432Z"
   },
   {
    "duration": 13,
    "start_time": "2022-09-28T03:40:19.440Z"
   },
   {
    "duration": 4,
    "start_time": "2022-09-28T03:40:19.454Z"
   },
   {
    "duration": 4,
    "start_time": "2022-09-28T03:40:19.460Z"
   },
   {
    "duration": 10,
    "start_time": "2022-09-28T03:40:19.465Z"
   },
   {
    "duration": 3,
    "start_time": "2022-09-28T03:40:19.477Z"
   },
   {
    "duration": 8454,
    "start_time": "2022-09-28T03:40:19.482Z"
   },
   {
    "duration": 3,
    "start_time": "2022-09-28T03:40:27.937Z"
   },
   {
    "duration": 2669,
    "start_time": "2022-09-28T03:40:27.941Z"
   },
   {
    "duration": 3,
    "start_time": "2022-09-28T03:40:30.611Z"
   },
   {
    "duration": 20,
    "start_time": "2022-09-28T03:40:30.615Z"
   },
   {
    "duration": 19,
    "start_time": "2022-09-28T03:40:30.637Z"
   },
   {
    "duration": 2124,
    "start_time": "2022-09-28T03:43:14.029Z"
   },
   {
    "duration": 1518,
    "start_time": "2022-09-28T03:43:16.156Z"
   },
   {
    "duration": 643,
    "start_time": "2022-09-28T03:43:17.675Z"
   },
   {
    "duration": 4,
    "start_time": "2022-09-28T03:43:18.320Z"
   },
   {
    "duration": 352,
    "start_time": "2022-09-28T03:43:18.325Z"
   },
   {
    "duration": 157,
    "start_time": "2022-09-28T03:43:18.678Z"
   },
   {
    "duration": 327,
    "start_time": "2022-09-28T03:43:18.836Z"
   },
   {
    "duration": 5,
    "start_time": "2022-09-28T03:43:19.165Z"
   },
   {
    "duration": 11,
    "start_time": "2022-09-28T03:43:19.171Z"
   },
   {
    "duration": 4,
    "start_time": "2022-09-28T03:43:19.185Z"
   },
   {
    "duration": 24,
    "start_time": "2022-09-28T03:43:19.190Z"
   },
   {
    "duration": 12,
    "start_time": "2022-09-28T03:43:19.215Z"
   },
   {
    "duration": 2,
    "start_time": "2022-09-28T03:43:19.228Z"
   },
   {
    "duration": 13,
    "start_time": "2022-09-28T03:43:19.232Z"
   },
   {
    "duration": 10,
    "start_time": "2022-09-28T03:43:19.247Z"
   },
   {
    "duration": 18,
    "start_time": "2022-09-28T03:43:19.258Z"
   },
   {
    "duration": 36,
    "start_time": "2022-09-28T03:43:19.277Z"
   },
   {
    "duration": 3,
    "start_time": "2022-09-28T03:43:19.315Z"
   },
   {
    "duration": 6,
    "start_time": "2022-09-28T03:43:19.320Z"
   },
   {
    "duration": 155,
    "start_time": "2022-09-28T03:43:19.328Z"
   },
   {
    "duration": 140,
    "start_time": "2022-09-28T03:43:19.485Z"
   },
   {
    "duration": 144,
    "start_time": "2022-09-28T03:43:19.626Z"
   },
   {
    "duration": 156,
    "start_time": "2022-09-28T03:43:19.771Z"
   },
   {
    "duration": 154,
    "start_time": "2022-09-28T03:43:19.929Z"
   },
   {
    "duration": 148,
    "start_time": "2022-09-28T03:43:20.085Z"
   },
   {
    "duration": 148,
    "start_time": "2022-09-28T03:43:20.235Z"
   },
   {
    "duration": 6,
    "start_time": "2022-09-28T03:43:20.385Z"
   },
   {
    "duration": 5,
    "start_time": "2022-09-28T03:43:20.409Z"
   },
   {
    "duration": 13,
    "start_time": "2022-09-28T03:43:20.415Z"
   },
   {
    "duration": 10,
    "start_time": "2022-09-28T03:43:20.430Z"
   },
   {
    "duration": 4,
    "start_time": "2022-09-28T03:43:20.442Z"
   },
   {
    "duration": 7,
    "start_time": "2022-09-28T03:43:20.447Z"
   },
   {
    "duration": 331,
    "start_time": "2022-09-28T03:43:20.455Z"
   },
   {
    "duration": 5,
    "start_time": "2022-09-28T03:43:20.788Z"
   },
   {
    "duration": 239,
    "start_time": "2022-09-28T03:43:20.794Z"
   },
   {
    "duration": 3,
    "start_time": "2022-09-28T03:43:21.035Z"
   },
   {
    "duration": 3,
    "start_time": "2022-09-28T03:43:21.040Z"
   },
   {
    "duration": 94,
    "start_time": "2022-09-28T03:43:21.045Z"
   },
   {
    "duration": 91,
    "start_time": "2022-09-28T03:43:21.141Z"
   },
   {
    "duration": 100,
    "start_time": "2022-09-28T03:43:21.234Z"
   },
   {
    "duration": 90,
    "start_time": "2022-09-28T03:43:21.336Z"
   },
   {
    "duration": 19,
    "start_time": "2022-09-28T03:43:21.428Z"
   },
   {
    "duration": 5,
    "start_time": "2022-09-28T03:43:21.449Z"
   },
   {
    "duration": 12,
    "start_time": "2022-09-28T03:43:21.456Z"
   },
   {
    "duration": 15,
    "start_time": "2022-09-28T03:43:21.470Z"
   },
   {
    "duration": 242,
    "start_time": "2022-09-28T03:43:21.487Z"
   },
   {
    "duration": 44,
    "start_time": "2022-09-28T03:43:21.731Z"
   },
   {
    "duration": 4,
    "start_time": "2022-09-28T03:43:21.777Z"
   },
   {
    "duration": 8,
    "start_time": "2022-09-28T03:43:21.782Z"
   },
   {
    "duration": 229,
    "start_time": "2022-09-28T03:43:21.792Z"
   },
   {
    "duration": 3,
    "start_time": "2022-09-28T03:43:22.022Z"
   },
   {
    "duration": 7,
    "start_time": "2022-09-28T03:43:22.027Z"
   },
   {
    "duration": 5,
    "start_time": "2022-09-28T03:43:22.035Z"
   },
   {
    "duration": 5,
    "start_time": "2022-09-28T03:43:22.041Z"
   },
   {
    "duration": 13,
    "start_time": "2022-09-28T03:43:22.047Z"
   },
   {
    "duration": 103,
    "start_time": "2022-09-28T03:43:22.061Z"
   },
   {
    "duration": 6,
    "start_time": "2022-09-28T03:43:22.165Z"
   },
   {
    "duration": 6,
    "start_time": "2022-09-28T03:43:22.172Z"
   },
   {
    "duration": 13,
    "start_time": "2022-09-28T03:43:22.180Z"
   },
   {
    "duration": 17,
    "start_time": "2022-09-28T03:43:22.194Z"
   },
   {
    "duration": 3,
    "start_time": "2022-09-28T03:43:22.212Z"
   },
   {
    "duration": 7,
    "start_time": "2022-09-28T03:43:22.217Z"
   },
   {
    "duration": 4,
    "start_time": "2022-09-28T03:43:22.225Z"
   },
   {
    "duration": 8492,
    "start_time": "2022-09-28T03:43:22.230Z"
   },
   {
    "duration": 2,
    "start_time": "2022-09-28T03:43:30.724Z"
   },
   {
    "duration": 2486,
    "start_time": "2022-09-28T03:43:30.727Z"
   },
   {
    "duration": 4,
    "start_time": "2022-09-28T03:43:33.215Z"
   },
   {
    "duration": 96,
    "start_time": "2022-09-28T03:43:33.221Z"
   },
   {
    "duration": 91,
    "start_time": "2022-09-28T03:43:33.319Z"
   },
   {
    "duration": 2161812,
    "start_time": "2022-09-28T03:43:33.412Z"
   },
   {
    "duration": 3,
    "start_time": "2022-09-28T04:19:35.225Z"
   },
   {
    "duration": 5,
    "start_time": "2022-09-28T04:19:35.229Z"
   },
   {
    "duration": 6,
    "start_time": "2022-09-28T04:19:35.236Z"
   },
   {
    "duration": 10,
    "start_time": "2022-09-28T04:19:35.243Z"
   },
   {
    "duration": 2172,
    "start_time": "2022-09-28T04:19:35.254Z"
   },
   {
    "duration": 482,
    "start_time": "2022-09-28T04:19:37.428Z"
   },
   {
    "duration": 4801,
    "start_time": "2022-09-28T04:19:37.914Z"
   },
   {
    "duration": 2,
    "start_time": "2022-09-28T04:19:42.717Z"
   },
   {
    "duration": 10,
    "start_time": "2022-09-28T04:19:42.720Z"
   },
   {
    "duration": 2413,
    "start_time": "2022-09-28T04:34:02.399Z"
   },
   {
    "duration": 13700,
    "start_time": "2022-09-28T14:19:40.235Z"
   },
   {
    "duration": 2328,
    "start_time": "2022-09-28T14:19:53.937Z"
   },
   {
    "duration": 1895,
    "start_time": "2022-09-28T14:19:56.267Z"
   },
   {
    "duration": 6,
    "start_time": "2022-09-28T14:19:58.166Z"
   },
   {
    "duration": 394,
    "start_time": "2022-09-28T14:19:58.174Z"
   },
   {
    "duration": 177,
    "start_time": "2022-09-28T14:19:58.570Z"
   },
   {
    "duration": 380,
    "start_time": "2022-09-28T14:19:58.749Z"
   },
   {
    "duration": 6,
    "start_time": "2022-09-28T14:19:59.131Z"
   },
   {
    "duration": 15,
    "start_time": "2022-09-28T14:19:59.138Z"
   },
   {
    "duration": 4,
    "start_time": "2022-09-28T14:19:59.156Z"
   },
   {
    "duration": 10,
    "start_time": "2022-09-28T14:19:59.162Z"
   },
   {
    "duration": 13,
    "start_time": "2022-09-28T14:19:59.197Z"
   },
   {
    "duration": 10,
    "start_time": "2022-09-28T14:19:59.212Z"
   },
   {
    "duration": 12,
    "start_time": "2022-09-28T14:19:59.224Z"
   },
   {
    "duration": 9,
    "start_time": "2022-09-28T14:19:59.237Z"
   },
   {
    "duration": 19,
    "start_time": "2022-09-28T14:19:59.248Z"
   },
   {
    "duration": 28,
    "start_time": "2022-09-28T14:19:59.269Z"
   },
   {
    "duration": 3,
    "start_time": "2022-09-28T14:19:59.299Z"
   },
   {
    "duration": 5,
    "start_time": "2022-09-28T14:19:59.304Z"
   },
   {
    "duration": 167,
    "start_time": "2022-09-28T14:19:59.311Z"
   },
   {
    "duration": 158,
    "start_time": "2022-09-28T14:19:59.480Z"
   },
   {
    "duration": 166,
    "start_time": "2022-09-28T14:19:59.640Z"
   },
   {
    "duration": 173,
    "start_time": "2022-09-28T14:19:59.808Z"
   },
   {
    "duration": 180,
    "start_time": "2022-09-28T14:19:59.983Z"
   },
   {
    "duration": 174,
    "start_time": "2022-09-28T14:20:00.165Z"
   },
   {
    "duration": 167,
    "start_time": "2022-09-28T14:20:00.340Z"
   },
   {
    "duration": 6,
    "start_time": "2022-09-28T14:20:00.508Z"
   },
   {
    "duration": 19,
    "start_time": "2022-09-28T14:20:00.518Z"
   },
   {
    "duration": 36,
    "start_time": "2022-09-28T14:20:00.538Z"
   },
   {
    "duration": 30,
    "start_time": "2022-09-28T14:20:00.576Z"
   },
   {
    "duration": 28,
    "start_time": "2022-09-28T14:20:00.608Z"
   },
   {
    "duration": 30,
    "start_time": "2022-09-28T14:20:00.639Z"
   },
   {
    "duration": 429,
    "start_time": "2022-09-28T14:20:00.671Z"
   },
   {
    "duration": 4,
    "start_time": "2022-09-28T14:20:01.102Z"
   },
   {
    "duration": 287,
    "start_time": "2022-09-28T14:20:01.108Z"
   },
   {
    "duration": 3,
    "start_time": "2022-09-28T14:20:01.397Z"
   },
   {
    "duration": 26,
    "start_time": "2022-09-28T14:20:01.402Z"
   },
   {
    "duration": 99,
    "start_time": "2022-09-28T14:20:01.430Z"
   },
   {
    "duration": 109,
    "start_time": "2022-09-28T14:20:01.530Z"
   },
   {
    "duration": 118,
    "start_time": "2022-09-28T14:20:01.640Z"
   },
   {
    "duration": 101,
    "start_time": "2022-09-28T14:20:01.761Z"
   },
   {
    "duration": 34,
    "start_time": "2022-09-28T14:20:01.863Z"
   },
   {
    "duration": 3,
    "start_time": "2022-09-28T14:20:01.899Z"
   },
   {
    "duration": 10,
    "start_time": "2022-09-28T14:20:01.904Z"
   },
   {
    "duration": 20,
    "start_time": "2022-09-28T14:20:01.915Z"
   },
   {
    "duration": 292,
    "start_time": "2022-09-28T14:20:01.936Z"
   },
   {
    "duration": 69,
    "start_time": "2022-09-28T14:20:02.230Z"
   },
   {
    "duration": 4,
    "start_time": "2022-09-28T14:20:02.301Z"
   },
   {
    "duration": 33,
    "start_time": "2022-09-28T14:20:02.307Z"
   },
   {
    "duration": 256,
    "start_time": "2022-09-28T14:20:02.342Z"
   },
   {
    "duration": 3,
    "start_time": "2022-09-28T14:20:02.600Z"
   },
   {
    "duration": 6,
    "start_time": "2022-09-28T14:20:02.605Z"
   },
   {
    "duration": 33,
    "start_time": "2022-09-28T14:20:02.613Z"
   },
   {
    "duration": 15,
    "start_time": "2022-09-28T14:20:02.648Z"
   },
   {
    "duration": 17,
    "start_time": "2022-09-28T14:20:02.665Z"
   },
   {
    "duration": 133,
    "start_time": "2022-09-28T14:20:02.684Z"
   },
   {
    "duration": 7,
    "start_time": "2022-09-28T14:20:02.819Z"
   },
   {
    "duration": 7,
    "start_time": "2022-09-28T14:20:02.827Z"
   },
   {
    "duration": 17,
    "start_time": "2022-09-28T14:20:02.836Z"
   },
   {
    "duration": 7,
    "start_time": "2022-09-28T14:20:02.854Z"
   },
   {
    "duration": 11,
    "start_time": "2022-09-28T14:20:02.863Z"
   },
   {
    "duration": 152,
    "start_time": "2022-09-28T14:20:02.876Z"
   },
   {
    "duration": 0,
    "start_time": "2022-09-28T14:20:03.029Z"
   },
   {
    "duration": 4,
    "start_time": "2022-09-28T14:20:55.756Z"
   },
   {
    "duration": 52294,
    "start_time": "2022-09-28T14:20:57.691Z"
   },
   {
    "duration": 4,
    "start_time": "2022-09-28T14:22:16.617Z"
   },
   {
    "duration": 21,
    "start_time": "2022-09-28T14:22:18.741Z"
   },
   {
    "duration": 3,
    "start_time": "2022-09-28T14:22:49.815Z"
   },
   {
    "duration": 10651,
    "start_time": "2022-09-28T14:22:50.984Z"
   },
   {
    "duration": 3,
    "start_time": "2022-09-28T14:26:04.953Z"
   },
   {
    "duration": 133,
    "start_time": "2022-09-28T16:06:44.900Z"
   },
   {
    "duration": 5,
    "start_time": "2022-09-28T16:08:06.879Z"
   },
   {
    "duration": 47,
    "start_time": "2022-09-28T16:08:07.818Z"
   },
   {
    "duration": 7,
    "start_time": "2022-09-28T16:08:19.734Z"
   },
   {
    "duration": 13441,
    "start_time": "2022-09-28T16:08:23.996Z"
   },
   {
    "duration": 1798,
    "start_time": "2022-09-28T16:08:37.439Z"
   },
   {
    "duration": 3135,
    "start_time": "2022-09-28T16:08:39.239Z"
   },
   {
    "duration": 4,
    "start_time": "2022-09-28T16:08:42.376Z"
   },
   {
    "duration": 358,
    "start_time": "2022-09-28T16:08:42.382Z"
   },
   {
    "duration": 156,
    "start_time": "2022-09-28T16:08:42.742Z"
   },
   {
    "duration": 365,
    "start_time": "2022-09-28T16:08:42.900Z"
   },
   {
    "duration": 6,
    "start_time": "2022-09-28T16:08:43.266Z"
   },
   {
    "duration": 14,
    "start_time": "2022-09-28T16:08:43.274Z"
   },
   {
    "duration": 4,
    "start_time": "2022-09-28T16:08:43.308Z"
   },
   {
    "duration": 7,
    "start_time": "2022-09-28T16:08:43.314Z"
   },
   {
    "duration": 13,
    "start_time": "2022-09-28T16:08:43.322Z"
   },
   {
    "duration": 5,
    "start_time": "2022-09-28T16:08:43.336Z"
   },
   {
    "duration": 10,
    "start_time": "2022-09-28T16:08:43.342Z"
   },
   {
    "duration": 8,
    "start_time": "2022-09-28T16:08:43.353Z"
   },
   {
    "duration": 48,
    "start_time": "2022-09-28T16:08:43.363Z"
   },
   {
    "duration": 9,
    "start_time": "2022-09-28T16:08:43.412Z"
   },
   {
    "duration": 3,
    "start_time": "2022-09-28T16:08:43.423Z"
   },
   {
    "duration": 8,
    "start_time": "2022-09-28T16:08:43.427Z"
   },
   {
    "duration": 162,
    "start_time": "2022-09-28T16:08:43.436Z"
   },
   {
    "duration": 142,
    "start_time": "2022-09-28T16:08:43.608Z"
   },
   {
    "duration": 158,
    "start_time": "2022-09-28T16:08:43.752Z"
   },
   {
    "duration": 171,
    "start_time": "2022-09-28T16:08:43.912Z"
   },
   {
    "duration": 159,
    "start_time": "2022-09-28T16:08:44.085Z"
   },
   {
    "duration": 163,
    "start_time": "2022-09-28T16:08:44.245Z"
   },
   {
    "duration": 181,
    "start_time": "2022-09-28T16:08:44.410Z"
   },
   {
    "duration": 16,
    "start_time": "2022-09-28T16:08:44.593Z"
   },
   {
    "duration": 7,
    "start_time": "2022-09-28T16:08:44.614Z"
   },
   {
    "duration": 10,
    "start_time": "2022-09-28T16:08:44.623Z"
   },
   {
    "duration": 18,
    "start_time": "2022-09-28T16:08:44.635Z"
   },
   {
    "duration": 4,
    "start_time": "2022-09-28T16:08:44.654Z"
   },
   {
    "duration": 5,
    "start_time": "2022-09-28T16:08:44.659Z"
   },
   {
    "duration": 367,
    "start_time": "2022-09-28T16:08:44.665Z"
   },
   {
    "duration": 5,
    "start_time": "2022-09-28T16:08:45.034Z"
   },
   {
    "duration": 262,
    "start_time": "2022-09-28T16:08:45.041Z"
   },
   {
    "duration": 4,
    "start_time": "2022-09-28T16:08:45.310Z"
   },
   {
    "duration": 6,
    "start_time": "2022-09-28T16:08:45.316Z"
   },
   {
    "duration": 107,
    "start_time": "2022-09-28T16:08:45.324Z"
   },
   {
    "duration": 100,
    "start_time": "2022-09-28T16:08:45.432Z"
   },
   {
    "duration": 101,
    "start_time": "2022-09-28T16:08:45.533Z"
   },
   {
    "duration": 94,
    "start_time": "2022-09-28T16:08:45.635Z"
   },
   {
    "duration": 28,
    "start_time": "2022-09-28T16:08:45.731Z"
   },
   {
    "duration": 11,
    "start_time": "2022-09-28T16:08:45.760Z"
   },
   {
    "duration": 15,
    "start_time": "2022-09-28T16:08:45.773Z"
   },
   {
    "duration": 37,
    "start_time": "2022-09-28T16:08:45.790Z"
   },
   {
    "duration": 252,
    "start_time": "2022-09-28T16:08:45.829Z"
   },
   {
    "duration": 56,
    "start_time": "2022-09-28T16:08:46.083Z"
   },
   {
    "duration": 5,
    "start_time": "2022-09-28T16:08:46.141Z"
   },
   {
    "duration": 10,
    "start_time": "2022-09-28T16:08:46.147Z"
   },
   {
    "duration": 263,
    "start_time": "2022-09-28T16:08:46.158Z"
   },
   {
    "duration": 3,
    "start_time": "2022-09-28T16:08:46.423Z"
   },
   {
    "duration": 5,
    "start_time": "2022-09-28T16:08:46.428Z"
   },
   {
    "duration": 5,
    "start_time": "2022-09-28T16:08:46.435Z"
   },
   {
    "duration": 5,
    "start_time": "2022-09-28T16:08:46.441Z"
   },
   {
    "duration": 8,
    "start_time": "2022-09-28T16:08:46.448Z"
   },
   {
    "duration": 120,
    "start_time": "2022-09-28T16:08:46.457Z"
   },
   {
    "duration": 6,
    "start_time": "2022-09-28T16:08:46.579Z"
   },
   {
    "duration": 7,
    "start_time": "2022-09-28T16:08:46.587Z"
   },
   {
    "duration": 13,
    "start_time": "2022-09-28T16:08:46.609Z"
   },
   {
    "duration": 4,
    "start_time": "2022-09-28T16:08:46.624Z"
   },
   {
    "duration": 5,
    "start_time": "2022-09-28T16:08:46.630Z"
   },
   {
    "duration": 9,
    "start_time": "2022-09-28T16:08:46.636Z"
   },
   {
    "duration": 142,
    "start_time": "2022-09-28T16:08:46.647Z"
   },
   {
    "duration": 0,
    "start_time": "2022-09-28T16:08:46.792Z"
   },
   {
    "duration": 0,
    "start_time": "2022-09-28T16:08:46.793Z"
   },
   {
    "duration": 0,
    "start_time": "2022-09-28T16:08:46.795Z"
   },
   {
    "duration": 0,
    "start_time": "2022-09-28T16:08:46.809Z"
   },
   {
    "duration": 0,
    "start_time": "2022-09-28T16:08:46.810Z"
   },
   {
    "duration": 0,
    "start_time": "2022-09-28T16:08:46.812Z"
   },
   {
    "duration": 0,
    "start_time": "2022-09-28T16:08:46.813Z"
   },
   {
    "duration": 0,
    "start_time": "2022-09-28T16:08:46.814Z"
   },
   {
    "duration": 1,
    "start_time": "2022-09-28T16:08:46.815Z"
   },
   {
    "duration": 0,
    "start_time": "2022-09-28T16:08:46.817Z"
   },
   {
    "duration": 0,
    "start_time": "2022-09-28T16:08:46.818Z"
   },
   {
    "duration": 0,
    "start_time": "2022-09-28T16:08:46.819Z"
   },
   {
    "duration": 0,
    "start_time": "2022-09-28T16:08:46.821Z"
   },
   {
    "duration": 0,
    "start_time": "2022-09-28T16:08:46.822Z"
   },
   {
    "duration": 0,
    "start_time": "2022-09-28T16:08:46.823Z"
   },
   {
    "duration": 0,
    "start_time": "2022-09-28T16:08:46.825Z"
   },
   {
    "duration": 4,
    "start_time": "2022-09-28T16:09:57.995Z"
   },
   {
    "duration": 240,
    "start_time": "2022-09-28T16:09:58.731Z"
   },
   {
    "duration": 4,
    "start_time": "2022-09-28T16:10:10.092Z"
   },
   {
    "duration": 246,
    "start_time": "2022-09-28T16:10:10.723Z"
   },
   {
    "duration": 5,
    "start_time": "2022-09-28T16:10:36.451Z"
   },
   {
    "duration": 265,
    "start_time": "2022-09-28T16:10:38.411Z"
   },
   {
    "duration": 4,
    "start_time": "2022-09-28T16:10:51.156Z"
   },
   {
    "duration": 255,
    "start_time": "2022-09-28T16:10:51.707Z"
   },
   {
    "duration": 5,
    "start_time": "2022-09-28T16:10:58.118Z"
   },
   {
    "duration": 239,
    "start_time": "2022-09-28T16:10:58.747Z"
   },
   {
    "duration": 5,
    "start_time": "2022-09-28T16:11:06.482Z"
   },
   {
    "duration": 341,
    "start_time": "2022-09-28T16:11:07.332Z"
   },
   {
    "duration": 54,
    "start_time": "2022-09-28T16:11:57.097Z"
   },
   {
    "duration": 1047,
    "start_time": "2022-09-28T16:12:37.205Z"
   },
   {
    "duration": 1106,
    "start_time": "2022-09-28T16:12:45.344Z"
   },
   {
    "duration": 852,
    "start_time": "2022-09-28T16:14:21.434Z"
   },
   {
    "duration": 3,
    "start_time": "2022-09-28T16:16:06.492Z"
   },
   {
    "duration": 2262,
    "start_time": "2022-09-28T16:17:40.249Z"
   },
   {
    "duration": 1671,
    "start_time": "2022-09-28T16:17:42.514Z"
   },
   {
    "duration": 746,
    "start_time": "2022-09-28T16:17:44.187Z"
   },
   {
    "duration": 5,
    "start_time": "2022-09-28T16:17:44.935Z"
   },
   {
    "duration": 373,
    "start_time": "2022-09-28T16:17:44.941Z"
   },
   {
    "duration": 170,
    "start_time": "2022-09-28T16:17:45.316Z"
   },
   {
    "duration": 358,
    "start_time": "2022-09-28T16:17:45.487Z"
   },
   {
    "duration": 6,
    "start_time": "2022-09-28T16:17:45.847Z"
   },
   {
    "duration": 18,
    "start_time": "2022-09-28T16:17:45.855Z"
   },
   {
    "duration": 5,
    "start_time": "2022-09-28T16:17:45.877Z"
   },
   {
    "duration": 30,
    "start_time": "2022-09-28T16:17:45.884Z"
   },
   {
    "duration": 16,
    "start_time": "2022-09-28T16:17:45.916Z"
   },
   {
    "duration": 5,
    "start_time": "2022-09-28T16:17:45.934Z"
   },
   {
    "duration": 13,
    "start_time": "2022-09-28T16:17:45.941Z"
   },
   {
    "duration": 8,
    "start_time": "2022-09-28T16:17:45.956Z"
   },
   {
    "duration": 14,
    "start_time": "2022-09-28T16:17:45.966Z"
   },
   {
    "duration": 11,
    "start_time": "2022-09-28T16:17:46.009Z"
   },
   {
    "duration": 3,
    "start_time": "2022-09-28T16:17:46.022Z"
   },
   {
    "duration": 5,
    "start_time": "2022-09-28T16:17:46.027Z"
   },
   {
    "duration": 183,
    "start_time": "2022-09-28T16:17:46.033Z"
   },
   {
    "duration": 155,
    "start_time": "2022-09-28T16:17:46.217Z"
   },
   {
    "duration": 178,
    "start_time": "2022-09-28T16:17:46.374Z"
   },
   {
    "duration": 168,
    "start_time": "2022-09-28T16:17:46.554Z"
   },
   {
    "duration": 155,
    "start_time": "2022-09-28T16:17:46.723Z"
   },
   {
    "duration": 162,
    "start_time": "2022-09-28T16:17:46.880Z"
   },
   {
    "duration": 154,
    "start_time": "2022-09-28T16:17:47.043Z"
   },
   {
    "duration": 12,
    "start_time": "2022-09-28T16:17:47.199Z"
   },
   {
    "duration": 6,
    "start_time": "2022-09-28T16:17:47.215Z"
   },
   {
    "duration": 6,
    "start_time": "2022-09-28T16:17:47.223Z"
   },
   {
    "duration": 7,
    "start_time": "2022-09-28T16:17:47.230Z"
   },
   {
    "duration": 8,
    "start_time": "2022-09-28T16:17:47.239Z"
   },
   {
    "duration": 21,
    "start_time": "2022-09-28T16:17:47.248Z"
   },
   {
    "duration": 369,
    "start_time": "2022-09-28T16:17:47.271Z"
   },
   {
    "duration": 4,
    "start_time": "2022-09-28T16:17:47.641Z"
   },
   {
    "duration": 252,
    "start_time": "2022-09-28T16:17:47.647Z"
   },
   {
    "duration": 9,
    "start_time": "2022-09-28T16:17:47.900Z"
   },
   {
    "duration": 6,
    "start_time": "2022-09-28T16:17:47.910Z"
   },
   {
    "duration": 81,
    "start_time": "2022-09-28T16:17:47.917Z"
   },
   {
    "duration": 88,
    "start_time": "2022-09-28T16:17:48.009Z"
   },
   {
    "duration": 94,
    "start_time": "2022-09-28T16:17:48.099Z"
   },
   {
    "duration": 98,
    "start_time": "2022-09-28T16:17:48.195Z"
   },
   {
    "duration": 30,
    "start_time": "2022-09-28T16:17:48.295Z"
   },
   {
    "duration": 3,
    "start_time": "2022-09-28T16:17:48.327Z"
   },
   {
    "duration": 13,
    "start_time": "2022-09-28T16:17:48.332Z"
   },
   {
    "duration": 17,
    "start_time": "2022-09-28T16:17:48.347Z"
   },
   {
    "duration": 268,
    "start_time": "2022-09-28T16:17:48.365Z"
   },
   {
    "duration": 45,
    "start_time": "2022-09-28T16:17:48.635Z"
   },
   {
    "duration": 4,
    "start_time": "2022-09-28T16:17:48.682Z"
   },
   {
    "duration": 1175,
    "start_time": "2022-09-28T16:17:48.688Z"
   },
   {
    "duration": 0,
    "start_time": "2022-09-28T16:17:49.865Z"
   },
   {
    "duration": 0,
    "start_time": "2022-09-28T16:17:49.866Z"
   },
   {
    "duration": 0,
    "start_time": "2022-09-28T16:17:49.867Z"
   },
   {
    "duration": 0,
    "start_time": "2022-09-28T16:17:49.868Z"
   },
   {
    "duration": 0,
    "start_time": "2022-09-28T16:17:49.869Z"
   },
   {
    "duration": 0,
    "start_time": "2022-09-28T16:17:49.870Z"
   },
   {
    "duration": 0,
    "start_time": "2022-09-28T16:17:49.871Z"
   },
   {
    "duration": 0,
    "start_time": "2022-09-28T16:17:49.872Z"
   },
   {
    "duration": 0,
    "start_time": "2022-09-28T16:17:49.873Z"
   },
   {
    "duration": 0,
    "start_time": "2022-09-28T16:17:49.874Z"
   },
   {
    "duration": 0,
    "start_time": "2022-09-28T16:17:49.876Z"
   },
   {
    "duration": 0,
    "start_time": "2022-09-28T16:17:49.877Z"
   },
   {
    "duration": 0,
    "start_time": "2022-09-28T16:17:49.878Z"
   },
   {
    "duration": 0,
    "start_time": "2022-09-28T16:17:49.879Z"
   },
   {
    "duration": 0,
    "start_time": "2022-09-28T16:17:49.880Z"
   },
   {
    "duration": 0,
    "start_time": "2022-09-28T16:17:49.881Z"
   },
   {
    "duration": 0,
    "start_time": "2022-09-28T16:17:49.882Z"
   },
   {
    "duration": 0,
    "start_time": "2022-09-28T16:17:49.883Z"
   },
   {
    "duration": 0,
    "start_time": "2022-09-28T16:17:49.884Z"
   },
   {
    "duration": 0,
    "start_time": "2022-09-28T16:17:49.885Z"
   },
   {
    "duration": 0,
    "start_time": "2022-09-28T16:17:49.886Z"
   },
   {
    "duration": 0,
    "start_time": "2022-09-28T16:17:49.887Z"
   },
   {
    "duration": 0,
    "start_time": "2022-09-28T16:17:49.889Z"
   },
   {
    "duration": 0,
    "start_time": "2022-09-28T16:17:49.890Z"
   },
   {
    "duration": 0,
    "start_time": "2022-09-28T16:17:49.891Z"
   },
   {
    "duration": 0,
    "start_time": "2022-09-28T16:17:49.892Z"
   },
   {
    "duration": 0,
    "start_time": "2022-09-28T16:17:49.893Z"
   },
   {
    "duration": 0,
    "start_time": "2022-09-28T16:17:49.893Z"
   },
   {
    "duration": 0,
    "start_time": "2022-09-28T16:17:49.895Z"
   },
   {
    "duration": 0,
    "start_time": "2022-09-28T16:17:49.895Z"
   },
   {
    "duration": 10,
    "start_time": "2022-09-28T16:18:35.943Z"
   },
   {
    "duration": 247,
    "start_time": "2022-09-28T16:18:40.151Z"
   },
   {
    "duration": 2256,
    "start_time": "2022-09-28T16:18:55.145Z"
   },
   {
    "duration": 1951,
    "start_time": "2022-09-28T16:18:57.404Z"
   },
   {
    "duration": 668,
    "start_time": "2022-09-28T16:18:59.357Z"
   },
   {
    "duration": 4,
    "start_time": "2022-09-28T16:19:00.026Z"
   },
   {
    "duration": 377,
    "start_time": "2022-09-28T16:19:00.032Z"
   },
   {
    "duration": 165,
    "start_time": "2022-09-28T16:19:00.410Z"
   },
   {
    "duration": 354,
    "start_time": "2022-09-28T16:19:00.576Z"
   },
   {
    "duration": 5,
    "start_time": "2022-09-28T16:19:00.932Z"
   },
   {
    "duration": 15,
    "start_time": "2022-09-28T16:19:00.939Z"
   },
   {
    "duration": 5,
    "start_time": "2022-09-28T16:19:00.956Z"
   },
   {
    "duration": 9,
    "start_time": "2022-09-28T16:19:00.962Z"
   },
   {
    "duration": 37,
    "start_time": "2022-09-28T16:19:00.972Z"
   },
   {
    "duration": 3,
    "start_time": "2022-09-28T16:19:01.010Z"
   },
   {
    "duration": 13,
    "start_time": "2022-09-28T16:19:01.016Z"
   },
   {
    "duration": 8,
    "start_time": "2022-09-28T16:19:01.030Z"
   },
   {
    "duration": 17,
    "start_time": "2022-09-28T16:19:01.039Z"
   },
   {
    "duration": 9,
    "start_time": "2022-09-28T16:19:01.057Z"
   },
   {
    "duration": 4,
    "start_time": "2022-09-28T16:19:01.067Z"
   },
   {
    "duration": 11,
    "start_time": "2022-09-28T16:19:01.072Z"
   },
   {
    "duration": 176,
    "start_time": "2022-09-28T16:19:01.084Z"
   },
   {
    "duration": 148,
    "start_time": "2022-09-28T16:19:01.262Z"
   },
   {
    "duration": 158,
    "start_time": "2022-09-28T16:19:01.412Z"
   },
   {
    "duration": 179,
    "start_time": "2022-09-28T16:19:01.572Z"
   },
   {
    "duration": 159,
    "start_time": "2022-09-28T16:19:01.753Z"
   },
   {
    "duration": 156,
    "start_time": "2022-09-28T16:19:01.914Z"
   },
   {
    "duration": 155,
    "start_time": "2022-09-28T16:19:02.071Z"
   },
   {
    "duration": 6,
    "start_time": "2022-09-28T16:19:02.228Z"
   },
   {
    "duration": 14,
    "start_time": "2022-09-28T16:19:02.235Z"
   },
   {
    "duration": 13,
    "start_time": "2022-09-28T16:19:02.250Z"
   },
   {
    "duration": 8,
    "start_time": "2022-09-28T16:19:02.265Z"
   },
   {
    "duration": 11,
    "start_time": "2022-09-28T16:19:02.274Z"
   },
   {
    "duration": 6,
    "start_time": "2022-09-28T16:19:02.286Z"
   },
   {
    "duration": 259,
    "start_time": "2022-09-28T16:19:02.293Z"
   },
   {
    "duration": 4,
    "start_time": "2022-09-28T16:19:02.554Z"
   },
   {
    "duration": 331,
    "start_time": "2022-09-28T16:19:02.559Z"
   },
   {
    "duration": 3,
    "start_time": "2022-09-28T16:19:02.891Z"
   },
   {
    "duration": 14,
    "start_time": "2022-09-28T16:19:02.895Z"
   },
   {
    "duration": 74,
    "start_time": "2022-09-28T16:19:02.910Z"
   },
   {
    "duration": 92,
    "start_time": "2022-09-28T16:19:02.986Z"
   },
   {
    "duration": 97,
    "start_time": "2022-09-28T16:19:03.079Z"
   },
   {
    "duration": 87,
    "start_time": "2022-09-28T16:19:03.180Z"
   },
   {
    "duration": 19,
    "start_time": "2022-09-28T16:19:03.268Z"
   },
   {
    "duration": 20,
    "start_time": "2022-09-28T16:19:03.289Z"
   },
   {
    "duration": 7,
    "start_time": "2022-09-28T16:19:03.311Z"
   },
   {
    "duration": 15,
    "start_time": "2022-09-28T16:19:03.320Z"
   },
   {
    "duration": 245,
    "start_time": "2022-09-28T16:19:03.337Z"
   },
   {
    "duration": 52,
    "start_time": "2022-09-28T16:19:03.583Z"
   },
   {
    "duration": 5,
    "start_time": "2022-09-28T16:19:03.636Z"
   },
   {
    "duration": 13,
    "start_time": "2022-09-28T16:19:03.642Z"
   },
   {
    "duration": 249,
    "start_time": "2022-09-28T16:19:03.656Z"
   },
   {
    "duration": 5,
    "start_time": "2022-09-28T16:19:03.906Z"
   },
   {
    "duration": 5,
    "start_time": "2022-09-28T16:19:03.912Z"
   },
   {
    "duration": 6,
    "start_time": "2022-09-28T16:19:03.918Z"
   },
   {
    "duration": 6,
    "start_time": "2022-09-28T16:19:03.925Z"
   },
   {
    "duration": 8,
    "start_time": "2022-09-28T16:19:03.932Z"
   },
   {
    "duration": 17,
    "start_time": "2022-09-28T16:19:03.942Z"
   },
   {
    "duration": 6,
    "start_time": "2022-09-28T16:19:03.960Z"
   },
   {
    "duration": 11,
    "start_time": "2022-09-28T16:19:03.968Z"
   },
   {
    "duration": 29,
    "start_time": "2022-09-28T16:19:03.980Z"
   },
   {
    "duration": 3,
    "start_time": "2022-09-28T16:19:04.011Z"
   },
   {
    "duration": 4,
    "start_time": "2022-09-28T16:19:04.016Z"
   },
   {
    "duration": 8,
    "start_time": "2022-09-28T16:19:04.022Z"
   },
   {
    "duration": 6,
    "start_time": "2022-09-28T16:19:04.032Z"
   },
   {
    "duration": 8795,
    "start_time": "2022-09-28T16:19:04.040Z"
   },
   {
    "duration": 3,
    "start_time": "2022-09-28T16:19:12.837Z"
   },
   {
    "duration": 2368,
    "start_time": "2022-09-28T16:19:12.842Z"
   },
   {
    "duration": 3,
    "start_time": "2022-09-28T16:19:15.212Z"
   },
   {
    "duration": 19,
    "start_time": "2022-09-28T16:19:15.216Z"
   },
   {
    "duration": 16,
    "start_time": "2022-09-28T16:19:15.236Z"
   },
   {
    "duration": 2217,
    "start_time": "2022-09-28T16:29:47.903Z"
   },
   {
    "duration": 1786,
    "start_time": "2022-09-28T16:29:50.122Z"
   },
   {
    "duration": 658,
    "start_time": "2022-09-28T16:29:51.909Z"
   },
   {
    "duration": 4,
    "start_time": "2022-09-28T16:29:52.569Z"
   },
   {
    "duration": 343,
    "start_time": "2022-09-28T16:29:52.574Z"
   },
   {
    "duration": 149,
    "start_time": "2022-09-28T16:29:52.919Z"
   },
   {
    "duration": 339,
    "start_time": "2022-09-28T16:29:53.070Z"
   },
   {
    "duration": 5,
    "start_time": "2022-09-28T16:29:53.410Z"
   },
   {
    "duration": 17,
    "start_time": "2022-09-28T16:29:53.416Z"
   },
   {
    "duration": 3,
    "start_time": "2022-09-28T16:29:53.435Z"
   },
   {
    "duration": 11,
    "start_time": "2022-09-28T16:29:53.440Z"
   },
   {
    "duration": 12,
    "start_time": "2022-09-28T16:29:53.452Z"
   },
   {
    "duration": 11,
    "start_time": "2022-09-28T16:29:53.466Z"
   },
   {
    "duration": 33,
    "start_time": "2022-09-28T16:29:53.478Z"
   },
   {
    "duration": 8,
    "start_time": "2022-09-28T16:29:53.513Z"
   },
   {
    "duration": 26,
    "start_time": "2022-09-28T16:29:53.523Z"
   },
   {
    "duration": 9,
    "start_time": "2022-09-28T16:29:53.551Z"
   },
   {
    "duration": 3,
    "start_time": "2022-09-28T16:29:53.561Z"
   },
   {
    "duration": 8,
    "start_time": "2022-09-28T16:29:53.565Z"
   },
   {
    "duration": 144,
    "start_time": "2022-09-28T16:29:53.574Z"
   },
   {
    "duration": 136,
    "start_time": "2022-09-28T16:29:53.720Z"
   },
   {
    "duration": 144,
    "start_time": "2022-09-28T16:29:53.858Z"
   },
   {
    "duration": 150,
    "start_time": "2022-09-28T16:29:54.003Z"
   },
   {
    "duration": 160,
    "start_time": "2022-09-28T16:29:54.155Z"
   },
   {
    "duration": 163,
    "start_time": "2022-09-28T16:29:54.317Z"
   },
   {
    "duration": 183,
    "start_time": "2022-09-28T16:29:54.482Z"
   },
   {
    "duration": 4,
    "start_time": "2022-09-28T16:29:54.666Z"
   },
   {
    "duration": 6,
    "start_time": "2022-09-28T16:29:54.674Z"
   },
   {
    "duration": 9,
    "start_time": "2022-09-28T16:29:54.682Z"
   },
   {
    "duration": 6,
    "start_time": "2022-09-28T16:29:54.709Z"
   },
   {
    "duration": 5,
    "start_time": "2022-09-28T16:29:54.716Z"
   },
   {
    "duration": 5,
    "start_time": "2022-09-28T16:29:54.722Z"
   },
   {
    "duration": 343,
    "start_time": "2022-09-28T16:29:54.728Z"
   },
   {
    "duration": 4,
    "start_time": "2022-09-28T16:29:55.073Z"
   },
   {
    "duration": 242,
    "start_time": "2022-09-28T16:29:55.078Z"
   },
   {
    "duration": 2,
    "start_time": "2022-09-28T16:29:55.322Z"
   },
   {
    "duration": 5,
    "start_time": "2022-09-28T16:29:55.326Z"
   },
   {
    "duration": 89,
    "start_time": "2022-09-28T16:29:55.332Z"
   },
   {
    "duration": 99,
    "start_time": "2022-09-28T16:29:55.423Z"
   },
   {
    "duration": 92,
    "start_time": "2022-09-28T16:29:55.523Z"
   },
   {
    "duration": 75,
    "start_time": "2022-09-28T16:29:55.616Z"
   },
   {
    "duration": 18,
    "start_time": "2022-09-28T16:29:55.708Z"
   },
   {
    "duration": 6,
    "start_time": "2022-09-28T16:29:55.728Z"
   },
   {
    "duration": 8,
    "start_time": "2022-09-28T16:29:55.736Z"
   },
   {
    "duration": 14,
    "start_time": "2022-09-28T16:29:55.746Z"
   },
   {
    "duration": 240,
    "start_time": "2022-09-28T16:29:55.762Z"
   },
   {
    "duration": 44,
    "start_time": "2022-09-28T16:29:56.004Z"
   },
   {
    "duration": 4,
    "start_time": "2022-09-28T16:29:56.050Z"
   },
   {
    "duration": 14,
    "start_time": "2022-09-28T16:29:56.055Z"
   },
   {
    "duration": 263,
    "start_time": "2022-09-28T16:29:56.071Z"
   },
   {
    "duration": 3,
    "start_time": "2022-09-28T16:29:56.336Z"
   },
   {
    "duration": 8,
    "start_time": "2022-09-28T16:29:56.341Z"
   },
   {
    "duration": 10,
    "start_time": "2022-09-28T16:29:56.350Z"
   },
   {
    "duration": 11,
    "start_time": "2022-09-28T16:29:56.361Z"
   },
   {
    "duration": 10,
    "start_time": "2022-09-28T16:29:56.373Z"
   },
   {
    "duration": 107,
    "start_time": "2022-09-28T16:29:56.385Z"
   },
   {
    "duration": 6,
    "start_time": "2022-09-28T16:29:56.494Z"
   },
   {
    "duration": 19,
    "start_time": "2022-09-28T16:29:56.502Z"
   },
   {
    "duration": 15,
    "start_time": "2022-09-28T16:29:56.522Z"
   },
   {
    "duration": 3,
    "start_time": "2022-09-28T16:29:56.539Z"
   },
   {
    "duration": 8,
    "start_time": "2022-09-28T16:29:56.544Z"
   },
   {
    "duration": 141,
    "start_time": "2022-09-28T16:29:56.554Z"
   },
   {
    "duration": 0,
    "start_time": "2022-09-28T16:29:56.697Z"
   },
   {
    "duration": 0,
    "start_time": "2022-09-28T16:29:56.698Z"
   },
   {
    "duration": 0,
    "start_time": "2022-09-28T16:29:56.699Z"
   },
   {
    "duration": 0,
    "start_time": "2022-09-28T16:29:56.699Z"
   },
   {
    "duration": 0,
    "start_time": "2022-09-28T16:29:56.701Z"
   },
   {
    "duration": 0,
    "start_time": "2022-09-28T16:29:56.701Z"
   },
   {
    "duration": 0,
    "start_time": "2022-09-28T16:29:56.702Z"
   },
   {
    "duration": 0,
    "start_time": "2022-09-28T16:29:56.709Z"
   },
   {
    "duration": 0,
    "start_time": "2022-09-28T16:29:56.710Z"
   },
   {
    "duration": 0,
    "start_time": "2022-09-28T16:29:56.711Z"
   },
   {
    "duration": 0,
    "start_time": "2022-09-28T16:29:56.711Z"
   },
   {
    "duration": 0,
    "start_time": "2022-09-28T16:29:56.712Z"
   },
   {
    "duration": 0,
    "start_time": "2022-09-28T16:29:56.713Z"
   },
   {
    "duration": 0,
    "start_time": "2022-09-28T16:29:56.714Z"
   },
   {
    "duration": 0,
    "start_time": "2022-09-28T16:29:56.714Z"
   },
   {
    "duration": 0,
    "start_time": "2022-09-28T16:29:56.715Z"
   },
   {
    "duration": 0,
    "start_time": "2022-09-28T16:29:56.716Z"
   },
   {
    "duration": 3,
    "start_time": "2022-09-28T16:31:11.482Z"
   },
   {
    "duration": 24,
    "start_time": "2022-09-28T16:31:17.734Z"
   },
   {
    "duration": 4,
    "start_time": "2022-09-28T16:39:16.377Z"
   },
   {
    "duration": 4,
    "start_time": "2022-09-28T16:39:29.114Z"
   },
   {
    "duration": 19,
    "start_time": "2022-09-28T16:39:30.991Z"
   },
   {
    "duration": 3,
    "start_time": "2022-09-28T16:39:45.734Z"
   },
   {
    "duration": 22,
    "start_time": "2022-09-28T16:39:47.558Z"
   },
   {
    "duration": 4,
    "start_time": "2022-09-28T16:41:01.755Z"
   },
   {
    "duration": 0,
    "start_time": "2022-09-28T16:45:50.201Z"
   },
   {
    "duration": 154019,
    "start_time": "2022-09-28T16:57:26.423Z"
   },
   {
    "duration": 2365,
    "start_time": "2022-09-28T17:07:03.285Z"
   },
   {
    "duration": 1600,
    "start_time": "2022-09-28T17:07:05.652Z"
   },
   {
    "duration": 678,
    "start_time": "2022-09-28T17:07:07.254Z"
   },
   {
    "duration": 5,
    "start_time": "2022-09-28T17:07:07.934Z"
   },
   {
    "duration": 392,
    "start_time": "2022-09-28T17:07:07.940Z"
   },
   {
    "duration": 163,
    "start_time": "2022-09-28T17:07:08.333Z"
   },
   {
    "duration": 350,
    "start_time": "2022-09-28T17:07:08.497Z"
   },
   {
    "duration": 6,
    "start_time": "2022-09-28T17:07:08.848Z"
   },
   {
    "duration": 13,
    "start_time": "2022-09-28T17:07:08.856Z"
   },
   {
    "duration": 4,
    "start_time": "2022-09-28T17:07:08.872Z"
   },
   {
    "duration": 33,
    "start_time": "2022-09-28T17:07:08.877Z"
   },
   {
    "duration": 13,
    "start_time": "2022-09-28T17:07:08.912Z"
   },
   {
    "duration": 13,
    "start_time": "2022-09-28T17:07:08.927Z"
   },
   {
    "duration": 39,
    "start_time": "2022-09-28T17:07:08.942Z"
   },
   {
    "duration": 10,
    "start_time": "2022-09-28T17:07:08.983Z"
   },
   {
    "duration": 17,
    "start_time": "2022-09-28T17:07:08.995Z"
   },
   {
    "duration": 10,
    "start_time": "2022-09-28T17:07:09.014Z"
   },
   {
    "duration": 4,
    "start_time": "2022-09-28T17:07:09.026Z"
   },
   {
    "duration": 5,
    "start_time": "2022-09-28T17:07:09.031Z"
   },
   {
    "duration": 163,
    "start_time": "2022-09-28T17:07:09.038Z"
   },
   {
    "duration": 147,
    "start_time": "2022-09-28T17:07:09.203Z"
   },
   {
    "duration": 160,
    "start_time": "2022-09-28T17:07:09.352Z"
   },
   {
    "duration": 163,
    "start_time": "2022-09-28T17:07:09.514Z"
   },
   {
    "duration": 164,
    "start_time": "2022-09-28T17:07:09.678Z"
   },
   {
    "duration": 152,
    "start_time": "2022-09-28T17:07:09.843Z"
   },
   {
    "duration": 158,
    "start_time": "2022-09-28T17:07:09.996Z"
   },
   {
    "duration": 6,
    "start_time": "2022-09-28T17:07:10.155Z"
   },
   {
    "duration": 6,
    "start_time": "2022-09-28T17:07:10.165Z"
   },
   {
    "duration": 5,
    "start_time": "2022-09-28T17:07:10.172Z"
   },
   {
    "duration": 33,
    "start_time": "2022-09-28T17:07:10.178Z"
   },
   {
    "duration": 4,
    "start_time": "2022-09-28T17:07:10.212Z"
   },
   {
    "duration": 9,
    "start_time": "2022-09-28T17:07:10.217Z"
   },
   {
    "duration": 339,
    "start_time": "2022-09-28T17:07:10.228Z"
   },
   {
    "duration": 5,
    "start_time": "2022-09-28T17:07:10.568Z"
   },
   {
    "duration": 245,
    "start_time": "2022-09-28T17:07:10.574Z"
   },
   {
    "duration": 3,
    "start_time": "2022-09-28T17:07:10.820Z"
   },
   {
    "duration": 8,
    "start_time": "2022-09-28T17:07:10.825Z"
   },
   {
    "duration": 82,
    "start_time": "2022-09-28T17:07:10.834Z"
   },
   {
    "duration": 94,
    "start_time": "2022-09-28T17:07:10.917Z"
   },
   {
    "duration": 100,
    "start_time": "2022-09-28T17:07:11.012Z"
   },
   {
    "duration": 79,
    "start_time": "2022-09-28T17:07:11.114Z"
   },
   {
    "duration": 29,
    "start_time": "2022-09-28T17:07:11.195Z"
   },
   {
    "duration": 3,
    "start_time": "2022-09-28T17:07:11.226Z"
   },
   {
    "duration": 10,
    "start_time": "2022-09-28T17:07:11.230Z"
   },
   {
    "duration": 16,
    "start_time": "2022-09-28T17:07:11.241Z"
   },
   {
    "duration": 246,
    "start_time": "2022-09-28T17:07:11.259Z"
   },
   {
    "duration": 48,
    "start_time": "2022-09-28T17:07:11.508Z"
   },
   {
    "duration": 5,
    "start_time": "2022-09-28T17:07:11.557Z"
   },
   {
    "duration": 13,
    "start_time": "2022-09-28T17:07:11.564Z"
   },
   {
    "duration": 284,
    "start_time": "2022-09-28T17:07:11.579Z"
   },
   {
    "duration": 3,
    "start_time": "2022-09-28T17:07:11.865Z"
   },
   {
    "duration": 7,
    "start_time": "2022-09-28T17:07:11.869Z"
   },
   {
    "duration": 4,
    "start_time": "2022-09-28T17:07:11.878Z"
   },
   {
    "duration": 7,
    "start_time": "2022-09-28T17:07:11.883Z"
   },
   {
    "duration": 9,
    "start_time": "2022-09-28T17:07:11.891Z"
   },
   {
    "duration": 113,
    "start_time": "2022-09-28T17:07:11.901Z"
   },
   {
    "duration": 5,
    "start_time": "2022-09-28T17:07:12.015Z"
   },
   {
    "duration": 10,
    "start_time": "2022-09-28T17:07:12.022Z"
   },
   {
    "duration": 18,
    "start_time": "2022-09-28T17:07:12.033Z"
   },
   {
    "duration": 16,
    "start_time": "2022-09-28T17:07:12.053Z"
   },
   {
    "duration": 9,
    "start_time": "2022-09-28T17:07:12.071Z"
   },
   {
    "duration": 66,
    "start_time": "2022-09-28T17:07:12.081Z"
   },
   {
    "duration": 0,
    "start_time": "2022-09-28T17:07:12.149Z"
   },
   {
    "duration": 0,
    "start_time": "2022-09-28T17:07:12.150Z"
   },
   {
    "duration": 0,
    "start_time": "2022-09-28T17:07:12.151Z"
   },
   {
    "duration": 0,
    "start_time": "2022-09-28T17:07:12.152Z"
   },
   {
    "duration": 0,
    "start_time": "2022-09-28T17:07:12.153Z"
   },
   {
    "duration": 0,
    "start_time": "2022-09-28T17:07:12.155Z"
   },
   {
    "duration": 0,
    "start_time": "2022-09-28T17:07:12.156Z"
   },
   {
    "duration": 0,
    "start_time": "2022-09-28T17:07:12.158Z"
   },
   {
    "duration": 1,
    "start_time": "2022-09-28T17:07:12.158Z"
   },
   {
    "duration": 0,
    "start_time": "2022-09-28T17:07:12.160Z"
   },
   {
    "duration": 0,
    "start_time": "2022-09-28T17:07:12.161Z"
   },
   {
    "duration": 0,
    "start_time": "2022-09-28T17:07:12.163Z"
   },
   {
    "duration": 1,
    "start_time": "2022-09-28T17:07:12.164Z"
   },
   {
    "duration": 0,
    "start_time": "2022-09-28T17:07:12.166Z"
   },
   {
    "duration": 0,
    "start_time": "2022-09-28T17:07:12.167Z"
   },
   {
    "duration": 0,
    "start_time": "2022-09-28T17:07:12.169Z"
   },
   {
    "duration": 0,
    "start_time": "2022-09-28T17:07:12.170Z"
   },
   {
    "duration": 0,
    "start_time": "2022-09-28T17:07:12.171Z"
   },
   {
    "duration": 132,
    "start_time": "2022-09-28T17:07:57.185Z"
   },
   {
    "duration": 4,
    "start_time": "2022-09-28T17:08:12.594Z"
   },
   {
    "duration": 13,
    "start_time": "2022-09-28T17:08:19.778Z"
   },
   {
    "duration": 10,
    "start_time": "2022-09-28T17:08:28.525Z"
   },
   {
    "duration": 11,
    "start_time": "2022-09-28T17:08:35.852Z"
   },
   {
    "duration": 18,
    "start_time": "2022-09-28T17:08:52.180Z"
   },
   {
    "duration": 3,
    "start_time": "2022-09-28T17:09:04.857Z"
   },
   {
    "duration": 2242,
    "start_time": "2022-09-28T17:09:51.793Z"
   },
   {
    "duration": 1562,
    "start_time": "2022-09-28T17:09:54.037Z"
   },
   {
    "duration": 626,
    "start_time": "2022-09-28T17:09:55.601Z"
   },
   {
    "duration": 5,
    "start_time": "2022-09-28T17:09:56.229Z"
   },
   {
    "duration": 359,
    "start_time": "2022-09-28T17:09:56.235Z"
   },
   {
    "duration": 149,
    "start_time": "2022-09-28T17:09:56.595Z"
   },
   {
    "duration": 335,
    "start_time": "2022-09-28T17:09:56.745Z"
   },
   {
    "duration": 6,
    "start_time": "2022-09-28T17:09:57.082Z"
   },
   {
    "duration": 25,
    "start_time": "2022-09-28T17:09:57.090Z"
   },
   {
    "duration": 4,
    "start_time": "2022-09-28T17:09:57.118Z"
   },
   {
    "duration": 8,
    "start_time": "2022-09-28T17:09:57.123Z"
   },
   {
    "duration": 13,
    "start_time": "2022-09-28T17:09:57.132Z"
   },
   {
    "duration": 7,
    "start_time": "2022-09-28T17:09:57.146Z"
   },
   {
    "duration": 11,
    "start_time": "2022-09-28T17:09:57.154Z"
   },
   {
    "duration": 8,
    "start_time": "2022-09-28T17:09:57.166Z"
   },
   {
    "duration": 42,
    "start_time": "2022-09-28T17:09:57.175Z"
   },
   {
    "duration": 9,
    "start_time": "2022-09-28T17:09:57.218Z"
   },
   {
    "duration": 2,
    "start_time": "2022-09-28T17:09:57.229Z"
   },
   {
    "duration": 5,
    "start_time": "2022-09-28T17:09:57.233Z"
   },
   {
    "duration": 159,
    "start_time": "2022-09-28T17:09:57.239Z"
   },
   {
    "duration": 142,
    "start_time": "2022-09-28T17:09:57.400Z"
   },
   {
    "duration": 144,
    "start_time": "2022-09-28T17:09:57.543Z"
   },
   {
    "duration": 154,
    "start_time": "2022-09-28T17:09:57.688Z"
   },
   {
    "duration": 151,
    "start_time": "2022-09-28T17:09:57.843Z"
   },
   {
    "duration": 153,
    "start_time": "2022-09-28T17:09:57.996Z"
   },
   {
    "duration": 146,
    "start_time": "2022-09-28T17:09:58.150Z"
   },
   {
    "duration": 12,
    "start_time": "2022-09-28T17:09:58.298Z"
   },
   {
    "duration": 6,
    "start_time": "2022-09-28T17:09:58.314Z"
   },
   {
    "duration": 11,
    "start_time": "2022-09-28T17:09:58.321Z"
   },
   {
    "duration": 8,
    "start_time": "2022-09-28T17:09:58.334Z"
   },
   {
    "duration": 4,
    "start_time": "2022-09-28T17:09:58.343Z"
   },
   {
    "duration": 5,
    "start_time": "2022-09-28T17:09:58.348Z"
   },
   {
    "duration": 351,
    "start_time": "2022-09-28T17:09:58.354Z"
   },
   {
    "duration": 5,
    "start_time": "2022-09-28T17:09:58.709Z"
   },
   {
    "duration": 252,
    "start_time": "2022-09-28T17:09:58.715Z"
   },
   {
    "duration": 2,
    "start_time": "2022-09-28T17:09:58.969Z"
   },
   {
    "duration": 7,
    "start_time": "2022-09-28T17:09:58.973Z"
   },
   {
    "duration": 88,
    "start_time": "2022-09-28T17:09:58.981Z"
   },
   {
    "duration": 88,
    "start_time": "2022-09-28T17:09:59.070Z"
   },
   {
    "duration": 102,
    "start_time": "2022-09-28T17:09:59.160Z"
   },
   {
    "duration": 96,
    "start_time": "2022-09-28T17:09:59.263Z"
   },
   {
    "duration": 18,
    "start_time": "2022-09-28T17:09:59.361Z"
   },
   {
    "duration": 4,
    "start_time": "2022-09-28T17:09:59.381Z"
   },
   {
    "duration": 25,
    "start_time": "2022-09-28T17:09:59.387Z"
   },
   {
    "duration": 16,
    "start_time": "2022-09-28T17:09:59.413Z"
   },
   {
    "duration": 235,
    "start_time": "2022-09-28T17:09:59.430Z"
   },
   {
    "duration": 55,
    "start_time": "2022-09-28T17:09:59.666Z"
   },
   {
    "duration": 5,
    "start_time": "2022-09-28T17:09:59.723Z"
   },
   {
    "duration": 11,
    "start_time": "2022-09-28T17:09:59.729Z"
   },
   {
    "duration": 254,
    "start_time": "2022-09-28T17:09:59.742Z"
   },
   {
    "duration": 3,
    "start_time": "2022-09-28T17:09:59.997Z"
   },
   {
    "duration": 8,
    "start_time": "2022-09-28T17:10:00.001Z"
   },
   {
    "duration": 10,
    "start_time": "2022-09-28T17:10:00.010Z"
   },
   {
    "duration": 17,
    "start_time": "2022-09-28T17:10:00.022Z"
   },
   {
    "duration": 9,
    "start_time": "2022-09-28T17:10:00.040Z"
   },
   {
    "duration": 105,
    "start_time": "2022-09-28T17:10:00.051Z"
   },
   {
    "duration": 6,
    "start_time": "2022-09-28T17:10:00.158Z"
   },
   {
    "duration": 12,
    "start_time": "2022-09-28T17:10:00.165Z"
   },
   {
    "duration": 30,
    "start_time": "2022-09-28T17:10:00.178Z"
   },
   {
    "duration": 4,
    "start_time": "2022-09-28T17:10:00.210Z"
   },
   {
    "duration": 6,
    "start_time": "2022-09-28T17:10:00.215Z"
   },
   {
    "duration": 2149,
    "start_time": "2022-09-28T17:11:31.309Z"
   },
   {
    "duration": 1584,
    "start_time": "2022-09-28T17:11:33.460Z"
   },
   {
    "duration": 646,
    "start_time": "2022-09-28T17:11:35.045Z"
   },
   {
    "duration": 3,
    "start_time": "2022-09-28T17:11:35.693Z"
   },
   {
    "duration": 342,
    "start_time": "2022-09-28T17:11:35.698Z"
   },
   {
    "duration": 146,
    "start_time": "2022-09-28T17:11:36.042Z"
   },
   {
    "duration": 370,
    "start_time": "2022-09-28T17:11:36.190Z"
   },
   {
    "duration": 7,
    "start_time": "2022-09-28T17:11:36.562Z"
   },
   {
    "duration": 11,
    "start_time": "2022-09-28T17:11:36.571Z"
   },
   {
    "duration": 4,
    "start_time": "2022-09-28T17:11:36.585Z"
   },
   {
    "duration": 24,
    "start_time": "2022-09-28T17:11:36.590Z"
   },
   {
    "duration": 13,
    "start_time": "2022-09-28T17:11:36.615Z"
   },
   {
    "duration": 15,
    "start_time": "2022-09-28T17:11:36.629Z"
   },
   {
    "duration": 10,
    "start_time": "2022-09-28T17:11:36.645Z"
   },
   {
    "duration": 8,
    "start_time": "2022-09-28T17:11:36.657Z"
   },
   {
    "duration": 13,
    "start_time": "2022-09-28T17:11:36.667Z"
   },
   {
    "duration": 30,
    "start_time": "2022-09-28T17:11:36.682Z"
   },
   {
    "duration": 3,
    "start_time": "2022-09-28T17:11:36.713Z"
   },
   {
    "duration": 7,
    "start_time": "2022-09-28T17:11:36.717Z"
   },
   {
    "duration": 148,
    "start_time": "2022-09-28T17:11:36.725Z"
   },
   {
    "duration": 139,
    "start_time": "2022-09-28T17:11:36.874Z"
   },
   {
    "duration": 141,
    "start_time": "2022-09-28T17:11:37.014Z"
   },
   {
    "duration": 155,
    "start_time": "2022-09-28T17:11:37.157Z"
   },
   {
    "duration": 157,
    "start_time": "2022-09-28T17:11:37.313Z"
   },
   {
    "duration": 156,
    "start_time": "2022-09-28T17:11:37.472Z"
   },
   {
    "duration": 141,
    "start_time": "2022-09-28T17:11:37.629Z"
   },
   {
    "duration": 5,
    "start_time": "2022-09-28T17:11:37.771Z"
   },
   {
    "duration": 7,
    "start_time": "2022-09-28T17:11:37.780Z"
   },
   {
    "duration": 22,
    "start_time": "2022-09-28T17:11:37.788Z"
   },
   {
    "duration": 8,
    "start_time": "2022-09-28T17:11:37.812Z"
   },
   {
    "duration": 8,
    "start_time": "2022-09-28T17:11:37.821Z"
   },
   {
    "duration": 4,
    "start_time": "2022-09-28T17:11:37.830Z"
   },
   {
    "duration": 354,
    "start_time": "2022-09-28T17:11:37.835Z"
   },
   {
    "duration": 5,
    "start_time": "2022-09-28T17:11:38.190Z"
   },
   {
    "duration": 259,
    "start_time": "2022-09-28T17:11:38.196Z"
   },
   {
    "duration": 3,
    "start_time": "2022-09-28T17:11:38.457Z"
   },
   {
    "duration": 11,
    "start_time": "2022-09-28T17:11:38.462Z"
   },
   {
    "duration": 87,
    "start_time": "2022-09-28T17:11:38.475Z"
   },
   {
    "duration": 86,
    "start_time": "2022-09-28T17:11:38.563Z"
   },
   {
    "duration": 95,
    "start_time": "2022-09-28T17:11:38.650Z"
   },
   {
    "duration": 91,
    "start_time": "2022-09-28T17:11:38.746Z"
   },
   {
    "duration": 18,
    "start_time": "2022-09-28T17:11:38.839Z"
   },
   {
    "duration": 10,
    "start_time": "2022-09-28T17:11:38.859Z"
   },
   {
    "duration": 13,
    "start_time": "2022-09-28T17:11:38.871Z"
   },
   {
    "duration": 16,
    "start_time": "2022-09-28T17:11:38.885Z"
   },
   {
    "duration": 237,
    "start_time": "2022-09-28T17:11:38.908Z"
   },
   {
    "duration": 44,
    "start_time": "2022-09-28T17:11:39.146Z"
   },
   {
    "duration": 4,
    "start_time": "2022-09-28T17:11:39.191Z"
   },
   {
    "duration": 10,
    "start_time": "2022-09-28T17:11:39.208Z"
   },
   {
    "duration": 252,
    "start_time": "2022-09-28T17:11:39.219Z"
   },
   {
    "duration": 3,
    "start_time": "2022-09-28T17:11:39.473Z"
   },
   {
    "duration": 8,
    "start_time": "2022-09-28T17:11:39.477Z"
   },
   {
    "duration": 16,
    "start_time": "2022-09-28T17:11:39.486Z"
   },
   {
    "duration": 8,
    "start_time": "2022-09-28T17:11:39.504Z"
   },
   {
    "duration": 8,
    "start_time": "2022-09-28T17:11:39.514Z"
   },
   {
    "duration": 101,
    "start_time": "2022-09-28T17:11:39.524Z"
   },
   {
    "duration": 5,
    "start_time": "2022-09-28T17:11:39.627Z"
   },
   {
    "duration": 6,
    "start_time": "2022-09-28T17:11:39.634Z"
   },
   {
    "duration": 13,
    "start_time": "2022-09-28T17:11:39.641Z"
   },
   {
    "duration": 4,
    "start_time": "2022-09-28T17:11:39.655Z"
   },
   {
    "duration": 7,
    "start_time": "2022-09-28T17:11:39.661Z"
   },
   {
    "duration": 2196,
    "start_time": "2022-09-28T17:18:36.707Z"
   },
   {
    "duration": 1661,
    "start_time": "2022-09-28T17:18:38.905Z"
   },
   {
    "duration": 626,
    "start_time": "2022-09-28T17:18:40.568Z"
   },
   {
    "duration": 3,
    "start_time": "2022-09-28T17:18:41.196Z"
   },
   {
    "duration": 336,
    "start_time": "2022-09-28T17:18:41.201Z"
   },
   {
    "duration": 153,
    "start_time": "2022-09-28T17:18:41.538Z"
   },
   {
    "duration": 339,
    "start_time": "2022-09-28T17:18:41.693Z"
   },
   {
    "duration": 5,
    "start_time": "2022-09-28T17:18:42.034Z"
   },
   {
    "duration": 13,
    "start_time": "2022-09-28T17:18:42.041Z"
   },
   {
    "duration": 4,
    "start_time": "2022-09-28T17:18:42.056Z"
   },
   {
    "duration": 9,
    "start_time": "2022-09-28T17:18:42.061Z"
   },
   {
    "duration": 42,
    "start_time": "2022-09-28T17:18:42.071Z"
   },
   {
    "duration": 6,
    "start_time": "2022-09-28T17:18:42.114Z"
   },
   {
    "duration": 11,
    "start_time": "2022-09-28T17:18:42.121Z"
   },
   {
    "duration": 8,
    "start_time": "2022-09-28T17:18:42.133Z"
   },
   {
    "duration": 13,
    "start_time": "2022-09-28T17:18:42.143Z"
   },
   {
    "duration": 8,
    "start_time": "2022-09-28T17:18:42.158Z"
   },
   {
    "duration": 3,
    "start_time": "2022-09-28T17:18:42.167Z"
   },
   {
    "duration": 21,
    "start_time": "2022-09-28T17:18:42.171Z"
   },
   {
    "duration": 164,
    "start_time": "2022-09-28T17:18:42.194Z"
   },
   {
    "duration": 133,
    "start_time": "2022-09-28T17:18:42.360Z"
   },
   {
    "duration": 166,
    "start_time": "2022-09-28T17:18:42.494Z"
   },
   {
    "duration": 151,
    "start_time": "2022-09-28T17:18:42.661Z"
   },
   {
    "duration": 149,
    "start_time": "2022-09-28T17:18:42.814Z"
   },
   {
    "duration": 145,
    "start_time": "2022-09-28T17:18:42.964Z"
   },
   {
    "duration": 138,
    "start_time": "2022-09-28T17:18:43.111Z"
   },
   {
    "duration": 6,
    "start_time": "2022-09-28T17:18:43.251Z"
   },
   {
    "duration": 6,
    "start_time": "2022-09-28T17:18:43.261Z"
   },
   {
    "duration": 6,
    "start_time": "2022-09-28T17:18:43.268Z"
   },
   {
    "duration": 10,
    "start_time": "2022-09-28T17:18:43.275Z"
   },
   {
    "duration": 4,
    "start_time": "2022-09-28T17:18:43.308Z"
   },
   {
    "duration": 5,
    "start_time": "2022-09-28T17:18:43.313Z"
   },
   {
    "duration": 327,
    "start_time": "2022-09-28T17:18:43.320Z"
   },
   {
    "duration": 4,
    "start_time": "2022-09-28T17:18:43.649Z"
   },
   {
    "duration": 232,
    "start_time": "2022-09-28T17:18:43.655Z"
   },
   {
    "duration": 3,
    "start_time": "2022-09-28T17:18:43.889Z"
   },
   {
    "duration": 8,
    "start_time": "2022-09-28T17:18:43.894Z"
   },
   {
    "duration": 77,
    "start_time": "2022-09-28T17:18:43.903Z"
   },
   {
    "duration": 97,
    "start_time": "2022-09-28T17:18:43.982Z"
   },
   {
    "duration": 93,
    "start_time": "2022-09-28T17:18:44.080Z"
   },
   {
    "duration": 89,
    "start_time": "2022-09-28T17:18:44.175Z"
   },
   {
    "duration": 18,
    "start_time": "2022-09-28T17:18:44.265Z"
   },
   {
    "duration": 3,
    "start_time": "2022-09-28T17:18:44.285Z"
   },
   {
    "duration": 25,
    "start_time": "2022-09-28T17:18:44.290Z"
   },
   {
    "duration": 19,
    "start_time": "2022-09-28T17:18:44.316Z"
   },
   {
    "duration": 278,
    "start_time": "2022-09-28T17:18:44.337Z"
   },
   {
    "duration": 53,
    "start_time": "2022-09-28T17:18:44.617Z"
   },
   {
    "duration": 5,
    "start_time": "2022-09-28T17:18:44.671Z"
   },
   {
    "duration": 31,
    "start_time": "2022-09-28T17:18:44.678Z"
   },
   {
    "duration": 245,
    "start_time": "2022-09-28T17:18:44.711Z"
   },
   {
    "duration": 3,
    "start_time": "2022-09-28T17:18:44.957Z"
   },
   {
    "duration": 5,
    "start_time": "2022-09-28T17:18:44.962Z"
   },
   {
    "duration": 4,
    "start_time": "2022-09-28T17:18:44.968Z"
   },
   {
    "duration": 7,
    "start_time": "2022-09-28T17:18:44.973Z"
   },
   {
    "duration": 8,
    "start_time": "2022-09-28T17:18:44.981Z"
   },
   {
    "duration": 110,
    "start_time": "2022-09-28T17:18:44.990Z"
   },
   {
    "duration": 8,
    "start_time": "2022-09-28T17:18:45.101Z"
   },
   {
    "duration": 6,
    "start_time": "2022-09-28T17:18:45.110Z"
   },
   {
    "duration": 19,
    "start_time": "2022-09-28T17:18:45.117Z"
   },
   {
    "duration": 3,
    "start_time": "2022-09-28T17:18:45.138Z"
   },
   {
    "duration": 6,
    "start_time": "2022-09-28T17:18:45.142Z"
   },
   {
    "duration": 133,
    "start_time": "2022-09-28T17:18:45.149Z"
   },
   {
    "duration": 0,
    "start_time": "2022-09-28T17:18:45.284Z"
   },
   {
    "duration": 0,
    "start_time": "2022-09-28T17:18:45.285Z"
   },
   {
    "duration": 0,
    "start_time": "2022-09-28T17:18:45.287Z"
   },
   {
    "duration": 0,
    "start_time": "2022-09-28T17:18:45.288Z"
   },
   {
    "duration": 0,
    "start_time": "2022-09-28T17:18:45.289Z"
   },
   {
    "duration": 0,
    "start_time": "2022-09-28T17:18:45.290Z"
   },
   {
    "duration": 0,
    "start_time": "2022-09-28T17:18:45.290Z"
   },
   {
    "duration": 0,
    "start_time": "2022-09-28T17:18:45.292Z"
   },
   {
    "duration": 0,
    "start_time": "2022-09-28T17:18:45.309Z"
   },
   {
    "duration": 0,
    "start_time": "2022-09-28T17:18:45.310Z"
   },
   {
    "duration": 0,
    "start_time": "2022-09-28T17:18:45.311Z"
   },
   {
    "duration": 0,
    "start_time": "2022-09-28T17:18:45.312Z"
   },
   {
    "duration": 0,
    "start_time": "2022-09-28T17:18:45.313Z"
   },
   {
    "duration": 0,
    "start_time": "2022-09-28T17:18:45.314Z"
   },
   {
    "duration": 0,
    "start_time": "2022-09-28T17:18:45.315Z"
   },
   {
    "duration": 0,
    "start_time": "2022-09-28T17:18:45.316Z"
   },
   {
    "duration": 0,
    "start_time": "2022-09-28T17:18:45.317Z"
   },
   {
    "duration": 0,
    "start_time": "2022-09-28T17:18:45.318Z"
   },
   {
    "duration": 0,
    "start_time": "2022-09-28T17:18:45.319Z"
   },
   {
    "duration": 8,
    "start_time": "2022-09-28T17:19:04.288Z"
   },
   {
    "duration": 2360,
    "start_time": "2022-09-28T17:19:33.650Z"
   },
   {
    "duration": 3,
    "start_time": "2022-09-28T17:19:38.366Z"
   },
   {
    "duration": 2248,
    "start_time": "2022-09-28T17:19:50.592Z"
   },
   {
    "duration": 1543,
    "start_time": "2022-09-28T17:19:52.842Z"
   },
   {
    "duration": 680,
    "start_time": "2022-09-28T17:19:54.387Z"
   },
   {
    "duration": 4,
    "start_time": "2022-09-28T17:19:55.069Z"
   },
   {
    "duration": 353,
    "start_time": "2022-09-28T17:19:55.074Z"
   },
   {
    "duration": 150,
    "start_time": "2022-09-28T17:19:55.428Z"
   },
   {
    "duration": 329,
    "start_time": "2022-09-28T17:19:55.580Z"
   },
   {
    "duration": 5,
    "start_time": "2022-09-28T17:19:55.910Z"
   },
   {
    "duration": 11,
    "start_time": "2022-09-28T17:19:55.917Z"
   },
   {
    "duration": 4,
    "start_time": "2022-09-28T17:19:55.930Z"
   },
   {
    "duration": 5,
    "start_time": "2022-09-28T17:19:55.936Z"
   },
   {
    "duration": 12,
    "start_time": "2022-09-28T17:19:55.943Z"
   },
   {
    "duration": 3,
    "start_time": "2022-09-28T17:19:55.956Z"
   },
   {
    "duration": 9,
    "start_time": "2022-09-28T17:19:55.961Z"
   },
   {
    "duration": 8,
    "start_time": "2022-09-28T17:19:56.009Z"
   },
   {
    "duration": 18,
    "start_time": "2022-09-28T17:19:56.018Z"
   },
   {
    "duration": 8,
    "start_time": "2022-09-28T17:19:56.037Z"
   },
   {
    "duration": 3,
    "start_time": "2022-09-28T17:19:56.046Z"
   },
   {
    "duration": 6,
    "start_time": "2022-09-28T17:19:56.050Z"
   },
   {
    "duration": 160,
    "start_time": "2022-09-28T17:19:56.058Z"
   },
   {
    "duration": 141,
    "start_time": "2022-09-28T17:19:56.220Z"
   },
   {
    "duration": 151,
    "start_time": "2022-09-28T17:19:56.363Z"
   },
   {
    "duration": 156,
    "start_time": "2022-09-28T17:19:56.516Z"
   },
   {
    "duration": 156,
    "start_time": "2022-09-28T17:19:56.674Z"
   },
   {
    "duration": 143,
    "start_time": "2022-09-28T17:19:56.832Z"
   },
   {
    "duration": 141,
    "start_time": "2022-09-28T17:19:56.977Z"
   },
   {
    "duration": 4,
    "start_time": "2022-09-28T17:19:57.120Z"
   },
   {
    "duration": 5,
    "start_time": "2022-09-28T17:19:57.128Z"
   },
   {
    "duration": 6,
    "start_time": "2022-09-28T17:19:57.134Z"
   },
   {
    "duration": 5,
    "start_time": "2022-09-28T17:19:57.142Z"
   },
   {
    "duration": 4,
    "start_time": "2022-09-28T17:19:57.149Z"
   },
   {
    "duration": 5,
    "start_time": "2022-09-28T17:19:57.154Z"
   },
   {
    "duration": 375,
    "start_time": "2022-09-28T17:19:57.160Z"
   },
   {
    "duration": 4,
    "start_time": "2022-09-28T17:19:57.536Z"
   },
   {
    "duration": 235,
    "start_time": "2022-09-28T17:19:57.542Z"
   },
   {
    "duration": 3,
    "start_time": "2022-09-28T17:19:57.779Z"
   },
   {
    "duration": 5,
    "start_time": "2022-09-28T17:19:57.784Z"
   },
   {
    "duration": 86,
    "start_time": "2022-09-28T17:19:57.791Z"
   },
   {
    "duration": 91,
    "start_time": "2022-09-28T17:19:57.879Z"
   },
   {
    "duration": 94,
    "start_time": "2022-09-28T17:19:57.972Z"
   },
   {
    "duration": 90,
    "start_time": "2022-09-28T17:19:58.068Z"
   },
   {
    "duration": 17,
    "start_time": "2022-09-28T17:19:58.160Z"
   },
   {
    "duration": 25,
    "start_time": "2022-09-28T17:19:58.179Z"
   },
   {
    "duration": 25,
    "start_time": "2022-09-28T17:19:58.206Z"
   },
   {
    "duration": 22,
    "start_time": "2022-09-28T17:19:58.244Z"
   },
   {
    "duration": 230,
    "start_time": "2022-09-28T17:19:58.268Z"
   },
   {
    "duration": 49,
    "start_time": "2022-09-28T17:19:58.499Z"
   },
   {
    "duration": 5,
    "start_time": "2022-09-28T17:19:58.549Z"
   },
   {
    "duration": 18,
    "start_time": "2022-09-28T17:19:58.555Z"
   },
   {
    "duration": 246,
    "start_time": "2022-09-28T17:19:58.574Z"
   },
   {
    "duration": 3,
    "start_time": "2022-09-28T17:19:58.821Z"
   },
   {
    "duration": 7,
    "start_time": "2022-09-28T17:19:58.825Z"
   },
   {
    "duration": 4,
    "start_time": "2022-09-28T17:19:58.834Z"
   },
   {
    "duration": 4,
    "start_time": "2022-09-28T17:19:58.839Z"
   },
   {
    "duration": 8,
    "start_time": "2022-09-28T17:19:58.844Z"
   },
   {
    "duration": 112,
    "start_time": "2022-09-28T17:19:58.853Z"
   },
   {
    "duration": 4,
    "start_time": "2022-09-28T17:19:58.967Z"
   },
   {
    "duration": 19,
    "start_time": "2022-09-28T17:19:58.973Z"
   },
   {
    "duration": 17,
    "start_time": "2022-09-28T17:19:58.993Z"
   },
   {
    "duration": 5,
    "start_time": "2022-09-28T17:19:59.011Z"
   },
   {
    "duration": 12,
    "start_time": "2022-09-28T17:19:59.017Z"
   },
   {
    "duration": 2135,
    "start_time": "2022-09-28T17:23:01.626Z"
   },
   {
    "duration": 1557,
    "start_time": "2022-09-28T17:23:03.763Z"
   },
   {
    "duration": 638,
    "start_time": "2022-09-28T17:23:05.321Z"
   },
   {
    "duration": 4,
    "start_time": "2022-09-28T17:23:05.962Z"
   },
   {
    "duration": 383,
    "start_time": "2022-09-28T17:23:05.967Z"
   },
   {
    "duration": 160,
    "start_time": "2022-09-28T17:23:06.352Z"
   },
   {
    "duration": 350,
    "start_time": "2022-09-28T17:23:06.514Z"
   },
   {
    "duration": 6,
    "start_time": "2022-09-28T17:23:06.865Z"
   },
   {
    "duration": 20,
    "start_time": "2022-09-28T17:23:06.872Z"
   },
   {
    "duration": 16,
    "start_time": "2022-09-28T17:23:06.894Z"
   },
   {
    "duration": 25,
    "start_time": "2022-09-28T17:23:06.911Z"
   },
   {
    "duration": 33,
    "start_time": "2022-09-28T17:23:06.937Z"
   },
   {
    "duration": 13,
    "start_time": "2022-09-28T17:23:06.972Z"
   },
   {
    "duration": 21,
    "start_time": "2022-09-28T17:23:06.986Z"
   },
   {
    "duration": 14,
    "start_time": "2022-09-28T17:23:07.008Z"
   },
   {
    "duration": 28,
    "start_time": "2022-09-28T17:23:07.024Z"
   },
   {
    "duration": 9,
    "start_time": "2022-09-28T17:23:07.053Z"
   },
   {
    "duration": 7,
    "start_time": "2022-09-28T17:23:07.063Z"
   },
   {
    "duration": 19,
    "start_time": "2022-09-28T17:23:07.072Z"
   },
   {
    "duration": 160,
    "start_time": "2022-09-28T17:23:07.092Z"
   },
   {
    "duration": 158,
    "start_time": "2022-09-28T17:23:07.254Z"
   },
   {
    "duration": 143,
    "start_time": "2022-09-28T17:23:07.413Z"
   },
   {
    "duration": 155,
    "start_time": "2022-09-28T17:23:07.557Z"
   },
   {
    "duration": 156,
    "start_time": "2022-09-28T17:23:07.713Z"
   },
   {
    "duration": 154,
    "start_time": "2022-09-28T17:23:07.870Z"
   },
   {
    "duration": 153,
    "start_time": "2022-09-28T17:23:08.025Z"
   },
   {
    "duration": 5,
    "start_time": "2022-09-28T17:23:08.179Z"
   },
   {
    "duration": 21,
    "start_time": "2022-09-28T17:23:08.188Z"
   },
   {
    "duration": 5,
    "start_time": "2022-09-28T17:23:08.210Z"
   },
   {
    "duration": 9,
    "start_time": "2022-09-28T17:23:08.217Z"
   },
   {
    "duration": 6,
    "start_time": "2022-09-28T17:23:08.227Z"
   },
   {
    "duration": 11,
    "start_time": "2022-09-28T17:23:08.235Z"
   },
   {
    "duration": 361,
    "start_time": "2022-09-28T17:23:08.248Z"
   },
   {
    "duration": 4,
    "start_time": "2022-09-28T17:23:08.611Z"
   },
   {
    "duration": 259,
    "start_time": "2022-09-28T17:23:08.617Z"
   },
   {
    "duration": 3,
    "start_time": "2022-09-28T17:23:08.878Z"
   },
   {
    "duration": 7,
    "start_time": "2022-09-28T17:23:08.882Z"
   },
   {
    "duration": 91,
    "start_time": "2022-09-28T17:23:08.890Z"
   },
   {
    "duration": 98,
    "start_time": "2022-09-28T17:23:08.982Z"
   },
   {
    "duration": 103,
    "start_time": "2022-09-28T17:23:09.082Z"
   },
   {
    "duration": 91,
    "start_time": "2022-09-28T17:23:09.187Z"
   },
   {
    "duration": 30,
    "start_time": "2022-09-28T17:23:09.280Z"
   },
   {
    "duration": 3,
    "start_time": "2022-09-28T17:23:09.312Z"
   },
   {
    "duration": 10,
    "start_time": "2022-09-28T17:23:09.316Z"
   },
   {
    "duration": 21,
    "start_time": "2022-09-28T17:23:09.328Z"
   },
   {
    "duration": 251,
    "start_time": "2022-09-28T17:23:09.351Z"
   },
   {
    "duration": 47,
    "start_time": "2022-09-28T17:23:09.608Z"
   },
   {
    "duration": 5,
    "start_time": "2022-09-28T17:23:09.657Z"
   },
   {
    "duration": 11,
    "start_time": "2022-09-28T17:23:09.663Z"
   },
   {
    "duration": 260,
    "start_time": "2022-09-28T17:23:09.676Z"
   },
   {
    "duration": 3,
    "start_time": "2022-09-28T17:23:09.938Z"
   },
   {
    "duration": 8,
    "start_time": "2022-09-28T17:23:09.942Z"
   },
   {
    "duration": 7,
    "start_time": "2022-09-28T17:23:09.952Z"
   },
   {
    "duration": 10,
    "start_time": "2022-09-28T17:23:09.960Z"
   },
   {
    "duration": 28,
    "start_time": "2022-09-28T17:23:09.971Z"
   },
   {
    "duration": 121,
    "start_time": "2022-09-28T17:23:10.002Z"
   },
   {
    "duration": 6,
    "start_time": "2022-09-28T17:23:10.124Z"
   },
   {
    "duration": 8,
    "start_time": "2022-09-28T17:23:10.132Z"
   },
   {
    "duration": 17,
    "start_time": "2022-09-28T17:23:10.141Z"
   },
   {
    "duration": 5,
    "start_time": "2022-09-28T17:23:10.159Z"
   },
   {
    "duration": 10,
    "start_time": "2022-09-28T17:23:10.165Z"
   },
   {
    "duration": 16,
    "start_time": "2022-09-28T17:23:10.177Z"
   },
   {
    "duration": 143,
    "start_time": "2022-09-28T17:23:10.195Z"
   },
   {
    "duration": 0,
    "start_time": "2022-09-28T17:23:10.340Z"
   },
   {
    "duration": 0,
    "start_time": "2022-09-28T17:23:10.341Z"
   },
   {
    "duration": 0,
    "start_time": "2022-09-28T17:23:10.342Z"
   },
   {
    "duration": 0,
    "start_time": "2022-09-28T17:23:10.343Z"
   },
   {
    "duration": 0,
    "start_time": "2022-09-28T17:23:10.344Z"
   },
   {
    "duration": 0,
    "start_time": "2022-09-28T17:23:10.345Z"
   },
   {
    "duration": 0,
    "start_time": "2022-09-28T17:23:10.346Z"
   },
   {
    "duration": 0,
    "start_time": "2022-09-28T17:23:10.346Z"
   },
   {
    "duration": 0,
    "start_time": "2022-09-28T17:23:10.347Z"
   },
   {
    "duration": 0,
    "start_time": "2022-09-28T17:23:10.348Z"
   },
   {
    "duration": 0,
    "start_time": "2022-09-28T17:23:10.349Z"
   },
   {
    "duration": 0,
    "start_time": "2022-09-28T17:23:10.349Z"
   },
   {
    "duration": 0,
    "start_time": "2022-09-28T17:23:10.350Z"
   },
   {
    "duration": 0,
    "start_time": "2022-09-28T17:23:10.351Z"
   },
   {
    "duration": 0,
    "start_time": "2022-09-28T17:23:10.352Z"
   },
   {
    "duration": 0,
    "start_time": "2022-09-28T17:23:10.353Z"
   },
   {
    "duration": 0,
    "start_time": "2022-09-28T17:23:10.353Z"
   },
   {
    "duration": 0,
    "start_time": "2022-09-28T17:23:10.354Z"
   },
   {
    "duration": 5,
    "start_time": "2022-09-28T17:23:23.088Z"
   },
   {
    "duration": 19,
    "start_time": "2022-09-28T17:23:28.135Z"
   },
   {
    "duration": 4,
    "start_time": "2022-09-28T17:23:46.293Z"
   },
   {
    "duration": 19,
    "start_time": "2022-09-28T17:23:48.185Z"
   },
   {
    "duration": 5,
    "start_time": "2022-09-28T17:24:25.563Z"
   },
   {
    "duration": 2292,
    "start_time": "2022-09-28T17:26:49.596Z"
   },
   {
    "duration": 1700,
    "start_time": "2022-09-28T17:26:51.890Z"
   },
   {
    "duration": 679,
    "start_time": "2022-09-28T17:26:53.592Z"
   },
   {
    "duration": 5,
    "start_time": "2022-09-28T17:26:54.274Z"
   },
   {
    "duration": 420,
    "start_time": "2022-09-28T17:26:54.280Z"
   },
   {
    "duration": 159,
    "start_time": "2022-09-28T17:26:54.701Z"
   },
   {
    "duration": 343,
    "start_time": "2022-09-28T17:26:54.862Z"
   },
   {
    "duration": 6,
    "start_time": "2022-09-28T17:26:55.208Z"
   },
   {
    "duration": 13,
    "start_time": "2022-09-28T17:26:55.215Z"
   },
   {
    "duration": 4,
    "start_time": "2022-09-28T17:26:55.231Z"
   },
   {
    "duration": 11,
    "start_time": "2022-09-28T17:26:55.236Z"
   },
   {
    "duration": 32,
    "start_time": "2022-09-28T17:26:55.249Z"
   },
   {
    "duration": 14,
    "start_time": "2022-09-28T17:26:55.283Z"
   },
   {
    "duration": 16,
    "start_time": "2022-09-28T17:26:55.299Z"
   },
   {
    "duration": 13,
    "start_time": "2022-09-28T17:26:55.317Z"
   },
   {
    "duration": 17,
    "start_time": "2022-09-28T17:26:55.331Z"
   },
   {
    "duration": 10,
    "start_time": "2022-09-28T17:26:55.350Z"
   },
   {
    "duration": 10,
    "start_time": "2022-09-28T17:26:55.361Z"
   },
   {
    "duration": 10,
    "start_time": "2022-09-28T17:26:55.372Z"
   },
   {
    "duration": 169,
    "start_time": "2022-09-28T17:26:55.384Z"
   },
   {
    "duration": 147,
    "start_time": "2022-09-28T17:26:55.555Z"
   },
   {
    "duration": 153,
    "start_time": "2022-09-28T17:26:55.703Z"
   },
   {
    "duration": 161,
    "start_time": "2022-09-28T17:26:55.858Z"
   },
   {
    "duration": 159,
    "start_time": "2022-09-28T17:26:56.021Z"
   },
   {
    "duration": 167,
    "start_time": "2022-09-28T17:26:56.182Z"
   },
   {
    "duration": 158,
    "start_time": "2022-09-28T17:26:56.351Z"
   },
   {
    "duration": 6,
    "start_time": "2022-09-28T17:26:56.511Z"
   },
   {
    "duration": 8,
    "start_time": "2022-09-28T17:26:56.521Z"
   },
   {
    "duration": 6,
    "start_time": "2022-09-28T17:26:56.531Z"
   },
   {
    "duration": 7,
    "start_time": "2022-09-28T17:26:56.539Z"
   },
   {
    "duration": 4,
    "start_time": "2022-09-28T17:26:56.548Z"
   },
   {
    "duration": 9,
    "start_time": "2022-09-28T17:26:56.553Z"
   },
   {
    "duration": 374,
    "start_time": "2022-09-28T17:26:56.563Z"
   },
   {
    "duration": 5,
    "start_time": "2022-09-28T17:26:56.938Z"
   },
   {
    "duration": 241,
    "start_time": "2022-09-28T17:26:56.944Z"
   },
   {
    "duration": 3,
    "start_time": "2022-09-28T17:26:57.186Z"
   },
   {
    "duration": 7,
    "start_time": "2022-09-28T17:26:57.190Z"
   },
   {
    "duration": 79,
    "start_time": "2022-09-28T17:26:57.209Z"
   },
   {
    "duration": 99,
    "start_time": "2022-09-28T17:26:57.290Z"
   },
   {
    "duration": 97,
    "start_time": "2022-09-28T17:26:57.390Z"
   },
   {
    "duration": 93,
    "start_time": "2022-09-28T17:26:57.488Z"
   },
   {
    "duration": 26,
    "start_time": "2022-09-28T17:26:57.583Z"
   },
   {
    "duration": 7,
    "start_time": "2022-09-28T17:26:57.610Z"
   },
   {
    "duration": 9,
    "start_time": "2022-09-28T17:26:57.618Z"
   },
   {
    "duration": 15,
    "start_time": "2022-09-28T17:26:57.629Z"
   },
   {
    "duration": 250,
    "start_time": "2022-09-28T17:26:57.645Z"
   },
   {
    "duration": 54,
    "start_time": "2022-09-28T17:26:57.897Z"
   },
   {
    "duration": 4,
    "start_time": "2022-09-28T17:26:57.953Z"
   },
   {
    "duration": 9,
    "start_time": "2022-09-28T17:26:57.959Z"
   },
   {
    "duration": 289,
    "start_time": "2022-09-28T17:26:57.970Z"
   },
   {
    "duration": 3,
    "start_time": "2022-09-28T17:26:58.260Z"
   },
   {
    "duration": 5,
    "start_time": "2022-09-28T17:26:58.264Z"
   },
   {
    "duration": 40,
    "start_time": "2022-09-28T17:26:58.270Z"
   },
   {
    "duration": 5,
    "start_time": "2022-09-28T17:26:58.312Z"
   },
   {
    "duration": 9,
    "start_time": "2022-09-28T17:26:58.318Z"
   },
   {
    "duration": 114,
    "start_time": "2022-09-28T17:26:58.329Z"
   },
   {
    "duration": 4,
    "start_time": "2022-09-28T17:26:58.445Z"
   },
   {
    "duration": 10,
    "start_time": "2022-09-28T17:26:58.450Z"
   },
   {
    "duration": 16,
    "start_time": "2022-09-28T17:26:58.461Z"
   },
   {
    "duration": 4,
    "start_time": "2022-09-28T17:26:58.479Z"
   },
   {
    "duration": 3,
    "start_time": "2022-09-28T17:26:58.485Z"
   },
   {
    "duration": 9,
    "start_time": "2022-09-28T17:26:58.490Z"
   },
   {
    "duration": 25012116,
    "start_time": "2022-09-28T17:26:58.501Z"
   },
   {
    "duration": 3,
    "start_time": "2022-09-29T00:23:50.618Z"
   },
   {
    "duration": 7,
    "start_time": "2022-09-29T00:23:50.623Z"
   },
   {
    "duration": 8593,
    "start_time": "2022-09-29T00:23:50.631Z"
   },
   {
    "duration": 3,
    "start_time": "2022-09-29T00:23:59.225Z"
   },
   {
    "duration": 2480,
    "start_time": "2022-09-29T00:23:59.229Z"
   },
   {
    "duration": 3,
    "start_time": "2022-09-29T00:24:01.711Z"
   },
   {
    "duration": 16,
    "start_time": "2022-09-29T00:24:01.716Z"
   },
   {
    "duration": 15,
    "start_time": "2022-09-29T00:24:01.734Z"
   },
   {
    "duration": 2150211,
    "start_time": "2022-09-29T00:24:01.751Z"
   },
   {
    "duration": 3,
    "start_time": "2022-09-29T00:59:51.964Z"
   },
   {
    "duration": 7,
    "start_time": "2022-09-29T00:59:51.969Z"
   },
   {
    "duration": 6,
    "start_time": "2022-09-29T00:59:51.977Z"
   },
   {
    "duration": 14,
    "start_time": "2022-09-29T00:59:51.984Z"
   },
   {
    "duration": 2263,
    "start_time": "2022-09-29T00:59:52.008Z"
   },
   {
    "duration": 438,
    "start_time": "2022-09-29T00:59:54.274Z"
   },
   {
    "duration": 2503,
    "start_time": "2022-09-29T00:59:54.714Z"
   },
   {
    "duration": 3,
    "start_time": "2022-09-29T00:59:57.218Z"
   },
   {
    "duration": 9,
    "start_time": "2022-09-29T00:59:57.222Z"
   },
   {
    "duration": 27300,
    "start_time": "2022-09-29T02:56:27.820Z"
   },
   {
    "duration": 54749,
    "start_time": "2022-09-29T03:07:23.579Z"
   }
  ],
  "kernelspec": {
   "display_name": "Python 3 (ipykernel)",
   "language": "python",
   "name": "python3"
  },
  "language_info": {
   "codemirror_mode": {
    "name": "ipython",
    "version": 3
   },
   "file_extension": ".py",
   "mimetype": "text/x-python",
   "name": "python",
   "nbconvert_exporter": "python",
   "pygments_lexer": "ipython3",
   "version": "3.9.5"
  },
  "toc": {
   "base_numbering": 1,
   "nav_menu": {},
   "number_sections": true,
   "sideBar": true,
   "skip_h1_title": true,
   "title_cell": "Содержание",
   "title_sidebar": "Contents",
   "toc_cell": true,
   "toc_position": {},
   "toc_section_display": true,
   "toc_window_display": true
  }
 },
 "nbformat": 4,
 "nbformat_minor": 2
}
