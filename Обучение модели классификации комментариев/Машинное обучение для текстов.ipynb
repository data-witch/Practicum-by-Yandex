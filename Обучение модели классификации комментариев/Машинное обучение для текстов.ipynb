{
 "cells": [
  {
   "cell_type": "markdown",
   "metadata": {},
   "source": [
    "# Проект для «Викишоп»"
   ]
  },
  {
   "cell_type": "markdown",
   "metadata": {},
   "source": [
    "Интернет-магазин «Викишоп» запускает новый сервис. Теперь пользователи могут редактировать и дополнять описания товаров, как в вики-сообществах. То есть клиенты предлагают свои правки и комментируют изменения других. Магазину нужен инструмент, который будет искать токсичные комментарии и отправлять их на модерацию. \n",
    "\n",
    "Необходимо обучить модель классифицировать комментарии на позитивные и негативные. В распоряжении набор данных с разметкой о токсичности правок.\n",
    "\n",
    "Построить модель со значением метрики качества *F1* не меньше 0.75. \n",
    "\n",
    "**Инструкция по выполнению проекта**\n",
    "\n",
    "1. Загрузить и подготовить данные.\n",
    "2. Обучить разные модели. \n",
    "3. Сделать выводы.\n",
    "\n",
    "**Описание данных**\n",
    "\n",
    "Данные находятся в файле `toxic_comments.csv`. Столбец *text* в нём содержит текст комментария, а *toxic* — целевой признак."
   ]
  },
  {
   "cell_type": "markdown",
   "metadata": {},
   "source": [
    "## Подготовка"
   ]
  },
  {
   "cell_type": "markdown",
   "metadata": {},
   "source": [
    "Импортируем все необходимые библиотеки и структуры. Загрузим и изучим данные."
   ]
  },
  {
   "cell_type": "code",
   "execution_count": 2,
   "metadata": {},
   "outputs": [
    {
     "name": "stdout",
     "output_type": "stream",
     "text": [
      "Collecting wordcloud\n",
      "  Downloading wordcloud-1.8.2.2-cp39-cp39-manylinux_2_17_x86_64.manylinux2014_x86_64.whl (458 kB)\n",
      "\u001b[K     |████████████████████████████████| 458 kB 1.1 MB/s eta 0:00:01\n",
      "\u001b[?25hRequirement already satisfied: numpy>=1.6.1 in /opt/conda/lib/python3.9/site-packages (from wordcloud) (1.21.1)\n",
      "Requirement already satisfied: pillow in /opt/conda/lib/python3.9/site-packages (from wordcloud) (8.4.0)\n",
      "Requirement already satisfied: matplotlib in /opt/conda/lib/python3.9/site-packages (from wordcloud) (3.3.4)\n",
      "Requirement already satisfied: python-dateutil>=2.1 in /opt/conda/lib/python3.9/site-packages (from matplotlib->wordcloud) (2.8.1)\n",
      "Requirement already satisfied: cycler>=0.10 in /opt/conda/lib/python3.9/site-packages (from matplotlib->wordcloud) (0.11.0)\n",
      "Requirement already satisfied: kiwisolver>=1.0.1 in /opt/conda/lib/python3.9/site-packages (from matplotlib->wordcloud) (1.4.4)\n",
      "Requirement already satisfied: pyparsing!=2.0.4,!=2.1.2,!=2.1.6,>=2.0.3 in /opt/conda/lib/python3.9/site-packages (from matplotlib->wordcloud) (2.4.7)\n",
      "Requirement already satisfied: six>=1.5 in /opt/conda/lib/python3.9/site-packages (from python-dateutil>=2.1->matplotlib->wordcloud) (1.16.0)\n",
      "Installing collected packages: wordcloud\n",
      "Successfully installed wordcloud-1.8.2.2\n",
      "Note: you may need to restart the kernel to use updated packages.\n"
     ]
    }
   ],
   "source": [
    "pip install wordcloud"
   ]
  },
  {
   "cell_type": "code",
   "execution_count": 3,
   "metadata": {},
   "outputs": [
    {
     "name": "stderr",
     "output_type": "stream",
     "text": [
      "[nltk_data] Downloading package wordnet to /home/jovyan/nltk_data...\n",
      "[nltk_data]   Package wordnet is already up-to-date!\n"
     ]
    }
   ],
   "source": [
    "import pandas as pd\n",
    "import numpy as np\n",
    "import re\n",
    "from sklearn.feature_extraction.text import TfidfTransformer, CountVectorizer, TfidfVectorizer\n",
    "from nltk.corpus import stopwords \n",
    "from nltk.corpus import stopwords as nltk_stopwords\n",
    "import nltk\n",
    "from nltk.tokenize import word_tokenize\n",
    "from nltk.stem import WordNetLemmatizer; nltk.download('wordnet')\n",
    "from nltk.corpus import wordnet\n",
    "from sklearn.model_selection import train_test_split\n",
    "from sklearn.linear_model import LogisticRegression\n",
    "from sklearn.ensemble import RandomForestClassifier\n",
    "from sklearn.model_selection import GridSearchCV, cross_val_score\n",
    "from sklearn.metrics import f1_score\n",
    "from wordcloud import WordCloud\n",
    "import matplotlib.pyplot as plt\n",
    "from nltk.probability import FreqDist\n",
    "%matplotlib inline\n",
    "import joblib\n",
    "import warnings; warnings.filterwarnings(\"ignore\");\n",
    "from sklearn.pipeline import Pipeline\n",
    "#from sklearn.preprocessing import MaxAbsScaler, Normalizer"
   ]
  },
  {
   "cell_type": "code",
   "execution_count": 11,
   "metadata": {},
   "outputs": [
    {
     "name": "stdout",
     "output_type": "stream",
     "text": [
      "cp: missing destination file operand after '/datasets/fashion_mnist/train_features.npy--archive'\r\n",
      "Try 'cp --help' for more information.\r\n"
     ]
    }
   ],
   "source": [
    "!cp /datasets/fashion_mnist/train_features.npy--archive"
   ]
  },
  {
   "cell_type": "code",
   "execution_count": 23,
   "metadata": {},
   "outputs": [
    {
     "name": "stdout",
     "output_type": "stream",
     "text": [
      "cp: preserving times for '[-T]': Input/output error\r\n"
     ]
    }
   ],
   "source": [
    "!cp --archive /datasets/fashion_mnist/train_features.npy [-T]"
   ]
  },
  {
   "cell_type": "code",
   "execution_count": 25,
   "metadata": {},
   "outputs": [
    {
     "name": "stdout",
     "output_type": "stream",
     "text": [
      "cp: missing destination file operand after '/datasets/fashion_mnist/train_features.npy'\r\n",
      "Try 'cp --help' for more information.\r\n"
     ]
    }
   ],
   "source": [
    "!cp --backup /datasets/fashion_mnist/train_features.npy"
   ]
  },
  {
   "cell_type": "code",
   "execution_count": 4,
   "metadata": {},
   "outputs": [
    {
     "name": "stdout",
     "output_type": "stream",
     "text": [
      "Usage: cp [OPTION]... [-T] SOURCE DEST\r\n",
      "  or:  cp [OPTION]... SOURCE... DIRECTORY\r\n",
      "  or:  cp [OPTION]... -t DIRECTORY SOURCE...\r\n",
      "Copy SOURCE to DEST, or multiple SOURCE(s) to DIRECTORY.\r\n",
      "\r\n",
      "Mandatory arguments to long options are mandatory for short options too.\r\n",
      "  -a, --archive                same as -dR --preserve=all\r\n",
      "      --attributes-only        don't copy the file data, just the attributes\r\n",
      "      --backup[=CONTROL]       make a backup of each existing destination file\r\n",
      "  -b                           like --backup but does not accept an argument\r\n",
      "      --copy-contents          copy contents of special files when recursive\r\n",
      "  -d                           same as --no-dereference --preserve=links\r\n",
      "  -f, --force                  if an existing destination file cannot be\r\n",
      "                                 opened, remove it and try again (this option\r\n",
      "                                 is ignored when the -n option is also used)\r\n",
      "  -i, --interactive            prompt before overwrite (overrides a previous -n\r\n",
      "                                  option)\r\n",
      "  -H                           follow command-line symbolic links in SOURCE\r\n",
      "  -l, --link                   hard link files instead of copying\r\n",
      "  -L, --dereference            always follow symbolic links in SOURCE\r\n",
      "  -n, --no-clobber             do not overwrite an existing file (overrides\r\n",
      "                                 a previous -i option)\r\n",
      "  -P, --no-dereference         never follow symbolic links in SOURCE\r\n",
      "  -p                           same as --preserve=mode,ownership,timestamps\r\n",
      "      --preserve[=ATTR_LIST]   preserve the specified attributes (default:\r\n",
      "                                 mode,ownership,timestamps), if possible\r\n",
      "                                 additional attributes: context, links, xattr,\r\n",
      "                                 all\r\n",
      "      --no-preserve=ATTR_LIST  don't preserve the specified attributes\r\n",
      "      --parents                use full source file name under DIRECTORY\r\n",
      "  -R, -r, --recursive          copy directories recursively\r\n",
      "      --reflink[=WHEN]         control clone/CoW copies. See below\r\n",
      "      --remove-destination     remove each existing destination file before\r\n",
      "                                 attempting to open it (contrast with --force)\r\n",
      "      --sparse=WHEN            control creation of sparse files. See below\r\n",
      "      --strip-trailing-slashes  remove any trailing slashes from each SOURCE\r\n",
      "                                 argument\r\n",
      "  -s, --symbolic-link          make symbolic links instead of copying\r\n",
      "  -S, --suffix=SUFFIX          override the usual backup suffix\r\n",
      "  -t, --target-directory=DIRECTORY  copy all SOURCE arguments into DIRECTORY\r\n",
      "  -T, --no-target-directory    treat DEST as a normal file\r\n",
      "  -u, --update                 copy only when the SOURCE file is newer\r\n",
      "                                 than the destination file or when the\r\n",
      "                                 destination file is missing\r\n",
      "  -v, --verbose                explain what is being done\r\n",
      "  -x, --one-file-system        stay on this file system\r\n",
      "  -Z                           set SELinux security context of destination\r\n",
      "                                 file to default type\r\n",
      "      --context[=CTX]          like -Z, or if CTX is specified then set the\r\n",
      "                                 SELinux or SMACK security context to CTX\r\n",
      "      --help     display this help and exit\r\n",
      "      --version  output version information and exit\r\n",
      "\r\n",
      "By default, sparse SOURCE files are detected by a crude heuristic and the\r\n",
      "corresponding DEST file is made sparse as well.  That is the behavior\r\n",
      "selected by --sparse=auto.  Specify --sparse=always to create a sparse DEST\r\n",
      "file whenever the SOURCE file contains a long enough sequence of zero bytes.\r\n",
      "Use --sparse=never to inhibit creation of sparse files.\r\n",
      "\r\n",
      "When --reflink[=always] is specified, perform a lightweight copy, where the\r\n",
      "data blocks are copied only when modified.  If this is not possible the copy\r\n",
      "fails, or if --reflink=auto is specified, fall back to a standard copy.\r\n",
      "Use --reflink=never to ensure a standard copy is performed.\r\n",
      "\r\n",
      "The backup suffix is '~', unless set with --suffix or SIMPLE_BACKUP_SUFFIX.\r\n",
      "The version control method may be selected via the --backup option or through\r\n",
      "the VERSION_CONTROL environment variable.  Here are the values:\r\n",
      "\r\n",
      "  none, off       never make backups (even if --backup is given)\r\n",
      "  numbered, t     make numbered backups\r\n",
      "  existing, nil   numbered if numbered backups exist, simple otherwise\r\n",
      "  simple, never   always make simple backups\r\n",
      "\r\n",
      "As a special case, cp makes a backup of SOURCE when the force and backup\r\n",
      "options are given and SOURCE and DEST are the same name for an existing,\r\n",
      "regular file.\r\n",
      "\r\n",
      "GNU coreutils online help: <https://www.gnu.org/software/coreutils/>\r\n",
      "Full documentation at: <https://www.gnu.org/software/coreutils/cp>\r\n",
      "or available locally via: info '(coreutils) cp invocation'\r\n"
     ]
    }
   ],
   "source": [
    "cp --help"
   ]
  },
  {
   "cell_type": "code",
   "execution_count": 3,
   "metadata": {},
   "outputs": [],
   "source": [
    "data = pd.read_csv('https://code.s3.yandex.net/datasets/toxic_comments.csv')"
   ]
  },
  {
   "cell_type": "code",
   "execution_count": 4,
   "metadata": {},
   "outputs": [
    {
     "name": "stdout",
     "output_type": "stream",
     "text": [
      "<class 'pandas.core.frame.DataFrame'>\n",
      "RangeIndex: 159292 entries, 0 to 159291\n",
      "Data columns (total 3 columns):\n",
      " #   Column      Non-Null Count   Dtype \n",
      "---  ------      --------------   ----- \n",
      " 0   Unnamed: 0  159292 non-null  int64 \n",
      " 1   text        159292 non-null  object\n",
      " 2   toxic       159292 non-null  int64 \n",
      "dtypes: int64(2), object(1)\n",
      "memory usage: 3.6+ MB\n"
     ]
    }
   ],
   "source": [
    "data.info()"
   ]
  },
  {
   "cell_type": "code",
   "execution_count": 5,
   "metadata": {},
   "outputs": [
    {
     "data": {
      "text/html": [
       "<div>\n",
       "<style scoped>\n",
       "    .dataframe tbody tr th:only-of-type {\n",
       "        vertical-align: middle;\n",
       "    }\n",
       "\n",
       "    .dataframe tbody tr th {\n",
       "        vertical-align: top;\n",
       "    }\n",
       "\n",
       "    .dataframe thead th {\n",
       "        text-align: right;\n",
       "    }\n",
       "</style>\n",
       "<table border=\"1\" class=\"dataframe\">\n",
       "  <thead>\n",
       "    <tr style=\"text-align: right;\">\n",
       "      <th></th>\n",
       "      <th>Unnamed: 0</th>\n",
       "      <th>text</th>\n",
       "      <th>toxic</th>\n",
       "    </tr>\n",
       "  </thead>\n",
       "  <tbody>\n",
       "    <tr>\n",
       "      <th>0</th>\n",
       "      <td>0</td>\n",
       "      <td>Explanation\\nWhy the edits made under my usern...</td>\n",
       "      <td>0</td>\n",
       "    </tr>\n",
       "    <tr>\n",
       "      <th>1</th>\n",
       "      <td>1</td>\n",
       "      <td>D'aww! He matches this background colour I'm s...</td>\n",
       "      <td>0</td>\n",
       "    </tr>\n",
       "    <tr>\n",
       "      <th>2</th>\n",
       "      <td>2</td>\n",
       "      <td>Hey man, I'm really not trying to edit war. It...</td>\n",
       "      <td>0</td>\n",
       "    </tr>\n",
       "    <tr>\n",
       "      <th>3</th>\n",
       "      <td>3</td>\n",
       "      <td>\"\\nMore\\nI can't make any real suggestions on ...</td>\n",
       "      <td>0</td>\n",
       "    </tr>\n",
       "    <tr>\n",
       "      <th>4</th>\n",
       "      <td>4</td>\n",
       "      <td>You, sir, are my hero. Any chance you remember...</td>\n",
       "      <td>0</td>\n",
       "    </tr>\n",
       "  </tbody>\n",
       "</table>\n",
       "</div>"
      ],
      "text/plain": [
       "   Unnamed: 0                                               text  toxic\n",
       "0           0  Explanation\\nWhy the edits made under my usern...      0\n",
       "1           1  D'aww! He matches this background colour I'm s...      0\n",
       "2           2  Hey man, I'm really not trying to edit war. It...      0\n",
       "3           3  \"\\nMore\\nI can't make any real suggestions on ...      0\n",
       "4           4  You, sir, are my hero. Any chance you remember...      0"
      ]
     },
     "execution_count": 5,
     "metadata": {},
     "output_type": "execute_result"
    }
   ],
   "source": [
    "data.head()"
   ]
  },
  {
   "cell_type": "code",
   "execution_count": 6,
   "metadata": {},
   "outputs": [
    {
     "data": {
      "text/plain": [
       "0         Explanation\\nWhy the edits made under my usern...\n",
       "1         D'aww! He matches this background colour I'm s...\n",
       "2         Hey man, I'm really not trying to edit war. It...\n",
       "3         \"\\nMore\\nI can't make any real suggestions on ...\n",
       "4         You, sir, are my hero. Any chance you remember...\n",
       "                                ...                        \n",
       "159287    \":::::And for the second time of asking, when ...\n",
       "159288    You should be ashamed of yourself \\n\\nThat is ...\n",
       "159289    Spitzer \\n\\nUmm, theres no actual article for ...\n",
       "159290    And it looks like it was actually you who put ...\n",
       "159291    \"\\nAnd ... I really don't think you understand...\n",
       "Name: text, Length: 159292, dtype: object"
      ]
     },
     "execution_count": 6,
     "metadata": {},
     "output_type": "execute_result"
    }
   ],
   "source": [
    "data.text"
   ]
  },
  {
   "cell_type": "code",
   "execution_count": 7,
   "metadata": {},
   "outputs": [
    {
     "name": "stdout",
     "output_type": "stream",
     "text": [
      "Количество дубликатов: 0\n"
     ]
    }
   ],
   "source": [
    "print('Количество дубликатов:', data.duplicated().sum())"
   ]
  },
  {
   "cell_type": "markdown",
   "metadata": {},
   "source": [
    "Посмотрим на распределение классов."
   ]
  },
  {
   "cell_type": "code",
   "execution_count": 8,
   "metadata": {},
   "outputs": [
    {
     "data": {
      "text/plain": [
       "0    143106\n",
       "1     16186\n",
       "Name: toxic, dtype: int64"
      ]
     },
     "metadata": {},
     "output_type": "display_data"
    }
   ],
   "source": [
    "display(data['toxic'].value_counts())"
   ]
  },
  {
   "cell_type": "code",
   "execution_count": 9,
   "metadata": {},
   "outputs": [
    {
     "data": {
      "text/plain": [
       "8.841344371679229"
      ]
     },
     "execution_count": 9,
     "metadata": {},
     "output_type": "execute_result"
    }
   ],
   "source": [
    "ratio = data['toxic'].value_counts()[0] / data['toxic'].value_counts()[1]\n",
    "ratio"
   ]
  },
  {
   "cell_type": "markdown",
   "metadata": {},
   "source": [
    "Данные несбалансированные, будет учитывать это на этапе обучения моделей."
   ]
  },
  {
   "cell_type": "markdown",
   "metadata": {},
   "source": [
    "Удалим столбец 'Unnamed: 0', поскольку он нам не нужен."
   ]
  },
  {
   "cell_type": "code",
   "execution_count": 10,
   "metadata": {},
   "outputs": [],
   "source": [
    "del data['Unnamed: 0']"
   ]
  },
  {
   "cell_type": "markdown",
   "metadata": {},
   "source": [
    "Напишем функцию clear_text(text), которая оставит в тексте только кириллические символы и пробелы. На вход она принимает текст, а возвращает очищенный текст, дополнительно уберем лишние пробелы. После функция очищенный текст лемматизирует с помощью WordNetLemmatizer()."
   ]
  },
  {
   "cell_type": "code",
   "execution_count": 11,
   "metadata": {},
   "outputs": [],
   "source": [
    "lem = WordNetLemmatizer()"
   ]
  },
  {
   "cell_type": "code",
   "execution_count": 12,
   "metadata": {},
   "outputs": [
    {
     "name": "stdout",
     "output_type": "stream",
     "text": [
      "0    explanation why the edit make under my usernam...\n",
      "1    d aww he match this background colour i m seem...\n",
      "2    hey man i m really not try to edit war it s ju...\n",
      "3    more i can t make any real suggestions on impr...\n",
      "4    you sir be my hero any chance you remember wha...\n",
      "Name: lemm_text, dtype: object\n"
     ]
    }
   ],
   "source": [
    "def clear_text(text):\n",
    "    cl_text = ' '.join(re.sub(r'[^a-zA-Z]', \" \", text).lower().split())\n",
    "    word_list = nltk.word_tokenize(cl_text)\n",
    "    lemm_text = ' '.join([lem.lemmatize(w, 'v') for w in word_list])\n",
    "    return lemm_text\n",
    "\n",
    "data['lemm_text'] = data['text'].apply(clear_text)\n",
    "print(data.lemm_text[:5])"
   ]
  },
  {
   "cell_type": "code",
   "execution_count": 13,
   "metadata": {},
   "outputs": [],
   "source": [
    "data['lemm_text'] = data['text'].apply(clear_text)\n",
    "data = data.drop(['text'], axis=1)"
   ]
  },
  {
   "cell_type": "code",
   "execution_count": 14,
   "metadata": {},
   "outputs": [],
   "source": [
    "fdist = FreqDist(data['lemm_text'])"
   ]
  },
  {
   "cell_type": "code",
   "execution_count": 15,
   "metadata": {},
   "outputs": [
    {
     "data": {
      "text/plain": [
       "[('january', 21),\n",
       " ('thank you for experiment with wikipedia your test work and it have be revert or remove please use the sandbox for any other test you may want to do take a look at the welcome page to learn more about contribute to our encyclopedia talk',\n",
       "  19),\n",
       " ('jun utc', 18),\n",
       " ('please stop if you continue to vandalize page you will be block from edit wikipedia',\n",
       "  18),\n",
       " ('precede unsigned comment add by', 16)]"
      ]
     },
     "execution_count": 15,
     "metadata": {},
     "output_type": "execute_result"
    }
   ],
   "source": [
    "fdist.most_common(5)"
   ]
  },
  {
   "cell_type": "code",
   "execution_count": 16,
   "metadata": {},
   "outputs": [
    {
     "data": {
      "image/png": "[encoded data removed]",
      "text/plain": [
       "<Figure size 432x288 with 1 Axes>"
      ]
     },
     "metadata": {
      "needs_background": "light"
     },
     "output_type": "display_data"
    },
    {
     "data": {
      "text/plain": [
       "<AxesSubplot:xlabel='Samples', ylabel='Counts'>"
      ]
     },
     "execution_count": 16,
     "metadata": {},
     "output_type": "execute_result"
    }
   ],
   "source": [
    "fdist.plot(30,cumulative=False)"
   ]
  },
  {
   "cell_type": "code",
   "execution_count": 17,
   "metadata": {},
   "outputs": [],
   "source": [
    "text_raw = \" \".join(data['lemm_text'])"
   ]
  },
  {
   "cell_type": "code",
   "execution_count": 18,
   "metadata": {},
   "outputs": [],
   "source": [
    "wordcloud = WordCloud().generate(text_raw)"
   ]
  },
  {
   "cell_type": "code",
   "execution_count": 19,
   "metadata": {},
   "outputs": [
    {
     "data": {
      "text/plain": [
       "(-0.5, 399.5, 199.5, -0.5)"
      ]
     },
     "execution_count": 19,
     "metadata": {},
     "output_type": "execute_result"
    },
    {
     "data": {
      "image/png": "[encoded data removed]",
      "text/plain": [
       "<Figure size 432x288 with 1 Axes>"
      ]
     },
     "metadata": {
      "needs_background": "light"
     },
     "output_type": "display_data"
    }
   ],
   "source": [
    "plt.imshow(wordcloud)\n",
    "plt.axis('off')"
   ]
  },
  {
   "cell_type": "markdown",
   "metadata": {},
   "source": [
    "**Вывод по шагу 1**\n",
    "\n",
    "На первом шаге произведена загрузка данных и их подготовка для обучения моделей.\n",
    "\n",
    "1. Перед нами DataFrame в из 3 столбцов с данными и 159292 строк, содержащий текстовую информацию.\n",
    "2. Дубликатов и пропусков нет.\n",
    "3. Выявлен дисбаланс классов 1:8, что будет учитываться при обучении моделей.\n",
    "4. Удален столбец 'Unnamed: 0'.\n",
    "5. Текст лемматизирован и очищен."
   ]
  },
  {
   "cell_type": "markdown",
   "metadata": {},
   "source": [
    "## Обучение"
   ]
  },
  {
   "cell_type": "markdown",
   "metadata": {},
   "source": [
    "Разделим датасет на features_train, features_valid, target_train, target_valid, features_test и target_test. Сделаем проверку методом shape."
   ]
  },
  {
   "cell_type": "code",
   "execution_count": 20,
   "metadata": {},
   "outputs": [],
   "source": [
    "target = data['toxic']\n",
    "features = data.drop(['toxic'], axis=1)\n",
    "\n",
    "features_train, features_valid, target_train, target_valid = train_test_split(\n",
    "    features, target, test_size=0.2, random_state=42)\n",
    "features_valid, features_test, target_valid, target_test = train_test_split(\n",
    "    features_valid, target_valid, test_size=0.5, random_state=42)"
   ]
  },
  {
   "cell_type": "code",
   "execution_count": 21,
   "metadata": {},
   "outputs": [
    {
     "name": "stdout",
     "output_type": "stream",
     "text": [
      "(127433, 1) (127433,)\n",
      "(15929, 1) (15929,)\n",
      "(15930, 1) (15930,)\n"
     ]
    }
   ],
   "source": [
    "print(features_train.shape, target_train.shape)\n",
    "print(features_valid.shape, target_valid.shape)\n",
    "print(features_test.shape, target_test.shape)"
   ]
  },
  {
   "cell_type": "markdown",
   "metadata": {},
   "source": [
    "Добавим список стоп-слов."
   ]
  },
  {
   "cell_type": "code",
   "execution_count": 22,
   "metadata": {},
   "outputs": [
    {
     "name": "stderr",
     "output_type": "stream",
     "text": [
      "[nltk_data] Downloading package stopwords to /home/jovyan/nltk_data...\n",
      "[nltk_data]   Package stopwords is already up-to-date!\n"
     ]
    }
   ],
   "source": [
    "nltk.download('stopwords') \n",
    "stopwords = set(nltk_stopwords.words('english'))"
   ]
  },
  {
   "cell_type": "markdown",
   "metadata": {},
   "source": [
    "Создадим счётчик, указав в нём стоп-слова."
   ]
  },
  {
   "cell_type": "code",
   "execution_count": 23,
   "metadata": {},
   "outputs": [],
   "source": [
    "count_tf_idf = TfidfVectorizer(stop_words=stopwords)"
   ]
  },
  {
   "cell_type": "markdown",
   "metadata": {},
   "source": [
    "Посчитаем TF-IDF для корпуса текстов, функцией fit_transform()."
   ]
  },
  {
   "cell_type": "code",
   "execution_count": 24,
   "metadata": {},
   "outputs": [],
   "source": [
    "features_train = count_tf_idf.fit_transform(features_train['lemm_text'])\n",
    "features_valid = count_tf_idf.transform(features_valid['lemm_text'])\n",
    "features_test = count_tf_idf.transform(features_test['lemm_text'])"
   ]
  },
  {
   "cell_type": "code",
   "execution_count": 25,
   "metadata": {},
   "outputs": [
    {
     "name": "stdout",
     "output_type": "stream",
     "text": [
      "(127433, 136264) (127433,)\n",
      "(15929, 136264) (15929,)\n",
      "(15930, 136264) (15930,)\n"
     ]
    }
   ],
   "source": [
    "print(features_train.shape, target_train.shape)\n",
    "print(features_valid.shape, target_valid.shape)\n",
    "print(features_test.shape, target_test.shape)"
   ]
  },
  {
   "cell_type": "code",
   "execution_count": 26,
   "metadata": {},
   "outputs": [
    {
     "name": "stdout",
     "output_type": "stream",
     "text": [
      "f1_score наилучшей модели RandomForestClassifier на валидационной выборке: 0.0297951582867784\n",
      "CPU times: user 25.4 s, sys: 740 ms, total: 26.2 s\n",
      "Wall time: 26.3 s\n"
     ]
    }
   ],
   "source": [
    "%%time\n",
    "best_model_random_forest = None\n",
    "best_est_random_forest = 0\n",
    "best_depth_random_forest = 0\n",
    "best_f1_random_forest = 0\n",
    "for est in range(2,51,10):\n",
    "    for depth in range(2,10):\n",
    "        model_RF = RandomForestClassifier(random_state = 42, n_estimators = est, max_depth = depth, n_jobs=-1)\n",
    "        model_RF.fit(features_train,target_train)\n",
    "        prediction_valid_random_forest = model_RF.predict(features_valid)\n",
    "        f1_random_forest = f1_score(target_valid, prediction_valid_random_forest)\n",
    "        if best_f1_random_forest < f1_random_forest:\n",
    "            best_model_random_forest = model_RF\n",
    "            best_depth_random_forest = depth\n",
    "            best_est_random_forest = est\n",
    "            best_f1_random_forest = f1_random_forest\n",
    "            \n",
    "print(\"f1_score наилучшей модели RandomForestClassifier на валидационной выборке:\", best_f1_random_forest) "
   ]
  },
  {
   "cell_type": "code",
   "execution_count": 27,
   "metadata": {},
   "outputs": [],
   "source": [
    "df_train, df_test = train_test_split(data, test_size=0.25, random_state=42)"
   ]
  },
  {
   "cell_type": "code",
   "execution_count": 28,
   "metadata": {},
   "outputs": [
    {
     "data": {
      "text/plain": [
       "((119469, 2), (39823, 2))"
      ]
     },
     "execution_count": 28,
     "metadata": {},
     "output_type": "execute_result"
    }
   ],
   "source": [
    "df_train.shape, df_test.shape"
   ]
  },
  {
   "cell_type": "code",
   "execution_count": 29,
   "metadata": {},
   "outputs": [
    {
     "data": {
      "text/plain": [
       "17183     the source be also not acceptable for reason a...\n",
       "123920    etaonash just like the rest of the editors you...\n",
       "12358     do you remove my post on the discussion page f...\n",
       "101443    aggressive edit please discuss with me any dis...\n",
       "29758     really good contributor bullshit the cabal dis...\n",
       "                                ...                        \n",
       "119879    first of all editor theredpenofdoom be not a m...\n",
       "103694                             and decide to become gay\n",
       "131932    john bull vs adolf hitler look at the picture ...\n",
       "146867    october you have a lot to learn about the way ...\n",
       "121958    i m sorry tip the deduction be obvious and wro...\n",
       "Name: lemm_text, Length: 119469, dtype: object"
      ]
     },
     "execution_count": 29,
     "metadata": {},
     "output_type": "execute_result"
    }
   ],
   "source": [
    "df_train.lemm_text"
   ]
  },
  {
   "cell_type": "code",
   "execution_count": 30,
   "metadata": {},
   "outputs": [
    {
     "name": "stdout",
     "output_type": "stream",
     "text": [
      "Fitting 5 folds for each of 9 candidates, totalling 45 fits\n",
      "[CV 1/5] END ................score__C=2, tidf__min_df=0.0001; total time=  40.1s\n",
      "[CV 2/5] END ................score__C=2, tidf__min_df=0.0001; total time=  43.9s\n",
      "[CV 3/5] END ................score__C=2, tidf__min_df=0.0001; total time=  46.3s\n",
      "[CV 4/5] END ................score__C=2, tidf__min_df=0.0001; total time=  49.7s\n",
      "[CV 5/5] END ................score__C=2, tidf__min_df=0.0001; total time=  34.7s\n",
      "[CV 1/5] END .................score__C=2, tidf__min_df=1e-05; total time= 1.0min\n",
      "[CV 2/5] END .................score__C=2, tidf__min_df=1e-05; total time= 1.4min\n",
      "[CV 3/5] END .................score__C=2, tidf__min_df=1e-05; total time=  58.6s\n",
      "[CV 4/5] END .................score__C=2, tidf__min_df=1e-05; total time=  48.2s\n",
      "[CV 5/5] END .................score__C=2, tidf__min_df=1e-05; total time=  57.9s\n",
      "[CV 1/5] END .................score__C=2, tidf__min_df=1e-06; total time= 1.1min\n",
      "[CV 2/5] END .................score__C=2, tidf__min_df=1e-06; total time= 1.3min\n",
      "[CV 3/5] END .................score__C=2, tidf__min_df=1e-06; total time=  54.8s\n",
      "[CV 4/5] END .................score__C=2, tidf__min_df=1e-06; total time=  50.5s\n",
      "[CV 5/5] END .................score__C=2, tidf__min_df=1e-06; total time=  53.7s\n",
      "[CV 1/5] END ................score__C=5, tidf__min_df=0.0001; total time= 1.4min\n",
      "[CV 2/5] END ................score__C=5, tidf__min_df=0.0001; total time= 1.0min\n",
      "[CV 3/5] END ................score__C=5, tidf__min_df=0.0001; total time= 1.0min\n",
      "[CV 4/5] END ................score__C=5, tidf__min_df=0.0001; total time= 1.4min\n",
      "[CV 5/5] END ................score__C=5, tidf__min_df=0.0001; total time= 1.1min\n",
      "[CV 1/5] END .................score__C=5, tidf__min_df=1e-05; total time= 1.7min\n",
      "[CV 2/5] END .................score__C=5, tidf__min_df=1e-05; total time= 1.9min\n",
      "[CV 3/5] END .................score__C=5, tidf__min_df=1e-05; total time= 1.4min\n",
      "[CV 4/5] END .................score__C=5, tidf__min_df=1e-05; total time= 1.5min\n",
      "[CV 5/5] END .................score__C=5, tidf__min_df=1e-05; total time= 1.8min\n",
      "[CV 1/5] END .................score__C=5, tidf__min_df=1e-06; total time= 1.8min\n",
      "[CV 2/5] END .................score__C=5, tidf__min_df=1e-06; total time= 2.0min\n",
      "[CV 3/5] END .................score__C=5, tidf__min_df=1e-06; total time= 1.6min\n",
      "[CV 4/5] END .................score__C=5, tidf__min_df=1e-06; total time= 1.6min\n",
      "[CV 5/5] END .................score__C=5, tidf__min_df=1e-06; total time= 1.8min\n",
      "[CV 1/5] END ...............score__C=10, tidf__min_df=0.0001; total time= 1.4min\n",
      "[CV 2/5] END ...............score__C=10, tidf__min_df=0.0001; total time=  59.7s\n",
      "[CV 3/5] END ...............score__C=10, tidf__min_df=0.0001; total time= 1.5min\n",
      "[CV 4/5] END ...............score__C=10, tidf__min_df=0.0001; total time= 1.8min\n",
      "[CV 5/5] END ...............score__C=10, tidf__min_df=0.0001; total time= 1.8min\n",
      "[CV 1/5] END ................score__C=10, tidf__min_df=1e-05; total time= 1.7min\n",
      "[CV 2/5] END ................score__C=10, tidf__min_df=1e-05; total time= 2.0min\n",
      "[CV 3/5] END ................score__C=10, tidf__min_df=1e-05; total time= 2.3min\n",
      "[CV 4/5] END ................score__C=10, tidf__min_df=1e-05; total time= 2.0min\n",
      "[CV 5/5] END ................score__C=10, tidf__min_df=1e-05; total time= 2.6min\n",
      "[CV 1/5] END ................score__C=10, tidf__min_df=1e-06; total time= 1.7min\n",
      "[CV 2/5] END ................score__C=10, tidf__min_df=1e-06; total time= 2.0min\n",
      "[CV 3/5] END ................score__C=10, tidf__min_df=1e-06; total time= 2.4min\n",
      "[CV 4/5] END ................score__C=10, tidf__min_df=1e-06; total time= 2.0min\n",
      "[CV 5/5] END ................score__C=10, tidf__min_df=1e-06; total time= 2.7min\n",
      "f1_score наилучшей модели LogisticRegression CV:  0.7714385948109401\n",
      "f1_score LogisticRegression на тестовой выборке:  0.7746366029529588\n",
      "CPU times: user 24min 21s, sys: 43min 20s, total: 1h 7min 41s\n",
      "Wall time: 1h 7min 50s\n"
     ]
    }
   ],
   "source": [
    "%%time\n",
    "\n",
    "pipe = Pipeline([\n",
    "    ('tidf', TfidfVectorizer()),\n",
    "    ('score', LogisticRegression(C=2, class_weight={0:1, 1:8}, \n",
    "                                 max_iter=1000, penalty='l2', random_state=42))\n",
    "])\n",
    "\n",
    "params = {\n",
    "   \"tidf__min_df\": [1e-4, 1e-5, 1e-6],\n",
    "   \"score__C\": [2, 5, 10]\n",
    "}\n",
    "\n",
    "gcsv = GridSearchCV(pipe, param_grid=params, scoring='f1', verbose=5)\n",
    "gcsv.fit(df_train.lemm_text, df_train.toxic)\n",
    "\n",
    "y_hat = gcsv.predict(df_test.lemm_text)\n",
    "\n",
    "f1_test = f1_score(df_test.toxic, y_hat)\n",
    "\n",
    "print(\"f1_score наилучшей модели LogisticRegression CV: \", gcsv.best_score_)\n",
    "print(\"f1_score LogisticRegression на тестовой выборке: \", f1_test) "
   ]
  },
  {
   "cell_type": "markdown",
   "metadata": {},
   "source": [
    "**Вывод по шагу 2**\n",
    "\n",
    "Данные разделены на обучающую, валидационную и тестовую выборки.  \n",
    "Обучены модели LogisticRegression и RandomForestClassifier.  \n",
    "Наилучший результат F1 показала LogisticRegression."
   ]
  },
  {
   "cell_type": "code",
   "execution_count": 31,
   "metadata": {},
   "outputs": [],
   "source": [
    "dummy_prediction_1 = [1 for i in range(len(target_test))]"
   ]
  },
  {
   "cell_type": "code",
   "execution_count": 32,
   "metadata": {},
   "outputs": [
    {
     "data": {
      "text/plain": [
       "0.18420152741365553"
      ]
     },
     "execution_count": 32,
     "metadata": {},
     "output_type": "execute_result"
    }
   ],
   "source": [
    "dummy_f1_score_1 = f1_score(dummy_prediction_1, target_test.reset_index(drop=True)) \n",
    "dummy_f1_score_1"
   ]
  },
  {
   "cell_type": "code",
   "execution_count": 33,
   "metadata": {},
   "outputs": [],
   "source": [
    "dummy_prediction_0 = [0 for i in range(len(target_test))]"
   ]
  },
  {
   "cell_type": "code",
   "execution_count": 34,
   "metadata": {},
   "outputs": [
    {
     "data": {
      "text/plain": [
       "0.0"
      ]
     },
     "execution_count": 34,
     "metadata": {},
     "output_type": "execute_result"
    }
   ],
   "source": [
    "dummy_f1_score_0 = f1_score(dummy_prediction_0, target_test.reset_index(drop=True)) \n",
    "dummy_f1_score_0"
   ]
  },
  {
   "cell_type": "code",
   "execution_count": 35,
   "metadata": {},
   "outputs": [
    {
     "name": "stdout",
     "output_type": "stream",
     "text": [
      "f1 RandomForestClassifier на тестовой выборке 0.0243605359317905\n"
     ]
    }
   ],
   "source": [
    "prediction_test_random_forest = best_model_random_forest.predict(features_test)\n",
    "f1_test_random_forest = f1_score(target_test, prediction_test_random_forest)\n",
    "print(\"f1 RandomForestClassifier на тестовой выборке\", f1_test_random_forest)"
   ]
  },
  {
   "cell_type": "markdown",
   "metadata": {},
   "source": [
    "## Выводы"
   ]
  },
  {
   "cell_type": "markdown",
   "metadata": {},
   "source": [
    "На первом этапе данные были изучены и подготовлены. Проведена лемматизация и работа с регулярными выражениями.\n",
    "На втором этапе, учитывая дисбаланс классов, обучены модели LogisticRegression и RandomForestClassifier.\n",
    "Выбрана лучшая модель на валидационной выборке и проведено финальное тестирование модели на тестовой выборке. Проведена оценка адекватности модели.\n",
    "\n",
    "На финальном тестировании метрика F1 у LogisticRegression составила 0.77."
   ]
  }
 ],
 "metadata": {
  "ExecuteTimeLog": [
   {
    "duration": 428,
    "start_time": "2022-11-15T17:04:08.269Z"
   },
   {
    "duration": 2075,
    "start_time": "2022-11-15T17:04:28.402Z"
   },
   {
    "duration": 16,
    "start_time": "2022-11-15T17:04:39.546Z"
   },
   {
    "duration": 5,
    "start_time": "2022-11-15T17:05:02.122Z"
   },
   {
    "duration": 1969,
    "start_time": "2022-11-15T17:43:18.419Z"
   },
   {
    "duration": 781,
    "start_time": "2022-11-15T17:43:34.939Z"
   },
   {
    "duration": 68,
    "start_time": "2022-11-15T17:43:59.884Z"
   },
   {
    "duration": 11,
    "start_time": "2022-11-15T17:44:18.293Z"
   },
   {
    "duration": 2,
    "start_time": "2022-11-15T17:44:36.115Z"
   },
   {
    "duration": 5,
    "start_time": "2022-11-15T17:44:39.359Z"
   },
   {
    "duration": 985,
    "start_time": "2022-11-15T17:45:08.529Z"
   },
   {
    "duration": 21429,
    "start_time": "2022-11-15T17:45:37.062Z"
   },
   {
    "duration": 115,
    "start_time": "2022-11-15T17:46:01.568Z"
   },
   {
    "duration": 5033,
    "start_time": "2022-11-15T17:46:20.395Z"
   },
   {
    "duration": 87154,
    "start_time": "2022-11-15T17:46:43.402Z"
   },
   {
    "duration": 5,
    "start_time": "2022-11-15T17:48:10.559Z"
   },
   {
    "duration": 2199,
    "start_time": "2022-11-15T17:50:43.884Z"
   },
   {
    "duration": 2440,
    "start_time": "2022-11-15T17:52:52.613Z"
   },
   {
    "duration": 2027,
    "start_time": "2022-11-15T17:53:46.107Z"
   },
   {
    "duration": 17,
    "start_time": "2022-11-15T17:53:51.444Z"
   },
   {
    "duration": 1663,
    "start_time": "2022-11-15T17:54:02.693Z"
   },
   {
    "duration": 34,
    "start_time": "2022-11-15T17:54:19.258Z"
   },
   {
    "duration": 8,
    "start_time": "2022-11-15T17:56:24.361Z"
   },
   {
    "duration": 216,
    "start_time": "2022-11-15T17:57:11.821Z"
   },
   {
    "duration": 1873,
    "start_time": "2022-11-15T17:58:01.534Z"
   },
   {
    "duration": 861,
    "start_time": "2022-11-15T17:58:41.983Z"
   },
   {
    "duration": 7,
    "start_time": "2022-11-15T17:58:55.740Z"
   },
   {
    "duration": 3,
    "start_time": "2022-11-16T03:14:51.223Z"
   },
   {
    "duration": 1975,
    "start_time": "2022-11-16T03:14:52.319Z"
   },
   {
    "duration": 29,
    "start_time": "2022-11-16T03:14:54.296Z"
   },
   {
    "duration": 8,
    "start_time": "2022-11-16T03:14:54.327Z"
   },
   {
    "duration": 5,
    "start_time": "2022-11-16T03:15:03.784Z"
   },
   {
    "duration": 154,
    "start_time": "2022-11-16T03:16:18.160Z"
   },
   {
    "duration": 7074,
    "start_time": "2022-11-16T03:16:26.296Z"
   },
   {
    "duration": 42,
    "start_time": "2022-11-16T03:19:24.987Z"
   },
   {
    "duration": 831,
    "start_time": "2022-11-16T03:19:36.576Z"
   },
   {
    "duration": 12,
    "start_time": "2022-11-16T03:21:57.601Z"
   },
   {
    "duration": 4,
    "start_time": "2022-11-16T03:21:59.111Z"
   },
   {
    "duration": 4,
    "start_time": "2022-11-16T03:22:46.850Z"
   },
   {
    "duration": 5,
    "start_time": "2022-11-16T03:23:41.458Z"
   },
   {
    "duration": 4,
    "start_time": "2022-11-16T03:24:33.499Z"
   },
   {
    "duration": 2568,
    "start_time": "2022-11-16T03:26:27.428Z"
   },
   {
    "duration": 2436,
    "start_time": "2022-11-16T03:26:31.123Z"
   },
   {
    "duration": 34,
    "start_time": "2022-11-16T03:26:33.562Z"
   },
   {
    "duration": 14,
    "start_time": "2022-11-16T03:26:33.597Z"
   },
   {
    "duration": 6,
    "start_time": "2022-11-16T03:26:33.895Z"
   },
   {
    "duration": 218,
    "start_time": "2022-11-16T03:26:36.135Z"
   },
   {
    "duration": 154,
    "start_time": "2022-11-16T03:26:42.895Z"
   },
   {
    "duration": 11,
    "start_time": "2022-11-16T03:27:33.054Z"
   },
   {
    "duration": 3016,
    "start_time": "2022-11-16T03:27:39.595Z"
   },
   {
    "duration": 2124,
    "start_time": "2022-11-16T03:27:53.335Z"
   },
   {
    "duration": 939,
    "start_time": "2022-11-16T03:27:55.461Z"
   },
   {
    "duration": 9466,
    "start_time": "2022-11-16T03:29:03.764Z"
   },
   {
    "duration": 150,
    "start_time": "2022-11-16T03:29:28.633Z"
   },
   {
    "duration": 9237,
    "start_time": "2022-11-16T03:29:59.710Z"
   },
   {
    "duration": 47,
    "start_time": "2022-11-16T03:30:45.787Z"
   },
   {
    "duration": 35,
    "start_time": "2022-11-16T03:31:06.595Z"
   },
   {
    "duration": 49,
    "start_time": "2022-11-16T03:31:07.063Z"
   },
   {
    "duration": 2547,
    "start_time": "2022-11-16T03:31:34.639Z"
   },
   {
    "duration": 1791,
    "start_time": "2022-11-16T03:31:37.189Z"
   },
   {
    "duration": 32,
    "start_time": "2022-11-16T03:31:38.982Z"
   },
   {
    "duration": 13,
    "start_time": "2022-11-16T03:31:39.016Z"
   },
   {
    "duration": 24,
    "start_time": "2022-11-16T03:31:39.031Z"
   },
   {
    "duration": 250,
    "start_time": "2022-11-16T03:31:39.056Z"
   },
   {
    "duration": 3119,
    "start_time": "2022-11-16T03:31:39.309Z"
   },
   {
    "duration": 2159,
    "start_time": "2022-11-16T03:31:42.430Z"
   },
   {
    "duration": 950,
    "start_time": "2022-11-16T03:31:44.590Z"
   },
   {
    "duration": 9444,
    "start_time": "2022-11-16T03:31:45.543Z"
   },
   {
    "duration": 8906,
    "start_time": "2022-11-16T03:31:54.988Z"
   },
   {
    "duration": 45,
    "start_time": "2022-11-16T03:32:03.896Z"
   },
   {
    "duration": 2611,
    "start_time": "2022-11-16T03:32:41.624Z"
   },
   {
    "duration": 2474,
    "start_time": "2022-11-16T03:32:45.141Z"
   },
   {
    "duration": 33,
    "start_time": "2022-11-16T03:32:48.144Z"
   },
   {
    "duration": 12,
    "start_time": "2022-11-16T03:32:49.233Z"
   },
   {
    "duration": 6,
    "start_time": "2022-11-16T03:32:50.073Z"
   },
   {
    "duration": 223,
    "start_time": "2022-11-16T03:32:50.958Z"
   },
   {
    "duration": 3101,
    "start_time": "2022-11-16T03:32:52.737Z"
   },
   {
    "duration": 2145,
    "start_time": "2022-11-16T03:32:58.710Z"
   },
   {
    "duration": 944,
    "start_time": "2022-11-16T03:33:00.857Z"
   },
   {
    "duration": 9638,
    "start_time": "2022-11-16T03:33:11.709Z"
   },
   {
    "duration": 9219,
    "start_time": "2022-11-16T03:33:40.877Z"
   },
   {
    "duration": 46,
    "start_time": "2022-11-16T03:33:50.098Z"
   },
   {
    "duration": 49,
    "start_time": "2022-11-16T03:35:43.879Z"
   },
   {
    "duration": 2519,
    "start_time": "2022-11-16T03:35:49.249Z"
   },
   {
    "duration": 1445,
    "start_time": "2022-11-16T03:35:51.770Z"
   },
   {
    "duration": 29,
    "start_time": "2022-11-16T03:35:53.217Z"
   },
   {
    "duration": 13,
    "start_time": "2022-11-16T03:35:53.255Z"
   },
   {
    "duration": 8,
    "start_time": "2022-11-16T03:35:53.269Z"
   },
   {
    "duration": 240,
    "start_time": "2022-11-16T03:35:53.278Z"
   },
   {
    "duration": 3085,
    "start_time": "2022-11-16T03:35:53.520Z"
   },
   {
    "duration": 2112,
    "start_time": "2022-11-16T03:35:56.607Z"
   },
   {
    "duration": 938,
    "start_time": "2022-11-16T03:35:58.721Z"
   },
   {
    "duration": 9609,
    "start_time": "2022-11-16T03:35:59.662Z"
   },
   {
    "duration": 9346,
    "start_time": "2022-11-16T03:36:09.273Z"
   },
   {
    "duration": 48,
    "start_time": "2022-11-16T03:36:18.620Z"
   },
   {
    "duration": 6908,
    "start_time": "2022-11-16T03:36:18.669Z"
   },
   {
    "duration": 2506,
    "start_time": "2022-11-16T03:36:25.579Z"
   },
   {
    "duration": 0,
    "start_time": "2022-11-16T03:36:28.086Z"
   },
   {
    "duration": 0,
    "start_time": "2022-11-16T03:36:28.088Z"
   },
   {
    "duration": 6744,
    "start_time": "2022-11-16T03:36:52.780Z"
   },
   {
    "duration": 18,
    "start_time": "2022-11-16T03:41:56.150Z"
   },
   {
    "duration": 28,
    "start_time": "2022-11-16T03:42:01.194Z"
   },
   {
    "duration": 4,
    "start_time": "2022-11-16T03:42:02.658Z"
   },
   {
    "duration": 25,
    "start_time": "2022-11-16T03:42:19.883Z"
   },
   {
    "duration": 30,
    "start_time": "2022-11-16T03:42:48.349Z"
   },
   {
    "duration": 4,
    "start_time": "2022-11-16T03:42:48.890Z"
   },
   {
    "duration": 23,
    "start_time": "2022-11-16T03:42:49.600Z"
   },
   {
    "duration": 2282,
    "start_time": "2022-11-16T03:43:08.142Z"
   },
   {
    "duration": 2573,
    "start_time": "2022-11-16T03:43:21.126Z"
   },
   {
    "duration": 1921,
    "start_time": "2022-11-16T03:43:23.701Z"
   },
   {
    "duration": 39,
    "start_time": "2022-11-16T03:43:25.623Z"
   },
   {
    "duration": 13,
    "start_time": "2022-11-16T03:43:25.663Z"
   },
   {
    "duration": 6,
    "start_time": "2022-11-16T03:43:25.678Z"
   },
   {
    "duration": 242,
    "start_time": "2022-11-16T03:43:25.686Z"
   },
   {
    "duration": 3071,
    "start_time": "2022-11-16T03:43:25.929Z"
   },
   {
    "duration": 2186,
    "start_time": "2022-11-16T03:43:29.002Z"
   },
   {
    "duration": 1000,
    "start_time": "2022-11-16T03:43:31.190Z"
   },
   {
    "duration": 9621,
    "start_time": "2022-11-16T03:43:32.194Z"
   },
   {
    "duration": 9207,
    "start_time": "2022-11-16T03:43:41.817Z"
   },
   {
    "duration": 48,
    "start_time": "2022-11-16T03:43:51.026Z"
   },
   {
    "duration": 169,
    "start_time": "2022-11-16T03:43:51.076Z"
   },
   {
    "duration": 0,
    "start_time": "2022-11-16T03:43:51.246Z"
   },
   {
    "duration": 0,
    "start_time": "2022-11-16T03:43:51.247Z"
   },
   {
    "duration": 0,
    "start_time": "2022-11-16T03:43:51.248Z"
   },
   {
    "duration": 0,
    "start_time": "2022-11-16T03:43:51.255Z"
   },
   {
    "duration": 8,
    "start_time": "2022-11-16T03:44:32.054Z"
   },
   {
    "duration": 5,
    "start_time": "2022-11-16T03:44:32.845Z"
   },
   {
    "duration": 4,
    "start_time": "2022-11-16T03:44:33.614Z"
   },
   {
    "duration": 20,
    "start_time": "2022-11-16T03:44:37.541Z"
   },
   {
    "duration": 2426,
    "start_time": "2022-11-16T03:48:14.269Z"
   },
   {
    "duration": 1810,
    "start_time": "2022-11-16T03:48:16.697Z"
   },
   {
    "duration": 29,
    "start_time": "2022-11-16T03:48:18.509Z"
   },
   {
    "duration": 19,
    "start_time": "2022-11-16T03:48:18.540Z"
   },
   {
    "duration": 5,
    "start_time": "2022-11-16T03:48:18.560Z"
   },
   {
    "duration": 234,
    "start_time": "2022-11-16T03:48:18.566Z"
   },
   {
    "duration": 3086,
    "start_time": "2022-11-16T03:48:18.802Z"
   },
   {
    "duration": 2150,
    "start_time": "2022-11-16T03:48:21.889Z"
   },
   {
    "duration": 902,
    "start_time": "2022-11-16T03:48:24.041Z"
   },
   {
    "duration": 2,
    "start_time": "2022-11-16T03:48:24.945Z"
   },
   {
    "duration": 4,
    "start_time": "2022-11-16T03:48:24.955Z"
   },
   {
    "duration": 216,
    "start_time": "2022-11-16T03:48:24.961Z"
   },
   {
    "duration": 3,
    "start_time": "2022-11-16T03:48:25.179Z"
   },
   {
    "duration": 49,
    "start_time": "2022-11-16T03:48:25.184Z"
   },
   {
    "duration": 4,
    "start_time": "2022-11-16T03:48:25.235Z"
   },
   {
    "duration": 163,
    "start_time": "2022-11-16T03:48:25.240Z"
   },
   {
    "duration": 10,
    "start_time": "2022-11-16T03:49:10.929Z"
   },
   {
    "duration": 33,
    "start_time": "2022-11-16T03:49:19.476Z"
   },
   {
    "duration": 6,
    "start_time": "2022-11-16T03:49:36.013Z"
   },
   {
    "duration": 5,
    "start_time": "2022-11-16T03:49:44.612Z"
   },
   {
    "duration": 31,
    "start_time": "2022-11-16T03:49:55.492Z"
   },
   {
    "duration": 4,
    "start_time": "2022-11-16T03:50:27.133Z"
   },
   {
    "duration": 34,
    "start_time": "2022-11-16T03:50:34.397Z"
   },
   {
    "duration": 4,
    "start_time": "2022-11-16T03:50:35.588Z"
   },
   {
    "duration": 18,
    "start_time": "2022-11-16T03:50:38.914Z"
   },
   {
    "duration": 33,
    "start_time": "2022-11-16T03:51:13.362Z"
   },
   {
    "duration": 5,
    "start_time": "2022-11-16T03:51:15.254Z"
   },
   {
    "duration": 56,
    "start_time": "2022-11-16T03:56:02.053Z"
   },
   {
    "duration": 54,
    "start_time": "2022-11-16T03:56:08.520Z"
   },
   {
    "duration": 50,
    "start_time": "2022-11-16T03:58:24.210Z"
   },
   {
    "duration": 4,
    "start_time": "2022-11-16T03:58:48.383Z"
   },
   {
    "duration": 48,
    "start_time": "2022-11-16T04:00:05.314Z"
   },
   {
    "duration": 11,
    "start_time": "2022-11-16T04:00:39.288Z"
   },
   {
    "duration": 4,
    "start_time": "2022-11-16T04:00:47.640Z"
   },
   {
    "duration": 4,
    "start_time": "2022-11-16T04:02:36.937Z"
   },
   {
    "duration": 4,
    "start_time": "2022-11-16T04:02:51.573Z"
   },
   {
    "duration": 25,
    "start_time": "2022-11-16T04:03:37.868Z"
   },
   {
    "duration": 4,
    "start_time": "2022-11-16T04:04:40.395Z"
   },
   {
    "duration": 17,
    "start_time": "2022-11-16T04:06:23.534Z"
   },
   {
    "duration": 1706,
    "start_time": "2022-11-16T04:07:44.154Z"
   },
   {
    "duration": 2722,
    "start_time": "2022-11-16T04:07:51.668Z"
   },
   {
    "duration": 2056,
    "start_time": "2022-11-16T04:07:54.392Z"
   },
   {
    "duration": 35,
    "start_time": "2022-11-16T04:07:56.450Z"
   },
   {
    "duration": 14,
    "start_time": "2022-11-16T04:07:56.487Z"
   },
   {
    "duration": 11,
    "start_time": "2022-11-16T04:07:56.503Z"
   },
   {
    "duration": 243,
    "start_time": "2022-11-16T04:07:56.516Z"
   },
   {
    "duration": 2278,
    "start_time": "2022-11-16T04:07:56.761Z"
   },
   {
    "duration": 2137,
    "start_time": "2022-11-16T04:07:59.041Z"
   },
   {
    "duration": 952,
    "start_time": "2022-11-16T04:08:01.181Z"
   },
   {
    "duration": 2,
    "start_time": "2022-11-16T04:08:02.136Z"
   },
   {
    "duration": 20,
    "start_time": "2022-11-16T04:08:02.140Z"
   },
   {
    "duration": 230,
    "start_time": "2022-11-16T04:08:02.162Z"
   },
   {
    "duration": 2,
    "start_time": "2022-11-16T04:08:02.394Z"
   },
   {
    "duration": 18,
    "start_time": "2022-11-16T04:08:02.398Z"
   },
   {
    "duration": 72,
    "start_time": "2022-11-16T04:08:02.417Z"
   },
   {
    "duration": 4,
    "start_time": "2022-11-16T04:08:02.491Z"
   },
   {
    "duration": 52,
    "start_time": "2022-11-16T04:08:02.496Z"
   },
   {
    "duration": 0,
    "start_time": "2022-11-16T04:08:02.549Z"
   },
   {
    "duration": 159,
    "start_time": "2022-11-16T04:08:19.324Z"
   },
   {
    "duration": 3,
    "start_time": "2022-11-16T04:13:39.234Z"
   },
   {
    "duration": 3,
    "start_time": "2022-11-16T04:14:00.518Z"
   },
   {
    "duration": 3,
    "start_time": "2022-11-16T04:14:00.935Z"
   },
   {
    "duration": 4,
    "start_time": "2022-11-16T04:14:01.165Z"
   },
   {
    "duration": 48,
    "start_time": "2022-11-16T04:14:01.307Z"
   },
   {
    "duration": 5,
    "start_time": "2022-11-16T04:14:01.485Z"
   },
   {
    "duration": 18,
    "start_time": "2022-11-16T04:14:01.653Z"
   },
   {
    "duration": 7,
    "start_time": "2022-11-16T04:14:26.342Z"
   },
   {
    "duration": 5,
    "start_time": "2022-11-16T04:14:27.339Z"
   },
   {
    "duration": 10,
    "start_time": "2022-11-16T04:14:27.812Z"
   },
   {
    "duration": 5,
    "start_time": "2022-11-16T04:14:28.027Z"
   },
   {
    "duration": 18,
    "start_time": "2022-11-16T04:14:28.166Z"
   },
   {
    "duration": 2350,
    "start_time": "2022-11-16T08:24:09.104Z"
   },
   {
    "duration": 2236,
    "start_time": "2022-11-16T08:24:11.456Z"
   },
   {
    "duration": 36,
    "start_time": "2022-11-16T08:24:13.694Z"
   },
   {
    "duration": 29,
    "start_time": "2022-11-16T08:24:13.732Z"
   },
   {
    "duration": 7,
    "start_time": "2022-11-16T08:24:13.762Z"
   },
   {
    "duration": 246,
    "start_time": "2022-11-16T08:24:13.771Z"
   },
   {
    "duration": 2467,
    "start_time": "2022-11-16T08:24:14.020Z"
   },
   {
    "duration": 2211,
    "start_time": "2022-11-16T08:24:16.489Z"
   },
   {
    "duration": 946,
    "start_time": "2022-11-16T08:24:18.702Z"
   },
   {
    "duration": 2,
    "start_time": "2022-11-16T08:24:19.654Z"
   },
   {
    "duration": 6,
    "start_time": "2022-11-16T08:24:19.658Z"
   },
   {
    "duration": 206,
    "start_time": "2022-11-16T08:24:19.665Z"
   },
   {
    "duration": 3,
    "start_time": "2022-11-16T08:24:19.872Z"
   },
   {
    "duration": 13,
    "start_time": "2022-11-16T08:24:19.877Z"
   },
   {
    "duration": 5,
    "start_time": "2022-11-16T08:24:19.891Z"
   },
   {
    "duration": 8,
    "start_time": "2022-11-16T08:24:19.897Z"
   },
   {
    "duration": 9,
    "start_time": "2022-11-16T08:24:19.907Z"
   },
   {
    "duration": 173,
    "start_time": "2022-11-16T08:24:19.918Z"
   },
   {
    "duration": 2533,
    "start_time": "2022-11-16T08:26:02.426Z"
   },
   {
    "duration": 2135,
    "start_time": "2022-11-16T08:26:04.961Z"
   },
   {
    "duration": 34,
    "start_time": "2022-11-16T08:26:07.098Z"
   },
   {
    "duration": 22,
    "start_time": "2022-11-16T08:26:07.134Z"
   },
   {
    "duration": 5,
    "start_time": "2022-11-16T08:26:07.158Z"
   },
   {
    "duration": 236,
    "start_time": "2022-11-16T08:26:07.165Z"
   },
   {
    "duration": 2525,
    "start_time": "2022-11-16T08:26:07.402Z"
   },
   {
    "duration": 2225,
    "start_time": "2022-11-16T08:26:09.930Z"
   },
   {
    "duration": 942,
    "start_time": "2022-11-16T08:26:12.157Z"
   },
   {
    "duration": 2,
    "start_time": "2022-11-16T08:26:13.102Z"
   },
   {
    "duration": 8,
    "start_time": "2022-11-16T08:26:13.105Z"
   },
   {
    "duration": 130,
    "start_time": "2022-11-16T08:26:13.114Z"
   },
   {
    "duration": 3,
    "start_time": "2022-11-16T08:26:13.246Z"
   },
   {
    "duration": 6,
    "start_time": "2022-11-16T08:26:13.250Z"
   },
   {
    "duration": 9,
    "start_time": "2022-11-16T08:26:13.258Z"
   },
   {
    "duration": 74,
    "start_time": "2022-11-16T08:26:13.268Z"
   },
   {
    "duration": 4,
    "start_time": "2022-11-16T08:26:13.344Z"
   },
   {
    "duration": 173,
    "start_time": "2022-11-16T08:26:13.355Z"
   },
   {
    "duration": 4,
    "start_time": "2022-11-16T08:27:20.049Z"
   },
   {
    "duration": 3,
    "start_time": "2022-11-16T08:27:20.544Z"
   },
   {
    "duration": 2,
    "start_time": "2022-11-16T08:27:21.016Z"
   },
   {
    "duration": 3,
    "start_time": "2022-11-16T08:27:21.353Z"
   },
   {
    "duration": 51,
    "start_time": "2022-11-16T08:27:21.960Z"
   },
   {
    "duration": 17,
    "start_time": "2022-11-16T08:27:22.729Z"
   },
   {
    "duration": 2483,
    "start_time": "2022-11-16T08:28:32.701Z"
   },
   {
    "duration": 1900,
    "start_time": "2022-11-16T08:28:35.186Z"
   },
   {
    "duration": 34,
    "start_time": "2022-11-16T08:28:37.088Z"
   },
   {
    "duration": 13,
    "start_time": "2022-11-16T08:28:37.125Z"
   },
   {
    "duration": 6,
    "start_time": "2022-11-16T08:28:37.155Z"
   },
   {
    "duration": 243,
    "start_time": "2022-11-16T08:28:37.162Z"
   },
   {
    "duration": 2433,
    "start_time": "2022-11-16T08:28:37.407Z"
   },
   {
    "duration": 2160,
    "start_time": "2022-11-16T08:28:39.842Z"
   },
   {
    "duration": 936,
    "start_time": "2022-11-16T08:28:42.003Z"
   },
   {
    "duration": 2,
    "start_time": "2022-11-16T08:28:42.942Z"
   },
   {
    "duration": 3,
    "start_time": "2022-11-16T08:28:42.955Z"
   },
   {
    "duration": 130,
    "start_time": "2022-11-16T08:28:42.960Z"
   },
   {
    "duration": 3,
    "start_time": "2022-11-16T08:28:43.092Z"
   },
   {
    "duration": 84,
    "start_time": "2022-11-16T08:28:43.096Z"
   },
   {
    "duration": 169,
    "start_time": "2022-11-16T08:28:43.182Z"
   },
   {
    "duration": 0,
    "start_time": "2022-11-16T08:28:43.352Z"
   },
   {
    "duration": 0,
    "start_time": "2022-11-16T08:28:43.355Z"
   },
   {
    "duration": 56,
    "start_time": "2022-11-16T08:29:08.956Z"
   },
   {
    "duration": 16,
    "start_time": "2022-11-16T08:29:10.932Z"
   },
   {
    "duration": 2698,
    "start_time": "2022-11-16T08:31:13.989Z"
   },
   {
    "duration": 3599,
    "start_time": "2022-11-16T08:31:16.689Z"
   },
   {
    "duration": 37,
    "start_time": "2022-11-16T08:31:20.290Z"
   },
   {
    "duration": 30,
    "start_time": "2022-11-16T08:31:20.329Z"
   },
   {
    "duration": 6,
    "start_time": "2022-11-16T08:31:20.361Z"
   },
   {
    "duration": 269,
    "start_time": "2022-11-16T08:31:20.369Z"
   },
   {
    "duration": 2435,
    "start_time": "2022-11-16T08:31:20.640Z"
   },
   {
    "duration": 2246,
    "start_time": "2022-11-16T08:31:23.076Z"
   },
   {
    "duration": 272,
    "start_time": "2022-11-16T08:31:25.324Z"
   },
   {
    "duration": 781,
    "start_time": "2022-11-16T08:31:25.598Z"
   },
   {
    "duration": 2,
    "start_time": "2022-11-16T08:31:26.381Z"
   },
   {
    "duration": 20,
    "start_time": "2022-11-16T08:31:26.385Z"
   },
   {
    "duration": 249,
    "start_time": "2022-11-16T08:31:26.407Z"
   },
   {
    "duration": 2,
    "start_time": "2022-11-16T08:31:26.660Z"
   },
   {
    "duration": 87,
    "start_time": "2022-11-16T08:31:26.664Z"
   },
   {
    "duration": 170,
    "start_time": "2022-11-16T08:31:26.753Z"
   },
   {
    "duration": 0,
    "start_time": "2022-11-16T08:31:26.925Z"
   },
   {
    "duration": 0,
    "start_time": "2022-11-16T08:31:26.927Z"
   },
   {
    "duration": 21,
    "start_time": "2022-11-16T08:34:22.135Z"
   },
   {
    "duration": 12,
    "start_time": "2022-11-16T08:34:40.182Z"
   },
   {
    "duration": 4,
    "start_time": "2022-11-16T08:34:46.229Z"
   },
   {
    "duration": 4,
    "start_time": "2022-11-16T08:34:50.100Z"
   },
   {
    "duration": 2517,
    "start_time": "2022-11-16T08:39:04.818Z"
   },
   {
    "duration": 2525,
    "start_time": "2022-11-16T08:39:39.085Z"
   },
   {
    "duration": 18,
    "start_time": "2022-11-16T08:43:54.744Z"
   },
   {
    "duration": 19,
    "start_time": "2022-11-16T08:44:16.896Z"
   },
   {
    "duration": 12,
    "start_time": "2022-11-16T08:45:43.602Z"
   },
   {
    "duration": 64636,
    "start_time": "2022-11-16T08:48:31.519Z"
   },
   {
    "duration": 822,
    "start_time": "2022-11-16T08:51:35.365Z"
   },
   {
    "duration": 2468,
    "start_time": "2022-11-16T08:51:50.495Z"
   },
   {
    "duration": 2056,
    "start_time": "2022-11-16T08:52:16.818Z"
   },
   {
    "duration": 34,
    "start_time": "2022-11-16T08:52:20.792Z"
   },
   {
    "duration": 13,
    "start_time": "2022-11-16T08:52:24.070Z"
   },
   {
    "duration": 6,
    "start_time": "2022-11-16T08:52:26.070Z"
   },
   {
    "duration": 238,
    "start_time": "2022-11-16T08:52:28.822Z"
   },
   {
    "duration": 8,
    "start_time": "2022-11-16T08:52:41.297Z"
   },
   {
    "duration": 6,
    "start_time": "2022-11-16T08:52:54.556Z"
   },
   {
    "duration": 6,
    "start_time": "2022-11-16T08:52:57.038Z"
   },
   {
    "duration": 4796,
    "start_time": "2022-11-16T08:53:07.783Z"
   },
   {
    "duration": 4588,
    "start_time": "2022-11-16T08:54:23.518Z"
   },
   {
    "duration": 4595,
    "start_time": "2022-11-16T08:54:41.016Z"
   },
   {
    "duration": 3776,
    "start_time": "2022-11-16T08:57:53.754Z"
   },
   {
    "duration": 3,
    "start_time": "2022-11-16T08:58:49.658Z"
   },
   {
    "duration": 2,
    "start_time": "2022-11-16T08:58:50.158Z"
   },
   {
    "duration": 70431,
    "start_time": "2022-11-16T08:58:58.355Z"
   },
   {
    "duration": 1110,
    "start_time": "2022-11-16T09:00:08.788Z"
   },
   {
    "duration": 5,
    "start_time": "2022-11-16T09:01:12.774Z"
   },
   {
    "duration": 2517,
    "start_time": "2022-11-16T09:01:39.467Z"
   },
   {
    "duration": 2328,
    "start_time": "2022-11-16T09:01:49.577Z"
   },
   {
    "duration": 34,
    "start_time": "2022-11-16T09:01:51.907Z"
   },
   {
    "duration": 23,
    "start_time": "2022-11-16T09:01:51.943Z"
   },
   {
    "duration": 6,
    "start_time": "2022-11-16T09:01:52.274Z"
   },
   {
    "duration": 247,
    "start_time": "2022-11-16T09:01:53.476Z"
   },
   {
    "duration": 6,
    "start_time": "2022-11-16T09:01:56.263Z"
   },
   {
    "duration": 9,
    "start_time": "2022-11-16T09:01:57.161Z"
   },
   {
    "duration": 4171,
    "start_time": "2022-11-16T09:02:02.482Z"
   },
   {
    "duration": 68220,
    "start_time": "2022-11-16T09:02:12.624Z"
   },
   {
    "duration": 1588,
    "start_time": "2022-11-16T09:07:26.802Z"
   },
   {
    "duration": 52,
    "start_time": "2022-11-16T09:08:30.948Z"
   },
   {
    "duration": 4,
    "start_time": "2022-11-16T09:08:40.944Z"
   },
   {
    "duration": 4,
    "start_time": "2022-11-16T09:08:52.821Z"
   },
   {
    "duration": 3,
    "start_time": "2022-11-16T09:09:03.518Z"
   },
   {
    "duration": 2811,
    "start_time": "2022-11-16T09:09:21.586Z"
   },
   {
    "duration": 2261,
    "start_time": "2022-11-16T09:09:24.399Z"
   },
   {
    "duration": 33,
    "start_time": "2022-11-16T09:09:26.662Z"
   },
   {
    "duration": 33,
    "start_time": "2022-11-16T09:09:26.698Z"
   },
   {
    "duration": 36,
    "start_time": "2022-11-16T09:09:26.733Z"
   },
   {
    "duration": 253,
    "start_time": "2022-11-16T09:09:26.771Z"
   },
   {
    "duration": 6,
    "start_time": "2022-11-16T09:09:27.026Z"
   },
   {
    "duration": 32,
    "start_time": "2022-11-16T09:09:27.034Z"
   },
   {
    "duration": 4208,
    "start_time": "2022-11-16T09:09:27.067Z"
   },
   {
    "duration": 2,
    "start_time": "2022-11-16T09:09:31.277Z"
   },
   {
    "duration": 17,
    "start_time": "2022-11-16T09:09:31.281Z"
   },
   {
    "duration": 66434,
    "start_time": "2022-11-16T09:09:31.300Z"
   },
   {
    "duration": 3,
    "start_time": "2022-11-16T09:10:37.736Z"
   },
   {
    "duration": 14,
    "start_time": "2022-11-16T09:10:37.741Z"
   },
   {
    "duration": 53,
    "start_time": "2022-11-16T09:10:37.757Z"
   },
   {
    "duration": 3,
    "start_time": "2022-11-16T09:10:37.812Z"
   },
   {
    "duration": 210,
    "start_time": "2022-11-16T09:10:37.817Z"
   },
   {
    "duration": 3,
    "start_time": "2022-11-16T09:10:38.029Z"
   },
   {
    "duration": 1416,
    "start_time": "2022-11-16T09:10:38.034Z"
   },
   {
    "duration": 0,
    "start_time": "2022-11-16T09:10:39.452Z"
   },
   {
    "duration": 0,
    "start_time": "2022-11-16T09:10:39.454Z"
   },
   {
    "duration": 0,
    "start_time": "2022-11-16T09:10:39.455Z"
   },
   {
    "duration": 0,
    "start_time": "2022-11-16T09:10:39.457Z"
   },
   {
    "duration": 0,
    "start_time": "2022-11-16T09:10:39.459Z"
   },
   {
    "duration": 0,
    "start_time": "2022-11-16T09:10:39.460Z"
   },
   {
    "duration": 0,
    "start_time": "2022-11-16T09:10:39.462Z"
   },
   {
    "duration": 0,
    "start_time": "2022-11-16T09:10:39.463Z"
   },
   {
    "duration": 0,
    "start_time": "2022-11-16T09:10:39.465Z"
   },
   {
    "duration": 1312,
    "start_time": "2022-11-16T09:14:09.244Z"
   },
   {
    "duration": 1214,
    "start_time": "2022-11-16T09:14:23.318Z"
   },
   {
    "duration": 2760,
    "start_time": "2022-11-16T09:14:43.439Z"
   },
   {
    "duration": 1914,
    "start_time": "2022-11-16T09:14:46.201Z"
   },
   {
    "duration": 38,
    "start_time": "2022-11-16T09:14:48.117Z"
   },
   {
    "duration": 27,
    "start_time": "2022-11-16T09:14:48.157Z"
   },
   {
    "duration": 23,
    "start_time": "2022-11-16T09:14:48.186Z"
   },
   {
    "duration": 240,
    "start_time": "2022-11-16T09:14:48.211Z"
   },
   {
    "duration": 6,
    "start_time": "2022-11-16T09:14:48.453Z"
   },
   {
    "duration": 21,
    "start_time": "2022-11-16T09:14:48.461Z"
   },
   {
    "duration": 3963,
    "start_time": "2022-11-16T09:14:49.983Z"
   },
   {
    "duration": 2,
    "start_time": "2022-11-16T09:14:55.835Z"
   },
   {
    "duration": 3,
    "start_time": "2022-11-16T09:14:56.029Z"
   },
   {
    "duration": 69819,
    "start_time": "2022-11-16T09:14:56.239Z"
   },
   {
    "duration": 2005,
    "start_time": "2022-11-16T09:16:48.814Z"
   },
   {
    "duration": 161,
    "start_time": "2022-11-16T09:16:52.445Z"
   },
   {
    "duration": 11,
    "start_time": "2022-11-16T09:17:03.861Z"
   },
   {
    "duration": 1875,
    "start_time": "2022-11-16T09:17:14.955Z"
   },
   {
    "duration": 4107,
    "start_time": "2022-11-16T09:17:22.601Z"
   },
   {
    "duration": 66640,
    "start_time": "2022-11-16T09:17:32.576Z"
   },
   {
    "duration": 2707,
    "start_time": "2022-11-16T09:18:57.365Z"
   },
   {
    "duration": 1429,
    "start_time": "2022-11-16T09:19:00.074Z"
   },
   {
    "duration": 30,
    "start_time": "2022-11-16T09:19:01.505Z"
   },
   {
    "duration": 26,
    "start_time": "2022-11-16T09:19:01.537Z"
   },
   {
    "duration": 33,
    "start_time": "2022-11-16T09:19:01.565Z"
   },
   {
    "duration": 257,
    "start_time": "2022-11-16T09:19:01.599Z"
   },
   {
    "duration": 6,
    "start_time": "2022-11-16T09:19:01.858Z"
   },
   {
    "duration": 13,
    "start_time": "2022-11-16T09:19:01.865Z"
   },
   {
    "duration": 4347,
    "start_time": "2022-11-16T09:19:01.879Z"
   },
   {
    "duration": 2,
    "start_time": "2022-11-16T09:19:06.229Z"
   },
   {
    "duration": 10,
    "start_time": "2022-11-16T09:19:06.233Z"
   },
   {
    "duration": 65657,
    "start_time": "2022-11-16T09:19:06.244Z"
   },
   {
    "duration": 2,
    "start_time": "2022-11-16T09:20:11.903Z"
   },
   {
    "duration": 5,
    "start_time": "2022-11-16T09:20:11.907Z"
   },
   {
    "duration": 2860,
    "start_time": "2022-11-16T09:21:02.434Z"
   },
   {
    "duration": 1722,
    "start_time": "2022-11-16T09:21:05.296Z"
   },
   {
    "duration": 40,
    "start_time": "2022-11-16T09:21:07.019Z"
   },
   {
    "duration": 15,
    "start_time": "2022-11-16T09:21:07.061Z"
   },
   {
    "duration": 12,
    "start_time": "2022-11-16T09:21:07.078Z"
   },
   {
    "duration": 239,
    "start_time": "2022-11-16T09:21:07.091Z"
   },
   {
    "duration": 7,
    "start_time": "2022-11-16T09:21:07.331Z"
   },
   {
    "duration": 18,
    "start_time": "2022-11-16T09:21:07.340Z"
   },
   {
    "duration": 3973,
    "start_time": "2022-11-16T09:21:07.360Z"
   },
   {
    "duration": 2,
    "start_time": "2022-11-16T09:21:11.336Z"
   },
   {
    "duration": 15,
    "start_time": "2022-11-16T09:21:11.339Z"
   },
   {
    "duration": 65281,
    "start_time": "2022-11-16T09:21:11.355Z"
   },
   {
    "duration": 3,
    "start_time": "2022-11-16T09:22:16.638Z"
   },
   {
    "duration": 13,
    "start_time": "2022-11-16T09:22:16.642Z"
   },
   {
    "duration": 2561,
    "start_time": "2022-11-16T09:22:57.354Z"
   },
   {
    "duration": 1445,
    "start_time": "2022-11-16T09:22:59.917Z"
   },
   {
    "duration": 33,
    "start_time": "2022-11-16T09:23:01.363Z"
   },
   {
    "duration": 13,
    "start_time": "2022-11-16T09:23:01.398Z"
   },
   {
    "duration": 7,
    "start_time": "2022-11-16T09:23:01.412Z"
   },
   {
    "duration": 248,
    "start_time": "2022-11-16T09:23:01.420Z"
   },
   {
    "duration": 7,
    "start_time": "2022-11-16T09:23:01.670Z"
   },
   {
    "duration": 9,
    "start_time": "2022-11-16T09:23:01.678Z"
   },
   {
    "duration": 4002,
    "start_time": "2022-11-16T09:23:01.689Z"
   },
   {
    "duration": 2,
    "start_time": "2022-11-16T09:23:05.693Z"
   },
   {
    "duration": 10,
    "start_time": "2022-11-16T09:23:05.697Z"
   },
   {
    "duration": 62763,
    "start_time": "2022-11-16T09:23:05.709Z"
   },
   {
    "duration": 2,
    "start_time": "2022-11-16T09:24:08.474Z"
   },
   {
    "duration": 7,
    "start_time": "2022-11-16T09:24:08.478Z"
   },
   {
    "duration": 49,
    "start_time": "2022-11-16T09:32:20.631Z"
   },
   {
    "duration": 2767,
    "start_time": "2022-11-16T09:32:25.627Z"
   },
   {
    "duration": 2028,
    "start_time": "2022-11-16T09:32:33.112Z"
   },
   {
    "duration": 33,
    "start_time": "2022-11-16T09:32:37.531Z"
   },
   {
    "duration": 13,
    "start_time": "2022-11-16T09:32:38.215Z"
   },
   {
    "duration": 5,
    "start_time": "2022-11-16T09:32:38.944Z"
   },
   {
    "duration": 221,
    "start_time": "2022-11-16T09:32:39.711Z"
   },
   {
    "duration": 7,
    "start_time": "2022-11-16T09:32:40.755Z"
   },
   {
    "duration": 7,
    "start_time": "2022-11-16T09:32:41.695Z"
   },
   {
    "duration": 3881,
    "start_time": "2022-11-16T09:32:45.642Z"
   },
   {
    "duration": 2,
    "start_time": "2022-11-16T09:32:59.390Z"
   },
   {
    "duration": 2,
    "start_time": "2022-11-16T09:32:59.864Z"
   },
   {
    "duration": 65577,
    "start_time": "2022-11-16T09:33:00.364Z"
   },
   {
    "duration": 51,
    "start_time": "2022-11-16T09:34:53.987Z"
   },
   {
    "duration": 3034,
    "start_time": "2022-11-16T09:35:00.867Z"
   },
   {
    "duration": 1882,
    "start_time": "2022-11-16T09:35:03.902Z"
   },
   {
    "duration": 32,
    "start_time": "2022-11-16T09:35:05.785Z"
   },
   {
    "duration": 35,
    "start_time": "2022-11-16T09:35:05.819Z"
   },
   {
    "duration": 31,
    "start_time": "2022-11-16T09:35:05.856Z"
   },
   {
    "duration": 257,
    "start_time": "2022-11-16T09:35:05.889Z"
   },
   {
    "duration": 7,
    "start_time": "2022-11-16T09:35:06.148Z"
   },
   {
    "duration": 25,
    "start_time": "2022-11-16T09:35:06.157Z"
   },
   {
    "duration": 4110,
    "start_time": "2022-11-16T09:35:06.184Z"
   },
   {
    "duration": 3,
    "start_time": "2022-11-16T09:35:10.296Z"
   },
   {
    "duration": 40,
    "start_time": "2022-11-16T09:35:10.301Z"
   },
   {
    "duration": 67444,
    "start_time": "2022-11-16T09:35:10.343Z"
   },
   {
    "duration": 3,
    "start_time": "2022-11-16T09:36:17.789Z"
   },
   {
    "duration": 7,
    "start_time": "2022-11-16T09:36:17.794Z"
   },
   {
    "duration": 7,
    "start_time": "2022-11-16T09:36:17.803Z"
   },
   {
    "duration": 66,
    "start_time": "2022-11-16T09:36:17.811Z"
   },
   {
    "duration": 3,
    "start_time": "2022-11-16T09:36:17.879Z"
   },
   {
    "duration": 135,
    "start_time": "2022-11-16T09:36:17.883Z"
   },
   {
    "duration": 3,
    "start_time": "2022-11-16T09:36:18.020Z"
   },
   {
    "duration": 1435,
    "start_time": "2022-11-16T09:36:18.025Z"
   },
   {
    "duration": 0,
    "start_time": "2022-11-16T09:36:19.462Z"
   },
   {
    "duration": 0,
    "start_time": "2022-11-16T09:36:19.463Z"
   },
   {
    "duration": 0,
    "start_time": "2022-11-16T09:36:19.464Z"
   },
   {
    "duration": 0,
    "start_time": "2022-11-16T09:36:19.466Z"
   },
   {
    "duration": 0,
    "start_time": "2022-11-16T09:36:19.467Z"
   },
   {
    "duration": 0,
    "start_time": "2022-11-16T09:36:19.468Z"
   },
   {
    "duration": 0,
    "start_time": "2022-11-16T09:36:19.469Z"
   },
   {
    "duration": 0,
    "start_time": "2022-11-16T09:36:19.470Z"
   },
   {
    "duration": 0,
    "start_time": "2022-11-16T09:36:19.471Z"
   },
   {
    "duration": 2554,
    "start_time": "2022-11-16T11:42:02.404Z"
   },
   {
    "duration": 2717,
    "start_time": "2022-11-16T11:42:04.960Z"
   },
   {
    "duration": 36,
    "start_time": "2022-11-16T11:42:07.678Z"
   },
   {
    "duration": 20,
    "start_time": "2022-11-16T11:42:07.718Z"
   },
   {
    "duration": 28,
    "start_time": "2022-11-16T11:42:07.740Z"
   },
   {
    "duration": 245,
    "start_time": "2022-11-16T11:42:07.769Z"
   },
   {
    "duration": 6,
    "start_time": "2022-11-16T11:42:08.016Z"
   },
   {
    "duration": 18,
    "start_time": "2022-11-16T11:42:08.023Z"
   },
   {
    "duration": 4110,
    "start_time": "2022-11-16T11:42:08.042Z"
   },
   {
    "duration": 2,
    "start_time": "2022-11-16T11:42:12.155Z"
   },
   {
    "duration": 7,
    "start_time": "2022-11-16T11:42:12.159Z"
   },
   {
    "duration": 69363,
    "start_time": "2022-11-16T11:42:12.168Z"
   },
   {
    "duration": 2,
    "start_time": "2022-11-16T11:43:21.533Z"
   },
   {
    "duration": 21,
    "start_time": "2022-11-16T11:43:21.537Z"
   },
   {
    "duration": 30,
    "start_time": "2022-11-16T11:43:21.560Z"
   },
   {
    "duration": 64,
    "start_time": "2022-11-16T11:43:21.591Z"
   },
   {
    "duration": 4,
    "start_time": "2022-11-16T11:43:21.657Z"
   },
   {
    "duration": 132,
    "start_time": "2022-11-16T11:43:21.662Z"
   },
   {
    "duration": 3,
    "start_time": "2022-11-16T11:43:21.796Z"
   },
   {
    "duration": 1410,
    "start_time": "2022-11-16T11:43:21.800Z"
   },
   {
    "duration": 0,
    "start_time": "2022-11-16T11:43:23.212Z"
   },
   {
    "duration": 0,
    "start_time": "2022-11-16T11:43:23.214Z"
   },
   {
    "duration": 0,
    "start_time": "2022-11-16T11:43:23.215Z"
   },
   {
    "duration": 0,
    "start_time": "2022-11-16T11:43:23.216Z"
   },
   {
    "duration": 0,
    "start_time": "2022-11-16T11:43:23.217Z"
   },
   {
    "duration": 0,
    "start_time": "2022-11-16T11:43:23.218Z"
   },
   {
    "duration": 0,
    "start_time": "2022-11-16T11:43:23.219Z"
   },
   {
    "duration": 0,
    "start_time": "2022-11-16T11:43:23.220Z"
   },
   {
    "duration": 0,
    "start_time": "2022-11-16T11:43:23.222Z"
   },
   {
    "duration": 4,
    "start_time": "2022-11-17T04:40:58.415Z"
   },
   {
    "duration": 2320,
    "start_time": "2022-11-17T04:41:00.410Z"
   },
   {
    "duration": 2427,
    "start_time": "2022-11-17T04:41:19.231Z"
   },
   {
    "duration": 2219,
    "start_time": "2022-11-17T04:41:26.569Z"
   },
   {
    "duration": 33,
    "start_time": "2022-11-17T04:41:30.920Z"
   },
   {
    "duration": 12,
    "start_time": "2022-11-17T04:41:44.036Z"
   },
   {
    "duration": 6,
    "start_time": "2022-11-17T04:41:51.365Z"
   },
   {
    "duration": 222,
    "start_time": "2022-11-17T04:41:59.640Z"
   },
   {
    "duration": 6,
    "start_time": "2022-11-17T04:42:05.526Z"
   },
   {
    "duration": 7,
    "start_time": "2022-11-17T04:42:08.070Z"
   },
   {
    "duration": 876,
    "start_time": "2022-11-17T04:45:33.882Z"
   },
   {
    "duration": 4,
    "start_time": "2022-11-17T04:49:34.475Z"
   },
   {
    "duration": 827,
    "start_time": "2022-11-17T04:49:44.587Z"
   },
   {
    "duration": 11,
    "start_time": "2022-11-17T04:50:02.540Z"
   },
   {
    "duration": 4,
    "start_time": "2022-11-17T04:51:51.481Z"
   },
   {
    "duration": 34,
    "start_time": "2022-11-17T04:52:01.913Z"
   },
   {
    "duration": 2450,
    "start_time": "2022-11-17T04:52:19.569Z"
   },
   {
    "duration": 2727,
    "start_time": "2022-11-17T04:52:23.073Z"
   },
   {
    "duration": 32,
    "start_time": "2022-11-17T04:52:25.802Z"
   },
   {
    "duration": 13,
    "start_time": "2022-11-17T04:52:26.393Z"
   },
   {
    "duration": 6,
    "start_time": "2022-11-17T04:52:28.301Z"
   },
   {
    "duration": 229,
    "start_time": "2022-11-17T04:52:29.905Z"
   },
   {
    "duration": 5,
    "start_time": "2022-11-17T04:52:30.506Z"
   },
   {
    "duration": 7,
    "start_time": "2022-11-17T04:52:31.241Z"
   },
   {
    "duration": 3,
    "start_time": "2022-11-17T04:52:32.849Z"
   },
   {
    "duration": 3,
    "start_time": "2022-11-17T04:52:37.756Z"
   },
   {
    "duration": 10,
    "start_time": "2022-11-17T04:52:44.698Z"
   },
   {
    "duration": 81709,
    "start_time": "2022-11-17T04:52:59.859Z"
   },
   {
    "duration": 10,
    "start_time": "2022-11-17T04:54:28.948Z"
   },
   {
    "duration": 6785,
    "start_time": "2022-11-17T04:55:41.091Z"
   },
   {
    "duration": 5967,
    "start_time": "2022-11-17T04:56:18.876Z"
   },
   {
    "duration": 6322,
    "start_time": "2022-11-17T04:56:30.734Z"
   },
   {
    "duration": 43,
    "start_time": "2022-11-17T04:56:49.144Z"
   },
   {
    "duration": 3,
    "start_time": "2022-11-17T04:56:51.250Z"
   },
   {
    "duration": 197,
    "start_time": "2022-11-17T04:56:54.187Z"
   },
   {
    "duration": 3,
    "start_time": "2022-11-17T04:56:55.535Z"
   },
   {
    "duration": 1972,
    "start_time": "2022-11-17T04:57:02.829Z"
   },
   {
    "duration": 2,
    "start_time": "2022-11-17T04:57:13.742Z"
   },
   {
    "duration": 15,
    "start_time": "2022-11-17T04:58:05.105Z"
   },
   {
    "duration": 7142,
    "start_time": "2022-11-17T05:00:22.846Z"
   },
   {
    "duration": 2601,
    "start_time": "2022-11-17T05:04:31.404Z"
   },
   {
    "duration": 2122,
    "start_time": "2022-11-17T05:04:34.007Z"
   },
   {
    "duration": 31,
    "start_time": "2022-11-17T05:04:36.131Z"
   },
   {
    "duration": 12,
    "start_time": "2022-11-17T05:04:36.164Z"
   },
   {
    "duration": 6,
    "start_time": "2022-11-17T05:04:36.177Z"
   },
   {
    "duration": 235,
    "start_time": "2022-11-17T05:04:36.185Z"
   },
   {
    "duration": 6,
    "start_time": "2022-11-17T05:04:36.421Z"
   },
   {
    "duration": 11,
    "start_time": "2022-11-17T05:04:36.429Z"
   },
   {
    "duration": 14,
    "start_time": "2022-11-17T05:04:36.442Z"
   },
   {
    "duration": 6,
    "start_time": "2022-11-17T05:04:36.458Z"
   },
   {
    "duration": 80782,
    "start_time": "2022-11-17T05:04:36.465Z"
   },
   {
    "duration": 7563,
    "start_time": "2022-11-17T05:05:57.248Z"
   },
   {
    "duration": 2101,
    "start_time": "2022-11-17T05:06:04.813Z"
   },
   {
    "duration": 45,
    "start_time": "2022-11-17T05:06:26.850Z"
   },
   {
    "duration": 2480,
    "start_time": "2022-11-17T05:13:06.773Z"
   },
   {
    "duration": 1607,
    "start_time": "2022-11-17T05:13:09.255Z"
   },
   {
    "duration": 28,
    "start_time": "2022-11-17T05:13:10.864Z"
   },
   {
    "duration": 12,
    "start_time": "2022-11-17T05:13:10.894Z"
   },
   {
    "duration": 5,
    "start_time": "2022-11-17T05:13:10.908Z"
   },
   {
    "duration": 243,
    "start_time": "2022-11-17T05:13:10.915Z"
   },
   {
    "duration": 5,
    "start_time": "2022-11-17T05:13:11.159Z"
   },
   {
    "duration": 7,
    "start_time": "2022-11-17T05:13:11.166Z"
   },
   {
    "duration": 4,
    "start_time": "2022-11-17T05:13:11.174Z"
   },
   {
    "duration": 5,
    "start_time": "2022-11-17T05:13:11.179Z"
   },
   {
    "duration": 79710,
    "start_time": "2022-11-17T05:13:11.185Z"
   },
   {
    "duration": 7823,
    "start_time": "2022-11-17T05:14:30.897Z"
   },
   {
    "duration": 2,
    "start_time": "2022-11-17T05:14:38.722Z"
   },
   {
    "duration": 9,
    "start_time": "2022-11-17T05:14:38.727Z"
   },
   {
    "duration": 16,
    "start_time": "2022-11-17T05:14:38.738Z"
   },
   {
    "duration": 5,
    "start_time": "2022-11-17T05:14:38.756Z"
   },
   {
    "duration": 51,
    "start_time": "2022-11-17T05:14:38.762Z"
   },
   {
    "duration": 3,
    "start_time": "2022-11-17T05:14:38.814Z"
   },
   {
    "duration": 135,
    "start_time": "2022-11-17T05:14:38.819Z"
   },
   {
    "duration": 3,
    "start_time": "2022-11-17T05:14:38.955Z"
   },
   {
    "duration": 7,
    "start_time": "2022-11-17T05:14:38.959Z"
   },
   {
    "duration": 4759,
    "start_time": "2022-11-17T05:14:38.967Z"
   },
   {
    "duration": 0,
    "start_time": "2022-11-17T05:14:43.729Z"
   },
   {
    "duration": 0,
    "start_time": "2022-11-17T05:14:43.730Z"
   },
   {
    "duration": 0,
    "start_time": "2022-11-17T05:14:43.732Z"
   },
   {
    "duration": 0,
    "start_time": "2022-11-17T05:14:43.732Z"
   },
   {
    "duration": 0,
    "start_time": "2022-11-17T05:14:43.734Z"
   },
   {
    "duration": 0,
    "start_time": "2022-11-17T05:14:43.735Z"
   },
   {
    "duration": 2,
    "start_time": "2022-11-17T05:15:10.120Z"
   },
   {
    "duration": 5,
    "start_time": "2022-11-17T05:15:28.746Z"
   },
   {
    "duration": 3,
    "start_time": "2022-11-17T05:15:30.854Z"
   },
   {
    "duration": 10994,
    "start_time": "2022-11-17T05:15:41.224Z"
   },
   {
    "duration": 13,
    "start_time": "2022-11-17T05:16:23.511Z"
   },
   {
    "duration": 19,
    "start_time": "2022-11-17T05:16:24.942Z"
   },
   {
    "duration": 3,
    "start_time": "2022-11-17T05:16:36.244Z"
   },
   {
    "duration": 19,
    "start_time": "2022-11-17T05:16:37.839Z"
   },
   {
    "duration": 2282,
    "start_time": "2022-11-17T05:16:54.179Z"
   },
   {
    "duration": 1356,
    "start_time": "2022-11-17T05:16:56.463Z"
   },
   {
    "duration": 42,
    "start_time": "2022-11-17T05:16:57.820Z"
   },
   {
    "duration": 19,
    "start_time": "2022-11-17T05:16:57.864Z"
   },
   {
    "duration": 6,
    "start_time": "2022-11-17T05:16:57.885Z"
   },
   {
    "duration": 247,
    "start_time": "2022-11-17T05:16:57.893Z"
   },
   {
    "duration": 15,
    "start_time": "2022-11-17T05:16:58.142Z"
   },
   {
    "duration": 7,
    "start_time": "2022-11-17T05:16:58.158Z"
   },
   {
    "duration": 3,
    "start_time": "2022-11-17T05:16:58.166Z"
   },
   {
    "duration": 4,
    "start_time": "2022-11-17T05:16:58.172Z"
   },
   {
    "duration": 79816,
    "start_time": "2022-11-17T05:16:58.177Z"
   },
   {
    "duration": 7677,
    "start_time": "2022-11-17T05:18:17.994Z"
   },
   {
    "duration": 3,
    "start_time": "2022-11-17T05:18:25.673Z"
   },
   {
    "duration": 6,
    "start_time": "2022-11-17T05:18:25.677Z"
   },
   {
    "duration": 7,
    "start_time": "2022-11-17T05:18:25.684Z"
   },
   {
    "duration": 6,
    "start_time": "2022-11-17T05:18:25.692Z"
   },
   {
    "duration": 45,
    "start_time": "2022-11-17T05:18:25.699Z"
   },
   {
    "duration": 4,
    "start_time": "2022-11-17T05:18:25.755Z"
   },
   {
    "duration": 211,
    "start_time": "2022-11-17T05:18:25.761Z"
   },
   {
    "duration": 3,
    "start_time": "2022-11-17T05:18:25.973Z"
   },
   {
    "duration": 11440,
    "start_time": "2022-11-17T05:18:25.978Z"
   },
   {
    "duration": 2,
    "start_time": "2022-11-17T05:18:37.420Z"
   },
   {
    "duration": 2690,
    "start_time": "2022-11-17T05:18:37.424Z"
   },
   {
    "duration": 0,
    "start_time": "2022-11-17T05:18:40.116Z"
   },
   {
    "duration": 0,
    "start_time": "2022-11-17T05:18:40.117Z"
   },
   {
    "duration": 0,
    "start_time": "2022-11-17T05:18:40.118Z"
   },
   {
    "duration": 0,
    "start_time": "2022-11-17T05:18:40.119Z"
   },
   {
    "duration": 3,
    "start_time": "2022-11-17T05:18:44.776Z"
   },
   {
    "duration": 3,
    "start_time": "2022-11-17T05:18:46.767Z"
   },
   {
    "duration": 2,
    "start_time": "2022-11-17T05:18:52.029Z"
   },
   {
    "duration": 3,
    "start_time": "2022-11-17T05:18:57.091Z"
   },
   {
    "duration": 44650,
    "start_time": "2022-11-17T05:19:04.208Z"
   },
   {
    "duration": 95776,
    "start_time": "2022-11-17T05:25:04.580Z"
   },
   {
    "duration": 79809,
    "start_time": "2022-11-17T05:28:00.911Z"
   },
   {
    "duration": 80228,
    "start_time": "2022-11-17T05:29:37.128Z"
   },
   {
    "duration": 17,
    "start_time": "2022-11-17T05:35:29.511Z"
   },
   {
    "duration": 30,
    "start_time": "2022-11-17T05:35:49.377Z"
   },
   {
    "duration": 910,
    "start_time": "2022-11-17T05:36:01.960Z"
   },
   {
    "duration": 4,
    "start_time": "2022-11-17T05:36:27.945Z"
   },
   {
    "duration": 836,
    "start_time": "2022-11-17T05:36:50.672Z"
   },
   {
    "duration": 870,
    "start_time": "2022-11-17T05:40:21.852Z"
   },
   {
    "duration": 830,
    "start_time": "2022-11-17T05:40:34.833Z"
   },
   {
    "duration": 3,
    "start_time": "2022-11-17T05:41:52.548Z"
   },
   {
    "duration": 61,
    "start_time": "2022-11-17T05:41:55.725Z"
   },
   {
    "duration": 81,
    "start_time": "2022-11-17T05:43:15.075Z"
   },
   {
    "duration": 18,
    "start_time": "2022-11-17T05:46:32.333Z"
   },
   {
    "duration": 60,
    "start_time": "2022-11-17T05:46:35.496Z"
   },
   {
    "duration": 37802,
    "start_time": "2022-11-17T05:46:36.241Z"
   },
   {
    "duration": 36830,
    "start_time": "2022-11-17T05:47:35.134Z"
   },
   {
    "duration": 2698,
    "start_time": "2022-11-17T08:16:00.238Z"
   },
   {
    "duration": 2359,
    "start_time": "2022-11-17T08:16:02.938Z"
   },
   {
    "duration": 33,
    "start_time": "2022-11-17T08:16:05.299Z"
   },
   {
    "duration": 23,
    "start_time": "2022-11-17T08:16:05.335Z"
   },
   {
    "duration": 9,
    "start_time": "2022-11-17T08:16:05.360Z"
   },
   {
    "duration": 241,
    "start_time": "2022-11-17T08:16:05.371Z"
   },
   {
    "duration": 6,
    "start_time": "2022-11-17T08:16:05.614Z"
   },
   {
    "duration": 19,
    "start_time": "2022-11-17T08:16:05.622Z"
   },
   {
    "duration": 14,
    "start_time": "2022-11-17T08:16:05.643Z"
   },
   {
    "duration": 9,
    "start_time": "2022-11-17T08:16:05.660Z"
   },
   {
    "duration": 84188,
    "start_time": "2022-11-17T08:16:05.671Z"
   },
   {
    "duration": 8321,
    "start_time": "2022-11-17T08:17:29.860Z"
   },
   {
    "duration": 41,
    "start_time": "2022-11-17T08:17:38.182Z"
   },
   {
    "duration": 4,
    "start_time": "2022-11-17T08:17:38.224Z"
   },
   {
    "duration": 250,
    "start_time": "2022-11-17T08:17:38.230Z"
   },
   {
    "duration": 3,
    "start_time": "2022-11-17T08:17:38.481Z"
   },
   {
    "duration": 11416,
    "start_time": "2022-11-17T08:17:38.485Z"
   },
   {
    "duration": 4,
    "start_time": "2022-11-17T08:17:49.902Z"
   },
   {
    "duration": 44748,
    "start_time": "2022-11-17T08:17:49.908Z"
   },
   {
    "duration": 95401,
    "start_time": "2022-11-17T08:18:34.658Z"
   },
   {
    "duration": 78411,
    "start_time": "2022-11-17T08:20:10.060Z"
   },
   {
    "duration": 840,
    "start_time": "2022-11-17T08:21:28.473Z"
   },
   {
    "duration": 21,
    "start_time": "2022-11-17T08:21:29.314Z"
   },
   {
    "duration": 37570,
    "start_time": "2022-11-17T08:21:29.337Z"
   },
   {
    "duration": 198,
    "start_time": "2022-11-17T08:24:55.498Z"
   },
   {
    "duration": 3,
    "start_time": "2022-11-17T08:25:17.721Z"
   },
   {
    "duration": 76,
    "start_time": "2022-11-17T08:25:18.586Z"
   },
   {
    "duration": 62,
    "start_time": "2022-11-17T08:26:22.459Z"
   },
   {
    "duration": 65,
    "start_time": "2022-11-17T08:26:43.975Z"
   },
   {
    "duration": 543179,
    "start_time": "2022-11-17T08:27:13.053Z"
   },
   {
    "duration": 3,
    "start_time": "2022-11-17T08:38:04.120Z"
   },
   {
    "duration": 561486,
    "start_time": "2022-11-17T08:38:06.170Z"
   },
   {
    "duration": 13,
    "start_time": "2022-11-17T08:51:57.663Z"
   },
   {
    "duration": 2833,
    "start_time": "2022-11-17T09:31:18.775Z"
   },
   {
    "duration": 2160,
    "start_time": "2022-11-17T09:31:21.610Z"
   },
   {
    "duration": 40,
    "start_time": "2022-11-17T09:31:23.772Z"
   },
   {
    "duration": 15,
    "start_time": "2022-11-17T09:31:23.814Z"
   },
   {
    "duration": 26,
    "start_time": "2022-11-17T09:31:23.832Z"
   },
   {
    "duration": 282,
    "start_time": "2022-11-17T09:31:23.860Z"
   },
   {
    "duration": 11,
    "start_time": "2022-11-17T09:31:24.144Z"
   },
   {
    "duration": 10,
    "start_time": "2022-11-17T09:31:24.157Z"
   },
   {
    "duration": 17,
    "start_time": "2022-11-17T09:31:24.169Z"
   },
   {
    "duration": 12,
    "start_time": "2022-11-17T09:31:24.188Z"
   },
   {
    "duration": 105468,
    "start_time": "2022-11-17T09:31:24.202Z"
   },
   {
    "duration": 8976,
    "start_time": "2022-11-17T09:33:09.672Z"
   },
   {
    "duration": 57,
    "start_time": "2022-11-17T09:33:18.650Z"
   },
   {
    "duration": 4,
    "start_time": "2022-11-17T09:33:18.710Z"
   },
   {
    "duration": 173,
    "start_time": "2022-11-17T09:33:18.716Z"
   },
   {
    "duration": 4,
    "start_time": "2022-11-17T09:33:18.890Z"
   },
   {
    "duration": 13019,
    "start_time": "2022-11-17T09:33:18.895Z"
   },
   {
    "duration": 5,
    "start_time": "2022-11-17T09:33:31.915Z"
   },
   {
    "duration": 117235,
    "start_time": "2022-11-17T09:33:31.922Z"
   },
   {
    "duration": 81709,
    "start_time": "2022-11-17T09:35:29.158Z"
   },
   {
    "duration": 2837,
    "start_time": "2022-11-17T09:40:39.009Z"
   },
   {
    "duration": 3172,
    "start_time": "2022-11-17T09:42:34.336Z"
   },
   {
    "duration": 397,
    "start_time": "2022-11-17T09:42:42.200Z"
   },
   {
    "duration": 2486,
    "start_time": "2022-11-17T09:42:47.007Z"
   },
   {
    "duration": 35,
    "start_time": "2022-11-17T09:42:50.351Z"
   },
   {
    "duration": 12,
    "start_time": "2022-11-17T09:42:51.395Z"
   },
   {
    "duration": 6,
    "start_time": "2022-11-17T09:42:52.454Z"
   },
   {
    "duration": 264,
    "start_time": "2022-11-17T09:42:53.242Z"
   },
   {
    "duration": 7,
    "start_time": "2022-11-17T09:42:54.850Z"
   },
   {
    "duration": 10,
    "start_time": "2022-11-17T09:42:55.546Z"
   },
   {
    "duration": 5,
    "start_time": "2022-11-17T09:42:58.314Z"
   },
   {
    "duration": 3,
    "start_time": "2022-11-17T09:42:59.470Z"
   },
   {
    "duration": 2398,
    "start_time": "2022-11-17T09:43:45.182Z"
   },
   {
    "duration": 3087,
    "start_time": "2022-11-17T09:43:48.480Z"
   },
   {
    "duration": 1927,
    "start_time": "2022-11-17T09:43:53.831Z"
   },
   {
    "duration": 35,
    "start_time": "2022-11-17T09:43:55.760Z"
   },
   {
    "duration": 12,
    "start_time": "2022-11-17T09:43:55.796Z"
   },
   {
    "duration": 6,
    "start_time": "2022-11-17T09:43:55.810Z"
   },
   {
    "duration": 249,
    "start_time": "2022-11-17T09:43:56.659Z"
   },
   {
    "duration": 6,
    "start_time": "2022-11-17T09:43:58.039Z"
   },
   {
    "duration": 8,
    "start_time": "2022-11-17T09:43:58.547Z"
   },
   {
    "duration": 3,
    "start_time": "2022-11-17T09:44:00.171Z"
   },
   {
    "duration": 3,
    "start_time": "2022-11-17T09:44:01.159Z"
   },
   {
    "duration": 95187,
    "start_time": "2022-11-17T09:44:01.927Z"
   },
   {
    "duration": 8672,
    "start_time": "2022-11-17T09:45:37.117Z"
   },
   {
    "duration": 175,
    "start_time": "2022-11-17T09:46:12.177Z"
   },
   {
    "duration": 12,
    "start_time": "2022-11-17T09:46:21.900Z"
   },
   {
    "duration": 186,
    "start_time": "2022-11-17T09:46:33.598Z"
   },
   {
    "duration": 34,
    "start_time": "2022-11-17T09:46:36.565Z"
   },
   {
    "duration": 20,
    "start_time": "2022-11-17T09:46:46.828Z"
   },
   {
    "duration": 12,
    "start_time": "2022-11-17T09:46:53.070Z"
   },
   {
    "duration": 737,
    "start_time": "2022-11-17T09:47:58.721Z"
   },
   {
    "duration": 18,
    "start_time": "2022-11-17T09:48:42.431Z"
   },
   {
    "duration": 91,
    "start_time": "2022-11-17T09:48:52.792Z"
   },
   {
    "duration": 28189,
    "start_time": "2022-11-17T09:48:58.267Z"
   },
   {
    "duration": 29337,
    "start_time": "2022-11-17T09:50:06.211Z"
   },
   {
    "duration": 194,
    "start_time": "2022-11-17T09:52:29.194Z"
   },
   {
    "duration": 2323,
    "start_time": "2022-11-17T09:52:44.399Z"
   },
   {
    "duration": 2956,
    "start_time": "2022-11-17T09:52:46.724Z"
   },
   {
    "duration": 2248,
    "start_time": "2022-11-17T09:52:49.682Z"
   },
   {
    "duration": 41,
    "start_time": "2022-11-17T09:52:51.933Z"
   },
   {
    "duration": 23,
    "start_time": "2022-11-17T09:52:51.976Z"
   },
   {
    "duration": 26,
    "start_time": "2022-11-17T09:52:52.001Z"
   },
   {
    "duration": 269,
    "start_time": "2022-11-17T09:52:52.029Z"
   },
   {
    "duration": 6,
    "start_time": "2022-11-17T09:52:52.300Z"
   },
   {
    "duration": 23,
    "start_time": "2022-11-17T09:52:52.308Z"
   },
   {
    "duration": 28,
    "start_time": "2022-11-17T09:52:52.334Z"
   },
   {
    "duration": 30,
    "start_time": "2022-11-17T09:52:52.363Z"
   },
   {
    "duration": 96227,
    "start_time": "2022-11-17T09:52:52.395Z"
   },
   {
    "duration": 9246,
    "start_time": "2022-11-17T09:54:28.624Z"
   },
   {
    "duration": 179,
    "start_time": "2022-11-17T09:54:37.872Z"
   },
   {
    "duration": 45,
    "start_time": "2022-11-17T09:54:38.055Z"
   },
   {
    "duration": 816,
    "start_time": "2022-11-17T09:54:38.102Z"
   },
   {
    "duration": 109,
    "start_time": "2022-11-17T09:54:38.920Z"
   },
   {
    "duration": 28683,
    "start_time": "2022-11-17T09:54:39.030Z"
   },
   {
    "duration": 189,
    "start_time": "2022-11-17T09:55:07.715Z"
   },
   {
    "duration": 61,
    "start_time": "2022-11-17T09:55:07.906Z"
   },
   {
    "duration": 5,
    "start_time": "2022-11-17T09:55:07.968Z"
   },
   {
    "duration": 166,
    "start_time": "2022-11-17T09:55:07.975Z"
   },
   {
    "duration": 6,
    "start_time": "2022-11-17T09:55:08.143Z"
   },
   {
    "duration": 12216,
    "start_time": "2022-11-17T09:55:08.152Z"
   },
   {
    "duration": 5,
    "start_time": "2022-11-17T09:55:20.369Z"
   },
   {
    "duration": 98282,
    "start_time": "2022-11-17T09:55:20.376Z"
   },
   {
    "duration": 80402,
    "start_time": "2022-11-17T09:56:58.660Z"
   },
   {
    "duration": 2344,
    "start_time": "2022-11-17T10:43:02.020Z"
   },
   {
    "duration": 2966,
    "start_time": "2022-11-17T10:43:04.366Z"
   },
   {
    "duration": 1820,
    "start_time": "2022-11-17T10:43:07.334Z"
   },
   {
    "duration": 32,
    "start_time": "2022-11-17T10:43:09.157Z"
   },
   {
    "duration": 10,
    "start_time": "2022-11-17T10:43:09.190Z"
   },
   {
    "duration": 5,
    "start_time": "2022-11-17T10:43:09.201Z"
   },
   {
    "duration": 268,
    "start_time": "2022-11-17T10:43:09.207Z"
   },
   {
    "duration": 5,
    "start_time": "2022-11-17T10:43:09.477Z"
   },
   {
    "duration": 9,
    "start_time": "2022-11-17T10:43:09.484Z"
   },
   {
    "duration": 7,
    "start_time": "2022-11-17T10:43:09.496Z"
   },
   {
    "duration": 18,
    "start_time": "2022-11-17T10:43:09.505Z"
   },
   {
    "duration": 92463,
    "start_time": "2022-11-17T10:43:09.524Z"
   },
   {
    "duration": 7615,
    "start_time": "2022-11-17T10:44:41.989Z"
   },
   {
    "duration": 162,
    "start_time": "2022-11-17T10:44:49.606Z"
   },
   {
    "duration": 33,
    "start_time": "2022-11-17T10:44:49.770Z"
   },
   {
    "duration": 751,
    "start_time": "2022-11-17T10:44:49.804Z"
   },
   {
    "duration": 99,
    "start_time": "2022-11-17T10:44:50.556Z"
   },
   {
    "duration": 27583,
    "start_time": "2022-11-17T10:44:50.656Z"
   },
   {
    "duration": 183,
    "start_time": "2022-11-17T10:45:18.241Z"
   },
   {
    "duration": 58,
    "start_time": "2022-11-17T10:45:18.426Z"
   },
   {
    "duration": 4,
    "start_time": "2022-11-17T10:45:18.486Z"
   },
   {
    "duration": 205,
    "start_time": "2022-11-17T10:45:18.492Z"
   },
   {
    "duration": 3,
    "start_time": "2022-11-17T10:45:18.698Z"
   },
   {
    "duration": 12443,
    "start_time": "2022-11-17T10:45:18.703Z"
   },
   {
    "duration": 8,
    "start_time": "2022-11-17T10:45:31.147Z"
   },
   {
    "duration": 98603,
    "start_time": "2022-11-17T10:45:31.157Z"
   },
   {
    "duration": 79294,
    "start_time": "2022-11-17T10:47:09.762Z"
   },
   {
    "duration": 124103,
    "start_time": "2022-11-17T10:48:29.059Z"
   },
   {
    "duration": 200,
    "start_time": "2022-11-17T10:50:33.164Z"
   },
   {
    "duration": 0,
    "start_time": "2022-11-17T10:50:33.366Z"
   },
   {
    "duration": 8,
    "start_time": "2022-11-17T10:52:03.269Z"
   },
   {
    "duration": 15,
    "start_time": "2022-11-17T10:52:08.258Z"
   },
   {
    "duration": 3,
    "start_time": "2022-11-17T10:55:17.168Z"
   },
   {
    "duration": 16,
    "start_time": "2022-11-17T10:55:27.460Z"
   },
   {
    "duration": 4,
    "start_time": "2022-11-17T10:55:39.083Z"
   },
   {
    "duration": 13,
    "start_time": "2022-11-17T10:55:39.749Z"
   },
   {
    "duration": 5,
    "start_time": "2022-11-17T10:55:55.727Z"
   },
   {
    "duration": 14,
    "start_time": "2022-11-17T10:56:08.309Z"
   },
   {
    "duration": 23,
    "start_time": "2022-11-17T10:56:32.279Z"
   },
   {
    "duration": 25,
    "start_time": "2022-11-17T10:56:36.399Z"
   },
   {
    "duration": 23,
    "start_time": "2022-11-17T10:56:41.988Z"
   },
   {
    "duration": 5,
    "start_time": "2022-11-17T10:56:42.580Z"
   },
   {
    "duration": 23,
    "start_time": "2022-11-17T10:56:43.195Z"
   },
   {
    "duration": 5,
    "start_time": "2022-11-17T10:57:32.584Z"
   },
   {
    "duration": 24,
    "start_time": "2022-11-17T10:57:32.982Z"
   },
   {
    "duration": 4,
    "start_time": "2022-11-17T10:57:33.322Z"
   },
   {
    "duration": 26,
    "start_time": "2022-11-17T10:57:33.991Z"
   },
   {
    "duration": 52217,
    "start_time": "2022-11-17T10:57:39.147Z"
   },
   {
    "duration": 49,
    "start_time": "2022-11-17T10:58:56.258Z"
   },
   {
    "duration": 49216,
    "start_time": "2022-11-17T10:59:01.242Z"
   },
   {
    "duration": 26771,
    "start_time": "2022-11-17T11:03:27.207Z"
   },
   {
    "duration": 27684,
    "start_time": "2022-11-17T11:04:14.686Z"
   },
   {
    "duration": 28882,
    "start_time": "2022-11-17T11:04:55.498Z"
   },
   {
    "duration": 68,
    "start_time": "2022-11-17T11:06:01.693Z"
   },
   {
    "duration": 29,
    "start_time": "2022-11-17T11:06:32.632Z"
   },
   {
    "duration": 2417,
    "start_time": "2022-11-17T11:11:57.120Z"
   },
   {
    "duration": 2984,
    "start_time": "2022-11-17T11:11:59.540Z"
   },
   {
    "duration": 1802,
    "start_time": "2022-11-17T11:12:02.526Z"
   },
   {
    "duration": 33,
    "start_time": "2022-11-17T11:12:04.330Z"
   },
   {
    "duration": 13,
    "start_time": "2022-11-17T11:12:04.365Z"
   },
   {
    "duration": 9,
    "start_time": "2022-11-17T11:12:04.380Z"
   },
   {
    "duration": 295,
    "start_time": "2022-11-17T11:12:04.391Z"
   },
   {
    "duration": 9,
    "start_time": "2022-11-17T11:12:04.688Z"
   },
   {
    "duration": 18,
    "start_time": "2022-11-17T11:12:04.700Z"
   },
   {
    "duration": 6,
    "start_time": "2022-11-17T11:12:04.722Z"
   },
   {
    "duration": 25,
    "start_time": "2022-11-17T11:12:04.730Z"
   },
   {
    "duration": 95468,
    "start_time": "2022-11-17T11:12:04.759Z"
   },
   {
    "duration": 7405,
    "start_time": "2022-11-17T11:13:40.229Z"
   },
   {
    "duration": 165,
    "start_time": "2022-11-17T11:13:47.636Z"
   },
   {
    "duration": 33,
    "start_time": "2022-11-17T11:13:47.803Z"
   },
   {
    "duration": 756,
    "start_time": "2022-11-17T11:13:47.838Z"
   },
   {
    "duration": 97,
    "start_time": "2022-11-17T11:13:48.596Z"
   },
   {
    "duration": 27340,
    "start_time": "2022-11-17T11:13:48.696Z"
   },
   {
    "duration": 191,
    "start_time": "2022-11-17T11:14:16.038Z"
   },
   {
    "duration": 55,
    "start_time": "2022-11-17T11:14:16.231Z"
   },
   {
    "duration": 4,
    "start_time": "2022-11-17T11:14:16.288Z"
   },
   {
    "duration": 226,
    "start_time": "2022-11-17T11:14:16.294Z"
   },
   {
    "duration": 2,
    "start_time": "2022-11-17T11:14:16.522Z"
   },
   {
    "duration": 12393,
    "start_time": "2022-11-17T11:14:16.526Z"
   },
   {
    "duration": 8,
    "start_time": "2022-11-17T11:14:28.920Z"
   },
   {
    "duration": 102629,
    "start_time": "2022-11-17T11:14:28.929Z"
   },
   {
    "duration": 25913,
    "start_time": "2022-11-17T11:16:11.560Z"
   },
   {
    "duration": 123987,
    "start_time": "2022-11-17T11:16:37.476Z"
   },
   {
    "duration": 3,
    "start_time": "2022-11-17T11:18:41.466Z"
   },
   {
    "duration": 20,
    "start_time": "2022-11-17T11:18:41.471Z"
   },
   {
    "duration": 36,
    "start_time": "2022-11-17T11:18:41.493Z"
   },
   {
    "duration": 20,
    "start_time": "2022-11-17T11:18:41.531Z"
   },
   {
    "duration": 36,
    "start_time": "2022-11-17T11:18:41.553Z"
   },
   {
    "duration": 47578,
    "start_time": "2022-11-17T11:18:41.591Z"
   },
   {
    "duration": 230,
    "start_time": "2022-11-17T11:21:05.909Z"
   },
   {
    "duration": 2878,
    "start_time": "2022-11-17T11:26:14.155Z"
   },
   {
    "duration": 49,
    "start_time": "2022-11-17T11:26:17.036Z"
   },
   {
    "duration": 84,
    "start_time": "2022-11-17T11:26:30.649Z"
   },
   {
    "duration": 4,
    "start_time": "2022-11-17T11:26:31.518Z"
   },
   {
    "duration": 4,
    "start_time": "2022-11-17T11:26:33.020Z"
   },
   {
    "duration": 17,
    "start_time": "2022-11-17T11:26:35.105Z"
   },
   {
    "duration": 11671,
    "start_time": "2022-11-17T11:26:36.166Z"
   },
   {
    "duration": 103819,
    "start_time": "2022-11-17T11:26:54.644Z"
   },
   {
    "duration": 26885,
    "start_time": "2022-11-17T11:29:18.787Z"
   },
   {
    "duration": 119072,
    "start_time": "2022-11-17T11:30:13.708Z"
   },
   {
    "duration": 4,
    "start_time": "2022-11-17T11:32:37.397Z"
   },
   {
    "duration": 26,
    "start_time": "2022-11-17T11:32:38.909Z"
   },
   {
    "duration": 4,
    "start_time": "2022-11-17T11:32:39.625Z"
   },
   {
    "duration": 24,
    "start_time": "2022-11-17T11:32:40.159Z"
   },
   {
    "duration": 64294,
    "start_time": "2022-11-17T11:32:40.869Z"
   },
   {
    "duration": 43,
    "start_time": "2022-11-17T11:34:16.094Z"
   },
   {
    "duration": 4,
    "start_time": "2022-11-17T11:34:22.474Z"
   },
   {
    "duration": 4,
    "start_time": "2022-11-17T11:34:26.483Z"
   },
   {
    "duration": 42,
    "start_time": "2022-11-17T11:34:42.420Z"
   },
   {
    "duration": 3,
    "start_time": "2022-11-17T11:35:20.509Z"
   },
   {
    "duration": 37,
    "start_time": "2022-11-17T11:35:22.729Z"
   },
   {
    "duration": 8,
    "start_time": "2022-11-17T11:35:47.457Z"
   },
   {
    "duration": 66,
    "start_time": "2022-11-17T11:36:04.640Z"
   },
   {
    "duration": 7,
    "start_time": "2022-11-17T11:36:05.268Z"
   },
   {
    "duration": 45,
    "start_time": "2022-11-17T11:36:09.647Z"
   },
   {
    "duration": 7,
    "start_time": "2022-11-17T11:36:10.147Z"
   },
   {
    "duration": 46,
    "start_time": "2022-11-17T11:36:14.493Z"
   },
   {
    "duration": 7,
    "start_time": "2022-11-17T11:36:15.007Z"
   },
   {
    "duration": 50,
    "start_time": "2022-11-17T11:36:36.309Z"
   },
   {
    "duration": 7,
    "start_time": "2022-11-17T11:36:36.747Z"
   },
   {
    "duration": 5,
    "start_time": "2022-11-17T11:37:06.321Z"
   },
   {
    "duration": 13,
    "start_time": "2022-11-17T11:37:07.485Z"
   },
   {
    "duration": 12089,
    "start_time": "2022-11-17T11:37:08.661Z"
   },
   {
    "duration": 5,
    "start_time": "2022-11-17T11:37:25.718Z"
   },
   {
    "duration": 128,
    "start_time": "2022-11-17T11:38:52.954Z"
   },
   {
    "duration": 160,
    "start_time": "2022-11-17T11:39:04.624Z"
   },
   {
    "duration": 23,
    "start_time": "2022-11-17T11:40:08.555Z"
   },
   {
    "duration": 46,
    "start_time": "2022-11-17T11:40:50.855Z"
   },
   {
    "duration": 5,
    "start_time": "2022-11-17T11:40:52.987Z"
   },
   {
    "duration": 8,
    "start_time": "2022-11-17T11:41:11.160Z"
   },
   {
    "duration": 7,
    "start_time": "2022-11-17T11:41:25.635Z"
   },
   {
    "duration": 6,
    "start_time": "2022-11-17T11:41:31.713Z"
   },
   {
    "duration": 6,
    "start_time": "2022-11-17T11:41:38.046Z"
   },
   {
    "duration": 5,
    "start_time": "2022-11-17T11:41:47.592Z"
   },
   {
    "duration": 2500,
    "start_time": "2022-11-17T11:42:39.259Z"
   },
   {
    "duration": 18197,
    "start_time": "2022-11-17T11:42:41.761Z"
   },
   {
    "duration": 1686,
    "start_time": "2022-11-17T11:42:59.960Z"
   },
   {
    "duration": 37,
    "start_time": "2022-11-17T11:43:01.648Z"
   },
   {
    "duration": 13,
    "start_time": "2022-11-17T11:43:01.687Z"
   },
   {
    "duration": 9,
    "start_time": "2022-11-17T11:43:01.702Z"
   },
   {
    "duration": 265,
    "start_time": "2022-11-17T11:43:01.713Z"
   },
   {
    "duration": 6,
    "start_time": "2022-11-17T11:43:01.980Z"
   },
   {
    "duration": 18,
    "start_time": "2022-11-17T11:43:01.987Z"
   },
   {
    "duration": 4,
    "start_time": "2022-11-17T11:43:02.007Z"
   },
   {
    "duration": 10,
    "start_time": "2022-11-17T11:43:02.013Z"
   },
   {
    "duration": 93049,
    "start_time": "2022-11-17T11:43:02.025Z"
   },
   {
    "duration": 7337,
    "start_time": "2022-11-17T11:44:35.076Z"
   },
   {
    "duration": 185,
    "start_time": "2022-11-17T11:44:42.416Z"
   },
   {
    "duration": 34,
    "start_time": "2022-11-17T11:44:42.603Z"
   },
   {
    "duration": 815,
    "start_time": "2022-11-17T11:44:42.639Z"
   },
   {
    "duration": 115,
    "start_time": "2022-11-17T11:44:43.456Z"
   },
   {
    "duration": 28226,
    "start_time": "2022-11-17T11:44:43.573Z"
   },
   {
    "duration": 186,
    "start_time": "2022-11-17T11:45:11.801Z"
   },
   {
    "duration": 45,
    "start_time": "2022-11-17T11:45:11.989Z"
   },
   {
    "duration": 4,
    "start_time": "2022-11-17T11:45:12.036Z"
   },
   {
    "duration": 157,
    "start_time": "2022-11-17T11:45:12.056Z"
   },
   {
    "duration": 2,
    "start_time": "2022-11-17T11:45:12.215Z"
   },
   {
    "duration": 12244,
    "start_time": "2022-11-17T11:45:12.219Z"
   },
   {
    "duration": 7,
    "start_time": "2022-11-17T11:45:24.465Z"
   },
   {
    "duration": 95587,
    "start_time": "2022-11-17T11:45:24.474Z"
   },
   {
    "duration": 28011,
    "start_time": "2022-11-17T11:47:00.064Z"
   },
   {
    "duration": 122591,
    "start_time": "2022-11-17T11:47:28.077Z"
   },
   {
    "duration": 7,
    "start_time": "2022-11-17T11:49:30.671Z"
   },
   {
    "duration": 66,
    "start_time": "2022-11-17T11:49:30.680Z"
   },
   {
    "duration": 5,
    "start_time": "2022-11-17T11:49:30.748Z"
   },
   {
    "duration": 39,
    "start_time": "2022-11-17T11:49:30.755Z"
   },
   {
    "duration": 50559,
    "start_time": "2022-11-17T11:49:30.797Z"
   },
   {
    "duration": 54990,
    "start_time": "2022-11-17T11:56:20.085Z"
   },
   {
    "duration": 93349,
    "start_time": "2022-11-17T11:57:23.911Z"
   },
   {
    "duration": 204,
    "start_time": "2022-11-17T11:59:24.624Z"
   },
   {
    "duration": 107051,
    "start_time": "2022-11-17T11:59:41.007Z"
   },
   {
    "duration": 162718,
    "start_time": "2022-11-17T12:01:48.746Z"
   },
   {
    "duration": 181913,
    "start_time": "2022-11-17T12:05:07.656Z"
   },
   {
    "duration": 188698,
    "start_time": "2022-11-17T12:18:18.967Z"
   },
   {
    "duration": 2424,
    "start_time": "2022-11-17T12:27:43.938Z"
   },
   {
    "duration": 2885,
    "start_time": "2022-11-17T12:27:46.364Z"
   },
   {
    "duration": 1499,
    "start_time": "2022-11-17T12:27:49.251Z"
   },
   {
    "duration": 34,
    "start_time": "2022-11-17T12:27:50.752Z"
   },
   {
    "duration": 10,
    "start_time": "2022-11-17T12:27:50.789Z"
   },
   {
    "duration": 8,
    "start_time": "2022-11-17T12:27:50.801Z"
   },
   {
    "duration": 298,
    "start_time": "2022-11-17T12:27:50.811Z"
   },
   {
    "duration": 8,
    "start_time": "2022-11-17T12:27:51.111Z"
   },
   {
    "duration": 12,
    "start_time": "2022-11-17T12:27:51.121Z"
   },
   {
    "duration": 22,
    "start_time": "2022-11-17T12:27:51.136Z"
   },
   {
    "duration": 8,
    "start_time": "2022-11-17T12:27:51.160Z"
   },
   {
    "duration": 102573,
    "start_time": "2022-11-17T12:27:51.170Z"
   },
   {
    "duration": 8124,
    "start_time": "2022-11-17T12:29:33.745Z"
   },
   {
    "duration": 221,
    "start_time": "2022-11-17T12:29:41.871Z"
   },
   {
    "duration": 34,
    "start_time": "2022-11-17T12:29:42.094Z"
   },
   {
    "duration": 808,
    "start_time": "2022-11-17T12:29:42.130Z"
   },
   {
    "duration": 108,
    "start_time": "2022-11-17T12:29:42.939Z"
   },
   {
    "duration": 28766,
    "start_time": "2022-11-17T12:29:43.055Z"
   },
   {
    "duration": 196,
    "start_time": "2022-11-17T12:30:11.823Z"
   },
   {
    "duration": 62,
    "start_time": "2022-11-17T12:30:12.021Z"
   },
   {
    "duration": 5,
    "start_time": "2022-11-17T12:30:12.085Z"
   },
   {
    "duration": 127,
    "start_time": "2022-11-17T12:30:12.092Z"
   },
   {
    "duration": 3,
    "start_time": "2022-11-17T12:30:12.221Z"
   },
   {
    "duration": 12605,
    "start_time": "2022-11-17T12:30:12.226Z"
   },
   {
    "duration": 10,
    "start_time": "2022-11-17T12:30:24.833Z"
   },
   {
    "duration": 101701,
    "start_time": "2022-11-17T12:30:24.855Z"
   },
   {
    "duration": 487498,
    "start_time": "2022-11-17T12:32:06.558Z"
   },
   {
    "duration": 91661,
    "start_time": "2022-11-17T12:40:14.061Z"
   },
   {
    "duration": 5,
    "start_time": "2022-11-17T12:41:45.724Z"
   },
   {
    "duration": 33,
    "start_time": "2022-11-17T12:41:45.731Z"
   },
   {
    "duration": 5,
    "start_time": "2022-11-17T12:41:45.766Z"
   },
   {
    "duration": 40,
    "start_time": "2022-11-17T12:41:45.773Z"
   },
   {
    "duration": 191743,
    "start_time": "2022-11-17T12:41:45.815Z"
   },
   {
    "duration": 2438,
    "start_time": "2022-11-17T12:54:55.200Z"
   },
   {
    "duration": 3000,
    "start_time": "2022-11-17T12:54:57.641Z"
   },
   {
    "duration": 2064,
    "start_time": "2022-11-17T12:55:00.643Z"
   },
   {
    "duration": 35,
    "start_time": "2022-11-17T12:55:02.709Z"
   },
   {
    "duration": 11,
    "start_time": "2022-11-17T12:55:02.755Z"
   },
   {
    "duration": 6,
    "start_time": "2022-11-17T12:55:02.768Z"
   },
   {
    "duration": 268,
    "start_time": "2022-11-17T12:55:02.775Z"
   },
   {
    "duration": 14,
    "start_time": "2022-11-17T12:55:03.045Z"
   },
   {
    "duration": 9,
    "start_time": "2022-11-17T12:55:03.062Z"
   },
   {
    "duration": 8,
    "start_time": "2022-11-17T12:55:03.075Z"
   },
   {
    "duration": 10,
    "start_time": "2022-11-17T12:55:03.085Z"
   },
   {
    "duration": 103060,
    "start_time": "2022-11-17T12:55:03.097Z"
   },
   {
    "duration": 7821,
    "start_time": "2022-11-17T12:56:46.159Z"
   },
   {
    "duration": 173,
    "start_time": "2022-11-17T12:56:53.982Z"
   },
   {
    "duration": 35,
    "start_time": "2022-11-17T12:56:54.157Z"
   },
   {
    "duration": 837,
    "start_time": "2022-11-17T12:56:54.194Z"
   },
   {
    "duration": 109,
    "start_time": "2022-11-17T12:56:55.034Z"
   },
   {
    "duration": 28677,
    "start_time": "2022-11-17T12:56:55.145Z"
   },
   {
    "duration": 193,
    "start_time": "2022-11-17T12:57:23.824Z"
   },
   {
    "duration": 68,
    "start_time": "2022-11-17T12:57:24.019Z"
   },
   {
    "duration": 5,
    "start_time": "2022-11-17T12:57:24.089Z"
   },
   {
    "duration": 235,
    "start_time": "2022-11-17T12:57:24.096Z"
   },
   {
    "duration": 3,
    "start_time": "2022-11-17T12:57:24.334Z"
   },
   {
    "duration": 12689,
    "start_time": "2022-11-17T12:57:24.338Z"
   },
   {
    "duration": 9,
    "start_time": "2022-11-17T12:57:37.029Z"
   },
   {
    "duration": 103423,
    "start_time": "2022-11-17T12:57:37.040Z"
   },
   {
    "duration": 3,
    "start_time": "2022-11-17T12:59:20.464Z"
   },
   {
    "duration": 2295,
    "start_time": "2022-11-17T13:07:58.885Z"
   },
   {
    "duration": 3007,
    "start_time": "2022-11-17T13:08:01.183Z"
   },
   {
    "duration": 2059,
    "start_time": "2022-11-17T13:08:04.192Z"
   },
   {
    "duration": 33,
    "start_time": "2022-11-17T13:08:06.254Z"
   },
   {
    "duration": 11,
    "start_time": "2022-11-17T13:08:06.288Z"
   },
   {
    "duration": 7,
    "start_time": "2022-11-17T13:08:06.300Z"
   },
   {
    "duration": 267,
    "start_time": "2022-11-17T13:08:06.308Z"
   },
   {
    "duration": 8,
    "start_time": "2022-11-17T13:08:06.576Z"
   },
   {
    "duration": 7,
    "start_time": "2022-11-17T13:08:06.586Z"
   },
   {
    "duration": 6,
    "start_time": "2022-11-17T13:08:06.595Z"
   },
   {
    "duration": 4,
    "start_time": "2022-11-17T13:08:06.603Z"
   },
   {
    "duration": 93607,
    "start_time": "2022-11-17T13:08:06.609Z"
   },
   {
    "duration": 8123,
    "start_time": "2022-11-17T13:09:40.218Z"
   },
   {
    "duration": 183,
    "start_time": "2022-11-17T13:09:48.343Z"
   },
   {
    "duration": 43,
    "start_time": "2022-11-17T13:09:48.528Z"
   },
   {
    "duration": 826,
    "start_time": "2022-11-17T13:09:48.573Z"
   },
   {
    "duration": 114,
    "start_time": "2022-11-17T13:09:49.401Z"
   },
   {
    "duration": 29862,
    "start_time": "2022-11-17T13:09:49.517Z"
   },
   {
    "duration": 193,
    "start_time": "2022-11-17T13:10:19.381Z"
   },
   {
    "duration": 43,
    "start_time": "2022-11-17T13:10:19.577Z"
   },
   {
    "duration": 4,
    "start_time": "2022-11-17T13:10:19.622Z"
   },
   {
    "duration": 187,
    "start_time": "2022-11-17T13:10:19.627Z"
   },
   {
    "duration": 3,
    "start_time": "2022-11-17T13:10:19.817Z"
   },
   {
    "duration": 12391,
    "start_time": "2022-11-17T13:10:19.822Z"
   },
   {
    "duration": 8,
    "start_time": "2022-11-17T13:10:32.216Z"
   },
   {
    "duration": 96236,
    "start_time": "2022-11-17T13:10:32.226Z"
   },
   {
    "duration": 2202,
    "start_time": "2022-11-17T13:15:37.566Z"
   },
   {
    "duration": 2919,
    "start_time": "2022-11-17T13:15:40.948Z"
   },
   {
    "duration": 1682,
    "start_time": "2022-11-17T13:15:43.869Z"
   },
   {
    "duration": 35,
    "start_time": "2022-11-17T13:15:45.553Z"
   },
   {
    "duration": 35,
    "start_time": "2022-11-17T13:15:45.589Z"
   },
   {
    "duration": 25,
    "start_time": "2022-11-17T13:15:45.626Z"
   },
   {
    "duration": 297,
    "start_time": "2022-11-17T13:15:45.653Z"
   },
   {
    "duration": 6,
    "start_time": "2022-11-17T13:15:45.954Z"
   },
   {
    "duration": 25,
    "start_time": "2022-11-17T13:15:45.962Z"
   },
   {
    "duration": 3,
    "start_time": "2022-11-17T13:15:46.284Z"
   },
   {
    "duration": 3,
    "start_time": "2022-11-17T13:15:46.580Z"
   },
   {
    "duration": 94382,
    "start_time": "2022-11-17T13:15:46.763Z"
   },
   {
    "duration": 7645,
    "start_time": "2022-11-17T13:17:21.148Z"
   },
   {
    "duration": 172,
    "start_time": "2022-11-17T13:17:28.795Z"
   },
   {
    "duration": 35,
    "start_time": "2022-11-17T13:17:28.969Z"
   },
   {
    "duration": 751,
    "start_time": "2022-11-17T13:17:29.006Z"
   },
   {
    "duration": 102,
    "start_time": "2022-11-17T13:17:29.759Z"
   },
   {
    "duration": 27782,
    "start_time": "2022-11-17T13:17:29.863Z"
   },
   {
    "duration": 181,
    "start_time": "2022-11-17T13:17:57.646Z"
   },
   {
    "duration": 53,
    "start_time": "2022-11-17T13:17:57.830Z"
   },
   {
    "duration": 4,
    "start_time": "2022-11-17T13:17:57.886Z"
   },
   {
    "duration": 161,
    "start_time": "2022-11-17T13:17:57.892Z"
   },
   {
    "duration": 3,
    "start_time": "2022-11-17T13:17:58.054Z"
   },
   {
    "duration": 12100,
    "start_time": "2022-11-17T13:17:58.058Z"
   },
   {
    "duration": 7,
    "start_time": "2022-11-17T13:18:10.160Z"
   },
   {
    "duration": 97644,
    "start_time": "2022-11-17T13:20:23.311Z"
   },
   {
    "duration": 472727,
    "start_time": "2022-11-17T13:22:12.138Z"
   },
   {
    "duration": 88063,
    "start_time": "2022-11-17T13:30:48.869Z"
   },
   {
    "duration": 5,
    "start_time": "2022-11-17T13:32:30.057Z"
   },
   {
    "duration": 26,
    "start_time": "2022-11-17T13:32:30.715Z"
   },
   {
    "duration": 4,
    "start_time": "2022-11-17T13:32:31.189Z"
   },
   {
    "duration": 26,
    "start_time": "2022-11-17T13:32:32.069Z"
   },
   {
    "duration": 182986,
    "start_time": "2022-11-17T13:32:33.776Z"
   },
   {
    "duration": 1436,
    "start_time": "2022-11-18T03:49:15.071Z"
   },
   {
    "duration": 2868,
    "start_time": "2022-11-18T03:49:21.449Z"
   },
   {
    "duration": 387,
    "start_time": "2022-11-18T03:49:24.319Z"
   },
   {
    "duration": 2484,
    "start_time": "2022-11-18T03:49:49.295Z"
   },
   {
    "duration": 35,
    "start_time": "2022-11-18T03:49:51.781Z"
   },
   {
    "duration": 17,
    "start_time": "2022-11-18T03:49:51.817Z"
   },
   {
    "duration": 24,
    "start_time": "2022-11-18T03:49:51.835Z"
   },
   {
    "duration": 244,
    "start_time": "2022-11-18T03:49:51.861Z"
   },
   {
    "duration": 8,
    "start_time": "2022-11-18T03:49:56.898Z"
   },
   {
    "duration": 4,
    "start_time": "2022-11-18T03:50:01.370Z"
   },
   {
    "duration": 4,
    "start_time": "2022-11-18T03:50:13.311Z"
   },
   {
    "duration": 54,
    "start_time": "2022-11-18T03:56:46.173Z"
   },
   {
    "duration": 48,
    "start_time": "2022-11-18T03:56:55.260Z"
   },
   {
    "duration": 44,
    "start_time": "2022-11-18T03:57:14.282Z"
   },
   {
    "duration": 46,
    "start_time": "2022-11-18T03:57:24.447Z"
   },
   {
    "duration": 51,
    "start_time": "2022-11-18T03:57:57.835Z"
   },
   {
    "duration": 3,
    "start_time": "2022-11-18T03:58:23.969Z"
   },
   {
    "duration": 44,
    "start_time": "2022-11-18T03:58:38.302Z"
   },
   {
    "duration": 34,
    "start_time": "2022-11-18T03:58:44.610Z"
   },
   {
    "duration": 17,
    "start_time": "2022-11-18T03:59:36.310Z"
   },
   {
    "duration": 148,
    "start_time": "2022-11-18T04:00:51.254Z"
   },
   {
    "duration": 2,
    "start_time": "2022-11-18T04:01:06.518Z"
   },
   {
    "duration": 18,
    "start_time": "2022-11-18T04:02:33.259Z"
   },
   {
    "duration": 16,
    "start_time": "2022-11-18T04:02:42.240Z"
   },
   {
    "duration": 1220,
    "start_time": "2022-11-18T04:03:04.693Z"
   },
   {
    "duration": 19,
    "start_time": "2022-11-18T04:03:21.828Z"
   },
   {
    "duration": 16,
    "start_time": "2022-11-18T04:04:14.222Z"
   },
   {
    "duration": 31,
    "start_time": "2022-11-18T04:06:48.062Z"
   },
   {
    "duration": 19,
    "start_time": "2022-11-18T04:06:57.499Z"
   },
   {
    "duration": 18,
    "start_time": "2022-11-18T04:07:17.526Z"
   },
   {
    "duration": 3433,
    "start_time": "2022-11-18T04:12:07.483Z"
   },
   {
    "duration": 438,
    "start_time": "2022-11-18T04:12:41.601Z"
   },
   {
    "duration": 4,
    "start_time": "2022-11-18T04:16:58.970Z"
   },
   {
    "duration": 4,
    "start_time": "2022-11-18T04:17:22.774Z"
   },
   {
    "duration": 4,
    "start_time": "2022-11-18T04:17:40.251Z"
   },
   {
    "duration": 23,
    "start_time": "2022-11-18T04:18:49.627Z"
   },
   {
    "duration": 6,
    "start_time": "2022-11-18T04:28:00.290Z"
   },
   {
    "duration": 1881,
    "start_time": "2022-11-18T04:28:10.528Z"
   },
   {
    "duration": 59,
    "start_time": "2022-11-18T04:28:26.507Z"
   },
   {
    "duration": 6,
    "start_time": "2022-11-18T04:31:21.659Z"
   },
   {
    "duration": 3,
    "start_time": "2022-11-18T04:35:07.784Z"
   },
   {
    "duration": 2,
    "start_time": "2022-11-18T04:36:02.043Z"
   },
   {
    "duration": 19,
    "start_time": "2022-11-18T04:36:03.784Z"
   },
   {
    "duration": 42,
    "start_time": "2022-11-18T04:36:08.144Z"
   },
   {
    "duration": 5,
    "start_time": "2022-11-18T04:36:08.799Z"
   },
   {
    "duration": 6,
    "start_time": "2022-11-18T04:36:10.447Z"
   },
   {
    "duration": 2,
    "start_time": "2022-11-18T04:36:11.496Z"
   },
   {
    "duration": 749,
    "start_time": "2022-11-18T04:36:12.783Z"
   },
   {
    "duration": 762,
    "start_time": "2022-11-18T04:36:22.048Z"
   },
   {
    "duration": 3,
    "start_time": "2022-11-18T04:36:39.528Z"
   },
   {
    "duration": 762,
    "start_time": "2022-11-18T04:36:43.961Z"
   },
   {
    "duration": 2156,
    "start_time": "2022-11-18T04:38:05.433Z"
   },
   {
    "duration": 1558,
    "start_time": "2022-11-18T04:38:08.325Z"
   },
   {
    "duration": 2286,
    "start_time": "2022-11-18T04:38:13.964Z"
   },
   {
    "duration": 32,
    "start_time": "2022-11-18T04:38:16.254Z"
   },
   {
    "duration": 11,
    "start_time": "2022-11-18T04:38:18.044Z"
   },
   {
    "duration": 6,
    "start_time": "2022-11-18T04:38:19.646Z"
   },
   {
    "duration": 234,
    "start_time": "2022-11-18T04:38:21.144Z"
   },
   {
    "duration": 6,
    "start_time": "2022-11-18T04:38:22.250Z"
   },
   {
    "duration": 7,
    "start_time": "2022-11-18T04:38:23.906Z"
   },
   {
    "duration": 3,
    "start_time": "2022-11-18T04:38:27.974Z"
   },
   {
    "duration": 3,
    "start_time": "2022-11-18T04:38:32.369Z"
   },
   {
    "duration": 87172,
    "start_time": "2022-11-18T04:38:35.425Z"
   },
   {
    "duration": 7011,
    "start_time": "2022-11-18T04:40:07.878Z"
   },
   {
    "duration": 156,
    "start_time": "2022-11-18T04:40:19.306Z"
   },
   {
    "duration": 34,
    "start_time": "2022-11-18T04:40:19.827Z"
   },
   {
    "duration": 703,
    "start_time": "2022-11-18T04:40:21.539Z"
   },
   {
    "duration": 93,
    "start_time": "2022-11-18T04:40:22.331Z"
   },
   {
    "duration": 27136,
    "start_time": "2022-11-18T04:40:22.762Z"
   },
   {
    "duration": 180,
    "start_time": "2022-11-18T04:40:49.900Z"
   },
   {
    "duration": 44,
    "start_time": "2022-11-18T04:40:56.742Z"
   },
   {
    "duration": 4,
    "start_time": "2022-11-18T04:40:57.278Z"
   },
   {
    "duration": 47,
    "start_time": "2022-11-18T04:41:17.275Z"
   },
   {
    "duration": 4,
    "start_time": "2022-11-18T04:41:19.407Z"
   },
   {
    "duration": 44,
    "start_time": "2022-11-18T04:42:09.247Z"
   },
   {
    "duration": 4,
    "start_time": "2022-11-18T04:42:09.817Z"
   },
   {
    "duration": 46,
    "start_time": "2022-11-18T04:42:14.421Z"
   },
   {
    "duration": 4,
    "start_time": "2022-11-18T04:42:16.029Z"
   },
   {
    "duration": 50,
    "start_time": "2022-11-18T04:43:13.369Z"
   },
   {
    "duration": 5,
    "start_time": "2022-11-18T04:43:13.928Z"
   },
   {
    "duration": 46,
    "start_time": "2022-11-18T04:43:29.301Z"
   },
   {
    "duration": 4,
    "start_time": "2022-11-18T04:43:29.959Z"
   },
   {
    "duration": 203,
    "start_time": "2022-11-18T04:44:27.081Z"
   },
   {
    "duration": 3,
    "start_time": "2022-11-18T04:44:28.497Z"
   },
   {
    "duration": 6760,
    "start_time": "2022-11-18T04:44:30.053Z"
   },
   {
    "duration": 4,
    "start_time": "2022-11-18T04:45:02.026Z"
   },
   {
    "duration": 6,
    "start_time": "2022-11-18T04:47:49.300Z"
   },
   {
    "duration": 3,
    "start_time": "2022-11-18T04:48:29.111Z"
   },
   {
    "duration": 3,
    "start_time": "2022-11-18T04:48:29.639Z"
   },
   {
    "duration": 105185,
    "start_time": "2022-11-18T04:48:37.277Z"
   },
   {
    "duration": 180,
    "start_time": "2022-11-18T04:54:46.734Z"
   },
   {
    "duration": 27080,
    "start_time": "2022-11-18T04:55:04.928Z"
   },
   {
    "duration": 4,
    "start_time": "2022-11-18T04:55:54.619Z"
   },
   {
    "duration": 4,
    "start_time": "2022-11-18T04:56:04.542Z"
   },
   {
    "duration": 81,
    "start_time": "2022-11-18T04:56:29.073Z"
   },
   {
    "duration": 62,
    "start_time": "2022-11-18T04:57:50.700Z"
   },
   {
    "duration": 77,
    "start_time": "2022-11-18T04:58:09.843Z"
   },
   {
    "duration": 86,
    "start_time": "2022-11-18T04:58:23.040Z"
   },
   {
    "duration": 823,
    "start_time": "2022-11-18T07:02:23.288Z"
   },
   {
    "duration": 2471,
    "start_time": "2022-11-18T07:02:51.532Z"
   },
   {
    "duration": 1682,
    "start_time": "2022-11-18T07:02:54.006Z"
   },
   {
    "duration": 3019,
    "start_time": "2022-11-18T07:02:59.731Z"
   },
   {
    "duration": 36,
    "start_time": "2022-11-18T07:03:02.752Z"
   },
   {
    "duration": 8,
    "start_time": "2022-11-18T07:03:03.533Z"
   },
   {
    "duration": 253,
    "start_time": "2022-11-18T07:03:05.203Z"
   },
   {
    "duration": 6,
    "start_time": "2022-11-18T07:03:06.446Z"
   },
   {
    "duration": 9,
    "start_time": "2022-11-18T07:03:07.555Z"
   },
   {
    "duration": 348,
    "start_time": "2022-11-18T07:03:40.525Z"
   },
   {
    "duration": 195,
    "start_time": "2022-11-18T07:04:29.501Z"
   },
   {
    "duration": 225,
    "start_time": "2022-11-18T07:04:48.926Z"
   },
   {
    "duration": 211,
    "start_time": "2022-11-18T07:04:58.193Z"
   },
   {
    "duration": 226,
    "start_time": "2022-11-18T07:05:11.251Z"
   },
   {
    "duration": 306,
    "start_time": "2022-11-18T07:05:52.759Z"
   },
   {
    "duration": 255,
    "start_time": "2022-11-18T07:06:41.688Z"
   },
   {
    "duration": 225,
    "start_time": "2022-11-18T07:07:03.245Z"
   },
   {
    "duration": 223,
    "start_time": "2022-11-18T07:07:12.703Z"
   },
   {
    "duration": 217,
    "start_time": "2022-11-18T07:08:13.244Z"
   },
   {
    "duration": 250,
    "start_time": "2022-11-18T07:08:30.783Z"
   },
   {
    "duration": 259,
    "start_time": "2022-11-18T07:09:19.242Z"
   },
   {
    "duration": 163,
    "start_time": "2022-11-18T07:09:48.343Z"
   },
   {
    "duration": 254,
    "start_time": "2022-11-18T07:09:50.898Z"
   },
   {
    "duration": 5,
    "start_time": "2022-11-18T07:10:53.196Z"
   },
   {
    "duration": 234,
    "start_time": "2022-11-18T07:10:55.249Z"
   },
   {
    "duration": 222,
    "start_time": "2022-11-18T07:11:07.110Z"
   },
   {
    "duration": 3,
    "start_time": "2022-11-18T07:11:17.277Z"
   },
   {
    "duration": 213,
    "start_time": "2022-11-18T07:11:27.902Z"
   },
   {
    "duration": 252,
    "start_time": "2022-11-18T07:12:45.423Z"
   },
   {
    "duration": 0,
    "start_time": "2022-11-18T07:14:32.834Z"
   },
   {
    "duration": 2295,
    "start_time": "2022-11-18T09:43:27.262Z"
   },
   {
    "duration": 1605,
    "start_time": "2022-11-18T09:43:29.559Z"
   },
   {
    "duration": 2865,
    "start_time": "2022-11-18T09:43:34.179Z"
   },
   {
    "duration": 33,
    "start_time": "2022-11-18T09:43:38.405Z"
   },
   {
    "duration": 11,
    "start_time": "2022-11-18T09:43:40.997Z"
   },
   {
    "duration": 7,
    "start_time": "2022-11-18T09:43:43.391Z"
   },
   {
    "duration": 247,
    "start_time": "2022-11-18T09:43:46.223Z"
   },
   {
    "duration": 6,
    "start_time": "2022-11-18T09:43:47.622Z"
   },
   {
    "duration": 9,
    "start_time": "2022-11-18T09:43:49.106Z"
   },
   {
    "duration": 3,
    "start_time": "2022-11-18T09:43:53.338Z"
   },
   {
    "duration": 223,
    "start_time": "2022-11-18T09:44:07.779Z"
   },
   {
    "duration": 3,
    "start_time": "2022-11-18T09:44:11.240Z"
   },
   {
    "duration": 89370,
    "start_time": "2022-11-18T09:44:39.890Z"
   },
   {
    "duration": 2,
    "start_time": "2022-11-18T09:46:50.829Z"
   },
   {
    "duration": 131,
    "start_time": "2022-11-18T09:46:51.353Z"
   },
   {
    "duration": 93513,
    "start_time": "2022-11-18T09:47:03.796Z"
   },
   {
    "duration": 12,
    "start_time": "2022-11-18T09:50:06.718Z"
   },
   {
    "duration": 5,
    "start_time": "2022-11-18T09:50:18.413Z"
   },
   {
    "duration": 8,
    "start_time": "2022-11-18T09:50:24.059Z"
   },
   {
    "duration": 14,
    "start_time": "2022-11-18T09:50:32.142Z"
   },
   {
    "duration": 17,
    "start_time": "2022-11-18T09:50:58.690Z"
   },
   {
    "duration": 4,
    "start_time": "2022-11-18T09:51:16.609Z"
   },
   {
    "duration": 5,
    "start_time": "2022-11-18T09:51:17.318Z"
   },
   {
    "duration": 138,
    "start_time": "2022-11-18T09:51:24.573Z"
   },
   {
    "duration": 7,
    "start_time": "2022-11-18T09:51:41.403Z"
   },
   {
    "duration": 5,
    "start_time": "2022-11-18T09:51:42.144Z"
   },
   {
    "duration": 129,
    "start_time": "2022-11-18T09:51:42.917Z"
   },
   {
    "duration": 4,
    "start_time": "2022-11-18T09:51:50.129Z"
   },
   {
    "duration": 5,
    "start_time": "2022-11-18T09:51:50.580Z"
   },
   {
    "duration": 102,
    "start_time": "2022-11-18T09:51:51.423Z"
   },
   {
    "duration": 43,
    "start_time": "2022-11-18T09:52:10.764Z"
   },
   {
    "duration": 27,
    "start_time": "2022-11-18T09:52:14.777Z"
   },
   {
    "duration": 169,
    "start_time": "2022-11-18T09:52:16.268Z"
   },
   {
    "duration": 40,
    "start_time": "2022-11-18T09:52:17.288Z"
   },
   {
    "duration": 7,
    "start_time": "2022-11-18T09:52:30.576Z"
   },
   {
    "duration": 7,
    "start_time": "2022-11-18T09:52:31.068Z"
   },
   {
    "duration": 131,
    "start_time": "2022-11-18T09:52:54.750Z"
   },
   {
    "duration": 17,
    "start_time": "2022-11-18T09:54:25.830Z"
   },
   {
    "duration": 29,
    "start_time": "2022-11-18T09:54:55.495Z"
   },
   {
    "duration": 33,
    "start_time": "2022-11-18T09:55:01.802Z"
   },
   {
    "duration": 183,
    "start_time": "2022-11-18T09:55:20.727Z"
   },
   {
    "duration": 51,
    "start_time": "2022-11-18T09:55:21.545Z"
   },
   {
    "duration": 885,
    "start_time": "2022-11-18T09:55:23.507Z"
   },
   {
    "duration": 97,
    "start_time": "2022-11-18T09:55:57.982Z"
   },
   {
    "duration": 32257,
    "start_time": "2022-11-18T09:55:58.730Z"
   },
   {
    "duration": 226,
    "start_time": "2022-11-18T09:56:30.990Z"
   },
   {
    "duration": 67,
    "start_time": "2022-11-18T09:56:34.680Z"
   },
   {
    "duration": 5,
    "start_time": "2022-11-18T09:56:36.622Z"
   },
   {
    "duration": 6,
    "start_time": "2022-11-18T09:56:56.550Z"
   },
   {
    "duration": 4,
    "start_time": "2022-11-18T09:56:57.762Z"
   },
   {
    "duration": 8271,
    "start_time": "2022-11-18T09:56:58.850Z"
   },
   {
    "duration": 5,
    "start_time": "2022-11-18T09:57:08.624Z"
   },
   {
    "duration": 9635,
    "start_time": "2022-11-18T10:03:59.244Z"
   },
   {
    "duration": 155535,
    "start_time": "2022-11-18T10:04:27.626Z"
   },
   {
    "duration": 51868,
    "start_time": "2022-11-18T10:11:28.601Z"
   },
   {
    "duration": 25,
    "start_time": "2022-11-18T10:13:23.400Z"
   },
   {
    "duration": 86,
    "start_time": "2022-11-18T10:13:39.166Z"
   },
   {
    "duration": 11,
    "start_time": "2022-11-18T10:14:12.885Z"
   },
   {
    "duration": 2474,
    "start_time": "2022-11-18T11:09:02.999Z"
   },
   {
    "duration": 1913,
    "start_time": "2022-11-18T11:09:05.476Z"
   },
   {
    "duration": 2326,
    "start_time": "2022-11-18T11:09:07.390Z"
   },
   {
    "duration": 46,
    "start_time": "2022-11-18T11:09:09.719Z"
   },
   {
    "duration": 29,
    "start_time": "2022-11-18T11:09:09.768Z"
   },
   {
    "duration": 30,
    "start_time": "2022-11-18T11:09:09.799Z"
   },
   {
    "duration": 248,
    "start_time": "2022-11-18T11:09:10.630Z"
   },
   {
    "duration": 6,
    "start_time": "2022-11-18T11:09:11.418Z"
   },
   {
    "duration": 7,
    "start_time": "2022-11-18T11:09:11.726Z"
   },
   {
    "duration": 4,
    "start_time": "2022-11-18T11:09:12.180Z"
   },
   {
    "duration": 5,
    "start_time": "2022-11-18T11:09:12.974Z"
   },
   {
    "duration": 99292,
    "start_time": "2022-11-18T11:09:13.114Z"
   },
   {
    "duration": 99904,
    "start_time": "2022-11-18T11:10:52.409Z"
   },
   {
    "duration": 205,
    "start_time": "2022-11-18T11:12:32.315Z"
   },
   {
    "duration": 56,
    "start_time": "2022-11-18T11:12:32.523Z"
   },
   {
    "duration": 851,
    "start_time": "2022-11-18T11:12:32.581Z"
   },
   {
    "duration": 95,
    "start_time": "2022-11-18T11:12:33.434Z"
   },
   {
    "duration": 30457,
    "start_time": "2022-11-18T11:12:33.532Z"
   },
   {
    "duration": 194,
    "start_time": "2022-11-18T11:13:03.991Z"
   },
   {
    "duration": 37,
    "start_time": "2022-11-18T11:13:07.571Z"
   },
   {
    "duration": 5,
    "start_time": "2022-11-18T11:13:10.173Z"
   },
   {
    "duration": 7,
    "start_time": "2022-11-18T11:13:15.910Z"
   },
   {
    "duration": 3,
    "start_time": "2022-11-18T11:13:16.986Z"
   },
   {
    "duration": 6053,
    "start_time": "2022-11-18T11:13:17.976Z"
   },
   {
    "duration": 0,
    "start_time": "2022-11-18T11:13:24.031Z"
   },
   {
    "duration": 14,
    "start_time": "2022-11-18T11:13:27.729Z"
   },
   {
    "duration": 23,
    "start_time": "2022-11-18T11:13:43.754Z"
   },
   {
    "duration": 15,
    "start_time": "2022-11-18T11:13:46.271Z"
   },
   {
    "duration": 3,
    "start_time": "2022-11-18T11:13:59.531Z"
   },
   {
    "duration": 19,
    "start_time": "2022-11-18T11:14:01.774Z"
   },
   {
    "duration": 4,
    "start_time": "2022-11-18T11:14:13.713Z"
   },
   {
    "duration": 14,
    "start_time": "2022-11-18T11:14:15.481Z"
   },
   {
    "duration": 26,
    "start_time": "2022-11-18T11:14:34.801Z"
   },
   {
    "duration": 28111,
    "start_time": "2022-11-18T11:14:47.835Z"
   },
   {
    "duration": 4,
    "start_time": "2022-11-18T11:16:13.417Z"
   },
   {
    "duration": 4,
    "start_time": "2022-11-18T11:16:25.876Z"
   },
   {
    "duration": 12,
    "start_time": "2022-11-18T11:16:52.074Z"
   },
   {
    "duration": 10,
    "start_time": "2022-11-18T11:17:47.890Z"
   },
   {
    "duration": 12,
    "start_time": "2022-11-18T11:17:52.498Z"
   },
   {
    "duration": 124,
    "start_time": "2022-11-18T11:20:00.280Z"
   },
   {
    "duration": 13,
    "start_time": "2022-11-18T11:20:10.012Z"
   },
   {
    "duration": 2470,
    "start_time": "2022-11-18T11:36:21.968Z"
   },
   {
    "duration": 1930,
    "start_time": "2022-11-18T11:36:24.441Z"
   },
   {
    "duration": 2099,
    "start_time": "2022-11-18T11:36:26.373Z"
   },
   {
    "duration": 35,
    "start_time": "2022-11-18T11:36:28.474Z"
   },
   {
    "duration": 21,
    "start_time": "2022-11-18T11:36:28.511Z"
   },
   {
    "duration": 47,
    "start_time": "2022-11-18T11:36:28.534Z"
   },
   {
    "duration": 288,
    "start_time": "2022-11-18T11:36:28.584Z"
   },
   {
    "duration": 6,
    "start_time": "2022-11-18T11:36:28.874Z"
   },
   {
    "duration": 23,
    "start_time": "2022-11-18T11:36:28.881Z"
   },
   {
    "duration": 28,
    "start_time": "2022-11-18T11:36:28.906Z"
   },
   {
    "duration": 17,
    "start_time": "2022-11-18T11:36:28.936Z"
   },
   {
    "duration": 96124,
    "start_time": "2022-11-18T11:36:28.957Z"
   },
   {
    "duration": 96427,
    "start_time": "2022-11-18T11:38:05.082Z"
   },
   {
    "duration": 184,
    "start_time": "2022-11-18T11:39:41.511Z"
   },
   {
    "duration": 35,
    "start_time": "2022-11-18T11:39:41.696Z"
   },
   {
    "duration": 779,
    "start_time": "2022-11-18T11:39:41.732Z"
   },
   {
    "duration": 90,
    "start_time": "2022-11-18T11:39:42.513Z"
   },
   {
    "duration": 29632,
    "start_time": "2022-11-18T11:39:42.604Z"
   },
   {
    "duration": 193,
    "start_time": "2022-11-18T11:40:12.237Z"
   },
   {
    "duration": 60,
    "start_time": "2022-11-18T11:40:12.432Z"
   },
   {
    "duration": 37,
    "start_time": "2022-11-18T11:40:12.495Z"
   },
   {
    "duration": 53,
    "start_time": "2022-11-18T11:40:12.534Z"
   },
   {
    "duration": 53,
    "start_time": "2022-11-18T11:40:12.589Z"
   },
   {
    "duration": 47,
    "start_time": "2022-11-18T11:40:12.644Z"
   },
   {
    "duration": 7828,
    "start_time": "2022-11-18T11:40:12.693Z"
   },
   {
    "duration": 4,
    "start_time": "2022-11-18T11:40:20.523Z"
   },
   {
    "duration": 47438,
    "start_time": "2022-11-18T11:40:20.529Z"
   },
   {
    "duration": 5,
    "start_time": "2022-11-18T11:41:07.971Z"
   },
   {
    "duration": 224,
    "start_time": "2022-11-18T11:41:07.977Z"
   },
   {
    "duration": 3,
    "start_time": "2022-11-18T11:41:08.203Z"
   },
   {
    "duration": 113,
    "start_time": "2022-11-18T11:41:08.208Z"
   },
   {
    "duration": 4,
    "start_time": "2022-11-18T11:41:08.323Z"
   },
   {
    "duration": 54,
    "start_time": "2022-11-18T11:41:08.329Z"
   },
   {
    "duration": 0,
    "start_time": "2022-11-18T11:41:08.386Z"
   },
   {
    "duration": 0,
    "start_time": "2022-11-18T11:41:08.387Z"
   },
   {
    "duration": 0,
    "start_time": "2022-11-18T11:41:08.389Z"
   },
   {
    "duration": 0,
    "start_time": "2022-11-18T11:41:08.390Z"
   },
   {
    "duration": 2274,
    "start_time": "2022-11-19T10:06:21.720Z"
   },
   {
    "duration": 1847,
    "start_time": "2022-11-19T10:06:29.008Z"
   },
   {
    "duration": 2666,
    "start_time": "2022-11-19T10:06:41.524Z"
   },
   {
    "duration": 113,
    "start_time": "2022-11-19T10:06:44.192Z"
   },
   {
    "duration": 14,
    "start_time": "2022-11-19T10:06:45.357Z"
   },
   {
    "duration": 6,
    "start_time": "2022-11-19T10:06:46.896Z"
   },
   {
    "duration": 259,
    "start_time": "2022-11-19T10:06:48.729Z"
   },
   {
    "duration": 8,
    "start_time": "2022-11-19T10:06:50.969Z"
   },
   {
    "duration": 8,
    "start_time": "2022-11-19T10:06:53.397Z"
   },
   {
    "duration": 2,
    "start_time": "2022-11-19T10:06:58.425Z"
   },
   {
    "duration": 4,
    "start_time": "2022-11-19T10:07:01.913Z"
   },
   {
    "duration": 4,
    "start_time": "2022-11-19T10:07:04.570Z"
   },
   {
    "duration": 95339,
    "start_time": "2022-11-19T10:07:07.818Z"
   },
   {
    "duration": 90514,
    "start_time": "2022-11-19T10:08:53.083Z"
   },
   {
    "duration": 182,
    "start_time": "2022-11-19T10:10:55.023Z"
   },
   {
    "duration": 34,
    "start_time": "2022-11-19T10:10:55.548Z"
   },
   {
    "duration": 759,
    "start_time": "2022-11-19T10:10:56.384Z"
   },
   {
    "duration": 90,
    "start_time": "2022-11-19T10:11:01.747Z"
   },
   {
    "duration": 27818,
    "start_time": "2022-11-19T10:11:02.261Z"
   },
   {
    "duration": 195,
    "start_time": "2022-11-19T10:11:30.081Z"
   },
   {
    "duration": 44,
    "start_time": "2022-11-19T10:12:34.891Z"
   },
   {
    "duration": 2,
    "start_time": "2022-11-19T10:12:37.972Z"
   },
   {
    "duration": 5,
    "start_time": "2022-11-19T10:12:38.478Z"
   },
   {
    "duration": 5,
    "start_time": "2022-11-19T10:12:41.704Z"
   },
   {
    "duration": 3,
    "start_time": "2022-11-19T10:12:44.106Z"
   },
   {
    "duration": 7157,
    "start_time": "2022-11-19T10:12:45.303Z"
   },
   {
    "duration": 5,
    "start_time": "2022-11-19T10:12:54.813Z"
   },
   {
    "duration": 5,
    "start_time": "2022-11-19T10:13:14.040Z"
   },
   {
    "duration": 133,
    "start_time": "2022-11-19T10:14:02.146Z"
   },
   {
    "duration": 27,
    "start_time": "2022-11-19T10:14:11.059Z"
   },
   {
    "duration": 12,
    "start_time": "2022-11-19T10:15:01.902Z"
   },
   {
    "duration": 16,
    "start_time": "2022-11-19T10:15:11.967Z"
   },
   {
    "duration": 988,
    "start_time": "2022-11-19T10:16:02.887Z"
   },
   {
    "duration": 2269,
    "start_time": "2022-11-19T10:16:19.307Z"
   },
   {
    "duration": 1762,
    "start_time": "2022-11-19T10:16:21.578Z"
   },
   {
    "duration": 2163,
    "start_time": "2022-11-19T10:16:23.342Z"
   },
   {
    "duration": 33,
    "start_time": "2022-11-19T10:16:25.507Z"
   },
   {
    "duration": 28,
    "start_time": "2022-11-19T10:16:25.542Z"
   },
   {
    "duration": 8,
    "start_time": "2022-11-19T10:16:25.572Z"
   },
   {
    "duration": 261,
    "start_time": "2022-11-19T10:16:25.582Z"
   },
   {
    "duration": 13,
    "start_time": "2022-11-19T10:16:25.845Z"
   },
   {
    "duration": 15,
    "start_time": "2022-11-19T10:16:25.865Z"
   },
   {
    "duration": 3,
    "start_time": "2022-11-19T10:16:25.883Z"
   },
   {
    "duration": 5,
    "start_time": "2022-11-19T10:16:25.888Z"
   },
   {
    "duration": 93570,
    "start_time": "2022-11-19T10:16:25.895Z"
   },
   {
    "duration": 97576,
    "start_time": "2022-11-19T10:17:59.472Z"
   },
   {
    "duration": 197,
    "start_time": "2022-11-19T10:19:37.049Z"
   },
   {
    "duration": 35,
    "start_time": "2022-11-19T10:19:37.247Z"
   },
   {
    "duration": 767,
    "start_time": "2022-11-19T10:19:37.284Z"
   },
   {
    "duration": 91,
    "start_time": "2022-11-19T10:19:38.053Z"
   },
   {
    "duration": 27381,
    "start_time": "2022-11-19T10:19:38.154Z"
   },
   {
    "duration": 175,
    "start_time": "2022-11-19T10:20:05.537Z"
   },
   {
    "duration": 85,
    "start_time": "2022-11-19T10:20:05.715Z"
   },
   {
    "duration": 4,
    "start_time": "2022-11-19T10:20:15.901Z"
   },
   {
    "duration": 6,
    "start_time": "2022-11-19T10:20:19.231Z"
   },
   {
    "duration": 3,
    "start_time": "2022-11-19T10:20:39.879Z"
   },
   {
    "duration": 7339,
    "start_time": "2022-11-19T10:20:40.747Z"
   },
   {
    "duration": 5,
    "start_time": "2022-11-19T10:20:48.088Z"
   },
   {
    "duration": 7,
    "start_time": "2022-11-19T10:20:48.095Z"
   },
   {
    "duration": 34,
    "start_time": "2022-11-19T10:21:05.334Z"
   },
   {
    "duration": 5264,
    "start_time": "2022-11-19T10:21:08.748Z"
   },
   {
    "duration": 147,
    "start_time": "2022-11-19T10:21:16.792Z"
   },
   {
    "duration": 7,
    "start_time": "2022-11-19T10:21:50.767Z"
   },
   {
    "duration": 5,
    "start_time": "2022-11-19T10:22:01.641Z"
   },
   {
    "duration": 16,
    "start_time": "2022-11-19T10:22:11.356Z"
   },
   {
    "duration": 15,
    "start_time": "2022-11-19T10:22:52.913Z"
   },
   {
    "duration": 45,
    "start_time": "2022-11-19T10:22:55.080Z"
   },
   {
    "duration": 3,
    "start_time": "2022-11-19T10:22:55.871Z"
   },
   {
    "duration": 12,
    "start_time": "2022-11-19T10:22:56.449Z"
   },
   {
    "duration": 3904624,
    "start_time": "2022-11-19T10:23:01.112Z"
   },
   {
    "duration": 5,
    "start_time": "2022-11-19T11:28:05.738Z"
   },
   {
    "duration": 10,
    "start_time": "2022-11-19T11:35:12.362Z"
   },
   {
    "duration": 6,
    "start_time": "2022-11-19T11:35:14.562Z"
   },
   {
    "duration": 31,
    "start_time": "2022-11-19T11:35:15.147Z"
   },
   {
    "duration": 4,
    "start_time": "2022-11-19T11:36:18.262Z"
   },
   {
    "duration": 18,
    "start_time": "2022-11-19T11:36:20.046Z"
   },
   {
    "duration": 4,
    "start_time": "2022-11-19T11:36:21.842Z"
   },
   {
    "duration": 4,
    "start_time": "2022-11-19T11:36:25.894Z"
   },
   {
    "duration": 20,
    "start_time": "2022-11-19T11:36:26.470Z"
   },
   {
    "duration": 253,
    "start_time": "2022-11-19T11:38:37.330Z"
   },
   {
    "duration": 225,
    "start_time": "2022-11-19T11:38:47.585Z"
   },
   {
    "duration": 28830,
    "start_time": "2022-11-19T11:38:52.949Z"
   },
   {
    "duration": 28509,
    "start_time": "2022-11-19T11:40:01.274Z"
   },
   {
    "duration": 56,
    "start_time": "2022-11-19T11:42:50.675Z"
   },
   {
    "duration": 66,
    "start_time": "2022-11-19T11:45:41.575Z"
   },
   {
    "duration": 2603,
    "start_time": "2022-11-19T11:47:23.710Z"
   },
   {
    "duration": 1785,
    "start_time": "2022-11-19T11:47:26.316Z"
   },
   {
    "duration": 3067,
    "start_time": "2022-11-19T11:47:28.103Z"
   },
   {
    "duration": 38,
    "start_time": "2022-11-19T11:47:31.175Z"
   },
   {
    "duration": 11,
    "start_time": "2022-11-19T11:47:31.215Z"
   },
   {
    "duration": 7,
    "start_time": "2022-11-19T11:47:31.228Z"
   },
   {
    "duration": 264,
    "start_time": "2022-11-19T11:47:31.237Z"
   },
   {
    "duration": 6,
    "start_time": "2022-11-19T11:47:31.503Z"
   },
   {
    "duration": 9,
    "start_time": "2022-11-19T11:47:31.511Z"
   },
   {
    "duration": 5,
    "start_time": "2022-11-19T11:47:31.522Z"
   },
   {
    "duration": 5,
    "start_time": "2022-11-19T11:47:31.529Z"
   },
   {
    "duration": 100982,
    "start_time": "2022-11-19T11:47:31.536Z"
   },
   {
    "duration": 99530,
    "start_time": "2022-11-19T11:49:12.520Z"
   },
   {
    "duration": 182,
    "start_time": "2022-11-19T11:50:52.052Z"
   },
   {
    "duration": 50,
    "start_time": "2022-11-19T11:50:52.237Z"
   },
   {
    "duration": 811,
    "start_time": "2022-11-19T11:50:52.289Z"
   },
   {
    "duration": 108,
    "start_time": "2022-11-19T11:50:53.102Z"
   },
   {
    "duration": 31453,
    "start_time": "2022-11-19T11:50:53.212Z"
   },
   {
    "duration": 230,
    "start_time": "2022-11-19T11:51:24.669Z"
   },
   {
    "duration": 105,
    "start_time": "2022-11-19T11:51:24.901Z"
   },
   {
    "duration": 6,
    "start_time": "2022-11-19T11:51:25.009Z"
   },
   {
    "duration": 9,
    "start_time": "2022-11-19T11:51:25.016Z"
   },
   {
    "duration": 4,
    "start_time": "2022-11-19T11:51:25.026Z"
   },
   {
    "duration": 8055,
    "start_time": "2022-11-19T11:51:25.031Z"
   },
   {
    "duration": 4,
    "start_time": "2022-11-19T11:51:33.088Z"
   },
   {
    "duration": 34434,
    "start_time": "2022-11-19T11:51:33.093Z"
   },
   {
    "duration": 48,
    "start_time": "2022-11-19T11:52:07.529Z"
   },
   {
    "duration": 5,
    "start_time": "2022-11-19T11:52:07.581Z"
   },
   {
    "duration": 3532352,
    "start_time": "2022-11-19T11:52:07.589Z"
   },
   {
    "duration": 4,
    "start_time": "2022-11-19T12:50:59.943Z"
   },
   {
    "duration": 47,
    "start_time": "2022-11-19T12:50:59.954Z"
   },
   {
    "duration": 26,
    "start_time": "2022-11-19T12:51:00.003Z"
   },
   {
    "duration": 50,
    "start_time": "2022-11-19T12:51:00.032Z"
   },
   {
    "duration": 177,
    "start_time": "2022-11-19T12:51:00.084Z"
   },
   {
    "duration": 14,
    "start_time": "2022-11-19T12:52:19.343Z"
   },
   {
    "duration": 11,
    "start_time": "2022-11-19T12:53:21.619Z"
   },
   {
    "duration": 14,
    "start_time": "2022-11-19T12:54:35.455Z"
   },
   {
    "duration": 30932,
    "start_time": "2022-11-19T12:56:22.504Z"
   },
   {
    "duration": 12,
    "start_time": "2022-11-19T12:57:01.764Z"
   },
   {
    "duration": 32277,
    "start_time": "2022-11-19T12:57:18.258Z"
   },
   {
    "duration": 4,
    "start_time": "2022-11-19T13:01:11.640Z"
   },
   {
    "duration": 5,
    "start_time": "2022-11-19T13:01:17.381Z"
   },
   {
    "duration": 29370,
    "start_time": "2022-11-19T13:01:31.996Z"
   },
   {
    "duration": 4,
    "start_time": "2022-11-19T13:02:36.444Z"
   },
   {
    "duration": 168,
    "start_time": "2022-11-19T13:03:02.273Z"
   },
   {
    "duration": 152,
    "start_time": "2022-11-19T13:03:15.705Z"
   },
   {
    "duration": 3,
    "start_time": "2022-11-19T13:04:01.146Z"
   },
   {
    "duration": 27551,
    "start_time": "2022-11-19T13:18:10.868Z"
   },
   {
    "duration": 4,
    "start_time": "2022-11-19T13:18:46.026Z"
   },
   {
    "duration": 3,
    "start_time": "2022-11-19T13:18:50.668Z"
   },
   {
    "duration": 27183,
    "start_time": "2022-11-19T13:20:36.429Z"
   },
   {
    "duration": 4,
    "start_time": "2022-11-19T13:21:14.287Z"
   },
   {
    "duration": 180,
    "start_time": "2022-11-19T13:21:35.254Z"
   },
   {
    "duration": 5,
    "start_time": "2022-11-19T13:22:01.756Z"
   },
   {
    "duration": 16,
    "start_time": "2022-11-19T13:22:49.643Z"
   },
   {
    "duration": 198,
    "start_time": "2022-11-19T13:28:06.125Z"
   },
   {
    "duration": 2403,
    "start_time": "2022-11-19T13:33:41.901Z"
   },
   {
    "duration": 9,
    "start_time": "2022-11-19T13:33:44.307Z"
   },
   {
    "duration": 2246,
    "start_time": "2022-11-19T13:33:44.318Z"
   },
   {
    "duration": 33,
    "start_time": "2022-11-19T13:33:46.567Z"
   },
   {
    "duration": 9,
    "start_time": "2022-11-19T13:33:46.602Z"
   },
   {
    "duration": 15,
    "start_time": "2022-11-19T13:33:46.612Z"
   },
   {
    "duration": 255,
    "start_time": "2022-11-19T13:33:46.629Z"
   },
   {
    "duration": 7,
    "start_time": "2022-11-19T13:33:46.886Z"
   },
   {
    "duration": 10,
    "start_time": "2022-11-19T13:33:47.016Z"
   },
   {
    "duration": 4,
    "start_time": "2022-11-19T13:33:47.565Z"
   },
   {
    "duration": 3,
    "start_time": "2022-11-19T13:33:50.857Z"
   },
   {
    "duration": 92562,
    "start_time": "2022-11-19T13:34:19.754Z"
   },
   {
    "duration": 99786,
    "start_time": "2022-11-19T13:35:52.318Z"
   },
   {
    "duration": 133,
    "start_time": "2022-11-19T13:46:35.658Z"
   },
   {
    "duration": 2210,
    "start_time": "2022-11-19T13:47:37.923Z"
   },
   {
    "duration": 1773,
    "start_time": "2022-11-19T13:47:40.135Z"
   },
   {
    "duration": 2414,
    "start_time": "2022-11-19T13:47:41.910Z"
   },
   {
    "duration": 37,
    "start_time": "2022-11-19T13:47:44.326Z"
   },
   {
    "duration": 10,
    "start_time": "2022-11-19T13:47:44.366Z"
   },
   {
    "duration": 5,
    "start_time": "2022-11-19T13:47:44.378Z"
   },
   {
    "duration": 296,
    "start_time": "2022-11-19T13:47:44.384Z"
   },
   {
    "duration": 8,
    "start_time": "2022-11-19T13:47:44.682Z"
   },
   {
    "duration": 12,
    "start_time": "2022-11-19T13:47:44.692Z"
   },
   {
    "duration": 11,
    "start_time": "2022-11-19T13:47:44.706Z"
   },
   {
    "duration": 9,
    "start_time": "2022-11-19T13:47:44.719Z"
   },
   {
    "duration": 87500,
    "start_time": "2022-11-19T13:47:44.730Z"
   },
   {
    "duration": 86469,
    "start_time": "2022-11-19T13:49:12.232Z"
   },
   {
    "duration": 173,
    "start_time": "2022-11-19T13:50:38.703Z"
   },
   {
    "duration": 39,
    "start_time": "2022-11-19T13:50:38.878Z"
   },
   {
    "duration": 736,
    "start_time": "2022-11-19T13:50:38.919Z"
   },
   {
    "duration": 102,
    "start_time": "2022-11-19T13:50:39.657Z"
   },
   {
    "duration": 27106,
    "start_time": "2022-11-19T13:50:39.761Z"
   },
   {
    "duration": 187,
    "start_time": "2022-11-19T13:51:06.869Z"
   },
   {
    "duration": 40,
    "start_time": "2022-11-19T13:51:07.058Z"
   },
   {
    "duration": 5,
    "start_time": "2022-11-19T13:51:07.100Z"
   },
   {
    "duration": 13,
    "start_time": "2022-11-19T13:51:07.107Z"
   },
   {
    "duration": 8,
    "start_time": "2022-11-19T13:51:07.121Z"
   },
   {
    "duration": 6889,
    "start_time": "2022-11-19T13:51:07.131Z"
   },
   {
    "duration": 4,
    "start_time": "2022-11-19T13:51:14.022Z"
   },
   {
    "duration": 28332,
    "start_time": "2022-11-19T13:51:14.028Z"
   },
   {
    "duration": 24,
    "start_time": "2022-11-19T13:51:42.362Z"
   },
   {
    "duration": 4,
    "start_time": "2022-11-19T13:51:42.388Z"
   },
   {
    "duration": 170,
    "start_time": "2022-11-19T13:51:42.394Z"
   },
   {
    "duration": 4,
    "start_time": "2022-11-19T13:51:42.565Z"
   },
   {
    "duration": 20,
    "start_time": "2022-11-19T13:51:42.571Z"
   },
   {
    "duration": 4,
    "start_time": "2022-11-19T13:51:42.592Z"
   },
   {
    "duration": 19,
    "start_time": "2022-11-19T13:51:42.598Z"
   },
   {
    "duration": 39,
    "start_time": "2022-11-19T13:51:42.618Z"
   },
   {
    "duration": 58,
    "start_time": "2022-11-19T13:52:18.523Z"
   },
   {
    "duration": 59,
    "start_time": "2022-11-19T13:52:54.388Z"
   },
   {
    "duration": 11,
    "start_time": "2022-11-19T13:53:08.835Z"
   },
   {
    "duration": 11,
    "start_time": "2022-11-19T13:53:18.862Z"
   },
   {
    "duration": 6,
    "start_time": "2022-11-19T13:53:28.695Z"
   },
   {
    "duration": 4678083,
    "start_time": "2022-11-19T13:53:43.835Z"
   },
   {
    "duration": 2730,
    "start_time": "2022-11-20T03:39:56.450Z"
   },
   {
    "duration": 2261,
    "start_time": "2022-11-20T03:40:03.668Z"
   },
   {
    "duration": 2407,
    "start_time": "2022-11-20T03:40:08.800Z"
   },
   {
    "duration": 31,
    "start_time": "2022-11-20T03:40:11.209Z"
   },
   {
    "duration": 19,
    "start_time": "2022-11-20T03:40:11.242Z"
   },
   {
    "duration": 11,
    "start_time": "2022-11-20T03:40:11.263Z"
   },
   {
    "duration": 235,
    "start_time": "2022-11-20T03:40:11.711Z"
   },
   {
    "duration": 7,
    "start_time": "2022-11-20T03:40:12.895Z"
   },
   {
    "duration": 8,
    "start_time": "2022-11-20T03:40:13.827Z"
   },
   {
    "duration": 4,
    "start_time": "2022-11-20T03:40:16.527Z"
   },
   {
    "duration": 3,
    "start_time": "2022-11-20T03:40:25.528Z"
   },
   {
    "duration": 2,
    "start_time": "2022-11-20T03:47:28.782Z"
   },
   {
    "duration": 3,
    "start_time": "2022-11-20T03:48:56.769Z"
   },
   {
    "duration": 384,
    "start_time": "2022-11-20T03:50:21.436Z"
   },
   {
    "duration": 13,
    "start_time": "2022-11-20T03:51:15.628Z"
   },
   {
    "duration": 1326,
    "start_time": "2022-11-20T03:51:58.519Z"
   },
   {
    "duration": 10,
    "start_time": "2022-11-20T03:53:05.784Z"
   },
   {
    "duration": 10,
    "start_time": "2022-11-20T03:53:10.728Z"
   },
   {
    "duration": 87045,
    "start_time": "2022-11-20T03:53:53.201Z"
   },
   {
    "duration": 10,
    "start_time": "2022-11-20T03:55:26.858Z"
   },
   {
    "duration": 10,
    "start_time": "2022-11-20T03:56:03.051Z"
   },
   {
    "duration": 10,
    "start_time": "2022-11-20T03:56:08.651Z"
   },
   {
    "duration": 3,
    "start_time": "2022-11-20T03:56:31.379Z"
   },
   {
    "duration": 19,
    "start_time": "2022-11-20T03:56:36.539Z"
   },
   {
    "duration": 16,
    "start_time": "2022-11-20T03:57:10.107Z"
   },
   {
    "duration": 26,
    "start_time": "2022-11-20T03:59:07.206Z"
   },
   {
    "duration": 1908,
    "start_time": "2022-11-20T04:20:34.131Z"
   },
   {
    "duration": 1603,
    "start_time": "2022-11-20T04:20:36.041Z"
   },
   {
    "duration": 2267,
    "start_time": "2022-11-20T04:20:37.646Z"
   },
   {
    "duration": 32,
    "start_time": "2022-11-20T04:20:39.915Z"
   },
   {
    "duration": 11,
    "start_time": "2022-11-20T04:20:39.949Z"
   },
   {
    "duration": 5,
    "start_time": "2022-11-20T04:20:39.961Z"
   },
   {
    "duration": 269,
    "start_time": "2022-11-20T04:20:39.968Z"
   },
   {
    "duration": 6,
    "start_time": "2022-11-20T04:20:40.239Z"
   },
   {
    "duration": 12,
    "start_time": "2022-11-20T04:20:40.246Z"
   },
   {
    "duration": 3,
    "start_time": "2022-11-20T04:20:40.260Z"
   },
   {
    "duration": 7,
    "start_time": "2022-11-20T04:20:40.265Z"
   },
   {
    "duration": 81234,
    "start_time": "2022-11-20T04:20:40.801Z"
   },
   {
    "duration": 79432,
    "start_time": "2022-11-20T04:23:34.340Z"
   },
   {
    "duration": 144,
    "start_time": "2022-11-20T04:24:53.774Z"
   },
   {
    "duration": 32,
    "start_time": "2022-11-20T04:24:53.920Z"
   },
   {
    "duration": 695,
    "start_time": "2022-11-20T04:24:53.954Z"
   },
   {
    "duration": 90,
    "start_time": "2022-11-20T04:24:54.650Z"
   },
   {
    "duration": 26170,
    "start_time": "2022-11-20T04:24:54.742Z"
   },
   {
    "duration": 171,
    "start_time": "2022-11-20T04:25:20.913Z"
   },
   {
    "duration": 52,
    "start_time": "2022-11-20T04:25:21.085Z"
   },
   {
    "duration": 4,
    "start_time": "2022-11-20T04:25:21.139Z"
   },
   {
    "duration": 1930,
    "start_time": "2022-11-20T04:26:07.361Z"
   },
   {
    "duration": 1690,
    "start_time": "2022-11-20T04:26:09.293Z"
   },
   {
    "duration": 1688,
    "start_time": "2022-11-20T04:26:10.985Z"
   },
   {
    "duration": 38,
    "start_time": "2022-11-20T04:26:12.675Z"
   },
   {
    "duration": 10,
    "start_time": "2022-11-20T04:26:12.714Z"
   },
   {
    "duration": 7,
    "start_time": "2022-11-20T04:26:12.726Z"
   },
   {
    "duration": 245,
    "start_time": "2022-11-20T04:26:12.735Z"
   },
   {
    "duration": 6,
    "start_time": "2022-11-20T04:26:12.981Z"
   },
   {
    "duration": 24,
    "start_time": "2022-11-20T04:26:12.989Z"
   },
   {
    "duration": 4,
    "start_time": "2022-11-20T04:26:13.015Z"
   },
   {
    "duration": 6,
    "start_time": "2022-11-20T04:26:13.020Z"
   },
   {
    "duration": 81438,
    "start_time": "2022-11-20T04:26:13.027Z"
   },
   {
    "duration": 78341,
    "start_time": "2022-11-20T04:27:34.467Z"
   },
   {
    "duration": 152,
    "start_time": "2022-11-20T04:28:52.809Z"
   },
   {
    "duration": 33,
    "start_time": "2022-11-20T04:28:52.963Z"
   },
   {
    "duration": 662,
    "start_time": "2022-11-20T04:28:52.998Z"
   },
   {
    "duration": 86,
    "start_time": "2022-11-20T04:28:53.662Z"
   },
   {
    "duration": 26132,
    "start_time": "2022-11-20T04:28:53.750Z"
   },
   {
    "duration": 177,
    "start_time": "2022-11-20T04:29:19.884Z"
   },
   {
    "duration": 53,
    "start_time": "2022-11-20T04:29:20.063Z"
   },
   {
    "duration": 4,
    "start_time": "2022-11-20T04:29:20.118Z"
   },
   {
    "duration": 18,
    "start_time": "2022-11-20T04:29:20.124Z"
   },
   {
    "duration": 3,
    "start_time": "2022-11-20T04:29:20.144Z"
   },
   {
    "duration": 6435,
    "start_time": "2022-11-20T04:29:20.149Z"
   },
   {
    "duration": 4,
    "start_time": "2022-11-20T04:29:26.586Z"
   },
   {
    "duration": 26311,
    "start_time": "2022-11-20T04:29:26.592Z"
   },
   {
    "duration": 26,
    "start_time": "2022-11-20T04:29:52.905Z"
   },
   {
    "duration": 5,
    "start_time": "2022-11-20T04:29:52.935Z"
   },
   {
    "duration": 10,
    "start_time": "2022-11-20T04:29:52.942Z"
   },
   {
    "duration": 4070347,
    "start_time": "2022-11-20T04:29:52.953Z"
   },
   {
    "duration": 4,
    "start_time": "2022-11-20T05:37:43.302Z"
   },
   {
    "duration": 17,
    "start_time": "2022-11-20T05:37:43.312Z"
   },
   {
    "duration": 3,
    "start_time": "2022-11-20T05:37:43.331Z"
   },
   {
    "duration": 16,
    "start_time": "2022-11-20T05:37:43.336Z"
   },
   {
    "duration": 20,
    "start_time": "2022-11-20T05:37:43.354Z"
   },
   {
    "duration": 1586,
    "start_time": "2022-12-14T06:58:47.155Z"
   },
   {
    "duration": 2905,
    "start_time": "2022-12-14T06:58:54.168Z"
   },
   {
    "duration": 399,
    "start_time": "2022-12-14T06:58:57.075Z"
   },
   {
    "duration": 365,
    "start_time": "2022-12-14T06:59:05.095Z"
   },
   {
    "duration": 391,
    "start_time": "2022-12-14T07:00:04.215Z"
   },
   {
    "duration": 377,
    "start_time": "2022-12-14T07:01:38.516Z"
   },
   {
    "duration": 389,
    "start_time": "2022-12-14T07:02:09.700Z"
   },
   {
    "duration": 362,
    "start_time": "2022-12-14T07:02:56.197Z"
   },
   {
    "duration": 386,
    "start_time": "2022-12-14T07:18:37.142Z"
   },
   {
    "duration": 381,
    "start_time": "2022-12-14T07:18:48.036Z"
   },
   {
    "duration": 396,
    "start_time": "2022-12-14T07:20:31.432Z"
   },
   {
    "duration": 372,
    "start_time": "2022-12-14T07:20:57.944Z"
   },
   {
    "duration": 366,
    "start_time": "2022-12-14T07:21:02.516Z"
   },
   {
    "duration": 386,
    "start_time": "2022-12-14T07:21:10.355Z"
   },
   {
    "duration": 384,
    "start_time": "2022-12-14T07:21:13.807Z"
   },
   {
    "duration": 385,
    "start_time": "2022-12-14T07:22:25.472Z"
   },
   {
    "duration": 389,
    "start_time": "2022-12-14T07:22:30.325Z"
   },
   {
    "duration": 367,
    "start_time": "2022-12-14T07:24:08.630Z"
   },
   {
    "duration": 363,
    "start_time": "2022-12-14T07:25:43.031Z"
   },
   {
    "duration": 366,
    "start_time": "2022-12-14T07:25:47.687Z"
   },
   {
    "duration": 361,
    "start_time": "2022-12-14T07:25:53.189Z"
   },
   {
    "duration": 382,
    "start_time": "2022-12-14T07:26:11.647Z"
   },
   {
    "duration": 2704,
    "start_time": "2022-12-14T07:26:24.035Z"
   },
   {
    "duration": 1462,
    "start_time": "2022-12-14T07:27:35.575Z"
   },
   {
    "duration": 366,
    "start_time": "2022-12-14T07:31:31.108Z"
   },
   {
    "duration": 381,
    "start_time": "2022-12-14T07:31:44.627Z"
   },
   {
    "duration": 1693,
    "start_time": "2022-12-14T07:31:58.760Z"
   },
   {
    "duration": 1901,
    "start_time": "2022-12-14T07:35:07.469Z"
   },
   {
    "duration": 2076,
    "start_time": "2022-12-14T07:35:16.409Z"
   },
   {
    "duration": 411,
    "start_time": "2022-12-14T07:36:27.159Z"
   },
   {
    "duration": 377,
    "start_time": "2022-12-14T07:36:39.008Z"
   }
  ],
  "kernelspec": {
   "display_name": "Python 3 (ipykernel)",
   "language": "python",
   "name": "python3"
  },
  "language_info": {
   "codemirror_mode": {
    "name": "ipython",
    "version": 3
   },
   "file_extension": ".py",
   "mimetype": "text/x-python",
   "name": "python",
   "nbconvert_exporter": "python",
   "pygments_lexer": "ipython3",
   "version": "3.9.5"
  },
  "toc": {
   "base_numbering": 1,
   "nav_menu": {},
   "number_sections": true,
   "sideBar": true,
   "skip_h1_title": true,
   "title_cell": "Содержание",
   "title_sidebar": "Contents",
   "toc_cell": true,
   "toc_position": {
    "height": "calc(100% - 180px)",
    "left": "10px",
    "top": "150px",
    "width": "302.391px"
   },
   "toc_section_display": true,
   "toc_window_display": false
  }
 },
 "nbformat": 4,
 "nbformat_minor": 2
}
