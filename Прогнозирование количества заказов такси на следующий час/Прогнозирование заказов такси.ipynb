{
 "cells": [
  {
   "cell_type": "markdown",
   "metadata": {},
   "source": [
    "#  Прогнозирование заказов такси"
   ]
  },
  {
   "cell_type": "markdown",
   "metadata": {},
   "source": [
    "Компания «Чётенькое такси» собрала исторические данные о заказах такси в аэропортах. Чтобы привлекать больше водителей в период пиковой нагрузки, нужно спрогнозировать количество заказов такси на следующий час. Построить модель для такого предсказания.\n",
    "\n",
    "Значение метрики *RMSE* на тестовой выборке должно быть не больше 48.\n",
    "\n",
    "Вам нужно:\n",
    "\n",
    "1. Загрузить данные и выполнить их ресемплирование по одному часу.\n",
    "2. Проанализировать данные.\n",
    "3. Обучить разные модели с различными гиперпараметрами. Сделать тестовую выборку размером 10% от исходных данных.\n",
    "4. Проверить данные на тестовой выборке и сделать выводы.\n",
    "\n",
    "\n",
    "Данные лежат в файле `taxi.csv`. Количество заказов находится в столбце `num_orders` (от англ. *number of orders*, «число заказов»)."
   ]
  },
  {
   "cell_type": "markdown",
   "metadata": {},
   "source": [
    "## Подготовка"
   ]
  },
  {
   "cell_type": "markdown",
   "metadata": {},
   "source": [
    "Импортируем все необходимые библиотеки и структуры. Загрузим и изучим данные."
   ]
  },
  {
   "cell_type": "code",
   "execution_count": 1,
   "metadata": {},
   "outputs": [],
   "source": [
    "import pandas as pd\n",
    "from statsmodels.tsa.seasonal import seasonal_decompose\n",
    "import matplotlib.pyplot as plt\n",
    "from sklearn.model_selection import train_test_split\n",
    "from sklearn.metrics import mean_squared_error, make_scorer\n",
    "from sklearn.model_selection import cross_val_score\n",
    "from sklearn.dummy import DummyRegressor\n",
    "from sklearn.tree import DecisionTreeRegressor\n",
    "from sklearn.linear_model import LinearRegression\n",
    "from sklearn.ensemble import RandomForestRegressor\n",
    "from sklearn.model_selection import GridSearchCV\n",
    "from catboost import CatBoostRegressor\n",
    "from lightgbm import LGBMRegressor\n",
    "from sklearn.model_selection import TimeSeriesSplit "
   ]
  },
  {
   "cell_type": "code",
   "execution_count": 2,
   "metadata": {},
   "outputs": [],
   "source": [
    "data = pd.read_csv('/datasets/taxi.csv', index_col=[0], parse_dates=[0])"
   ]
  },
  {
   "cell_type": "code",
   "execution_count": 3,
   "metadata": {},
   "outputs": [
    {
     "data": {
      "text/html": [
       "<div>\n",
       "<style scoped>\n",
       "    .dataframe tbody tr th:only-of-type {\n",
       "        vertical-align: middle;\n",
       "    }\n",
       "\n",
       "    .dataframe tbody tr th {\n",
       "        vertical-align: top;\n",
       "    }\n",
       "\n",
       "    .dataframe thead th {\n",
       "        text-align: right;\n",
       "    }\n",
       "</style>\n",
       "<table border=\"1\" class=\"dataframe\">\n",
       "  <thead>\n",
       "    <tr style=\"text-align: right;\">\n",
       "      <th></th>\n",
       "      <th>num_orders</th>\n",
       "    </tr>\n",
       "    <tr>\n",
       "      <th>datetime</th>\n",
       "      <th></th>\n",
       "    </tr>\n",
       "  </thead>\n",
       "  <tbody>\n",
       "    <tr>\n",
       "      <th>2018-03-01 00:00:00</th>\n",
       "      <td>9</td>\n",
       "    </tr>\n",
       "    <tr>\n",
       "      <th>2018-03-01 00:10:00</th>\n",
       "      <td>14</td>\n",
       "    </tr>\n",
       "    <tr>\n",
       "      <th>2018-03-01 00:20:00</th>\n",
       "      <td>28</td>\n",
       "    </tr>\n",
       "    <tr>\n",
       "      <th>2018-03-01 00:30:00</th>\n",
       "      <td>20</td>\n",
       "    </tr>\n",
       "    <tr>\n",
       "      <th>2018-03-01 00:40:00</th>\n",
       "      <td>32</td>\n",
       "    </tr>\n",
       "  </tbody>\n",
       "</table>\n",
       "</div>"
      ],
      "text/plain": [
       "                     num_orders\n",
       "datetime                       \n",
       "2018-03-01 00:00:00           9\n",
       "2018-03-01 00:10:00          14\n",
       "2018-03-01 00:20:00          28\n",
       "2018-03-01 00:30:00          20\n",
       "2018-03-01 00:40:00          32"
      ]
     },
     "execution_count": 3,
     "metadata": {},
     "output_type": "execute_result"
    }
   ],
   "source": [
    "data.head()"
   ]
  },
  {
   "cell_type": "code",
   "execution_count": 4,
   "metadata": {},
   "outputs": [
    {
     "data": {
      "text/plain": [
       "True"
      ]
     },
     "execution_count": 4,
     "metadata": {},
     "output_type": "execute_result"
    }
   ],
   "source": [
    "data.index.is_monotonic"
   ]
  },
  {
   "cell_type": "code",
   "execution_count": 5,
   "metadata": {},
   "outputs": [
    {
     "name": "stdout",
     "output_type": "stream",
     "text": [
      "<class 'pandas.core.frame.DataFrame'>\n",
      "DatetimeIndex: 26496 entries, 2018-03-01 00:00:00 to 2018-08-31 23:50:00\n",
      "Data columns (total 1 columns):\n",
      " #   Column      Non-Null Count  Dtype\n",
      "---  ------      --------------  -----\n",
      " 0   num_orders  26496 non-null  int64\n",
      "dtypes: int64(1)\n",
      "memory usage: 414.0 KB\n"
     ]
    }
   ],
   "source": [
    "data.info()"
   ]
  },
  {
   "cell_type": "code",
   "execution_count": 6,
   "metadata": {},
   "outputs": [
    {
     "data": {
      "text/html": [
       "<div>\n",
       "<style scoped>\n",
       "    .dataframe tbody tr th:only-of-type {\n",
       "        vertical-align: middle;\n",
       "    }\n",
       "\n",
       "    .dataframe tbody tr th {\n",
       "        vertical-align: top;\n",
       "    }\n",
       "\n",
       "    .dataframe thead th {\n",
       "        text-align: right;\n",
       "    }\n",
       "</style>\n",
       "<table border=\"1\" class=\"dataframe\">\n",
       "  <thead>\n",
       "    <tr style=\"text-align: right;\">\n",
       "      <th></th>\n",
       "      <th>num_orders</th>\n",
       "    </tr>\n",
       "  </thead>\n",
       "  <tbody>\n",
       "    <tr>\n",
       "      <th>count</th>\n",
       "      <td>26496.000000</td>\n",
       "    </tr>\n",
       "    <tr>\n",
       "      <th>mean</th>\n",
       "      <td>14.070463</td>\n",
       "    </tr>\n",
       "    <tr>\n",
       "      <th>std</th>\n",
       "      <td>9.211330</td>\n",
       "    </tr>\n",
       "    <tr>\n",
       "      <th>min</th>\n",
       "      <td>0.000000</td>\n",
       "    </tr>\n",
       "    <tr>\n",
       "      <th>25%</th>\n",
       "      <td>8.000000</td>\n",
       "    </tr>\n",
       "    <tr>\n",
       "      <th>50%</th>\n",
       "      <td>13.000000</td>\n",
       "    </tr>\n",
       "    <tr>\n",
       "      <th>75%</th>\n",
       "      <td>19.000000</td>\n",
       "    </tr>\n",
       "    <tr>\n",
       "      <th>max</th>\n",
       "      <td>119.000000</td>\n",
       "    </tr>\n",
       "  </tbody>\n",
       "</table>\n",
       "</div>"
      ],
      "text/plain": [
       "         num_orders\n",
       "count  26496.000000\n",
       "mean      14.070463\n",
       "std        9.211330\n",
       "min        0.000000\n",
       "25%        8.000000\n",
       "50%       13.000000\n",
       "75%       19.000000\n",
       "max      119.000000"
      ]
     },
     "execution_count": 6,
     "metadata": {},
     "output_type": "execute_result"
    }
   ],
   "source": [
    "data.describe()"
   ]
  },
  {
   "cell_type": "code",
   "execution_count": 7,
   "metadata": {},
   "outputs": [
    {
     "name": "stdout",
     "output_type": "stream",
     "text": [
      "Наличие пропусков num_orders    0\n",
      "dtype: int64\n"
     ]
    }
   ],
   "source": [
    "print('Наличие пропусков', data.isnull().sum())"
   ]
  },
  {
   "cell_type": "code",
   "execution_count": 8,
   "metadata": {},
   "outputs": [
    {
     "name": "stdout",
     "output_type": "stream",
     "text": [
      "Наличие дубликатов 26415\n"
     ]
    }
   ],
   "source": [
    "print('Наличие дубликатов', data.duplicated().sum())"
   ]
  },
  {
   "cell_type": "code",
   "execution_count": 9,
   "metadata": {},
   "outputs": [
    {
     "data": {
      "text/html": [
       "<div>\n",
       "<style scoped>\n",
       "    .dataframe tbody tr th:only-of-type {\n",
       "        vertical-align: middle;\n",
       "    }\n",
       "\n",
       "    .dataframe tbody tr th {\n",
       "        vertical-align: top;\n",
       "    }\n",
       "\n",
       "    .dataframe thead th {\n",
       "        text-align: right;\n",
       "    }\n",
       "</style>\n",
       "<table border=\"1\" class=\"dataframe\">\n",
       "  <thead>\n",
       "    <tr style=\"text-align: right;\">\n",
       "      <th></th>\n",
       "      <th>num_orders</th>\n",
       "    </tr>\n",
       "    <tr>\n",
       "      <th>datetime</th>\n",
       "      <th></th>\n",
       "    </tr>\n",
       "  </thead>\n",
       "  <tbody>\n",
       "    <tr>\n",
       "      <th>2018-03-01 02:10:00</th>\n",
       "      <td>12</td>\n",
       "    </tr>\n",
       "    <tr>\n",
       "      <th>2018-03-01 02:20:00</th>\n",
       "      <td>19</td>\n",
       "    </tr>\n",
       "    <tr>\n",
       "      <th>2018-03-01 03:00:00</th>\n",
       "      <td>8</td>\n",
       "    </tr>\n",
       "    <tr>\n",
       "      <th>2018-03-01 03:10:00</th>\n",
       "      <td>17</td>\n",
       "    </tr>\n",
       "    <tr>\n",
       "      <th>2018-03-01 03:20:00</th>\n",
       "      <td>7</td>\n",
       "    </tr>\n",
       "  </tbody>\n",
       "</table>\n",
       "</div>"
      ],
      "text/plain": [
       "                     num_orders\n",
       "datetime                       \n",
       "2018-03-01 02:10:00          12\n",
       "2018-03-01 02:20:00          19\n",
       "2018-03-01 03:00:00           8\n",
       "2018-03-01 03:10:00          17\n",
       "2018-03-01 03:20:00           7"
      ]
     },
     "execution_count": 9,
     "metadata": {},
     "output_type": "execute_result"
    }
   ],
   "source": [
    "duplicated_taxi = data[data.duplicated()].head()\n",
    "duplicated_taxi"
   ]
  },
  {
   "cell_type": "code",
   "execution_count": 10,
   "metadata": {},
   "outputs": [
    {
     "data": {
      "text/plain": [
       "0"
      ]
     },
     "execution_count": 10,
     "metadata": {},
     "output_type": "execute_result"
    }
   ],
   "source": [
    "data.index.duplicated().sum()"
   ]
  },
  {
   "cell_type": "markdown",
   "metadata": {},
   "source": [
    "Скорее всего это не дубликаты, а просто совпадения по дате и времени заказов. Т.е. заказ такси в одно и то же время."
   ]
  },
  {
   "cell_type": "markdown",
   "metadata": {},
   "source": [
    "**Вывод по 1 шагу**\n",
    "\n",
    "На первом шаге произведена загрузка и изучение данных.\n",
    "\n",
    "1. Перед нами DataFrame, содержащий информацию о времени и количестве заказов в компании «Чётенькое такси».\n",
    "2. Пропусков и дубликатов нет. \n",
    "3. Данные отсортированы в хронологическом порядке. \n",
    "4. В DataFrame данные за период с 1 марта 2018 по 31 августа 2018 года.\n",
    "\n",
    "Данные готовы к дальнейшему изучению."
   ]
  },
  {
   "cell_type": "markdown",
   "metadata": {},
   "source": [
    "## Анализ"
   ]
  },
  {
   "cell_type": "markdown",
   "metadata": {},
   "source": [
    "Выполним ресемплирование данных по одному часу."
   ]
  },
  {
   "cell_type": "code",
   "execution_count": 11,
   "metadata": {},
   "outputs": [
    {
     "data": {
      "text/plain": [
       "<AxesSubplot:xlabel='datetime'>"
      ]
     },
     "execution_count": 11,
     "metadata": {},
     "output_type": "execute_result"
    },
    {
     "data": {
      "image/png": "[encoded data removed]",
      "text/plain": [
       "<Figure size 432x288 with 1 Axes>"
      ]
     },
     "metadata": {
      "needs_background": "light"
     },
     "output_type": "display_data"
    }
   ],
   "source": [
    "data = data.resample('1H').sum()\n",
    "data.plot()"
   ]
  },
  {
   "cell_type": "markdown",
   "metadata": {},
   "source": [
    "Посмотрим на информацию за последние 2 недели."
   ]
  },
  {
   "cell_type": "code",
   "execution_count": 12,
   "metadata": {},
   "outputs": [
    {
     "data": {
      "text/plain": [
       "<AxesSubplot:xlabel='datetime'>"
      ]
     },
     "execution_count": 12,
     "metadata": {},
     "output_type": "execute_result"
    },
    {
     "data": {
      "image/png": "[encoded data removed]",
      "text/plain": [
       "<Figure size 432x288 with 1 Axes>"
      ]
     },
     "metadata": {
      "needs_background": "light"
     },
     "output_type": "display_data"
    }
   ],
   "source": [
    "data['2018-08-18':'2018-08-31'].plot()"
   ]
  },
  {
   "cell_type": "markdown",
   "metadata": {},
   "source": [
    "Рассмотрим тренды и сезонность всего датафрейма."
   ]
  },
  {
   "cell_type": "code",
   "execution_count": 13,
   "metadata": {},
   "outputs": [],
   "source": [
    "decomposed = seasonal_decompose(data)"
   ]
  },
  {
   "cell_type": "code",
   "execution_count": 14,
   "metadata": {},
   "outputs": [
    {
     "data": {
      "image/png": "[encoded data removed]",
      "text/plain": [
       "<Figure size 432x576 with 3 Axes>"
      ]
     },
     "metadata": {
      "needs_background": "light"
     },
     "output_type": "display_data"
    }
   ],
   "source": [
    "plt.figure(figsize=(6, 8))\n",
    "plt.subplot(311)\n",
    "\n",
    "decomposed.trend.plot(ax=plt.gca())\n",
    "plt.title('Trend')\n",
    "plt.subplot(312)\n",
    "\n",
    "decomposed.seasonal['2018-08-18':'2018-08-19'].plot(ax=plt.gca())\n",
    "plt.title('Seasonality')\n",
    "plt.subplot(313)\n",
    "\n",
    "decomposed.resid.plot(ax=plt.gca())\n",
    "plt.title('Residuals')\n",
    "\n",
    "plt.tight_layout()"
   ]
  },
  {
   "cell_type": "markdown",
   "metadata": {},
   "source": [
    "Рассмотрим тренды и сезонность за последние 2 недели."
   ]
  },
  {
   "cell_type": "code",
   "execution_count": 15,
   "metadata": {},
   "outputs": [],
   "source": [
    "decomposed_w = seasonal_decompose(data['2018-08-18':'2018-08-31'])"
   ]
  },
  {
   "cell_type": "code",
   "execution_count": 16,
   "metadata": {},
   "outputs": [
    {
     "data": {
      "image/png": "[encoded data removed]",
      "text/plain": [
       "<Figure size 432x576 with 3 Axes>"
      ]
     },
     "metadata": {
      "needs_background": "light"
     },
     "output_type": "display_data"
    }
   ],
   "source": [
    "plt.figure(figsize=(6, 8))\n",
    "plt.subplot(311)\n",
    "\n",
    "decomposed_w.trend.plot(ax=plt.gca())\n",
    "plt.title('Trend')\n",
    "plt.subplot(312)\n",
    "\n",
    "decomposed_w.seasonal.plot(ax=plt.gca())\n",
    "plt.title('Seasonality')\n",
    "plt.subplot(313)\n",
    "\n",
    "decomposed_w.resid.plot(ax=plt.gca())\n",
    "plt.title('Residuals')\n",
    "\n",
    "plt.tight_layout()"
   ]
  },
  {
   "cell_type": "code",
   "execution_count": 17,
   "metadata": {},
   "outputs": [
    {
     "data": {
      "text/plain": [
       "<AxesSubplot:xlabel='datetime'>"
      ]
     },
     "execution_count": 17,
     "metadata": {},
     "output_type": "execute_result"
    },
    {
     "data": {
      "image/png": "[encoded data removed]",
      "text/plain": [
       "<Figure size 864x432 with 1 Axes>"
      ]
     },
     "metadata": {
      "needs_background": "light"
     },
     "output_type": "display_data"
    }
   ],
   "source": [
    "data.plot(figsize=(12, 6))"
   ]
  },
  {
   "cell_type": "markdown",
   "metadata": {},
   "source": [
    "Чтобы сделать данные стационарными, вычеслим разность временного ряда."
   ]
  },
  {
   "cell_type": "code",
   "execution_count": 18,
   "metadata": {
    "scrolled": true
   },
   "outputs": [],
   "source": [
    "data = data - data.shift()\n",
    "data.dropna(inplace=True)"
   ]
  },
  {
   "cell_type": "code",
   "execution_count": 19,
   "metadata": {},
   "outputs": [
    {
     "data": {
      "text/plain": [
       "<AxesSubplot:xlabel='datetime'>"
      ]
     },
     "execution_count": 19,
     "metadata": {},
     "output_type": "execute_result"
    },
    {
     "data": {
      "image/png": "[encoded data removed]",
      "text/plain": [
       "<Figure size 864x432 with 1 Axes>"
      ]
     },
     "metadata": {
      "needs_background": "light"
     },
     "output_type": "display_data"
    }
   ],
   "source": [
    "data['rolling_mean'] = data.rolling(10).mean()\n",
    "data.plot(figsize=(12, 6))"
   ]
  },
  {
   "cell_type": "markdown",
   "metadata": {},
   "source": [
    "Создадим признаки для обучения моделей."
   ]
  },
  {
   "cell_type": "code",
   "execution_count": 20,
   "metadata": {},
   "outputs": [
    {
     "name": "stdout",
     "output_type": "stream",
     "text": [
      "                     num_orders  rolling_mean  dayofweek  hour  lag_1  lag_2  \\\n",
      "datetime                                                                       \n",
      "2018-03-01 01:00:00       -39.0           NaN          3     1    NaN    NaN   \n",
      "2018-03-01 02:00:00       -14.0           NaN          3     2  -39.0    NaN   \n",
      "2018-03-01 03:00:00        -5.0           NaN          3     3  -14.0  -39.0   \n",
      "2018-03-01 04:00:00       -23.0           NaN          3     4   -5.0  -14.0   \n",
      "2018-03-01 05:00:00       -37.0           NaN          3     5  -23.0   -5.0   \n",
      "\n",
      "                     lag_3  lag_4  lag_5  lag_6  ...  lag_15  lag_16  lag_17  \\\n",
      "datetime                                         ...                           \n",
      "2018-03-01 01:00:00    NaN    NaN    NaN    NaN  ...     NaN     NaN     NaN   \n",
      "2018-03-01 02:00:00    NaN    NaN    NaN    NaN  ...     NaN     NaN     NaN   \n",
      "2018-03-01 03:00:00    NaN    NaN    NaN    NaN  ...     NaN     NaN     NaN   \n",
      "2018-03-01 04:00:00  -39.0    NaN    NaN    NaN  ...     NaN     NaN     NaN   \n",
      "2018-03-01 05:00:00  -14.0  -39.0    NaN    NaN  ...     NaN     NaN     NaN   \n",
      "\n",
      "                     lag_18  lag_19  lag_20  lag_21  lag_22  lag_23  lag_24  \n",
      "datetime                                                                     \n",
      "2018-03-01 01:00:00     NaN     NaN     NaN     NaN     NaN     NaN     NaN  \n",
      "2018-03-01 02:00:00     NaN     NaN     NaN     NaN     NaN     NaN     NaN  \n",
      "2018-03-01 03:00:00     NaN     NaN     NaN     NaN     NaN     NaN     NaN  \n",
      "2018-03-01 04:00:00     NaN     NaN     NaN     NaN     NaN     NaN     NaN  \n",
      "2018-03-01 05:00:00     NaN     NaN     NaN     NaN     NaN     NaN     NaN  \n",
      "\n",
      "[5 rows x 28 columns]\n"
     ]
    }
   ],
   "source": [
    "def make_features(data, max_lag, rolling_mean_size):\n",
    "    data['dayofweek'] = data.index.dayofweek\n",
    "    data['hour'] = data.index.hour\n",
    "    \n",
    "    for lag in range(1, max_lag + 1):\n",
    "        data['lag_{}'.format(lag)] = data['num_orders'].shift(lag)\n",
    "\n",
    "    data['rolling_mean'] = data['num_orders'].shift().rolling(rolling_mean_size).mean()\n",
    "\n",
    "make_features(data, 24, 24)\n",
    "print(data.head())"
   ]
  },
  {
   "cell_type": "markdown",
   "metadata": {},
   "source": [
    "**Вывод по 2 шагу**\n",
    "\n",
    "Проведено ресемплироание по одному часу, изучены тренды и сезонность, созданы признаки для обучения."
   ]
  },
  {
   "cell_type": "markdown",
   "metadata": {},
   "source": [
    "## Обучение"
   ]
  },
  {
   "cell_type": "markdown",
   "metadata": {},
   "source": [
    "Разделим выборку на train, valid и test, тестовую выборку сделаем размером 10% от исходных данных."
   ]
  },
  {
   "cell_type": "code",
   "execution_count": 21,
   "metadata": {},
   "outputs": [],
   "source": [
    "train_valid, test = train_test_split(data, shuffle=False, test_size=0.1)\n",
    "train_valid = train_valid.dropna()\n",
    "train, valid = train_test_split(train_valid, shuffle=False, test_size=0.1)"
   ]
  },
  {
   "cell_type": "markdown",
   "metadata": {},
   "source": [
    "Посмотрим на минимальные и максимальные значения индексов выборок. Убедимся в корректности деления."
   ]
  },
  {
   "cell_type": "code",
   "execution_count": 22,
   "metadata": {},
   "outputs": [
    {
     "name": "stdout",
     "output_type": "stream",
     "text": [
      "2018-03-02 01:00:00 2018-07-28 02:00:00\n",
      "2018-07-28 03:00:00 2018-08-13 13:00:00\n",
      "2018-08-13 14:00:00 2018-08-31 23:00:00\n"
     ]
    }
   ],
   "source": [
    "print(train.index.min(), train.index.max())\n",
    "print(valid.index.min(), valid.index.max())\n",
    "print(test.index.min(), test.index.max())"
   ]
  },
  {
   "cell_type": "code",
   "execution_count": 23,
   "metadata": {},
   "outputs": [
    {
     "name": "stdout",
     "output_type": "stream",
     "text": [
      "(3554, 28)\n",
      "(395, 28)\n",
      "(442, 28)\n"
     ]
    }
   ],
   "source": [
    "print(train.shape)\n",
    "print(valid.shape)\n",
    "print(test.shape)"
   ]
  },
  {
   "cell_type": "markdown",
   "metadata": {},
   "source": [
    "Разделим выборки train и test на features_train, target_train, features_valid, target_valid, features_test и target_test."
   ]
  },
  {
   "cell_type": "code",
   "execution_count": 24,
   "metadata": {},
   "outputs": [],
   "source": [
    "features_train = train.drop(['num_orders'], axis=1)\n",
    "target_train = train['num_orders']\n",
    "\n",
    "features_valid = valid.drop(['num_orders'], axis=1)\n",
    "target_valid = valid['num_orders']\n",
    "\n",
    "features_test = test.drop(['num_orders'], axis=1)\n",
    "target_test = test['num_orders']\n",
    "\n",
    "features_train_valid = train_valid.drop(['num_orders'], axis=1)\n",
    "target_train_valid = train_valid['num_orders']"
   ]
  },
  {
   "cell_type": "markdown",
   "metadata": {},
   "source": [
    "Для удобства создадим функцию для определения RMSE. "
   ]
  },
  {
   "cell_type": "code",
   "execution_count": 25,
   "metadata": {},
   "outputs": [],
   "source": [
    "def RMSE(target, predict):\n",
    "    RMSE = (mean_squared_error(target, predict))**0.5\n",
    "    return RMSE\n",
    "\n",
    "score = make_scorer(RMSE, greater_is_better=False)"
   ]
  },
  {
   "cell_type": "markdown",
   "metadata": {},
   "source": [
    "Перейдем к обучению моделей."
   ]
  },
  {
   "cell_type": "code",
   "execution_count": 26,
   "metadata": {},
   "outputs": [],
   "source": [
    "tscv = TimeSeriesSplit(n_splits=5)"
   ]
  },
  {
   "cell_type": "code",
   "execution_count": 27,
   "metadata": {},
   "outputs": [
    {
     "name": "stdout",
     "output_type": "stream",
     "text": [
      "RMSE DummyRegressor на валидационной выборке: 47.24948326892598\n",
      "CPU times: user 1.16 ms, sys: 312 µs, total: 1.47 ms\n",
      "Wall time: 1.15 ms\n"
     ]
    }
   ],
   "source": [
    "%%time\n",
    "const_model = DummyRegressor(strategy=\"mean\")\n",
    "const_model.fit(features_train, target_train)\n",
    "predicted_const_model = const_model.predict(features_valid)\n",
    "RMSE_const_model = mean_squared_error(target_valid, predicted_const_model)**0.5 \n",
    "print('RMSE DummyRegressor на валидационной выборке:', RMSE_const_model)"
   ]
  },
  {
   "cell_type": "code",
   "execution_count": 28,
   "metadata": {},
   "outputs": [
    {
     "name": "stdout",
     "output_type": "stream",
     "text": [
      "RMSE DecisionTreeRegressor на валидационной выборке: 35.90368097571887\n",
      "CPU times: user 173 ms, sys: 0 ns, total: 173 ms\n",
      "Wall time: 198 ms\n"
     ]
    }
   ],
   "source": [
    "%%time\n",
    "model_dtr = DecisionTreeRegressor(random_state=42)\n",
    "\n",
    "RMSE_dtr = cross_val_score(model_dtr, features_train, target_train, scoring=score, cv=tscv)\n",
    "RMSE_dtr = pd.Series(RMSE_dtr).mean()*(-1)\n",
    "print('RMSE DecisionTreeRegressor на валидационной выборке:', RMSE_dtr)"
   ]
  },
  {
   "cell_type": "code",
   "execution_count": 29,
   "metadata": {},
   "outputs": [
    {
     "name": "stdout",
     "output_type": "stream",
     "text": [
      "RMSE LinearRegression на валидационной выборке: 26.021724350344705\n",
      "CPU times: user 107 ms, sys: 238 ms, total: 345 ms\n",
      "Wall time: 338 ms\n"
     ]
    }
   ],
   "source": [
    "%%time\n",
    "\n",
    "model_lr = LinearRegression() \n",
    "\n",
    "RMSE_lr = cross_val_score(model_lr, features_train, target_train, scoring=score, cv=tscv)\n",
    "RMSE_lr = pd.Series(RMSE_lr).mean()*(-1)\n",
    "print('RMSE LinearRegression на валидационной выборке:', RMSE_lr)"
   ]
  },
  {
   "cell_type": "code",
   "execution_count": 30,
   "metadata": {},
   "outputs": [
    {
     "name": "stdout",
     "output_type": "stream",
     "text": [
      "RMSE наилучшей модели на валидационной выборке: 38.14809935309211\n",
      "CPU times: user 16.2 s, sys: 77.9 ms, total: 16.3 s\n",
      "Wall time: 16.4 s\n"
     ]
    }
   ],
   "source": [
    "%%time\n",
    "\n",
    "model_rfr = RandomForestRegressor(random_state=42) \n",
    "forest_parametrs = {'n_estimators': range(5, 20),\n",
    "                     'max_depth': range(1, 5)}\n",
    "grid = GridSearchCV(model_rfr, forest_parametrs, cv=tscv)\n",
    "grid.fit(features_train, target_train) \n",
    "predictions_valid = grid.predict(features_valid)\n",
    "RMSE_rfr = mean_squared_error(target_valid, predictions_valid)**0.5 \n",
    "print(\"RMSE наилучшей модели на валидационной выборке:\", RMSE_rfr)"
   ]
  },
  {
   "cell_type": "code",
   "execution_count": 31,
   "metadata": {},
   "outputs": [
    {
     "data": {
      "text/plain": [
       "{'max_depth': 4, 'n_estimators': 14}"
      ]
     },
     "execution_count": 31,
     "metadata": {},
     "output_type": "execute_result"
    }
   ],
   "source": [
    "grid.best_params_"
   ]
  },
  {
   "cell_type": "code",
   "execution_count": 32,
   "metadata": {},
   "outputs": [
    {
     "name": "stdout",
     "output_type": "stream",
     "text": [
      "Learning rate set to 0.176309\n",
      "0:\tlearn: 28.1722642\ttotal: 47.4ms\tremaining: 7.06s\n",
      "1:\tlearn: 27.1761351\ttotal: 48.5ms\tremaining: 3.59s\n",
      "2:\tlearn: 26.4869090\ttotal: 49.3ms\tremaining: 2.41s\n",
      "3:\tlearn: 26.0025206\ttotal: 50.2ms\tremaining: 1.83s\n",
      "4:\tlearn: 25.1692173\ttotal: 50.9ms\tremaining: 1.48s\n",
      "5:\tlearn: 24.4405763\ttotal: 51.7ms\tremaining: 1.24s\n",
      "6:\tlearn: 24.1508604\ttotal: 52.4ms\tremaining: 1.07s\n",
      "7:\tlearn: 23.7724067\ttotal: 53.2ms\tremaining: 944ms\n",
      "8:\tlearn: 23.4160413\ttotal: 53.9ms\tremaining: 845ms\n",
      "9:\tlearn: 23.1790371\ttotal: 54.6ms\tremaining: 765ms\n",
      "10:\tlearn: 22.7989076\ttotal: 55.3ms\tremaining: 699ms\n",
      "11:\tlearn: 22.5248987\ttotal: 56ms\tremaining: 645ms\n",
      "12:\tlearn: 22.1650976\ttotal: 56.8ms\tremaining: 599ms\n",
      "13:\tlearn: 21.8031237\ttotal: 57.6ms\tremaining: 559ms\n",
      "14:\tlearn: 21.6032961\ttotal: 58.3ms\tremaining: 525ms\n",
      "15:\tlearn: 21.4999033\ttotal: 59ms\tremaining: 494ms\n",
      "16:\tlearn: 21.3009317\ttotal: 59.7ms\tremaining: 467ms\n",
      "17:\tlearn: 21.1419358\ttotal: 60.4ms\tremaining: 443ms\n",
      "18:\tlearn: 20.9537838\ttotal: 61.1ms\tremaining: 421ms\n",
      "19:\tlearn: 20.6423570\ttotal: 61.8ms\tremaining: 402ms\n",
      "20:\tlearn: 20.4315894\ttotal: 62.5ms\tremaining: 384ms\n",
      "21:\tlearn: 20.2627011\ttotal: 63.2ms\tremaining: 368ms\n",
      "22:\tlearn: 20.0936297\ttotal: 63.9ms\tremaining: 353ms\n",
      "23:\tlearn: 19.9596493\ttotal: 64.7ms\tremaining: 340ms\n",
      "24:\tlearn: 19.7231351\ttotal: 65.4ms\tremaining: 327ms\n",
      "25:\tlearn: 19.6482818\ttotal: 66.2ms\tremaining: 316ms\n",
      "26:\tlearn: 19.5238224\ttotal: 66.8ms\tremaining: 305ms\n",
      "27:\tlearn: 19.4692839\ttotal: 67.7ms\tremaining: 295ms\n",
      "28:\tlearn: 19.4234487\ttotal: 68.4ms\tremaining: 285ms\n",
      "29:\tlearn: 19.3016354\ttotal: 69.2ms\tremaining: 277ms\n",
      "30:\tlearn: 19.2011791\ttotal: 69.9ms\tremaining: 268ms\n",
      "31:\tlearn: 18.9788606\ttotal: 70.7ms\tremaining: 261ms\n",
      "32:\tlearn: 18.8816060\ttotal: 71.4ms\tremaining: 253ms\n",
      "33:\tlearn: 18.8053860\ttotal: 72.1ms\tremaining: 246ms\n",
      "34:\tlearn: 18.7310790\ttotal: 72.9ms\tremaining: 240ms\n",
      "35:\tlearn: 18.6741586\ttotal: 73.6ms\tremaining: 233ms\n",
      "36:\tlearn: 18.4528047\ttotal: 74.3ms\tremaining: 227ms\n",
      "37:\tlearn: 18.3428016\ttotal: 75.1ms\tremaining: 221ms\n",
      "38:\tlearn: 18.1915339\ttotal: 75.8ms\tremaining: 216ms\n",
      "39:\tlearn: 18.1036242\ttotal: 76.5ms\tremaining: 210ms\n",
      "40:\tlearn: 17.9085007\ttotal: 77.3ms\tremaining: 205ms\n",
      "41:\tlearn: 17.8094248\ttotal: 78ms\tremaining: 200ms\n",
      "42:\tlearn: 17.7045450\ttotal: 78.7ms\tremaining: 196ms\n",
      "43:\tlearn: 17.6398521\ttotal: 79.4ms\tremaining: 191ms\n",
      "44:\tlearn: 17.5067717\ttotal: 80.2ms\tremaining: 187ms\n",
      "45:\tlearn: 17.4305760\ttotal: 80.9ms\tremaining: 183ms\n",
      "46:\tlearn: 17.3391516\ttotal: 81.6ms\tremaining: 179ms\n",
      "47:\tlearn: 17.1730161\ttotal: 82.3ms\tremaining: 175ms\n",
      "48:\tlearn: 17.0905689\ttotal: 83.1ms\tremaining: 171ms\n",
      "49:\tlearn: 16.9964211\ttotal: 83.7ms\tremaining: 167ms\n",
      "50:\tlearn: 16.8689911\ttotal: 84.5ms\tremaining: 164ms\n",
      "51:\tlearn: 16.8173292\ttotal: 85.3ms\tremaining: 161ms\n",
      "52:\tlearn: 16.7552590\ttotal: 85.9ms\tremaining: 157ms\n",
      "53:\tlearn: 16.6507846\ttotal: 86.7ms\tremaining: 154ms\n",
      "54:\tlearn: 16.5382586\ttotal: 87.4ms\tremaining: 151ms\n",
      "55:\tlearn: 16.4193925\ttotal: 88.1ms\tremaining: 148ms\n",
      "56:\tlearn: 16.3642060\ttotal: 88.8ms\tremaining: 145ms\n",
      "57:\tlearn: 16.3021231\ttotal: 89.6ms\tremaining: 142ms\n",
      "58:\tlearn: 16.2302618\ttotal: 90.3ms\tremaining: 139ms\n",
      "59:\tlearn: 16.1278148\ttotal: 91ms\tremaining: 137ms\n",
      "60:\tlearn: 16.0413936\ttotal: 91.7ms\tremaining: 134ms\n",
      "61:\tlearn: 15.9457358\ttotal: 92.4ms\tremaining: 131ms\n",
      "62:\tlearn: 15.8146904\ttotal: 93.1ms\tremaining: 129ms\n",
      "63:\tlearn: 15.6629610\ttotal: 93.9ms\tremaining: 126ms\n",
      "64:\tlearn: 15.5753695\ttotal: 94.6ms\tremaining: 124ms\n",
      "65:\tlearn: 15.5294474\ttotal: 95.3ms\tremaining: 121ms\n",
      "66:\tlearn: 15.4756466\ttotal: 96ms\tremaining: 119ms\n",
      "67:\tlearn: 15.4489796\ttotal: 96.6ms\tremaining: 116ms\n",
      "68:\tlearn: 15.3662986\ttotal: 97.3ms\tremaining: 114ms\n",
      "69:\tlearn: 15.2507684\ttotal: 98.1ms\tremaining: 112ms\n",
      "70:\tlearn: 15.2126552\ttotal: 98.8ms\tremaining: 110ms\n",
      "71:\tlearn: 15.1444840\ttotal: 99.5ms\tremaining: 108ms\n",
      "72:\tlearn: 15.0637850\ttotal: 100ms\tremaining: 106ms\n",
      "73:\tlearn: 14.9831413\ttotal: 101ms\tremaining: 104ms\n",
      "74:\tlearn: 14.9220450\ttotal: 102ms\tremaining: 102ms\n",
      "75:\tlearn: 14.8624608\ttotal: 102ms\tremaining: 99.8ms\n",
      "76:\tlearn: 14.7863114\ttotal: 103ms\tremaining: 97.8ms\n",
      "77:\tlearn: 14.7649491\ttotal: 104ms\tremaining: 95.8ms\n",
      "78:\tlearn: 14.7122674\ttotal: 105ms\tremaining: 93.9ms\n",
      "79:\tlearn: 14.6550357\ttotal: 105ms\tremaining: 92.1ms\n",
      "80:\tlearn: 14.6279750\ttotal: 106ms\tremaining: 90.3ms\n",
      "81:\tlearn: 14.5626640\ttotal: 107ms\tremaining: 88.4ms\n",
      "82:\tlearn: 14.5371372\ttotal: 107ms\tremaining: 86.6ms\n",
      "83:\tlearn: 14.4742684\ttotal: 108ms\tremaining: 84.9ms\n",
      "84:\tlearn: 14.3998605\ttotal: 109ms\tremaining: 83.1ms\n",
      "85:\tlearn: 14.3264626\ttotal: 109ms\tremaining: 81.4ms\n",
      "86:\tlearn: 14.3126776\ttotal: 110ms\tremaining: 79.7ms\n",
      "87:\tlearn: 14.2379277\ttotal: 111ms\tremaining: 78ms\n",
      "88:\tlearn: 14.2252377\ttotal: 111ms\tremaining: 76.4ms\n",
      "89:\tlearn: 14.1549107\ttotal: 112ms\tremaining: 74.8ms\n",
      "90:\tlearn: 14.1205293\ttotal: 113ms\tremaining: 73.3ms\n",
      "91:\tlearn: 14.0457079\ttotal: 114ms\tremaining: 71.7ms\n",
      "92:\tlearn: 13.9851702\ttotal: 114ms\tremaining: 70.1ms\n",
      "93:\tlearn: 13.9078331\ttotal: 115ms\tremaining: 68.6ms\n",
      "94:\tlearn: 13.8705075\ttotal: 116ms\tremaining: 67ms\n",
      "95:\tlearn: 13.8174953\ttotal: 117ms\tremaining: 65.6ms\n",
      "96:\tlearn: 13.7995976\ttotal: 117ms\tremaining: 64.1ms\n",
      "97:\tlearn: 13.7880104\ttotal: 118ms\tremaining: 62.7ms\n",
      "98:\tlearn: 13.7752512\ttotal: 119ms\tremaining: 61.2ms\n",
      "99:\tlearn: 13.7063156\ttotal: 119ms\tremaining: 59.7ms\n",
      "100:\tlearn: 13.6838739\ttotal: 120ms\tremaining: 58.4ms\n",
      "101:\tlearn: 13.5890052\ttotal: 121ms\tremaining: 57ms\n",
      "102:\tlearn: 13.5311140\ttotal: 122ms\tremaining: 55.6ms\n",
      "103:\tlearn: 13.4836943\ttotal: 123ms\tremaining: 54.2ms\n",
      "104:\tlearn: 13.4175558\ttotal: 123ms\tremaining: 52.9ms\n",
      "105:\tlearn: 13.3517414\ttotal: 124ms\tremaining: 51.5ms\n",
      "106:\tlearn: 13.2946975\ttotal: 125ms\tremaining: 50.1ms\n",
      "107:\tlearn: 13.2473030\ttotal: 126ms\tremaining: 48.8ms\n",
      "108:\tlearn: 13.2335781\ttotal: 126ms\tremaining: 47.5ms\n",
      "109:\tlearn: 13.2183771\ttotal: 127ms\tremaining: 46.1ms\n",
      "110:\tlearn: 13.1506537\ttotal: 128ms\tremaining: 44.9ms\n",
      "111:\tlearn: 13.1419861\ttotal: 128ms\tremaining: 43.6ms\n",
      "112:\tlearn: 13.0721400\ttotal: 129ms\tremaining: 42.3ms\n",
      "113:\tlearn: 12.9937605\ttotal: 130ms\tremaining: 41ms\n",
      "114:\tlearn: 12.9513320\ttotal: 131ms\tremaining: 39.8ms\n",
      "115:\tlearn: 12.9308736\ttotal: 131ms\tremaining: 38.5ms\n",
      "116:\tlearn: 12.8682809\ttotal: 132ms\tremaining: 37.3ms\n",
      "117:\tlearn: 12.8300468\ttotal: 133ms\tremaining: 36ms\n",
      "118:\tlearn: 12.7606571\ttotal: 134ms\tremaining: 34.8ms\n",
      "119:\tlearn: 12.6938072\ttotal: 134ms\tremaining: 33.6ms\n",
      "120:\tlearn: 12.6640211\ttotal: 135ms\tremaining: 32.3ms\n",
      "121:\tlearn: 12.6130018\ttotal: 136ms\tremaining: 31.1ms\n",
      "122:\tlearn: 12.5364618\ttotal: 136ms\tremaining: 29.9ms\n",
      "123:\tlearn: 12.4744970\ttotal: 137ms\tremaining: 28.7ms\n",
      "124:\tlearn: 12.4574520\ttotal: 138ms\tremaining: 27.6ms\n",
      "125:\tlearn: 12.4084037\ttotal: 138ms\tremaining: 26.4ms\n",
      "126:\tlearn: 12.3557328\ttotal: 139ms\tremaining: 25.2ms\n",
      "127:\tlearn: 12.2787013\ttotal: 140ms\tremaining: 24ms\n",
      "128:\tlearn: 12.2143315\ttotal: 141ms\tremaining: 22.9ms\n",
      "129:\tlearn: 12.2009484\ttotal: 141ms\tremaining: 21.7ms\n",
      "130:\tlearn: 12.1303104\ttotal: 142ms\tremaining: 20.6ms\n",
      "131:\tlearn: 12.0707856\ttotal: 143ms\tremaining: 19.5ms\n",
      "132:\tlearn: 12.0643259\ttotal: 144ms\tremaining: 18.4ms\n",
      "133:\tlearn: 11.9863881\ttotal: 144ms\tremaining: 17.2ms\n",
      "134:\tlearn: 11.9678116\ttotal: 145ms\tremaining: 16.1ms\n",
      "135:\tlearn: 11.9417188\ttotal: 146ms\tremaining: 15ms\n",
      "136:\tlearn: 11.8837962\ttotal: 146ms\tremaining: 13.9ms\n",
      "137:\tlearn: 11.8456160\ttotal: 147ms\tremaining: 12.8ms\n",
      "138:\tlearn: 11.8100807\ttotal: 148ms\tremaining: 11.7ms\n",
      "139:\tlearn: 11.8005733\ttotal: 149ms\tremaining: 10.6ms\n",
      "140:\tlearn: 11.7934219\ttotal: 149ms\tremaining: 9.53ms\n",
      "141:\tlearn: 11.7421218\ttotal: 150ms\tremaining: 8.45ms\n",
      "142:\tlearn: 11.7272177\ttotal: 151ms\tremaining: 7.38ms\n",
      "143:\tlearn: 11.7204374\ttotal: 151ms\tremaining: 6.31ms\n",
      "144:\tlearn: 11.6804224\ttotal: 152ms\tremaining: 5.25ms\n",
      "145:\tlearn: 11.6544353\ttotal: 153ms\tremaining: 4.19ms\n",
      "146:\tlearn: 11.6280779\ttotal: 154ms\tremaining: 3.13ms\n",
      "147:\tlearn: 11.5967833\ttotal: 154ms\tremaining: 2.09ms\n",
      "148:\tlearn: 11.5569054\ttotal: 155ms\tremaining: 1.04ms\n",
      "149:\tlearn: 11.5030101\ttotal: 156ms\tremaining: 0us\n",
      "Learning rate set to 0.196663\n",
      "0:\tlearn: 27.8483104\ttotal: 1.2ms\tremaining: 179ms\n",
      "1:\tlearn: 26.9156855\ttotal: 2.24ms\tremaining: 166ms\n",
      "2:\tlearn: 25.8801528\ttotal: 3.22ms\tremaining: 158ms\n",
      "3:\tlearn: 25.1868750\ttotal: 4.15ms\tremaining: 151ms\n",
      "4:\tlearn: 24.4073848\ttotal: 5.1ms\tremaining: 148ms\n",
      "5:\tlearn: 23.8350999\ttotal: 6.07ms\tremaining: 146ms\n",
      "6:\tlearn: 23.4761176\ttotal: 7.07ms\tremaining: 144ms\n",
      "7:\tlearn: 22.9838985\ttotal: 8.07ms\tremaining: 143ms\n",
      "8:\tlearn: 22.6761542\ttotal: 8.93ms\tremaining: 140ms\n",
      "9:\tlearn: 22.4858714\ttotal: 9.79ms\tremaining: 137ms\n",
      "10:\tlearn: 22.1703909\ttotal: 10.7ms\tremaining: 135ms\n",
      "11:\tlearn: 21.9958245\ttotal: 11.6ms\tremaining: 134ms\n",
      "12:\tlearn: 21.8229894\ttotal: 12.5ms\tremaining: 132ms\n",
      "13:\tlearn: 21.5532186\ttotal: 13.4ms\tremaining: 130ms\n",
      "14:\tlearn: 21.3876556\ttotal: 14.3ms\tremaining: 129ms\n",
      "15:\tlearn: 21.2214554\ttotal: 15.2ms\tremaining: 128ms\n",
      "16:\tlearn: 21.0805739\ttotal: 16.2ms\tremaining: 126ms\n",
      "17:\tlearn: 21.0190357\ttotal: 17.1ms\tremaining: 125ms\n",
      "18:\tlearn: 20.8556821\ttotal: 18ms\tremaining: 124ms\n",
      "19:\tlearn: 20.7539554\ttotal: 18.9ms\tremaining: 123ms\n",
      "20:\tlearn: 20.5921656\ttotal: 19.9ms\tremaining: 122ms\n",
      "21:\tlearn: 20.4691005\ttotal: 20.9ms\tremaining: 121ms\n",
      "22:\tlearn: 20.3401959\ttotal: 21.9ms\tremaining: 121ms\n",
      "23:\tlearn: 20.2410681\ttotal: 22.8ms\tremaining: 119ms\n",
      "24:\tlearn: 20.1867114\ttotal: 23.7ms\tremaining: 118ms\n",
      "25:\tlearn: 20.1314219\ttotal: 24.6ms\tremaining: 117ms\n",
      "26:\tlearn: 20.0685676\ttotal: 25.5ms\tremaining: 116ms\n",
      "27:\tlearn: 20.0291225\ttotal: 26.4ms\tremaining: 115ms\n",
      "28:\tlearn: 19.9334738\ttotal: 27.3ms\tremaining: 114ms\n",
      "29:\tlearn: 19.8801695\ttotal: 28.2ms\tremaining: 113ms\n",
      "30:\tlearn: 19.7516678\ttotal: 29.1ms\tremaining: 112ms\n",
      "31:\tlearn: 19.7014397\ttotal: 30ms\tremaining: 111ms\n",
      "32:\tlearn: 19.6407929\ttotal: 30.9ms\tremaining: 110ms\n",
      "33:\tlearn: 19.5803385\ttotal: 31.9ms\tremaining: 109ms\n",
      "34:\tlearn: 19.4901946\ttotal: 32.8ms\tremaining: 108ms\n",
      "35:\tlearn: 19.3890095\ttotal: 33.8ms\tremaining: 107ms\n",
      "36:\tlearn: 19.2641621\ttotal: 34.7ms\tremaining: 106ms\n",
      "37:\tlearn: 19.2200820\ttotal: 35.7ms\tremaining: 105ms\n",
      "38:\tlearn: 19.0351746\ttotal: 36.6ms\tremaining: 104ms\n",
      "39:\tlearn: 18.9884119\ttotal: 37.4ms\tremaining: 103ms\n",
      "40:\tlearn: 18.9182340\ttotal: 38.4ms\tremaining: 102ms\n",
      "41:\tlearn: 18.8652561\ttotal: 39.3ms\tremaining: 101ms\n",
      "42:\tlearn: 18.7771214\ttotal: 40.2ms\tremaining: 100ms\n",
      "43:\tlearn: 18.6990499\ttotal: 41.2ms\tremaining: 99.2ms\n",
      "44:\tlearn: 18.6292667\ttotal: 42.2ms\tremaining: 98.4ms\n",
      "45:\tlearn: 18.5708749\ttotal: 43.1ms\tremaining: 97.5ms\n",
      "46:\tlearn: 18.5389151\ttotal: 44ms\tremaining: 96.5ms\n",
      "47:\tlearn: 18.4711323\ttotal: 45ms\tremaining: 95.5ms\n",
      "48:\tlearn: 18.4042933\ttotal: 45.9ms\tremaining: 94.6ms\n",
      "49:\tlearn: 18.3546601\ttotal: 46.8ms\tremaining: 93.7ms\n",
      "50:\tlearn: 18.2835562\ttotal: 47.8ms\tremaining: 92.7ms\n",
      "51:\tlearn: 18.1575532\ttotal: 48.7ms\tremaining: 91.8ms\n",
      "52:\tlearn: 18.0479678\ttotal: 49.7ms\tremaining: 90.9ms\n",
      "53:\tlearn: 17.9681495\ttotal: 50.7ms\tremaining: 90.1ms\n",
      "54:\tlearn: 17.9080457\ttotal: 51.6ms\tremaining: 89.2ms\n",
      "55:\tlearn: 17.8012428\ttotal: 52.6ms\tremaining: 88.3ms\n",
      "56:\tlearn: 17.7366530\ttotal: 53.7ms\tremaining: 87.6ms\n",
      "57:\tlearn: 17.6653083\ttotal: 54.6ms\tremaining: 86.6ms\n",
      "58:\tlearn: 17.5811436\ttotal: 55.5ms\tremaining: 85.7ms\n",
      "59:\tlearn: 17.5317948\ttotal: 56.5ms\tremaining: 84.7ms\n",
      "60:\tlearn: 17.4950321\ttotal: 57.4ms\tremaining: 83.7ms\n",
      "61:\tlearn: 17.4294514\ttotal: 58.3ms\tremaining: 82.8ms\n",
      "62:\tlearn: 17.3231786\ttotal: 59.4ms\tremaining: 82ms\n",
      "63:\tlearn: 17.2277386\ttotal: 60.4ms\tremaining: 81.1ms\n",
      "64:\tlearn: 17.2127588\ttotal: 61.3ms\tremaining: 80.1ms\n",
      "65:\tlearn: 17.1819724\ttotal: 62.2ms\tremaining: 79.1ms\n",
      "66:\tlearn: 17.1034562\ttotal: 63.2ms\tremaining: 78.3ms\n",
      "67:\tlearn: 17.0633650\ttotal: 64.1ms\tremaining: 77.3ms\n",
      "68:\tlearn: 17.0117656\ttotal: 65ms\tremaining: 76.3ms\n",
      "69:\tlearn: 16.9581348\ttotal: 65.9ms\tremaining: 75.3ms\n",
      "70:\tlearn: 16.9087563\ttotal: 66.8ms\tremaining: 74.3ms\n",
      "71:\tlearn: 16.8704261\ttotal: 67.7ms\tremaining: 73.4ms\n",
      "72:\tlearn: 16.8454077\ttotal: 68.7ms\tremaining: 72.4ms\n",
      "73:\tlearn: 16.7285148\ttotal: 69.6ms\tremaining: 71.5ms\n",
      "74:\tlearn: 16.6735637\ttotal: 70.5ms\tremaining: 70.5ms\n",
      "75:\tlearn: 16.6274287\ttotal: 71.5ms\tremaining: 69.6ms\n",
      "76:\tlearn: 16.5539290\ttotal: 72.5ms\tremaining: 68.7ms\n",
      "77:\tlearn: 16.5139590\ttotal: 73.4ms\tremaining: 67.8ms\n",
      "78:\tlearn: 16.4387727\ttotal: 74.5ms\tremaining: 67ms\n",
      "79:\tlearn: 16.3703028\ttotal: 75.6ms\tremaining: 66.1ms\n",
      "80:\tlearn: 16.3194354\ttotal: 76.6ms\tremaining: 65.2ms\n",
      "81:\tlearn: 16.2917105\ttotal: 77.5ms\tremaining: 64.3ms\n",
      "82:\tlearn: 16.2786480\ttotal: 78.4ms\tremaining: 63.3ms\n",
      "83:\tlearn: 16.2057353\ttotal: 79.4ms\tremaining: 62.4ms\n",
      "84:\tlearn: 16.1725328\ttotal: 80.4ms\tremaining: 61.5ms\n",
      "85:\tlearn: 16.1510762\ttotal: 81.5ms\tremaining: 60.7ms\n",
      "86:\tlearn: 16.0648440\ttotal: 82.5ms\tremaining: 59.7ms\n",
      "87:\tlearn: 16.0231510\ttotal: 83.5ms\tremaining: 58.8ms\n",
      "88:\tlearn: 15.9593240\ttotal: 84.6ms\tremaining: 58ms\n",
      "89:\tlearn: 15.9444393\ttotal: 85.7ms\tremaining: 57.1ms\n",
      "90:\tlearn: 15.8975142\ttotal: 86.6ms\tremaining: 56.2ms\n",
      "91:\tlearn: 15.8704282\ttotal: 87.6ms\tremaining: 55.2ms\n",
      "92:\tlearn: 15.8284111\ttotal: 88.6ms\tremaining: 54.3ms\n",
      "93:\tlearn: 15.7928752\ttotal: 89.6ms\tremaining: 53.4ms\n",
      "94:\tlearn: 15.7574240\ttotal: 90.6ms\tremaining: 52.5ms\n",
      "95:\tlearn: 15.6477356\ttotal: 91.7ms\tremaining: 51.6ms\n",
      "96:\tlearn: 15.6050021\ttotal: 92.7ms\tremaining: 50.6ms\n",
      "97:\tlearn: 15.5867723\ttotal: 93.6ms\tremaining: 49.7ms\n",
      "98:\tlearn: 15.5171268\ttotal: 94.6ms\tremaining: 48.7ms\n",
      "99:\tlearn: 15.4580146\ttotal: 95.6ms\tremaining: 47.8ms\n",
      "100:\tlearn: 15.4124952\ttotal: 96.7ms\tremaining: 46.9ms\n",
      "101:\tlearn: 15.4052168\ttotal: 97.7ms\tremaining: 46ms\n",
      "102:\tlearn: 15.3620765\ttotal: 98.7ms\tremaining: 45ms\n",
      "103:\tlearn: 15.3554048\ttotal: 99.8ms\tremaining: 44.1ms\n",
      "104:\tlearn: 15.2786900\ttotal: 101ms\tremaining: 43.2ms\n",
      "105:\tlearn: 15.2007813\ttotal: 102ms\tremaining: 42.3ms\n",
      "106:\tlearn: 15.1442187\ttotal: 103ms\tremaining: 41.4ms\n",
      "107:\tlearn: 15.1239415\ttotal: 104ms\tremaining: 40.5ms\n",
      "108:\tlearn: 15.0486608\ttotal: 105ms\tremaining: 39.6ms\n",
      "109:\tlearn: 15.0088145\ttotal: 106ms\tremaining: 38.7ms\n",
      "110:\tlearn: 14.9386666\ttotal: 107ms\tremaining: 37.8ms\n",
      "111:\tlearn: 14.9097805\ttotal: 108ms\tremaining: 36.8ms\n",
      "112:\tlearn: 14.8629595\ttotal: 109ms\tremaining: 35.8ms\n",
      "113:\tlearn: 14.8310104\ttotal: 110ms\tremaining: 34.9ms\n",
      "114:\tlearn: 14.8249518\ttotal: 111ms\tremaining: 33.9ms\n",
      "115:\tlearn: 14.7775888\ttotal: 112ms\tremaining: 32.9ms\n",
      "116:\tlearn: 14.7414064\ttotal: 113ms\tremaining: 31.9ms\n",
      "117:\tlearn: 14.7081807\ttotal: 114ms\tremaining: 31ms\n",
      "118:\tlearn: 14.6772267\ttotal: 115ms\tremaining: 30ms\n",
      "119:\tlearn: 14.6392255\ttotal: 116ms\tremaining: 29ms\n",
      "120:\tlearn: 14.6146263\ttotal: 117ms\tremaining: 28.1ms\n",
      "121:\tlearn: 14.5621778\ttotal: 118ms\tremaining: 27.1ms\n",
      "122:\tlearn: 14.5170835\ttotal: 119ms\tremaining: 26.2ms\n",
      "123:\tlearn: 14.4869170\ttotal: 120ms\tremaining: 25.2ms\n",
      "124:\tlearn: 14.4444576\ttotal: 121ms\tremaining: 24.2ms\n",
      "125:\tlearn: 14.4062617\ttotal: 122ms\tremaining: 23.2ms\n",
      "126:\tlearn: 14.3747019\ttotal: 123ms\tremaining: 22.3ms\n",
      "127:\tlearn: 14.3146815\ttotal: 124ms\tremaining: 21.3ms\n",
      "128:\tlearn: 14.2690192\ttotal: 125ms\tremaining: 20.4ms\n",
      "129:\tlearn: 14.2362643\ttotal: 126ms\tremaining: 19.4ms\n",
      "130:\tlearn: 14.1753964\ttotal: 127ms\tremaining: 18.4ms\n",
      "131:\tlearn: 14.1602517\ttotal: 128ms\tremaining: 17.5ms\n",
      "132:\tlearn: 14.1258048\ttotal: 129ms\tremaining: 16.5ms\n",
      "133:\tlearn: 14.0699016\ttotal: 130ms\tremaining: 15.5ms\n",
      "134:\tlearn: 14.0345279\ttotal: 131ms\tremaining: 14.6ms\n",
      "135:\tlearn: 13.9879051\ttotal: 132ms\tremaining: 13.6ms\n",
      "136:\tlearn: 13.9454819\ttotal: 133ms\tremaining: 12.6ms\n",
      "137:\tlearn: 13.8839864\ttotal: 134ms\tremaining: 11.7ms\n",
      "138:\tlearn: 13.8627600\ttotal: 135ms\tremaining: 10.7ms\n",
      "139:\tlearn: 13.8574190\ttotal: 136ms\tremaining: 9.71ms\n",
      "140:\tlearn: 13.8148871\ttotal: 137ms\tremaining: 8.74ms\n",
      "141:\tlearn: 13.7546525\ttotal: 138ms\tremaining: 7.77ms\n",
      "142:\tlearn: 13.7384415\ttotal: 139ms\tremaining: 6.8ms\n",
      "143:\tlearn: 13.7064602\ttotal: 140ms\tremaining: 5.83ms\n",
      "144:\tlearn: 13.6722038\ttotal: 141ms\tremaining: 4.86ms\n",
      "145:\tlearn: 13.6675679\ttotal: 142ms\tremaining: 3.89ms\n",
      "146:\tlearn: 13.6396389\ttotal: 143ms\tremaining: 2.92ms\n",
      "147:\tlearn: 13.6264866\ttotal: 144ms\tremaining: 1.94ms\n",
      "148:\tlearn: 13.5936796\ttotal: 145ms\tremaining: 971us\n",
      "149:\tlearn: 13.5738352\ttotal: 146ms\tremaining: 0us\n",
      "Learning rate set to 0.209656\n",
      "0:\tlearn: 29.3222645\ttotal: 1.38ms\tremaining: 205ms\n",
      "1:\tlearn: 28.0563940\ttotal: 2.58ms\tremaining: 191ms\n",
      "2:\tlearn: 26.9844146\ttotal: 3.7ms\tremaining: 181ms\n",
      "3:\tlearn: 26.1113162\ttotal: 4.85ms\tremaining: 177ms\n",
      "4:\tlearn: 25.4137356\ttotal: 5.96ms\tremaining: 173ms\n",
      "5:\tlearn: 24.9607995\ttotal: 7.06ms\tremaining: 169ms\n",
      "6:\tlearn: 24.5214637\ttotal: 8.23ms\tremaining: 168ms\n",
      "7:\tlearn: 24.1094761\ttotal: 9.36ms\tremaining: 166ms\n",
      "8:\tlearn: 23.7003566\ttotal: 10.5ms\tremaining: 164ms\n",
      "9:\tlearn: 23.4696540\ttotal: 11.7ms\tremaining: 164ms\n",
      "10:\tlearn: 23.3262790\ttotal: 12.8ms\tremaining: 162ms\n",
      "11:\tlearn: 23.0715105\ttotal: 13.9ms\tremaining: 159ms\n",
      "12:\tlearn: 22.8165575\ttotal: 15ms\tremaining: 158ms\n",
      "13:\tlearn: 22.5990427\ttotal: 16.2ms\tremaining: 157ms\n",
      "14:\tlearn: 22.3782874\ttotal: 17.3ms\tremaining: 156ms\n",
      "15:\tlearn: 22.2319021\ttotal: 18.4ms\tremaining: 154ms\n",
      "16:\tlearn: 22.1031429\ttotal: 19.6ms\tremaining: 153ms\n",
      "17:\tlearn: 22.0104839\ttotal: 20.8ms\tremaining: 153ms\n",
      "18:\tlearn: 21.8985503\ttotal: 22ms\tremaining: 152ms\n",
      "19:\tlearn: 21.7209329\ttotal: 23.4ms\tremaining: 152ms\n",
      "20:\tlearn: 21.5594719\ttotal: 24.5ms\tremaining: 150ms\n",
      "21:\tlearn: 21.4670686\ttotal: 25.5ms\tremaining: 148ms\n",
      "22:\tlearn: 21.3725670\ttotal: 26.6ms\tremaining: 147ms\n",
      "23:\tlearn: 21.2840609\ttotal: 27.7ms\tremaining: 146ms\n",
      "24:\tlearn: 21.2325126\ttotal: 28.9ms\tremaining: 144ms\n",
      "25:\tlearn: 21.1852453\ttotal: 30ms\tremaining: 143ms\n",
      "26:\tlearn: 21.1315080\ttotal: 31.1ms\tremaining: 142ms\n",
      "27:\tlearn: 21.0896878\ttotal: 32.2ms\tremaining: 140ms\n",
      "28:\tlearn: 21.0458182\ttotal: 33.2ms\tremaining: 139ms\n",
      "29:\tlearn: 20.9359811\ttotal: 34.4ms\tremaining: 138ms\n",
      "30:\tlearn: 20.8577105\ttotal: 35.5ms\tremaining: 136ms\n",
      "31:\tlearn: 20.7880828\ttotal: 36.6ms\tremaining: 135ms\n",
      "32:\tlearn: 20.7403079\ttotal: 37.8ms\tremaining: 134ms\n",
      "33:\tlearn: 20.6851816\ttotal: 38.9ms\tremaining: 133ms\n",
      "34:\tlearn: 20.5829471\ttotal: 40ms\tremaining: 131ms\n",
      "35:\tlearn: 20.5522972\ttotal: 41.1ms\tremaining: 130ms\n",
      "36:\tlearn: 20.4613310\ttotal: 42.2ms\tremaining: 129ms\n",
      "37:\tlearn: 20.3951402\ttotal: 43.3ms\tremaining: 128ms\n",
      "38:\tlearn: 20.2998780\ttotal: 44.4ms\tremaining: 127ms\n",
      "39:\tlearn: 20.2333265\ttotal: 45.5ms\tremaining: 125ms\n",
      "40:\tlearn: 20.1651238\ttotal: 46.6ms\tremaining: 124ms\n",
      "41:\tlearn: 20.1176373\ttotal: 47.6ms\tremaining: 122ms\n",
      "42:\tlearn: 20.0640113\ttotal: 48.6ms\tremaining: 121ms\n",
      "43:\tlearn: 20.0150148\ttotal: 49.7ms\tremaining: 120ms\n",
      "44:\tlearn: 19.9680757\ttotal: 50.7ms\tremaining: 118ms\n",
      "45:\tlearn: 19.9185796\ttotal: 51.9ms\tremaining: 117ms\n",
      "46:\tlearn: 19.8214129\ttotal: 53.1ms\tremaining: 116ms\n",
      "47:\tlearn: 19.7613009\ttotal: 54.2ms\tremaining: 115ms\n",
      "48:\tlearn: 19.6626120\ttotal: 55.3ms\tremaining: 114ms\n",
      "49:\tlearn: 19.5757599\ttotal: 56.5ms\tremaining: 113ms\n",
      "50:\tlearn: 19.5231405\ttotal: 57.6ms\tremaining: 112ms\n",
      "51:\tlearn: 19.4445494\ttotal: 58.7ms\tremaining: 111ms\n",
      "52:\tlearn: 19.4345991\ttotal: 59.8ms\tremaining: 109ms\n",
      "53:\tlearn: 19.3767473\ttotal: 60.9ms\tremaining: 108ms\n",
      "54:\tlearn: 19.2641957\ttotal: 62.1ms\tremaining: 107ms\n",
      "55:\tlearn: 19.2123508\ttotal: 63.1ms\tremaining: 106ms\n",
      "56:\tlearn: 19.1592411\ttotal: 64.2ms\tremaining: 105ms\n",
      "57:\tlearn: 19.0978683\ttotal: 65.3ms\tremaining: 104ms\n",
      "58:\tlearn: 19.0699084\ttotal: 66.5ms\tremaining: 103ms\n",
      "59:\tlearn: 19.0056728\ttotal: 67.6ms\tremaining: 101ms\n",
      "60:\tlearn: 18.9339839\ttotal: 68.9ms\tremaining: 101ms\n",
      "61:\tlearn: 18.9005060\ttotal: 70ms\tremaining: 99.4ms\n",
      "62:\tlearn: 18.8725037\ttotal: 71.2ms\tremaining: 98.3ms\n",
      "63:\tlearn: 18.8659335\ttotal: 72.2ms\tremaining: 97ms\n",
      "64:\tlearn: 18.8177348\ttotal: 73.3ms\tremaining: 95.9ms\n",
      "65:\tlearn: 18.7652361\ttotal: 74.5ms\tremaining: 94.8ms\n",
      "66:\tlearn: 18.7329920\ttotal: 75.6ms\tremaining: 93.7ms\n",
      "67:\tlearn: 18.6770524\ttotal: 76.9ms\tremaining: 92.7ms\n",
      "68:\tlearn: 18.6010959\ttotal: 77.9ms\tremaining: 91.5ms\n",
      "69:\tlearn: 18.5173989\ttotal: 79ms\tremaining: 90.3ms\n",
      "70:\tlearn: 18.4446665\ttotal: 80ms\tremaining: 89ms\n",
      "71:\tlearn: 18.3755799\ttotal: 81.1ms\tremaining: 87.9ms\n",
      "72:\tlearn: 18.3398982\ttotal: 82.2ms\tremaining: 86.7ms\n",
      "73:\tlearn: 18.2881295\ttotal: 83.2ms\tremaining: 85.5ms\n",
      "74:\tlearn: 18.2184844\ttotal: 84.5ms\tremaining: 84.5ms\n",
      "75:\tlearn: 18.1746437\ttotal: 85.6ms\tremaining: 83.4ms\n",
      "76:\tlearn: 18.1585112\ttotal: 86.7ms\tremaining: 82.2ms\n",
      "77:\tlearn: 18.1517604\ttotal: 87.7ms\tremaining: 80.9ms\n",
      "78:\tlearn: 18.1018546\ttotal: 88.7ms\tremaining: 79.8ms\n",
      "79:\tlearn: 18.0246540\ttotal: 89.9ms\tremaining: 78.6ms\n",
      "80:\tlearn: 17.9722705\ttotal: 91ms\tremaining: 77.5ms\n",
      "81:\tlearn: 17.9442024\ttotal: 92.1ms\tremaining: 76.4ms\n",
      "82:\tlearn: 17.9056495\ttotal: 93.2ms\tremaining: 75.2ms\n",
      "83:\tlearn: 17.8604987\ttotal: 94.3ms\tremaining: 74.1ms\n",
      "84:\tlearn: 17.8289620\ttotal: 95.3ms\tremaining: 72.9ms\n",
      "85:\tlearn: 17.7895229\ttotal: 96.4ms\tremaining: 71.7ms\n",
      "86:\tlearn: 17.7189364\ttotal: 97.5ms\tremaining: 70.6ms\n",
      "87:\tlearn: 17.6758368\ttotal: 98.6ms\tremaining: 69.5ms\n",
      "88:\tlearn: 17.5979123\ttotal: 99.7ms\tremaining: 68.3ms\n",
      "89:\tlearn: 17.5592418\ttotal: 101ms\tremaining: 67.2ms\n",
      "90:\tlearn: 17.5008214\ttotal: 102ms\tremaining: 66ms\n",
      "91:\tlearn: 17.4713044\ttotal: 103ms\tremaining: 64.9ms\n",
      "92:\tlearn: 17.4288372\ttotal: 104ms\tremaining: 63.8ms\n",
      "93:\tlearn: 17.3874293\ttotal: 105ms\tremaining: 62.7ms\n",
      "94:\tlearn: 17.3597027\ttotal: 106ms\tremaining: 61.5ms\n",
      "95:\tlearn: 17.3159975\ttotal: 107ms\tremaining: 60.4ms\n",
      "96:\tlearn: 17.2994546\ttotal: 109ms\tremaining: 59.3ms\n",
      "97:\tlearn: 17.2681296\ttotal: 110ms\tremaining: 58.2ms\n",
      "98:\tlearn: 17.2521072\ttotal: 111ms\tremaining: 57ms\n",
      "99:\tlearn: 17.2319171\ttotal: 112ms\tremaining: 55.9ms\n",
      "100:\tlearn: 17.2209355\ttotal: 113ms\tremaining: 54.8ms\n",
      "101:\tlearn: 17.1608604\ttotal: 114ms\tremaining: 53.7ms\n",
      "102:\tlearn: 17.1470914\ttotal: 115ms\tremaining: 52.5ms\n",
      "103:\tlearn: 17.1292028\ttotal: 116ms\tremaining: 51.5ms\n",
      "104:\tlearn: 17.0557047\ttotal: 118ms\tremaining: 50.4ms\n",
      "105:\tlearn: 17.0151828\ttotal: 119ms\tremaining: 49.2ms\n",
      "106:\tlearn: 17.0014012\ttotal: 120ms\tremaining: 48.1ms\n",
      "107:\tlearn: 16.9380209\ttotal: 121ms\tremaining: 47ms\n",
      "108:\tlearn: 16.8972639\ttotal: 122ms\tremaining: 45.8ms\n",
      "109:\tlearn: 16.8716315\ttotal: 123ms\tremaining: 44.8ms\n",
      "110:\tlearn: 16.8300028\ttotal: 124ms\tremaining: 43.6ms\n",
      "111:\tlearn: 16.7564935\ttotal: 125ms\tremaining: 42.5ms\n",
      "112:\tlearn: 16.7402566\ttotal: 127ms\tremaining: 41.4ms\n",
      "113:\tlearn: 16.6976386\ttotal: 128ms\tremaining: 40.3ms\n",
      "114:\tlearn: 16.6894842\ttotal: 129ms\tremaining: 39.2ms\n",
      "115:\tlearn: 16.6437213\ttotal: 130ms\tremaining: 38.1ms\n",
      "116:\tlearn: 16.5929741\ttotal: 131ms\tremaining: 36.9ms\n",
      "117:\tlearn: 16.5335463\ttotal: 132ms\tremaining: 35.8ms\n",
      "118:\tlearn: 16.5043141\ttotal: 133ms\tremaining: 34.7ms\n",
      "119:\tlearn: 16.4548463\ttotal: 134ms\tremaining: 33.6ms\n",
      "120:\tlearn: 16.4248366\ttotal: 136ms\tremaining: 32.5ms\n",
      "121:\tlearn: 16.3940310\ttotal: 137ms\tremaining: 31.4ms\n",
      "122:\tlearn: 16.3422161\ttotal: 138ms\tremaining: 30.3ms\n",
      "123:\tlearn: 16.3045785\ttotal: 139ms\tremaining: 29.2ms\n",
      "124:\tlearn: 16.2809638\ttotal: 140ms\tremaining: 28ms\n",
      "125:\tlearn: 16.2521427\ttotal: 141ms\tremaining: 26.9ms\n",
      "126:\tlearn: 16.2047685\ttotal: 142ms\tremaining: 25.8ms\n",
      "127:\tlearn: 16.1641219\ttotal: 144ms\tremaining: 24.7ms\n",
      "128:\tlearn: 16.1335955\ttotal: 145ms\tremaining: 23.5ms\n",
      "129:\tlearn: 16.0871022\ttotal: 146ms\tremaining: 22.4ms\n",
      "130:\tlearn: 16.0782036\ttotal: 147ms\tremaining: 21.3ms\n",
      "131:\tlearn: 16.0686590\ttotal: 148ms\tremaining: 20.2ms\n",
      "132:\tlearn: 16.0547039\ttotal: 149ms\tremaining: 19ms\n",
      "133:\tlearn: 16.0241793\ttotal: 150ms\tremaining: 17.9ms\n",
      "134:\tlearn: 15.9946357\ttotal: 151ms\tremaining: 16.8ms\n",
      "135:\tlearn: 15.9692656\ttotal: 152ms\tremaining: 15.7ms\n",
      "136:\tlearn: 15.9272438\ttotal: 153ms\tremaining: 14.6ms\n",
      "137:\tlearn: 15.9198608\ttotal: 155ms\tremaining: 13.4ms\n",
      "138:\tlearn: 15.8993242\ttotal: 156ms\tremaining: 12.3ms\n",
      "139:\tlearn: 15.8698307\ttotal: 157ms\tremaining: 11.2ms\n",
      "140:\tlearn: 15.8264367\ttotal: 158ms\tremaining: 10.1ms\n",
      "141:\tlearn: 15.7884286\ttotal: 159ms\tremaining: 8.96ms\n",
      "142:\tlearn: 15.7704633\ttotal: 160ms\tremaining: 7.83ms\n",
      "143:\tlearn: 15.7313876\ttotal: 161ms\tremaining: 6.71ms\n",
      "144:\tlearn: 15.7062630\ttotal: 162ms\tremaining: 5.59ms\n",
      "145:\tlearn: 15.6750732\ttotal: 163ms\tremaining: 4.48ms\n",
      "146:\tlearn: 15.6184519\ttotal: 165ms\tremaining: 3.36ms\n",
      "147:\tlearn: 15.5836366\ttotal: 166ms\tremaining: 2.24ms\n",
      "148:\tlearn: 15.5731458\ttotal: 167ms\tremaining: 1.12ms\n",
      "149:\tlearn: 15.5536497\ttotal: 168ms\tremaining: 0us\n",
      "Learning rate set to 0.219395\n",
      "0:\tlearn: 29.9790587\ttotal: 1.59ms\tremaining: 237ms\n",
      "1:\tlearn: 28.4881848\ttotal: 3.12ms\tremaining: 231ms\n",
      "2:\tlearn: 27.2324093\ttotal: 4.4ms\tremaining: 216ms\n",
      "3:\tlearn: 26.5903495\ttotal: 5.76ms\tremaining: 210ms\n",
      "4:\tlearn: 25.9171132\ttotal: 7.1ms\tremaining: 206ms\n",
      "5:\tlearn: 25.4413961\ttotal: 8.45ms\tremaining: 203ms\n",
      "6:\tlearn: 25.0500454\ttotal: 9.71ms\tremaining: 198ms\n",
      "7:\tlearn: 24.7089309\ttotal: 10.8ms\tremaining: 193ms\n",
      "8:\tlearn: 24.2712414\ttotal: 12ms\tremaining: 189ms\n",
      "9:\tlearn: 23.9114990\ttotal: 13.3ms\tremaining: 186ms\n",
      "10:\tlearn: 23.6295243\ttotal: 14.5ms\tremaining: 183ms\n",
      "11:\tlearn: 23.4785966\ttotal: 15.9ms\tremaining: 183ms\n",
      "12:\tlearn: 23.3268616\ttotal: 17.1ms\tremaining: 180ms\n",
      "13:\tlearn: 23.0777956\ttotal: 18.3ms\tremaining: 178ms\n",
      "14:\tlearn: 22.9121358\ttotal: 19.6ms\tremaining: 176ms\n",
      "15:\tlearn: 22.7727433\ttotal: 20.8ms\tremaining: 174ms\n",
      "16:\tlearn: 22.6323591\ttotal: 22ms\tremaining: 172ms\n",
      "17:\tlearn: 22.5299220\ttotal: 23.3ms\tremaining: 171ms\n",
      "18:\tlearn: 22.4109807\ttotal: 24.5ms\tremaining: 169ms\n",
      "19:\tlearn: 22.3264874\ttotal: 25.8ms\tremaining: 168ms\n",
      "20:\tlearn: 22.1730696\ttotal: 27.1ms\tremaining: 166ms\n",
      "21:\tlearn: 22.0958686\ttotal: 28.4ms\tremaining: 165ms\n",
      "22:\tlearn: 22.0145624\ttotal: 29.6ms\tremaining: 163ms\n",
      "23:\tlearn: 21.9529952\ttotal: 30.8ms\tremaining: 162ms\n",
      "24:\tlearn: 21.8746965\ttotal: 32.2ms\tremaining: 161ms\n",
      "25:\tlearn: 21.7897098\ttotal: 33.3ms\tremaining: 159ms\n",
      "26:\tlearn: 21.6949005\ttotal: 34.6ms\tremaining: 158ms\n",
      "27:\tlearn: 21.6595636\ttotal: 35.7ms\tremaining: 156ms\n",
      "28:\tlearn: 21.5672495\ttotal: 36.9ms\tremaining: 154ms\n",
      "29:\tlearn: 21.5166014\ttotal: 38.2ms\tremaining: 153ms\n",
      "30:\tlearn: 21.4120960\ttotal: 39.4ms\tremaining: 151ms\n",
      "31:\tlearn: 21.3066631\ttotal: 40.6ms\tremaining: 150ms\n",
      "32:\tlearn: 21.2604508\ttotal: 41.9ms\tremaining: 148ms\n",
      "33:\tlearn: 21.1932109\ttotal: 43.1ms\tremaining: 147ms\n",
      "34:\tlearn: 21.1491186\ttotal: 44.2ms\tremaining: 145ms\n",
      "35:\tlearn: 21.1152997\ttotal: 45.3ms\tremaining: 143ms\n",
      "36:\tlearn: 21.0384215\ttotal: 46.6ms\tremaining: 142ms\n",
      "37:\tlearn: 20.9929904\ttotal: 47.8ms\tremaining: 141ms\n",
      "38:\tlearn: 20.9563486\ttotal: 49ms\tremaining: 140ms\n",
      "39:\tlearn: 20.8975751\ttotal: 50.2ms\tremaining: 138ms\n",
      "40:\tlearn: 20.8462030\ttotal: 51.4ms\tremaining: 137ms\n",
      "41:\tlearn: 20.8068965\ttotal: 52.6ms\tremaining: 135ms\n",
      "42:\tlearn: 20.7219456\ttotal: 53.9ms\tremaining: 134ms\n",
      "43:\tlearn: 20.6485718\ttotal: 55.2ms\tremaining: 133ms\n",
      "44:\tlearn: 20.5607251\ttotal: 56.4ms\tremaining: 132ms\n",
      "45:\tlearn: 20.4930181\ttotal: 57.6ms\tremaining: 130ms\n",
      "46:\tlearn: 20.4316592\ttotal: 58.9ms\tremaining: 129ms\n",
      "47:\tlearn: 20.3672233\ttotal: 60.3ms\tremaining: 128ms\n",
      "48:\tlearn: 20.3120042\ttotal: 61.8ms\tremaining: 127ms\n",
      "49:\tlearn: 20.2089409\ttotal: 63.1ms\tremaining: 126ms\n",
      "50:\tlearn: 20.1527509\ttotal: 64.3ms\tremaining: 125ms\n",
      "51:\tlearn: 20.1142840\ttotal: 65.5ms\tremaining: 123ms\n",
      "52:\tlearn: 20.0759632\ttotal: 66.6ms\tremaining: 122ms\n",
      "53:\tlearn: 20.0299515\ttotal: 67.9ms\tremaining: 121ms\n",
      "54:\tlearn: 19.9595302\ttotal: 69ms\tremaining: 119ms\n",
      "55:\tlearn: 19.9450962\ttotal: 70.1ms\tremaining: 118ms\n",
      "56:\tlearn: 19.8593496\ttotal: 71.4ms\tremaining: 117ms\n",
      "57:\tlearn: 19.8091064\ttotal: 72.6ms\tremaining: 115ms\n",
      "58:\tlearn: 19.7657645\ttotal: 73.7ms\tremaining: 114ms\n",
      "59:\tlearn: 19.7085535\ttotal: 75ms\tremaining: 113ms\n",
      "60:\tlearn: 19.6692393\ttotal: 76.2ms\tremaining: 111ms\n",
      "61:\tlearn: 19.6314143\ttotal: 77.4ms\tremaining: 110ms\n",
      "62:\tlearn: 19.5622412\ttotal: 78.6ms\tremaining: 109ms\n",
      "63:\tlearn: 19.5026585\ttotal: 79.8ms\tremaining: 107ms\n",
      "64:\tlearn: 19.4797361\ttotal: 80.9ms\tremaining: 106ms\n",
      "65:\tlearn: 19.4538991\ttotal: 82.3ms\tremaining: 105ms\n",
      "66:\tlearn: 19.4093632\ttotal: 83.4ms\tremaining: 103ms\n",
      "67:\tlearn: 19.3942572\ttotal: 84.6ms\tremaining: 102ms\n",
      "68:\tlearn: 19.3256012\ttotal: 85.8ms\tremaining: 101ms\n",
      "69:\tlearn: 19.2817781\ttotal: 87ms\tremaining: 99.4ms\n",
      "70:\tlearn: 19.2597719\ttotal: 88.2ms\tremaining: 98.2ms\n",
      "71:\tlearn: 19.2214311\ttotal: 89.4ms\tremaining: 96.9ms\n",
      "72:\tlearn: 19.1792064\ttotal: 90.6ms\tremaining: 95.6ms\n",
      "73:\tlearn: 19.1380718\ttotal: 91.8ms\tremaining: 94.3ms\n",
      "74:\tlearn: 19.0745655\ttotal: 93ms\tremaining: 93ms\n",
      "75:\tlearn: 19.0269809\ttotal: 94.3ms\tremaining: 91.8ms\n",
      "76:\tlearn: 18.9784014\ttotal: 95.6ms\tremaining: 90.6ms\n",
      "77:\tlearn: 18.9238370\ttotal: 96.9ms\tremaining: 89.5ms\n",
      "78:\tlearn: 18.8413383\ttotal: 98.3ms\tremaining: 88.3ms\n",
      "79:\tlearn: 18.7841917\ttotal: 99.5ms\tremaining: 87ms\n",
      "80:\tlearn: 18.7413410\ttotal: 101ms\tremaining: 85.9ms\n",
      "81:\tlearn: 18.7324748\ttotal: 102ms\tremaining: 84.6ms\n",
      "82:\tlearn: 18.7041511\ttotal: 103ms\tremaining: 83.4ms\n",
      "83:\tlearn: 18.6745446\ttotal: 105ms\tremaining: 82.2ms\n",
      "84:\tlearn: 18.6343737\ttotal: 106ms\tremaining: 81ms\n",
      "85:\tlearn: 18.5952452\ttotal: 107ms\tremaining: 79.7ms\n",
      "86:\tlearn: 18.5721031\ttotal: 108ms\tremaining: 78.5ms\n",
      "87:\tlearn: 18.5296761\ttotal: 110ms\tremaining: 77.2ms\n",
      "88:\tlearn: 18.4914332\ttotal: 111ms\tremaining: 76ms\n",
      "89:\tlearn: 18.4479913\ttotal: 112ms\tremaining: 74.8ms\n",
      "90:\tlearn: 18.4233748\ttotal: 114ms\tremaining: 73.6ms\n",
      "91:\tlearn: 18.3936970\ttotal: 115ms\tremaining: 72.4ms\n",
      "92:\tlearn: 18.3745085\ttotal: 116ms\tremaining: 71.1ms\n",
      "93:\tlearn: 18.3453900\ttotal: 117ms\tremaining: 69.9ms\n",
      "94:\tlearn: 18.3036232\ttotal: 119ms\tremaining: 68.7ms\n",
      "95:\tlearn: 18.2940663\ttotal: 120ms\tremaining: 67.4ms\n",
      "96:\tlearn: 18.2546916\ttotal: 121ms\tremaining: 66.1ms\n",
      "97:\tlearn: 18.2175529\ttotal: 122ms\tremaining: 64.9ms\n",
      "98:\tlearn: 18.1759494\ttotal: 124ms\tremaining: 63.7ms\n",
      "99:\tlearn: 18.1553087\ttotal: 125ms\tremaining: 62.4ms\n",
      "100:\tlearn: 18.0739124\ttotal: 126ms\tremaining: 61.2ms\n",
      "101:\tlearn: 18.0180047\ttotal: 127ms\tremaining: 59.9ms\n",
      "102:\tlearn: 17.9741647\ttotal: 129ms\tremaining: 58.7ms\n",
      "103:\tlearn: 17.9394688\ttotal: 130ms\tremaining: 57.4ms\n",
      "104:\tlearn: 17.8870544\ttotal: 131ms\tremaining: 56.2ms\n",
      "105:\tlearn: 17.8429061\ttotal: 132ms\tremaining: 54.9ms\n",
      "106:\tlearn: 17.8230148\ttotal: 134ms\tremaining: 53.7ms\n",
      "107:\tlearn: 17.7977152\ttotal: 135ms\tremaining: 52.4ms\n",
      "108:\tlearn: 17.7887635\ttotal: 136ms\tremaining: 51.2ms\n",
      "109:\tlearn: 17.7330992\ttotal: 137ms\tremaining: 49.9ms\n",
      "110:\tlearn: 17.7035750\ttotal: 138ms\tremaining: 48.7ms\n",
      "111:\tlearn: 17.6557666\ttotal: 140ms\tremaining: 47.4ms\n",
      "112:\tlearn: 17.6108730\ttotal: 141ms\tremaining: 46.2ms\n",
      "113:\tlearn: 17.5816173\ttotal: 142ms\tremaining: 44.9ms\n",
      "114:\tlearn: 17.5490125\ttotal: 143ms\tremaining: 43.7ms\n",
      "115:\tlearn: 17.5024385\ttotal: 145ms\tremaining: 42.4ms\n",
      "116:\tlearn: 17.4754955\ttotal: 146ms\tremaining: 41.1ms\n",
      "117:\tlearn: 17.4551661\ttotal: 147ms\tremaining: 39.9ms\n",
      "118:\tlearn: 17.4120488\ttotal: 148ms\tremaining: 38.6ms\n",
      "119:\tlearn: 17.3847318\ttotal: 150ms\tremaining: 37.4ms\n",
      "120:\tlearn: 17.3558981\ttotal: 151ms\tremaining: 36.1ms\n",
      "121:\tlearn: 17.3106644\ttotal: 152ms\tremaining: 34.9ms\n",
      "122:\tlearn: 17.2805508\ttotal: 153ms\tremaining: 33.6ms\n",
      "123:\tlearn: 17.2659499\ttotal: 154ms\tremaining: 32.4ms\n",
      "124:\tlearn: 17.2345253\ttotal: 156ms\tremaining: 31.1ms\n",
      "125:\tlearn: 17.1795882\ttotal: 157ms\tremaining: 29.9ms\n",
      "126:\tlearn: 17.1377502\ttotal: 158ms\tremaining: 28.6ms\n",
      "127:\tlearn: 17.1064306\ttotal: 159ms\tremaining: 27.4ms\n",
      "128:\tlearn: 17.1005429\ttotal: 160ms\tremaining: 26.1ms\n",
      "129:\tlearn: 17.0647991\ttotal: 162ms\tremaining: 24.9ms\n",
      "130:\tlearn: 17.0393269\ttotal: 163ms\tremaining: 23.6ms\n",
      "131:\tlearn: 16.9903815\ttotal: 164ms\tremaining: 22.3ms\n",
      "132:\tlearn: 16.9803922\ttotal: 165ms\tremaining: 21.1ms\n",
      "133:\tlearn: 16.9051626\ttotal: 166ms\tremaining: 19.8ms\n",
      "134:\tlearn: 16.8859693\ttotal: 167ms\tremaining: 18.6ms\n",
      "135:\tlearn: 16.8603998\ttotal: 168ms\tremaining: 17.3ms\n",
      "136:\tlearn: 16.8530112\ttotal: 170ms\tremaining: 16.1ms\n",
      "137:\tlearn: 16.8088097\ttotal: 171ms\tremaining: 14.9ms\n",
      "138:\tlearn: 16.7766532\ttotal: 172ms\tremaining: 13.6ms\n",
      "139:\tlearn: 16.7518770\ttotal: 174ms\tremaining: 12.4ms\n",
      "140:\tlearn: 16.7190408\ttotal: 175ms\tremaining: 11.2ms\n",
      "141:\tlearn: 16.6834582\ttotal: 177ms\tremaining: 9.95ms\n",
      "142:\tlearn: 16.6630466\ttotal: 178ms\tremaining: 8.7ms\n",
      "143:\tlearn: 16.6576358\ttotal: 179ms\tremaining: 7.46ms\n",
      "144:\tlearn: 16.6229183\ttotal: 180ms\tremaining: 6.21ms\n",
      "145:\tlearn: 16.5996958\ttotal: 181ms\tremaining: 4.97ms\n",
      "146:\tlearn: 16.5497573\ttotal: 183ms\tremaining: 3.72ms\n",
      "147:\tlearn: 16.5266113\ttotal: 184ms\tremaining: 2.48ms\n",
      "148:\tlearn: 16.5050163\ttotal: 185ms\tremaining: 1.24ms\n",
      "149:\tlearn: 16.4570681\ttotal: 186ms\tremaining: 0us\n",
      "Learning rate set to 0.227263\n",
      "0:\tlearn: 30.8034442\ttotal: 1.67ms\tremaining: 249ms\n",
      "1:\tlearn: 29.3602940\ttotal: 3.08ms\tremaining: 228ms\n",
      "2:\tlearn: 28.2427920\ttotal: 4.4ms\tremaining: 216ms\n",
      "3:\tlearn: 27.3784309\ttotal: 5.84ms\tremaining: 213ms\n",
      "4:\tlearn: 26.6191453\ttotal: 7.16ms\tremaining: 208ms\n",
      "5:\tlearn: 26.1739207\ttotal: 8.59ms\tremaining: 206ms\n",
      "6:\tlearn: 25.6150643\ttotal: 9.98ms\tremaining: 204ms\n",
      "7:\tlearn: 25.1664554\ttotal: 11.3ms\tremaining: 200ms\n",
      "8:\tlearn: 24.9271403\ttotal: 12.6ms\tremaining: 198ms\n",
      "9:\tlearn: 24.7217907\ttotal: 14.1ms\tremaining: 197ms\n",
      "10:\tlearn: 24.5572987\ttotal: 15.3ms\tremaining: 194ms\n",
      "11:\tlearn: 24.4233129\ttotal: 16.7ms\tremaining: 192ms\n",
      "12:\tlearn: 24.2447457\ttotal: 18.1ms\tremaining: 190ms\n",
      "13:\tlearn: 24.0907977\ttotal: 19.4ms\tremaining: 189ms\n",
      "14:\tlearn: 23.9280739\ttotal: 20.7ms\tremaining: 186ms\n",
      "15:\tlearn: 23.7943301\ttotal: 22ms\tremaining: 184ms\n",
      "16:\tlearn: 23.6827026\ttotal: 23.3ms\tremaining: 182ms\n",
      "17:\tlearn: 23.5570608\ttotal: 24.7ms\tremaining: 181ms\n",
      "18:\tlearn: 23.4367523\ttotal: 26ms\tremaining: 179ms\n",
      "19:\tlearn: 23.2320447\ttotal: 27.3ms\tremaining: 177ms\n",
      "20:\tlearn: 23.0754826\ttotal: 28.6ms\tremaining: 176ms\n",
      "21:\tlearn: 22.9980365\ttotal: 30.1ms\tremaining: 175ms\n",
      "22:\tlearn: 22.9460641\ttotal: 31.5ms\tremaining: 174ms\n",
      "23:\tlearn: 22.8794244\ttotal: 32.8ms\tremaining: 172ms\n",
      "24:\tlearn: 22.8210347\ttotal: 34.1ms\tremaining: 170ms\n",
      "25:\tlearn: 22.7435085\ttotal: 35.4ms\tremaining: 169ms\n",
      "26:\tlearn: 22.6815494\ttotal: 36.8ms\tremaining: 168ms\n",
      "27:\tlearn: 22.5454533\ttotal: 38.1ms\tremaining: 166ms\n",
      "28:\tlearn: 22.4648799\ttotal: 39.4ms\tremaining: 164ms\n",
      "29:\tlearn: 22.4179400\ttotal: 40.7ms\tremaining: 163ms\n",
      "30:\tlearn: 22.3118289\ttotal: 42ms\tremaining: 161ms\n",
      "31:\tlearn: 22.2181580\ttotal: 43.4ms\tremaining: 160ms\n",
      "32:\tlearn: 22.1594248\ttotal: 44.8ms\tremaining: 159ms\n",
      "33:\tlearn: 22.1083075\ttotal: 46.1ms\tremaining: 157ms\n",
      "34:\tlearn: 22.0574368\ttotal: 47.5ms\tremaining: 156ms\n",
      "35:\tlearn: 22.0279370\ttotal: 48.8ms\tremaining: 155ms\n",
      "36:\tlearn: 21.9469229\ttotal: 50.3ms\tremaining: 153ms\n",
      "37:\tlearn: 21.8952716\ttotal: 51.6ms\tremaining: 152ms\n",
      "38:\tlearn: 21.8551009\ttotal: 53ms\tremaining: 151ms\n",
      "39:\tlearn: 21.8010919\ttotal: 54.3ms\tremaining: 149ms\n",
      "40:\tlearn: 21.7398390\ttotal: 55.7ms\tremaining: 148ms\n",
      "41:\tlearn: 21.6746952\ttotal: 57.1ms\tremaining: 147ms\n",
      "42:\tlearn: 21.6288731\ttotal: 58.5ms\tremaining: 146ms\n",
      "43:\tlearn: 21.5576575\ttotal: 59.8ms\tremaining: 144ms\n",
      "44:\tlearn: 21.5069481\ttotal: 61.2ms\tremaining: 143ms\n",
      "45:\tlearn: 21.4319247\ttotal: 62.6ms\tremaining: 141ms\n",
      "46:\tlearn: 21.3755120\ttotal: 63.9ms\tremaining: 140ms\n",
      "47:\tlearn: 21.3212231\ttotal: 65.2ms\tremaining: 139ms\n",
      "48:\tlearn: 21.2908446\ttotal: 66.4ms\tremaining: 137ms\n",
      "49:\tlearn: 21.2368977\ttotal: 67.7ms\tremaining: 135ms\n",
      "50:\tlearn: 21.2119439\ttotal: 69ms\tremaining: 134ms\n",
      "51:\tlearn: 21.1665747\ttotal: 70.3ms\tremaining: 133ms\n",
      "52:\tlearn: 21.1083288\ttotal: 71.7ms\tremaining: 131ms\n",
      "53:\tlearn: 21.0962998\ttotal: 73ms\tremaining: 130ms\n",
      "54:\tlearn: 21.0466775\ttotal: 74.2ms\tremaining: 128ms\n",
      "55:\tlearn: 20.9829592\ttotal: 75.7ms\tremaining: 127ms\n",
      "56:\tlearn: 20.9413961\ttotal: 77.1ms\tremaining: 126ms\n",
      "57:\tlearn: 20.8868062\ttotal: 78.4ms\tremaining: 124ms\n",
      "58:\tlearn: 20.8412228\ttotal: 79.8ms\tremaining: 123ms\n",
      "59:\tlearn: 20.7863835\ttotal: 81.1ms\tremaining: 122ms\n",
      "60:\tlearn: 20.7556041\ttotal: 82.5ms\tremaining: 120ms\n",
      "61:\tlearn: 20.7138835\ttotal: 83.8ms\tremaining: 119ms\n",
      "62:\tlearn: 20.6372914\ttotal: 85.2ms\tremaining: 118ms\n",
      "63:\tlearn: 20.5886369\ttotal: 86.5ms\tremaining: 116ms\n",
      "64:\tlearn: 20.5538496\ttotal: 87.9ms\tremaining: 115ms\n",
      "65:\tlearn: 20.5123021\ttotal: 89.2ms\tremaining: 114ms\n",
      "66:\tlearn: 20.4358183\ttotal: 90.6ms\tremaining: 112ms\n",
      "67:\tlearn: 20.4028171\ttotal: 92.1ms\tremaining: 111ms\n",
      "68:\tlearn: 20.3510847\ttotal: 93.4ms\tremaining: 110ms\n",
      "69:\tlearn: 20.2589433\ttotal: 94.8ms\tremaining: 108ms\n",
      "70:\tlearn: 20.2118885\ttotal: 96.3ms\tremaining: 107ms\n",
      "71:\tlearn: 20.1839858\ttotal: 97.6ms\tremaining: 106ms\n",
      "72:\tlearn: 20.1566496\ttotal: 98.9ms\tremaining: 104ms\n",
      "73:\tlearn: 20.1088714\ttotal: 100ms\tremaining: 103ms\n",
      "74:\tlearn: 20.0479041\ttotal: 102ms\tremaining: 102ms\n",
      "75:\tlearn: 20.0232126\ttotal: 103ms\tremaining: 100ms\n",
      "76:\tlearn: 19.9862928\ttotal: 104ms\tremaining: 98.9ms\n",
      "77:\tlearn: 19.9511533\ttotal: 106ms\tremaining: 97.4ms\n",
      "78:\tlearn: 19.9335637\ttotal: 107ms\tremaining: 96.1ms\n",
      "79:\tlearn: 19.9195980\ttotal: 108ms\tremaining: 94.7ms\n",
      "80:\tlearn: 19.8844822\ttotal: 110ms\tremaining: 93.3ms\n",
      "81:\tlearn: 19.8400020\ttotal: 111ms\tremaining: 92.1ms\n",
      "82:\tlearn: 19.7954277\ttotal: 113ms\tremaining: 90.8ms\n",
      "83:\tlearn: 19.7688096\ttotal: 114ms\tremaining: 89.5ms\n",
      "84:\tlearn: 19.7346287\ttotal: 115ms\tremaining: 88.2ms\n",
      "85:\tlearn: 19.7051053\ttotal: 117ms\tremaining: 86.9ms\n",
      "86:\tlearn: 19.6544654\ttotal: 118ms\tremaining: 85.5ms\n",
      "87:\tlearn: 19.6176217\ttotal: 120ms\tremaining: 84.6ms\n",
      "88:\tlearn: 19.5752000\ttotal: 121ms\tremaining: 83.2ms\n",
      "89:\tlearn: 19.5383464\ttotal: 123ms\tremaining: 81.8ms\n",
      "90:\tlearn: 19.4894967\ttotal: 124ms\tremaining: 80.5ms\n",
      "91:\tlearn: 19.4764509\ttotal: 125ms\tremaining: 79.1ms\n",
      "92:\tlearn: 19.4453578\ttotal: 127ms\tremaining: 77.8ms\n",
      "93:\tlearn: 19.4144872\ttotal: 128ms\tremaining: 76.5ms\n",
      "94:\tlearn: 19.3741300\ttotal: 130ms\tremaining: 75.4ms\n",
      "95:\tlearn: 19.3354795\ttotal: 132ms\tremaining: 74.1ms\n",
      "96:\tlearn: 19.2856786\ttotal: 133ms\tremaining: 72.8ms\n",
      "97:\tlearn: 19.2654404\ttotal: 135ms\tremaining: 71.5ms\n",
      "98:\tlearn: 19.2317654\ttotal: 136ms\tremaining: 70.2ms\n",
      "99:\tlearn: 19.2128494\ttotal: 138ms\tremaining: 68.8ms\n",
      "100:\tlearn: 19.1903168\ttotal: 139ms\tremaining: 67.5ms\n",
      "101:\tlearn: 19.1347688\ttotal: 141ms\tremaining: 66.2ms\n",
      "102:\tlearn: 19.1173727\ttotal: 142ms\tremaining: 64.8ms\n",
      "103:\tlearn: 19.0798999\ttotal: 144ms\tremaining: 63.5ms\n",
      "104:\tlearn: 19.0349910\ttotal: 145ms\tremaining: 62.1ms\n",
      "105:\tlearn: 19.0126200\ttotal: 146ms\tremaining: 60.7ms\n",
      "106:\tlearn: 18.9846442\ttotal: 148ms\tremaining: 59.3ms\n",
      "107:\tlearn: 18.9383330\ttotal: 149ms\tremaining: 57.9ms\n",
      "108:\tlearn: 18.8859791\ttotal: 150ms\tremaining: 56.5ms\n",
      "109:\tlearn: 18.8613092\ttotal: 152ms\tremaining: 55.2ms\n",
      "110:\tlearn: 18.8374642\ttotal: 153ms\tremaining: 53.8ms\n",
      "111:\tlearn: 18.8289596\ttotal: 154ms\tremaining: 52.3ms\n",
      "112:\tlearn: 18.8220886\ttotal: 156ms\tremaining: 50.9ms\n",
      "113:\tlearn: 18.7874030\ttotal: 157ms\tremaining: 49.5ms\n",
      "114:\tlearn: 18.7546904\ttotal: 158ms\tremaining: 48.1ms\n",
      "115:\tlearn: 18.7130162\ttotal: 160ms\tremaining: 46.8ms\n",
      "116:\tlearn: 18.6810991\ttotal: 161ms\tremaining: 45.4ms\n",
      "117:\tlearn: 18.6494323\ttotal: 162ms\tremaining: 44ms\n",
      "118:\tlearn: 18.6026298\ttotal: 164ms\tremaining: 42.6ms\n",
      "119:\tlearn: 18.5756293\ttotal: 165ms\tremaining: 41.2ms\n",
      "120:\tlearn: 18.5525131\ttotal: 166ms\tremaining: 39.8ms\n",
      "121:\tlearn: 18.5083097\ttotal: 168ms\tremaining: 38.5ms\n",
      "122:\tlearn: 18.5007227\ttotal: 169ms\tremaining: 37.1ms\n",
      "123:\tlearn: 18.4675311\ttotal: 170ms\tremaining: 35.7ms\n",
      "124:\tlearn: 18.4260678\ttotal: 172ms\tremaining: 34.3ms\n",
      "125:\tlearn: 18.3999814\ttotal: 173ms\tremaining: 33ms\n",
      "126:\tlearn: 18.3444295\ttotal: 174ms\tremaining: 31.6ms\n",
      "127:\tlearn: 18.3093076\ttotal: 176ms\tremaining: 30.2ms\n",
      "128:\tlearn: 18.2835502\ttotal: 177ms\tremaining: 28.9ms\n",
      "129:\tlearn: 18.2643007\ttotal: 179ms\tremaining: 27.5ms\n",
      "130:\tlearn: 18.2258000\ttotal: 180ms\tremaining: 26.1ms\n",
      "131:\tlearn: 18.2062112\ttotal: 181ms\tremaining: 24.7ms\n",
      "132:\tlearn: 18.1608599\ttotal: 183ms\tremaining: 23.4ms\n",
      "133:\tlearn: 18.1203976\ttotal: 184ms\tremaining: 22ms\n",
      "134:\tlearn: 18.0953516\ttotal: 185ms\tremaining: 20.6ms\n",
      "135:\tlearn: 18.0637620\ttotal: 187ms\tremaining: 19.2ms\n",
      "136:\tlearn: 18.0390710\ttotal: 188ms\tremaining: 17.8ms\n",
      "137:\tlearn: 18.0063719\ttotal: 189ms\tremaining: 16.5ms\n",
      "138:\tlearn: 17.9701617\ttotal: 191ms\tremaining: 15.1ms\n",
      "139:\tlearn: 17.9268829\ttotal: 192ms\tremaining: 13.7ms\n",
      "140:\tlearn: 17.8964569\ttotal: 194ms\tremaining: 12.4ms\n",
      "141:\tlearn: 17.8834166\ttotal: 195ms\tremaining: 11ms\n",
      "142:\tlearn: 17.8792194\ttotal: 196ms\tremaining: 9.61ms\n",
      "143:\tlearn: 17.8582526\ttotal: 198ms\tremaining: 8.23ms\n",
      "144:\tlearn: 17.8344202\ttotal: 199ms\tremaining: 6.86ms\n",
      "145:\tlearn: 17.8227025\ttotal: 200ms\tremaining: 5.48ms\n",
      "146:\tlearn: 17.8176433\ttotal: 201ms\tremaining: 4.11ms\n",
      "147:\tlearn: 17.7926455\ttotal: 203ms\tremaining: 2.74ms\n",
      "148:\tlearn: 17.7682914\ttotal: 204ms\tremaining: 1.37ms\n",
      "149:\tlearn: 17.7405766\ttotal: 205ms\tremaining: 0us\n",
      "Learning rate set to 0.139541\n",
      "0:\tlearn: 28.4471149\ttotal: 883us\tremaining: 176ms\n",
      "1:\tlearn: 27.6160769\ttotal: 1.63ms\tremaining: 161ms\n",
      "2:\tlearn: 26.9168459\ttotal: 2.4ms\tremaining: 157ms\n",
      "3:\tlearn: 26.3104106\ttotal: 3.09ms\tremaining: 151ms\n",
      "4:\tlearn: 25.6007665\ttotal: 3.81ms\tremaining: 149ms\n",
      "5:\tlearn: 25.0112299\ttotal: 4.51ms\tremaining: 146ms\n",
      "6:\tlearn: 24.6873231\ttotal: 5.28ms\tremaining: 146ms\n",
      "7:\tlearn: 24.3283784\ttotal: 5.98ms\tremaining: 144ms\n",
      "8:\tlearn: 24.0032320\ttotal: 6.73ms\tremaining: 143ms\n",
      "9:\tlearn: 23.7326574\ttotal: 7.51ms\tremaining: 143ms\n",
      "10:\tlearn: 23.3812664\ttotal: 8.39ms\tremaining: 144ms\n",
      "11:\tlearn: 23.1778120\ttotal: 9.25ms\tremaining: 145ms\n",
      "12:\tlearn: 22.8619977\ttotal: 9.99ms\tremaining: 144ms\n",
      "13:\tlearn: 22.5682674\ttotal: 10.7ms\tremaining: 143ms\n",
      "14:\tlearn: 22.3190924\ttotal: 11.5ms\tremaining: 142ms\n",
      "15:\tlearn: 22.2213403\ttotal: 12.3ms\tremaining: 141ms\n",
      "16:\tlearn: 22.0276680\ttotal: 13.2ms\tremaining: 142ms\n",
      "17:\tlearn: 21.8431575\ttotal: 13.9ms\tremaining: 141ms\n",
      "18:\tlearn: 21.6196685\ttotal: 14.7ms\tremaining: 140ms\n",
      "19:\tlearn: 21.4445469\ttotal: 15.4ms\tremaining: 138ms\n",
      "20:\tlearn: 21.0912685\ttotal: 16.2ms\tremaining: 138ms\n",
      "21:\tlearn: 20.9639489\ttotal: 17ms\tremaining: 137ms\n",
      "22:\tlearn: 20.8554600\ttotal: 17.6ms\tremaining: 136ms\n",
      "23:\tlearn: 20.6761045\ttotal: 18.4ms\tremaining: 135ms\n",
      "24:\tlearn: 20.5687853\ttotal: 19.1ms\tremaining: 133ms\n",
      "25:\tlearn: 20.4898734\ttotal: 19.8ms\tremaining: 132ms\n",
      "26:\tlearn: 20.2827733\ttotal: 20.5ms\tremaining: 131ms\n",
      "27:\tlearn: 20.2132908\ttotal: 21.2ms\tremaining: 130ms\n",
      "28:\tlearn: 20.1707640\ttotal: 21.9ms\tremaining: 129ms\n",
      "29:\tlearn: 20.0682829\ttotal: 22.7ms\tremaining: 129ms\n",
      "30:\tlearn: 19.9617399\ttotal: 23.5ms\tremaining: 128ms\n",
      "31:\tlearn: 19.8633476\ttotal: 24.4ms\tremaining: 128ms\n",
      "32:\tlearn: 19.7563568\ttotal: 25.4ms\tremaining: 128ms\n",
      "33:\tlearn: 19.6058016\ttotal: 26.1ms\tremaining: 128ms\n",
      "34:\tlearn: 19.5305088\ttotal: 26.9ms\tremaining: 127ms\n",
      "35:\tlearn: 19.4875249\ttotal: 27.7ms\tremaining: 126ms\n",
      "36:\tlearn: 19.2889041\ttotal: 28.5ms\tremaining: 126ms\n",
      "37:\tlearn: 19.2172117\ttotal: 29.2ms\tremaining: 124ms\n",
      "38:\tlearn: 19.1398143\ttotal: 30ms\tremaining: 124ms\n",
      "39:\tlearn: 19.0425758\ttotal: 30.7ms\tremaining: 123ms\n",
      "40:\tlearn: 18.9255715\ttotal: 31.5ms\tremaining: 122ms\n",
      "41:\tlearn: 18.8373177\ttotal: 32.2ms\tremaining: 121ms\n",
      "42:\tlearn: 18.7699009\ttotal: 33ms\tremaining: 120ms\n",
      "43:\tlearn: 18.6217156\ttotal: 33.7ms\tremaining: 119ms\n",
      "44:\tlearn: 18.4708461\ttotal: 34.5ms\tremaining: 119ms\n",
      "45:\tlearn: 18.4063798\ttotal: 35.2ms\tremaining: 118ms\n",
      "46:\tlearn: 18.3094533\ttotal: 35.9ms\tremaining: 117ms\n",
      "47:\tlearn: 18.2500172\ttotal: 36.6ms\tremaining: 116ms\n",
      "48:\tlearn: 18.1260722\ttotal: 37.7ms\tremaining: 116ms\n",
      "49:\tlearn: 18.0633078\ttotal: 38.5ms\tremaining: 115ms\n",
      "50:\tlearn: 17.9976476\ttotal: 39.3ms\tremaining: 115ms\n",
      "51:\tlearn: 17.8111728\ttotal: 40ms\tremaining: 114ms\n",
      "52:\tlearn: 17.6564282\ttotal: 40.7ms\tremaining: 113ms\n",
      "53:\tlearn: 17.5880836\ttotal: 41.4ms\tremaining: 112ms\n",
      "54:\tlearn: 17.5413978\ttotal: 42.1ms\tremaining: 111ms\n",
      "55:\tlearn: 17.4164431\ttotal: 42.8ms\tremaining: 110ms\n",
      "56:\tlearn: 17.3831848\ttotal: 43.6ms\tremaining: 109ms\n",
      "57:\tlearn: 17.3316573\ttotal: 44.3ms\tremaining: 108ms\n",
      "58:\tlearn: 17.2301433\ttotal: 45ms\tremaining: 108ms\n",
      "59:\tlearn: 17.1355837\ttotal: 45.7ms\tremaining: 107ms\n",
      "60:\tlearn: 17.0810042\ttotal: 46.4ms\tremaining: 106ms\n",
      "61:\tlearn: 17.0098222\ttotal: 47.3ms\tremaining: 105ms\n",
      "62:\tlearn: 16.9112734\ttotal: 48ms\tremaining: 104ms\n",
      "63:\tlearn: 16.7968601\ttotal: 48.7ms\tremaining: 104ms\n",
      "64:\tlearn: 16.7435357\ttotal: 49.4ms\tremaining: 103ms\n",
      "65:\tlearn: 16.7048750\ttotal: 50.1ms\tremaining: 102ms\n",
      "66:\tlearn: 16.6475808\ttotal: 50.8ms\tremaining: 101ms\n",
      "67:\tlearn: 16.6167511\ttotal: 51.5ms\tremaining: 100ms\n",
      "68:\tlearn: 16.5404802\ttotal: 52.3ms\tremaining: 99.2ms\n",
      "69:\tlearn: 16.4887407\ttotal: 53ms\tremaining: 98.5ms\n",
      "70:\tlearn: 16.4336390\ttotal: 53.7ms\tremaining: 97.5ms\n",
      "71:\tlearn: 16.3404933\ttotal: 54.4ms\tremaining: 96.7ms\n",
      "72:\tlearn: 16.2559644\ttotal: 55.2ms\tremaining: 96.1ms\n",
      "73:\tlearn: 16.1934224\ttotal: 56ms\tremaining: 95.3ms\n",
      "74:\tlearn: 16.1304737\ttotal: 56.7ms\tremaining: 94.4ms\n",
      "75:\tlearn: 16.0290269\ttotal: 57.3ms\tremaining: 93.6ms\n",
      "76:\tlearn: 15.9496515\ttotal: 58.1ms\tremaining: 92.8ms\n",
      "77:\tlearn: 15.9167928\ttotal: 58.8ms\tremaining: 91.9ms\n",
      "78:\tlearn: 15.8401157\ttotal: 59.5ms\tremaining: 91.2ms\n",
      "79:\tlearn: 15.7825068\ttotal: 60.2ms\tremaining: 90.3ms\n",
      "80:\tlearn: 15.6788453\ttotal: 61ms\tremaining: 89.6ms\n",
      "81:\tlearn: 15.6058254\ttotal: 61.7ms\tremaining: 88.8ms\n",
      "82:\tlearn: 15.4730803\ttotal: 62.4ms\tremaining: 88ms\n",
      "83:\tlearn: 15.4309181\ttotal: 63.1ms\tremaining: 87.2ms\n",
      "84:\tlearn: 15.3498625\ttotal: 63.9ms\tremaining: 86.4ms\n",
      "85:\tlearn: 15.3255035\ttotal: 64.6ms\tremaining: 85.6ms\n",
      "86:\tlearn: 15.2698335\ttotal: 65.3ms\tremaining: 84.9ms\n",
      "87:\tlearn: 15.2377441\ttotal: 66ms\tremaining: 84ms\n",
      "88:\tlearn: 15.1757796\ttotal: 66.8ms\tremaining: 83.3ms\n",
      "89:\tlearn: 15.0874788\ttotal: 67.7ms\tremaining: 82.7ms\n",
      "90:\tlearn: 15.0273899\ttotal: 68.4ms\tremaining: 81.9ms\n",
      "91:\tlearn: 15.0011262\ttotal: 69.2ms\tremaining: 81.2ms\n",
      "92:\tlearn: 14.9074807\ttotal: 69.9ms\tremaining: 80.4ms\n",
      "93:\tlearn: 14.8492112\ttotal: 70.6ms\tremaining: 79.6ms\n",
      "94:\tlearn: 14.8010072\ttotal: 71.3ms\tremaining: 78.8ms\n",
      "95:\tlearn: 14.7775517\ttotal: 72ms\tremaining: 78ms\n",
      "96:\tlearn: 14.7608201\ttotal: 72.7ms\tremaining: 77.2ms\n",
      "97:\tlearn: 14.7077432\ttotal: 73.5ms\tremaining: 76.5ms\n",
      "98:\tlearn: 14.6401401\ttotal: 74.2ms\tremaining: 75.7ms\n",
      "99:\tlearn: 14.6216564\ttotal: 75ms\tremaining: 75ms\n",
      "100:\tlearn: 14.6114810\ttotal: 75.7ms\tremaining: 74.2ms\n",
      "101:\tlearn: 14.5557838\ttotal: 76.4ms\tremaining: 73.4ms\n",
      "102:\tlearn: 14.4949218\ttotal: 77.1ms\tremaining: 72.6ms\n",
      "103:\tlearn: 14.4142898\ttotal: 77.9ms\tremaining: 71.9ms\n",
      "104:\tlearn: 14.3614671\ttotal: 78.6ms\tremaining: 71.1ms\n",
      "105:\tlearn: 14.3405763\ttotal: 79.4ms\tremaining: 70.4ms\n",
      "106:\tlearn: 14.2646083\ttotal: 80.1ms\tremaining: 69.6ms\n",
      "107:\tlearn: 14.2548035\ttotal: 80.8ms\tremaining: 68.8ms\n",
      "108:\tlearn: 14.2186745\ttotal: 81.5ms\tremaining: 68ms\n",
      "109:\tlearn: 14.2026140\ttotal: 82.2ms\tremaining: 67.2ms\n",
      "110:\tlearn: 14.1617286\ttotal: 82.9ms\tremaining: 66.5ms\n",
      "111:\tlearn: 14.1108435\ttotal: 83.6ms\tremaining: 65.7ms\n",
      "112:\tlearn: 14.0444544\ttotal: 84.4ms\tremaining: 65ms\n",
      "113:\tlearn: 14.0266801\ttotal: 85.2ms\tremaining: 64.3ms\n",
      "114:\tlearn: 13.9877802\ttotal: 85.9ms\tremaining: 63.5ms\n",
      "115:\tlearn: 13.9716042\ttotal: 86.5ms\tremaining: 62.7ms\n",
      "116:\tlearn: 13.9069358\ttotal: 87.2ms\tremaining: 61.9ms\n",
      "117:\tlearn: 13.8526230\ttotal: 87.9ms\tremaining: 61.1ms\n",
      "118:\tlearn: 13.8349707\ttotal: 88.7ms\tremaining: 60.3ms\n",
      "119:\tlearn: 13.7689804\ttotal: 89.4ms\tremaining: 59.6ms\n",
      "120:\tlearn: 13.7514162\ttotal: 90ms\tremaining: 58.8ms\n",
      "121:\tlearn: 13.7237625\ttotal: 90.8ms\tremaining: 58ms\n",
      "122:\tlearn: 13.6472944\ttotal: 91.5ms\tremaining: 57.3ms\n",
      "123:\tlearn: 13.6160802\ttotal: 92.2ms\tremaining: 56.5ms\n",
      "124:\tlearn: 13.5590314\ttotal: 92.9ms\tremaining: 55.8ms\n",
      "125:\tlearn: 13.4767127\ttotal: 93.6ms\tremaining: 55ms\n",
      "126:\tlearn: 13.4551538\ttotal: 94.3ms\tremaining: 54.2ms\n",
      "127:\tlearn: 13.4119369\ttotal: 95.1ms\tremaining: 53.5ms\n",
      "128:\tlearn: 13.3765511\ttotal: 95.7ms\tremaining: 52.7ms\n",
      "129:\tlearn: 13.3609826\ttotal: 96.5ms\tremaining: 51.9ms\n",
      "130:\tlearn: 13.3382043\ttotal: 97.2ms\tremaining: 51.2ms\n",
      "131:\tlearn: 13.2888731\ttotal: 97.8ms\tremaining: 50.4ms\n",
      "132:\tlearn: 13.2398219\ttotal: 98.7ms\tremaining: 49.7ms\n",
      "133:\tlearn: 13.2097563\ttotal: 99.4ms\tremaining: 49ms\n",
      "134:\tlearn: 13.1882985\ttotal: 100ms\tremaining: 48.2ms\n",
      "135:\tlearn: 13.1296807\ttotal: 101ms\tremaining: 47.4ms\n",
      "136:\tlearn: 13.0941271\ttotal: 102ms\tremaining: 46.7ms\n",
      "137:\tlearn: 13.0461363\ttotal: 102ms\tremaining: 45.9ms\n",
      "138:\tlearn: 12.9936655\ttotal: 103ms\tremaining: 45.2ms\n",
      "139:\tlearn: 12.9431631\ttotal: 104ms\tremaining: 44.4ms\n",
      "140:\tlearn: 12.9035009\ttotal: 104ms\tremaining: 43.6ms\n",
      "141:\tlearn: 12.8916300\ttotal: 105ms\tremaining: 42.9ms\n",
      "142:\tlearn: 12.8304849\ttotal: 106ms\tremaining: 42.1ms\n",
      "143:\tlearn: 12.8219502\ttotal: 106ms\tremaining: 41.4ms\n",
      "144:\tlearn: 12.8029998\ttotal: 107ms\tremaining: 40.6ms\n",
      "145:\tlearn: 12.7706475\ttotal: 108ms\tremaining: 39.9ms\n",
      "146:\tlearn: 12.7274605\ttotal: 108ms\tremaining: 39.1ms\n",
      "147:\tlearn: 12.6804256\ttotal: 109ms\tremaining: 38.3ms\n",
      "148:\tlearn: 12.6706082\ttotal: 110ms\tremaining: 37.6ms\n",
      "149:\tlearn: 12.5996497\ttotal: 110ms\tremaining: 36.8ms\n",
      "150:\tlearn: 12.5874067\ttotal: 111ms\tremaining: 36.1ms\n",
      "151:\tlearn: 12.5089420\ttotal: 112ms\tremaining: 35.3ms\n",
      "152:\tlearn: 12.4798553\ttotal: 113ms\tremaining: 34.6ms\n",
      "153:\tlearn: 12.4516549\ttotal: 113ms\tremaining: 33.8ms\n",
      "154:\tlearn: 12.4201553\ttotal: 114ms\tremaining: 33.1ms\n",
      "155:\tlearn: 12.3803636\ttotal: 115ms\tremaining: 32.3ms\n",
      "156:\tlearn: 12.3408511\ttotal: 116ms\tremaining: 31.6ms\n",
      "157:\tlearn: 12.2897381\ttotal: 116ms\tremaining: 30.9ms\n",
      "158:\tlearn: 12.2791753\ttotal: 117ms\tremaining: 30.1ms\n",
      "159:\tlearn: 12.2682416\ttotal: 118ms\tremaining: 29.4ms\n",
      "160:\tlearn: 12.2211881\ttotal: 118ms\tremaining: 28.7ms\n",
      "161:\tlearn: 12.1631862\ttotal: 119ms\tremaining: 28ms\n",
      "162:\tlearn: 12.1219448\ttotal: 120ms\tremaining: 27.2ms\n",
      "163:\tlearn: 12.0710004\ttotal: 121ms\tremaining: 26.5ms\n",
      "164:\tlearn: 12.0355071\ttotal: 121ms\tremaining: 25.7ms\n",
      "165:\tlearn: 12.0289592\ttotal: 122ms\tremaining: 25ms\n",
      "166:\tlearn: 11.9874956\ttotal: 123ms\tremaining: 24.3ms\n",
      "167:\tlearn: 11.9247178\ttotal: 123ms\tremaining: 23.5ms\n",
      "168:\tlearn: 11.9064262\ttotal: 124ms\tremaining: 22.8ms\n",
      "169:\tlearn: 11.8484766\ttotal: 125ms\tremaining: 22ms\n",
      "170:\tlearn: 11.8087582\ttotal: 126ms\tremaining: 21.3ms\n",
      "171:\tlearn: 11.7670682\ttotal: 126ms\tremaining: 20.6ms\n",
      "172:\tlearn: 11.7493921\ttotal: 127ms\tremaining: 19.8ms\n",
      "173:\tlearn: 11.7212728\ttotal: 128ms\tremaining: 19.1ms\n",
      "174:\tlearn: 11.6638518\ttotal: 128ms\tremaining: 18.4ms\n",
      "175:\tlearn: 11.6454062\ttotal: 129ms\tremaining: 17.6ms\n",
      "176:\tlearn: 11.6075144\ttotal: 130ms\tremaining: 16.9ms\n",
      "177:\tlearn: 11.6026675\ttotal: 131ms\tremaining: 16.1ms\n",
      "178:\tlearn: 11.5580489\ttotal: 131ms\tremaining: 15.4ms\n",
      "179:\tlearn: 11.5221399\ttotal: 132ms\tremaining: 14.7ms\n",
      "180:\tlearn: 11.4875180\ttotal: 133ms\tremaining: 13.9ms\n",
      "181:\tlearn: 11.4562637\ttotal: 133ms\tremaining: 13.2ms\n",
      "182:\tlearn: 11.4204183\ttotal: 134ms\tremaining: 12.5ms\n",
      "183:\tlearn: 11.4154753\ttotal: 135ms\tremaining: 11.7ms\n",
      "184:\tlearn: 11.3696669\ttotal: 136ms\tremaining: 11ms\n",
      "185:\tlearn: 11.3380825\ttotal: 136ms\tremaining: 10.3ms\n",
      "186:\tlearn: 11.3209257\ttotal: 137ms\tremaining: 9.53ms\n",
      "187:\tlearn: 11.3152193\ttotal: 138ms\tremaining: 8.79ms\n",
      "188:\tlearn: 11.2739213\ttotal: 138ms\tremaining: 8.06ms\n",
      "189:\tlearn: 11.2386193\ttotal: 139ms\tremaining: 7.32ms\n",
      "190:\tlearn: 11.1986616\ttotal: 140ms\tremaining: 6.59ms\n",
      "191:\tlearn: 11.1630326\ttotal: 141ms\tremaining: 5.86ms\n",
      "192:\tlearn: 11.1456736\ttotal: 141ms\tremaining: 5.12ms\n",
      "193:\tlearn: 11.1135369\ttotal: 142ms\tremaining: 4.39ms\n",
      "194:\tlearn: 11.0750864\ttotal: 143ms\tremaining: 3.66ms\n",
      "195:\tlearn: 11.0610161\ttotal: 143ms\tremaining: 2.93ms\n",
      "196:\tlearn: 11.0297972\ttotal: 144ms\tremaining: 2.19ms\n",
      "197:\tlearn: 11.0243339\ttotal: 145ms\tremaining: 1.46ms\n",
      "198:\tlearn: 10.9902372\ttotal: 145ms\tremaining: 730us\n",
      "199:\tlearn: 10.9529724\ttotal: 146ms\tremaining: 0us\n",
      "Learning rate set to 0.155649\n",
      "0:\tlearn: 28.1919419\ttotal: 1.08ms\tremaining: 216ms\n",
      "1:\tlearn: 27.4101225\ttotal: 2.02ms\tremaining: 200ms\n",
      "2:\tlearn: 26.5212215\ttotal: 3.02ms\tremaining: 198ms\n",
      "3:\tlearn: 25.8863224\ttotal: 3.99ms\tremaining: 195ms\n",
      "4:\tlearn: 25.2135156\ttotal: 4.97ms\tremaining: 194ms\n",
      "5:\tlearn: 24.6593702\ttotal: 5.92ms\tremaining: 192ms\n",
      "6:\tlearn: 24.2997130\ttotal: 6.8ms\tremaining: 187ms\n",
      "7:\tlearn: 23.8459138\ttotal: 7.76ms\tremaining: 186ms\n",
      "8:\tlearn: 23.5335744\ttotal: 8.67ms\tremaining: 184ms\n",
      "9:\tlearn: 23.0968083\ttotal: 9.56ms\tremaining: 182ms\n",
      "10:\tlearn: 22.9182005\ttotal: 10.6ms\tremaining: 182ms\n",
      "11:\tlearn: 22.7586306\ttotal: 11.5ms\tremaining: 180ms\n",
      "12:\tlearn: 22.4438476\ttotal: 12.5ms\tremaining: 179ms\n",
      "13:\tlearn: 22.1827916\ttotal: 13.4ms\tremaining: 178ms\n",
      "14:\tlearn: 22.0021323\ttotal: 14.4ms\tremaining: 177ms\n",
      "15:\tlearn: 21.8382040\ttotal: 15.4ms\tremaining: 177ms\n",
      "16:\tlearn: 21.6231025\ttotal: 16.3ms\tremaining: 176ms\n",
      "17:\tlearn: 21.5163056\ttotal: 17.4ms\tremaining: 175ms\n",
      "18:\tlearn: 21.3852329\ttotal: 18.3ms\tremaining: 174ms\n",
      "19:\tlearn: 21.2578284\ttotal: 19.2ms\tremaining: 173ms\n",
      "20:\tlearn: 21.0686193\ttotal: 20.2ms\tremaining: 172ms\n",
      "21:\tlearn: 20.9392262\ttotal: 21.2ms\tremaining: 171ms\n",
      "22:\tlearn: 20.8257198\ttotal: 22.1ms\tremaining: 170ms\n",
      "23:\tlearn: 20.7105376\ttotal: 23ms\tremaining: 169ms\n",
      "24:\tlearn: 20.5961219\ttotal: 23.9ms\tremaining: 167ms\n",
      "25:\tlearn: 20.5349543\ttotal: 24.8ms\tremaining: 166ms\n",
      "26:\tlearn: 20.4577062\ttotal: 25.7ms\tremaining: 165ms\n",
      "27:\tlearn: 20.4114045\ttotal: 26.7ms\tremaining: 164ms\n",
      "28:\tlearn: 20.3497911\ttotal: 27.7ms\tremaining: 163ms\n",
      "29:\tlearn: 20.2949091\ttotal: 28.7ms\tremaining: 163ms\n",
      "30:\tlearn: 20.1787988\ttotal: 29.8ms\tremaining: 162ms\n",
      "31:\tlearn: 20.1023548\ttotal: 30.7ms\tremaining: 161ms\n",
      "32:\tlearn: 20.0444438\ttotal: 31.7ms\tremaining: 161ms\n",
      "33:\tlearn: 20.0089687\ttotal: 32.7ms\tremaining: 160ms\n",
      "34:\tlearn: 19.9032379\ttotal: 33.6ms\tremaining: 158ms\n",
      "35:\tlearn: 19.7515327\ttotal: 34.6ms\tremaining: 157ms\n",
      "36:\tlearn: 19.6608125\ttotal: 36ms\tremaining: 158ms\n",
      "37:\tlearn: 19.6061313\ttotal: 37ms\tremaining: 158ms\n",
      "38:\tlearn: 19.5121346\ttotal: 37.9ms\tremaining: 156ms\n",
      "39:\tlearn: 19.4524131\ttotal: 38.8ms\tremaining: 155ms\n",
      "40:\tlearn: 19.4126742\ttotal: 39.8ms\tremaining: 154ms\n",
      "41:\tlearn: 19.3430867\ttotal: 40.6ms\tremaining: 153ms\n",
      "42:\tlearn: 19.2993636\ttotal: 41.6ms\tremaining: 152ms\n",
      "43:\tlearn: 19.2344487\ttotal: 42.5ms\tremaining: 151ms\n",
      "44:\tlearn: 19.1393760\ttotal: 43.5ms\tremaining: 150ms\n",
      "45:\tlearn: 19.0836378\ttotal: 44.4ms\tremaining: 149ms\n",
      "46:\tlearn: 18.9816074\ttotal: 45.4ms\tremaining: 148ms\n",
      "47:\tlearn: 18.8997010\ttotal: 46.3ms\tremaining: 147ms\n",
      "48:\tlearn: 18.8621631\ttotal: 47.2ms\tremaining: 146ms\n",
      "49:\tlearn: 18.8169583\ttotal: 48.1ms\tremaining: 144ms\n",
      "50:\tlearn: 18.7391462\ttotal: 49.1ms\tremaining: 143ms\n",
      "51:\tlearn: 18.6737842\ttotal: 50ms\tremaining: 142ms\n",
      "52:\tlearn: 18.6177789\ttotal: 50.9ms\tremaining: 141ms\n",
      "53:\tlearn: 18.5482587\ttotal: 51.8ms\tremaining: 140ms\n",
      "54:\tlearn: 18.4907388\ttotal: 52.8ms\tremaining: 139ms\n",
      "55:\tlearn: 18.3986078\ttotal: 53.7ms\tremaining: 138ms\n",
      "56:\tlearn: 18.3489626\ttotal: 54.7ms\tremaining: 137ms\n",
      "57:\tlearn: 18.2738168\ttotal: 55.7ms\tremaining: 136ms\n",
      "58:\tlearn: 18.2096563\ttotal: 56.6ms\tremaining: 135ms\n",
      "59:\tlearn: 18.1434030\ttotal: 57.6ms\tremaining: 134ms\n",
      "60:\tlearn: 18.1078743\ttotal: 58.5ms\tremaining: 133ms\n",
      "61:\tlearn: 18.0544770\ttotal: 59.4ms\tremaining: 132ms\n",
      "62:\tlearn: 18.0044069\ttotal: 60.4ms\tremaining: 131ms\n",
      "63:\tlearn: 17.9743894\ttotal: 61.2ms\tremaining: 130ms\n",
      "64:\tlearn: 17.9469447\ttotal: 62.1ms\tremaining: 129ms\n",
      "65:\tlearn: 17.9142308\ttotal: 63.1ms\tremaining: 128ms\n",
      "66:\tlearn: 17.8193129\ttotal: 63.9ms\tremaining: 127ms\n",
      "67:\tlearn: 17.7742829\ttotal: 64.9ms\tremaining: 126ms\n",
      "68:\tlearn: 17.7142296\ttotal: 65.8ms\tremaining: 125ms\n",
      "69:\tlearn: 17.6430533\ttotal: 66.9ms\tremaining: 124ms\n",
      "70:\tlearn: 17.6088635\ttotal: 67.9ms\tremaining: 123ms\n",
      "71:\tlearn: 17.5808111\ttotal: 68.8ms\tremaining: 122ms\n",
      "72:\tlearn: 17.5265581\ttotal: 69.8ms\tremaining: 121ms\n",
      "73:\tlearn: 17.4700737\ttotal: 70.8ms\tremaining: 121ms\n",
      "74:\tlearn: 17.4201164\ttotal: 71.8ms\tremaining: 120ms\n",
      "75:\tlearn: 17.3721975\ttotal: 72.7ms\tremaining: 119ms\n",
      "76:\tlearn: 17.3252523\ttotal: 73.7ms\tremaining: 118ms\n",
      "77:\tlearn: 17.2995105\ttotal: 74.7ms\tremaining: 117ms\n",
      "78:\tlearn: 17.2435086\ttotal: 75.6ms\tremaining: 116ms\n",
      "79:\tlearn: 17.1573405\ttotal: 76.6ms\tremaining: 115ms\n",
      "80:\tlearn: 17.1305597\ttotal: 77.6ms\tremaining: 114ms\n",
      "81:\tlearn: 17.0829278\ttotal: 78.5ms\tremaining: 113ms\n",
      "82:\tlearn: 17.0267971\ttotal: 79.4ms\tremaining: 112ms\n",
      "83:\tlearn: 16.9747121\ttotal: 80.4ms\tremaining: 111ms\n",
      "84:\tlearn: 16.9237895\ttotal: 81.4ms\tremaining: 110ms\n",
      "85:\tlearn: 16.8785556\ttotal: 82.3ms\tremaining: 109ms\n",
      "86:\tlearn: 16.8247894\ttotal: 83.4ms\tremaining: 108ms\n",
      "87:\tlearn: 16.8158576\ttotal: 84.4ms\tremaining: 107ms\n",
      "88:\tlearn: 16.7844175\ttotal: 85.3ms\tremaining: 106ms\n",
      "89:\tlearn: 16.7654412\ttotal: 86.3ms\tremaining: 105ms\n",
      "90:\tlearn: 16.7310291\ttotal: 87.3ms\tremaining: 105ms\n",
      "91:\tlearn: 16.6924581\ttotal: 88.2ms\tremaining: 104ms\n",
      "92:\tlearn: 16.6480577\ttotal: 89.3ms\tremaining: 103ms\n",
      "93:\tlearn: 16.6035925\ttotal: 90.2ms\tremaining: 102ms\n",
      "94:\tlearn: 16.5866903\ttotal: 91.2ms\tremaining: 101ms\n",
      "95:\tlearn: 16.5289435\ttotal: 92.1ms\tremaining: 99.8ms\n",
      "96:\tlearn: 16.5136783\ttotal: 93.1ms\tremaining: 98.9ms\n",
      "97:\tlearn: 16.4746619\ttotal: 94.1ms\tremaining: 97.9ms\n",
      "98:\tlearn: 16.4333260\ttotal: 95ms\tremaining: 97ms\n",
      "99:\tlearn: 16.3933496\ttotal: 96.1ms\tremaining: 96.1ms\n",
      "100:\tlearn: 16.3599559\ttotal: 97.1ms\tremaining: 95.2ms\n",
      "101:\tlearn: 16.2974550\ttotal: 98.1ms\tremaining: 94.3ms\n",
      "102:\tlearn: 16.2534931\ttotal: 99.1ms\tremaining: 93.3ms\n",
      "103:\tlearn: 16.2202441\ttotal: 100ms\tremaining: 92.4ms\n",
      "104:\tlearn: 16.1857613\ttotal: 101ms\tremaining: 91.4ms\n",
      "105:\tlearn: 16.1355636\ttotal: 102ms\tremaining: 90.4ms\n",
      "106:\tlearn: 16.1114529\ttotal: 103ms\tremaining: 89.5ms\n",
      "107:\tlearn: 16.0564500\ttotal: 104ms\tremaining: 88.6ms\n",
      "108:\tlearn: 16.0207068\ttotal: 105ms\tremaining: 87.6ms\n",
      "109:\tlearn: 16.0089522\ttotal: 106ms\tremaining: 86.7ms\n",
      "110:\tlearn: 15.9895157\ttotal: 107ms\tremaining: 85.8ms\n",
      "111:\tlearn: 15.9822859\ttotal: 108ms\tremaining: 84.8ms\n",
      "112:\tlearn: 15.9526856\ttotal: 109ms\tremaining: 83.9ms\n",
      "113:\tlearn: 15.9336541\ttotal: 110ms\tremaining: 83ms\n",
      "114:\tlearn: 15.8903510\ttotal: 111ms\tremaining: 82.2ms\n",
      "115:\tlearn: 15.8576904\ttotal: 112ms\tremaining: 81.3ms\n",
      "116:\tlearn: 15.8283592\ttotal: 113ms\tremaining: 80.5ms\n",
      "117:\tlearn: 15.7920953\ttotal: 114ms\tremaining: 79.5ms\n",
      "118:\tlearn: 15.7649738\ttotal: 116ms\tremaining: 78.6ms\n",
      "119:\tlearn: 15.7316504\ttotal: 117ms\tremaining: 77.7ms\n",
      "120:\tlearn: 15.6844846\ttotal: 118ms\tremaining: 76.8ms\n",
      "121:\tlearn: 15.6471083\ttotal: 119ms\tremaining: 75.9ms\n",
      "122:\tlearn: 15.5922158\ttotal: 120ms\tremaining: 75ms\n",
      "123:\tlearn: 15.5632724\ttotal: 121ms\tremaining: 74ms\n",
      "124:\tlearn: 15.5169346\ttotal: 122ms\tremaining: 73.1ms\n",
      "125:\tlearn: 15.4502752\ttotal: 123ms\tremaining: 72.1ms\n",
      "126:\tlearn: 15.4203725\ttotal: 124ms\tremaining: 71.2ms\n",
      "127:\tlearn: 15.4142633\ttotal: 125ms\tremaining: 70.2ms\n",
      "128:\tlearn: 15.4001671\ttotal: 126ms\tremaining: 69.2ms\n",
      "129:\tlearn: 15.3853512\ttotal: 127ms\tremaining: 68.2ms\n",
      "130:\tlearn: 15.3446416\ttotal: 128ms\tremaining: 67.3ms\n",
      "131:\tlearn: 15.3100193\ttotal: 129ms\tremaining: 66.3ms\n",
      "132:\tlearn: 15.2832749\ttotal: 130ms\tremaining: 65.4ms\n",
      "133:\tlearn: 15.2455474\ttotal: 131ms\tremaining: 64.5ms\n",
      "134:\tlearn: 15.1709446\ttotal: 132ms\tremaining: 63.6ms\n",
      "135:\tlearn: 15.1268967\ttotal: 133ms\tremaining: 62.6ms\n",
      "136:\tlearn: 15.0700358\ttotal: 134ms\tremaining: 61.7ms\n",
      "137:\tlearn: 15.0578535\ttotal: 135ms\tremaining: 60.7ms\n",
      "138:\tlearn: 15.0495771\ttotal: 136ms\tremaining: 59.8ms\n",
      "139:\tlearn: 15.0161491\ttotal: 137ms\tremaining: 58.8ms\n",
      "140:\tlearn: 15.0005965\ttotal: 138ms\tremaining: 57.9ms\n",
      "141:\tlearn: 14.9685296\ttotal: 139ms\tremaining: 56.9ms\n",
      "142:\tlearn: 14.9428797\ttotal: 140ms\tremaining: 56ms\n",
      "143:\tlearn: 14.9045332\ttotal: 142ms\tremaining: 55.1ms\n",
      "144:\tlearn: 14.8880726\ttotal: 143ms\tremaining: 54.1ms\n",
      "145:\tlearn: 14.8690150\ttotal: 144ms\tremaining: 53.2ms\n",
      "146:\tlearn: 14.8415798\ttotal: 145ms\tremaining: 52.2ms\n",
      "147:\tlearn: 14.8198538\ttotal: 146ms\tremaining: 51.2ms\n",
      "148:\tlearn: 14.7833670\ttotal: 147ms\tremaining: 50.3ms\n",
      "149:\tlearn: 14.7354611\ttotal: 148ms\tremaining: 49.3ms\n",
      "150:\tlearn: 14.6736452\ttotal: 149ms\tremaining: 48.3ms\n",
      "151:\tlearn: 14.6652549\ttotal: 150ms\tremaining: 47.4ms\n",
      "152:\tlearn: 14.6408569\ttotal: 151ms\tremaining: 46.4ms\n",
      "153:\tlearn: 14.6101294\ttotal: 152ms\tremaining: 45.4ms\n",
      "154:\tlearn: 14.5972170\ttotal: 153ms\tremaining: 44.5ms\n",
      "155:\tlearn: 14.5725454\ttotal: 154ms\tremaining: 43.5ms\n",
      "156:\tlearn: 14.5379321\ttotal: 155ms\tremaining: 42.5ms\n",
      "157:\tlearn: 14.5105448\ttotal: 156ms\tremaining: 41.5ms\n",
      "158:\tlearn: 14.4528787\ttotal: 157ms\tremaining: 40.5ms\n",
      "159:\tlearn: 14.4152060\ttotal: 158ms\tremaining: 39.5ms\n",
      "160:\tlearn: 14.3841795\ttotal: 159ms\tremaining: 38.6ms\n",
      "161:\tlearn: 14.3588059\ttotal: 160ms\tremaining: 37.6ms\n",
      "162:\tlearn: 14.3545129\ttotal: 161ms\tremaining: 36.5ms\n",
      "163:\tlearn: 14.3141685\ttotal: 162ms\tremaining: 35.6ms\n",
      "164:\tlearn: 14.3047672\ttotal: 163ms\tremaining: 34.6ms\n",
      "165:\tlearn: 14.2809384\ttotal: 164ms\tremaining: 33.6ms\n",
      "166:\tlearn: 14.2568941\ttotal: 165ms\tremaining: 32.6ms\n",
      "167:\tlearn: 14.2488487\ttotal: 166ms\tremaining: 31.6ms\n",
      "168:\tlearn: 14.2108246\ttotal: 167ms\tremaining: 30.7ms\n",
      "169:\tlearn: 14.1774821\ttotal: 168ms\tremaining: 29.7ms\n",
      "170:\tlearn: 14.1502994\ttotal: 169ms\tremaining: 28.7ms\n",
      "171:\tlearn: 14.0825297\ttotal: 170ms\tremaining: 27.7ms\n",
      "172:\tlearn: 14.0316420\ttotal: 171ms\tremaining: 26.7ms\n",
      "173:\tlearn: 14.0105088\ttotal: 172ms\tremaining: 25.7ms\n",
      "174:\tlearn: 14.0018053\ttotal: 173ms\tremaining: 24.7ms\n",
      "175:\tlearn: 13.9681990\ttotal: 174ms\tremaining: 23.7ms\n",
      "176:\tlearn: 13.9437075\ttotal: 175ms\tremaining: 22.7ms\n",
      "177:\tlearn: 13.9224574\ttotal: 176ms\tremaining: 21.7ms\n",
      "178:\tlearn: 13.8744151\ttotal: 177ms\tremaining: 20.8ms\n",
      "179:\tlearn: 13.8535565\ttotal: 178ms\tremaining: 19.8ms\n",
      "180:\tlearn: 13.8339941\ttotal: 179ms\tremaining: 18.8ms\n",
      "181:\tlearn: 13.8221942\ttotal: 180ms\tremaining: 17.8ms\n",
      "182:\tlearn: 13.7745278\ttotal: 181ms\tremaining: 16.8ms\n",
      "183:\tlearn: 13.7536789\ttotal: 182ms\tremaining: 15.8ms\n",
      "184:\tlearn: 13.7043378\ttotal: 183ms\tremaining: 14.8ms\n",
      "185:\tlearn: 13.6951733\ttotal: 184ms\tremaining: 13.8ms\n",
      "186:\tlearn: 13.6604822\ttotal: 185ms\tremaining: 12.8ms\n",
      "187:\tlearn: 13.6268878\ttotal: 186ms\tremaining: 11.9ms\n",
      "188:\tlearn: 13.5810624\ttotal: 187ms\tremaining: 10.9ms\n",
      "189:\tlearn: 13.5707357\ttotal: 188ms\tremaining: 9.89ms\n",
      "190:\tlearn: 13.5419675\ttotal: 189ms\tremaining: 8.9ms\n",
      "191:\tlearn: 13.5211524\ttotal: 190ms\tremaining: 7.92ms\n",
      "192:\tlearn: 13.5163028\ttotal: 191ms\tremaining: 6.93ms\n",
      "193:\tlearn: 13.4658406\ttotal: 192ms\tremaining: 5.94ms\n",
      "194:\tlearn: 13.4489528\ttotal: 193ms\tremaining: 4.95ms\n",
      "195:\tlearn: 13.4129506\ttotal: 194ms\tremaining: 3.96ms\n",
      "196:\tlearn: 13.3670968\ttotal: 195ms\tremaining: 2.97ms\n",
      "197:\tlearn: 13.3297171\ttotal: 196ms\tremaining: 1.98ms\n",
      "198:\tlearn: 13.3083000\ttotal: 197ms\tremaining: 990us\n",
      "199:\tlearn: 13.2747500\ttotal: 198ms\tremaining: 0us\n",
      "Learning rate set to 0.165932\n",
      "0:\tlearn: 29.7181221\ttotal: 1.39ms\tremaining: 276ms\n",
      "1:\tlearn: 28.6272782\ttotal: 2.79ms\tremaining: 277ms\n",
      "2:\tlearn: 27.6402951\ttotal: 4.11ms\tremaining: 270ms\n",
      "3:\tlearn: 26.8459861\ttotal: 5.36ms\tremaining: 263ms\n",
      "4:\tlearn: 26.1295548\ttotal: 6.51ms\tremaining: 254ms\n",
      "5:\tlearn: 25.6540951\ttotal: 7.63ms\tremaining: 247ms\n",
      "6:\tlearn: 25.2072896\ttotal: 8.81ms\tremaining: 243ms\n",
      "7:\tlearn: 24.8190994\ttotal: 9.93ms\tremaining: 238ms\n",
      "8:\tlearn: 24.4847855\ttotal: 11.1ms\tremaining: 235ms\n",
      "9:\tlearn: 24.1366432\ttotal: 12.3ms\tremaining: 233ms\n",
      "10:\tlearn: 23.7533633\ttotal: 13.4ms\tremaining: 231ms\n",
      "11:\tlearn: 23.5032935\ttotal: 14.6ms\tremaining: 228ms\n",
      "12:\tlearn: 23.3333041\ttotal: 15.7ms\tremaining: 226ms\n",
      "13:\tlearn: 23.1769052\ttotal: 16.8ms\tremaining: 223ms\n",
      "14:\tlearn: 23.0495808\ttotal: 17.8ms\tremaining: 220ms\n",
      "15:\tlearn: 22.9244683\ttotal: 18.9ms\tremaining: 217ms\n",
      "16:\tlearn: 22.7513184\ttotal: 19.9ms\tremaining: 215ms\n",
      "17:\tlearn: 22.6124092\ttotal: 21.1ms\tremaining: 213ms\n",
      "18:\tlearn: 22.4777619\ttotal: 22.3ms\tremaining: 212ms\n",
      "19:\tlearn: 22.3253511\ttotal: 23.4ms\tremaining: 210ms\n",
      "20:\tlearn: 22.1566209\ttotal: 24.6ms\tremaining: 209ms\n",
      "21:\tlearn: 22.0189665\ttotal: 25.7ms\tremaining: 208ms\n",
      "22:\tlearn: 21.9442294\ttotal: 26.8ms\tremaining: 206ms\n",
      "23:\tlearn: 21.8511173\ttotal: 28ms\tremaining: 205ms\n",
      "24:\tlearn: 21.7433978\ttotal: 29ms\tremaining: 203ms\n",
      "25:\tlearn: 21.6706050\ttotal: 30.2ms\tremaining: 202ms\n",
      "26:\tlearn: 21.6262195\ttotal: 31.4ms\tremaining: 201ms\n",
      "27:\tlearn: 21.5871525\ttotal: 32.5ms\tremaining: 199ms\n",
      "28:\tlearn: 21.5459370\ttotal: 33.6ms\tremaining: 198ms\n",
      "29:\tlearn: 21.4765269\ttotal: 34.7ms\tremaining: 196ms\n",
      "30:\tlearn: 21.4028356\ttotal: 35.9ms\tremaining: 196ms\n",
      "31:\tlearn: 21.3395744\ttotal: 37.1ms\tremaining: 195ms\n",
      "32:\tlearn: 21.2852343\ttotal: 38.3ms\tremaining: 194ms\n",
      "33:\tlearn: 21.1536140\ttotal: 39.6ms\tremaining: 193ms\n",
      "34:\tlearn: 21.0786255\ttotal: 40.6ms\tremaining: 192ms\n",
      "35:\tlearn: 21.0350592\ttotal: 41.8ms\tremaining: 190ms\n",
      "36:\tlearn: 20.9342301\ttotal: 43ms\tremaining: 189ms\n",
      "37:\tlearn: 20.8743359\ttotal: 44.1ms\tremaining: 188ms\n",
      "38:\tlearn: 20.8229983\ttotal: 45.2ms\tremaining: 187ms\n",
      "39:\tlearn: 20.7771127\ttotal: 46.3ms\tremaining: 185ms\n",
      "40:\tlearn: 20.7367810\ttotal: 47.4ms\tremaining: 184ms\n",
      "41:\tlearn: 20.7245748\ttotal: 48.5ms\tremaining: 183ms\n",
      "42:\tlearn: 20.6750897\ttotal: 49.7ms\tremaining: 181ms\n",
      "43:\tlearn: 20.6212119\ttotal: 50.8ms\tremaining: 180ms\n",
      "44:\tlearn: 20.5307544\ttotal: 52ms\tremaining: 179ms\n",
      "45:\tlearn: 20.5052682\ttotal: 53.1ms\tremaining: 178ms\n",
      "46:\tlearn: 20.4296972\ttotal: 54.6ms\tremaining: 178ms\n",
      "47:\tlearn: 20.3929444\ttotal: 55.7ms\tremaining: 177ms\n",
      "48:\tlearn: 20.2982743\ttotal: 56.8ms\tremaining: 175ms\n",
      "49:\tlearn: 20.2409226\ttotal: 58ms\tremaining: 174ms\n",
      "50:\tlearn: 20.1841133\ttotal: 59.4ms\tremaining: 174ms\n",
      "51:\tlearn: 20.1006306\ttotal: 60.6ms\tremaining: 172ms\n",
      "52:\tlearn: 19.9993197\ttotal: 62.1ms\tremaining: 172ms\n",
      "53:\tlearn: 19.9442673\ttotal: 63.3ms\tremaining: 171ms\n",
      "54:\tlearn: 19.8762882\ttotal: 64.4ms\tremaining: 170ms\n",
      "55:\tlearn: 19.8697945\ttotal: 65.5ms\tremaining: 168ms\n",
      "56:\tlearn: 19.8196678\ttotal: 66.6ms\tremaining: 167ms\n",
      "57:\tlearn: 19.7776358\ttotal: 67.8ms\tremaining: 166ms\n",
      "58:\tlearn: 19.7173599\ttotal: 68.9ms\tremaining: 165ms\n",
      "59:\tlearn: 19.6240270\ttotal: 70.1ms\tremaining: 164ms\n",
      "60:\tlearn: 19.5755423\ttotal: 71.2ms\tremaining: 162ms\n",
      "61:\tlearn: 19.5183221\ttotal: 72.4ms\tremaining: 161ms\n",
      "62:\tlearn: 19.5107109\ttotal: 73.4ms\tremaining: 160ms\n",
      "63:\tlearn: 19.4651421\ttotal: 74.7ms\tremaining: 159ms\n",
      "64:\tlearn: 19.4342991\ttotal: 75.7ms\tremaining: 157ms\n",
      "65:\tlearn: 19.3862958\ttotal: 76.8ms\tremaining: 156ms\n",
      "66:\tlearn: 19.3360837\ttotal: 77.9ms\tremaining: 155ms\n",
      "67:\tlearn: 19.2866518\ttotal: 79.1ms\tremaining: 153ms\n",
      "68:\tlearn: 19.2796290\ttotal: 80.2ms\tremaining: 152ms\n",
      "69:\tlearn: 19.2455268\ttotal: 81.2ms\tremaining: 151ms\n",
      "70:\tlearn: 19.1888138\ttotal: 82.3ms\tremaining: 150ms\n",
      "71:\tlearn: 19.1496903\ttotal: 83.4ms\tremaining: 148ms\n",
      "72:\tlearn: 19.1051283\ttotal: 84.6ms\tremaining: 147ms\n",
      "73:\tlearn: 19.0443368\ttotal: 85.7ms\tremaining: 146ms\n",
      "74:\tlearn: 18.9942781\ttotal: 86.9ms\tremaining: 145ms\n",
      "75:\tlearn: 18.9707153\ttotal: 88ms\tremaining: 144ms\n",
      "76:\tlearn: 18.9230300\ttotal: 89ms\tremaining: 142ms\n",
      "77:\tlearn: 18.8958564\ttotal: 90.1ms\tremaining: 141ms\n",
      "78:\tlearn: 18.8167593\ttotal: 91.2ms\tremaining: 140ms\n",
      "79:\tlearn: 18.7443002\ttotal: 92.3ms\tremaining: 138ms\n",
      "80:\tlearn: 18.6834677\ttotal: 93.5ms\tremaining: 137ms\n",
      "81:\tlearn: 18.6592666\ttotal: 94.7ms\tremaining: 136ms\n",
      "82:\tlearn: 18.6058724\ttotal: 95.8ms\tremaining: 135ms\n",
      "83:\tlearn: 18.5563726\ttotal: 97ms\tremaining: 134ms\n",
      "84:\tlearn: 18.5356836\ttotal: 98.1ms\tremaining: 133ms\n",
      "85:\tlearn: 18.5085613\ttotal: 99.1ms\tremaining: 131ms\n",
      "86:\tlearn: 18.4790412\ttotal: 100ms\tremaining: 130ms\n",
      "87:\tlearn: 18.4314229\ttotal: 101ms\tremaining: 129ms\n",
      "88:\tlearn: 18.3969343\ttotal: 103ms\tremaining: 128ms\n",
      "89:\tlearn: 18.3409614\ttotal: 104ms\tremaining: 127ms\n",
      "90:\tlearn: 18.3138067\ttotal: 105ms\tremaining: 126ms\n",
      "91:\tlearn: 18.2802276\ttotal: 106ms\tremaining: 124ms\n",
      "92:\tlearn: 18.2373265\ttotal: 107ms\tremaining: 123ms\n",
      "93:\tlearn: 18.1729255\ttotal: 108ms\tremaining: 122ms\n",
      "94:\tlearn: 18.1613922\ttotal: 109ms\tremaining: 121ms\n",
      "95:\tlearn: 18.1393831\ttotal: 110ms\tremaining: 119ms\n",
      "96:\tlearn: 18.1260227\ttotal: 111ms\tremaining: 118ms\n",
      "97:\tlearn: 18.0928862\ttotal: 112ms\tremaining: 117ms\n",
      "98:\tlearn: 18.0208411\ttotal: 114ms\tremaining: 116ms\n",
      "99:\tlearn: 17.9808819\ttotal: 115ms\tremaining: 115ms\n",
      "100:\tlearn: 17.9568166\ttotal: 116ms\tremaining: 113ms\n",
      "101:\tlearn: 17.9515998\ttotal: 117ms\tremaining: 112ms\n",
      "102:\tlearn: 17.9210303\ttotal: 118ms\tremaining: 111ms\n",
      "103:\tlearn: 17.9044112\ttotal: 119ms\tremaining: 110ms\n",
      "104:\tlearn: 17.8704875\ttotal: 120ms\tremaining: 109ms\n",
      "105:\tlearn: 17.8356680\ttotal: 121ms\tremaining: 107ms\n",
      "106:\tlearn: 17.7772408\ttotal: 122ms\tremaining: 106ms\n",
      "107:\tlearn: 17.7356576\ttotal: 123ms\tremaining: 105ms\n",
      "108:\tlearn: 17.6800886\ttotal: 124ms\tremaining: 104ms\n",
      "109:\tlearn: 17.6375602\ttotal: 126ms\tremaining: 103ms\n",
      "110:\tlearn: 17.6334692\ttotal: 127ms\tremaining: 102ms\n",
      "111:\tlearn: 17.5973097\ttotal: 128ms\tremaining: 100ms\n",
      "112:\tlearn: 17.5749498\ttotal: 129ms\tremaining: 99.1ms\n",
      "113:\tlearn: 17.5282693\ttotal: 130ms\tremaining: 97.9ms\n",
      "114:\tlearn: 17.5139889\ttotal: 131ms\tremaining: 96.7ms\n",
      "115:\tlearn: 17.4969054\ttotal: 132ms\tremaining: 95.5ms\n",
      "116:\tlearn: 17.4612137\ttotal: 133ms\tremaining: 94.3ms\n",
      "117:\tlearn: 17.4490084\ttotal: 134ms\tremaining: 93.1ms\n",
      "118:\tlearn: 17.4081002\ttotal: 135ms\tremaining: 91.9ms\n",
      "119:\tlearn: 17.3767459\ttotal: 136ms\tremaining: 90.7ms\n",
      "120:\tlearn: 17.3333550\ttotal: 137ms\tremaining: 89.5ms\n",
      "121:\tlearn: 17.2916857\ttotal: 138ms\tremaining: 88.4ms\n",
      "122:\tlearn: 17.2578435\ttotal: 139ms\tremaining: 87.3ms\n",
      "123:\tlearn: 17.2298388\ttotal: 141ms\tremaining: 86.2ms\n",
      "124:\tlearn: 17.1892595\ttotal: 142ms\tremaining: 85ms\n",
      "125:\tlearn: 17.1671050\ttotal: 143ms\tremaining: 83.8ms\n",
      "126:\tlearn: 17.1169153\ttotal: 144ms\tremaining: 82.7ms\n",
      "127:\tlearn: 17.0657650\ttotal: 145ms\tremaining: 81.5ms\n",
      "128:\tlearn: 17.0009383\ttotal: 146ms\tremaining: 80.3ms\n",
      "129:\tlearn: 16.9372870\ttotal: 147ms\tremaining: 79.2ms\n",
      "130:\tlearn: 16.9168660\ttotal: 148ms\tremaining: 78ms\n",
      "131:\tlearn: 16.9097422\ttotal: 149ms\tremaining: 76.9ms\n",
      "132:\tlearn: 16.8699426\ttotal: 150ms\tremaining: 75.7ms\n",
      "133:\tlearn: 16.8229845\ttotal: 152ms\tremaining: 74.6ms\n",
      "134:\tlearn: 16.7873027\ttotal: 153ms\tremaining: 73.5ms\n",
      "135:\tlearn: 16.7708333\ttotal: 154ms\tremaining: 72.3ms\n",
      "136:\tlearn: 16.7643721\ttotal: 155ms\tremaining: 71.2ms\n",
      "137:\tlearn: 16.7385392\ttotal: 156ms\tremaining: 70ms\n",
      "138:\tlearn: 16.7187927\ttotal: 157ms\tremaining: 68.9ms\n",
      "139:\tlearn: 16.6798281\ttotal: 158ms\tremaining: 67.7ms\n",
      "140:\tlearn: 16.6223354\ttotal: 159ms\tremaining: 66.7ms\n",
      "141:\tlearn: 16.6021523\ttotal: 160ms\tremaining: 65.5ms\n",
      "142:\tlearn: 16.5749863\ttotal: 161ms\tremaining: 64.3ms\n",
      "143:\tlearn: 16.5591469\ttotal: 163ms\tremaining: 63.2ms\n",
      "144:\tlearn: 16.5406217\ttotal: 164ms\tremaining: 62.1ms\n",
      "145:\tlearn: 16.5199196\ttotal: 165ms\tremaining: 60.9ms\n",
      "146:\tlearn: 16.5073437\ttotal: 166ms\tremaining: 59.8ms\n",
      "147:\tlearn: 16.4632764\ttotal: 167ms\tremaining: 58.6ms\n",
      "148:\tlearn: 16.4439077\ttotal: 168ms\tremaining: 57.5ms\n",
      "149:\tlearn: 16.4146879\ttotal: 169ms\tremaining: 56.4ms\n",
      "150:\tlearn: 16.3944711\ttotal: 170ms\tremaining: 55.2ms\n",
      "151:\tlearn: 16.3512999\ttotal: 171ms\tremaining: 54.1ms\n",
      "152:\tlearn: 16.3214454\ttotal: 172ms\tremaining: 53ms\n",
      "153:\tlearn: 16.2918555\ttotal: 173ms\tremaining: 51.8ms\n",
      "154:\tlearn: 16.2635417\ttotal: 175ms\tremaining: 50.7ms\n",
      "155:\tlearn: 16.2527069\ttotal: 176ms\tremaining: 49.5ms\n",
      "156:\tlearn: 16.2231615\ttotal: 177ms\tremaining: 48.4ms\n",
      "157:\tlearn: 16.2085977\ttotal: 178ms\tremaining: 47.3ms\n",
      "158:\tlearn: 16.1913106\ttotal: 179ms\tremaining: 46.2ms\n",
      "159:\tlearn: 16.1694977\ttotal: 180ms\tremaining: 45ms\n",
      "160:\tlearn: 16.1359533\ttotal: 181ms\tremaining: 43.9ms\n",
      "161:\tlearn: 16.1232446\ttotal: 182ms\tremaining: 42.8ms\n",
      "162:\tlearn: 16.1034725\ttotal: 184ms\tremaining: 41.7ms\n",
      "163:\tlearn: 16.0941167\ttotal: 185ms\tremaining: 40.5ms\n",
      "164:\tlearn: 16.0705897\ttotal: 186ms\tremaining: 39.4ms\n",
      "165:\tlearn: 16.0515903\ttotal: 187ms\tremaining: 38.3ms\n",
      "166:\tlearn: 16.0276102\ttotal: 188ms\tremaining: 37.1ms\n",
      "167:\tlearn: 16.0078112\ttotal: 189ms\tremaining: 36ms\n",
      "168:\tlearn: 15.9855216\ttotal: 190ms\tremaining: 34.9ms\n",
      "169:\tlearn: 15.9425208\ttotal: 191ms\tremaining: 33.8ms\n",
      "170:\tlearn: 15.9063221\ttotal: 192ms\tremaining: 32.6ms\n",
      "171:\tlearn: 15.8852245\ttotal: 193ms\tremaining: 31.5ms\n",
      "172:\tlearn: 15.8615304\ttotal: 195ms\tremaining: 30.4ms\n",
      "173:\tlearn: 15.8359150\ttotal: 196ms\tremaining: 29.2ms\n",
      "174:\tlearn: 15.8278721\ttotal: 197ms\tremaining: 28.1ms\n",
      "175:\tlearn: 15.7992798\ttotal: 198ms\tremaining: 27ms\n",
      "176:\tlearn: 15.7759066\ttotal: 199ms\tremaining: 25.9ms\n",
      "177:\tlearn: 15.7348277\ttotal: 200ms\tremaining: 24.8ms\n",
      "178:\tlearn: 15.7230140\ttotal: 201ms\tremaining: 23.6ms\n",
      "179:\tlearn: 15.6931209\ttotal: 203ms\tremaining: 22.5ms\n",
      "180:\tlearn: 15.6621873\ttotal: 204ms\tremaining: 21.4ms\n",
      "181:\tlearn: 15.6536664\ttotal: 205ms\tremaining: 20.2ms\n",
      "182:\tlearn: 15.6472658\ttotal: 206ms\tremaining: 19.1ms\n",
      "183:\tlearn: 15.6288545\ttotal: 207ms\tremaining: 18ms\n",
      "184:\tlearn: 15.6098204\ttotal: 208ms\tremaining: 16.9ms\n",
      "185:\tlearn: 15.5631204\ttotal: 209ms\tremaining: 15.8ms\n",
      "186:\tlearn: 15.5288517\ttotal: 210ms\tremaining: 14.6ms\n",
      "187:\tlearn: 15.4997272\ttotal: 212ms\tremaining: 13.5ms\n",
      "188:\tlearn: 15.4794720\ttotal: 213ms\tremaining: 12.4ms\n",
      "189:\tlearn: 15.4738200\ttotal: 215ms\tremaining: 11.3ms\n",
      "190:\tlearn: 15.4715211\ttotal: 216ms\tremaining: 10.2ms\n",
      "191:\tlearn: 15.4535115\ttotal: 217ms\tremaining: 9.04ms\n",
      "192:\tlearn: 15.4486846\ttotal: 218ms\tremaining: 7.91ms\n",
      "193:\tlearn: 15.4380993\ttotal: 219ms\tremaining: 6.78ms\n",
      "194:\tlearn: 15.3851083\ttotal: 220ms\tremaining: 5.65ms\n",
      "195:\tlearn: 15.3773043\ttotal: 221ms\tremaining: 4.52ms\n",
      "196:\tlearn: 15.3420973\ttotal: 223ms\tremaining: 3.39ms\n",
      "197:\tlearn: 15.3372371\ttotal: 224ms\tremaining: 2.26ms\n",
      "198:\tlearn: 15.3193557\ttotal: 225ms\tremaining: 1.13ms\n",
      "199:\tlearn: 15.2893699\ttotal: 226ms\tremaining: 0us\n",
      "Learning rate set to 0.173641\n",
      "0:\tlearn: 30.3914209\ttotal: 1.44ms\tremaining: 286ms\n",
      "1:\tlearn: 29.4433649\ttotal: 2.76ms\tremaining: 273ms\n",
      "2:\tlearn: 28.2650096\ttotal: 4.14ms\tremaining: 272ms\n",
      "3:\tlearn: 27.5031694\ttotal: 5.41ms\tremaining: 265ms\n",
      "4:\tlearn: 26.7844773\ttotal: 6.72ms\tremaining: 262ms\n",
      "5:\tlearn: 26.0500332\ttotal: 8.01ms\tremaining: 259ms\n",
      "6:\tlearn: 25.5164783\ttotal: 9.25ms\tremaining: 255ms\n",
      "7:\tlearn: 25.0832581\ttotal: 10.6ms\tremaining: 254ms\n",
      "8:\tlearn: 24.8171230\ttotal: 11.9ms\tremaining: 252ms\n",
      "9:\tlearn: 24.4788621\ttotal: 13.2ms\tremaining: 250ms\n",
      "10:\tlearn: 24.2494703\ttotal: 14.4ms\tremaining: 247ms\n",
      "11:\tlearn: 24.0356950\ttotal: 15.6ms\tremaining: 245ms\n",
      "12:\tlearn: 23.8020174\ttotal: 16.8ms\tremaining: 242ms\n",
      "13:\tlearn: 23.6479071\ttotal: 18ms\tremaining: 239ms\n",
      "14:\tlearn: 23.5097426\ttotal: 19.4ms\tremaining: 239ms\n",
      "15:\tlearn: 23.3587632\ttotal: 20.7ms\tremaining: 238ms\n",
      "16:\tlearn: 23.1968856\ttotal: 21.9ms\tremaining: 236ms\n",
      "17:\tlearn: 23.1199951\ttotal: 23.1ms\tremaining: 234ms\n",
      "18:\tlearn: 22.9834998\ttotal: 24.4ms\tremaining: 232ms\n",
      "19:\tlearn: 22.9091750\ttotal: 25.6ms\tremaining: 230ms\n",
      "20:\tlearn: 22.7142809\ttotal: 26.9ms\tremaining: 229ms\n",
      "21:\tlearn: 22.6129035\ttotal: 28.1ms\tremaining: 227ms\n",
      "22:\tlearn: 22.5339688\ttotal: 29.3ms\tremaining: 226ms\n",
      "23:\tlearn: 22.4631678\ttotal: 30.4ms\tremaining: 223ms\n",
      "24:\tlearn: 22.3899454\ttotal: 31.6ms\tremaining: 221ms\n",
      "25:\tlearn: 22.3176252\ttotal: 32.7ms\tremaining: 219ms\n",
      "26:\tlearn: 22.2420036\ttotal: 33.9ms\tremaining: 217ms\n",
      "27:\tlearn: 22.1189000\ttotal: 35.1ms\tremaining: 216ms\n",
      "28:\tlearn: 22.0730462\ttotal: 36.3ms\tremaining: 214ms\n",
      "29:\tlearn: 22.0061821\ttotal: 37.5ms\tremaining: 213ms\n",
      "30:\tlearn: 21.9651594\ttotal: 38.7ms\tremaining: 211ms\n",
      "31:\tlearn: 21.9082946\ttotal: 40.1ms\tremaining: 211ms\n",
      "32:\tlearn: 21.8731927\ttotal: 41.4ms\tremaining: 209ms\n",
      "33:\tlearn: 21.7560933\ttotal: 42.6ms\tremaining: 208ms\n",
      "34:\tlearn: 21.7082585\ttotal: 43.8ms\tremaining: 206ms\n",
      "35:\tlearn: 21.6515523\ttotal: 45ms\tremaining: 205ms\n",
      "36:\tlearn: 21.5607271\ttotal: 46.2ms\tremaining: 203ms\n",
      "37:\tlearn: 21.5307995\ttotal: 47.4ms\tremaining: 202ms\n",
      "38:\tlearn: 21.4870862\ttotal: 48.7ms\tremaining: 201ms\n",
      "39:\tlearn: 21.4337957\ttotal: 50ms\tremaining: 200ms\n",
      "40:\tlearn: 21.3928278\ttotal: 51.2ms\tremaining: 198ms\n",
      "41:\tlearn: 21.3329990\ttotal: 52.4ms\tremaining: 197ms\n",
      "42:\tlearn: 21.2614540\ttotal: 53.7ms\tremaining: 196ms\n",
      "43:\tlearn: 21.2128217\ttotal: 54.9ms\tremaining: 195ms\n",
      "44:\tlearn: 21.1707066\ttotal: 56.2ms\tremaining: 193ms\n",
      "45:\tlearn: 21.1196247\ttotal: 57.4ms\tremaining: 192ms\n",
      "46:\tlearn: 21.0671747\ttotal: 58.6ms\tremaining: 191ms\n",
      "47:\tlearn: 21.0095171\ttotal: 59.8ms\tremaining: 189ms\n",
      "48:\tlearn: 20.9729455\ttotal: 61ms\tremaining: 188ms\n",
      "49:\tlearn: 20.9458393\ttotal: 62.2ms\tremaining: 186ms\n",
      "50:\tlearn: 20.8786917\ttotal: 63.4ms\tremaining: 185ms\n",
      "51:\tlearn: 20.7950922\ttotal: 64.6ms\tremaining: 184ms\n",
      "52:\tlearn: 20.7563384\ttotal: 66ms\tremaining: 183ms\n",
      "53:\tlearn: 20.7227862\ttotal: 67.2ms\tremaining: 182ms\n",
      "54:\tlearn: 20.6878245\ttotal: 68.4ms\tremaining: 180ms\n",
      "55:\tlearn: 20.6261769\ttotal: 69.6ms\tremaining: 179ms\n",
      "56:\tlearn: 20.5495953\ttotal: 70.8ms\tremaining: 178ms\n",
      "57:\tlearn: 20.5343974\ttotal: 71.9ms\tremaining: 176ms\n",
      "58:\tlearn: 20.5076992\ttotal: 73.1ms\tremaining: 175ms\n",
      "59:\tlearn: 20.4346466\ttotal: 74.5ms\tremaining: 174ms\n",
      "60:\tlearn: 20.3973109\ttotal: 75.8ms\tremaining: 173ms\n",
      "61:\tlearn: 20.3543930\ttotal: 76.9ms\tremaining: 171ms\n",
      "62:\tlearn: 20.3470255\ttotal: 78.2ms\tremaining: 170ms\n",
      "63:\tlearn: 20.3045876\ttotal: 79.5ms\tremaining: 169ms\n",
      "64:\tlearn: 20.2523802\ttotal: 80.9ms\tremaining: 168ms\n",
      "65:\tlearn: 20.2241075\ttotal: 82.2ms\tremaining: 167ms\n",
      "66:\tlearn: 20.1854528\ttotal: 83.5ms\tremaining: 166ms\n",
      "67:\tlearn: 20.1480590\ttotal: 84.9ms\tremaining: 165ms\n",
      "68:\tlearn: 20.0915747\ttotal: 86.4ms\tremaining: 164ms\n",
      "69:\tlearn: 20.0696146\ttotal: 87.7ms\tremaining: 163ms\n",
      "70:\tlearn: 20.0338188\ttotal: 88.9ms\tremaining: 162ms\n",
      "71:\tlearn: 19.9930658\ttotal: 90.2ms\tremaining: 160ms\n",
      "72:\tlearn: 19.9328235\ttotal: 91.5ms\tremaining: 159ms\n",
      "73:\tlearn: 19.8837725\ttotal: 92.7ms\tremaining: 158ms\n",
      "74:\tlearn: 19.8470925\ttotal: 94.1ms\tremaining: 157ms\n",
      "75:\tlearn: 19.7997721\ttotal: 95.4ms\tremaining: 156ms\n",
      "76:\tlearn: 19.7351449\ttotal: 96.7ms\tremaining: 154ms\n",
      "77:\tlearn: 19.7212915\ttotal: 98ms\tremaining: 153ms\n",
      "78:\tlearn: 19.6852736\ttotal: 99.2ms\tremaining: 152ms\n",
      "79:\tlearn: 19.6790408\ttotal: 101ms\tremaining: 151ms\n",
      "80:\tlearn: 19.6547114\ttotal: 102ms\tremaining: 150ms\n",
      "81:\tlearn: 19.6025242\ttotal: 103ms\tremaining: 148ms\n",
      "82:\tlearn: 19.5815388\ttotal: 104ms\tremaining: 147ms\n",
      "83:\tlearn: 19.4995722\ttotal: 106ms\tremaining: 146ms\n",
      "84:\tlearn: 19.4577594\ttotal: 107ms\tremaining: 145ms\n",
      "85:\tlearn: 19.4099628\ttotal: 108ms\tremaining: 144ms\n",
      "86:\tlearn: 19.3811178\ttotal: 110ms\tremaining: 142ms\n",
      "87:\tlearn: 19.3443926\ttotal: 111ms\tremaining: 141ms\n",
      "88:\tlearn: 19.3285876\ttotal: 112ms\tremaining: 140ms\n",
      "89:\tlearn: 19.2907144\ttotal: 113ms\tremaining: 138ms\n",
      "90:\tlearn: 19.2260088\ttotal: 114ms\tremaining: 137ms\n",
      "91:\tlearn: 19.2090203\ttotal: 116ms\tremaining: 136ms\n",
      "92:\tlearn: 19.1497713\ttotal: 117ms\tremaining: 135ms\n",
      "93:\tlearn: 19.1162185\ttotal: 118ms\tremaining: 134ms\n",
      "94:\tlearn: 19.1079541\ttotal: 120ms\tremaining: 132ms\n",
      "95:\tlearn: 19.0721225\ttotal: 121ms\tremaining: 131ms\n",
      "96:\tlearn: 19.0303915\ttotal: 122ms\tremaining: 130ms\n",
      "97:\tlearn: 18.9802790\ttotal: 123ms\tremaining: 128ms\n",
      "98:\tlearn: 18.9368304\ttotal: 125ms\tremaining: 128ms\n",
      "99:\tlearn: 18.8913811\ttotal: 127ms\tremaining: 127ms\n",
      "100:\tlearn: 18.8780450\ttotal: 128ms\tremaining: 125ms\n",
      "101:\tlearn: 18.8263934\ttotal: 129ms\tremaining: 124ms\n",
      "102:\tlearn: 18.7705220\ttotal: 130ms\tremaining: 123ms\n",
      "103:\tlearn: 18.7389975\ttotal: 132ms\tremaining: 121ms\n",
      "104:\tlearn: 18.7118536\ttotal: 133ms\tremaining: 120ms\n",
      "105:\tlearn: 18.6727147\ttotal: 134ms\tremaining: 119ms\n",
      "106:\tlearn: 18.6659202\ttotal: 135ms\tremaining: 118ms\n",
      "107:\tlearn: 18.6551381\ttotal: 137ms\tremaining: 116ms\n",
      "108:\tlearn: 18.6317722\ttotal: 138ms\tremaining: 115ms\n",
      "109:\tlearn: 18.6010387\ttotal: 139ms\tremaining: 114ms\n",
      "110:\tlearn: 18.5952755\ttotal: 140ms\tremaining: 113ms\n",
      "111:\tlearn: 18.5587640\ttotal: 142ms\tremaining: 111ms\n",
      "112:\tlearn: 18.5169461\ttotal: 143ms\tremaining: 110ms\n",
      "113:\tlearn: 18.4805493\ttotal: 144ms\tremaining: 109ms\n",
      "114:\tlearn: 18.4385462\ttotal: 146ms\tremaining: 108ms\n",
      "115:\tlearn: 18.4221109\ttotal: 147ms\tremaining: 106ms\n",
      "116:\tlearn: 18.3925232\ttotal: 148ms\tremaining: 105ms\n",
      "117:\tlearn: 18.3809246\ttotal: 149ms\tremaining: 104ms\n",
      "118:\tlearn: 18.3532137\ttotal: 150ms\tremaining: 102ms\n",
      "119:\tlearn: 18.3130404\ttotal: 152ms\tremaining: 101ms\n",
      "120:\tlearn: 18.2843328\ttotal: 153ms\tremaining: 100ms\n",
      "121:\tlearn: 18.2523743\ttotal: 155ms\tremaining: 98.9ms\n",
      "122:\tlearn: 18.2068993\ttotal: 156ms\tremaining: 97.6ms\n",
      "123:\tlearn: 18.1672107\ttotal: 157ms\tremaining: 96.4ms\n",
      "124:\tlearn: 18.1403442\ttotal: 159ms\tremaining: 95.1ms\n",
      "125:\tlearn: 18.0763983\ttotal: 160ms\tremaining: 93.8ms\n",
      "126:\tlearn: 18.0494779\ttotal: 161ms\tremaining: 92.5ms\n",
      "127:\tlearn: 18.0247026\ttotal: 162ms\tremaining: 91.2ms\n",
      "128:\tlearn: 17.9946726\ttotal: 163ms\tremaining: 90ms\n",
      "129:\tlearn: 17.9807501\ttotal: 165ms\tremaining: 88.7ms\n",
      "130:\tlearn: 17.9490453\ttotal: 166ms\tremaining: 87.4ms\n",
      "131:\tlearn: 17.9125492\ttotal: 167ms\tremaining: 86.1ms\n",
      "132:\tlearn: 17.8629062\ttotal: 168ms\tremaining: 84.8ms\n",
      "133:\tlearn: 17.8457096\ttotal: 170ms\tremaining: 83.6ms\n",
      "134:\tlearn: 17.8001706\ttotal: 171ms\tremaining: 82.3ms\n",
      "135:\tlearn: 17.7840783\ttotal: 172ms\tremaining: 81ms\n",
      "136:\tlearn: 17.7784512\ttotal: 173ms\tremaining: 79.7ms\n",
      "137:\tlearn: 17.7292564\ttotal: 175ms\tremaining: 78.4ms\n",
      "138:\tlearn: 17.7031744\ttotal: 176ms\tremaining: 77.2ms\n",
      "139:\tlearn: 17.6834515\ttotal: 177ms\tremaining: 75.9ms\n",
      "140:\tlearn: 17.6739051\ttotal: 178ms\tremaining: 74.6ms\n",
      "141:\tlearn: 17.6662586\ttotal: 179ms\tremaining: 73.3ms\n",
      "142:\tlearn: 17.6395192\ttotal: 181ms\tremaining: 72ms\n",
      "143:\tlearn: 17.5977024\ttotal: 182ms\tremaining: 70.8ms\n",
      "144:\tlearn: 17.5780024\ttotal: 183ms\tremaining: 69.5ms\n",
      "145:\tlearn: 17.5381232\ttotal: 184ms\tremaining: 68.2ms\n",
      "146:\tlearn: 17.5143906\ttotal: 186ms\tremaining: 66.9ms\n",
      "147:\tlearn: 17.4917257\ttotal: 187ms\tremaining: 65.6ms\n",
      "148:\tlearn: 17.4853235\ttotal: 188ms\tremaining: 64.3ms\n",
      "149:\tlearn: 17.4463322\ttotal: 189ms\tremaining: 63.1ms\n",
      "150:\tlearn: 17.4253933\ttotal: 190ms\tremaining: 61.8ms\n",
      "151:\tlearn: 17.3996115\ttotal: 192ms\tremaining: 60.5ms\n",
      "152:\tlearn: 17.3653825\ttotal: 193ms\tremaining: 59.2ms\n",
      "153:\tlearn: 17.3413370\ttotal: 194ms\tremaining: 58ms\n",
      "154:\tlearn: 17.3227987\ttotal: 195ms\tremaining: 56.7ms\n",
      "155:\tlearn: 17.2993120\ttotal: 197ms\tremaining: 55.5ms\n",
      "156:\tlearn: 17.2672938\ttotal: 198ms\tremaining: 54.2ms\n",
      "157:\tlearn: 17.2566938\ttotal: 199ms\tremaining: 52.9ms\n",
      "158:\tlearn: 17.2283191\ttotal: 200ms\tremaining: 51.7ms\n",
      "159:\tlearn: 17.1937183\ttotal: 202ms\tremaining: 50.4ms\n",
      "160:\tlearn: 17.1786222\ttotal: 203ms\tremaining: 49.1ms\n",
      "161:\tlearn: 17.1273956\ttotal: 204ms\tremaining: 47.9ms\n",
      "162:\tlearn: 17.1210563\ttotal: 205ms\tremaining: 46.6ms\n",
      "163:\tlearn: 17.0988946\ttotal: 207ms\tremaining: 45.3ms\n",
      "164:\tlearn: 17.0938538\ttotal: 208ms\tremaining: 44ms\n",
      "165:\tlearn: 17.0716603\ttotal: 209ms\tremaining: 42.8ms\n",
      "166:\tlearn: 17.0460545\ttotal: 210ms\tremaining: 41.5ms\n",
      "167:\tlearn: 17.0187975\ttotal: 211ms\tremaining: 40.2ms\n",
      "168:\tlearn: 17.0007112\ttotal: 212ms\tremaining: 38.9ms\n",
      "169:\tlearn: 16.9748605\ttotal: 214ms\tremaining: 37.7ms\n",
      "170:\tlearn: 16.9583550\ttotal: 215ms\tremaining: 36.4ms\n",
      "171:\tlearn: 16.9386711\ttotal: 216ms\tremaining: 35.1ms\n",
      "172:\tlearn: 16.9304167\ttotal: 217ms\tremaining: 33.9ms\n",
      "173:\tlearn: 16.9211463\ttotal: 218ms\tremaining: 32.6ms\n",
      "174:\tlearn: 16.8986701\ttotal: 219ms\tremaining: 31.3ms\n",
      "175:\tlearn: 16.8728944\ttotal: 221ms\tremaining: 30.1ms\n",
      "176:\tlearn: 16.8585686\ttotal: 222ms\tremaining: 28.8ms\n",
      "177:\tlearn: 16.8320765\ttotal: 223ms\tremaining: 27.6ms\n",
      "178:\tlearn: 16.7832524\ttotal: 224ms\tremaining: 26.3ms\n",
      "179:\tlearn: 16.7794685\ttotal: 225ms\tremaining: 25ms\n",
      "180:\tlearn: 16.7630221\ttotal: 226ms\tremaining: 23.8ms\n",
      "181:\tlearn: 16.7573128\ttotal: 228ms\tremaining: 22.5ms\n",
      "182:\tlearn: 16.7247684\ttotal: 229ms\tremaining: 21.3ms\n",
      "183:\tlearn: 16.7108850\ttotal: 230ms\tremaining: 20ms\n",
      "184:\tlearn: 16.6876122\ttotal: 231ms\tremaining: 18.7ms\n",
      "185:\tlearn: 16.6668601\ttotal: 232ms\tremaining: 17.5ms\n",
      "186:\tlearn: 16.6420273\ttotal: 234ms\tremaining: 16.2ms\n",
      "187:\tlearn: 16.6246811\ttotal: 235ms\tremaining: 15ms\n",
      "188:\tlearn: 16.5921182\ttotal: 236ms\tremaining: 13.7ms\n",
      "189:\tlearn: 16.5853751\ttotal: 237ms\tremaining: 12.5ms\n",
      "190:\tlearn: 16.5648835\ttotal: 238ms\tremaining: 11.2ms\n",
      "191:\tlearn: 16.5345516\ttotal: 239ms\tremaining: 9.98ms\n",
      "192:\tlearn: 16.5107364\ttotal: 241ms\tremaining: 8.73ms\n",
      "193:\tlearn: 16.4605276\ttotal: 242ms\tremaining: 7.48ms\n",
      "194:\tlearn: 16.4309884\ttotal: 243ms\tremaining: 6.23ms\n",
      "195:\tlearn: 16.4151795\ttotal: 244ms\tremaining: 4.99ms\n",
      "196:\tlearn: 16.3889903\ttotal: 245ms\tremaining: 3.74ms\n",
      "197:\tlearn: 16.3602645\ttotal: 247ms\tremaining: 2.49ms\n",
      "198:\tlearn: 16.3430421\ttotal: 248ms\tremaining: 1.25ms\n",
      "199:\tlearn: 16.3168637\ttotal: 249ms\tremaining: 0us\n",
      "Learning rate set to 0.179867\n",
      "0:\tlearn: 31.2265668\ttotal: 1.56ms\tremaining: 311ms\n",
      "1:\tlearn: 29.9798328\ttotal: 3.14ms\tremaining: 311ms\n",
      "2:\tlearn: 28.8945805\ttotal: 4.58ms\tremaining: 301ms\n",
      "3:\tlearn: 28.1573618\ttotal: 5.89ms\tremaining: 289ms\n",
      "4:\tlearn: 27.3542018\ttotal: 7.27ms\tremaining: 283ms\n",
      "5:\tlearn: 26.7931547\ttotal: 8.55ms\tremaining: 277ms\n",
      "6:\tlearn: 26.3170612\ttotal: 9.93ms\tremaining: 274ms\n",
      "7:\tlearn: 25.9793751\ttotal: 11.2ms\tremaining: 269ms\n",
      "8:\tlearn: 25.6798632\ttotal: 12.6ms\tremaining: 267ms\n",
      "9:\tlearn: 25.3303021\ttotal: 14ms\tremaining: 266ms\n",
      "10:\tlearn: 25.0454531\ttotal: 15.4ms\tremaining: 264ms\n",
      "11:\tlearn: 24.9030714\ttotal: 16.7ms\tremaining: 261ms\n",
      "12:\tlearn: 24.6837448\ttotal: 17.9ms\tremaining: 258ms\n",
      "13:\tlearn: 24.4847265\ttotal: 19.4ms\tremaining: 257ms\n",
      "14:\tlearn: 24.3521199\ttotal: 21.5ms\tremaining: 265ms\n",
      "15:\tlearn: 24.1650519\ttotal: 23.6ms\tremaining: 271ms\n",
      "16:\tlearn: 24.0013151\ttotal: 25.5ms\tremaining: 274ms\n",
      "17:\tlearn: 23.8673657\ttotal: 27.2ms\tremaining: 275ms\n",
      "18:\tlearn: 23.7563857\ttotal: 28.7ms\tremaining: 273ms\n",
      "19:\tlearn: 23.6629863\ttotal: 30.2ms\tremaining: 271ms\n",
      "20:\tlearn: 23.4644155\ttotal: 32.2ms\tremaining: 274ms\n",
      "21:\tlearn: 23.3858027\ttotal: 33.8ms\tremaining: 273ms\n",
      "22:\tlearn: 23.2978749\ttotal: 35.3ms\tremaining: 272ms\n",
      "23:\tlearn: 23.2088154\ttotal: 36.7ms\tremaining: 269ms\n",
      "24:\tlearn: 23.1456653\ttotal: 38ms\tremaining: 266ms\n",
      "25:\tlearn: 23.0794380\ttotal: 39.3ms\tremaining: 263ms\n",
      "26:\tlearn: 23.0030727\ttotal: 40.7ms\tremaining: 261ms\n",
      "27:\tlearn: 22.8763195\ttotal: 42.2ms\tremaining: 259ms\n",
      "28:\tlearn: 22.8316031\ttotal: 43.5ms\tremaining: 256ms\n",
      "29:\tlearn: 22.7800756\ttotal: 44.8ms\tremaining: 254ms\n",
      "30:\tlearn: 22.6988205\ttotal: 46.2ms\tremaining: 252ms\n",
      "31:\tlearn: 22.6397314\ttotal: 47.5ms\tremaining: 250ms\n",
      "32:\tlearn: 22.5961071\ttotal: 48.8ms\tremaining: 247ms\n",
      "33:\tlearn: 22.5540180\ttotal: 50.2ms\tremaining: 245ms\n",
      "34:\tlearn: 22.5099651\ttotal: 51.5ms\tremaining: 243ms\n",
      "35:\tlearn: 22.4306763\ttotal: 52.8ms\tremaining: 241ms\n",
      "36:\tlearn: 22.3415467\ttotal: 54.2ms\tremaining: 239ms\n",
      "37:\tlearn: 22.2751791\ttotal: 55.5ms\tremaining: 237ms\n",
      "38:\tlearn: 22.2211615\ttotal: 56.9ms\tremaining: 235ms\n",
      "39:\tlearn: 22.1759874\ttotal: 58.2ms\tremaining: 233ms\n",
      "40:\tlearn: 22.1403007\ttotal: 59.6ms\tremaining: 231ms\n",
      "41:\tlearn: 22.1143866\ttotal: 60.8ms\tremaining: 229ms\n",
      "42:\tlearn: 22.0515880\ttotal: 62.3ms\tremaining: 227ms\n",
      "43:\tlearn: 22.0033735\ttotal: 63.7ms\tremaining: 226ms\n",
      "44:\tlearn: 21.9277177\ttotal: 65.2ms\tremaining: 225ms\n",
      "45:\tlearn: 21.8968847\ttotal: 66.7ms\tremaining: 223ms\n",
      "46:\tlearn: 21.8644334\ttotal: 68.3ms\tremaining: 222ms\n",
      "47:\tlearn: 21.8375282\ttotal: 69.7ms\tremaining: 221ms\n",
      "48:\tlearn: 21.8118165\ttotal: 71.3ms\tremaining: 220ms\n",
      "49:\tlearn: 21.7707968\ttotal: 72.7ms\tremaining: 218ms\n",
      "50:\tlearn: 21.7211652\ttotal: 74.2ms\tremaining: 217ms\n",
      "51:\tlearn: 21.6526781\ttotal: 75.7ms\tremaining: 215ms\n",
      "52:\tlearn: 21.6107793\ttotal: 77.1ms\tremaining: 214ms\n",
      "53:\tlearn: 21.5607160\ttotal: 78.6ms\tremaining: 212ms\n",
      "54:\tlearn: 21.4853220\ttotal: 80.4ms\tremaining: 212ms\n",
      "55:\tlearn: 21.4531207\ttotal: 81.7ms\tremaining: 210ms\n",
      "56:\tlearn: 21.4267817\ttotal: 83ms\tremaining: 208ms\n",
      "57:\tlearn: 21.3960552\ttotal: 84.4ms\tremaining: 207ms\n",
      "58:\tlearn: 21.3484467\ttotal: 85.7ms\tremaining: 205ms\n",
      "59:\tlearn: 21.2904264\ttotal: 87.1ms\tremaining: 203ms\n",
      "60:\tlearn: 21.2451945\ttotal: 88.5ms\tremaining: 202ms\n",
      "61:\tlearn: 21.2090344\ttotal: 89.9ms\tremaining: 200ms\n",
      "62:\tlearn: 21.1602861\ttotal: 91.2ms\tremaining: 198ms\n",
      "63:\tlearn: 21.1047490\ttotal: 92.5ms\tremaining: 197ms\n",
      "64:\tlearn: 21.0752026\ttotal: 93.8ms\tremaining: 195ms\n",
      "65:\tlearn: 21.0120902\ttotal: 95.1ms\tremaining: 193ms\n",
      "66:\tlearn: 20.9353501\ttotal: 96.4ms\tremaining: 191ms\n",
      "67:\tlearn: 20.9028896\ttotal: 97.8ms\tremaining: 190ms\n",
      "68:\tlearn: 20.8583113\ttotal: 99.1ms\tremaining: 188ms\n",
      "69:\tlearn: 20.7942209\ttotal: 100ms\tremaining: 187ms\n",
      "70:\tlearn: 20.7392504\ttotal: 102ms\tremaining: 185ms\n",
      "71:\tlearn: 20.6962148\ttotal: 103ms\tremaining: 183ms\n",
      "72:\tlearn: 20.6393936\ttotal: 105ms\tremaining: 182ms\n",
      "73:\tlearn: 20.5913263\ttotal: 106ms\tremaining: 181ms\n",
      "74:\tlearn: 20.5371368\ttotal: 107ms\tremaining: 179ms\n",
      "75:\tlearn: 20.5076161\ttotal: 109ms\tremaining: 178ms\n",
      "76:\tlearn: 20.4641782\ttotal: 110ms\tremaining: 176ms\n",
      "77:\tlearn: 20.4378896\ttotal: 112ms\tremaining: 174ms\n",
      "78:\tlearn: 20.4215244\ttotal: 113ms\tremaining: 173ms\n",
      "79:\tlearn: 20.3947380\ttotal: 114ms\tremaining: 172ms\n",
      "80:\tlearn: 20.3621604\ttotal: 116ms\tremaining: 170ms\n",
      "81:\tlearn: 20.3524660\ttotal: 117ms\tremaining: 169ms\n",
      "82:\tlearn: 20.3145206\ttotal: 119ms\tremaining: 167ms\n",
      "83:\tlearn: 20.2851862\ttotal: 120ms\tremaining: 166ms\n",
      "84:\tlearn: 20.2641331\ttotal: 121ms\tremaining: 164ms\n",
      "85:\tlearn: 20.1799796\ttotal: 123ms\tremaining: 163ms\n",
      "86:\tlearn: 20.1403138\ttotal: 124ms\tremaining: 161ms\n",
      "87:\tlearn: 20.1075660\ttotal: 126ms\tremaining: 160ms\n",
      "88:\tlearn: 20.0812017\ttotal: 127ms\tremaining: 158ms\n",
      "89:\tlearn: 20.0366471\ttotal: 128ms\tremaining: 157ms\n",
      "90:\tlearn: 19.9972310\ttotal: 130ms\tremaining: 155ms\n",
      "91:\tlearn: 19.9598967\ttotal: 131ms\tremaining: 154ms\n",
      "92:\tlearn: 19.9260387\ttotal: 132ms\tremaining: 152ms\n",
      "93:\tlearn: 19.8945902\ttotal: 134ms\tremaining: 151ms\n",
      "94:\tlearn: 19.8349492\ttotal: 135ms\tremaining: 149ms\n",
      "95:\tlearn: 19.8039614\ttotal: 137ms\tremaining: 148ms\n",
      "96:\tlearn: 19.7687126\ttotal: 138ms\tremaining: 147ms\n",
      "97:\tlearn: 19.7412374\ttotal: 139ms\tremaining: 145ms\n",
      "98:\tlearn: 19.6954027\ttotal: 141ms\tremaining: 143ms\n",
      "99:\tlearn: 19.6584429\ttotal: 142ms\tremaining: 142ms\n",
      "100:\tlearn: 19.6350460\ttotal: 143ms\tremaining: 140ms\n",
      "101:\tlearn: 19.6042752\ttotal: 145ms\tremaining: 139ms\n",
      "102:\tlearn: 19.5801400\ttotal: 146ms\tremaining: 138ms\n",
      "103:\tlearn: 19.5479973\ttotal: 147ms\tremaining: 136ms\n",
      "104:\tlearn: 19.5309682\ttotal: 149ms\tremaining: 135ms\n",
      "105:\tlearn: 19.4954490\ttotal: 150ms\tremaining: 133ms\n",
      "106:\tlearn: 19.4842865\ttotal: 151ms\tremaining: 132ms\n",
      "107:\tlearn: 19.4539025\ttotal: 153ms\tremaining: 130ms\n",
      "108:\tlearn: 19.4301303\ttotal: 154ms\tremaining: 129ms\n",
      "109:\tlearn: 19.3892574\ttotal: 156ms\tremaining: 127ms\n",
      "110:\tlearn: 19.3523784\ttotal: 157ms\tremaining: 126ms\n",
      "111:\tlearn: 19.3281376\ttotal: 158ms\tremaining: 124ms\n",
      "112:\tlearn: 19.3005981\ttotal: 160ms\tremaining: 123ms\n",
      "113:\tlearn: 19.2579357\ttotal: 161ms\tremaining: 121ms\n",
      "114:\tlearn: 19.2325103\ttotal: 162ms\tremaining: 120ms\n",
      "115:\tlearn: 19.1836498\ttotal: 164ms\tremaining: 119ms\n",
      "116:\tlearn: 19.1532570\ttotal: 165ms\tremaining: 117ms\n",
      "117:\tlearn: 19.1115995\ttotal: 166ms\tremaining: 116ms\n",
      "118:\tlearn: 19.1050445\ttotal: 168ms\tremaining: 114ms\n",
      "119:\tlearn: 19.0812547\ttotal: 169ms\tremaining: 113ms\n",
      "120:\tlearn: 19.0566125\ttotal: 170ms\tremaining: 111ms\n",
      "121:\tlearn: 19.0209341\ttotal: 172ms\tremaining: 110ms\n",
      "122:\tlearn: 18.9992400\ttotal: 173ms\tremaining: 108ms\n",
      "123:\tlearn: 18.9678244\ttotal: 174ms\tremaining: 107ms\n",
      "124:\tlearn: 18.9353027\ttotal: 176ms\tremaining: 105ms\n",
      "125:\tlearn: 18.9094405\ttotal: 177ms\tremaining: 104ms\n",
      "126:\tlearn: 18.8860625\ttotal: 178ms\tremaining: 102ms\n",
      "127:\tlearn: 18.8603593\ttotal: 180ms\tremaining: 101ms\n",
      "128:\tlearn: 18.8480526\ttotal: 181ms\tremaining: 99.5ms\n",
      "129:\tlearn: 18.8372318\ttotal: 182ms\tremaining: 98.1ms\n",
      "130:\tlearn: 18.8316385\ttotal: 184ms\tremaining: 96.7ms\n",
      "131:\tlearn: 18.8088031\ttotal: 185ms\tremaining: 95.2ms\n",
      "132:\tlearn: 18.7830539\ttotal: 186ms\tremaining: 93.8ms\n",
      "133:\tlearn: 18.7595358\ttotal: 187ms\tremaining: 92.3ms\n",
      "134:\tlearn: 18.7244306\ttotal: 189ms\tremaining: 90.9ms\n",
      "135:\tlearn: 18.7015344\ttotal: 190ms\tremaining: 89.5ms\n",
      "136:\tlearn: 18.6859655\ttotal: 191ms\tremaining: 88.1ms\n",
      "137:\tlearn: 18.6507297\ttotal: 193ms\tremaining: 86.7ms\n",
      "138:\tlearn: 18.6337176\ttotal: 194ms\tremaining: 85.2ms\n",
      "139:\tlearn: 18.6040030\ttotal: 195ms\tremaining: 83.8ms\n",
      "140:\tlearn: 18.5952523\ttotal: 197ms\tremaining: 82.3ms\n",
      "141:\tlearn: 18.5774696\ttotal: 198ms\tremaining: 80.9ms\n",
      "142:\tlearn: 18.5517417\ttotal: 199ms\tremaining: 79.5ms\n",
      "143:\tlearn: 18.5283420\ttotal: 201ms\tremaining: 78.2ms\n",
      "144:\tlearn: 18.5012084\ttotal: 203ms\tremaining: 76.9ms\n",
      "145:\tlearn: 18.4614999\ttotal: 204ms\tremaining: 75.5ms\n",
      "146:\tlearn: 18.4336603\ttotal: 205ms\tremaining: 74.1ms\n",
      "147:\tlearn: 18.4005705\ttotal: 207ms\tremaining: 72.7ms\n",
      "148:\tlearn: 18.3809841\ttotal: 208ms\tremaining: 71.2ms\n",
      "149:\tlearn: 18.3749077\ttotal: 209ms\tremaining: 69.8ms\n",
      "150:\tlearn: 18.3690818\ttotal: 211ms\tremaining: 68.3ms\n",
      "151:\tlearn: 18.3320584\ttotal: 212ms\tremaining: 66.9ms\n",
      "152:\tlearn: 18.2972273\ttotal: 213ms\tremaining: 65.5ms\n",
      "153:\tlearn: 18.2717478\ttotal: 215ms\tremaining: 64.1ms\n",
      "154:\tlearn: 18.2540306\ttotal: 216ms\tremaining: 62.7ms\n",
      "155:\tlearn: 18.2289820\ttotal: 217ms\tremaining: 61.3ms\n",
      "156:\tlearn: 18.1931763\ttotal: 219ms\tremaining: 59.9ms\n",
      "157:\tlearn: 18.1713416\ttotal: 220ms\tremaining: 58.5ms\n",
      "158:\tlearn: 18.1363013\ttotal: 221ms\tremaining: 57.1ms\n",
      "159:\tlearn: 18.1149355\ttotal: 223ms\tremaining: 55.7ms\n",
      "160:\tlearn: 18.0679214\ttotal: 224ms\tremaining: 54.3ms\n",
      "161:\tlearn: 18.0380765\ttotal: 226ms\tremaining: 52.9ms\n",
      "162:\tlearn: 18.0065924\ttotal: 227ms\tremaining: 51.5ms\n",
      "163:\tlearn: 17.9901543\ttotal: 228ms\tremaining: 50.1ms\n",
      "164:\tlearn: 17.9758223\ttotal: 230ms\tremaining: 48.7ms\n",
      "165:\tlearn: 17.9565989\ttotal: 231ms\tremaining: 47.4ms\n",
      "166:\tlearn: 17.9518935\ttotal: 233ms\tremaining: 45.9ms\n",
      "167:\tlearn: 17.9192195\ttotal: 234ms\tremaining: 44.5ms\n",
      "168:\tlearn: 17.9148556\ttotal: 235ms\tremaining: 43.1ms\n",
      "169:\tlearn: 17.8937003\ttotal: 236ms\tremaining: 41.7ms\n",
      "170:\tlearn: 17.8662800\ttotal: 238ms\tremaining: 40.3ms\n",
      "171:\tlearn: 17.8352732\ttotal: 239ms\tremaining: 38.9ms\n",
      "172:\tlearn: 17.8190182\ttotal: 241ms\tremaining: 37.6ms\n",
      "173:\tlearn: 17.7948490\ttotal: 242ms\tremaining: 36.2ms\n",
      "174:\tlearn: 17.7669149\ttotal: 243ms\tremaining: 34.8ms\n",
      "175:\tlearn: 17.7527812\ttotal: 245ms\tremaining: 33.4ms\n",
      "176:\tlearn: 17.7207917\ttotal: 246ms\tremaining: 32ms\n",
      "177:\tlearn: 17.6989987\ttotal: 247ms\tremaining: 30.6ms\n",
      "178:\tlearn: 17.6823698\ttotal: 249ms\tremaining: 29.2ms\n",
      "179:\tlearn: 17.6589788\ttotal: 250ms\tremaining: 27.8ms\n",
      "180:\tlearn: 17.6255133\ttotal: 251ms\tremaining: 26.4ms\n",
      "181:\tlearn: 17.6040790\ttotal: 253ms\tremaining: 25ms\n",
      "182:\tlearn: 17.5752013\ttotal: 254ms\tremaining: 23.6ms\n",
      "183:\tlearn: 17.5470690\ttotal: 255ms\tremaining: 22.2ms\n",
      "184:\tlearn: 17.5263828\ttotal: 257ms\tremaining: 20.8ms\n",
      "185:\tlearn: 17.5063869\ttotal: 258ms\tremaining: 19.4ms\n",
      "186:\tlearn: 17.4849482\ttotal: 260ms\tremaining: 18ms\n",
      "187:\tlearn: 17.4597260\ttotal: 261ms\tremaining: 16.7ms\n",
      "188:\tlearn: 17.4393284\ttotal: 262ms\tremaining: 15.3ms\n",
      "189:\tlearn: 17.4306180\ttotal: 264ms\tremaining: 13.9ms\n",
      "190:\tlearn: 17.4074590\ttotal: 265ms\tremaining: 12.5ms\n",
      "191:\tlearn: 17.3899376\ttotal: 266ms\tremaining: 11.1ms\n",
      "192:\tlearn: 17.3734440\ttotal: 268ms\tremaining: 9.71ms\n",
      "193:\tlearn: 17.3627062\ttotal: 269ms\tremaining: 8.32ms\n",
      "194:\tlearn: 17.3439955\ttotal: 270ms\tremaining: 6.93ms\n",
      "195:\tlearn: 17.3174042\ttotal: 272ms\tremaining: 5.55ms\n",
      "196:\tlearn: 17.3040660\ttotal: 273ms\tremaining: 4.16ms\n",
      "197:\tlearn: 17.2785302\ttotal: 275ms\tremaining: 2.77ms\n",
      "198:\tlearn: 17.2612685\ttotal: 276ms\tremaining: 1.39ms\n",
      "199:\tlearn: 17.2564368\ttotal: 277ms\tremaining: 0us\n",
      "Learning rate set to 0.176309\n",
      "0:\tlearn: 28.2721756\ttotal: 2.49ms\tremaining: 371ms\n",
      "1:\tlearn: 27.1967439\ttotal: 4.16ms\tremaining: 308ms\n",
      "2:\tlearn: 26.1698744\ttotal: 5.88ms\tremaining: 288ms\n",
      "3:\tlearn: 25.5635110\ttotal: 7.49ms\tremaining: 273ms\n",
      "4:\tlearn: 24.9119984\ttotal: 9.07ms\tremaining: 263ms\n",
      "5:\tlearn: 24.1012732\ttotal: 10.8ms\tremaining: 258ms\n",
      "6:\tlearn: 23.4896182\ttotal: 12.5ms\tremaining: 255ms\n",
      "7:\tlearn: 22.7199526\ttotal: 14.2ms\tremaining: 252ms\n",
      "8:\tlearn: 22.1160001\ttotal: 15.8ms\tremaining: 248ms\n",
      "9:\tlearn: 21.6234840\ttotal: 17.4ms\tremaining: 244ms\n",
      "10:\tlearn: 21.3099475\ttotal: 19.1ms\tremaining: 242ms\n",
      "11:\tlearn: 20.8695127\ttotal: 20.7ms\tremaining: 239ms\n",
      "12:\tlearn: 20.4632078\ttotal: 22.4ms\tremaining: 236ms\n",
      "13:\tlearn: 20.1189441\ttotal: 24ms\tremaining: 233ms\n",
      "14:\tlearn: 19.9624689\ttotal: 25.7ms\tremaining: 232ms\n",
      "15:\tlearn: 19.7006683\ttotal: 27.4ms\tremaining: 230ms\n",
      "16:\tlearn: 19.3033096\ttotal: 29.2ms\tremaining: 228ms\n",
      "17:\tlearn: 18.9429428\ttotal: 31ms\tremaining: 227ms\n",
      "18:\tlearn: 18.6668527\ttotal: 32.7ms\tremaining: 225ms\n",
      "19:\tlearn: 18.5437320\ttotal: 34.4ms\tremaining: 224ms\n",
      "20:\tlearn: 18.3800894\ttotal: 36.2ms\tremaining: 222ms\n",
      "21:\tlearn: 18.2458919\ttotal: 38ms\tremaining: 221ms\n",
      "22:\tlearn: 18.0516868\ttotal: 39.6ms\tremaining: 219ms\n",
      "23:\tlearn: 17.8103589\ttotal: 41.3ms\tremaining: 217ms\n",
      "24:\tlearn: 17.6042840\ttotal: 43.1ms\tremaining: 215ms\n",
      "25:\tlearn: 17.3585968\ttotal: 44.7ms\tremaining: 213ms\n",
      "26:\tlearn: 17.1696044\ttotal: 46.3ms\tremaining: 211ms\n",
      "27:\tlearn: 17.0560699\ttotal: 47.9ms\tremaining: 209ms\n",
      "28:\tlearn: 16.8787905\ttotal: 49.5ms\tremaining: 207ms\n",
      "29:\tlearn: 16.7541275\ttotal: 51.2ms\tremaining: 205ms\n",
      "30:\tlearn: 16.6728252\ttotal: 52.9ms\tremaining: 203ms\n",
      "31:\tlearn: 16.5219426\ttotal: 54.6ms\tremaining: 201ms\n",
      "32:\tlearn: 16.4570320\ttotal: 56.2ms\tremaining: 199ms\n",
      "33:\tlearn: 16.4165877\ttotal: 57.9ms\tremaining: 197ms\n",
      "34:\tlearn: 16.2328022\ttotal: 59.5ms\tremaining: 196ms\n",
      "35:\tlearn: 16.1081149\ttotal: 61.1ms\tremaining: 194ms\n",
      "36:\tlearn: 16.0054529\ttotal: 62.8ms\tremaining: 192ms\n",
      "37:\tlearn: 15.8422511\ttotal: 64.7ms\tremaining: 191ms\n",
      "38:\tlearn: 15.7111658\ttotal: 66.4ms\tremaining: 189ms\n",
      "39:\tlearn: 15.6026180\ttotal: 68ms\tremaining: 187ms\n",
      "40:\tlearn: 15.4414496\ttotal: 69.7ms\tremaining: 185ms\n",
      "41:\tlearn: 15.3204502\ttotal: 71.4ms\tremaining: 184ms\n",
      "42:\tlearn: 15.1297957\ttotal: 73.1ms\tremaining: 182ms\n",
      "43:\tlearn: 14.9662811\ttotal: 74.9ms\tremaining: 180ms\n",
      "44:\tlearn: 14.8438759\ttotal: 76.6ms\tremaining: 179ms\n",
      "45:\tlearn: 14.7435945\ttotal: 78.2ms\tremaining: 177ms\n",
      "46:\tlearn: 14.6108588\ttotal: 79.7ms\tremaining: 175ms\n",
      "47:\tlearn: 14.4453977\ttotal: 81.3ms\tremaining: 173ms\n",
      "48:\tlearn: 14.3548666\ttotal: 83ms\tremaining: 171ms\n",
      "49:\tlearn: 14.1798717\ttotal: 84.7ms\tremaining: 169ms\n",
      "50:\tlearn: 14.0589609\ttotal: 86.3ms\tremaining: 167ms\n",
      "51:\tlearn: 14.0019902\ttotal: 87.8ms\tremaining: 166ms\n",
      "52:\tlearn: 13.8813381\ttotal: 89.5ms\tremaining: 164ms\n",
      "53:\tlearn: 13.7029116\ttotal: 91.1ms\tremaining: 162ms\n",
      "54:\tlearn: 13.5883836\ttotal: 92.8ms\tremaining: 160ms\n",
      "55:\tlearn: 13.4118313\ttotal: 94.4ms\tremaining: 158ms\n",
      "56:\tlearn: 13.3295476\ttotal: 96ms\tremaining: 157ms\n",
      "57:\tlearn: 13.2659512\ttotal: 97.7ms\tremaining: 155ms\n",
      "58:\tlearn: 13.1302393\ttotal: 99.4ms\tremaining: 153ms\n",
      "59:\tlearn: 13.0954479\ttotal: 101ms\tremaining: 152ms\n",
      "60:\tlearn: 12.9808046\ttotal: 103ms\tremaining: 150ms\n",
      "61:\tlearn: 12.8131648\ttotal: 104ms\tremaining: 148ms\n",
      "62:\tlearn: 12.7835502\ttotal: 106ms\tremaining: 146ms\n",
      "63:\tlearn: 12.6847056\ttotal: 108ms\tremaining: 145ms\n",
      "64:\tlearn: 12.5333281\ttotal: 109ms\tremaining: 143ms\n",
      "65:\tlearn: 12.5055984\ttotal: 111ms\tremaining: 141ms\n",
      "66:\tlearn: 12.3904006\ttotal: 113ms\tremaining: 139ms\n",
      "67:\tlearn: 12.2887562\ttotal: 114ms\tremaining: 138ms\n",
      "68:\tlearn: 12.2721522\ttotal: 116ms\tremaining: 136ms\n",
      "69:\tlearn: 12.0978543\ttotal: 118ms\tremaining: 134ms\n",
      "70:\tlearn: 11.9712033\ttotal: 119ms\tremaining: 133ms\n",
      "71:\tlearn: 11.8278791\ttotal: 121ms\tremaining: 131ms\n",
      "72:\tlearn: 11.7942721\ttotal: 123ms\tremaining: 129ms\n",
      "73:\tlearn: 11.6517014\ttotal: 124ms\tremaining: 128ms\n",
      "74:\tlearn: 11.5495663\ttotal: 126ms\tremaining: 126ms\n",
      "75:\tlearn: 11.4319303\ttotal: 128ms\tremaining: 124ms\n",
      "76:\tlearn: 11.3743984\ttotal: 129ms\tremaining: 123ms\n",
      "77:\tlearn: 11.3590661\ttotal: 131ms\tremaining: 121ms\n",
      "78:\tlearn: 11.2834117\ttotal: 133ms\tremaining: 119ms\n",
      "79:\tlearn: 11.1734663\ttotal: 135ms\tremaining: 118ms\n",
      "80:\tlearn: 11.0676250\ttotal: 136ms\tremaining: 116ms\n",
      "81:\tlearn: 11.0401418\ttotal: 138ms\tremaining: 115ms\n",
      "82:\tlearn: 10.9259033\ttotal: 140ms\tremaining: 113ms\n",
      "83:\tlearn: 10.8560570\ttotal: 142ms\tremaining: 111ms\n",
      "84:\tlearn: 10.7341114\ttotal: 143ms\tremaining: 110ms\n",
      "85:\tlearn: 10.7194029\ttotal: 145ms\tremaining: 108ms\n",
      "86:\tlearn: 10.6428252\ttotal: 147ms\tremaining: 106ms\n",
      "87:\tlearn: 10.5331175\ttotal: 149ms\tremaining: 105ms\n",
      "88:\tlearn: 10.5230293\ttotal: 150ms\tremaining: 103ms\n",
      "89:\tlearn: 10.4049979\ttotal: 152ms\tremaining: 101ms\n",
      "90:\tlearn: 10.2987697\ttotal: 154ms\tremaining: 99.6ms\n",
      "91:\tlearn: 10.1456198\ttotal: 155ms\tremaining: 97.9ms\n",
      "92:\tlearn: 10.1306739\ttotal: 157ms\tremaining: 96.2ms\n",
      "93:\tlearn: 9.9793840\ttotal: 159ms\tremaining: 94.5ms\n",
      "94:\tlearn: 9.8763604\ttotal: 160ms\tremaining: 92.9ms\n",
      "95:\tlearn: 9.8623377\ttotal: 162ms\tremaining: 91.1ms\n",
      "96:\tlearn: 9.7651135\ttotal: 164ms\tremaining: 89.5ms\n",
      "97:\tlearn: 9.6939244\ttotal: 166ms\tremaining: 87.8ms\n",
      "98:\tlearn: 9.5727644\ttotal: 167ms\tremaining: 86.1ms\n",
      "99:\tlearn: 9.4216060\ttotal: 169ms\tremaining: 84.4ms\n",
      "100:\tlearn: 9.2831092\ttotal: 170ms\tremaining: 82.7ms\n",
      "101:\tlearn: 9.2175374\ttotal: 172ms\tremaining: 81.1ms\n",
      "102:\tlearn: 9.1264389\ttotal: 174ms\tremaining: 79.4ms\n",
      "103:\tlearn: 9.0282957\ttotal: 176ms\tremaining: 77.7ms\n",
      "104:\tlearn: 8.9544960\ttotal: 177ms\tremaining: 76ms\n",
      "105:\tlearn: 8.8734308\ttotal: 179ms\tremaining: 74.2ms\n",
      "106:\tlearn: 8.8610371\ttotal: 181ms\tremaining: 72.6ms\n",
      "107:\tlearn: 8.8057721\ttotal: 182ms\tremaining: 70.9ms\n",
      "108:\tlearn: 8.7410386\ttotal: 184ms\tremaining: 69.1ms\n",
      "109:\tlearn: 8.7213830\ttotal: 185ms\tremaining: 67.4ms\n",
      "110:\tlearn: 8.7097547\ttotal: 187ms\tremaining: 65.7ms\n",
      "111:\tlearn: 8.6462278\ttotal: 189ms\tremaining: 64ms\n",
      "112:\tlearn: 8.5461128\ttotal: 190ms\tremaining: 62.3ms\n",
      "113:\tlearn: 8.4245354\ttotal: 192ms\tremaining: 60.6ms\n",
      "114:\tlearn: 8.3384889\ttotal: 193ms\tremaining: 58.9ms\n",
      "115:\tlearn: 8.2553380\ttotal: 195ms\tremaining: 57.2ms\n",
      "116:\tlearn: 8.1764639\ttotal: 197ms\tremaining: 55.5ms\n",
      "117:\tlearn: 8.1069844\ttotal: 199ms\tremaining: 53.8ms\n",
      "118:\tlearn: 8.0979115\ttotal: 200ms\tremaining: 52.1ms\n",
      "119:\tlearn: 8.0287868\ttotal: 202ms\tremaining: 50.5ms\n",
      "120:\tlearn: 7.9652875\ttotal: 204ms\tremaining: 48.8ms\n",
      "121:\tlearn: 7.9157347\ttotal: 205ms\tremaining: 47.1ms\n",
      "122:\tlearn: 7.8121840\ttotal: 207ms\tremaining: 45.4ms\n",
      "123:\tlearn: 7.7538392\ttotal: 209ms\tremaining: 43.8ms\n",
      "124:\tlearn: 7.6987889\ttotal: 210ms\tremaining: 42.1ms\n",
      "125:\tlearn: 7.6782023\ttotal: 212ms\tremaining: 40.4ms\n",
      "126:\tlearn: 7.5923556\ttotal: 214ms\tremaining: 38.8ms\n",
      "127:\tlearn: 7.4994534\ttotal: 216ms\tremaining: 37.1ms\n",
      "128:\tlearn: 7.4557929\ttotal: 218ms\tremaining: 35.4ms\n",
      "129:\tlearn: 7.3849025\ttotal: 219ms\tremaining: 33.7ms\n",
      "130:\tlearn: 7.3738086\ttotal: 221ms\tremaining: 32.1ms\n",
      "131:\tlearn: 7.3317303\ttotal: 223ms\tremaining: 30.4ms\n",
      "132:\tlearn: 7.2982988\ttotal: 225ms\tremaining: 28.7ms\n",
      "133:\tlearn: 7.2545790\ttotal: 226ms\tremaining: 27ms\n",
      "134:\tlearn: 7.1770251\ttotal: 228ms\tremaining: 25.3ms\n",
      "135:\tlearn: 7.1197393\ttotal: 230ms\tremaining: 23.7ms\n",
      "136:\tlearn: 7.0134858\ttotal: 232ms\tremaining: 22ms\n",
      "137:\tlearn: 6.9563133\ttotal: 234ms\tremaining: 20.3ms\n",
      "138:\tlearn: 6.9071959\ttotal: 235ms\tremaining: 18.6ms\n",
      "139:\tlearn: 6.8603271\ttotal: 237ms\tremaining: 16.9ms\n",
      "140:\tlearn: 6.8306918\ttotal: 239ms\tremaining: 15.2ms\n",
      "141:\tlearn: 6.7859025\ttotal: 241ms\tremaining: 13.6ms\n",
      "142:\tlearn: 6.7484145\ttotal: 242ms\tremaining: 11.9ms\n",
      "143:\tlearn: 6.6560635\ttotal: 244ms\tremaining: 10.2ms\n",
      "144:\tlearn: 6.5725204\ttotal: 246ms\tremaining: 8.48ms\n",
      "145:\tlearn: 6.5187708\ttotal: 248ms\tremaining: 6.79ms\n",
      "146:\tlearn: 6.4605574\ttotal: 249ms\tremaining: 5.09ms\n",
      "147:\tlearn: 6.4529229\ttotal: 251ms\tremaining: 3.39ms\n",
      "148:\tlearn: 6.4002438\ttotal: 253ms\tremaining: 1.7ms\n",
      "149:\tlearn: 6.3375052\ttotal: 254ms\tremaining: 0us\n",
      "Learning rate set to 0.196663\n",
      "0:\tlearn: 27.6244382\ttotal: 3.12ms\tremaining: 465ms\n",
      "1:\tlearn: 26.2874600\ttotal: 5.68ms\tremaining: 421ms\n",
      "2:\tlearn: 25.2871889\ttotal: 8.05ms\tremaining: 395ms\n",
      "3:\tlearn: 24.2622252\ttotal: 10.2ms\tremaining: 373ms\n",
      "4:\tlearn: 23.6524872\ttotal: 12.4ms\tremaining: 359ms\n",
      "5:\tlearn: 23.1251121\ttotal: 14.4ms\tremaining: 346ms\n",
      "6:\tlearn: 22.5132405\ttotal: 16.6ms\tremaining: 339ms\n",
      "7:\tlearn: 22.0678747\ttotal: 18.7ms\tremaining: 331ms\n",
      "8:\tlearn: 21.7595716\ttotal: 20.6ms\tremaining: 324ms\n",
      "9:\tlearn: 21.4291750\ttotal: 23ms\tremaining: 321ms\n",
      "10:\tlearn: 21.0957902\ttotal: 25ms\tremaining: 316ms\n",
      "11:\tlearn: 20.7823184\ttotal: 27ms\tremaining: 311ms\n",
      "12:\tlearn: 20.4913679\ttotal: 29.3ms\tremaining: 309ms\n",
      "13:\tlearn: 20.2139646\ttotal: 31.3ms\tremaining: 304ms\n",
      "14:\tlearn: 19.9818865\ttotal: 33.4ms\tremaining: 301ms\n",
      "15:\tlearn: 19.7982168\ttotal: 35.5ms\tremaining: 297ms\n",
      "16:\tlearn: 19.5490248\ttotal: 37.7ms\tremaining: 295ms\n",
      "17:\tlearn: 19.2785918\ttotal: 39.9ms\tremaining: 292ms\n",
      "18:\tlearn: 19.1439899\ttotal: 41.9ms\tremaining: 289ms\n",
      "19:\tlearn: 19.0220565\ttotal: 44ms\tremaining: 286ms\n",
      "20:\tlearn: 18.9606564\ttotal: 46.1ms\tremaining: 283ms\n",
      "21:\tlearn: 18.8308266\ttotal: 48.2ms\tremaining: 281ms\n",
      "22:\tlearn: 18.7623531\ttotal: 50.3ms\tremaining: 278ms\n",
      "23:\tlearn: 18.6918526\ttotal: 52.4ms\tremaining: 275ms\n",
      "24:\tlearn: 18.6048478\ttotal: 54.4ms\tremaining: 272ms\n",
      "25:\tlearn: 18.4661097\ttotal: 56.4ms\tremaining: 269ms\n",
      "26:\tlearn: 18.3600214\ttotal: 58.5ms\tremaining: 267ms\n",
      "27:\tlearn: 18.2882186\ttotal: 60.5ms\tremaining: 264ms\n",
      "28:\tlearn: 18.1476864\ttotal: 62.6ms\tremaining: 261ms\n",
      "29:\tlearn: 17.9661543\ttotal: 64.5ms\tremaining: 258ms\n",
      "30:\tlearn: 17.9179958\ttotal: 66.5ms\tremaining: 255ms\n",
      "31:\tlearn: 17.8196594\ttotal: 68.9ms\tremaining: 254ms\n",
      "32:\tlearn: 17.7431217\ttotal: 71.2ms\tremaining: 252ms\n",
      "33:\tlearn: 17.5834438\ttotal: 73.2ms\tremaining: 250ms\n",
      "34:\tlearn: 17.4193364\ttotal: 76ms\tremaining: 250ms\n",
      "35:\tlearn: 17.3021995\ttotal: 79ms\tremaining: 250ms\n",
      "36:\tlearn: 17.1460019\ttotal: 81.4ms\tremaining: 249ms\n",
      "37:\tlearn: 16.9683535\ttotal: 83.7ms\tremaining: 247ms\n",
      "38:\tlearn: 16.7622251\ttotal: 86.1ms\tremaining: 245ms\n",
      "39:\tlearn: 16.7163116\ttotal: 88.4ms\tremaining: 243ms\n",
      "40:\tlearn: 16.6042965\ttotal: 90.6ms\tremaining: 241ms\n",
      "41:\tlearn: 16.4844271\ttotal: 92.8ms\tremaining: 239ms\n",
      "42:\tlearn: 16.4363481\ttotal: 94.9ms\tremaining: 236ms\n",
      "43:\tlearn: 16.3877686\ttotal: 97.1ms\tremaining: 234ms\n",
      "44:\tlearn: 16.2977899\ttotal: 99.2ms\tremaining: 231ms\n",
      "45:\tlearn: 16.2055414\ttotal: 101ms\tremaining: 229ms\n",
      "46:\tlearn: 16.0406832\ttotal: 103ms\tremaining: 227ms\n",
      "47:\tlearn: 15.9254729\ttotal: 106ms\tremaining: 224ms\n",
      "48:\tlearn: 15.8358662\ttotal: 108ms\tremaining: 222ms\n",
      "49:\tlearn: 15.7835557\ttotal: 110ms\tremaining: 219ms\n",
      "50:\tlearn: 15.6654237\ttotal: 112ms\tremaining: 217ms\n",
      "51:\tlearn: 15.5117998\ttotal: 114ms\tremaining: 215ms\n",
      "52:\tlearn: 15.3476123\ttotal: 116ms\tremaining: 213ms\n",
      "53:\tlearn: 15.2568248\ttotal: 118ms\tremaining: 210ms\n",
      "54:\tlearn: 15.1620482\ttotal: 120ms\tremaining: 208ms\n",
      "55:\tlearn: 15.0245771\ttotal: 123ms\tremaining: 206ms\n",
      "56:\tlearn: 14.9006686\ttotal: 125ms\tremaining: 203ms\n",
      "57:\tlearn: 14.7461638\ttotal: 127ms\tremaining: 201ms\n",
      "58:\tlearn: 14.6486317\ttotal: 129ms\tremaining: 199ms\n",
      "59:\tlearn: 14.4710894\ttotal: 131ms\tremaining: 196ms\n",
      "60:\tlearn: 14.4166312\ttotal: 133ms\tremaining: 194ms\n",
      "61:\tlearn: 14.3641513\ttotal: 135ms\tremaining: 191ms\n",
      "62:\tlearn: 14.2950747\ttotal: 137ms\tremaining: 189ms\n",
      "63:\tlearn: 14.2108222\ttotal: 139ms\tremaining: 187ms\n",
      "64:\tlearn: 14.1851778\ttotal: 141ms\tremaining: 185ms\n",
      "65:\tlearn: 14.0473814\ttotal: 143ms\tremaining: 182ms\n",
      "66:\tlearn: 13.9485019\ttotal: 145ms\tremaining: 180ms\n",
      "67:\tlearn: 13.8542003\ttotal: 147ms\tremaining: 178ms\n",
      "68:\tlearn: 13.8375193\ttotal: 149ms\tremaining: 175ms\n",
      "69:\tlearn: 13.7481353\ttotal: 151ms\tremaining: 173ms\n",
      "70:\tlearn: 13.6687082\ttotal: 154ms\tremaining: 171ms\n",
      "71:\tlearn: 13.5126418\ttotal: 156ms\tremaining: 169ms\n",
      "72:\tlearn: 13.4974437\ttotal: 158ms\tremaining: 166ms\n",
      "73:\tlearn: 13.4263169\ttotal: 160ms\tremaining: 164ms\n",
      "74:\tlearn: 13.2954870\ttotal: 162ms\tremaining: 162ms\n",
      "75:\tlearn: 13.1696460\ttotal: 164ms\tremaining: 160ms\n",
      "76:\tlearn: 13.0810446\ttotal: 166ms\tremaining: 158ms\n",
      "77:\tlearn: 13.0499227\ttotal: 168ms\tremaining: 155ms\n",
      "78:\tlearn: 13.0076410\ttotal: 170ms\tremaining: 153ms\n",
      "79:\tlearn: 12.9542420\ttotal: 173ms\tremaining: 151ms\n",
      "80:\tlearn: 12.8532961\ttotal: 175ms\tremaining: 149ms\n",
      "81:\tlearn: 12.8456195\ttotal: 177ms\tremaining: 147ms\n",
      "82:\tlearn: 12.7614417\ttotal: 179ms\tremaining: 144ms\n",
      "83:\tlearn: 12.7516456\ttotal: 181ms\tremaining: 142ms\n",
      "84:\tlearn: 12.6189490\ttotal: 183ms\tremaining: 140ms\n",
      "85:\tlearn: 12.5582411\ttotal: 185ms\tremaining: 138ms\n",
      "86:\tlearn: 12.4518289\ttotal: 187ms\tremaining: 136ms\n",
      "87:\tlearn: 12.4300462\ttotal: 189ms\tremaining: 133ms\n",
      "88:\tlearn: 12.3609152\ttotal: 191ms\tremaining: 131ms\n",
      "89:\tlearn: 12.3135414\ttotal: 193ms\tremaining: 129ms\n",
      "90:\tlearn: 12.2208401\ttotal: 196ms\tremaining: 127ms\n",
      "91:\tlearn: 12.1364675\ttotal: 198ms\tremaining: 125ms\n",
      "92:\tlearn: 12.1156838\ttotal: 200ms\tremaining: 122ms\n",
      "93:\tlearn: 12.0474579\ttotal: 202ms\tremaining: 120ms\n",
      "94:\tlearn: 11.9756770\ttotal: 204ms\tremaining: 118ms\n",
      "95:\tlearn: 11.9399109\ttotal: 206ms\tremaining: 116ms\n",
      "96:\tlearn: 11.8565630\ttotal: 208ms\tremaining: 114ms\n",
      "97:\tlearn: 11.7876326\ttotal: 210ms\tremaining: 112ms\n",
      "98:\tlearn: 11.6813601\ttotal: 213ms\tremaining: 109ms\n",
      "99:\tlearn: 11.6283585\ttotal: 215ms\tremaining: 107ms\n",
      "100:\tlearn: 11.6148009\ttotal: 217ms\tremaining: 105ms\n",
      "101:\tlearn: 11.5676367\ttotal: 219ms\tremaining: 103ms\n",
      "102:\tlearn: 11.5090675\ttotal: 221ms\tremaining: 101ms\n",
      "103:\tlearn: 11.4526929\ttotal: 223ms\tremaining: 98.6ms\n",
      "104:\tlearn: 11.4471076\ttotal: 225ms\tremaining: 96.4ms\n",
      "105:\tlearn: 11.3711176\ttotal: 227ms\tremaining: 94.2ms\n",
      "106:\tlearn: 11.3179980\ttotal: 229ms\tremaining: 92ms\n",
      "107:\tlearn: 11.2734977\ttotal: 231ms\tremaining: 89.9ms\n",
      "108:\tlearn: 11.2066759\ttotal: 233ms\tremaining: 87.8ms\n",
      "109:\tlearn: 11.1150182\ttotal: 236ms\tremaining: 85.7ms\n",
      "110:\tlearn: 11.1052333\ttotal: 238ms\tremaining: 83.5ms\n",
      "111:\tlearn: 11.0917777\ttotal: 240ms\tremaining: 81.4ms\n",
      "112:\tlearn: 11.0316434\ttotal: 242ms\tremaining: 79.3ms\n",
      "113:\tlearn: 10.9991374\ttotal: 244ms\tremaining: 77.2ms\n",
      "114:\tlearn: 10.9505323\ttotal: 246ms\tremaining: 75ms\n",
      "115:\tlearn: 10.9420599\ttotal: 249ms\tremaining: 72.9ms\n",
      "116:\tlearn: 10.9182518\ttotal: 251ms\tremaining: 70.7ms\n",
      "117:\tlearn: 10.8805307\ttotal: 253ms\tremaining: 68.6ms\n",
      "118:\tlearn: 10.7932880\ttotal: 255ms\tremaining: 66.5ms\n",
      "119:\tlearn: 10.7435901\ttotal: 257ms\tremaining: 64.4ms\n",
      "120:\tlearn: 10.6470156\ttotal: 260ms\tremaining: 62.2ms\n",
      "121:\tlearn: 10.5676488\ttotal: 262ms\tremaining: 60.1ms\n",
      "122:\tlearn: 10.5168714\ttotal: 264ms\tremaining: 58ms\n",
      "123:\tlearn: 10.4511264\ttotal: 266ms\tremaining: 55.9ms\n",
      "124:\tlearn: 10.3687296\ttotal: 269ms\tremaining: 53.7ms\n",
      "125:\tlearn: 10.2990647\ttotal: 271ms\tremaining: 51.5ms\n",
      "126:\tlearn: 10.2395413\ttotal: 273ms\tremaining: 49.4ms\n",
      "127:\tlearn: 10.2332672\ttotal: 275ms\tremaining: 47.2ms\n",
      "128:\tlearn: 10.2268129\ttotal: 277ms\tremaining: 45.1ms\n",
      "129:\tlearn: 10.1559866\ttotal: 279ms\tremaining: 42.9ms\n",
      "130:\tlearn: 10.1220149\ttotal: 281ms\tremaining: 40.8ms\n",
      "131:\tlearn: 10.0809723\ttotal: 283ms\tremaining: 38.6ms\n",
      "132:\tlearn: 10.0285647\ttotal: 285ms\tremaining: 36.4ms\n",
      "133:\tlearn: 9.9712679\ttotal: 287ms\tremaining: 34.3ms\n",
      "134:\tlearn: 9.9278757\ttotal: 289ms\tremaining: 32.2ms\n",
      "135:\tlearn: 9.8208033\ttotal: 292ms\tremaining: 30ms\n",
      "136:\tlearn: 9.7726492\ttotal: 294ms\tremaining: 27.9ms\n",
      "137:\tlearn: 9.7386663\ttotal: 296ms\tremaining: 25.7ms\n",
      "138:\tlearn: 9.6989845\ttotal: 298ms\tremaining: 23.6ms\n",
      "139:\tlearn: 9.6949559\ttotal: 300ms\tremaining: 21.4ms\n",
      "140:\tlearn: 9.6863907\ttotal: 302ms\tremaining: 19.3ms\n",
      "141:\tlearn: 9.6541262\ttotal: 304ms\tremaining: 17.1ms\n",
      "142:\tlearn: 9.5995644\ttotal: 306ms\tremaining: 15ms\n",
      "143:\tlearn: 9.5625470\ttotal: 308ms\tremaining: 12.8ms\n",
      "144:\tlearn: 9.5510735\ttotal: 311ms\tremaining: 10.7ms\n",
      "145:\tlearn: 9.5107736\ttotal: 313ms\tremaining: 8.57ms\n",
      "146:\tlearn: 9.4731352\ttotal: 315ms\tremaining: 6.43ms\n",
      "147:\tlearn: 9.4513338\ttotal: 317ms\tremaining: 4.28ms\n",
      "148:\tlearn: 9.4129183\ttotal: 319ms\tremaining: 2.14ms\n",
      "149:\tlearn: 9.3561838\ttotal: 321ms\tremaining: 0us\n",
      "Learning rate set to 0.209656\n",
      "0:\tlearn: 29.3496940\ttotal: 3.03ms\tremaining: 452ms\n",
      "1:\tlearn: 27.7057532\ttotal: 5.67ms\tremaining: 420ms\n",
      "2:\tlearn: 26.4483991\ttotal: 8.23ms\tremaining: 404ms\n",
      "3:\tlearn: 25.5668187\ttotal: 10.7ms\tremaining: 389ms\n",
      "4:\tlearn: 24.7904826\ttotal: 13.1ms\tremaining: 380ms\n",
      "5:\tlearn: 24.2437005\ttotal: 15.5ms\tremaining: 373ms\n",
      "6:\tlearn: 23.6915535\ttotal: 17.9ms\tremaining: 365ms\n",
      "7:\tlearn: 23.2280906\ttotal: 20.3ms\tremaining: 361ms\n",
      "8:\tlearn: 22.8589182\ttotal: 22.7ms\tremaining: 355ms\n",
      "9:\tlearn: 22.5105592\ttotal: 25.1ms\tremaining: 351ms\n",
      "10:\tlearn: 22.1390258\ttotal: 27.5ms\tremaining: 347ms\n",
      "11:\tlearn: 21.7543355\ttotal: 29.9ms\tremaining: 344ms\n",
      "12:\tlearn: 21.4942147\ttotal: 32.6ms\tremaining: 344ms\n",
      "13:\tlearn: 21.2460395\ttotal: 35.1ms\tremaining: 341ms\n",
      "14:\tlearn: 21.0917818\ttotal: 37.5ms\tremaining: 337ms\n",
      "15:\tlearn: 20.9405002\ttotal: 39.9ms\tremaining: 334ms\n",
      "16:\tlearn: 20.7311893\ttotal: 42.4ms\tremaining: 332ms\n",
      "17:\tlearn: 20.5586999\ttotal: 44.9ms\tremaining: 329ms\n",
      "18:\tlearn: 20.4464032\ttotal: 47.4ms\tremaining: 327ms\n",
      "19:\tlearn: 20.3121301\ttotal: 50.1ms\tremaining: 325ms\n",
      "20:\tlearn: 20.1643956\ttotal: 52.7ms\tremaining: 324ms\n",
      "21:\tlearn: 20.0523392\ttotal: 55ms\tremaining: 320ms\n",
      "22:\tlearn: 19.8344595\ttotal: 57.4ms\tremaining: 317ms\n",
      "23:\tlearn: 19.7694838\ttotal: 59.9ms\tremaining: 314ms\n",
      "24:\tlearn: 19.6233147\ttotal: 62.4ms\tremaining: 312ms\n",
      "25:\tlearn: 19.4951040\ttotal: 64.8ms\tremaining: 309ms\n",
      "26:\tlearn: 19.4191988\ttotal: 67.3ms\tremaining: 306ms\n",
      "27:\tlearn: 19.3701830\ttotal: 69.7ms\tremaining: 304ms\n",
      "28:\tlearn: 19.3094337\ttotal: 72.2ms\tremaining: 301ms\n",
      "29:\tlearn: 19.2340421\ttotal: 74.6ms\tremaining: 299ms\n",
      "30:\tlearn: 19.1266155\ttotal: 77.1ms\tremaining: 296ms\n",
      "31:\tlearn: 19.0356551\ttotal: 79.6ms\tremaining: 294ms\n",
      "32:\tlearn: 18.9507237\ttotal: 83.2ms\tremaining: 295ms\n",
      "33:\tlearn: 18.9054185\ttotal: 85.7ms\tremaining: 293ms\n",
      "34:\tlearn: 18.7832664\ttotal: 88.2ms\tremaining: 290ms\n",
      "35:\tlearn: 18.5895434\ttotal: 90.6ms\tremaining: 287ms\n",
      "36:\tlearn: 18.5208210\ttotal: 93ms\tremaining: 284ms\n",
      "37:\tlearn: 18.4835421\ttotal: 95.4ms\tremaining: 281ms\n",
      "38:\tlearn: 18.3609024\ttotal: 97.8ms\tremaining: 278ms\n",
      "39:\tlearn: 18.2975029\ttotal: 100ms\tremaining: 276ms\n",
      "40:\tlearn: 18.2201536\ttotal: 103ms\tremaining: 273ms\n",
      "41:\tlearn: 18.1692425\ttotal: 105ms\tremaining: 270ms\n",
      "42:\tlearn: 18.0084740\ttotal: 108ms\tremaining: 268ms\n",
      "43:\tlearn: 17.8830497\ttotal: 110ms\tremaining: 265ms\n",
      "44:\tlearn: 17.8061906\ttotal: 112ms\tremaining: 262ms\n",
      "45:\tlearn: 17.6980854\ttotal: 115ms\tremaining: 259ms\n",
      "46:\tlearn: 17.5427029\ttotal: 117ms\tremaining: 257ms\n",
      "47:\tlearn: 17.4290708\ttotal: 119ms\tremaining: 254ms\n",
      "48:\tlearn: 17.3087565\ttotal: 122ms\tremaining: 251ms\n",
      "49:\tlearn: 17.1668820\ttotal: 124ms\tremaining: 249ms\n",
      "50:\tlearn: 17.0569528\ttotal: 127ms\tremaining: 246ms\n",
      "51:\tlearn: 17.0062367\ttotal: 129ms\tremaining: 244ms\n",
      "52:\tlearn: 16.9437433\ttotal: 132ms\tremaining: 241ms\n",
      "53:\tlearn: 16.8689759\ttotal: 134ms\tremaining: 239ms\n",
      "54:\tlearn: 16.7805674\ttotal: 137ms\tremaining: 237ms\n",
      "55:\tlearn: 16.7338638\ttotal: 140ms\tremaining: 234ms\n",
      "56:\tlearn: 16.6102006\ttotal: 143ms\tremaining: 233ms\n",
      "57:\tlearn: 16.5296092\ttotal: 145ms\tremaining: 230ms\n",
      "58:\tlearn: 16.4100875\ttotal: 148ms\tremaining: 228ms\n",
      "59:\tlearn: 16.3298577\ttotal: 150ms\tremaining: 226ms\n",
      "60:\tlearn: 16.3037014\ttotal: 153ms\tremaining: 223ms\n",
      "61:\tlearn: 16.2520429\ttotal: 155ms\tremaining: 221ms\n",
      "62:\tlearn: 16.1605443\ttotal: 158ms\tremaining: 218ms\n",
      "63:\tlearn: 16.0843451\ttotal: 161ms\tremaining: 216ms\n",
      "64:\tlearn: 15.9744691\ttotal: 163ms\tremaining: 213ms\n",
      "65:\tlearn: 15.9035967\ttotal: 166ms\tremaining: 211ms\n",
      "66:\tlearn: 15.7933190\ttotal: 168ms\tremaining: 208ms\n",
      "67:\tlearn: 15.7352992\ttotal: 171ms\tremaining: 206ms\n",
      "68:\tlearn: 15.6840286\ttotal: 173ms\tremaining: 203ms\n",
      "69:\tlearn: 15.6061716\ttotal: 175ms\tremaining: 200ms\n",
      "70:\tlearn: 15.5063647\ttotal: 178ms\tremaining: 198ms\n",
      "71:\tlearn: 15.4653091\ttotal: 180ms\tremaining: 195ms\n",
      "72:\tlearn: 15.3472668\ttotal: 183ms\tremaining: 193ms\n",
      "73:\tlearn: 15.2547975\ttotal: 185ms\tremaining: 190ms\n",
      "74:\tlearn: 15.2175416\ttotal: 187ms\tremaining: 187ms\n",
      "75:\tlearn: 15.1581526\ttotal: 190ms\tremaining: 185ms\n",
      "76:\tlearn: 15.1269580\ttotal: 192ms\tremaining: 182ms\n",
      "77:\tlearn: 15.0499905\ttotal: 194ms\tremaining: 179ms\n",
      "78:\tlearn: 14.9866544\ttotal: 197ms\tremaining: 177ms\n",
      "79:\tlearn: 14.9478550\ttotal: 199ms\tremaining: 174ms\n",
      "80:\tlearn: 14.9211530\ttotal: 201ms\tremaining: 172ms\n",
      "81:\tlearn: 14.8778194\ttotal: 204ms\tremaining: 169ms\n",
      "82:\tlearn: 14.8294119\ttotal: 206ms\tremaining: 166ms\n",
      "83:\tlearn: 14.7788222\ttotal: 208ms\tremaining: 164ms\n",
      "84:\tlearn: 14.7707835\ttotal: 211ms\tremaining: 161ms\n",
      "85:\tlearn: 14.7074563\ttotal: 213ms\tremaining: 159ms\n",
      "86:\tlearn: 14.6554962\ttotal: 216ms\tremaining: 156ms\n",
      "87:\tlearn: 14.5881913\ttotal: 218ms\tremaining: 154ms\n",
      "88:\tlearn: 14.5305869\ttotal: 220ms\tremaining: 151ms\n",
      "89:\tlearn: 14.4825187\ttotal: 223ms\tremaining: 149ms\n",
      "90:\tlearn: 14.4578174\ttotal: 225ms\tremaining: 146ms\n",
      "91:\tlearn: 14.3891722\ttotal: 228ms\tremaining: 144ms\n",
      "92:\tlearn: 14.3049494\ttotal: 231ms\tremaining: 141ms\n",
      "93:\tlearn: 14.2941812\ttotal: 233ms\tremaining: 139ms\n",
      "94:\tlearn: 14.2386202\ttotal: 235ms\tremaining: 136ms\n",
      "95:\tlearn: 14.1873079\ttotal: 238ms\tremaining: 134ms\n",
      "96:\tlearn: 14.1605241\ttotal: 240ms\tremaining: 131ms\n",
      "97:\tlearn: 14.0851566\ttotal: 243ms\tremaining: 129ms\n",
      "98:\tlearn: 14.0761863\ttotal: 245ms\tremaining: 126ms\n",
      "99:\tlearn: 14.0076118\ttotal: 248ms\tremaining: 124ms\n",
      "100:\tlearn: 13.9482865\ttotal: 250ms\tremaining: 121ms\n",
      "101:\tlearn: 13.8494829\ttotal: 253ms\tremaining: 119ms\n",
      "102:\tlearn: 13.7368753\ttotal: 255ms\tremaining: 117ms\n",
      "103:\tlearn: 13.7273053\ttotal: 258ms\tremaining: 114ms\n",
      "104:\tlearn: 13.6513989\ttotal: 260ms\tremaining: 112ms\n",
      "105:\tlearn: 13.5830651\ttotal: 263ms\tremaining: 109ms\n",
      "106:\tlearn: 13.5025551\ttotal: 265ms\tremaining: 107ms\n",
      "107:\tlearn: 13.4294665\ttotal: 268ms\tremaining: 104ms\n",
      "108:\tlearn: 13.4024226\ttotal: 270ms\tremaining: 102ms\n",
      "109:\tlearn: 13.3544608\ttotal: 272ms\tremaining: 99ms\n",
      "110:\tlearn: 13.2767871\ttotal: 275ms\tremaining: 96.5ms\n",
      "111:\tlearn: 13.2363446\ttotal: 277ms\tremaining: 94ms\n",
      "112:\tlearn: 13.1630111\ttotal: 279ms\tremaining: 91.5ms\n",
      "113:\tlearn: 13.1090724\ttotal: 282ms\tremaining: 89.1ms\n",
      "114:\tlearn: 13.1034854\ttotal: 284ms\tremaining: 86.6ms\n",
      "115:\tlearn: 13.0460211\ttotal: 287ms\tremaining: 84.1ms\n",
      "116:\tlearn: 12.9771435\ttotal: 289ms\tremaining: 81.6ms\n",
      "117:\tlearn: 12.9409772\ttotal: 292ms\tremaining: 79.1ms\n",
      "118:\tlearn: 12.8958005\ttotal: 294ms\tremaining: 76.7ms\n",
      "119:\tlearn: 12.8369083\ttotal: 297ms\tremaining: 74.1ms\n",
      "120:\tlearn: 12.7603604\ttotal: 299ms\tremaining: 71.7ms\n",
      "121:\tlearn: 12.7008845\ttotal: 301ms\tremaining: 69.2ms\n",
      "122:\tlearn: 12.6321558\ttotal: 304ms\tremaining: 66.7ms\n",
      "123:\tlearn: 12.6068430\ttotal: 306ms\tremaining: 64.2ms\n",
      "124:\tlearn: 12.5401947\ttotal: 309ms\tremaining: 61.7ms\n",
      "125:\tlearn: 12.4676888\ttotal: 311ms\tremaining: 59.3ms\n",
      "126:\tlearn: 12.4003960\ttotal: 314ms\tremaining: 56.8ms\n",
      "127:\tlearn: 12.3494855\ttotal: 316ms\tremaining: 54.3ms\n",
      "128:\tlearn: 12.3296702\ttotal: 318ms\tremaining: 51.8ms\n",
      "129:\tlearn: 12.2853395\ttotal: 321ms\tremaining: 49.4ms\n",
      "130:\tlearn: 12.1774688\ttotal: 323ms\tremaining: 46.9ms\n",
      "131:\tlearn: 12.1084364\ttotal: 326ms\tremaining: 44.4ms\n",
      "132:\tlearn: 12.0597322\ttotal: 328ms\tremaining: 42ms\n",
      "133:\tlearn: 12.0092511\ttotal: 331ms\tremaining: 39.5ms\n",
      "134:\tlearn: 11.9935878\ttotal: 333ms\tremaining: 37ms\n",
      "135:\tlearn: 11.9259657\ttotal: 336ms\tremaining: 34.6ms\n",
      "136:\tlearn: 11.8927360\ttotal: 338ms\tremaining: 32.1ms\n",
      "137:\tlearn: 11.8566165\ttotal: 341ms\tremaining: 29.6ms\n",
      "138:\tlearn: 11.8233156\ttotal: 343ms\tremaining: 27.2ms\n",
      "139:\tlearn: 11.7503440\ttotal: 346ms\tremaining: 24.7ms\n",
      "140:\tlearn: 11.7069976\ttotal: 349ms\tremaining: 22.3ms\n",
      "141:\tlearn: 11.6340272\ttotal: 351ms\tremaining: 19.8ms\n",
      "142:\tlearn: 11.5857370\ttotal: 354ms\tremaining: 17.3ms\n",
      "143:\tlearn: 11.5355455\ttotal: 357ms\tremaining: 14.9ms\n",
      "144:\tlearn: 11.4748075\ttotal: 359ms\tremaining: 12.4ms\n",
      "145:\tlearn: 11.4114020\ttotal: 362ms\tremaining: 9.92ms\n",
      "146:\tlearn: 11.3600821\ttotal: 365ms\tremaining: 7.44ms\n",
      "147:\tlearn: 11.3342308\ttotal: 367ms\tremaining: 4.96ms\n",
      "148:\tlearn: 11.2766655\ttotal: 370ms\tremaining: 2.48ms\n",
      "149:\tlearn: 11.2219085\ttotal: 372ms\tremaining: 0us\n",
      "Learning rate set to 0.219395\n",
      "0:\tlearn: 29.8806210\ttotal: 3.2ms\tremaining: 477ms\n",
      "1:\tlearn: 28.2097040\ttotal: 6.05ms\tremaining: 448ms\n",
      "2:\tlearn: 26.8710297\ttotal: 8.78ms\tremaining: 430ms\n",
      "3:\tlearn: 25.8210112\ttotal: 11.5ms\tremaining: 420ms\n",
      "4:\tlearn: 24.8335510\ttotal: 14.2ms\tremaining: 411ms\n",
      "5:\tlearn: 24.2904890\ttotal: 16.9ms\tremaining: 406ms\n",
      "6:\tlearn: 23.7855466\ttotal: 19.5ms\tremaining: 399ms\n",
      "7:\tlearn: 23.4387898\ttotal: 22.1ms\tremaining: 392ms\n",
      "8:\tlearn: 22.9910773\ttotal: 24.7ms\tremaining: 387ms\n",
      "9:\tlearn: 22.6599383\ttotal: 27.4ms\tremaining: 383ms\n",
      "10:\tlearn: 22.4377230\ttotal: 30ms\tremaining: 380ms\n",
      "11:\tlearn: 22.1557879\ttotal: 32.6ms\tremaining: 375ms\n",
      "12:\tlearn: 21.8869191\ttotal: 35.2ms\tremaining: 371ms\n",
      "13:\tlearn: 21.7369028\ttotal: 37.9ms\tremaining: 368ms\n",
      "14:\tlearn: 21.5800569\ttotal: 40.5ms\tremaining: 365ms\n",
      "15:\tlearn: 21.4642761\ttotal: 43.3ms\tremaining: 362ms\n",
      "16:\tlearn: 21.3108690\ttotal: 46ms\tremaining: 360ms\n",
      "17:\tlearn: 21.1309415\ttotal: 48.6ms\tremaining: 356ms\n",
      "18:\tlearn: 21.0133924\ttotal: 51.2ms\tremaining: 353ms\n",
      "19:\tlearn: 20.9254860\ttotal: 53.8ms\tremaining: 350ms\n",
      "20:\tlearn: 20.7650439\ttotal: 56.4ms\tremaining: 346ms\n",
      "21:\tlearn: 20.6639426\ttotal: 59.2ms\tremaining: 345ms\n",
      "22:\tlearn: 20.5497837\ttotal: 62ms\tremaining: 342ms\n",
      "23:\tlearn: 20.4961331\ttotal: 64.5ms\tremaining: 338ms\n",
      "24:\tlearn: 20.3583977\ttotal: 67.2ms\tremaining: 336ms\n",
      "25:\tlearn: 20.2927802\ttotal: 69.7ms\tremaining: 333ms\n",
      "26:\tlearn: 20.1951608\ttotal: 72.3ms\tremaining: 329ms\n",
      "27:\tlearn: 20.0613464\ttotal: 74.9ms\tremaining: 326ms\n",
      "28:\tlearn: 19.9311276\ttotal: 77.6ms\tremaining: 324ms\n",
      "29:\tlearn: 19.8366720\ttotal: 80.5ms\tremaining: 322ms\n",
      "30:\tlearn: 19.7497446\ttotal: 83.2ms\tremaining: 320ms\n",
      "31:\tlearn: 19.6252432\ttotal: 86.4ms\tremaining: 319ms\n",
      "32:\tlearn: 19.4867081\ttotal: 89.3ms\tremaining: 317ms\n",
      "33:\tlearn: 19.3569093\ttotal: 92.8ms\tremaining: 317ms\n",
      "34:\tlearn: 19.2782998\ttotal: 95.4ms\tremaining: 314ms\n",
      "35:\tlearn: 19.2206200\ttotal: 98.3ms\tremaining: 311ms\n",
      "36:\tlearn: 19.1504333\ttotal: 101ms\tremaining: 308ms\n",
      "37:\tlearn: 19.1035432\ttotal: 104ms\tremaining: 305ms\n",
      "38:\tlearn: 19.0140573\ttotal: 106ms\tremaining: 303ms\n",
      "39:\tlearn: 18.9374147\ttotal: 109ms\tremaining: 300ms\n",
      "40:\tlearn: 18.8577661\ttotal: 112ms\tremaining: 298ms\n",
      "41:\tlearn: 18.7912558\ttotal: 115ms\tremaining: 295ms\n",
      "42:\tlearn: 18.7424672\ttotal: 117ms\tremaining: 292ms\n",
      "43:\tlearn: 18.6550635\ttotal: 120ms\tremaining: 289ms\n",
      "44:\tlearn: 18.5939291\ttotal: 123ms\tremaining: 287ms\n",
      "45:\tlearn: 18.4855171\ttotal: 125ms\tremaining: 284ms\n",
      "46:\tlearn: 18.4040619\ttotal: 128ms\tremaining: 280ms\n",
      "47:\tlearn: 18.3663269\ttotal: 131ms\tremaining: 278ms\n",
      "48:\tlearn: 18.3494152\ttotal: 133ms\tremaining: 275ms\n",
      "49:\tlearn: 18.2277561\ttotal: 136ms\tremaining: 272ms\n",
      "50:\tlearn: 18.1110288\ttotal: 138ms\tremaining: 269ms\n",
      "51:\tlearn: 18.0386207\ttotal: 141ms\tremaining: 266ms\n",
      "52:\tlearn: 17.9232369\ttotal: 144ms\tremaining: 263ms\n",
      "53:\tlearn: 17.8987535\ttotal: 147ms\tremaining: 261ms\n",
      "54:\tlearn: 17.8075821\ttotal: 150ms\tremaining: 258ms\n",
      "55:\tlearn: 17.7217168\ttotal: 152ms\tremaining: 256ms\n",
      "56:\tlearn: 17.6366549\ttotal: 155ms\tremaining: 253ms\n",
      "57:\tlearn: 17.5773564\ttotal: 158ms\tremaining: 251ms\n",
      "58:\tlearn: 17.4622360\ttotal: 161ms\tremaining: 248ms\n",
      "59:\tlearn: 17.3579407\ttotal: 164ms\tremaining: 245ms\n",
      "60:\tlearn: 17.2687099\ttotal: 166ms\tremaining: 243ms\n",
      "61:\tlearn: 17.2155649\ttotal: 169ms\tremaining: 240ms\n",
      "62:\tlearn: 17.1470953\ttotal: 171ms\tremaining: 237ms\n",
      "63:\tlearn: 17.0736826\ttotal: 174ms\tremaining: 234ms\n",
      "64:\tlearn: 17.0607194\ttotal: 177ms\tremaining: 231ms\n",
      "65:\tlearn: 16.9591360\ttotal: 179ms\tremaining: 228ms\n",
      "66:\tlearn: 16.8633366\ttotal: 182ms\tremaining: 225ms\n",
      "67:\tlearn: 16.8200805\ttotal: 185ms\tremaining: 223ms\n",
      "68:\tlearn: 16.7251582\ttotal: 187ms\tremaining: 220ms\n",
      "69:\tlearn: 16.6507389\ttotal: 190ms\tremaining: 217ms\n",
      "70:\tlearn: 16.5380066\ttotal: 193ms\tremaining: 215ms\n",
      "71:\tlearn: 16.4609114\ttotal: 196ms\tremaining: 212ms\n",
      "72:\tlearn: 16.3986305\ttotal: 198ms\tremaining: 209ms\n",
      "73:\tlearn: 16.3399506\ttotal: 201ms\tremaining: 207ms\n",
      "74:\tlearn: 16.2924909\ttotal: 204ms\tremaining: 204ms\n",
      "75:\tlearn: 16.2347538\ttotal: 207ms\tremaining: 201ms\n",
      "76:\tlearn: 16.1554033\ttotal: 209ms\tremaining: 199ms\n",
      "77:\tlearn: 16.1392957\ttotal: 212ms\tremaining: 196ms\n",
      "78:\tlearn: 16.1122563\ttotal: 215ms\tremaining: 193ms\n",
      "79:\tlearn: 16.0603375\ttotal: 217ms\tremaining: 190ms\n",
      "80:\tlearn: 15.9230695\ttotal: 220ms\tremaining: 188ms\n",
      "81:\tlearn: 15.8187909\ttotal: 223ms\tremaining: 185ms\n",
      "82:\tlearn: 15.7628500\ttotal: 226ms\tremaining: 182ms\n",
      "83:\tlearn: 15.7162607\ttotal: 228ms\tremaining: 179ms\n",
      "84:\tlearn: 15.6774560\ttotal: 231ms\tremaining: 177ms\n",
      "85:\tlearn: 15.6367983\ttotal: 234ms\tremaining: 174ms\n",
      "86:\tlearn: 15.5823791\ttotal: 236ms\tremaining: 171ms\n",
      "87:\tlearn: 15.5751097\ttotal: 239ms\tremaining: 168ms\n",
      "88:\tlearn: 15.4856589\ttotal: 242ms\tremaining: 166ms\n",
      "89:\tlearn: 15.3870443\ttotal: 244ms\tremaining: 163ms\n",
      "90:\tlearn: 15.3233812\ttotal: 247ms\tremaining: 160ms\n",
      "91:\tlearn: 15.2530136\ttotal: 250ms\tremaining: 158ms\n",
      "92:\tlearn: 15.2464456\ttotal: 253ms\tremaining: 155ms\n",
      "93:\tlearn: 15.1391903\ttotal: 255ms\tremaining: 152ms\n",
      "94:\tlearn: 15.0701390\ttotal: 258ms\tremaining: 149ms\n",
      "95:\tlearn: 15.0282448\ttotal: 261ms\tremaining: 147ms\n",
      "96:\tlearn: 14.9964226\ttotal: 263ms\tremaining: 144ms\n",
      "97:\tlearn: 14.9140402\ttotal: 266ms\tremaining: 141ms\n",
      "98:\tlearn: 14.8516758\ttotal: 269ms\tremaining: 139ms\n",
      "99:\tlearn: 14.7959409\ttotal: 272ms\tremaining: 136ms\n",
      "100:\tlearn: 14.7617837\ttotal: 275ms\tremaining: 133ms\n",
      "101:\tlearn: 14.6795931\ttotal: 278ms\tremaining: 131ms\n",
      "102:\tlearn: 14.5913907\ttotal: 280ms\tremaining: 128ms\n",
      "103:\tlearn: 14.5117915\ttotal: 283ms\tremaining: 125ms\n",
      "104:\tlearn: 14.4176331\ttotal: 286ms\tremaining: 122ms\n",
      "105:\tlearn: 14.3753036\ttotal: 288ms\tremaining: 120ms\n",
      "106:\tlearn: 14.3207514\ttotal: 291ms\tremaining: 117ms\n",
      "107:\tlearn: 14.2571504\ttotal: 293ms\tremaining: 114ms\n",
      "108:\tlearn: 14.2186566\ttotal: 296ms\tremaining: 111ms\n",
      "109:\tlearn: 14.1695135\ttotal: 299ms\tremaining: 109ms\n",
      "110:\tlearn: 14.1112848\ttotal: 301ms\tremaining: 106ms\n",
      "111:\tlearn: 14.0240690\ttotal: 304ms\tremaining: 103ms\n",
      "112:\tlearn: 14.0043053\ttotal: 307ms\tremaining: 100ms\n",
      "113:\tlearn: 13.9401041\ttotal: 309ms\tremaining: 97.7ms\n",
      "114:\tlearn: 13.9326033\ttotal: 312ms\tremaining: 95ms\n",
      "115:\tlearn: 13.9102586\ttotal: 315ms\tremaining: 92.2ms\n",
      "116:\tlearn: 13.8499522\ttotal: 317ms\tremaining: 89.5ms\n",
      "117:\tlearn: 13.7906108\ttotal: 320ms\tremaining: 86.8ms\n",
      "118:\tlearn: 13.7362941\ttotal: 323ms\tremaining: 84.1ms\n",
      "119:\tlearn: 13.7034617\ttotal: 325ms\tremaining: 81.3ms\n",
      "120:\tlearn: 13.6445394\ttotal: 328ms\tremaining: 78.6ms\n",
      "121:\tlearn: 13.5970543\ttotal: 331ms\tremaining: 75.9ms\n",
      "122:\tlearn: 13.5592759\ttotal: 333ms\tremaining: 73.2ms\n",
      "123:\tlearn: 13.5262864\ttotal: 336ms\tremaining: 70.5ms\n",
      "124:\tlearn: 13.4929688\ttotal: 339ms\tremaining: 67.8ms\n",
      "125:\tlearn: 13.4555478\ttotal: 341ms\tremaining: 65ms\n",
      "126:\tlearn: 13.3889673\ttotal: 344ms\tremaining: 62.3ms\n",
      "127:\tlearn: 13.3781461\ttotal: 347ms\tremaining: 59.6ms\n",
      "128:\tlearn: 13.3257061\ttotal: 350ms\tremaining: 56.9ms\n",
      "129:\tlearn: 13.3142386\ttotal: 352ms\tremaining: 54.2ms\n",
      "130:\tlearn: 13.2628630\ttotal: 355ms\tremaining: 51.5ms\n",
      "131:\tlearn: 13.2354327\ttotal: 358ms\tremaining: 48.8ms\n",
      "132:\tlearn: 13.1546857\ttotal: 360ms\tremaining: 46ms\n",
      "133:\tlearn: 13.1363661\ttotal: 363ms\tremaining: 43.3ms\n",
      "134:\tlearn: 13.0917014\ttotal: 366ms\tremaining: 40.6ms\n",
      "135:\tlearn: 13.0884413\ttotal: 368ms\tremaining: 37.9ms\n",
      "136:\tlearn: 13.0440009\ttotal: 371ms\tremaining: 35.2ms\n",
      "137:\tlearn: 13.0014198\ttotal: 374ms\tremaining: 32.5ms\n",
      "138:\tlearn: 12.9333890\ttotal: 376ms\tremaining: 29.8ms\n",
      "139:\tlearn: 12.8832488\ttotal: 379ms\tremaining: 27.1ms\n",
      "140:\tlearn: 12.8795684\ttotal: 381ms\tremaining: 24.3ms\n",
      "141:\tlearn: 12.8641730\ttotal: 384ms\tremaining: 21.6ms\n",
      "142:\tlearn: 12.8538353\ttotal: 387ms\tremaining: 18.9ms\n",
      "143:\tlearn: 12.7858758\ttotal: 390ms\tremaining: 16.2ms\n",
      "144:\tlearn: 12.7330409\ttotal: 393ms\tremaining: 13.5ms\n",
      "145:\tlearn: 12.6908798\ttotal: 396ms\tremaining: 10.8ms\n",
      "146:\tlearn: 12.6379364\ttotal: 400ms\tremaining: 8.16ms\n",
      "147:\tlearn: 12.5849541\ttotal: 403ms\tremaining: 5.44ms\n",
      "148:\tlearn: 12.5510048\ttotal: 406ms\tremaining: 2.72ms\n",
      "149:\tlearn: 12.5157885\ttotal: 408ms\tremaining: 0us\n",
      "Learning rate set to 0.227263\n",
      "0:\tlearn: 30.4047352\ttotal: 3.81ms\tremaining: 569ms\n",
      "1:\tlearn: 28.7562270\ttotal: 7.04ms\tremaining: 521ms\n",
      "2:\tlearn: 27.3704548\ttotal: 10.4ms\tremaining: 511ms\n",
      "3:\tlearn: 26.5549132\ttotal: 13.5ms\tremaining: 494ms\n",
      "4:\tlearn: 25.7229103\ttotal: 16.9ms\tremaining: 490ms\n",
      "5:\tlearn: 25.0988977\ttotal: 20ms\tremaining: 479ms\n",
      "6:\tlearn: 24.5072420\ttotal: 22.9ms\tremaining: 467ms\n",
      "7:\tlearn: 24.0978123\ttotal: 25.8ms\tremaining: 458ms\n",
      "8:\tlearn: 23.8376999\ttotal: 28.7ms\tremaining: 450ms\n",
      "9:\tlearn: 23.5333828\ttotal: 31.8ms\tremaining: 445ms\n",
      "10:\tlearn: 23.2791905\ttotal: 34.7ms\tremaining: 439ms\n",
      "11:\tlearn: 23.0309641\ttotal: 37.7ms\tremaining: 433ms\n",
      "12:\tlearn: 22.8566804\ttotal: 40.5ms\tremaining: 427ms\n",
      "13:\tlearn: 22.6916170\ttotal: 43.4ms\tremaining: 421ms\n",
      "14:\tlearn: 22.4860791\ttotal: 46.4ms\tremaining: 417ms\n",
      "15:\tlearn: 22.3651640\ttotal: 49.3ms\tremaining: 413ms\n",
      "16:\tlearn: 22.2200859\ttotal: 52.2ms\tremaining: 408ms\n",
      "17:\tlearn: 22.1453257\ttotal: 55.3ms\tremaining: 406ms\n",
      "18:\tlearn: 22.0206332\ttotal: 58.1ms\tremaining: 401ms\n",
      "19:\tlearn: 21.9253843\ttotal: 61.1ms\tremaining: 397ms\n",
      "20:\tlearn: 21.8090166\ttotal: 63.9ms\tremaining: 393ms\n",
      "21:\tlearn: 21.6960392\ttotal: 66.7ms\tremaining: 388ms\n",
      "22:\tlearn: 21.5879731\ttotal: 69.7ms\tremaining: 385ms\n",
      "23:\tlearn: 21.4660923\ttotal: 72.6ms\tremaining: 381ms\n",
      "24:\tlearn: 21.3552085\ttotal: 75.5ms\tremaining: 378ms\n",
      "25:\tlearn: 21.2674607\ttotal: 78.5ms\tremaining: 375ms\n",
      "26:\tlearn: 21.1424743\ttotal: 81.3ms\tremaining: 370ms\n",
      "27:\tlearn: 21.0585987\ttotal: 84.2ms\tremaining: 367ms\n",
      "28:\tlearn: 20.9573142\ttotal: 87.2ms\tremaining: 364ms\n",
      "29:\tlearn: 20.8404253\ttotal: 90.1ms\tremaining: 361ms\n",
      "30:\tlearn: 20.7118611\ttotal: 93.1ms\tremaining: 357ms\n",
      "31:\tlearn: 20.5713100\ttotal: 96ms\tremaining: 354ms\n",
      "32:\tlearn: 20.4914343\ttotal: 99.3ms\tremaining: 352ms\n",
      "33:\tlearn: 20.3860876\ttotal: 102ms\tremaining: 348ms\n",
      "34:\tlearn: 20.2175784\ttotal: 105ms\tremaining: 345ms\n",
      "35:\tlearn: 20.1296579\ttotal: 108ms\tremaining: 341ms\n",
      "36:\tlearn: 20.0742399\ttotal: 111ms\tremaining: 338ms\n",
      "37:\tlearn: 19.9444864\ttotal: 113ms\tremaining: 334ms\n",
      "38:\tlearn: 19.8269660\ttotal: 116ms\tremaining: 331ms\n",
      "39:\tlearn: 19.7434678\ttotal: 119ms\tremaining: 328ms\n",
      "40:\tlearn: 19.6719664\ttotal: 122ms\tremaining: 325ms\n",
      "41:\tlearn: 19.6195705\ttotal: 125ms\tremaining: 321ms\n",
      "42:\tlearn: 19.5640363\ttotal: 128ms\tremaining: 318ms\n",
      "43:\tlearn: 19.4708798\ttotal: 131ms\tremaining: 315ms\n",
      "44:\tlearn: 19.4029651\ttotal: 134ms\tremaining: 312ms\n",
      "45:\tlearn: 19.3535054\ttotal: 137ms\tremaining: 309ms\n",
      "46:\tlearn: 19.3026107\ttotal: 139ms\tremaining: 306ms\n",
      "47:\tlearn: 19.2236105\ttotal: 142ms\tremaining: 302ms\n",
      "48:\tlearn: 19.1354862\ttotal: 145ms\tremaining: 299ms\n",
      "49:\tlearn: 19.0874191\ttotal: 148ms\tremaining: 296ms\n",
      "50:\tlearn: 18.9928249\ttotal: 151ms\tremaining: 293ms\n",
      "51:\tlearn: 18.9303536\ttotal: 154ms\tremaining: 290ms\n",
      "52:\tlearn: 18.8126580\ttotal: 157ms\tremaining: 287ms\n",
      "53:\tlearn: 18.7299113\ttotal: 160ms\tremaining: 284ms\n",
      "54:\tlearn: 18.6520083\ttotal: 163ms\tremaining: 281ms\n",
      "55:\tlearn: 18.5816839\ttotal: 165ms\tremaining: 278ms\n",
      "56:\tlearn: 18.4788936\ttotal: 168ms\tremaining: 275ms\n",
      "57:\tlearn: 18.4094417\ttotal: 171ms\tremaining: 272ms\n",
      "58:\tlearn: 18.3508248\ttotal: 174ms\tremaining: 269ms\n",
      "59:\tlearn: 18.2511073\ttotal: 177ms\tremaining: 266ms\n",
      "60:\tlearn: 18.1840582\ttotal: 180ms\tremaining: 263ms\n",
      "61:\tlearn: 18.1119424\ttotal: 183ms\tremaining: 260ms\n",
      "62:\tlearn: 18.0309648\ttotal: 186ms\tremaining: 257ms\n",
      "63:\tlearn: 17.9802037\ttotal: 189ms\tremaining: 254ms\n",
      "64:\tlearn: 17.8645222\ttotal: 192ms\tremaining: 251ms\n",
      "65:\tlearn: 17.7879081\ttotal: 195ms\tremaining: 248ms\n",
      "66:\tlearn: 17.7587188\ttotal: 198ms\tremaining: 246ms\n",
      "67:\tlearn: 17.6721980\ttotal: 201ms\tremaining: 243ms\n",
      "68:\tlearn: 17.6497195\ttotal: 204ms\tremaining: 240ms\n",
      "69:\tlearn: 17.5642116\ttotal: 207ms\tremaining: 237ms\n",
      "70:\tlearn: 17.5354186\ttotal: 210ms\tremaining: 234ms\n",
      "71:\tlearn: 17.4722678\ttotal: 213ms\tremaining: 230ms\n",
      "72:\tlearn: 17.3778582\ttotal: 216ms\tremaining: 228ms\n",
      "73:\tlearn: 17.3449813\ttotal: 219ms\tremaining: 225ms\n",
      "74:\tlearn: 17.2830999\ttotal: 222ms\tremaining: 222ms\n",
      "75:\tlearn: 17.2343581\ttotal: 225ms\tremaining: 219ms\n",
      "76:\tlearn: 17.1779653\ttotal: 228ms\tremaining: 216ms\n",
      "77:\tlearn: 17.1039522\ttotal: 231ms\tremaining: 213ms\n",
      "78:\tlearn: 17.0331375\ttotal: 234ms\tremaining: 210ms\n",
      "79:\tlearn: 17.0048358\ttotal: 236ms\tremaining: 207ms\n",
      "80:\tlearn: 16.9344016\ttotal: 239ms\tremaining: 204ms\n",
      "81:\tlearn: 16.8250320\ttotal: 242ms\tremaining: 201ms\n",
      "82:\tlearn: 16.7949749\ttotal: 245ms\tremaining: 198ms\n",
      "83:\tlearn: 16.7318695\ttotal: 248ms\tremaining: 195ms\n",
      "84:\tlearn: 16.6837587\ttotal: 251ms\tremaining: 192ms\n",
      "85:\tlearn: 16.6076270\ttotal: 254ms\tremaining: 189ms\n",
      "86:\tlearn: 16.5321557\ttotal: 257ms\tremaining: 186ms\n",
      "87:\tlearn: 16.4802897\ttotal: 259ms\tremaining: 183ms\n",
      "88:\tlearn: 16.4443210\ttotal: 262ms\tremaining: 180ms\n",
      "89:\tlearn: 16.4120475\ttotal: 265ms\tremaining: 177ms\n",
      "90:\tlearn: 16.3482172\ttotal: 268ms\tremaining: 174ms\n",
      "91:\tlearn: 16.2495169\ttotal: 271ms\tremaining: 171ms\n",
      "92:\tlearn: 16.1806071\ttotal: 274ms\tremaining: 168ms\n",
      "93:\tlearn: 16.1143122\ttotal: 276ms\tremaining: 165ms\n",
      "94:\tlearn: 16.1043976\ttotal: 279ms\tremaining: 162ms\n",
      "95:\tlearn: 16.0179384\ttotal: 282ms\tremaining: 159ms\n",
      "96:\tlearn: 15.9419775\ttotal: 285ms\tremaining: 156ms\n",
      "97:\tlearn: 15.8811328\ttotal: 288ms\tremaining: 153ms\n",
      "98:\tlearn: 15.8059045\ttotal: 291ms\tremaining: 150ms\n",
      "99:\tlearn: 15.7606130\ttotal: 294ms\tremaining: 147ms\n",
      "100:\tlearn: 15.6659852\ttotal: 297ms\tremaining: 144ms\n",
      "101:\tlearn: 15.5800151\ttotal: 300ms\tremaining: 141ms\n",
      "102:\tlearn: 15.5711054\ttotal: 302ms\tremaining: 138ms\n",
      "103:\tlearn: 15.4988567\ttotal: 306ms\tremaining: 135ms\n",
      "104:\tlearn: 15.4385949\ttotal: 309ms\tremaining: 132ms\n",
      "105:\tlearn: 15.3997710\ttotal: 312ms\tremaining: 129ms\n",
      "106:\tlearn: 15.3373609\ttotal: 314ms\tremaining: 126ms\n",
      "107:\tlearn: 15.2673620\ttotal: 318ms\tremaining: 123ms\n",
      "108:\tlearn: 15.2336643\ttotal: 321ms\tremaining: 121ms\n",
      "109:\tlearn: 15.1873996\ttotal: 323ms\tremaining: 118ms\n",
      "110:\tlearn: 15.1341469\ttotal: 326ms\tremaining: 115ms\n",
      "111:\tlearn: 15.1276005\ttotal: 330ms\tremaining: 112ms\n",
      "112:\tlearn: 15.1168709\ttotal: 332ms\tremaining: 109ms\n",
      "113:\tlearn: 15.0634359\ttotal: 335ms\tremaining: 106ms\n",
      "114:\tlearn: 14.9941096\ttotal: 338ms\tremaining: 103ms\n",
      "115:\tlearn: 14.9559303\ttotal: 341ms\tremaining: 99.9ms\n",
      "116:\tlearn: 14.8764610\ttotal: 344ms\tremaining: 97ms\n",
      "117:\tlearn: 14.8303974\ttotal: 347ms\tremaining: 94ms\n",
      "118:\tlearn: 14.7637660\ttotal: 350ms\tremaining: 91.1ms\n",
      "119:\tlearn: 14.7108572\ttotal: 353ms\tremaining: 88.1ms\n",
      "120:\tlearn: 14.6443737\ttotal: 356ms\tremaining: 85.2ms\n",
      "121:\tlearn: 14.6016527\ttotal: 358ms\tremaining: 82.3ms\n",
      "122:\tlearn: 14.5793784\ttotal: 361ms\tremaining: 79.3ms\n",
      "123:\tlearn: 14.5378148\ttotal: 364ms\tremaining: 76.4ms\n",
      "124:\tlearn: 14.4877625\ttotal: 367ms\tremaining: 73.5ms\n",
      "125:\tlearn: 14.4400774\ttotal: 370ms\tremaining: 70.5ms\n",
      "126:\tlearn: 14.4333563\ttotal: 373ms\tremaining: 67.6ms\n",
      "127:\tlearn: 14.3947684\ttotal: 376ms\tremaining: 64.7ms\n",
      "128:\tlearn: 14.3475365\ttotal: 379ms\tremaining: 61.7ms\n",
      "129:\tlearn: 14.2698082\ttotal: 382ms\tremaining: 58.8ms\n",
      "130:\tlearn: 14.2554685\ttotal: 385ms\tremaining: 55.8ms\n",
      "131:\tlearn: 14.2165638\ttotal: 388ms\tremaining: 52.9ms\n",
      "132:\tlearn: 14.1645145\ttotal: 391ms\tremaining: 50ms\n",
      "133:\tlearn: 14.1231674\ttotal: 395ms\tremaining: 47.1ms\n",
      "134:\tlearn: 14.0716180\ttotal: 398ms\tremaining: 44.2ms\n",
      "135:\tlearn: 14.0666397\ttotal: 401ms\tremaining: 41.3ms\n",
      "136:\tlearn: 14.0346170\ttotal: 404ms\tremaining: 38.3ms\n",
      "137:\tlearn: 13.9872451\ttotal: 407ms\tremaining: 35.4ms\n",
      "138:\tlearn: 13.9580822\ttotal: 410ms\tremaining: 32.4ms\n",
      "139:\tlearn: 13.9033425\ttotal: 413ms\tremaining: 29.5ms\n",
      "140:\tlearn: 13.8254011\ttotal: 416ms\tremaining: 26.6ms\n",
      "141:\tlearn: 13.7857750\ttotal: 419ms\tremaining: 23.6ms\n",
      "142:\tlearn: 13.7587469\ttotal: 422ms\tremaining: 20.7ms\n",
      "143:\tlearn: 13.7156799\ttotal: 425ms\tremaining: 17.7ms\n",
      "144:\tlearn: 13.6864831\ttotal: 428ms\tremaining: 14.8ms\n",
      "145:\tlearn: 13.6435259\ttotal: 431ms\tremaining: 11.8ms\n",
      "146:\tlearn: 13.6224558\ttotal: 434ms\tremaining: 8.86ms\n",
      "147:\tlearn: 13.5909555\ttotal: 437ms\tremaining: 5.91ms\n",
      "148:\tlearn: 13.5423179\ttotal: 440ms\tremaining: 2.95ms\n",
      "149:\tlearn: 13.4817655\ttotal: 443ms\tremaining: 0us\n",
      "Learning rate set to 0.139541\n",
      "0:\tlearn: 28.5289296\ttotal: 1.88ms\tremaining: 373ms\n",
      "1:\tlearn: 27.4874493\ttotal: 3.82ms\tremaining: 378ms\n",
      "2:\tlearn: 26.5818978\ttotal: 5.51ms\tremaining: 362ms\n",
      "3:\tlearn: 26.0591197\ttotal: 7.22ms\tremaining: 354ms\n",
      "4:\tlearn: 25.2954220\ttotal: 8.79ms\tremaining: 343ms\n",
      "5:\tlearn: 24.7030365\ttotal: 10.5ms\tremaining: 339ms\n",
      "6:\tlearn: 24.1527456\ttotal: 12.2ms\tremaining: 336ms\n",
      "7:\tlearn: 23.4593551\ttotal: 14ms\tremaining: 335ms\n",
      "8:\tlearn: 23.0004186\ttotal: 15.6ms\tremaining: 330ms\n",
      "9:\tlearn: 22.5142519\ttotal: 17.2ms\tremaining: 327ms\n",
      "10:\tlearn: 22.0796828\ttotal: 18.9ms\tremaining: 325ms\n",
      "11:\tlearn: 21.7184749\ttotal: 20.6ms\tremaining: 323ms\n",
      "12:\tlearn: 21.3835136\ttotal: 22.3ms\tremaining: 321ms\n",
      "13:\tlearn: 21.1266603\ttotal: 24ms\tremaining: 318ms\n",
      "14:\tlearn: 20.8946111\ttotal: 25.6ms\tremaining: 316ms\n",
      "15:\tlearn: 20.5737793\ttotal: 27.3ms\tremaining: 315ms\n",
      "16:\tlearn: 20.2424794\ttotal: 29.1ms\tremaining: 313ms\n",
      "17:\tlearn: 19.8187972\ttotal: 30.8ms\tremaining: 312ms\n",
      "18:\tlearn: 19.6598722\ttotal: 32.6ms\tremaining: 310ms\n",
      "19:\tlearn: 19.3229113\ttotal: 34.2ms\tremaining: 308ms\n",
      "20:\tlearn: 19.1488742\ttotal: 35.8ms\tremaining: 305ms\n",
      "21:\tlearn: 19.0135005\ttotal: 37.5ms\tremaining: 303ms\n",
      "22:\tlearn: 18.8693743\ttotal: 39.2ms\tremaining: 302ms\n",
      "23:\tlearn: 18.7516348\ttotal: 40.8ms\tremaining: 299ms\n",
      "24:\tlearn: 18.5206744\ttotal: 42.5ms\tremaining: 298ms\n",
      "25:\tlearn: 18.2223404\ttotal: 44.1ms\tremaining: 295ms\n",
      "26:\tlearn: 18.0242758\ttotal: 45.8ms\tremaining: 293ms\n",
      "27:\tlearn: 17.9556091\ttotal: 47.4ms\tremaining: 291ms\n",
      "28:\tlearn: 17.8442421\ttotal: 49.1ms\tremaining: 289ms\n",
      "29:\tlearn: 17.7182258\ttotal: 51ms\tremaining: 289ms\n",
      "30:\tlearn: 17.6071202\ttotal: 52.7ms\tremaining: 288ms\n",
      "31:\tlearn: 17.4923296\ttotal: 54.5ms\tremaining: 286ms\n",
      "32:\tlearn: 17.4066225\ttotal: 56.3ms\tremaining: 285ms\n",
      "33:\tlearn: 17.2887442\ttotal: 57.9ms\tremaining: 283ms\n",
      "34:\tlearn: 17.0429014\ttotal: 59.6ms\tremaining: 281ms\n",
      "35:\tlearn: 16.8955544\ttotal: 61.3ms\tremaining: 279ms\n",
      "36:\tlearn: 16.8074312\ttotal: 63ms\tremaining: 278ms\n",
      "37:\tlearn: 16.6111554\ttotal: 64.7ms\tremaining: 276ms\n",
      "38:\tlearn: 16.4203554\ttotal: 66.3ms\tremaining: 274ms\n",
      "39:\tlearn: 16.3313830\ttotal: 68ms\tremaining: 272ms\n",
      "40:\tlearn: 16.1746898\ttotal: 69.7ms\tremaining: 270ms\n",
      "41:\tlearn: 16.1103423\ttotal: 71.8ms\tremaining: 270ms\n",
      "42:\tlearn: 16.0108248\ttotal: 73.5ms\tremaining: 268ms\n",
      "43:\tlearn: 15.8546471\ttotal: 75.2ms\tremaining: 267ms\n",
      "44:\tlearn: 15.7716511\ttotal: 76.8ms\tremaining: 265ms\n",
      "45:\tlearn: 15.6921717\ttotal: 78.5ms\tremaining: 263ms\n",
      "46:\tlearn: 15.5556530\ttotal: 80.1ms\tremaining: 261ms\n",
      "47:\tlearn: 15.4241675\ttotal: 81.8ms\tremaining: 259ms\n",
      "48:\tlearn: 15.3525400\ttotal: 83.5ms\tremaining: 257ms\n",
      "49:\tlearn: 15.2069227\ttotal: 85.1ms\tremaining: 255ms\n",
      "50:\tlearn: 15.1303779\ttotal: 86.7ms\tremaining: 253ms\n",
      "51:\tlearn: 14.9922530\ttotal: 88.3ms\tremaining: 251ms\n",
      "52:\tlearn: 14.8952296\ttotal: 90ms\tremaining: 250ms\n",
      "53:\tlearn: 14.7854908\ttotal: 91.7ms\tremaining: 248ms\n",
      "54:\tlearn: 14.7077091\ttotal: 93.5ms\tremaining: 246ms\n",
      "55:\tlearn: 14.5671408\ttotal: 95.1ms\tremaining: 245ms\n",
      "56:\tlearn: 14.5083621\ttotal: 96.9ms\tremaining: 243ms\n",
      "57:\tlearn: 14.4770479\ttotal: 98.7ms\tremaining: 242ms\n",
      "58:\tlearn: 14.3132731\ttotal: 100ms\tremaining: 240ms\n",
      "59:\tlearn: 14.2293260\ttotal: 102ms\tremaining: 238ms\n",
      "60:\tlearn: 14.0602138\ttotal: 104ms\tremaining: 236ms\n",
      "61:\tlearn: 13.9194802\ttotal: 105ms\tremaining: 235ms\n",
      "62:\tlearn: 13.7892888\ttotal: 107ms\tremaining: 233ms\n",
      "63:\tlearn: 13.6373904\ttotal: 109ms\tremaining: 232ms\n",
      "64:\tlearn: 13.5069886\ttotal: 111ms\tremaining: 230ms\n",
      "65:\tlearn: 13.4573764\ttotal: 112ms\tremaining: 228ms\n",
      "66:\tlearn: 13.3430621\ttotal: 114ms\tremaining: 226ms\n",
      "67:\tlearn: 13.2126283\ttotal: 116ms\tremaining: 225ms\n",
      "68:\tlearn: 13.1618403\ttotal: 117ms\tremaining: 223ms\n",
      "69:\tlearn: 13.0206390\ttotal: 119ms\tremaining: 221ms\n",
      "70:\tlearn: 12.8971493\ttotal: 121ms\tremaining: 220ms\n",
      "71:\tlearn: 12.7659057\ttotal: 123ms\tremaining: 218ms\n",
      "72:\tlearn: 12.7387564\ttotal: 124ms\tremaining: 216ms\n",
      "73:\tlearn: 12.7052793\ttotal: 126ms\tremaining: 214ms\n",
      "74:\tlearn: 12.6041513\ttotal: 128ms\tremaining: 213ms\n",
      "75:\tlearn: 12.4770357\ttotal: 130ms\tremaining: 212ms\n",
      "76:\tlearn: 12.4519525\ttotal: 132ms\tremaining: 211ms\n",
      "77:\tlearn: 12.3116361\ttotal: 134ms\tremaining: 209ms\n",
      "78:\tlearn: 12.2463220\ttotal: 136ms\tremaining: 208ms\n",
      "79:\tlearn: 12.1369149\ttotal: 138ms\tremaining: 207ms\n",
      "80:\tlearn: 12.0552227\ttotal: 140ms\tremaining: 205ms\n",
      "81:\tlearn: 11.9523975\ttotal: 142ms\tremaining: 204ms\n",
      "82:\tlearn: 11.8719543\ttotal: 144ms\tremaining: 203ms\n",
      "83:\tlearn: 11.7825201\ttotal: 146ms\tremaining: 201ms\n",
      "84:\tlearn: 11.7595252\ttotal: 148ms\tremaining: 200ms\n",
      "85:\tlearn: 11.7398422\ttotal: 150ms\tremaining: 198ms\n",
      "86:\tlearn: 11.6484571\ttotal: 152ms\tremaining: 197ms\n",
      "87:\tlearn: 11.6333742\ttotal: 154ms\tremaining: 196ms\n",
      "88:\tlearn: 11.5301435\ttotal: 156ms\tremaining: 194ms\n",
      "89:\tlearn: 11.4540506\ttotal: 158ms\tremaining: 193ms\n",
      "90:\tlearn: 11.3907676\ttotal: 160ms\tremaining: 191ms\n",
      "91:\tlearn: 11.3019528\ttotal: 162ms\tremaining: 190ms\n",
      "92:\tlearn: 11.2766161\ttotal: 164ms\tremaining: 188ms\n",
      "93:\tlearn: 11.1908719\ttotal: 165ms\tremaining: 187ms\n",
      "94:\tlearn: 11.0997924\ttotal: 167ms\tremaining: 185ms\n",
      "95:\tlearn: 11.0852796\ttotal: 169ms\tremaining: 184ms\n",
      "96:\tlearn: 10.9996673\ttotal: 172ms\tremaining: 182ms\n",
      "97:\tlearn: 10.9197927\ttotal: 173ms\tremaining: 181ms\n",
      "98:\tlearn: 10.8168780\ttotal: 176ms\tremaining: 179ms\n",
      "99:\tlearn: 10.7586628\ttotal: 178ms\tremaining: 178ms\n",
      "100:\tlearn: 10.6509176\ttotal: 180ms\tremaining: 176ms\n",
      "101:\tlearn: 10.5877260\ttotal: 182ms\tremaining: 174ms\n",
      "102:\tlearn: 10.5692282\ttotal: 184ms\tremaining: 173ms\n",
      "103:\tlearn: 10.4870821\ttotal: 186ms\tremaining: 171ms\n",
      "104:\tlearn: 10.4768720\ttotal: 188ms\tremaining: 170ms\n",
      "105:\tlearn: 10.4232682\ttotal: 190ms\tremaining: 168ms\n",
      "106:\tlearn: 10.4059387\ttotal: 192ms\tremaining: 166ms\n",
      "107:\tlearn: 10.3224719\ttotal: 193ms\tremaining: 165ms\n",
      "108:\tlearn: 10.2561047\ttotal: 195ms\tremaining: 163ms\n",
      "109:\tlearn: 10.1693612\ttotal: 197ms\tremaining: 161ms\n",
      "110:\tlearn: 10.1552355\ttotal: 199ms\tremaining: 160ms\n",
      "111:\tlearn: 10.1474405\ttotal: 201ms\tremaining: 158ms\n",
      "112:\tlearn: 10.0522214\ttotal: 203ms\tremaining: 156ms\n",
      "113:\tlearn: 10.0208064\ttotal: 205ms\tremaining: 155ms\n",
      "114:\tlearn: 9.9584279\ttotal: 207ms\tremaining: 153ms\n",
      "115:\tlearn: 9.8521596\ttotal: 209ms\tremaining: 152ms\n",
      "116:\tlearn: 9.7992828\ttotal: 211ms\tremaining: 150ms\n",
      "117:\tlearn: 9.7460495\ttotal: 213ms\tremaining: 148ms\n",
      "118:\tlearn: 9.6759637\ttotal: 215ms\tremaining: 147ms\n",
      "119:\tlearn: 9.6105126\ttotal: 217ms\tremaining: 145ms\n",
      "120:\tlearn: 9.5242518\ttotal: 219ms\tremaining: 143ms\n",
      "121:\tlearn: 9.5107434\ttotal: 221ms\tremaining: 141ms\n",
      "122:\tlearn: 9.4203764\ttotal: 223ms\tremaining: 140ms\n",
      "123:\tlearn: 9.3795934\ttotal: 225ms\tremaining: 138ms\n",
      "124:\tlearn: 9.3402426\ttotal: 227ms\tremaining: 136ms\n",
      "125:\tlearn: 9.2759488\ttotal: 229ms\tremaining: 135ms\n",
      "126:\tlearn: 9.1994821\ttotal: 231ms\tremaining: 133ms\n",
      "127:\tlearn: 9.1918902\ttotal: 233ms\tremaining: 131ms\n",
      "128:\tlearn: 9.1420021\ttotal: 235ms\tremaining: 129ms\n",
      "129:\tlearn: 9.0662445\ttotal: 237ms\tremaining: 128ms\n",
      "130:\tlearn: 8.9961546\ttotal: 239ms\tremaining: 126ms\n",
      "131:\tlearn: 8.9524312\ttotal: 241ms\tremaining: 124ms\n",
      "132:\tlearn: 8.9010272\ttotal: 243ms\tremaining: 123ms\n",
      "133:\tlearn: 8.8778208\ttotal: 246ms\tremaining: 121ms\n",
      "134:\tlearn: 8.8027496\ttotal: 247ms\tremaining: 119ms\n",
      "135:\tlearn: 8.7904376\ttotal: 249ms\tremaining: 117ms\n",
      "136:\tlearn: 8.7834810\ttotal: 251ms\tremaining: 115ms\n",
      "137:\tlearn: 8.7087108\ttotal: 253ms\tremaining: 114ms\n",
      "138:\tlearn: 8.6245159\ttotal: 255ms\tremaining: 112ms\n",
      "139:\tlearn: 8.5774880\ttotal: 257ms\tremaining: 110ms\n",
      "140:\tlearn: 8.5634258\ttotal: 259ms\tremaining: 108ms\n",
      "141:\tlearn: 8.5059723\ttotal: 261ms\tremaining: 107ms\n",
      "142:\tlearn: 8.4745953\ttotal: 263ms\tremaining: 105ms\n",
      "143:\tlearn: 8.4428475\ttotal: 265ms\tremaining: 103ms\n",
      "144:\tlearn: 8.3886071\ttotal: 267ms\tremaining: 101ms\n",
      "145:\tlearn: 8.3775207\ttotal: 269ms\tremaining: 99.4ms\n",
      "146:\tlearn: 8.3395450\ttotal: 270ms\tremaining: 97.5ms\n",
      "147:\tlearn: 8.3093254\ttotal: 272ms\tremaining: 95.7ms\n",
      "148:\tlearn: 8.2245346\ttotal: 274ms\tremaining: 93.9ms\n",
      "149:\tlearn: 8.1396201\ttotal: 276ms\tremaining: 92.2ms\n",
      "150:\tlearn: 8.0970968\ttotal: 279ms\tremaining: 90.4ms\n",
      "151:\tlearn: 8.0520465\ttotal: 280ms\tremaining: 88.6ms\n",
      "152:\tlearn: 7.9597524\ttotal: 282ms\tremaining: 86.8ms\n",
      "153:\tlearn: 7.8767260\ttotal: 285ms\tremaining: 85ms\n",
      "154:\tlearn: 7.8526680\ttotal: 287ms\tremaining: 83.2ms\n",
      "155:\tlearn: 7.7792910\ttotal: 289ms\tremaining: 81.4ms\n",
      "156:\tlearn: 7.7159634\ttotal: 291ms\tremaining: 79.6ms\n",
      "157:\tlearn: 7.6686387\ttotal: 292ms\tremaining: 77.7ms\n",
      "158:\tlearn: 7.6584199\ttotal: 294ms\tremaining: 75.8ms\n",
      "159:\tlearn: 7.5980206\ttotal: 296ms\tremaining: 74ms\n",
      "160:\tlearn: 7.5174446\ttotal: 298ms\tremaining: 72.2ms\n",
      "161:\tlearn: 7.4459356\ttotal: 300ms\tremaining: 70.3ms\n",
      "162:\tlearn: 7.3812179\ttotal: 302ms\tremaining: 68.5ms\n",
      "163:\tlearn: 7.3481079\ttotal: 304ms\tremaining: 66.7ms\n",
      "164:\tlearn: 7.3030077\ttotal: 306ms\tremaining: 64.9ms\n",
      "165:\tlearn: 7.2949057\ttotal: 308ms\tremaining: 63ms\n",
      "166:\tlearn: 7.2879391\ttotal: 310ms\tremaining: 61.2ms\n",
      "167:\tlearn: 7.2611901\ttotal: 311ms\tremaining: 59.3ms\n",
      "168:\tlearn: 7.2219306\ttotal: 313ms\tremaining: 57.5ms\n",
      "169:\tlearn: 7.1592560\ttotal: 315ms\tremaining: 55.6ms\n",
      "170:\tlearn: 7.1526182\ttotal: 317ms\tremaining: 53.7ms\n",
      "171:\tlearn: 7.1472029\ttotal: 319ms\tremaining: 51.9ms\n",
      "172:\tlearn: 7.1017537\ttotal: 321ms\tremaining: 50.1ms\n",
      "173:\tlearn: 7.0557834\ttotal: 323ms\tremaining: 48.2ms\n",
      "174:\tlearn: 6.9831457\ttotal: 325ms\tremaining: 46.4ms\n",
      "175:\tlearn: 6.9308910\ttotal: 327ms\tremaining: 44.5ms\n",
      "176:\tlearn: 6.8825456\ttotal: 328ms\tremaining: 42.7ms\n",
      "177:\tlearn: 6.8257243\ttotal: 330ms\tremaining: 40.8ms\n",
      "178:\tlearn: 6.7836152\ttotal: 332ms\tremaining: 39ms\n",
      "179:\tlearn: 6.7377127\ttotal: 334ms\tremaining: 37.1ms\n",
      "180:\tlearn: 6.6987443\ttotal: 336ms\tremaining: 35.3ms\n",
      "181:\tlearn: 6.6519763\ttotal: 338ms\tremaining: 33.4ms\n",
      "182:\tlearn: 6.6443843\ttotal: 340ms\tremaining: 31.6ms\n",
      "183:\tlearn: 6.6008538\ttotal: 342ms\tremaining: 29.7ms\n",
      "184:\tlearn: 6.5496485\ttotal: 344ms\tremaining: 27.9ms\n",
      "185:\tlearn: 6.5387114\ttotal: 346ms\tremaining: 26ms\n",
      "186:\tlearn: 6.4919153\ttotal: 347ms\tremaining: 24.1ms\n",
      "187:\tlearn: 6.4705262\ttotal: 349ms\tremaining: 22.3ms\n",
      "188:\tlearn: 6.4604978\ttotal: 351ms\tremaining: 20.4ms\n",
      "189:\tlearn: 6.4307438\ttotal: 353ms\tremaining: 18.6ms\n",
      "190:\tlearn: 6.3762434\ttotal: 355ms\tremaining: 16.7ms\n",
      "191:\tlearn: 6.3588813\ttotal: 357ms\tremaining: 14.9ms\n",
      "192:\tlearn: 6.3326536\ttotal: 359ms\tremaining: 13ms\n",
      "193:\tlearn: 6.3036391\ttotal: 361ms\tremaining: 11.2ms\n",
      "194:\tlearn: 6.2576997\ttotal: 362ms\tremaining: 9.29ms\n",
      "195:\tlearn: 6.2164167\ttotal: 364ms\tremaining: 7.44ms\n",
      "196:\tlearn: 6.2056700\ttotal: 366ms\tremaining: 5.58ms\n",
      "197:\tlearn: 6.1900732\ttotal: 368ms\tremaining: 3.72ms\n",
      "198:\tlearn: 6.1269218\ttotal: 370ms\tremaining: 1.86ms\n",
      "199:\tlearn: 6.0942029\ttotal: 372ms\tremaining: 0us\n",
      "Learning rate set to 0.155649\n",
      "0:\tlearn: 28.0140147\ttotal: 2.43ms\tremaining: 483ms\n",
      "1:\tlearn: 26.8411224\ttotal: 4.83ms\tremaining: 478ms\n",
      "2:\tlearn: 26.0375880\ttotal: 7.02ms\tremaining: 461ms\n",
      "3:\tlearn: 25.1033941\ttotal: 9.35ms\tremaining: 458ms\n",
      "4:\tlearn: 24.4901283\ttotal: 11.5ms\tremaining: 449ms\n",
      "5:\tlearn: 23.9206209\ttotal: 13.9ms\tremaining: 448ms\n",
      "6:\tlearn: 23.3681725\ttotal: 16ms\tremaining: 442ms\n",
      "7:\tlearn: 22.8894839\ttotal: 18.3ms\tremaining: 439ms\n",
      "8:\tlearn: 22.5492178\ttotal: 20.5ms\tremaining: 435ms\n",
      "9:\tlearn: 22.0801291\ttotal: 22.8ms\tremaining: 433ms\n",
      "10:\tlearn: 21.7345964\ttotal: 25.3ms\tremaining: 434ms\n",
      "11:\tlearn: 21.3898351\ttotal: 27.6ms\tremaining: 432ms\n",
      "12:\tlearn: 21.1104465\ttotal: 29.9ms\tremaining: 431ms\n",
      "13:\tlearn: 20.8983810\ttotal: 32ms\tremaining: 426ms\n",
      "14:\tlearn: 20.6658145\ttotal: 34.4ms\tremaining: 424ms\n",
      "15:\tlearn: 20.4259947\ttotal: 36.7ms\tremaining: 422ms\n",
      "16:\tlearn: 20.2975902\ttotal: 39.2ms\tremaining: 422ms\n",
      "17:\tlearn: 20.0576863\ttotal: 41.3ms\tremaining: 418ms\n",
      "18:\tlearn: 19.8854153\ttotal: 43.9ms\tremaining: 418ms\n",
      "19:\tlearn: 19.7590658\ttotal: 46.3ms\tremaining: 417ms\n",
      "20:\tlearn: 19.6023021\ttotal: 48.6ms\tremaining: 414ms\n",
      "21:\tlearn: 19.5235505\ttotal: 51ms\tremaining: 412ms\n",
      "22:\tlearn: 19.4352796\ttotal: 53.1ms\tremaining: 408ms\n",
      "23:\tlearn: 19.3756208\ttotal: 55.7ms\tremaining: 408ms\n",
      "24:\tlearn: 19.2045283\ttotal: 59.5ms\tremaining: 417ms\n",
      "25:\tlearn: 19.1094585\ttotal: 61.9ms\tremaining: 414ms\n",
      "26:\tlearn: 18.9963525\ttotal: 64.3ms\tremaining: 412ms\n",
      "27:\tlearn: 18.9166998\ttotal: 66.4ms\tremaining: 408ms\n",
      "28:\tlearn: 18.7615087\ttotal: 68.5ms\tremaining: 404ms\n",
      "29:\tlearn: 18.6644063\ttotal: 70.9ms\tremaining: 402ms\n",
      "30:\tlearn: 18.6187978\ttotal: 73.1ms\tremaining: 399ms\n",
      "31:\tlearn: 18.5051316\ttotal: 75.4ms\tremaining: 396ms\n",
      "32:\tlearn: 18.3876158\ttotal: 77.4ms\tremaining: 392ms\n",
      "33:\tlearn: 18.3071522\ttotal: 79.6ms\tremaining: 389ms\n",
      "34:\tlearn: 18.1194478\ttotal: 81.7ms\tremaining: 385ms\n",
      "35:\tlearn: 18.0289211\ttotal: 84ms\tremaining: 383ms\n",
      "36:\tlearn: 17.9183438\ttotal: 86.2ms\tremaining: 380ms\n",
      "37:\tlearn: 17.8499713\ttotal: 88.3ms\tremaining: 377ms\n",
      "38:\tlearn: 17.7112441\ttotal: 90.7ms\tremaining: 374ms\n",
      "39:\tlearn: 17.6559655\ttotal: 92.8ms\tremaining: 371ms\n",
      "40:\tlearn: 17.5503817\ttotal: 95ms\tremaining: 369ms\n",
      "41:\tlearn: 17.4793059\ttotal: 97.3ms\tremaining: 366ms\n",
      "42:\tlearn: 17.3860635\ttotal: 99.5ms\tremaining: 363ms\n",
      "43:\tlearn: 17.3569962\ttotal: 102ms\tremaining: 361ms\n",
      "44:\tlearn: 17.3027921\ttotal: 104ms\tremaining: 358ms\n",
      "45:\tlearn: 17.1974316\ttotal: 106ms\tremaining: 356ms\n",
      "46:\tlearn: 17.0518626\ttotal: 109ms\tremaining: 354ms\n",
      "47:\tlearn: 16.9911438\ttotal: 111ms\tremaining: 351ms\n",
      "48:\tlearn: 16.9034214\ttotal: 113ms\tremaining: 348ms\n",
      "49:\tlearn: 16.8575034\ttotal: 115ms\tremaining: 346ms\n",
      "50:\tlearn: 16.7725612\ttotal: 118ms\tremaining: 343ms\n",
      "51:\tlearn: 16.7105717\ttotal: 120ms\tremaining: 341ms\n",
      "52:\tlearn: 16.5733609\ttotal: 122ms\tremaining: 338ms\n",
      "53:\tlearn: 16.5136381\ttotal: 124ms\tremaining: 335ms\n",
      "54:\tlearn: 16.4180171\ttotal: 126ms\tremaining: 333ms\n",
      "55:\tlearn: 16.3442166\ttotal: 128ms\tremaining: 330ms\n",
      "56:\tlearn: 16.2628666\ttotal: 131ms\tremaining: 328ms\n",
      "57:\tlearn: 16.1460152\ttotal: 133ms\tremaining: 325ms\n",
      "58:\tlearn: 16.0968244\ttotal: 135ms\tremaining: 323ms\n",
      "59:\tlearn: 16.0504486\ttotal: 137ms\tremaining: 320ms\n",
      "60:\tlearn: 15.8741433\ttotal: 140ms\tremaining: 318ms\n",
      "61:\tlearn: 15.7836466\ttotal: 142ms\tremaining: 316ms\n",
      "62:\tlearn: 15.7451217\ttotal: 144ms\tremaining: 313ms\n",
      "63:\tlearn: 15.6426013\ttotal: 146ms\tremaining: 311ms\n",
      "64:\tlearn: 15.6180611\ttotal: 149ms\tremaining: 309ms\n",
      "65:\tlearn: 15.4951014\ttotal: 151ms\tremaining: 306ms\n",
      "66:\tlearn: 15.4291813\ttotal: 153ms\tremaining: 304ms\n",
      "67:\tlearn: 15.3593826\ttotal: 155ms\tremaining: 301ms\n",
      "68:\tlearn: 15.2524867\ttotal: 157ms\tremaining: 299ms\n",
      "69:\tlearn: 15.1191517\ttotal: 160ms\tremaining: 297ms\n",
      "70:\tlearn: 15.0666000\ttotal: 162ms\tremaining: 294ms\n",
      "71:\tlearn: 14.9795586\ttotal: 164ms\tremaining: 292ms\n",
      "72:\tlearn: 14.9532727\ttotal: 166ms\tremaining: 290ms\n",
      "73:\tlearn: 14.8356502\ttotal: 169ms\tremaining: 287ms\n",
      "74:\tlearn: 14.7113875\ttotal: 171ms\tremaining: 285ms\n",
      "75:\tlearn: 14.6292115\ttotal: 173ms\tremaining: 282ms\n",
      "76:\tlearn: 14.5446035\ttotal: 175ms\tremaining: 280ms\n",
      "77:\tlearn: 14.4698141\ttotal: 177ms\tremaining: 278ms\n",
      "78:\tlearn: 14.3833805\ttotal: 180ms\tremaining: 275ms\n",
      "79:\tlearn: 14.3380711\ttotal: 182ms\tremaining: 273ms\n",
      "80:\tlearn: 14.2993513\ttotal: 184ms\tremaining: 270ms\n",
      "81:\tlearn: 14.1909652\ttotal: 186ms\tremaining: 268ms\n",
      "82:\tlearn: 14.1496106\ttotal: 188ms\tremaining: 266ms\n",
      "83:\tlearn: 14.0479916\ttotal: 191ms\tremaining: 263ms\n",
      "84:\tlearn: 14.0067144\ttotal: 193ms\tremaining: 261ms\n",
      "85:\tlearn: 13.9106878\ttotal: 195ms\tremaining: 259ms\n",
      "86:\tlearn: 13.8623199\ttotal: 198ms\tremaining: 257ms\n",
      "87:\tlearn: 13.8521618\ttotal: 200ms\tremaining: 254ms\n",
      "88:\tlearn: 13.7529914\ttotal: 202ms\tremaining: 252ms\n",
      "89:\tlearn: 13.6827297\ttotal: 204ms\tremaining: 249ms\n",
      "90:\tlearn: 13.6194330\ttotal: 206ms\tremaining: 247ms\n",
      "91:\tlearn: 13.5616874\ttotal: 208ms\tremaining: 244ms\n",
      "92:\tlearn: 13.5529748\ttotal: 210ms\tremaining: 242ms\n",
      "93:\tlearn: 13.5245835\ttotal: 213ms\tremaining: 240ms\n",
      "94:\tlearn: 13.4468121\ttotal: 215ms\tremaining: 238ms\n",
      "95:\tlearn: 13.4283088\ttotal: 217ms\tremaining: 235ms\n",
      "96:\tlearn: 13.3730361\ttotal: 220ms\tremaining: 233ms\n",
      "97:\tlearn: 13.3026018\ttotal: 222ms\tremaining: 231ms\n",
      "98:\tlearn: 13.2368085\ttotal: 224ms\tremaining: 229ms\n",
      "99:\tlearn: 13.1828250\ttotal: 226ms\tremaining: 226ms\n",
      "100:\tlearn: 13.1283896\ttotal: 229ms\tremaining: 224ms\n",
      "101:\tlearn: 13.0293149\ttotal: 231ms\tremaining: 222ms\n",
      "102:\tlearn: 12.9602775\ttotal: 233ms\tremaining: 220ms\n",
      "103:\tlearn: 12.9260004\ttotal: 235ms\tremaining: 217ms\n",
      "104:\tlearn: 12.8542704\ttotal: 238ms\tremaining: 215ms\n",
      "105:\tlearn: 12.8084722\ttotal: 240ms\tremaining: 213ms\n",
      "106:\tlearn: 12.7570321\ttotal: 242ms\tremaining: 210ms\n",
      "107:\tlearn: 12.7502734\ttotal: 244ms\tremaining: 208ms\n",
      "108:\tlearn: 12.6536567\ttotal: 246ms\tremaining: 206ms\n",
      "109:\tlearn: 12.6484660\ttotal: 249ms\tremaining: 203ms\n",
      "110:\tlearn: 12.5829411\ttotal: 251ms\tremaining: 201ms\n",
      "111:\tlearn: 12.5039436\ttotal: 253ms\tremaining: 199ms\n",
      "112:\tlearn: 12.4237998\ttotal: 255ms\tremaining: 196ms\n",
      "113:\tlearn: 12.3805210\ttotal: 257ms\tremaining: 194ms\n",
      "114:\tlearn: 12.3216113\ttotal: 260ms\tremaining: 192ms\n",
      "115:\tlearn: 12.3001311\ttotal: 262ms\tremaining: 190ms\n",
      "116:\tlearn: 12.2221394\ttotal: 264ms\tremaining: 187ms\n",
      "117:\tlearn: 12.1486981\ttotal: 266ms\tremaining: 185ms\n",
      "118:\tlearn: 12.0987730\ttotal: 268ms\tremaining: 183ms\n",
      "119:\tlearn: 12.0644302\ttotal: 270ms\tremaining: 180ms\n",
      "120:\tlearn: 11.9963512\ttotal: 273ms\tremaining: 178ms\n",
      "121:\tlearn: 11.9902427\ttotal: 275ms\tremaining: 176ms\n",
      "122:\tlearn: 11.9091177\ttotal: 277ms\tremaining: 173ms\n",
      "123:\tlearn: 11.8468697\ttotal: 279ms\tremaining: 171ms\n",
      "124:\tlearn: 11.7795870\ttotal: 281ms\tremaining: 169ms\n",
      "125:\tlearn: 11.7749135\ttotal: 284ms\tremaining: 167ms\n",
      "126:\tlearn: 11.7253364\ttotal: 286ms\tremaining: 164ms\n",
      "127:\tlearn: 11.6644801\ttotal: 288ms\tremaining: 162ms\n",
      "128:\tlearn: 11.6178344\ttotal: 290ms\tremaining: 160ms\n",
      "129:\tlearn: 11.5306700\ttotal: 293ms\tremaining: 158ms\n",
      "130:\tlearn: 11.4931712\ttotal: 295ms\tremaining: 155ms\n",
      "131:\tlearn: 11.4883949\ttotal: 297ms\tremaining: 153ms\n",
      "132:\tlearn: 11.4103480\ttotal: 300ms\tremaining: 151ms\n",
      "133:\tlearn: 11.3351794\ttotal: 302ms\tremaining: 149ms\n",
      "134:\tlearn: 11.3228088\ttotal: 304ms\tremaining: 146ms\n",
      "135:\tlearn: 11.2470350\ttotal: 306ms\tremaining: 144ms\n",
      "136:\tlearn: 11.2025582\ttotal: 309ms\tremaining: 142ms\n",
      "137:\tlearn: 11.1233617\ttotal: 311ms\tremaining: 140ms\n",
      "138:\tlearn: 11.0625420\ttotal: 313ms\tremaining: 137ms\n",
      "139:\tlearn: 11.0060420\ttotal: 315ms\tremaining: 135ms\n",
      "140:\tlearn: 10.9613892\ttotal: 318ms\tremaining: 133ms\n",
      "141:\tlearn: 10.9132594\ttotal: 320ms\tremaining: 131ms\n",
      "142:\tlearn: 10.8604702\ttotal: 322ms\tremaining: 128ms\n",
      "143:\tlearn: 10.8495514\ttotal: 324ms\tremaining: 126ms\n",
      "144:\tlearn: 10.8116271\ttotal: 326ms\tremaining: 124ms\n",
      "145:\tlearn: 10.7436897\ttotal: 328ms\tremaining: 121ms\n",
      "146:\tlearn: 10.6851615\ttotal: 331ms\tremaining: 119ms\n",
      "147:\tlearn: 10.6560922\ttotal: 333ms\tremaining: 117ms\n",
      "148:\tlearn: 10.6261859\ttotal: 335ms\tremaining: 115ms\n",
      "149:\tlearn: 10.5779301\ttotal: 337ms\tremaining: 112ms\n",
      "150:\tlearn: 10.5278750\ttotal: 339ms\tremaining: 110ms\n",
      "151:\tlearn: 10.4458445\ttotal: 341ms\tremaining: 108ms\n",
      "152:\tlearn: 10.3772336\ttotal: 344ms\tremaining: 106ms\n",
      "153:\tlearn: 10.3496139\ttotal: 346ms\tremaining: 103ms\n",
      "154:\tlearn: 10.3151888\ttotal: 348ms\tremaining: 101ms\n",
      "155:\tlearn: 10.2879711\ttotal: 350ms\tremaining: 98.8ms\n",
      "156:\tlearn: 10.2267958\ttotal: 353ms\tremaining: 96.6ms\n",
      "157:\tlearn: 10.1706554\ttotal: 355ms\tremaining: 94.3ms\n",
      "158:\tlearn: 10.1193751\ttotal: 357ms\tremaining: 92.1ms\n",
      "159:\tlearn: 10.0774898\ttotal: 359ms\tremaining: 89.8ms\n",
      "160:\tlearn: 10.0737460\ttotal: 361ms\tremaining: 87.5ms\n",
      "161:\tlearn: 10.0161419\ttotal: 363ms\tremaining: 85.3ms\n",
      "162:\tlearn: 9.9786292\ttotal: 366ms\tremaining: 83ms\n",
      "163:\tlearn: 9.9402285\ttotal: 368ms\tremaining: 80.7ms\n",
      "164:\tlearn: 9.9374771\ttotal: 370ms\tremaining: 78.5ms\n",
      "165:\tlearn: 9.8960482\ttotal: 372ms\tremaining: 76.2ms\n",
      "166:\tlearn: 9.8503060\ttotal: 374ms\tremaining: 73.9ms\n",
      "167:\tlearn: 9.7946161\ttotal: 376ms\tremaining: 71.7ms\n",
      "168:\tlearn: 9.7285197\ttotal: 378ms\tremaining: 69.4ms\n",
      "169:\tlearn: 9.6935624\ttotal: 380ms\tremaining: 67.1ms\n",
      "170:\tlearn: 9.6714833\ttotal: 383ms\tremaining: 64.9ms\n",
      "171:\tlearn: 9.6250937\ttotal: 385ms\tremaining: 62.7ms\n",
      "172:\tlearn: 9.5898457\ttotal: 387ms\tremaining: 60.4ms\n",
      "173:\tlearn: 9.5644288\ttotal: 389ms\tremaining: 58.2ms\n",
      "174:\tlearn: 9.5325268\ttotal: 392ms\tremaining: 56ms\n",
      "175:\tlearn: 9.5116949\ttotal: 394ms\tremaining: 53.8ms\n",
      "176:\tlearn: 9.4409762\ttotal: 397ms\tremaining: 51.6ms\n",
      "177:\tlearn: 9.3908310\ttotal: 399ms\tremaining: 49.3ms\n",
      "178:\tlearn: 9.3505451\ttotal: 401ms\tremaining: 47.1ms\n",
      "179:\tlearn: 9.3108827\ttotal: 404ms\tremaining: 44.9ms\n",
      "180:\tlearn: 9.2616160\ttotal: 406ms\tremaining: 42.6ms\n",
      "181:\tlearn: 9.2413203\ttotal: 408ms\tremaining: 40.4ms\n",
      "182:\tlearn: 9.1957598\ttotal: 411ms\tremaining: 38.1ms\n",
      "183:\tlearn: 9.1795406\ttotal: 413ms\tremaining: 35.9ms\n",
      "184:\tlearn: 9.1572239\ttotal: 415ms\tremaining: 33.6ms\n",
      "185:\tlearn: 9.1510500\ttotal: 417ms\tremaining: 31.4ms\n",
      "186:\tlearn: 9.1365764\ttotal: 419ms\tremaining: 29.2ms\n",
      "187:\tlearn: 9.0894581\ttotal: 422ms\tremaining: 26.9ms\n",
      "188:\tlearn: 9.0310847\ttotal: 424ms\tremaining: 24.7ms\n",
      "189:\tlearn: 8.9931186\ttotal: 426ms\tremaining: 22.4ms\n",
      "190:\tlearn: 8.9707931\ttotal: 428ms\tremaining: 20.2ms\n",
      "191:\tlearn: 8.9344171\ttotal: 431ms\tremaining: 17.9ms\n",
      "192:\tlearn: 8.9083888\ttotal: 433ms\tremaining: 15.7ms\n",
      "193:\tlearn: 8.8869628\ttotal: 435ms\tremaining: 13.5ms\n",
      "194:\tlearn: 8.8517667\ttotal: 437ms\tremaining: 11.2ms\n",
      "195:\tlearn: 8.8181015\ttotal: 440ms\tremaining: 8.97ms\n",
      "196:\tlearn: 8.7839375\ttotal: 442ms\tremaining: 6.73ms\n",
      "197:\tlearn: 8.7447060\ttotal: 444ms\tremaining: 4.49ms\n",
      "198:\tlearn: 8.7106161\ttotal: 446ms\tremaining: 2.24ms\n",
      "199:\tlearn: 8.6655852\ttotal: 449ms\tremaining: 0us\n",
      "Learning rate set to 0.165932\n",
      "0:\tlearn: 29.7410427\ttotal: 2.76ms\tremaining: 550ms\n",
      "1:\tlearn: 28.2968572\ttotal: 5.38ms\tremaining: 533ms\n",
      "2:\tlearn: 27.1992923\ttotal: 7.89ms\tremaining: 518ms\n",
      "3:\tlearn: 26.3583552\ttotal: 10.4ms\tremaining: 510ms\n",
      "4:\tlearn: 25.5169977\ttotal: 13ms\tremaining: 508ms\n",
      "5:\tlearn: 24.8895152\ttotal: 15.4ms\tremaining: 499ms\n",
      "6:\tlearn: 24.3511964\ttotal: 17.9ms\tremaining: 494ms\n",
      "7:\tlearn: 23.9101172\ttotal: 20.4ms\tremaining: 491ms\n",
      "8:\tlearn: 23.5476108\ttotal: 22.9ms\tremaining: 486ms\n",
      "9:\tlearn: 23.2578440\ttotal: 25.3ms\tremaining: 480ms\n",
      "10:\tlearn: 22.8629149\ttotal: 27.8ms\tremaining: 477ms\n",
      "11:\tlearn: 22.5514640\ttotal: 30.1ms\tremaining: 472ms\n",
      "12:\tlearn: 22.2799405\ttotal: 32.5ms\tremaining: 468ms\n",
      "13:\tlearn: 22.0506403\ttotal: 34.9ms\tremaining: 464ms\n",
      "14:\tlearn: 21.9097915\ttotal: 37.5ms\tremaining: 462ms\n",
      "15:\tlearn: 21.6244750\ttotal: 40ms\tremaining: 460ms\n",
      "16:\tlearn: 21.3647485\ttotal: 42.5ms\tremaining: 457ms\n",
      "17:\tlearn: 21.2138000\ttotal: 44.9ms\tremaining: 454ms\n",
      "18:\tlearn: 21.0735872\ttotal: 47.4ms\tremaining: 452ms\n",
      "19:\tlearn: 20.9470509\ttotal: 50ms\tremaining: 450ms\n",
      "20:\tlearn: 20.8451437\ttotal: 52.4ms\tremaining: 447ms\n",
      "21:\tlearn: 20.7241246\ttotal: 54.9ms\tremaining: 444ms\n",
      "22:\tlearn: 20.6293853\ttotal: 57.4ms\tremaining: 442ms\n",
      "23:\tlearn: 20.5328244\ttotal: 59.9ms\tremaining: 439ms\n",
      "24:\tlearn: 20.4086967\ttotal: 62.6ms\tremaining: 438ms\n",
      "25:\tlearn: 20.3047687\ttotal: 65.1ms\tremaining: 436ms\n",
      "26:\tlearn: 20.2204499\ttotal: 67.7ms\tremaining: 433ms\n",
      "27:\tlearn: 20.1359666\ttotal: 70.2ms\tremaining: 431ms\n",
      "28:\tlearn: 19.9981811\ttotal: 72.7ms\tremaining: 429ms\n",
      "29:\tlearn: 19.8722143\ttotal: 75.5ms\tremaining: 428ms\n",
      "30:\tlearn: 19.8143557\ttotal: 78ms\tremaining: 425ms\n",
      "31:\tlearn: 19.6933934\ttotal: 80.5ms\tremaining: 423ms\n",
      "32:\tlearn: 19.5811901\ttotal: 83.1ms\tremaining: 420ms\n",
      "33:\tlearn: 19.4999314\ttotal: 85.7ms\tremaining: 418ms\n",
      "34:\tlearn: 19.3741412\ttotal: 88.2ms\tremaining: 416ms\n",
      "35:\tlearn: 19.2491133\ttotal: 90.7ms\tremaining: 413ms\n",
      "36:\tlearn: 19.1603047\ttotal: 93.2ms\tremaining: 411ms\n",
      "37:\tlearn: 19.1163767\ttotal: 95.7ms\tremaining: 408ms\n",
      "38:\tlearn: 19.0716643\ttotal: 98.2ms\tremaining: 405ms\n",
      "39:\tlearn: 19.0178024\ttotal: 101ms\tremaining: 403ms\n",
      "40:\tlearn: 18.9224841\ttotal: 103ms\tremaining: 401ms\n",
      "41:\tlearn: 18.7817581\ttotal: 106ms\tremaining: 398ms\n",
      "42:\tlearn: 18.7067463\ttotal: 108ms\tremaining: 395ms\n",
      "43:\tlearn: 18.6438286\ttotal: 111ms\tremaining: 393ms\n",
      "44:\tlearn: 18.5711040\ttotal: 113ms\tremaining: 390ms\n",
      "45:\tlearn: 18.4805438\ttotal: 116ms\tremaining: 388ms\n",
      "46:\tlearn: 18.3752814\ttotal: 118ms\tremaining: 386ms\n",
      "47:\tlearn: 18.3175698\ttotal: 121ms\tremaining: 383ms\n",
      "48:\tlearn: 18.2790754\ttotal: 123ms\tremaining: 380ms\n",
      "49:\tlearn: 18.1765743\ttotal: 126ms\tremaining: 378ms\n",
      "50:\tlearn: 18.0876427\ttotal: 129ms\tremaining: 375ms\n",
      "51:\tlearn: 17.9858037\ttotal: 131ms\tremaining: 373ms\n",
      "52:\tlearn: 17.9285346\ttotal: 134ms\tremaining: 370ms\n",
      "53:\tlearn: 17.8450846\ttotal: 136ms\tremaining: 368ms\n",
      "54:\tlearn: 17.7829370\ttotal: 139ms\tremaining: 366ms\n",
      "55:\tlearn: 17.7220370\ttotal: 141ms\tremaining: 363ms\n",
      "56:\tlearn: 17.6784348\ttotal: 144ms\tremaining: 360ms\n",
      "57:\tlearn: 17.5859563\ttotal: 146ms\tremaining: 357ms\n",
      "58:\tlearn: 17.5224922\ttotal: 148ms\tremaining: 355ms\n",
      "59:\tlearn: 17.4789418\ttotal: 151ms\tremaining: 353ms\n",
      "60:\tlearn: 17.3523375\ttotal: 154ms\tremaining: 351ms\n",
      "61:\tlearn: 17.2689966\ttotal: 157ms\tremaining: 348ms\n",
      "62:\tlearn: 17.1898841\ttotal: 159ms\tremaining: 346ms\n",
      "63:\tlearn: 17.1063117\ttotal: 162ms\tremaining: 343ms\n",
      "64:\tlearn: 17.0411820\ttotal: 164ms\tremaining: 341ms\n",
      "65:\tlearn: 16.9298264\ttotal: 167ms\tremaining: 339ms\n",
      "66:\tlearn: 16.8579176\ttotal: 170ms\tremaining: 337ms\n",
      "67:\tlearn: 16.7880367\ttotal: 172ms\tremaining: 335ms\n",
      "68:\tlearn: 16.7577019\ttotal: 175ms\tremaining: 332ms\n",
      "69:\tlearn: 16.7252631\ttotal: 178ms\tremaining: 330ms\n",
      "70:\tlearn: 16.6222631\ttotal: 180ms\tremaining: 328ms\n",
      "71:\tlearn: 16.6107562\ttotal: 183ms\tremaining: 325ms\n",
      "72:\tlearn: 16.5267945\ttotal: 185ms\tremaining: 323ms\n",
      "73:\tlearn: 16.4701275\ttotal: 188ms\tremaining: 320ms\n",
      "74:\tlearn: 16.3707793\ttotal: 191ms\tremaining: 318ms\n",
      "75:\tlearn: 16.3013685\ttotal: 193ms\tremaining: 315ms\n",
      "76:\tlearn: 16.2496084\ttotal: 196ms\tremaining: 313ms\n",
      "77:\tlearn: 16.1522296\ttotal: 199ms\tremaining: 310ms\n",
      "78:\tlearn: 16.0690560\ttotal: 201ms\tremaining: 308ms\n",
      "79:\tlearn: 16.0413454\ttotal: 204ms\tremaining: 305ms\n",
      "80:\tlearn: 15.9490473\ttotal: 206ms\tremaining: 303ms\n",
      "81:\tlearn: 15.9375367\ttotal: 209ms\tremaining: 300ms\n",
      "82:\tlearn: 15.9274823\ttotal: 211ms\tremaining: 298ms\n",
      "83:\tlearn: 15.9208510\ttotal: 214ms\tremaining: 295ms\n",
      "84:\tlearn: 15.9029462\ttotal: 216ms\tremaining: 292ms\n",
      "85:\tlearn: 15.8570320\ttotal: 219ms\tremaining: 290ms\n",
      "86:\tlearn: 15.8034852\ttotal: 221ms\tremaining: 287ms\n",
      "87:\tlearn: 15.7476430\ttotal: 224ms\tremaining: 284ms\n",
      "88:\tlearn: 15.6985738\ttotal: 226ms\tremaining: 282ms\n",
      "89:\tlearn: 15.6277625\ttotal: 228ms\tremaining: 279ms\n",
      "90:\tlearn: 15.5781900\ttotal: 231ms\tremaining: 277ms\n",
      "91:\tlearn: 15.5054951\ttotal: 234ms\tremaining: 274ms\n",
      "92:\tlearn: 15.4419279\ttotal: 236ms\tremaining: 271ms\n",
      "93:\tlearn: 15.4027583\ttotal: 238ms\tremaining: 269ms\n",
      "94:\tlearn: 15.3825056\ttotal: 241ms\tremaining: 266ms\n",
      "95:\tlearn: 15.3147494\ttotal: 243ms\tremaining: 263ms\n",
      "96:\tlearn: 15.2718335\ttotal: 246ms\tremaining: 261ms\n",
      "97:\tlearn: 15.2631623\ttotal: 248ms\tremaining: 258ms\n",
      "98:\tlearn: 15.2098153\ttotal: 251ms\tremaining: 256ms\n",
      "99:\tlearn: 15.1720283\ttotal: 253ms\tremaining: 253ms\n",
      "100:\tlearn: 15.1164503\ttotal: 256ms\tremaining: 250ms\n",
      "101:\tlearn: 15.0609619\ttotal: 258ms\tremaining: 248ms\n",
      "102:\tlearn: 14.9889900\ttotal: 260ms\tremaining: 245ms\n",
      "103:\tlearn: 14.9355197\ttotal: 263ms\tremaining: 243ms\n",
      "104:\tlearn: 14.8319148\ttotal: 265ms\tremaining: 240ms\n",
      "105:\tlearn: 14.8206992\ttotal: 268ms\tremaining: 237ms\n",
      "106:\tlearn: 14.7719905\ttotal: 270ms\tremaining: 235ms\n",
      "107:\tlearn: 14.7140638\ttotal: 273ms\tremaining: 232ms\n",
      "108:\tlearn: 14.6959397\ttotal: 275ms\tremaining: 229ms\n",
      "109:\tlearn: 14.6889980\ttotal: 277ms\tremaining: 227ms\n",
      "110:\tlearn: 14.6269487\ttotal: 280ms\tremaining: 224ms\n",
      "111:\tlearn: 14.5755052\ttotal: 282ms\tremaining: 222ms\n",
      "112:\tlearn: 14.5688054\ttotal: 285ms\tremaining: 219ms\n",
      "113:\tlearn: 14.5136357\ttotal: 287ms\tremaining: 216ms\n",
      "114:\tlearn: 14.4748314\ttotal: 289ms\tremaining: 214ms\n",
      "115:\tlearn: 14.4496901\ttotal: 292ms\tremaining: 211ms\n",
      "116:\tlearn: 14.4195909\ttotal: 294ms\tremaining: 209ms\n",
      "117:\tlearn: 14.3773140\ttotal: 297ms\tremaining: 206ms\n",
      "118:\tlearn: 14.3168317\ttotal: 299ms\tremaining: 204ms\n",
      "119:\tlearn: 14.2633707\ttotal: 301ms\tremaining: 201ms\n",
      "120:\tlearn: 14.1866621\ttotal: 304ms\tremaining: 198ms\n",
      "121:\tlearn: 14.1189418\ttotal: 306ms\tremaining: 196ms\n",
      "122:\tlearn: 14.0726143\ttotal: 309ms\tremaining: 193ms\n",
      "123:\tlearn: 14.0017401\ttotal: 311ms\tremaining: 191ms\n",
      "124:\tlearn: 13.9090952\ttotal: 314ms\tremaining: 188ms\n",
      "125:\tlearn: 13.8411912\ttotal: 316ms\tremaining: 186ms\n",
      "126:\tlearn: 13.8136242\ttotal: 319ms\tremaining: 183ms\n",
      "127:\tlearn: 13.7660482\ttotal: 321ms\tremaining: 180ms\n",
      "128:\tlearn: 13.7214354\ttotal: 323ms\tremaining: 178ms\n",
      "129:\tlearn: 13.6439087\ttotal: 326ms\tremaining: 175ms\n",
      "130:\tlearn: 13.5807361\ttotal: 328ms\tremaining: 173ms\n",
      "131:\tlearn: 13.5714269\ttotal: 330ms\tremaining: 170ms\n",
      "132:\tlearn: 13.5313431\ttotal: 333ms\tremaining: 168ms\n",
      "133:\tlearn: 13.5153922\ttotal: 335ms\tremaining: 165ms\n",
      "134:\tlearn: 13.4784275\ttotal: 337ms\tremaining: 162ms\n",
      "135:\tlearn: 13.4286210\ttotal: 340ms\tremaining: 160ms\n",
      "136:\tlearn: 13.4140437\ttotal: 342ms\tremaining: 157ms\n",
      "137:\tlearn: 13.3604174\ttotal: 345ms\tremaining: 155ms\n",
      "138:\tlearn: 13.3003029\ttotal: 347ms\tremaining: 152ms\n",
      "139:\tlearn: 13.2959355\ttotal: 350ms\tremaining: 150ms\n",
      "140:\tlearn: 13.2638232\ttotal: 352ms\tremaining: 147ms\n",
      "141:\tlearn: 13.2024675\ttotal: 355ms\tremaining: 145ms\n",
      "142:\tlearn: 13.1569945\ttotal: 357ms\tremaining: 142ms\n",
      "143:\tlearn: 13.1109765\ttotal: 360ms\tremaining: 140ms\n",
      "144:\tlearn: 13.0815146\ttotal: 362ms\tremaining: 137ms\n",
      "145:\tlearn: 13.0214095\ttotal: 365ms\tremaining: 135ms\n",
      "146:\tlearn: 12.9540127\ttotal: 367ms\tremaining: 132ms\n",
      "147:\tlearn: 12.9302036\ttotal: 370ms\tremaining: 130ms\n",
      "148:\tlearn: 12.8806748\ttotal: 372ms\tremaining: 127ms\n",
      "149:\tlearn: 12.8728870\ttotal: 374ms\tremaining: 125ms\n",
      "150:\tlearn: 12.8166271\ttotal: 377ms\tremaining: 122ms\n",
      "151:\tlearn: 12.7766066\ttotal: 380ms\tremaining: 120ms\n",
      "152:\tlearn: 12.7403322\ttotal: 382ms\tremaining: 117ms\n",
      "153:\tlearn: 12.7072803\ttotal: 385ms\tremaining: 115ms\n",
      "154:\tlearn: 12.6772658\ttotal: 387ms\tremaining: 112ms\n",
      "155:\tlearn: 12.6305125\ttotal: 390ms\tremaining: 110ms\n",
      "156:\tlearn: 12.6004636\ttotal: 392ms\tremaining: 107ms\n",
      "157:\tlearn: 12.5475825\ttotal: 395ms\tremaining: 105ms\n",
      "158:\tlearn: 12.5028461\ttotal: 398ms\tremaining: 103ms\n",
      "159:\tlearn: 12.4394096\ttotal: 400ms\tremaining: 100ms\n",
      "160:\tlearn: 12.4338499\ttotal: 403ms\tremaining: 97.5ms\n",
      "161:\tlearn: 12.3702566\ttotal: 405ms\tremaining: 95ms\n",
      "162:\tlearn: 12.3174906\ttotal: 408ms\tremaining: 92.5ms\n",
      "163:\tlearn: 12.2610678\ttotal: 410ms\tremaining: 90ms\n",
      "164:\tlearn: 12.2108855\ttotal: 413ms\tremaining: 87.5ms\n",
      "165:\tlearn: 12.1857299\ttotal: 415ms\tremaining: 85ms\n",
      "166:\tlearn: 12.1564226\ttotal: 418ms\tremaining: 82.5ms\n",
      "167:\tlearn: 12.1197409\ttotal: 420ms\tremaining: 80ms\n",
      "168:\tlearn: 12.0988102\ttotal: 423ms\tremaining: 77.5ms\n",
      "169:\tlearn: 12.0728011\ttotal: 425ms\tremaining: 75ms\n",
      "170:\tlearn: 12.0123951\ttotal: 428ms\tremaining: 72.6ms\n",
      "171:\tlearn: 11.9655778\ttotal: 430ms\tremaining: 70.1ms\n",
      "172:\tlearn: 11.9061691\ttotal: 433ms\tremaining: 67.6ms\n",
      "173:\tlearn: 11.8534507\ttotal: 436ms\tremaining: 65.1ms\n",
      "174:\tlearn: 11.8060110\ttotal: 438ms\tremaining: 62.6ms\n",
      "175:\tlearn: 11.7745698\ttotal: 441ms\tremaining: 60.1ms\n",
      "176:\tlearn: 11.7717115\ttotal: 443ms\tremaining: 57.6ms\n",
      "177:\tlearn: 11.7278961\ttotal: 446ms\tremaining: 55.1ms\n",
      "178:\tlearn: 11.6785220\ttotal: 448ms\tremaining: 52.6ms\n",
      "179:\tlearn: 11.6374583\ttotal: 451ms\tremaining: 50.1ms\n",
      "180:\tlearn: 11.6090540\ttotal: 453ms\tremaining: 47.6ms\n",
      "181:\tlearn: 11.5731788\ttotal: 455ms\tremaining: 45ms\n",
      "182:\tlearn: 11.5700710\ttotal: 458ms\tremaining: 42.5ms\n",
      "183:\tlearn: 11.5239498\ttotal: 460ms\tremaining: 40ms\n",
      "184:\tlearn: 11.5188270\ttotal: 463ms\tremaining: 37.5ms\n",
      "185:\tlearn: 11.4875751\ttotal: 465ms\tremaining: 35ms\n",
      "186:\tlearn: 11.4528398\ttotal: 468ms\tremaining: 32.5ms\n",
      "187:\tlearn: 11.4137902\ttotal: 470ms\tremaining: 30ms\n",
      "188:\tlearn: 11.3923897\ttotal: 473ms\tremaining: 27.5ms\n",
      "189:\tlearn: 11.3876969\ttotal: 475ms\tremaining: 25ms\n",
      "190:\tlearn: 11.3839048\ttotal: 478ms\tremaining: 22.5ms\n",
      "191:\tlearn: 11.3386718\ttotal: 480ms\tremaining: 20ms\n",
      "192:\tlearn: 11.2791294\ttotal: 483ms\tremaining: 17.5ms\n",
      "193:\tlearn: 11.2368805\ttotal: 485ms\tremaining: 15ms\n",
      "194:\tlearn: 11.2118768\ttotal: 488ms\tremaining: 12.5ms\n",
      "195:\tlearn: 11.1937765\ttotal: 490ms\tremaining: 10ms\n",
      "196:\tlearn: 11.1907475\ttotal: 493ms\tremaining: 7.5ms\n",
      "197:\tlearn: 11.1759301\ttotal: 495ms\tremaining: 5ms\n",
      "198:\tlearn: 11.1497274\ttotal: 498ms\tremaining: 2.5ms\n",
      "199:\tlearn: 11.1419841\ttotal: 500ms\tremaining: 0us\n",
      "Learning rate set to 0.173641\n",
      "0:\tlearn: 30.3147832\ttotal: 2.94ms\tremaining: 584ms\n",
      "1:\tlearn: 29.0604562\ttotal: 5.58ms\tremaining: 553ms\n",
      "2:\tlearn: 27.7419072\ttotal: 8.43ms\tremaining: 553ms\n",
      "3:\tlearn: 26.7215398\ttotal: 11.2ms\tremaining: 550ms\n",
      "4:\tlearn: 25.8673461\ttotal: 14ms\tremaining: 546ms\n",
      "5:\tlearn: 25.2699144\ttotal: 16.6ms\tremaining: 538ms\n",
      "6:\tlearn: 24.5672324\ttotal: 19.1ms\tremaining: 526ms\n",
      "7:\tlearn: 24.1036198\ttotal: 21.7ms\tremaining: 521ms\n",
      "8:\tlearn: 23.8545877\ttotal: 24.4ms\tremaining: 518ms\n",
      "9:\tlearn: 23.4723116\ttotal: 27ms\tremaining: 512ms\n",
      "10:\tlearn: 23.1218665\ttotal: 29.5ms\tremaining: 507ms\n",
      "11:\tlearn: 22.8718146\ttotal: 32ms\tremaining: 502ms\n",
      "12:\tlearn: 22.6484783\ttotal: 34.6ms\tremaining: 498ms\n",
      "13:\tlearn: 22.4301481\ttotal: 37.2ms\tremaining: 494ms\n",
      "14:\tlearn: 22.2794306\ttotal: 39.8ms\tremaining: 491ms\n",
      "15:\tlearn: 22.1060195\ttotal: 42.7ms\tremaining: 491ms\n",
      "16:\tlearn: 21.8808856\ttotal: 45.8ms\tremaining: 493ms\n",
      "17:\tlearn: 21.7678928\ttotal: 48.7ms\tremaining: 493ms\n",
      "18:\tlearn: 21.6218890\ttotal: 51.5ms\tremaining: 490ms\n",
      "19:\tlearn: 21.5087183\ttotal: 54ms\tremaining: 486ms\n",
      "20:\tlearn: 21.3828621\ttotal: 56.6ms\tremaining: 483ms\n",
      "21:\tlearn: 21.2586123\ttotal: 59.4ms\tremaining: 481ms\n",
      "22:\tlearn: 21.1333199\ttotal: 62.2ms\tremaining: 479ms\n",
      "23:\tlearn: 21.0691875\ttotal: 64.9ms\tremaining: 476ms\n",
      "24:\tlearn: 20.9723700\ttotal: 67.5ms\tremaining: 473ms\n",
      "25:\tlearn: 20.9019443\ttotal: 70.2ms\tremaining: 470ms\n",
      "26:\tlearn: 20.8112052\ttotal: 73.1ms\tremaining: 468ms\n",
      "27:\tlearn: 20.7033913\ttotal: 75.9ms\tremaining: 466ms\n",
      "28:\tlearn: 20.6189871\ttotal: 78.7ms\tremaining: 464ms\n",
      "29:\tlearn: 20.4863874\ttotal: 81.5ms\tremaining: 462ms\n",
      "30:\tlearn: 20.3829640\ttotal: 84.3ms\tremaining: 460ms\n",
      "31:\tlearn: 20.2624532\ttotal: 87.2ms\tremaining: 458ms\n",
      "32:\tlearn: 20.1310541\ttotal: 90.2ms\tremaining: 456ms\n",
      "33:\tlearn: 20.0953423\ttotal: 93ms\tremaining: 454ms\n",
      "34:\tlearn: 20.0203596\ttotal: 95.7ms\tremaining: 451ms\n",
      "35:\tlearn: 19.9610148\ttotal: 98.4ms\tremaining: 448ms\n",
      "36:\tlearn: 19.9100941\ttotal: 101ms\tremaining: 445ms\n",
      "37:\tlearn: 19.8034716\ttotal: 104ms\tremaining: 443ms\n",
      "38:\tlearn: 19.7334603\ttotal: 107ms\tremaining: 440ms\n",
      "39:\tlearn: 19.6635364\ttotal: 109ms\tremaining: 438ms\n",
      "40:\tlearn: 19.6224054\ttotal: 112ms\tremaining: 435ms\n",
      "41:\tlearn: 19.5572242\ttotal: 115ms\tremaining: 432ms\n",
      "42:\tlearn: 19.5101075\ttotal: 117ms\tremaining: 429ms\n",
      "43:\tlearn: 19.4448044\ttotal: 120ms\tremaining: 426ms\n",
      "44:\tlearn: 19.3977631\ttotal: 123ms\tremaining: 423ms\n",
      "45:\tlearn: 19.3093127\ttotal: 126ms\tremaining: 420ms\n",
      "46:\tlearn: 19.2781461\ttotal: 128ms\tremaining: 417ms\n",
      "47:\tlearn: 19.2347945\ttotal: 131ms\tremaining: 415ms\n",
      "48:\tlearn: 19.2082040\ttotal: 134ms\tremaining: 412ms\n",
      "49:\tlearn: 19.1662797\ttotal: 136ms\tremaining: 409ms\n",
      "50:\tlearn: 19.1017589\ttotal: 139ms\tremaining: 407ms\n",
      "51:\tlearn: 19.0401957\ttotal: 142ms\tremaining: 404ms\n",
      "52:\tlearn: 18.9509338\ttotal: 144ms\tremaining: 400ms\n",
      "53:\tlearn: 18.8832777\ttotal: 147ms\tremaining: 397ms\n",
      "54:\tlearn: 18.8222753\ttotal: 149ms\tremaining: 394ms\n",
      "55:\tlearn: 18.7198168\ttotal: 152ms\tremaining: 391ms\n",
      "56:\tlearn: 18.6061818\ttotal: 155ms\tremaining: 388ms\n",
      "57:\tlearn: 18.4537644\ttotal: 157ms\tremaining: 385ms\n",
      "58:\tlearn: 18.3538079\ttotal: 160ms\tremaining: 383ms\n",
      "59:\tlearn: 18.2882979\ttotal: 163ms\tremaining: 380ms\n",
      "60:\tlearn: 18.2295283\ttotal: 165ms\tremaining: 377ms\n",
      "61:\tlearn: 18.1424061\ttotal: 168ms\tremaining: 374ms\n",
      "62:\tlearn: 18.0545868\ttotal: 170ms\tremaining: 371ms\n",
      "63:\tlearn: 17.9349330\ttotal: 173ms\tremaining: 368ms\n",
      "64:\tlearn: 17.8798948\ttotal: 176ms\tremaining: 365ms\n",
      "65:\tlearn: 17.8234331\ttotal: 178ms\tremaining: 362ms\n",
      "66:\tlearn: 17.7767249\ttotal: 181ms\tremaining: 359ms\n",
      "67:\tlearn: 17.6987010\ttotal: 183ms\tremaining: 356ms\n",
      "68:\tlearn: 17.6484393\ttotal: 186ms\tremaining: 353ms\n",
      "69:\tlearn: 17.5577962\ttotal: 189ms\tremaining: 350ms\n",
      "70:\tlearn: 17.5118170\ttotal: 191ms\tremaining: 348ms\n",
      "71:\tlearn: 17.4417869\ttotal: 194ms\tremaining: 345ms\n",
      "72:\tlearn: 17.3387918\ttotal: 196ms\tremaining: 342ms\n",
      "73:\tlearn: 17.2313569\ttotal: 199ms\tremaining: 339ms\n",
      "74:\tlearn: 17.1929173\ttotal: 202ms\tremaining: 336ms\n",
      "75:\tlearn: 17.1440588\ttotal: 204ms\tremaining: 333ms\n",
      "76:\tlearn: 17.0718925\ttotal: 207ms\tremaining: 330ms\n",
      "77:\tlearn: 17.0368571\ttotal: 209ms\tremaining: 327ms\n",
      "78:\tlearn: 16.9525417\ttotal: 212ms\tremaining: 325ms\n",
      "79:\tlearn: 16.8822362\ttotal: 215ms\tremaining: 322ms\n",
      "80:\tlearn: 16.8138122\ttotal: 217ms\tremaining: 319ms\n",
      "81:\tlearn: 16.7512955\ttotal: 220ms\tremaining: 316ms\n",
      "82:\tlearn: 16.6583151\ttotal: 223ms\tremaining: 314ms\n",
      "83:\tlearn: 16.5756979\ttotal: 225ms\tremaining: 311ms\n",
      "84:\tlearn: 16.4863325\ttotal: 228ms\tremaining: 308ms\n",
      "85:\tlearn: 16.4202193\ttotal: 231ms\tremaining: 306ms\n",
      "86:\tlearn: 16.3429562\ttotal: 234ms\tremaining: 303ms\n",
      "87:\tlearn: 16.2460095\ttotal: 236ms\tremaining: 301ms\n",
      "88:\tlearn: 16.2015426\ttotal: 239ms\tremaining: 298ms\n",
      "89:\tlearn: 16.1406902\ttotal: 242ms\tremaining: 296ms\n",
      "90:\tlearn: 16.0496666\ttotal: 244ms\tremaining: 293ms\n",
      "91:\tlearn: 15.9980349\ttotal: 247ms\tremaining: 290ms\n",
      "92:\tlearn: 15.9894319\ttotal: 250ms\tremaining: 287ms\n",
      "93:\tlearn: 15.9530189\ttotal: 252ms\tremaining: 285ms\n",
      "94:\tlearn: 15.9117968\ttotal: 255ms\tremaining: 282ms\n",
      "95:\tlearn: 15.8675664\ttotal: 258ms\tremaining: 279ms\n",
      "96:\tlearn: 15.8144320\ttotal: 260ms\tremaining: 276ms\n",
      "97:\tlearn: 15.7599421\ttotal: 263ms\tremaining: 273ms\n",
      "98:\tlearn: 15.7424737\ttotal: 265ms\tremaining: 270ms\n",
      "99:\tlearn: 15.6961123\ttotal: 268ms\tremaining: 268ms\n",
      "100:\tlearn: 15.6106934\ttotal: 270ms\tremaining: 265ms\n",
      "101:\tlearn: 15.5589434\ttotal: 273ms\tremaining: 262ms\n",
      "102:\tlearn: 15.4910093\ttotal: 276ms\tremaining: 260ms\n",
      "103:\tlearn: 15.4392886\ttotal: 278ms\tremaining: 257ms\n",
      "104:\tlearn: 15.3658162\ttotal: 281ms\tremaining: 254ms\n",
      "105:\tlearn: 15.3262173\ttotal: 284ms\tremaining: 252ms\n",
      "106:\tlearn: 15.2915218\ttotal: 286ms\tremaining: 249ms\n",
      "107:\tlearn: 15.2395386\ttotal: 289ms\tremaining: 246ms\n",
      "108:\tlearn: 15.1907390\ttotal: 291ms\tremaining: 243ms\n",
      "109:\tlearn: 15.1828684\ttotal: 294ms\tremaining: 241ms\n",
      "110:\tlearn: 15.1426357\ttotal: 297ms\tremaining: 238ms\n",
      "111:\tlearn: 15.0949628\ttotal: 299ms\tremaining: 235ms\n",
      "112:\tlearn: 15.0350267\ttotal: 302ms\tremaining: 232ms\n",
      "113:\tlearn: 14.9598923\ttotal: 305ms\tremaining: 230ms\n",
      "114:\tlearn: 14.9285449\ttotal: 307ms\tremaining: 227ms\n",
      "115:\tlearn: 14.9206882\ttotal: 310ms\tremaining: 224ms\n",
      "116:\tlearn: 14.8801571\ttotal: 312ms\tremaining: 221ms\n",
      "117:\tlearn: 14.8244274\ttotal: 315ms\tremaining: 219ms\n",
      "118:\tlearn: 14.7917526\ttotal: 317ms\tremaining: 216ms\n",
      "119:\tlearn: 14.7432583\ttotal: 320ms\tremaining: 213ms\n",
      "120:\tlearn: 14.6973346\ttotal: 323ms\tremaining: 211ms\n",
      "121:\tlearn: 14.6915285\ttotal: 325ms\tremaining: 208ms\n",
      "122:\tlearn: 14.6395566\ttotal: 328ms\tremaining: 205ms\n",
      "123:\tlearn: 14.6345299\ttotal: 331ms\tremaining: 203ms\n",
      "124:\tlearn: 14.5459467\ttotal: 333ms\tremaining: 200ms\n",
      "125:\tlearn: 14.5120997\ttotal: 336ms\tremaining: 197ms\n",
      "126:\tlearn: 14.4708100\ttotal: 339ms\tremaining: 195ms\n",
      "127:\tlearn: 14.4296474\ttotal: 341ms\tremaining: 192ms\n",
      "128:\tlearn: 14.3783758\ttotal: 344ms\tremaining: 189ms\n",
      "129:\tlearn: 14.3308130\ttotal: 346ms\tremaining: 187ms\n",
      "130:\tlearn: 14.3060157\ttotal: 349ms\tremaining: 184ms\n",
      "131:\tlearn: 14.2969332\ttotal: 351ms\tremaining: 181ms\n",
      "132:\tlearn: 14.2548345\ttotal: 354ms\tremaining: 178ms\n",
      "133:\tlearn: 14.2045322\ttotal: 357ms\tremaining: 176ms\n",
      "134:\tlearn: 14.1724806\ttotal: 359ms\tremaining: 173ms\n",
      "135:\tlearn: 14.1251168\ttotal: 362ms\tremaining: 170ms\n",
      "136:\tlearn: 14.1098744\ttotal: 364ms\tremaining: 168ms\n",
      "137:\tlearn: 14.0802080\ttotal: 367ms\tremaining: 165ms\n",
      "138:\tlearn: 14.0374409\ttotal: 370ms\tremaining: 162ms\n",
      "139:\tlearn: 13.9995553\ttotal: 372ms\tremaining: 159ms\n",
      "140:\tlearn: 13.9502166\ttotal: 375ms\tremaining: 157ms\n",
      "141:\tlearn: 13.9264874\ttotal: 377ms\tremaining: 154ms\n",
      "142:\tlearn: 13.9046578\ttotal: 380ms\tremaining: 151ms\n",
      "143:\tlearn: 13.8515759\ttotal: 382ms\tremaining: 149ms\n",
      "144:\tlearn: 13.7980535\ttotal: 385ms\tremaining: 146ms\n",
      "145:\tlearn: 13.7818836\ttotal: 387ms\tremaining: 143ms\n",
      "146:\tlearn: 13.7418750\ttotal: 390ms\tremaining: 141ms\n",
      "147:\tlearn: 13.6783566\ttotal: 393ms\tremaining: 138ms\n",
      "148:\tlearn: 13.6440116\ttotal: 396ms\tremaining: 135ms\n",
      "149:\tlearn: 13.5924879\ttotal: 398ms\tremaining: 133ms\n",
      "150:\tlearn: 13.5487481\ttotal: 401ms\tremaining: 130ms\n",
      "151:\tlearn: 13.5092632\ttotal: 404ms\tremaining: 127ms\n",
      "152:\tlearn: 13.4871824\ttotal: 406ms\tremaining: 125ms\n",
      "153:\tlearn: 13.4180863\ttotal: 409ms\tremaining: 122ms\n",
      "154:\tlearn: 13.3624902\ttotal: 412ms\tremaining: 120ms\n",
      "155:\tlearn: 13.3155153\ttotal: 414ms\tremaining: 117ms\n",
      "156:\tlearn: 13.2561056\ttotal: 417ms\tremaining: 114ms\n",
      "157:\tlearn: 13.2002989\ttotal: 420ms\tremaining: 112ms\n",
      "158:\tlearn: 13.1588386\ttotal: 422ms\tremaining: 109ms\n",
      "159:\tlearn: 13.1443644\ttotal: 425ms\tremaining: 106ms\n",
      "160:\tlearn: 13.1047893\ttotal: 427ms\tremaining: 104ms\n",
      "161:\tlearn: 13.0507196\ttotal: 430ms\tremaining: 101ms\n",
      "162:\tlearn: 13.0143038\ttotal: 433ms\tremaining: 98.2ms\n",
      "163:\tlearn: 12.9597203\ttotal: 435ms\tremaining: 95.5ms\n",
      "164:\tlearn: 12.9031007\ttotal: 438ms\tremaining: 92.9ms\n",
      "165:\tlearn: 12.8751524\ttotal: 440ms\tremaining: 90.2ms\n",
      "166:\tlearn: 12.8201264\ttotal: 443ms\tremaining: 87.5ms\n",
      "167:\tlearn: 12.7886249\ttotal: 446ms\tremaining: 84.9ms\n",
      "168:\tlearn: 12.7615672\ttotal: 448ms\tremaining: 82.2ms\n",
      "169:\tlearn: 12.7358885\ttotal: 451ms\tremaining: 79.5ms\n",
      "170:\tlearn: 12.7066958\ttotal: 453ms\tremaining: 76.9ms\n",
      "171:\tlearn: 12.6586670\ttotal: 456ms\tremaining: 74.2ms\n",
      "172:\tlearn: 12.6110170\ttotal: 458ms\tremaining: 71.5ms\n",
      "173:\tlearn: 12.5593728\ttotal: 461ms\tremaining: 68.9ms\n",
      "174:\tlearn: 12.5514290\ttotal: 463ms\tremaining: 66.2ms\n",
      "175:\tlearn: 12.5171695\ttotal: 466ms\tremaining: 63.6ms\n",
      "176:\tlearn: 12.4871421\ttotal: 469ms\tremaining: 60.9ms\n",
      "177:\tlearn: 12.4826532\ttotal: 471ms\tremaining: 58.3ms\n",
      "178:\tlearn: 12.4507382\ttotal: 474ms\tremaining: 55.6ms\n",
      "179:\tlearn: 12.4102288\ttotal: 477ms\tremaining: 53ms\n",
      "180:\tlearn: 12.3785566\ttotal: 479ms\tremaining: 50.3ms\n",
      "181:\tlearn: 12.3487724\ttotal: 482ms\tremaining: 47.7ms\n",
      "182:\tlearn: 12.3224640\ttotal: 485ms\tremaining: 45ms\n",
      "183:\tlearn: 12.3122861\ttotal: 487ms\tremaining: 42.3ms\n",
      "184:\tlearn: 12.2907924\ttotal: 490ms\tremaining: 39.7ms\n",
      "185:\tlearn: 12.2854710\ttotal: 492ms\tremaining: 37ms\n",
      "186:\tlearn: 12.2472008\ttotal: 495ms\tremaining: 34.4ms\n",
      "187:\tlearn: 12.2217696\ttotal: 497ms\tremaining: 31.7ms\n",
      "188:\tlearn: 12.1733196\ttotal: 500ms\tremaining: 29.1ms\n",
      "189:\tlearn: 12.1309468\ttotal: 503ms\tremaining: 26.4ms\n",
      "190:\tlearn: 12.1105477\ttotal: 505ms\tremaining: 23.8ms\n",
      "191:\tlearn: 12.0386192\ttotal: 508ms\tremaining: 21.2ms\n",
      "192:\tlearn: 12.0043801\ttotal: 510ms\tremaining: 18.5ms\n",
      "193:\tlearn: 11.9531307\ttotal: 513ms\tremaining: 15.9ms\n",
      "194:\tlearn: 11.9220220\ttotal: 515ms\tremaining: 13.2ms\n",
      "195:\tlearn: 11.8949344\ttotal: 518ms\tremaining: 10.6ms\n",
      "196:\tlearn: 11.8703046\ttotal: 521ms\tremaining: 7.93ms\n",
      "197:\tlearn: 11.8392411\ttotal: 523ms\tremaining: 5.29ms\n",
      "198:\tlearn: 11.8215505\ttotal: 526ms\tremaining: 2.64ms\n",
      "199:\tlearn: 11.7825802\ttotal: 529ms\tremaining: 0us\n",
      "Learning rate set to 0.179867\n",
      "0:\tlearn: 30.9085945\ttotal: 3.28ms\tremaining: 653ms\n",
      "1:\tlearn: 29.4639332\ttotal: 6.42ms\tremaining: 636ms\n",
      "2:\tlearn: 28.3968045\ttotal: 9.52ms\tremaining: 625ms\n",
      "3:\tlearn: 27.4853437\ttotal: 12.4ms\tremaining: 610ms\n",
      "4:\tlearn: 26.6572968\ttotal: 15.3ms\tremaining: 599ms\n",
      "5:\tlearn: 25.9392370\ttotal: 18.2ms\tremaining: 589ms\n",
      "6:\tlearn: 25.3999452\ttotal: 21ms\tremaining: 579ms\n",
      "7:\tlearn: 25.0446841\ttotal: 23.7ms\tremaining: 570ms\n",
      "8:\tlearn: 24.5584619\ttotal: 26.7ms\tremaining: 566ms\n",
      "9:\tlearn: 24.2630090\ttotal: 29.9ms\tremaining: 568ms\n",
      "10:\tlearn: 23.9883552\ttotal: 32.8ms\tremaining: 564ms\n",
      "11:\tlearn: 23.7694019\ttotal: 35.7ms\tremaining: 559ms\n",
      "12:\tlearn: 23.5785809\ttotal: 38.5ms\tremaining: 554ms\n",
      "13:\tlearn: 23.3460523\ttotal: 41.3ms\tremaining: 549ms\n",
      "14:\tlearn: 23.2034853\ttotal: 44.2ms\tremaining: 545ms\n",
      "15:\tlearn: 23.0582076\ttotal: 47.1ms\tremaining: 542ms\n",
      "16:\tlearn: 22.8270656\ttotal: 50ms\tremaining: 539ms\n",
      "17:\tlearn: 22.7373475\ttotal: 53.1ms\tremaining: 537ms\n",
      "18:\tlearn: 22.6182181\ttotal: 56.1ms\tremaining: 534ms\n",
      "19:\tlearn: 22.5011368\ttotal: 58.8ms\tremaining: 529ms\n",
      "20:\tlearn: 22.3989534\ttotal: 61.6ms\tremaining: 525ms\n",
      "21:\tlearn: 22.2631705\ttotal: 64.6ms\tremaining: 523ms\n",
      "22:\tlearn: 22.1477096\ttotal: 67.5ms\tremaining: 520ms\n",
      "23:\tlearn: 22.0551930\ttotal: 70.7ms\tremaining: 518ms\n",
      "24:\tlearn: 21.9562605\ttotal: 73.7ms\tremaining: 516ms\n",
      "25:\tlearn: 21.8703659\ttotal: 76.7ms\tremaining: 513ms\n",
      "26:\tlearn: 21.7745986\ttotal: 79.7ms\tremaining: 511ms\n",
      "27:\tlearn: 21.6683322\ttotal: 82.7ms\tremaining: 508ms\n",
      "28:\tlearn: 21.5784117\ttotal: 85.7ms\tremaining: 506ms\n",
      "29:\tlearn: 21.4537914\ttotal: 88.7ms\tremaining: 503ms\n",
      "30:\tlearn: 21.4120603\ttotal: 91.4ms\tremaining: 498ms\n",
      "31:\tlearn: 21.3310341\ttotal: 94.3ms\tremaining: 495ms\n",
      "32:\tlearn: 21.2638600\ttotal: 97.3ms\tremaining: 492ms\n",
      "33:\tlearn: 21.2280736\ttotal: 100ms\tremaining: 489ms\n",
      "34:\tlearn: 21.1073575\ttotal: 103ms\tremaining: 486ms\n",
      "35:\tlearn: 21.0275949\ttotal: 106ms\tremaining: 483ms\n",
      "36:\tlearn: 20.9686740\ttotal: 109ms\tremaining: 479ms\n",
      "37:\tlearn: 20.8678182\ttotal: 112ms\tremaining: 476ms\n",
      "38:\tlearn: 20.7551247\ttotal: 115ms\tremaining: 473ms\n",
      "39:\tlearn: 20.6612818\ttotal: 117ms\tremaining: 470ms\n",
      "40:\tlearn: 20.5283111\ttotal: 120ms\tremaining: 467ms\n",
      "41:\tlearn: 20.3953847\ttotal: 123ms\tremaining: 464ms\n",
      "42:\tlearn: 20.3391994\ttotal: 126ms\tremaining: 460ms\n",
      "43:\tlearn: 20.2890528\ttotal: 129ms\tremaining: 457ms\n",
      "44:\tlearn: 20.2492073\ttotal: 132ms\tremaining: 455ms\n",
      "45:\tlearn: 20.2126545\ttotal: 135ms\tremaining: 451ms\n",
      "46:\tlearn: 20.1528036\ttotal: 138ms\tremaining: 448ms\n",
      "47:\tlearn: 20.0943813\ttotal: 140ms\tremaining: 445ms\n",
      "48:\tlearn: 20.0264029\ttotal: 143ms\tremaining: 441ms\n",
      "49:\tlearn: 19.9538979\ttotal: 146ms\tremaining: 438ms\n",
      "50:\tlearn: 19.9251768\ttotal: 149ms\tremaining: 435ms\n",
      "51:\tlearn: 19.8266046\ttotal: 152ms\tremaining: 432ms\n",
      "52:\tlearn: 19.7051756\ttotal: 155ms\tremaining: 429ms\n",
      "53:\tlearn: 19.6358521\ttotal: 157ms\tremaining: 426ms\n",
      "54:\tlearn: 19.5716306\ttotal: 160ms\tremaining: 423ms\n",
      "55:\tlearn: 19.5156181\ttotal: 163ms\tremaining: 420ms\n",
      "56:\tlearn: 19.4201713\ttotal: 166ms\tremaining: 417ms\n",
      "57:\tlearn: 19.3596242\ttotal: 169ms\tremaining: 414ms\n",
      "58:\tlearn: 19.2743144\ttotal: 172ms\tremaining: 411ms\n",
      "59:\tlearn: 19.1984909\ttotal: 175ms\tremaining: 408ms\n",
      "60:\tlearn: 19.1219946\ttotal: 178ms\tremaining: 405ms\n",
      "61:\tlearn: 19.0586143\ttotal: 181ms\tremaining: 403ms\n",
      "62:\tlearn: 18.9899913\ttotal: 184ms\tremaining: 399ms\n",
      "63:\tlearn: 18.9567413\ttotal: 187ms\tremaining: 397ms\n",
      "64:\tlearn: 18.9287185\ttotal: 189ms\tremaining: 393ms\n",
      "65:\tlearn: 18.9070921\ttotal: 192ms\tremaining: 390ms\n",
      "66:\tlearn: 18.8208359\ttotal: 195ms\tremaining: 387ms\n",
      "67:\tlearn: 18.7535901\ttotal: 198ms\tremaining: 384ms\n",
      "68:\tlearn: 18.7259995\ttotal: 201ms\tremaining: 381ms\n",
      "69:\tlearn: 18.6421100\ttotal: 204ms\tremaining: 378ms\n",
      "70:\tlearn: 18.5913123\ttotal: 207ms\tremaining: 376ms\n",
      "71:\tlearn: 18.5278084\ttotal: 210ms\tremaining: 373ms\n",
      "72:\tlearn: 18.4895068\ttotal: 213ms\tremaining: 370ms\n",
      "73:\tlearn: 18.4248473\ttotal: 216ms\tremaining: 367ms\n",
      "74:\tlearn: 18.3369600\ttotal: 219ms\tremaining: 364ms\n",
      "75:\tlearn: 18.2609640\ttotal: 222ms\tremaining: 361ms\n",
      "76:\tlearn: 18.2111299\ttotal: 225ms\tremaining: 359ms\n",
      "77:\tlearn: 18.1441256\ttotal: 227ms\tremaining: 356ms\n",
      "78:\tlearn: 18.0935234\ttotal: 231ms\tremaining: 353ms\n",
      "79:\tlearn: 18.0398429\ttotal: 233ms\tremaining: 350ms\n",
      "80:\tlearn: 17.9968289\ttotal: 236ms\tremaining: 347ms\n",
      "81:\tlearn: 17.9430123\ttotal: 239ms\tremaining: 344ms\n",
      "82:\tlearn: 17.8724482\ttotal: 242ms\tremaining: 341ms\n",
      "83:\tlearn: 17.8428731\ttotal: 245ms\tremaining: 338ms\n",
      "84:\tlearn: 17.8065554\ttotal: 248ms\tremaining: 336ms\n",
      "85:\tlearn: 17.7354312\ttotal: 251ms\tremaining: 333ms\n",
      "86:\tlearn: 17.7122425\ttotal: 254ms\tremaining: 330ms\n",
      "87:\tlearn: 17.6525522\ttotal: 257ms\tremaining: 327ms\n",
      "88:\tlearn: 17.6015256\ttotal: 260ms\tremaining: 324ms\n",
      "89:\tlearn: 17.5486670\ttotal: 263ms\tremaining: 321ms\n",
      "90:\tlearn: 17.4904681\ttotal: 266ms\tremaining: 318ms\n",
      "91:\tlearn: 17.4246134\ttotal: 269ms\tremaining: 316ms\n",
      "92:\tlearn: 17.4072505\ttotal: 272ms\tremaining: 312ms\n",
      "93:\tlearn: 17.3687944\ttotal: 274ms\tremaining: 309ms\n",
      "94:\tlearn: 17.3012014\ttotal: 277ms\tremaining: 306ms\n",
      "95:\tlearn: 17.2596576\ttotal: 280ms\tremaining: 303ms\n",
      "96:\tlearn: 17.2098386\ttotal: 283ms\tremaining: 300ms\n",
      "97:\tlearn: 17.2014393\ttotal: 286ms\tremaining: 297ms\n",
      "98:\tlearn: 17.1750702\ttotal: 289ms\tremaining: 294ms\n",
      "99:\tlearn: 17.1262465\ttotal: 292ms\tremaining: 292ms\n",
      "100:\tlearn: 17.0816174\ttotal: 294ms\tremaining: 289ms\n",
      "101:\tlearn: 17.0377055\ttotal: 298ms\tremaining: 286ms\n",
      "102:\tlearn: 17.0265298\ttotal: 300ms\tremaining: 283ms\n",
      "103:\tlearn: 16.9706991\ttotal: 303ms\tremaining: 280ms\n",
      "104:\tlearn: 16.9457724\ttotal: 306ms\tremaining: 277ms\n",
      "105:\tlearn: 16.8987679\ttotal: 309ms\tremaining: 274ms\n",
      "106:\tlearn: 16.8619420\ttotal: 312ms\tremaining: 271ms\n",
      "107:\tlearn: 16.8292696\ttotal: 314ms\tremaining: 268ms\n",
      "108:\tlearn: 16.7635358\ttotal: 317ms\tremaining: 265ms\n",
      "109:\tlearn: 16.7082400\ttotal: 320ms\tremaining: 262ms\n",
      "110:\tlearn: 16.7021282\ttotal: 323ms\tremaining: 259ms\n",
      "111:\tlearn: 16.6397380\ttotal: 326ms\tremaining: 256ms\n",
      "112:\tlearn: 16.5648569\ttotal: 329ms\tremaining: 253ms\n",
      "113:\tlearn: 16.4950457\ttotal: 332ms\tremaining: 251ms\n",
      "114:\tlearn: 16.4886318\ttotal: 335ms\tremaining: 248ms\n",
      "115:\tlearn: 16.4530182\ttotal: 338ms\tremaining: 245ms\n",
      "116:\tlearn: 16.4020367\ttotal: 341ms\tremaining: 242ms\n",
      "117:\tlearn: 16.3677974\ttotal: 343ms\tremaining: 239ms\n",
      "118:\tlearn: 16.3298337\ttotal: 346ms\tremaining: 236ms\n",
      "119:\tlearn: 16.2875522\ttotal: 349ms\tremaining: 233ms\n",
      "120:\tlearn: 16.2814606\ttotal: 352ms\tremaining: 230ms\n",
      "121:\tlearn: 16.2126473\ttotal: 355ms\tremaining: 227ms\n",
      "122:\tlearn: 16.1617244\ttotal: 357ms\tremaining: 224ms\n",
      "123:\tlearn: 16.1057039\ttotal: 360ms\tremaining: 221ms\n",
      "124:\tlearn: 16.0709238\ttotal: 363ms\tremaining: 218ms\n",
      "125:\tlearn: 16.0121781\ttotal: 366ms\tremaining: 215ms\n",
      "126:\tlearn: 15.9802796\ttotal: 369ms\tremaining: 212ms\n",
      "127:\tlearn: 15.9403179\ttotal: 372ms\tremaining: 209ms\n",
      "128:\tlearn: 15.9027237\ttotal: 375ms\tremaining: 206ms\n",
      "129:\tlearn: 15.8566505\ttotal: 377ms\tremaining: 203ms\n",
      "130:\tlearn: 15.8500837\ttotal: 380ms\tremaining: 200ms\n",
      "131:\tlearn: 15.8045403\ttotal: 383ms\tremaining: 197ms\n",
      "132:\tlearn: 15.7666813\ttotal: 386ms\tremaining: 194ms\n",
      "133:\tlearn: 15.7097695\ttotal: 389ms\tremaining: 191ms\n",
      "134:\tlearn: 15.6372535\ttotal: 391ms\tremaining: 188ms\n",
      "135:\tlearn: 15.6302610\ttotal: 394ms\tremaining: 185ms\n",
      "136:\tlearn: 15.5875590\ttotal: 397ms\tremaining: 182ms\n",
      "137:\tlearn: 15.5531379\ttotal: 400ms\tremaining: 180ms\n",
      "138:\tlearn: 15.5028838\ttotal: 402ms\tremaining: 177ms\n",
      "139:\tlearn: 15.4653816\ttotal: 405ms\tremaining: 174ms\n",
      "140:\tlearn: 15.4115704\ttotal: 408ms\tremaining: 171ms\n",
      "141:\tlearn: 15.3986948\ttotal: 411ms\tremaining: 168ms\n",
      "142:\tlearn: 15.3287353\ttotal: 414ms\tremaining: 165ms\n",
      "143:\tlearn: 15.2858661\ttotal: 417ms\tremaining: 162ms\n",
      "144:\tlearn: 15.2435057\ttotal: 419ms\tremaining: 159ms\n",
      "145:\tlearn: 15.2070271\ttotal: 422ms\tremaining: 156ms\n",
      "146:\tlearn: 15.1653848\ttotal: 425ms\tremaining: 153ms\n",
      "147:\tlearn: 15.1115520\ttotal: 428ms\tremaining: 150ms\n",
      "148:\tlearn: 15.0614261\ttotal: 431ms\tremaining: 147ms\n",
      "149:\tlearn: 15.0242301\ttotal: 434ms\tremaining: 145ms\n",
      "150:\tlearn: 14.9579936\ttotal: 436ms\tremaining: 142ms\n",
      "151:\tlearn: 14.9133674\ttotal: 439ms\tremaining: 139ms\n",
      "152:\tlearn: 14.8720368\ttotal: 442ms\tremaining: 136ms\n",
      "153:\tlearn: 14.8653766\ttotal: 445ms\tremaining: 133ms\n",
      "154:\tlearn: 14.8275612\ttotal: 447ms\tremaining: 130ms\n",
      "155:\tlearn: 14.7928452\ttotal: 450ms\tremaining: 127ms\n",
      "156:\tlearn: 14.7492523\ttotal: 453ms\tremaining: 124ms\n",
      "157:\tlearn: 14.7384336\ttotal: 456ms\tremaining: 121ms\n",
      "158:\tlearn: 14.6936037\ttotal: 459ms\tremaining: 118ms\n",
      "159:\tlearn: 14.6634541\ttotal: 461ms\tremaining: 115ms\n",
      "160:\tlearn: 14.6356393\ttotal: 464ms\tremaining: 112ms\n",
      "161:\tlearn: 14.5985402\ttotal: 467ms\tremaining: 110ms\n",
      "162:\tlearn: 14.5649164\ttotal: 470ms\tremaining: 107ms\n",
      "163:\tlearn: 14.5324710\ttotal: 472ms\tremaining: 104ms\n",
      "164:\tlearn: 14.4759153\ttotal: 475ms\tremaining: 101ms\n",
      "165:\tlearn: 14.4274492\ttotal: 478ms\tremaining: 97.9ms\n",
      "166:\tlearn: 14.4029725\ttotal: 481ms\tremaining: 95ms\n",
      "167:\tlearn: 14.3560636\ttotal: 484ms\tremaining: 92.2ms\n",
      "168:\tlearn: 14.3213834\ttotal: 487ms\tremaining: 89.3ms\n",
      "169:\tlearn: 14.2726149\ttotal: 490ms\tremaining: 86.4ms\n",
      "170:\tlearn: 14.2243971\ttotal: 493ms\tremaining: 83.5ms\n",
      "171:\tlearn: 14.1943488\ttotal: 497ms\tremaining: 81ms\n",
      "172:\tlearn: 14.1479937\ttotal: 502ms\tremaining: 78.3ms\n",
      "173:\tlearn: 14.1120259\ttotal: 505ms\tremaining: 75.4ms\n",
      "174:\tlearn: 14.1037322\ttotal: 507ms\tremaining: 72.5ms\n",
      "175:\tlearn: 14.0665340\ttotal: 510ms\tremaining: 69.6ms\n",
      "176:\tlearn: 14.0250972\ttotal: 515ms\tremaining: 66.9ms\n",
      "177:\tlearn: 13.9980706\ttotal: 519ms\tremaining: 64.1ms\n",
      "178:\tlearn: 13.9615738\ttotal: 522ms\tremaining: 61.2ms\n",
      "179:\tlearn: 13.9358830\ttotal: 525ms\tremaining: 58.3ms\n",
      "180:\tlearn: 13.9314542\ttotal: 528ms\tremaining: 55.4ms\n",
      "181:\tlearn: 13.9034358\ttotal: 530ms\tremaining: 52.5ms\n",
      "182:\tlearn: 13.8628520\ttotal: 533ms\tremaining: 49.5ms\n",
      "183:\tlearn: 13.8216984\ttotal: 536ms\tremaining: 46.6ms\n",
      "184:\tlearn: 13.7876057\ttotal: 540ms\tremaining: 43.8ms\n",
      "185:\tlearn: 13.7684883\ttotal: 544ms\tremaining: 41ms\n",
      "186:\tlearn: 13.7330575\ttotal: 549ms\tremaining: 38.2ms\n",
      "187:\tlearn: 13.7042092\ttotal: 552ms\tremaining: 35.3ms\n",
      "188:\tlearn: 13.6583452\ttotal: 556ms\tremaining: 32.4ms\n",
      "189:\tlearn: 13.6433777\ttotal: 560ms\tremaining: 29.4ms\n",
      "190:\tlearn: 13.6159873\ttotal: 563ms\tremaining: 26.5ms\n",
      "191:\tlearn: 13.5673041\ttotal: 567ms\tremaining: 23.6ms\n",
      "192:\tlearn: 13.5293312\ttotal: 570ms\tremaining: 20.7ms\n",
      "193:\tlearn: 13.4945092\ttotal: 573ms\tremaining: 17.7ms\n",
      "194:\tlearn: 13.4486233\ttotal: 577ms\tremaining: 14.8ms\n",
      "195:\tlearn: 13.4340952\ttotal: 581ms\tremaining: 11.8ms\n",
      "196:\tlearn: 13.4153520\ttotal: 584ms\tremaining: 8.89ms\n",
      "197:\tlearn: 13.3871610\ttotal: 587ms\tremaining: 5.92ms\n",
      "198:\tlearn: 13.3428909\ttotal: 590ms\tremaining: 2.96ms\n",
      "199:\tlearn: 13.3060990\ttotal: 593ms\tremaining: 0us\n",
      "Learning rate set to 0.185121\n",
      "0:\tlearn: 32.6170785\ttotal: 3.82ms\tremaining: 760ms\n",
      "1:\tlearn: 31.1465446\ttotal: 7.18ms\tremaining: 711ms\n",
      "2:\tlearn: 30.0208140\ttotal: 10.3ms\tremaining: 676ms\n",
      "3:\tlearn: 29.1171240\ttotal: 13.5ms\tremaining: 662ms\n",
      "4:\tlearn: 28.3409850\ttotal: 16.7ms\tremaining: 652ms\n",
      "5:\tlearn: 27.7220187\ttotal: 19.7ms\tremaining: 639ms\n",
      "6:\tlearn: 27.1732230\ttotal: 22.8ms\tremaining: 628ms\n",
      "7:\tlearn: 26.7977282\ttotal: 25.8ms\tremaining: 618ms\n",
      "8:\tlearn: 26.4682643\ttotal: 28.8ms\tremaining: 610ms\n",
      "9:\tlearn: 26.0916462\ttotal: 31.8ms\tremaining: 605ms\n",
      "10:\tlearn: 25.7678145\ttotal: 35ms\tremaining: 601ms\n",
      "11:\tlearn: 25.4599196\ttotal: 37.9ms\tremaining: 595ms\n",
      "12:\tlearn: 25.2417036\ttotal: 41.2ms\tremaining: 593ms\n",
      "13:\tlearn: 25.0559349\ttotal: 44.2ms\tremaining: 588ms\n",
      "14:\tlearn: 24.8845180\ttotal: 47.5ms\tremaining: 586ms\n",
      "15:\tlearn: 24.7192154\ttotal: 50.8ms\tremaining: 584ms\n",
      "16:\tlearn: 24.4501337\ttotal: 54.2ms\tremaining: 583ms\n",
      "17:\tlearn: 24.3457266\ttotal: 57.3ms\tremaining: 580ms\n",
      "18:\tlearn: 24.2181100\ttotal: 60.5ms\tremaining: 576ms\n",
      "19:\tlearn: 24.1181057\ttotal: 63.5ms\tremaining: 571ms\n",
      "20:\tlearn: 24.0423194\ttotal: 66.3ms\tremaining: 566ms\n",
      "21:\tlearn: 23.8960064\ttotal: 69.5ms\tremaining: 562ms\n",
      "22:\tlearn: 23.7670539\ttotal: 72.5ms\tremaining: 558ms\n",
      "23:\tlearn: 23.6812679\ttotal: 75.6ms\tremaining: 555ms\n",
      "24:\tlearn: 23.5440099\ttotal: 78.8ms\tremaining: 551ms\n",
      "25:\tlearn: 23.4114708\ttotal: 82.1ms\tremaining: 549ms\n",
      "26:\tlearn: 23.2797497\ttotal: 85.4ms\tremaining: 547ms\n",
      "27:\tlearn: 23.1670170\ttotal: 88.7ms\tremaining: 545ms\n",
      "28:\tlearn: 23.0848112\ttotal: 91.9ms\tremaining: 542ms\n",
      "29:\tlearn: 23.0109500\ttotal: 95.2ms\tremaining: 539ms\n",
      "30:\tlearn: 22.9794786\ttotal: 98.4ms\tremaining: 536ms\n",
      "31:\tlearn: 22.8546308\ttotal: 102ms\tremaining: 533ms\n",
      "32:\tlearn: 22.7555844\ttotal: 105ms\tremaining: 530ms\n",
      "33:\tlearn: 22.6978386\ttotal: 108ms\tremaining: 527ms\n",
      "34:\tlearn: 22.5998484\ttotal: 111ms\tremaining: 524ms\n",
      "35:\tlearn: 22.5355307\ttotal: 114ms\tremaining: 521ms\n",
      "36:\tlearn: 22.4666858\ttotal: 117ms\tremaining: 517ms\n",
      "37:\tlearn: 22.3895155\ttotal: 120ms\tremaining: 513ms\n",
      "38:\tlearn: 22.3132719\ttotal: 123ms\tremaining: 510ms\n",
      "39:\tlearn: 22.2490875\ttotal: 127ms\tremaining: 506ms\n",
      "40:\tlearn: 22.1315971\ttotal: 130ms\tremaining: 503ms\n",
      "41:\tlearn: 22.0420112\ttotal: 133ms\tremaining: 499ms\n",
      "42:\tlearn: 21.9860855\ttotal: 136ms\tremaining: 496ms\n",
      "43:\tlearn: 21.9462041\ttotal: 139ms\tremaining: 492ms\n",
      "44:\tlearn: 21.8748002\ttotal: 142ms\tremaining: 488ms\n",
      "45:\tlearn: 21.8342950\ttotal: 145ms\tremaining: 485ms\n",
      "46:\tlearn: 21.8070802\ttotal: 148ms\tremaining: 481ms\n",
      "47:\tlearn: 21.7653772\ttotal: 151ms\tremaining: 478ms\n",
      "48:\tlearn: 21.6980252\ttotal: 154ms\tremaining: 474ms\n",
      "49:\tlearn: 21.6114703\ttotal: 157ms\tremaining: 471ms\n",
      "50:\tlearn: 21.5251149\ttotal: 160ms\tremaining: 468ms\n",
      "51:\tlearn: 21.4983478\ttotal: 163ms\tremaining: 464ms\n",
      "52:\tlearn: 21.3564127\ttotal: 166ms\tremaining: 461ms\n",
      "53:\tlearn: 21.2280574\ttotal: 169ms\tremaining: 458ms\n",
      "54:\tlearn: 21.1481056\ttotal: 172ms\tremaining: 454ms\n",
      "55:\tlearn: 21.0605597\ttotal: 176ms\tremaining: 452ms\n",
      "56:\tlearn: 20.9617380\ttotal: 179ms\tremaining: 449ms\n",
      "57:\tlearn: 20.8863889\ttotal: 182ms\tremaining: 445ms\n",
      "58:\tlearn: 20.8036312\ttotal: 185ms\tremaining: 442ms\n",
      "59:\tlearn: 20.7403852\ttotal: 188ms\tremaining: 438ms\n",
      "60:\tlearn: 20.6514352\ttotal: 191ms\tremaining: 435ms\n",
      "61:\tlearn: 20.5717476\ttotal: 194ms\tremaining: 432ms\n",
      "62:\tlearn: 20.5314206\ttotal: 197ms\tremaining: 428ms\n",
      "63:\tlearn: 20.4672630\ttotal: 200ms\tremaining: 425ms\n",
      "64:\tlearn: 20.3908062\ttotal: 203ms\tremaining: 422ms\n",
      "65:\tlearn: 20.3460573\ttotal: 206ms\tremaining: 419ms\n",
      "66:\tlearn: 20.3141831\ttotal: 209ms\tremaining: 416ms\n",
      "67:\tlearn: 20.2628104\ttotal: 213ms\tremaining: 413ms\n",
      "68:\tlearn: 20.1807186\ttotal: 216ms\tremaining: 409ms\n",
      "69:\tlearn: 20.1098587\ttotal: 219ms\tremaining: 406ms\n",
      "70:\tlearn: 20.0355905\ttotal: 222ms\tremaining: 403ms\n",
      "71:\tlearn: 19.9855610\ttotal: 225ms\tremaining: 400ms\n",
      "72:\tlearn: 19.9254515\ttotal: 228ms\tremaining: 397ms\n",
      "73:\tlearn: 19.8738360\ttotal: 231ms\tremaining: 394ms\n",
      "74:\tlearn: 19.8371298\ttotal: 234ms\tremaining: 391ms\n",
      "75:\tlearn: 19.7631416\ttotal: 238ms\tremaining: 388ms\n",
      "76:\tlearn: 19.6859453\ttotal: 241ms\tremaining: 385ms\n",
      "77:\tlearn: 19.6199339\ttotal: 244ms\tremaining: 382ms\n",
      "78:\tlearn: 19.5752428\ttotal: 247ms\tremaining: 379ms\n",
      "79:\tlearn: 19.5526750\ttotal: 251ms\tremaining: 376ms\n",
      "80:\tlearn: 19.5186751\ttotal: 254ms\tremaining: 373ms\n",
      "81:\tlearn: 19.4407069\ttotal: 257ms\tremaining: 370ms\n",
      "82:\tlearn: 19.4031898\ttotal: 260ms\tremaining: 367ms\n",
      "83:\tlearn: 19.3197404\ttotal: 264ms\tremaining: 364ms\n",
      "84:\tlearn: 19.2510927\ttotal: 267ms\tremaining: 361ms\n",
      "85:\tlearn: 19.1775159\ttotal: 270ms\tremaining: 358ms\n",
      "86:\tlearn: 19.1224549\ttotal: 273ms\tremaining: 355ms\n",
      "87:\tlearn: 19.0761633\ttotal: 276ms\tremaining: 352ms\n",
      "88:\tlearn: 19.0145297\ttotal: 280ms\tremaining: 349ms\n",
      "89:\tlearn: 18.9503122\ttotal: 283ms\tremaining: 346ms\n",
      "90:\tlearn: 18.9111532\ttotal: 286ms\tremaining: 343ms\n",
      "91:\tlearn: 18.8647613\ttotal: 289ms\tremaining: 340ms\n",
      "92:\tlearn: 18.8009657\ttotal: 292ms\tremaining: 336ms\n",
      "93:\tlearn: 18.7332578\ttotal: 296ms\tremaining: 333ms\n",
      "94:\tlearn: 18.6854033\ttotal: 299ms\tremaining: 330ms\n",
      "95:\tlearn: 18.6744354\ttotal: 302ms\tremaining: 327ms\n",
      "96:\tlearn: 18.6171878\ttotal: 305ms\tremaining: 324ms\n",
      "97:\tlearn: 18.5673219\ttotal: 308ms\tremaining: 321ms\n",
      "98:\tlearn: 18.5120643\ttotal: 312ms\tremaining: 318ms\n",
      "99:\tlearn: 18.4595878\ttotal: 315ms\tremaining: 315ms\n",
      "100:\tlearn: 18.4062737\ttotal: 318ms\tremaining: 312ms\n",
      "101:\tlearn: 18.3253088\ttotal: 321ms\tremaining: 309ms\n",
      "102:\tlearn: 18.2735817\ttotal: 324ms\tremaining: 305ms\n",
      "103:\tlearn: 18.2056605\ttotal: 328ms\tremaining: 302ms\n",
      "104:\tlearn: 18.1329699\ttotal: 331ms\tremaining: 299ms\n",
      "105:\tlearn: 18.0908987\ttotal: 334ms\tremaining: 296ms\n",
      "106:\tlearn: 18.0371621\ttotal: 337ms\tremaining: 293ms\n",
      "107:\tlearn: 17.9420024\ttotal: 340ms\tremaining: 290ms\n",
      "108:\tlearn: 17.8760142\ttotal: 343ms\tremaining: 287ms\n",
      "109:\tlearn: 17.8284036\ttotal: 347ms\tremaining: 284ms\n",
      "110:\tlearn: 17.7671498\ttotal: 350ms\tremaining: 280ms\n",
      "111:\tlearn: 17.7301599\ttotal: 353ms\tremaining: 277ms\n",
      "112:\tlearn: 17.6952059\ttotal: 356ms\tremaining: 274ms\n",
      "113:\tlearn: 17.6698094\ttotal: 360ms\tremaining: 271ms\n",
      "114:\tlearn: 17.5973385\ttotal: 363ms\tremaining: 268ms\n",
      "115:\tlearn: 17.5836254\ttotal: 366ms\tremaining: 265ms\n",
      "116:\tlearn: 17.5316948\ttotal: 369ms\tremaining: 262ms\n",
      "117:\tlearn: 17.4825663\ttotal: 372ms\tremaining: 259ms\n",
      "118:\tlearn: 17.4253674\ttotal: 375ms\tremaining: 256ms\n",
      "119:\tlearn: 17.3724511\ttotal: 378ms\tremaining: 252ms\n",
      "120:\tlearn: 17.3358440\ttotal: 381ms\tremaining: 249ms\n",
      "121:\tlearn: 17.2906215\ttotal: 385ms\tremaining: 246ms\n",
      "122:\tlearn: 17.2531580\ttotal: 387ms\tremaining: 243ms\n",
      "123:\tlearn: 17.2045750\ttotal: 391ms\tremaining: 239ms\n",
      "124:\tlearn: 17.1490449\ttotal: 394ms\tremaining: 236ms\n",
      "125:\tlearn: 17.1426762\ttotal: 397ms\tremaining: 233ms\n",
      "126:\tlearn: 17.1037397\ttotal: 400ms\tremaining: 230ms\n",
      "127:\tlearn: 17.0496623\ttotal: 403ms\tremaining: 227ms\n",
      "128:\tlearn: 16.9948752\ttotal: 406ms\tremaining: 223ms\n",
      "129:\tlearn: 16.9804514\ttotal: 409ms\tremaining: 220ms\n",
      "130:\tlearn: 16.9336977\ttotal: 412ms\tremaining: 217ms\n",
      "131:\tlearn: 16.8868078\ttotal: 415ms\tremaining: 214ms\n",
      "132:\tlearn: 16.8271176\ttotal: 418ms\tremaining: 211ms\n",
      "133:\tlearn: 16.7854807\ttotal: 421ms\tremaining: 208ms\n",
      "134:\tlearn: 16.7715692\ttotal: 424ms\tremaining: 204ms\n",
      "135:\tlearn: 16.7192040\ttotal: 428ms\tremaining: 201ms\n",
      "136:\tlearn: 16.6755061\ttotal: 431ms\tremaining: 198ms\n",
      "137:\tlearn: 16.6632825\ttotal: 434ms\tremaining: 195ms\n",
      "138:\tlearn: 16.6593494\ttotal: 437ms\tremaining: 192ms\n",
      "139:\tlearn: 16.6280107\ttotal: 440ms\tremaining: 188ms\n",
      "140:\tlearn: 16.5932910\ttotal: 443ms\tremaining: 185ms\n",
      "141:\tlearn: 16.5526054\ttotal: 446ms\tremaining: 182ms\n",
      "142:\tlearn: 16.5215690\ttotal: 449ms\tremaining: 179ms\n",
      "143:\tlearn: 16.5075055\ttotal: 452ms\tremaining: 176ms\n",
      "144:\tlearn: 16.4656385\ttotal: 455ms\tremaining: 173ms\n",
      "145:\tlearn: 16.4254254\ttotal: 458ms\tremaining: 169ms\n",
      "146:\tlearn: 16.4178517\ttotal: 462ms\tremaining: 167ms\n",
      "147:\tlearn: 16.3758429\ttotal: 465ms\tremaining: 163ms\n",
      "148:\tlearn: 16.3263269\ttotal: 468ms\tremaining: 160ms\n",
      "149:\tlearn: 16.2574839\ttotal: 471ms\tremaining: 157ms\n",
      "150:\tlearn: 16.2153471\ttotal: 475ms\tremaining: 154ms\n",
      "151:\tlearn: 16.1798228\ttotal: 478ms\tremaining: 151ms\n",
      "152:\tlearn: 16.1713619\ttotal: 481ms\tremaining: 148ms\n",
      "153:\tlearn: 16.1681934\ttotal: 484ms\tremaining: 144ms\n",
      "154:\tlearn: 16.1514391\ttotal: 487ms\tremaining: 141ms\n",
      "155:\tlearn: 16.1242804\ttotal: 490ms\tremaining: 138ms\n",
      "156:\tlearn: 16.1030876\ttotal: 493ms\tremaining: 135ms\n",
      "157:\tlearn: 16.0952356\ttotal: 495ms\tremaining: 132ms\n",
      "158:\tlearn: 16.0370902\ttotal: 498ms\tremaining: 129ms\n",
      "159:\tlearn: 16.0003090\ttotal: 501ms\tremaining: 125ms\n",
      "160:\tlearn: 15.9457237\ttotal: 505ms\tremaining: 122ms\n",
      "161:\tlearn: 15.9012812\ttotal: 508ms\tremaining: 119ms\n",
      "162:\tlearn: 15.8660460\ttotal: 511ms\tremaining: 116ms\n",
      "163:\tlearn: 15.8175073\ttotal: 514ms\tremaining: 113ms\n",
      "164:\tlearn: 15.7646545\ttotal: 517ms\tremaining: 110ms\n",
      "165:\tlearn: 15.7323127\ttotal: 520ms\tremaining: 106ms\n",
      "166:\tlearn: 15.7025732\ttotal: 523ms\tremaining: 103ms\n",
      "167:\tlearn: 15.6718760\ttotal: 526ms\tremaining: 100ms\n",
      "168:\tlearn: 15.6361882\ttotal: 529ms\tremaining: 97.1ms\n",
      "169:\tlearn: 15.5724572\ttotal: 532ms\tremaining: 94ms\n",
      "170:\tlearn: 15.5271451\ttotal: 536ms\tremaining: 90.8ms\n",
      "171:\tlearn: 15.4899019\ttotal: 539ms\tremaining: 87.7ms\n",
      "172:\tlearn: 15.4365454\ttotal: 542ms\tremaining: 84.6ms\n",
      "173:\tlearn: 15.4255990\ttotal: 545ms\tremaining: 81.4ms\n",
      "174:\tlearn: 15.4010970\ttotal: 548ms\tremaining: 78.3ms\n",
      "175:\tlearn: 15.3961234\ttotal: 551ms\tremaining: 75.2ms\n",
      "176:\tlearn: 15.3397847\ttotal: 554ms\tremaining: 72ms\n",
      "177:\tlearn: 15.3371398\ttotal: 557ms\tremaining: 68.9ms\n",
      "178:\tlearn: 15.2957243\ttotal: 560ms\tremaining: 65.7ms\n",
      "179:\tlearn: 15.2937650\ttotal: 563ms\tremaining: 62.6ms\n",
      "180:\tlearn: 15.2542669\ttotal: 566ms\tremaining: 59.5ms\n",
      "181:\tlearn: 15.2232522\ttotal: 570ms\tremaining: 56.3ms\n",
      "182:\tlearn: 15.1844987\ttotal: 573ms\tremaining: 53.2ms\n",
      "183:\tlearn: 15.1802041\ttotal: 576ms\tremaining: 50ms\n",
      "184:\tlearn: 15.1316535\ttotal: 579ms\tremaining: 46.9ms\n",
      "185:\tlearn: 15.1142508\ttotal: 582ms\tremaining: 43.8ms\n",
      "186:\tlearn: 15.0795031\ttotal: 585ms\tremaining: 40.7ms\n",
      "187:\tlearn: 15.0764462\ttotal: 588ms\tremaining: 37.5ms\n",
      "188:\tlearn: 15.0400227\ttotal: 591ms\tremaining: 34.4ms\n",
      "189:\tlearn: 14.9922662\ttotal: 594ms\tremaining: 31.3ms\n",
      "190:\tlearn: 14.9696413\ttotal: 597ms\tremaining: 28.1ms\n",
      "191:\tlearn: 14.9387835\ttotal: 600ms\tremaining: 25ms\n",
      "192:\tlearn: 14.9024877\ttotal: 604ms\tremaining: 21.9ms\n",
      "193:\tlearn: 14.8568825\ttotal: 607ms\tremaining: 18.8ms\n",
      "194:\tlearn: 14.8257938\ttotal: 610ms\tremaining: 15.6ms\n",
      "195:\tlearn: 14.7890238\ttotal: 613ms\tremaining: 12.5ms\n",
      "196:\tlearn: 14.7594425\ttotal: 616ms\tremaining: 9.38ms\n",
      "197:\tlearn: 14.7052928\ttotal: 620ms\tremaining: 6.26ms\n",
      "198:\tlearn: 14.6873105\ttotal: 623ms\tremaining: 3.13ms\n",
      "199:\tlearn: 14.6687223\ttotal: 626ms\tremaining: 0us\n",
      "RMSE CatBoostRegressor на валидационной выборке: 32.95291146251947\n",
      "CPU times: user 7.68 s, sys: 461 ms, total: 8.15 s\n",
      "Wall time: 17.8 s\n"
     ]
    }
   ],
   "source": [
    "%%time\n",
    "\n",
    "model_cat = CatBoostRegressor(random_state=42)\n",
    "params = {'iterations': [150,200],\n",
    "          'depth': [3,5],\n",
    "          'loss_function': ['RMSE']}\n",
    "\n",
    "grid_cat = GridSearchCV(model_cat, params, cv=tscv)\n",
    "grid_cat.fit(features_train, target_train) \n",
    "predictions_valid = grid_cat.predict(features_valid)\n",
    "RMSE_grid_cat = mean_squared_error(target_valid, predictions_valid)**0.5 \n",
    "print(\"RMSE CatBoostRegressor на валидационной выборке:\", RMSE_grid_cat)"
   ]
  },
  {
   "cell_type": "code",
   "execution_count": 33,
   "metadata": {
    "scrolled": true
   },
   "outputs": [
    {
     "data": {
      "text/plain": [
       "{'depth': 5, 'iterations': 200, 'loss_function': 'RMSE'}"
      ]
     },
     "execution_count": 33,
     "metadata": {},
     "output_type": "execute_result"
    }
   ],
   "source": [
    "grid_cat.best_params_"
   ]
  },
  {
   "cell_type": "code",
   "execution_count": 34,
   "metadata": {},
   "outputs": [
    {
     "name": "stdout",
     "output_type": "stream",
     "text": [
      "RMSE LGBMRegressor на валидационной выборке: 33.91135340357489\n",
      "CPU times: user 939 ms, sys: 0 ns, total: 939 ms\n",
      "Wall time: 889 ms\n"
     ]
    }
   ],
   "source": [
    "%%time\n",
    "model_lgbmr = LGBMRegressor(random_state=42)\n",
    "model_lgbmr.fit(features_train, target_train)\n",
    "predict_lgbmr = model_lgbmr.predict(features_valid)\n",
    "rmse_lgbmr = mean_squared_error(target_valid, predict_lgbmr)**0.5\n",
    "print('RMSE LGBMRegressor на валидационной выборке:', rmse_lgbmr)"
   ]
  },
  {
   "cell_type": "code",
   "execution_count": 35,
   "metadata": {},
   "outputs": [
    {
     "name": "stdout",
     "output_type": "stream",
     "text": [
      "Таблица 1 \"RMSE моделей на валидационной выборке\"\n"
     ]
    },
    {
     "data": {
      "text/html": [
       "<div>\n",
       "<style scoped>\n",
       "    .dataframe tbody tr th:only-of-type {\n",
       "        vertical-align: middle;\n",
       "    }\n",
       "\n",
       "    .dataframe tbody tr th {\n",
       "        vertical-align: top;\n",
       "    }\n",
       "\n",
       "    .dataframe thead th {\n",
       "        text-align: right;\n",
       "    }\n",
       "</style>\n",
       "<table border=\"1\" class=\"dataframe\">\n",
       "  <thead>\n",
       "    <tr style=\"text-align: right;\">\n",
       "      <th></th>\n",
       "      <th>Название модели</th>\n",
       "      <th>RMSE valid</th>\n",
       "    </tr>\n",
       "  </thead>\n",
       "  <tbody>\n",
       "    <tr>\n",
       "      <th>0</th>\n",
       "      <td>DummyRegressor</td>\n",
       "      <td>47.249483</td>\n",
       "    </tr>\n",
       "    <tr>\n",
       "      <th>1</th>\n",
       "      <td>DecisionTreeRegressor</td>\n",
       "      <td>35.903681</td>\n",
       "    </tr>\n",
       "    <tr>\n",
       "      <th>2</th>\n",
       "      <td>LinearRegression</td>\n",
       "      <td>26.021724</td>\n",
       "    </tr>\n",
       "    <tr>\n",
       "      <th>3</th>\n",
       "      <td>RandomForestRegressor</td>\n",
       "      <td>38.148099</td>\n",
       "    </tr>\n",
       "    <tr>\n",
       "      <th>4</th>\n",
       "      <td>CatBoostRegressor</td>\n",
       "      <td>32.952911</td>\n",
       "    </tr>\n",
       "    <tr>\n",
       "      <th>5</th>\n",
       "      <td>LGBMRegressor</td>\n",
       "      <td>33.911353</td>\n",
       "    </tr>\n",
       "  </tbody>\n",
       "</table>\n",
       "</div>"
      ],
      "text/plain": [
       "         Название модели  RMSE valid\n",
       "0         DummyRegressor   47.249483\n",
       "1  DecisionTreeRegressor   35.903681\n",
       "2       LinearRegression   26.021724\n",
       "3  RandomForestRegressor   38.148099\n",
       "4      CatBoostRegressor   32.952911\n",
       "5          LGBMRegressor   33.911353"
      ]
     },
     "metadata": {},
     "output_type": "display_data"
    }
   ],
   "source": [
    "columns = ['Название модели', 'RMSE valid']\n",
    "const_model = ['DummyRegressor', RMSE_const_model]\n",
    "model_dtr = ['DecisionTreeRegressor', RMSE_dtr]\n",
    "model_lr = ['LinearRegression', RMSE_lr]\n",
    "model_rfr = ['RandomForestRegressor', RMSE_rfr]\n",
    "grid_cat = ['CatBoostRegressor', RMSE_grid_cat]\n",
    "model_lgbm = ['LGBMRegressor', rmse_lgbmr]\n",
    "\n",
    "table = pd.DataFrame([const_model, model_dtr, model_lr, model_rfr, grid_cat, model_lgbm], columns = columns)\n",
    "print('Таблица 1 \"RMSE моделей на валидационной выборке\"')\n",
    "display(table)"
   ]
  },
  {
   "cell_type": "markdown",
   "metadata": {},
   "source": [
    "**Вывод по 3 шагу**\n",
    "\n",
    "Проведено обучение моделей, в таблице 1 представлены результаты RMSE на валидационной выборке.\n",
    "Наилучшие результаты на этом шаге показывают LinearRegression и CatBoostRegressor."
   ]
  },
  {
   "cell_type": "markdown",
   "metadata": {},
   "source": [
    "## Тестирование"
   ]
  },
  {
   "cell_type": "markdown",
   "metadata": {},
   "source": [
    "Проведем тестирование моделей и определим RMSE на тестовой выборке."
   ]
  },
  {
   "cell_type": "code",
   "execution_count": 36,
   "metadata": {},
   "outputs": [
    {
     "name": "stdout",
     "output_type": "stream",
     "text": [
      "RMSE DummyRegressor: 58.85646242407813\n",
      "CPU times: user 1.39 ms, sys: 80 µs, total: 1.47 ms\n",
      "Wall time: 1.19 ms\n"
     ]
    }
   ],
   "source": [
    "%%time\n",
    "const_model = DummyRegressor(strategy='mean')\n",
    "\n",
    "const_model.fit(features_train_valid, target_train_valid)\n",
    "predicted_const_model = const_model.predict(features_test)\n",
    "RMSE_const_model_test = mean_squared_error(target_test, predicted_const_model)**0.5 \n",
    "print('RMSE DummyRegressor:', RMSE_const_model_test)"
   ]
  },
  {
   "cell_type": "code",
   "execution_count": 37,
   "metadata": {},
   "outputs": [
    {
     "name": "stdout",
     "output_type": "stream",
     "text": [
      "RMSE DecisionTreeRegressor на валидационной выборке: 67.82825827177322\n",
      "CPU times: user 37.5 ms, sys: 88 µs, total: 37.6 ms\n",
      "Wall time: 36.8 ms\n"
     ]
    }
   ],
   "source": [
    "%%time\n",
    "model_dtr_test = DecisionTreeRegressor(random_state=42)\n",
    "\n",
    "RMSE_dtr_test = cross_val_score(model_dtr_test, features_test, target_test, scoring=score, cv=tscv)\n",
    "RMSE_dtr_test = pd.Series(RMSE_dtr_test).mean()*(-1)\n",
    "print('RMSE DecisionTreeRegressor на валидационной выборке:', RMSE_dtr_test)"
   ]
  },
  {
   "cell_type": "code",
   "execution_count": 38,
   "metadata": {},
   "outputs": [
    {
     "name": "stdout",
     "output_type": "stream",
     "text": [
      "RMSE LinearRegression на тестовой выборке: 45.07016268605487\n",
      "CPU times: user 8.27 ms, sys: 82.4 ms, total: 90.7 ms\n",
      "Wall time: 52.5 ms\n"
     ]
    }
   ],
   "source": [
    "%%time\n",
    "\n",
    "model_lr_test = LinearRegression()\n",
    "\n",
    "model_lr_test.fit(features_train_valid, target_train_valid)\n",
    "pred = model_lr_test.predict(features_test)\n",
    "rmse_lr_test = mean_squared_error(target_test, pred)**0.5\n",
    "print('RMSE LinearRegression на тестовой выборке:', rmse_lr_test)"
   ]
  },
  {
   "cell_type": "code",
   "execution_count": 39,
   "metadata": {},
   "outputs": [
    {
     "name": "stdout",
     "output_type": "stream",
     "text": [
      "RMSE RandomForestRegressor на тестовой выборке: 49.80636598149516\n",
      "CPU times: user 145 ms, sys: 32.3 ms, total: 178 ms\n",
      "Wall time: 217 ms\n"
     ]
    }
   ],
   "source": [
    "%%time\n",
    "forest_model = RandomForestRegressor(max_depth=4, n_estimators=10, random_state=42)\n",
    "\n",
    "forest_model.fit(features_train_valid, target_train_valid)\n",
    "predicted_forest_model = forest_model.predict(features_test)\n",
    "RMSE_rfr_test = mean_squared_error(target_test, predicted_forest_model)**0.5 \n",
    "print('RMSE RandomForestRegressor на тестовой выборке:', RMSE_rfr_test)"
   ]
  },
  {
   "cell_type": "code",
   "execution_count": 40,
   "metadata": {},
   "outputs": [
    {
     "name": "stdout",
     "output_type": "stream",
     "text": [
      "RMSE CatBoostRegressor на тестовой выборке: 41.182384204026384\n",
      "CPU times: user 674 ms, sys: 15.4 ms, total: 690 ms\n",
      "Wall time: 1.16 s\n"
     ]
    }
   ],
   "source": [
    "%%time\n",
    "cat_model = CatBoostRegressor(depth=5, iterations=200, loss_function='RMSE')\n",
    "\n",
    "cat_model.fit(features_train_valid, target_train_valid, verbose=False)\n",
    "predict_cat = cat_model.predict(features_test)\n",
    "RMSE_cat_test = mean_squared_error(target_test, predict_cat)**0.5\n",
    "print('RMSE CatBoostRegressor на тестовой выборке:', RMSE_cat_test)"
   ]
  },
  {
   "cell_type": "code",
   "execution_count": 41,
   "metadata": {},
   "outputs": [
    {
     "name": "stdout",
     "output_type": "stream",
     "text": [
      "RMSE LGBMRegressor на тестовой выборке: 43.16173274736268\n",
      "CPU times: user 993 ms, sys: 6.41 ms, total: 999 ms\n",
      "Wall time: 1.01 s\n"
     ]
    }
   ],
   "source": [
    "%%time\n",
    "model = LGBMRegressor(random_state=42)\n",
    "\n",
    "model.fit(features_train_valid, target_train_valid)\n",
    "predict_lgb = model.predict(features_test)\n",
    "rmse_lgb_test = mean_squared_error(target_test, predict_lgb)**0.5\n",
    "print('RMSE LGBMRegressor на тестовой выборке:', rmse_lgb_test)"
   ]
  },
  {
   "cell_type": "code",
   "execution_count": 42,
   "metadata": {},
   "outputs": [
    {
     "name": "stdout",
     "output_type": "stream",
     "text": [
      "Таблица 2 \"Сравнение RMSE моделей на валидационной и тестовой выборке\"\n"
     ]
    },
    {
     "data": {
      "text/html": [
       "<div>\n",
       "<style scoped>\n",
       "    .dataframe tbody tr th:only-of-type {\n",
       "        vertical-align: middle;\n",
       "    }\n",
       "\n",
       "    .dataframe tbody tr th {\n",
       "        vertical-align: top;\n",
       "    }\n",
       "\n",
       "    .dataframe thead th {\n",
       "        text-align: right;\n",
       "    }\n",
       "</style>\n",
       "<table border=\"1\" class=\"dataframe\">\n",
       "  <thead>\n",
       "    <tr style=\"text-align: right;\">\n",
       "      <th></th>\n",
       "      <th>Название модели</th>\n",
       "      <th>RMSE valid</th>\n",
       "      <th>RMSE test</th>\n",
       "    </tr>\n",
       "  </thead>\n",
       "  <tbody>\n",
       "    <tr>\n",
       "      <th>0</th>\n",
       "      <td>DummyRegressor</td>\n",
       "      <td>47.249483</td>\n",
       "      <td>58.856462</td>\n",
       "    </tr>\n",
       "    <tr>\n",
       "      <th>1</th>\n",
       "      <td>DecisionTreeRegressor</td>\n",
       "      <td>35.903681</td>\n",
       "      <td>67.828258</td>\n",
       "    </tr>\n",
       "    <tr>\n",
       "      <th>2</th>\n",
       "      <td>LinearRegression</td>\n",
       "      <td>26.021724</td>\n",
       "      <td>45.070163</td>\n",
       "    </tr>\n",
       "    <tr>\n",
       "      <th>3</th>\n",
       "      <td>RandomForestRegressor</td>\n",
       "      <td>38.148099</td>\n",
       "      <td>49.806366</td>\n",
       "    </tr>\n",
       "    <tr>\n",
       "      <th>4</th>\n",
       "      <td>CatBoostRegressor</td>\n",
       "      <td>32.952911</td>\n",
       "      <td>41.182384</td>\n",
       "    </tr>\n",
       "    <tr>\n",
       "      <th>5</th>\n",
       "      <td>LGBMRegressor</td>\n",
       "      <td>33.911353</td>\n",
       "      <td>43.161733</td>\n",
       "    </tr>\n",
       "  </tbody>\n",
       "</table>\n",
       "</div>"
      ],
      "text/plain": [
       "         Название модели  RMSE valid  RMSE test\n",
       "0         DummyRegressor   47.249483  58.856462\n",
       "1  DecisionTreeRegressor   35.903681  67.828258\n",
       "2       LinearRegression   26.021724  45.070163\n",
       "3  RandomForestRegressor   38.148099  49.806366\n",
       "4      CatBoostRegressor   32.952911  41.182384\n",
       "5          LGBMRegressor   33.911353  43.161733"
      ]
     },
     "metadata": {},
     "output_type": "display_data"
    }
   ],
   "source": [
    "columns = ['Название модели', 'RMSE valid', 'RMSE test']\n",
    "const_model = ['DummyRegressor', RMSE_const_model, RMSE_const_model_test]\n",
    "model_dtr = ['DecisionTreeRegressor', RMSE_dtr, RMSE_dtr_test]\n",
    "model_lr = ['LinearRegression', RMSE_lr, rmse_lr_test]\n",
    "model_rfr = ['RandomForestRegressor', RMSE_rfr, RMSE_rfr_test]\n",
    "model_cat = ['CatBoostRegressor', RMSE_grid_cat, RMSE_cat_test]\n",
    "model_lgbm = ['LGBMRegressor', rmse_lgbmr, rmse_lgb_test]\n",
    "\n",
    "table = pd.DataFrame([const_model, model_dtr, model_lr, model_rfr, model_cat, model_lgbm], columns = columns)\n",
    "print('Таблица 2 \"Сравнение RMSE моделей на валидационной и тестовой выборке\"')\n",
    "display(table)"
   ]
  },
  {
   "cell_type": "markdown",
   "metadata": {},
   "source": [
    "**Вывод по 4 шагу**\n",
    "\n",
    "Проведено тестирование моделей на тестовой выборке, результаты RMSE представлены в таблице 2."
   ]
  },
  {
   "cell_type": "markdown",
   "metadata": {},
   "source": [
    "**Общий вывод**\n",
    "\n",
    "На первом шаге произведена загрузка и изучение данных.  \n",
    "На втором шаге проведена подготовка данных для дальнейшего обучения моделей. Проведено ресемплирование по одному часу, вычислена разность временного ряда, добавлены признаки для обучения моделей.\n",
    "На третьем шаге проведено обучение, подбораны гиперпараметры.   \n",
    "На четвертом шаге проведено проверка моделей на адекватность, оценка RMSE на тестовой выборке.   \n",
    "\n",
    "\n",
    "С учетом полученных результатов для построения модели прогнозирования количество заказов такси на следующий час, рекомендовано использовать CatBoostRegressor.  \n",
    "\n",
    "Значение метрики RMSE на тестовой выборке у CatBoostRegressor и LGBMRegressor не больше 48."
   ]
  }
 ],
 "metadata": {
  "ExecuteTimeLog": [
   {
    "duration": 400,
    "start_time": "2022-11-03T04:05:37.522Z"
   },
   {
    "duration": 139,
    "start_time": "2022-11-03T04:05:38.676Z"
   },
   {
    "duration": 50,
    "start_time": "2022-11-03T04:05:44.480Z"
   },
   {
    "duration": 49,
    "start_time": "2022-11-03T04:06:41.265Z"
   },
   {
    "duration": 575,
    "start_time": "2022-11-03T04:07:21.940Z"
   },
   {
    "duration": 11,
    "start_time": "2022-11-03T04:08:57.694Z"
   },
   {
    "duration": 213,
    "start_time": "2022-11-03T04:09:30.243Z"
   },
   {
    "duration": 415,
    "start_time": "2022-11-03T04:09:55.534Z"
   },
   {
    "duration": 92,
    "start_time": "2022-11-03T04:10:08.970Z"
   },
   {
    "duration": 152,
    "start_time": "2022-11-03T04:10:20.276Z"
   },
   {
    "duration": 3,
    "start_time": "2022-11-03T04:10:21.509Z"
   },
   {
    "duration": 12,
    "start_time": "2022-11-03T04:10:22.591Z"
   },
   {
    "duration": 11,
    "start_time": "2022-11-03T04:10:31.782Z"
   },
   {
    "duration": 11,
    "start_time": "2022-11-03T04:10:37.165Z"
   },
   {
    "duration": 23,
    "start_time": "2022-11-03T04:10:59.851Z"
   },
   {
    "duration": 181,
    "start_time": "2022-11-03T04:11:47.412Z"
   },
   {
    "duration": 216,
    "start_time": "2022-11-03T04:12:32.520Z"
   },
   {
    "duration": 2,
    "start_time": "2022-11-03T04:12:35.349Z"
   },
   {
    "duration": 21,
    "start_time": "2022-11-03T04:12:52.152Z"
   },
   {
    "duration": 17,
    "start_time": "2022-11-03T04:12:58.348Z"
   },
   {
    "duration": 359,
    "start_time": "2022-11-03T04:13:27.500Z"
   },
   {
    "duration": 6,
    "start_time": "2022-11-03T04:13:28.120Z"
   },
   {
    "duration": 18,
    "start_time": "2022-11-03T04:16:04.163Z"
   },
   {
    "duration": 20,
    "start_time": "2022-11-03T04:17:22.257Z"
   },
   {
    "duration": 8,
    "start_time": "2022-11-03T04:17:23.223Z"
   },
   {
    "duration": 14,
    "start_time": "2022-11-03T04:17:23.930Z"
   },
   {
    "duration": 10,
    "start_time": "2022-11-03T04:18:42.141Z"
   },
   {
    "duration": 187,
    "start_time": "2022-11-03T04:18:48.646Z"
   },
   {
    "duration": 19,
    "start_time": "2022-11-03T04:19:53.210Z"
   },
   {
    "duration": 22,
    "start_time": "2022-11-03T04:21:01.291Z"
   },
   {
    "duration": 22,
    "start_time": "2022-11-03T04:21:14.763Z"
   },
   {
    "duration": 256,
    "start_time": "2022-11-03T04:21:57.427Z"
   },
   {
    "duration": 331,
    "start_time": "2022-11-03T04:22:19.183Z"
   },
   {
    "duration": 46,
    "start_time": "2022-11-03T04:22:28.537Z"
   },
   {
    "duration": 10,
    "start_time": "2022-11-03T04:22:40.382Z"
   },
   {
    "duration": 12,
    "start_time": "2022-11-03T04:22:56.655Z"
   },
   {
    "duration": 2,
    "start_time": "2022-11-03T04:23:40.668Z"
   },
   {
    "duration": 9,
    "start_time": "2022-11-03T04:23:41.776Z"
   },
   {
    "duration": 414,
    "start_time": "2022-11-03T04:23:46.547Z"
   },
   {
    "duration": 158,
    "start_time": "2022-11-03T04:24:08.668Z"
   },
   {
    "duration": 64,
    "start_time": "2022-11-03T04:24:48.117Z"
   },
   {
    "duration": 459,
    "start_time": "2022-11-03T04:25:08.393Z"
   },
   {
    "duration": 219,
    "start_time": "2022-11-03T04:25:09.558Z"
   },
   {
    "duration": 36,
    "start_time": "2022-11-03T04:25:33.394Z"
   },
   {
    "duration": 3,
    "start_time": "2022-11-03T04:25:46.210Z"
   },
   {
    "duration": 222,
    "start_time": "2022-11-03T04:25:46.781Z"
   },
   {
    "duration": 150,
    "start_time": "2022-11-03T04:27:06.519Z"
   },
   {
    "duration": 278,
    "start_time": "2022-11-03T04:28:41.300Z"
   },
   {
    "duration": 303,
    "start_time": "2022-11-03T04:29:00.255Z"
   },
   {
    "duration": 1112,
    "start_time": "2022-11-03T04:29:07.203Z"
   },
   {
    "duration": 14,
    "start_time": "2022-11-03T04:29:19.094Z"
   },
   {
    "duration": 303,
    "start_time": "2022-11-03T04:29:24.507Z"
   },
   {
    "duration": 6,
    "start_time": "2022-11-03T04:29:25.121Z"
   },
   {
    "duration": 19,
    "start_time": "2022-11-03T04:29:27.333Z"
   },
   {
    "duration": 9,
    "start_time": "2022-11-03T04:29:28.289Z"
   },
   {
    "duration": 27,
    "start_time": "2022-11-03T04:29:30.660Z"
   },
   {
    "duration": 8,
    "start_time": "2022-11-03T04:30:23.898Z"
   },
   {
    "duration": 2,
    "start_time": "2022-11-03T04:30:24.644Z"
   },
   {
    "duration": 8,
    "start_time": "2022-11-03T04:30:25.108Z"
   },
   {
    "duration": 94,
    "start_time": "2022-11-03T04:30:25.627Z"
   },
   {
    "duration": 2,
    "start_time": "2022-11-03T04:31:54.430Z"
   },
   {
    "duration": 48,
    "start_time": "2022-11-03T04:31:54.998Z"
   },
   {
    "duration": 7,
    "start_time": "2022-11-03T04:31:56.560Z"
   },
   {
    "duration": 3,
    "start_time": "2022-11-03T04:31:58.705Z"
   },
   {
    "duration": 11,
    "start_time": "2022-11-03T04:32:04.095Z"
   },
   {
    "duration": 24,
    "start_time": "2022-11-03T04:34:01.173Z"
   },
   {
    "duration": 66,
    "start_time": "2022-11-03T04:34:30.087Z"
   },
   {
    "duration": 10,
    "start_time": "2022-11-03T04:34:34.650Z"
   },
   {
    "duration": 6,
    "start_time": "2022-11-03T04:34:46.271Z"
   },
   {
    "duration": 6,
    "start_time": "2022-11-03T04:34:56.288Z"
   },
   {
    "duration": 8,
    "start_time": "2022-11-03T04:35:59.224Z"
   },
   {
    "duration": 197,
    "start_time": "2022-11-03T04:43:21.513Z"
   },
   {
    "duration": 359,
    "start_time": "2022-11-03T04:44:50.342Z"
   },
   {
    "duration": 46,
    "start_time": "2022-11-03T04:44:50.703Z"
   },
   {
    "duration": 10,
    "start_time": "2022-11-03T04:44:50.751Z"
   },
   {
    "duration": 2,
    "start_time": "2022-11-03T04:44:50.768Z"
   },
   {
    "duration": 10,
    "start_time": "2022-11-03T04:44:50.913Z"
   },
   {
    "duration": 13,
    "start_time": "2022-11-03T04:44:51.053Z"
   },
   {
    "duration": 5,
    "start_time": "2022-11-03T04:44:51.228Z"
   },
   {
    "duration": 6,
    "start_time": "2022-11-03T04:44:51.365Z"
   },
   {
    "duration": 9,
    "start_time": "2022-11-03T04:44:51.509Z"
   },
   {
    "duration": 417,
    "start_time": "2022-11-03T04:44:52.145Z"
   },
   {
    "duration": 184,
    "start_time": "2022-11-03T04:44:57.633Z"
   },
   {
    "duration": 175,
    "start_time": "2022-11-03T04:45:30.103Z"
   },
   {
    "duration": 168,
    "start_time": "2022-11-03T04:45:43.353Z"
   },
   {
    "duration": 427,
    "start_time": "2022-11-03T04:46:00.534Z"
   },
   {
    "duration": 236,
    "start_time": "2022-11-03T04:47:03.636Z"
   },
   {
    "duration": 8,
    "start_time": "2022-11-03T04:47:23.570Z"
   },
   {
    "duration": 284,
    "start_time": "2022-11-03T04:47:28.532Z"
   },
   {
    "duration": 594,
    "start_time": "2022-11-03T04:48:13.976Z"
   },
   {
    "duration": 10,
    "start_time": "2022-11-03T04:49:05.344Z"
   },
   {
    "duration": 400,
    "start_time": "2022-11-03T04:49:26.243Z"
   },
   {
    "duration": 214,
    "start_time": "2022-11-03T04:51:43.033Z"
   },
   {
    "duration": 394,
    "start_time": "2022-11-03T04:52:37.935Z"
   },
   {
    "duration": 15,
    "start_time": "2022-11-03T04:53:17.785Z"
   },
   {
    "duration": 241,
    "start_time": "2022-11-03T04:53:40.097Z"
   },
   {
    "duration": 10,
    "start_time": "2022-11-03T04:53:47.694Z"
   },
   {
    "duration": 9,
    "start_time": "2022-11-03T04:53:56.947Z"
   },
   {
    "duration": 93,
    "start_time": "2022-11-03T04:54:13.842Z"
   },
   {
    "duration": 4,
    "start_time": "2022-11-03T04:54:17.900Z"
   },
   {
    "duration": 3,
    "start_time": "2022-11-03T04:54:43.345Z"
   },
   {
    "duration": 10,
    "start_time": "2022-11-03T04:55:25.009Z"
   },
   {
    "duration": 6,
    "start_time": "2022-11-03T04:55:55.999Z"
   },
   {
    "duration": 17,
    "start_time": "2022-11-03T04:56:02.403Z"
   },
   {
    "duration": 14,
    "start_time": "2022-11-03T04:57:10.619Z"
   },
   {
    "duration": 20,
    "start_time": "2022-11-03T05:08:31.598Z"
   },
   {
    "duration": 13,
    "start_time": "2022-11-03T05:08:32.371Z"
   },
   {
    "duration": 3,
    "start_time": "2022-11-03T05:08:42.734Z"
   },
   {
    "duration": 117,
    "start_time": "2022-11-03T05:08:43.850Z"
   },
   {
    "duration": 104,
    "start_time": "2022-11-03T05:08:54.962Z"
   },
   {
    "duration": 9,
    "start_time": "2022-11-03T05:13:25.630Z"
   },
   {
    "duration": 10,
    "start_time": "2022-11-03T05:15:10.112Z"
   },
   {
    "duration": 9,
    "start_time": "2022-11-03T05:15:25.209Z"
   },
   {
    "duration": 243,
    "start_time": "2022-11-03T05:15:37.040Z"
   },
   {
    "duration": 68,
    "start_time": "2022-11-03T05:17:52.002Z"
   },
   {
    "duration": 9,
    "start_time": "2022-11-03T05:17:56.391Z"
   },
   {
    "duration": 4,
    "start_time": "2022-11-03T05:17:58.525Z"
   },
   {
    "duration": 8,
    "start_time": "2022-11-03T05:18:02.786Z"
   },
   {
    "duration": 9,
    "start_time": "2022-11-03T05:18:11.813Z"
   },
   {
    "duration": 8,
    "start_time": "2022-11-03T05:18:25.638Z"
   },
   {
    "duration": 4,
    "start_time": "2022-11-03T05:19:19.594Z"
   },
   {
    "duration": 221,
    "start_time": "2022-11-03T05:20:06.231Z"
   },
   {
    "duration": 218,
    "start_time": "2022-11-03T05:20:11.157Z"
   },
   {
    "duration": 102,
    "start_time": "2022-11-03T05:20:17.615Z"
   },
   {
    "duration": 440,
    "start_time": "2022-11-03T05:20:22.454Z"
   },
   {
    "duration": 216,
    "start_time": "2022-11-03T05:20:27.559Z"
   },
   {
    "duration": 236,
    "start_time": "2022-11-03T05:20:38.760Z"
   },
   {
    "duration": 256,
    "start_time": "2022-11-03T05:21:36.635Z"
   },
   {
    "duration": 88,
    "start_time": "2022-11-03T05:22:31.233Z"
   },
   {
    "duration": 81,
    "start_time": "2022-11-03T05:22:45.952Z"
   },
   {
    "duration": 73,
    "start_time": "2022-11-03T05:24:08.550Z"
   },
   {
    "duration": 223,
    "start_time": "2022-11-03T05:24:27.071Z"
   },
   {
    "duration": 56,
    "start_time": "2022-11-03T05:24:38.085Z"
   },
   {
    "duration": 76,
    "start_time": "2022-11-03T05:25:28.975Z"
   },
   {
    "duration": 53,
    "start_time": "2022-11-03T05:25:58.545Z"
   },
   {
    "duration": 5826,
    "start_time": "2022-11-03T05:26:05.904Z"
   },
   {
    "duration": 5728,
    "start_time": "2022-11-03T05:26:21.713Z"
   },
   {
    "duration": 165,
    "start_time": "2022-11-03T05:29:40.458Z"
   },
   {
    "duration": 10,
    "start_time": "2022-11-03T05:31:11.763Z"
   },
   {
    "duration": 10,
    "start_time": "2022-11-03T05:31:28.880Z"
   },
   {
    "duration": 11,
    "start_time": "2022-11-03T05:31:35.744Z"
   },
   {
    "duration": 4,
    "start_time": "2022-11-03T05:32:01.936Z"
   },
   {
    "duration": 11,
    "start_time": "2022-11-03T05:32:10.785Z"
   },
   {
    "duration": 5,
    "start_time": "2022-11-03T05:32:33.284Z"
   },
   {
    "duration": 2,
    "start_time": "2022-11-03T05:32:35.872Z"
   },
   {
    "duration": 218,
    "start_time": "2022-11-03T05:32:38.000Z"
   },
   {
    "duration": 175,
    "start_time": "2022-11-03T05:32:44.587Z"
   },
   {
    "duration": 4,
    "start_time": "2022-11-03T05:33:04.349Z"
   },
   {
    "duration": 14,
    "start_time": "2022-11-03T05:33:12.969Z"
   },
   {
    "duration": 9,
    "start_time": "2022-11-03T05:34:20.534Z"
   },
   {
    "duration": 10,
    "start_time": "2022-11-03T05:34:47.076Z"
   },
   {
    "duration": 3,
    "start_time": "2022-11-03T05:35:05.535Z"
   },
   {
    "duration": 4,
    "start_time": "2022-11-03T05:35:06.350Z"
   },
   {
    "duration": 224,
    "start_time": "2022-11-03T05:35:15.882Z"
   },
   {
    "duration": 53,
    "start_time": "2022-11-03T05:35:43.124Z"
   },
   {
    "duration": 12,
    "start_time": "2022-11-03T05:35:46.128Z"
   },
   {
    "duration": 13,
    "start_time": "2022-11-03T05:36:39.532Z"
   },
   {
    "duration": 111,
    "start_time": "2022-11-03T05:36:48.915Z"
   },
   {
    "duration": 31,
    "start_time": "2022-11-03T05:36:52.091Z"
   },
   {
    "duration": 203,
    "start_time": "2022-11-03T05:37:20.499Z"
   },
   {
    "duration": 53,
    "start_time": "2022-11-03T05:37:23.316Z"
   },
   {
    "duration": 5854,
    "start_time": "2022-11-03T05:37:32.363Z"
   },
   {
    "duration": 1409,
    "start_time": "2022-11-03T05:40:31.846Z"
   },
   {
    "duration": 48,
    "start_time": "2022-11-03T05:40:33.256Z"
   },
   {
    "duration": 9,
    "start_time": "2022-11-03T05:40:33.305Z"
   },
   {
    "duration": 14,
    "start_time": "2022-11-03T05:40:33.316Z"
   },
   {
    "duration": 18,
    "start_time": "2022-11-03T05:40:33.332Z"
   },
   {
    "duration": 14,
    "start_time": "2022-11-03T05:40:33.352Z"
   },
   {
    "duration": 6,
    "start_time": "2022-11-03T05:40:33.368Z"
   },
   {
    "duration": 24,
    "start_time": "2022-11-03T05:40:33.376Z"
   },
   {
    "duration": 14,
    "start_time": "2022-11-03T05:40:33.403Z"
   },
   {
    "duration": 248,
    "start_time": "2022-11-03T05:40:33.420Z"
   },
   {
    "duration": 180,
    "start_time": "2022-11-03T05:40:33.669Z"
   },
   {
    "duration": 7,
    "start_time": "2022-11-03T05:40:33.850Z"
   },
   {
    "duration": 710,
    "start_time": "2022-11-03T05:40:33.859Z"
   },
   {
    "duration": 9,
    "start_time": "2022-11-03T05:40:34.571Z"
   },
   {
    "duration": 417,
    "start_time": "2022-11-03T05:40:34.581Z"
   },
   {
    "duration": 237,
    "start_time": "2022-11-03T05:40:35.000Z"
   },
   {
    "duration": 329,
    "start_time": "2022-11-03T05:40:35.238Z"
   },
   {
    "duration": 17,
    "start_time": "2022-11-03T05:40:35.568Z"
   },
   {
    "duration": 13,
    "start_time": "2022-11-03T05:40:35.587Z"
   },
   {
    "duration": 23,
    "start_time": "2022-11-03T05:40:35.601Z"
   },
   {
    "duration": 13,
    "start_time": "2022-11-03T05:40:35.626Z"
   },
   {
    "duration": 15,
    "start_time": "2022-11-03T05:40:35.641Z"
   },
   {
    "duration": 24,
    "start_time": "2022-11-03T05:40:35.659Z"
   },
   {
    "duration": 9,
    "start_time": "2022-11-03T05:40:35.685Z"
   },
   {
    "duration": 235,
    "start_time": "2022-11-03T05:40:35.696Z"
   },
   {
    "duration": 104,
    "start_time": "2022-11-03T05:40:35.932Z"
   },
   {
    "duration": 6164,
    "start_time": "2022-11-03T05:40:36.038Z"
   },
   {
    "duration": 3131,
    "start_time": "2022-11-03T05:40:42.205Z"
   },
   {
    "duration": 7,
    "start_time": "2022-11-03T05:40:45.338Z"
   },
   {
    "duration": 2678,
    "start_time": "2022-11-03T05:42:26.172Z"
   },
   {
    "duration": 46,
    "start_time": "2022-11-03T05:45:12.229Z"
   },
   {
    "duration": 2298,
    "start_time": "2022-11-03T05:45:23.304Z"
   },
   {
    "duration": 2492,
    "start_time": "2022-11-03T05:46:00.650Z"
   },
   {
    "duration": 2411,
    "start_time": "2022-11-03T05:46:06.752Z"
   },
   {
    "duration": 121,
    "start_time": "2022-11-03T05:46:44.946Z"
   },
   {
    "duration": 35,
    "start_time": "2022-11-03T05:47:14.454Z"
   },
   {
    "duration": 13153,
    "start_time": "2022-11-03T05:47:18.769Z"
   },
   {
    "duration": 3687,
    "start_time": "2022-11-03T05:48:36.848Z"
   },
   {
    "duration": 14,
    "start_time": "2022-11-03T05:49:27.968Z"
   },
   {
    "duration": 11,
    "start_time": "2022-11-03T05:49:30.280Z"
   },
   {
    "duration": 4,
    "start_time": "2022-11-03T05:49:30.437Z"
   },
   {
    "duration": 9,
    "start_time": "2022-11-03T05:49:30.576Z"
   },
   {
    "duration": 6,
    "start_time": "2022-11-03T05:49:30.872Z"
   },
   {
    "duration": 3,
    "start_time": "2022-11-03T05:49:31.024Z"
   },
   {
    "duration": 3,
    "start_time": "2022-11-03T05:49:31.136Z"
   },
   {
    "duration": 214,
    "start_time": "2022-11-03T05:49:31.304Z"
   },
   {
    "duration": 49,
    "start_time": "2022-11-03T05:49:31.522Z"
   },
   {
    "duration": 6251,
    "start_time": "2022-11-03T05:49:34.608Z"
   },
   {
    "duration": 2375,
    "start_time": "2022-11-03T05:49:40.861Z"
   },
   {
    "duration": 16486,
    "start_time": "2022-11-03T05:49:43.238Z"
   },
   {
    "duration": 25,
    "start_time": "2022-11-03T05:52:20.647Z"
   },
   {
    "duration": 416,
    "start_time": "2022-11-03T05:52:21.137Z"
   },
   {
    "duration": 1398,
    "start_time": "2022-11-03T05:52:39.889Z"
   },
   {
    "duration": 48,
    "start_time": "2022-11-03T05:52:41.289Z"
   },
   {
    "duration": 10,
    "start_time": "2022-11-03T05:52:41.338Z"
   },
   {
    "duration": 9,
    "start_time": "2022-11-03T05:52:41.349Z"
   },
   {
    "duration": 18,
    "start_time": "2022-11-03T05:52:41.359Z"
   },
   {
    "duration": 11,
    "start_time": "2022-11-03T05:52:41.378Z"
   },
   {
    "duration": 4,
    "start_time": "2022-11-03T05:52:41.390Z"
   },
   {
    "duration": 26,
    "start_time": "2022-11-03T05:52:41.396Z"
   },
   {
    "duration": 8,
    "start_time": "2022-11-03T05:52:41.423Z"
   },
   {
    "duration": 268,
    "start_time": "2022-11-03T05:52:41.433Z"
   },
   {
    "duration": 194,
    "start_time": "2022-11-03T05:52:41.703Z"
   },
   {
    "duration": 9,
    "start_time": "2022-11-03T05:52:41.898Z"
   },
   {
    "duration": 724,
    "start_time": "2022-11-03T05:52:41.908Z"
   },
   {
    "duration": 10,
    "start_time": "2022-11-03T05:52:42.633Z"
   },
   {
    "duration": 515,
    "start_time": "2022-11-03T05:52:42.645Z"
   },
   {
    "duration": 231,
    "start_time": "2022-11-03T05:52:43.162Z"
   },
   {
    "duration": 322,
    "start_time": "2022-11-03T05:52:43.395Z"
   },
   {
    "duration": 15,
    "start_time": "2022-11-03T05:52:43.719Z"
   },
   {
    "duration": 9,
    "start_time": "2022-11-03T05:52:43.736Z"
   },
   {
    "duration": 4,
    "start_time": "2022-11-03T05:52:43.746Z"
   },
   {
    "duration": 18,
    "start_time": "2022-11-03T05:52:43.752Z"
   },
   {
    "duration": 12,
    "start_time": "2022-11-03T05:52:43.772Z"
   },
   {
    "duration": 7,
    "start_time": "2022-11-03T05:52:43.785Z"
   },
   {
    "duration": 10,
    "start_time": "2022-11-03T05:52:43.794Z"
   },
   {
    "duration": 236,
    "start_time": "2022-11-03T05:52:43.805Z"
   },
   {
    "duration": 92,
    "start_time": "2022-11-03T05:52:44.044Z"
   },
   {
    "duration": 5867,
    "start_time": "2022-11-03T05:52:44.138Z"
   },
   {
    "duration": 2475,
    "start_time": "2022-11-03T05:52:50.007Z"
   },
   {
    "duration": 8447,
    "start_time": "2022-11-03T05:52:52.484Z"
   },
   {
    "duration": 7891,
    "start_time": "2022-11-03T05:53:00.933Z"
   },
   {
    "duration": 12,
    "start_time": "2022-11-03T05:54:23.073Z"
   },
   {
    "duration": 10,
    "start_time": "2022-11-03T05:54:26.595Z"
   },
   {
    "duration": 4,
    "start_time": "2022-11-03T05:54:26.739Z"
   },
   {
    "duration": 10,
    "start_time": "2022-11-03T05:54:26.903Z"
   },
   {
    "duration": 6,
    "start_time": "2022-11-03T05:54:27.467Z"
   },
   {
    "duration": 3,
    "start_time": "2022-11-03T05:54:29.035Z"
   },
   {
    "duration": 3,
    "start_time": "2022-11-03T05:54:29.786Z"
   },
   {
    "duration": 228,
    "start_time": "2022-11-03T05:54:30.435Z"
   },
   {
    "duration": 62,
    "start_time": "2022-11-03T05:54:31.691Z"
   },
   {
    "duration": 6249,
    "start_time": "2022-11-03T05:54:32.163Z"
   },
   {
    "duration": 2705,
    "start_time": "2022-11-03T05:54:38.414Z"
   },
   {
    "duration": 9407,
    "start_time": "2022-11-03T05:54:41.120Z"
   },
   {
    "duration": 7311,
    "start_time": "2022-11-03T05:54:50.530Z"
   },
   {
    "duration": 5968,
    "start_time": "2022-11-03T05:55:15.060Z"
   },
   {
    "duration": 189,
    "start_time": "2022-11-03T05:55:35.833Z"
   },
   {
    "duration": 1413,
    "start_time": "2022-11-03T05:58:01.170Z"
   },
   {
    "duration": 53,
    "start_time": "2022-11-03T05:58:02.586Z"
   },
   {
    "duration": 10,
    "start_time": "2022-11-03T05:58:02.641Z"
   },
   {
    "duration": 32,
    "start_time": "2022-11-03T05:58:02.653Z"
   },
   {
    "duration": 57,
    "start_time": "2022-11-03T05:58:02.687Z"
   },
   {
    "duration": 25,
    "start_time": "2022-11-03T05:58:02.745Z"
   },
   {
    "duration": 29,
    "start_time": "2022-11-03T05:58:02.772Z"
   },
   {
    "duration": 33,
    "start_time": "2022-11-03T05:58:02.802Z"
   },
   {
    "duration": 39,
    "start_time": "2022-11-03T05:58:02.837Z"
   },
   {
    "duration": 255,
    "start_time": "2022-11-03T05:58:02.878Z"
   },
   {
    "duration": 182,
    "start_time": "2022-11-03T05:58:03.135Z"
   },
   {
    "duration": 12,
    "start_time": "2022-11-03T05:58:03.318Z"
   },
   {
    "duration": 794,
    "start_time": "2022-11-03T05:58:03.332Z"
   },
   {
    "duration": 10,
    "start_time": "2022-11-03T05:58:04.129Z"
   },
   {
    "duration": 516,
    "start_time": "2022-11-03T05:58:04.140Z"
   },
   {
    "duration": 249,
    "start_time": "2022-11-03T05:58:04.658Z"
   },
   {
    "duration": 355,
    "start_time": "2022-11-03T05:58:04.908Z"
   },
   {
    "duration": 12,
    "start_time": "2022-11-03T05:58:05.265Z"
   },
   {
    "duration": 9,
    "start_time": "2022-11-03T05:58:05.279Z"
   },
   {
    "duration": 3,
    "start_time": "2022-11-03T05:58:05.290Z"
   },
   {
    "duration": 28,
    "start_time": "2022-11-03T05:58:05.294Z"
   },
   {
    "duration": 6,
    "start_time": "2022-11-03T05:58:05.324Z"
   },
   {
    "duration": 5,
    "start_time": "2022-11-03T05:58:05.331Z"
   },
   {
    "duration": 33,
    "start_time": "2022-11-03T05:58:05.338Z"
   },
   {
    "duration": 215,
    "start_time": "2022-11-03T05:58:05.373Z"
   },
   {
    "duration": 74,
    "start_time": "2022-11-03T05:58:05.589Z"
   },
   {
    "duration": 5927,
    "start_time": "2022-11-03T05:58:05.665Z"
   },
   {
    "duration": 2540,
    "start_time": "2022-11-03T05:58:11.593Z"
   },
   {
    "duration": 4987,
    "start_time": "2022-11-03T05:58:14.136Z"
   },
   {
    "duration": 6,
    "start_time": "2022-11-03T05:58:19.124Z"
   },
   {
    "duration": 5736,
    "start_time": "2022-11-03T05:58:19.132Z"
   },
   {
    "duration": 5557,
    "start_time": "2022-11-03T05:58:24.869Z"
   },
   {
    "duration": 7596,
    "start_time": "2022-11-03T05:58:48.014Z"
   },
   {
    "duration": 1478,
    "start_time": "2022-11-03T06:00:37.451Z"
   },
   {
    "duration": 51,
    "start_time": "2022-11-03T06:00:38.931Z"
   },
   {
    "duration": 9,
    "start_time": "2022-11-03T06:00:38.983Z"
   },
   {
    "duration": 37,
    "start_time": "2022-11-03T06:00:38.994Z"
   },
   {
    "duration": 32,
    "start_time": "2022-11-03T06:00:39.034Z"
   },
   {
    "duration": 31,
    "start_time": "2022-11-03T06:00:39.067Z"
   },
   {
    "duration": 19,
    "start_time": "2022-11-03T06:00:39.100Z"
   },
   {
    "duration": 24,
    "start_time": "2022-11-03T06:00:39.120Z"
   },
   {
    "duration": 40,
    "start_time": "2022-11-03T06:00:39.146Z"
   },
   {
    "duration": 281,
    "start_time": "2022-11-03T06:00:39.187Z"
   },
   {
    "duration": 205,
    "start_time": "2022-11-03T06:00:39.470Z"
   },
   {
    "duration": 7,
    "start_time": "2022-11-03T06:00:39.677Z"
   },
   {
    "duration": 824,
    "start_time": "2022-11-03T06:00:39.686Z"
   },
   {
    "duration": 22,
    "start_time": "2022-11-03T06:00:40.512Z"
   },
   {
    "duration": 500,
    "start_time": "2022-11-03T06:00:40.536Z"
   },
   {
    "duration": 257,
    "start_time": "2022-11-03T06:00:41.038Z"
   },
   {
    "duration": 340,
    "start_time": "2022-11-03T06:00:41.297Z"
   },
   {
    "duration": 15,
    "start_time": "2022-11-03T06:00:41.639Z"
   },
   {
    "duration": 10,
    "start_time": "2022-11-03T06:00:41.655Z"
   },
   {
    "duration": 4,
    "start_time": "2022-11-03T06:00:41.667Z"
   },
   {
    "duration": 12,
    "start_time": "2022-11-03T06:00:41.672Z"
   },
   {
    "duration": 6,
    "start_time": "2022-11-03T06:00:41.685Z"
   },
   {
    "duration": 33,
    "start_time": "2022-11-03T06:00:41.692Z"
   },
   {
    "duration": 14,
    "start_time": "2022-11-03T06:00:41.727Z"
   },
   {
    "duration": 199,
    "start_time": "2022-11-03T06:00:41.743Z"
   },
   {
    "duration": 93,
    "start_time": "2022-11-03T06:00:41.944Z"
   },
   {
    "duration": 14,
    "start_time": "2022-11-03T06:00:42.038Z"
   },
   {
    "duration": 5745,
    "start_time": "2022-11-03T06:00:42.223Z"
   },
   {
    "duration": 2438,
    "start_time": "2022-11-03T06:00:47.970Z"
   },
   {
    "duration": 4335,
    "start_time": "2022-11-03T06:00:50.410Z"
   },
   {
    "duration": 82679,
    "start_time": "2022-11-03T06:00:54.746Z"
   },
   {
    "duration": 3,
    "start_time": "2022-11-03T06:02:17.426Z"
   },
   {
    "duration": 692,
    "start_time": "2022-11-03T06:02:17.430Z"
   },
   {
    "duration": 514,
    "start_time": "2022-11-03T06:03:29.524Z"
   },
   {
    "duration": 11,
    "start_time": "2022-11-03T06:03:35.570Z"
   },
   {
    "duration": 9,
    "start_time": "2022-11-03T06:03:37.754Z"
   },
   {
    "duration": 4,
    "start_time": "2022-11-03T06:03:38.033Z"
   },
   {
    "duration": 9,
    "start_time": "2022-11-03T06:03:38.521Z"
   },
   {
    "duration": 5,
    "start_time": "2022-11-03T06:03:42.705Z"
   },
   {
    "duration": 8,
    "start_time": "2022-11-03T06:04:44.970Z"
   },
   {
    "duration": 11,
    "start_time": "2022-11-03T06:04:47.251Z"
   },
   {
    "duration": 10,
    "start_time": "2022-11-03T06:04:47.754Z"
   },
   {
    "duration": 4,
    "start_time": "2022-11-03T06:04:47.906Z"
   },
   {
    "duration": 10,
    "start_time": "2022-11-03T06:04:48.422Z"
   },
   {
    "duration": 6,
    "start_time": "2022-11-03T06:04:49.750Z"
   },
   {
    "duration": 3,
    "start_time": "2022-11-03T06:04:50.138Z"
   },
   {
    "duration": 3,
    "start_time": "2022-11-03T06:04:50.290Z"
   },
   {
    "duration": 220,
    "start_time": "2022-11-03T06:04:50.474Z"
   },
   {
    "duration": 50,
    "start_time": "2022-11-03T06:04:51.142Z"
   },
   {
    "duration": 12,
    "start_time": "2022-11-03T06:05:58.187Z"
   },
   {
    "duration": 9,
    "start_time": "2022-11-03T06:06:02.651Z"
   },
   {
    "duration": 3,
    "start_time": "2022-11-03T06:06:03.095Z"
   },
   {
    "duration": 8,
    "start_time": "2022-11-03T06:06:03.479Z"
   },
   {
    "duration": 5,
    "start_time": "2022-11-03T06:06:04.291Z"
   },
   {
    "duration": 2,
    "start_time": "2022-11-03T06:06:04.463Z"
   },
   {
    "duration": 2,
    "start_time": "2022-11-03T06:06:04.623Z"
   },
   {
    "duration": 228,
    "start_time": "2022-11-03T06:06:05.330Z"
   },
   {
    "duration": 51,
    "start_time": "2022-11-03T06:06:19.379Z"
   },
   {
    "duration": 13,
    "start_time": "2022-11-03T06:06:21.627Z"
   },
   {
    "duration": 20,
    "start_time": "2022-11-03T06:06:38.100Z"
   },
   {
    "duration": 13,
    "start_time": "2022-11-03T06:06:43.935Z"
   },
   {
    "duration": 3404,
    "start_time": "2022-11-03T06:07:51.901Z"
   },
   {
    "duration": 3001,
    "start_time": "2022-11-03T06:08:05.116Z"
   },
   {
    "duration": 1282,
    "start_time": "2022-11-03T06:08:37.929Z"
   },
   {
    "duration": 49,
    "start_time": "2022-11-03T06:11:26.827Z"
   },
   {
    "duration": 95,
    "start_time": "2022-11-03T06:11:31.731Z"
   },
   {
    "duration": 1429,
    "start_time": "2022-11-03T06:14:03.226Z"
   },
   {
    "duration": 49,
    "start_time": "2022-11-03T06:14:07.410Z"
   },
   {
    "duration": 10,
    "start_time": "2022-11-03T06:14:08.140Z"
   },
   {
    "duration": 2,
    "start_time": "2022-11-03T06:14:09.214Z"
   },
   {
    "duration": 9,
    "start_time": "2022-11-03T06:14:12.062Z"
   },
   {
    "duration": 4,
    "start_time": "2022-11-03T06:14:37.725Z"
   },
   {
    "duration": 44,
    "start_time": "2022-11-03T06:14:38.438Z"
   },
   {
    "duration": 6,
    "start_time": "2022-11-03T06:14:39.162Z"
   },
   {
    "duration": 2,
    "start_time": "2022-11-03T06:14:39.914Z"
   },
   {
    "duration": 9,
    "start_time": "2022-11-03T06:14:40.750Z"
   },
   {
    "duration": 14,
    "start_time": "2022-11-03T06:14:41.540Z"
   },
   {
    "duration": 6,
    "start_time": "2022-11-03T06:14:44.013Z"
   },
   {
    "duration": 6,
    "start_time": "2022-11-03T06:14:44.989Z"
   },
   {
    "duration": 9,
    "start_time": "2022-11-03T06:14:45.653Z"
   },
   {
    "duration": 212,
    "start_time": "2022-11-03T06:14:53.063Z"
   },
   {
    "duration": 172,
    "start_time": "2022-11-03T06:14:56.682Z"
   },
   {
    "duration": 6,
    "start_time": "2022-11-03T06:15:02.270Z"
   },
   {
    "duration": 695,
    "start_time": "2022-11-03T06:15:03.094Z"
   },
   {
    "duration": 10,
    "start_time": "2022-11-03T06:15:11.202Z"
   },
   {
    "duration": 497,
    "start_time": "2022-11-03T06:15:13.787Z"
   },
   {
    "duration": 1361,
    "start_time": "2022-11-03T06:16:18.819Z"
   },
   {
    "duration": 46,
    "start_time": "2022-11-03T06:16:20.182Z"
   },
   {
    "duration": 9,
    "start_time": "2022-11-03T06:16:21.123Z"
   },
   {
    "duration": 3,
    "start_time": "2022-11-03T06:16:21.655Z"
   },
   {
    "duration": 10,
    "start_time": "2022-11-03T06:16:22.481Z"
   },
   {
    "duration": 11,
    "start_time": "2022-11-03T06:16:23.133Z"
   },
   {
    "duration": 5,
    "start_time": "2022-11-03T06:16:23.687Z"
   },
   {
    "duration": 4,
    "start_time": "2022-11-03T06:16:24.871Z"
   },
   {
    "duration": 7,
    "start_time": "2022-11-03T06:16:25.459Z"
   },
   {
    "duration": 214,
    "start_time": "2022-11-03T06:16:28.180Z"
   },
   {
    "duration": 162,
    "start_time": "2022-11-03T06:16:29.687Z"
   },
   {
    "duration": 7,
    "start_time": "2022-11-03T06:16:31.172Z"
   },
   {
    "duration": 661,
    "start_time": "2022-11-03T06:16:32.357Z"
   },
   {
    "duration": 9,
    "start_time": "2022-11-03T06:16:33.864Z"
   },
   {
    "duration": 476,
    "start_time": "2022-11-03T06:16:34.456Z"
   },
   {
    "duration": 252,
    "start_time": "2022-11-03T06:16:35.840Z"
   },
   {
    "duration": 314,
    "start_time": "2022-11-03T06:17:37.098Z"
   },
   {
    "duration": 7,
    "start_time": "2022-11-03T06:18:10.727Z"
   },
   {
    "duration": 13,
    "start_time": "2022-11-03T06:18:14.436Z"
   },
   {
    "duration": 9,
    "start_time": "2022-11-03T06:18:18.012Z"
   },
   {
    "duration": 3,
    "start_time": "2022-11-03T06:18:18.925Z"
   },
   {
    "duration": 9,
    "start_time": "2022-11-03T06:18:19.831Z"
   },
   {
    "duration": 5,
    "start_time": "2022-11-03T06:18:28.858Z"
   },
   {
    "duration": 2,
    "start_time": "2022-11-03T06:18:30.524Z"
   },
   {
    "duration": 3,
    "start_time": "2022-11-03T06:18:31.841Z"
   },
   {
    "duration": 231,
    "start_time": "2022-11-03T06:18:32.613Z"
   },
   {
    "duration": 7,
    "start_time": "2022-11-03T06:18:47.595Z"
   },
   {
    "duration": 16,
    "start_time": "2022-11-03T06:19:35.891Z"
   },
   {
    "duration": 570,
    "start_time": "2022-11-03T06:19:54.566Z"
   },
   {
    "duration": 1373,
    "start_time": "2022-11-03T06:20:01.436Z"
   },
   {
    "duration": 46,
    "start_time": "2022-11-03T06:20:02.811Z"
   },
   {
    "duration": 9,
    "start_time": "2022-11-03T06:20:02.858Z"
   },
   {
    "duration": 14,
    "start_time": "2022-11-03T06:20:02.868Z"
   },
   {
    "duration": 19,
    "start_time": "2022-11-03T06:20:02.884Z"
   },
   {
    "duration": 10,
    "start_time": "2022-11-03T06:20:02.905Z"
   },
   {
    "duration": 12,
    "start_time": "2022-11-03T06:20:02.917Z"
   },
   {
    "duration": 9,
    "start_time": "2022-11-03T06:20:02.931Z"
   },
   {
    "duration": 13,
    "start_time": "2022-11-03T06:20:02.941Z"
   },
   {
    "duration": 210,
    "start_time": "2022-11-03T06:20:02.956Z"
   },
   {
    "duration": 174,
    "start_time": "2022-11-03T06:20:03.168Z"
   },
   {
    "duration": 7,
    "start_time": "2022-11-03T06:20:03.344Z"
   },
   {
    "duration": 709,
    "start_time": "2022-11-03T06:20:03.353Z"
   },
   {
    "duration": 8,
    "start_time": "2022-11-03T06:20:04.065Z"
   },
   {
    "duration": 506,
    "start_time": "2022-11-03T06:20:04.074Z"
   },
   {
    "duration": 256,
    "start_time": "2022-11-03T06:20:04.582Z"
   },
   {
    "duration": 285,
    "start_time": "2022-11-03T06:20:04.840Z"
   },
   {
    "duration": 13,
    "start_time": "2022-11-03T06:20:05.127Z"
   },
   {
    "duration": 10,
    "start_time": "2022-11-03T06:20:05.142Z"
   },
   {
    "duration": 8,
    "start_time": "2022-11-03T06:20:05.153Z"
   },
   {
    "duration": 9,
    "start_time": "2022-11-03T06:20:05.162Z"
   },
   {
    "duration": 9,
    "start_time": "2022-11-03T06:20:05.172Z"
   },
   {
    "duration": 7,
    "start_time": "2022-11-03T06:20:05.183Z"
   },
   {
    "duration": 7,
    "start_time": "2022-11-03T06:20:05.192Z"
   },
   {
    "duration": 22,
    "start_time": "2022-11-03T06:20:05.200Z"
   },
   {
    "duration": 256,
    "start_time": "2022-11-03T06:20:05.223Z"
   },
   {
    "duration": 74,
    "start_time": "2022-11-03T06:20:05.481Z"
   },
   {
    "duration": 68,
    "start_time": "2022-11-03T06:20:05.557Z"
   },
   {
    "duration": 6525,
    "start_time": "2022-11-03T06:20:05.628Z"
   },
   {
    "duration": 2917,
    "start_time": "2022-11-03T06:20:12.155Z"
   },
   {
    "duration": 1074,
    "start_time": "2022-11-03T06:20:15.073Z"
   },
   {
    "duration": 89477,
    "start_time": "2022-11-03T06:20:16.149Z"
   },
   {
    "duration": 1699,
    "start_time": "2022-11-03T06:21:45.628Z"
   },
   {
    "duration": 231,
    "start_time": "2022-11-03T06:22:41.166Z"
   },
   {
    "duration": 225,
    "start_time": "2022-11-03T06:24:07.526Z"
   },
   {
    "duration": 906,
    "start_time": "2022-11-03T06:28:25.421Z"
   },
   {
    "duration": 1374,
    "start_time": "2022-11-03T06:29:08.811Z"
   },
   {
    "duration": 48,
    "start_time": "2022-11-03T06:29:10.274Z"
   },
   {
    "duration": 9,
    "start_time": "2022-11-03T06:29:13.743Z"
   },
   {
    "duration": 4,
    "start_time": "2022-11-03T06:29:22.682Z"
   },
   {
    "duration": 10,
    "start_time": "2022-11-03T06:29:30.571Z"
   },
   {
    "duration": 11,
    "start_time": "2022-11-03T06:29:33.806Z"
   },
   {
    "duration": 5,
    "start_time": "2022-11-03T06:29:34.614Z"
   },
   {
    "duration": 5,
    "start_time": "2022-11-03T06:29:34.982Z"
   },
   {
    "duration": 8,
    "start_time": "2022-11-03T06:29:35.158Z"
   },
   {
    "duration": 240,
    "start_time": "2022-11-03T06:29:37.042Z"
   },
   {
    "duration": 208,
    "start_time": "2022-11-03T06:30:04.898Z"
   },
   {
    "duration": 250,
    "start_time": "2022-11-03T06:30:06.218Z"
   },
   {
    "duration": 6,
    "start_time": "2022-11-03T06:30:06.518Z"
   },
   {
    "duration": 603,
    "start_time": "2022-11-03T06:30:06.690Z"
   },
   {
    "duration": 8,
    "start_time": "2022-11-03T06:30:07.295Z"
   },
   {
    "duration": 544,
    "start_time": "2022-11-03T06:30:07.304Z"
   },
   {
    "duration": 241,
    "start_time": "2022-11-03T06:30:07.851Z"
   },
   {
    "duration": 356,
    "start_time": "2022-11-03T06:30:08.094Z"
   },
   {
    "duration": 14,
    "start_time": "2022-11-03T06:30:08.476Z"
   },
   {
    "duration": 7,
    "start_time": "2022-11-03T06:30:10.076Z"
   },
   {
    "duration": 5,
    "start_time": "2022-11-03T06:30:10.431Z"
   },
   {
    "duration": 3,
    "start_time": "2022-11-03T06:30:10.613Z"
   },
   {
    "duration": 10,
    "start_time": "2022-11-03T06:30:11.345Z"
   },
   {
    "duration": 6,
    "start_time": "2022-11-03T06:30:12.123Z"
   },
   {
    "duration": 3,
    "start_time": "2022-11-03T06:30:12.695Z"
   },
   {
    "duration": 2,
    "start_time": "2022-11-03T06:30:13.393Z"
   },
   {
    "duration": 226,
    "start_time": "2022-11-03T06:30:13.905Z"
   },
   {
    "duration": 62,
    "start_time": "2022-11-03T06:30:18.959Z"
   },
   {
    "duration": 488,
    "start_time": "2022-11-03T06:31:44.861Z"
   },
   {
    "duration": 1453,
    "start_time": "2022-11-03T06:32:10.397Z"
   },
   {
    "duration": 47,
    "start_time": "2022-11-03T06:32:11.852Z"
   },
   {
    "duration": 9,
    "start_time": "2022-11-03T06:32:11.901Z"
   },
   {
    "duration": 3,
    "start_time": "2022-11-03T06:32:11.912Z"
   },
   {
    "duration": 14,
    "start_time": "2022-11-03T06:32:11.916Z"
   },
   {
    "duration": 11,
    "start_time": "2022-11-03T06:32:13.817Z"
   },
   {
    "duration": 5,
    "start_time": "2022-11-03T06:32:14.468Z"
   },
   {
    "duration": 5,
    "start_time": "2022-11-03T06:32:14.620Z"
   },
   {
    "duration": 8,
    "start_time": "2022-11-03T06:32:14.808Z"
   },
   {
    "duration": 220,
    "start_time": "2022-11-03T06:32:16.924Z"
   },
   {
    "duration": 149,
    "start_time": "2022-11-03T06:32:20.172Z"
   },
   {
    "duration": 7,
    "start_time": "2022-11-03T06:32:20.620Z"
   },
   {
    "duration": 662,
    "start_time": "2022-11-03T06:32:21.196Z"
   },
   {
    "duration": 8,
    "start_time": "2022-11-03T06:32:21.860Z"
   },
   {
    "duration": 487,
    "start_time": "2022-11-03T06:32:21.869Z"
   },
   {
    "duration": 2,
    "start_time": "2022-11-03T06:32:22.358Z"
   },
   {
    "duration": 206,
    "start_time": "2022-11-03T06:32:31.125Z"
   },
   {
    "duration": 13,
    "start_time": "2022-11-03T06:32:34.853Z"
   },
   {
    "duration": 8,
    "start_time": "2022-11-03T06:32:38.090Z"
   },
   {
    "duration": 8,
    "start_time": "2022-11-03T06:33:14.582Z"
   },
   {
    "duration": 4,
    "start_time": "2022-11-03T06:33:15.252Z"
   },
   {
    "duration": 4,
    "start_time": "2022-11-03T06:33:16.116Z"
   },
   {
    "duration": 10,
    "start_time": "2022-11-03T06:33:18.185Z"
   },
   {
    "duration": 6,
    "start_time": "2022-11-03T06:33:23.334Z"
   },
   {
    "duration": 3,
    "start_time": "2022-11-03T06:33:24.701Z"
   },
   {
    "duration": 3,
    "start_time": "2022-11-03T06:33:25.373Z"
   },
   {
    "duration": 190,
    "start_time": "2022-11-03T06:33:27.857Z"
   },
   {
    "duration": 184,
    "start_time": "2022-11-03T06:33:45.397Z"
   },
   {
    "duration": 52,
    "start_time": "2022-11-03T06:33:51.717Z"
   },
   {
    "duration": 5547,
    "start_time": "2022-11-03T06:33:57.451Z"
   },
   {
    "duration": 2410,
    "start_time": "2022-11-03T06:34:20.901Z"
   },
   {
    "duration": 4755,
    "start_time": "2022-11-03T06:34:28.468Z"
   },
   {
    "duration": 1651,
    "start_time": "2022-11-03T06:35:29.800Z"
   },
   {
    "duration": 48,
    "start_time": "2022-11-03T06:35:31.453Z"
   },
   {
    "duration": 9,
    "start_time": "2022-11-03T06:35:31.503Z"
   },
   {
    "duration": 24,
    "start_time": "2022-11-03T06:35:31.513Z"
   },
   {
    "duration": 14,
    "start_time": "2022-11-03T06:35:31.539Z"
   },
   {
    "duration": 11,
    "start_time": "2022-11-03T06:35:31.554Z"
   },
   {
    "duration": 5,
    "start_time": "2022-11-03T06:35:31.567Z"
   },
   {
    "duration": 9,
    "start_time": "2022-11-03T06:35:31.574Z"
   },
   {
    "duration": 25,
    "start_time": "2022-11-03T06:35:31.584Z"
   },
   {
    "duration": 249,
    "start_time": "2022-11-03T06:35:31.611Z"
   },
   {
    "duration": 178,
    "start_time": "2022-11-03T06:35:31.861Z"
   },
   {
    "duration": 7,
    "start_time": "2022-11-03T06:35:32.041Z"
   },
   {
    "duration": 725,
    "start_time": "2022-11-03T06:35:32.050Z"
   },
   {
    "duration": 8,
    "start_time": "2022-11-03T06:35:32.777Z"
   },
   {
    "duration": 578,
    "start_time": "2022-11-03T06:35:32.786Z"
   },
   {
    "duration": 2,
    "start_time": "2022-11-03T06:35:33.366Z"
   },
   {
    "duration": 237,
    "start_time": "2022-11-03T06:35:33.370Z"
   },
   {
    "duration": 25,
    "start_time": "2022-11-03T06:35:33.609Z"
   },
   {
    "duration": 30,
    "start_time": "2022-11-03T06:35:33.636Z"
   },
   {
    "duration": 16,
    "start_time": "2022-11-03T06:35:33.668Z"
   },
   {
    "duration": 8,
    "start_time": "2022-11-03T06:35:33.686Z"
   },
   {
    "duration": 22,
    "start_time": "2022-11-03T06:35:33.695Z"
   },
   {
    "duration": 18,
    "start_time": "2022-11-03T06:35:33.719Z"
   },
   {
    "duration": 12,
    "start_time": "2022-11-03T06:35:33.738Z"
   },
   {
    "duration": 6,
    "start_time": "2022-11-03T06:35:33.752Z"
   },
   {
    "duration": 223,
    "start_time": "2022-11-03T06:35:33.759Z"
   },
   {
    "duration": 78,
    "start_time": "2022-11-03T06:35:33.984Z"
   },
   {
    "duration": 6063,
    "start_time": "2022-11-03T06:35:34.066Z"
   },
   {
    "duration": 2685,
    "start_time": "2022-11-03T06:35:40.131Z"
   },
   {
    "duration": 5,
    "start_time": "2022-11-03T06:35:42.818Z"
   },
   {
    "duration": 0,
    "start_time": "2022-11-03T06:35:42.824Z"
   },
   {
    "duration": 0,
    "start_time": "2022-11-03T06:35:42.825Z"
   },
   {
    "duration": 0,
    "start_time": "2022-11-03T06:35:42.826Z"
   },
   {
    "duration": 2971,
    "start_time": "2022-11-03T06:35:51.453Z"
   },
   {
    "duration": 36,
    "start_time": "2022-11-03T06:38:11.307Z"
   },
   {
    "duration": 40,
    "start_time": "2022-11-03T06:38:14.600Z"
   },
   {
    "duration": 38,
    "start_time": "2022-11-03T06:38:18.319Z"
   },
   {
    "duration": 650,
    "start_time": "2022-11-03T06:38:21.572Z"
   },
   {
    "duration": 2007,
    "start_time": "2022-11-03T06:41:39.361Z"
   },
   {
    "duration": 7390,
    "start_time": "2022-11-03T06:42:20.523Z"
   },
   {
    "duration": 7174,
    "start_time": "2022-11-03T06:42:44.787Z"
   },
   {
    "duration": 2,
    "start_time": "2022-11-03T06:42:58.058Z"
   },
   {
    "duration": 3,
    "start_time": "2022-11-03T06:43:07.275Z"
   },
   {
    "duration": 207,
    "start_time": "2022-11-03T06:43:11.538Z"
   },
   {
    "duration": 7222,
    "start_time": "2022-11-03T06:43:15.708Z"
   },
   {
    "duration": 5456,
    "start_time": "2022-11-03T06:54:02.710Z"
   },
   {
    "duration": 83,
    "start_time": "2022-11-03T06:57:38.987Z"
   },
   {
    "duration": 90,
    "start_time": "2022-11-03T06:57:54.515Z"
   },
   {
    "duration": 1407,
    "start_time": "2022-11-03T07:08:31.467Z"
   },
   {
    "duration": 53,
    "start_time": "2022-11-03T07:08:32.877Z"
   },
   {
    "duration": 10,
    "start_time": "2022-11-03T07:08:32.932Z"
   },
   {
    "duration": 4,
    "start_time": "2022-11-03T07:08:32.944Z"
   },
   {
    "duration": 25,
    "start_time": "2022-11-03T07:08:32.950Z"
   },
   {
    "duration": 12,
    "start_time": "2022-11-03T07:08:32.976Z"
   },
   {
    "duration": 5,
    "start_time": "2022-11-03T07:08:32.989Z"
   },
   {
    "duration": 7,
    "start_time": "2022-11-03T07:08:32.995Z"
   },
   {
    "duration": 21,
    "start_time": "2022-11-03T07:08:33.021Z"
   },
   {
    "duration": 222,
    "start_time": "2022-11-03T07:08:33.045Z"
   },
   {
    "duration": 176,
    "start_time": "2022-11-03T07:08:33.268Z"
   },
   {
    "duration": 7,
    "start_time": "2022-11-03T07:08:33.445Z"
   },
   {
    "duration": 739,
    "start_time": "2022-11-03T07:08:33.453Z"
   },
   {
    "duration": 10,
    "start_time": "2022-11-03T07:08:34.193Z"
   },
   {
    "duration": 539,
    "start_time": "2022-11-03T07:08:34.205Z"
   },
   {
    "duration": 2,
    "start_time": "2022-11-03T07:08:34.746Z"
   },
   {
    "duration": 206,
    "start_time": "2022-11-03T07:08:34.749Z"
   },
   {
    "duration": 14,
    "start_time": "2022-11-03T07:08:34.957Z"
   },
   {
    "duration": 7,
    "start_time": "2022-11-03T07:08:34.972Z"
   },
   {
    "duration": 4,
    "start_time": "2022-11-03T07:08:34.980Z"
   },
   {
    "duration": 6,
    "start_time": "2022-11-03T07:08:34.985Z"
   },
   {
    "duration": 36,
    "start_time": "2022-11-03T07:08:34.992Z"
   },
   {
    "duration": 7,
    "start_time": "2022-11-03T07:08:35.030Z"
   },
   {
    "duration": 5,
    "start_time": "2022-11-03T07:08:35.038Z"
   },
   {
    "duration": 8,
    "start_time": "2022-11-03T07:08:35.045Z"
   },
   {
    "duration": 8,
    "start_time": "2022-11-03T07:08:35.055Z"
   },
   {
    "duration": 9,
    "start_time": "2022-11-03T07:08:35.064Z"
   },
   {
    "duration": 216,
    "start_time": "2022-11-03T07:08:35.076Z"
   },
   {
    "duration": 74,
    "start_time": "2022-11-03T07:08:35.293Z"
   },
   {
    "duration": 6433,
    "start_time": "2022-11-03T07:08:35.371Z"
   },
   {
    "duration": 2477,
    "start_time": "2022-11-03T07:08:41.806Z"
   },
   {
    "duration": 185,
    "start_time": "2022-11-03T07:08:44.285Z"
   },
   {
    "duration": 76,
    "start_time": "2022-11-03T07:08:44.471Z"
   },
   {
    "duration": 0,
    "start_time": "2022-11-03T07:08:44.548Z"
   },
   {
    "duration": 12,
    "start_time": "2022-11-03T07:08:50.668Z"
   },
   {
    "duration": 12536,
    "start_time": "2022-11-03T07:09:00.499Z"
   },
   {
    "duration": 9,
    "start_time": "2022-11-03T07:09:14.904Z"
   },
   {
    "duration": 10,
    "start_time": "2022-11-03T07:12:11.257Z"
   },
   {
    "duration": 48485,
    "start_time": "2022-11-03T07:12:30.953Z"
   },
   {
    "duration": 11,
    "start_time": "2022-11-03T07:13:24.920Z"
   },
   {
    "duration": 72,
    "start_time": "2022-11-03T07:13:52.943Z"
   },
   {
    "duration": 73,
    "start_time": "2022-11-03T07:14:31.039Z"
   },
   {
    "duration": 5,
    "start_time": "2022-11-03T07:15:04.237Z"
   },
   {
    "duration": 62,
    "start_time": "2022-11-03T07:15:07.488Z"
   },
   {
    "duration": 9,
    "start_time": "2022-11-03T07:15:10.373Z"
   },
   {
    "duration": 2409,
    "start_time": "2022-11-03T07:16:19.846Z"
   },
   {
    "duration": 1389,
    "start_time": "2022-11-03T07:21:19.113Z"
   },
   {
    "duration": 53,
    "start_time": "2022-11-03T07:21:20.504Z"
   },
   {
    "duration": 13,
    "start_time": "2022-11-03T07:21:20.559Z"
   },
   {
    "duration": 3,
    "start_time": "2022-11-03T07:21:20.574Z"
   },
   {
    "duration": 16,
    "start_time": "2022-11-03T07:21:20.579Z"
   },
   {
    "duration": 12,
    "start_time": "2022-11-03T07:21:20.596Z"
   },
   {
    "duration": 17,
    "start_time": "2022-11-03T07:21:20.609Z"
   },
   {
    "duration": 11,
    "start_time": "2022-11-03T07:21:20.627Z"
   },
   {
    "duration": 11,
    "start_time": "2022-11-03T07:21:20.640Z"
   },
   {
    "duration": 238,
    "start_time": "2022-11-03T07:21:20.653Z"
   },
   {
    "duration": 178,
    "start_time": "2022-11-03T07:21:20.892Z"
   },
   {
    "duration": 7,
    "start_time": "2022-11-03T07:21:21.072Z"
   },
   {
    "duration": 694,
    "start_time": "2022-11-03T07:21:21.081Z"
   },
   {
    "duration": 10,
    "start_time": "2022-11-03T07:21:21.777Z"
   },
   {
    "duration": 551,
    "start_time": "2022-11-03T07:21:21.789Z"
   },
   {
    "duration": 2,
    "start_time": "2022-11-03T07:21:22.342Z"
   },
   {
    "duration": 219,
    "start_time": "2022-11-03T07:21:22.346Z"
   },
   {
    "duration": 13,
    "start_time": "2022-11-03T07:21:22.567Z"
   },
   {
    "duration": 7,
    "start_time": "2022-11-03T07:21:22.582Z"
   },
   {
    "duration": 4,
    "start_time": "2022-11-03T07:21:22.590Z"
   },
   {
    "duration": 3,
    "start_time": "2022-11-03T07:21:22.622Z"
   },
   {
    "duration": 11,
    "start_time": "2022-11-03T07:21:22.627Z"
   },
   {
    "duration": 7,
    "start_time": "2022-11-03T07:21:22.639Z"
   },
   {
    "duration": 11,
    "start_time": "2022-11-03T07:21:22.647Z"
   },
   {
    "duration": 7,
    "start_time": "2022-11-03T07:21:22.659Z"
   },
   {
    "duration": 8,
    "start_time": "2022-11-03T07:21:22.668Z"
   },
   {
    "duration": 7,
    "start_time": "2022-11-03T07:21:22.677Z"
   },
   {
    "duration": 245,
    "start_time": "2022-11-03T07:21:22.687Z"
   },
   {
    "duration": 99,
    "start_time": "2022-11-03T07:21:22.934Z"
   },
   {
    "duration": 5669,
    "start_time": "2022-11-03T07:21:23.034Z"
   },
   {
    "duration": 3,
    "start_time": "2022-11-03T07:21:28.705Z"
   },
   {
    "duration": 2490,
    "start_time": "2022-11-03T07:21:28.709Z"
   },
   {
    "duration": 933,
    "start_time": "2022-11-03T07:21:31.201Z"
   },
   {
    "duration": 12,
    "start_time": "2022-11-03T07:21:32.224Z"
   },
   {
    "duration": 12,
    "start_time": "2022-11-03T07:21:32.237Z"
   },
   {
    "duration": 74,
    "start_time": "2022-11-03T07:21:32.250Z"
   },
   {
    "duration": 8,
    "start_time": "2022-11-03T07:21:32.326Z"
   },
   {
    "duration": 123,
    "start_time": "2022-11-03T07:21:32.335Z"
   },
   {
    "duration": 1402,
    "start_time": "2022-11-03T07:21:50.324Z"
   },
   {
    "duration": 55,
    "start_time": "2022-11-03T07:21:51.728Z"
   },
   {
    "duration": 10,
    "start_time": "2022-11-03T07:21:53.160Z"
   },
   {
    "duration": 4,
    "start_time": "2022-11-03T07:21:59.294Z"
   },
   {
    "duration": 11,
    "start_time": "2022-11-03T07:22:00.797Z"
   },
   {
    "duration": 9,
    "start_time": "2022-11-03T07:22:04.245Z"
   },
   {
    "duration": 11,
    "start_time": "2022-11-03T07:22:06.419Z"
   },
   {
    "duration": 5,
    "start_time": "2022-11-03T07:22:08.998Z"
   },
   {
    "duration": 6,
    "start_time": "2022-11-03T07:22:17.333Z"
   },
   {
    "duration": 98,
    "start_time": "2022-11-03T07:22:40.937Z"
   },
   {
    "duration": 5,
    "start_time": "2022-11-03T07:22:44.892Z"
   },
   {
    "duration": 5,
    "start_time": "2022-11-03T07:23:07.819Z"
   },
   {
    "duration": 4,
    "start_time": "2022-11-03T07:23:15.942Z"
   },
   {
    "duration": 5,
    "start_time": "2022-11-03T07:23:21.618Z"
   },
   {
    "duration": 4,
    "start_time": "2022-11-03T07:23:33.296Z"
   },
   {
    "duration": 5,
    "start_time": "2022-11-03T07:23:38.262Z"
   },
   {
    "duration": 5,
    "start_time": "2022-11-03T07:23:40.794Z"
   },
   {
    "duration": 8,
    "start_time": "2022-11-03T07:23:43.746Z"
   },
   {
    "duration": 222,
    "start_time": "2022-11-03T07:25:20.695Z"
   },
   {
    "duration": 187,
    "start_time": "2022-11-03T07:25:24.055Z"
   },
   {
    "duration": 7,
    "start_time": "2022-11-03T07:25:28.159Z"
   },
   {
    "duration": 808,
    "start_time": "2022-11-03T07:25:28.614Z"
   },
   {
    "duration": 9,
    "start_time": "2022-11-03T07:25:29.594Z"
   },
   {
    "duration": 555,
    "start_time": "2022-11-03T07:25:30.085Z"
   },
   {
    "duration": 3,
    "start_time": "2022-11-03T07:25:30.938Z"
   },
   {
    "duration": 189,
    "start_time": "2022-11-03T07:26:08.910Z"
   },
   {
    "duration": 13,
    "start_time": "2022-11-03T07:26:14.993Z"
   },
   {
    "duration": 8,
    "start_time": "2022-11-03T07:26:16.459Z"
   },
   {
    "duration": 4,
    "start_time": "2022-11-03T07:26:16.867Z"
   },
   {
    "duration": 4,
    "start_time": "2022-11-03T07:26:17.050Z"
   },
   {
    "duration": 9,
    "start_time": "2022-11-03T07:26:17.645Z"
   },
   {
    "duration": 5,
    "start_time": "2022-11-03T07:28:26.469Z"
   },
   {
    "duration": 4,
    "start_time": "2022-11-03T07:28:36.136Z"
   },
   {
    "duration": 9,
    "start_time": "2022-11-03T07:28:45.470Z"
   },
   {
    "duration": 6,
    "start_time": "2022-11-03T07:29:11.406Z"
   },
   {
    "duration": 4,
    "start_time": "2022-11-03T07:29:28.199Z"
   },
   {
    "duration": 3,
    "start_time": "2022-11-03T07:29:37.956Z"
   },
   {
    "duration": 3,
    "start_time": "2022-11-03T07:30:29.281Z"
   },
   {
    "duration": 5,
    "start_time": "2022-11-03T07:31:25.576Z"
   },
   {
    "duration": 6,
    "start_time": "2022-11-03T07:31:40.740Z"
   },
   {
    "duration": 236,
    "start_time": "2022-11-03T07:31:57.216Z"
   },
   {
    "duration": 72,
    "start_time": "2022-11-03T07:32:12.054Z"
   },
   {
    "duration": 5344,
    "start_time": "2022-11-03T07:32:16.537Z"
   },
   {
    "duration": 4,
    "start_time": "2022-11-03T07:32:21.883Z"
   },
   {
    "duration": 2418,
    "start_time": "2022-11-03T07:32:27.348Z"
   },
   {
    "duration": 714,
    "start_time": "2022-11-03T07:32:33.921Z"
   },
   {
    "duration": 10,
    "start_time": "2022-11-03T07:32:38.212Z"
   },
   {
    "duration": 6,
    "start_time": "2022-11-03T07:54:48.569Z"
   },
   {
    "duration": 6,
    "start_time": "2022-11-03T07:55:00.494Z"
   },
   {
    "duration": 5,
    "start_time": "2022-11-03T07:55:07.017Z"
   },
   {
    "duration": 63,
    "start_time": "2022-11-03T07:55:11.873Z"
   },
   {
    "duration": 9,
    "start_time": "2022-11-03T07:55:13.348Z"
   },
   {
    "duration": 10,
    "start_time": "2022-11-03T07:55:18.914Z"
   },
   {
    "duration": 10,
    "start_time": "2022-11-03T07:55:32.410Z"
   },
   {
    "duration": 42,
    "start_time": "2022-11-03T07:55:43.875Z"
   },
   {
    "duration": 56,
    "start_time": "2022-11-03T07:56:07.003Z"
   },
   {
    "duration": 8,
    "start_time": "2022-11-03T07:56:07.468Z"
   },
   {
    "duration": 45,
    "start_time": "2022-11-03T07:56:09.131Z"
   },
   {
    "duration": 2228,
    "start_time": "2022-11-03T07:56:22.252Z"
   },
   {
    "duration": 553,
    "start_time": "2022-11-03T07:56:24.481Z"
   },
   {
    "duration": 58,
    "start_time": "2022-11-03T07:57:45.686Z"
   },
   {
    "duration": 41,
    "start_time": "2022-11-03T07:58:43.000Z"
   },
   {
    "duration": 2162,
    "start_time": "2022-11-03T07:58:59.140Z"
   },
   {
    "duration": 102,
    "start_time": "2022-11-03T07:59:09.853Z"
   },
   {
    "duration": 9,
    "start_time": "2022-11-03T07:59:24.438Z"
   },
   {
    "duration": 11,
    "start_time": "2022-11-03T07:59:32.733Z"
   },
   {
    "duration": 11,
    "start_time": "2022-11-03T08:00:20.394Z"
   },
   {
    "duration": 1486,
    "start_time": "2022-11-03T08:00:35.259Z"
   },
   {
    "duration": 49,
    "start_time": "2022-11-03T08:00:36.747Z"
   },
   {
    "duration": 10,
    "start_time": "2022-11-03T08:00:36.797Z"
   },
   {
    "duration": 10,
    "start_time": "2022-11-03T08:00:36.809Z"
   },
   {
    "duration": 11,
    "start_time": "2022-11-03T08:00:36.822Z"
   },
   {
    "duration": 5,
    "start_time": "2022-11-03T08:00:36.835Z"
   },
   {
    "duration": 7,
    "start_time": "2022-11-03T08:00:36.842Z"
   },
   {
    "duration": 11,
    "start_time": "2022-11-03T08:00:36.850Z"
   },
   {
    "duration": 270,
    "start_time": "2022-11-03T08:00:36.863Z"
   },
   {
    "duration": 191,
    "start_time": "2022-11-03T08:00:37.134Z"
   },
   {
    "duration": 7,
    "start_time": "2022-11-03T08:00:37.327Z"
   },
   {
    "duration": 766,
    "start_time": "2022-11-03T08:00:37.336Z"
   },
   {
    "duration": 18,
    "start_time": "2022-11-03T08:00:38.104Z"
   },
   {
    "duration": 530,
    "start_time": "2022-11-03T08:00:38.126Z"
   },
   {
    "duration": 205,
    "start_time": "2022-11-03T08:00:38.658Z"
   },
   {
    "duration": 13,
    "start_time": "2022-11-03T08:00:38.865Z"
   },
   {
    "duration": 7,
    "start_time": "2022-11-03T08:00:38.880Z"
   },
   {
    "duration": 7,
    "start_time": "2022-11-03T08:00:38.889Z"
   },
   {
    "duration": 25,
    "start_time": "2022-11-03T08:00:38.897Z"
   },
   {
    "duration": 8,
    "start_time": "2022-11-03T08:00:38.924Z"
   },
   {
    "duration": 16,
    "start_time": "2022-11-03T08:00:38.934Z"
   },
   {
    "duration": 17,
    "start_time": "2022-11-03T08:00:38.951Z"
   },
   {
    "duration": 215,
    "start_time": "2022-11-03T08:00:38.969Z"
   },
   {
    "duration": 70,
    "start_time": "2022-11-03T08:00:39.186Z"
   },
   {
    "duration": 5478,
    "start_time": "2022-11-03T08:00:39.258Z"
   },
   {
    "duration": 4,
    "start_time": "2022-11-03T08:00:44.737Z"
   },
   {
    "duration": 2452,
    "start_time": "2022-11-03T08:00:44.743Z"
   },
   {
    "duration": 829,
    "start_time": "2022-11-03T08:00:47.196Z"
   },
   {
    "duration": 137,
    "start_time": "2022-11-03T08:00:48.026Z"
   },
   {
    "duration": 0,
    "start_time": "2022-11-03T08:00:48.165Z"
   },
   {
    "duration": 0,
    "start_time": "2022-11-03T08:00:48.166Z"
   },
   {
    "duration": 0,
    "start_time": "2022-11-03T08:00:48.167Z"
   },
   {
    "duration": 0,
    "start_time": "2022-11-03T08:00:48.168Z"
   },
   {
    "duration": 0,
    "start_time": "2022-11-03T08:00:48.169Z"
   },
   {
    "duration": 0,
    "start_time": "2022-11-03T08:00:48.170Z"
   },
   {
    "duration": 0,
    "start_time": "2022-11-03T08:00:48.171Z"
   },
   {
    "duration": 10,
    "start_time": "2022-11-03T08:01:02.173Z"
   },
   {
    "duration": 9,
    "start_time": "2022-11-03T08:01:09.607Z"
   },
   {
    "duration": 5,
    "start_time": "2022-11-03T08:01:15.322Z"
   },
   {
    "duration": 76,
    "start_time": "2022-11-03T08:01:16.134Z"
   },
   {
    "duration": 10,
    "start_time": "2022-11-03T08:01:17.184Z"
   },
   {
    "duration": 48,
    "start_time": "2022-11-03T08:01:18.002Z"
   },
   {
    "duration": 2143,
    "start_time": "2022-11-03T08:01:18.754Z"
   },
   {
    "duration": 628,
    "start_time": "2022-11-03T08:01:20.898Z"
   },
   {
    "duration": 11,
    "start_time": "2022-11-03T08:01:24.290Z"
   },
   {
    "duration": 11,
    "start_time": "2022-11-03T08:01:32.867Z"
   },
   {
    "duration": 189,
    "start_time": "2022-11-03T08:02:00.507Z"
   },
   {
    "duration": 59,
    "start_time": "2022-11-03T08:02:05.634Z"
   },
   {
    "duration": 11,
    "start_time": "2022-11-03T08:02:09.734Z"
   },
   {
    "duration": 69,
    "start_time": "2022-11-03T08:02:39.201Z"
   },
   {
    "duration": 12,
    "start_time": "2022-11-03T08:02:42.420Z"
   },
   {
    "duration": 14638,
    "start_time": "2022-11-03T08:12:34.322Z"
   },
   {
    "duration": 279,
    "start_time": "2022-11-03T08:13:20.105Z"
   },
   {
    "duration": 3,
    "start_time": "2022-11-03T08:13:46.248Z"
   },
   {
    "duration": 37,
    "start_time": "2022-11-03T08:13:56.855Z"
   },
   {
    "duration": 4,
    "start_time": "2022-11-03T08:14:11.040Z"
   },
   {
    "duration": 1955,
    "start_time": "2022-11-03T08:21:20.835Z"
   },
   {
    "duration": 1613,
    "start_time": "2022-11-03T08:21:22.793Z"
   },
   {
    "duration": 48,
    "start_time": "2022-11-03T08:21:24.407Z"
   },
   {
    "duration": 9,
    "start_time": "2022-11-03T08:21:24.456Z"
   },
   {
    "duration": 17,
    "start_time": "2022-11-03T08:21:24.466Z"
   },
   {
    "duration": 21,
    "start_time": "2022-11-03T08:21:24.484Z"
   },
   {
    "duration": 12,
    "start_time": "2022-11-03T08:21:24.506Z"
   },
   {
    "duration": 6,
    "start_time": "2022-11-03T08:21:24.519Z"
   },
   {
    "duration": 12,
    "start_time": "2022-11-03T08:21:24.526Z"
   },
   {
    "duration": 212,
    "start_time": "2022-11-03T08:21:24.540Z"
   },
   {
    "duration": 186,
    "start_time": "2022-11-03T08:21:24.754Z"
   },
   {
    "duration": 6,
    "start_time": "2022-11-03T08:21:24.942Z"
   },
   {
    "duration": 620,
    "start_time": "2022-11-03T08:21:24.949Z"
   },
   {
    "duration": 10,
    "start_time": "2022-11-03T08:21:25.571Z"
   },
   {
    "duration": 589,
    "start_time": "2022-11-03T08:21:25.583Z"
   },
   {
    "duration": 283,
    "start_time": "2022-11-03T08:21:26.174Z"
   },
   {
    "duration": 14,
    "start_time": "2022-11-03T08:21:26.458Z"
   },
   {
    "duration": 7,
    "start_time": "2022-11-03T08:21:26.473Z"
   },
   {
    "duration": 5,
    "start_time": "2022-11-03T08:21:26.481Z"
   },
   {
    "duration": 19,
    "start_time": "2022-11-03T08:21:26.487Z"
   },
   {
    "duration": 17,
    "start_time": "2022-11-03T08:21:26.507Z"
   },
   {
    "duration": 3,
    "start_time": "2022-11-03T08:21:26.525Z"
   },
   {
    "duration": 8,
    "start_time": "2022-11-03T08:21:26.529Z"
   },
   {
    "duration": 195,
    "start_time": "2022-11-03T08:21:26.538Z"
   },
   {
    "duration": 96,
    "start_time": "2022-11-03T08:21:26.735Z"
   },
   {
    "duration": 5467,
    "start_time": "2022-11-03T08:21:26.832Z"
   },
   {
    "duration": 3,
    "start_time": "2022-11-03T08:21:32.301Z"
   },
   {
    "duration": 2387,
    "start_time": "2022-11-03T08:21:32.306Z"
   },
   {
    "duration": 839,
    "start_time": "2022-11-03T08:21:34.694Z"
   },
   {
    "duration": 3,
    "start_time": "2022-11-03T08:21:35.535Z"
   },
   {
    "duration": 1953,
    "start_time": "2022-11-03T08:26:31.471Z"
   },
   {
    "duration": 1614,
    "start_time": "2022-11-03T08:26:33.427Z"
   },
   {
    "duration": 49,
    "start_time": "2022-11-03T08:26:35.042Z"
   },
   {
    "duration": 10,
    "start_time": "2022-11-03T08:26:35.093Z"
   },
   {
    "duration": 21,
    "start_time": "2022-11-03T08:26:35.105Z"
   },
   {
    "duration": 18,
    "start_time": "2022-11-03T08:26:35.127Z"
   },
   {
    "duration": 11,
    "start_time": "2022-11-03T08:26:35.147Z"
   },
   {
    "duration": 6,
    "start_time": "2022-11-03T08:26:35.160Z"
   },
   {
    "duration": 9,
    "start_time": "2022-11-03T08:26:35.168Z"
   },
   {
    "duration": 230,
    "start_time": "2022-11-03T08:26:35.178Z"
   },
   {
    "duration": 168,
    "start_time": "2022-11-03T08:26:35.410Z"
   },
   {
    "duration": 7,
    "start_time": "2022-11-03T08:26:35.580Z"
   },
   {
    "duration": 746,
    "start_time": "2022-11-03T08:26:35.589Z"
   },
   {
    "duration": 10,
    "start_time": "2022-11-03T08:26:36.340Z"
   },
   {
    "duration": 564,
    "start_time": "2022-11-03T08:26:36.352Z"
   },
   {
    "duration": 328,
    "start_time": "2022-11-03T08:26:36.918Z"
   },
   {
    "duration": 15,
    "start_time": "2022-11-03T08:26:37.248Z"
   },
   {
    "duration": 7,
    "start_time": "2022-11-03T08:26:37.265Z"
   },
   {
    "duration": 4,
    "start_time": "2022-11-03T08:26:37.274Z"
   },
   {
    "duration": 5,
    "start_time": "2022-11-03T08:26:37.280Z"
   },
   {
    "duration": 35,
    "start_time": "2022-11-03T08:26:37.287Z"
   },
   {
    "duration": 3,
    "start_time": "2022-11-03T08:26:37.323Z"
   },
   {
    "duration": 10,
    "start_time": "2022-11-03T08:26:37.328Z"
   },
   {
    "duration": 236,
    "start_time": "2022-11-03T08:26:37.340Z"
   },
   {
    "duration": 79,
    "start_time": "2022-11-03T08:26:37.577Z"
   },
   {
    "duration": 5787,
    "start_time": "2022-11-03T08:26:37.658Z"
   },
   {
    "duration": 3,
    "start_time": "2022-11-03T08:26:43.446Z"
   },
   {
    "duration": 2350,
    "start_time": "2022-11-03T08:26:43.450Z"
   },
   {
    "duration": 730,
    "start_time": "2022-11-03T08:26:45.801Z"
   },
   {
    "duration": 4,
    "start_time": "2022-11-03T08:26:46.533Z"
   },
   {
    "duration": 2111,
    "start_time": "2022-11-03T08:32:39.221Z"
   },
   {
    "duration": 1659,
    "start_time": "2022-11-03T08:32:41.334Z"
   },
   {
    "duration": 50,
    "start_time": "2022-11-03T08:32:42.995Z"
   },
   {
    "duration": 10,
    "start_time": "2022-11-03T08:32:43.047Z"
   },
   {
    "duration": 12,
    "start_time": "2022-11-03T08:32:43.058Z"
   },
   {
    "duration": 11,
    "start_time": "2022-11-03T08:32:43.071Z"
   },
   {
    "duration": 4,
    "start_time": "2022-11-03T08:32:43.083Z"
   },
   {
    "duration": 6,
    "start_time": "2022-11-03T08:32:43.088Z"
   },
   {
    "duration": 28,
    "start_time": "2022-11-03T08:32:43.096Z"
   },
   {
    "duration": 226,
    "start_time": "2022-11-03T08:32:43.127Z"
   },
   {
    "duration": 178,
    "start_time": "2022-11-03T08:32:43.355Z"
   },
   {
    "duration": 7,
    "start_time": "2022-11-03T08:32:43.535Z"
   },
   {
    "duration": 637,
    "start_time": "2022-11-03T08:32:43.544Z"
   },
   {
    "duration": 10,
    "start_time": "2022-11-03T08:32:44.183Z"
   },
   {
    "duration": 561,
    "start_time": "2022-11-03T08:32:44.195Z"
   },
   {
    "duration": 287,
    "start_time": "2022-11-03T08:32:44.758Z"
   },
   {
    "duration": 14,
    "start_time": "2022-11-03T08:32:45.047Z"
   },
   {
    "duration": 50,
    "start_time": "2022-11-03T08:32:45.062Z"
   },
   {
    "duration": 16,
    "start_time": "2022-11-03T08:32:45.113Z"
   },
   {
    "duration": 14,
    "start_time": "2022-11-03T08:32:45.130Z"
   },
   {
    "duration": 22,
    "start_time": "2022-11-03T08:32:45.146Z"
   },
   {
    "duration": 11,
    "start_time": "2022-11-03T08:32:45.169Z"
   },
   {
    "duration": 10,
    "start_time": "2022-11-03T08:32:45.181Z"
   },
   {
    "duration": 208,
    "start_time": "2022-11-03T08:32:45.192Z"
   },
   {
    "duration": 65,
    "start_time": "2022-11-03T08:32:45.401Z"
   },
   {
    "duration": 5500,
    "start_time": "2022-11-03T08:32:45.522Z"
   },
   {
    "duration": 4,
    "start_time": "2022-11-03T08:32:51.024Z"
   },
   {
    "duration": 2459,
    "start_time": "2022-11-03T08:32:51.031Z"
   },
   {
    "duration": 647,
    "start_time": "2022-11-03T08:32:53.492Z"
   },
   {
    "duration": 4,
    "start_time": "2022-11-03T08:32:54.140Z"
   },
   {
    "duration": 211,
    "start_time": "2022-11-03T08:32:54.221Z"
   },
   {
    "duration": 11,
    "start_time": "2022-11-03T08:32:54.433Z"
   },
   {
    "duration": 0,
    "start_time": "2022-11-03T08:32:54.446Z"
   },
   {
    "duration": 0,
    "start_time": "2022-11-03T08:32:54.447Z"
   },
   {
    "duration": 0,
    "start_time": "2022-11-03T08:32:54.448Z"
   },
   {
    "duration": 0,
    "start_time": "2022-11-03T08:32:54.449Z"
   },
   {
    "duration": 0,
    "start_time": "2022-11-03T08:32:54.450Z"
   },
   {
    "duration": 0,
    "start_time": "2022-11-03T08:32:54.451Z"
   },
   {
    "duration": 0,
    "start_time": "2022-11-03T08:32:54.452Z"
   },
   {
    "duration": 0,
    "start_time": "2022-11-03T08:32:54.452Z"
   },
   {
    "duration": 0,
    "start_time": "2022-11-03T08:32:54.453Z"
   },
   {
    "duration": 104,
    "start_time": "2022-11-03T08:33:33.492Z"
   },
   {
    "duration": 119,
    "start_time": "2022-11-03T08:33:52.803Z"
   },
   {
    "duration": 181,
    "start_time": "2022-11-03T08:35:14.228Z"
   },
   {
    "duration": 108,
    "start_time": "2022-11-03T08:35:21.395Z"
   },
   {
    "duration": 4,
    "start_time": "2022-11-03T08:38:42.817Z"
   },
   {
    "duration": 66,
    "start_time": "2022-11-03T08:38:44.668Z"
   },
   {
    "duration": 6,
    "start_time": "2022-11-03T08:38:45.136Z"
   },
   {
    "duration": 9,
    "start_time": "2022-11-03T08:38:45.298Z"
   },
   {
    "duration": 12,
    "start_time": "2022-11-03T08:38:45.441Z"
   },
   {
    "duration": 5,
    "start_time": "2022-11-03T08:38:45.595Z"
   },
   {
    "duration": 4,
    "start_time": "2022-11-03T08:38:45.761Z"
   },
   {
    "duration": 9,
    "start_time": "2022-11-03T08:38:46.223Z"
   },
   {
    "duration": 207,
    "start_time": "2022-11-03T08:38:47.035Z"
   },
   {
    "duration": 173,
    "start_time": "2022-11-03T08:38:47.585Z"
   },
   {
    "duration": 7,
    "start_time": "2022-11-03T08:38:47.891Z"
   },
   {
    "duration": 626,
    "start_time": "2022-11-03T08:38:48.067Z"
   },
   {
    "duration": 10,
    "start_time": "2022-11-03T08:38:48.695Z"
   },
   {
    "duration": 621,
    "start_time": "2022-11-03T08:38:48.707Z"
   },
   {
    "duration": 212,
    "start_time": "2022-11-03T08:38:49.331Z"
   },
   {
    "duration": 14,
    "start_time": "2022-11-03T08:38:49.545Z"
   },
   {
    "duration": 7,
    "start_time": "2022-11-03T08:38:49.609Z"
   },
   {
    "duration": 4,
    "start_time": "2022-11-03T08:38:51.257Z"
   },
   {
    "duration": 4,
    "start_time": "2022-11-03T08:38:51.449Z"
   },
   {
    "duration": 7,
    "start_time": "2022-11-03T08:38:51.784Z"
   },
   {
    "duration": 3,
    "start_time": "2022-11-03T08:38:52.283Z"
   },
   {
    "duration": 6,
    "start_time": "2022-11-03T08:38:52.621Z"
   },
   {
    "duration": 193,
    "start_time": "2022-11-03T08:38:53.261Z"
   },
   {
    "duration": 52,
    "start_time": "2022-11-03T08:38:54.088Z"
   },
   {
    "duration": 5685,
    "start_time": "2022-11-03T08:38:54.291Z"
   },
   {
    "duration": 3,
    "start_time": "2022-11-03T08:38:59.978Z"
   },
   {
    "duration": 2612,
    "start_time": "2022-11-03T08:38:59.983Z"
   },
   {
    "duration": 637,
    "start_time": "2022-11-03T08:39:02.597Z"
   },
   {
    "duration": 93,
    "start_time": "2022-11-03T08:39:03.236Z"
   },
   {
    "duration": 8,
    "start_time": "2022-11-03T08:39:03.331Z"
   },
   {
    "duration": 78,
    "start_time": "2022-11-03T08:39:03.340Z"
   },
   {
    "duration": 9,
    "start_time": "2022-11-03T08:39:03.422Z"
   },
   {
    "duration": 105,
    "start_time": "2022-11-03T08:39:03.432Z"
   },
   {
    "duration": 2261,
    "start_time": "2022-11-03T08:39:03.540Z"
   },
   {
    "duration": 730,
    "start_time": "2022-11-03T08:39:05.803Z"
   },
   {
    "duration": 10,
    "start_time": "2022-11-03T08:39:06.535Z"
   },
   {
    "duration": 3,
    "start_time": "2022-11-03T08:44:07.810Z"
   },
   {
    "duration": 3,
    "start_time": "2022-11-03T08:45:13.315Z"
   },
   {
    "duration": 80,
    "start_time": "2022-11-03T08:45:41.107Z"
   },
   {
    "duration": 93,
    "start_time": "2022-11-03T08:46:22.140Z"
   },
   {
    "duration": 1615,
    "start_time": "2022-11-03T08:47:16.740Z"
   },
   {
    "duration": 634,
    "start_time": "2022-11-03T08:47:36.813Z"
   },
   {
    "duration": 580,
    "start_time": "2022-11-03T08:47:55.983Z"
   },
   {
    "duration": 10,
    "start_time": "2022-11-03T08:48:01.509Z"
   },
   {
    "duration": 9,
    "start_time": "2022-11-03T08:48:09.924Z"
   },
   {
    "duration": 4,
    "start_time": "2022-11-03T08:48:13.261Z"
   },
   {
    "duration": 4,
    "start_time": "2022-11-03T08:48:47.821Z"
   },
   {
    "duration": 10,
    "start_time": "2022-11-03T08:49:02.382Z"
   },
   {
    "duration": 10,
    "start_time": "2022-11-03T08:49:43.781Z"
   },
   {
    "duration": 3799,
    "start_time": "2022-11-03T08:50:07.204Z"
   },
   {
    "duration": 4,
    "start_time": "2022-11-03T08:50:14.053Z"
   },
   {
    "duration": 3983,
    "start_time": "2022-11-03T08:50:41.639Z"
   },
   {
    "duration": 1555,
    "start_time": "2022-11-03T08:50:56.433Z"
   },
   {
    "duration": 2337,
    "start_time": "2022-11-03T08:51:01.777Z"
   },
   {
    "duration": 4,
    "start_time": "2022-11-03T08:51:10.407Z"
   },
   {
    "duration": 70,
    "start_time": "2022-11-03T08:53:21.103Z"
   },
   {
    "duration": 76,
    "start_time": "2022-11-03T08:53:35.105Z"
   },
   {
    "duration": 68,
    "start_time": "2022-11-03T08:53:48.702Z"
   },
   {
    "duration": 2875,
    "start_time": "2022-11-03T08:55:08.276Z"
   },
   {
    "duration": 3,
    "start_time": "2022-11-03T08:55:51.502Z"
   },
   {
    "duration": 11,
    "start_time": "2022-11-03T08:56:18.250Z"
   },
   {
    "duration": 4,
    "start_time": "2022-11-03T08:57:18.164Z"
   },
   {
    "duration": 1375,
    "start_time": "2022-11-03T08:57:22.834Z"
   },
   {
    "duration": 48,
    "start_time": "2022-11-03T08:57:24.211Z"
   },
   {
    "duration": 10,
    "start_time": "2022-11-03T08:57:24.260Z"
   },
   {
    "duration": 22,
    "start_time": "2022-11-03T08:57:24.273Z"
   },
   {
    "duration": 51,
    "start_time": "2022-11-03T08:57:24.296Z"
   },
   {
    "duration": 31,
    "start_time": "2022-11-03T08:57:24.349Z"
   },
   {
    "duration": 42,
    "start_time": "2022-11-03T08:57:24.381Z"
   },
   {
    "duration": 37,
    "start_time": "2022-11-03T08:57:24.424Z"
   },
   {
    "duration": 221,
    "start_time": "2022-11-03T08:57:24.462Z"
   },
   {
    "duration": 158,
    "start_time": "2022-11-03T08:57:24.685Z"
   },
   {
    "duration": 5,
    "start_time": "2022-11-03T08:57:24.845Z"
   },
   {
    "duration": 693,
    "start_time": "2022-11-03T08:57:24.851Z"
   },
   {
    "duration": 7,
    "start_time": "2022-11-03T08:57:25.546Z"
   },
   {
    "duration": 490,
    "start_time": "2022-11-03T08:57:25.554Z"
   },
   {
    "duration": 240,
    "start_time": "2022-11-03T08:57:26.046Z"
   },
   {
    "duration": 13,
    "start_time": "2022-11-03T08:57:26.288Z"
   },
   {
    "duration": 22,
    "start_time": "2022-11-03T08:57:26.302Z"
   },
   {
    "duration": 4,
    "start_time": "2022-11-03T08:57:26.325Z"
   },
   {
    "duration": 7,
    "start_time": "2022-11-03T08:57:26.330Z"
   },
   {
    "duration": 11,
    "start_time": "2022-11-03T08:57:26.338Z"
   },
   {
    "duration": 113,
    "start_time": "2022-11-03T08:57:26.350Z"
   },
   {
    "duration": 0,
    "start_time": "2022-11-03T08:57:26.465Z"
   },
   {
    "duration": 0,
    "start_time": "2022-11-03T08:57:26.466Z"
   },
   {
    "duration": 0,
    "start_time": "2022-11-03T08:57:26.467Z"
   },
   {
    "duration": 0,
    "start_time": "2022-11-03T08:57:26.468Z"
   },
   {
    "duration": 0,
    "start_time": "2022-11-03T08:57:26.469Z"
   },
   {
    "duration": 0,
    "start_time": "2022-11-03T08:57:26.470Z"
   },
   {
    "duration": 0,
    "start_time": "2022-11-03T08:57:26.471Z"
   },
   {
    "duration": 0,
    "start_time": "2022-11-03T08:57:26.472Z"
   },
   {
    "duration": 0,
    "start_time": "2022-11-03T08:57:26.472Z"
   },
   {
    "duration": 0,
    "start_time": "2022-11-03T08:57:26.473Z"
   },
   {
    "duration": 0,
    "start_time": "2022-11-03T08:57:26.474Z"
   },
   {
    "duration": 0,
    "start_time": "2022-11-03T08:57:26.475Z"
   },
   {
    "duration": 0,
    "start_time": "2022-11-03T08:57:26.476Z"
   },
   {
    "duration": 0,
    "start_time": "2022-11-03T08:57:26.477Z"
   },
   {
    "duration": 0,
    "start_time": "2022-11-03T08:57:26.478Z"
   },
   {
    "duration": 0,
    "start_time": "2022-11-03T08:57:26.479Z"
   },
   {
    "duration": 0,
    "start_time": "2022-11-03T08:57:26.480Z"
   },
   {
    "duration": 0,
    "start_time": "2022-11-03T08:57:26.481Z"
   },
   {
    "duration": 0,
    "start_time": "2022-11-03T08:57:26.482Z"
   },
   {
    "duration": 4,
    "start_time": "2022-11-03T08:58:07.750Z"
   },
   {
    "duration": 1406,
    "start_time": "2022-11-03T08:58:11.729Z"
   },
   {
    "duration": 47,
    "start_time": "2022-11-03T08:58:13.137Z"
   },
   {
    "duration": 9,
    "start_time": "2022-11-03T08:58:13.186Z"
   },
   {
    "duration": 13,
    "start_time": "2022-11-03T08:58:13.196Z"
   },
   {
    "duration": 10,
    "start_time": "2022-11-03T08:58:13.210Z"
   },
   {
    "duration": 4,
    "start_time": "2022-11-03T08:58:13.222Z"
   },
   {
    "duration": 7,
    "start_time": "2022-11-03T08:58:13.227Z"
   },
   {
    "duration": 9,
    "start_time": "2022-11-03T08:58:13.235Z"
   },
   {
    "duration": 242,
    "start_time": "2022-11-03T08:58:13.246Z"
   },
   {
    "duration": 169,
    "start_time": "2022-11-03T08:58:13.490Z"
   },
   {
    "duration": 6,
    "start_time": "2022-11-03T08:58:13.661Z"
   },
   {
    "duration": 694,
    "start_time": "2022-11-03T08:58:13.669Z"
   },
   {
    "duration": 9,
    "start_time": "2022-11-03T08:58:14.364Z"
   },
   {
    "duration": 558,
    "start_time": "2022-11-03T08:58:14.374Z"
   },
   {
    "duration": 190,
    "start_time": "2022-11-03T08:58:14.934Z"
   },
   {
    "duration": 14,
    "start_time": "2022-11-03T08:58:15.126Z"
   },
   {
    "duration": 7,
    "start_time": "2022-11-03T08:58:15.142Z"
   },
   {
    "duration": 5,
    "start_time": "2022-11-03T08:58:15.151Z"
   },
   {
    "duration": 10,
    "start_time": "2022-11-03T08:58:15.157Z"
   },
   {
    "duration": 10,
    "start_time": "2022-11-03T08:58:15.168Z"
   },
   {
    "duration": 8,
    "start_time": "2022-11-03T08:58:15.179Z"
   },
   {
    "duration": 8,
    "start_time": "2022-11-03T08:58:15.188Z"
   },
   {
    "duration": 215,
    "start_time": "2022-11-03T08:58:15.197Z"
   },
   {
    "duration": 52,
    "start_time": "2022-11-03T08:58:15.413Z"
   },
   {
    "duration": 5391,
    "start_time": "2022-11-03T08:58:15.466Z"
   },
   {
    "duration": 3,
    "start_time": "2022-11-03T08:58:20.858Z"
   },
   {
    "duration": 5,
    "start_time": "2022-11-03T08:58:20.862Z"
   },
   {
    "duration": 1562,
    "start_time": "2022-11-03T08:58:20.870Z"
   },
   {
    "duration": 2445,
    "start_time": "2022-11-03T08:58:22.433Z"
   },
   {
    "duration": 4,
    "start_time": "2022-11-03T08:58:24.881Z"
   },
   {
    "duration": 944,
    "start_time": "2022-11-03T08:58:24.887Z"
   },
   {
    "duration": 10,
    "start_time": "2022-11-03T08:58:25.833Z"
   },
   {
    "duration": 13,
    "start_time": "2022-11-03T08:58:25.844Z"
   },
   {
    "duration": 123,
    "start_time": "2022-11-03T08:58:25.858Z"
   },
   {
    "duration": 10,
    "start_time": "2022-11-03T08:58:25.983Z"
   },
   {
    "duration": 129,
    "start_time": "2022-11-03T08:58:25.995Z"
   },
   {
    "duration": 2166,
    "start_time": "2022-11-03T08:58:26.126Z"
   },
   {
    "duration": 2157,
    "start_time": "2022-11-03T08:58:28.294Z"
   },
   {
    "duration": 780,
    "start_time": "2022-11-03T08:58:30.452Z"
   },
   {
    "duration": 10,
    "start_time": "2022-11-03T08:58:31.233Z"
   },
   {
    "duration": 2157,
    "start_time": "2022-11-03T08:59:33.781Z"
   },
   {
    "duration": 9,
    "start_time": "2022-11-03T08:59:40.943Z"
   },
   {
    "duration": 2293,
    "start_time": "2022-11-03T09:00:09.077Z"
   },
   {
    "duration": 1516,
    "start_time": "2022-11-03T09:00:17.333Z"
   },
   {
    "duration": 49,
    "start_time": "2022-11-03T09:00:18.850Z"
   },
   {
    "duration": 10,
    "start_time": "2022-11-03T09:00:18.900Z"
   },
   {
    "duration": 14,
    "start_time": "2022-11-03T09:00:18.912Z"
   },
   {
    "duration": 16,
    "start_time": "2022-11-03T09:00:18.928Z"
   },
   {
    "duration": 6,
    "start_time": "2022-11-03T09:00:18.945Z"
   },
   {
    "duration": 7,
    "start_time": "2022-11-03T09:00:18.952Z"
   },
   {
    "duration": 9,
    "start_time": "2022-11-03T09:00:18.961Z"
   },
   {
    "duration": 214,
    "start_time": "2022-11-03T09:00:18.972Z"
   },
   {
    "duration": 159,
    "start_time": "2022-11-03T09:00:19.189Z"
   },
   {
    "duration": 6,
    "start_time": "2022-11-03T09:00:19.350Z"
   },
   {
    "duration": 696,
    "start_time": "2022-11-03T09:00:19.358Z"
   },
   {
    "duration": 9,
    "start_time": "2022-11-03T09:00:20.055Z"
   },
   {
    "duration": 495,
    "start_time": "2022-11-03T09:00:20.065Z"
   },
   {
    "duration": 193,
    "start_time": "2022-11-03T09:00:20.562Z"
   },
   {
    "duration": 12,
    "start_time": "2022-11-03T09:00:20.757Z"
   },
   {
    "duration": 7,
    "start_time": "2022-11-03T09:00:20.771Z"
   },
   {
    "duration": 4,
    "start_time": "2022-11-03T09:00:20.779Z"
   },
   {
    "duration": 6,
    "start_time": "2022-11-03T09:00:20.785Z"
   },
   {
    "duration": 8,
    "start_time": "2022-11-03T09:00:20.792Z"
   },
   {
    "duration": 3,
    "start_time": "2022-11-03T09:00:20.822Z"
   },
   {
    "duration": 15,
    "start_time": "2022-11-03T09:00:20.826Z"
   },
   {
    "duration": 213,
    "start_time": "2022-11-03T09:00:20.842Z"
   },
   {
    "duration": 84,
    "start_time": "2022-11-03T09:00:21.056Z"
   },
   {
    "duration": 5358,
    "start_time": "2022-11-03T09:00:21.142Z"
   },
   {
    "duration": 3,
    "start_time": "2022-11-03T09:00:26.501Z"
   },
   {
    "duration": 5,
    "start_time": "2022-11-03T09:00:26.506Z"
   },
   {
    "duration": 1677,
    "start_time": "2022-11-03T09:00:26.521Z"
   },
   {
    "duration": 2330,
    "start_time": "2022-11-03T09:00:28.200Z"
   },
   {
    "duration": 3,
    "start_time": "2022-11-03T09:00:30.532Z"
   },
   {
    "duration": 993,
    "start_time": "2022-11-03T09:00:30.537Z"
   },
   {
    "duration": 9,
    "start_time": "2022-11-03T09:00:31.532Z"
   },
   {
    "duration": 283,
    "start_time": "2022-11-03T09:00:31.542Z"
   },
   {
    "duration": 85,
    "start_time": "2022-11-03T09:00:31.827Z"
   },
   {
    "duration": 8,
    "start_time": "2022-11-03T09:00:31.913Z"
   },
   {
    "duration": 100,
    "start_time": "2022-11-03T09:00:31.923Z"
   },
   {
    "duration": 2253,
    "start_time": "2022-11-03T09:00:32.025Z"
   },
   {
    "duration": 2289,
    "start_time": "2022-11-03T09:00:34.280Z"
   },
   {
    "duration": 760,
    "start_time": "2022-11-03T09:00:36.571Z"
   },
   {
    "duration": 10,
    "start_time": "2022-11-03T09:00:37.333Z"
   },
   {
    "duration": 10,
    "start_time": "2022-11-03T09:05:19.235Z"
   },
   {
    "duration": 10,
    "start_time": "2022-11-03T09:05:26.380Z"
   },
   {
    "duration": 9,
    "start_time": "2022-11-03T09:05:47.207Z"
   },
   {
    "duration": 17,
    "start_time": "2022-11-03T09:06:17.417Z"
   },
   {
    "duration": 9,
    "start_time": "2022-11-03T09:06:22.440Z"
   },
   {
    "duration": 1338,
    "start_time": "2022-11-03T09:06:31.561Z"
   },
   {
    "duration": 48,
    "start_time": "2022-11-03T09:06:32.901Z"
   },
   {
    "duration": 8,
    "start_time": "2022-11-03T09:06:32.951Z"
   },
   {
    "duration": 45,
    "start_time": "2022-11-03T09:06:32.961Z"
   },
   {
    "duration": 10,
    "start_time": "2022-11-03T09:06:33.008Z"
   },
   {
    "duration": 4,
    "start_time": "2022-11-03T09:06:33.020Z"
   },
   {
    "duration": 7,
    "start_time": "2022-11-03T09:06:33.025Z"
   },
   {
    "duration": 10,
    "start_time": "2022-11-03T09:06:33.034Z"
   },
   {
    "duration": 214,
    "start_time": "2022-11-03T09:06:33.046Z"
   },
   {
    "duration": 177,
    "start_time": "2022-11-03T09:06:33.261Z"
   },
   {
    "duration": 6,
    "start_time": "2022-11-03T09:06:33.440Z"
   },
   {
    "duration": 721,
    "start_time": "2022-11-03T09:06:33.448Z"
   },
   {
    "duration": 10,
    "start_time": "2022-11-03T09:06:34.170Z"
   },
   {
    "duration": 553,
    "start_time": "2022-11-03T09:06:34.183Z"
   },
   {
    "duration": 196,
    "start_time": "2022-11-03T09:06:34.738Z"
   },
   {
    "duration": 13,
    "start_time": "2022-11-03T09:06:34.936Z"
   },
   {
    "duration": 7,
    "start_time": "2022-11-03T09:06:34.951Z"
   },
   {
    "duration": 7,
    "start_time": "2022-11-03T09:06:34.959Z"
   },
   {
    "duration": 7,
    "start_time": "2022-11-03T09:06:34.967Z"
   },
   {
    "duration": 9,
    "start_time": "2022-11-03T09:06:34.975Z"
   },
   {
    "duration": 7,
    "start_time": "2022-11-03T09:06:34.985Z"
   },
   {
    "duration": 7,
    "start_time": "2022-11-03T09:06:34.994Z"
   },
   {
    "duration": 207,
    "start_time": "2022-11-03T09:06:35.002Z"
   },
   {
    "duration": 55,
    "start_time": "2022-11-03T09:06:35.211Z"
   },
   {
    "duration": 5782,
    "start_time": "2022-11-03T09:06:35.267Z"
   },
   {
    "duration": 4,
    "start_time": "2022-11-03T09:06:41.050Z"
   },
   {
    "duration": 34,
    "start_time": "2022-11-03T09:06:41.055Z"
   },
   {
    "duration": 1993,
    "start_time": "2022-11-03T09:06:41.091Z"
   },
   {
    "duration": 2341,
    "start_time": "2022-11-03T09:06:43.086Z"
   },
   {
    "duration": 3,
    "start_time": "2022-11-03T09:06:45.428Z"
   },
   {
    "duration": 698,
    "start_time": "2022-11-03T09:06:45.433Z"
   },
   {
    "duration": 11,
    "start_time": "2022-11-03T09:06:46.132Z"
   },
   {
    "duration": 14,
    "start_time": "2022-11-03T09:06:46.145Z"
   },
   {
    "duration": 104,
    "start_time": "2022-11-03T09:06:46.161Z"
   },
   {
    "duration": 8,
    "start_time": "2022-11-03T09:06:46.267Z"
   },
   {
    "duration": 70,
    "start_time": "2022-11-03T09:06:46.277Z"
   },
   {
    "duration": 2153,
    "start_time": "2022-11-03T09:06:46.349Z"
   },
   {
    "duration": 2138,
    "start_time": "2022-11-03T09:06:48.504Z"
   },
   {
    "duration": 785,
    "start_time": "2022-11-03T09:06:50.644Z"
   },
   {
    "duration": 11,
    "start_time": "2022-11-03T09:06:51.431Z"
   },
   {
    "duration": 46,
    "start_time": "2022-11-03T16:20:25.363Z"
   },
   {
    "duration": 1636,
    "start_time": "2022-11-03T16:20:30.520Z"
   },
   {
    "duration": 277,
    "start_time": "2022-11-03T16:20:32.158Z"
   },
   {
    "duration": 9,
    "start_time": "2022-11-03T16:20:33.063Z"
   },
   {
    "duration": 11,
    "start_time": "2022-11-03T16:20:33.818Z"
   },
   {
    "duration": 41,
    "start_time": "2022-11-04T03:42:32.563Z"
   },
   {
    "duration": 1328,
    "start_time": "2022-11-04T03:42:36.673Z"
   },
   {
    "duration": 47,
    "start_time": "2022-11-04T03:42:38.002Z"
   },
   {
    "duration": 10,
    "start_time": "2022-11-04T03:42:38.995Z"
   },
   {
    "duration": 3,
    "start_time": "2022-11-04T03:42:39.910Z"
   },
   {
    "duration": 9,
    "start_time": "2022-11-04T03:42:41.821Z"
   },
   {
    "duration": 12,
    "start_time": "2022-11-04T03:43:38.996Z"
   },
   {
    "duration": 4,
    "start_time": "2022-11-04T03:43:39.559Z"
   },
   {
    "duration": 5,
    "start_time": "2022-11-04T03:43:40.156Z"
   },
   {
    "duration": 8,
    "start_time": "2022-11-04T03:43:41.416Z"
   },
   {
    "duration": 4,
    "start_time": "2022-11-04T03:44:06.564Z"
   },
   {
    "duration": 215,
    "start_time": "2022-11-04T03:47:40.513Z"
   },
   {
    "duration": 148,
    "start_time": "2022-11-04T03:47:44.368Z"
   },
   {
    "duration": 162,
    "start_time": "2022-11-04T03:49:02.176Z"
   },
   {
    "duration": 6,
    "start_time": "2022-11-04T03:49:04.729Z"
   },
   {
    "duration": 518,
    "start_time": "2022-11-04T03:49:06.954Z"
   },
   {
    "duration": 641,
    "start_time": "2022-11-04T03:50:05.586Z"
   },
   {
    "duration": 689,
    "start_time": "2022-11-04T03:50:19.573Z"
   },
   {
    "duration": 627,
    "start_time": "2022-11-04T03:50:42.577Z"
   },
   {
    "duration": 581,
    "start_time": "2022-11-04T03:50:51.467Z"
   },
   {
    "duration": 705,
    "start_time": "2022-11-04T03:53:49.960Z"
   },
   {
    "duration": 582,
    "start_time": "2022-11-04T03:54:21.273Z"
   },
   {
    "duration": 751,
    "start_time": "2022-11-04T03:54:32.324Z"
   },
   {
    "duration": 167,
    "start_time": "2022-11-04T03:54:56.857Z"
   },
   {
    "duration": 188,
    "start_time": "2022-11-04T03:55:07.582Z"
   },
   {
    "duration": 157,
    "start_time": "2022-11-04T03:55:16.329Z"
   },
   {
    "duration": 128,
    "start_time": "2022-11-04T03:55:42.226Z"
   },
   {
    "duration": 163,
    "start_time": "2022-11-04T03:55:59.974Z"
   },
   {
    "duration": 164,
    "start_time": "2022-11-04T03:56:10.602Z"
   },
   {
    "duration": 169,
    "start_time": "2022-11-04T03:56:29.477Z"
   },
   {
    "duration": 301,
    "start_time": "2022-11-04T03:56:54.142Z"
   },
   {
    "duration": 794,
    "start_time": "2022-11-04T03:58:05.659Z"
   },
   {
    "duration": 563,
    "start_time": "2022-11-04T03:58:34.453Z"
   },
   {
    "duration": 556,
    "start_time": "2022-11-04T03:59:33.115Z"
   },
   {
    "duration": 552,
    "start_time": "2022-11-04T04:00:05.067Z"
   },
   {
    "duration": 624,
    "start_time": "2022-11-04T04:02:26.207Z"
   },
   {
    "duration": 8,
    "start_time": "2022-11-04T04:02:44.096Z"
   },
   {
    "duration": 587,
    "start_time": "2022-11-04T04:02:44.843Z"
   },
   {
    "duration": 8,
    "start_time": "2022-11-04T04:03:22.329Z"
   },
   {
    "duration": 351,
    "start_time": "2022-11-04T04:03:22.712Z"
   },
   {
    "duration": 559,
    "start_time": "2022-11-04T04:04:16.352Z"
   },
   {
    "duration": 8,
    "start_time": "2022-11-04T04:04:39.661Z"
   },
   {
    "duration": 389,
    "start_time": "2022-11-04T04:04:40.403Z"
   },
   {
    "duration": 452,
    "start_time": "2022-11-04T04:05:18.266Z"
   },
   {
    "duration": 513,
    "start_time": "2022-11-04T04:05:41.494Z"
   },
   {
    "duration": 185,
    "start_time": "2022-11-04T04:07:09.826Z"
   },
   {
    "duration": 233,
    "start_time": "2022-11-04T04:08:01.156Z"
   },
   {
    "duration": 7,
    "start_time": "2022-11-04T04:08:09.879Z"
   },
   {
    "duration": 255,
    "start_time": "2022-11-04T04:08:14.231Z"
   },
   {
    "duration": 246,
    "start_time": "2022-11-04T04:10:13.741Z"
   },
   {
    "duration": 1348,
    "start_time": "2022-11-04T04:10:26.349Z"
   },
   {
    "duration": 49,
    "start_time": "2022-11-04T04:10:27.699Z"
   },
   {
    "duration": 9,
    "start_time": "2022-11-04T04:10:27.750Z"
   },
   {
    "duration": 23,
    "start_time": "2022-11-04T04:10:27.760Z"
   },
   {
    "duration": 19,
    "start_time": "2022-11-04T04:10:27.784Z"
   },
   {
    "duration": 11,
    "start_time": "2022-11-04T04:10:27.876Z"
   },
   {
    "duration": 4,
    "start_time": "2022-11-04T04:10:28.052Z"
   },
   {
    "duration": 4,
    "start_time": "2022-11-04T04:10:28.177Z"
   },
   {
    "duration": 7,
    "start_time": "2022-11-04T04:10:28.321Z"
   },
   {
    "duration": 3,
    "start_time": "2022-11-04T04:10:28.458Z"
   },
   {
    "duration": 205,
    "start_time": "2022-11-04T04:10:29.585Z"
   },
   {
    "duration": 154,
    "start_time": "2022-11-04T04:10:31.153Z"
   },
   {
    "duration": 7,
    "start_time": "2022-11-04T04:10:32.033Z"
   },
   {
    "duration": 181,
    "start_time": "2022-11-04T04:10:32.225Z"
   },
   {
    "duration": 6,
    "start_time": "2022-11-04T04:10:40.425Z"
   },
   {
    "duration": 153,
    "start_time": "2022-11-04T04:10:43.038Z"
   },
   {
    "duration": 1325,
    "start_time": "2022-11-04T04:11:00.962Z"
   },
   {
    "duration": 48,
    "start_time": "2022-11-04T04:11:02.439Z"
   },
   {
    "duration": 9,
    "start_time": "2022-11-04T04:11:03.555Z"
   },
   {
    "duration": 3,
    "start_time": "2022-11-04T04:11:04.143Z"
   },
   {
    "duration": 10,
    "start_time": "2022-11-04T04:11:04.863Z"
   },
   {
    "duration": 11,
    "start_time": "2022-11-04T04:11:06.739Z"
   },
   {
    "duration": 5,
    "start_time": "2022-11-04T04:11:07.364Z"
   },
   {
    "duration": 5,
    "start_time": "2022-11-04T04:11:07.944Z"
   },
   {
    "duration": 8,
    "start_time": "2022-11-04T04:11:08.433Z"
   },
   {
    "duration": 4,
    "start_time": "2022-11-04T04:11:08.973Z"
   },
   {
    "duration": 202,
    "start_time": "2022-11-04T04:11:14.516Z"
   },
   {
    "duration": 151,
    "start_time": "2022-11-04T04:11:19.068Z"
   },
   {
    "duration": 6,
    "start_time": "2022-11-04T04:11:21.252Z"
   },
   {
    "duration": 176,
    "start_time": "2022-11-04T04:11:22.480Z"
   },
   {
    "duration": 627,
    "start_time": "2022-11-04T04:11:35.073Z"
   },
   {
    "duration": 8,
    "start_time": "2022-11-04T04:11:40.541Z"
   },
   {
    "duration": 518,
    "start_time": "2022-11-04T04:11:41.093Z"
   },
   {
    "duration": 203,
    "start_time": "2022-11-04T04:11:56.937Z"
   },
   {
    "duration": 5,
    "start_time": "2022-11-04T04:12:09.377Z"
   },
   {
    "duration": 240,
    "start_time": "2022-11-04T04:12:10.191Z"
   },
   {
    "duration": 14,
    "start_time": "2022-11-04T04:16:32.974Z"
   },
   {
    "duration": 24,
    "start_time": "2022-11-04T04:17:03.297Z"
   },
   {
    "duration": 17,
    "start_time": "2022-11-04T04:18:04.534Z"
   },
   {
    "duration": 9,
    "start_time": "2022-11-04T04:18:48.701Z"
   },
   {
    "duration": 4,
    "start_time": "2022-11-04T04:18:51.997Z"
   },
   {
    "duration": 3,
    "start_time": "2022-11-04T04:18:54.445Z"
   },
   {
    "duration": 7,
    "start_time": "2022-11-04T04:18:55.574Z"
   },
   {
    "duration": 3,
    "start_time": "2022-11-04T04:18:58.076Z"
   },
   {
    "duration": 6,
    "start_time": "2022-11-04T04:18:59.342Z"
   },
   {
    "duration": 9,
    "start_time": "2022-11-04T04:20:31.976Z"
   },
   {
    "duration": 9,
    "start_time": "2022-11-04T04:21:05.839Z"
   },
   {
    "duration": 4,
    "start_time": "2022-11-04T04:22:00.267Z"
   },
   {
    "duration": 3,
    "start_time": "2022-11-04T04:22:08.881Z"
   },
   {
    "duration": 3,
    "start_time": "2022-11-04T04:22:12.800Z"
   },
   {
    "duration": 5,
    "start_time": "2022-11-04T04:22:22.310Z"
   },
   {
    "duration": 176,
    "start_time": "2022-11-04T04:22:28.561Z"
   },
   {
    "duration": 1095,
    "start_time": "2022-11-04T04:22:39.516Z"
   },
   {
    "duration": 16459,
    "start_time": "2022-11-04T04:22:54.786Z"
   },
   {
    "duration": 3,
    "start_time": "2022-11-04T04:23:28.133Z"
   },
   {
    "duration": 3,
    "start_time": "2022-11-04T04:23:30.600Z"
   },
   {
    "duration": 1999,
    "start_time": "2022-11-04T04:23:35.932Z"
   },
   {
    "duration": 40,
    "start_time": "2022-11-04T04:24:31.188Z"
   },
   {
    "duration": 1877,
    "start_time": "2022-11-04T04:24:44.225Z"
   },
   {
    "duration": 1003,
    "start_time": "2022-11-04T04:24:58.602Z"
   },
   {
    "duration": 10,
    "start_time": "2022-11-04T04:24:59.607Z"
   },
   {
    "duration": 9,
    "start_time": "2022-11-04T04:26:50.156Z"
   },
   {
    "duration": 10,
    "start_time": "2022-11-04T04:27:00.127Z"
   },
   {
    "duration": 1321,
    "start_time": "2022-11-04T04:30:17.465Z"
   },
   {
    "duration": 47,
    "start_time": "2022-11-04T04:30:18.788Z"
   },
   {
    "duration": 9,
    "start_time": "2022-11-04T04:30:18.836Z"
   },
   {
    "duration": 6,
    "start_time": "2022-11-04T04:30:18.847Z"
   },
   {
    "duration": 13,
    "start_time": "2022-11-04T04:30:18.854Z"
   },
   {
    "duration": 11,
    "start_time": "2022-11-04T04:30:18.868Z"
   },
   {
    "duration": 4,
    "start_time": "2022-11-04T04:30:18.880Z"
   },
   {
    "duration": 11,
    "start_time": "2022-11-04T04:30:18.885Z"
   },
   {
    "duration": 14,
    "start_time": "2022-11-04T04:30:18.897Z"
   },
   {
    "duration": 3,
    "start_time": "2022-11-04T04:30:18.913Z"
   },
   {
    "duration": 217,
    "start_time": "2022-11-04T04:30:18.918Z"
   },
   {
    "duration": 160,
    "start_time": "2022-11-04T04:30:19.136Z"
   },
   {
    "duration": 11,
    "start_time": "2022-11-04T04:30:19.297Z"
   },
   {
    "duration": 616,
    "start_time": "2022-11-04T04:30:19.309Z"
   },
   {
    "duration": 10,
    "start_time": "2022-11-04T04:30:19.926Z"
   },
   {
    "duration": 474,
    "start_time": "2022-11-04T04:30:19.937Z"
   },
   {
    "duration": 211,
    "start_time": "2022-11-04T04:30:20.413Z"
   },
   {
    "duration": 5,
    "start_time": "2022-11-04T04:30:20.626Z"
   },
   {
    "duration": 240,
    "start_time": "2022-11-04T04:30:20.632Z"
   },
   {
    "duration": 19,
    "start_time": "2022-11-04T04:30:20.873Z"
   },
   {
    "duration": 7,
    "start_time": "2022-11-04T04:30:20.905Z"
   },
   {
    "duration": 4,
    "start_time": "2022-11-04T04:30:20.913Z"
   },
   {
    "duration": 4,
    "start_time": "2022-11-04T04:30:20.919Z"
   },
   {
    "duration": 10,
    "start_time": "2022-11-04T04:30:20.924Z"
   },
   {
    "duration": 5,
    "start_time": "2022-11-04T04:30:20.935Z"
   },
   {
    "duration": 4,
    "start_time": "2022-11-04T04:30:20.942Z"
   },
   {
    "duration": 7,
    "start_time": "2022-11-04T04:30:20.947Z"
   },
   {
    "duration": 125,
    "start_time": "2022-11-04T04:30:20.957Z"
   },
   {
    "duration": 128,
    "start_time": "2022-11-04T04:30:21.083Z"
   },
   {
    "duration": 11114,
    "start_time": "2022-11-04T04:30:21.212Z"
   },
   {
    "duration": 3,
    "start_time": "2022-11-04T04:30:32.327Z"
   },
   {
    "duration": 8,
    "start_time": "2022-11-04T04:30:32.331Z"
   },
   {
    "duration": 179,
    "start_time": "2022-11-04T04:30:32.340Z"
   },
   {
    "duration": 3737,
    "start_time": "2022-11-04T04:30:32.520Z"
   },
   {
    "duration": 7,
    "start_time": "2022-11-04T04:30:36.259Z"
   },
   {
    "duration": 844,
    "start_time": "2022-11-04T04:30:36.268Z"
   },
   {
    "duration": 9,
    "start_time": "2022-11-04T04:30:37.114Z"
   },
   {
    "duration": 6,
    "start_time": "2022-11-04T04:30:37.124Z"
   },
   {
    "duration": 148,
    "start_time": "2022-11-04T04:30:37.132Z"
   },
   {
    "duration": 10,
    "start_time": "2022-11-04T04:30:37.282Z"
   },
   {
    "duration": 157,
    "start_time": "2022-11-04T04:30:37.305Z"
   },
   {
    "duration": 3602,
    "start_time": "2022-11-04T04:30:37.463Z"
   },
   {
    "duration": 3608,
    "start_time": "2022-11-04T04:30:41.066Z"
   },
   {
    "duration": 731,
    "start_time": "2022-11-04T04:30:44.676Z"
   },
   {
    "duration": 10,
    "start_time": "2022-11-04T04:30:45.408Z"
   },
   {
    "duration": 14834,
    "start_time": "2022-11-04T04:32:17.083Z"
   },
   {
    "duration": 12,
    "start_time": "2022-11-04T04:33:14.158Z"
   },
   {
    "duration": 8,
    "start_time": "2022-11-04T04:33:25.999Z"
   },
   {
    "duration": 4,
    "start_time": "2022-11-04T04:33:43.907Z"
   },
   {
    "duration": 648,
    "start_time": "2022-11-04T04:34:01.174Z"
   },
   {
    "duration": 9,
    "start_time": "2022-11-04T04:34:02.543Z"
   },
   {
    "duration": 9,
    "start_time": "2022-11-04T04:34:13.176Z"
   },
   {
    "duration": 8,
    "start_time": "2022-11-04T04:34:42.400Z"
   },
   {
    "duration": 118,
    "start_time": "2022-11-04T04:35:00.274Z"
   },
   {
    "duration": 34,
    "start_time": "2022-11-04T04:35:10.499Z"
   },
   {
    "duration": 10,
    "start_time": "2022-11-04T04:35:14.897Z"
   },
   {
    "duration": 72,
    "start_time": "2022-11-04T04:35:21.225Z"
   },
   {
    "duration": 1073,
    "start_time": "2022-11-04T04:35:58.919Z"
   },
   {
    "duration": 904,
    "start_time": "2022-11-04T04:36:19.968Z"
   },
   {
    "duration": 3530,
    "start_time": "2022-11-04T04:36:31.434Z"
   },
   {
    "duration": 677,
    "start_time": "2022-11-04T04:36:40.237Z"
   },
   {
    "duration": 9,
    "start_time": "2022-11-04T04:36:40.916Z"
   },
   {
    "duration": 9,
    "start_time": "2022-11-04T05:02:50.846Z"
   },
   {
    "duration": 25,
    "start_time": "2022-11-04T05:11:52.552Z"
   },
   {
    "duration": 6,
    "start_time": "2022-11-04T05:13:04.943Z"
   },
   {
    "duration": 3,
    "start_time": "2022-11-04T05:13:08.425Z"
   },
   {
    "duration": 3,
    "start_time": "2022-11-04T05:13:08.946Z"
   },
   {
    "duration": 5,
    "start_time": "2022-11-04T05:13:09.141Z"
   },
   {
    "duration": 104,
    "start_time": "2022-11-04T05:13:09.477Z"
   },
   {
    "duration": 102,
    "start_time": "2022-11-04T05:13:11.108Z"
   },
   {
    "duration": 10990,
    "start_time": "2022-11-04T05:13:11.618Z"
   },
   {
    "duration": 4,
    "start_time": "2022-11-04T05:13:22.610Z"
   },
   {
    "duration": 15113,
    "start_time": "2022-11-04T05:13:22.615Z"
   },
   {
    "duration": 3,
    "start_time": "2022-11-04T05:13:37.730Z"
   },
   {
    "duration": 871,
    "start_time": "2022-11-04T05:13:37.734Z"
   },
   {
    "duration": 731,
    "start_time": "2022-11-04T05:14:19.575Z"
   },
   {
    "duration": 756,
    "start_time": "2022-11-04T05:14:30.940Z"
   },
   {
    "duration": 769,
    "start_time": "2022-11-04T05:14:35.346Z"
   },
   {
    "duration": 6,
    "start_time": "2022-11-04T05:18:15.056Z"
   },
   {
    "duration": 5,
    "start_time": "2022-11-04T05:18:18.926Z"
   },
   {
    "duration": 6,
    "start_time": "2022-11-04T05:18:20.086Z"
   },
   {
    "duration": 6,
    "start_time": "2022-11-04T05:18:35.512Z"
   },
   {
    "duration": 5,
    "start_time": "2022-11-04T05:18:38.821Z"
   },
   {
    "duration": 5,
    "start_time": "2022-11-04T05:18:39.740Z"
   },
   {
    "duration": 6,
    "start_time": "2022-11-04T05:18:58.001Z"
   },
   {
    "duration": 5,
    "start_time": "2022-11-04T05:18:59.625Z"
   },
   {
    "duration": 6,
    "start_time": "2022-11-04T05:19:00.453Z"
   },
   {
    "duration": 1375,
    "start_time": "2022-11-04T05:19:47.321Z"
   },
   {
    "duration": 49,
    "start_time": "2022-11-04T05:19:48.698Z"
   },
   {
    "duration": 10,
    "start_time": "2022-11-04T05:19:48.749Z"
   },
   {
    "duration": 4,
    "start_time": "2022-11-04T05:19:48.761Z"
   },
   {
    "duration": 11,
    "start_time": "2022-11-04T05:19:48.767Z"
   },
   {
    "duration": 11,
    "start_time": "2022-11-04T05:19:48.780Z"
   },
   {
    "duration": 4,
    "start_time": "2022-11-04T05:19:48.793Z"
   },
   {
    "duration": 5,
    "start_time": "2022-11-04T05:19:48.805Z"
   },
   {
    "duration": 9,
    "start_time": "2022-11-04T05:19:48.811Z"
   },
   {
    "duration": 3,
    "start_time": "2022-11-04T05:19:48.823Z"
   },
   {
    "duration": 220,
    "start_time": "2022-11-04T05:19:48.828Z"
   },
   {
    "duration": 170,
    "start_time": "2022-11-04T05:19:49.050Z"
   },
   {
    "duration": 8,
    "start_time": "2022-11-04T05:19:49.222Z"
   },
   {
    "duration": 608,
    "start_time": "2022-11-04T05:19:49.231Z"
   },
   {
    "duration": 9,
    "start_time": "2022-11-04T05:19:49.842Z"
   },
   {
    "duration": 487,
    "start_time": "2022-11-04T05:19:49.853Z"
   },
   {
    "duration": 208,
    "start_time": "2022-11-04T05:19:50.342Z"
   },
   {
    "duration": 6,
    "start_time": "2022-11-04T05:19:50.552Z"
   },
   {
    "duration": 254,
    "start_time": "2022-11-04T05:19:50.560Z"
   },
   {
    "duration": 20,
    "start_time": "2022-11-04T05:19:50.816Z"
   },
   {
    "duration": 8,
    "start_time": "2022-11-04T05:19:50.838Z"
   },
   {
    "duration": 9,
    "start_time": "2022-11-04T05:19:50.847Z"
   },
   {
    "duration": 15,
    "start_time": "2022-11-04T05:19:50.858Z"
   },
   {
    "duration": 8,
    "start_time": "2022-11-04T05:19:50.875Z"
   },
   {
    "duration": 22,
    "start_time": "2022-11-04T05:19:50.884Z"
   },
   {
    "duration": 5,
    "start_time": "2022-11-04T05:19:50.907Z"
   },
   {
    "duration": 7,
    "start_time": "2022-11-04T05:19:50.913Z"
   },
   {
    "duration": 113,
    "start_time": "2022-11-04T05:19:50.923Z"
   },
   {
    "duration": 86,
    "start_time": "2022-11-04T05:19:51.037Z"
   },
   {
    "duration": 11126,
    "start_time": "2022-11-04T05:19:51.125Z"
   },
   {
    "duration": 3,
    "start_time": "2022-11-04T05:20:02.253Z"
   },
   {
    "duration": 19163,
    "start_time": "2022-11-04T05:20:02.258Z"
   },
   {
    "duration": 4,
    "start_time": "2022-11-04T05:20:21.422Z"
   },
   {
    "duration": 995,
    "start_time": "2022-11-04T05:20:21.427Z"
   },
   {
    "duration": 9,
    "start_time": "2022-11-04T05:20:22.424Z"
   },
   {
    "duration": 74,
    "start_time": "2022-11-04T05:20:22.435Z"
   },
   {
    "duration": 11,
    "start_time": "2022-11-04T05:20:22.511Z"
   },
   {
    "duration": 217,
    "start_time": "2022-11-04T05:20:22.524Z"
   },
   {
    "duration": 920,
    "start_time": "2022-11-04T05:20:22.743Z"
   },
   {
    "duration": 741,
    "start_time": "2022-11-04T05:20:23.664Z"
   },
   {
    "duration": 113,
    "start_time": "2022-11-04T05:20:24.407Z"
   },
   {
    "duration": 88,
    "start_time": "2022-11-04T05:22:04.921Z"
   },
   {
    "duration": 32,
    "start_time": "2022-11-04T05:22:12.446Z"
   },
   {
    "duration": 10,
    "start_time": "2022-11-04T05:22:14.817Z"
   },
   {
    "duration": 71,
    "start_time": "2022-11-04T05:22:18.524Z"
   },
   {
    "duration": 928,
    "start_time": "2022-11-04T05:22:18.984Z"
   },
   {
    "duration": 89,
    "start_time": "2022-11-04T05:22:40.788Z"
   },
   {
    "duration": 836,
    "start_time": "2022-11-04T05:23:46.172Z"
   },
   {
    "duration": 5,
    "start_time": "2022-11-04T05:25:45.585Z"
   },
   {
    "duration": 33,
    "start_time": "2022-11-04T05:25:55.195Z"
   },
   {
    "duration": 10,
    "start_time": "2022-11-04T05:26:08.700Z"
   },
   {
    "duration": 76,
    "start_time": "2022-11-04T05:26:15.044Z"
   },
   {
    "duration": 908,
    "start_time": "2022-11-04T05:26:22.107Z"
   },
   {
    "duration": 676,
    "start_time": "2022-11-04T05:26:30.240Z"
   },
   {
    "duration": 11,
    "start_time": "2022-11-04T05:26:33.644Z"
   },
   {
    "duration": 11,
    "start_time": "2022-11-04T05:27:27.053Z"
   },
   {
    "duration": 1318,
    "start_time": "2022-11-04T05:30:12.773Z"
   },
   {
    "duration": 50,
    "start_time": "2022-11-04T05:30:14.093Z"
   },
   {
    "duration": 9,
    "start_time": "2022-11-04T05:30:14.144Z"
   },
   {
    "duration": 18,
    "start_time": "2022-11-04T05:30:14.155Z"
   },
   {
    "duration": 11,
    "start_time": "2022-11-04T05:30:14.174Z"
   },
   {
    "duration": 13,
    "start_time": "2022-11-04T05:30:14.186Z"
   },
   {
    "duration": 4,
    "start_time": "2022-11-04T05:30:14.200Z"
   },
   {
    "duration": 10,
    "start_time": "2022-11-04T05:30:14.205Z"
   },
   {
    "duration": 21,
    "start_time": "2022-11-04T05:30:14.217Z"
   },
   {
    "duration": 3,
    "start_time": "2022-11-04T05:30:14.241Z"
   },
   {
    "duration": 202,
    "start_time": "2022-11-04T05:30:14.246Z"
   },
   {
    "duration": 161,
    "start_time": "2022-11-04T05:30:14.450Z"
   },
   {
    "duration": 7,
    "start_time": "2022-11-04T05:30:14.613Z"
   },
   {
    "duration": 599,
    "start_time": "2022-11-04T05:30:14.621Z"
   },
   {
    "duration": 9,
    "start_time": "2022-11-04T05:30:15.222Z"
   },
   {
    "duration": 487,
    "start_time": "2022-11-04T05:30:15.232Z"
   },
   {
    "duration": 208,
    "start_time": "2022-11-04T05:30:15.721Z"
   },
   {
    "duration": 5,
    "start_time": "2022-11-04T05:30:15.931Z"
   },
   {
    "duration": 248,
    "start_time": "2022-11-04T05:30:15.938Z"
   },
   {
    "duration": 30,
    "start_time": "2022-11-04T05:30:16.188Z"
   },
   {
    "duration": 7,
    "start_time": "2022-11-04T05:30:16.220Z"
   },
   {
    "duration": 7,
    "start_time": "2022-11-04T05:30:16.229Z"
   },
   {
    "duration": 6,
    "start_time": "2022-11-04T05:30:16.237Z"
   },
   {
    "duration": 16,
    "start_time": "2022-11-04T05:30:16.245Z"
   },
   {
    "duration": 5,
    "start_time": "2022-11-04T05:30:16.262Z"
   },
   {
    "duration": 6,
    "start_time": "2022-11-04T05:30:16.268Z"
   },
   {
    "duration": 11,
    "start_time": "2022-11-04T05:30:16.276Z"
   },
   {
    "duration": 116,
    "start_time": "2022-11-04T05:30:16.305Z"
   },
   {
    "duration": 95,
    "start_time": "2022-11-04T05:30:16.423Z"
   },
   {
    "duration": 11099,
    "start_time": "2022-11-04T05:30:16.520Z"
   },
   {
    "duration": 4,
    "start_time": "2022-11-04T05:30:27.620Z"
   },
   {
    "duration": 15425,
    "start_time": "2022-11-04T05:30:27.625Z"
   },
   {
    "duration": 4,
    "start_time": "2022-11-04T05:30:43.051Z"
   },
   {
    "duration": 753,
    "start_time": "2022-11-04T05:30:43.057Z"
   },
   {
    "duration": 9,
    "start_time": "2022-11-04T05:30:43.812Z"
   },
   {
    "duration": 9,
    "start_time": "2022-11-04T05:30:43.823Z"
   },
   {
    "duration": 38,
    "start_time": "2022-11-04T05:30:43.834Z"
   },
   {
    "duration": 10,
    "start_time": "2022-11-04T05:30:43.906Z"
   },
   {
    "duration": 225,
    "start_time": "2022-11-04T05:30:43.918Z"
   },
   {
    "duration": 978,
    "start_time": "2022-11-04T05:30:44.145Z"
   },
   {
    "duration": 781,
    "start_time": "2022-11-04T05:30:45.125Z"
   },
   {
    "duration": 10,
    "start_time": "2022-11-04T05:30:45.907Z"
   },
   {
    "duration": 3,
    "start_time": "2022-11-04T05:35:00.956Z"
   },
   {
    "duration": 1512,
    "start_time": "2022-11-04T05:36:17.258Z"
   },
   {
    "duration": 49,
    "start_time": "2022-11-04T05:36:18.772Z"
   },
   {
    "duration": 10,
    "start_time": "2022-11-04T05:36:18.822Z"
   },
   {
    "duration": 4,
    "start_time": "2022-11-04T05:36:18.834Z"
   },
   {
    "duration": 11,
    "start_time": "2022-11-04T05:36:18.840Z"
   },
   {
    "duration": 11,
    "start_time": "2022-11-04T05:36:18.852Z"
   },
   {
    "duration": 4,
    "start_time": "2022-11-04T05:36:18.864Z"
   },
   {
    "duration": 5,
    "start_time": "2022-11-04T05:36:18.870Z"
   },
   {
    "duration": 8,
    "start_time": "2022-11-04T05:36:18.905Z"
   },
   {
    "duration": 3,
    "start_time": "2022-11-04T05:36:18.915Z"
   },
   {
    "duration": 217,
    "start_time": "2022-11-04T05:36:18.920Z"
   },
   {
    "duration": 156,
    "start_time": "2022-11-04T05:36:19.138Z"
   },
   {
    "duration": 10,
    "start_time": "2022-11-04T05:36:19.295Z"
   },
   {
    "duration": 614,
    "start_time": "2022-11-04T05:36:19.306Z"
   },
   {
    "duration": 9,
    "start_time": "2022-11-04T05:36:19.921Z"
   },
   {
    "duration": 500,
    "start_time": "2022-11-04T05:36:19.931Z"
   },
   {
    "duration": 207,
    "start_time": "2022-11-04T05:36:20.433Z"
   },
   {
    "duration": 5,
    "start_time": "2022-11-04T05:36:20.642Z"
   },
   {
    "duration": 258,
    "start_time": "2022-11-04T05:36:20.649Z"
   },
   {
    "duration": 18,
    "start_time": "2022-11-04T05:36:20.908Z"
   },
   {
    "duration": 7,
    "start_time": "2022-11-04T05:36:20.928Z"
   },
   {
    "duration": 4,
    "start_time": "2022-11-04T05:36:20.937Z"
   },
   {
    "duration": 4,
    "start_time": "2022-11-04T05:36:20.942Z"
   },
   {
    "duration": 7,
    "start_time": "2022-11-04T05:36:20.947Z"
   },
   {
    "duration": 4,
    "start_time": "2022-11-04T05:36:20.956Z"
   },
   {
    "duration": 7,
    "start_time": "2022-11-04T05:36:20.961Z"
   },
   {
    "duration": 36,
    "start_time": "2022-11-04T05:36:20.969Z"
   },
   {
    "duration": 118,
    "start_time": "2022-11-04T05:36:21.008Z"
   },
   {
    "duration": 87,
    "start_time": "2022-11-04T05:36:21.128Z"
   },
   {
    "duration": 11181,
    "start_time": "2022-11-04T05:36:21.217Z"
   },
   {
    "duration": 4,
    "start_time": "2022-11-04T05:36:32.405Z"
   },
   {
    "duration": 15262,
    "start_time": "2022-11-04T05:36:32.410Z"
   },
   {
    "duration": 4,
    "start_time": "2022-11-04T05:36:47.674Z"
   },
   {
    "duration": 733,
    "start_time": "2022-11-04T05:36:47.680Z"
   },
   {
    "duration": 92,
    "start_time": "2022-11-04T05:36:48.415Z"
   },
   {
    "duration": 6,
    "start_time": "2022-11-04T05:36:48.508Z"
   },
   {
    "duration": 37,
    "start_time": "2022-11-04T05:36:48.515Z"
   },
   {
    "duration": 10,
    "start_time": "2022-11-04T05:36:48.553Z"
   },
   {
    "duration": 200,
    "start_time": "2022-11-04T05:36:48.565Z"
   },
   {
    "duration": 902,
    "start_time": "2022-11-04T05:36:48.767Z"
   },
   {
    "duration": 751,
    "start_time": "2022-11-04T05:36:49.671Z"
   },
   {
    "duration": 83,
    "start_time": "2022-11-04T05:36:50.424Z"
   },
   {
    "duration": 1384,
    "start_time": "2022-11-04T05:37:15.979Z"
   },
   {
    "duration": 47,
    "start_time": "2022-11-04T05:37:17.365Z"
   },
   {
    "duration": 9,
    "start_time": "2022-11-04T05:37:17.413Z"
   },
   {
    "duration": 3,
    "start_time": "2022-11-04T05:37:17.424Z"
   },
   {
    "duration": 10,
    "start_time": "2022-11-04T05:37:17.429Z"
   },
   {
    "duration": 11,
    "start_time": "2022-11-04T05:37:17.440Z"
   },
   {
    "duration": 4,
    "start_time": "2022-11-04T05:37:17.452Z"
   },
   {
    "duration": 6,
    "start_time": "2022-11-04T05:37:17.457Z"
   },
   {
    "duration": 7,
    "start_time": "2022-11-04T05:37:17.464Z"
   },
   {
    "duration": 3,
    "start_time": "2022-11-04T05:37:17.473Z"
   },
   {
    "duration": 233,
    "start_time": "2022-11-04T05:37:17.477Z"
   },
   {
    "duration": 155,
    "start_time": "2022-11-04T05:37:17.711Z"
   },
   {
    "duration": 6,
    "start_time": "2022-11-04T05:37:17.867Z"
   },
   {
    "duration": 641,
    "start_time": "2022-11-04T05:37:17.875Z"
   },
   {
    "duration": 8,
    "start_time": "2022-11-04T05:37:18.518Z"
   },
   {
    "duration": 492,
    "start_time": "2022-11-04T05:37:18.527Z"
   },
   {
    "duration": 210,
    "start_time": "2022-11-04T05:37:19.021Z"
   },
   {
    "duration": 4,
    "start_time": "2022-11-04T05:37:19.233Z"
   },
   {
    "duration": 244,
    "start_time": "2022-11-04T05:37:19.239Z"
   },
   {
    "duration": 22,
    "start_time": "2022-11-04T05:37:19.484Z"
   },
   {
    "duration": 7,
    "start_time": "2022-11-04T05:37:19.507Z"
   },
   {
    "duration": 19,
    "start_time": "2022-11-04T05:37:19.516Z"
   },
   {
    "duration": 22,
    "start_time": "2022-11-04T05:37:19.536Z"
   },
   {
    "duration": 21,
    "start_time": "2022-11-04T05:37:19.559Z"
   },
   {
    "duration": 6,
    "start_time": "2022-11-04T05:37:19.582Z"
   },
   {
    "duration": 4,
    "start_time": "2022-11-04T05:37:19.590Z"
   },
   {
    "duration": 9,
    "start_time": "2022-11-04T05:37:19.596Z"
   },
   {
    "duration": 107,
    "start_time": "2022-11-04T05:37:19.608Z"
   },
   {
    "duration": 95,
    "start_time": "2022-11-04T05:37:19.716Z"
   },
   {
    "duration": 11006,
    "start_time": "2022-11-04T05:37:19.813Z"
   },
   {
    "duration": 4,
    "start_time": "2022-11-04T05:37:30.821Z"
   },
   {
    "duration": 16382,
    "start_time": "2022-11-04T05:37:30.826Z"
   },
   {
    "duration": 4,
    "start_time": "2022-11-04T05:37:47.209Z"
   },
   {
    "duration": 704,
    "start_time": "2022-11-04T05:37:47.214Z"
   },
   {
    "duration": 92,
    "start_time": "2022-11-04T05:37:47.920Z"
   },
   {
    "duration": 10,
    "start_time": "2022-11-04T05:37:48.014Z"
   },
   {
    "duration": 39,
    "start_time": "2022-11-04T05:37:48.026Z"
   },
   {
    "duration": 39,
    "start_time": "2022-11-04T05:37:48.066Z"
   },
   {
    "duration": 159,
    "start_time": "2022-11-04T05:37:48.107Z"
   },
   {
    "duration": 925,
    "start_time": "2022-11-04T05:37:48.268Z"
   },
   {
    "duration": 726,
    "start_time": "2022-11-04T05:37:49.195Z"
   },
   {
    "duration": 10,
    "start_time": "2022-11-04T05:37:49.923Z"
   },
   {
    "duration": 1305,
    "start_time": "2022-11-04T05:38:15.458Z"
   },
   {
    "duration": 66,
    "start_time": "2022-11-04T05:38:16.765Z"
   },
   {
    "duration": 8,
    "start_time": "2022-11-04T05:38:16.833Z"
   },
   {
    "duration": 9,
    "start_time": "2022-11-04T05:38:16.843Z"
   },
   {
    "duration": 25,
    "start_time": "2022-11-04T05:38:16.853Z"
   },
   {
    "duration": 13,
    "start_time": "2022-11-04T05:38:16.880Z"
   },
   {
    "duration": 13,
    "start_time": "2022-11-04T05:38:16.894Z"
   },
   {
    "duration": 8,
    "start_time": "2022-11-04T05:38:16.909Z"
   },
   {
    "duration": 15,
    "start_time": "2022-11-04T05:38:16.918Z"
   },
   {
    "duration": 9,
    "start_time": "2022-11-04T05:38:16.935Z"
   },
   {
    "duration": 201,
    "start_time": "2022-11-04T05:38:16.946Z"
   },
   {
    "duration": 172,
    "start_time": "2022-11-04T05:38:17.149Z"
   },
   {
    "duration": 6,
    "start_time": "2022-11-04T05:38:17.323Z"
   },
   {
    "duration": 611,
    "start_time": "2022-11-04T05:38:17.330Z"
   },
   {
    "duration": 9,
    "start_time": "2022-11-04T05:38:17.943Z"
   },
   {
    "duration": 525,
    "start_time": "2022-11-04T05:38:17.954Z"
   },
   {
    "duration": 205,
    "start_time": "2022-11-04T05:38:18.481Z"
   },
   {
    "duration": 6,
    "start_time": "2022-11-04T05:38:18.687Z"
   },
   {
    "duration": 249,
    "start_time": "2022-11-04T05:38:18.694Z"
   },
   {
    "duration": 27,
    "start_time": "2022-11-04T05:38:18.944Z"
   },
   {
    "duration": 9,
    "start_time": "2022-11-04T05:38:18.972Z"
   },
   {
    "duration": 4,
    "start_time": "2022-11-04T05:38:18.982Z"
   },
   {
    "duration": 21,
    "start_time": "2022-11-04T05:38:18.987Z"
   },
   {
    "duration": 9,
    "start_time": "2022-11-04T05:38:19.009Z"
   },
   {
    "duration": 5,
    "start_time": "2022-11-04T05:38:19.019Z"
   },
   {
    "duration": 5,
    "start_time": "2022-11-04T05:38:19.025Z"
   },
   {
    "duration": 7,
    "start_time": "2022-11-04T05:38:19.032Z"
   },
   {
    "duration": 197,
    "start_time": "2022-11-04T05:38:19.042Z"
   },
   {
    "duration": 866,
    "start_time": "2022-11-04T05:38:19.241Z"
   },
   {
    "duration": 16321,
    "start_time": "2022-11-04T05:38:20.109Z"
   },
   {
    "duration": 3,
    "start_time": "2022-11-04T05:38:36.432Z"
   },
   {
    "duration": 18424,
    "start_time": "2022-11-04T05:38:36.436Z"
   },
   {
    "duration": 3,
    "start_time": "2022-11-04T05:38:54.862Z"
   },
   {
    "duration": 850,
    "start_time": "2022-11-04T05:38:54.867Z"
   },
   {
    "duration": 92,
    "start_time": "2022-11-04T05:38:55.719Z"
   },
   {
    "duration": 8,
    "start_time": "2022-11-04T05:38:55.813Z"
   },
   {
    "duration": 42,
    "start_time": "2022-11-04T05:38:55.822Z"
   },
   {
    "duration": 44,
    "start_time": "2022-11-04T05:38:55.866Z"
   },
   {
    "duration": 298,
    "start_time": "2022-11-04T05:38:55.911Z"
   },
   {
    "duration": 1266,
    "start_time": "2022-11-04T05:38:56.210Z"
   },
   {
    "duration": 1037,
    "start_time": "2022-11-04T05:38:57.478Z"
   },
   {
    "duration": 9,
    "start_time": "2022-11-04T05:38:58.517Z"
   },
   {
    "duration": 1405,
    "start_time": "2022-11-04T05:39:19.397Z"
   },
   {
    "duration": 48,
    "start_time": "2022-11-04T05:39:20.804Z"
   },
   {
    "duration": 10,
    "start_time": "2022-11-04T05:39:20.854Z"
   },
   {
    "duration": 3,
    "start_time": "2022-11-04T05:39:20.867Z"
   },
   {
    "duration": 10,
    "start_time": "2022-11-04T05:39:20.872Z"
   },
   {
    "duration": 11,
    "start_time": "2022-11-04T05:39:20.884Z"
   },
   {
    "duration": 8,
    "start_time": "2022-11-04T05:39:20.897Z"
   },
   {
    "duration": 8,
    "start_time": "2022-11-04T05:39:20.907Z"
   },
   {
    "duration": 8,
    "start_time": "2022-11-04T05:39:20.917Z"
   },
   {
    "duration": 4,
    "start_time": "2022-11-04T05:39:20.928Z"
   },
   {
    "duration": 228,
    "start_time": "2022-11-04T05:39:20.933Z"
   },
   {
    "duration": 162,
    "start_time": "2022-11-04T05:39:21.162Z"
   },
   {
    "duration": 6,
    "start_time": "2022-11-04T05:39:21.325Z"
   },
   {
    "duration": 607,
    "start_time": "2022-11-04T05:39:21.333Z"
   },
   {
    "duration": 8,
    "start_time": "2022-11-04T05:39:21.942Z"
   },
   {
    "duration": 479,
    "start_time": "2022-11-04T05:39:21.952Z"
   },
   {
    "duration": 207,
    "start_time": "2022-11-04T05:39:22.433Z"
   },
   {
    "duration": 5,
    "start_time": "2022-11-04T05:39:22.642Z"
   },
   {
    "duration": 260,
    "start_time": "2022-11-04T05:39:22.648Z"
   },
   {
    "duration": 29,
    "start_time": "2022-11-04T05:39:22.910Z"
   },
   {
    "duration": 9,
    "start_time": "2022-11-04T05:39:22.940Z"
   },
   {
    "duration": 4,
    "start_time": "2022-11-04T05:39:22.950Z"
   },
   {
    "duration": 8,
    "start_time": "2022-11-04T05:39:22.956Z"
   },
   {
    "duration": 13,
    "start_time": "2022-11-04T05:39:22.965Z"
   },
   {
    "duration": 8,
    "start_time": "2022-11-04T05:39:22.979Z"
   },
   {
    "duration": 3,
    "start_time": "2022-11-04T05:39:23.004Z"
   },
   {
    "duration": 11,
    "start_time": "2022-11-04T05:39:23.009Z"
   },
   {
    "duration": 186,
    "start_time": "2022-11-04T05:39:23.023Z"
   },
   {
    "duration": 596,
    "start_time": "2022-11-04T05:39:23.211Z"
   },
   {
    "duration": 16697,
    "start_time": "2022-11-04T05:39:23.808Z"
   },
   {
    "duration": 3,
    "start_time": "2022-11-04T05:39:40.507Z"
   },
   {
    "duration": 18735,
    "start_time": "2022-11-04T05:39:40.512Z"
   },
   {
    "duration": 3,
    "start_time": "2022-11-04T05:39:59.249Z"
   },
   {
    "duration": 969,
    "start_time": "2022-11-04T05:39:59.253Z"
   },
   {
    "duration": 10,
    "start_time": "2022-11-04T05:40:00.223Z"
   },
   {
    "duration": 15,
    "start_time": "2022-11-04T05:40:00.305Z"
   },
   {
    "duration": 45,
    "start_time": "2022-11-04T05:40:00.322Z"
   },
   {
    "duration": 40,
    "start_time": "2022-11-04T05:40:00.368Z"
   },
   {
    "duration": 322,
    "start_time": "2022-11-04T05:40:00.411Z"
   },
   {
    "duration": 1245,
    "start_time": "2022-11-04T05:40:00.735Z"
   },
   {
    "duration": 933,
    "start_time": "2022-11-04T05:40:01.981Z"
   },
   {
    "duration": 10,
    "start_time": "2022-11-04T05:40:02.915Z"
   },
   {
    "duration": 1363,
    "start_time": "2022-11-04T05:42:11.074Z"
   },
   {
    "duration": 48,
    "start_time": "2022-11-04T05:42:12.439Z"
   },
   {
    "duration": 9,
    "start_time": "2022-11-04T05:42:12.488Z"
   },
   {
    "duration": 3,
    "start_time": "2022-11-04T05:42:12.499Z"
   },
   {
    "duration": 19,
    "start_time": "2022-11-04T05:42:12.503Z"
   },
   {
    "duration": 11,
    "start_time": "2022-11-04T05:42:12.523Z"
   },
   {
    "duration": 10,
    "start_time": "2022-11-04T05:42:12.535Z"
   },
   {
    "duration": 6,
    "start_time": "2022-11-04T05:42:12.547Z"
   },
   {
    "duration": 9,
    "start_time": "2022-11-04T05:42:12.555Z"
   },
   {
    "duration": 3,
    "start_time": "2022-11-04T05:42:12.566Z"
   },
   {
    "duration": 220,
    "start_time": "2022-11-04T05:42:12.571Z"
   },
   {
    "duration": 163,
    "start_time": "2022-11-04T05:42:12.793Z"
   },
   {
    "duration": 7,
    "start_time": "2022-11-04T05:42:12.957Z"
   },
   {
    "duration": 629,
    "start_time": "2022-11-04T05:42:12.965Z"
   },
   {
    "duration": 14,
    "start_time": "2022-11-04T05:42:13.595Z"
   },
   {
    "duration": 493,
    "start_time": "2022-11-04T05:42:13.610Z"
   },
   {
    "duration": 216,
    "start_time": "2022-11-04T05:42:14.105Z"
   },
   {
    "duration": 5,
    "start_time": "2022-11-04T05:42:14.323Z"
   },
   {
    "duration": 240,
    "start_time": "2022-11-04T05:42:14.329Z"
   },
   {
    "duration": 34,
    "start_time": "2022-11-04T05:42:14.571Z"
   },
   {
    "duration": 8,
    "start_time": "2022-11-04T05:42:14.606Z"
   },
   {
    "duration": 4,
    "start_time": "2022-11-04T05:42:14.615Z"
   },
   {
    "duration": 6,
    "start_time": "2022-11-04T05:42:14.620Z"
   },
   {
    "duration": 10,
    "start_time": "2022-11-04T05:42:14.627Z"
   },
   {
    "duration": 5,
    "start_time": "2022-11-04T05:42:14.638Z"
   },
   {
    "duration": 5,
    "start_time": "2022-11-04T05:42:14.645Z"
   },
   {
    "duration": 8,
    "start_time": "2022-11-04T05:42:14.651Z"
   },
   {
    "duration": 202,
    "start_time": "2022-11-04T05:42:14.663Z"
   },
   {
    "duration": 342,
    "start_time": "2022-11-04T05:42:14.866Z"
   },
   {
    "duration": 16386,
    "start_time": "2022-11-04T05:42:15.213Z"
   },
   {
    "duration": 6,
    "start_time": "2022-11-04T05:42:31.600Z"
   },
   {
    "duration": 17807,
    "start_time": "2022-11-04T05:42:31.608Z"
   },
   {
    "duration": 4,
    "start_time": "2022-11-04T05:42:49.416Z"
   },
   {
    "duration": 899,
    "start_time": "2022-11-04T05:42:49.421Z"
   },
   {
    "duration": 9,
    "start_time": "2022-11-04T05:42:50.322Z"
   },
   {
    "duration": 7,
    "start_time": "2022-11-04T05:42:50.406Z"
   },
   {
    "duration": 41,
    "start_time": "2022-11-04T05:42:50.414Z"
   },
   {
    "duration": 149,
    "start_time": "2022-11-04T05:42:50.457Z"
   },
   {
    "duration": 221,
    "start_time": "2022-11-04T05:42:50.608Z"
   },
   {
    "duration": 1167,
    "start_time": "2022-11-04T05:42:50.831Z"
   },
   {
    "duration": 1010,
    "start_time": "2022-11-04T05:42:52.000Z"
   },
   {
    "duration": 11,
    "start_time": "2022-11-04T05:42:53.011Z"
   }
  ],
  "kernelspec": {
   "display_name": "Python 3 (ipykernel)",
   "language": "python",
   "name": "python3"
  },
  "language_info": {
   "codemirror_mode": {
    "name": "ipython",
    "version": 3
   },
   "file_extension": ".py",
   "mimetype": "text/x-python",
   "name": "python",
   "nbconvert_exporter": "python",
   "pygments_lexer": "ipython3",
   "version": "3.9.5"
  },
  "toc": {
   "base_numbering": 1,
   "nav_menu": {},
   "number_sections": true,
   "sideBar": true,
   "skip_h1_title": true,
   "title_cell": "Содержание",
   "title_sidebar": "Contents",
   "toc_cell": true,
   "toc_position": {},
   "toc_section_display": true,
   "toc_window_display": true
  }
 },
 "nbformat": 4,
 "nbformat_minor": 2
}
