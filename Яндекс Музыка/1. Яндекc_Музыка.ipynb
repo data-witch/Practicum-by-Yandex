{
  "cells": [
    {
      "cell_type": "markdown",
      "metadata": {
        "id": "E0vqbgi9ay0H"
      },
      "source": [
        "# Яндекс.Музыка"
      ]
    },
    {
      "cell_type": "markdown",
      "metadata": {
        "id": "VUC88oWjTJw2"
      },
      "source": [
        "Сравнение Москвы и Петербурга окружено мифами. Например:\n",
        " * Москва — мегаполис, подчинённый жёсткому ритму рабочей недели;\n",
        " * Петербург — культурная столица, со своими вкусами.\n",
        "\n",
        "На данных Яндекс.Музыки сравним поведение пользователей двух столиц.\n",
        "\n",
        "**Цель исследования** — проверить три гипотезы:\n",
        "1. Активность пользователей зависит от дня недели. Причём в Москве и Петербурге это проявляется по-разному.\n",
        "2. В понедельник утром в Москве преобладают одни жанры, а в Петербурге — другие. Так же и вечером пятницы преобладают разные жанры — в зависимости от города. \n",
        "3. Москва и Петербург предпочитают разные жанры музыки. В Москве чаще слушают поп-музыку, в Петербурге — русский рэп.\n",
        "\n",
        "**Ход исследования**\n",
        "\n",
        "Данные о поведении пользователей находятся в файле `yandex_music_project.csv`. О качестве данных ничего не известно. Поэтому перед проверкой гипотез понадобится обзор данных. \n",
        "\n",
        "Проверим данные на ошибки и оценим их влияние на исследование. Затем, на этапе предобработки поищем возможность исправить самые критичные ошибки данных.\n",
        " \n",
        "Таким образом, исследование пройдёт в три этапа:\n",
        " 1. Обзор данных.\n",
        " 2. Предобработка данных.\n",
        " 3. Проверка гипотез.\n",
        "\n"
      ]
    },
    {
      "cell_type": "markdown",
      "metadata": {
        "id": "Ml1hmfXC_Zcs"
      },
      "source": [
        "## Обзор данных\n",
        "\n",
        "Составим первое представление о данных Яндекс.Музыки.\n",
        "\n",
        "\n"
      ]
    },
    {
      "cell_type": "markdown",
      "metadata": {
        "id": "57eAOGIz_Zcs"
      },
      "source": [
        "Основной инструмент аналитика — `pandas`. Импортируем эту библиотеку."
      ]
    },
    {
      "cell_type": "code",
      "execution_count": 1,
      "metadata": {
        "id": "AXN7PHPN_Zcs"
      },
      "outputs": [],
      "source": [
        "import pandas as pd"
      ]
    },
    {
      "cell_type": "markdown",
      "metadata": {
        "id": "SG23P8tt_Zcs"
      },
      "source": [
        "Прочитаем файл `yandex_music_project.csv` из папки `/datasets` и сохраним его в переменной `df`:"
      ]
    },
    {
      "cell_type": "code",
      "source": [
        "!wget https://code.s3.yandex.net/datasets/yandex_music_project.csv"
      ],
      "metadata": {
        "colab": {
          "base_uri": "https://localhost:8080/"
        },
        "id": "WTv0ylzT6CHI",
        "outputId": "ced24193-9eb1-491a-d41f-02273e7b5af7"
      },
      "execution_count": 2,
      "outputs": [
        {
          "output_type": "stream",
          "name": "stdout",
          "text": [
            "--2023-02-28 07:59:23--  https://code.s3.yandex.net/datasets/yandex_music_project.csv\n",
            "Resolving code.s3.yandex.net (code.s3.yandex.net)... 93.158.134.158, 2a02:6b8::2:158\n",
            "Connecting to code.s3.yandex.net (code.s3.yandex.net)|93.158.134.158|:443... connected.\n",
            "HTTP request sent, awaiting response... 200 OK\n",
            "Length: 4771870 (4.6M) [application/octet-stream]\n",
            "Saving to: ‘yandex_music_project.csv’\n",
            "\n",
            "yandex_music_projec 100%[===================>]   4.55M  3.83MB/s    in 1.2s    \n",
            "\n",
            "2023-02-28 07:59:25 (3.83 MB/s) - ‘yandex_music_project.csv’ saved [4771870/4771870]\n",
            "\n"
          ]
        }
      ]
    },
    {
      "cell_type": "code",
      "execution_count": 3,
      "metadata": {
        "id": "fFVu7vqh_Zct"
      },
      "outputs": [],
      "source": [
        "df = pd.read_csv(\"yandex_music_project.csv\")"
      ]
    },
    {
      "cell_type": "markdown",
      "metadata": {
        "id": "rDoOMd3uTqnZ"
      },
      "source": [
        "Выведем на экран первые десять строк таблицы:"
      ]
    },
    {
      "cell_type": "code",
      "execution_count": 4,
      "metadata": {
        "id": "oWTVX3gW_Zct",
        "scrolled": false,
        "colab": {
          "base_uri": "https://localhost:8080/",
          "height": 363
        },
        "outputId": "f0bc2632-7006-4550-dcac-589d4fdcfa8f"
      },
      "outputs": [
        {
          "output_type": "execute_result",
          "data": {
            "text/plain": [
              "     userID                        Track            artist   genre  \\\n",
              "0  FFB692EC            Kamigata To Boots  The Mass Missile    rock   \n",
              "1  55204538  Delayed Because of Accident  Andreas Rönnberg    rock   \n",
              "2    20EC38            Funiculì funiculà       Mario Lanza     pop   \n",
              "3  A3DD03C9        Dragons in the Sunset        Fire + Ice    folk   \n",
              "4  E2DC1FAE                  Soul People        Space Echo   dance   \n",
              "5  842029A1                    Преданная         IMPERVTOR  rusrap   \n",
              "6  4CB90AA5                         True      Roman Messer   dance   \n",
              "7  F03E1C1F             Feeling This Way   Polina Griffith   dance   \n",
              "8  8FA1D3BE     И вновь продолжается бой               NaN  ruspop   \n",
              "9  E772D5C0                    Pessimist               NaN   dance   \n",
              "\n",
              "             City        time        Day  \n",
              "0  Saint-Petersburg  20:28:33  Wednesday  \n",
              "1            Moscow  14:07:09     Friday  \n",
              "2  Saint-Petersburg  20:58:07  Wednesday  \n",
              "3  Saint-Petersburg  08:37:09     Monday  \n",
              "4            Moscow  08:34:34     Monday  \n",
              "5  Saint-Petersburg  13:09:41     Friday  \n",
              "6            Moscow  13:00:07  Wednesday  \n",
              "7            Moscow  20:47:49  Wednesday  \n",
              "8            Moscow  09:17:40     Friday  \n",
              "9  Saint-Petersburg  21:20:49  Wednesday  "
            ],
            "text/html": [
              "\n",
              "  <div id=\"df-4703b88c-4ae6-44bd-b2cf-7dc6b1f98a25\">\n",
              "    <div class=\"colab-df-container\">\n",
              "      <div>\n",
              "<style scoped>\n",
              "    .dataframe tbody tr th:only-of-type {\n",
              "        vertical-align: middle;\n",
              "    }\n",
              "\n",
              "    .dataframe tbody tr th {\n",
              "        vertical-align: top;\n",
              "    }\n",
              "\n",
              "    .dataframe thead th {\n",
              "        text-align: right;\n",
              "    }\n",
              "</style>\n",
              "<table border=\"1\" class=\"dataframe\">\n",
              "  <thead>\n",
              "    <tr style=\"text-align: right;\">\n",
              "      <th></th>\n",
              "      <th>userID</th>\n",
              "      <th>Track</th>\n",
              "      <th>artist</th>\n",
              "      <th>genre</th>\n",
              "      <th>City</th>\n",
              "      <th>time</th>\n",
              "      <th>Day</th>\n",
              "    </tr>\n",
              "  </thead>\n",
              "  <tbody>\n",
              "    <tr>\n",
              "      <th>0</th>\n",
              "      <td>FFB692EC</td>\n",
              "      <td>Kamigata To Boots</td>\n",
              "      <td>The Mass Missile</td>\n",
              "      <td>rock</td>\n",
              "      <td>Saint-Petersburg</td>\n",
              "      <td>20:28:33</td>\n",
              "      <td>Wednesday</td>\n",
              "    </tr>\n",
              "    <tr>\n",
              "      <th>1</th>\n",
              "      <td>55204538</td>\n",
              "      <td>Delayed Because of Accident</td>\n",
              "      <td>Andreas Rönnberg</td>\n",
              "      <td>rock</td>\n",
              "      <td>Moscow</td>\n",
              "      <td>14:07:09</td>\n",
              "      <td>Friday</td>\n",
              "    </tr>\n",
              "    <tr>\n",
              "      <th>2</th>\n",
              "      <td>20EC38</td>\n",
              "      <td>Funiculì funiculà</td>\n",
              "      <td>Mario Lanza</td>\n",
              "      <td>pop</td>\n",
              "      <td>Saint-Petersburg</td>\n",
              "      <td>20:58:07</td>\n",
              "      <td>Wednesday</td>\n",
              "    </tr>\n",
              "    <tr>\n",
              "      <th>3</th>\n",
              "      <td>A3DD03C9</td>\n",
              "      <td>Dragons in the Sunset</td>\n",
              "      <td>Fire + Ice</td>\n",
              "      <td>folk</td>\n",
              "      <td>Saint-Petersburg</td>\n",
              "      <td>08:37:09</td>\n",
              "      <td>Monday</td>\n",
              "    </tr>\n",
              "    <tr>\n",
              "      <th>4</th>\n",
              "      <td>E2DC1FAE</td>\n",
              "      <td>Soul People</td>\n",
              "      <td>Space Echo</td>\n",
              "      <td>dance</td>\n",
              "      <td>Moscow</td>\n",
              "      <td>08:34:34</td>\n",
              "      <td>Monday</td>\n",
              "    </tr>\n",
              "    <tr>\n",
              "      <th>5</th>\n",
              "      <td>842029A1</td>\n",
              "      <td>Преданная</td>\n",
              "      <td>IMPERVTOR</td>\n",
              "      <td>rusrap</td>\n",
              "      <td>Saint-Petersburg</td>\n",
              "      <td>13:09:41</td>\n",
              "      <td>Friday</td>\n",
              "    </tr>\n",
              "    <tr>\n",
              "      <th>6</th>\n",
              "      <td>4CB90AA5</td>\n",
              "      <td>True</td>\n",
              "      <td>Roman Messer</td>\n",
              "      <td>dance</td>\n",
              "      <td>Moscow</td>\n",
              "      <td>13:00:07</td>\n",
              "      <td>Wednesday</td>\n",
              "    </tr>\n",
              "    <tr>\n",
              "      <th>7</th>\n",
              "      <td>F03E1C1F</td>\n",
              "      <td>Feeling This Way</td>\n",
              "      <td>Polina Griffith</td>\n",
              "      <td>dance</td>\n",
              "      <td>Moscow</td>\n",
              "      <td>20:47:49</td>\n",
              "      <td>Wednesday</td>\n",
              "    </tr>\n",
              "    <tr>\n",
              "      <th>8</th>\n",
              "      <td>8FA1D3BE</td>\n",
              "      <td>И вновь продолжается бой</td>\n",
              "      <td>NaN</td>\n",
              "      <td>ruspop</td>\n",
              "      <td>Moscow</td>\n",
              "      <td>09:17:40</td>\n",
              "      <td>Friday</td>\n",
              "    </tr>\n",
              "    <tr>\n",
              "      <th>9</th>\n",
              "      <td>E772D5C0</td>\n",
              "      <td>Pessimist</td>\n",
              "      <td>NaN</td>\n",
              "      <td>dance</td>\n",
              "      <td>Saint-Petersburg</td>\n",
              "      <td>21:20:49</td>\n",
              "      <td>Wednesday</td>\n",
              "    </tr>\n",
              "  </tbody>\n",
              "</table>\n",
              "</div>\n",
              "      <button class=\"colab-df-convert\" onclick=\"convertToInteractive('df-4703b88c-4ae6-44bd-b2cf-7dc6b1f98a25')\"\n",
              "              title=\"Convert this dataframe to an interactive table.\"\n",
              "              style=\"display:none;\">\n",
              "        \n",
              "  <svg xmlns=\"http://www.w3.org/2000/svg\" height=\"24px\"viewBox=\"0 0 24 24\"\n",
              "       width=\"24px\">\n",
              "    <path d=\"M0 0h24v24H0V0z\" fill=\"none\"/>\n",
              "    <path d=\"M18.56 5.44l.94 2.06.94-2.06 2.06-.94-2.06-.94-.94-2.06-.94 2.06-2.06.94zm-11 1L8.5 8.5l.94-2.06 2.06-.94-2.06-.94L8.5 2.5l-.94 2.06-2.06.94zm10 10l.94 2.06.94-2.06 2.06-.94-2.06-.94-.94-2.06-.94 2.06-2.06.94z\"/><path d=\"M17.41 7.96l-1.37-1.37c-.4-.4-.92-.59-1.43-.59-.52 0-1.04.2-1.43.59L10.3 9.45l-7.72 7.72c-.78.78-.78 2.05 0 2.83L4 21.41c.39.39.9.59 1.41.59.51 0 1.02-.2 1.41-.59l7.78-7.78 2.81-2.81c.8-.78.8-2.07 0-2.86zM5.41 20L4 18.59l7.72-7.72 1.47 1.35L5.41 20z\"/>\n",
              "  </svg>\n",
              "      </button>\n",
              "      \n",
              "  <style>\n",
              "    .colab-df-container {\n",
              "      display:flex;\n",
              "      flex-wrap:wrap;\n",
              "      gap: 12px;\n",
              "    }\n",
              "\n",
              "    .colab-df-convert {\n",
              "      background-color: #E8F0FE;\n",
              "      border: none;\n",
              "      border-radius: 50%;\n",
              "      cursor: pointer;\n",
              "      display: none;\n",
              "      fill: #1967D2;\n",
              "      height: 32px;\n",
              "      padding: 0 0 0 0;\n",
              "      width: 32px;\n",
              "    }\n",
              "\n",
              "    .colab-df-convert:hover {\n",
              "      background-color: #E2EBFA;\n",
              "      box-shadow: 0px 1px 2px rgba(60, 64, 67, 0.3), 0px 1px 3px 1px rgba(60, 64, 67, 0.15);\n",
              "      fill: #174EA6;\n",
              "    }\n",
              "\n",
              "    [theme=dark] .colab-df-convert {\n",
              "      background-color: #3B4455;\n",
              "      fill: #D2E3FC;\n",
              "    }\n",
              "\n",
              "    [theme=dark] .colab-df-convert:hover {\n",
              "      background-color: #434B5C;\n",
              "      box-shadow: 0px 1px 3px 1px rgba(0, 0, 0, 0.15);\n",
              "      filter: drop-shadow(0px 1px 2px rgba(0, 0, 0, 0.3));\n",
              "      fill: #FFFFFF;\n",
              "    }\n",
              "  </style>\n",
              "\n",
              "      <script>\n",
              "        const buttonEl =\n",
              "          document.querySelector('#df-4703b88c-4ae6-44bd-b2cf-7dc6b1f98a25 button.colab-df-convert');\n",
              "        buttonEl.style.display =\n",
              "          google.colab.kernel.accessAllowed ? 'block' : 'none';\n",
              "\n",
              "        async function convertToInteractive(key) {\n",
              "          const element = document.querySelector('#df-4703b88c-4ae6-44bd-b2cf-7dc6b1f98a25');\n",
              "          const dataTable =\n",
              "            await google.colab.kernel.invokeFunction('convertToInteractive',\n",
              "                                                     [key], {});\n",
              "          if (!dataTable) return;\n",
              "\n",
              "          const docLinkHtml = 'Like what you see? Visit the ' +\n",
              "            '<a target=\"_blank\" href=https://colab.research.google.com/notebooks/data_table.ipynb>data table notebook</a>'\n",
              "            + ' to learn more about interactive tables.';\n",
              "          element.innerHTML = '';\n",
              "          dataTable['output_type'] = 'display_data';\n",
              "          await google.colab.output.renderOutput(dataTable, element);\n",
              "          const docLink = document.createElement('div');\n",
              "          docLink.innerHTML = docLinkHtml;\n",
              "          element.appendChild(docLink);\n",
              "        }\n",
              "      </script>\n",
              "    </div>\n",
              "  </div>\n",
              "  "
            ]
          },
          "metadata": {},
          "execution_count": 4
        }
      ],
      "source": [
        "df.head(10) "
      ]
    },
    {
      "cell_type": "markdown",
      "metadata": {
        "id": "EO73Kwic_Zct"
      },
      "source": [
        "Одной командой получим общую информацию о таблице:"
      ]
    },
    {
      "cell_type": "code",
      "execution_count": 5,
      "metadata": {
        "id": "DSf2kIb-_Zct",
        "colab": {
          "base_uri": "https://localhost:8080/"
        },
        "outputId": "12e9c32c-9803-43e8-c839-b7e5105abd6a"
      },
      "outputs": [
        {
          "output_type": "stream",
          "name": "stdout",
          "text": [
            "<class 'pandas.core.frame.DataFrame'>\n",
            "RangeIndex: 65079 entries, 0 to 65078\n",
            "Data columns (total 7 columns):\n",
            " #   Column    Non-Null Count  Dtype \n",
            "---  ------    --------------  ----- \n",
            " 0     userID  65079 non-null  object\n",
            " 1   Track     63848 non-null  object\n",
            " 2   artist    57876 non-null  object\n",
            " 3   genre     63881 non-null  object\n",
            " 4     City    65079 non-null  object\n",
            " 5   time      65079 non-null  object\n",
            " 6   Day       65079 non-null  object\n",
            "dtypes: object(7)\n",
            "memory usage: 3.5+ MB\n"
          ]
        }
      ],
      "source": [
        "df.info() "
      ]
    },
    {
      "cell_type": "markdown",
      "metadata": {
        "id": "TaQ2Iwbr_Zct"
      },
      "source": [
        "Итак, в таблице семь столбцов. Тип данных во всех столбцах — `object`.\n",
        "\n",
        "Согласно документации к данным:\n",
        "* `userID` — идентификатор пользователя;\n",
        "* `Track` — название трека;  \n",
        "* `artist` — имя исполнителя;\n",
        "* `genre` — название жанра;\n",
        "* `City` — город пользователя;\n",
        "* `time` — время начала прослушивания;\n",
        "* `Day` — день недели.\n",
        "\n",
        "В названиях колонок видны три нарушения стиля:\n",
        "1. Строчные буквы сочетаются с прописными.\n",
        "2. Встречаются пробелы.\n",
        "3. Названия не приведены к «змеиному_регистру».\n",
        "\n",
        "\n",
        "\n",
        "Количество значений в столбцах различается. Значит, в данных есть пропущенные значения.\n"
      ]
    },
    {
      "cell_type": "markdown",
      "metadata": {
        "id": "MCB6-dXG_Zct"
      },
      "source": [
        "**Выводы**\n",
        "\n",
        "В каждой строке таблицы — данные о прослушанном треке. Часть колонок описывает саму композицию: название, исполнителя и жанр. Остальные данные рассказывают о пользователе: из какого он города, когда он слушал музыку. \n",
        "\n",
        "Предварительно можно утверждать, что, данных достаточно для проверки гипотез. Но встречаются пропуски в данных, а в названиях колонок — расхождения с хорошим стилем.\n",
        "\n",
        "Чтобы двигаться дальше, нужно устранить проблемы в данных."
      ]
    },
    {
      "cell_type": "markdown",
      "metadata": {
        "id": "SjYF6Ub9_Zct"
      },
      "source": [
        "## Предобработка данных\n",
        "Исправим стиль в заголовках столбцов, исключим пропуски. Затем проверим данные на дубликаты."
      ]
    },
    {
      "cell_type": "markdown",
      "metadata": {
        "id": "dIaKXr29_Zct"
      },
      "source": [
        "### Стиль заголовков\n",
        "Выведем на экран названия столбцов:"
      ]
    },
    {
      "cell_type": "code",
      "execution_count": 6,
      "metadata": {
        "id": "oKOTdF_Q_Zct",
        "colab": {
          "base_uri": "https://localhost:8080/"
        },
        "outputId": "ef4bfe33-d7a3-477c-f236-01eba99c645b"
      },
      "outputs": [
        {
          "output_type": "execute_result",
          "data": {
            "text/plain": [
              "Index(['  userID', 'Track', 'artist', 'genre', '  City  ', 'time', 'Day'], dtype='object')"
            ]
          },
          "metadata": {},
          "execution_count": 6
        }
      ],
      "source": [
        "df.columns"
      ]
    },
    {
      "cell_type": "markdown",
      "metadata": {
        "id": "zj5534cv_Zct"
      },
      "source": [
        "Приведем названия в соответствие с хорошим стилем:\n",
        "* несколько слов в названии запишите в «змеином_регистре»,\n",
        "* все символы сделайте строчными,\n",
        "* устраните пробелы.\n",
        "\n",
        "Для этого переименуем колонки так:\n",
        "* `'  userID'` → `'user_id'`;\n",
        "* `'Track'` → `'track'`;\n",
        "* `'  City  '` → `'city'`;\n",
        "* `'Day'` → `'day'`."
      ]
    },
    {
      "cell_type": "code",
      "execution_count": 7,
      "metadata": {
        "id": "ISlFqs5y_Zct"
      },
      "outputs": [],
      "source": [
        "df = df.rename(\n",
        "    columns={'  userID': 'user_id', 'Track': 'track', '  City  ': 'city', 'Day': 'day'}\n",
        ") "
      ]
    },
    {
      "cell_type": "markdown",
      "metadata": {
        "id": "1dqbh00J_Zct"
      },
      "source": [
        "Проверим результат. Для этого ещё раз выведем на экран названия столбцов:"
      ]
    },
    {
      "cell_type": "code",
      "execution_count": 8,
      "metadata": {
        "id": "d4NOAmTW_Zct",
        "scrolled": true,
        "colab": {
          "base_uri": "https://localhost:8080/"
        },
        "outputId": "a83abd4c-b551-4691-b850-a55068a2f35d"
      },
      "outputs": [
        {
          "output_type": "execute_result",
          "data": {
            "text/plain": [
              "Index(['user_id', 'track', 'artist', 'genre', 'city', 'time', 'day'], dtype='object')"
            ]
          },
          "metadata": {},
          "execution_count": 8
        }
      ],
      "source": [
        "df.columns "
      ]
    },
    {
      "cell_type": "markdown",
      "metadata": {
        "id": "5ISfbcfY_Zct"
      },
      "source": [
        "### Пропуски значений\n",
        "Сначала посчитаем, сколько в таблице пропущенных значений. Для этого достаточно двух методов `pandas`:"
      ]
    },
    {
      "cell_type": "code",
      "execution_count": 9,
      "metadata": {
        "id": "RskX29qr_Zct",
        "colab": {
          "base_uri": "https://localhost:8080/"
        },
        "outputId": "a1573edf-b562-4c66-bcd1-989154d526e8"
      },
      "outputs": [
        {
          "output_type": "execute_result",
          "data": {
            "text/plain": [
              "user_id       0\n",
              "track      1231\n",
              "artist     7203\n",
              "genre      1198\n",
              "city          0\n",
              "time          0\n",
              "day           0\n",
              "dtype: int64"
            ]
          },
          "metadata": {},
          "execution_count": 9
        }
      ],
      "source": [
        "df.isna().sum()"
      ]
    },
    {
      "cell_type": "markdown",
      "metadata": {
        "id": "qubhgnlO_Zct"
      },
      "source": [
        "Не все пропущенные значения влияют на исследование. Так в `track` и `artist` пропуски не важны для вашей работы. Достаточно заменить их явными обозначениями.\n",
        "\n",
        "Но пропуски в `genre` могут помешать сравнению музыкальных вкусов в Москве и Санкт-Петербурге. На практике было бы правильно установить причину пропусков и восстановить данные. Такой возможности нет в учебном проекте. Придётся:\n",
        "* заполнить и эти пропуски явными обозначениями,\n",
        "* оценить, насколько они повредят расчётам. "
      ]
    },
    {
      "cell_type": "markdown",
      "metadata": {
        "id": "fSv2laPA_Zct"
      },
      "source": [
        "Заменим пропущенные значения в столбцах `track`, `artist` и `genre` на строку `'unknown'`. Для этого создадим список `columns_to_replace`, переберем его элементы циклом `for` и для каждого столбца выполним замену пропущенных значений:"
      ]
    },
    {
      "cell_type": "code",
      "execution_count": 10,
      "metadata": {
        "id": "KplB5qWs_Zct"
      },
      "outputs": [],
      "source": [
        "columns_to_replace = ['track', 'artist', 'genre']\n",
        "for column in columns_to_replace:\n",
        "    df[column] = df[column].fillna('unknown')"
      ]
    },
    {
      "cell_type": "markdown",
      "metadata": {
        "id": "Ilsm-MZo_Zct"
      },
      "source": [
        "Убедимся, что в таблице не осталось пропусков. Для этого ещё раз посчитаем пропущенные значения."
      ]
    },
    {
      "cell_type": "code",
      "execution_count": 11,
      "metadata": {
        "id": "Tq4nYRX4_Zct",
        "colab": {
          "base_uri": "https://localhost:8080/"
        },
        "outputId": "45144912-6804-4e84-cfa2-ba09241bc4b4"
      },
      "outputs": [
        {
          "output_type": "execute_result",
          "data": {
            "text/plain": [
              "user_id    0\n",
              "track      0\n",
              "artist     0\n",
              "genre      0\n",
              "city       0\n",
              "time       0\n",
              "day        0\n",
              "dtype: int64"
            ]
          },
          "metadata": {},
          "execution_count": 11
        }
      ],
      "source": [
        "df.isna().sum()"
      ]
    },
    {
      "cell_type": "markdown",
      "metadata": {
        "id": "BWKRtBJ3_Zct"
      },
      "source": [
        "### Дубликаты\n",
        "Посчитаем явные дубликаты в таблице одной командой:"
      ]
    },
    {
      "cell_type": "code",
      "execution_count": 12,
      "metadata": {
        "id": "36eES_S0_Zct",
        "colab": {
          "base_uri": "https://localhost:8080/"
        },
        "outputId": "f279f8d4-b88f-4be6-d40e-1606312294e5"
      },
      "outputs": [
        {
          "output_type": "execute_result",
          "data": {
            "text/plain": [
              "3826"
            ]
          },
          "metadata": {},
          "execution_count": 12
        }
      ],
      "source": [
        "df.duplicated().sum()"
      ]
    },
    {
      "cell_type": "markdown",
      "metadata": {
        "id": "Ot25h6XR_Zct"
      },
      "source": [
        "Вызовем специальный метод `pandas`, чтобы удалить явные дубликаты:"
      ]
    },
    {
      "cell_type": "code",
      "execution_count": 13,
      "metadata": {
        "id": "exFHq6tt_Zct"
      },
      "outputs": [],
      "source": [
        "df = df.drop_duplicates().reset_index(drop=True) "
      ]
    },
    {
      "cell_type": "markdown",
      "metadata": {
        "id": "Im2YwBEG_Zct"
      },
      "source": [
        "Ещё раз посчитаем явные дубликаты в таблице — убедимся, что полностью от них избавились:"
      ]
    },
    {
      "cell_type": "code",
      "execution_count": 14,
      "metadata": {
        "id": "-8PuNWQ0_Zct",
        "scrolled": true,
        "colab": {
          "base_uri": "https://localhost:8080/"
        },
        "outputId": "a98155ce-7a66-45b9-fd7b-72f5e75d8321"
      },
      "outputs": [
        {
          "output_type": "execute_result",
          "data": {
            "text/plain": [
              "0"
            ]
          },
          "metadata": {},
          "execution_count": 14
        }
      ],
      "source": [
        "df.duplicated().sum()"
      ]
    },
    {
      "cell_type": "markdown",
      "metadata": {
        "id": "QlFBsxAr_Zct"
      },
      "source": [
        "Теперь избавимся от неявных дубликатов в колонке `genre`. Например, название одного и того же жанра может быть записано немного по-разному. Такие ошибки тоже повлияют на результат исследования."
      ]
    },
    {
      "cell_type": "markdown",
      "metadata": {
        "id": "eSjWwsOh_Zct"
      },
      "source": [
        "Выведем на экран список уникальных названий жанров, отсортированный в алфавитном порядке. Для этого:\n",
        "* извлекем нужный столбец датафрейма, \n",
        "* применим к нему метод сортировки,\n",
        "* для отсортированного столбца вызовим метод, который вернёт уникальные значения из столбца."
      ]
    },
    {
      "cell_type": "code",
      "execution_count": 15,
      "metadata": {
        "id": "JIUcqzZN_Zct",
        "colab": {
          "base_uri": "https://localhost:8080/"
        },
        "outputId": "75335d2b-0ba3-4c78-8351-cca62c340053"
      },
      "outputs": [
        {
          "output_type": "stream",
          "name": "stdout",
          "text": [
            "['acid' 'acoustic' 'action' 'adult' 'africa' 'afrikaans' 'alternative'\n",
            " 'alternativepunk' 'ambient' 'americana' 'animated' 'anime' 'arabesk'\n",
            " 'arabic' 'arena' 'argentinetango' 'art' 'audiobook' 'author' 'avantgarde'\n",
            " 'axé' 'baile' 'balkan' 'beats' 'bigroom' 'black' 'bluegrass' 'blues'\n",
            " 'bollywood' 'bossa' 'brazilian' 'breakbeat' 'breaks' 'broadway'\n",
            " 'cantautori' 'cantopop' 'canzone' 'caribbean' 'caucasian' 'celtic'\n",
            " 'chamber' 'chanson' 'children' 'chill' 'chinese' 'choral' 'christian'\n",
            " 'christmas' 'classical' 'classicmetal' 'club' 'colombian' 'comedy'\n",
            " 'conjazz' 'contemporary' 'country' 'cuban' 'dance' 'dancehall' 'dancepop'\n",
            " 'dark' 'death' 'deep' 'deutschrock' 'deutschspr' 'dirty' 'disco' 'dnb'\n",
            " 'documentary' 'downbeat' 'downtempo' 'drum' 'dub' 'dubstep' 'eastern'\n",
            " 'easy' 'electronic' 'electropop' 'emo' 'entehno' 'epicmetal' 'estrada'\n",
            " 'ethnic' 'eurofolk' 'european' 'experimental' 'extrememetal' 'fado'\n",
            " 'fairytail' 'film' 'fitness' 'flamenco' 'folk' 'folklore' 'folkmetal'\n",
            " 'folkrock' 'folktronica' 'forró' 'frankreich' 'französisch' 'french'\n",
            " 'funk' 'future' 'gangsta' 'garage' 'german' 'ghazal' 'gitarre' 'glitch'\n",
            " 'gospel' 'gothic' 'grime' 'grunge' 'gypsy' 'handsup' \"hard'n'heavy\"\n",
            " 'hardcore' 'hardstyle' 'hardtechno' 'hip' 'hip-hop' 'hiphop' 'historisch'\n",
            " 'holiday' 'hop' 'horror' 'house' 'hymn' 'idm' 'independent' 'indian'\n",
            " 'indie' 'indipop' 'industrial' 'inspirational' 'instrumental'\n",
            " 'international' 'irish' 'jam' 'japanese' 'jazz' 'jewish' 'jpop' 'jungle'\n",
            " 'k-pop' 'karadeniz' 'karaoke' 'kayokyoku' 'korean' 'laiko' 'latin'\n",
            " 'latino' 'leftfield' 'local' 'lounge' 'loungeelectronic' 'lovers'\n",
            " 'malaysian' 'mandopop' 'marschmusik' 'meditative' 'mediterranean'\n",
            " 'melodic' 'metal' 'metalcore' 'mexican' 'middle' 'minimal'\n",
            " 'miscellaneous' 'modern' 'mood' 'mpb' 'muslim' 'native' 'neoklassik'\n",
            " 'neue' 'new' 'newage' 'newwave' 'nu' 'nujazz' 'numetal' 'oceania' 'old'\n",
            " 'opera' 'orchestral' 'other' 'piano' 'podcasts' 'pop' 'popdance'\n",
            " 'popelectronic' 'popeurodance' 'poprussian' 'post' 'posthardcore'\n",
            " 'postrock' 'power' 'progmetal' 'progressive' 'psychedelic' 'punjabi'\n",
            " 'punk' 'quebecois' 'ragga' 'ram' 'rancheras' 'rap' 'rave' 'reggae'\n",
            " 'reggaeton' 'regional' 'relax' 'religious' 'retro' 'rhythm' 'rnb' 'rnr'\n",
            " 'rock' 'rockabilly' 'rockalternative' 'rockindie' 'rockother' 'romance'\n",
            " 'roots' 'ruspop' 'rusrap' 'rusrock' 'russian' 'salsa' 'samba' 'scenic'\n",
            " 'schlager' 'self' 'sertanejo' 'shanson' 'shoegazing' 'showtunes' 'singer'\n",
            " 'ska' 'skarock' 'slow' 'smooth' 'soft' 'soul' 'soulful' 'sound'\n",
            " 'soundtrack' 'southern' 'specialty' 'speech' 'spiritual' 'sport'\n",
            " 'stonerrock' 'surf' 'swing' 'synthpop' 'synthrock' 'sängerportrait'\n",
            " 'tango' 'tanzorchester' 'taraftar' 'tatar' 'tech' 'techno' 'teen'\n",
            " 'thrash' 'top' 'traditional' 'tradjazz' 'trance' 'tribal' 'trip'\n",
            " 'triphop' 'tropical' 'türk' 'türkçe' 'ukrrock' 'unknown' 'urban' 'uzbek'\n",
            " 'variété' 'vi' 'videogame' 'vocal' 'western' 'world' 'worldbeat' 'ïîï'\n",
            " 'электроника']\n"
          ]
        }
      ],
      "source": [
        "list_genre = df['genre'].sort_values()\n",
        "list_genre_unique = list_genre.unique()  \n",
        "print(list_genre_unique) "
      ]
    },
    {
      "cell_type": "markdown",
      "metadata": {
        "id": "qej-Qmuo_Zct"
      },
      "source": [
        "Просмотрим список и найдем неявные дубликаты названия `hiphop`. Это могут быть названия с ошибками или альтернативные названия того же жанра.\n",
        "\n",
        "Увидим следующие неявные дубликаты:\n",
        "* *hip*,\n",
        "* *hop*,\n",
        "* *hip-hop*.\n",
        "\n",
        "Чтобы очистить от них таблицу, напишем функцию `replace_wrong_genres()` с двумя параметрами: \n",
        "* `wrong_genres` — список дубликатов,\n",
        "* `correct_genre` — строка с правильным значением.\n",
        "\n",
        "Функция должна исправить колонку `genre` в таблице `df`: заменить каждое значение из списка `wrong_genres` на значение из `correct_genre`."
      ]
    },
    {
      "cell_type": "code",
      "execution_count": 16,
      "metadata": {
        "id": "ErNDkmns_Zct",
        "scrolled": true
      },
      "outputs": [],
      "source": [
        "def replace_wrong_genres(wrong_genres, correct_genre):\n",
        "    for wrong_genre in wrong_genres:\n",
        "        df['genre'] = df['genre'].replace(wrong_genre, correct_genre)"
      ]
    },
    {
      "cell_type": "markdown",
      "metadata": {
        "id": "aDoBJxbA_Zct"
      },
      "source": [
        "Вызовим `replace_wrong_genres()` и передадим ей такие аргументы, чтобы она устранила неявные дубликаты: вместо `hip`, `hop` и `hip-hop` в таблице должно быть значение `hiphop`:"
      ]
    },
    {
      "cell_type": "code",
      "execution_count": 17,
      "metadata": {
        "id": "YN5i2hpmSo09",
        "scrolled": true,
        "colab": {
          "base_uri": "https://localhost:8080/"
        },
        "outputId": "38ad8a26-84df-422f-b5d3-d60e41f265d9"
      },
      "outputs": [
        {
          "output_type": "stream",
          "name": "stdout",
          "text": [
            "        user_id                              track            artist  \\\n",
            "0      FFB692EC                  Kamigata To Boots  The Mass Missile   \n",
            "1      55204538        Delayed Because of Accident  Andreas Rönnberg   \n",
            "2        20EC38                  Funiculì funiculà       Mario Lanza   \n",
            "3      A3DD03C9              Dragons in the Sunset        Fire + Ice   \n",
            "4      E2DC1FAE                        Soul People        Space Echo   \n",
            "...         ...                                ...               ...   \n",
            "61248  729CBB09                            My Name            McLean   \n",
            "61249  D08D4A55  Maybe One Day (feat. Black Spade)       Blu & Exile   \n",
            "61250  C5E3A0D5                          Jalopiina           unknown   \n",
            "61251  321D0506                      Freight Train     Chas McDevitt   \n",
            "61252  3A64EF84          Tell Me Sweet Little Lies      Monica Lopez   \n",
            "\n",
            "            genre              city      time        day  \n",
            "0            rock  Saint-Petersburg  20:28:33  Wednesday  \n",
            "1            rock            Moscow  14:07:09     Friday  \n",
            "2             pop  Saint-Petersburg  20:58:07  Wednesday  \n",
            "3            folk  Saint-Petersburg  08:37:09     Monday  \n",
            "4           dance            Moscow  08:34:34     Monday  \n",
            "...           ...               ...       ...        ...  \n",
            "61248         rnb            Moscow  13:32:28  Wednesday  \n",
            "61249      hiphop  Saint-Petersburg  10:00:00     Monday  \n",
            "61250  industrial            Moscow  20:09:26     Friday  \n",
            "61251        rock            Moscow  21:43:59     Friday  \n",
            "61252     country            Moscow  21:59:46     Friday  \n",
            "\n",
            "[61253 rows x 7 columns]\n"
          ]
        }
      ],
      "source": [
        "duplicates = ['hip', 'hop', 'hip-hop']  \n",
        "name = 'hiphop' \n",
        "replace_wrong_genres(\n",
        "    duplicates, name\n",
        ")  \n",
        "print(df)"
      ]
    },
    {
      "cell_type": "markdown",
      "metadata": {
        "id": "zQKF16_RG15m"
      },
      "source": [
        "Проверим, что заменили неправильные названия:\n",
        "\n",
        "*   hip\n",
        "*   hop\n",
        "*   hip-hop\n",
        "\n",
        "Выведем отсортированный список уникальных значений столбца `genre`:"
      ]
    },
    {
      "cell_type": "code",
      "execution_count": 18,
      "metadata": {
        "id": "wvixALnFG15m",
        "colab": {
          "base_uri": "https://localhost:8080/"
        },
        "outputId": "c01fabf3-9d68-48ca-e8ae-4b17e4d74a2a"
      },
      "outputs": [
        {
          "output_type": "stream",
          "name": "stdout",
          "text": [
            "['acid' 'acoustic' 'action' 'adult' 'africa' 'afrikaans' 'alternative'\n",
            " 'alternativepunk' 'ambient' 'americana' 'animated' 'anime' 'arabesk'\n",
            " 'arabic' 'arena' 'argentinetango' 'art' 'audiobook' 'author' 'avantgarde'\n",
            " 'axé' 'baile' 'balkan' 'beats' 'bigroom' 'black' 'bluegrass' 'blues'\n",
            " 'bollywood' 'bossa' 'brazilian' 'breakbeat' 'breaks' 'broadway'\n",
            " 'cantautori' 'cantopop' 'canzone' 'caribbean' 'caucasian' 'celtic'\n",
            " 'chamber' 'chanson' 'children' 'chill' 'chinese' 'choral' 'christian'\n",
            " 'christmas' 'classical' 'classicmetal' 'club' 'colombian' 'comedy'\n",
            " 'conjazz' 'contemporary' 'country' 'cuban' 'dance' 'dancehall' 'dancepop'\n",
            " 'dark' 'death' 'deep' 'deutschrock' 'deutschspr' 'dirty' 'disco' 'dnb'\n",
            " 'documentary' 'downbeat' 'downtempo' 'drum' 'dub' 'dubstep' 'eastern'\n",
            " 'easy' 'electronic' 'electropop' 'emo' 'entehno' 'epicmetal' 'estrada'\n",
            " 'ethnic' 'eurofolk' 'european' 'experimental' 'extrememetal' 'fado'\n",
            " 'fairytail' 'film' 'fitness' 'flamenco' 'folk' 'folklore' 'folkmetal'\n",
            " 'folkrock' 'folktronica' 'forró' 'frankreich' 'französisch' 'french'\n",
            " 'funk' 'future' 'gangsta' 'garage' 'german' 'ghazal' 'gitarre' 'glitch'\n",
            " 'gospel' 'gothic' 'grime' 'grunge' 'gypsy' 'handsup' \"hard'n'heavy\"\n",
            " 'hardcore' 'hardstyle' 'hardtechno' 'hiphop' 'historisch' 'holiday'\n",
            " 'horror' 'house' 'hymn' 'idm' 'independent' 'indian' 'indie' 'indipop'\n",
            " 'industrial' 'inspirational' 'instrumental' 'international' 'irish' 'jam'\n",
            " 'japanese' 'jazz' 'jewish' 'jpop' 'jungle' 'k-pop' 'karadeniz' 'karaoke'\n",
            " 'kayokyoku' 'korean' 'laiko' 'latin' 'latino' 'leftfield' 'local'\n",
            " 'lounge' 'loungeelectronic' 'lovers' 'malaysian' 'mandopop' 'marschmusik'\n",
            " 'meditative' 'mediterranean' 'melodic' 'metal' 'metalcore' 'mexican'\n",
            " 'middle' 'minimal' 'miscellaneous' 'modern' 'mood' 'mpb' 'muslim'\n",
            " 'native' 'neoklassik' 'neue' 'new' 'newage' 'newwave' 'nu' 'nujazz'\n",
            " 'numetal' 'oceania' 'old' 'opera' 'orchestral' 'other' 'piano' 'podcasts'\n",
            " 'pop' 'popdance' 'popelectronic' 'popeurodance' 'poprussian' 'post'\n",
            " 'posthardcore' 'postrock' 'power' 'progmetal' 'progressive' 'psychedelic'\n",
            " 'punjabi' 'punk' 'quebecois' 'ragga' 'ram' 'rancheras' 'rap' 'rave'\n",
            " 'reggae' 'reggaeton' 'regional' 'relax' 'religious' 'retro' 'rhythm'\n",
            " 'rnb' 'rnr' 'rock' 'rockabilly' 'rockalternative' 'rockindie' 'rockother'\n",
            " 'romance' 'roots' 'ruspop' 'rusrap' 'rusrock' 'russian' 'salsa' 'samba'\n",
            " 'scenic' 'schlager' 'self' 'sertanejo' 'shanson' 'shoegazing' 'showtunes'\n",
            " 'singer' 'ska' 'skarock' 'slow' 'smooth' 'soft' 'soul' 'soulful' 'sound'\n",
            " 'soundtrack' 'southern' 'specialty' 'speech' 'spiritual' 'sport'\n",
            " 'stonerrock' 'surf' 'swing' 'synthpop' 'synthrock' 'sängerportrait'\n",
            " 'tango' 'tanzorchester' 'taraftar' 'tatar' 'tech' 'techno' 'teen'\n",
            " 'thrash' 'top' 'traditional' 'tradjazz' 'trance' 'tribal' 'trip'\n",
            " 'triphop' 'tropical' 'türk' 'türkçe' 'ukrrock' 'unknown' 'urban' 'uzbek'\n",
            " 'variété' 'vi' 'videogame' 'vocal' 'western' 'world' 'worldbeat' 'ïîï'\n",
            " 'электроника']\n"
          ]
        }
      ],
      "source": [
        "list_genre = df['genre'].sort_values().unique() \n",
        "print(list_genre) "
      ]
    },
    {
      "cell_type": "markdown",
      "metadata": {
        "id": "jz6a9-7HQUDd"
      },
      "source": [
        "**Выводы**\n",
        "\n",
        "Предобработка обнаружила три проблемы в данных:\n",
        "\n",
        "- нарушения в стиле заголовков,\n",
        "- пропущенные значения,\n",
        "- дубликаты — явные и неявные.\n",
        "\n",
        "Исправили заголовки, чтобы упростить работу с таблицей. Без дубликатов исследование станет более точным.\n",
        "\n",
        "Пропущенные значения заменили на `'unknown'`. Ещё предстоит увидеть, не повредят ли исследованию пропуски в колонке `genre`.\n",
        "\n",
        "Теперь можно перейти к проверке гипотез. "
      ]
    },
    {
      "cell_type": "markdown",
      "metadata": {
        "id": "WttZHXH0SqKk"
      },
      "source": [
        "## Проверка гипотез"
      ]
    },
    {
      "cell_type": "markdown",
      "metadata": {
        "id": "Im936VVi_Zcu"
      },
      "source": [
        "### Сравнение поведения пользователей двух столиц"
      ]
    },
    {
      "cell_type": "markdown",
      "metadata": {
        "id": "nwt_MuaL_Zcu"
      },
      "source": [
        "Первая гипотеза утверждает, что пользователи по-разному слушают музыку в Москве и Санкт-Петербурге. Проверим это предположение по данным о трёх днях недели — понедельнике, среде и пятнице. Для этого:\n",
        "\n",
        "* Разделим пользователей Москвы и Санкт-Петербурга\n",
        "* Сравним, сколько треков послушала каждая группа пользователей в понедельник, среду и пятницу.\n"
      ]
    },
    {
      "cell_type": "markdown",
      "metadata": {
        "id": "8Dw_YMmT_Zcu"
      },
      "source": [
        "Для тренировки сначала выполним каждый из расчётов по отдельности. \n",
        "\n",
        "Оценим активность пользователей в каждом городе. Сгруппируем данные по городу и посчитаем прослушивания в каждой группе.\n",
        "\n"
      ]
    },
    {
      "cell_type": "code",
      "execution_count": 19,
      "metadata": {
        "id": "0_Qs96oh_Zcu",
        "colab": {
          "base_uri": "https://localhost:8080/",
          "height": 91
        },
        "outputId": "4d698e4c-69e8-40be-c072-f8b94ded55cd"
      },
      "outputs": [
        {
          "output_type": "display_data",
          "data": {
            "text/plain": [
              "city\n",
              "Moscow              42741\n",
              "Saint-Petersburg    18512\n",
              "Name: genre, dtype: int64"
            ]
          },
          "metadata": {}
        }
      ],
      "source": [
        "df_groupby_city = df.groupby('city')['genre'].count()\n",
        "\n",
        "display(df_groupby_city)"
      ]
    },
    {
      "cell_type": "markdown",
      "metadata": {
        "id": "dzli3w8o_Zcu"
      },
      "source": [
        "В Москве прослушиваний больше, чем в Петербурге. Из этого не следует, что московские пользователи чаще слушают музыку. Просто самих пользователей в Москве больше.\n",
        "\n",
        "Теперь сгруппируем данные по дню недели и подсчитаем прослушивания в понедельник, среду и пятницу. Учтем, что в данных есть информация о прослушиваниях только за эти дни.\n"
      ]
    },
    {
      "cell_type": "code",
      "execution_count": 20,
      "metadata": {
        "id": "uZMKjiJz_Zcu",
        "scrolled": false,
        "colab": {
          "base_uri": "https://localhost:8080/",
          "height": 109
        },
        "outputId": "3ff373b7-8615-4cf5-c895-39a716c80e33"
      },
      "outputs": [
        {
          "output_type": "display_data",
          "data": {
            "text/plain": [
              "day\n",
              "Friday       21840\n",
              "Monday       21354\n",
              "Wednesday    18059\n",
              "Name: genre, dtype: int64"
            ]
          },
          "metadata": {}
        }
      ],
      "source": [
        "df_weekday = df.groupby('day')['genre'].count()\n",
        "\n",
        "display(df_weekday)"
      ]
    },
    {
      "cell_type": "markdown",
      "metadata": {
        "id": "cC2tNrlL_Zcu"
      },
      "source": [
        "В среднем пользователи из двух городов менее активны по средам. Но картина может измениться, если рассмотреть каждый город в отдельности."
      ]
    },
    {
      "cell_type": "markdown",
      "metadata": {
        "id": "POzs8bGa_Zcu"
      },
      "source": [
        "Напишием функцию, которая объединит группировку по городу и по дням недели.\n",
        "\n",
        "Создадим функцию `number_tracks()`, которая посчитает прослушивания для заданного дня и города. Ей понадобятся два параметра:\n",
        "* день недели,\n",
        "* название города.\n",
        "\n",
        "В функции сохраним в переменную строки исходной таблицы, у которых значение:\n",
        "  * в колонке `day` равно параметру `day`,\n",
        "  * в колонке `city` равно параметру `city`.\n",
        "\n",
        "Для этого применим последовательную фильтрацию с логической индексацией.\n",
        "\n",
        "Затем посчитаем значения в столбце `user_id` получившейся таблицы. Результат сохраним в новую переменную. Вернем эту переменную из функции."
      ]
    },
    {
      "cell_type": "code",
      "execution_count": 21,
      "metadata": {
        "id": "Nz3GdQB1_Zcu",
        "scrolled": true
      },
      "outputs": [],
      "source": [
        "def number_tracks (day, city):\n",
        "    track_list = df[df['day'] == day]\n",
        "    track_list = track_list[track_list['city'] == city] \n",
        "    track_list_count = track_list['user_id'].count()\n",
        "    return track_list_count "
      ]
    },
    {
      "cell_type": "markdown",
      "metadata": {
        "id": "ytf7xFrFJQ2r"
      },
      "source": [
        "Вызовим `number_tracks()` шесть раз, меняя значение параметров — так, чтобы получить данные для каждого города в каждый из трёх дней."
      ]
    },
    {
      "cell_type": "code",
      "execution_count": 22,
      "metadata": {
        "id": "rJcRATNQ_Zcu",
        "scrolled": true,
        "colab": {
          "base_uri": "https://localhost:8080/"
        },
        "outputId": "000446a4-8441-41ce-f146-ab7df2d957a9"
      },
      "outputs": [
        {
          "output_type": "execute_result",
          "data": {
            "text/plain": [
              "15740"
            ]
          },
          "metadata": {},
          "execution_count": 22
        }
      ],
      "source": [
        "number_tracks('Monday', 'Moscow') "
      ]
    },
    {
      "cell_type": "code",
      "execution_count": 23,
      "metadata": {
        "id": "hq_ncZ5T_Zcu",
        "scrolled": true,
        "colab": {
          "base_uri": "https://localhost:8080/"
        },
        "outputId": "4a3552ac-0d0d-4e7f-8979-14039197ec17"
      },
      "outputs": [
        {
          "output_type": "execute_result",
          "data": {
            "text/plain": [
              "5614"
            ]
          },
          "metadata": {},
          "execution_count": 23
        }
      ],
      "source": [
        "number_tracks('Monday', 'Saint-Petersburg')  "
      ]
    },
    {
      "cell_type": "code",
      "execution_count": 24,
      "metadata": {
        "id": "_NTy2VPU_Zcu",
        "colab": {
          "base_uri": "https://localhost:8080/"
        },
        "outputId": "aef88cdd-1b8c-42f6-deae-b4334817842e"
      },
      "outputs": [
        {
          "output_type": "execute_result",
          "data": {
            "text/plain": [
              "11056"
            ]
          },
          "metadata": {},
          "execution_count": 24
        }
      ],
      "source": [
        "number_tracks('Wednesday', 'Moscow')  "
      ]
    },
    {
      "cell_type": "code",
      "execution_count": 25,
      "metadata": {
        "id": "j2y3TAwo_Zcu",
        "colab": {
          "base_uri": "https://localhost:8080/"
        },
        "outputId": "3f9ff9dd-2d2f-474a-e3b7-a189902cf11a"
      },
      "outputs": [
        {
          "output_type": "execute_result",
          "data": {
            "text/plain": [
              "7003"
            ]
          },
          "metadata": {},
          "execution_count": 25
        }
      ],
      "source": [
        "number_tracks('Wednesday', 'Saint-Petersburg')  "
      ]
    },
    {
      "cell_type": "code",
      "execution_count": 26,
      "metadata": {
        "id": "vYDw5u_K_Zcu",
        "colab": {
          "base_uri": "https://localhost:8080/"
        },
        "outputId": "6138af60-c917-4789-c7d6-60e5454f153e"
      },
      "outputs": [
        {
          "output_type": "execute_result",
          "data": {
            "text/plain": [
              "15945"
            ]
          },
          "metadata": {},
          "execution_count": 26
        }
      ],
      "source": [
        "number_tracks('Friday', 'Moscow')  "
      ]
    },
    {
      "cell_type": "code",
      "execution_count": 27,
      "metadata": {
        "id": "8_yzFtW3_Zcu",
        "colab": {
          "base_uri": "https://localhost:8080/"
        },
        "outputId": "d35555c4-85f1-43c3-9ea3-64e9d968b637"
      },
      "outputs": [
        {
          "output_type": "execute_result",
          "data": {
            "text/plain": [
              "5895"
            ]
          },
          "metadata": {},
          "execution_count": 27
        }
      ],
      "source": [
        "number_tracks('Friday', 'Saint-Petersburg')  "
      ]
    },
    {
      "cell_type": "markdown",
      "metadata": {
        "id": "7QXffbO-_Zcu"
      },
      "source": [
        "Создадим c помощью конструктора `pd.DataFrame` таблицу, где\n",
        "* названия колонок — `['city', 'monday', 'wednesday', 'friday']`;\n",
        "* данные — результаты, которые получили с помощью `number_tracks`."
      ]
    },
    {
      "cell_type": "code",
      "execution_count": 28,
      "metadata": {
        "id": "APAcLpOr_Zcu",
        "colab": {
          "base_uri": "https://localhost:8080/",
          "height": 112
        },
        "outputId": "7dc8bd27-e5eb-4690-b42f-ddf6560782e6"
      },
      "outputs": [
        {
          "output_type": "display_data",
          "data": {
            "text/plain": [
              "               city  monday  wednesday  friday\n",
              "0            Moscow   15740      11056   15945\n",
              "1  Saint-Petersburg    5614       7003    5895"
            ],
            "text/html": [
              "\n",
              "  <div id=\"df-027192e8-fb2a-4a6e-bda8-19429e9e64c9\">\n",
              "    <div class=\"colab-df-container\">\n",
              "      <div>\n",
              "<style scoped>\n",
              "    .dataframe tbody tr th:only-of-type {\n",
              "        vertical-align: middle;\n",
              "    }\n",
              "\n",
              "    .dataframe tbody tr th {\n",
              "        vertical-align: top;\n",
              "    }\n",
              "\n",
              "    .dataframe thead th {\n",
              "        text-align: right;\n",
              "    }\n",
              "</style>\n",
              "<table border=\"1\" class=\"dataframe\">\n",
              "  <thead>\n",
              "    <tr style=\"text-align: right;\">\n",
              "      <th></th>\n",
              "      <th>city</th>\n",
              "      <th>monday</th>\n",
              "      <th>wednesday</th>\n",
              "      <th>friday</th>\n",
              "    </tr>\n",
              "  </thead>\n",
              "  <tbody>\n",
              "    <tr>\n",
              "      <th>0</th>\n",
              "      <td>Moscow</td>\n",
              "      <td>15740</td>\n",
              "      <td>11056</td>\n",
              "      <td>15945</td>\n",
              "    </tr>\n",
              "    <tr>\n",
              "      <th>1</th>\n",
              "      <td>Saint-Petersburg</td>\n",
              "      <td>5614</td>\n",
              "      <td>7003</td>\n",
              "      <td>5895</td>\n",
              "    </tr>\n",
              "  </tbody>\n",
              "</table>\n",
              "</div>\n",
              "      <button class=\"colab-df-convert\" onclick=\"convertToInteractive('df-027192e8-fb2a-4a6e-bda8-19429e9e64c9')\"\n",
              "              title=\"Convert this dataframe to an interactive table.\"\n",
              "              style=\"display:none;\">\n",
              "        \n",
              "  <svg xmlns=\"http://www.w3.org/2000/svg\" height=\"24px\"viewBox=\"0 0 24 24\"\n",
              "       width=\"24px\">\n",
              "    <path d=\"M0 0h24v24H0V0z\" fill=\"none\"/>\n",
              "    <path d=\"M18.56 5.44l.94 2.06.94-2.06 2.06-.94-2.06-.94-.94-2.06-.94 2.06-2.06.94zm-11 1L8.5 8.5l.94-2.06 2.06-.94-2.06-.94L8.5 2.5l-.94 2.06-2.06.94zm10 10l.94 2.06.94-2.06 2.06-.94-2.06-.94-.94-2.06-.94 2.06-2.06.94z\"/><path d=\"M17.41 7.96l-1.37-1.37c-.4-.4-.92-.59-1.43-.59-.52 0-1.04.2-1.43.59L10.3 9.45l-7.72 7.72c-.78.78-.78 2.05 0 2.83L4 21.41c.39.39.9.59 1.41.59.51 0 1.02-.2 1.41-.59l7.78-7.78 2.81-2.81c.8-.78.8-2.07 0-2.86zM5.41 20L4 18.59l7.72-7.72 1.47 1.35L5.41 20z\"/>\n",
              "  </svg>\n",
              "      </button>\n",
              "      \n",
              "  <style>\n",
              "    .colab-df-container {\n",
              "      display:flex;\n",
              "      flex-wrap:wrap;\n",
              "      gap: 12px;\n",
              "    }\n",
              "\n",
              "    .colab-df-convert {\n",
              "      background-color: #E8F0FE;\n",
              "      border: none;\n",
              "      border-radius: 50%;\n",
              "      cursor: pointer;\n",
              "      display: none;\n",
              "      fill: #1967D2;\n",
              "      height: 32px;\n",
              "      padding: 0 0 0 0;\n",
              "      width: 32px;\n",
              "    }\n",
              "\n",
              "    .colab-df-convert:hover {\n",
              "      background-color: #E2EBFA;\n",
              "      box-shadow: 0px 1px 2px rgba(60, 64, 67, 0.3), 0px 1px 3px 1px rgba(60, 64, 67, 0.15);\n",
              "      fill: #174EA6;\n",
              "    }\n",
              "\n",
              "    [theme=dark] .colab-df-convert {\n",
              "      background-color: #3B4455;\n",
              "      fill: #D2E3FC;\n",
              "    }\n",
              "\n",
              "    [theme=dark] .colab-df-convert:hover {\n",
              "      background-color: #434B5C;\n",
              "      box-shadow: 0px 1px 3px 1px rgba(0, 0, 0, 0.15);\n",
              "      filter: drop-shadow(0px 1px 2px rgba(0, 0, 0, 0.3));\n",
              "      fill: #FFFFFF;\n",
              "    }\n",
              "  </style>\n",
              "\n",
              "      <script>\n",
              "        const buttonEl =\n",
              "          document.querySelector('#df-027192e8-fb2a-4a6e-bda8-19429e9e64c9 button.colab-df-convert');\n",
              "        buttonEl.style.display =\n",
              "          google.colab.kernel.accessAllowed ? 'block' : 'none';\n",
              "\n",
              "        async function convertToInteractive(key) {\n",
              "          const element = document.querySelector('#df-027192e8-fb2a-4a6e-bda8-19429e9e64c9');\n",
              "          const dataTable =\n",
              "            await google.colab.kernel.invokeFunction('convertToInteractive',\n",
              "                                                     [key], {});\n",
              "          if (!dataTable) return;\n",
              "\n",
              "          const docLinkHtml = 'Like what you see? Visit the ' +\n",
              "            '<a target=\"_blank\" href=https://colab.research.google.com/notebooks/data_table.ipynb>data table notebook</a>'\n",
              "            + ' to learn more about interactive tables.';\n",
              "          element.innerHTML = '';\n",
              "          dataTable['output_type'] = 'display_data';\n",
              "          await google.colab.output.renderOutput(dataTable, element);\n",
              "          const docLink = document.createElement('div');\n",
              "          docLink.innerHTML = docLinkHtml;\n",
              "          element.appendChild(docLink);\n",
              "        }\n",
              "      </script>\n",
              "    </div>\n",
              "  </div>\n",
              "  "
            ]
          },
          "metadata": {}
        }
      ],
      "source": [
        "data = [['Moscow', 15740, 11056, 15945],\n",
        "        ['Saint-Petersburg', 5614, 7003, 5895]]\n",
        "columns = ['city', 'monday', 'wednesday', 'friday']\n",
        "table = pd.DataFrame (data=data, columns=columns) \n",
        "\n",
        "display(table)"
      ]
    },
    {
      "cell_type": "markdown",
      "metadata": {
        "id": "-EgPIHYu_Zcu"
      },
      "source": [
        "**Выводы**\n",
        "\n",
        "Данные показывают разницу поведения пользователей:\n",
        "\n",
        "- В Москве пик прослушиваний приходится на понедельник и пятницу, а в среду заметен спад.\n",
        "- В Петербурге, наоборот, больше слушают музыку по средам. Активность в понедельник и пятницу здесь почти в равной мере уступает среде.\n",
        "\n",
        "Значит, данные говорят в пользу первой гипотезы."
      ]
    },
    {
      "cell_type": "markdown",
      "metadata": {
        "id": "atZAxtq4_Zcu"
      },
      "source": [
        "### Музыка в начале и в конце недели"
      ]
    },
    {
      "cell_type": "markdown",
      "metadata": {
        "id": "eXrQqXFH_Zcu"
      },
      "source": [
        "Согласно второй гипотезе, утром в понедельник в Москве преобладают одни жанры, а в Петербурге — другие. Так же и вечером пятницы преобладают разные жанры — в зависимости от города."
      ]
    },
    {
      "cell_type": "markdown",
      "metadata": {
        "id": "S8UcW6Hw_Zcu"
      },
      "source": [
        "Сохраним таблицы с данными в две переменные:\n",
        "* по Москве — в `moscow_general`;\n",
        "* по Санкт-Петербургу — в `spb_general`."
      ]
    },
    {
      "cell_type": "code",
      "execution_count": 29,
      "metadata": {
        "id": "qeaFfM_P_Zcu",
        "scrolled": true,
        "colab": {
          "base_uri": "https://localhost:8080/",
          "height": 423
        },
        "outputId": "3431bb9d-fc96-490a-f26b-e3cc70da20f3"
      },
      "outputs": [
        {
          "output_type": "display_data",
          "data": {
            "text/plain": [
              "        user_id                          track                   artist  \\\n",
              "1      55204538    Delayed Because of Accident         Andreas Rönnberg   \n",
              "4      E2DC1FAE                    Soul People               Space Echo   \n",
              "6      4CB90AA5                           True             Roman Messer   \n",
              "7      F03E1C1F               Feeling This Way          Polina Griffith   \n",
              "8      8FA1D3BE       И вновь продолжается бой                  unknown   \n",
              "...         ...                            ...                      ...   \n",
              "61247  83A474E7  I Worship Only What You Bleed  The Black Dahlia Murder   \n",
              "61248  729CBB09                        My Name                   McLean   \n",
              "61250  C5E3A0D5                      Jalopiina                  unknown   \n",
              "61251  321D0506                  Freight Train            Chas McDevitt   \n",
              "61252  3A64EF84      Tell Me Sweet Little Lies             Monica Lopez   \n",
              "\n",
              "              genre    city      time        day  \n",
              "1              rock  Moscow  14:07:09     Friday  \n",
              "4             dance  Moscow  08:34:34     Monday  \n",
              "6             dance  Moscow  13:00:07  Wednesday  \n",
              "7             dance  Moscow  20:47:49  Wednesday  \n",
              "8            ruspop  Moscow  09:17:40     Friday  \n",
              "...             ...     ...       ...        ...  \n",
              "61247  extrememetal  Moscow  21:07:12     Monday  \n",
              "61248           rnb  Moscow  13:32:28  Wednesday  \n",
              "61250    industrial  Moscow  20:09:26     Friday  \n",
              "61251          rock  Moscow  21:43:59     Friday  \n",
              "61252       country  Moscow  21:59:46     Friday  \n",
              "\n",
              "[42741 rows x 7 columns]"
            ],
            "text/html": [
              "\n",
              "  <div id=\"df-d5542936-d5d4-4fae-bf1f-16d03f537380\">\n",
              "    <div class=\"colab-df-container\">\n",
              "      <div>\n",
              "<style scoped>\n",
              "    .dataframe tbody tr th:only-of-type {\n",
              "        vertical-align: middle;\n",
              "    }\n",
              "\n",
              "    .dataframe tbody tr th {\n",
              "        vertical-align: top;\n",
              "    }\n",
              "\n",
              "    .dataframe thead th {\n",
              "        text-align: right;\n",
              "    }\n",
              "</style>\n",
              "<table border=\"1\" class=\"dataframe\">\n",
              "  <thead>\n",
              "    <tr style=\"text-align: right;\">\n",
              "      <th></th>\n",
              "      <th>user_id</th>\n",
              "      <th>track</th>\n",
              "      <th>artist</th>\n",
              "      <th>genre</th>\n",
              "      <th>city</th>\n",
              "      <th>time</th>\n",
              "      <th>day</th>\n",
              "    </tr>\n",
              "  </thead>\n",
              "  <tbody>\n",
              "    <tr>\n",
              "      <th>1</th>\n",
              "      <td>55204538</td>\n",
              "      <td>Delayed Because of Accident</td>\n",
              "      <td>Andreas Rönnberg</td>\n",
              "      <td>rock</td>\n",
              "      <td>Moscow</td>\n",
              "      <td>14:07:09</td>\n",
              "      <td>Friday</td>\n",
              "    </tr>\n",
              "    <tr>\n",
              "      <th>4</th>\n",
              "      <td>E2DC1FAE</td>\n",
              "      <td>Soul People</td>\n",
              "      <td>Space Echo</td>\n",
              "      <td>dance</td>\n",
              "      <td>Moscow</td>\n",
              "      <td>08:34:34</td>\n",
              "      <td>Monday</td>\n",
              "    </tr>\n",
              "    <tr>\n",
              "      <th>6</th>\n",
              "      <td>4CB90AA5</td>\n",
              "      <td>True</td>\n",
              "      <td>Roman Messer</td>\n",
              "      <td>dance</td>\n",
              "      <td>Moscow</td>\n",
              "      <td>13:00:07</td>\n",
              "      <td>Wednesday</td>\n",
              "    </tr>\n",
              "    <tr>\n",
              "      <th>7</th>\n",
              "      <td>F03E1C1F</td>\n",
              "      <td>Feeling This Way</td>\n",
              "      <td>Polina Griffith</td>\n",
              "      <td>dance</td>\n",
              "      <td>Moscow</td>\n",
              "      <td>20:47:49</td>\n",
              "      <td>Wednesday</td>\n",
              "    </tr>\n",
              "    <tr>\n",
              "      <th>8</th>\n",
              "      <td>8FA1D3BE</td>\n",
              "      <td>И вновь продолжается бой</td>\n",
              "      <td>unknown</td>\n",
              "      <td>ruspop</td>\n",
              "      <td>Moscow</td>\n",
              "      <td>09:17:40</td>\n",
              "      <td>Friday</td>\n",
              "    </tr>\n",
              "    <tr>\n",
              "      <th>...</th>\n",
              "      <td>...</td>\n",
              "      <td>...</td>\n",
              "      <td>...</td>\n",
              "      <td>...</td>\n",
              "      <td>...</td>\n",
              "      <td>...</td>\n",
              "      <td>...</td>\n",
              "    </tr>\n",
              "    <tr>\n",
              "      <th>61247</th>\n",
              "      <td>83A474E7</td>\n",
              "      <td>I Worship Only What You Bleed</td>\n",
              "      <td>The Black Dahlia Murder</td>\n",
              "      <td>extrememetal</td>\n",
              "      <td>Moscow</td>\n",
              "      <td>21:07:12</td>\n",
              "      <td>Monday</td>\n",
              "    </tr>\n",
              "    <tr>\n",
              "      <th>61248</th>\n",
              "      <td>729CBB09</td>\n",
              "      <td>My Name</td>\n",
              "      <td>McLean</td>\n",
              "      <td>rnb</td>\n",
              "      <td>Moscow</td>\n",
              "      <td>13:32:28</td>\n",
              "      <td>Wednesday</td>\n",
              "    </tr>\n",
              "    <tr>\n",
              "      <th>61250</th>\n",
              "      <td>C5E3A0D5</td>\n",
              "      <td>Jalopiina</td>\n",
              "      <td>unknown</td>\n",
              "      <td>industrial</td>\n",
              "      <td>Moscow</td>\n",
              "      <td>20:09:26</td>\n",
              "      <td>Friday</td>\n",
              "    </tr>\n",
              "    <tr>\n",
              "      <th>61251</th>\n",
              "      <td>321D0506</td>\n",
              "      <td>Freight Train</td>\n",
              "      <td>Chas McDevitt</td>\n",
              "      <td>rock</td>\n",
              "      <td>Moscow</td>\n",
              "      <td>21:43:59</td>\n",
              "      <td>Friday</td>\n",
              "    </tr>\n",
              "    <tr>\n",
              "      <th>61252</th>\n",
              "      <td>3A64EF84</td>\n",
              "      <td>Tell Me Sweet Little Lies</td>\n",
              "      <td>Monica Lopez</td>\n",
              "      <td>country</td>\n",
              "      <td>Moscow</td>\n",
              "      <td>21:59:46</td>\n",
              "      <td>Friday</td>\n",
              "    </tr>\n",
              "  </tbody>\n",
              "</table>\n",
              "<p>42741 rows × 7 columns</p>\n",
              "</div>\n",
              "      <button class=\"colab-df-convert\" onclick=\"convertToInteractive('df-d5542936-d5d4-4fae-bf1f-16d03f537380')\"\n",
              "              title=\"Convert this dataframe to an interactive table.\"\n",
              "              style=\"display:none;\">\n",
              "        \n",
              "  <svg xmlns=\"http://www.w3.org/2000/svg\" height=\"24px\"viewBox=\"0 0 24 24\"\n",
              "       width=\"24px\">\n",
              "    <path d=\"M0 0h24v24H0V0z\" fill=\"none\"/>\n",
              "    <path d=\"M18.56 5.44l.94 2.06.94-2.06 2.06-.94-2.06-.94-.94-2.06-.94 2.06-2.06.94zm-11 1L8.5 8.5l.94-2.06 2.06-.94-2.06-.94L8.5 2.5l-.94 2.06-2.06.94zm10 10l.94 2.06.94-2.06 2.06-.94-2.06-.94-.94-2.06-.94 2.06-2.06.94z\"/><path d=\"M17.41 7.96l-1.37-1.37c-.4-.4-.92-.59-1.43-.59-.52 0-1.04.2-1.43.59L10.3 9.45l-7.72 7.72c-.78.78-.78 2.05 0 2.83L4 21.41c.39.39.9.59 1.41.59.51 0 1.02-.2 1.41-.59l7.78-7.78 2.81-2.81c.8-.78.8-2.07 0-2.86zM5.41 20L4 18.59l7.72-7.72 1.47 1.35L5.41 20z\"/>\n",
              "  </svg>\n",
              "      </button>\n",
              "      \n",
              "  <style>\n",
              "    .colab-df-container {\n",
              "      display:flex;\n",
              "      flex-wrap:wrap;\n",
              "      gap: 12px;\n",
              "    }\n",
              "\n",
              "    .colab-df-convert {\n",
              "      background-color: #E8F0FE;\n",
              "      border: none;\n",
              "      border-radius: 50%;\n",
              "      cursor: pointer;\n",
              "      display: none;\n",
              "      fill: #1967D2;\n",
              "      height: 32px;\n",
              "      padding: 0 0 0 0;\n",
              "      width: 32px;\n",
              "    }\n",
              "\n",
              "    .colab-df-convert:hover {\n",
              "      background-color: #E2EBFA;\n",
              "      box-shadow: 0px 1px 2px rgba(60, 64, 67, 0.3), 0px 1px 3px 1px rgba(60, 64, 67, 0.15);\n",
              "      fill: #174EA6;\n",
              "    }\n",
              "\n",
              "    [theme=dark] .colab-df-convert {\n",
              "      background-color: #3B4455;\n",
              "      fill: #D2E3FC;\n",
              "    }\n",
              "\n",
              "    [theme=dark] .colab-df-convert:hover {\n",
              "      background-color: #434B5C;\n",
              "      box-shadow: 0px 1px 3px 1px rgba(0, 0, 0, 0.15);\n",
              "      filter: drop-shadow(0px 1px 2px rgba(0, 0, 0, 0.3));\n",
              "      fill: #FFFFFF;\n",
              "    }\n",
              "  </style>\n",
              "\n",
              "      <script>\n",
              "        const buttonEl =\n",
              "          document.querySelector('#df-d5542936-d5d4-4fae-bf1f-16d03f537380 button.colab-df-convert');\n",
              "        buttonEl.style.display =\n",
              "          google.colab.kernel.accessAllowed ? 'block' : 'none';\n",
              "\n",
              "        async function convertToInteractive(key) {\n",
              "          const element = document.querySelector('#df-d5542936-d5d4-4fae-bf1f-16d03f537380');\n",
              "          const dataTable =\n",
              "            await google.colab.kernel.invokeFunction('convertToInteractive',\n",
              "                                                     [key], {});\n",
              "          if (!dataTable) return;\n",
              "\n",
              "          const docLinkHtml = 'Like what you see? Visit the ' +\n",
              "            '<a target=\"_blank\" href=https://colab.research.google.com/notebooks/data_table.ipynb>data table notebook</a>'\n",
              "            + ' to learn more about interactive tables.';\n",
              "          element.innerHTML = '';\n",
              "          dataTable['output_type'] = 'display_data';\n",
              "          await google.colab.output.renderOutput(dataTable, element);\n",
              "          const docLink = document.createElement('div');\n",
              "          docLink.innerHTML = docLinkHtml;\n",
              "          element.appendChild(docLink);\n",
              "        }\n",
              "      </script>\n",
              "    </div>\n",
              "  </div>\n",
              "  "
            ]
          },
          "metadata": {}
        }
      ],
      "source": [
        "moscow_general = df[df['city'] == 'Moscow']\n",
        "display(moscow_general)"
      ]
    },
    {
      "cell_type": "code",
      "execution_count": 30,
      "metadata": {
        "id": "ORaVRKto_Zcu",
        "colab": {
          "base_uri": "https://localhost:8080/",
          "height": 423
        },
        "outputId": "1d70f666-490e-45e2-efa6-c852672404d7"
      },
      "outputs": [
        {
          "output_type": "display_data",
          "data": {
            "text/plain": [
              "        user_id                              track              artist  \\\n",
              "0      FFB692EC                  Kamigata To Boots    The Mass Missile   \n",
              "2        20EC38                  Funiculì funiculà         Mario Lanza   \n",
              "3      A3DD03C9              Dragons in the Sunset          Fire + Ice   \n",
              "5      842029A1                          Преданная           IMPERVTOR   \n",
              "9      E772D5C0                          Pessimist             unknown   \n",
              "...         ...                                ...                 ...   \n",
              "61239  D94F810B        Theme from the Walking Dead  Proyecto Halloween   \n",
              "61240  BC8EC5CF       Red Lips: Gta (Rover Rework)               Rover   \n",
              "61241  29E04611                       Bre Petrunko       Perunika Trio   \n",
              "61242  1B91C621             (Hello) Cloud Mountain     sleepmakeswaves   \n",
              "61249  D08D4A55  Maybe One Day (feat. Black Spade)         Blu & Exile   \n",
              "\n",
              "            genre              city      time        day  \n",
              "0            rock  Saint-Petersburg  20:28:33  Wednesday  \n",
              "2             pop  Saint-Petersburg  20:58:07  Wednesday  \n",
              "3            folk  Saint-Petersburg  08:37:09     Monday  \n",
              "5          rusrap  Saint-Petersburg  13:09:41     Friday  \n",
              "9           dance  Saint-Petersburg  21:20:49  Wednesday  \n",
              "...           ...               ...       ...        ...  \n",
              "61239        film  Saint-Petersburg  21:14:40     Monday  \n",
              "61240  electronic  Saint-Petersburg  21:06:50     Monday  \n",
              "61241       world  Saint-Petersburg  13:56:00     Monday  \n",
              "61242    postrock  Saint-Petersburg  09:22:13     Monday  \n",
              "61249      hiphop  Saint-Petersburg  10:00:00     Monday  \n",
              "\n",
              "[18512 rows x 7 columns]"
            ],
            "text/html": [
              "\n",
              "  <div id=\"df-03520b3e-c57c-44df-a530-661d8a4d62e0\">\n",
              "    <div class=\"colab-df-container\">\n",
              "      <div>\n",
              "<style scoped>\n",
              "    .dataframe tbody tr th:only-of-type {\n",
              "        vertical-align: middle;\n",
              "    }\n",
              "\n",
              "    .dataframe tbody tr th {\n",
              "        vertical-align: top;\n",
              "    }\n",
              "\n",
              "    .dataframe thead th {\n",
              "        text-align: right;\n",
              "    }\n",
              "</style>\n",
              "<table border=\"1\" class=\"dataframe\">\n",
              "  <thead>\n",
              "    <tr style=\"text-align: right;\">\n",
              "      <th></th>\n",
              "      <th>user_id</th>\n",
              "      <th>track</th>\n",
              "      <th>artist</th>\n",
              "      <th>genre</th>\n",
              "      <th>city</th>\n",
              "      <th>time</th>\n",
              "      <th>day</th>\n",
              "    </tr>\n",
              "  </thead>\n",
              "  <tbody>\n",
              "    <tr>\n",
              "      <th>0</th>\n",
              "      <td>FFB692EC</td>\n",
              "      <td>Kamigata To Boots</td>\n",
              "      <td>The Mass Missile</td>\n",
              "      <td>rock</td>\n",
              "      <td>Saint-Petersburg</td>\n",
              "      <td>20:28:33</td>\n",
              "      <td>Wednesday</td>\n",
              "    </tr>\n",
              "    <tr>\n",
              "      <th>2</th>\n",
              "      <td>20EC38</td>\n",
              "      <td>Funiculì funiculà</td>\n",
              "      <td>Mario Lanza</td>\n",
              "      <td>pop</td>\n",
              "      <td>Saint-Petersburg</td>\n",
              "      <td>20:58:07</td>\n",
              "      <td>Wednesday</td>\n",
              "    </tr>\n",
              "    <tr>\n",
              "      <th>3</th>\n",
              "      <td>A3DD03C9</td>\n",
              "      <td>Dragons in the Sunset</td>\n",
              "      <td>Fire + Ice</td>\n",
              "      <td>folk</td>\n",
              "      <td>Saint-Petersburg</td>\n",
              "      <td>08:37:09</td>\n",
              "      <td>Monday</td>\n",
              "    </tr>\n",
              "    <tr>\n",
              "      <th>5</th>\n",
              "      <td>842029A1</td>\n",
              "      <td>Преданная</td>\n",
              "      <td>IMPERVTOR</td>\n",
              "      <td>rusrap</td>\n",
              "      <td>Saint-Petersburg</td>\n",
              "      <td>13:09:41</td>\n",
              "      <td>Friday</td>\n",
              "    </tr>\n",
              "    <tr>\n",
              "      <th>9</th>\n",
              "      <td>E772D5C0</td>\n",
              "      <td>Pessimist</td>\n",
              "      <td>unknown</td>\n",
              "      <td>dance</td>\n",
              "      <td>Saint-Petersburg</td>\n",
              "      <td>21:20:49</td>\n",
              "      <td>Wednesday</td>\n",
              "    </tr>\n",
              "    <tr>\n",
              "      <th>...</th>\n",
              "      <td>...</td>\n",
              "      <td>...</td>\n",
              "      <td>...</td>\n",
              "      <td>...</td>\n",
              "      <td>...</td>\n",
              "      <td>...</td>\n",
              "      <td>...</td>\n",
              "    </tr>\n",
              "    <tr>\n",
              "      <th>61239</th>\n",
              "      <td>D94F810B</td>\n",
              "      <td>Theme from the Walking Dead</td>\n",
              "      <td>Proyecto Halloween</td>\n",
              "      <td>film</td>\n",
              "      <td>Saint-Petersburg</td>\n",
              "      <td>21:14:40</td>\n",
              "      <td>Monday</td>\n",
              "    </tr>\n",
              "    <tr>\n",
              "      <th>61240</th>\n",
              "      <td>BC8EC5CF</td>\n",
              "      <td>Red Lips: Gta (Rover Rework)</td>\n",
              "      <td>Rover</td>\n",
              "      <td>electronic</td>\n",
              "      <td>Saint-Petersburg</td>\n",
              "      <td>21:06:50</td>\n",
              "      <td>Monday</td>\n",
              "    </tr>\n",
              "    <tr>\n",
              "      <th>61241</th>\n",
              "      <td>29E04611</td>\n",
              "      <td>Bre Petrunko</td>\n",
              "      <td>Perunika Trio</td>\n",
              "      <td>world</td>\n",
              "      <td>Saint-Petersburg</td>\n",
              "      <td>13:56:00</td>\n",
              "      <td>Monday</td>\n",
              "    </tr>\n",
              "    <tr>\n",
              "      <th>61242</th>\n",
              "      <td>1B91C621</td>\n",
              "      <td>(Hello) Cloud Mountain</td>\n",
              "      <td>sleepmakeswaves</td>\n",
              "      <td>postrock</td>\n",
              "      <td>Saint-Petersburg</td>\n",
              "      <td>09:22:13</td>\n",
              "      <td>Monday</td>\n",
              "    </tr>\n",
              "    <tr>\n",
              "      <th>61249</th>\n",
              "      <td>D08D4A55</td>\n",
              "      <td>Maybe One Day (feat. Black Spade)</td>\n",
              "      <td>Blu &amp; Exile</td>\n",
              "      <td>hiphop</td>\n",
              "      <td>Saint-Petersburg</td>\n",
              "      <td>10:00:00</td>\n",
              "      <td>Monday</td>\n",
              "    </tr>\n",
              "  </tbody>\n",
              "</table>\n",
              "<p>18512 rows × 7 columns</p>\n",
              "</div>\n",
              "      <button class=\"colab-df-convert\" onclick=\"convertToInteractive('df-03520b3e-c57c-44df-a530-661d8a4d62e0')\"\n",
              "              title=\"Convert this dataframe to an interactive table.\"\n",
              "              style=\"display:none;\">\n",
              "        \n",
              "  <svg xmlns=\"http://www.w3.org/2000/svg\" height=\"24px\"viewBox=\"0 0 24 24\"\n",
              "       width=\"24px\">\n",
              "    <path d=\"M0 0h24v24H0V0z\" fill=\"none\"/>\n",
              "    <path d=\"M18.56 5.44l.94 2.06.94-2.06 2.06-.94-2.06-.94-.94-2.06-.94 2.06-2.06.94zm-11 1L8.5 8.5l.94-2.06 2.06-.94-2.06-.94L8.5 2.5l-.94 2.06-2.06.94zm10 10l.94 2.06.94-2.06 2.06-.94-2.06-.94-.94-2.06-.94 2.06-2.06.94z\"/><path d=\"M17.41 7.96l-1.37-1.37c-.4-.4-.92-.59-1.43-.59-.52 0-1.04.2-1.43.59L10.3 9.45l-7.72 7.72c-.78.78-.78 2.05 0 2.83L4 21.41c.39.39.9.59 1.41.59.51 0 1.02-.2 1.41-.59l7.78-7.78 2.81-2.81c.8-.78.8-2.07 0-2.86zM5.41 20L4 18.59l7.72-7.72 1.47 1.35L5.41 20z\"/>\n",
              "  </svg>\n",
              "      </button>\n",
              "      \n",
              "  <style>\n",
              "    .colab-df-container {\n",
              "      display:flex;\n",
              "      flex-wrap:wrap;\n",
              "      gap: 12px;\n",
              "    }\n",
              "\n",
              "    .colab-df-convert {\n",
              "      background-color: #E8F0FE;\n",
              "      border: none;\n",
              "      border-radius: 50%;\n",
              "      cursor: pointer;\n",
              "      display: none;\n",
              "      fill: #1967D2;\n",
              "      height: 32px;\n",
              "      padding: 0 0 0 0;\n",
              "      width: 32px;\n",
              "    }\n",
              "\n",
              "    .colab-df-convert:hover {\n",
              "      background-color: #E2EBFA;\n",
              "      box-shadow: 0px 1px 2px rgba(60, 64, 67, 0.3), 0px 1px 3px 1px rgba(60, 64, 67, 0.15);\n",
              "      fill: #174EA6;\n",
              "    }\n",
              "\n",
              "    [theme=dark] .colab-df-convert {\n",
              "      background-color: #3B4455;\n",
              "      fill: #D2E3FC;\n",
              "    }\n",
              "\n",
              "    [theme=dark] .colab-df-convert:hover {\n",
              "      background-color: #434B5C;\n",
              "      box-shadow: 0px 1px 3px 1px rgba(0, 0, 0, 0.15);\n",
              "      filter: drop-shadow(0px 1px 2px rgba(0, 0, 0, 0.3));\n",
              "      fill: #FFFFFF;\n",
              "    }\n",
              "  </style>\n",
              "\n",
              "      <script>\n",
              "        const buttonEl =\n",
              "          document.querySelector('#df-03520b3e-c57c-44df-a530-661d8a4d62e0 button.colab-df-convert');\n",
              "        buttonEl.style.display =\n",
              "          google.colab.kernel.accessAllowed ? 'block' : 'none';\n",
              "\n",
              "        async function convertToInteractive(key) {\n",
              "          const element = document.querySelector('#df-03520b3e-c57c-44df-a530-661d8a4d62e0');\n",
              "          const dataTable =\n",
              "            await google.colab.kernel.invokeFunction('convertToInteractive',\n",
              "                                                     [key], {});\n",
              "          if (!dataTable) return;\n",
              "\n",
              "          const docLinkHtml = 'Like what you see? Visit the ' +\n",
              "            '<a target=\"_blank\" href=https://colab.research.google.com/notebooks/data_table.ipynb>data table notebook</a>'\n",
              "            + ' to learn more about interactive tables.';\n",
              "          element.innerHTML = '';\n",
              "          dataTable['output_type'] = 'display_data';\n",
              "          await google.colab.output.renderOutput(dataTable, element);\n",
              "          const docLink = document.createElement('div');\n",
              "          docLink.innerHTML = docLinkHtml;\n",
              "          element.appendChild(docLink);\n",
              "        }\n",
              "      </script>\n",
              "    </div>\n",
              "  </div>\n",
              "  "
            ]
          },
          "metadata": {}
        }
      ],
      "source": [
        "spb_general = df[df['city'] == 'Saint-Petersburg']\n",
        "display(spb_general)"
      ]
    },
    {
      "cell_type": "markdown",
      "metadata": {
        "id": "MEJV-CX2_Zcu"
      },
      "source": [
        "Создадим функцию `genre_weekday()` с четырьмя параметрами:\n",
        "* таблица (датафрейм) с данными,\n",
        "* день недели,\n",
        "* начальная временная метка в формате 'hh:mm', \n",
        "* последняя временная метка в формате 'hh:mm'.\n",
        "\n",
        "Функция должна вернуть информацию о топ-10 жанров тех треков, которые прослушивали в указанный день, в промежутке между двумя отметками времени."
      ]
    },
    {
      "cell_type": "code",
      "execution_count": 31,
      "metadata": {
        "id": "laJT9BYl_Zcu"
      },
      "outputs": [],
      "source": [
        "def genre_weekday(table, day, time1, time2):\n",
        "    genre_df = table[(table['day'] == day)]\n",
        "    genre_df = genre_df[genre_df['time'] > time1]\n",
        "    genre_df = genre_df[genre_df['time'] < time2]\n",
        "    genre_df_count = genre_df.groupby('genre')['genre'].count()\n",
        "    genre_df_sorted = genre_df_count.sort_values(ascending=False)\n",
        "    return genre_df_sorted.head(10)"
      ]
    },
    {
      "cell_type": "markdown",
      "metadata": {
        "id": "la2s2_PF_Zcu"
      },
      "source": [
        "Cравним результаты функции `genre_weekday()` для Москвы и Санкт-Петербурга в понедельник утром (с 7:00 до 11:00) и в пятницу вечером (с 17:00 до 23:00):"
      ]
    },
    {
      "cell_type": "code",
      "execution_count": 32,
      "metadata": {
        "id": "yz7itPUQ_Zcu",
        "colab": {
          "base_uri": "https://localhost:8080/"
        },
        "outputId": "a14de903-0a55-42f7-bae6-c3728945b357"
      },
      "outputs": [
        {
          "output_type": "execute_result",
          "data": {
            "text/plain": [
              "genre\n",
              "pop            781\n",
              "dance          549\n",
              "electronic     480\n",
              "rock           474\n",
              "hiphop         286\n",
              "ruspop         186\n",
              "world          181\n",
              "rusrap         175\n",
              "alternative    164\n",
              "unknown        161\n",
              "Name: genre, dtype: int64"
            ]
          },
          "metadata": {},
          "execution_count": 32
        }
      ],
      "source": [
        "genre_weekday(moscow_general, 'Monday', '07:00', '11:00')"
      ]
    },
    {
      "cell_type": "code",
      "execution_count": 33,
      "metadata": {
        "id": "kwUcHPdy_Zcu",
        "colab": {
          "base_uri": "https://localhost:8080/"
        },
        "outputId": "99310770-e3a7-4202-aedd-27eb624e49e1"
      },
      "outputs": [
        {
          "output_type": "execute_result",
          "data": {
            "text/plain": [
              "genre\n",
              "pop            218\n",
              "dance          182\n",
              "rock           162\n",
              "electronic     147\n",
              "hiphop          80\n",
              "ruspop          64\n",
              "alternative     58\n",
              "rusrap          55\n",
              "jazz            44\n",
              "classical       40\n",
              "Name: genre, dtype: int64"
            ]
          },
          "metadata": {},
          "execution_count": 33
        }
      ],
      "source": [
        "genre_weekday(spb_general, 'Monday','07:00', '11:00')"
      ]
    },
    {
      "cell_type": "code",
      "execution_count": 34,
      "metadata": {
        "id": "EzXVRE1o_Zcu",
        "colab": {
          "base_uri": "https://localhost:8080/"
        },
        "outputId": "459d710f-6f66-47e2-fee9-937664968d89"
      },
      "outputs": [
        {
          "output_type": "execute_result",
          "data": {
            "text/plain": [
              "genre\n",
              "pop            713\n",
              "rock           517\n",
              "dance          495\n",
              "electronic     482\n",
              "hiphop         273\n",
              "world          208\n",
              "ruspop         170\n",
              "alternative    163\n",
              "classical      163\n",
              "rusrap         142\n",
              "Name: genre, dtype: int64"
            ]
          },
          "metadata": {},
          "execution_count": 34
        }
      ],
      "source": [
        "genre_weekday(moscow_general, 'Friday','17:00', '23:00')"
      ]
    },
    {
      "cell_type": "code",
      "execution_count": 35,
      "metadata": {
        "id": "JZaEKu5v_Zcu",
        "colab": {
          "base_uri": "https://localhost:8080/"
        },
        "outputId": "779feeae-7367-4211-9977-a1d2a0676e28"
      },
      "outputs": [
        {
          "output_type": "execute_result",
          "data": {
            "text/plain": [
              "genre\n",
              "pop            256\n",
              "electronic     216\n",
              "rock           216\n",
              "dance          210\n",
              "hiphop          97\n",
              "alternative     63\n",
              "jazz            61\n",
              "classical       60\n",
              "rusrap          59\n",
              "world           54\n",
              "Name: genre, dtype: int64"
            ]
          },
          "metadata": {},
          "execution_count": 35
        }
      ],
      "source": [
        "genre_weekday(spb_general, 'Friday','17:00', '23:00')"
      ]
    },
    {
      "cell_type": "markdown",
      "metadata": {
        "id": "wrCe4MNX_Zcu"
      },
      "source": [
        "**Выводы**\n",
        "\n",
        "Если сравнить топ-10 жанров в понедельник утром, можно сделать такие выводы:\n",
        "\n",
        "1. В Москве и Петербурге слушают похожую музыку. Единственное отличие — в московский рейтинг вошёл жанр “world”, а в петербургский — джаз и классика.\n",
        "\n",
        "2. В Москве пропущенных значений оказалось так много, что значение `'unknown'` заняло десятое место среди самых популярных жанров. Значит, пропущенные значения занимают существенную долю в данных и угрожают достоверности исследования.\n",
        "\n",
        "Вечер пятницы не меняет эту картину. Некоторые жанры поднимаются немного выше, другие спускаются, но в целом топ-10 остаётся тем же самым.\n",
        "\n",
        "Таким образом, вторая гипотеза подтвердилась лишь частично:\n",
        "* Пользователи слушают похожую музыку в начале недели и в конце.\n",
        "* Разница между Москвой и Петербургом не слишком выражена. В Москве чаще слушают русскую популярную музыку, в Петербурге — джаз.\n",
        "\n",
        "Однако пропуски в данных ставят под сомнение этот результат. В Москве их так много, что рейтинг топ-10 мог бы выглядеть иначе, если бы не утерянные  данные о жанрах."
      ]
    },
    {
      "cell_type": "markdown",
      "metadata": {
        "id": "JolODAqr_Zcu"
      },
      "source": [
        "### Жанровые предпочтения в Москве и Петербурге\n",
        "\n",
        "Гипотеза: Петербург — столица рэпа, музыку этого жанра там слушают чаще, чем в Москве.  А Москва — город контрастов, в котором, тем не менее, преобладает поп-музыка."
      ]
    },
    {
      "cell_type": "markdown",
      "metadata": {
        "id": "DlegSvaT_Zcu"
      },
      "source": [
        "Сгруппируем таблицу `moscow_general` по жанру и посчитаем прослушивания треков каждого жанра методом `count()`. Затем отсортируем результат в порядке убывания и сохраним его в таблице `moscow_genres`."
      ]
    },
    {
      "cell_type": "code",
      "execution_count": 36,
      "metadata": {
        "id": "r19lIPke_Zcu"
      },
      "outputs": [],
      "source": [
        "moscow_genres = moscow_general.groupby('genre')['genre'].count().sort_values(ascending=False)"
      ]
    },
    {
      "cell_type": "markdown",
      "metadata": {
        "id": "6kMuomxTiIr8"
      },
      "source": [
        "Выведем на экран первые десять строк `moscow_genres`:"
      ]
    },
    {
      "cell_type": "code",
      "execution_count": 37,
      "metadata": {
        "id": "WhCSooF8_Zcv",
        "colab": {
          "base_uri": "https://localhost:8080/"
        },
        "outputId": "d1c0e3f1-e733-474e-d654-bf9f31c2a974"
      },
      "outputs": [
        {
          "output_type": "execute_result",
          "data": {
            "text/plain": [
              "genre\n",
              "pop            5892\n",
              "dance          4435\n",
              "rock           3965\n",
              "electronic     3786\n",
              "hiphop         2096\n",
              "classical      1616\n",
              "world          1432\n",
              "alternative    1379\n",
              "ruspop         1372\n",
              "rusrap         1161\n",
              "Name: genre, dtype: int64"
            ]
          },
          "metadata": {},
          "execution_count": 37
        }
      ],
      "source": [
        "moscow_genres.head(10)"
      ]
    },
    {
      "cell_type": "markdown",
      "metadata": {
        "id": "cnPG2vnN_Zcv"
      },
      "source": [
        "Теперь повторим то же и для Петербурга.\n",
        "\n",
        "Сгруппируем таблицу `spb_general` по жанру. Посчитаем прослушивания треков каждого жанра. Результат отсортируем в порядке убывания и сохраним в таблице `spb_genres`:\n"
      ]
    },
    {
      "cell_type": "code",
      "execution_count": 38,
      "metadata": {
        "id": "gluLIpE7_Zcv"
      },
      "outputs": [],
      "source": [
        "spb_genres = spb_general.groupby('genre')['genre'].count().sort_values(ascending=False)"
      ]
    },
    {
      "cell_type": "markdown",
      "metadata": {
        "id": "5Doha_ODgyQ8"
      },
      "source": [
        "Выведем на экран первые десять строк `spb_genres`:"
      ]
    },
    {
      "cell_type": "code",
      "execution_count": 39,
      "metadata": {
        "id": "uaGJHjVU_Zcv",
        "colab": {
          "base_uri": "https://localhost:8080/"
        },
        "outputId": "78705fb1-ee90-4669-82e6-f38d4378d433"
      },
      "outputs": [
        {
          "output_type": "execute_result",
          "data": {
            "text/plain": [
              "genre\n",
              "pop            2431\n",
              "dance          1932\n",
              "rock           1879\n",
              "electronic     1736\n",
              "hiphop          960\n",
              "alternative     649\n",
              "classical       646\n",
              "rusrap          564\n",
              "ruspop          538\n",
              "world           515\n",
              "Name: genre, dtype: int64"
            ]
          },
          "metadata": {},
          "execution_count": 39
        }
      ],
      "source": [
        "spb_genres.head(10)"
      ]
    },
    {
      "cell_type": "markdown",
      "metadata": {
        "id": "RY51YJYu_Zcv"
      },
      "source": [
        "**Выводы**"
      ]
    },
    {
      "cell_type": "markdown",
      "metadata": {
        "id": "nVhnJEm__Zcv"
      },
      "source": [
        "Гипотеза частично подтвердилась:\n",
        "* Поп-музыка — самый популярный жанр в Москве, как и предполагала гипотеза. Более того, в топ-10 жанров встречается близкий жанр — русская популярная музыка.\n",
        "* Вопреки ожиданиям, рэп одинаково популярен в Москве и Петербурге. \n"
      ]
    },
    {
      "cell_type": "markdown",
      "metadata": {
        "id": "ykKQ0N65_Zcv"
      },
      "source": [
        "## Итоги исследования"
      ]
    },
    {
      "cell_type": "markdown",
      "metadata": {
        "id": "tjUwbHb3_Zcv"
      },
      "source": [
        "Проверили три гипотезы и установили:\n",
        "\n",
        "1. День недели по-разному влияет на активность пользователей в Москве и Петербурге. \n",
        "\n",
        "**Первая гипотеза полностью подтвердилась.**\n",
        "\n",
        "2. Музыкальные предпочтения не сильно меняются в течение недели — будь то Москва или Петербург. Небольшие различия заметны в начале недели, по понедельникам:\n",
        "* в Москве слушают музыку жанра “world”,\n",
        "* в Петербурге — джаз и классику.\n",
        "\n",
        "Таким образом, **вторая гипотеза подтвердилась лишь отчасти. **Этот результат мог оказаться иным, если бы не пропуски в данных.\n",
        "\n",
        "3. Во вкусах пользователей Москвы и Петербурга больше общего чем различий. Вопреки ожиданиям, предпочтения жанров в Петербурге напоминают московские.\n",
        "\n",
        "**Третья гипотеза не подтвердилась.** Если различия в предпочтениях и существуют, на основной массе пользователей они незаметны.\n",
        "\n",
        "**На практике исследования содержат проверки статистических гипотез.**\n",
        "Из данных одного сервиса не всегда можно сделать вывод о всех жителях города.\n",
        "Проверки статистических гипотез покажут, насколько они достоверны, исходя из имеющихся данных. "
      ]
    }
  ],
  "metadata": {
    "ExecuteTimeLog": [
      {
        "duration": 388,
        "start_time": "2022-04-02T18:52:25.255Z"
      },
      {
        "duration": 109,
        "start_time": "2022-04-02T18:53:21.877Z"
      },
      {
        "duration": 127,
        "start_time": "2022-04-02T18:54:01.494Z"
      },
      {
        "duration": 118,
        "start_time": "2022-04-02T18:54:05.676Z"
      },
      {
        "duration": 63,
        "start_time": "2022-04-02T18:54:13.072Z"
      },
      {
        "duration": 7,
        "start_time": "2022-04-02T18:54:20.691Z"
      },
      {
        "duration": 62,
        "start_time": "2022-04-02T19:05:38.416Z"
      },
      {
        "duration": 68,
        "start_time": "2022-04-02T19:05:48.367Z"
      },
      {
        "duration": 145,
        "start_time": "2022-04-02T19:05:54.699Z"
      },
      {
        "duration": 155,
        "start_time": "2022-04-02T19:05:57.470Z"
      },
      {
        "duration": 152,
        "start_time": "2022-04-02T19:05:58.721Z"
      },
      {
        "duration": 160,
        "start_time": "2022-04-02T19:06:02.178Z"
      },
      {
        "duration": 30,
        "start_time": "2022-04-02T19:07:53.142Z"
      },
      {
        "duration": 11,
        "start_time": "2022-04-02T19:07:55.553Z"
      },
      {
        "duration": 8,
        "start_time": "2022-04-02T19:07:59.188Z"
      },
      {
        "duration": 8,
        "start_time": "2022-04-02T19:08:00.483Z"
      },
      {
        "duration": 151,
        "start_time": "2022-04-02T19:08:05.753Z"
      },
      {
        "duration": 6,
        "start_time": "2022-04-02T19:08:08.052Z"
      },
      {
        "duration": 4,
        "start_time": "2022-04-02T19:13:48.171Z"
      },
      {
        "duration": 3,
        "start_time": "2022-04-02T19:14:14.448Z"
      },
      {
        "duration": 9,
        "start_time": "2022-04-02T19:16:45.603Z"
      },
      {
        "duration": 11,
        "start_time": "2022-04-02T19:16:56.243Z"
      },
      {
        "duration": 10,
        "start_time": "2022-04-02T19:16:58.940Z"
      },
      {
        "duration": 10,
        "start_time": "2022-04-02T19:16:59.857Z"
      },
      {
        "duration": 3,
        "start_time": "2022-04-02T19:17:25.615Z"
      },
      {
        "duration": 28,
        "start_time": "2022-04-02T19:18:32.057Z"
      },
      {
        "duration": 25,
        "start_time": "2022-04-02T19:21:12.447Z"
      },
      {
        "duration": 20,
        "start_time": "2022-04-02T19:21:16.145Z"
      },
      {
        "duration": 19,
        "start_time": "2022-04-02T19:21:18.888Z"
      },
      {
        "duration": 26,
        "start_time": "2022-04-02T19:21:20.548Z"
      },
      {
        "duration": 70,
        "start_time": "2022-04-02T19:22:01.330Z"
      },
      {
        "duration": 70,
        "start_time": "2022-04-02T19:22:52.605Z"
      },
      {
        "duration": 62,
        "start_time": "2022-04-02T19:23:05.309Z"
      },
      {
        "duration": 8,
        "start_time": "2022-04-02T19:24:47.276Z"
      },
      {
        "duration": 417,
        "start_time": "2022-04-03T06:59:36.030Z"
      },
      {
        "duration": 135,
        "start_time": "2022-04-03T06:59:37.618Z"
      },
      {
        "duration": 8,
        "start_time": "2022-04-03T06:59:39.723Z"
      },
      {
        "duration": 6,
        "start_time": "2022-04-03T06:59:56.626Z"
      },
      {
        "duration": 148,
        "start_time": "2022-04-03T06:59:59.741Z"
      },
      {
        "duration": 27,
        "start_time": "2022-04-03T07:00:08.323Z"
      },
      {
        "duration": 11,
        "start_time": "2022-04-03T07:10:10.811Z"
      },
      {
        "duration": 3,
        "start_time": "2022-04-03T07:10:12.149Z"
      },
      {
        "duration": 23,
        "start_time": "2022-04-03T07:10:20.594Z"
      },
      {
        "duration": 17,
        "start_time": "2022-04-03T07:13:33.582Z"
      },
      {
        "duration": 24,
        "start_time": "2022-04-03T07:13:37.147Z"
      },
      {
        "duration": 19,
        "start_time": "2022-04-03T07:20:13.901Z"
      },
      {
        "duration": 24,
        "start_time": "2022-04-03T07:20:15.068Z"
      },
      {
        "duration": 62,
        "start_time": "2022-04-03T07:20:23.949Z"
      },
      {
        "duration": 69,
        "start_time": "2022-04-03T07:20:27.429Z"
      },
      {
        "duration": 61,
        "start_time": "2022-04-03T07:20:28.893Z"
      },
      {
        "duration": 57,
        "start_time": "2022-04-03T07:20:29.908Z"
      },
      {
        "duration": 7,
        "start_time": "2022-04-03T07:21:01.109Z"
      },
      {
        "duration": 59,
        "start_time": "2022-04-03T07:23:07.219Z"
      },
      {
        "duration": 7,
        "start_time": "2022-04-03T07:23:20.870Z"
      },
      {
        "duration": 9,
        "start_time": "2022-04-03T07:27:36.567Z"
      },
      {
        "duration": 3,
        "start_time": "2022-04-03T07:27:37.841Z"
      },
      {
        "duration": 3,
        "start_time": "2022-04-03T07:28:13.741Z"
      },
      {
        "duration": 8,
        "start_time": "2022-04-03T07:28:15.202Z"
      },
      {
        "duration": 4,
        "start_time": "2022-04-03T07:28:16.084Z"
      },
      {
        "duration": 6,
        "start_time": "2022-04-03T07:29:11.343Z"
      },
      {
        "duration": 8,
        "start_time": "2022-04-03T07:29:42.803Z"
      },
      {
        "duration": 27,
        "start_time": "2022-04-03T07:29:54.196Z"
      },
      {
        "duration": 8,
        "start_time": "2022-04-03T07:30:29.527Z"
      },
      {
        "duration": 3,
        "start_time": "2022-04-03T07:30:30.310Z"
      },
      {
        "duration": 917,
        "start_time": "2022-04-03T07:31:45.535Z"
      },
      {
        "duration": 881,
        "start_time": "2022-04-03T07:31:53.955Z"
      },
      {
        "duration": 870,
        "start_time": "2022-04-03T07:32:55.472Z"
      },
      {
        "duration": 5279,
        "start_time": "2022-04-03T07:33:05.176Z"
      },
      {
        "duration": 97,
        "start_time": "2022-04-03T07:33:35.804Z"
      },
      {
        "duration": 4,
        "start_time": "2022-04-03T07:33:37.089Z"
      },
      {
        "duration": 8,
        "start_time": "2022-04-03T07:33:39.866Z"
      },
      {
        "duration": 9,
        "start_time": "2022-04-03T07:33:41.308Z"
      },
      {
        "duration": 34,
        "start_time": "2022-04-03T07:33:42.311Z"
      },
      {
        "duration": 4,
        "start_time": "2022-04-03T07:33:47.038Z"
      },
      {
        "duration": 15,
        "start_time": "2022-04-03T07:33:49.733Z"
      },
      {
        "duration": 9,
        "start_time": "2022-04-03T07:33:51.613Z"
      },
      {
        "duration": 4,
        "start_time": "2022-04-03T07:33:53.302Z"
      },
      {
        "duration": 5,
        "start_time": "2022-04-03T07:33:54.454Z"
      },
      {
        "duration": 135,
        "start_time": "2022-04-03T07:36:09.648Z"
      },
      {
        "duration": 147,
        "start_time": "2022-04-03T07:36:49.226Z"
      },
      {
        "duration": 140,
        "start_time": "2022-04-03T07:37:11.851Z"
      },
      {
        "duration": 24,
        "start_time": "2022-04-03T07:37:13.065Z"
      },
      {
        "duration": 22,
        "start_time": "2022-04-03T07:37:14.637Z"
      },
      {
        "duration": 22,
        "start_time": "2022-04-03T07:37:15.583Z"
      },
      {
        "duration": 23,
        "start_time": "2022-04-03T07:37:16.855Z"
      },
      {
        "duration": 156,
        "start_time": "2022-04-03T07:37:17.581Z"
      },
      {
        "duration": 18,
        "start_time": "2022-04-03T07:37:30.193Z"
      },
      {
        "duration": 24,
        "start_time": "2022-04-03T07:37:32.091Z"
      },
      {
        "duration": 58,
        "start_time": "2022-04-03T07:37:34.838Z"
      },
      {
        "duration": 56,
        "start_time": "2022-04-03T07:37:36.533Z"
      },
      {
        "duration": 23,
        "start_time": "2022-04-03T07:37:40.793Z"
      },
      {
        "duration": 17,
        "start_time": "2022-04-03T07:38:21.855Z"
      },
      {
        "duration": 22,
        "start_time": "2022-04-03T07:38:32.366Z"
      },
      {
        "duration": 23,
        "start_time": "2022-04-03T07:38:34.323Z"
      },
      {
        "duration": 17,
        "start_time": "2022-04-03T07:38:36.236Z"
      },
      {
        "duration": 24,
        "start_time": "2022-04-03T07:38:44.865Z"
      },
      {
        "duration": 25,
        "start_time": "2022-04-03T07:38:45.848Z"
      },
      {
        "duration": 19,
        "start_time": "2022-04-03T07:39:06.340Z"
      },
      {
        "duration": 24,
        "start_time": "2022-04-03T07:39:07.320Z"
      },
      {
        "duration": 24,
        "start_time": "2022-04-03T07:39:08.101Z"
      },
      {
        "duration": 3,
        "start_time": "2022-04-03T07:39:48.622Z"
      },
      {
        "duration": 3,
        "start_time": "2022-04-03T07:39:49.843Z"
      },
      {
        "duration": 149,
        "start_time": "2022-04-03T07:39:50.704Z"
      },
      {
        "duration": 8,
        "start_time": "2022-04-03T07:39:52.091Z"
      },
      {
        "duration": 143,
        "start_time": "2022-04-03T07:39:56.721Z"
      },
      {
        "duration": 29,
        "start_time": "2022-04-03T07:39:57.892Z"
      },
      {
        "duration": 5,
        "start_time": "2022-04-03T07:40:00.738Z"
      },
      {
        "duration": 3,
        "start_time": "2022-04-03T07:40:02.784Z"
      },
      {
        "duration": 4,
        "start_time": "2022-04-03T07:40:04.047Z"
      },
      {
        "duration": 25,
        "start_time": "2022-04-03T07:40:11.509Z"
      },
      {
        "duration": 26,
        "start_time": "2022-04-03T07:40:12.745Z"
      },
      {
        "duration": 59,
        "start_time": "2022-04-03T07:40:40.131Z"
      },
      {
        "duration": 57,
        "start_time": "2022-04-03T07:40:41.946Z"
      },
      {
        "duration": 67,
        "start_time": "2022-04-03T07:42:58.848Z"
      },
      {
        "duration": 61,
        "start_time": "2022-04-03T07:43:00.542Z"
      },
      {
        "duration": 39,
        "start_time": "2022-04-03T07:46:27.981Z"
      },
      {
        "duration": 44,
        "start_time": "2022-04-03T07:46:29.332Z"
      },
      {
        "duration": 36,
        "start_time": "2022-04-03T07:47:22.931Z"
      },
      {
        "duration": 33,
        "start_time": "2022-04-03T07:47:25.416Z"
      },
      {
        "duration": 33,
        "start_time": "2022-04-03T07:49:05.705Z"
      },
      {
        "duration": 34,
        "start_time": "2022-04-03T07:49:55.015Z"
      },
      {
        "duration": 33,
        "start_time": "2022-04-03T07:53:02.305Z"
      },
      {
        "duration": 2175,
        "start_time": "2022-04-03T07:54:04.043Z"
      },
      {
        "duration": 2289,
        "start_time": "2022-04-03T07:54:06.417Z"
      },
      {
        "duration": 4,
        "start_time": "2022-04-03T07:54:10.181Z"
      },
      {
        "duration": 3,
        "start_time": "2022-04-03T07:54:11.155Z"
      },
      {
        "duration": 155,
        "start_time": "2022-04-03T07:54:12.193Z"
      },
      {
        "duration": 7,
        "start_time": "2022-04-03T07:54:13.454Z"
      },
      {
        "duration": 34,
        "start_time": "2022-04-03T07:54:31.053Z"
      },
      {
        "duration": 7,
        "start_time": "2022-04-03T07:56:05.350Z"
      },
      {
        "duration": 6,
        "start_time": "2022-04-03T07:56:06.054Z"
      },
      {
        "duration": 42,
        "start_time": "2022-04-03T07:58:58.855Z"
      },
      {
        "duration": 2115,
        "start_time": "2022-04-03T08:14:27.241Z"
      },
      {
        "duration": 5,
        "start_time": "2022-04-03T08:14:32.661Z"
      },
      {
        "duration": 4,
        "start_time": "2022-04-03T08:14:34.601Z"
      },
      {
        "duration": 4,
        "start_time": "2022-04-03T08:14:36.304Z"
      },
      {
        "duration": 155,
        "start_time": "2022-04-03T08:14:44.305Z"
      },
      {
        "duration": 3,
        "start_time": "2022-04-03T08:18:45.309Z"
      },
      {
        "duration": 408,
        "start_time": "2022-04-03T08:23:11.336Z"
      },
      {
        "duration": 136,
        "start_time": "2022-04-03T08:23:14.288Z"
      },
      {
        "duration": 8,
        "start_time": "2022-04-03T08:23:16.838Z"
      },
      {
        "duration": 48,
        "start_time": "2022-04-03T08:23:27.074Z"
      },
      {
        "duration": 3,
        "start_time": "2022-04-03T08:23:34.019Z"
      },
      {
        "duration": 12,
        "start_time": "2022-04-03T08:23:37.560Z"
      },
      {
        "duration": 3,
        "start_time": "2022-04-03T08:23:40.814Z"
      },
      {
        "duration": 22,
        "start_time": "2022-04-03T08:23:43.735Z"
      },
      {
        "duration": 18,
        "start_time": "2022-04-03T08:23:52.399Z"
      },
      {
        "duration": 22,
        "start_time": "2022-04-03T08:23:55.527Z"
      },
      {
        "duration": 95,
        "start_time": "2022-04-03T08:24:00.411Z"
      },
      {
        "duration": 72,
        "start_time": "2022-04-03T08:24:03.560Z"
      },
      {
        "duration": 53,
        "start_time": "2022-04-03T08:24:06.208Z"
      },
      {
        "duration": 138,
        "start_time": "2022-04-03T08:24:09.368Z"
      },
      {
        "duration": 36,
        "start_time": "2022-04-03T08:24:15.495Z"
      },
      {
        "duration": 36,
        "start_time": "2022-04-03T08:24:23.864Z"
      },
      {
        "duration": 36,
        "start_time": "2022-04-03T08:24:46.354Z"
      },
      {
        "duration": 2,
        "start_time": "2022-04-03T08:24:53.400Z"
      },
      {
        "duration": 58,
        "start_time": "2022-04-03T08:28:20.517Z"
      },
      {
        "duration": 3,
        "start_time": "2022-04-03T08:28:32.748Z"
      },
      {
        "duration": 28,
        "start_time": "2022-04-03T08:28:40.022Z"
      },
      {
        "duration": 4,
        "start_time": "2022-04-03T08:29:08.659Z"
      },
      {
        "duration": 7,
        "start_time": "2022-04-03T08:31:07.993Z"
      },
      {
        "duration": 16,
        "start_time": "2022-04-03T08:31:35.040Z"
      },
      {
        "duration": 36,
        "start_time": "2022-04-03T08:31:46.733Z"
      },
      {
        "duration": 38,
        "start_time": "2022-04-03T08:31:48.912Z"
      },
      {
        "duration": 37,
        "start_time": "2022-04-03T08:32:05.031Z"
      },
      {
        "duration": 15,
        "start_time": "2022-04-03T08:34:41.171Z"
      },
      {
        "duration": 11,
        "start_time": "2022-04-03T08:36:16.760Z"
      },
      {
        "duration": 13,
        "start_time": "2022-04-03T08:37:39.670Z"
      },
      {
        "duration": 10,
        "start_time": "2022-04-03T08:37:59.571Z"
      },
      {
        "duration": 10,
        "start_time": "2022-04-03T08:39:09.330Z"
      },
      {
        "duration": 7,
        "start_time": "2022-04-03T08:40:19.168Z"
      },
      {
        "duration": 10,
        "start_time": "2022-04-03T08:40:35.556Z"
      },
      {
        "duration": 11,
        "start_time": "2022-04-03T08:40:57.027Z"
      },
      {
        "duration": 140,
        "start_time": "2022-04-03T08:45:10.010Z"
      },
      {
        "duration": 134,
        "start_time": "2022-04-03T08:45:31.187Z"
      },
      {
        "duration": 124,
        "start_time": "2022-04-03T08:45:37.256Z"
      },
      {
        "duration": 8,
        "start_time": "2022-04-03T08:45:44.848Z"
      },
      {
        "duration": 8,
        "start_time": "2022-04-03T08:46:31.514Z"
      },
      {
        "duration": 8,
        "start_time": "2022-04-03T08:46:54.456Z"
      },
      {
        "duration": 8,
        "start_time": "2022-04-03T08:51:46.295Z"
      },
      {
        "duration": 45,
        "start_time": "2022-04-03T08:52:37.248Z"
      },
      {
        "duration": 8,
        "start_time": "2022-04-03T08:54:22.862Z"
      },
      {
        "duration": 10,
        "start_time": "2022-04-03T09:00:12.051Z"
      },
      {
        "duration": 10,
        "start_time": "2022-04-03T09:00:15.152Z"
      },
      {
        "duration": 3,
        "start_time": "2022-04-03T09:01:36.325Z"
      },
      {
        "duration": 16,
        "start_time": "2022-04-03T09:01:40.018Z"
      },
      {
        "duration": 11,
        "start_time": "2022-04-03T09:01:45.354Z"
      },
      {
        "duration": 16,
        "start_time": "2022-04-03T09:10:42.380Z"
      },
      {
        "duration": 4,
        "start_time": "2022-04-03T09:10:58.585Z"
      },
      {
        "duration": 3,
        "start_time": "2022-04-03T09:11:01.316Z"
      },
      {
        "duration": 11,
        "start_time": "2022-04-03T09:11:05.138Z"
      },
      {
        "duration": 3,
        "start_time": "2022-04-03T09:11:14.513Z"
      },
      {
        "duration": 12,
        "start_time": "2022-04-03T09:11:16.816Z"
      },
      {
        "duration": 131,
        "start_time": "2022-04-03T09:17:32.447Z"
      },
      {
        "duration": 127,
        "start_time": "2022-04-03T09:17:50.414Z"
      },
      {
        "duration": 167,
        "start_time": "2022-04-03T09:17:57.464Z"
      },
      {
        "duration": 201,
        "start_time": "2022-04-03T09:18:10.634Z"
      },
      {
        "duration": 3,
        "start_time": "2022-04-03T09:18:29.095Z"
      },
      {
        "duration": 3,
        "start_time": "2022-04-03T09:18:31.975Z"
      },
      {
        "duration": 12,
        "start_time": "2022-04-03T09:18:36.111Z"
      },
      {
        "duration": 13,
        "start_time": "2022-04-03T09:18:40.896Z"
      },
      {
        "duration": 11,
        "start_time": "2022-04-03T09:18:43.958Z"
      },
      {
        "duration": 4,
        "start_time": "2022-04-03T09:18:50.782Z"
      },
      {
        "duration": 4,
        "start_time": "2022-04-03T09:19:11.576Z"
      },
      {
        "duration": 11,
        "start_time": "2022-04-03T09:19:14.552Z"
      },
      {
        "duration": 5,
        "start_time": "2022-04-03T09:19:19.063Z"
      },
      {
        "duration": 8,
        "start_time": "2022-04-03T09:19:21.475Z"
      },
      {
        "duration": 3,
        "start_time": "2022-04-03T09:23:01.978Z"
      },
      {
        "duration": 8,
        "start_time": "2022-04-03T09:23:04.091Z"
      },
      {
        "duration": 11,
        "start_time": "2022-04-03T09:23:05.905Z"
      },
      {
        "duration": 9,
        "start_time": "2022-04-03T09:23:08.454Z"
      },
      {
        "duration": 4,
        "start_time": "2022-04-03T09:23:11.393Z"
      },
      {
        "duration": 8,
        "start_time": "2022-04-03T09:23:12.641Z"
      },
      {
        "duration": 209,
        "start_time": "2022-04-03T09:23:19.467Z"
      },
      {
        "duration": 3,
        "start_time": "2022-04-03T09:23:29.619Z"
      },
      {
        "duration": 8,
        "start_time": "2022-04-03T09:23:31.315Z"
      },
      {
        "duration": 2,
        "start_time": "2022-04-03T09:41:03.733Z"
      },
      {
        "duration": 3,
        "start_time": "2022-04-03T09:41:05.589Z"
      },
      {
        "duration": 149,
        "start_time": "2022-04-03T09:41:12.383Z"
      },
      {
        "duration": 155,
        "start_time": "2022-04-03T09:41:31.239Z"
      },
      {
        "duration": 7,
        "start_time": "2022-04-03T09:41:33.821Z"
      },
      {
        "duration": 30,
        "start_time": "2022-04-03T09:41:50.065Z"
      },
      {
        "duration": 3,
        "start_time": "2022-04-03T09:42:47.624Z"
      },
      {
        "duration": 9,
        "start_time": "2022-04-03T09:42:55.889Z"
      },
      {
        "duration": 24,
        "start_time": "2022-04-03T09:43:08.085Z"
      },
      {
        "duration": 3,
        "start_time": "2022-04-03T09:43:10.447Z"
      },
      {
        "duration": 25,
        "start_time": "2022-04-03T09:43:12.151Z"
      },
      {
        "duration": 17,
        "start_time": "2022-04-03T09:43:42.368Z"
      },
      {
        "duration": 24,
        "start_time": "2022-04-03T09:43:44.967Z"
      },
      {
        "duration": 60,
        "start_time": "2022-04-03T09:43:51.463Z"
      },
      {
        "duration": 68,
        "start_time": "2022-04-03T09:43:55.079Z"
      },
      {
        "duration": 55,
        "start_time": "2022-04-03T09:43:57.369Z"
      },
      {
        "duration": 38,
        "start_time": "2022-04-03T09:44:13.416Z"
      },
      {
        "duration": 3,
        "start_time": "2022-04-03T09:45:12.163Z"
      },
      {
        "duration": 13,
        "start_time": "2022-04-03T09:45:15.625Z"
      },
      {
        "duration": 40,
        "start_time": "2022-04-03T09:46:45.370Z"
      },
      {
        "duration": 3,
        "start_time": "2022-04-03T09:48:47.213Z"
      },
      {
        "duration": 7,
        "start_time": "2022-04-03T09:48:49.594Z"
      },
      {
        "duration": 4,
        "start_time": "2022-04-03T09:51:36.270Z"
      },
      {
        "duration": 3,
        "start_time": "2022-04-03T09:51:38.390Z"
      },
      {
        "duration": 6,
        "start_time": "2022-04-03T09:51:40.031Z"
      },
      {
        "duration": 6,
        "start_time": "2022-04-03T09:51:41.301Z"
      },
      {
        "duration": 3,
        "start_time": "2022-04-03T09:52:18.295Z"
      },
      {
        "duration": 4,
        "start_time": "2022-04-03T09:52:20.501Z"
      },
      {
        "duration": 6,
        "start_time": "2022-04-03T09:52:22.221Z"
      },
      {
        "duration": 4,
        "start_time": "2022-04-03T09:56:01.851Z"
      },
      {
        "duration": 7,
        "start_time": "2022-04-03T09:56:04.512Z"
      },
      {
        "duration": 6,
        "start_time": "2022-04-03T09:56:05.792Z"
      },
      {
        "duration": 4,
        "start_time": "2022-04-03T09:56:17.321Z"
      },
      {
        "duration": 6,
        "start_time": "2022-04-03T09:56:20.096Z"
      },
      {
        "duration": 4,
        "start_time": "2022-04-03T09:58:25.869Z"
      },
      {
        "duration": 6,
        "start_time": "2022-04-03T09:58:27.802Z"
      },
      {
        "duration": 4,
        "start_time": "2022-04-03T09:58:30.162Z"
      },
      {
        "duration": 4,
        "start_time": "2022-04-03T10:01:13.766Z"
      },
      {
        "duration": 6,
        "start_time": "2022-04-03T10:01:15.700Z"
      },
      {
        "duration": 4,
        "start_time": "2022-04-03T10:01:22.228Z"
      },
      {
        "duration": 6,
        "start_time": "2022-04-03T10:01:23.907Z"
      },
      {
        "duration": 7,
        "start_time": "2022-04-03T10:01:24.859Z"
      },
      {
        "duration": 6,
        "start_time": "2022-04-03T10:01:27.852Z"
      },
      {
        "duration": 17,
        "start_time": "2022-04-03T10:01:41.117Z"
      },
      {
        "duration": 4,
        "start_time": "2022-04-03T10:02:03.604Z"
      },
      {
        "duration": 17,
        "start_time": "2022-04-03T10:02:06.069Z"
      },
      {
        "duration": 6,
        "start_time": "2022-04-03T10:02:07.246Z"
      },
      {
        "duration": 4,
        "start_time": "2022-04-03T10:02:11.420Z"
      },
      {
        "duration": 17,
        "start_time": "2022-04-03T10:02:15.093Z"
      },
      {
        "duration": 3,
        "start_time": "2022-04-03T10:03:26.094Z"
      },
      {
        "duration": 26,
        "start_time": "2022-04-03T10:03:27.765Z"
      },
      {
        "duration": 4,
        "start_time": "2022-04-03T10:03:37.060Z"
      },
      {
        "duration": 17,
        "start_time": "2022-04-03T10:03:38.695Z"
      },
      {
        "duration": 6,
        "start_time": "2022-04-03T10:03:41.695Z"
      },
      {
        "duration": 7,
        "start_time": "2022-04-03T10:03:56.638Z"
      },
      {
        "duration": 4,
        "start_time": "2022-04-03T10:03:59.103Z"
      },
      {
        "duration": 17,
        "start_time": "2022-04-03T10:04:00.583Z"
      },
      {
        "duration": 14,
        "start_time": "2022-04-03T10:04:02.741Z"
      },
      {
        "duration": 15,
        "start_time": "2022-04-03T10:04:04.413Z"
      },
      {
        "duration": 15,
        "start_time": "2022-04-03T10:04:05.222Z"
      },
      {
        "duration": 18,
        "start_time": "2022-04-03T10:04:05.774Z"
      },
      {
        "duration": 16,
        "start_time": "2022-04-03T10:04:07.159Z"
      },
      {
        "duration": 5,
        "start_time": "2022-04-03T10:05:29.480Z"
      },
      {
        "duration": 5,
        "start_time": "2022-04-03T10:05:37.464Z"
      },
      {
        "duration": 5,
        "start_time": "2022-04-03T10:06:18.695Z"
      },
      {
        "duration": 6,
        "start_time": "2022-04-03T10:07:17.848Z"
      },
      {
        "duration": 3,
        "start_time": "2022-04-03T10:07:38.173Z"
      },
      {
        "duration": 4,
        "start_time": "2022-04-03T10:07:39.976Z"
      },
      {
        "duration": 3,
        "start_time": "2022-04-03T10:07:55.056Z"
      },
      {
        "duration": 139,
        "start_time": "2022-04-03T10:16:42.262Z"
      },
      {
        "duration": 4,
        "start_time": "2022-04-03T10:16:50.119Z"
      },
      {
        "duration": 4,
        "start_time": "2022-04-03T10:16:51.903Z"
      },
      {
        "duration": 8,
        "start_time": "2022-04-03T10:17:13.057Z"
      },
      {
        "duration": 5,
        "start_time": "2022-04-03T10:17:23.865Z"
      },
      {
        "duration": 2143,
        "start_time": "2022-04-03T10:17:55.239Z"
      },
      {
        "duration": 0,
        "start_time": "2022-04-03T10:18:47.366Z"
      },
      {
        "duration": 0,
        "start_time": "2022-04-03T10:18:47.367Z"
      },
      {
        "duration": 2149,
        "start_time": "2022-04-03T10:18:49.217Z"
      },
      {
        "duration": 0,
        "start_time": "2022-04-03T10:19:00.741Z"
      },
      {
        "duration": 2182,
        "start_time": "2022-04-03T10:19:23.800Z"
      },
      {
        "duration": 5,
        "start_time": "2022-04-03T10:19:40.945Z"
      },
      {
        "duration": 6,
        "start_time": "2022-04-03T10:21:34.954Z"
      },
      {
        "duration": 10,
        "start_time": "2022-04-03T10:21:41.723Z"
      },
      {
        "duration": 5,
        "start_time": "2022-04-03T10:23:46.725Z"
      },
      {
        "duration": 2161,
        "start_time": "2022-04-03T10:23:48.446Z"
      },
      {
        "duration": 5,
        "start_time": "2022-04-03T10:23:57.113Z"
      },
      {
        "duration": 2209,
        "start_time": "2022-04-03T10:24:00.462Z"
      },
      {
        "duration": 4,
        "start_time": "2022-04-03T10:25:41.832Z"
      },
      {
        "duration": 2124,
        "start_time": "2022-04-03T10:25:44.527Z"
      },
      {
        "duration": 2149,
        "start_time": "2022-04-03T10:25:48.025Z"
      },
      {
        "duration": 5,
        "start_time": "2022-04-03T10:29:14.898Z"
      },
      {
        "duration": 141,
        "start_time": "2022-04-03T10:29:20.329Z"
      },
      {
        "duration": 9,
        "start_time": "2022-04-03T10:29:26.250Z"
      },
      {
        "duration": 27,
        "start_time": "2022-04-03T10:29:30.971Z"
      },
      {
        "duration": 4,
        "start_time": "2022-04-03T10:29:41.850Z"
      },
      {
        "duration": 12,
        "start_time": "2022-04-03T10:29:46.077Z"
      },
      {
        "duration": 4,
        "start_time": "2022-04-03T10:29:50.298Z"
      },
      {
        "duration": 23,
        "start_time": "2022-04-03T10:29:54.092Z"
      },
      {
        "duration": 24,
        "start_time": "2022-04-03T10:29:56.329Z"
      },
      {
        "duration": 19,
        "start_time": "2022-04-03T10:30:00.000Z"
      },
      {
        "duration": 25,
        "start_time": "2022-04-03T10:30:02.481Z"
      },
      {
        "duration": 58,
        "start_time": "2022-04-03T10:30:05.570Z"
      },
      {
        "duration": 70,
        "start_time": "2022-04-03T10:30:09.332Z"
      },
      {
        "duration": 53,
        "start_time": "2022-04-03T10:30:11.449Z"
      },
      {
        "duration": 37,
        "start_time": "2022-04-03T10:30:13.697Z"
      },
      {
        "duration": 4,
        "start_time": "2022-04-03T10:30:18.361Z"
      },
      {
        "duration": 14,
        "start_time": "2022-04-03T10:30:22.257Z"
      },
      {
        "duration": 37,
        "start_time": "2022-04-03T10:30:27.412Z"
      },
      {
        "duration": 11,
        "start_time": "2022-04-03T10:30:35.721Z"
      },
      {
        "duration": 11,
        "start_time": "2022-04-03T10:30:41.569Z"
      },
      {
        "duration": 3,
        "start_time": "2022-04-03T10:30:54.994Z"
      },
      {
        "duration": 17,
        "start_time": "2022-04-03T10:30:58.153Z"
      },
      {
        "duration": 15,
        "start_time": "2022-04-03T10:31:00.122Z"
      },
      {
        "duration": 17,
        "start_time": "2022-04-03T10:31:10.244Z"
      },
      {
        "duration": 14,
        "start_time": "2022-04-03T10:31:13.811Z"
      },
      {
        "duration": 16,
        "start_time": "2022-04-03T10:31:30.923Z"
      },
      {
        "duration": 13,
        "start_time": "2022-04-03T10:31:33.251Z"
      },
      {
        "duration": 18,
        "start_time": "2022-04-03T10:31:34.802Z"
      },
      {
        "duration": 15,
        "start_time": "2022-04-03T10:31:36.754Z"
      },
      {
        "duration": 7,
        "start_time": "2022-04-03T10:31:47.346Z"
      },
      {
        "duration": 10,
        "start_time": "2022-04-03T10:32:09.442Z"
      },
      {
        "duration": 10,
        "start_time": "2022-04-03T10:32:17.922Z"
      },
      {
        "duration": 13,
        "start_time": "2022-04-03T10:32:21.714Z"
      },
      {
        "duration": 9,
        "start_time": "2022-04-03T10:32:23.650Z"
      },
      {
        "duration": 17,
        "start_time": "2022-04-03T10:32:37.475Z"
      },
      {
        "duration": 15,
        "start_time": "2022-04-03T10:32:50.732Z"
      },
      {
        "duration": 5,
        "start_time": "2022-04-03T10:32:57.364Z"
      },
      {
        "duration": 4,
        "start_time": "2022-04-03T10:33:17.686Z"
      },
      {
        "duration": 12,
        "start_time": "2022-04-03T10:33:43.726Z"
      },
      {
        "duration": 9,
        "start_time": "2022-04-03T10:33:56.180Z"
      },
      {
        "duration": 4,
        "start_time": "2022-04-03T10:34:02.245Z"
      },
      {
        "duration": 17,
        "start_time": "2022-04-03T10:34:04.670Z"
      },
      {
        "duration": 13,
        "start_time": "2022-04-03T10:34:08.501Z"
      },
      {
        "duration": 16,
        "start_time": "2022-04-03T10:34:10.516Z"
      },
      {
        "duration": 11,
        "start_time": "2022-04-03T10:34:12.603Z"
      },
      {
        "duration": 8,
        "start_time": "2022-04-03T10:34:18.628Z"
      },
      {
        "duration": 5,
        "start_time": "2022-04-03T10:34:22.820Z"
      },
      {
        "duration": 6,
        "start_time": "2022-04-03T10:34:25.539Z"
      },
      {
        "duration": 5,
        "start_time": "2022-04-03T10:34:27.243Z"
      },
      {
        "duration": 2111,
        "start_time": "2022-04-03T10:43:40.987Z"
      },
      {
        "duration": 109,
        "start_time": "2022-04-03T10:43:46.290Z"
      },
      {
        "duration": 4,
        "start_time": "2022-04-03T10:44:47.491Z"
      },
      {
        "duration": 3,
        "start_time": "2022-04-03T10:44:50.804Z"
      },
      {
        "duration": 180,
        "start_time": "2022-04-03T10:45:01.675Z"
      },
      {
        "duration": 7,
        "start_time": "2022-04-03T10:45:04.075Z"
      },
      {
        "duration": 7,
        "start_time": "2022-04-03T10:45:06.853Z"
      },
      {
        "duration": 6,
        "start_time": "2022-04-03T10:45:10.571Z"
      },
      {
        "duration": 4,
        "start_time": "2022-04-03T10:45:29.352Z"
      },
      {
        "duration": 4,
        "start_time": "2022-04-03T10:45:33.343Z"
      },
      {
        "duration": 3,
        "start_time": "2022-04-03T10:45:49.550Z"
      },
      {
        "duration": 3,
        "start_time": "2022-04-03T10:46:25.040Z"
      },
      {
        "duration": 3,
        "start_time": "2022-04-03T10:46:27.799Z"
      },
      {
        "duration": 3,
        "start_time": "2022-04-03T10:47:46.761Z"
      },
      {
        "duration": 3,
        "start_time": "2022-04-03T10:51:11.397Z"
      },
      {
        "duration": 32,
        "start_time": "2022-04-03T10:54:49.629Z"
      },
      {
        "duration": 3,
        "start_time": "2022-04-03T10:57:20.372Z"
      },
      {
        "duration": 3,
        "start_time": "2022-04-03T10:57:21.487Z"
      },
      {
        "duration": 4,
        "start_time": "2022-04-03T10:57:22.195Z"
      },
      {
        "duration": 3,
        "start_time": "2022-04-03T10:57:25.881Z"
      },
      {
        "duration": 3,
        "start_time": "2022-04-03T10:57:31.466Z"
      },
      {
        "duration": 3,
        "start_time": "2022-04-03T10:57:33.084Z"
      },
      {
        "duration": 3,
        "start_time": "2022-04-03T10:57:33.883Z"
      },
      {
        "duration": 2,
        "start_time": "2022-04-03T10:57:34.674Z"
      },
      {
        "duration": 4,
        "start_time": "2022-04-03T11:12:56.944Z"
      },
      {
        "duration": 3,
        "start_time": "2022-04-03T11:12:58.192Z"
      },
      {
        "duration": 3,
        "start_time": "2022-04-03T11:12:59.040Z"
      },
      {
        "duration": 3,
        "start_time": "2022-04-03T11:12:59.724Z"
      },
      {
        "duration": 4,
        "start_time": "2022-04-03T11:13:00.497Z"
      },
      {
        "duration": 3,
        "start_time": "2022-04-03T11:13:03.849Z"
      },
      {
        "duration": 3,
        "start_time": "2022-04-03T11:13:06.408Z"
      },
      {
        "duration": 3,
        "start_time": "2022-04-03T11:13:07.779Z"
      },
      {
        "duration": 3,
        "start_time": "2022-04-03T11:13:08.576Z"
      },
      {
        "duration": 3,
        "start_time": "2022-04-03T11:13:09.141Z"
      },
      {
        "duration": 3,
        "start_time": "2022-04-03T11:13:10.540Z"
      },
      {
        "duration": 146,
        "start_time": "2022-04-03T11:13:41.002Z"
      },
      {
        "duration": 8,
        "start_time": "2022-04-03T11:13:45.190Z"
      },
      {
        "duration": 7,
        "start_time": "2022-04-03T11:13:46.170Z"
      },
      {
        "duration": 8,
        "start_time": "2022-04-03T11:13:47.701Z"
      },
      {
        "duration": 8,
        "start_time": "2022-04-03T11:13:48.524Z"
      },
      {
        "duration": 7,
        "start_time": "2022-04-03T11:13:49.210Z"
      },
      {
        "duration": 8,
        "start_time": "2022-04-03T11:13:49.935Z"
      },
      {
        "duration": 7,
        "start_time": "2022-04-03T11:13:51.074Z"
      },
      {
        "duration": 6,
        "start_time": "2022-04-03T11:14:36.889Z"
      },
      {
        "duration": 16,
        "start_time": "2022-04-03T11:18:42.838Z"
      },
      {
        "duration": 16,
        "start_time": "2022-04-03T11:18:45.256Z"
      },
      {
        "duration": 15,
        "start_time": "2022-04-03T11:18:46.172Z"
      },
      {
        "duration": 15,
        "start_time": "2022-04-03T11:18:47.669Z"
      },
      {
        "duration": 15,
        "start_time": "2022-04-03T11:18:48.598Z"
      },
      {
        "duration": 16,
        "start_time": "2022-04-03T11:18:49.496Z"
      },
      {
        "duration": 6,
        "start_time": "2022-04-03T11:18:52.077Z"
      },
      {
        "duration": 3,
        "start_time": "2022-04-03T11:19:23.461Z"
      },
      {
        "duration": 159,
        "start_time": "2022-04-03T11:19:24.345Z"
      },
      {
        "duration": 7,
        "start_time": "2022-04-03T11:19:25.757Z"
      },
      {
        "duration": 8,
        "start_time": "2022-04-03T11:19:26.599Z"
      },
      {
        "duration": 8,
        "start_time": "2022-04-03T11:19:27.775Z"
      },
      {
        "duration": 8,
        "start_time": "2022-04-03T11:19:36.741Z"
      },
      {
        "duration": 5,
        "start_time": "2022-04-03T11:19:46.664Z"
      },
      {
        "duration": 441,
        "start_time": "2022-04-03T13:08:02.478Z"
      },
      {
        "duration": 151,
        "start_time": "2022-04-03T13:08:17.534Z"
      },
      {
        "duration": 149,
        "start_time": "2022-04-03T13:08:39.048Z"
      },
      {
        "duration": 8,
        "start_time": "2022-04-03T13:08:41.894Z"
      },
      {
        "duration": 30,
        "start_time": "2022-04-03T13:08:45.337Z"
      },
      {
        "duration": 3,
        "start_time": "2022-04-03T13:09:16.587Z"
      },
      {
        "duration": 13,
        "start_time": "2022-04-03T13:10:38.537Z"
      },
      {
        "duration": 4,
        "start_time": "2022-04-03T13:10:41.494Z"
      },
      {
        "duration": 23,
        "start_time": "2022-04-03T13:10:46.510Z"
      },
      {
        "duration": 16,
        "start_time": "2022-04-03T13:10:57.498Z"
      },
      {
        "duration": 22,
        "start_time": "2022-04-03T13:10:59.777Z"
      },
      {
        "duration": 60,
        "start_time": "2022-04-03T13:11:02.653Z"
      },
      {
        "duration": 70,
        "start_time": "2022-04-03T13:11:22.842Z"
      },
      {
        "duration": 51,
        "start_time": "2022-04-03T13:11:28.886Z"
      },
      {
        "duration": 38,
        "start_time": "2022-04-03T13:12:10.179Z"
      },
      {
        "duration": 3,
        "start_time": "2022-04-03T13:12:40.002Z"
      },
      {
        "duration": 4,
        "start_time": "2022-04-03T13:13:04.296Z"
      },
      {
        "duration": 2,
        "start_time": "2022-04-03T13:13:13.727Z"
      },
      {
        "duration": 14,
        "start_time": "2022-04-03T13:16:23.705Z"
      },
      {
        "duration": 12,
        "start_time": "2022-04-03T13:18:40.292Z"
      },
      {
        "duration": 38,
        "start_time": "2022-04-03T13:18:44.794Z"
      },
      {
        "duration": 39,
        "start_time": "2022-04-03T13:19:04.767Z"
      },
      {
        "duration": 9,
        "start_time": "2022-04-03T13:20:40.010Z"
      },
      {
        "duration": 63,
        "start_time": "2022-04-03T13:21:15.194Z"
      },
      {
        "duration": 15,
        "start_time": "2022-04-03T13:21:32.577Z"
      },
      {
        "duration": 11,
        "start_time": "2022-04-03T13:21:35.464Z"
      },
      {
        "duration": 11,
        "start_time": "2022-04-03T13:21:38.911Z"
      },
      {
        "duration": 11,
        "start_time": "2022-04-03T13:21:59.221Z"
      },
      {
        "duration": 4,
        "start_time": "2022-04-03T13:22:11.953Z"
      },
      {
        "duration": 16,
        "start_time": "2022-04-03T13:22:14.705Z"
      },
      {
        "duration": 16,
        "start_time": "2022-04-03T13:22:15.868Z"
      },
      {
        "duration": 14,
        "start_time": "2022-04-03T13:22:16.824Z"
      },
      {
        "duration": 19,
        "start_time": "2022-04-03T13:22:18.562Z"
      },
      {
        "duration": 17,
        "start_time": "2022-04-03T13:22:19.550Z"
      },
      {
        "duration": 16,
        "start_time": "2022-04-03T13:22:20.995Z"
      },
      {
        "duration": 9,
        "start_time": "2022-04-03T13:22:23.153Z"
      },
      {
        "duration": 11,
        "start_time": "2022-04-03T13:22:39.041Z"
      },
      {
        "duration": 11,
        "start_time": "2022-04-03T13:22:48.236Z"
      },
      {
        "duration": 8,
        "start_time": "2022-04-03T13:22:55.087Z"
      },
      {
        "duration": 15,
        "start_time": "2022-04-03T13:23:00.261Z"
      },
      {
        "duration": 21,
        "start_time": "2022-04-03T13:23:11.786Z"
      },
      {
        "duration": 19,
        "start_time": "2022-04-03T13:23:23.297Z"
      },
      {
        "duration": 3,
        "start_time": "2022-04-03T13:23:29.888Z"
      },
      {
        "duration": 17,
        "start_time": "2022-04-03T13:23:37.240Z"
      },
      {
        "duration": 13,
        "start_time": "2022-04-03T13:23:42.205Z"
      },
      {
        "duration": 17,
        "start_time": "2022-04-03T13:23:44.495Z"
      },
      {
        "duration": 12,
        "start_time": "2022-04-03T13:23:47.313Z"
      },
      {
        "duration": 10,
        "start_time": "2022-04-03T13:24:25.128Z"
      },
      {
        "duration": 9,
        "start_time": "2022-04-03T13:24:27.082Z"
      },
      {
        "duration": 5,
        "start_time": "2022-04-03T13:24:28.602Z"
      },
      {
        "duration": 6,
        "start_time": "2022-04-03T13:24:31.778Z"
      },
      {
        "duration": 5,
        "start_time": "2022-04-03T13:24:38.682Z"
      },
      {
        "duration": 4,
        "start_time": "2022-04-03T13:24:39.439Z"
      },
      {
        "duration": 45,
        "start_time": "2022-04-14T06:20:12.146Z"
      },
      {
        "duration": 6,
        "start_time": "2022-04-14T06:20:13.671Z"
      },
      {
        "duration": 422,
        "start_time": "2022-04-14T06:20:21.275Z"
      },
      {
        "duration": 2,
        "start_time": "2022-04-14T06:20:23.906Z"
      },
      {
        "duration": 145,
        "start_time": "2022-04-14T06:20:27.105Z"
      },
      {
        "duration": 7,
        "start_time": "2022-04-14T06:20:29.340Z"
      },
      {
        "duration": 14,
        "start_time": "2022-04-14T06:20:37.335Z"
      },
      {
        "duration": 27,
        "start_time": "2022-04-14T06:25:41.159Z"
      },
      {
        "duration": 3,
        "start_time": "2022-04-14T06:25:59.358Z"
      },
      {
        "duration": 4,
        "start_time": "2022-04-14T06:26:06.881Z"
      },
      {
        "duration": 10,
        "start_time": "2022-04-14T06:27:04.756Z"
      },
      {
        "duration": 3,
        "start_time": "2022-04-14T06:27:09.947Z"
      },
      {
        "duration": 4,
        "start_time": "2022-04-14T06:27:26.153Z"
      },
      {
        "duration": 4,
        "start_time": "2022-04-14T06:27:27.889Z"
      },
      {
        "duration": 24,
        "start_time": "2022-04-14T06:28:03.357Z"
      },
      {
        "duration": 27,
        "start_time": "2022-04-14T06:28:15.695Z"
      },
      {
        "duration": 70,
        "start_time": "2022-04-14T06:28:24.037Z"
      },
      {
        "duration": 77,
        "start_time": "2022-04-14T06:28:29.544Z"
      },
      {
        "duration": 57,
        "start_time": "2022-04-14T06:28:35.283Z"
      },
      {
        "duration": 2,
        "start_time": "2022-04-14T06:30:06.175Z"
      },
      {
        "duration": 160,
        "start_time": "2022-04-14T06:30:07.909Z"
      },
      {
        "duration": 10,
        "start_time": "2022-04-14T06:30:09.618Z"
      },
      {
        "duration": 29,
        "start_time": "2022-04-14T06:30:12.367Z"
      },
      {
        "duration": 10,
        "start_time": "2022-04-14T06:30:15.651Z"
      },
      {
        "duration": 3,
        "start_time": "2022-04-14T06:30:21.964Z"
      },
      {
        "duration": 152,
        "start_time": "2022-04-14T06:30:22.926Z"
      },
      {
        "duration": 10,
        "start_time": "2022-04-14T06:30:25.074Z"
      },
      {
        "duration": 26,
        "start_time": "2022-04-14T06:30:27.478Z"
      },
      {
        "duration": 4,
        "start_time": "2022-04-14T06:30:31.171Z"
      },
      {
        "duration": 6,
        "start_time": "2022-04-14T06:30:33.768Z"
      },
      {
        "duration": 4,
        "start_time": "2022-04-14T06:30:35.766Z"
      },
      {
        "duration": 25,
        "start_time": "2022-04-14T06:30:37.463Z"
      },
      {
        "duration": 17,
        "start_time": "2022-04-14T06:30:39.671Z"
      },
      {
        "duration": 24,
        "start_time": "2022-04-14T06:30:41.203Z"
      },
      {
        "duration": 60,
        "start_time": "2022-04-14T06:30:42.880Z"
      },
      {
        "duration": 65,
        "start_time": "2022-04-14T06:30:44.322Z"
      },
      {
        "duration": 54,
        "start_time": "2022-04-14T06:30:45.968Z"
      },
      {
        "duration": 40,
        "start_time": "2022-04-14T06:30:47.650Z"
      },
      {
        "duration": 3,
        "start_time": "2022-04-14T06:30:51.030Z"
      },
      {
        "duration": 15,
        "start_time": "2022-04-14T06:30:52.879Z"
      },
      {
        "duration": 36,
        "start_time": "2022-04-14T06:30:55.363Z"
      },
      {
        "duration": 3,
        "start_time": "2022-04-14T06:31:15.823Z"
      },
      {
        "duration": 2,
        "start_time": "2022-04-14T06:31:33.822Z"
      },
      {
        "duration": 136,
        "start_time": "2022-04-14T06:31:34.678Z"
      },
      {
        "duration": 9,
        "start_time": "2022-04-14T06:31:36.109Z"
      },
      {
        "duration": 26,
        "start_time": "2022-04-14T06:31:38.103Z"
      },
      {
        "duration": 4,
        "start_time": "2022-04-14T06:31:42.421Z"
      },
      {
        "duration": 6,
        "start_time": "2022-04-14T06:31:44.603Z"
      },
      {
        "duration": 4,
        "start_time": "2022-04-14T06:31:45.999Z"
      },
      {
        "duration": 24,
        "start_time": "2022-04-14T06:31:47.458Z"
      },
      {
        "duration": 16,
        "start_time": "2022-04-14T06:31:49.537Z"
      },
      {
        "duration": 24,
        "start_time": "2022-04-14T06:31:51.044Z"
      },
      {
        "duration": 56,
        "start_time": "2022-04-14T06:31:52.497Z"
      },
      {
        "duration": 68,
        "start_time": "2022-04-14T06:31:53.948Z"
      },
      {
        "duration": 53,
        "start_time": "2022-04-14T06:31:55.457Z"
      },
      {
        "duration": 40,
        "start_time": "2022-04-14T06:31:56.867Z"
      },
      {
        "duration": 3,
        "start_time": "2022-04-14T06:31:59.722Z"
      },
      {
        "duration": 14,
        "start_time": "2022-04-14T06:32:01.100Z"
      },
      {
        "duration": 39,
        "start_time": "2022-04-14T06:32:03.489Z"
      },
      {
        "duration": 10,
        "start_time": "2022-04-14T06:32:07.048Z"
      },
      {
        "duration": 11,
        "start_time": "2022-04-14T06:32:08.632Z"
      },
      {
        "duration": 4,
        "start_time": "2022-04-14T06:32:10.725Z"
      },
      {
        "duration": 17,
        "start_time": "2022-04-14T06:32:13.966Z"
      },
      {
        "duration": 16,
        "start_time": "2022-04-14T06:32:14.863Z"
      },
      {
        "duration": 15,
        "start_time": "2022-04-14T06:32:16.237Z"
      },
      {
        "duration": 14,
        "start_time": "2022-04-14T06:32:17.431Z"
      },
      {
        "duration": 17,
        "start_time": "2022-04-14T06:32:19.651Z"
      },
      {
        "duration": 15,
        "start_time": "2022-04-14T06:32:21.192Z"
      },
      {
        "duration": 9,
        "start_time": "2022-04-14T06:32:22.879Z"
      },
      {
        "duration": 19,
        "start_time": "2022-04-14T06:32:25.315Z"
      },
      {
        "duration": 18,
        "start_time": "2022-04-14T06:32:27.148Z"
      },
      {
        "duration": 4,
        "start_time": "2022-04-14T06:32:29.720Z"
      },
      {
        "duration": 19,
        "start_time": "2022-04-14T06:32:31.381Z"
      },
      {
        "duration": 13,
        "start_time": "2022-04-14T06:32:33.039Z"
      },
      {
        "duration": 18,
        "start_time": "2022-04-14T06:32:34.585Z"
      },
      {
        "duration": 12,
        "start_time": "2022-04-14T06:32:36.048Z"
      },
      {
        "duration": 8,
        "start_time": "2022-04-14T06:32:38.535Z"
      },
      {
        "duration": 5,
        "start_time": "2022-04-14T06:32:39.524Z"
      },
      {
        "duration": 7,
        "start_time": "2022-04-14T06:32:41.201Z"
      },
      {
        "duration": 4,
        "start_time": "2022-04-14T06:32:42.098Z"
      }
    ],
    "colab": {
      "collapsed_sections": [
        "E0vqbgi9ay0H",
        "VUC88oWjTJw2"
      ],
      "provenance": []
    },
    "kernelspec": {
      "display_name": "Python 3 (ipykernel)",
      "language": "python",
      "name": "python3"
    },
    "language_info": {
      "codemirror_mode": {
        "name": "ipython",
        "version": 3
      },
      "file_extension": ".py",
      "mimetype": "text/x-python",
      "name": "python",
      "nbconvert_exporter": "python",
      "pygments_lexer": "ipython3",
      "version": "3.9.5"
    },
    "toc": {
      "base_numbering": 1,
      "nav_menu": {},
      "number_sections": true,
      "sideBar": true,
      "skip_h1_title": true,
      "title_cell": "Table of Contents",
      "title_sidebar": "Contents",
      "toc_cell": false,
      "toc_position": {
        "height": "calc(100% - 180px)",
        "left": "10px",
        "top": "150px",
        "width": "214.757px"
      },
      "toc_section_display": true,
      "toc_window_display": false
    }
  },
  "nbformat": 4,
  "nbformat_minor": 0
}