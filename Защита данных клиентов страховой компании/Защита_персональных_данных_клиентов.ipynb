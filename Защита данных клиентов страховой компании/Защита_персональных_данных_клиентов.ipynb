{
  "cells": [
    {
      "cell_type": "markdown",
      "metadata": {
        "id": "ECKaW8C-NOC5"
      },
      "source": [
        "# Защита персональных данных клиентов"
      ]
    },
    {
      "cell_type": "markdown",
      "metadata": {
        "id": "i82SxjyJNOC5"
      },
      "source": [
        "**Описание проекта**\n",
        "\n",
        "Нужно защитить данные клиентов страховой компании «Хоть потоп». Разработать метод преобразования данных, чтобы по ним было сложно восстановить персональную информацию. Обосновать корректность его работы.\n",
        "\n",
        "Нужно защитить данные, чтобы при преобразовании качество моделей машинного обучения не ухудшилось. Подбирать наилучшую модель не требуется."
      ]
    },
    {
      "cell_type": "markdown",
      "metadata": {
        "id": "5zAVC_D3NOC6"
      },
      "source": [
        "**Цель проекта:** Разработать алгоритм для защиты данных клиентов страховой компании без потери качества линейной регрессии."
      ]
    },
    {
      "cell_type": "markdown",
      "metadata": {
        "id": "zb1fg7niNOC7"
      },
      "source": [
        "**Описание данных**\n",
        "\n",
        "Набор данных находится в файле /datasets/insurance.csv.\n",
        "\n",
        "**Признаки:** пол, возраст и зарплата застрахованного, количество членов его семьи. \n",
        "\n",
        "**Целевой признак:** количество страховых выплат клиенту за последние 5 лет."
      ]
    },
    {
      "cell_type": "markdown",
      "metadata": {
        "id": "ktt3XwS8NOC8"
      },
      "source": [
        "## Загрузка данных"
      ]
    },
    {
      "cell_type": "markdown",
      "metadata": {
        "id": "08oLsBgwNOC9"
      },
      "source": [
        "Импортируем все необходимые библиотеки и структуры. Загрузим и изучим данные."
      ]
    },
    {
      "cell_type": "code",
      "execution_count": 1,
      "metadata": {
        "id": "DG5yMAq8NOC-"
      },
      "outputs": [],
      "source": [
        "import pandas as pd\n",
        "import numpy as np\n",
        "import seaborn as sns\n",
        "from sklearn.linear_model import LinearRegression\n",
        "from sklearn.metrics import r2_score\n",
        "from numpy.linalg import inv\n",
        "from sklearn.model_selection import train_test_split"
      ]
    },
    {
      "cell_type": "code",
      "source": [
        "!wget https://code.s3.yandex.net/datasets/insurance.csv"
      ],
      "metadata": {
        "colab": {
          "base_uri": "https://localhost:8080/"
        },
        "id": "otMiQ3VM5rd0",
        "outputId": "6665ca92-49e2-44f7-ed55-7a3d39b7a5e3"
      },
      "execution_count": 2,
      "outputs": [
        {
          "output_type": "stream",
          "name": "stdout",
          "text": [
            "--2023-03-06 03:22:18--  https://code.s3.yandex.net/datasets/insurance.csv\n",
            "Resolving code.s3.yandex.net (code.s3.yandex.net)... 93.158.134.158, 2a02:6b8::2:158\n",
            "Connecting to code.s3.yandex.net (code.s3.yandex.net)|93.158.134.158|:443... connected.\n",
            "HTTP request sent, awaiting response... 200 OK\n",
            "Length: 95668 (93K) [application/octet-stream]\n",
            "Saving to: ‘insurance.csv.2’\n",
            "\n",
            "insurance.csv.2     100%[===================>]  93.43K   225KB/s    in 0.4s    \n",
            "\n",
            "2023-03-06 03:22:20 (225 KB/s) - ‘insurance.csv.2’ saved [95668/95668]\n",
            "\n"
          ]
        }
      ]
    },
    {
      "cell_type": "code",
      "execution_count": 3,
      "metadata": {
        "id": "IUOqcAyyNODA"
      },
      "outputs": [],
      "source": [
        "insurance = pd.read_csv('insurance.csv')"
      ]
    },
    {
      "cell_type": "code",
      "execution_count": 4,
      "metadata": {
        "id": "5EY8qHA6NODB",
        "outputId": "8b6fcd22-419c-46f5-80ed-eae242f52cfb",
        "colab": {
          "base_uri": "https://localhost:8080/",
          "height": 1000
        }
      },
      "outputs": [
        {
          "output_type": "stream",
          "name": "stdout",
          "text": [
            "Общая информация о данных\n",
            "\n",
            "<class 'pandas.core.frame.DataFrame'>\n",
            "RangeIndex: 5000 entries, 0 to 4999\n",
            "Data columns (total 5 columns):\n",
            " #   Column             Non-Null Count  Dtype  \n",
            "---  ------             --------------  -----  \n",
            " 0   Пол                5000 non-null   int64  \n",
            " 1   Возраст            5000 non-null   float64\n",
            " 2   Зарплата           5000 non-null   float64\n",
            " 3   Члены семьи        5000 non-null   int64  \n",
            " 4   Страховые выплаты  5000 non-null   int64  \n",
            "dtypes: float64(2), int64(3)\n",
            "memory usage: 195.4 KB\n",
            "\n",
            "Числовое описание данных\n",
            "               Пол      Возраст      Зарплата  Члены семьи  Страховые выплаты\n",
            "count  5000.000000  5000.000000   5000.000000  5000.000000        5000.000000\n",
            "mean      0.499000    30.952800  39916.360000     1.194200           0.148000\n",
            "std       0.500049     8.440807   9900.083569     1.091387           0.463183\n",
            "min       0.000000    18.000000   5300.000000     0.000000           0.000000\n",
            "25%       0.000000    24.000000  33300.000000     0.000000           0.000000\n",
            "50%       0.000000    30.000000  40200.000000     1.000000           0.000000\n",
            "75%       1.000000    37.000000  46600.000000     2.000000           0.000000\n",
            "max       1.000000    65.000000  79000.000000     6.000000           5.000000\n",
            "\n",
            "Наличие пропусков\n",
            "Пол                  0\n",
            "Возраст              0\n",
            "Зарплата             0\n",
            "Члены семьи          0\n",
            "Страховые выплаты    0\n",
            "dtype: int64\n",
            "\n",
            "Наличие дубликатов\n",
            "153\n",
            "\n",
            "Представление данных\n"
          ]
        },
        {
          "output_type": "display_data",
          "data": {
            "text/plain": [
              "      Пол  Возраст  Зарплата  Члены семьи  Страховые выплаты\n",
              "0       1     41.0   49600.0            1                  0\n",
              "1       0     46.0   38000.0            1                  1\n",
              "2       0     29.0   21000.0            0                  0\n",
              "3       0     21.0   41700.0            2                  0\n",
              "4       1     28.0   26100.0            0                  0\n",
              "...   ...      ...       ...          ...                ...\n",
              "4995    0     28.0   35700.0            2                  0\n",
              "4996    0     34.0   52400.0            1                  0\n",
              "4997    0     20.0   33900.0            2                  0\n",
              "4998    1     22.0   32700.0            3                  0\n",
              "4999    1     28.0   40600.0            1                  0\n",
              "\n",
              "[5000 rows x 5 columns]"
            ],
            "text/html": [
              "\n",
              "  <div id=\"df-a7fbfaa2-afe6-4dad-858b-c87a49c289fb\">\n",
              "    <div class=\"colab-df-container\">\n",
              "      <div>\n",
              "<style scoped>\n",
              "    .dataframe tbody tr th:only-of-type {\n",
              "        vertical-align: middle;\n",
              "    }\n",
              "\n",
              "    .dataframe tbody tr th {\n",
              "        vertical-align: top;\n",
              "    }\n",
              "\n",
              "    .dataframe thead th {\n",
              "        text-align: right;\n",
              "    }\n",
              "</style>\n",
              "<table border=\"1\" class=\"dataframe\">\n",
              "  <thead>\n",
              "    <tr style=\"text-align: right;\">\n",
              "      <th></th>\n",
              "      <th>Пол</th>\n",
              "      <th>Возраст</th>\n",
              "      <th>Зарплата</th>\n",
              "      <th>Члены семьи</th>\n",
              "      <th>Страховые выплаты</th>\n",
              "    </tr>\n",
              "  </thead>\n",
              "  <tbody>\n",
              "    <tr>\n",
              "      <th>0</th>\n",
              "      <td>1</td>\n",
              "      <td>41.0</td>\n",
              "      <td>49600.0</td>\n",
              "      <td>1</td>\n",
              "      <td>0</td>\n",
              "    </tr>\n",
              "    <tr>\n",
              "      <th>1</th>\n",
              "      <td>0</td>\n",
              "      <td>46.0</td>\n",
              "      <td>38000.0</td>\n",
              "      <td>1</td>\n",
              "      <td>1</td>\n",
              "    </tr>\n",
              "    <tr>\n",
              "      <th>2</th>\n",
              "      <td>0</td>\n",
              "      <td>29.0</td>\n",
              "      <td>21000.0</td>\n",
              "      <td>0</td>\n",
              "      <td>0</td>\n",
              "    </tr>\n",
              "    <tr>\n",
              "      <th>3</th>\n",
              "      <td>0</td>\n",
              "      <td>21.0</td>\n",
              "      <td>41700.0</td>\n",
              "      <td>2</td>\n",
              "      <td>0</td>\n",
              "    </tr>\n",
              "    <tr>\n",
              "      <th>4</th>\n",
              "      <td>1</td>\n",
              "      <td>28.0</td>\n",
              "      <td>26100.0</td>\n",
              "      <td>0</td>\n",
              "      <td>0</td>\n",
              "    </tr>\n",
              "    <tr>\n",
              "      <th>...</th>\n",
              "      <td>...</td>\n",
              "      <td>...</td>\n",
              "      <td>...</td>\n",
              "      <td>...</td>\n",
              "      <td>...</td>\n",
              "    </tr>\n",
              "    <tr>\n",
              "      <th>4995</th>\n",
              "      <td>0</td>\n",
              "      <td>28.0</td>\n",
              "      <td>35700.0</td>\n",
              "      <td>2</td>\n",
              "      <td>0</td>\n",
              "    </tr>\n",
              "    <tr>\n",
              "      <th>4996</th>\n",
              "      <td>0</td>\n",
              "      <td>34.0</td>\n",
              "      <td>52400.0</td>\n",
              "      <td>1</td>\n",
              "      <td>0</td>\n",
              "    </tr>\n",
              "    <tr>\n",
              "      <th>4997</th>\n",
              "      <td>0</td>\n",
              "      <td>20.0</td>\n",
              "      <td>33900.0</td>\n",
              "      <td>2</td>\n",
              "      <td>0</td>\n",
              "    </tr>\n",
              "    <tr>\n",
              "      <th>4998</th>\n",
              "      <td>1</td>\n",
              "      <td>22.0</td>\n",
              "      <td>32700.0</td>\n",
              "      <td>3</td>\n",
              "      <td>0</td>\n",
              "    </tr>\n",
              "    <tr>\n",
              "      <th>4999</th>\n",
              "      <td>1</td>\n",
              "      <td>28.0</td>\n",
              "      <td>40600.0</td>\n",
              "      <td>1</td>\n",
              "      <td>0</td>\n",
              "    </tr>\n",
              "  </tbody>\n",
              "</table>\n",
              "<p>5000 rows × 5 columns</p>\n",
              "</div>\n",
              "      <button class=\"colab-df-convert\" onclick=\"convertToInteractive('df-a7fbfaa2-afe6-4dad-858b-c87a49c289fb')\"\n",
              "              title=\"Convert this dataframe to an interactive table.\"\n",
              "              style=\"display:none;\">\n",
              "        \n",
              "  <svg xmlns=\"http://www.w3.org/2000/svg\" height=\"24px\"viewBox=\"0 0 24 24\"\n",
              "       width=\"24px\">\n",
              "    <path d=\"M0 0h24v24H0V0z\" fill=\"none\"/>\n",
              "    <path d=\"M18.56 5.44l.94 2.06.94-2.06 2.06-.94-2.06-.94-.94-2.06-.94 2.06-2.06.94zm-11 1L8.5 8.5l.94-2.06 2.06-.94-2.06-.94L8.5 2.5l-.94 2.06-2.06.94zm10 10l.94 2.06.94-2.06 2.06-.94-2.06-.94-.94-2.06-.94 2.06-2.06.94z\"/><path d=\"M17.41 7.96l-1.37-1.37c-.4-.4-.92-.59-1.43-.59-.52 0-1.04.2-1.43.59L10.3 9.45l-7.72 7.72c-.78.78-.78 2.05 0 2.83L4 21.41c.39.39.9.59 1.41.59.51 0 1.02-.2 1.41-.59l7.78-7.78 2.81-2.81c.8-.78.8-2.07 0-2.86zM5.41 20L4 18.59l7.72-7.72 1.47 1.35L5.41 20z\"/>\n",
              "  </svg>\n",
              "      </button>\n",
              "      \n",
              "  <style>\n",
              "    .colab-df-container {\n",
              "      display:flex;\n",
              "      flex-wrap:wrap;\n",
              "      gap: 12px;\n",
              "    }\n",
              "\n",
              "    .colab-df-convert {\n",
              "      background-color: #E8F0FE;\n",
              "      border: none;\n",
              "      border-radius: 50%;\n",
              "      cursor: pointer;\n",
              "      display: none;\n",
              "      fill: #1967D2;\n",
              "      height: 32px;\n",
              "      padding: 0 0 0 0;\n",
              "      width: 32px;\n",
              "    }\n",
              "\n",
              "    .colab-df-convert:hover {\n",
              "      background-color: #E2EBFA;\n",
              "      box-shadow: 0px 1px 2px rgba(60, 64, 67, 0.3), 0px 1px 3px 1px rgba(60, 64, 67, 0.15);\n",
              "      fill: #174EA6;\n",
              "    }\n",
              "\n",
              "    [theme=dark] .colab-df-convert {\n",
              "      background-color: #3B4455;\n",
              "      fill: #D2E3FC;\n",
              "    }\n",
              "\n",
              "    [theme=dark] .colab-df-convert:hover {\n",
              "      background-color: #434B5C;\n",
              "      box-shadow: 0px 1px 3px 1px rgba(0, 0, 0, 0.15);\n",
              "      filter: drop-shadow(0px 1px 2px rgba(0, 0, 0, 0.3));\n",
              "      fill: #FFFFFF;\n",
              "    }\n",
              "  </style>\n",
              "\n",
              "      <script>\n",
              "        const buttonEl =\n",
              "          document.querySelector('#df-a7fbfaa2-afe6-4dad-858b-c87a49c289fb button.colab-df-convert');\n",
              "        buttonEl.style.display =\n",
              "          google.colab.kernel.accessAllowed ? 'block' : 'none';\n",
              "\n",
              "        async function convertToInteractive(key) {\n",
              "          const element = document.querySelector('#df-a7fbfaa2-afe6-4dad-858b-c87a49c289fb');\n",
              "          const dataTable =\n",
              "            await google.colab.kernel.invokeFunction('convertToInteractive',\n",
              "                                                     [key], {});\n",
              "          if (!dataTable) return;\n",
              "\n",
              "          const docLinkHtml = 'Like what you see? Visit the ' +\n",
              "            '<a target=\"_blank\" href=https://colab.research.google.com/notebooks/data_table.ipynb>data table notebook</a>'\n",
              "            + ' to learn more about interactive tables.';\n",
              "          element.innerHTML = '';\n",
              "          dataTable['output_type'] = 'display_data';\n",
              "          await google.colab.output.renderOutput(dataTable, element);\n",
              "          const docLink = document.createElement('div');\n",
              "          docLink.innerHTML = docLinkHtml;\n",
              "          element.appendChild(docLink);\n",
              "        }\n",
              "      </script>\n",
              "    </div>\n",
              "  </div>\n",
              "  "
            ]
          },
          "metadata": {}
        }
      ],
      "source": [
        "print('Общая информация о данных')\n",
        "print()\n",
        "insurance.info()\n",
        "print()\n",
        "print('Числовое описание данных')\n",
        "print(insurance.describe())\n",
        "print()\n",
        "print('Наличие пропусков')\n",
        "print(insurance.isnull().sum())\n",
        "print()\n",
        "print('Наличие дубликатов')\n",
        "print(insurance.duplicated().sum())\n",
        "print()\n",
        "print('Представление данных')\n",
        "display(insurance)"
      ]
    },
    {
      "cell_type": "code",
      "execution_count": 5,
      "metadata": {
        "id": "LKTN6RQaNODD"
      },
      "outputs": [],
      "source": [
        "insurance_cor = insurance.drop('Пол', axis=1)"
      ]
    },
    {
      "cell_type": "code",
      "execution_count": 6,
      "metadata": {
        "id": "aRqBNcR4NODE",
        "outputId": "b270d04d-bf99-4ecd-d4c3-5119ae50d8e4",
        "colab": {
          "base_uri": "https://localhost:8080/",
          "height": 392
        }
      },
      "outputs": [
        {
          "output_type": "display_data",
          "data": {
            "text/plain": [
              "<Figure size 432x288 with 2 Axes>"
            ],
            "image/png": "[encoded data removed]"
          },
          "metadata": {
            "needs_background": "light"
          }
        }
      ],
      "source": [
        "mask = np.triu(np.ones_like(insurance_cor.corr(), dtype=bool)) \n",
        "heatmap = sns.heatmap(insurance_cor.corr(), mask=mask, vmin=-1, vmax=1, annot=True, cmap='BrBG') \n",
        "heatmap.set_title('Треугольная тепловая карта корреляции', fontdict={'fontsize':18}, pad=16);"
      ]
    },
    {
      "cell_type": "code",
      "execution_count": 7,
      "metadata": {
        "id": "x-pL2__XNODF",
        "outputId": "b85d3373-fc36-4c22-e95b-73dc93759c01",
        "colab": {
          "base_uri": "https://localhost:8080/",
          "height": 297
        }
      },
      "outputs": [
        {
          "output_type": "execute_result",
          "data": {
            "text/plain": [
              "<AxesSubplot:xlabel='count', ylabel='Пол'>"
            ]
          },
          "metadata": {},
          "execution_count": 7
        },
        {
          "output_type": "display_data",
          "data": {
            "text/plain": [
              "<Figure size 432x288 with 1 Axes>"
            ],
            "image/png": "[encoded data removed]"
          },
          "metadata": {
            "needs_background": "light"
          }
        }
      ],
      "source": [
        "sns.countplot(y='Пол', data=insurance)"
      ]
    },
    {
      "cell_type": "code",
      "execution_count": 8,
      "metadata": {
        "id": "6yetbKXoNODG",
        "outputId": "4a884b24-8690-4050-f3d2-8f789da86a9b",
        "colab": {
          "base_uri": "https://localhost:8080/",
          "height": 297
        }
      },
      "outputs": [
        {
          "output_type": "execute_result",
          "data": {
            "text/plain": [
              "<AxesSubplot:xlabel='Возраст', ylabel='Count'>"
            ]
          },
          "metadata": {},
          "execution_count": 8
        },
        {
          "output_type": "display_data",
          "data": {
            "text/plain": [
              "<Figure size 432x288 with 1 Axes>"
            ],
            "image/png": "[encoded data removed]"
          },
          "metadata": {
            "needs_background": "light"
          }
        }
      ],
      "source": [
        "sns.histplot(insurance['Возраст'])"
      ]
    },
    {
      "cell_type": "code",
      "execution_count": 9,
      "metadata": {
        "id": "MTal4rxcNODG",
        "outputId": "bdf651da-10c1-4083-af7f-c74abd6d336e",
        "colab": {
          "base_uri": "https://localhost:8080/",
          "height": 297
        }
      },
      "outputs": [
        {
          "output_type": "execute_result",
          "data": {
            "text/plain": [
              "<AxesSubplot:xlabel='Зарплата', ylabel='Count'>"
            ]
          },
          "metadata": {},
          "execution_count": 9
        },
        {
          "output_type": "display_data",
          "data": {
            "text/plain": [
              "<Figure size 432x288 with 1 Axes>"
            ],
            "image/png": "[encoded data removed]"
          },
          "metadata": {
            "needs_background": "light"
          }
        }
      ],
      "source": [
        "sns.histplot(insurance['Зарплата'])"
      ]
    },
    {
      "cell_type": "code",
      "execution_count": 10,
      "metadata": {
        "id": "T344mYyGNODH",
        "outputId": "d17f00ca-5611-4946-84a4-ef08d2df20dd",
        "colab": {
          "base_uri": "https://localhost:8080/",
          "height": 297
        }
      },
      "outputs": [
        {
          "output_type": "execute_result",
          "data": {
            "text/plain": [
              "<AxesSubplot:xlabel='Члены семьи', ylabel='Count'>"
            ]
          },
          "metadata": {},
          "execution_count": 10
        },
        {
          "output_type": "display_data",
          "data": {
            "text/plain": [
              "<Figure size 432x288 with 1 Axes>"
            ],
            "image/png": "[encoded data removed]"
          },
          "metadata": {
            "needs_background": "light"
          }
        }
      ],
      "source": [
        "sns.histplot(insurance['Члены семьи'])"
      ]
    },
    {
      "cell_type": "code",
      "execution_count": 11,
      "metadata": {
        "id": "bTvR-hXeNODH",
        "outputId": "b65f541c-d9c2-4159-a907-7b67a3c8846e",
        "colab": {
          "base_uri": "https://localhost:8080/",
          "height": 297
        }
      },
      "outputs": [
        {
          "output_type": "execute_result",
          "data": {
            "text/plain": [
              "<AxesSubplot:xlabel='Страховые выплаты', ylabel='Count'>"
            ]
          },
          "metadata": {},
          "execution_count": 11
        },
        {
          "output_type": "display_data",
          "data": {
            "text/plain": [
              "<Figure size 432x288 with 1 Axes>"
            ],
            "image/png": "[encoded data removed]"
          },
          "metadata": {
            "needs_background": "light"
          }
        }
      ],
      "source": [
        "sns.histplot(insurance['Страховые выплаты'])"
      ]
    },
    {
      "cell_type": "markdown",
      "metadata": {
        "id": "MukghbqnNODI"
      },
      "source": [
        "**Вывод** \n",
        "\n",
        "1. Перед нами DataFrame в предобработанном виде.\n",
        "2. Тип данных в колонках 'Возраст' и 'Зарплата' - float64, в остальных - int64.\n",
        "3. В DataFrame есть дубликаты, но удалять не будем, поскольку возможно это реальные данные (совпадения).\n",
        "4. Пропусков нет.\n",
        "5. Признаки распределены без аномалий."
      ]
    },
    {
      "cell_type": "markdown",
      "metadata": {
        "id": "_RlkslkINODJ"
      },
      "source": [
        "## Умножение матриц"
      ]
    },
    {
      "cell_type": "markdown",
      "metadata": {
        "id": "d-d-TJ5TNODJ"
      },
      "source": [
        "Перейдем к обучению модели линейной регрессии. \n",
        "\n",
        "Выделим features и target.\n",
        "Сначала обучим модель на исходных данных, после умножим features на обратимую матрицу и снова обучим модель линейной регрессии."
      ]
    },
    {
      "cell_type": "markdown",
      "metadata": {
        "id": "kmxOfa0BNODJ"
      },
      "source": [
        "Предсказания:\n",
        "\n",
        "$$\n",
        "a = Xw\n",
        "$$\n",
        "\n",
        "Задача обучения:\n",
        "\n",
        "$$\n",
        "w = \\arg\\min_w MSE(Xw, y)\n",
        "$$\n",
        "\n",
        "Формула обучения:\n",
        "\n",
        "$$\n",
        "w = (X^T X)^{-1} X^T y\n",
        "$$"
      ]
    },
    {
      "cell_type": "markdown",
      "metadata": {
        "id": "61Fkz_j0NODK"
      },
      "source": [
        "Обозначения:\n",
        "\n",
        "- $X$ — матрица признаков (нулевой столбец состоит из единиц)\n",
        "\n",
        "- $y$ — вектор целевого признака\n",
        "\n",
        "- $P$ — матрица, на которую умножаются признаки\n",
        "\n",
        "- $w$ — вектор весов линейной регрессии (нулевой элемент равен сдвигу)"
      ]
    },
    {
      "cell_type": "code",
      "execution_count": 12,
      "metadata": {
        "id": "JTixiLkeNODK"
      },
      "outputs": [],
      "source": [
        "features = insurance.drop('Страховые выплаты', axis=1)\n",
        "target = insurance['Страховые выплаты']"
      ]
    },
    {
      "cell_type": "markdown",
      "metadata": {
        "id": "d7ymr1JANODK"
      },
      "source": [
        "Создадим класс LinearRegression и напишем функцию с методами fit и predict.\n",
        "Первый метод будет находить вектор весов линейной регрессии, а второй делать предсказания."
      ]
    },
    {
      "cell_type": "code",
      "execution_count": 13,
      "metadata": {
        "id": "Sh2ssoGBNODL"
      },
      "outputs": [],
      "source": [
        "class LinearRegression:\n",
        "    def fit(self, train_features, train_target):\n",
        "        X = np.concatenate((np.ones((train_features.shape[0], 1)), train_features), axis=1)\n",
        "        y = train_target\n",
        "        w = np.linalg.inv(X.T.dot(X)).dot(X.T).dot(y)\n",
        "        self.w = w[1:]\n",
        "        self.w0 = w[0]\n",
        "        print(w)\n",
        "\n",
        "    def predict(self, test_features):\n",
        "        return test_features.dot(self.w) + self.w0"
      ]
    },
    {
      "cell_type": "markdown",
      "metadata": {
        "id": "SkdpketyNODL"
      },
      "source": [
        "Обучим модель, сохраним предсказания, посмотрим на вектор весов линейной регрессии и значение метрики R2. R2 вычисляется по MSE."
      ]
    },
    {
      "cell_type": "code",
      "execution_count": 14,
      "metadata": {
        "id": "pe_aOk8eNODM",
        "outputId": "4de9a81b-7fbd-4e00-b27d-827b0e6862b7",
        "colab": {
          "base_uri": "https://localhost:8080/"
        }
      },
      "outputs": [
        {
          "output_type": "stream",
          "name": "stdout",
          "text": [
            "[-9.38235504e-01  7.92580543e-03  3.57083050e-02 -1.70080492e-07\n",
            " -1.35676623e-02]\n",
            "R2: 0.4249455028666801\n"
          ]
        }
      ],
      "source": [
        "model = LinearRegression()\n",
        "model.fit(features, target)\n",
        "predictions = model.predict(features)\n",
        "print('R2:', r2_score(target, predictions))"
      ]
    },
    {
      "cell_type": "markdown",
      "metadata": {
        "id": "cG1X24njNODM"
      },
      "source": [
        "Для дальнейших операций с features, переведем их в вектор.\n",
        "Создадим случайную квадратную матрицу, размером по количеству столбцов features и проверим ее на обратимость методом np.linalg.inv."
      ]
    },
    {
      "cell_type": "code",
      "execution_count": 15,
      "metadata": {
        "id": "0tHymg5vNODM"
      },
      "outputs": [],
      "source": [
        "matrix = features.values"
      ]
    },
    {
      "cell_type": "code",
      "execution_count": 16,
      "metadata": {
        "id": "1eLJifLyNODN",
        "outputId": "bf2d7aec-e46f-4505-be6c-7f9c2a5a66e1",
        "colab": {
          "base_uri": "https://localhost:8080/"
        }
      },
      "outputs": [
        {
          "output_type": "execute_result",
          "data": {
            "text/plain": [
              "array([[ 0.10275577,  0.04027003,  0.41912327,  0.37815046],\n",
              "       [-0.61855224,  0.56047961, -1.32800106,  0.69768906],\n",
              "       [-1.33188302, -0.14149041,  0.12216965,  0.01180015],\n",
              "       [-1.77883436,  0.53561365, -0.65544459,  1.15351335]])"
            ]
          },
          "metadata": {},
          "execution_count": 16
        }
      ],
      "source": [
        "random_matrix = np.random.normal(0, 1, (features.shape[1], features.shape[1]))\n",
        "random_matrix"
      ]
    },
    {
      "cell_type": "code",
      "execution_count": 17,
      "metadata": {
        "id": "IDxJNrHpNODO",
        "outputId": "afe8ed3f-419a-4a5b-fe70-e708c55b35b5",
        "colab": {
          "base_uri": "https://localhost:8080/"
        }
      },
      "outputs": [
        {
          "output_type": "execute_result",
          "data": {
            "text/plain": [
              "array([[  1.39582377,   0.99331144,   0.31338864,  -1.06158456],\n",
              "       [-15.2768106 , -12.08233834, -12.18275358,  12.44060728],\n",
              "       [ -3.19343243,  -3.65344911,  -2.93929053,   3.28670101],\n",
              "       [  7.4314611 ,   5.06606052,   4.46997302,  -4.67917584]])"
            ]
          },
          "metadata": {},
          "execution_count": 17
        }
      ],
      "source": [
        "invert_matrix = np.linalg.inv(random_matrix)\n",
        "invert_matrix"
      ]
    },
    {
      "cell_type": "markdown",
      "metadata": {
        "id": "SLT-vbTfNODP"
      },
      "source": [
        "Умножим матрицу из features (matrix) на обратимую."
      ]
    },
    {
      "cell_type": "code",
      "execution_count": 18,
      "metadata": {
        "id": "UUhdwSjTNODP",
        "outputId": "718bff7a-26ad-4b99-e4f4-3a6a56cc9931",
        "colab": {
          "base_uri": "https://localhost:8080/"
        }
      },
      "outputs": [
        {
          "output_type": "execute_result",
          "data": {
            "text/plain": [
              "array([[-66088.43455388,  -6994.36855656,   6004.93009483,\n",
              "           615.4243928 ],\n",
              "       [-50641.78702914,  -5350.31772675,   4580.70306843,\n",
              "           481.65293883],\n",
              "       [-27987.4814525 ,  -2955.0446032 ,   2527.05054287,\n",
              "           268.0361486 ],\n",
              "       ...,\n",
              "       [-45166.76311985,  -4784.2439211 ,   4113.68010135,\n",
              "           416.28591856],\n",
              "       [-43571.41667792,  -4612.75859181,   3964.18420227,\n",
              "           405.05277959],\n",
              "       [-54093.44618724,  -5728.24114354,   4922.66729135,\n",
              "           500.15307822]])"
            ]
          },
          "metadata": {},
          "execution_count": 18
        }
      ],
      "source": [
        "matrix_2 = matrix.dot(random_matrix)\n",
        "matrix_2"
      ]
    },
    {
      "cell_type": "markdown",
      "metadata": {
        "id": "o6aLQa-ENODQ"
      },
      "source": [
        "Обучим снова модель линейной регрессии и проверим метрику R2."
      ]
    },
    {
      "cell_type": "code",
      "execution_count": 19,
      "metadata": {
        "id": "AzK9g7elNODQ",
        "outputId": "38d3e8ae-16f5-4853-a558-7e597a355ac0",
        "colab": {
          "base_uri": "https://localhost:8080/"
        }
      },
      "outputs": [
        {
          "output_type": "stream",
          "name": "stdout",
          "text": [
            "[-0.93823642  0.06093631 -0.72131582 -0.20036287  0.30328882]\n",
            "R2: 0.4249455028661576\n"
          ]
        }
      ],
      "source": [
        "model = LinearRegression()\n",
        "model.fit(matrix_2, target)\n",
        "predictions = model.predict(matrix_2)\n",
        "print('R2:', r2_score(target, predictions))"
      ]
    },
    {
      "cell_type": "markdown",
      "metadata": {
        "id": "IEOxoYKHNODR"
      },
      "source": [
        "**Вопрос:** Изменится ли качество линейной регрессии?   \n",
        "**Ответ:** Не изменится.\n",
        "\n",
        "В результате умножения признаков на обратимую матрицу, качество линейной регрессии не изменилось.\n",
        "\n",
        "**Обоснование:** Качество линейной регрессии не изменилось, поскольку 𝑤 (веса) изменяются под новые (зашифрованные), а все преобразования выражаются через 𝑤 (веса)."
      ]
    },
    {
      "cell_type": "markdown",
      "metadata": {
        "id": "uigQVE2LNODR"
      },
      "source": [
        "## Алгоритм преобразования"
      ]
    },
    {
      "cell_type": "code",
      "execution_count": 20,
      "metadata": {
        "id": "jADPDOZVNODR"
      },
      "outputs": [],
      "source": [
        "def encode(features):\n",
        "    random_matrix = np.random.normal(0, 1, (features.shape[1], features.shape[1]))\n",
        "    encoded_features = features.dot(random_matrix)\n",
        "    return encoded_features"
      ]
    },
    {
      "cell_type": "code",
      "execution_count": 21,
      "metadata": {
        "id": "D7kfNYghNODS",
        "outputId": "a5eab095-188b-4f76-9961-db9303f338cf",
        "colab": {
          "base_uri": "https://localhost:8080/",
          "height": 423
        }
      },
      "outputs": [
        {
          "output_type": "execute_result",
          "data": {
            "text/plain": [
              "                 0             1            2              3\n",
              "0     44966.870241 -14227.255986 -5373.455808 -111130.479187\n",
              "1     34442.271723 -10905.206250 -4121.568586  -85141.629801\n",
              "2     19032.633993  -6027.917295 -2278.359044  -47053.109006\n",
              "3     37811.237032 -11956.081396 -4514.247272  -93427.910673\n",
              "4     23658.860612  -7488.977995 -2829.196373  -58478.964681\n",
              "...            ...           ...          ...            ...\n",
              "4995  32364.720522 -10239.467602 -3868.183799  -79985.418425\n",
              "4996  47511.204164 -15026.853024 -5673.658436 -117404.004719\n",
              "4997  30736.461930  -9720.751369 -3671.129569  -75951.842713\n",
              "4998  29644.914407  -9377.699626 -3543.104952  -73261.164583\n",
              "4999  36810.349385 -11643.651709 -4396.833180  -90964.814194\n",
              "\n",
              "[5000 rows x 4 columns]"
            ],
            "text/html": [
              "\n",
              "  <div id=\"df-c812fbc9-a2c9-4c00-abab-9f2663fedc36\">\n",
              "    <div class=\"colab-df-container\">\n",
              "      <div>\n",
              "<style scoped>\n",
              "    .dataframe tbody tr th:only-of-type {\n",
              "        vertical-align: middle;\n",
              "    }\n",
              "\n",
              "    .dataframe tbody tr th {\n",
              "        vertical-align: top;\n",
              "    }\n",
              "\n",
              "    .dataframe thead th {\n",
              "        text-align: right;\n",
              "    }\n",
              "</style>\n",
              "<table border=\"1\" class=\"dataframe\">\n",
              "  <thead>\n",
              "    <tr style=\"text-align: right;\">\n",
              "      <th></th>\n",
              "      <th>0</th>\n",
              "      <th>1</th>\n",
              "      <th>2</th>\n",
              "      <th>3</th>\n",
              "    </tr>\n",
              "  </thead>\n",
              "  <tbody>\n",
              "    <tr>\n",
              "      <th>0</th>\n",
              "      <td>44966.870241</td>\n",
              "      <td>-14227.255986</td>\n",
              "      <td>-5373.455808</td>\n",
              "      <td>-111130.479187</td>\n",
              "    </tr>\n",
              "    <tr>\n",
              "      <th>1</th>\n",
              "      <td>34442.271723</td>\n",
              "      <td>-10905.206250</td>\n",
              "      <td>-4121.568586</td>\n",
              "      <td>-85141.629801</td>\n",
              "    </tr>\n",
              "    <tr>\n",
              "      <th>2</th>\n",
              "      <td>19032.633993</td>\n",
              "      <td>-6027.917295</td>\n",
              "      <td>-2278.359044</td>\n",
              "      <td>-47053.109006</td>\n",
              "    </tr>\n",
              "    <tr>\n",
              "      <th>3</th>\n",
              "      <td>37811.237032</td>\n",
              "      <td>-11956.081396</td>\n",
              "      <td>-4514.247272</td>\n",
              "      <td>-93427.910673</td>\n",
              "    </tr>\n",
              "    <tr>\n",
              "      <th>4</th>\n",
              "      <td>23658.860612</td>\n",
              "      <td>-7488.977995</td>\n",
              "      <td>-2829.196373</td>\n",
              "      <td>-58478.964681</td>\n",
              "    </tr>\n",
              "    <tr>\n",
              "      <th>...</th>\n",
              "      <td>...</td>\n",
              "      <td>...</td>\n",
              "      <td>...</td>\n",
              "      <td>...</td>\n",
              "    </tr>\n",
              "    <tr>\n",
              "      <th>4995</th>\n",
              "      <td>32364.720522</td>\n",
              "      <td>-10239.467602</td>\n",
              "      <td>-3868.183799</td>\n",
              "      <td>-79985.418425</td>\n",
              "    </tr>\n",
              "    <tr>\n",
              "      <th>4996</th>\n",
              "      <td>47511.204164</td>\n",
              "      <td>-15026.853024</td>\n",
              "      <td>-5673.658436</td>\n",
              "      <td>-117404.004719</td>\n",
              "    </tr>\n",
              "    <tr>\n",
              "      <th>4997</th>\n",
              "      <td>30736.461930</td>\n",
              "      <td>-9720.751369</td>\n",
              "      <td>-3671.129569</td>\n",
              "      <td>-75951.842713</td>\n",
              "    </tr>\n",
              "    <tr>\n",
              "      <th>4998</th>\n",
              "      <td>29644.914407</td>\n",
              "      <td>-9377.699626</td>\n",
              "      <td>-3543.104952</td>\n",
              "      <td>-73261.164583</td>\n",
              "    </tr>\n",
              "    <tr>\n",
              "      <th>4999</th>\n",
              "      <td>36810.349385</td>\n",
              "      <td>-11643.651709</td>\n",
              "      <td>-4396.833180</td>\n",
              "      <td>-90964.814194</td>\n",
              "    </tr>\n",
              "  </tbody>\n",
              "</table>\n",
              "<p>5000 rows × 4 columns</p>\n",
              "</div>\n",
              "      <button class=\"colab-df-convert\" onclick=\"convertToInteractive('df-c812fbc9-a2c9-4c00-abab-9f2663fedc36')\"\n",
              "              title=\"Convert this dataframe to an interactive table.\"\n",
              "              style=\"display:none;\">\n",
              "        \n",
              "  <svg xmlns=\"http://www.w3.org/2000/svg\" height=\"24px\"viewBox=\"0 0 24 24\"\n",
              "       width=\"24px\">\n",
              "    <path d=\"M0 0h24v24H0V0z\" fill=\"none\"/>\n",
              "    <path d=\"M18.56 5.44l.94 2.06.94-2.06 2.06-.94-2.06-.94-.94-2.06-.94 2.06-2.06.94zm-11 1L8.5 8.5l.94-2.06 2.06-.94-2.06-.94L8.5 2.5l-.94 2.06-2.06.94zm10 10l.94 2.06.94-2.06 2.06-.94-2.06-.94-.94-2.06-.94 2.06-2.06.94z\"/><path d=\"M17.41 7.96l-1.37-1.37c-.4-.4-.92-.59-1.43-.59-.52 0-1.04.2-1.43.59L10.3 9.45l-7.72 7.72c-.78.78-.78 2.05 0 2.83L4 21.41c.39.39.9.59 1.41.59.51 0 1.02-.2 1.41-.59l7.78-7.78 2.81-2.81c.8-.78.8-2.07 0-2.86zM5.41 20L4 18.59l7.72-7.72 1.47 1.35L5.41 20z\"/>\n",
              "  </svg>\n",
              "      </button>\n",
              "      \n",
              "  <style>\n",
              "    .colab-df-container {\n",
              "      display:flex;\n",
              "      flex-wrap:wrap;\n",
              "      gap: 12px;\n",
              "    }\n",
              "\n",
              "    .colab-df-convert {\n",
              "      background-color: #E8F0FE;\n",
              "      border: none;\n",
              "      border-radius: 50%;\n",
              "      cursor: pointer;\n",
              "      display: none;\n",
              "      fill: #1967D2;\n",
              "      height: 32px;\n",
              "      padding: 0 0 0 0;\n",
              "      width: 32px;\n",
              "    }\n",
              "\n",
              "    .colab-df-convert:hover {\n",
              "      background-color: #E2EBFA;\n",
              "      box-shadow: 0px 1px 2px rgba(60, 64, 67, 0.3), 0px 1px 3px 1px rgba(60, 64, 67, 0.15);\n",
              "      fill: #174EA6;\n",
              "    }\n",
              "\n",
              "    [theme=dark] .colab-df-convert {\n",
              "      background-color: #3B4455;\n",
              "      fill: #D2E3FC;\n",
              "    }\n",
              "\n",
              "    [theme=dark] .colab-df-convert:hover {\n",
              "      background-color: #434B5C;\n",
              "      box-shadow: 0px 1px 3px 1px rgba(0, 0, 0, 0.15);\n",
              "      filter: drop-shadow(0px 1px 2px rgba(0, 0, 0, 0.3));\n",
              "      fill: #FFFFFF;\n",
              "    }\n",
              "  </style>\n",
              "\n",
              "      <script>\n",
              "        const buttonEl =\n",
              "          document.querySelector('#df-c812fbc9-a2c9-4c00-abab-9f2663fedc36 button.colab-df-convert');\n",
              "        buttonEl.style.display =\n",
              "          google.colab.kernel.accessAllowed ? 'block' : 'none';\n",
              "\n",
              "        async function convertToInteractive(key) {\n",
              "          const element = document.querySelector('#df-c812fbc9-a2c9-4c00-abab-9f2663fedc36');\n",
              "          const dataTable =\n",
              "            await google.colab.kernel.invokeFunction('convertToInteractive',\n",
              "                                                     [key], {});\n",
              "          if (!dataTable) return;\n",
              "\n",
              "          const docLinkHtml = 'Like what you see? Visit the ' +\n",
              "            '<a target=\"_blank\" href=https://colab.research.google.com/notebooks/data_table.ipynb>data table notebook</a>'\n",
              "            + ' to learn more about interactive tables.';\n",
              "          element.innerHTML = '';\n",
              "          dataTable['output_type'] = 'display_data';\n",
              "          await google.colab.output.renderOutput(dataTable, element);\n",
              "          const docLink = document.createElement('div');\n",
              "          docLink.innerHTML = docLinkHtml;\n",
              "          element.appendChild(docLink);\n",
              "        }\n",
              "      </script>\n",
              "    </div>\n",
              "  </div>\n",
              "  "
            ]
          },
          "metadata": {},
          "execution_count": 21
        }
      ],
      "source": [
        "encoded_features = encode(features)\n",
        "encoded_features"
      ]
    },
    {
      "cell_type": "code",
      "execution_count": 22,
      "metadata": {
        "id": "04QmbF1VNODS"
      },
      "outputs": [],
      "source": [
        "def decode(encoded_features):\n",
        "    decoded_features = encoded_features.dot(np.linalg.inv(random_matrix))\n",
        "    decoded_features = np.round(decoded_features).astype(int)\n",
        "    decoded_features.columns = features.columns\n",
        "    return decoded_features"
      ]
    },
    {
      "cell_type": "code",
      "execution_count": 23,
      "metadata": {
        "id": "2-d589rZNODT",
        "outputId": "2174359f-04f7-4cd4-cdd7-a66100d83bc2",
        "colab": {
          "base_uri": "https://localhost:8080/",
          "height": 423
        }
      },
      "outputs": [
        {
          "output_type": "execute_result",
          "data": {
            "text/plain": [
              "         Пол  Возраст  Зарплата  Члены семьи\n",
              "0    -528589  -326797   -293537       277606\n",
              "1    -404893  -250302   -224817       212616\n",
              "2    -223744  -138313   -124228       117486\n",
              "3    -444461  -274803   -246844       233448\n",
              "4    -278118  -171937   -154433       146051\n",
              "...      ...      ...       ...          ...\n",
              "4995 -380454  -235214   -211275       199809\n",
              "4996 -558485  -345294   -310158       293326\n",
              "4997 -361305  -223384   -200654       189765\n",
              "4998 -348482  -215450   -193525       183022\n",
              "4999 -432702  -267523   -240299       227258\n",
              "\n",
              "[5000 rows x 4 columns]"
            ],
            "text/html": [
              "\n",
              "  <div id=\"df-5150c9ec-bf82-43c7-80a8-632c362654d7\">\n",
              "    <div class=\"colab-df-container\">\n",
              "      <div>\n",
              "<style scoped>\n",
              "    .dataframe tbody tr th:only-of-type {\n",
              "        vertical-align: middle;\n",
              "    }\n",
              "\n",
              "    .dataframe tbody tr th {\n",
              "        vertical-align: top;\n",
              "    }\n",
              "\n",
              "    .dataframe thead th {\n",
              "        text-align: right;\n",
              "    }\n",
              "</style>\n",
              "<table border=\"1\" class=\"dataframe\">\n",
              "  <thead>\n",
              "    <tr style=\"text-align: right;\">\n",
              "      <th></th>\n",
              "      <th>Пол</th>\n",
              "      <th>Возраст</th>\n",
              "      <th>Зарплата</th>\n",
              "      <th>Члены семьи</th>\n",
              "    </tr>\n",
              "  </thead>\n",
              "  <tbody>\n",
              "    <tr>\n",
              "      <th>0</th>\n",
              "      <td>-528589</td>\n",
              "      <td>-326797</td>\n",
              "      <td>-293537</td>\n",
              "      <td>277606</td>\n",
              "    </tr>\n",
              "    <tr>\n",
              "      <th>1</th>\n",
              "      <td>-404893</td>\n",
              "      <td>-250302</td>\n",
              "      <td>-224817</td>\n",
              "      <td>212616</td>\n",
              "    </tr>\n",
              "    <tr>\n",
              "      <th>2</th>\n",
              "      <td>-223744</td>\n",
              "      <td>-138313</td>\n",
              "      <td>-124228</td>\n",
              "      <td>117486</td>\n",
              "    </tr>\n",
              "    <tr>\n",
              "      <th>3</th>\n",
              "      <td>-444461</td>\n",
              "      <td>-274803</td>\n",
              "      <td>-246844</td>\n",
              "      <td>233448</td>\n",
              "    </tr>\n",
              "    <tr>\n",
              "      <th>4</th>\n",
              "      <td>-278118</td>\n",
              "      <td>-171937</td>\n",
              "      <td>-154433</td>\n",
              "      <td>146051</td>\n",
              "    </tr>\n",
              "    <tr>\n",
              "      <th>...</th>\n",
              "      <td>...</td>\n",
              "      <td>...</td>\n",
              "      <td>...</td>\n",
              "      <td>...</td>\n",
              "    </tr>\n",
              "    <tr>\n",
              "      <th>4995</th>\n",
              "      <td>-380454</td>\n",
              "      <td>-235214</td>\n",
              "      <td>-211275</td>\n",
              "      <td>199809</td>\n",
              "    </tr>\n",
              "    <tr>\n",
              "      <th>4996</th>\n",
              "      <td>-558485</td>\n",
              "      <td>-345294</td>\n",
              "      <td>-310158</td>\n",
              "      <td>293326</td>\n",
              "    </tr>\n",
              "    <tr>\n",
              "      <th>4997</th>\n",
              "      <td>-361305</td>\n",
              "      <td>-223384</td>\n",
              "      <td>-200654</td>\n",
              "      <td>189765</td>\n",
              "    </tr>\n",
              "    <tr>\n",
              "      <th>4998</th>\n",
              "      <td>-348482</td>\n",
              "      <td>-215450</td>\n",
              "      <td>-193525</td>\n",
              "      <td>183022</td>\n",
              "    </tr>\n",
              "    <tr>\n",
              "      <th>4999</th>\n",
              "      <td>-432702</td>\n",
              "      <td>-267523</td>\n",
              "      <td>-240299</td>\n",
              "      <td>227258</td>\n",
              "    </tr>\n",
              "  </tbody>\n",
              "</table>\n",
              "<p>5000 rows × 4 columns</p>\n",
              "</div>\n",
              "      <button class=\"colab-df-convert\" onclick=\"convertToInteractive('df-5150c9ec-bf82-43c7-80a8-632c362654d7')\"\n",
              "              title=\"Convert this dataframe to an interactive table.\"\n",
              "              style=\"display:none;\">\n",
              "        \n",
              "  <svg xmlns=\"http://www.w3.org/2000/svg\" height=\"24px\"viewBox=\"0 0 24 24\"\n",
              "       width=\"24px\">\n",
              "    <path d=\"M0 0h24v24H0V0z\" fill=\"none\"/>\n",
              "    <path d=\"M18.56 5.44l.94 2.06.94-2.06 2.06-.94-2.06-.94-.94-2.06-.94 2.06-2.06.94zm-11 1L8.5 8.5l.94-2.06 2.06-.94-2.06-.94L8.5 2.5l-.94 2.06-2.06.94zm10 10l.94 2.06.94-2.06 2.06-.94-2.06-.94-.94-2.06-.94 2.06-2.06.94z\"/><path d=\"M17.41 7.96l-1.37-1.37c-.4-.4-.92-.59-1.43-.59-.52 0-1.04.2-1.43.59L10.3 9.45l-7.72 7.72c-.78.78-.78 2.05 0 2.83L4 21.41c.39.39.9.59 1.41.59.51 0 1.02-.2 1.41-.59l7.78-7.78 2.81-2.81c.8-.78.8-2.07 0-2.86zM5.41 20L4 18.59l7.72-7.72 1.47 1.35L5.41 20z\"/>\n",
              "  </svg>\n",
              "      </button>\n",
              "      \n",
              "  <style>\n",
              "    .colab-df-container {\n",
              "      display:flex;\n",
              "      flex-wrap:wrap;\n",
              "      gap: 12px;\n",
              "    }\n",
              "\n",
              "    .colab-df-convert {\n",
              "      background-color: #E8F0FE;\n",
              "      border: none;\n",
              "      border-radius: 50%;\n",
              "      cursor: pointer;\n",
              "      display: none;\n",
              "      fill: #1967D2;\n",
              "      height: 32px;\n",
              "      padding: 0 0 0 0;\n",
              "      width: 32px;\n",
              "    }\n",
              "\n",
              "    .colab-df-convert:hover {\n",
              "      background-color: #E2EBFA;\n",
              "      box-shadow: 0px 1px 2px rgba(60, 64, 67, 0.3), 0px 1px 3px 1px rgba(60, 64, 67, 0.15);\n",
              "      fill: #174EA6;\n",
              "    }\n",
              "\n",
              "    [theme=dark] .colab-df-convert {\n",
              "      background-color: #3B4455;\n",
              "      fill: #D2E3FC;\n",
              "    }\n",
              "\n",
              "    [theme=dark] .colab-df-convert:hover {\n",
              "      background-color: #434B5C;\n",
              "      box-shadow: 0px 1px 3px 1px rgba(0, 0, 0, 0.15);\n",
              "      filter: drop-shadow(0px 1px 2px rgba(0, 0, 0, 0.3));\n",
              "      fill: #FFFFFF;\n",
              "    }\n",
              "  </style>\n",
              "\n",
              "      <script>\n",
              "        const buttonEl =\n",
              "          document.querySelector('#df-5150c9ec-bf82-43c7-80a8-632c362654d7 button.colab-df-convert');\n",
              "        buttonEl.style.display =\n",
              "          google.colab.kernel.accessAllowed ? 'block' : 'none';\n",
              "\n",
              "        async function convertToInteractive(key) {\n",
              "          const element = document.querySelector('#df-5150c9ec-bf82-43c7-80a8-632c362654d7');\n",
              "          const dataTable =\n",
              "            await google.colab.kernel.invokeFunction('convertToInteractive',\n",
              "                                                     [key], {});\n",
              "          if (!dataTable) return;\n",
              "\n",
              "          const docLinkHtml = 'Like what you see? Visit the ' +\n",
              "            '<a target=\"_blank\" href=https://colab.research.google.com/notebooks/data_table.ipynb>data table notebook</a>'\n",
              "            + ' to learn more about interactive tables.';\n",
              "          element.innerHTML = '';\n",
              "          dataTable['output_type'] = 'display_data';\n",
              "          await google.colab.output.renderOutput(dataTable, element);\n",
              "          const docLink = document.createElement('div');\n",
              "          docLink.innerHTML = docLinkHtml;\n",
              "          element.appendChild(docLink);\n",
              "        }\n",
              "      </script>\n",
              "    </div>\n",
              "  </div>\n",
              "  "
            ]
          },
          "metadata": {},
          "execution_count": 23
        }
      ],
      "source": [
        "decoded_features = decode(encoded_features)\n",
        "decoded_features"
      ]
    },
    {
      "cell_type": "markdown",
      "metadata": {
        "id": "OfQ_zo3CNODT"
      },
      "source": [
        "Уравнение для обучения:\n",
        "\n",
        "$w^* = (X^T X)^{-1}X^Ty$\n",
        "\n",
        "Уравнение для получения предсказаний:  \n",
        "$\\hat y = \\hat X w^*$\n",
        "\n",
        "где:\n",
        "\n",
        "- $w^*$ - оптимальные веса признаков (минимизируют квадрат ошибки)\n",
        "- $X$ - матрица признаков тренировочной выборки (фичи из тренировочной выборки, размерность m x n)\n",
        "- $y$ - вектор с таргетами (таргет из тренировочной выборки, размерность m x 1)\n",
        "- $\\hat X$ - матрица признаков тестовой выборки (фичи из тренировочной выборки, размерность $\\hat m$ x n)\n",
        "- $\\hat y$ - вектор с предсказаниями (размерность $\\hat m$ x 1)"
      ]
    },
    {
      "cell_type": "markdown",
      "metadata": {
        "id": "YGULWrZRNODT"
      },
      "source": [
        "1. Уравнение для получения предсказаний на зашифрованных данных:  \n",
        "$\\hat y= X_{test} P_{E}w $   \n",
        "\n",
        "\n",
        "2. Уравнение для получения параметров линейной регрессии:   \n",
        "$ w = ((X_{train} P_{E})^T X_{train} P_{E})^{-1} (X_{train} P_{E})^T y_{train}$\n",
        "\n",
        "\n",
        "3. Подставим уравнение для получения параметров линейной регрессии в уравнение для получения предсказаний:  \n",
        "$\\hat y = X_{test} P_{E}((X_{train} P_{E})^T X_{train} P_{E})^{-1} (X_{train} P_{E})^T y_{train} $\n",
        "\n",
        "\n",
        "4. Проведем преобразование уравнения с учетом свойства $ (AB)^T = B^TA^T $:  \n",
        "$\\hat y  = X_{test} P_{E}(P_{E}^T X_{train}^T X_{train} P_{E})^{-1} P_{E}^T X_{train}^T y_{train} $\n",
        "\n",
        "\n",
        "5. Поскольку используем квадратичную матрицу ($X_{train}^T X_{train}$), а также учитывая свойство $ (ABC)^{-1} = C^{-1}B^{-1}A^{-1} $, проведем дальнейшие преобразования уравнения:   \n",
        "$\\hat y = X_{test} P_{E}P_{E}^{-1}(X_{train}^T X_{train})^{-1}(P_{E}^T)^{-1}P_{E}^T X_{train}^T y_{train} $\n",
        "\n",
        "\n",
        "6. Учитывая свойства единичных матриц $AI = A$, проведем дальнейшие преобразования:    \n",
        "$\\hat y  = X_{test} I (X_{train}^T X_{train})^{-1} I X_{train}^T y_{train} $   \n",
        "\n",
        "\n",
        "7. В итоге получаем исходную формулу:  \n",
        "$\\hat y  = X_{test} (X_{train}^T X_{train})^{-1} X_{train}^T y_{train} $"
      ]
    },
    {
      "cell_type": "markdown",
      "metadata": {
        "id": "lv33FkLVNODU"
      },
      "source": [
        "## Проверка алгоритма"
      ]
    },
    {
      "cell_type": "code",
      "execution_count": 24,
      "metadata": {
        "id": "wb4rgyYeNODU",
        "outputId": "577f07c3-bcd4-4581-8370-d020d2889d05",
        "colab": {
          "base_uri": "https://localhost:8080/"
        }
      },
      "outputs": [
        {
          "output_type": "stream",
          "name": "stdout",
          "text": [
            "[-9.38235504e-01  7.92580543e-03  3.57083050e-02 -1.70080492e-07\n",
            " -1.35676623e-02]\n",
            "R2: 0.4249455028666801\n"
          ]
        }
      ],
      "source": [
        "model = LinearRegression()\n",
        "model.fit(features, target)\n",
        "predictions = model.predict(features)\n",
        "print('R2:', r2_score(target, predictions))"
      ]
    },
    {
      "cell_type": "code",
      "execution_count": 25,
      "metadata": {
        "id": "ApYSNgkCNODV",
        "outputId": "8ad132ae-0466-477f-e293-273c1b858048",
        "colab": {
          "base_uri": "https://localhost:8080/"
        }
      },
      "outputs": [
        {
          "output_type": "stream",
          "name": "stdout",
          "text": [
            "[-0.93824887 -0.26161147  0.16581545  0.19278644 -0.13641917]\n",
            "R2: 0.4249455024682369\n"
          ]
        }
      ],
      "source": [
        "model = LinearRegression()\n",
        "model.fit(encoded_features, target)\n",
        "predictions = model.predict(encoded_features)\n",
        "print('R2:', r2_score(target, predictions))"
      ]
    },
    {
      "cell_type": "markdown",
      "metadata": {
        "id": "qtGQm_z0NODV"
      },
      "source": [
        "Качество линейной регрессии из sklearn не отличается до и после преобразования."
      ]
    },
    {
      "cell_type": "markdown",
      "metadata": {
        "id": "P9xltVFwNODW"
      },
      "source": [
        "**Общий вывод**\n",
        "\n",
        "Предложен алгоритм для защиты данных клиентов страховой компании «Хоть потоп», который позволяет сохранить качество линейной регрессии.\n",
        "\n",
        "Преимущества разработанного алгоритма:\n",
        "1. После преобразований качество линейной регрессии не меняется.\n",
        "2. Возможно расшифровать данные при необходимости\n"
      ]
    }
  ],
  "metadata": {
    "ExecuteTimeLog": [
      {
        "duration": 408,
        "start_time": "2022-10-10T02:55:03.303Z"
      },
      {
        "duration": 58,
        "start_time": "2022-10-10T02:55:52.676Z"
      },
      {
        "duration": 79,
        "start_time": "2022-10-10T02:56:09.541Z"
      },
      {
        "duration": 43,
        "start_time": "2022-10-10T02:56:16.668Z"
      },
      {
        "duration": 850,
        "start_time": "2022-10-10T10:09:20.371Z"
      },
      {
        "duration": 40,
        "start_time": "2022-10-10T10:09:21.528Z"
      },
      {
        "duration": 41,
        "start_time": "2022-10-10T10:09:46.881Z"
      },
      {
        "duration": 44,
        "start_time": "2022-10-10T10:11:01.189Z"
      },
      {
        "duration": 7,
        "start_time": "2022-10-10T10:11:49.302Z"
      },
      {
        "duration": 6,
        "start_time": "2022-10-10T10:11:57.962Z"
      },
      {
        "duration": 6,
        "start_time": "2022-10-10T10:12:08.337Z"
      },
      {
        "duration": 14,
        "start_time": "2022-10-10T10:13:47.466Z"
      },
      {
        "duration": 48,
        "start_time": "2022-10-10T10:14:42.731Z"
      },
      {
        "duration": 15,
        "start_time": "2022-10-10T10:15:07.255Z"
      },
      {
        "duration": 15,
        "start_time": "2022-10-10T10:15:31.945Z"
      },
      {
        "duration": 16,
        "start_time": "2022-10-10T10:15:46.624Z"
      },
      {
        "duration": 14,
        "start_time": "2022-10-10T10:15:55.152Z"
      },
      {
        "duration": 6,
        "start_time": "2022-10-10T10:16:24.392Z"
      },
      {
        "duration": 2,
        "start_time": "2022-10-10T10:16:29.989Z"
      },
      {
        "duration": 34,
        "start_time": "2022-10-10T10:16:30.505Z"
      },
      {
        "duration": 34,
        "start_time": "2022-10-10T10:16:31.186Z"
      },
      {
        "duration": 14,
        "start_time": "2022-10-10T10:16:32.121Z"
      },
      {
        "duration": 5,
        "start_time": "2022-10-10T10:16:41.131Z"
      },
      {
        "duration": 7,
        "start_time": "2022-10-10T10:16:42.568Z"
      },
      {
        "duration": 10,
        "start_time": "2022-10-10T10:17:00.394Z"
      },
      {
        "duration": 4,
        "start_time": "2022-10-10T10:19:39.847Z"
      },
      {
        "duration": 3,
        "start_time": "2022-10-10T10:20:27.280Z"
      },
      {
        "duration": 8,
        "start_time": "2022-10-10T10:20:56.075Z"
      },
      {
        "duration": 93,
        "start_time": "2022-10-10T10:21:18.444Z"
      },
      {
        "duration": 3,
        "start_time": "2022-10-10T10:27:42.034Z"
      },
      {
        "duration": 10,
        "start_time": "2022-10-10T10:27:54.501Z"
      },
      {
        "duration": 3,
        "start_time": "2022-10-10T10:28:10.439Z"
      },
      {
        "duration": 6,
        "start_time": "2022-10-10T10:28:14.151Z"
      },
      {
        "duration": 10,
        "start_time": "2022-10-10T10:28:38.033Z"
      },
      {
        "duration": 4,
        "start_time": "2022-10-10T10:29:51.227Z"
      },
      {
        "duration": 4,
        "start_time": "2022-10-10T10:39:03.980Z"
      },
      {
        "duration": 8,
        "start_time": "2022-10-10T10:39:08.672Z"
      },
      {
        "duration": 3,
        "start_time": "2022-10-10T10:39:43.640Z"
      },
      {
        "duration": 3,
        "start_time": "2022-10-10T10:39:49.581Z"
      },
      {
        "duration": 9,
        "start_time": "2022-10-10T10:39:50.071Z"
      },
      {
        "duration": 4,
        "start_time": "2022-10-10T10:40:24.270Z"
      },
      {
        "duration": 8,
        "start_time": "2022-10-10T10:40:29.894Z"
      },
      {
        "duration": 8,
        "start_time": "2022-10-10T10:40:54.430Z"
      },
      {
        "duration": 8,
        "start_time": "2022-10-10T10:41:21.191Z"
      },
      {
        "duration": 49,
        "start_time": "2022-10-10T10:41:42.825Z"
      },
      {
        "duration": 3,
        "start_time": "2022-10-10T10:45:35.571Z"
      },
      {
        "duration": 81,
        "start_time": "2022-10-10T10:45:47.060Z"
      },
      {
        "duration": 3,
        "start_time": "2022-10-10T10:45:49.141Z"
      },
      {
        "duration": 60,
        "start_time": "2022-10-10T10:45:49.579Z"
      },
      {
        "duration": 8,
        "start_time": "2022-10-10T10:46:04.626Z"
      },
      {
        "duration": 3,
        "start_time": "2022-10-10T10:46:10.535Z"
      },
      {
        "duration": 11,
        "start_time": "2022-10-10T10:46:16.059Z"
      },
      {
        "duration": 3,
        "start_time": "2022-10-10T10:54:15.041Z"
      },
      {
        "duration": 9,
        "start_time": "2022-10-10T10:54:15.753Z"
      },
      {
        "duration": 4,
        "start_time": "2022-10-10T10:54:31.385Z"
      },
      {
        "duration": 6,
        "start_time": "2022-10-10T10:54:40.250Z"
      },
      {
        "duration": 11,
        "start_time": "2022-10-10T10:54:54.875Z"
      },
      {
        "duration": 16,
        "start_time": "2022-10-10T10:54:59.713Z"
      },
      {
        "duration": 3,
        "start_time": "2022-10-10T11:22:53.261Z"
      },
      {
        "duration": 5,
        "start_time": "2022-10-10T11:22:59.414Z"
      },
      {
        "duration": 5,
        "start_time": "2022-10-10T11:24:09.884Z"
      },
      {
        "duration": 9,
        "start_time": "2022-10-10T11:24:11.847Z"
      },
      {
        "duration": 7,
        "start_time": "2022-10-10T11:24:48.230Z"
      },
      {
        "duration": 9,
        "start_time": "2022-10-10T11:24:56.203Z"
      },
      {
        "duration": 7,
        "start_time": "2022-10-10T11:25:21.631Z"
      },
      {
        "duration": 1138,
        "start_time": "2022-10-11T08:28:27.709Z"
      },
      {
        "duration": 103,
        "start_time": "2022-10-11T08:28:32.286Z"
      },
      {
        "duration": 20,
        "start_time": "2022-10-11T08:28:37.325Z"
      },
      {
        "duration": 5,
        "start_time": "2022-10-11T08:28:39.719Z"
      },
      {
        "duration": 11,
        "start_time": "2022-10-11T08:28:40.380Z"
      },
      {
        "duration": 3,
        "start_time": "2022-10-11T08:28:42.132Z"
      },
      {
        "duration": 10,
        "start_time": "2022-10-11T08:30:27.705Z"
      },
      {
        "duration": 3,
        "start_time": "2022-10-11T08:31:01.929Z"
      },
      {
        "duration": 2,
        "start_time": "2022-10-11T08:31:20.705Z"
      },
      {
        "duration": 3,
        "start_time": "2022-10-11T08:31:22.633Z"
      },
      {
        "duration": 4,
        "start_time": "2022-10-11T08:31:24.149Z"
      },
      {
        "duration": 5,
        "start_time": "2022-10-11T08:31:28.097Z"
      },
      {
        "duration": 5,
        "start_time": "2022-10-11T08:31:30.754Z"
      },
      {
        "duration": 8,
        "start_time": "2022-10-11T08:32:26.251Z"
      },
      {
        "duration": 2,
        "start_time": "2022-10-11T08:32:43.147Z"
      },
      {
        "duration": 2,
        "start_time": "2022-10-11T08:32:44.338Z"
      },
      {
        "duration": 223,
        "start_time": "2022-10-11T08:33:24.870Z"
      },
      {
        "duration": 15,
        "start_time": "2022-10-11T08:33:45.427Z"
      },
      {
        "duration": 10,
        "start_time": "2022-10-11T08:33:54.485Z"
      },
      {
        "duration": 27,
        "start_time": "2022-10-11T08:35:33.828Z"
      },
      {
        "duration": 39,
        "start_time": "2022-10-11T08:35:36.980Z"
      },
      {
        "duration": 39,
        "start_time": "2022-10-11T08:36:00.017Z"
      },
      {
        "duration": 37,
        "start_time": "2022-10-11T08:36:08.813Z"
      },
      {
        "duration": 37,
        "start_time": "2022-10-11T08:36:22.813Z"
      },
      {
        "duration": 37,
        "start_time": "2022-10-11T08:37:31.036Z"
      },
      {
        "duration": 36,
        "start_time": "2022-10-11T08:37:43.293Z"
      },
      {
        "duration": 5,
        "start_time": "2022-10-11T08:38:07.562Z"
      },
      {
        "duration": 8,
        "start_time": "2022-10-11T08:38:44.083Z"
      },
      {
        "duration": 3,
        "start_time": "2022-10-11T08:44:18.378Z"
      },
      {
        "duration": 27,
        "start_time": "2022-10-11T08:44:18.821Z"
      },
      {
        "duration": 37,
        "start_time": "2022-10-11T08:44:19.032Z"
      },
      {
        "duration": 4,
        "start_time": "2022-10-11T08:44:19.478Z"
      },
      {
        "duration": 11,
        "start_time": "2022-10-11T08:44:20.363Z"
      },
      {
        "duration": 8,
        "start_time": "2022-10-11T08:45:38.428Z"
      },
      {
        "duration": 429,
        "start_time": "2022-10-11T08:48:37.210Z"
      },
      {
        "duration": 3,
        "start_time": "2022-10-11T08:48:41.898Z"
      },
      {
        "duration": 97,
        "start_time": "2022-10-11T08:49:29.303Z"
      },
      {
        "duration": 37,
        "start_time": "2022-10-11T08:51:16.202Z"
      },
      {
        "duration": 14,
        "start_time": "2022-10-11T08:52:22.167Z"
      },
      {
        "duration": 344,
        "start_time": "2022-10-11T08:53:04.776Z"
      },
      {
        "duration": 349,
        "start_time": "2022-10-11T08:55:27.733Z"
      },
      {
        "duration": 343,
        "start_time": "2022-10-11T08:56:32.732Z"
      },
      {
        "duration": 370,
        "start_time": "2022-10-11T08:56:40.614Z"
      },
      {
        "duration": 403,
        "start_time": "2022-10-11T08:57:07.569Z"
      },
      {
        "duration": 366,
        "start_time": "2022-10-11T08:57:38.497Z"
      },
      {
        "duration": 13,
        "start_time": "2022-10-11T08:58:30.987Z"
      },
      {
        "duration": 8,
        "start_time": "2022-10-11T08:59:10.602Z"
      },
      {
        "duration": 84,
        "start_time": "2022-10-11T08:59:14.950Z"
      },
      {
        "duration": 138,
        "start_time": "2022-10-11T09:00:55.224Z"
      },
      {
        "duration": 167,
        "start_time": "2022-10-11T09:01:07.845Z"
      },
      {
        "duration": 164,
        "start_time": "2022-10-11T09:01:36.473Z"
      },
      {
        "duration": 3,
        "start_time": "2022-10-11T09:03:01.516Z"
      },
      {
        "duration": 1447,
        "start_time": "2022-10-11T09:03:15.626Z"
      },
      {
        "duration": 4,
        "start_time": "2022-10-11T09:03:26.257Z"
      },
      {
        "duration": 11,
        "start_time": "2022-10-11T09:03:28.530Z"
      },
      {
        "duration": 3,
        "start_time": "2022-10-11T09:03:36.769Z"
      },
      {
        "duration": 80,
        "start_time": "2022-10-11T09:03:37.250Z"
      },
      {
        "duration": 212,
        "start_time": "2022-10-11T09:04:06.299Z"
      },
      {
        "duration": 119,
        "start_time": "2022-10-11T09:04:25.517Z"
      },
      {
        "duration": 256,
        "start_time": "2022-10-11T09:04:32.983Z"
      },
      {
        "duration": 169,
        "start_time": "2022-10-11T09:04:40.714Z"
      },
      {
        "duration": 206,
        "start_time": "2022-10-11T09:04:58.443Z"
      },
      {
        "duration": 257,
        "start_time": "2022-10-11T09:05:16.019Z"
      },
      {
        "duration": 98,
        "start_time": "2022-10-11T09:05:47.345Z"
      },
      {
        "duration": 140,
        "start_time": "2022-10-11T09:05:52.156Z"
      },
      {
        "duration": 11,
        "start_time": "2022-10-11T09:07:08.544Z"
      },
      {
        "duration": 10,
        "start_time": "2022-10-11T09:07:18.264Z"
      },
      {
        "duration": 7,
        "start_time": "2022-10-11T09:07:26.686Z"
      },
      {
        "duration": 370,
        "start_time": "2022-10-11T09:07:37.885Z"
      },
      {
        "duration": 157,
        "start_time": "2022-10-11T09:12:45.290Z"
      },
      {
        "duration": 151,
        "start_time": "2022-10-11T09:13:03.668Z"
      },
      {
        "duration": 136,
        "start_time": "2022-10-11T09:14:00.837Z"
      },
      {
        "duration": 171,
        "start_time": "2022-10-11T09:14:25.580Z"
      },
      {
        "duration": 174,
        "start_time": "2022-10-11T09:14:32.818Z"
      },
      {
        "duration": 123,
        "start_time": "2022-10-11T09:14:36.009Z"
      },
      {
        "duration": 91,
        "start_time": "2022-10-11T09:14:43.217Z"
      },
      {
        "duration": 8,
        "start_time": "2022-10-11T09:24:43.030Z"
      },
      {
        "duration": 93,
        "start_time": "2022-10-11T09:24:44.846Z"
      },
      {
        "duration": 5,
        "start_time": "2022-10-11T09:24:51.845Z"
      },
      {
        "duration": 5,
        "start_time": "2022-10-11T09:24:52.594Z"
      },
      {
        "duration": 6,
        "start_time": "2022-10-11T09:24:53.049Z"
      },
      {
        "duration": 5,
        "start_time": "2022-10-11T09:24:53.714Z"
      },
      {
        "duration": 12,
        "start_time": "2022-10-11T09:24:54.210Z"
      },
      {
        "duration": 13,
        "start_time": "2022-10-11T10:19:54.030Z"
      },
      {
        "duration": 3,
        "start_time": "2022-10-11T10:20:04.380Z"
      },
      {
        "duration": 8,
        "start_time": "2022-10-11T10:20:11.930Z"
      },
      {
        "duration": 8,
        "start_time": "2022-10-11T10:30:22.410Z"
      },
      {
        "duration": 3,
        "start_time": "2022-10-11T10:58:41.358Z"
      },
      {
        "duration": 13,
        "start_time": "2022-10-11T10:58:54.554Z"
      },
      {
        "duration": 4,
        "start_time": "2022-10-11T10:59:07.620Z"
      },
      {
        "duration": 17,
        "start_time": "2022-10-11T10:59:08.094Z"
      },
      {
        "duration": 3,
        "start_time": "2022-10-11T10:59:51.840Z"
      },
      {
        "duration": 9,
        "start_time": "2022-10-11T11:00:04.275Z"
      },
      {
        "duration": 3,
        "start_time": "2022-10-11T11:00:12.624Z"
      },
      {
        "duration": 10,
        "start_time": "2022-10-11T11:00:12.985Z"
      },
      {
        "duration": 8,
        "start_time": "2022-10-11T11:00:29.041Z"
      },
      {
        "duration": 11,
        "start_time": "2022-10-11T11:01:06.023Z"
      },
      {
        "duration": 4,
        "start_time": "2022-10-11T11:02:09.973Z"
      },
      {
        "duration": 9,
        "start_time": "2022-10-11T11:02:10.314Z"
      },
      {
        "duration": 3,
        "start_time": "2022-10-11T11:02:26.822Z"
      },
      {
        "duration": 12,
        "start_time": "2022-10-11T11:02:27.092Z"
      },
      {
        "duration": 3,
        "start_time": "2022-10-11T11:02:34.326Z"
      },
      {
        "duration": 12,
        "start_time": "2022-10-11T11:02:38.256Z"
      },
      {
        "duration": 3,
        "start_time": "2022-10-11T11:02:49.290Z"
      },
      {
        "duration": 1813,
        "start_time": "2022-10-11T11:02:50.811Z"
      },
      {
        "duration": 11,
        "start_time": "2022-10-11T11:03:47.931Z"
      },
      {
        "duration": 8,
        "start_time": "2022-10-11T11:04:27.680Z"
      },
      {
        "duration": 1362,
        "start_time": "2022-10-11T11:05:31.563Z"
      },
      {
        "duration": 28,
        "start_time": "2022-10-11T11:05:32.927Z"
      },
      {
        "duration": 43,
        "start_time": "2022-10-11T11:05:32.957Z"
      },
      {
        "duration": 360,
        "start_time": "2022-10-11T11:05:33.002Z"
      },
      {
        "duration": 99,
        "start_time": "2022-10-11T11:05:33.364Z"
      },
      {
        "duration": 170,
        "start_time": "2022-10-11T11:05:33.465Z"
      },
      {
        "duration": 198,
        "start_time": "2022-10-11T11:05:33.637Z"
      },
      {
        "duration": 166,
        "start_time": "2022-10-11T11:05:33.837Z"
      },
      {
        "duration": 214,
        "start_time": "2022-10-11T11:05:34.004Z"
      },
      {
        "duration": 12,
        "start_time": "2022-10-11T11:05:34.221Z"
      },
      {
        "duration": 9,
        "start_time": "2022-10-11T11:05:34.235Z"
      },
      {
        "duration": 18,
        "start_time": "2022-10-11T11:05:34.246Z"
      },
      {
        "duration": 100,
        "start_time": "2022-10-11T11:05:34.335Z"
      },
      {
        "duration": 12,
        "start_time": "2022-10-11T11:05:34.437Z"
      },
      {
        "duration": 8,
        "start_time": "2022-10-11T11:05:34.451Z"
      },
      {
        "duration": 14,
        "start_time": "2022-10-11T11:05:34.461Z"
      },
      {
        "duration": 12,
        "start_time": "2022-10-11T11:05:34.535Z"
      },
      {
        "duration": 96,
        "start_time": "2022-10-11T11:05:34.638Z"
      },
      {
        "duration": 13,
        "start_time": "2022-10-11T11:05:34.736Z"
      },
      {
        "duration": 10,
        "start_time": "2022-10-11T11:05:34.751Z"
      },
      {
        "duration": 72,
        "start_time": "2022-10-11T11:05:34.763Z"
      },
      {
        "duration": 206,
        "start_time": "2022-10-11T11:05:34.837Z"
      },
      {
        "duration": 4,
        "start_time": "2022-10-11T11:06:12.225Z"
      },
      {
        "duration": 11,
        "start_time": "2022-10-11T11:06:15.080Z"
      },
      {
        "duration": 11,
        "start_time": "2022-10-11T11:06:17.232Z"
      },
      {
        "duration": 8,
        "start_time": "2022-10-11T11:06:20.528Z"
      },
      {
        "duration": 1448,
        "start_time": "2022-10-12T06:59:48.814Z"
      },
      {
        "duration": 29,
        "start_time": "2022-10-12T06:59:50.264Z"
      },
      {
        "duration": 47,
        "start_time": "2022-10-12T06:59:50.295Z"
      },
      {
        "duration": 348,
        "start_time": "2022-10-12T06:59:50.343Z"
      },
      {
        "duration": 94,
        "start_time": "2022-10-12T06:59:50.693Z"
      },
      {
        "duration": 173,
        "start_time": "2022-10-12T06:59:50.789Z"
      },
      {
        "duration": 193,
        "start_time": "2022-10-12T06:59:50.963Z"
      },
      {
        "duration": 170,
        "start_time": "2022-10-12T06:59:51.158Z"
      },
      {
        "duration": 215,
        "start_time": "2022-10-12T06:59:51.333Z"
      },
      {
        "duration": 4,
        "start_time": "2022-10-12T06:59:51.549Z"
      },
      {
        "duration": 34,
        "start_time": "2022-10-12T06:59:51.555Z"
      },
      {
        "duration": 44,
        "start_time": "2022-10-12T06:59:51.591Z"
      },
      {
        "duration": 98,
        "start_time": "2022-10-12T06:59:51.638Z"
      },
      {
        "duration": 9,
        "start_time": "2022-10-12T06:59:51.738Z"
      },
      {
        "duration": 12,
        "start_time": "2022-10-12T06:59:51.748Z"
      },
      {
        "duration": 73,
        "start_time": "2022-10-12T06:59:51.762Z"
      },
      {
        "duration": 11,
        "start_time": "2022-10-12T06:59:51.837Z"
      },
      {
        "duration": 100,
        "start_time": "2022-10-12T06:59:51.935Z"
      },
      {
        "duration": 23,
        "start_time": "2022-10-12T06:59:52.036Z"
      },
      {
        "duration": 23,
        "start_time": "2022-10-12T06:59:52.060Z"
      },
      {
        "duration": 23,
        "start_time": "2022-10-12T06:59:52.085Z"
      },
      {
        "duration": 204,
        "start_time": "2022-10-12T06:59:52.134Z"
      },
      {
        "duration": 3,
        "start_time": "2022-10-12T07:11:21.067Z"
      },
      {
        "duration": 11,
        "start_time": "2022-10-12T07:11:35.203Z"
      },
      {
        "duration": 1429,
        "start_time": "2022-10-12T07:11:52.576Z"
      },
      {
        "duration": 29,
        "start_time": "2022-10-12T07:11:54.007Z"
      },
      {
        "duration": 41,
        "start_time": "2022-10-12T07:11:54.038Z"
      },
      {
        "duration": 361,
        "start_time": "2022-10-12T07:11:54.081Z"
      },
      {
        "duration": 113,
        "start_time": "2022-10-12T07:11:54.444Z"
      },
      {
        "duration": 169,
        "start_time": "2022-10-12T07:11:54.559Z"
      },
      {
        "duration": 195,
        "start_time": "2022-10-12T07:11:54.733Z"
      },
      {
        "duration": 167,
        "start_time": "2022-10-12T07:11:54.933Z"
      },
      {
        "duration": 213,
        "start_time": "2022-10-12T07:11:55.101Z"
      },
      {
        "duration": 4,
        "start_time": "2022-10-12T07:11:55.316Z"
      },
      {
        "duration": 12,
        "start_time": "2022-10-12T07:11:55.321Z"
      },
      {
        "duration": 13,
        "start_time": "2022-10-12T07:11:55.335Z"
      },
      {
        "duration": 87,
        "start_time": "2022-10-12T07:11:55.350Z"
      },
      {
        "duration": 100,
        "start_time": "2022-10-12T07:11:55.439Z"
      },
      {
        "duration": 16,
        "start_time": "2022-10-12T07:11:55.540Z"
      },
      {
        "duration": 15,
        "start_time": "2022-10-12T07:11:55.559Z"
      },
      {
        "duration": 11,
        "start_time": "2022-10-12T07:11:55.634Z"
      },
      {
        "duration": 94,
        "start_time": "2022-10-12T07:11:55.646Z"
      },
      {
        "duration": 104,
        "start_time": "2022-10-12T07:11:55.744Z"
      },
      {
        "duration": 13,
        "start_time": "2022-10-12T07:11:55.850Z"
      },
      {
        "duration": 123,
        "start_time": "2022-10-12T07:11:55.864Z"
      },
      {
        "duration": 0,
        "start_time": "2022-10-12T07:11:55.988Z"
      },
      {
        "duration": 0,
        "start_time": "2022-10-12T07:11:55.989Z"
      },
      {
        "duration": 0,
        "start_time": "2022-10-12T07:11:55.991Z"
      },
      {
        "duration": 3,
        "start_time": "2022-10-12T07:14:13.857Z"
      },
      {
        "duration": 10,
        "start_time": "2022-10-12T07:14:14.435Z"
      },
      {
        "duration": 3,
        "start_time": "2022-10-12T07:14:24.279Z"
      },
      {
        "duration": 9,
        "start_time": "2022-10-12T07:14:25.870Z"
      },
      {
        "duration": 8,
        "start_time": "2022-10-12T07:14:34.335Z"
      },
      {
        "duration": 3,
        "start_time": "2022-10-12T07:14:41.147Z"
      },
      {
        "duration": 8,
        "start_time": "2022-10-12T07:14:44.659Z"
      },
      {
        "duration": 13,
        "start_time": "2022-10-12T07:15:00.985Z"
      },
      {
        "duration": 4,
        "start_time": "2022-10-12T07:15:17.351Z"
      },
      {
        "duration": 12,
        "start_time": "2022-10-12T07:15:19.664Z"
      },
      {
        "duration": 4,
        "start_time": "2022-10-12T07:15:29.687Z"
      },
      {
        "duration": 11,
        "start_time": "2022-10-12T07:15:30.223Z"
      },
      {
        "duration": 9,
        "start_time": "2022-10-12T07:15:42.368Z"
      },
      {
        "duration": 3,
        "start_time": "2022-10-12T07:15:51.288Z"
      },
      {
        "duration": 10,
        "start_time": "2022-10-12T07:15:55.911Z"
      },
      {
        "duration": 107,
        "start_time": "2022-10-12T07:16:13.233Z"
      },
      {
        "duration": 3,
        "start_time": "2022-10-12T07:16:21.890Z"
      },
      {
        "duration": 9,
        "start_time": "2022-10-12T07:16:23.961Z"
      },
      {
        "duration": 11,
        "start_time": "2022-10-12T07:16:30.973Z"
      },
      {
        "duration": 12,
        "start_time": "2022-10-12T07:16:39.778Z"
      },
      {
        "duration": 3,
        "start_time": "2022-10-12T07:16:43.608Z"
      },
      {
        "duration": 11,
        "start_time": "2022-10-12T07:16:44.337Z"
      },
      {
        "duration": 4,
        "start_time": "2022-10-12T07:17:27.690Z"
      },
      {
        "duration": 5,
        "start_time": "2022-10-12T07:17:36.202Z"
      },
      {
        "duration": 4,
        "start_time": "2022-10-12T07:19:57.275Z"
      },
      {
        "duration": 3,
        "start_time": "2022-10-12T07:20:04.856Z"
      },
      {
        "duration": 9,
        "start_time": "2022-10-12T07:20:24.091Z"
      },
      {
        "duration": 5,
        "start_time": "2022-10-12T07:21:23.522Z"
      },
      {
        "duration": 4,
        "start_time": "2022-10-12T07:21:36.254Z"
      },
      {
        "duration": 3,
        "start_time": "2022-10-12T07:22:10.689Z"
      },
      {
        "duration": 101,
        "start_time": "2022-10-12T07:23:15.065Z"
      },
      {
        "duration": 74,
        "start_time": "2022-10-12T07:23:19.684Z"
      },
      {
        "duration": 9,
        "start_time": "2022-10-12T07:23:32.851Z"
      },
      {
        "duration": 4,
        "start_time": "2022-10-12T07:24:43.167Z"
      },
      {
        "duration": 4,
        "start_time": "2022-10-12T07:24:49.102Z"
      },
      {
        "duration": 1467,
        "start_time": "2022-10-12T07:24:55.699Z"
      },
      {
        "duration": 30,
        "start_time": "2022-10-12T07:24:57.168Z"
      },
      {
        "duration": 46,
        "start_time": "2022-10-12T07:24:57.199Z"
      },
      {
        "duration": 350,
        "start_time": "2022-10-12T07:24:57.247Z"
      },
      {
        "duration": 95,
        "start_time": "2022-10-12T07:24:57.598Z"
      },
      {
        "duration": 172,
        "start_time": "2022-10-12T07:24:57.694Z"
      },
      {
        "duration": 207,
        "start_time": "2022-10-12T07:24:57.868Z"
      },
      {
        "duration": 190,
        "start_time": "2022-10-12T07:24:58.077Z"
      },
      {
        "duration": 223,
        "start_time": "2022-10-12T07:24:58.269Z"
      },
      {
        "duration": 4,
        "start_time": "2022-10-12T07:24:58.496Z"
      },
      {
        "duration": 10,
        "start_time": "2022-10-12T07:24:58.501Z"
      },
      {
        "duration": 25,
        "start_time": "2022-10-12T07:24:58.512Z"
      },
      {
        "duration": 199,
        "start_time": "2022-10-12T07:24:58.539Z"
      },
      {
        "duration": 11,
        "start_time": "2022-10-12T07:24:58.740Z"
      },
      {
        "duration": 13,
        "start_time": "2022-10-12T07:24:58.752Z"
      },
      {
        "duration": 71,
        "start_time": "2022-10-12T07:24:58.767Z"
      },
      {
        "duration": 194,
        "start_time": "2022-10-12T07:24:58.840Z"
      },
      {
        "duration": 6,
        "start_time": "2022-10-12T07:24:59.036Z"
      },
      {
        "duration": 11,
        "start_time": "2022-10-12T07:24:59.043Z"
      },
      {
        "duration": 14,
        "start_time": "2022-10-12T07:24:59.056Z"
      },
      {
        "duration": 64,
        "start_time": "2022-10-12T07:24:59.072Z"
      },
      {
        "duration": 14,
        "start_time": "2022-10-12T07:24:59.138Z"
      },
      {
        "duration": 4,
        "start_time": "2022-10-12T07:24:59.153Z"
      },
      {
        "duration": 14,
        "start_time": "2022-10-12T07:24:59.158Z"
      },
      {
        "duration": 10,
        "start_time": "2022-10-12T07:24:59.174Z"
      },
      {
        "duration": 58,
        "start_time": "2022-10-12T07:24:59.186Z"
      },
      {
        "duration": 200,
        "start_time": "2022-10-12T07:24:59.334Z"
      },
      {
        "duration": 5,
        "start_time": "2022-10-12T07:25:02.570Z"
      },
      {
        "duration": 4,
        "start_time": "2022-10-12T07:25:43.645Z"
      },
      {
        "duration": 1468,
        "start_time": "2022-10-12T15:57:00.181Z"
      },
      {
        "duration": 24,
        "start_time": "2022-10-12T15:57:01.651Z"
      },
      {
        "duration": 45,
        "start_time": "2022-10-12T15:57:01.676Z"
      },
      {
        "duration": 363,
        "start_time": "2022-10-12T15:57:01.723Z"
      },
      {
        "duration": 107,
        "start_time": "2022-10-12T15:57:02.088Z"
      },
      {
        "duration": 168,
        "start_time": "2022-10-12T15:57:02.197Z"
      },
      {
        "duration": 196,
        "start_time": "2022-10-12T15:57:02.367Z"
      },
      {
        "duration": 173,
        "start_time": "2022-10-12T15:57:02.564Z"
      },
      {
        "duration": 210,
        "start_time": "2022-10-12T15:57:02.739Z"
      },
      {
        "duration": 5,
        "start_time": "2022-10-12T15:57:02.951Z"
      },
      {
        "duration": 7,
        "start_time": "2022-10-12T15:57:02.958Z"
      },
      {
        "duration": 11,
        "start_time": "2022-10-12T15:57:02.966Z"
      },
      {
        "duration": 10,
        "start_time": "2022-10-12T15:57:03.034Z"
      },
      {
        "duration": 6,
        "start_time": "2022-10-12T15:57:03.134Z"
      },
      {
        "duration": 8,
        "start_time": "2022-10-12T15:57:03.142Z"
      },
      {
        "duration": 9,
        "start_time": "2022-10-12T15:57:03.152Z"
      },
      {
        "duration": 81,
        "start_time": "2022-10-12T15:57:03.163Z"
      },
      {
        "duration": 196,
        "start_time": "2022-10-12T15:57:03.245Z"
      },
      {
        "duration": 7,
        "start_time": "2022-10-12T15:57:03.443Z"
      },
      {
        "duration": 6,
        "start_time": "2022-10-12T15:57:03.451Z"
      },
      {
        "duration": 5,
        "start_time": "2022-10-12T15:57:03.458Z"
      },
      {
        "duration": 9,
        "start_time": "2022-10-12T15:57:03.464Z"
      },
      {
        "duration": 13,
        "start_time": "2022-10-12T15:57:03.474Z"
      },
      {
        "duration": 2,
        "start_time": "2022-10-12T15:57:03.489Z"
      },
      {
        "duration": 15,
        "start_time": "2022-10-12T15:57:03.493Z"
      },
      {
        "duration": 32,
        "start_time": "2022-10-12T15:57:03.509Z"
      },
      {
        "duration": 15,
        "start_time": "2022-10-12T15:57:03.542Z"
      },
      {
        "duration": 205,
        "start_time": "2022-10-12T15:57:03.638Z"
      },
      {
        "duration": 4,
        "start_time": "2022-10-12T17:05:24.149Z"
      },
      {
        "duration": 19,
        "start_time": "2022-10-12T17:05:27.362Z"
      },
      {
        "duration": 4,
        "start_time": "2022-10-12T17:05:40.975Z"
      },
      {
        "duration": 3,
        "start_time": "2022-10-12T17:06:03.169Z"
      },
      {
        "duration": 12,
        "start_time": "2022-10-12T17:06:06.968Z"
      },
      {
        "duration": 4,
        "start_time": "2022-10-12T17:06:18.256Z"
      },
      {
        "duration": 9,
        "start_time": "2022-10-12T17:06:19.535Z"
      },
      {
        "duration": 3,
        "start_time": "2022-10-12T17:06:47.579Z"
      },
      {
        "duration": 3,
        "start_time": "2022-10-12T17:07:43.613Z"
      },
      {
        "duration": 11,
        "start_time": "2022-10-12T17:07:44.076Z"
      },
      {
        "duration": 12,
        "start_time": "2022-10-12T17:07:51.949Z"
      },
      {
        "duration": 9,
        "start_time": "2022-10-12T17:07:56.775Z"
      },
      {
        "duration": 9,
        "start_time": "2022-10-12T17:08:16.913Z"
      },
      {
        "duration": 1384,
        "start_time": "2022-10-12T17:10:30.079Z"
      },
      {
        "duration": 18,
        "start_time": "2022-10-12T17:10:31.465Z"
      },
      {
        "duration": 41,
        "start_time": "2022-10-12T17:10:31.484Z"
      },
      {
        "duration": 362,
        "start_time": "2022-10-12T17:10:31.527Z"
      },
      {
        "duration": 95,
        "start_time": "2022-10-12T17:10:31.892Z"
      },
      {
        "duration": 176,
        "start_time": "2022-10-12T17:10:31.988Z"
      },
      {
        "duration": 204,
        "start_time": "2022-10-12T17:10:32.166Z"
      },
      {
        "duration": 177,
        "start_time": "2022-10-12T17:10:32.372Z"
      },
      {
        "duration": 218,
        "start_time": "2022-10-12T17:10:32.551Z"
      },
      {
        "duration": 4,
        "start_time": "2022-10-12T17:10:32.771Z"
      },
      {
        "duration": 8,
        "start_time": "2022-10-12T17:10:32.776Z"
      },
      {
        "duration": 50,
        "start_time": "2022-10-12T17:10:32.785Z"
      },
      {
        "duration": 100,
        "start_time": "2022-10-12T17:10:32.842Z"
      },
      {
        "duration": 6,
        "start_time": "2022-10-12T17:10:32.945Z"
      },
      {
        "duration": 6,
        "start_time": "2022-10-12T17:10:32.953Z"
      },
      {
        "duration": 72,
        "start_time": "2022-10-12T17:10:32.961Z"
      },
      {
        "duration": 8,
        "start_time": "2022-10-12T17:10:33.035Z"
      },
      {
        "duration": 90,
        "start_time": "2022-10-12T17:10:33.045Z"
      },
      {
        "duration": 102,
        "start_time": "2022-10-12T17:10:33.137Z"
      },
      {
        "duration": 12,
        "start_time": "2022-10-12T17:10:33.241Z"
      },
      {
        "duration": 209,
        "start_time": "2022-10-12T17:10:33.336Z"
      },
      {
        "duration": 12,
        "start_time": "2022-10-12T17:11:03.783Z"
      },
      {
        "duration": 7,
        "start_time": "2022-10-12T17:11:06.915Z"
      },
      {
        "duration": 9,
        "start_time": "2022-10-12T17:11:07.414Z"
      },
      {
        "duration": 1343,
        "start_time": "2022-10-12T17:14:41.553Z"
      },
      {
        "duration": 18,
        "start_time": "2022-10-12T17:14:42.898Z"
      },
      {
        "duration": 42,
        "start_time": "2022-10-12T17:14:42.917Z"
      },
      {
        "duration": 342,
        "start_time": "2022-10-12T17:14:42.961Z"
      },
      {
        "duration": 93,
        "start_time": "2022-10-12T17:14:43.305Z"
      },
      {
        "duration": 174,
        "start_time": "2022-10-12T17:14:43.400Z"
      },
      {
        "duration": 201,
        "start_time": "2022-10-12T17:14:43.576Z"
      },
      {
        "duration": 166,
        "start_time": "2022-10-12T17:14:43.779Z"
      },
      {
        "duration": 232,
        "start_time": "2022-10-12T17:14:43.947Z"
      },
      {
        "duration": 3,
        "start_time": "2022-10-12T17:14:44.182Z"
      },
      {
        "duration": 12,
        "start_time": "2022-10-12T17:14:44.187Z"
      },
      {
        "duration": 34,
        "start_time": "2022-10-12T17:14:44.201Z"
      },
      {
        "duration": 99,
        "start_time": "2022-10-12T17:14:44.236Z"
      },
      {
        "duration": 7,
        "start_time": "2022-10-12T17:14:44.338Z"
      },
      {
        "duration": 6,
        "start_time": "2022-10-12T17:14:44.347Z"
      },
      {
        "duration": 80,
        "start_time": "2022-10-12T17:14:44.355Z"
      },
      {
        "duration": 7,
        "start_time": "2022-10-12T17:14:44.436Z"
      },
      {
        "duration": 98,
        "start_time": "2022-10-12T17:14:44.445Z"
      },
      {
        "duration": 13,
        "start_time": "2022-10-12T17:14:44.634Z"
      },
      {
        "duration": 11,
        "start_time": "2022-10-12T17:14:44.648Z"
      },
      {
        "duration": 173,
        "start_time": "2022-10-12T17:14:44.661Z"
      },
      {
        "duration": 1318,
        "start_time": "2022-10-13T06:20:50.382Z"
      },
      {
        "duration": 19,
        "start_time": "2022-10-13T06:20:51.701Z"
      },
      {
        "duration": 57,
        "start_time": "2022-10-13T06:20:51.722Z"
      },
      {
        "duration": 337,
        "start_time": "2022-10-13T06:20:51.780Z"
      },
      {
        "duration": 97,
        "start_time": "2022-10-13T06:20:52.119Z"
      },
      {
        "duration": 177,
        "start_time": "2022-10-13T06:20:52.218Z"
      },
      {
        "duration": 200,
        "start_time": "2022-10-13T06:20:52.397Z"
      },
      {
        "duration": 168,
        "start_time": "2022-10-13T06:20:52.598Z"
      },
      {
        "duration": 213,
        "start_time": "2022-10-13T06:20:52.768Z"
      },
      {
        "duration": 3,
        "start_time": "2022-10-13T06:20:52.984Z"
      },
      {
        "duration": 23,
        "start_time": "2022-10-13T06:20:52.989Z"
      },
      {
        "duration": 32,
        "start_time": "2022-10-13T06:20:53.013Z"
      },
      {
        "duration": 197,
        "start_time": "2022-10-13T06:20:53.046Z"
      },
      {
        "duration": 16,
        "start_time": "2022-10-13T06:20:53.245Z"
      },
      {
        "duration": 25,
        "start_time": "2022-10-13T06:20:53.263Z"
      },
      {
        "duration": 44,
        "start_time": "2022-10-13T06:20:53.290Z"
      },
      {
        "duration": 8,
        "start_time": "2022-10-13T06:20:53.337Z"
      },
      {
        "duration": 201,
        "start_time": "2022-10-13T06:20:53.348Z"
      },
      {
        "duration": 27,
        "start_time": "2022-10-13T06:20:53.550Z"
      },
      {
        "duration": 30,
        "start_time": "2022-10-13T06:20:53.579Z"
      },
      {
        "duration": 105,
        "start_time": "2022-10-13T06:20:53.634Z"
      },
      {
        "duration": 1345,
        "start_time": "2022-10-13T06:56:53.171Z"
      },
      {
        "duration": 18,
        "start_time": "2022-10-13T06:56:54.518Z"
      },
      {
        "duration": 42,
        "start_time": "2022-10-13T06:56:54.537Z"
      },
      {
        "duration": 360,
        "start_time": "2022-10-13T06:56:54.581Z"
      },
      {
        "duration": 94,
        "start_time": "2022-10-13T06:56:54.943Z"
      },
      {
        "duration": 174,
        "start_time": "2022-10-13T06:56:55.038Z"
      },
      {
        "duration": 192,
        "start_time": "2022-10-13T06:56:55.214Z"
      },
      {
        "duration": 171,
        "start_time": "2022-10-13T06:56:55.407Z"
      },
      {
        "duration": 213,
        "start_time": "2022-10-13T06:56:55.580Z"
      },
      {
        "duration": 4,
        "start_time": "2022-10-13T06:56:55.795Z"
      },
      {
        "duration": 8,
        "start_time": "2022-10-13T06:56:55.800Z"
      },
      {
        "duration": 28,
        "start_time": "2022-10-13T06:56:55.809Z"
      },
      {
        "duration": 7,
        "start_time": "2022-10-13T06:56:55.839Z"
      },
      {
        "duration": 5,
        "start_time": "2022-10-13T06:56:55.934Z"
      },
      {
        "duration": 96,
        "start_time": "2022-10-13T06:56:55.941Z"
      },
      {
        "duration": 9,
        "start_time": "2022-10-13T06:56:56.039Z"
      },
      {
        "duration": 93,
        "start_time": "2022-10-13T06:56:56.050Z"
      },
      {
        "duration": 192,
        "start_time": "2022-10-13T06:56:56.146Z"
      },
      {
        "duration": 28,
        "start_time": "2022-10-13T06:56:56.341Z"
      },
      {
        "duration": 15,
        "start_time": "2022-10-13T06:56:56.372Z"
      },
      {
        "duration": 154,
        "start_time": "2022-10-13T06:56:56.389Z"
      },
      {
        "duration": 102,
        "start_time": "2022-10-13T07:03:52.927Z"
      },
      {
        "duration": 1439,
        "start_time": "2022-10-13T07:04:00.226Z"
      },
      {
        "duration": 18,
        "start_time": "2022-10-13T07:04:01.667Z"
      },
      {
        "duration": 45,
        "start_time": "2022-10-13T07:04:01.686Z"
      },
      {
        "duration": 366,
        "start_time": "2022-10-13T07:04:01.733Z"
      },
      {
        "duration": 115,
        "start_time": "2022-10-13T07:04:02.101Z"
      },
      {
        "duration": 189,
        "start_time": "2022-10-13T07:04:02.217Z"
      },
      {
        "duration": 204,
        "start_time": "2022-10-13T07:04:02.407Z"
      },
      {
        "duration": 175,
        "start_time": "2022-10-13T07:04:02.613Z"
      },
      {
        "duration": 227,
        "start_time": "2022-10-13T07:04:02.790Z"
      },
      {
        "duration": 3,
        "start_time": "2022-10-13T07:04:03.019Z"
      },
      {
        "duration": 34,
        "start_time": "2022-10-13T07:04:03.024Z"
      },
      {
        "duration": 27,
        "start_time": "2022-10-13T07:04:03.060Z"
      },
      {
        "duration": 148,
        "start_time": "2022-10-13T07:04:03.089Z"
      },
      {
        "duration": 11,
        "start_time": "2022-10-13T07:04:03.239Z"
      },
      {
        "duration": 16,
        "start_time": "2022-10-13T07:04:03.252Z"
      },
      {
        "duration": 11,
        "start_time": "2022-10-13T07:04:03.270Z"
      },
      {
        "duration": 100,
        "start_time": "2022-10-13T07:04:03.335Z"
      },
      {
        "duration": 0,
        "start_time": "2022-10-13T07:04:03.436Z"
      },
      {
        "duration": 0,
        "start_time": "2022-10-13T07:04:03.438Z"
      },
      {
        "duration": 0,
        "start_time": "2022-10-13T07:04:03.439Z"
      },
      {
        "duration": 0,
        "start_time": "2022-10-13T07:04:03.440Z"
      },
      {
        "duration": 9,
        "start_time": "2022-10-13T07:04:20.580Z"
      },
      {
        "duration": 14,
        "start_time": "2022-10-13T07:04:33.255Z"
      },
      {
        "duration": 3,
        "start_time": "2022-10-13T07:07:58.868Z"
      },
      {
        "duration": 106,
        "start_time": "2022-10-13T07:07:59.542Z"
      },
      {
        "duration": 1400,
        "start_time": "2022-10-13T07:08:09.050Z"
      },
      {
        "duration": 18,
        "start_time": "2022-10-13T07:08:10.452Z"
      },
      {
        "duration": 43,
        "start_time": "2022-10-13T07:08:10.472Z"
      },
      {
        "duration": 363,
        "start_time": "2022-10-13T07:08:10.517Z"
      },
      {
        "duration": 108,
        "start_time": "2022-10-13T07:08:10.882Z"
      },
      {
        "duration": 182,
        "start_time": "2022-10-13T07:08:10.991Z"
      },
      {
        "duration": 207,
        "start_time": "2022-10-13T07:08:11.175Z"
      },
      {
        "duration": 191,
        "start_time": "2022-10-13T07:08:11.384Z"
      },
      {
        "duration": 259,
        "start_time": "2022-10-13T07:08:11.577Z"
      },
      {
        "duration": 4,
        "start_time": "2022-10-13T07:08:11.839Z"
      },
      {
        "duration": 9,
        "start_time": "2022-10-13T07:08:11.845Z"
      },
      {
        "duration": 82,
        "start_time": "2022-10-13T07:08:11.855Z"
      },
      {
        "duration": 102,
        "start_time": "2022-10-13T07:08:11.940Z"
      },
      {
        "duration": 11,
        "start_time": "2022-10-13T07:08:12.044Z"
      },
      {
        "duration": 11,
        "start_time": "2022-10-13T07:08:12.056Z"
      },
      {
        "duration": 10,
        "start_time": "2022-10-13T07:08:12.069Z"
      },
      {
        "duration": 8,
        "start_time": "2022-10-13T07:08:12.134Z"
      },
      {
        "duration": 196,
        "start_time": "2022-10-13T07:08:12.144Z"
      },
      {
        "duration": 14,
        "start_time": "2022-10-13T07:08:12.342Z"
      },
      {
        "duration": 3,
        "start_time": "2022-10-13T07:08:12.358Z"
      },
      {
        "duration": 6,
        "start_time": "2022-10-13T07:08:12.362Z"
      },
      {
        "duration": 67,
        "start_time": "2022-10-13T07:08:12.370Z"
      },
      {
        "duration": 100,
        "start_time": "2022-10-13T07:08:12.439Z"
      },
      {
        "duration": 13,
        "start_time": "2022-10-13T07:08:27.702Z"
      },
      {
        "duration": 3,
        "start_time": "2022-10-13T07:08:47.944Z"
      },
      {
        "duration": 16,
        "start_time": "2022-10-13T07:08:48.623Z"
      },
      {
        "duration": 15,
        "start_time": "2022-10-13T07:08:52.200Z"
      },
      {
        "duration": 16,
        "start_time": "2022-10-13T07:08:54.126Z"
      },
      {
        "duration": 1560,
        "start_time": "2022-10-13T07:09:06.007Z"
      },
      {
        "duration": 19,
        "start_time": "2022-10-13T07:09:07.569Z"
      },
      {
        "duration": 44,
        "start_time": "2022-10-13T07:09:07.589Z"
      },
      {
        "duration": 365,
        "start_time": "2022-10-13T07:09:07.636Z"
      },
      {
        "duration": 100,
        "start_time": "2022-10-13T07:09:08.002Z"
      },
      {
        "duration": 200,
        "start_time": "2022-10-13T07:09:08.104Z"
      },
      {
        "duration": 212,
        "start_time": "2022-10-13T07:09:08.306Z"
      },
      {
        "duration": 180,
        "start_time": "2022-10-13T07:09:08.519Z"
      },
      {
        "duration": 228,
        "start_time": "2022-10-13T07:09:08.701Z"
      },
      {
        "duration": 4,
        "start_time": "2022-10-13T07:09:08.933Z"
      },
      {
        "duration": 8,
        "start_time": "2022-10-13T07:09:08.938Z"
      },
      {
        "duration": 84,
        "start_time": "2022-10-13T07:09:08.948Z"
      },
      {
        "duration": 100,
        "start_time": "2022-10-13T07:09:09.034Z"
      },
      {
        "duration": 33,
        "start_time": "2022-10-13T07:09:09.136Z"
      },
      {
        "duration": 30,
        "start_time": "2022-10-13T07:09:09.171Z"
      },
      {
        "duration": 31,
        "start_time": "2022-10-13T07:09:09.204Z"
      },
      {
        "duration": 101,
        "start_time": "2022-10-13T07:09:09.237Z"
      },
      {
        "duration": 5,
        "start_time": "2022-10-13T07:09:09.341Z"
      },
      {
        "duration": 15,
        "start_time": "2022-10-13T07:09:09.434Z"
      },
      {
        "duration": 5,
        "start_time": "2022-10-13T07:09:09.451Z"
      },
      {
        "duration": 77,
        "start_time": "2022-10-13T07:09:09.458Z"
      },
      {
        "duration": 100,
        "start_time": "2022-10-13T07:09:09.538Z"
      },
      {
        "duration": 115,
        "start_time": "2022-10-13T07:09:09.640Z"
      },
      {
        "duration": 3,
        "start_time": "2022-10-13T07:11:50.114Z"
      },
      {
        "duration": 15,
        "start_time": "2022-10-13T07:11:50.842Z"
      },
      {
        "duration": 3,
        "start_time": "2022-10-13T07:12:48.910Z"
      },
      {
        "duration": 12,
        "start_time": "2022-10-13T07:12:51.326Z"
      },
      {
        "duration": 12,
        "start_time": "2022-10-13T07:12:55.050Z"
      },
      {
        "duration": 3,
        "start_time": "2022-10-13T07:12:57.082Z"
      },
      {
        "duration": 12,
        "start_time": "2022-10-13T07:13:00.298Z"
      },
      {
        "duration": 4,
        "start_time": "2022-10-13T07:13:04.186Z"
      },
      {
        "duration": 14,
        "start_time": "2022-10-13T07:13:04.812Z"
      },
      {
        "duration": 5,
        "start_time": "2022-10-13T07:13:09.378Z"
      },
      {
        "duration": 17,
        "start_time": "2022-10-13T07:13:11.407Z"
      },
      {
        "duration": 4,
        "start_time": "2022-10-13T07:13:31.969Z"
      },
      {
        "duration": 3,
        "start_time": "2022-10-13T07:13:33.843Z"
      },
      {
        "duration": 12,
        "start_time": "2022-10-13T07:13:34.344Z"
      },
      {
        "duration": 1406,
        "start_time": "2022-10-13T07:13:43.940Z"
      },
      {
        "duration": 19,
        "start_time": "2022-10-13T07:13:45.348Z"
      },
      {
        "duration": 46,
        "start_time": "2022-10-13T07:13:45.368Z"
      },
      {
        "duration": 373,
        "start_time": "2022-10-13T07:13:45.417Z"
      },
      {
        "duration": 103,
        "start_time": "2022-10-13T07:13:45.792Z"
      },
      {
        "duration": 199,
        "start_time": "2022-10-13T07:13:45.897Z"
      },
      {
        "duration": 259,
        "start_time": "2022-10-13T07:13:46.097Z"
      },
      {
        "duration": 241,
        "start_time": "2022-10-13T07:13:46.359Z"
      },
      {
        "duration": 222,
        "start_time": "2022-10-13T07:13:46.602Z"
      },
      {
        "duration": 10,
        "start_time": "2022-10-13T07:13:46.826Z"
      },
      {
        "duration": 7,
        "start_time": "2022-10-13T07:13:46.837Z"
      },
      {
        "duration": 88,
        "start_time": "2022-10-13T07:13:46.845Z"
      },
      {
        "duration": 100,
        "start_time": "2022-10-13T07:13:46.935Z"
      },
      {
        "duration": 8,
        "start_time": "2022-10-13T07:13:47.036Z"
      },
      {
        "duration": 10,
        "start_time": "2022-10-13T07:13:47.045Z"
      },
      {
        "duration": 79,
        "start_time": "2022-10-13T07:13:47.058Z"
      },
      {
        "duration": 96,
        "start_time": "2022-10-13T07:13:47.139Z"
      },
      {
        "duration": 103,
        "start_time": "2022-10-13T07:13:47.237Z"
      },
      {
        "duration": 15,
        "start_time": "2022-10-13T07:13:47.342Z"
      },
      {
        "duration": 4,
        "start_time": "2022-10-13T07:13:47.358Z"
      },
      {
        "duration": 14,
        "start_time": "2022-10-13T07:13:47.363Z"
      },
      {
        "duration": 67,
        "start_time": "2022-10-13T07:13:47.378Z"
      },
      {
        "duration": 197,
        "start_time": "2022-10-13T07:13:47.447Z"
      },
      {
        "duration": 3,
        "start_time": "2022-10-13T07:14:14.740Z"
      },
      {
        "duration": 13,
        "start_time": "2022-10-13T07:14:15.417Z"
      },
      {
        "duration": 3,
        "start_time": "2022-10-13T07:15:01.961Z"
      },
      {
        "duration": 16,
        "start_time": "2022-10-13T07:15:02.545Z"
      },
      {
        "duration": 13,
        "start_time": "2022-10-13T07:15:04.641Z"
      },
      {
        "duration": 53,
        "start_time": "2022-10-13T07:15:30.530Z"
      },
      {
        "duration": 5,
        "start_time": "2022-10-13T07:15:46.384Z"
      },
      {
        "duration": 14,
        "start_time": "2022-10-13T07:15:47.141Z"
      },
      {
        "duration": 4,
        "start_time": "2022-10-13T07:16:07.000Z"
      },
      {
        "duration": 21,
        "start_time": "2022-10-13T07:16:21.949Z"
      },
      {
        "duration": 3,
        "start_time": "2022-10-13T07:17:21.355Z"
      },
      {
        "duration": 16,
        "start_time": "2022-10-13T07:17:23.234Z"
      },
      {
        "duration": 1358,
        "start_time": "2022-10-13T07:18:18.892Z"
      },
      {
        "duration": 18,
        "start_time": "2022-10-13T07:18:20.252Z"
      },
      {
        "duration": 41,
        "start_time": "2022-10-13T07:18:20.271Z"
      },
      {
        "duration": 362,
        "start_time": "2022-10-13T07:18:20.315Z"
      },
      {
        "duration": 110,
        "start_time": "2022-10-13T07:18:20.679Z"
      },
      {
        "duration": 180,
        "start_time": "2022-10-13T07:18:20.791Z"
      },
      {
        "duration": 202,
        "start_time": "2022-10-13T07:18:20.973Z"
      },
      {
        "duration": 180,
        "start_time": "2022-10-13T07:18:21.177Z"
      },
      {
        "duration": 208,
        "start_time": "2022-10-13T07:18:21.358Z"
      },
      {
        "duration": 4,
        "start_time": "2022-10-13T07:18:21.568Z"
      },
      {
        "duration": 8,
        "start_time": "2022-10-13T07:18:21.573Z"
      },
      {
        "duration": 54,
        "start_time": "2022-10-13T07:18:21.582Z"
      },
      {
        "duration": 106,
        "start_time": "2022-10-13T07:18:21.637Z"
      },
      {
        "duration": 9,
        "start_time": "2022-10-13T07:18:21.745Z"
      },
      {
        "duration": 15,
        "start_time": "2022-10-13T07:18:21.755Z"
      },
      {
        "duration": 62,
        "start_time": "2022-10-13T07:18:21.772Z"
      },
      {
        "duration": 9,
        "start_time": "2022-10-13T07:18:21.836Z"
      },
      {
        "duration": 88,
        "start_time": "2022-10-13T07:18:21.848Z"
      },
      {
        "duration": 105,
        "start_time": "2022-10-13T07:18:21.938Z"
      },
      {
        "duration": 4,
        "start_time": "2022-10-13T07:18:22.045Z"
      },
      {
        "duration": 14,
        "start_time": "2022-10-13T07:18:22.050Z"
      },
      {
        "duration": 79,
        "start_time": "2022-10-13T07:18:22.065Z"
      },
      {
        "duration": 99,
        "start_time": "2022-10-13T07:18:22.238Z"
      },
      {
        "duration": 1443,
        "start_time": "2022-10-13T07:22:44.612Z"
      },
      {
        "duration": 18,
        "start_time": "2022-10-13T07:22:46.057Z"
      },
      {
        "duration": 46,
        "start_time": "2022-10-13T07:22:46.077Z"
      },
      {
        "duration": 410,
        "start_time": "2022-10-13T07:22:46.125Z"
      },
      {
        "duration": 101,
        "start_time": "2022-10-13T07:22:46.537Z"
      },
      {
        "duration": 174,
        "start_time": "2022-10-13T07:22:46.639Z"
      },
      {
        "duration": 208,
        "start_time": "2022-10-13T07:22:46.815Z"
      },
      {
        "duration": 175,
        "start_time": "2022-10-13T07:22:47.033Z"
      },
      {
        "duration": 225,
        "start_time": "2022-10-13T07:22:47.210Z"
      },
      {
        "duration": 4,
        "start_time": "2022-10-13T07:22:47.438Z"
      },
      {
        "duration": 6,
        "start_time": "2022-10-13T07:22:47.443Z"
      },
      {
        "duration": 82,
        "start_time": "2022-10-13T07:22:47.451Z"
      },
      {
        "duration": 98,
        "start_time": "2022-10-13T07:22:47.536Z"
      },
      {
        "duration": 9,
        "start_time": "2022-10-13T07:22:47.635Z"
      },
      {
        "duration": 9,
        "start_time": "2022-10-13T07:22:47.646Z"
      },
      {
        "duration": 9,
        "start_time": "2022-10-13T07:22:47.657Z"
      },
      {
        "duration": 73,
        "start_time": "2022-10-13T07:22:47.668Z"
      },
      {
        "duration": 191,
        "start_time": "2022-10-13T07:22:47.743Z"
      },
      {
        "duration": 13,
        "start_time": "2022-10-13T07:22:47.936Z"
      },
      {
        "duration": 3,
        "start_time": "2022-10-13T07:22:47.951Z"
      },
      {
        "duration": 16,
        "start_time": "2022-10-13T07:22:47.956Z"
      },
      {
        "duration": 66,
        "start_time": "2022-10-13T07:22:47.973Z"
      },
      {
        "duration": 101,
        "start_time": "2022-10-13T07:22:48.041Z"
      },
      {
        "duration": 1381,
        "start_time": "2022-10-13T07:24:10.895Z"
      },
      {
        "duration": 19,
        "start_time": "2022-10-13T07:24:12.278Z"
      },
      {
        "duration": 45,
        "start_time": "2022-10-13T07:24:12.298Z"
      },
      {
        "duration": 352,
        "start_time": "2022-10-13T07:24:12.345Z"
      },
      {
        "duration": 92,
        "start_time": "2022-10-13T07:24:12.698Z"
      },
      {
        "duration": 171,
        "start_time": "2022-10-13T07:24:12.792Z"
      },
      {
        "duration": 201,
        "start_time": "2022-10-13T07:24:12.964Z"
      },
      {
        "duration": 170,
        "start_time": "2022-10-13T07:24:13.166Z"
      },
      {
        "duration": 212,
        "start_time": "2022-10-13T07:24:13.338Z"
      },
      {
        "duration": 4,
        "start_time": "2022-10-13T07:24:13.552Z"
      },
      {
        "duration": 19,
        "start_time": "2022-10-13T07:24:13.558Z"
      },
      {
        "duration": 57,
        "start_time": "2022-10-13T07:24:13.578Z"
      },
      {
        "duration": 98,
        "start_time": "2022-10-13T07:24:13.637Z"
      },
      {
        "duration": 11,
        "start_time": "2022-10-13T07:24:13.736Z"
      },
      {
        "duration": 19,
        "start_time": "2022-10-13T07:24:13.749Z"
      },
      {
        "duration": 66,
        "start_time": "2022-10-13T07:24:13.770Z"
      },
      {
        "duration": 101,
        "start_time": "2022-10-13T07:24:13.839Z"
      },
      {
        "duration": 91,
        "start_time": "2022-10-13T07:24:13.943Z"
      },
      {
        "duration": 112,
        "start_time": "2022-10-13T07:24:14.037Z"
      },
      {
        "duration": 18,
        "start_time": "2022-10-13T07:24:14.151Z"
      },
      {
        "duration": 30,
        "start_time": "2022-10-13T07:24:14.170Z"
      },
      {
        "duration": 11,
        "start_time": "2022-10-13T07:24:14.235Z"
      },
      {
        "duration": 199,
        "start_time": "2022-10-13T07:24:14.249Z"
      },
      {
        "duration": 1779,
        "start_time": "2022-10-14T03:14:29.552Z"
      },
      {
        "duration": 12,
        "start_time": "2022-10-14T03:14:54.884Z"
      },
      {
        "duration": 1852,
        "start_time": "2022-10-15T05:41:10.948Z"
      },
      {
        "duration": 0,
        "start_time": "2022-10-15T05:41:12.804Z"
      },
      {
        "duration": 0,
        "start_time": "2022-10-15T05:41:12.805Z"
      },
      {
        "duration": 0,
        "start_time": "2022-10-15T05:41:12.807Z"
      },
      {
        "duration": 0,
        "start_time": "2022-10-15T05:41:12.808Z"
      },
      {
        "duration": 0,
        "start_time": "2022-10-15T05:41:12.809Z"
      },
      {
        "duration": 0,
        "start_time": "2022-10-15T05:41:12.810Z"
      },
      {
        "duration": 0,
        "start_time": "2022-10-15T05:41:12.811Z"
      },
      {
        "duration": 0,
        "start_time": "2022-10-15T05:41:12.812Z"
      },
      {
        "duration": 0,
        "start_time": "2022-10-15T05:41:12.812Z"
      },
      {
        "duration": 0,
        "start_time": "2022-10-15T05:41:12.813Z"
      },
      {
        "duration": 1,
        "start_time": "2022-10-15T05:41:12.814Z"
      },
      {
        "duration": 0,
        "start_time": "2022-10-15T05:41:12.815Z"
      },
      {
        "duration": 0,
        "start_time": "2022-10-15T05:41:12.816Z"
      },
      {
        "duration": 0,
        "start_time": "2022-10-15T05:41:12.817Z"
      },
      {
        "duration": 0,
        "start_time": "2022-10-15T05:41:12.818Z"
      },
      {
        "duration": 0,
        "start_time": "2022-10-15T05:41:12.819Z"
      },
      {
        "duration": 0,
        "start_time": "2022-10-15T05:41:12.820Z"
      },
      {
        "duration": 0,
        "start_time": "2022-10-15T05:41:12.821Z"
      },
      {
        "duration": 1,
        "start_time": "2022-10-15T05:41:12.821Z"
      },
      {
        "duration": 0,
        "start_time": "2022-10-15T05:41:12.822Z"
      },
      {
        "duration": 0,
        "start_time": "2022-10-15T05:41:12.824Z"
      },
      {
        "duration": 0,
        "start_time": "2022-10-15T05:41:12.825Z"
      },
      {
        "duration": 4,
        "start_time": "2022-10-15T05:42:59.546Z"
      },
      {
        "duration": 1521,
        "start_time": "2022-10-15T05:43:05.331Z"
      },
      {
        "duration": 67,
        "start_time": "2022-10-15T05:43:06.854Z"
      },
      {
        "duration": 66,
        "start_time": "2022-10-15T05:43:06.924Z"
      },
      {
        "duration": 392,
        "start_time": "2022-10-15T05:43:06.992Z"
      },
      {
        "duration": 139,
        "start_time": "2022-10-15T05:43:07.387Z"
      },
      {
        "duration": 206,
        "start_time": "2022-10-15T05:43:07.528Z"
      },
      {
        "duration": 234,
        "start_time": "2022-10-15T05:43:07.736Z"
      },
      {
        "duration": 197,
        "start_time": "2022-10-15T05:43:07.972Z"
      },
      {
        "duration": 312,
        "start_time": "2022-10-15T05:43:08.171Z"
      },
      {
        "duration": 5,
        "start_time": "2022-10-15T05:43:08.485Z"
      },
      {
        "duration": 11,
        "start_time": "2022-10-15T05:43:08.492Z"
      },
      {
        "duration": 53,
        "start_time": "2022-10-15T05:43:08.505Z"
      },
      {
        "duration": 102,
        "start_time": "2022-10-15T05:43:08.560Z"
      },
      {
        "duration": 15,
        "start_time": "2022-10-15T05:43:08.677Z"
      },
      {
        "duration": 36,
        "start_time": "2022-10-15T05:43:08.694Z"
      },
      {
        "duration": 54,
        "start_time": "2022-10-15T05:43:08.732Z"
      },
      {
        "duration": 268,
        "start_time": "2022-10-15T05:43:08.790Z"
      },
      {
        "duration": 9,
        "start_time": "2022-10-15T05:43:09.061Z"
      },
      {
        "duration": 78,
        "start_time": "2022-10-15T05:43:09.076Z"
      },
      {
        "duration": 9,
        "start_time": "2022-10-15T05:43:09.160Z"
      },
      {
        "duration": 90,
        "start_time": "2022-10-15T05:43:09.171Z"
      },
      {
        "duration": 208,
        "start_time": "2022-10-15T05:43:09.265Z"
      },
      {
        "duration": 92,
        "start_time": "2022-10-15T05:43:09.477Z"
      },
      {
        "duration": 138,
        "start_time": "2022-10-15T05:48:16.656Z"
      },
      {
        "duration": 11,
        "start_time": "2022-10-15T05:48:27.897Z"
      },
      {
        "duration": 10,
        "start_time": "2022-10-15T05:48:45.396Z"
      },
      {
        "duration": 11,
        "start_time": "2022-10-15T05:49:20.505Z"
      },
      {
        "duration": 11,
        "start_time": "2022-10-15T05:49:29.089Z"
      },
      {
        "duration": 5,
        "start_time": "2022-10-15T05:50:30.593Z"
      },
      {
        "duration": 387,
        "start_time": "2022-10-15T05:50:31.342Z"
      },
      {
        "duration": 61,
        "start_time": "2022-10-15T05:54:44.640Z"
      }
    ],
    "kernelspec": {
      "display_name": "Python 3 (ipykernel)",
      "language": "python",
      "name": "python3"
    },
    "language_info": {
      "codemirror_mode": {
        "name": "ipython",
        "version": 3
      },
      "file_extension": ".py",
      "mimetype": "text/x-python",
      "name": "python",
      "nbconvert_exporter": "python",
      "pygments_lexer": "ipython3",
      "version": "3.9.5"
    },
    "toc": {
      "base_numbering": 1,
      "nav_menu": {},
      "number_sections": true,
      "sideBar": true,
      "skip_h1_title": true,
      "title_cell": "Содержание",
      "title_sidebar": "Contents",
      "toc_cell": true,
      "toc_position": {
        "height": "calc(100% - 180px)",
        "left": "10px",
        "top": "150px",
        "width": "285.764px"
      },
      "toc_section_display": true,
      "toc_window_display": true
    },
    "colab": {
      "provenance": []
    }
  },
  "nbformat": 4,
  "nbformat_minor": 0
}