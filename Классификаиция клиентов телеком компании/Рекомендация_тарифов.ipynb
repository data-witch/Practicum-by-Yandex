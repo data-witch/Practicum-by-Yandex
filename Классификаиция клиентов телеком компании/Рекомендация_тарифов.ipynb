{
  "cells": [
    {
      "cell_type": "markdown",
      "metadata": {
        "id": "TSu0WQh201nt"
      },
      "source": [
        "# Рекомендация тарифов"
      ]
    },
    {
      "cell_type": "markdown",
      "metadata": {
        "id": "dp3zMkuE01nz"
      },
      "source": [
        "**Описание проекта**\n",
        "\n",
        "Оператор мобильной связи «Мегалайн» выяснил: многие клиенты пользуются архивными тарифами. Они хотят построить систему, способную проанализировать поведение клиентов и предложить пользователям новый тариф: «Смарт» или «Ультра».\n",
        "\n",
        "В распоряжении данные о поведении клиентов, которые уже перешли на эти тарифы. Нужно построить модель для задачи классификации, которая выберет подходящий тариф.\n",
        "\n",
        "**Описание данных**\n",
        "\n",
        "Каждый объект в наборе данных — это информация о поведении одного пользователя за месяц. Известно:\n",
        "\n",
        "* сalls — количество звонков,\n",
        "* minutes — суммарная длительность звонков в минутах,\n",
        "* messages — количество sms-сообщений,\n",
        "* mb_used — израсходованный интернет-трафик в Мб,\n",
        "* is_ultra — каким тарифом пользовался в течение месяца («Ультра» — 1, «Смарт» — 0).\n",
        "\n",
        "**Цель проекта:**\n",
        "\n",
        "Построить модель с максимально большим значением accuracy, довести долю правильных ответов минимум до 0.75. Проверить accuracy на тестовой выборке."
      ]
    },
    {
      "cell_type": "markdown",
      "metadata": {
        "id": "YbkhIVCZ01n1"
      },
      "source": [
        "## Открыть и изучить файл"
      ]
    },
    {
      "cell_type": "markdown",
      "metadata": {
        "id": "T_GVJTqSoPPI"
      },
      "source": [
        "Импортируем все необходимые библиотеки и структуры данных"
      ]
    },
    {
      "cell_type": "code",
      "execution_count": 1,
      "metadata": {
        "colab": {
          "base_uri": "https://localhost:8080/"
        },
        "id": "eHW9qhObRqdI",
        "outputId": "a196d707-e1ad-4df4-d88d-cfdddadfc25b"
      },
      "outputs": [
        {
          "output_type": "stream",
          "name": "stdout",
          "text": [
            "Looking in indexes: https://pypi.org/simple, https://us-python.pkg.dev/colab-wheels/public/simple/\n",
            "Collecting fast_ml\n",
            "  Downloading fast_ml-3.68-py3-none-any.whl (42 kB)\n",
            "\u001b[2K     \u001b[90m━━━━━━━━━━━━━━━━━━━━━━━━━━━━━━━━━━━━━━━━\u001b[0m \u001b[32m42.1/42.1 KB\u001b[0m \u001b[31m1.6 MB/s\u001b[0m eta \u001b[36m0:00:00\u001b[0m\n",
            "\u001b[?25hInstalling collected packages: fast_ml\n",
            "Successfully installed fast_ml-3.68\n"
          ]
        }
      ],
      "source": [
        "!pip install -U fast_ml"
      ]
    },
    {
      "cell_type": "code",
      "execution_count": 2,
      "metadata": {
        "id": "XKWeOoPX01n2"
      },
      "outputs": [],
      "source": [
        "import pandas as pd\n",
        "from fast_ml.model_development import train_valid_test_split\n",
        "from sklearn.tree import DecisionTreeClassifier\n",
        "from sklearn.ensemble import RandomForestClassifier\n",
        "from sklearn.linear_model import LogisticRegression\n",
        "from sklearn.metrics import accuracy_score"
      ]
    },
    {
      "cell_type": "code",
      "execution_count": 3,
      "metadata": {
        "colab": {
          "base_uri": "https://localhost:8080/"
        },
        "id": "vKQU896y1bVw",
        "outputId": "f07cf86b-7a66-4f0a-ce9f-e59253d280af"
      },
      "outputs": [
        {
          "output_type": "stream",
          "name": "stdout",
          "text": [
            "--2023-02-28 08:07:48--  https://code.s3.yandex.net/datasets/users_behavior.csv\n",
            "Resolving code.s3.yandex.net (code.s3.yandex.net)... 93.158.134.158, 2a02:6b8::2:158\n",
            "Connecting to code.s3.yandex.net (code.s3.yandex.net)|93.158.134.158|:443... connected.\n",
            "HTTP request sent, awaiting response... 200 OK\n",
            "Length: 134358 (131K) [application/octet-stream]\n",
            "Saving to: ‘users_behavior.csv’\n",
            "\n",
            "users_behavior.csv  100%[===================>] 131.21K   316KB/s    in 0.4s    \n",
            "\n",
            "2023-02-28 08:07:49 (316 KB/s) - ‘users_behavior.csv’ saved [134358/134358]\n",
            "\n"
          ]
        }
      ],
      "source": [
        "!wget https://code.s3.yandex.net/datasets/users_behavior.csv"
      ]
    },
    {
      "cell_type": "code",
      "execution_count": 4,
      "metadata": {
        "id": "brR6g5wv07Qb"
      },
      "outputs": [],
      "source": [
        "users_behavior = pd.read_csv(\"users_behavior.csv\")"
      ]
    },
    {
      "cell_type": "code",
      "execution_count": 5,
      "metadata": {
        "colab": {
          "base_uri": "https://localhost:8080/",
          "height": 206
        },
        "id": "m_K39tA_01n7",
        "outputId": "ae0f8b5c-1d7a-4835-e34e-ba3cd01640aa"
      },
      "outputs": [
        {
          "output_type": "execute_result",
          "data": {
            "text/plain": [
              "   calls  minutes  messages   mb_used  is_ultra\n",
              "0   40.0   311.90      83.0  19915.42         0\n",
              "1   85.0   516.75      56.0  22696.96         0\n",
              "2   77.0   467.66      86.0  21060.45         0\n",
              "3  106.0   745.53      81.0   8437.39         1\n",
              "4   66.0   418.74       1.0  14502.75         0"
            ],
            "text/html": [
              "\n",
              "  <div id=\"df-1d7f18c7-89b3-4f78-a768-842060103a6a\">\n",
              "    <div class=\"colab-df-container\">\n",
              "      <div>\n",
              "<style scoped>\n",
              "    .dataframe tbody tr th:only-of-type {\n",
              "        vertical-align: middle;\n",
              "    }\n",
              "\n",
              "    .dataframe tbody tr th {\n",
              "        vertical-align: top;\n",
              "    }\n",
              "\n",
              "    .dataframe thead th {\n",
              "        text-align: right;\n",
              "    }\n",
              "</style>\n",
              "<table border=\"1\" class=\"dataframe\">\n",
              "  <thead>\n",
              "    <tr style=\"text-align: right;\">\n",
              "      <th></th>\n",
              "      <th>calls</th>\n",
              "      <th>minutes</th>\n",
              "      <th>messages</th>\n",
              "      <th>mb_used</th>\n",
              "      <th>is_ultra</th>\n",
              "    </tr>\n",
              "  </thead>\n",
              "  <tbody>\n",
              "    <tr>\n",
              "      <th>0</th>\n",
              "      <td>40.0</td>\n",
              "      <td>311.90</td>\n",
              "      <td>83.0</td>\n",
              "      <td>19915.42</td>\n",
              "      <td>0</td>\n",
              "    </tr>\n",
              "    <tr>\n",
              "      <th>1</th>\n",
              "      <td>85.0</td>\n",
              "      <td>516.75</td>\n",
              "      <td>56.0</td>\n",
              "      <td>22696.96</td>\n",
              "      <td>0</td>\n",
              "    </tr>\n",
              "    <tr>\n",
              "      <th>2</th>\n",
              "      <td>77.0</td>\n",
              "      <td>467.66</td>\n",
              "      <td>86.0</td>\n",
              "      <td>21060.45</td>\n",
              "      <td>0</td>\n",
              "    </tr>\n",
              "    <tr>\n",
              "      <th>3</th>\n",
              "      <td>106.0</td>\n",
              "      <td>745.53</td>\n",
              "      <td>81.0</td>\n",
              "      <td>8437.39</td>\n",
              "      <td>1</td>\n",
              "    </tr>\n",
              "    <tr>\n",
              "      <th>4</th>\n",
              "      <td>66.0</td>\n",
              "      <td>418.74</td>\n",
              "      <td>1.0</td>\n",
              "      <td>14502.75</td>\n",
              "      <td>0</td>\n",
              "    </tr>\n",
              "  </tbody>\n",
              "</table>\n",
              "</div>\n",
              "      <button class=\"colab-df-convert\" onclick=\"convertToInteractive('df-1d7f18c7-89b3-4f78-a768-842060103a6a')\"\n",
              "              title=\"Convert this dataframe to an interactive table.\"\n",
              "              style=\"display:none;\">\n",
              "        \n",
              "  <svg xmlns=\"http://www.w3.org/2000/svg\" height=\"24px\"viewBox=\"0 0 24 24\"\n",
              "       width=\"24px\">\n",
              "    <path d=\"M0 0h24v24H0V0z\" fill=\"none\"/>\n",
              "    <path d=\"M18.56 5.44l.94 2.06.94-2.06 2.06-.94-2.06-.94-.94-2.06-.94 2.06-2.06.94zm-11 1L8.5 8.5l.94-2.06 2.06-.94-2.06-.94L8.5 2.5l-.94 2.06-2.06.94zm10 10l.94 2.06.94-2.06 2.06-.94-2.06-.94-.94-2.06-.94 2.06-2.06.94z\"/><path d=\"M17.41 7.96l-1.37-1.37c-.4-.4-.92-.59-1.43-.59-.52 0-1.04.2-1.43.59L10.3 9.45l-7.72 7.72c-.78.78-.78 2.05 0 2.83L4 21.41c.39.39.9.59 1.41.59.51 0 1.02-.2 1.41-.59l7.78-7.78 2.81-2.81c.8-.78.8-2.07 0-2.86zM5.41 20L4 18.59l7.72-7.72 1.47 1.35L5.41 20z\"/>\n",
              "  </svg>\n",
              "      </button>\n",
              "      \n",
              "  <style>\n",
              "    .colab-df-container {\n",
              "      display:flex;\n",
              "      flex-wrap:wrap;\n",
              "      gap: 12px;\n",
              "    }\n",
              "\n",
              "    .colab-df-convert {\n",
              "      background-color: #E8F0FE;\n",
              "      border: none;\n",
              "      border-radius: 50%;\n",
              "      cursor: pointer;\n",
              "      display: none;\n",
              "      fill: #1967D2;\n",
              "      height: 32px;\n",
              "      padding: 0 0 0 0;\n",
              "      width: 32px;\n",
              "    }\n",
              "\n",
              "    .colab-df-convert:hover {\n",
              "      background-color: #E2EBFA;\n",
              "      box-shadow: 0px 1px 2px rgba(60, 64, 67, 0.3), 0px 1px 3px 1px rgba(60, 64, 67, 0.15);\n",
              "      fill: #174EA6;\n",
              "    }\n",
              "\n",
              "    [theme=dark] .colab-df-convert {\n",
              "      background-color: #3B4455;\n",
              "      fill: #D2E3FC;\n",
              "    }\n",
              "\n",
              "    [theme=dark] .colab-df-convert:hover {\n",
              "      background-color: #434B5C;\n",
              "      box-shadow: 0px 1px 3px 1px rgba(0, 0, 0, 0.15);\n",
              "      filter: drop-shadow(0px 1px 2px rgba(0, 0, 0, 0.3));\n",
              "      fill: #FFFFFF;\n",
              "    }\n",
              "  </style>\n",
              "\n",
              "      <script>\n",
              "        const buttonEl =\n",
              "          document.querySelector('#df-1d7f18c7-89b3-4f78-a768-842060103a6a button.colab-df-convert');\n",
              "        buttonEl.style.display =\n",
              "          google.colab.kernel.accessAllowed ? 'block' : 'none';\n",
              "\n",
              "        async function convertToInteractive(key) {\n",
              "          const element = document.querySelector('#df-1d7f18c7-89b3-4f78-a768-842060103a6a');\n",
              "          const dataTable =\n",
              "            await google.colab.kernel.invokeFunction('convertToInteractive',\n",
              "                                                     [key], {});\n",
              "          if (!dataTable) return;\n",
              "\n",
              "          const docLinkHtml = 'Like what you see? Visit the ' +\n",
              "            '<a target=\"_blank\" href=https://colab.research.google.com/notebooks/data_table.ipynb>data table notebook</a>'\n",
              "            + ' to learn more about interactive tables.';\n",
              "          element.innerHTML = '';\n",
              "          dataTable['output_type'] = 'display_data';\n",
              "          await google.colab.output.renderOutput(dataTable, element);\n",
              "          const docLink = document.createElement('div');\n",
              "          docLink.innerHTML = docLinkHtml;\n",
              "          element.appendChild(docLink);\n",
              "        }\n",
              "      </script>\n",
              "    </div>\n",
              "  </div>\n",
              "  "
            ]
          },
          "metadata": {},
          "execution_count": 5
        }
      ],
      "source": [
        "users_behavior.head()"
      ]
    },
    {
      "cell_type": "code",
      "execution_count": 6,
      "metadata": {
        "colab": {
          "base_uri": "https://localhost:8080/"
        },
        "id": "wp8JhgCR01n_",
        "outputId": "99199976-d5d6-4a00-95f4-05c5b9df9ed0"
      },
      "outputs": [
        {
          "output_type": "stream",
          "name": "stdout",
          "text": [
            "<class 'pandas.core.frame.DataFrame'>\n",
            "RangeIndex: 3214 entries, 0 to 3213\n",
            "Data columns (total 5 columns):\n",
            " #   Column    Non-Null Count  Dtype  \n",
            "---  ------    --------------  -----  \n",
            " 0   calls     3214 non-null   float64\n",
            " 1   minutes   3214 non-null   float64\n",
            " 2   messages  3214 non-null   float64\n",
            " 3   mb_used   3214 non-null   float64\n",
            " 4   is_ultra  3214 non-null   int64  \n",
            "dtypes: float64(4), int64(1)\n",
            "memory usage: 125.7 KB\n"
          ]
        }
      ],
      "source": [
        "users_behavior.info()"
      ]
    },
    {
      "cell_type": "code",
      "execution_count": 7,
      "metadata": {
        "id": "ftEkr8G901oA"
      },
      "outputs": [],
      "source": [
        "users_behavior['messages']=users_behavior['messages'].astype(\"int\")"
      ]
    },
    {
      "cell_type": "code",
      "execution_count": 8,
      "metadata": {
        "colab": {
          "base_uri": "https://localhost:8080/"
        },
        "id": "tTM94L4c01oB",
        "outputId": "4918abbd-88eb-4f73-8361-ce896186948d"
      },
      "outputs": [
        {
          "output_type": "execute_result",
          "data": {
            "text/plain": [
              "0"
            ]
          },
          "metadata": {},
          "execution_count": 8
        }
      ],
      "source": [
        "users_behavior.duplicated().sum()"
      ]
    },
    {
      "cell_type": "code",
      "execution_count": 9,
      "metadata": {
        "colab": {
          "base_uri": "https://localhost:8080/"
        },
        "id": "8unV4Qcx01oC",
        "outputId": "62f0e108-7a24-4729-9ab9-edcadea68981"
      },
      "outputs": [
        {
          "output_type": "execute_result",
          "data": {
            "text/plain": [
              "Index(['calls', 'minutes', 'messages', 'mb_used', 'is_ultra'], dtype='object')"
            ]
          },
          "metadata": {},
          "execution_count": 9
        }
      ],
      "source": [
        "users_behavior.columns"
      ]
    },
    {
      "cell_type": "code",
      "execution_count": 10,
      "metadata": {
        "colab": {
          "base_uri": "https://localhost:8080/",
          "height": 300
        },
        "id": "bYCbJ-E501oE",
        "outputId": "27aa3bd1-7335-4fb4-a416-750524c39d49"
      },
      "outputs": [
        {
          "output_type": "execute_result",
          "data": {
            "text/plain": [
              "             calls      minutes     messages       mb_used     is_ultra\n",
              "count  3214.000000  3214.000000  3214.000000   3214.000000  3214.000000\n",
              "mean     63.038892   438.208787    38.281269  17207.673836     0.306472\n",
              "std      33.236368   234.569872    36.148326   7570.968246     0.461100\n",
              "min       0.000000     0.000000     0.000000      0.000000     0.000000\n",
              "25%      40.000000   274.575000     9.000000  12491.902500     0.000000\n",
              "50%      62.000000   430.600000    30.000000  16943.235000     0.000000\n",
              "75%      82.000000   571.927500    57.000000  21424.700000     1.000000\n",
              "max     244.000000  1632.060000   224.000000  49745.730000     1.000000"
            ],
            "text/html": [
              "\n",
              "  <div id=\"df-634b37fe-6786-410f-9cad-f0cd77ef2270\">\n",
              "    <div class=\"colab-df-container\">\n",
              "      <div>\n",
              "<style scoped>\n",
              "    .dataframe tbody tr th:only-of-type {\n",
              "        vertical-align: middle;\n",
              "    }\n",
              "\n",
              "    .dataframe tbody tr th {\n",
              "        vertical-align: top;\n",
              "    }\n",
              "\n",
              "    .dataframe thead th {\n",
              "        text-align: right;\n",
              "    }\n",
              "</style>\n",
              "<table border=\"1\" class=\"dataframe\">\n",
              "  <thead>\n",
              "    <tr style=\"text-align: right;\">\n",
              "      <th></th>\n",
              "      <th>calls</th>\n",
              "      <th>minutes</th>\n",
              "      <th>messages</th>\n",
              "      <th>mb_used</th>\n",
              "      <th>is_ultra</th>\n",
              "    </tr>\n",
              "  </thead>\n",
              "  <tbody>\n",
              "    <tr>\n",
              "      <th>count</th>\n",
              "      <td>3214.000000</td>\n",
              "      <td>3214.000000</td>\n",
              "      <td>3214.000000</td>\n",
              "      <td>3214.000000</td>\n",
              "      <td>3214.000000</td>\n",
              "    </tr>\n",
              "    <tr>\n",
              "      <th>mean</th>\n",
              "      <td>63.038892</td>\n",
              "      <td>438.208787</td>\n",
              "      <td>38.281269</td>\n",
              "      <td>17207.673836</td>\n",
              "      <td>0.306472</td>\n",
              "    </tr>\n",
              "    <tr>\n",
              "      <th>std</th>\n",
              "      <td>33.236368</td>\n",
              "      <td>234.569872</td>\n",
              "      <td>36.148326</td>\n",
              "      <td>7570.968246</td>\n",
              "      <td>0.461100</td>\n",
              "    </tr>\n",
              "    <tr>\n",
              "      <th>min</th>\n",
              "      <td>0.000000</td>\n",
              "      <td>0.000000</td>\n",
              "      <td>0.000000</td>\n",
              "      <td>0.000000</td>\n",
              "      <td>0.000000</td>\n",
              "    </tr>\n",
              "    <tr>\n",
              "      <th>25%</th>\n",
              "      <td>40.000000</td>\n",
              "      <td>274.575000</td>\n",
              "      <td>9.000000</td>\n",
              "      <td>12491.902500</td>\n",
              "      <td>0.000000</td>\n",
              "    </tr>\n",
              "    <tr>\n",
              "      <th>50%</th>\n",
              "      <td>62.000000</td>\n",
              "      <td>430.600000</td>\n",
              "      <td>30.000000</td>\n",
              "      <td>16943.235000</td>\n",
              "      <td>0.000000</td>\n",
              "    </tr>\n",
              "    <tr>\n",
              "      <th>75%</th>\n",
              "      <td>82.000000</td>\n",
              "      <td>571.927500</td>\n",
              "      <td>57.000000</td>\n",
              "      <td>21424.700000</td>\n",
              "      <td>1.000000</td>\n",
              "    </tr>\n",
              "    <tr>\n",
              "      <th>max</th>\n",
              "      <td>244.000000</td>\n",
              "      <td>1632.060000</td>\n",
              "      <td>224.000000</td>\n",
              "      <td>49745.730000</td>\n",
              "      <td>1.000000</td>\n",
              "    </tr>\n",
              "  </tbody>\n",
              "</table>\n",
              "</div>\n",
              "      <button class=\"colab-df-convert\" onclick=\"convertToInteractive('df-634b37fe-6786-410f-9cad-f0cd77ef2270')\"\n",
              "              title=\"Convert this dataframe to an interactive table.\"\n",
              "              style=\"display:none;\">\n",
              "        \n",
              "  <svg xmlns=\"http://www.w3.org/2000/svg\" height=\"24px\"viewBox=\"0 0 24 24\"\n",
              "       width=\"24px\">\n",
              "    <path d=\"M0 0h24v24H0V0z\" fill=\"none\"/>\n",
              "    <path d=\"M18.56 5.44l.94 2.06.94-2.06 2.06-.94-2.06-.94-.94-2.06-.94 2.06-2.06.94zm-11 1L8.5 8.5l.94-2.06 2.06-.94-2.06-.94L8.5 2.5l-.94 2.06-2.06.94zm10 10l.94 2.06.94-2.06 2.06-.94-2.06-.94-.94-2.06-.94 2.06-2.06.94z\"/><path d=\"M17.41 7.96l-1.37-1.37c-.4-.4-.92-.59-1.43-.59-.52 0-1.04.2-1.43.59L10.3 9.45l-7.72 7.72c-.78.78-.78 2.05 0 2.83L4 21.41c.39.39.9.59 1.41.59.51 0 1.02-.2 1.41-.59l7.78-7.78 2.81-2.81c.8-.78.8-2.07 0-2.86zM5.41 20L4 18.59l7.72-7.72 1.47 1.35L5.41 20z\"/>\n",
              "  </svg>\n",
              "      </button>\n",
              "      \n",
              "  <style>\n",
              "    .colab-df-container {\n",
              "      display:flex;\n",
              "      flex-wrap:wrap;\n",
              "      gap: 12px;\n",
              "    }\n",
              "\n",
              "    .colab-df-convert {\n",
              "      background-color: #E8F0FE;\n",
              "      border: none;\n",
              "      border-radius: 50%;\n",
              "      cursor: pointer;\n",
              "      display: none;\n",
              "      fill: #1967D2;\n",
              "      height: 32px;\n",
              "      padding: 0 0 0 0;\n",
              "      width: 32px;\n",
              "    }\n",
              "\n",
              "    .colab-df-convert:hover {\n",
              "      background-color: #E2EBFA;\n",
              "      box-shadow: 0px 1px 2px rgba(60, 64, 67, 0.3), 0px 1px 3px 1px rgba(60, 64, 67, 0.15);\n",
              "      fill: #174EA6;\n",
              "    }\n",
              "\n",
              "    [theme=dark] .colab-df-convert {\n",
              "      background-color: #3B4455;\n",
              "      fill: #D2E3FC;\n",
              "    }\n",
              "\n",
              "    [theme=dark] .colab-df-convert:hover {\n",
              "      background-color: #434B5C;\n",
              "      box-shadow: 0px 1px 3px 1px rgba(0, 0, 0, 0.15);\n",
              "      filter: drop-shadow(0px 1px 2px rgba(0, 0, 0, 0.3));\n",
              "      fill: #FFFFFF;\n",
              "    }\n",
              "  </style>\n",
              "\n",
              "      <script>\n",
              "        const buttonEl =\n",
              "          document.querySelector('#df-634b37fe-6786-410f-9cad-f0cd77ef2270 button.colab-df-convert');\n",
              "        buttonEl.style.display =\n",
              "          google.colab.kernel.accessAllowed ? 'block' : 'none';\n",
              "\n",
              "        async function convertToInteractive(key) {\n",
              "          const element = document.querySelector('#df-634b37fe-6786-410f-9cad-f0cd77ef2270');\n",
              "          const dataTable =\n",
              "            await google.colab.kernel.invokeFunction('convertToInteractive',\n",
              "                                                     [key], {});\n",
              "          if (!dataTable) return;\n",
              "\n",
              "          const docLinkHtml = 'Like what you see? Visit the ' +\n",
              "            '<a target=\"_blank\" href=https://colab.research.google.com/notebooks/data_table.ipynb>data table notebook</a>'\n",
              "            + ' to learn more about interactive tables.';\n",
              "          element.innerHTML = '';\n",
              "          dataTable['output_type'] = 'display_data';\n",
              "          await google.colab.output.renderOutput(dataTable, element);\n",
              "          const docLink = document.createElement('div');\n",
              "          docLink.innerHTML = docLinkHtml;\n",
              "          element.appendChild(docLink);\n",
              "        }\n",
              "      </script>\n",
              "    </div>\n",
              "  </div>\n",
              "  "
            ]
          },
          "metadata": {},
          "execution_count": 10
        }
      ],
      "source": [
        "users_behavior.describe()"
      ]
    },
    {
      "cell_type": "markdown",
      "metadata": {
        "id": "K9DCvypnot7w"
      },
      "source": [
        "# **Вывод**\n",
        "\n",
        "1. Перед нами DataFrame с 5 колонками и 3214 строчками\n",
        "2. Преобразовали тип данных в столбце 'messages' в 'Int'\n",
        "3. С регистром все в порядке \n",
        "4. Дубликатов в DataFrame нет"
      ]
    },
    {
      "cell_type": "markdown",
      "metadata": {
        "id": "Lw2zVUMH01oF"
      },
      "source": [
        "## Разбить данные на выборки"
      ]
    },
    {
      "cell_type": "markdown",
      "metadata": {
        "id": "fpX5qzo-rXBt"
      },
      "source": [
        "Разделим исходные данные на обучающую, валидационную и тестовую выборки."
      ]
    },
    {
      "cell_type": "code",
      "execution_count": 11,
      "metadata": {
        "id": "XQ-qee6qbjKR"
      },
      "outputs": [],
      "source": [
        "features_train, target_train, features_valid, target_valid, features_test, target_test = train_valid_test_split(\n",
        "    users_behavior, target='is_ultra', train_size=0.60, valid_size=0.2, test_size=0.2)"
      ]
    },
    {
      "cell_type": "code",
      "execution_count": 12,
      "metadata": {
        "colab": {
          "base_uri": "https://localhost:8080/"
        },
        "id": "UreWBzjpRqdV",
        "outputId": "7d554c36-c342-408f-84d0-fce11f59244a"
      },
      "outputs": [
        {
          "output_type": "execute_result",
          "data": {
            "text/plain": [
              "(1928, 4)"
            ]
          },
          "metadata": {},
          "execution_count": 12
        }
      ],
      "source": [
        "features_train.shape"
      ]
    },
    {
      "cell_type": "code",
      "execution_count": 13,
      "metadata": {
        "colab": {
          "base_uri": "https://localhost:8080/"
        },
        "id": "FtWD-LubRqdV",
        "outputId": "0427c2b8-3757-4ce1-d4ab-1b92d792df97"
      },
      "outputs": [
        {
          "output_type": "execute_result",
          "data": {
            "text/plain": [
              "(1928,)"
            ]
          },
          "metadata": {},
          "execution_count": 13
        }
      ],
      "source": [
        "target_train.shape"
      ]
    },
    {
      "cell_type": "code",
      "execution_count": 14,
      "metadata": {
        "colab": {
          "base_uri": "https://localhost:8080/"
        },
        "id": "l6qjraJlRqdW",
        "outputId": "8fcc71b9-d0a2-4e91-b769-44111ce40d31"
      },
      "outputs": [
        {
          "output_type": "execute_result",
          "data": {
            "text/plain": [
              "(643, 4)"
            ]
          },
          "metadata": {},
          "execution_count": 14
        }
      ],
      "source": [
        "features_valid.shape"
      ]
    },
    {
      "cell_type": "code",
      "execution_count": 15,
      "metadata": {
        "colab": {
          "base_uri": "https://localhost:8080/"
        },
        "id": "r8vcEP-8RqdX",
        "outputId": "bbd9380b-d098-4a98-d452-fa53abc36b81"
      },
      "outputs": [
        {
          "output_type": "execute_result",
          "data": {
            "text/plain": [
              "(643,)"
            ]
          },
          "metadata": {},
          "execution_count": 15
        }
      ],
      "source": [
        "target_valid.shape"
      ]
    },
    {
      "cell_type": "code",
      "execution_count": 16,
      "metadata": {
        "colab": {
          "base_uri": "https://localhost:8080/"
        },
        "id": "-1M4ZHh-RqdX",
        "outputId": "c7e159f8-fa35-4f57-ec2e-dc1c0d2ff880"
      },
      "outputs": [
        {
          "output_type": "execute_result",
          "data": {
            "text/plain": [
              "(643, 4)"
            ]
          },
          "metadata": {},
          "execution_count": 16
        }
      ],
      "source": [
        "features_test.shape"
      ]
    },
    {
      "cell_type": "code",
      "execution_count": 17,
      "metadata": {
        "colab": {
          "base_uri": "https://localhost:8080/"
        },
        "id": "-n9ILP5sRqdX",
        "outputId": "f632e642-bc05-4dd2-cc7b-6fe6adf0b799"
      },
      "outputs": [
        {
          "output_type": "execute_result",
          "data": {
            "text/plain": [
              "(643,)"
            ]
          },
          "metadata": {},
          "execution_count": 17
        }
      ],
      "source": [
        "target_test.shape"
      ]
    },
    {
      "cell_type": "markdown",
      "metadata": {
        "id": "hrv1WhCM01oI"
      },
      "source": [
        "## Исследовать модели"
      ]
    },
    {
      "cell_type": "markdown",
      "metadata": {
        "id": "jGzHr4twpsK0"
      },
      "source": [
        "Исследуем качество разных моделей, изменяя гиперпараметры. \n",
        "\n",
        "Начнем с исследования модели Random Forest."
      ]
    },
    {
      "cell_type": "markdown",
      "metadata": {
        "id": "TG4ZTD7T6_MD"
      },
      "source": [
        "### Random Forest"
      ]
    },
    {
      "cell_type": "code",
      "execution_count": 18,
      "metadata": {
        "id": "RPYeHF6j7Ezn"
      },
      "outputs": [],
      "source": [
        "best_model_random_forest = None\n",
        "best_accuracy_random_forest = 0\n",
        "best_est_random_forest = 0\n",
        "best_depth_random_forest = 0\n",
        "for est in range(2,51,10):\n",
        "    for depth in range(2,50):\n",
        "        model_RF = RandomForestClassifier(random_state = 123456, n_estimators = est, max_depth = depth, n_jobs=-1)\n",
        "        model_RF.fit(features_train,target_train)\n",
        "        prediction_valid_random_forest = model_RF.predict(features_valid)\n",
        "        accuracy_random_forest = accuracy_score(target_valid, prediction_valid_random_forest)\n",
        "        if best_accuracy_random_forest < accuracy_random_forest:\n",
        "            best_model_random_forest = model_RF\n",
        "            best_depth_random_forest = depth\n",
        "            best_est_random_forest = est\n",
        "            best_accuracy_random_forest = accuracy_random_forest"
      ]
    },
    {
      "cell_type": "code",
      "execution_count": 19,
      "metadata": {
        "colab": {
          "base_uri": "https://localhost:8080/"
        },
        "id": "lx-yMhHRnnPR",
        "outputId": "c1afb55d-2c97-44d3-c558-ef1d7c313bd3"
      },
      "outputs": [
        {
          "output_type": "stream",
          "name": "stdout",
          "text": [
            "Accuracy Random Forest: 0.8040435458786936 количество деревьев 22 глубина дерева 8\n"
          ]
        }
      ],
      "source": [
        "print(\"Accuracy Random Forest:\", best_accuracy_random_forest, \"количество деревьев\", best_est_random_forest, \"глубина дерева\", best_depth_random_forest )"
      ]
    },
    {
      "cell_type": "markdown",
      "metadata": {
        "id": "8c17i96OpzoN"
      },
      "source": [
        "Исследуем модель Decision Tree"
      ]
    },
    {
      "cell_type": "code",
      "execution_count": 20,
      "metadata": {
        "id": "36f2a_gNKbF5"
      },
      "outputs": [],
      "source": [
        "best_decision_tree = None\n",
        "best_accuracy_decision_tree = 0\n",
        "best_depth_decision_tree = 0\n",
        "for depth in range(2,51):\n",
        "    model_DF = DecisionTreeClassifier(random_state = 12345, max_depth = depth)\n",
        "    model_DF.fit(features_train,target_train)\n",
        "    prediction_valid_decision_tree = model_DF.predict(features_valid)\n",
        "    accuracy_decision_tree = accuracy_score(prediction_valid_decision_tree, target_valid)\n",
        "    if best_accuracy_decision_tree < accuracy_decision_tree:\n",
        "        best_decision_tree = model_DF\n",
        "        best_accuracy_decision_tree = accuracy_decision_tree\n",
        "        best_depth_decision_tree = depth"
      ]
    },
    {
      "cell_type": "code",
      "execution_count": 21,
      "metadata": {
        "colab": {
          "base_uri": "https://localhost:8080/"
        },
        "id": "BMmvuGuNOqZo",
        "outputId": "ae609bdc-cf8b-45db-ae58-4a31071b17bc"
      },
      "outputs": [
        {
          "output_type": "stream",
          "name": "stdout",
          "text": [
            "Accuracy Decision Tree 0.7962674961119751 глубина дерева: 9\n"
          ]
        }
      ],
      "source": [
        "print(\"Accuracy Decision Tree\", best_accuracy_decision_tree, \"глубина дерева:\", best_depth_decision_tree )"
      ]
    },
    {
      "cell_type": "markdown",
      "metadata": {
        "id": "7g4HMHL8p4hx"
      },
      "source": [
        "Исследуем модель Logistic Regression"
      ]
    },
    {
      "cell_type": "code",
      "execution_count": 22,
      "metadata": {
        "id": "BHRTYWyKLGHR"
      },
      "outputs": [],
      "source": [
        "model_logistic_regression = LogisticRegression(random_state=12345, solver='lbfgs', max_iter=1000)\n",
        "model_logistic_regression.fit(features_train, target_train)\n",
        "prediction_valid_logistic_regression = model_logistic_regression.predict(features_valid)\n",
        "accuracy_logistic_regression = accuracy_score(prediction_valid_logistic_regression, target_valid)"
      ]
    },
    {
      "cell_type": "code",
      "execution_count": 23,
      "metadata": {
        "colab": {
          "base_uri": "https://localhost:8080/"
        },
        "id": "SRuzrfI-O1QA",
        "outputId": "6491dbdf-7d81-41ed-cf4b-459adc0c71d5"
      },
      "outputs": [
        {
          "output_type": "stream",
          "name": "stdout",
          "text": [
            "Accuracy Logistic Regression: 0.749611197511664\n"
          ]
        }
      ],
      "source": [
        "print(\"Accuracy Logistic Regression:\", accuracy_logistic_regression)"
      ]
    },
    {
      "cell_type": "markdown",
      "metadata": {
        "id": "uLmX7_ESp8IS"
      },
      "source": [
        "# **Вывод**\n",
        "\n",
        "Наиболее высокий результат предсказаний делает модель Random Forest, это видно по accuracy на валидационной выборке."
      ]
    },
    {
      "cell_type": "markdown",
      "metadata": {
        "id": "4Xp8wDav01oK"
      },
      "source": [
        "## Проверить модель на тестовой выборке"
      ]
    },
    {
      "cell_type": "markdown",
      "metadata": {
        "id": "TwdJgc-WqTlC"
      },
      "source": [
        "Проверим модель на тестовой выборке."
      ]
    },
    {
      "cell_type": "code",
      "execution_count": 24,
      "metadata": {
        "colab": {
          "base_uri": "https://localhost:8080/"
        },
        "id": "mX35V9vYP6Lu",
        "outputId": "41be3d3c-28ac-4646-d6b6-1c166916876d"
      },
      "outputs": [
        {
          "output_type": "stream",
          "name": "stdout",
          "text": [
            "Accuracy на тестовой выборке 0.8833592534992224\n"
          ]
        }
      ],
      "source": [
        "best_model_random_forest.fit(\n",
        "    features_test,\n",
        "    target_test\n",
        ")\n",
        "prediction_test_random_forest = best_model_random_forest.predict(features_test)\n",
        "accuracy_test_random_forest = accuracy_score(target_test, prediction_test_random_forest)\n",
        "print(\"Accuracy на тестовой выборке\", accuracy_test_random_forest)"
      ]
    },
    {
      "cell_type": "code",
      "execution_count": 25,
      "metadata": {
        "colab": {
          "base_uri": "https://localhost:8080/"
        },
        "id": "HAevKMgwRqdi",
        "outputId": "9e847d4a-28a6-46fe-ecd4-75f15580ec8f"
      },
      "outputs": [
        {
          "output_type": "stream",
          "name": "stdout",
          "text": [
            "Accuracy на тестовой выборке 0.8709175738724728\n"
          ]
        }
      ],
      "source": [
        "best_decision_tree.fit(\n",
        "    features_test,\n",
        "    target_test\n",
        ")\n",
        "prediction_test_decision_tree = best_decision_tree.predict(features_test)\n",
        "accuracy_test_decision_tree = accuracy_score(target_test, prediction_test_decision_tree)\n",
        "print(\"Accuracy на тестовой выборке\", accuracy_test_decision_tree)"
      ]
    },
    {
      "cell_type": "code",
      "execution_count": 26,
      "metadata": {
        "colab": {
          "base_uri": "https://localhost:8080/"
        },
        "id": "TL88XFEj01oK",
        "outputId": "73939194-1fb2-4a85-c6d4-614e34a7d175"
      },
      "outputs": [
        {
          "output_type": "stream",
          "name": "stdout",
          "text": [
            "Accuracy на тестовой выборке 0.7433903576982893\n"
          ]
        }
      ],
      "source": [
        "model_logistic_regression.fit(\n",
        "    features_test,\n",
        "    target_test\n",
        ")\n",
        "prediction_test_logistic_regression = model_logistic_regression.predict(features_test)\n",
        "accuracy_logistic_regression_test = accuracy_score(target_test, prediction_test_logistic_regression)\n",
        "print(\"Accuracy на тестовой выборке\", accuracy_logistic_regression_test)"
      ]
    },
    {
      "cell_type": "markdown",
      "metadata": {
        "id": "6ff5t3TvqXlH"
      },
      "source": [
        "Наиболее высокий accuracy на тестовой выборке делает Random Forest."
      ]
    },
    {
      "cell_type": "markdown",
      "source": [
        "Объединим данные (обучающие и валидационные) и проверим accuracy."
      ],
      "metadata": {
        "id": "z7h8kfr8EhmT"
      }
    },
    {
      "cell_type": "code",
      "execution_count": 27,
      "metadata": {
        "id": "pAjcrnC3S7sJ"
      },
      "outputs": [],
      "source": [
        "features_full_train = pd.concat([features_train, features_valid])\n",
        "target_full_train = pd.concat([target_train, target_valid])"
      ]
    },
    {
      "cell_type": "code",
      "execution_count": 28,
      "metadata": {
        "colab": {
          "base_uri": "https://localhost:8080/"
        },
        "id": "orD2Yv3wxOQ6",
        "outputId": "275f6a58-60c1-440c-9f80-ca3c25508558"
      },
      "outputs": [
        {
          "output_type": "execute_result",
          "data": {
            "text/plain": [
              "RandomForestClassifier(max_depth=8, n_estimators=22, n_jobs=-1,\n",
              "                       random_state=123456)"
            ]
          },
          "metadata": {},
          "execution_count": 28
        }
      ],
      "source": [
        "best_model_random_forest.fit(features_full_train, target_full_train)"
      ]
    },
    {
      "cell_type": "code",
      "execution_count": 29,
      "metadata": {
        "id": "AlrlPULdxTIM"
      },
      "outputs": [],
      "source": [
        "prediction_full_random_forest = best_model_random_forest.predict(features_test)"
      ]
    },
    {
      "cell_type": "code",
      "execution_count": 30,
      "metadata": {
        "colab": {
          "base_uri": "https://localhost:8080/"
        },
        "id": "WvrxGx4ExVK7",
        "outputId": "d55cdd36-6f3e-415f-b82e-c5febe2f4731"
      },
      "outputs": [
        {
          "output_type": "stream",
          "name": "stdout",
          "text": [
            "Accuracy на объединенной выборке 0.7962674961119751\n"
          ]
        }
      ],
      "source": [
        "accuracy_full_random_forest = accuracy_score(target_test, prediction_full_random_forest)\n",
        "print(\"Accuracy на объединенной выборке\", accuracy_full_random_forest)"
      ]
    },
    {
      "cell_type": "code",
      "execution_count": 31,
      "metadata": {
        "colab": {
          "base_uri": "https://localhost:8080/"
        },
        "id": "u5KIsb9Wxemt",
        "outputId": "5648690f-0bfa-4337-bc7f-01c66e9d88f5"
      },
      "outputs": [
        {
          "output_type": "execute_result",
          "data": {
            "text/plain": [
              "DecisionTreeClassifier(max_depth=9, random_state=12345)"
            ]
          },
          "metadata": {},
          "execution_count": 31
        }
      ],
      "source": [
        "best_decision_tree.fit(features_full_train,target_full_train)"
      ]
    },
    {
      "cell_type": "code",
      "execution_count": 32,
      "metadata": {
        "id": "BAzRzXL-xoBP"
      },
      "outputs": [],
      "source": [
        "prediction_full_decision_tree = best_decision_tree.predict(features_test)"
      ]
    },
    {
      "cell_type": "code",
      "execution_count": 33,
      "metadata": {
        "colab": {
          "base_uri": "https://localhost:8080/"
        },
        "id": "ZxTPUchpxvml",
        "outputId": "48a9fcc0-cc2e-4bd9-fbc6-7ebce7c0ba11"
      },
      "outputs": [
        {
          "output_type": "stream",
          "name": "stdout",
          "text": [
            "Accuracy на объединенной выборке 0.776049766718507\n"
          ]
        }
      ],
      "source": [
        "accuracy_full_decision_tree = accuracy_score(target_test, prediction_full_decision_tree)\n",
        "print(\"Accuracy на объединенной выборке\", accuracy_full_decision_tree)"
      ]
    },
    {
      "cell_type": "code",
      "execution_count": 34,
      "metadata": {
        "colab": {
          "base_uri": "https://localhost:8080/"
        },
        "id": "5_JVDt8ix1xt",
        "outputId": "e58cdf39-7622-4442-b5ca-0bb561017e3a"
      },
      "outputs": [
        {
          "output_type": "execute_result",
          "data": {
            "text/plain": [
              "LogisticRegression(max_iter=1000, random_state=12345)"
            ]
          },
          "metadata": {},
          "execution_count": 34
        }
      ],
      "source": [
        "model_logistic_regression.fit(features_full_train, target_full_train)"
      ]
    },
    {
      "cell_type": "code",
      "execution_count": 35,
      "metadata": {
        "id": "adeMzaf5yAID"
      },
      "outputs": [],
      "source": [
        "prediction_full_logistic_regression = model_logistic_regression.predict(features_test)"
      ]
    },
    {
      "cell_type": "code",
      "execution_count": 36,
      "metadata": {
        "colab": {
          "base_uri": "https://localhost:8080/"
        },
        "id": "ftxP7FhkyKFM",
        "outputId": "9b6a20d5-fc51-4273-bb1b-0e42aa6eacd9"
      },
      "outputs": [
        {
          "output_type": "stream",
          "name": "stdout",
          "text": [
            "Accuracy на объединенной выборке 0.7013996889580093\n"
          ]
        }
      ],
      "source": [
        "accuracy_full_logistic_regression = accuracy_score(target_test, prediction_full_logistic_regression)\n",
        "print(\"Accuracy на объединенной выборке\", accuracy_full_logistic_regression)"
      ]
    },
    {
      "cell_type": "markdown",
      "metadata": {
        "id": "4SGSy5Xh01oL"
      },
      "source": [
        "## (бонус) Проверить модели на адекватность"
      ]
    },
    {
      "cell_type": "code",
      "execution_count": 37,
      "metadata": {
        "id": "8LUWLhbEFTaR"
      },
      "outputs": [],
      "source": [
        "dummy_prediction_1 = [1 for i in range(643)]"
      ]
    },
    {
      "cell_type": "code",
      "execution_count": 38,
      "metadata": {
        "colab": {
          "base_uri": "https://localhost:8080/"
        },
        "id": "wM6DJz9E-KY0",
        "outputId": "ee79a9c3-b76f-4ff1-a8e1-aa03240653f2"
      },
      "outputs": [
        {
          "output_type": "execute_result",
          "data": {
            "text/plain": [
              "0.3094867807153966"
            ]
          },
          "metadata": {},
          "execution_count": 38
        }
      ],
      "source": [
        "dummy_accuracy_score_1 = accuracy_score(dummy_prediction_1, target_test) \n",
        "dummy_accuracy_score_1"
      ]
    },
    {
      "cell_type": "code",
      "execution_count": 39,
      "metadata": {
        "id": "emwU0hxw623C"
      },
      "outputs": [],
      "source": [
        "dummy_prediction_0 = [0 for i in range(643)]"
      ]
    },
    {
      "cell_type": "code",
      "execution_count": 40,
      "metadata": {
        "colab": {
          "base_uri": "https://localhost:8080/"
        },
        "id": "MsaMDy_u66lN",
        "outputId": "98d4ddc2-37d5-4d8a-a3a4-610213e07a78"
      },
      "outputs": [
        {
          "output_type": "execute_result",
          "data": {
            "text/plain": [
              "0.6905132192846034"
            ]
          },
          "metadata": {},
          "execution_count": 40
        }
      ],
      "source": [
        "dummy_accuracy_score_0 = accuracy_score(dummy_prediction_0, target_test) \n",
        "dummy_accuracy_score_0"
      ]
    },
    {
      "cell_type": "markdown",
      "metadata": {
        "id": "M1P8ApKbRqdl"
      },
      "source": [
        "## Вывод\n",
        "\n",
        "Изучены исходные данные. Исходные данные разделены на обучающую, валидационную и тестовую выборки. Исследовано качество разных моделей, с различными гиперпараметрами. \n",
        "\n",
        "1.   Наиболее высокий результат предсказаний делает модель Random Forest, это видно по accuracy на валидационной выборке.\n",
        "2.   Проверено качество модели на тестовой выборке. Наиболее высокий accuracy на тестовой выборке делает Random Forest.\n",
        "3.  Проверено качество модели на объединенной выборке валидационная и тестовая. Наиболее высокий accuracy на этой выборке делает Random Forest.\n",
        "4.  Модель проверена на вменяемость. Аccuracy_score для \"глупой модели\" оказался ниже, чем у лучшей модели, значит модель обладает предиктивной силой и может считаться адекватной."
      ]
    }
  ],
  "metadata": {
    "ExecuteTimeLog": [
      {
        "duration": 49,
        "start_time": "2022-08-15T13:05:49.486Z"
      },
      {
        "duration": 387,
        "start_time": "2022-08-15T13:06:30.946Z"
      },
      {
        "duration": 126,
        "start_time": "2022-08-15T13:06:33.543Z"
      },
      {
        "duration": 16,
        "start_time": "2022-08-15T13:06:47.918Z"
      },
      {
        "duration": 31,
        "start_time": "2022-08-15T13:07:07.455Z"
      },
      {
        "duration": 11,
        "start_time": "2022-08-15T13:07:08.765Z"
      },
      {
        "duration": 12,
        "start_time": "2022-08-15T13:07:31.791Z"
      },
      {
        "duration": 777,
        "start_time": "2022-08-15T13:08:17.640Z"
      },
      {
        "duration": 1013,
        "start_time": "2022-08-16T02:37:00.935Z"
      },
      {
        "duration": 120,
        "start_time": "2022-08-16T02:37:09.293Z"
      },
      {
        "duration": 17,
        "start_time": "2022-08-16T02:37:10.986Z"
      },
      {
        "duration": 9,
        "start_time": "2022-08-16T02:39:01.425Z"
      },
      {
        "duration": 9,
        "start_time": "2022-08-16T02:39:04.664Z"
      },
      {
        "duration": 5,
        "start_time": "2022-08-16T02:42:28.926Z"
      },
      {
        "duration": 6,
        "start_time": "2022-08-16T02:42:51.775Z"
      },
      {
        "duration": 20,
        "start_time": "2022-08-16T02:43:55.624Z"
      },
      {
        "duration": 4,
        "start_time": "2022-08-16T02:44:09.375Z"
      },
      {
        "duration": 88,
        "start_time": "2022-08-16T02:46:14.895Z"
      },
      {
        "duration": 4,
        "start_time": "2022-08-16T02:46:26.643Z"
      },
      {
        "duration": 5,
        "start_time": "2022-08-16T02:46:28.349Z"
      },
      {
        "duration": 5,
        "start_time": "2022-08-16T02:47:33.336Z"
      },
      {
        "duration": 5,
        "start_time": "2022-08-16T02:48:21.619Z"
      },
      {
        "duration": 5,
        "start_time": "2022-08-16T02:50:20.826Z"
      },
      {
        "duration": 5,
        "start_time": "2022-08-16T02:50:23.746Z"
      },
      {
        "duration": 3,
        "start_time": "2022-08-16T02:50:24.805Z"
      },
      {
        "duration": 5,
        "start_time": "2022-08-16T02:50:26.157Z"
      },
      {
        "duration": 4,
        "start_time": "2022-08-16T02:50:26.598Z"
      },
      {
        "duration": 2,
        "start_time": "2022-08-16T04:13:44.087Z"
      },
      {
        "duration": 30,
        "start_time": "2022-08-16T04:13:46.706Z"
      },
      {
        "duration": 9,
        "start_time": "2022-08-16T04:13:47.377Z"
      },
      {
        "duration": 11,
        "start_time": "2022-08-16T04:13:49.256Z"
      },
      {
        "duration": 3,
        "start_time": "2022-08-16T04:13:50.837Z"
      },
      {
        "duration": 6,
        "start_time": "2022-08-16T04:13:52.145Z"
      },
      {
        "duration": 5,
        "start_time": "2022-08-16T04:13:54.328Z"
      },
      {
        "duration": 20,
        "start_time": "2022-08-16T04:13:56.514Z"
      },
      {
        "duration": 4,
        "start_time": "2022-08-16T04:14:12.511Z"
      },
      {
        "duration": 6,
        "start_time": "2022-08-16T04:14:14.523Z"
      },
      {
        "duration": 4,
        "start_time": "2022-08-16T04:42:27.013Z"
      },
      {
        "duration": 5,
        "start_time": "2022-08-16T04:42:28.333Z"
      },
      {
        "duration": 4,
        "start_time": "2022-08-16T04:42:29.565Z"
      },
      {
        "duration": 9,
        "start_time": "2022-08-16T04:51:40.200Z"
      },
      {
        "duration": 2,
        "start_time": "2022-08-16T04:51:47.693Z"
      },
      {
        "duration": 3,
        "start_time": "2022-08-16T04:53:07.753Z"
      },
      {
        "duration": 21,
        "start_time": "2022-08-16T04:53:13.260Z"
      },
      {
        "duration": 1202,
        "start_time": "2022-08-18T03:52:25.094Z"
      },
      {
        "duration": 0,
        "start_time": "2022-08-18T03:52:26.297Z"
      },
      {
        "duration": 0,
        "start_time": "2022-08-18T03:52:26.298Z"
      },
      {
        "duration": 0,
        "start_time": "2022-08-18T03:52:26.299Z"
      },
      {
        "duration": 0,
        "start_time": "2022-08-18T03:52:26.300Z"
      },
      {
        "duration": 0,
        "start_time": "2022-08-18T03:52:26.301Z"
      },
      {
        "duration": 0,
        "start_time": "2022-08-18T03:52:26.302Z"
      },
      {
        "duration": 0,
        "start_time": "2022-08-18T03:52:26.303Z"
      },
      {
        "duration": 0,
        "start_time": "2022-08-18T03:52:26.304Z"
      },
      {
        "duration": 0,
        "start_time": "2022-08-18T03:52:26.305Z"
      },
      {
        "duration": 0,
        "start_time": "2022-08-18T03:52:26.306Z"
      },
      {
        "duration": 0,
        "start_time": "2022-08-18T03:52:26.307Z"
      },
      {
        "duration": 0,
        "start_time": "2022-08-18T03:52:26.308Z"
      },
      {
        "duration": 0,
        "start_time": "2022-08-18T03:52:26.309Z"
      },
      {
        "duration": 0,
        "start_time": "2022-08-18T03:52:26.311Z"
      },
      {
        "duration": 0,
        "start_time": "2022-08-18T03:52:26.312Z"
      },
      {
        "duration": 0,
        "start_time": "2022-08-18T03:52:26.313Z"
      },
      {
        "duration": 0,
        "start_time": "2022-08-18T03:52:26.314Z"
      },
      {
        "duration": 0,
        "start_time": "2022-08-18T03:52:26.315Z"
      },
      {
        "duration": 0,
        "start_time": "2022-08-18T03:52:26.316Z"
      },
      {
        "duration": 4619,
        "start_time": "2022-08-18T03:55:12.996Z"
      },
      {
        "duration": 571,
        "start_time": "2022-08-18T03:55:18.640Z"
      },
      {
        "duration": 3841,
        "start_time": "2022-08-18T03:55:26.789Z"
      },
      {
        "duration": 2388,
        "start_time": "2022-08-18T03:55:30.632Z"
      },
      {
        "duration": 1328,
        "start_time": "2022-08-18T03:55:33.022Z"
      },
      {
        "duration": 57,
        "start_time": "2022-08-18T03:55:34.353Z"
      },
      {
        "duration": 14,
        "start_time": "2022-08-18T03:55:34.411Z"
      },
      {
        "duration": 76,
        "start_time": "2022-08-18T03:55:34.427Z"
      },
      {
        "duration": 10,
        "start_time": "2022-08-18T03:55:34.505Z"
      },
      {
        "duration": 36,
        "start_time": "2022-08-18T03:55:34.516Z"
      },
      {
        "duration": 47,
        "start_time": "2022-08-18T03:55:34.554Z"
      },
      {
        "duration": 37,
        "start_time": "2022-08-18T03:55:34.604Z"
      },
      {
        "duration": 3472,
        "start_time": "2022-08-18T03:55:34.643Z"
      },
      {
        "duration": 9,
        "start_time": "2022-08-18T03:55:38.117Z"
      },
      {
        "duration": 36478,
        "start_time": "2022-08-18T03:55:38.127Z"
      },
      {
        "duration": 4,
        "start_time": "2022-08-18T03:56:14.607Z"
      },
      {
        "duration": 890,
        "start_time": "2022-08-18T03:56:14.612Z"
      },
      {
        "duration": 4,
        "start_time": "2022-08-18T03:56:15.503Z"
      },
      {
        "duration": 25,
        "start_time": "2022-08-18T03:56:15.508Z"
      },
      {
        "duration": 3,
        "start_time": "2022-08-18T03:56:15.535Z"
      },
      {
        "duration": 68,
        "start_time": "2022-08-18T03:56:15.539Z"
      },
      {
        "duration": 7,
        "start_time": "2022-08-18T03:56:15.608Z"
      },
      {
        "duration": 9,
        "start_time": "2022-08-18T03:56:15.617Z"
      },
      {
        "duration": 6,
        "start_time": "2022-08-18T04:18:41.587Z"
      },
      {
        "duration": 3445,
        "start_time": "2022-08-18T07:01:54.206Z"
      },
      {
        "duration": 1899,
        "start_time": "2022-08-18T07:01:57.654Z"
      },
      {
        "duration": 1393,
        "start_time": "2022-08-18T07:01:59.555Z"
      },
      {
        "duration": 77,
        "start_time": "2022-08-18T07:02:00.952Z"
      },
      {
        "duration": 18,
        "start_time": "2022-08-18T07:02:01.031Z"
      },
      {
        "duration": 25,
        "start_time": "2022-08-18T07:02:01.051Z"
      },
      {
        "duration": 35,
        "start_time": "2022-08-18T07:02:01.078Z"
      },
      {
        "duration": 26,
        "start_time": "2022-08-18T07:02:01.115Z"
      },
      {
        "duration": 41,
        "start_time": "2022-08-18T07:02:01.143Z"
      },
      {
        "duration": 67,
        "start_time": "2022-08-18T07:02:01.187Z"
      },
      {
        "duration": 11,
        "start_time": "2022-08-18T07:02:06.804Z"
      },
      {
        "duration": 5,
        "start_time": "2022-08-18T07:02:15.922Z"
      },
      {
        "duration": 6,
        "start_time": "2022-08-18T07:02:30.393Z"
      },
      {
        "duration": 5,
        "start_time": "2022-08-18T07:02:43.884Z"
      },
      {
        "duration": 5,
        "start_time": "2022-08-18T07:03:00.876Z"
      },
      {
        "duration": 4,
        "start_time": "2022-08-18T07:03:33.968Z"
      },
      {
        "duration": 5,
        "start_time": "2022-08-18T07:03:35.227Z"
      },
      {
        "duration": 138,
        "start_time": "2022-08-18T07:41:40.366Z"
      },
      {
        "duration": 3564,
        "start_time": "2022-08-18T07:43:20.116Z"
      },
      {
        "duration": 6,
        "start_time": "2022-08-18T07:43:23.684Z"
      },
      {
        "duration": 1038,
        "start_time": "2022-08-18T07:43:23.692Z"
      },
      {
        "duration": 44,
        "start_time": "2022-08-18T07:43:24.734Z"
      },
      {
        "duration": 16,
        "start_time": "2022-08-18T07:43:24.780Z"
      },
      {
        "duration": 25,
        "start_time": "2022-08-18T07:43:24.798Z"
      },
      {
        "duration": 29,
        "start_time": "2022-08-18T07:43:24.825Z"
      },
      {
        "duration": 13,
        "start_time": "2022-08-18T07:43:24.856Z"
      },
      {
        "duration": 11,
        "start_time": "2022-08-18T07:43:24.871Z"
      },
      {
        "duration": 40,
        "start_time": "2022-08-18T07:43:24.885Z"
      },
      {
        "duration": 12,
        "start_time": "2022-08-18T07:43:24.927Z"
      },
      {
        "duration": 7,
        "start_time": "2022-08-18T07:43:24.942Z"
      },
      {
        "duration": 15,
        "start_time": "2022-08-18T07:43:24.951Z"
      },
      {
        "duration": 24,
        "start_time": "2022-08-18T07:43:24.968Z"
      },
      {
        "duration": 6,
        "start_time": "2022-08-18T07:43:25.324Z"
      },
      {
        "duration": 5,
        "start_time": "2022-08-18T07:43:25.454Z"
      },
      {
        "duration": 5,
        "start_time": "2022-08-18T07:43:25.615Z"
      },
      {
        "duration": 19,
        "start_time": "2022-08-18T07:44:47.504Z"
      },
      {
        "duration": 13,
        "start_time": "2022-08-18T07:44:55.469Z"
      },
      {
        "duration": 13,
        "start_time": "2022-08-18T07:44:57.344Z"
      },
      {
        "duration": 14,
        "start_time": "2022-08-18T07:52:36.943Z"
      },
      {
        "duration": 11,
        "start_time": "2022-08-18T07:52:53.001Z"
      },
      {
        "duration": 580,
        "start_time": "2022-08-18T07:52:57.208Z"
      },
      {
        "duration": 5,
        "start_time": "2022-08-18T07:53:01.366Z"
      },
      {
        "duration": 11,
        "start_time": "2022-08-18T07:53:04.617Z"
      },
      {
        "duration": 23309,
        "start_time": "2022-08-18T07:54:03.747Z"
      },
      {
        "duration": 7,
        "start_time": "2022-08-18T07:54:27.065Z"
      },
      {
        "duration": 14,
        "start_time": "2022-08-18T07:54:29.467Z"
      },
      {
        "duration": 736,
        "start_time": "2022-08-18T07:55:00.970Z"
      },
      {
        "duration": 5,
        "start_time": "2022-08-18T07:55:04.748Z"
      },
      {
        "duration": 64,
        "start_time": "2022-08-18T07:55:19.538Z"
      },
      {
        "duration": 4,
        "start_time": "2022-08-18T07:55:21.145Z"
      },
      {
        "duration": 9,
        "start_time": "2022-08-18T07:56:14.445Z"
      },
      {
        "duration": 13,
        "start_time": "2022-08-18T07:56:22.486Z"
      },
      {
        "duration": 8,
        "start_time": "2022-08-18T07:56:44.649Z"
      },
      {
        "duration": 17,
        "start_time": "2022-08-18T07:56:54.232Z"
      },
      {
        "duration": 8,
        "start_time": "2022-08-18T07:56:55.436Z"
      },
      {
        "duration": 7,
        "start_time": "2022-08-18T07:56:56.661Z"
      },
      {
        "duration": 7,
        "start_time": "2022-08-18T07:59:31.526Z"
      },
      {
        "duration": 13,
        "start_time": "2022-08-18T07:59:40.136Z"
      },
      {
        "duration": 8,
        "start_time": "2022-08-18T07:59:41.207Z"
      },
      {
        "duration": 7,
        "start_time": "2022-08-18T07:59:42.564Z"
      },
      {
        "duration": 3551,
        "start_time": "2022-08-18T16:49:45.089Z"
      },
      {
        "duration": 1874,
        "start_time": "2022-08-18T16:49:48.643Z"
      },
      {
        "duration": 1534,
        "start_time": "2022-08-18T16:49:50.519Z"
      },
      {
        "duration": 114,
        "start_time": "2022-08-18T16:49:52.057Z"
      },
      {
        "duration": 22,
        "start_time": "2022-08-18T16:49:52.174Z"
      },
      {
        "duration": 34,
        "start_time": "2022-08-18T16:49:52.199Z"
      },
      {
        "duration": 4,
        "start_time": "2022-08-18T16:49:52.235Z"
      },
      {
        "duration": 21,
        "start_time": "2022-08-18T16:49:52.241Z"
      },
      {
        "duration": 15,
        "start_time": "2022-08-18T16:49:52.264Z"
      },
      {
        "duration": 30,
        "start_time": "2022-08-18T16:49:52.282Z"
      },
      {
        "duration": 11,
        "start_time": "2022-08-18T16:49:52.314Z"
      },
      {
        "duration": 6,
        "start_time": "2022-08-18T16:49:52.328Z"
      },
      {
        "duration": 14,
        "start_time": "2022-08-18T16:49:52.336Z"
      },
      {
        "duration": 23,
        "start_time": "2022-08-18T16:49:52.352Z"
      },
      {
        "duration": 14,
        "start_time": "2022-08-18T16:49:52.378Z"
      },
      {
        "duration": 33,
        "start_time": "2022-08-18T16:49:52.395Z"
      },
      {
        "duration": 22,
        "start_time": "2022-08-18T16:49:52.430Z"
      },
      {
        "duration": 22922,
        "start_time": "2022-08-18T16:49:52.455Z"
      },
      {
        "duration": 5,
        "start_time": "2022-08-18T16:50:15.379Z"
      },
      {
        "duration": 573,
        "start_time": "2022-08-18T16:50:15.391Z"
      },
      {
        "duration": 4,
        "start_time": "2022-08-18T16:50:15.967Z"
      },
      {
        "duration": 38,
        "start_time": "2022-08-18T16:50:15.973Z"
      },
      {
        "duration": 3,
        "start_time": "2022-08-18T16:50:16.013Z"
      },
      {
        "duration": 23,
        "start_time": "2022-08-18T16:50:16.018Z"
      },
      {
        "duration": 20,
        "start_time": "2022-08-18T16:50:16.043Z"
      },
      {
        "duration": 28,
        "start_time": "2022-08-18T16:50:16.065Z"
      },
      {
        "duration": 21,
        "start_time": "2022-08-18T16:50:16.095Z"
      },
      {
        "duration": 29247,
        "start_time": "2022-08-18T16:50:16.120Z"
      },
      {
        "duration": 698,
        "start_time": "2022-08-18T16:50:45.369Z"
      },
      {
        "duration": 723,
        "start_time": "2022-08-18T16:50:46.069Z"
      },
      {
        "duration": 5,
        "start_time": "2022-08-18T16:50:46.794Z"
      },
      {
        "duration": 99,
        "start_time": "2022-08-18T16:50:46.801Z"
      },
      {
        "duration": 8,
        "start_time": "2022-08-18T16:50:46.903Z"
      },
      {
        "duration": 8,
        "start_time": "2022-08-18T17:01:37.141Z"
      },
      {
        "duration": 150,
        "start_time": "2022-08-18T17:03:50.970Z"
      },
      {
        "duration": 4217,
        "start_time": "2022-08-19T03:46:54.062Z"
      },
      {
        "duration": 2065,
        "start_time": "2022-08-19T03:46:58.282Z"
      },
      {
        "duration": 1528,
        "start_time": "2022-08-19T03:47:00.354Z"
      },
      {
        "duration": 171,
        "start_time": "2022-08-19T03:47:01.885Z"
      },
      {
        "duration": 19,
        "start_time": "2022-08-19T03:47:02.059Z"
      },
      {
        "duration": 36,
        "start_time": "2022-08-19T03:47:02.079Z"
      },
      {
        "duration": 65,
        "start_time": "2022-08-19T03:47:02.117Z"
      },
      {
        "duration": 71,
        "start_time": "2022-08-19T03:47:02.184Z"
      },
      {
        "duration": 20,
        "start_time": "2022-08-19T03:47:02.258Z"
      },
      {
        "duration": 52,
        "start_time": "2022-08-19T03:47:02.281Z"
      },
      {
        "duration": 35,
        "start_time": "2022-08-19T03:47:02.335Z"
      },
      {
        "duration": 5,
        "start_time": "2022-08-19T03:47:02.373Z"
      },
      {
        "duration": 34,
        "start_time": "2022-08-19T03:47:02.379Z"
      },
      {
        "duration": 37,
        "start_time": "2022-08-19T03:47:02.417Z"
      },
      {
        "duration": 10,
        "start_time": "2022-08-19T03:47:02.456Z"
      },
      {
        "duration": 7,
        "start_time": "2022-08-19T03:47:02.468Z"
      },
      {
        "duration": 81,
        "start_time": "2022-08-19T03:47:02.477Z"
      },
      {
        "duration": 25666,
        "start_time": "2022-08-19T03:47:02.560Z"
      },
      {
        "duration": 3,
        "start_time": "2022-08-19T03:47:28.228Z"
      },
      {
        "duration": 583,
        "start_time": "2022-08-19T03:47:28.233Z"
      },
      {
        "duration": 6,
        "start_time": "2022-08-19T03:47:28.818Z"
      },
      {
        "duration": 69,
        "start_time": "2022-08-19T03:47:28.825Z"
      },
      {
        "duration": 12,
        "start_time": "2022-08-19T03:47:28.906Z"
      },
      {
        "duration": 128,
        "start_time": "2022-08-19T03:47:28.921Z"
      },
      {
        "duration": 11,
        "start_time": "2022-08-19T03:47:29.051Z"
      },
      {
        "duration": 46,
        "start_time": "2022-08-19T03:47:29.064Z"
      },
      {
        "duration": 6,
        "start_time": "2022-08-19T03:47:29.119Z"
      },
      {
        "duration": 183,
        "start_time": "2022-08-19T03:47:29.127Z"
      },
      {
        "duration": 13,
        "start_time": "2022-08-19T03:47:29.311Z"
      },
      {
        "duration": 34,
        "start_time": "2022-08-19T03:47:29.328Z"
      },
      {
        "duration": 13,
        "start_time": "2022-08-19T03:47:29.364Z"
      },
      {
        "duration": 4,
        "start_time": "2022-08-19T03:47:29.379Z"
      },
      {
        "duration": 69,
        "start_time": "2022-08-19T03:47:29.389Z"
      },
      {
        "duration": 1926,
        "start_time": "2022-08-19T03:47:29.471Z"
      },
      {
        "duration": 28,
        "start_time": "2022-08-19T03:47:31.409Z"
      },
      {
        "duration": 109,
        "start_time": "2022-08-19T03:47:31.439Z"
      },
      {
        "duration": 14,
        "start_time": "2022-08-19T03:47:31.551Z"
      },
      {
        "duration": 83,
        "start_time": "2022-08-19T03:47:31.567Z"
      },
      {
        "duration": 30,
        "start_time": "2022-08-19T03:47:31.653Z"
      },
      {
        "duration": 61,
        "start_time": "2022-08-19T03:47:31.688Z"
      },
      {
        "duration": 91,
        "start_time": "2022-08-19T03:47:31.753Z"
      }
    ],
    "colab": {
      "provenance": []
    },
    "kernelspec": {
      "display_name": "Python 3 (ipykernel)",
      "language": "python",
      "name": "python3"
    },
    "language_info": {
      "codemirror_mode": {
        "name": "ipython",
        "version": 3
      },
      "file_extension": ".py",
      "mimetype": "text/x-python",
      "name": "python",
      "nbconvert_exporter": "python",
      "pygments_lexer": "ipython3",
      "version": "3.9.5"
    },
    "toc": {
      "base_numbering": 1,
      "nav_menu": {},
      "number_sections": true,
      "sideBar": true,
      "skip_h1_title": true,
      "title_cell": "Table of Contents",
      "title_sidebar": "Contents",
      "toc_cell": false,
      "toc_position": {
        "height": "calc(100% - 180px)",
        "left": "10px",
        "top": "150px",
        "width": "315.594px"
      },
      "toc_section_display": true,
      "toc_window_display": true
    }
  },
  "nbformat": 4,
  "nbformat_minor": 0
}